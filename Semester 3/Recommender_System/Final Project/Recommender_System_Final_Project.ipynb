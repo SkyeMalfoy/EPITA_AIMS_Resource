{
 "cells": [
  {
   "cell_type": "markdown",
   "id": "59972ac5",
   "metadata": {},
   "source": [
    "# Library Importing"
   ]
  },
  {
   "cell_type": "code",
   "execution_count": 51,
   "id": "8082ca7e",
   "metadata": {},
   "outputs": [],
   "source": [
    "#Basic library\n",
    "import numpy as np\n",
    "import pandas as pd\n",
    "import math\n",
    "import matplotlib.pyplot as plt\n",
    "\n",
    "#Tensorflow\n",
    "import tensorflow\n",
    "\n",
    "#Sklearn\n",
    "from sklearn.model_selection import train_test_split\n",
    "from sklearn.metrics.pairwise import cosine_similarity\n",
    "from sklearn.feature_extraction.text import TfidfVectorizer"
   ]
  },
  {
   "cell_type": "code",
   "execution_count": 2,
   "id": "8b82b01d",
   "metadata": {},
   "outputs": [],
   "source": [
    "df_items = pd.read_csv('beauty_amazon_items - beauty_amazon_items.csv')\n",
    "df_iter = pd.read_csv('beauty_amazon_reviews - beauty_amazon_reviews.csv')"
   ]
  },
  {
   "cell_type": "code",
   "execution_count": 52,
   "id": "3db6cdec",
   "metadata": {},
   "outputs": [
    {
     "data": {
      "text/plain": [
       "(253809, 6)"
      ]
     },
     "execution_count": 52,
     "metadata": {},
     "output_type": "execute_result"
    }
   ],
   "source": [
    "df_iter.shape"
   ]
  },
  {
   "cell_type": "code",
   "execution_count": 3,
   "id": "0a8a7498",
   "metadata": {
    "scrolled": false
   },
   "outputs": [
    {
     "data": {
      "text/html": [
       "<div>\n",
       "<style scoped>\n",
       "    .dataframe tbody tr th:only-of-type {\n",
       "        vertical-align: middle;\n",
       "    }\n",
       "\n",
       "    .dataframe tbody tr th {\n",
       "        vertical-align: top;\n",
       "    }\n",
       "\n",
       "    .dataframe thead th {\n",
       "        text-align: right;\n",
       "    }\n",
       "</style>\n",
       "<table border=\"1\" class=\"dataframe\">\n",
       "  <thead>\n",
       "    <tr style=\"text-align: right;\">\n",
       "      <th></th>\n",
       "      <th>Description</th>\n",
       "      <th>Title</th>\n",
       "      <th>Brand</th>\n",
       "      <th>Price</th>\n",
       "      <th>ItemId</th>\n",
       "    </tr>\n",
       "  </thead>\n",
       "  <tbody>\n",
       "    <tr>\n",
       "      <th>0</th>\n",
       "      <td>Loud 'N Clear Personal Sound Amplifier allows ...</td>\n",
       "      <td>Loud 'N Clear&amp;trade; Personal Sound Amplifier</td>\n",
       "      <td>idea village</td>\n",
       "      <td>NaN</td>\n",
       "      <td>P4924</td>\n",
       "    </tr>\n",
       "    <tr>\n",
       "      <th>1</th>\n",
       "      <td>No7 Lift &amp; Luminate Triple Action Serum 50ml b...</td>\n",
       "      <td>No7 Lift &amp;amp; Luminate Triple Action Serum 50...</td>\n",
       "      <td>NaN</td>\n",
       "      <td>$44.99</td>\n",
       "      <td>P4622</td>\n",
       "    </tr>\n",
       "    <tr>\n",
       "      <th>2</th>\n",
       "      <td>No7 Stay Perfect Foundation now stays perfect ...</td>\n",
       "      <td>No7 Stay Perfect Foundation Cool Vanilla by No7</td>\n",
       "      <td>No7</td>\n",
       "      <td>$28.76</td>\n",
       "      <td>P6435</td>\n",
       "    </tr>\n",
       "    <tr>\n",
       "      <th>3</th>\n",
       "      <td>NaN</td>\n",
       "      <td>Wella Koleston Perfect Hair Colour 44/44 Mediu...</td>\n",
       "      <td>NaN</td>\n",
       "      <td>NaN</td>\n",
       "      <td>P4623</td>\n",
       "    </tr>\n",
       "    <tr>\n",
       "      <th>4</th>\n",
       "      <td>Lacto Calamine Skin Balance Daily Nourishing L...</td>\n",
       "      <td>Lacto Calamine Skin Balance Oil control 120 ml...</td>\n",
       "      <td>Pirmal Healthcare</td>\n",
       "      <td>$12.15</td>\n",
       "      <td>P7</td>\n",
       "    </tr>\n",
       "  </tbody>\n",
       "</table>\n",
       "</div>"
      ],
      "text/plain": [
       "                                         Description  \\\n",
       "0  Loud 'N Clear Personal Sound Amplifier allows ...   \n",
       "1  No7 Lift & Luminate Triple Action Serum 50ml b...   \n",
       "2  No7 Stay Perfect Foundation now stays perfect ...   \n",
       "3                                                NaN   \n",
       "4  Lacto Calamine Skin Balance Daily Nourishing L...   \n",
       "\n",
       "                                               Title              Brand  \\\n",
       "0      Loud 'N Clear&trade; Personal Sound Amplifier       idea village   \n",
       "1  No7 Lift &amp; Luminate Triple Action Serum 50...                NaN   \n",
       "2    No7 Stay Perfect Foundation Cool Vanilla by No7                No7   \n",
       "3  Wella Koleston Perfect Hair Colour 44/44 Mediu...                NaN   \n",
       "4  Lacto Calamine Skin Balance Oil control 120 ml...  Pirmal Healthcare   \n",
       "\n",
       "    Price ItemId  \n",
       "0     NaN  P4924  \n",
       "1  $44.99  P4622  \n",
       "2  $28.76  P6435  \n",
       "3     NaN  P4623  \n",
       "4  $12.15     P7  "
      ]
     },
     "execution_count": 3,
     "metadata": {},
     "output_type": "execute_result"
    }
   ],
   "source": [
    "df_items.head()"
   ]
  },
  {
   "cell_type": "code",
   "execution_count": 4,
   "id": "d6969a6d",
   "metadata": {
    "scrolled": true
   },
   "outputs": [
    {
     "data": {
      "text/html": [
       "<div>\n",
       "<style scoped>\n",
       "    .dataframe tbody tr th:only-of-type {\n",
       "        vertical-align: middle;\n",
       "    }\n",
       "\n",
       "    .dataframe tbody tr th {\n",
       "        vertical-align: top;\n",
       "    }\n",
       "\n",
       "    .dataframe thead th {\n",
       "        text-align: right;\n",
       "    }\n",
       "</style>\n",
       "<table border=\"1\" class=\"dataframe\">\n",
       "  <thead>\n",
       "    <tr style=\"text-align: right;\">\n",
       "      <th></th>\n",
       "      <th>Rating</th>\n",
       "      <th>Time</th>\n",
       "      <th>UserId</th>\n",
       "      <th>ItemId</th>\n",
       "      <th>Review</th>\n",
       "      <th>Summary</th>\n",
       "    </tr>\n",
       "  </thead>\n",
       "  <tbody>\n",
       "    <tr>\n",
       "      <th>0</th>\n",
       "      <td>1</td>\n",
       "      <td>02 19, 2015</td>\n",
       "      <td>U0</td>\n",
       "      <td>P0</td>\n",
       "      <td>great</td>\n",
       "      <td>One Star</td>\n",
       "    </tr>\n",
       "    <tr>\n",
       "      <th>1</th>\n",
       "      <td>4</td>\n",
       "      <td>12 18, 2014</td>\n",
       "      <td>U1</td>\n",
       "      <td>P0</td>\n",
       "      <td>My  husband wanted to reading about the Negro ...</td>\n",
       "      <td>... to reading about the Negro Baseball and th...</td>\n",
       "    </tr>\n",
       "    <tr>\n",
       "      <th>2</th>\n",
       "      <td>4</td>\n",
       "      <td>08 10, 2014</td>\n",
       "      <td>U2</td>\n",
       "      <td>P0</td>\n",
       "      <td>This book was very informative, covering all a...</td>\n",
       "      <td>Worth the Read</td>\n",
       "    </tr>\n",
       "    <tr>\n",
       "      <th>3</th>\n",
       "      <td>5</td>\n",
       "      <td>03 11, 2013</td>\n",
       "      <td>U3</td>\n",
       "      <td>P0</td>\n",
       "      <td>I am already a baseball fan and knew a bit abo...</td>\n",
       "      <td>Good Read</td>\n",
       "    </tr>\n",
       "    <tr>\n",
       "      <th>4</th>\n",
       "      <td>5</td>\n",
       "      <td>12 25, 2011</td>\n",
       "      <td>U4</td>\n",
       "      <td>P0</td>\n",
       "      <td>This was a good story of the Black leagues. I ...</td>\n",
       "      <td>More than facts, a good story read!</td>\n",
       "    </tr>\n",
       "  </tbody>\n",
       "</table>\n",
       "</div>"
      ],
      "text/plain": [
       "   Rating         Time UserId ItemId  \\\n",
       "0       1  02 19, 2015     U0     P0   \n",
       "1       4  12 18, 2014     U1     P0   \n",
       "2       4  08 10, 2014     U2     P0   \n",
       "3       5  03 11, 2013     U3     P0   \n",
       "4       5  12 25, 2011     U4     P0   \n",
       "\n",
       "                                              Review  \\\n",
       "0                                              great   \n",
       "1  My  husband wanted to reading about the Negro ...   \n",
       "2  This book was very informative, covering all a...   \n",
       "3  I am already a baseball fan and knew a bit abo...   \n",
       "4  This was a good story of the Black leagues. I ...   \n",
       "\n",
       "                                             Summary  \n",
       "0                                           One Star  \n",
       "1  ... to reading about the Negro Baseball and th...  \n",
       "2                                     Worth the Read  \n",
       "3                                          Good Read  \n",
       "4                More than facts, a good story read!  "
      ]
     },
     "execution_count": 4,
     "metadata": {},
     "output_type": "execute_result"
    }
   ],
   "source": [
    "df_iter.head()"
   ]
  },
  {
   "cell_type": "markdown",
   "id": "9e195d44",
   "metadata": {},
   "source": [
    "# 1. Data Exploration"
   ]
  },
  {
   "cell_type": "markdown",
   "id": "8bcc34db",
   "metadata": {
    "heading_collapsed": true
   },
   "source": [
    "## 1.1 Item dataset"
   ]
  },
  {
   "cell_type": "code",
   "execution_count": 5,
   "id": "a5847cb0",
   "metadata": {
    "hidden": true
   },
   "outputs": [
    {
     "name": "stdout",
     "output_type": "stream",
     "text": [
      "<class 'pandas.core.frame.DataFrame'>\n",
      "RangeIndex: 32890 entries, 0 to 32889\n",
      "Data columns (total 5 columns):\n",
      " #   Column       Non-Null Count  Dtype \n",
      "---  ------       --------------  ----- \n",
      " 0   Description  14581 non-null  object\n",
      " 1   Title        32889 non-null  object\n",
      " 2   Brand        17217 non-null  object\n",
      " 3   Price        11459 non-null  object\n",
      " 4   ItemId       32890 non-null  object\n",
      "dtypes: object(5)\n",
      "memory usage: 1.3+ MB\n"
     ]
    }
   ],
   "source": [
    "#Overview\n",
    "df_items.info()"
   ]
  },
  {
   "cell_type": "markdown",
   "id": "c0ab1ff1",
   "metadata": {
    "heading_collapsed": true,
    "hidden": true
   },
   "source": [
    "### 1.1.1 Missing value"
   ]
  },
  {
   "cell_type": "code",
   "execution_count": 6,
   "id": "47b48adc",
   "metadata": {
    "hidden": true,
    "scrolled": false
   },
   "outputs": [
    {
     "data": {
      "text/plain": [
       "Description    18309\n",
       "Title              1\n",
       "Brand          15673\n",
       "Price          21431\n",
       "ItemId             0\n",
       "dtype: int64"
      ]
     },
     "execution_count": 6,
     "metadata": {},
     "output_type": "execute_result"
    }
   ],
   "source": [
    "#Missing value\n",
    "df_items.isnull().sum()"
   ]
  },
  {
   "cell_type": "code",
   "execution_count": 7,
   "id": "4ccd14f7",
   "metadata": {
    "hidden": true
   },
   "outputs": [
    {
     "data": {
      "text/html": [
       "<div>\n",
       "<style scoped>\n",
       "    .dataframe tbody tr th:only-of-type {\n",
       "        vertical-align: middle;\n",
       "    }\n",
       "\n",
       "    .dataframe tbody tr th {\n",
       "        vertical-align: top;\n",
       "    }\n",
       "\n",
       "    .dataframe thead th {\n",
       "        text-align: right;\n",
       "    }\n",
       "</style>\n",
       "<table border=\"1\" class=\"dataframe\">\n",
       "  <thead>\n",
       "    <tr style=\"text-align: right;\">\n",
       "      <th></th>\n",
       "      <th>Description</th>\n",
       "      <th>Title</th>\n",
       "      <th>Brand</th>\n",
       "      <th>Price</th>\n",
       "      <th>ItemId</th>\n",
       "    </tr>\n",
       "  </thead>\n",
       "  <tbody>\n",
       "    <tr>\n",
       "      <th>27016</th>\n",
       "      <td>NaN</td>\n",
       "      <td>NaN</td>\n",
       "      <td>BCW</td>\n",
       "      <td>$2.89 - $13.99</td>\n",
       "      <td>P3733</td>\n",
       "    </tr>\n",
       "  </tbody>\n",
       "</table>\n",
       "</div>"
      ],
      "text/plain": [
       "      Description Title Brand           Price ItemId\n",
       "27016         NaN   NaN   BCW  $2.89 - $13.99  P3733"
      ]
     },
     "execution_count": 7,
     "metadata": {},
     "output_type": "execute_result"
    }
   ],
   "source": [
    "df_items[df_items['Title'].isnull() == True]"
   ]
  },
  {
   "cell_type": "markdown",
   "id": "91227beb",
   "metadata": {
    "hidden": true
   },
   "source": [
    "<p>In this project, only ItemId and Title is important. So we delete the row with missing Title.</p> <br/>\n",
    "<b> However, if we delete the item, we have to delete all the interactions according to this item.</b>"
   ]
  },
  {
   "cell_type": "markdown",
   "id": "f0dbbd79",
   "metadata": {
    "heading_collapsed": true,
    "hidden": true
   },
   "source": [
    "### 1.1.2 Duplicate check"
   ]
  },
  {
   "cell_type": "code",
   "execution_count": 8,
   "id": "36d779d4",
   "metadata": {
    "hidden": true
   },
   "outputs": [
    {
     "data": {
      "text/plain": [
       "404"
      ]
     },
     "execution_count": 8,
     "metadata": {},
     "output_type": "execute_result"
    }
   ],
   "source": [
    "# Duplicates\n",
    "df_items.duplicated().sum()"
   ]
  },
  {
   "cell_type": "code",
   "execution_count": 9,
   "id": "7d095b4e",
   "metadata": {
    "hidden": true
   },
   "outputs": [
    {
     "data": {
      "text/html": [
       "<div>\n",
       "<style scoped>\n",
       "    .dataframe tbody tr th:only-of-type {\n",
       "        vertical-align: middle;\n",
       "    }\n",
       "\n",
       "    .dataframe tbody tr th {\n",
       "        vertical-align: top;\n",
       "    }\n",
       "\n",
       "    .dataframe thead th {\n",
       "        text-align: right;\n",
       "    }\n",
       "</style>\n",
       "<table border=\"1\" class=\"dataframe\">\n",
       "  <thead>\n",
       "    <tr style=\"text-align: right;\">\n",
       "      <th></th>\n",
       "      <th>Description</th>\n",
       "      <th>Title</th>\n",
       "      <th>Brand</th>\n",
       "      <th>Price</th>\n",
       "      <th>ItemId</th>\n",
       "    </tr>\n",
       "  </thead>\n",
       "  <tbody>\n",
       "    <tr>\n",
       "      <th>424</th>\n",
       "      <td>Ultra (Box of 10) Corn Plane Blades</td>\n",
       "      <td>Ultra (Box of 10) Corn Plane Blades</td>\n",
       "      <td>Ultra</td>\n",
       "      <td>$8.00</td>\n",
       "      <td>P4821</td>\n",
       "    </tr>\n",
       "    <tr>\n",
       "      <th>828</th>\n",
       "      <td>Ultra (Box of 10) Corn Plane Blades</td>\n",
       "      <td>Ultra (Box of 10) Corn Plane Blades</td>\n",
       "      <td>Ultra</td>\n",
       "      <td>$8.00</td>\n",
       "      <td>P4821</td>\n",
       "    </tr>\n",
       "  </tbody>\n",
       "</table>\n",
       "</div>"
      ],
      "text/plain": [
       "                             Description                                Title  \\\n",
       "424  Ultra (Box of 10) Corn Plane Blades  Ultra (Box of 10) Corn Plane Blades   \n",
       "828  Ultra (Box of 10) Corn Plane Blades  Ultra (Box of 10) Corn Plane Blades   \n",
       "\n",
       "     Brand  Price ItemId  \n",
       "424  Ultra  $8.00  P4821  \n",
       "828  Ultra  $8.00  P4821  "
      ]
     },
     "execution_count": 9,
     "metadata": {},
     "output_type": "execute_result"
    }
   ],
   "source": [
    "df_items[df_items['Description'] == 'Ultra (Box of 10) Corn Plane Blades']"
   ]
  },
  {
   "cell_type": "markdown",
   "id": "b862459a",
   "metadata": {
    "hidden": true
   },
   "source": [
    "It varified the duplicates really exist!"
   ]
  },
  {
   "cell_type": "markdown",
   "id": "53a8335a",
   "metadata": {},
   "source": [
    "## 1.2 Iteraction dataset"
   ]
  },
  {
   "cell_type": "markdown",
   "id": "23b72a71",
   "metadata": {
    "heading_collapsed": true
   },
   "source": [
    "### 1.2.1 Missing value"
   ]
  },
  {
   "cell_type": "code",
   "execution_count": 10,
   "id": "d3bc1573",
   "metadata": {
    "hidden": true
   },
   "outputs": [
    {
     "data": {
      "text/plain": [
       "Rating       0\n",
       "Time         0\n",
       "UserId       0\n",
       "ItemId       1\n",
       "Review     230\n",
       "Summary    130\n",
       "dtype: int64"
      ]
     },
     "execution_count": 10,
     "metadata": {},
     "output_type": "execute_result"
    }
   ],
   "source": [
    "#Missing value\n",
    "df_iter.isnull().sum()"
   ]
  },
  {
   "cell_type": "code",
   "execution_count": 11,
   "id": "172857b0",
   "metadata": {
    "hidden": true,
    "scrolled": true
   },
   "outputs": [
    {
     "data": {
      "text/html": [
       "<div>\n",
       "<style scoped>\n",
       "    .dataframe tbody tr th:only-of-type {\n",
       "        vertical-align: middle;\n",
       "    }\n",
       "\n",
       "    .dataframe tbody tr th {\n",
       "        vertical-align: top;\n",
       "    }\n",
       "\n",
       "    .dataframe thead th {\n",
       "        text-align: right;\n",
       "    }\n",
       "</style>\n",
       "<table border=\"1\" class=\"dataframe\">\n",
       "  <thead>\n",
       "    <tr style=\"text-align: right;\">\n",
       "      <th></th>\n",
       "      <th>Rating</th>\n",
       "      <th>Time</th>\n",
       "      <th>UserId</th>\n",
       "      <th>ItemId</th>\n",
       "      <th>Review</th>\n",
       "      <th>Summary</th>\n",
       "    </tr>\n",
       "  </thead>\n",
       "  <tbody>\n",
       "    <tr>\n",
       "      <th>253808</th>\n",
       "      <td>5</td>\n",
       "      <td>05 25, 2017</td>\n",
       "      <td>U21890</td>\n",
       "      <td>NaN</td>\n",
       "      <td>NaN</td>\n",
       "      <td>NaN</td>\n",
       "    </tr>\n",
       "  </tbody>\n",
       "</table>\n",
       "</div>"
      ],
      "text/plain": [
       "        Rating         Time  UserId ItemId Review Summary\n",
       "253808       5  05 25, 2017  U21890    NaN    NaN     NaN"
      ]
     },
     "execution_count": 11,
     "metadata": {},
     "output_type": "execute_result"
    }
   ],
   "source": [
    "df_iter[df_iter['ItemId'].isnull() == True]"
   ]
  },
  {
   "cell_type": "markdown",
   "id": "db834c4a",
   "metadata": {
    "hidden": true
   },
   "source": [
    "<p> In this case, we delete this single row because of the lack of ItemId.</p>"
   ]
  },
  {
   "cell_type": "markdown",
   "id": "15b19860",
   "metadata": {
    "heading_collapsed": true
   },
   "source": [
    "### 1.2.2 Duplicate check"
   ]
  },
  {
   "cell_type": "code",
   "execution_count": 12,
   "id": "89dfcae3",
   "metadata": {
    "hidden": true,
    "scrolled": true
   },
   "outputs": [
    {
     "data": {
      "text/plain": [
       "8717"
      ]
     },
     "execution_count": 12,
     "metadata": {},
     "output_type": "execute_result"
    }
   ],
   "source": [
    "# Duplicates\n",
    "df_iter.duplicated().sum()"
   ]
  },
  {
   "cell_type": "code",
   "execution_count": 13,
   "id": "ac58d10b",
   "metadata": {
    "hidden": true,
    "scrolled": true
   },
   "outputs": [
    {
     "data": {
      "text/html": [
       "<div>\n",
       "<style scoped>\n",
       "    .dataframe tbody tr th:only-of-type {\n",
       "        vertical-align: middle;\n",
       "    }\n",
       "\n",
       "    .dataframe tbody tr th {\n",
       "        vertical-align: top;\n",
       "    }\n",
       "\n",
       "    .dataframe thead th {\n",
       "        text-align: right;\n",
       "    }\n",
       "</style>\n",
       "<table border=\"1\" class=\"dataframe\">\n",
       "  <thead>\n",
       "    <tr style=\"text-align: right;\">\n",
       "      <th></th>\n",
       "      <th>Rating</th>\n",
       "      <th>Time</th>\n",
       "      <th>UserId</th>\n",
       "      <th>ItemId</th>\n",
       "      <th>Review</th>\n",
       "      <th>Summary</th>\n",
       "    </tr>\n",
       "  </thead>\n",
       "  <tbody>\n",
       "    <tr>\n",
       "      <th>12330</th>\n",
       "      <td>5</td>\n",
       "      <td>03 09, 2016</td>\n",
       "      <td>U12281</td>\n",
       "      <td>P62</td>\n",
       "      <td>excellent</td>\n",
       "      <td>Five Stars</td>\n",
       "    </tr>\n",
       "    <tr>\n",
       "      <th>12331</th>\n",
       "      <td>5</td>\n",
       "      <td>03 09, 2016</td>\n",
       "      <td>U12281</td>\n",
       "      <td>P62</td>\n",
       "      <td>excellent</td>\n",
       "      <td>Five Stars</td>\n",
       "    </tr>\n",
       "  </tbody>\n",
       "</table>\n",
       "</div>"
      ],
      "text/plain": [
       "       Rating         Time  UserId ItemId     Review     Summary\n",
       "12330       5  03 09, 2016  U12281    P62  excellent  Five Stars\n",
       "12331       5  03 09, 2016  U12281    P62  excellent  Five Stars"
      ]
     },
     "execution_count": 13,
     "metadata": {},
     "output_type": "execute_result"
    }
   ],
   "source": [
    "df_iter[(df_iter['UserId'] == 'U12281') & (df_iter['ItemId'] == 'P62')]"
   ]
  },
  {
   "cell_type": "markdown",
   "id": "d4d32fa5",
   "metadata": {
    "hidden": true
   },
   "source": [
    "There are 8717 duplicates and I will delete the **second** duplicates and remain the **first** ones."
   ]
  },
  {
   "cell_type": "markdown",
   "id": "dae42427",
   "metadata": {},
   "source": [
    "# 2. Data Preprocessing"
   ]
  },
  {
   "cell_type": "markdown",
   "id": "86fb37f1",
   "metadata": {
    "heading_collapsed": true
   },
   "source": [
    "## 2.1 Missing values"
   ]
  },
  {
   "cell_type": "code",
   "execution_count": 14,
   "id": "f528e3fb",
   "metadata": {
    "hidden": true
   },
   "outputs": [],
   "source": [
    "# Delete the row of item dataset.\n",
    "df_items_nomissing = df_items.dropna(subset=['Title'])"
   ]
  },
  {
   "cell_type": "code",
   "execution_count": 15,
   "id": "ca146058",
   "metadata": {
    "hidden": true
   },
   "outputs": [],
   "source": [
    "# Delete all rows with the ItemId of 'P3733' of interaction dataset.\n",
    "df_iter_nomissing = df_iter[df_iter['ItemId'] != 'P3733']"
   ]
  },
  {
   "cell_type": "code",
   "execution_count": 16,
   "id": "6841cfda",
   "metadata": {
    "hidden": true
   },
   "outputs": [],
   "source": [
    "#Delete all the missing value in iteraction dataset\n",
    "df_iter_nomissing = df_iter_nomissing.dropna(subset=['ItemId'])"
   ]
  },
  {
   "cell_type": "markdown",
   "id": "a0553d7e",
   "metadata": {
    "heading_collapsed": true
   },
   "source": [
    "## 2.2 Duplicates"
   ]
  },
  {
   "cell_type": "code",
   "execution_count": 17,
   "id": "b6d3cecf",
   "metadata": {
    "hidden": true,
    "scrolled": true
   },
   "outputs": [
    {
     "data": {
      "text/html": [
       "<div>\n",
       "<style scoped>\n",
       "    .dataframe tbody tr th:only-of-type {\n",
       "        vertical-align: middle;\n",
       "    }\n",
       "\n",
       "    .dataframe tbody tr th {\n",
       "        vertical-align: top;\n",
       "    }\n",
       "\n",
       "    .dataframe thead th {\n",
       "        text-align: right;\n",
       "    }\n",
       "</style>\n",
       "<table border=\"1\" class=\"dataframe\">\n",
       "  <thead>\n",
       "    <tr style=\"text-align: right;\">\n",
       "      <th></th>\n",
       "      <th>Description</th>\n",
       "      <th>Title</th>\n",
       "      <th>Brand</th>\n",
       "      <th>Price</th>\n",
       "      <th>ItemId</th>\n",
       "    </tr>\n",
       "  </thead>\n",
       "  <tbody>\n",
       "    <tr>\n",
       "      <th>0</th>\n",
       "      <td>Loud 'N Clear Personal Sound Amplifier allows ...</td>\n",
       "      <td>Loud 'N Clear&amp;trade; Personal Sound Amplifier</td>\n",
       "      <td>idea village</td>\n",
       "      <td>NaN</td>\n",
       "      <td>P4924</td>\n",
       "    </tr>\n",
       "    <tr>\n",
       "      <th>1</th>\n",
       "      <td>No7 Lift &amp; Luminate Triple Action Serum 50ml b...</td>\n",
       "      <td>No7 Lift &amp;amp; Luminate Triple Action Serum 50...</td>\n",
       "      <td>NaN</td>\n",
       "      <td>$44.99</td>\n",
       "      <td>P4622</td>\n",
       "    </tr>\n",
       "    <tr>\n",
       "      <th>2</th>\n",
       "      <td>No7 Stay Perfect Foundation now stays perfect ...</td>\n",
       "      <td>No7 Stay Perfect Foundation Cool Vanilla by No7</td>\n",
       "      <td>No7</td>\n",
       "      <td>$28.76</td>\n",
       "      <td>P6435</td>\n",
       "    </tr>\n",
       "    <tr>\n",
       "      <th>3</th>\n",
       "      <td>NaN</td>\n",
       "      <td>Wella Koleston Perfect Hair Colour 44/44 Mediu...</td>\n",
       "      <td>NaN</td>\n",
       "      <td>NaN</td>\n",
       "      <td>P4623</td>\n",
       "    </tr>\n",
       "    <tr>\n",
       "      <th>4</th>\n",
       "      <td>Lacto Calamine Skin Balance Daily Nourishing L...</td>\n",
       "      <td>Lacto Calamine Skin Balance Oil control 120 ml...</td>\n",
       "      <td>Pirmal Healthcare</td>\n",
       "      <td>$12.15</td>\n",
       "      <td>P7</td>\n",
       "    </tr>\n",
       "  </tbody>\n",
       "</table>\n",
       "</div>"
      ],
      "text/plain": [
       "                                         Description  \\\n",
       "0  Loud 'N Clear Personal Sound Amplifier allows ...   \n",
       "1  No7 Lift & Luminate Triple Action Serum 50ml b...   \n",
       "2  No7 Stay Perfect Foundation now stays perfect ...   \n",
       "3                                                NaN   \n",
       "4  Lacto Calamine Skin Balance Daily Nourishing L...   \n",
       "\n",
       "                                               Title              Brand  \\\n",
       "0      Loud 'N Clear&trade; Personal Sound Amplifier       idea village   \n",
       "1  No7 Lift &amp; Luminate Triple Action Serum 50...                NaN   \n",
       "2    No7 Stay Perfect Foundation Cool Vanilla by No7                No7   \n",
       "3  Wella Koleston Perfect Hair Colour 44/44 Mediu...                NaN   \n",
       "4  Lacto Calamine Skin Balance Oil control 120 ml...  Pirmal Healthcare   \n",
       "\n",
       "    Price ItemId  \n",
       "0     NaN  P4924  \n",
       "1  $44.99  P4622  \n",
       "2  $28.76  P6435  \n",
       "3     NaN  P4623  \n",
       "4  $12.15     P7  "
      ]
     },
     "execution_count": 17,
     "metadata": {},
     "output_type": "execute_result"
    }
   ],
   "source": [
    "df_items.head()"
   ]
  },
  {
   "cell_type": "code",
   "execution_count": 18,
   "id": "f7e8ee12",
   "metadata": {
    "hidden": true
   },
   "outputs": [],
   "source": [
    "#Drop the duplicates of items dataset and keep the first occurance.\n",
    "df_items_no_duplicates = df_items_nomissing.drop_duplicates(inplace=False, keep=\"first\", ignore_index=True)"
   ]
  },
  {
   "cell_type": "code",
   "execution_count": 19,
   "id": "7cde21a0",
   "metadata": {
    "hidden": true
   },
   "outputs": [],
   "source": [
    "#Drop the duplicates of iteraction dataset and keep the first occurance.\n",
    "df_iter_no_duplicates = df_iter_nomissing.drop_duplicates(inplace=False, keep='first', ignore_index=True)"
   ]
  },
  {
   "cell_type": "markdown",
   "id": "907a9d20",
   "metadata": {
    "heading_collapsed": true
   },
   "source": [
    "## 2.3 Data modifying"
   ]
  },
  {
   "cell_type": "code",
   "execution_count": 20,
   "id": "357b0da4",
   "metadata": {
    "hidden": true,
    "scrolled": false
   },
   "outputs": [
    {
     "name": "stdout",
     "output_type": "stream",
     "text": [
      "Length of items dataset: 32485\n",
      "Length of dataset has ItemId starting with \"P\": 32485\n",
      "\n",
      "\n",
      "Length of iteraction dataset: 245085\n",
      "Length of dataset has ItemId starting with \"P\": 245085\n"
     ]
    }
   ],
   "source": [
    "print(f'Length of items dataset:', len(df_items_no_duplicates))\n",
    "print(f'Length of dataset has ItemId starting with \"P\":', len(df_items_no_duplicates['ItemId'][df_items_no_duplicates['ItemId'].str.startswith('P')]))\n",
    "print('\\n')\n",
    "print(f'Length of iteraction dataset:', len(df_iter_no_duplicates))\n",
    "print(f'Length of dataset has ItemId starting with \"P\":', len(df_iter_no_duplicates['ItemId'][df_iter_no_duplicates['ItemId'].str.startswith('P')]))\n"
   ]
  },
  {
   "cell_type": "markdown",
   "id": "fbb5e3fb",
   "metadata": {
    "hidden": true
   },
   "source": [
    "I discovered that the Id of items all start with \"P\", some we can represent all ItemId with \"P%\". <br/> <br/>\n",
    "In this case, we can modify all the ItemId from strings to numbers. <br/> <br/>\n",
    "The same case for users."
   ]
  },
  {
   "cell_type": "code",
   "execution_count": 21,
   "id": "9358bbe9",
   "metadata": {
    "hidden": true
   },
   "outputs": [
    {
     "name": "stderr",
     "output_type": "stream",
     "text": [
      "/var/folders/q7/h0qy2kmn1617pwg3_l5zhc7c0000gn/T/ipykernel_22470/1593752000.py:2: SettingWithCopyWarning: \n",
      "A value is trying to be set on a copy of a slice from a DataFrame.\n",
      "Try using .loc[row_indexer,col_indexer] = value instead\n",
      "\n",
      "See the caveats in the documentation: https://pandas.pydata.org/pandas-docs/stable/user_guide/indexing.html#returning-a-view-versus-a-copy\n",
      "  df_items_no_duplicates.loc[:, 'ItemId'] = df_items_no_duplicates.loc[:, 'ItemId'].str.replace('P', '', regex=True)\n",
      "/var/folders/q7/h0qy2kmn1617pwg3_l5zhc7c0000gn/T/ipykernel_22470/1593752000.py:3: SettingWithCopyWarning: \n",
      "A value is trying to be set on a copy of a slice from a DataFrame.\n",
      "Try using .loc[row_indexer,col_indexer] = value instead\n",
      "\n",
      "See the caveats in the documentation: https://pandas.pydata.org/pandas-docs/stable/user_guide/indexing.html#returning-a-view-versus-a-copy\n",
      "  df_iter_no_duplicates.loc[:, 'ItemId'] = df_iter_no_duplicates.loc[:, 'ItemId'].str.replace('P', '', regex=True)\n",
      "/var/folders/q7/h0qy2kmn1617pwg3_l5zhc7c0000gn/T/ipykernel_22470/1593752000.py:6: SettingWithCopyWarning: \n",
      "A value is trying to be set on a copy of a slice from a DataFrame.\n",
      "Try using .loc[row_indexer,col_indexer] = value instead\n",
      "\n",
      "See the caveats in the documentation: https://pandas.pydata.org/pandas-docs/stable/user_guide/indexing.html#returning-a-view-versus-a-copy\n",
      "  df_iter_no_duplicates.loc[:, 'UserId'] = df_iter_no_duplicates.loc[:, 'UserId'].str.replace('U', '', regex=True)\n"
     ]
    }
   ],
   "source": [
    "#Change the \"ItemId\" column for item and iter dataset.\n",
    "df_items_no_duplicates.loc[:, 'ItemId'] = df_items_no_duplicates.loc[:, 'ItemId'].str.replace('P', '', regex=True)\n",
    "df_iter_no_duplicates.loc[:, 'ItemId'] = df_iter_no_duplicates.loc[:, 'ItemId'].str.replace('P', '', regex=True)\n",
    "\n",
    "#Change the \"UserId\" column for iter dataset.\n",
    "df_iter_no_duplicates.loc[:, 'UserId'] = df_iter_no_duplicates.loc[:, 'UserId'].str.replace('U', '', regex=True)"
   ]
  },
  {
   "cell_type": "markdown",
   "id": "03bc0573",
   "metadata": {
    "heading_collapsed": true
   },
   "source": [
    "## 2.4 Data Splitting"
   ]
  },
  {
   "cell_type": "markdown",
   "id": "75940eaa",
   "metadata": {
    "hidden": true
   },
   "source": [
    "In this case, we will split the iteration dataset into three parts, and the size of these three parts are as follows:\n",
    " - 70% training set;\n",
    " - 30% testing set.\n",
    "\n",
    "First, we have to transfer the data type of the column **\"Time\"** to **\"Datetime\"**;\n",
    "Then, reorder the dataset according to the **iteraction time**."
   ]
  },
  {
   "cell_type": "code",
   "execution_count": 22,
   "id": "4112e519",
   "metadata": {
    "hidden": true
   },
   "outputs": [
    {
     "name": "stderr",
     "output_type": "stream",
     "text": [
      "/var/folders/q7/h0qy2kmn1617pwg3_l5zhc7c0000gn/T/ipykernel_22470/2830399008.py:2: SettingWithCopyWarning: \n",
      "A value is trying to be set on a copy of a slice from a DataFrame.\n",
      "Try using .loc[row_indexer,col_indexer] = value instead\n",
      "\n",
      "See the caveats in the documentation: https://pandas.pydata.org/pandas-docs/stable/user_guide/indexing.html#returning-a-view-versus-a-copy\n",
      "  df_iter_no_duplicates.loc[:, ('Time')] = pd.to_datetime(df_iter_no_duplicates.loc[:, ('Time')])\n"
     ]
    }
   ],
   "source": [
    "#Change data type.\n",
    "df_iter_no_duplicates.loc[:, ('Time')] = pd.to_datetime(df_iter_no_duplicates.loc[:, ('Time')])"
   ]
  },
  {
   "cell_type": "code",
   "execution_count": 23,
   "id": "ec0e8cc8",
   "metadata": {
    "hidden": true
   },
   "outputs": [],
   "source": [
    "#Sort the data type according to the Time column\n",
    "df_iter_final = df_iter_no_duplicates.sort_values('Time', ascending=True, ignore_index=True)\n",
    "df_items_final = df_items_no_duplicates.copy()"
   ]
  },
  {
   "cell_type": "code",
   "execution_count": 24,
   "id": "57c1a3b3",
   "metadata": {
    "hidden": true
   },
   "outputs": [
    {
     "data": {
      "text/plain": [
       "0"
      ]
     },
     "execution_count": 24,
     "metadata": {},
     "output_type": "execute_result"
    }
   ],
   "source": [
    "df_iter_final.duplicated().sum()"
   ]
  },
  {
   "cell_type": "code",
   "execution_count": 25,
   "id": "4ce8a18b",
   "metadata": {
    "hidden": true
   },
   "outputs": [],
   "source": [
    "# Data Splitting on df_iter_final\n",
    "X, y = df_iter_final.loc[:, ('Rating', 'Time', 'UserId', 'ItemId', 'Review')], df_iter_final.loc[:, 'ItemId'] # Add the summary column to avoid duplicates.\n",
    "\n",
    "# Split for training and other datasets.\n",
    "X_train, X_test, _, _ = train_test_split(X, y, train_size=0.7, shuffle=False)"
   ]
  },
  {
   "cell_type": "code",
   "execution_count": 26,
   "id": "9fc2f5c7",
   "metadata": {
    "hidden": true
   },
   "outputs": [],
   "source": [
    "# Split for training and other datasets.\n",
    "X_train, X_test, _, _ = train_test_split(X, y, train_size=0.7, shuffle=False)"
   ]
  },
  {
   "cell_type": "markdown",
   "id": "8a76c971",
   "metadata": {},
   "source": [
    "# 3. Recommendation Models"
   ]
  },
  {
   "cell_type": "markdown",
   "id": "800b3e74",
   "metadata": {
    "heading_collapsed": true
   },
   "source": [
    "## 3.1 Popularity model"
   ]
  },
  {
   "cell_type": "markdown",
   "id": "e776fbb6",
   "metadata": {
    "hidden": true
   },
   "source": [
    "<h3>Datasets introduction:</h3>\n",
    " <li> Final processed datasets: df_items_final for items dataset and df_iter_final for iteraction dataset;</li>\n",
    " <li> X_train(val/test): splitted useful information datasets from iteraction dataset;</li>\n",
    " <li> y_train(val/test): recommendation validates datasets.</li>"
   ]
  },
  {
   "cell_type": "markdown",
   "id": "b5d7da65",
   "metadata": {
    "hidden": true
   },
   "source": [
    "In this model, we plan to **calculate the popularity of all items** and **rank them** according to the **popularity (average rating it reveived)**. <br/> <br/>\n",
    "Then, we should form **personalized recommendation list** for each user (**exclude the objects they bought befor**). Then recommend them **the most popular product(s)**."
   ]
  },
  {
   "cell_type": "markdown",
   "id": "a0016d38",
   "metadata": {
    "hidden": true
   },
   "source": [
    "<h3>Important: here we only consider the average of items being purchased over 1000 times.</h3>"
   ]
  },
  {
   "cell_type": "code",
   "execution_count": 27,
   "id": "57402343",
   "metadata": {
    "hidden": true
   },
   "outputs": [],
   "source": [
    "# Select out the popular items dataset\n",
    "# Select the Items being purchased over 1000 times\n",
    "a1_purchased_count = (X_train['ItemId'].value_counts())[X_train['ItemId'].value_counts()>=1000]\n",
    "a1_filter_items = a1_purchased_count.index.to_list()\n",
    "a1_filtered_dataset = X_train[X_train['ItemId'].isin(a1_filter_items)]"
   ]
  },
  {
   "cell_type": "code",
   "execution_count": 28,
   "id": "a2f43ca7",
   "metadata": {
    "hidden": true
   },
   "outputs": [],
   "source": [
    "#Calculate the average scores of each item and rank them. Here we get the commending list globally.\n",
    "a1_glo_recommend_dataset = a1_filtered_dataset.groupby('ItemId')['Rating'].mean().sort_values(ascending=False)\n",
    "a1_glo_recommend_items = a1_glo_recommend_dataset.index.to_series()"
   ]
  },
  {
   "cell_type": "code",
   "execution_count": 29,
   "id": "3e095561",
   "metadata": {
    "hidden": true
   },
   "outputs": [],
   "source": [
    "#Then according to each user's historical behaviors, we exclude all the items have bought by each user, the recommend them the most popular item.\n",
    "def a1_item_recommend(database, glo_recommend_items, userid):\n",
    "    #Find out the ItemId of all items user has bought before.\n",
    "    items_purchased = database[database['UserId'] == userid].ItemId.values\n",
    "    \n",
    "    #Filter out these items and return the recommendation list\n",
    "    common_ele = glo_recommend_items[glo_recommend_items.isin(items_purchased)]\n",
    "    \n",
    "    recommendation = glo_recommend_items[~glo_recommend_items.isin(common_ele)][0]\n",
    "    return userid, recommendation"
   ]
  },
  {
   "cell_type": "code",
   "execution_count": 30,
   "id": "52cb209c",
   "metadata": {
    "hidden": true,
    "scrolled": true
   },
   "outputs": [],
   "source": [
    "# Run for all users, get the dictionary of recommendation for each user.\n",
    "a1_dict = dict()\n",
    "#####CHANGE THE USER NUMBER!!!\n",
    "for userid in X_train['UserId'][:50]: #Because of the CPU problem, only select the first 5000 users.\n",
    "    userid, a1_recommendation = a1_item_recommend(X_train, a1_glo_recommend_items, userid)\n",
    "    a1_dict[userid] = a1_recommendation"
   ]
  },
  {
   "cell_type": "code",
   "execution_count": 31,
   "id": "2c82f5b4",
   "metadata": {
    "hidden": true,
    "scrolled": true
   },
   "outputs": [
    {
     "name": "stdout",
     "output_type": "stream",
     "text": [
      "This algorithm has a recommendation accuracy of: 0.0 %\n"
     ]
    }
   ],
   "source": [
    "# Validate and measure the recommendation accuracy:\n",
    "a1_acc = list()\n",
    "#####CHANGE THE USER NUMBER!!!\n",
    "for userid in X_train['UserId'][:50]:\n",
    "    purchased_after = X_test['ItemId'][X_test['UserId'] == userid]\n",
    "#     print(purchased_after.values)\n",
    "    if a1_dict[userid] in purchased_after.values:\n",
    "        a1_acc.append(True)\n",
    "    else:\n",
    "        a1_acc.append(False)\n",
    "\n",
    "print(f'This algorithm has a recommendation accuracy of:', round(a1_acc.count(True)/len(a1_acc) * 100, 1), '%')"
   ]
  },
  {
   "cell_type": "markdown",
   "id": "e87ba88d",
   "metadata": {},
   "source": [
    "## 3.2 Content-based model"
   ]
  },
  {
   "cell_type": "code",
   "execution_count": 32,
   "id": "7860823f",
   "metadata": {},
   "outputs": [],
   "source": [
    "# 计算user-profile (用购买物品的review计算)\n",
    "# 计算item_feature 和 user-profile的cosine-similarity.\n",
    "# 推荐用户cosine-similarity 最高的一个（五个）物品，并计算accuracy."
   ]
  },
  {
   "cell_type": "code",
   "execution_count": 33,
   "id": "0d19dec7",
   "metadata": {},
   "outputs": [],
   "source": [
    "#Special process for Nan value in desciption column in items dataset and review column in X_train.\n",
    "df_items_final['Description'] = df_items_final['Description'].fillna('None')\n",
    "X_train['Review'] = X_train['Review'].fillna('None')"
   ]
  },
  {
   "cell_type": "code",
   "execution_count": 34,
   "id": "77cf3c1c",
   "metadata": {},
   "outputs": [],
   "source": [
    "#Create feature vectors according to the description of objects.\n",
    "#Instantiating Objects\n",
    "tfidf = TfidfVectorizer(lowercase=True, stop_words='english')\n",
    "item_features = tfidf.fit_transform(df_items_final['Description'])\n"
   ]
  },
  {
   "cell_type": "code",
   "execution_count": 35,
   "id": "7422efa9",
   "metadata": {},
   "outputs": [],
   "source": [
    "#Calculate user-profile by using the reviews of them.\n",
    "user_features = tfidf.transform(X_train['Review'])\n",
    "user_profile = pd.DataFrame(user_features.toarray())"
   ]
  },
  {
   "cell_type": "code",
   "execution_count": 36,
   "id": "90c36128",
   "metadata": {},
   "outputs": [
    {
     "data": {
      "text/html": [
       "<div>\n",
       "<style scoped>\n",
       "    .dataframe tbody tr th:only-of-type {\n",
       "        vertical-align: middle;\n",
       "    }\n",
       "\n",
       "    .dataframe tbody tr th {\n",
       "        vertical-align: top;\n",
       "    }\n",
       "\n",
       "    .dataframe thead th {\n",
       "        text-align: right;\n",
       "    }\n",
       "</style>\n",
       "<table border=\"1\" class=\"dataframe\">\n",
       "  <thead>\n",
       "    <tr style=\"text-align: right;\">\n",
       "      <th></th>\n",
       "      <th>0</th>\n",
       "      <th>1</th>\n",
       "      <th>2</th>\n",
       "      <th>3</th>\n",
       "      <th>4</th>\n",
       "      <th>5</th>\n",
       "      <th>6</th>\n",
       "      <th>7</th>\n",
       "      <th>8</th>\n",
       "      <th>9</th>\n",
       "      <th>...</th>\n",
       "      <th>32475</th>\n",
       "      <th>32476</th>\n",
       "      <th>32477</th>\n",
       "      <th>32478</th>\n",
       "      <th>32479</th>\n",
       "      <th>32480</th>\n",
       "      <th>32481</th>\n",
       "      <th>32482</th>\n",
       "      <th>32483</th>\n",
       "      <th>32484</th>\n",
       "    </tr>\n",
       "  </thead>\n",
       "  <tbody>\n",
       "    <tr>\n",
       "      <th>0</th>\n",
       "      <td>0.000000</td>\n",
       "      <td>0.0</td>\n",
       "      <td>0.008746</td>\n",
       "      <td>0.0</td>\n",
       "      <td>0.0</td>\n",
       "      <td>0.0</td>\n",
       "      <td>0.0</td>\n",
       "      <td>0.000000</td>\n",
       "      <td>0.0</td>\n",
       "      <td>0.00000</td>\n",
       "      <td>...</td>\n",
       "      <td>0.0</td>\n",
       "      <td>0.0</td>\n",
       "      <td>0.000000</td>\n",
       "      <td>0.0</td>\n",
       "      <td>0.000000</td>\n",
       "      <td>0.0</td>\n",
       "      <td>0.0</td>\n",
       "      <td>0.0</td>\n",
       "      <td>0.000000</td>\n",
       "      <td>0.0</td>\n",
       "    </tr>\n",
       "    <tr>\n",
       "      <th>1</th>\n",
       "      <td>0.000000</td>\n",
       "      <td>0.0</td>\n",
       "      <td>0.000000</td>\n",
       "      <td>0.0</td>\n",
       "      <td>0.0</td>\n",
       "      <td>0.0</td>\n",
       "      <td>0.0</td>\n",
       "      <td>0.000000</td>\n",
       "      <td>0.0</td>\n",
       "      <td>0.00000</td>\n",
       "      <td>...</td>\n",
       "      <td>0.0</td>\n",
       "      <td>0.0</td>\n",
       "      <td>0.000000</td>\n",
       "      <td>0.0</td>\n",
       "      <td>0.000000</td>\n",
       "      <td>0.0</td>\n",
       "      <td>0.0</td>\n",
       "      <td>0.0</td>\n",
       "      <td>0.030425</td>\n",
       "      <td>0.0</td>\n",
       "    </tr>\n",
       "    <tr>\n",
       "      <th>2</th>\n",
       "      <td>0.000000</td>\n",
       "      <td>0.0</td>\n",
       "      <td>0.000000</td>\n",
       "      <td>0.0</td>\n",
       "      <td>0.0</td>\n",
       "      <td>0.0</td>\n",
       "      <td>0.0</td>\n",
       "      <td>0.009466</td>\n",
       "      <td>0.0</td>\n",
       "      <td>0.00000</td>\n",
       "      <td>...</td>\n",
       "      <td>0.0</td>\n",
       "      <td>0.0</td>\n",
       "      <td>0.000000</td>\n",
       "      <td>0.0</td>\n",
       "      <td>0.068505</td>\n",
       "      <td>0.0</td>\n",
       "      <td>0.0</td>\n",
       "      <td>0.0</td>\n",
       "      <td>0.000000</td>\n",
       "      <td>0.0</td>\n",
       "    </tr>\n",
       "    <tr>\n",
       "      <th>3</th>\n",
       "      <td>0.028968</td>\n",
       "      <td>0.0</td>\n",
       "      <td>0.018417</td>\n",
       "      <td>0.0</td>\n",
       "      <td>0.0</td>\n",
       "      <td>0.0</td>\n",
       "      <td>0.0</td>\n",
       "      <td>0.029340</td>\n",
       "      <td>0.0</td>\n",
       "      <td>0.01625</td>\n",
       "      <td>...</td>\n",
       "      <td>0.0</td>\n",
       "      <td>0.0</td>\n",
       "      <td>0.000000</td>\n",
       "      <td>0.0</td>\n",
       "      <td>0.000000</td>\n",
       "      <td>0.0</td>\n",
       "      <td>0.0</td>\n",
       "      <td>0.0</td>\n",
       "      <td>0.006716</td>\n",
       "      <td>0.0</td>\n",
       "    </tr>\n",
       "    <tr>\n",
       "      <th>4</th>\n",
       "      <td>0.000000</td>\n",
       "      <td>0.0</td>\n",
       "      <td>0.030149</td>\n",
       "      <td>0.0</td>\n",
       "      <td>0.0</td>\n",
       "      <td>0.0</td>\n",
       "      <td>0.0</td>\n",
       "      <td>0.050917</td>\n",
       "      <td>0.0</td>\n",
       "      <td>0.00000</td>\n",
       "      <td>...</td>\n",
       "      <td>0.0</td>\n",
       "      <td>0.0</td>\n",
       "      <td>0.019821</td>\n",
       "      <td>0.0</td>\n",
       "      <td>0.000000</td>\n",
       "      <td>0.0</td>\n",
       "      <td>0.0</td>\n",
       "      <td>0.0</td>\n",
       "      <td>0.000000</td>\n",
       "      <td>0.0</td>\n",
       "    </tr>\n",
       "  </tbody>\n",
       "</table>\n",
       "<p>5 rows × 32485 columns</p>\n",
       "</div>"
      ],
      "text/plain": [
       "      0      1         2      3      4      5      6         7      8      \\\n",
       "0  0.000000    0.0  0.008746    0.0    0.0    0.0    0.0  0.000000    0.0   \n",
       "1  0.000000    0.0  0.000000    0.0    0.0    0.0    0.0  0.000000    0.0   \n",
       "2  0.000000    0.0  0.000000    0.0    0.0    0.0    0.0  0.009466    0.0   \n",
       "3  0.028968    0.0  0.018417    0.0    0.0    0.0    0.0  0.029340    0.0   \n",
       "4  0.000000    0.0  0.030149    0.0    0.0    0.0    0.0  0.050917    0.0   \n",
       "\n",
       "     9      ...  32475  32476     32477  32478     32479  32480  32481  32482  \\\n",
       "0  0.00000  ...    0.0    0.0  0.000000    0.0  0.000000    0.0    0.0    0.0   \n",
       "1  0.00000  ...    0.0    0.0  0.000000    0.0  0.000000    0.0    0.0    0.0   \n",
       "2  0.00000  ...    0.0    0.0  0.000000    0.0  0.068505    0.0    0.0    0.0   \n",
       "3  0.01625  ...    0.0    0.0  0.000000    0.0  0.000000    0.0    0.0    0.0   \n",
       "4  0.00000  ...    0.0    0.0  0.019821    0.0  0.000000    0.0    0.0    0.0   \n",
       "\n",
       "      32483  32484  \n",
       "0  0.000000    0.0  \n",
       "1  0.030425    0.0  \n",
       "2  0.000000    0.0  \n",
       "3  0.006716    0.0  \n",
       "4  0.000000    0.0  \n",
       "\n",
       "[5 rows x 32485 columns]"
      ]
     },
     "execution_count": 36,
     "metadata": {},
     "output_type": "execute_result"
    }
   ],
   "source": [
    "#Calculate the similarity matrix between items and users.\n",
    "al2_cos = cosine_similarity(user_features, item_features)\n",
    "np.fill_diagonal(al2_cos, 0)\n",
    "al2_cos = pd.DataFrame(al2_cos)\n",
    "al2_cos.head()"
   ]
  },
  {
   "cell_type": "code",
   "execution_count": 37,
   "id": "163afe84",
   "metadata": {},
   "outputs": [],
   "source": [
    "#Calculate the similarity matrix between items.\n",
    "# al2_cos = cosine_similarity(item_features)\n",
    "# np.fill_diagonal(al2_cos, 0)\n",
    "# al2_cos = pd.DataFrame(al2_cos)\n",
    "# al2_cos"
   ]
  },
  {
   "cell_type": "code",
   "execution_count": 38,
   "id": "3a30b13b",
   "metadata": {
    "scrolled": true
   },
   "outputs": [],
   "source": [
    "# def a2_item_recommend(item_data, al2_cos, user_id, top_n=1):\n",
    "#     #Get all rated items.\n",
    "#     rated_items = X_train[X_train['UserId'] == user_id]['ItemId'].tolist()\n",
    "    \n",
    "    \n",
    "#     #Calculate the similarity scores between rated products and other products.\n",
    "#     item_scores=dict()\n",
    "#     for item in rated_items:\n",
    "#         similarity_scores = al2_cos[item].to_list()\n",
    "#         rated_item_scores = np.array(X_train[X_train['ItemId'] == item]['Rating'])\n",
    "#         weighted_scores = [x * y for x, y in zip(similarity_scores, rated_item_scores)]\n",
    "#         item_scores.update(zip(item_data['ItemId'], weighted_scores))\n",
    "#         print(item_scores)\n",
    "        \n",
    "#     #Delete all the items this user bought\n",
    "#     for item in rated_items:\n",
    "#         if item in item_scores.keys():\n",
    "#             print('yes')\n",
    "#             del item_scores[item]\n",
    "            \n",
    "#     #Recommend users with the item got the ighest score.\n",
    "# #     recommendation = sorted(item_scores.items(), key=lambda x: x[1], reverse=True)[:top_n]\n",
    "# #     return recommendation[0][0], \n"
   ]
  },
  {
   "cell_type": "code",
   "execution_count": 39,
   "id": "86b4cb5e",
   "metadata": {
    "scrolled": true
   },
   "outputs": [],
   "source": [
    "# for user_id in X_train['UserId'][:1]:\n",
    "#     recommendation = a2_item_recommend(df_items_final,al2_cos, user_id=1)\n",
    "# #     print(f'User:', user_id, 'Item:', recommendation)"
   ]
  },
  {
   "cell_type": "markdown",
   "id": "347907f6",
   "metadata": {},
   "source": [
    "## 3.3 Collaborative filtering model"
   ]
  },
  {
   "cell_type": "markdown",
   "id": "8b46abbc",
   "metadata": {},
   "source": [
    "After analysing the structure of the two datasets: the amount of **user** is **much bigger** the amount of **item**.<br/><br/>\n",
    "Thus, in this case, we plan to do **item-based memory** model."
   ]
  },
  {
   "cell_type": "code",
   "execution_count": 40,
   "id": "385013ac",
   "metadata": {},
   "outputs": [],
   "source": [
    "X_train['ItemId'] = X_train['ItemId'].astype(int)\n",
    "X_train['UserId'] = X_train['UserId'].astype(int)"
   ]
  },
  {
   "cell_type": "code",
   "execution_count": 41,
   "id": "a1ec4f46",
   "metadata": {
    "scrolled": true
   },
   "outputs": [],
   "source": [
    "#Create a pivot to set 'ItemId' as the index, 'UserId' as the column and \"ratings\" as values.\n",
    "#Then fill all the Nan values with 0.\n",
    "al3_pivot = X_train[['UserId', 'ItemId', 'Rating']].pivot_table(index='ItemId', columns='UserId', values='Rating').fillna(0).sort_index(axis=0, ascending=True)"
   ]
  },
  {
   "cell_type": "code",
   "execution_count": 42,
   "id": "abfbb3b9",
   "metadata": {
    "scrolled": true
   },
   "outputs": [
    {
     "data": {
      "text/html": [
       "<div>\n",
       "<style scoped>\n",
       "    .dataframe tbody tr th:only-of-type {\n",
       "        vertical-align: middle;\n",
       "    }\n",
       "\n",
       "    .dataframe tbody tr th {\n",
       "        vertical-align: top;\n",
       "    }\n",
       "\n",
       "    .dataframe thead th {\n",
       "        text-align: right;\n",
       "    }\n",
       "</style>\n",
       "<table border=\"1\" class=\"dataframe\">\n",
       "  <thead>\n",
       "    <tr style=\"text-align: right;\">\n",
       "      <th>UserId</th>\n",
       "      <th>0</th>\n",
       "      <th>1</th>\n",
       "      <th>2</th>\n",
       "      <th>3</th>\n",
       "      <th>4</th>\n",
       "      <th>5</th>\n",
       "      <th>6</th>\n",
       "      <th>7</th>\n",
       "      <th>12</th>\n",
       "      <th>13</th>\n",
       "      <th>...</th>\n",
       "      <th>218889</th>\n",
       "      <th>218890</th>\n",
       "      <th>218891</th>\n",
       "      <th>218892</th>\n",
       "      <th>218893</th>\n",
       "      <th>218894</th>\n",
       "      <th>218895</th>\n",
       "      <th>218896</th>\n",
       "      <th>218897</th>\n",
       "      <th>218898</th>\n",
       "    </tr>\n",
       "    <tr>\n",
       "      <th>ItemId</th>\n",
       "      <th></th>\n",
       "      <th></th>\n",
       "      <th></th>\n",
       "      <th></th>\n",
       "      <th></th>\n",
       "      <th></th>\n",
       "      <th></th>\n",
       "      <th></th>\n",
       "      <th></th>\n",
       "      <th></th>\n",
       "      <th></th>\n",
       "      <th></th>\n",
       "      <th></th>\n",
       "      <th></th>\n",
       "      <th></th>\n",
       "      <th></th>\n",
       "      <th></th>\n",
       "      <th></th>\n",
       "      <th></th>\n",
       "      <th></th>\n",
       "      <th></th>\n",
       "    </tr>\n",
       "  </thead>\n",
       "  <tbody>\n",
       "    <tr>\n",
       "      <th>0</th>\n",
       "      <td>1.0</td>\n",
       "      <td>4.0</td>\n",
       "      <td>4.0</td>\n",
       "      <td>5.0</td>\n",
       "      <td>5.0</td>\n",
       "      <td>5.0</td>\n",
       "      <td>4.0</td>\n",
       "      <td>0.0</td>\n",
       "      <td>0.0</td>\n",
       "      <td>0.0</td>\n",
       "      <td>...</td>\n",
       "      <td>0.0</td>\n",
       "      <td>0.0</td>\n",
       "      <td>0.0</td>\n",
       "      <td>0.0</td>\n",
       "      <td>0.0</td>\n",
       "      <td>0.0</td>\n",
       "      <td>0.0</td>\n",
       "      <td>0.0</td>\n",
       "      <td>0.0</td>\n",
       "      <td>0.0</td>\n",
       "    </tr>\n",
       "    <tr>\n",
       "      <th>1</th>\n",
       "      <td>0.0</td>\n",
       "      <td>0.0</td>\n",
       "      <td>0.0</td>\n",
       "      <td>0.0</td>\n",
       "      <td>0.0</td>\n",
       "      <td>0.0</td>\n",
       "      <td>0.0</td>\n",
       "      <td>0.0</td>\n",
       "      <td>4.0</td>\n",
       "      <td>5.0</td>\n",
       "      <td>...</td>\n",
       "      <td>0.0</td>\n",
       "      <td>0.0</td>\n",
       "      <td>0.0</td>\n",
       "      <td>0.0</td>\n",
       "      <td>0.0</td>\n",
       "      <td>0.0</td>\n",
       "      <td>0.0</td>\n",
       "      <td>0.0</td>\n",
       "      <td>0.0</td>\n",
       "      <td>0.0</td>\n",
       "    </tr>\n",
       "    <tr>\n",
       "      <th>2</th>\n",
       "      <td>0.0</td>\n",
       "      <td>0.0</td>\n",
       "      <td>0.0</td>\n",
       "      <td>0.0</td>\n",
       "      <td>0.0</td>\n",
       "      <td>0.0</td>\n",
       "      <td>0.0</td>\n",
       "      <td>0.0</td>\n",
       "      <td>0.0</td>\n",
       "      <td>0.0</td>\n",
       "      <td>...</td>\n",
       "      <td>0.0</td>\n",
       "      <td>0.0</td>\n",
       "      <td>0.0</td>\n",
       "      <td>0.0</td>\n",
       "      <td>0.0</td>\n",
       "      <td>0.0</td>\n",
       "      <td>0.0</td>\n",
       "      <td>0.0</td>\n",
       "      <td>0.0</td>\n",
       "      <td>0.0</td>\n",
       "    </tr>\n",
       "    <tr>\n",
       "      <th>3</th>\n",
       "      <td>0.0</td>\n",
       "      <td>0.0</td>\n",
       "      <td>0.0</td>\n",
       "      <td>0.0</td>\n",
       "      <td>0.0</td>\n",
       "      <td>0.0</td>\n",
       "      <td>0.0</td>\n",
       "      <td>0.0</td>\n",
       "      <td>0.0</td>\n",
       "      <td>0.0</td>\n",
       "      <td>...</td>\n",
       "      <td>0.0</td>\n",
       "      <td>0.0</td>\n",
       "      <td>0.0</td>\n",
       "      <td>0.0</td>\n",
       "      <td>0.0</td>\n",
       "      <td>0.0</td>\n",
       "      <td>0.0</td>\n",
       "      <td>0.0</td>\n",
       "      <td>0.0</td>\n",
       "      <td>0.0</td>\n",
       "    </tr>\n",
       "    <tr>\n",
       "      <th>4</th>\n",
       "      <td>0.0</td>\n",
       "      <td>0.0</td>\n",
       "      <td>0.0</td>\n",
       "      <td>0.0</td>\n",
       "      <td>0.0</td>\n",
       "      <td>0.0</td>\n",
       "      <td>0.0</td>\n",
       "      <td>0.0</td>\n",
       "      <td>0.0</td>\n",
       "      <td>0.0</td>\n",
       "      <td>...</td>\n",
       "      <td>0.0</td>\n",
       "      <td>0.0</td>\n",
       "      <td>0.0</td>\n",
       "      <td>0.0</td>\n",
       "      <td>0.0</td>\n",
       "      <td>0.0</td>\n",
       "      <td>0.0</td>\n",
       "      <td>0.0</td>\n",
       "      <td>0.0</td>\n",
       "      <td>0.0</td>\n",
       "    </tr>\n",
       "    <tr>\n",
       "      <th>...</th>\n",
       "      <td>...</td>\n",
       "      <td>...</td>\n",
       "      <td>...</td>\n",
       "      <td>...</td>\n",
       "      <td>...</td>\n",
       "      <td>...</td>\n",
       "      <td>...</td>\n",
       "      <td>...</td>\n",
       "      <td>...</td>\n",
       "      <td>...</td>\n",
       "      <td>...</td>\n",
       "      <td>...</td>\n",
       "      <td>...</td>\n",
       "      <td>...</td>\n",
       "      <td>...</td>\n",
       "      <td>...</td>\n",
       "      <td>...</td>\n",
       "      <td>...</td>\n",
       "      <td>...</td>\n",
       "      <td>...</td>\n",
       "      <td>...</td>\n",
       "    </tr>\n",
       "    <tr>\n",
       "      <th>4460</th>\n",
       "      <td>0.0</td>\n",
       "      <td>0.0</td>\n",
       "      <td>0.0</td>\n",
       "      <td>0.0</td>\n",
       "      <td>0.0</td>\n",
       "      <td>0.0</td>\n",
       "      <td>0.0</td>\n",
       "      <td>0.0</td>\n",
       "      <td>0.0</td>\n",
       "      <td>0.0</td>\n",
       "      <td>...</td>\n",
       "      <td>0.0</td>\n",
       "      <td>0.0</td>\n",
       "      <td>0.0</td>\n",
       "      <td>0.0</td>\n",
       "      <td>0.0</td>\n",
       "      <td>0.0</td>\n",
       "      <td>0.0</td>\n",
       "      <td>0.0</td>\n",
       "      <td>0.0</td>\n",
       "      <td>0.0</td>\n",
       "    </tr>\n",
       "    <tr>\n",
       "      <th>4462</th>\n",
       "      <td>0.0</td>\n",
       "      <td>0.0</td>\n",
       "      <td>0.0</td>\n",
       "      <td>0.0</td>\n",
       "      <td>0.0</td>\n",
       "      <td>0.0</td>\n",
       "      <td>0.0</td>\n",
       "      <td>0.0</td>\n",
       "      <td>0.0</td>\n",
       "      <td>0.0</td>\n",
       "      <td>...</td>\n",
       "      <td>0.0</td>\n",
       "      <td>0.0</td>\n",
       "      <td>0.0</td>\n",
       "      <td>0.0</td>\n",
       "      <td>0.0</td>\n",
       "      <td>0.0</td>\n",
       "      <td>0.0</td>\n",
       "      <td>0.0</td>\n",
       "      <td>0.0</td>\n",
       "      <td>0.0</td>\n",
       "    </tr>\n",
       "    <tr>\n",
       "      <th>4463</th>\n",
       "      <td>0.0</td>\n",
       "      <td>0.0</td>\n",
       "      <td>0.0</td>\n",
       "      <td>0.0</td>\n",
       "      <td>0.0</td>\n",
       "      <td>0.0</td>\n",
       "      <td>0.0</td>\n",
       "      <td>0.0</td>\n",
       "      <td>0.0</td>\n",
       "      <td>0.0</td>\n",
       "      <td>...</td>\n",
       "      <td>0.0</td>\n",
       "      <td>0.0</td>\n",
       "      <td>0.0</td>\n",
       "      <td>0.0</td>\n",
       "      <td>0.0</td>\n",
       "      <td>0.0</td>\n",
       "      <td>0.0</td>\n",
       "      <td>0.0</td>\n",
       "      <td>0.0</td>\n",
       "      <td>0.0</td>\n",
       "    </tr>\n",
       "    <tr>\n",
       "      <th>4464</th>\n",
       "      <td>0.0</td>\n",
       "      <td>0.0</td>\n",
       "      <td>0.0</td>\n",
       "      <td>0.0</td>\n",
       "      <td>0.0</td>\n",
       "      <td>0.0</td>\n",
       "      <td>0.0</td>\n",
       "      <td>0.0</td>\n",
       "      <td>0.0</td>\n",
       "      <td>0.0</td>\n",
       "      <td>...</td>\n",
       "      <td>5.0</td>\n",
       "      <td>5.0</td>\n",
       "      <td>4.0</td>\n",
       "      <td>0.0</td>\n",
       "      <td>0.0</td>\n",
       "      <td>0.0</td>\n",
       "      <td>0.0</td>\n",
       "      <td>0.0</td>\n",
       "      <td>0.0</td>\n",
       "      <td>0.0</td>\n",
       "    </tr>\n",
       "    <tr>\n",
       "      <th>4465</th>\n",
       "      <td>0.0</td>\n",
       "      <td>0.0</td>\n",
       "      <td>0.0</td>\n",
       "      <td>0.0</td>\n",
       "      <td>0.0</td>\n",
       "      <td>0.0</td>\n",
       "      <td>0.0</td>\n",
       "      <td>0.0</td>\n",
       "      <td>0.0</td>\n",
       "      <td>0.0</td>\n",
       "      <td>...</td>\n",
       "      <td>0.0</td>\n",
       "      <td>0.0</td>\n",
       "      <td>0.0</td>\n",
       "      <td>5.0</td>\n",
       "      <td>5.0</td>\n",
       "      <td>4.0</td>\n",
       "      <td>4.0</td>\n",
       "      <td>5.0</td>\n",
       "      <td>5.0</td>\n",
       "      <td>5.0</td>\n",
       "    </tr>\n",
       "  </tbody>\n",
       "</table>\n",
       "<p>4234 rows × 151822 columns</p>\n",
       "</div>"
      ],
      "text/plain": [
       "UserId  0       1       2       3       4       5       6       7       \\\n",
       "ItemId                                                                   \n",
       "0          1.0     4.0     4.0     5.0     5.0     5.0     4.0     0.0   \n",
       "1          0.0     0.0     0.0     0.0     0.0     0.0     0.0     0.0   \n",
       "2          0.0     0.0     0.0     0.0     0.0     0.0     0.0     0.0   \n",
       "3          0.0     0.0     0.0     0.0     0.0     0.0     0.0     0.0   \n",
       "4          0.0     0.0     0.0     0.0     0.0     0.0     0.0     0.0   \n",
       "...        ...     ...     ...     ...     ...     ...     ...     ...   \n",
       "4460       0.0     0.0     0.0     0.0     0.0     0.0     0.0     0.0   \n",
       "4462       0.0     0.0     0.0     0.0     0.0     0.0     0.0     0.0   \n",
       "4463       0.0     0.0     0.0     0.0     0.0     0.0     0.0     0.0   \n",
       "4464       0.0     0.0     0.0     0.0     0.0     0.0     0.0     0.0   \n",
       "4465       0.0     0.0     0.0     0.0     0.0     0.0     0.0     0.0   \n",
       "\n",
       "UserId  12      13      ...  218889  218890  218891  218892  218893  218894  \\\n",
       "ItemId                  ...                                                   \n",
       "0          0.0     0.0  ...     0.0     0.0     0.0     0.0     0.0     0.0   \n",
       "1          4.0     5.0  ...     0.0     0.0     0.0     0.0     0.0     0.0   \n",
       "2          0.0     0.0  ...     0.0     0.0     0.0     0.0     0.0     0.0   \n",
       "3          0.0     0.0  ...     0.0     0.0     0.0     0.0     0.0     0.0   \n",
       "4          0.0     0.0  ...     0.0     0.0     0.0     0.0     0.0     0.0   \n",
       "...        ...     ...  ...     ...     ...     ...     ...     ...     ...   \n",
       "4460       0.0     0.0  ...     0.0     0.0     0.0     0.0     0.0     0.0   \n",
       "4462       0.0     0.0  ...     0.0     0.0     0.0     0.0     0.0     0.0   \n",
       "4463       0.0     0.0  ...     0.0     0.0     0.0     0.0     0.0     0.0   \n",
       "4464       0.0     0.0  ...     5.0     5.0     4.0     0.0     0.0     0.0   \n",
       "4465       0.0     0.0  ...     0.0     0.0     0.0     5.0     5.0     4.0   \n",
       "\n",
       "UserId  218895  218896  218897  218898  \n",
       "ItemId                                  \n",
       "0          0.0     0.0     0.0     0.0  \n",
       "1          0.0     0.0     0.0     0.0  \n",
       "2          0.0     0.0     0.0     0.0  \n",
       "3          0.0     0.0     0.0     0.0  \n",
       "4          0.0     0.0     0.0     0.0  \n",
       "...        ...     ...     ...     ...  \n",
       "4460       0.0     0.0     0.0     0.0  \n",
       "4462       0.0     0.0     0.0     0.0  \n",
       "4463       0.0     0.0     0.0     0.0  \n",
       "4464       0.0     0.0     0.0     0.0  \n",
       "4465       4.0     5.0     5.0     5.0  \n",
       "\n",
       "[4234 rows x 151822 columns]"
      ]
     },
     "execution_count": 42,
     "metadata": {},
     "output_type": "execute_result"
    }
   ],
   "source": [
    "al3_pivot"
   ]
  },
  {
   "cell_type": "code",
   "execution_count": 43,
   "id": "93e1c02c",
   "metadata": {},
   "outputs": [],
   "source": [
    "#Calculate the similarities between items.\n",
    "al3_cos = cosine_similarity(al3_pivot)\n",
    "np.fill_diagonal(al3_cos, 0)\n",
    "#Turn it into a dataframe.\n",
    "al3_cos = pd.DataFrame(al3_cos)"
   ]
  },
  {
   "cell_type": "code",
   "execution_count": 44,
   "id": "dca0eaee",
   "metadata": {},
   "outputs": [
    {
     "data": {
      "text/html": [
       "<div>\n",
       "<style scoped>\n",
       "    .dataframe tbody tr th:only-of-type {\n",
       "        vertical-align: middle;\n",
       "    }\n",
       "\n",
       "    .dataframe tbody tr th {\n",
       "        vertical-align: top;\n",
       "    }\n",
       "\n",
       "    .dataframe thead th {\n",
       "        text-align: right;\n",
       "    }\n",
       "</style>\n",
       "<table border=\"1\" class=\"dataframe\">\n",
       "  <thead>\n",
       "    <tr style=\"text-align: right;\">\n",
       "      <th></th>\n",
       "      <th>0</th>\n",
       "      <th>1</th>\n",
       "      <th>2</th>\n",
       "      <th>3</th>\n",
       "      <th>4</th>\n",
       "      <th>5</th>\n",
       "      <th>6</th>\n",
       "      <th>7</th>\n",
       "      <th>8</th>\n",
       "      <th>9</th>\n",
       "      <th>...</th>\n",
       "      <th>4224</th>\n",
       "      <th>4225</th>\n",
       "      <th>4226</th>\n",
       "      <th>4227</th>\n",
       "      <th>4228</th>\n",
       "      <th>4229</th>\n",
       "      <th>4230</th>\n",
       "      <th>4231</th>\n",
       "      <th>4232</th>\n",
       "      <th>4233</th>\n",
       "    </tr>\n",
       "  </thead>\n",
       "  <tbody>\n",
       "    <tr>\n",
       "      <th>0</th>\n",
       "      <td>0.0</td>\n",
       "      <td>0.0</td>\n",
       "      <td>0.0</td>\n",
       "      <td>0.0</td>\n",
       "      <td>0.0</td>\n",
       "      <td>0.0</td>\n",
       "      <td>0.0</td>\n",
       "      <td>0.0</td>\n",
       "      <td>0.0</td>\n",
       "      <td>0.0</td>\n",
       "      <td>...</td>\n",
       "      <td>0.0</td>\n",
       "      <td>0.0</td>\n",
       "      <td>0.0</td>\n",
       "      <td>0.0</td>\n",
       "      <td>0.0</td>\n",
       "      <td>0.0</td>\n",
       "      <td>0.0</td>\n",
       "      <td>0.0</td>\n",
       "      <td>0.0</td>\n",
       "      <td>0.0</td>\n",
       "    </tr>\n",
       "    <tr>\n",
       "      <th>1</th>\n",
       "      <td>0.0</td>\n",
       "      <td>0.0</td>\n",
       "      <td>0.0</td>\n",
       "      <td>0.0</td>\n",
       "      <td>0.0</td>\n",
       "      <td>0.0</td>\n",
       "      <td>0.0</td>\n",
       "      <td>0.0</td>\n",
       "      <td>0.0</td>\n",
       "      <td>0.0</td>\n",
       "      <td>...</td>\n",
       "      <td>0.0</td>\n",
       "      <td>0.0</td>\n",
       "      <td>0.0</td>\n",
       "      <td>0.0</td>\n",
       "      <td>0.0</td>\n",
       "      <td>0.0</td>\n",
       "      <td>0.0</td>\n",
       "      <td>0.0</td>\n",
       "      <td>0.0</td>\n",
       "      <td>0.0</td>\n",
       "    </tr>\n",
       "    <tr>\n",
       "      <th>2</th>\n",
       "      <td>0.0</td>\n",
       "      <td>0.0</td>\n",
       "      <td>0.0</td>\n",
       "      <td>0.0</td>\n",
       "      <td>0.0</td>\n",
       "      <td>0.0</td>\n",
       "      <td>0.0</td>\n",
       "      <td>0.0</td>\n",
       "      <td>0.0</td>\n",
       "      <td>0.0</td>\n",
       "      <td>...</td>\n",
       "      <td>0.0</td>\n",
       "      <td>0.0</td>\n",
       "      <td>0.0</td>\n",
       "      <td>0.0</td>\n",
       "      <td>0.0</td>\n",
       "      <td>0.0</td>\n",
       "      <td>0.0</td>\n",
       "      <td>0.0</td>\n",
       "      <td>0.0</td>\n",
       "      <td>0.0</td>\n",
       "    </tr>\n",
       "    <tr>\n",
       "      <th>3</th>\n",
       "      <td>0.0</td>\n",
       "      <td>0.0</td>\n",
       "      <td>0.0</td>\n",
       "      <td>0.0</td>\n",
       "      <td>0.0</td>\n",
       "      <td>0.0</td>\n",
       "      <td>0.0</td>\n",
       "      <td>0.0</td>\n",
       "      <td>0.0</td>\n",
       "      <td>0.0</td>\n",
       "      <td>...</td>\n",
       "      <td>0.0</td>\n",
       "      <td>0.0</td>\n",
       "      <td>0.0</td>\n",
       "      <td>0.0</td>\n",
       "      <td>0.0</td>\n",
       "      <td>0.0</td>\n",
       "      <td>0.0</td>\n",
       "      <td>0.0</td>\n",
       "      <td>0.0</td>\n",
       "      <td>0.0</td>\n",
       "    </tr>\n",
       "    <tr>\n",
       "      <th>4</th>\n",
       "      <td>0.0</td>\n",
       "      <td>0.0</td>\n",
       "      <td>0.0</td>\n",
       "      <td>0.0</td>\n",
       "      <td>0.0</td>\n",
       "      <td>0.0</td>\n",
       "      <td>0.0</td>\n",
       "      <td>0.0</td>\n",
       "      <td>0.0</td>\n",
       "      <td>0.0</td>\n",
       "      <td>...</td>\n",
       "      <td>0.0</td>\n",
       "      <td>0.0</td>\n",
       "      <td>0.0</td>\n",
       "      <td>0.0</td>\n",
       "      <td>0.0</td>\n",
       "      <td>0.0</td>\n",
       "      <td>0.0</td>\n",
       "      <td>0.0</td>\n",
       "      <td>0.0</td>\n",
       "      <td>0.0</td>\n",
       "    </tr>\n",
       "    <tr>\n",
       "      <th>...</th>\n",
       "      <td>...</td>\n",
       "      <td>...</td>\n",
       "      <td>...</td>\n",
       "      <td>...</td>\n",
       "      <td>...</td>\n",
       "      <td>...</td>\n",
       "      <td>...</td>\n",
       "      <td>...</td>\n",
       "      <td>...</td>\n",
       "      <td>...</td>\n",
       "      <td>...</td>\n",
       "      <td>...</td>\n",
       "      <td>...</td>\n",
       "      <td>...</td>\n",
       "      <td>...</td>\n",
       "      <td>...</td>\n",
       "      <td>...</td>\n",
       "      <td>...</td>\n",
       "      <td>...</td>\n",
       "      <td>...</td>\n",
       "      <td>...</td>\n",
       "    </tr>\n",
       "    <tr>\n",
       "      <th>4229</th>\n",
       "      <td>0.0</td>\n",
       "      <td>0.0</td>\n",
       "      <td>0.0</td>\n",
       "      <td>0.0</td>\n",
       "      <td>0.0</td>\n",
       "      <td>0.0</td>\n",
       "      <td>0.0</td>\n",
       "      <td>0.0</td>\n",
       "      <td>0.0</td>\n",
       "      <td>0.0</td>\n",
       "      <td>...</td>\n",
       "      <td>0.0</td>\n",
       "      <td>0.0</td>\n",
       "      <td>0.0</td>\n",
       "      <td>0.0</td>\n",
       "      <td>0.0</td>\n",
       "      <td>0.0</td>\n",
       "      <td>0.0</td>\n",
       "      <td>0.0</td>\n",
       "      <td>0.0</td>\n",
       "      <td>0.0</td>\n",
       "    </tr>\n",
       "    <tr>\n",
       "      <th>4230</th>\n",
       "      <td>0.0</td>\n",
       "      <td>0.0</td>\n",
       "      <td>0.0</td>\n",
       "      <td>0.0</td>\n",
       "      <td>0.0</td>\n",
       "      <td>0.0</td>\n",
       "      <td>0.0</td>\n",
       "      <td>0.0</td>\n",
       "      <td>0.0</td>\n",
       "      <td>0.0</td>\n",
       "      <td>...</td>\n",
       "      <td>0.0</td>\n",
       "      <td>0.0</td>\n",
       "      <td>0.0</td>\n",
       "      <td>0.0</td>\n",
       "      <td>0.0</td>\n",
       "      <td>0.0</td>\n",
       "      <td>0.0</td>\n",
       "      <td>0.0</td>\n",
       "      <td>0.0</td>\n",
       "      <td>0.0</td>\n",
       "    </tr>\n",
       "    <tr>\n",
       "      <th>4231</th>\n",
       "      <td>0.0</td>\n",
       "      <td>0.0</td>\n",
       "      <td>0.0</td>\n",
       "      <td>0.0</td>\n",
       "      <td>0.0</td>\n",
       "      <td>0.0</td>\n",
       "      <td>0.0</td>\n",
       "      <td>0.0</td>\n",
       "      <td>0.0</td>\n",
       "      <td>0.0</td>\n",
       "      <td>...</td>\n",
       "      <td>0.0</td>\n",
       "      <td>0.0</td>\n",
       "      <td>0.0</td>\n",
       "      <td>0.0</td>\n",
       "      <td>0.0</td>\n",
       "      <td>0.0</td>\n",
       "      <td>0.0</td>\n",
       "      <td>0.0</td>\n",
       "      <td>0.0</td>\n",
       "      <td>0.0</td>\n",
       "    </tr>\n",
       "    <tr>\n",
       "      <th>4232</th>\n",
       "      <td>0.0</td>\n",
       "      <td>0.0</td>\n",
       "      <td>0.0</td>\n",
       "      <td>0.0</td>\n",
       "      <td>0.0</td>\n",
       "      <td>0.0</td>\n",
       "      <td>0.0</td>\n",
       "      <td>0.0</td>\n",
       "      <td>0.0</td>\n",
       "      <td>0.0</td>\n",
       "      <td>...</td>\n",
       "      <td>0.0</td>\n",
       "      <td>0.0</td>\n",
       "      <td>0.0</td>\n",
       "      <td>0.0</td>\n",
       "      <td>0.0</td>\n",
       "      <td>0.0</td>\n",
       "      <td>0.0</td>\n",
       "      <td>0.0</td>\n",
       "      <td>0.0</td>\n",
       "      <td>0.0</td>\n",
       "    </tr>\n",
       "    <tr>\n",
       "      <th>4233</th>\n",
       "      <td>0.0</td>\n",
       "      <td>0.0</td>\n",
       "      <td>0.0</td>\n",
       "      <td>0.0</td>\n",
       "      <td>0.0</td>\n",
       "      <td>0.0</td>\n",
       "      <td>0.0</td>\n",
       "      <td>0.0</td>\n",
       "      <td>0.0</td>\n",
       "      <td>0.0</td>\n",
       "      <td>...</td>\n",
       "      <td>0.0</td>\n",
       "      <td>0.0</td>\n",
       "      <td>0.0</td>\n",
       "      <td>0.0</td>\n",
       "      <td>0.0</td>\n",
       "      <td>0.0</td>\n",
       "      <td>0.0</td>\n",
       "      <td>0.0</td>\n",
       "      <td>0.0</td>\n",
       "      <td>0.0</td>\n",
       "    </tr>\n",
       "  </tbody>\n",
       "</table>\n",
       "<p>4234 rows × 4234 columns</p>\n",
       "</div>"
      ],
      "text/plain": [
       "      0     1     2     3     4     5     6     7     8     9     ...  4224  \\\n",
       "0      0.0   0.0   0.0   0.0   0.0   0.0   0.0   0.0   0.0   0.0  ...   0.0   \n",
       "1      0.0   0.0   0.0   0.0   0.0   0.0   0.0   0.0   0.0   0.0  ...   0.0   \n",
       "2      0.0   0.0   0.0   0.0   0.0   0.0   0.0   0.0   0.0   0.0  ...   0.0   \n",
       "3      0.0   0.0   0.0   0.0   0.0   0.0   0.0   0.0   0.0   0.0  ...   0.0   \n",
       "4      0.0   0.0   0.0   0.0   0.0   0.0   0.0   0.0   0.0   0.0  ...   0.0   \n",
       "...    ...   ...   ...   ...   ...   ...   ...   ...   ...   ...  ...   ...   \n",
       "4229   0.0   0.0   0.0   0.0   0.0   0.0   0.0   0.0   0.0   0.0  ...   0.0   \n",
       "4230   0.0   0.0   0.0   0.0   0.0   0.0   0.0   0.0   0.0   0.0  ...   0.0   \n",
       "4231   0.0   0.0   0.0   0.0   0.0   0.0   0.0   0.0   0.0   0.0  ...   0.0   \n",
       "4232   0.0   0.0   0.0   0.0   0.0   0.0   0.0   0.0   0.0   0.0  ...   0.0   \n",
       "4233   0.0   0.0   0.0   0.0   0.0   0.0   0.0   0.0   0.0   0.0  ...   0.0   \n",
       "\n",
       "      4225  4226  4227  4228  4229  4230  4231  4232  4233  \n",
       "0      0.0   0.0   0.0   0.0   0.0   0.0   0.0   0.0   0.0  \n",
       "1      0.0   0.0   0.0   0.0   0.0   0.0   0.0   0.0   0.0  \n",
       "2      0.0   0.0   0.0   0.0   0.0   0.0   0.0   0.0   0.0  \n",
       "3      0.0   0.0   0.0   0.0   0.0   0.0   0.0   0.0   0.0  \n",
       "4      0.0   0.0   0.0   0.0   0.0   0.0   0.0   0.0   0.0  \n",
       "...    ...   ...   ...   ...   ...   ...   ...   ...   ...  \n",
       "4229   0.0   0.0   0.0   0.0   0.0   0.0   0.0   0.0   0.0  \n",
       "4230   0.0   0.0   0.0   0.0   0.0   0.0   0.0   0.0   0.0  \n",
       "4231   0.0   0.0   0.0   0.0   0.0   0.0   0.0   0.0   0.0  \n",
       "4232   0.0   0.0   0.0   0.0   0.0   0.0   0.0   0.0   0.0  \n",
       "4233   0.0   0.0   0.0   0.0   0.0   0.0   0.0   0.0   0.0  \n",
       "\n",
       "[4234 rows x 4234 columns]"
      ]
     },
     "execution_count": 44,
     "metadata": {},
     "output_type": "execute_result"
    }
   ],
   "source": [
    "al3_cos"
   ]
  },
  {
   "cell_type": "code",
   "execution_count": 45,
   "id": "045c3b0a",
   "metadata": {},
   "outputs": [
    {
     "data": {
      "text/plain": [
       "Int64Index([   0,    1,    2,    3,    4,    5,    6,    7,    8,    9,\n",
       "            ...\n",
       "            4447, 4449, 4451, 4456, 4459, 4460, 4462, 4463, 4464, 4465],\n",
       "           dtype='int64', name='ItemId', length=4234)"
      ]
     },
     "execution_count": 45,
     "metadata": {},
     "output_type": "execute_result"
    }
   ],
   "source": [
    "al3_pivot.index"
   ]
  },
  {
   "cell_type": "code",
   "execution_count": 46,
   "id": "6d12ef7b",
   "metadata": {},
   "outputs": [
    {
     "data": {
      "text/plain": [
       "[0]"
      ]
     },
     "execution_count": 46,
     "metadata": {},
     "output_type": "execute_result"
    }
   ],
   "source": [
    "X_train[X_train['UserId'] == 1]['ItemId'].tolist()"
   ]
  },
  {
   "cell_type": "code",
   "execution_count": 47,
   "id": "b9556382",
   "metadata": {},
   "outputs": [],
   "source": [
    "#Algorithm to recommend products to users.\n",
    "def a3_item_recommend(al3_pivot, al3_cos, user_id, top_n=1):\n",
    "    #Get the items this user rated.\n",
    "    rated_items = X_train[X_train['UserId'] == user_id]['ItemId'].tolist()\n",
    "    print(rated_items)\n",
    "    #Calculate the similarity score between the items rated and other unrated items.\n",
    "    item_scores = dict()\n",
    "    for item in rated_items:\n",
    "        sim_scores = al3_cos[item]\n",
    "        rated_item_scores = al3_pivot[user_id]\n",
    "        weighted_scores = sim_scores * rated_item_scores\n",
    "        item_scores.update(zip(al3_pivot.index, weighted_scores))\n",
    "    \n",
    "    #Delete the items user has bought before.\n",
    "    for item in rated_items:\n",
    "        if item in item_scores:\n",
    "            del item_scores[item]\n",
    "    \n",
    "    #Recommend the item to the user\n",
    "    recommendation = sorted(item_scores.items(), key=lambda x: x[1], reverse=True)[:10]\n",
    "    return recommendation"
   ]
  },
  {
   "cell_type": "code",
   "execution_count": 48,
   "id": "c6789d49",
   "metadata": {},
   "outputs": [
    {
     "name": "stdout",
     "output_type": "stream",
     "text": [
      "[1]\n"
     ]
    }
   ],
   "source": [
    "user_id = 15\n",
    "a3_recommendation = a3_item_recommend(al3_pivot, al3_cos, user_id)\n"
   ]
  },
  {
   "cell_type": "code",
   "execution_count": 49,
   "id": "756315a8",
   "metadata": {},
   "outputs": [
    {
     "data": {
      "text/plain": [
       "[(0, 0.0),\n",
       " (2, 0.0),\n",
       " (3, 0.0),\n",
       " (4, 0.0),\n",
       " (5, 0.0),\n",
       " (6, 0.0),\n",
       " (7, 0.0),\n",
       " (8, 0.0),\n",
       " (9, 0.0),\n",
       " (10, 0.0)]"
      ]
     },
     "execution_count": 49,
     "metadata": {},
     "output_type": "execute_result"
    }
   ],
   "source": [
    "#Recommendation has come out, select the first recommendation and do a accuracy check.\n",
    "a3_recommendation"
   ]
  },
  {
   "cell_type": "markdown",
   "id": "d5a2471c",
   "metadata": {
    "heading_collapsed": true
   },
   "source": [
    "## 3.4 Model-based collaborative filtering model (Optional)"
   ]
  },
  {
   "cell_type": "code",
   "execution_count": 50,
   "id": "1f70ade7",
   "metadata": {
    "hidden": true
   },
   "outputs": [],
   "source": [
    "#使用surprise model"
   ]
  },
  {
   "cell_type": "markdown",
   "id": "26e57dbc",
   "metadata": {},
   "source": [
    "# 4. Models comparison"
   ]
  },
  {
   "cell_type": "markdown",
   "id": "049fa326",
   "metadata": {},
   "source": [
    "# "
   ]
  },
  {
   "cell_type": "markdown",
   "id": "903e183d",
   "metadata": {},
   "source": [
    "## <h3 align=\"center\"> © Haozhe TANG 07.2023. All rights reserved. <h3/>"
   ]
  },
  {
   "cell_type": "code",
   "execution_count": null,
   "id": "75f7c683",
   "metadata": {},
   "outputs": [],
   "source": []
  }
 ],
 "metadata": {
  "kernelspec": {
   "display_name": "Python 3 (ipykernel)",
   "language": "python",
   "name": "python3"
  },
  "language_info": {
   "codemirror_mode": {
    "name": "ipython",
    "version": 3
   },
   "file_extension": ".py",
   "mimetype": "text/x-python",
   "name": "python",
   "nbconvert_exporter": "python",
   "pygments_lexer": "ipython3",
   "version": "3.8.13"
  }
 },
 "nbformat": 4,
 "nbformat_minor": 5
}
