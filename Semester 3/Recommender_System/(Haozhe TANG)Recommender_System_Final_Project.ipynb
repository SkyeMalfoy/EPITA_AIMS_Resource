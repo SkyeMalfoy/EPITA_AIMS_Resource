{
  "cells": [
    {
      "cell_type": "markdown",
      "source": [
        "<i>This notebook is made by Haozhe TANG on 13, July for the final project of Recommender System.</i>"
      ],
      "metadata": {
        "id": "Kxu8iIAWnH1e"
      },
      "id": "Kxu8iIAWnH1e"
    },
    {
      "cell_type": "markdown",
      "id": "59972ac5",
      "metadata": {
        "id": "59972ac5"
      },
      "source": [
        "# Library Importing and Data Importing"
      ]
    },
    {
      "cell_type": "code",
      "source": [
        "from google.colab import drive\n",
        "drive.mount('/content/drive')"
      ],
      "metadata": {
        "colab": {
          "base_uri": "https://localhost:8080/"
        },
        "id": "wJcNyIg0xCzH",
        "outputId": "fd3f3716-e7c4-4999-8495-64e183a848b8"
      },
      "id": "wJcNyIg0xCzH",
      "execution_count": 1,
      "outputs": [
        {
          "output_type": "stream",
          "name": "stdout",
          "text": [
            "Drive already mounted at /content/drive; to attempt to forcibly remount, call drive.mount(\"/content/drive\", force_remount=True).\n"
          ]
        }
      ]
    },
    {
      "cell_type": "code",
      "source": [
        "pip install scikit-surprise"
      ],
      "metadata": {
        "colab": {
          "base_uri": "https://localhost:8080/"
        },
        "id": "cyPtFNRh7CcZ",
        "outputId": "bc7e8771-bd46-4547-eb5b-554377b658dc"
      },
      "id": "cyPtFNRh7CcZ",
      "execution_count": 2,
      "outputs": [
        {
          "output_type": "stream",
          "name": "stdout",
          "text": [
            "Requirement already satisfied: scikit-surprise in /usr/local/lib/python3.10/dist-packages (1.1.3)\n",
            "Requirement already satisfied: joblib>=1.0.0 in /usr/local/lib/python3.10/dist-packages (from scikit-surprise) (1.3.1)\n",
            "Requirement already satisfied: numpy>=1.17.3 in /usr/local/lib/python3.10/dist-packages (from scikit-surprise) (1.22.4)\n",
            "Requirement already satisfied: scipy>=1.3.2 in /usr/local/lib/python3.10/dist-packages (from scikit-surprise) (1.10.1)\n"
          ]
        }
      ]
    },
    {
      "cell_type": "code",
      "execution_count": 3,
      "id": "8082ca7e",
      "metadata": {
        "id": "8082ca7e"
      },
      "outputs": [],
      "source": [
        "#Basic library\n",
        "import numpy as np\n",
        "import pandas as pd\n",
        "import math\n",
        "import matplotlib.pyplot as plt\n",
        "\n",
        "#Sklearn\n",
        "from sklearn.model_selection import train_test_split\n",
        "from sklearn.metrics.pairwise import cosine_similarity\n",
        "from sklearn.feature_extraction.text import TfidfVectorizer\n",
        "\n",
        "#Surprise\n",
        "from surprise import Dataset, Reader, SVD\n",
        "from surprise.model_selection import train_test_split as tts"
      ]
    },
    {
      "cell_type": "code",
      "execution_count": 4,
      "id": "8b82b01d",
      "metadata": {
        "id": "8b82b01d"
      },
      "outputs": [],
      "source": [
        "df_items = pd.read_csv('/content/drive/MyDrive/Recommender System/Datasets/beauty_amazon_items - beauty_amazon_items.csv', encoding=\"utf8\")\n",
        "df_iter = pd.read_csv('/content/drive/MyDrive/Recommender System/Datasets/beauty_amazon_reviews - beauty_amazon_reviews.csv',encoding=\"utf8\")"
      ]
    },
    {
      "cell_type": "code",
      "execution_count": 5,
      "id": "0a8a7498",
      "metadata": {
        "scrolled": true,
        "colab": {
          "base_uri": "https://localhost:8080/",
          "height": 206
        },
        "id": "0a8a7498",
        "outputId": "30c5a484-f2ec-4056-9701-73a13c017588"
      },
      "outputs": [
        {
          "output_type": "execute_result",
          "data": {
            "text/plain": [
              "                                         Description  \\\n",
              "0  Loud 'N Clear Personal Sound Amplifier allows ...   \n",
              "1  No7 Lift & Luminate Triple Action Serum 50ml b...   \n",
              "2  No7 Stay Perfect Foundation now stays perfect ...   \n",
              "3                                                NaN   \n",
              "4  Lacto Calamine Skin Balance Daily Nourishing L...   \n",
              "\n",
              "                                               Title              Brand  \\\n",
              "0      Loud 'N Clear&trade; Personal Sound Amplifier       idea village   \n",
              "1  No7 Lift &amp; Luminate Triple Action Serum 50...                NaN   \n",
              "2    No7 Stay Perfect Foundation Cool Vanilla by No7                No7   \n",
              "3  Wella Koleston Perfect Hair Colour 44/44 Mediu...                NaN   \n",
              "4  Lacto Calamine Skin Balance Oil control 120 ml...  Pirmal Healthcare   \n",
              "\n",
              "    Price ItemId  \n",
              "0     NaN  P4924  \n",
              "1  $44.99  P4622  \n",
              "2  $28.76  P6435  \n",
              "3     NaN  P4623  \n",
              "4  $12.15     P7  "
            ],
            "text/html": [
              "\n",
              "\n",
              "  <div id=\"df-8174a5d6-3e59-4941-8764-e2645a1f5404\">\n",
              "    <div class=\"colab-df-container\">\n",
              "      <div>\n",
              "<style scoped>\n",
              "    .dataframe tbody tr th:only-of-type {\n",
              "        vertical-align: middle;\n",
              "    }\n",
              "\n",
              "    .dataframe tbody tr th {\n",
              "        vertical-align: top;\n",
              "    }\n",
              "\n",
              "    .dataframe thead th {\n",
              "        text-align: right;\n",
              "    }\n",
              "</style>\n",
              "<table border=\"1\" class=\"dataframe\">\n",
              "  <thead>\n",
              "    <tr style=\"text-align: right;\">\n",
              "      <th></th>\n",
              "      <th>Description</th>\n",
              "      <th>Title</th>\n",
              "      <th>Brand</th>\n",
              "      <th>Price</th>\n",
              "      <th>ItemId</th>\n",
              "    </tr>\n",
              "  </thead>\n",
              "  <tbody>\n",
              "    <tr>\n",
              "      <th>0</th>\n",
              "      <td>Loud 'N Clear Personal Sound Amplifier allows ...</td>\n",
              "      <td>Loud 'N Clear&amp;trade; Personal Sound Amplifier</td>\n",
              "      <td>idea village</td>\n",
              "      <td>NaN</td>\n",
              "      <td>P4924</td>\n",
              "    </tr>\n",
              "    <tr>\n",
              "      <th>1</th>\n",
              "      <td>No7 Lift &amp; Luminate Triple Action Serum 50ml b...</td>\n",
              "      <td>No7 Lift &amp;amp; Luminate Triple Action Serum 50...</td>\n",
              "      <td>NaN</td>\n",
              "      <td>$44.99</td>\n",
              "      <td>P4622</td>\n",
              "    </tr>\n",
              "    <tr>\n",
              "      <th>2</th>\n",
              "      <td>No7 Stay Perfect Foundation now stays perfect ...</td>\n",
              "      <td>No7 Stay Perfect Foundation Cool Vanilla by No7</td>\n",
              "      <td>No7</td>\n",
              "      <td>$28.76</td>\n",
              "      <td>P6435</td>\n",
              "    </tr>\n",
              "    <tr>\n",
              "      <th>3</th>\n",
              "      <td>NaN</td>\n",
              "      <td>Wella Koleston Perfect Hair Colour 44/44 Mediu...</td>\n",
              "      <td>NaN</td>\n",
              "      <td>NaN</td>\n",
              "      <td>P4623</td>\n",
              "    </tr>\n",
              "    <tr>\n",
              "      <th>4</th>\n",
              "      <td>Lacto Calamine Skin Balance Daily Nourishing L...</td>\n",
              "      <td>Lacto Calamine Skin Balance Oil control 120 ml...</td>\n",
              "      <td>Pirmal Healthcare</td>\n",
              "      <td>$12.15</td>\n",
              "      <td>P7</td>\n",
              "    </tr>\n",
              "  </tbody>\n",
              "</table>\n",
              "</div>\n",
              "      <button class=\"colab-df-convert\" onclick=\"convertToInteractive('df-8174a5d6-3e59-4941-8764-e2645a1f5404')\"\n",
              "              title=\"Convert this dataframe to an interactive table.\"\n",
              "              style=\"display:none;\">\n",
              "\n",
              "  <svg xmlns=\"http://www.w3.org/2000/svg\" height=\"24px\"viewBox=\"0 0 24 24\"\n",
              "       width=\"24px\">\n",
              "    <path d=\"M0 0h24v24H0V0z\" fill=\"none\"/>\n",
              "    <path d=\"M18.56 5.44l.94 2.06.94-2.06 2.06-.94-2.06-.94-.94-2.06-.94 2.06-2.06.94zm-11 1L8.5 8.5l.94-2.06 2.06-.94-2.06-.94L8.5 2.5l-.94 2.06-2.06.94zm10 10l.94 2.06.94-2.06 2.06-.94-2.06-.94-.94-2.06-.94 2.06-2.06.94z\"/><path d=\"M17.41 7.96l-1.37-1.37c-.4-.4-.92-.59-1.43-.59-.52 0-1.04.2-1.43.59L10.3 9.45l-7.72 7.72c-.78.78-.78 2.05 0 2.83L4 21.41c.39.39.9.59 1.41.59.51 0 1.02-.2 1.41-.59l7.78-7.78 2.81-2.81c.8-.78.8-2.07 0-2.86zM5.41 20L4 18.59l7.72-7.72 1.47 1.35L5.41 20z\"/>\n",
              "  </svg>\n",
              "      </button>\n",
              "\n",
              "\n",
              "\n",
              "    <div id=\"df-c35661e2-98db-44cd-b161-c090d44de0e9\">\n",
              "      <button class=\"colab-df-quickchart\" onclick=\"quickchart('df-c35661e2-98db-44cd-b161-c090d44de0e9')\"\n",
              "              title=\"Suggest charts.\"\n",
              "              style=\"display:none;\">\n",
              "\n",
              "<svg xmlns=\"http://www.w3.org/2000/svg\" height=\"24px\"viewBox=\"0 0 24 24\"\n",
              "     width=\"24px\">\n",
              "    <g>\n",
              "        <path d=\"M19 3H5c-1.1 0-2 .9-2 2v14c0 1.1.9 2 2 2h14c1.1 0 2-.9 2-2V5c0-1.1-.9-2-2-2zM9 17H7v-7h2v7zm4 0h-2V7h2v10zm4 0h-2v-4h2v4z\"/>\n",
              "    </g>\n",
              "</svg>\n",
              "      </button>\n",
              "    </div>\n",
              "\n",
              "<style>\n",
              "  .colab-df-quickchart {\n",
              "    background-color: #E8F0FE;\n",
              "    border: none;\n",
              "    border-radius: 50%;\n",
              "    cursor: pointer;\n",
              "    display: none;\n",
              "    fill: #1967D2;\n",
              "    height: 32px;\n",
              "    padding: 0 0 0 0;\n",
              "    width: 32px;\n",
              "  }\n",
              "\n",
              "  .colab-df-quickchart:hover {\n",
              "    background-color: #E2EBFA;\n",
              "    box-shadow: 0px 1px 2px rgba(60, 64, 67, 0.3), 0px 1px 3px 1px rgba(60, 64, 67, 0.15);\n",
              "    fill: #174EA6;\n",
              "  }\n",
              "\n",
              "  [theme=dark] .colab-df-quickchart {\n",
              "    background-color: #3B4455;\n",
              "    fill: #D2E3FC;\n",
              "  }\n",
              "\n",
              "  [theme=dark] .colab-df-quickchart:hover {\n",
              "    background-color: #434B5C;\n",
              "    box-shadow: 0px 1px 3px 1px rgba(0, 0, 0, 0.15);\n",
              "    filter: drop-shadow(0px 1px 2px rgba(0, 0, 0, 0.3));\n",
              "    fill: #FFFFFF;\n",
              "  }\n",
              "</style>\n",
              "\n",
              "    <script>\n",
              "      async function quickchart(key) {\n",
              "        const containerElement = document.querySelector('#' + key);\n",
              "        const charts = await google.colab.kernel.invokeFunction(\n",
              "            'suggestCharts', [key], {});\n",
              "      }\n",
              "    </script>\n",
              "\n",
              "      <script>\n",
              "\n",
              "function displayQuickchartButton(domScope) {\n",
              "  let quickchartButtonEl =\n",
              "    domScope.querySelector('#df-c35661e2-98db-44cd-b161-c090d44de0e9 button.colab-df-quickchart');\n",
              "  quickchartButtonEl.style.display =\n",
              "    google.colab.kernel.accessAllowed ? 'block' : 'none';\n",
              "}\n",
              "\n",
              "        displayQuickchartButton(document);\n",
              "      </script>\n",
              "      <style>\n",
              "    .colab-df-container {\n",
              "      display:flex;\n",
              "      flex-wrap:wrap;\n",
              "      gap: 12px;\n",
              "    }\n",
              "\n",
              "    .colab-df-convert {\n",
              "      background-color: #E8F0FE;\n",
              "      border: none;\n",
              "      border-radius: 50%;\n",
              "      cursor: pointer;\n",
              "      display: none;\n",
              "      fill: #1967D2;\n",
              "      height: 32px;\n",
              "      padding: 0 0 0 0;\n",
              "      width: 32px;\n",
              "    }\n",
              "\n",
              "    .colab-df-convert:hover {\n",
              "      background-color: #E2EBFA;\n",
              "      box-shadow: 0px 1px 2px rgba(60, 64, 67, 0.3), 0px 1px 3px 1px rgba(60, 64, 67, 0.15);\n",
              "      fill: #174EA6;\n",
              "    }\n",
              "\n",
              "    [theme=dark] .colab-df-convert {\n",
              "      background-color: #3B4455;\n",
              "      fill: #D2E3FC;\n",
              "    }\n",
              "\n",
              "    [theme=dark] .colab-df-convert:hover {\n",
              "      background-color: #434B5C;\n",
              "      box-shadow: 0px 1px 3px 1px rgba(0, 0, 0, 0.15);\n",
              "      filter: drop-shadow(0px 1px 2px rgba(0, 0, 0, 0.3));\n",
              "      fill: #FFFFFF;\n",
              "    }\n",
              "  </style>\n",
              "\n",
              "      <script>\n",
              "        const buttonEl =\n",
              "          document.querySelector('#df-8174a5d6-3e59-4941-8764-e2645a1f5404 button.colab-df-convert');\n",
              "        buttonEl.style.display =\n",
              "          google.colab.kernel.accessAllowed ? 'block' : 'none';\n",
              "\n",
              "        async function convertToInteractive(key) {\n",
              "          const element = document.querySelector('#df-8174a5d6-3e59-4941-8764-e2645a1f5404');\n",
              "          const dataTable =\n",
              "            await google.colab.kernel.invokeFunction('convertToInteractive',\n",
              "                                                     [key], {});\n",
              "          if (!dataTable) return;\n",
              "\n",
              "          const docLinkHtml = 'Like what you see? Visit the ' +\n",
              "            '<a target=\"_blank\" href=https://colab.research.google.com/notebooks/data_table.ipynb>data table notebook</a>'\n",
              "            + ' to learn more about interactive tables.';\n",
              "          element.innerHTML = '';\n",
              "          dataTable['output_type'] = 'display_data';\n",
              "          await google.colab.output.renderOutput(dataTable, element);\n",
              "          const docLink = document.createElement('div');\n",
              "          docLink.innerHTML = docLinkHtml;\n",
              "          element.appendChild(docLink);\n",
              "        }\n",
              "      </script>\n",
              "    </div>\n",
              "  </div>\n"
            ]
          },
          "metadata": {},
          "execution_count": 5
        }
      ],
      "source": [
        "df_items.head()"
      ]
    },
    {
      "cell_type": "code",
      "execution_count": 6,
      "id": "d6969a6d",
      "metadata": {
        "scrolled": true,
        "colab": {
          "base_uri": "https://localhost:8080/",
          "height": 206
        },
        "id": "d6969a6d",
        "outputId": "e7d60238-4d32-4c65-eb9b-803f5357c831"
      },
      "outputs": [
        {
          "output_type": "execute_result",
          "data": {
            "text/plain": [
              "   Rating         Time UserId ItemId  \\\n",
              "0       1  02 19, 2015     U0     P0   \n",
              "1       4  12 18, 2014     U1     P0   \n",
              "2       4  08 10, 2014     U2     P0   \n",
              "3       5  03 11, 2013     U3     P0   \n",
              "4       5  12 25, 2011     U4     P0   \n",
              "\n",
              "                                              Review  \\\n",
              "0                                              great   \n",
              "1  My  husband wanted to reading about the Negro ...   \n",
              "2  This book was very informative, covering all a...   \n",
              "3  I am already a baseball fan and knew a bit abo...   \n",
              "4  This was a good story of the Black leagues. I ...   \n",
              "\n",
              "                                             Summary  \n",
              "0                                           One Star  \n",
              "1  ... to reading about the Negro Baseball and th...  \n",
              "2                                     Worth the Read  \n",
              "3                                          Good Read  \n",
              "4                More than facts, a good story read!  "
            ],
            "text/html": [
              "\n",
              "\n",
              "  <div id=\"df-b1c9a04d-8f35-4016-9cda-683ae79c5809\">\n",
              "    <div class=\"colab-df-container\">\n",
              "      <div>\n",
              "<style scoped>\n",
              "    .dataframe tbody tr th:only-of-type {\n",
              "        vertical-align: middle;\n",
              "    }\n",
              "\n",
              "    .dataframe tbody tr th {\n",
              "        vertical-align: top;\n",
              "    }\n",
              "\n",
              "    .dataframe thead th {\n",
              "        text-align: right;\n",
              "    }\n",
              "</style>\n",
              "<table border=\"1\" class=\"dataframe\">\n",
              "  <thead>\n",
              "    <tr style=\"text-align: right;\">\n",
              "      <th></th>\n",
              "      <th>Rating</th>\n",
              "      <th>Time</th>\n",
              "      <th>UserId</th>\n",
              "      <th>ItemId</th>\n",
              "      <th>Review</th>\n",
              "      <th>Summary</th>\n",
              "    </tr>\n",
              "  </thead>\n",
              "  <tbody>\n",
              "    <tr>\n",
              "      <th>0</th>\n",
              "      <td>1</td>\n",
              "      <td>02 19, 2015</td>\n",
              "      <td>U0</td>\n",
              "      <td>P0</td>\n",
              "      <td>great</td>\n",
              "      <td>One Star</td>\n",
              "    </tr>\n",
              "    <tr>\n",
              "      <th>1</th>\n",
              "      <td>4</td>\n",
              "      <td>12 18, 2014</td>\n",
              "      <td>U1</td>\n",
              "      <td>P0</td>\n",
              "      <td>My  husband wanted to reading about the Negro ...</td>\n",
              "      <td>... to reading about the Negro Baseball and th...</td>\n",
              "    </tr>\n",
              "    <tr>\n",
              "      <th>2</th>\n",
              "      <td>4</td>\n",
              "      <td>08 10, 2014</td>\n",
              "      <td>U2</td>\n",
              "      <td>P0</td>\n",
              "      <td>This book was very informative, covering all a...</td>\n",
              "      <td>Worth the Read</td>\n",
              "    </tr>\n",
              "    <tr>\n",
              "      <th>3</th>\n",
              "      <td>5</td>\n",
              "      <td>03 11, 2013</td>\n",
              "      <td>U3</td>\n",
              "      <td>P0</td>\n",
              "      <td>I am already a baseball fan and knew a bit abo...</td>\n",
              "      <td>Good Read</td>\n",
              "    </tr>\n",
              "    <tr>\n",
              "      <th>4</th>\n",
              "      <td>5</td>\n",
              "      <td>12 25, 2011</td>\n",
              "      <td>U4</td>\n",
              "      <td>P0</td>\n",
              "      <td>This was a good story of the Black leagues. I ...</td>\n",
              "      <td>More than facts, a good story read!</td>\n",
              "    </tr>\n",
              "  </tbody>\n",
              "</table>\n",
              "</div>\n",
              "      <button class=\"colab-df-convert\" onclick=\"convertToInteractive('df-b1c9a04d-8f35-4016-9cda-683ae79c5809')\"\n",
              "              title=\"Convert this dataframe to an interactive table.\"\n",
              "              style=\"display:none;\">\n",
              "\n",
              "  <svg xmlns=\"http://www.w3.org/2000/svg\" height=\"24px\"viewBox=\"0 0 24 24\"\n",
              "       width=\"24px\">\n",
              "    <path d=\"M0 0h24v24H0V0z\" fill=\"none\"/>\n",
              "    <path d=\"M18.56 5.44l.94 2.06.94-2.06 2.06-.94-2.06-.94-.94-2.06-.94 2.06-2.06.94zm-11 1L8.5 8.5l.94-2.06 2.06-.94-2.06-.94L8.5 2.5l-.94 2.06-2.06.94zm10 10l.94 2.06.94-2.06 2.06-.94-2.06-.94-.94-2.06-.94 2.06-2.06.94z\"/><path d=\"M17.41 7.96l-1.37-1.37c-.4-.4-.92-.59-1.43-.59-.52 0-1.04.2-1.43.59L10.3 9.45l-7.72 7.72c-.78.78-.78 2.05 0 2.83L4 21.41c.39.39.9.59 1.41.59.51 0 1.02-.2 1.41-.59l7.78-7.78 2.81-2.81c.8-.78.8-2.07 0-2.86zM5.41 20L4 18.59l7.72-7.72 1.47 1.35L5.41 20z\"/>\n",
              "  </svg>\n",
              "      </button>\n",
              "\n",
              "\n",
              "\n",
              "    <div id=\"df-6c9ccde7-d5fb-417f-8c4c-bf7c5cf56537\">\n",
              "      <button class=\"colab-df-quickchart\" onclick=\"quickchart('df-6c9ccde7-d5fb-417f-8c4c-bf7c5cf56537')\"\n",
              "              title=\"Suggest charts.\"\n",
              "              style=\"display:none;\">\n",
              "\n",
              "<svg xmlns=\"http://www.w3.org/2000/svg\" height=\"24px\"viewBox=\"0 0 24 24\"\n",
              "     width=\"24px\">\n",
              "    <g>\n",
              "        <path d=\"M19 3H5c-1.1 0-2 .9-2 2v14c0 1.1.9 2 2 2h14c1.1 0 2-.9 2-2V5c0-1.1-.9-2-2-2zM9 17H7v-7h2v7zm4 0h-2V7h2v10zm4 0h-2v-4h2v4z\"/>\n",
              "    </g>\n",
              "</svg>\n",
              "      </button>\n",
              "    </div>\n",
              "\n",
              "<style>\n",
              "  .colab-df-quickchart {\n",
              "    background-color: #E8F0FE;\n",
              "    border: none;\n",
              "    border-radius: 50%;\n",
              "    cursor: pointer;\n",
              "    display: none;\n",
              "    fill: #1967D2;\n",
              "    height: 32px;\n",
              "    padding: 0 0 0 0;\n",
              "    width: 32px;\n",
              "  }\n",
              "\n",
              "  .colab-df-quickchart:hover {\n",
              "    background-color: #E2EBFA;\n",
              "    box-shadow: 0px 1px 2px rgba(60, 64, 67, 0.3), 0px 1px 3px 1px rgba(60, 64, 67, 0.15);\n",
              "    fill: #174EA6;\n",
              "  }\n",
              "\n",
              "  [theme=dark] .colab-df-quickchart {\n",
              "    background-color: #3B4455;\n",
              "    fill: #D2E3FC;\n",
              "  }\n",
              "\n",
              "  [theme=dark] .colab-df-quickchart:hover {\n",
              "    background-color: #434B5C;\n",
              "    box-shadow: 0px 1px 3px 1px rgba(0, 0, 0, 0.15);\n",
              "    filter: drop-shadow(0px 1px 2px rgba(0, 0, 0, 0.3));\n",
              "    fill: #FFFFFF;\n",
              "  }\n",
              "</style>\n",
              "\n",
              "    <script>\n",
              "      async function quickchart(key) {\n",
              "        const containerElement = document.querySelector('#' + key);\n",
              "        const charts = await google.colab.kernel.invokeFunction(\n",
              "            'suggestCharts', [key], {});\n",
              "      }\n",
              "    </script>\n",
              "\n",
              "      <script>\n",
              "\n",
              "function displayQuickchartButton(domScope) {\n",
              "  let quickchartButtonEl =\n",
              "    domScope.querySelector('#df-6c9ccde7-d5fb-417f-8c4c-bf7c5cf56537 button.colab-df-quickchart');\n",
              "  quickchartButtonEl.style.display =\n",
              "    google.colab.kernel.accessAllowed ? 'block' : 'none';\n",
              "}\n",
              "\n",
              "        displayQuickchartButton(document);\n",
              "      </script>\n",
              "      <style>\n",
              "    .colab-df-container {\n",
              "      display:flex;\n",
              "      flex-wrap:wrap;\n",
              "      gap: 12px;\n",
              "    }\n",
              "\n",
              "    .colab-df-convert {\n",
              "      background-color: #E8F0FE;\n",
              "      border: none;\n",
              "      border-radius: 50%;\n",
              "      cursor: pointer;\n",
              "      display: none;\n",
              "      fill: #1967D2;\n",
              "      height: 32px;\n",
              "      padding: 0 0 0 0;\n",
              "      width: 32px;\n",
              "    }\n",
              "\n",
              "    .colab-df-convert:hover {\n",
              "      background-color: #E2EBFA;\n",
              "      box-shadow: 0px 1px 2px rgba(60, 64, 67, 0.3), 0px 1px 3px 1px rgba(60, 64, 67, 0.15);\n",
              "      fill: #174EA6;\n",
              "    }\n",
              "\n",
              "    [theme=dark] .colab-df-convert {\n",
              "      background-color: #3B4455;\n",
              "      fill: #D2E3FC;\n",
              "    }\n",
              "\n",
              "    [theme=dark] .colab-df-convert:hover {\n",
              "      background-color: #434B5C;\n",
              "      box-shadow: 0px 1px 3px 1px rgba(0, 0, 0, 0.15);\n",
              "      filter: drop-shadow(0px 1px 2px rgba(0, 0, 0, 0.3));\n",
              "      fill: #FFFFFF;\n",
              "    }\n",
              "  </style>\n",
              "\n",
              "      <script>\n",
              "        const buttonEl =\n",
              "          document.querySelector('#df-b1c9a04d-8f35-4016-9cda-683ae79c5809 button.colab-df-convert');\n",
              "        buttonEl.style.display =\n",
              "          google.colab.kernel.accessAllowed ? 'block' : 'none';\n",
              "\n",
              "        async function convertToInteractive(key) {\n",
              "          const element = document.querySelector('#df-b1c9a04d-8f35-4016-9cda-683ae79c5809');\n",
              "          const dataTable =\n",
              "            await google.colab.kernel.invokeFunction('convertToInteractive',\n",
              "                                                     [key], {});\n",
              "          if (!dataTable) return;\n",
              "\n",
              "          const docLinkHtml = 'Like what you see? Visit the ' +\n",
              "            '<a target=\"_blank\" href=https://colab.research.google.com/notebooks/data_table.ipynb>data table notebook</a>'\n",
              "            + ' to learn more about interactive tables.';\n",
              "          element.innerHTML = '';\n",
              "          dataTable['output_type'] = 'display_data';\n",
              "          await google.colab.output.renderOutput(dataTable, element);\n",
              "          const docLink = document.createElement('div');\n",
              "          docLink.innerHTML = docLinkHtml;\n",
              "          element.appendChild(docLink);\n",
              "        }\n",
              "      </script>\n",
              "    </div>\n",
              "  </div>\n"
            ]
          },
          "metadata": {},
          "execution_count": 6
        }
      ],
      "source": [
        "df_iter.head()"
      ]
    },
    {
      "cell_type": "markdown",
      "id": "9e195d44",
      "metadata": {
        "heading_collapsed": true,
        "id": "9e195d44"
      },
      "source": [
        "# 1. Data Exploration"
      ]
    },
    {
      "cell_type": "markdown",
      "id": "8bcc34db",
      "metadata": {
        "heading_collapsed": true,
        "hidden": true,
        "id": "8bcc34db"
      },
      "source": [
        "## 1.1 Item dataset"
      ]
    },
    {
      "cell_type": "code",
      "execution_count": 7,
      "id": "a5847cb0",
      "metadata": {
        "hidden": true,
        "colab": {
          "base_uri": "https://localhost:8080/"
        },
        "id": "a5847cb0",
        "outputId": "20a43c73-8cb3-43a7-b728-acb2c6e5125e"
      },
      "outputs": [
        {
          "output_type": "stream",
          "name": "stdout",
          "text": [
            "<class 'pandas.core.frame.DataFrame'>\n",
            "RangeIndex: 32890 entries, 0 to 32889\n",
            "Data columns (total 5 columns):\n",
            " #   Column       Non-Null Count  Dtype \n",
            "---  ------       --------------  ----- \n",
            " 0   Description  14581 non-null  object\n",
            " 1   Title        32889 non-null  object\n",
            " 2   Brand        17217 non-null  object\n",
            " 3   Price        11459 non-null  object\n",
            " 4   ItemId       32890 non-null  object\n",
            "dtypes: object(5)\n",
            "memory usage: 1.3+ MB\n"
          ]
        }
      ],
      "source": [
        "#Overview\n",
        "df_items.info()"
      ]
    },
    {
      "cell_type": "markdown",
      "id": "c0ab1ff1",
      "metadata": {
        "heading_collapsed": true,
        "hidden": true,
        "id": "c0ab1ff1"
      },
      "source": [
        "### 1.1.1 Missing value"
      ]
    },
    {
      "cell_type": "code",
      "execution_count": 8,
      "id": "47b48adc",
      "metadata": {
        "hidden": true,
        "scrolled": false,
        "colab": {
          "base_uri": "https://localhost:8080/"
        },
        "id": "47b48adc",
        "outputId": "afe713f5-80ed-4217-e335-56a5b01fea77"
      },
      "outputs": [
        {
          "output_type": "execute_result",
          "data": {
            "text/plain": [
              "Description    18309\n",
              "Title              1\n",
              "Brand          15673\n",
              "Price          21431\n",
              "ItemId             0\n",
              "dtype: int64"
            ]
          },
          "metadata": {},
          "execution_count": 8
        }
      ],
      "source": [
        "#Missing value\n",
        "df_items.isnull().sum()"
      ]
    },
    {
      "cell_type": "code",
      "execution_count": 9,
      "id": "4ccd14f7",
      "metadata": {
        "hidden": true,
        "colab": {
          "base_uri": "https://localhost:8080/",
          "height": 0
        },
        "id": "4ccd14f7",
        "outputId": "f0c77091-1c51-4264-d23a-c97979aeede4"
      },
      "outputs": [
        {
          "output_type": "execute_result",
          "data": {
            "text/plain": [
              "      Description Title Brand           Price ItemId\n",
              "27016         NaN   NaN   BCW  $2.89 - $13.99  P3733"
            ],
            "text/html": [
              "\n",
              "\n",
              "  <div id=\"df-71ae591c-8002-487a-a718-fee0d7b6bd6f\">\n",
              "    <div class=\"colab-df-container\">\n",
              "      <div>\n",
              "<style scoped>\n",
              "    .dataframe tbody tr th:only-of-type {\n",
              "        vertical-align: middle;\n",
              "    }\n",
              "\n",
              "    .dataframe tbody tr th {\n",
              "        vertical-align: top;\n",
              "    }\n",
              "\n",
              "    .dataframe thead th {\n",
              "        text-align: right;\n",
              "    }\n",
              "</style>\n",
              "<table border=\"1\" class=\"dataframe\">\n",
              "  <thead>\n",
              "    <tr style=\"text-align: right;\">\n",
              "      <th></th>\n",
              "      <th>Description</th>\n",
              "      <th>Title</th>\n",
              "      <th>Brand</th>\n",
              "      <th>Price</th>\n",
              "      <th>ItemId</th>\n",
              "    </tr>\n",
              "  </thead>\n",
              "  <tbody>\n",
              "    <tr>\n",
              "      <th>27016</th>\n",
              "      <td>NaN</td>\n",
              "      <td>NaN</td>\n",
              "      <td>BCW</td>\n",
              "      <td>$2.89 - $13.99</td>\n",
              "      <td>P3733</td>\n",
              "    </tr>\n",
              "  </tbody>\n",
              "</table>\n",
              "</div>\n",
              "      <button class=\"colab-df-convert\" onclick=\"convertToInteractive('df-71ae591c-8002-487a-a718-fee0d7b6bd6f')\"\n",
              "              title=\"Convert this dataframe to an interactive table.\"\n",
              "              style=\"display:none;\">\n",
              "\n",
              "  <svg xmlns=\"http://www.w3.org/2000/svg\" height=\"24px\"viewBox=\"0 0 24 24\"\n",
              "       width=\"24px\">\n",
              "    <path d=\"M0 0h24v24H0V0z\" fill=\"none\"/>\n",
              "    <path d=\"M18.56 5.44l.94 2.06.94-2.06 2.06-.94-2.06-.94-.94-2.06-.94 2.06-2.06.94zm-11 1L8.5 8.5l.94-2.06 2.06-.94-2.06-.94L8.5 2.5l-.94 2.06-2.06.94zm10 10l.94 2.06.94-2.06 2.06-.94-2.06-.94-.94-2.06-.94 2.06-2.06.94z\"/><path d=\"M17.41 7.96l-1.37-1.37c-.4-.4-.92-.59-1.43-.59-.52 0-1.04.2-1.43.59L10.3 9.45l-7.72 7.72c-.78.78-.78 2.05 0 2.83L4 21.41c.39.39.9.59 1.41.59.51 0 1.02-.2 1.41-.59l7.78-7.78 2.81-2.81c.8-.78.8-2.07 0-2.86zM5.41 20L4 18.59l7.72-7.72 1.47 1.35L5.41 20z\"/>\n",
              "  </svg>\n",
              "      </button>\n",
              "\n",
              "\n",
              "\n",
              "    <div id=\"df-8c5163d2-1d5f-48e9-b259-d216cd831ccc\">\n",
              "      <button class=\"colab-df-quickchart\" onclick=\"quickchart('df-8c5163d2-1d5f-48e9-b259-d216cd831ccc')\"\n",
              "              title=\"Suggest charts.\"\n",
              "              style=\"display:none;\">\n",
              "\n",
              "<svg xmlns=\"http://www.w3.org/2000/svg\" height=\"24px\"viewBox=\"0 0 24 24\"\n",
              "     width=\"24px\">\n",
              "    <g>\n",
              "        <path d=\"M19 3H5c-1.1 0-2 .9-2 2v14c0 1.1.9 2 2 2h14c1.1 0 2-.9 2-2V5c0-1.1-.9-2-2-2zM9 17H7v-7h2v7zm4 0h-2V7h2v10zm4 0h-2v-4h2v4z\"/>\n",
              "    </g>\n",
              "</svg>\n",
              "      </button>\n",
              "    </div>\n",
              "\n",
              "<style>\n",
              "  .colab-df-quickchart {\n",
              "    background-color: #E8F0FE;\n",
              "    border: none;\n",
              "    border-radius: 50%;\n",
              "    cursor: pointer;\n",
              "    display: none;\n",
              "    fill: #1967D2;\n",
              "    height: 32px;\n",
              "    padding: 0 0 0 0;\n",
              "    width: 32px;\n",
              "  }\n",
              "\n",
              "  .colab-df-quickchart:hover {\n",
              "    background-color: #E2EBFA;\n",
              "    box-shadow: 0px 1px 2px rgba(60, 64, 67, 0.3), 0px 1px 3px 1px rgba(60, 64, 67, 0.15);\n",
              "    fill: #174EA6;\n",
              "  }\n",
              "\n",
              "  [theme=dark] .colab-df-quickchart {\n",
              "    background-color: #3B4455;\n",
              "    fill: #D2E3FC;\n",
              "  }\n",
              "\n",
              "  [theme=dark] .colab-df-quickchart:hover {\n",
              "    background-color: #434B5C;\n",
              "    box-shadow: 0px 1px 3px 1px rgba(0, 0, 0, 0.15);\n",
              "    filter: drop-shadow(0px 1px 2px rgba(0, 0, 0, 0.3));\n",
              "    fill: #FFFFFF;\n",
              "  }\n",
              "</style>\n",
              "\n",
              "    <script>\n",
              "      async function quickchart(key) {\n",
              "        const containerElement = document.querySelector('#' + key);\n",
              "        const charts = await google.colab.kernel.invokeFunction(\n",
              "            'suggestCharts', [key], {});\n",
              "      }\n",
              "    </script>\n",
              "\n",
              "      <script>\n",
              "\n",
              "function displayQuickchartButton(domScope) {\n",
              "  let quickchartButtonEl =\n",
              "    domScope.querySelector('#df-8c5163d2-1d5f-48e9-b259-d216cd831ccc button.colab-df-quickchart');\n",
              "  quickchartButtonEl.style.display =\n",
              "    google.colab.kernel.accessAllowed ? 'block' : 'none';\n",
              "}\n",
              "\n",
              "        displayQuickchartButton(document);\n",
              "      </script>\n",
              "      <style>\n",
              "    .colab-df-container {\n",
              "      display:flex;\n",
              "      flex-wrap:wrap;\n",
              "      gap: 12px;\n",
              "    }\n",
              "\n",
              "    .colab-df-convert {\n",
              "      background-color: #E8F0FE;\n",
              "      border: none;\n",
              "      border-radius: 50%;\n",
              "      cursor: pointer;\n",
              "      display: none;\n",
              "      fill: #1967D2;\n",
              "      height: 32px;\n",
              "      padding: 0 0 0 0;\n",
              "      width: 32px;\n",
              "    }\n",
              "\n",
              "    .colab-df-convert:hover {\n",
              "      background-color: #E2EBFA;\n",
              "      box-shadow: 0px 1px 2px rgba(60, 64, 67, 0.3), 0px 1px 3px 1px rgba(60, 64, 67, 0.15);\n",
              "      fill: #174EA6;\n",
              "    }\n",
              "\n",
              "    [theme=dark] .colab-df-convert {\n",
              "      background-color: #3B4455;\n",
              "      fill: #D2E3FC;\n",
              "    }\n",
              "\n",
              "    [theme=dark] .colab-df-convert:hover {\n",
              "      background-color: #434B5C;\n",
              "      box-shadow: 0px 1px 3px 1px rgba(0, 0, 0, 0.15);\n",
              "      filter: drop-shadow(0px 1px 2px rgba(0, 0, 0, 0.3));\n",
              "      fill: #FFFFFF;\n",
              "    }\n",
              "  </style>\n",
              "\n",
              "      <script>\n",
              "        const buttonEl =\n",
              "          document.querySelector('#df-71ae591c-8002-487a-a718-fee0d7b6bd6f button.colab-df-convert');\n",
              "        buttonEl.style.display =\n",
              "          google.colab.kernel.accessAllowed ? 'block' : 'none';\n",
              "\n",
              "        async function convertToInteractive(key) {\n",
              "          const element = document.querySelector('#df-71ae591c-8002-487a-a718-fee0d7b6bd6f');\n",
              "          const dataTable =\n",
              "            await google.colab.kernel.invokeFunction('convertToInteractive',\n",
              "                                                     [key], {});\n",
              "          if (!dataTable) return;\n",
              "\n",
              "          const docLinkHtml = 'Like what you see? Visit the ' +\n",
              "            '<a target=\"_blank\" href=https://colab.research.google.com/notebooks/data_table.ipynb>data table notebook</a>'\n",
              "            + ' to learn more about interactive tables.';\n",
              "          element.innerHTML = '';\n",
              "          dataTable['output_type'] = 'display_data';\n",
              "          await google.colab.output.renderOutput(dataTable, element);\n",
              "          const docLink = document.createElement('div');\n",
              "          docLink.innerHTML = docLinkHtml;\n",
              "          element.appendChild(docLink);\n",
              "        }\n",
              "      </script>\n",
              "    </div>\n",
              "  </div>\n"
            ]
          },
          "metadata": {},
          "execution_count": 9
        }
      ],
      "source": [
        "df_items[df_items['Title'].isnull() == True]"
      ]
    },
    {
      "cell_type": "markdown",
      "id": "91227beb",
      "metadata": {
        "hidden": true,
        "id": "91227beb"
      },
      "source": [
        "<p>In this project, only ItemId and Title is important. So we delete the row with missing Title.</p> <br/>\n",
        "<b> However, if we delete the item, we have to delete all the interactions according to this item.</b>"
      ]
    },
    {
      "cell_type": "markdown",
      "id": "f0dbbd79",
      "metadata": {
        "heading_collapsed": true,
        "hidden": true,
        "id": "f0dbbd79"
      },
      "source": [
        "### 1.1.2 Duplicate check"
      ]
    },
    {
      "cell_type": "code",
      "execution_count": 10,
      "id": "36d779d4",
      "metadata": {
        "hidden": true,
        "colab": {
          "base_uri": "https://localhost:8080/"
        },
        "id": "36d779d4",
        "outputId": "79c1fbc0-8955-458a-8855-060b0fddae14"
      },
      "outputs": [
        {
          "output_type": "execute_result",
          "data": {
            "text/plain": [
              "404"
            ]
          },
          "metadata": {},
          "execution_count": 10
        }
      ],
      "source": [
        "# Duplicates\n",
        "df_items.duplicated().sum()"
      ]
    },
    {
      "cell_type": "code",
      "execution_count": 11,
      "id": "7d095b4e",
      "metadata": {
        "hidden": true,
        "colab": {
          "base_uri": "https://localhost:8080/",
          "height": 0
        },
        "id": "7d095b4e",
        "outputId": "35ded0ad-572f-431b-f934-961f59e7d0e4"
      },
      "outputs": [
        {
          "output_type": "execute_result",
          "data": {
            "text/plain": [
              "                             Description                                Title  \\\n",
              "424  Ultra (Box of 10) Corn Plane Blades  Ultra (Box of 10) Corn Plane Blades   \n",
              "828  Ultra (Box of 10) Corn Plane Blades  Ultra (Box of 10) Corn Plane Blades   \n",
              "\n",
              "     Brand  Price ItemId  \n",
              "424  Ultra  $8.00  P4821  \n",
              "828  Ultra  $8.00  P4821  "
            ],
            "text/html": [
              "\n",
              "\n",
              "  <div id=\"df-2de488ba-4c5b-4928-9bc1-d3fb10e43e8f\">\n",
              "    <div class=\"colab-df-container\">\n",
              "      <div>\n",
              "<style scoped>\n",
              "    .dataframe tbody tr th:only-of-type {\n",
              "        vertical-align: middle;\n",
              "    }\n",
              "\n",
              "    .dataframe tbody tr th {\n",
              "        vertical-align: top;\n",
              "    }\n",
              "\n",
              "    .dataframe thead th {\n",
              "        text-align: right;\n",
              "    }\n",
              "</style>\n",
              "<table border=\"1\" class=\"dataframe\">\n",
              "  <thead>\n",
              "    <tr style=\"text-align: right;\">\n",
              "      <th></th>\n",
              "      <th>Description</th>\n",
              "      <th>Title</th>\n",
              "      <th>Brand</th>\n",
              "      <th>Price</th>\n",
              "      <th>ItemId</th>\n",
              "    </tr>\n",
              "  </thead>\n",
              "  <tbody>\n",
              "    <tr>\n",
              "      <th>424</th>\n",
              "      <td>Ultra (Box of 10) Corn Plane Blades</td>\n",
              "      <td>Ultra (Box of 10) Corn Plane Blades</td>\n",
              "      <td>Ultra</td>\n",
              "      <td>$8.00</td>\n",
              "      <td>P4821</td>\n",
              "    </tr>\n",
              "    <tr>\n",
              "      <th>828</th>\n",
              "      <td>Ultra (Box of 10) Corn Plane Blades</td>\n",
              "      <td>Ultra (Box of 10) Corn Plane Blades</td>\n",
              "      <td>Ultra</td>\n",
              "      <td>$8.00</td>\n",
              "      <td>P4821</td>\n",
              "    </tr>\n",
              "  </tbody>\n",
              "</table>\n",
              "</div>\n",
              "      <button class=\"colab-df-convert\" onclick=\"convertToInteractive('df-2de488ba-4c5b-4928-9bc1-d3fb10e43e8f')\"\n",
              "              title=\"Convert this dataframe to an interactive table.\"\n",
              "              style=\"display:none;\">\n",
              "\n",
              "  <svg xmlns=\"http://www.w3.org/2000/svg\" height=\"24px\"viewBox=\"0 0 24 24\"\n",
              "       width=\"24px\">\n",
              "    <path d=\"M0 0h24v24H0V0z\" fill=\"none\"/>\n",
              "    <path d=\"M18.56 5.44l.94 2.06.94-2.06 2.06-.94-2.06-.94-.94-2.06-.94 2.06-2.06.94zm-11 1L8.5 8.5l.94-2.06 2.06-.94-2.06-.94L8.5 2.5l-.94 2.06-2.06.94zm10 10l.94 2.06.94-2.06 2.06-.94-2.06-.94-.94-2.06-.94 2.06-2.06.94z\"/><path d=\"M17.41 7.96l-1.37-1.37c-.4-.4-.92-.59-1.43-.59-.52 0-1.04.2-1.43.59L10.3 9.45l-7.72 7.72c-.78.78-.78 2.05 0 2.83L4 21.41c.39.39.9.59 1.41.59.51 0 1.02-.2 1.41-.59l7.78-7.78 2.81-2.81c.8-.78.8-2.07 0-2.86zM5.41 20L4 18.59l7.72-7.72 1.47 1.35L5.41 20z\"/>\n",
              "  </svg>\n",
              "      </button>\n",
              "\n",
              "\n",
              "\n",
              "    <div id=\"df-bf2e7d52-0787-4fc8-b1b5-6d77e5bc12aa\">\n",
              "      <button class=\"colab-df-quickchart\" onclick=\"quickchart('df-bf2e7d52-0787-4fc8-b1b5-6d77e5bc12aa')\"\n",
              "              title=\"Suggest charts.\"\n",
              "              style=\"display:none;\">\n",
              "\n",
              "<svg xmlns=\"http://www.w3.org/2000/svg\" height=\"24px\"viewBox=\"0 0 24 24\"\n",
              "     width=\"24px\">\n",
              "    <g>\n",
              "        <path d=\"M19 3H5c-1.1 0-2 .9-2 2v14c0 1.1.9 2 2 2h14c1.1 0 2-.9 2-2V5c0-1.1-.9-2-2-2zM9 17H7v-7h2v7zm4 0h-2V7h2v10zm4 0h-2v-4h2v4z\"/>\n",
              "    </g>\n",
              "</svg>\n",
              "      </button>\n",
              "    </div>\n",
              "\n",
              "<style>\n",
              "  .colab-df-quickchart {\n",
              "    background-color: #E8F0FE;\n",
              "    border: none;\n",
              "    border-radius: 50%;\n",
              "    cursor: pointer;\n",
              "    display: none;\n",
              "    fill: #1967D2;\n",
              "    height: 32px;\n",
              "    padding: 0 0 0 0;\n",
              "    width: 32px;\n",
              "  }\n",
              "\n",
              "  .colab-df-quickchart:hover {\n",
              "    background-color: #E2EBFA;\n",
              "    box-shadow: 0px 1px 2px rgba(60, 64, 67, 0.3), 0px 1px 3px 1px rgba(60, 64, 67, 0.15);\n",
              "    fill: #174EA6;\n",
              "  }\n",
              "\n",
              "  [theme=dark] .colab-df-quickchart {\n",
              "    background-color: #3B4455;\n",
              "    fill: #D2E3FC;\n",
              "  }\n",
              "\n",
              "  [theme=dark] .colab-df-quickchart:hover {\n",
              "    background-color: #434B5C;\n",
              "    box-shadow: 0px 1px 3px 1px rgba(0, 0, 0, 0.15);\n",
              "    filter: drop-shadow(0px 1px 2px rgba(0, 0, 0, 0.3));\n",
              "    fill: #FFFFFF;\n",
              "  }\n",
              "</style>\n",
              "\n",
              "    <script>\n",
              "      async function quickchart(key) {\n",
              "        const containerElement = document.querySelector('#' + key);\n",
              "        const charts = await google.colab.kernel.invokeFunction(\n",
              "            'suggestCharts', [key], {});\n",
              "      }\n",
              "    </script>\n",
              "\n",
              "      <script>\n",
              "\n",
              "function displayQuickchartButton(domScope) {\n",
              "  let quickchartButtonEl =\n",
              "    domScope.querySelector('#df-bf2e7d52-0787-4fc8-b1b5-6d77e5bc12aa button.colab-df-quickchart');\n",
              "  quickchartButtonEl.style.display =\n",
              "    google.colab.kernel.accessAllowed ? 'block' : 'none';\n",
              "}\n",
              "\n",
              "        displayQuickchartButton(document);\n",
              "      </script>\n",
              "      <style>\n",
              "    .colab-df-container {\n",
              "      display:flex;\n",
              "      flex-wrap:wrap;\n",
              "      gap: 12px;\n",
              "    }\n",
              "\n",
              "    .colab-df-convert {\n",
              "      background-color: #E8F0FE;\n",
              "      border: none;\n",
              "      border-radius: 50%;\n",
              "      cursor: pointer;\n",
              "      display: none;\n",
              "      fill: #1967D2;\n",
              "      height: 32px;\n",
              "      padding: 0 0 0 0;\n",
              "      width: 32px;\n",
              "    }\n",
              "\n",
              "    .colab-df-convert:hover {\n",
              "      background-color: #E2EBFA;\n",
              "      box-shadow: 0px 1px 2px rgba(60, 64, 67, 0.3), 0px 1px 3px 1px rgba(60, 64, 67, 0.15);\n",
              "      fill: #174EA6;\n",
              "    }\n",
              "\n",
              "    [theme=dark] .colab-df-convert {\n",
              "      background-color: #3B4455;\n",
              "      fill: #D2E3FC;\n",
              "    }\n",
              "\n",
              "    [theme=dark] .colab-df-convert:hover {\n",
              "      background-color: #434B5C;\n",
              "      box-shadow: 0px 1px 3px 1px rgba(0, 0, 0, 0.15);\n",
              "      filter: drop-shadow(0px 1px 2px rgba(0, 0, 0, 0.3));\n",
              "      fill: #FFFFFF;\n",
              "    }\n",
              "  </style>\n",
              "\n",
              "      <script>\n",
              "        const buttonEl =\n",
              "          document.querySelector('#df-2de488ba-4c5b-4928-9bc1-d3fb10e43e8f button.colab-df-convert');\n",
              "        buttonEl.style.display =\n",
              "          google.colab.kernel.accessAllowed ? 'block' : 'none';\n",
              "\n",
              "        async function convertToInteractive(key) {\n",
              "          const element = document.querySelector('#df-2de488ba-4c5b-4928-9bc1-d3fb10e43e8f');\n",
              "          const dataTable =\n",
              "            await google.colab.kernel.invokeFunction('convertToInteractive',\n",
              "                                                     [key], {});\n",
              "          if (!dataTable) return;\n",
              "\n",
              "          const docLinkHtml = 'Like what you see? Visit the ' +\n",
              "            '<a target=\"_blank\" href=https://colab.research.google.com/notebooks/data_table.ipynb>data table notebook</a>'\n",
              "            + ' to learn more about interactive tables.';\n",
              "          element.innerHTML = '';\n",
              "          dataTable['output_type'] = 'display_data';\n",
              "          await google.colab.output.renderOutput(dataTable, element);\n",
              "          const docLink = document.createElement('div');\n",
              "          docLink.innerHTML = docLinkHtml;\n",
              "          element.appendChild(docLink);\n",
              "        }\n",
              "      </script>\n",
              "    </div>\n",
              "  </div>\n"
            ]
          },
          "metadata": {},
          "execution_count": 11
        }
      ],
      "source": [
        "df_items[df_items['Description'] == 'Ultra (Box of 10) Corn Plane Blades']"
      ]
    },
    {
      "cell_type": "markdown",
      "id": "b862459a",
      "metadata": {
        "hidden": true,
        "id": "b862459a"
      },
      "source": [
        "It varified the duplicates really exist!"
      ]
    },
    {
      "cell_type": "markdown",
      "id": "53a8335a",
      "metadata": {
        "heading_collapsed": true,
        "hidden": true,
        "id": "53a8335a"
      },
      "source": [
        "## 1.2 Iteraction dataset"
      ]
    },
    {
      "cell_type": "markdown",
      "id": "23b72a71",
      "metadata": {
        "heading_collapsed": true,
        "hidden": true,
        "id": "23b72a71"
      },
      "source": [
        "### 1.2.1 Missing value"
      ]
    },
    {
      "cell_type": "code",
      "execution_count": 12,
      "id": "d3bc1573",
      "metadata": {
        "hidden": true,
        "colab": {
          "base_uri": "https://localhost:8080/"
        },
        "id": "d3bc1573",
        "outputId": "988aa983-db80-412f-8294-e4005d9ced06"
      },
      "outputs": [
        {
          "output_type": "execute_result",
          "data": {
            "text/plain": [
              "Rating       0\n",
              "Time         0\n",
              "UserId       0\n",
              "ItemId       0\n",
              "Review     399\n",
              "Summary    213\n",
              "dtype: int64"
            ]
          },
          "metadata": {},
          "execution_count": 12
        }
      ],
      "source": [
        "#Missing value\n",
        "df_iter.isnull().sum()"
      ]
    },
    {
      "cell_type": "code",
      "execution_count": 13,
      "id": "172857b0",
      "metadata": {
        "hidden": true,
        "scrolled": true,
        "colab": {
          "base_uri": "https://localhost:8080/",
          "height": 0
        },
        "id": "172857b0",
        "outputId": "592ae803-7a18-4bfc-88d1-2fa6282264d2"
      },
      "outputs": [
        {
          "output_type": "execute_result",
          "data": {
            "text/plain": [
              "Empty DataFrame\n",
              "Columns: [Rating, Time, UserId, ItemId, Review, Summary]\n",
              "Index: []"
            ],
            "text/html": [
              "\n",
              "\n",
              "  <div id=\"df-ed79bc7b-f39a-499e-af9d-41d75eaf42bc\">\n",
              "    <div class=\"colab-df-container\">\n",
              "      <div>\n",
              "<style scoped>\n",
              "    .dataframe tbody tr th:only-of-type {\n",
              "        vertical-align: middle;\n",
              "    }\n",
              "\n",
              "    .dataframe tbody tr th {\n",
              "        vertical-align: top;\n",
              "    }\n",
              "\n",
              "    .dataframe thead th {\n",
              "        text-align: right;\n",
              "    }\n",
              "</style>\n",
              "<table border=\"1\" class=\"dataframe\">\n",
              "  <thead>\n",
              "    <tr style=\"text-align: right;\">\n",
              "      <th></th>\n",
              "      <th>Rating</th>\n",
              "      <th>Time</th>\n",
              "      <th>UserId</th>\n",
              "      <th>ItemId</th>\n",
              "      <th>Review</th>\n",
              "      <th>Summary</th>\n",
              "    </tr>\n",
              "  </thead>\n",
              "  <tbody>\n",
              "  </tbody>\n",
              "</table>\n",
              "</div>\n",
              "      <button class=\"colab-df-convert\" onclick=\"convertToInteractive('df-ed79bc7b-f39a-499e-af9d-41d75eaf42bc')\"\n",
              "              title=\"Convert this dataframe to an interactive table.\"\n",
              "              style=\"display:none;\">\n",
              "\n",
              "  <svg xmlns=\"http://www.w3.org/2000/svg\" height=\"24px\"viewBox=\"0 0 24 24\"\n",
              "       width=\"24px\">\n",
              "    <path d=\"M0 0h24v24H0V0z\" fill=\"none\"/>\n",
              "    <path d=\"M18.56 5.44l.94 2.06.94-2.06 2.06-.94-2.06-.94-.94-2.06-.94 2.06-2.06.94zm-11 1L8.5 8.5l.94-2.06 2.06-.94-2.06-.94L8.5 2.5l-.94 2.06-2.06.94zm10 10l.94 2.06.94-2.06 2.06-.94-2.06-.94-.94-2.06-.94 2.06-2.06.94z\"/><path d=\"M17.41 7.96l-1.37-1.37c-.4-.4-.92-.59-1.43-.59-.52 0-1.04.2-1.43.59L10.3 9.45l-7.72 7.72c-.78.78-.78 2.05 0 2.83L4 21.41c.39.39.9.59 1.41.59.51 0 1.02-.2 1.41-.59l7.78-7.78 2.81-2.81c.8-.78.8-2.07 0-2.86zM5.41 20L4 18.59l7.72-7.72 1.47 1.35L5.41 20z\"/>\n",
              "  </svg>\n",
              "      </button>\n",
              "\n",
              "\n",
              "\n",
              "    <div id=\"df-2fde5836-a152-43f6-b074-8eee47fd42bf\">\n",
              "      <button class=\"colab-df-quickchart\" onclick=\"quickchart('df-2fde5836-a152-43f6-b074-8eee47fd42bf')\"\n",
              "              title=\"Suggest charts.\"\n",
              "              style=\"display:none;\">\n",
              "\n",
              "<svg xmlns=\"http://www.w3.org/2000/svg\" height=\"24px\"viewBox=\"0 0 24 24\"\n",
              "     width=\"24px\">\n",
              "    <g>\n",
              "        <path d=\"M19 3H5c-1.1 0-2 .9-2 2v14c0 1.1.9 2 2 2h14c1.1 0 2-.9 2-2V5c0-1.1-.9-2-2-2zM9 17H7v-7h2v7zm4 0h-2V7h2v10zm4 0h-2v-4h2v4z\"/>\n",
              "    </g>\n",
              "</svg>\n",
              "      </button>\n",
              "    </div>\n",
              "\n",
              "<style>\n",
              "  .colab-df-quickchart {\n",
              "    background-color: #E8F0FE;\n",
              "    border: none;\n",
              "    border-radius: 50%;\n",
              "    cursor: pointer;\n",
              "    display: none;\n",
              "    fill: #1967D2;\n",
              "    height: 32px;\n",
              "    padding: 0 0 0 0;\n",
              "    width: 32px;\n",
              "  }\n",
              "\n",
              "  .colab-df-quickchart:hover {\n",
              "    background-color: #E2EBFA;\n",
              "    box-shadow: 0px 1px 2px rgba(60, 64, 67, 0.3), 0px 1px 3px 1px rgba(60, 64, 67, 0.15);\n",
              "    fill: #174EA6;\n",
              "  }\n",
              "\n",
              "  [theme=dark] .colab-df-quickchart {\n",
              "    background-color: #3B4455;\n",
              "    fill: #D2E3FC;\n",
              "  }\n",
              "\n",
              "  [theme=dark] .colab-df-quickchart:hover {\n",
              "    background-color: #434B5C;\n",
              "    box-shadow: 0px 1px 3px 1px rgba(0, 0, 0, 0.15);\n",
              "    filter: drop-shadow(0px 1px 2px rgba(0, 0, 0, 0.3));\n",
              "    fill: #FFFFFF;\n",
              "  }\n",
              "</style>\n",
              "\n",
              "    <script>\n",
              "      async function quickchart(key) {\n",
              "        const containerElement = document.querySelector('#' + key);\n",
              "        const charts = await google.colab.kernel.invokeFunction(\n",
              "            'suggestCharts', [key], {});\n",
              "      }\n",
              "    </script>\n",
              "\n",
              "      <script>\n",
              "\n",
              "function displayQuickchartButton(domScope) {\n",
              "  let quickchartButtonEl =\n",
              "    domScope.querySelector('#df-2fde5836-a152-43f6-b074-8eee47fd42bf button.colab-df-quickchart');\n",
              "  quickchartButtonEl.style.display =\n",
              "    google.colab.kernel.accessAllowed ? 'block' : 'none';\n",
              "}\n",
              "\n",
              "        displayQuickchartButton(document);\n",
              "      </script>\n",
              "      <style>\n",
              "    .colab-df-container {\n",
              "      display:flex;\n",
              "      flex-wrap:wrap;\n",
              "      gap: 12px;\n",
              "    }\n",
              "\n",
              "    .colab-df-convert {\n",
              "      background-color: #E8F0FE;\n",
              "      border: none;\n",
              "      border-radius: 50%;\n",
              "      cursor: pointer;\n",
              "      display: none;\n",
              "      fill: #1967D2;\n",
              "      height: 32px;\n",
              "      padding: 0 0 0 0;\n",
              "      width: 32px;\n",
              "    }\n",
              "\n",
              "    .colab-df-convert:hover {\n",
              "      background-color: #E2EBFA;\n",
              "      box-shadow: 0px 1px 2px rgba(60, 64, 67, 0.3), 0px 1px 3px 1px rgba(60, 64, 67, 0.15);\n",
              "      fill: #174EA6;\n",
              "    }\n",
              "\n",
              "    [theme=dark] .colab-df-convert {\n",
              "      background-color: #3B4455;\n",
              "      fill: #D2E3FC;\n",
              "    }\n",
              "\n",
              "    [theme=dark] .colab-df-convert:hover {\n",
              "      background-color: #434B5C;\n",
              "      box-shadow: 0px 1px 3px 1px rgba(0, 0, 0, 0.15);\n",
              "      filter: drop-shadow(0px 1px 2px rgba(0, 0, 0, 0.3));\n",
              "      fill: #FFFFFF;\n",
              "    }\n",
              "  </style>\n",
              "\n",
              "      <script>\n",
              "        const buttonEl =\n",
              "          document.querySelector('#df-ed79bc7b-f39a-499e-af9d-41d75eaf42bc button.colab-df-convert');\n",
              "        buttonEl.style.display =\n",
              "          google.colab.kernel.accessAllowed ? 'block' : 'none';\n",
              "\n",
              "        async function convertToInteractive(key) {\n",
              "          const element = document.querySelector('#df-ed79bc7b-f39a-499e-af9d-41d75eaf42bc');\n",
              "          const dataTable =\n",
              "            await google.colab.kernel.invokeFunction('convertToInteractive',\n",
              "                                                     [key], {});\n",
              "          if (!dataTable) return;\n",
              "\n",
              "          const docLinkHtml = 'Like what you see? Visit the ' +\n",
              "            '<a target=\"_blank\" href=https://colab.research.google.com/notebooks/data_table.ipynb>data table notebook</a>'\n",
              "            + ' to learn more about interactive tables.';\n",
              "          element.innerHTML = '';\n",
              "          dataTable['output_type'] = 'display_data';\n",
              "          await google.colab.output.renderOutput(dataTable, element);\n",
              "          const docLink = document.createElement('div');\n",
              "          docLink.innerHTML = docLinkHtml;\n",
              "          element.appendChild(docLink);\n",
              "        }\n",
              "      </script>\n",
              "    </div>\n",
              "  </div>\n"
            ]
          },
          "metadata": {},
          "execution_count": 13
        }
      ],
      "source": [
        "df_iter[df_iter['ItemId'].isnull() == True]"
      ]
    },
    {
      "cell_type": "markdown",
      "id": "db834c4a",
      "metadata": {
        "hidden": true,
        "id": "db834c4a"
      },
      "source": [
        "<p> In this case, we delete this single row because of the lack of ItemId.</p>"
      ]
    },
    {
      "cell_type": "markdown",
      "id": "15b19860",
      "metadata": {
        "heading_collapsed": true,
        "hidden": true,
        "id": "15b19860"
      },
      "source": [
        "### 1.2.2 Duplicate check"
      ]
    },
    {
      "cell_type": "code",
      "execution_count": 14,
      "id": "89dfcae3",
      "metadata": {
        "hidden": true,
        "scrolled": true,
        "colab": {
          "base_uri": "https://localhost:8080/"
        },
        "id": "89dfcae3",
        "outputId": "a453b41c-62c1-44a8-d1aa-967b8cec9d8b"
      },
      "outputs": [
        {
          "output_type": "execute_result",
          "data": {
            "text/plain": [
              "8726"
            ]
          },
          "metadata": {},
          "execution_count": 14
        }
      ],
      "source": [
        "# Duplicates\n",
        "df_iter.duplicated().sum()"
      ]
    },
    {
      "cell_type": "code",
      "execution_count": 15,
      "id": "ac58d10b",
      "metadata": {
        "hidden": true,
        "scrolled": true,
        "colab": {
          "base_uri": "https://localhost:8080/",
          "height": 0
        },
        "id": "ac58d10b",
        "outputId": "3f426631-a986-4e99-d530-e5cb990c6f3e"
      },
      "outputs": [
        {
          "output_type": "execute_result",
          "data": {
            "text/plain": [
              "       Rating         Time  UserId ItemId     Review     Summary\n",
              "12330       5  03 09, 2016  U12281    P62  excellent  Five Stars\n",
              "12331       5  03 09, 2016  U12281    P62  excellent  Five Stars"
            ],
            "text/html": [
              "\n",
              "\n",
              "  <div id=\"df-0033f75b-6c97-4fcd-a65d-d0ee4f2aa556\">\n",
              "    <div class=\"colab-df-container\">\n",
              "      <div>\n",
              "<style scoped>\n",
              "    .dataframe tbody tr th:only-of-type {\n",
              "        vertical-align: middle;\n",
              "    }\n",
              "\n",
              "    .dataframe tbody tr th {\n",
              "        vertical-align: top;\n",
              "    }\n",
              "\n",
              "    .dataframe thead th {\n",
              "        text-align: right;\n",
              "    }\n",
              "</style>\n",
              "<table border=\"1\" class=\"dataframe\">\n",
              "  <thead>\n",
              "    <tr style=\"text-align: right;\">\n",
              "      <th></th>\n",
              "      <th>Rating</th>\n",
              "      <th>Time</th>\n",
              "      <th>UserId</th>\n",
              "      <th>ItemId</th>\n",
              "      <th>Review</th>\n",
              "      <th>Summary</th>\n",
              "    </tr>\n",
              "  </thead>\n",
              "  <tbody>\n",
              "    <tr>\n",
              "      <th>12330</th>\n",
              "      <td>5</td>\n",
              "      <td>03 09, 2016</td>\n",
              "      <td>U12281</td>\n",
              "      <td>P62</td>\n",
              "      <td>excellent</td>\n",
              "      <td>Five Stars</td>\n",
              "    </tr>\n",
              "    <tr>\n",
              "      <th>12331</th>\n",
              "      <td>5</td>\n",
              "      <td>03 09, 2016</td>\n",
              "      <td>U12281</td>\n",
              "      <td>P62</td>\n",
              "      <td>excellent</td>\n",
              "      <td>Five Stars</td>\n",
              "    </tr>\n",
              "  </tbody>\n",
              "</table>\n",
              "</div>\n",
              "      <button class=\"colab-df-convert\" onclick=\"convertToInteractive('df-0033f75b-6c97-4fcd-a65d-d0ee4f2aa556')\"\n",
              "              title=\"Convert this dataframe to an interactive table.\"\n",
              "              style=\"display:none;\">\n",
              "\n",
              "  <svg xmlns=\"http://www.w3.org/2000/svg\" height=\"24px\"viewBox=\"0 0 24 24\"\n",
              "       width=\"24px\">\n",
              "    <path d=\"M0 0h24v24H0V0z\" fill=\"none\"/>\n",
              "    <path d=\"M18.56 5.44l.94 2.06.94-2.06 2.06-.94-2.06-.94-.94-2.06-.94 2.06-2.06.94zm-11 1L8.5 8.5l.94-2.06 2.06-.94-2.06-.94L8.5 2.5l-.94 2.06-2.06.94zm10 10l.94 2.06.94-2.06 2.06-.94-2.06-.94-.94-2.06-.94 2.06-2.06.94z\"/><path d=\"M17.41 7.96l-1.37-1.37c-.4-.4-.92-.59-1.43-.59-.52 0-1.04.2-1.43.59L10.3 9.45l-7.72 7.72c-.78.78-.78 2.05 0 2.83L4 21.41c.39.39.9.59 1.41.59.51 0 1.02-.2 1.41-.59l7.78-7.78 2.81-2.81c.8-.78.8-2.07 0-2.86zM5.41 20L4 18.59l7.72-7.72 1.47 1.35L5.41 20z\"/>\n",
              "  </svg>\n",
              "      </button>\n",
              "\n",
              "\n",
              "\n",
              "    <div id=\"df-ce9e7277-4928-4ac3-b120-09b264267ccf\">\n",
              "      <button class=\"colab-df-quickchart\" onclick=\"quickchart('df-ce9e7277-4928-4ac3-b120-09b264267ccf')\"\n",
              "              title=\"Suggest charts.\"\n",
              "              style=\"display:none;\">\n",
              "\n",
              "<svg xmlns=\"http://www.w3.org/2000/svg\" height=\"24px\"viewBox=\"0 0 24 24\"\n",
              "     width=\"24px\">\n",
              "    <g>\n",
              "        <path d=\"M19 3H5c-1.1 0-2 .9-2 2v14c0 1.1.9 2 2 2h14c1.1 0 2-.9 2-2V5c0-1.1-.9-2-2-2zM9 17H7v-7h2v7zm4 0h-2V7h2v10zm4 0h-2v-4h2v4z\"/>\n",
              "    </g>\n",
              "</svg>\n",
              "      </button>\n",
              "    </div>\n",
              "\n",
              "<style>\n",
              "  .colab-df-quickchart {\n",
              "    background-color: #E8F0FE;\n",
              "    border: none;\n",
              "    border-radius: 50%;\n",
              "    cursor: pointer;\n",
              "    display: none;\n",
              "    fill: #1967D2;\n",
              "    height: 32px;\n",
              "    padding: 0 0 0 0;\n",
              "    width: 32px;\n",
              "  }\n",
              "\n",
              "  .colab-df-quickchart:hover {\n",
              "    background-color: #E2EBFA;\n",
              "    box-shadow: 0px 1px 2px rgba(60, 64, 67, 0.3), 0px 1px 3px 1px rgba(60, 64, 67, 0.15);\n",
              "    fill: #174EA6;\n",
              "  }\n",
              "\n",
              "  [theme=dark] .colab-df-quickchart {\n",
              "    background-color: #3B4455;\n",
              "    fill: #D2E3FC;\n",
              "  }\n",
              "\n",
              "  [theme=dark] .colab-df-quickchart:hover {\n",
              "    background-color: #434B5C;\n",
              "    box-shadow: 0px 1px 3px 1px rgba(0, 0, 0, 0.15);\n",
              "    filter: drop-shadow(0px 1px 2px rgba(0, 0, 0, 0.3));\n",
              "    fill: #FFFFFF;\n",
              "  }\n",
              "</style>\n",
              "\n",
              "    <script>\n",
              "      async function quickchart(key) {\n",
              "        const containerElement = document.querySelector('#' + key);\n",
              "        const charts = await google.colab.kernel.invokeFunction(\n",
              "            'suggestCharts', [key], {});\n",
              "      }\n",
              "    </script>\n",
              "\n",
              "      <script>\n",
              "\n",
              "function displayQuickchartButton(domScope) {\n",
              "  let quickchartButtonEl =\n",
              "    domScope.querySelector('#df-ce9e7277-4928-4ac3-b120-09b264267ccf button.colab-df-quickchart');\n",
              "  quickchartButtonEl.style.display =\n",
              "    google.colab.kernel.accessAllowed ? 'block' : 'none';\n",
              "}\n",
              "\n",
              "        displayQuickchartButton(document);\n",
              "      </script>\n",
              "      <style>\n",
              "    .colab-df-container {\n",
              "      display:flex;\n",
              "      flex-wrap:wrap;\n",
              "      gap: 12px;\n",
              "    }\n",
              "\n",
              "    .colab-df-convert {\n",
              "      background-color: #E8F0FE;\n",
              "      border: none;\n",
              "      border-radius: 50%;\n",
              "      cursor: pointer;\n",
              "      display: none;\n",
              "      fill: #1967D2;\n",
              "      height: 32px;\n",
              "      padding: 0 0 0 0;\n",
              "      width: 32px;\n",
              "    }\n",
              "\n",
              "    .colab-df-convert:hover {\n",
              "      background-color: #E2EBFA;\n",
              "      box-shadow: 0px 1px 2px rgba(60, 64, 67, 0.3), 0px 1px 3px 1px rgba(60, 64, 67, 0.15);\n",
              "      fill: #174EA6;\n",
              "    }\n",
              "\n",
              "    [theme=dark] .colab-df-convert {\n",
              "      background-color: #3B4455;\n",
              "      fill: #D2E3FC;\n",
              "    }\n",
              "\n",
              "    [theme=dark] .colab-df-convert:hover {\n",
              "      background-color: #434B5C;\n",
              "      box-shadow: 0px 1px 3px 1px rgba(0, 0, 0, 0.15);\n",
              "      filter: drop-shadow(0px 1px 2px rgba(0, 0, 0, 0.3));\n",
              "      fill: #FFFFFF;\n",
              "    }\n",
              "  </style>\n",
              "\n",
              "      <script>\n",
              "        const buttonEl =\n",
              "          document.querySelector('#df-0033f75b-6c97-4fcd-a65d-d0ee4f2aa556 button.colab-df-convert');\n",
              "        buttonEl.style.display =\n",
              "          google.colab.kernel.accessAllowed ? 'block' : 'none';\n",
              "\n",
              "        async function convertToInteractive(key) {\n",
              "          const element = document.querySelector('#df-0033f75b-6c97-4fcd-a65d-d0ee4f2aa556');\n",
              "          const dataTable =\n",
              "            await google.colab.kernel.invokeFunction('convertToInteractive',\n",
              "                                                     [key], {});\n",
              "          if (!dataTable) return;\n",
              "\n",
              "          const docLinkHtml = 'Like what you see? Visit the ' +\n",
              "            '<a target=\"_blank\" href=https://colab.research.google.com/notebooks/data_table.ipynb>data table notebook</a>'\n",
              "            + ' to learn more about interactive tables.';\n",
              "          element.innerHTML = '';\n",
              "          dataTable['output_type'] = 'display_data';\n",
              "          await google.colab.output.renderOutput(dataTable, element);\n",
              "          const docLink = document.createElement('div');\n",
              "          docLink.innerHTML = docLinkHtml;\n",
              "          element.appendChild(docLink);\n",
              "        }\n",
              "      </script>\n",
              "    </div>\n",
              "  </div>\n"
            ]
          },
          "metadata": {},
          "execution_count": 15
        }
      ],
      "source": [
        "df_iter[(df_iter['UserId'] == 'U12281') & (df_iter['ItemId'] == 'P62')]"
      ]
    },
    {
      "cell_type": "markdown",
      "id": "d4d32fa5",
      "metadata": {
        "hidden": true,
        "id": "d4d32fa5"
      },
      "source": [
        "There are 8717 duplicates and I will delete the **second** duplicates and remain the **first** ones."
      ]
    },
    {
      "cell_type": "markdown",
      "id": "dae42427",
      "metadata": {
        "id": "dae42427"
      },
      "source": [
        "# 2. Data Preprocessing"
      ]
    },
    {
      "cell_type": "markdown",
      "id": "86fb37f1",
      "metadata": {
        "heading_collapsed": true,
        "id": "86fb37f1"
      },
      "source": [
        "## 2.1 Missing values"
      ]
    },
    {
      "cell_type": "code",
      "execution_count": 16,
      "id": "f528e3fb",
      "metadata": {
        "hidden": true,
        "id": "f528e3fb"
      },
      "outputs": [],
      "source": [
        "# Delete the row of item dataset.\n",
        "df_items_nomissing = df_items.dropna(subset=['Title'])"
      ]
    },
    {
      "cell_type": "code",
      "execution_count": 17,
      "id": "ca146058",
      "metadata": {
        "hidden": true,
        "id": "ca146058"
      },
      "outputs": [],
      "source": [
        "# Delete all rows with the ItemId of 'P3733' of interaction dataset.\n",
        "df_iter_nomissing = df_iter[df_iter['ItemId'] != 'P3733']"
      ]
    },
    {
      "cell_type": "code",
      "execution_count": 18,
      "id": "6841cfda",
      "metadata": {
        "hidden": true,
        "id": "6841cfda"
      },
      "outputs": [],
      "source": [
        "#Delete all the missing value in iteraction dataset\n",
        "df_iter_nomissing = df_iter_nomissing.dropna(subset=['ItemId'])"
      ]
    },
    {
      "cell_type": "markdown",
      "id": "a0553d7e",
      "metadata": {
        "heading_collapsed": true,
        "id": "a0553d7e"
      },
      "source": [
        "## 2.2 Duplicates"
      ]
    },
    {
      "cell_type": "code",
      "execution_count": 19,
      "id": "b6d3cecf",
      "metadata": {
        "hidden": true,
        "scrolled": true,
        "colab": {
          "base_uri": "https://localhost:8080/",
          "height": 0
        },
        "id": "b6d3cecf",
        "outputId": "6ee33af2-ce5d-435d-bf9e-47525d8bd54d"
      },
      "outputs": [
        {
          "output_type": "execute_result",
          "data": {
            "text/plain": [
              "                                         Description  \\\n",
              "0  Loud 'N Clear Personal Sound Amplifier allows ...   \n",
              "1  No7 Lift & Luminate Triple Action Serum 50ml b...   \n",
              "2  No7 Stay Perfect Foundation now stays perfect ...   \n",
              "3                                                NaN   \n",
              "4  Lacto Calamine Skin Balance Daily Nourishing L...   \n",
              "\n",
              "                                               Title              Brand  \\\n",
              "0      Loud 'N Clear&trade; Personal Sound Amplifier       idea village   \n",
              "1  No7 Lift &amp; Luminate Triple Action Serum 50...                NaN   \n",
              "2    No7 Stay Perfect Foundation Cool Vanilla by No7                No7   \n",
              "3  Wella Koleston Perfect Hair Colour 44/44 Mediu...                NaN   \n",
              "4  Lacto Calamine Skin Balance Oil control 120 ml...  Pirmal Healthcare   \n",
              "\n",
              "    Price ItemId  \n",
              "0     NaN  P4924  \n",
              "1  $44.99  P4622  \n",
              "2  $28.76  P6435  \n",
              "3     NaN  P4623  \n",
              "4  $12.15     P7  "
            ],
            "text/html": [
              "\n",
              "\n",
              "  <div id=\"df-dd7f9886-b8a9-48a8-a132-f32ea2c5003b\">\n",
              "    <div class=\"colab-df-container\">\n",
              "      <div>\n",
              "<style scoped>\n",
              "    .dataframe tbody tr th:only-of-type {\n",
              "        vertical-align: middle;\n",
              "    }\n",
              "\n",
              "    .dataframe tbody tr th {\n",
              "        vertical-align: top;\n",
              "    }\n",
              "\n",
              "    .dataframe thead th {\n",
              "        text-align: right;\n",
              "    }\n",
              "</style>\n",
              "<table border=\"1\" class=\"dataframe\">\n",
              "  <thead>\n",
              "    <tr style=\"text-align: right;\">\n",
              "      <th></th>\n",
              "      <th>Description</th>\n",
              "      <th>Title</th>\n",
              "      <th>Brand</th>\n",
              "      <th>Price</th>\n",
              "      <th>ItemId</th>\n",
              "    </tr>\n",
              "  </thead>\n",
              "  <tbody>\n",
              "    <tr>\n",
              "      <th>0</th>\n",
              "      <td>Loud 'N Clear Personal Sound Amplifier allows ...</td>\n",
              "      <td>Loud 'N Clear&amp;trade; Personal Sound Amplifier</td>\n",
              "      <td>idea village</td>\n",
              "      <td>NaN</td>\n",
              "      <td>P4924</td>\n",
              "    </tr>\n",
              "    <tr>\n",
              "      <th>1</th>\n",
              "      <td>No7 Lift &amp; Luminate Triple Action Serum 50ml b...</td>\n",
              "      <td>No7 Lift &amp;amp; Luminate Triple Action Serum 50...</td>\n",
              "      <td>NaN</td>\n",
              "      <td>$44.99</td>\n",
              "      <td>P4622</td>\n",
              "    </tr>\n",
              "    <tr>\n",
              "      <th>2</th>\n",
              "      <td>No7 Stay Perfect Foundation now stays perfect ...</td>\n",
              "      <td>No7 Stay Perfect Foundation Cool Vanilla by No7</td>\n",
              "      <td>No7</td>\n",
              "      <td>$28.76</td>\n",
              "      <td>P6435</td>\n",
              "    </tr>\n",
              "    <tr>\n",
              "      <th>3</th>\n",
              "      <td>NaN</td>\n",
              "      <td>Wella Koleston Perfect Hair Colour 44/44 Mediu...</td>\n",
              "      <td>NaN</td>\n",
              "      <td>NaN</td>\n",
              "      <td>P4623</td>\n",
              "    </tr>\n",
              "    <tr>\n",
              "      <th>4</th>\n",
              "      <td>Lacto Calamine Skin Balance Daily Nourishing L...</td>\n",
              "      <td>Lacto Calamine Skin Balance Oil control 120 ml...</td>\n",
              "      <td>Pirmal Healthcare</td>\n",
              "      <td>$12.15</td>\n",
              "      <td>P7</td>\n",
              "    </tr>\n",
              "  </tbody>\n",
              "</table>\n",
              "</div>\n",
              "      <button class=\"colab-df-convert\" onclick=\"convertToInteractive('df-dd7f9886-b8a9-48a8-a132-f32ea2c5003b')\"\n",
              "              title=\"Convert this dataframe to an interactive table.\"\n",
              "              style=\"display:none;\">\n",
              "\n",
              "  <svg xmlns=\"http://www.w3.org/2000/svg\" height=\"24px\"viewBox=\"0 0 24 24\"\n",
              "       width=\"24px\">\n",
              "    <path d=\"M0 0h24v24H0V0z\" fill=\"none\"/>\n",
              "    <path d=\"M18.56 5.44l.94 2.06.94-2.06 2.06-.94-2.06-.94-.94-2.06-.94 2.06-2.06.94zm-11 1L8.5 8.5l.94-2.06 2.06-.94-2.06-.94L8.5 2.5l-.94 2.06-2.06.94zm10 10l.94 2.06.94-2.06 2.06-.94-2.06-.94-.94-2.06-.94 2.06-2.06.94z\"/><path d=\"M17.41 7.96l-1.37-1.37c-.4-.4-.92-.59-1.43-.59-.52 0-1.04.2-1.43.59L10.3 9.45l-7.72 7.72c-.78.78-.78 2.05 0 2.83L4 21.41c.39.39.9.59 1.41.59.51 0 1.02-.2 1.41-.59l7.78-7.78 2.81-2.81c.8-.78.8-2.07 0-2.86zM5.41 20L4 18.59l7.72-7.72 1.47 1.35L5.41 20z\"/>\n",
              "  </svg>\n",
              "      </button>\n",
              "\n",
              "\n",
              "\n",
              "    <div id=\"df-6ad81d69-c825-488c-a253-584a869829e2\">\n",
              "      <button class=\"colab-df-quickchart\" onclick=\"quickchart('df-6ad81d69-c825-488c-a253-584a869829e2')\"\n",
              "              title=\"Suggest charts.\"\n",
              "              style=\"display:none;\">\n",
              "\n",
              "<svg xmlns=\"http://www.w3.org/2000/svg\" height=\"24px\"viewBox=\"0 0 24 24\"\n",
              "     width=\"24px\">\n",
              "    <g>\n",
              "        <path d=\"M19 3H5c-1.1 0-2 .9-2 2v14c0 1.1.9 2 2 2h14c1.1 0 2-.9 2-2V5c0-1.1-.9-2-2-2zM9 17H7v-7h2v7zm4 0h-2V7h2v10zm4 0h-2v-4h2v4z\"/>\n",
              "    </g>\n",
              "</svg>\n",
              "      </button>\n",
              "    </div>\n",
              "\n",
              "<style>\n",
              "  .colab-df-quickchart {\n",
              "    background-color: #E8F0FE;\n",
              "    border: none;\n",
              "    border-radius: 50%;\n",
              "    cursor: pointer;\n",
              "    display: none;\n",
              "    fill: #1967D2;\n",
              "    height: 32px;\n",
              "    padding: 0 0 0 0;\n",
              "    width: 32px;\n",
              "  }\n",
              "\n",
              "  .colab-df-quickchart:hover {\n",
              "    background-color: #E2EBFA;\n",
              "    box-shadow: 0px 1px 2px rgba(60, 64, 67, 0.3), 0px 1px 3px 1px rgba(60, 64, 67, 0.15);\n",
              "    fill: #174EA6;\n",
              "  }\n",
              "\n",
              "  [theme=dark] .colab-df-quickchart {\n",
              "    background-color: #3B4455;\n",
              "    fill: #D2E3FC;\n",
              "  }\n",
              "\n",
              "  [theme=dark] .colab-df-quickchart:hover {\n",
              "    background-color: #434B5C;\n",
              "    box-shadow: 0px 1px 3px 1px rgba(0, 0, 0, 0.15);\n",
              "    filter: drop-shadow(0px 1px 2px rgba(0, 0, 0, 0.3));\n",
              "    fill: #FFFFFF;\n",
              "  }\n",
              "</style>\n",
              "\n",
              "    <script>\n",
              "      async function quickchart(key) {\n",
              "        const containerElement = document.querySelector('#' + key);\n",
              "        const charts = await google.colab.kernel.invokeFunction(\n",
              "            'suggestCharts', [key], {});\n",
              "      }\n",
              "    </script>\n",
              "\n",
              "      <script>\n",
              "\n",
              "function displayQuickchartButton(domScope) {\n",
              "  let quickchartButtonEl =\n",
              "    domScope.querySelector('#df-6ad81d69-c825-488c-a253-584a869829e2 button.colab-df-quickchart');\n",
              "  quickchartButtonEl.style.display =\n",
              "    google.colab.kernel.accessAllowed ? 'block' : 'none';\n",
              "}\n",
              "\n",
              "        displayQuickchartButton(document);\n",
              "      </script>\n",
              "      <style>\n",
              "    .colab-df-container {\n",
              "      display:flex;\n",
              "      flex-wrap:wrap;\n",
              "      gap: 12px;\n",
              "    }\n",
              "\n",
              "    .colab-df-convert {\n",
              "      background-color: #E8F0FE;\n",
              "      border: none;\n",
              "      border-radius: 50%;\n",
              "      cursor: pointer;\n",
              "      display: none;\n",
              "      fill: #1967D2;\n",
              "      height: 32px;\n",
              "      padding: 0 0 0 0;\n",
              "      width: 32px;\n",
              "    }\n",
              "\n",
              "    .colab-df-convert:hover {\n",
              "      background-color: #E2EBFA;\n",
              "      box-shadow: 0px 1px 2px rgba(60, 64, 67, 0.3), 0px 1px 3px 1px rgba(60, 64, 67, 0.15);\n",
              "      fill: #174EA6;\n",
              "    }\n",
              "\n",
              "    [theme=dark] .colab-df-convert {\n",
              "      background-color: #3B4455;\n",
              "      fill: #D2E3FC;\n",
              "    }\n",
              "\n",
              "    [theme=dark] .colab-df-convert:hover {\n",
              "      background-color: #434B5C;\n",
              "      box-shadow: 0px 1px 3px 1px rgba(0, 0, 0, 0.15);\n",
              "      filter: drop-shadow(0px 1px 2px rgba(0, 0, 0, 0.3));\n",
              "      fill: #FFFFFF;\n",
              "    }\n",
              "  </style>\n",
              "\n",
              "      <script>\n",
              "        const buttonEl =\n",
              "          document.querySelector('#df-dd7f9886-b8a9-48a8-a132-f32ea2c5003b button.colab-df-convert');\n",
              "        buttonEl.style.display =\n",
              "          google.colab.kernel.accessAllowed ? 'block' : 'none';\n",
              "\n",
              "        async function convertToInteractive(key) {\n",
              "          const element = document.querySelector('#df-dd7f9886-b8a9-48a8-a132-f32ea2c5003b');\n",
              "          const dataTable =\n",
              "            await google.colab.kernel.invokeFunction('convertToInteractive',\n",
              "                                                     [key], {});\n",
              "          if (!dataTable) return;\n",
              "\n",
              "          const docLinkHtml = 'Like what you see? Visit the ' +\n",
              "            '<a target=\"_blank\" href=https://colab.research.google.com/notebooks/data_table.ipynb>data table notebook</a>'\n",
              "            + ' to learn more about interactive tables.';\n",
              "          element.innerHTML = '';\n",
              "          dataTable['output_type'] = 'display_data';\n",
              "          await google.colab.output.renderOutput(dataTable, element);\n",
              "          const docLink = document.createElement('div');\n",
              "          docLink.innerHTML = docLinkHtml;\n",
              "          element.appendChild(docLink);\n",
              "        }\n",
              "      </script>\n",
              "    </div>\n",
              "  </div>\n"
            ]
          },
          "metadata": {},
          "execution_count": 19
        }
      ],
      "source": [
        "df_items.head()"
      ]
    },
    {
      "cell_type": "code",
      "execution_count": 20,
      "id": "f7e8ee12",
      "metadata": {
        "hidden": true,
        "id": "f7e8ee12"
      },
      "outputs": [],
      "source": [
        "#Drop the duplicates of items dataset and keep the first occurance.\n",
        "df_items_no_duplicates = df_items_nomissing.drop_duplicates(inplace=False, keep=\"first\", ignore_index=True)"
      ]
    },
    {
      "cell_type": "code",
      "execution_count": 21,
      "id": "7cde21a0",
      "metadata": {
        "hidden": true,
        "id": "7cde21a0"
      },
      "outputs": [],
      "source": [
        "#Drop the duplicates of iteraction dataset and keep the first occurance.\n",
        "df_iter_no_duplicates = df_iter_nomissing.drop_duplicates(inplace=False, keep='first', ignore_index=True)"
      ]
    },
    {
      "cell_type": "markdown",
      "id": "907a9d20",
      "metadata": {
        "heading_collapsed": true,
        "id": "907a9d20"
      },
      "source": [
        "## 2.3 Data modifying"
      ]
    },
    {
      "cell_type": "code",
      "execution_count": 22,
      "id": "357b0da4",
      "metadata": {
        "hidden": true,
        "scrolled": false,
        "colab": {
          "base_uri": "https://localhost:8080/"
        },
        "id": "357b0da4",
        "outputId": "3492e053-690e-43bf-b465-7635c7a73e0d"
      },
      "outputs": [
        {
          "output_type": "stream",
          "name": "stdout",
          "text": [
            "Length of items dataset: 32485\n",
            "Length of dataset has ItemId starting with \"P\": 32485\n",
            "\n",
            "\n",
            "Length of iteraction dataset: 362603\n",
            "Length of dataset has ItemId starting with \"P\": 362603\n"
          ]
        }
      ],
      "source": [
        "print(f'Length of items dataset:', len(df_items_no_duplicates))\n",
        "print(f'Length of dataset has ItemId starting with \"P\":', len(df_items_no_duplicates['ItemId'][df_items_no_duplicates['ItemId'].str.startswith('P')]))\n",
        "print('\\n')\n",
        "print(f'Length of iteraction dataset:', len(df_iter_no_duplicates))\n",
        "print(f'Length of dataset has ItemId starting with \"P\":', len(df_iter_no_duplicates['ItemId'][df_iter_no_duplicates['ItemId'].str.startswith('P')]))\n"
      ]
    },
    {
      "cell_type": "markdown",
      "id": "fbb5e3fb",
      "metadata": {
        "hidden": true,
        "id": "fbb5e3fb"
      },
      "source": [
        "I discovered that the Id of items all start with \"P\", some we can represent all ItemId with \"P%\". <br/> <br/>\n",
        "In this case, we can modify all the ItemId from strings to numbers. <br/> <br/>\n",
        "The same case for users."
      ]
    },
    {
      "cell_type": "code",
      "execution_count": 23,
      "id": "9358bbe9",
      "metadata": {
        "hidden": true,
        "colab": {
          "base_uri": "https://localhost:8080/"
        },
        "id": "9358bbe9",
        "outputId": "c720c9f0-0d59-44fe-8f16-beff74a916f5"
      },
      "outputs": [
        {
          "output_type": "stream",
          "name": "stderr",
          "text": [
            "<ipython-input-23-44e0a46be90b>:2: SettingWithCopyWarning: \n",
            "A value is trying to be set on a copy of a slice from a DataFrame.\n",
            "Try using .loc[row_indexer,col_indexer] = value instead\n",
            "\n",
            "See the caveats in the documentation: https://pandas.pydata.org/pandas-docs/stable/user_guide/indexing.html#returning-a-view-versus-a-copy\n",
            "  df_items_no_duplicates.loc[:, 'ItemId'] = df_items_no_duplicates.loc[:, 'ItemId'].str.replace('P', '', regex=True)\n",
            "<ipython-input-23-44e0a46be90b>:3: SettingWithCopyWarning: \n",
            "A value is trying to be set on a copy of a slice from a DataFrame.\n",
            "Try using .loc[row_indexer,col_indexer] = value instead\n",
            "\n",
            "See the caveats in the documentation: https://pandas.pydata.org/pandas-docs/stable/user_guide/indexing.html#returning-a-view-versus-a-copy\n",
            "  df_iter_no_duplicates.loc[:, 'ItemId'] = df_iter_no_duplicates.loc[:, 'ItemId'].str.replace('P', '', regex=True)\n",
            "<ipython-input-23-44e0a46be90b>:6: SettingWithCopyWarning: \n",
            "A value is trying to be set on a copy of a slice from a DataFrame.\n",
            "Try using .loc[row_indexer,col_indexer] = value instead\n",
            "\n",
            "See the caveats in the documentation: https://pandas.pydata.org/pandas-docs/stable/user_guide/indexing.html#returning-a-view-versus-a-copy\n",
            "  df_iter_no_duplicates.loc[:, 'UserId'] = df_iter_no_duplicates.loc[:, 'UserId'].str.replace('U', '', regex=True)\n"
          ]
        }
      ],
      "source": [
        "#Change the \"ItemId\" column for item and iter dataset.\n",
        "df_items_no_duplicates.loc[:, 'ItemId'] = df_items_no_duplicates.loc[:, 'ItemId'].str.replace('P', '', regex=True)\n",
        "df_iter_no_duplicates.loc[:, 'ItemId'] = df_iter_no_duplicates.loc[:, 'ItemId'].str.replace('P', '', regex=True)\n",
        "\n",
        "#Change the \"UserId\" column for iter dataset.\n",
        "df_iter_no_duplicates.loc[:, 'UserId'] = df_iter_no_duplicates.loc[:, 'UserId'].str.replace('U', '', regex=True)"
      ]
    },
    {
      "cell_type": "code",
      "source": [
        "#Then we have to transfer the types of ItemId and UserId from object to int.\n",
        "df_items_no_duplicates.loc[:, 'ItemId'] = df_items_no_duplicates.loc[:, 'ItemId'].astype(int)\n",
        "\n",
        "df_iter_no_duplicates.loc[:, 'UserId'] = df_iter_no_duplicates.loc[:, 'UserId'].astype(int)\n",
        "df_iter_no_duplicates.loc[:, 'ItemId'] = df_iter_no_duplicates.loc[:, 'ItemId'].astype(int)\n"
      ],
      "metadata": {
        "colab": {
          "base_uri": "https://localhost:8080/"
        },
        "id": "_hNgXyCHgyRo",
        "outputId": "ac54a3fd-874b-41c4-8123-5b207d4394d5"
      },
      "id": "_hNgXyCHgyRo",
      "execution_count": 24,
      "outputs": [
        {
          "output_type": "stream",
          "name": "stderr",
          "text": [
            "<ipython-input-24-4cfd354e11de>:2: SettingWithCopyWarning: \n",
            "A value is trying to be set on a copy of a slice from a DataFrame.\n",
            "Try using .loc[row_indexer,col_indexer] = value instead\n",
            "\n",
            "See the caveats in the documentation: https://pandas.pydata.org/pandas-docs/stable/user_guide/indexing.html#returning-a-view-versus-a-copy\n",
            "  df_items_no_duplicates.loc[:, 'ItemId'] = df_items_no_duplicates.loc[:, 'ItemId'].astype(int)\n",
            "<ipython-input-24-4cfd354e11de>:2: DeprecationWarning: In a future version, `df.iloc[:, i] = newvals` will attempt to set the values inplace instead of always setting a new array. To retain the old behavior, use either `df[df.columns[i]] = newvals` or, if columns are non-unique, `df.isetitem(i, newvals)`\n",
            "  df_items_no_duplicates.loc[:, 'ItemId'] = df_items_no_duplicates.loc[:, 'ItemId'].astype(int)\n",
            "<ipython-input-24-4cfd354e11de>:4: SettingWithCopyWarning: \n",
            "A value is trying to be set on a copy of a slice from a DataFrame.\n",
            "Try using .loc[row_indexer,col_indexer] = value instead\n",
            "\n",
            "See the caveats in the documentation: https://pandas.pydata.org/pandas-docs/stable/user_guide/indexing.html#returning-a-view-versus-a-copy\n",
            "  df_iter_no_duplicates.loc[:, 'UserId'] = df_iter_no_duplicates.loc[:, 'UserId'].astype(int)\n",
            "<ipython-input-24-4cfd354e11de>:4: DeprecationWarning: In a future version, `df.iloc[:, i] = newvals` will attempt to set the values inplace instead of always setting a new array. To retain the old behavior, use either `df[df.columns[i]] = newvals` or, if columns are non-unique, `df.isetitem(i, newvals)`\n",
            "  df_iter_no_duplicates.loc[:, 'UserId'] = df_iter_no_duplicates.loc[:, 'UserId'].astype(int)\n",
            "<ipython-input-24-4cfd354e11de>:5: SettingWithCopyWarning: \n",
            "A value is trying to be set on a copy of a slice from a DataFrame.\n",
            "Try using .loc[row_indexer,col_indexer] = value instead\n",
            "\n",
            "See the caveats in the documentation: https://pandas.pydata.org/pandas-docs/stable/user_guide/indexing.html#returning-a-view-versus-a-copy\n",
            "  df_iter_no_duplicates.loc[:, 'ItemId'] = df_iter_no_duplicates.loc[:, 'ItemId'].astype(int)\n",
            "<ipython-input-24-4cfd354e11de>:5: DeprecationWarning: In a future version, `df.iloc[:, i] = newvals` will attempt to set the values inplace instead of always setting a new array. To retain the old behavior, use either `df[df.columns[i]] = newvals` or, if columns are non-unique, `df.isetitem(i, newvals)`\n",
            "  df_iter_no_duplicates.loc[:, 'ItemId'] = df_iter_no_duplicates.loc[:, 'ItemId'].astype(int)\n"
          ]
        }
      ]
    },
    {
      "cell_type": "markdown",
      "id": "03bc0573",
      "metadata": {
        "heading_collapsed": true,
        "id": "03bc0573"
      },
      "source": [
        "## 2.4 Data Splitting"
      ]
    },
    {
      "cell_type": "markdown",
      "id": "75940eaa",
      "metadata": {
        "hidden": true,
        "id": "75940eaa"
      },
      "source": [
        "In this case, we will split the iteration dataset into three parts, and the size of these three parts are as follows:\n",
        " - 70% training set;\n",
        " - 30% testing set.\n",
        "\n",
        "First, we have to transfer the data type of the column **\"Time\"** to **\"Datetime\"**;\n",
        "Then, reorder the dataset according to the **iteraction time**."
      ]
    },
    {
      "cell_type": "code",
      "execution_count": 25,
      "id": "4112e519",
      "metadata": {
        "hidden": true,
        "colab": {
          "base_uri": "https://localhost:8080/"
        },
        "id": "4112e519",
        "outputId": "1f67fa7a-5d42-4c6c-acbc-3aa8a3aba97a"
      },
      "outputs": [
        {
          "output_type": "stream",
          "name": "stderr",
          "text": [
            "<ipython-input-25-c2b2b0609d60>:2: SettingWithCopyWarning: \n",
            "A value is trying to be set on a copy of a slice from a DataFrame.\n",
            "Try using .loc[row_indexer,col_indexer] = value instead\n",
            "\n",
            "See the caveats in the documentation: https://pandas.pydata.org/pandas-docs/stable/user_guide/indexing.html#returning-a-view-versus-a-copy\n",
            "  df_iter_no_duplicates.loc[:, ('Time')] = pd.to_datetime(df_iter_no_duplicates.loc[:, ('Time')])\n",
            "<ipython-input-25-c2b2b0609d60>:2: DeprecationWarning: In a future version, `df.iloc[:, i] = newvals` will attempt to set the values inplace instead of always setting a new array. To retain the old behavior, use either `df[df.columns[i]] = newvals` or, if columns are non-unique, `df.isetitem(i, newvals)`\n",
            "  df_iter_no_duplicates.loc[:, ('Time')] = pd.to_datetime(df_iter_no_duplicates.loc[:, ('Time')])\n"
          ]
        }
      ],
      "source": [
        "#Change data type.\n",
        "df_iter_no_duplicates.loc[:, ('Time')] = pd.to_datetime(df_iter_no_duplicates.loc[:, ('Time')])"
      ]
    },
    {
      "cell_type": "code",
      "execution_count": 26,
      "id": "ec0e8cc8",
      "metadata": {
        "hidden": true,
        "id": "ec0e8cc8"
      },
      "outputs": [],
      "source": [
        "#Sort the data type according to the Time column\n",
        "df_iter_final = df_iter_no_duplicates.sort_values('Time', ascending=True, ignore_index=True)\n",
        "df_items_final = df_items_no_duplicates.copy()"
      ]
    },
    {
      "cell_type": "code",
      "execution_count": 27,
      "id": "4ce8a18b",
      "metadata": {
        "hidden": true,
        "id": "4ce8a18b"
      },
      "outputs": [],
      "source": [
        "# Data Splitting on df_iter_final\n",
        "X, y = df_iter_final.loc[:, ('Rating', 'Time', 'UserId', 'ItemId', 'Review')][:50001], df_iter_final.loc[:, 'ItemId'][:50001]\n",
        "\n",
        "# Split for training and other datasets.\n",
        "X_train, X_test, _, _ = train_test_split(X, y, train_size=0.7, shuffle=False)"
      ]
    },
    {
      "cell_type": "code",
      "source": [
        "X"
      ],
      "metadata": {
        "colab": {
          "base_uri": "https://localhost:8080/",
          "height": 0
        },
        "id": "i0HWJ-qhZ0DN",
        "outputId": "deabc96c-1d1b-4aff-c3a2-1e249a944957"
      },
      "id": "i0HWJ-qhZ0DN",
      "execution_count": 28,
      "outputs": [
        {
          "output_type": "execute_result",
          "data": {
            "text/plain": [
              "       Rating       Time  UserId  ItemId  \\\n",
              "0           5 2000-01-10  220995    4614   \n",
              "1           5 2000-05-06  225997    5365   \n",
              "2           5 2000-06-03  225996    5365   \n",
              "3           5 2000-10-29  221070    4630   \n",
              "4           5 2000-11-12    5298      16   \n",
              "...       ...        ...     ...     ...   \n",
              "49996       4 2013-08-25   35295    1358   \n",
              "49997       5 2013-08-25   42261     277   \n",
              "49998       4 2013-08-25   35297    1358   \n",
              "49999       5 2013-08-25   82546     885   \n",
              "50000       5 2013-08-25   81389     863   \n",
              "\n",
              "                                                  Review  \n",
              "0      M (company) is about real people, and real exp...  \n",
              "1      This calender really is great.  In addition to...  \n",
              "2      This calender is brilliant and has plenty of g...  \n",
              "3      Very good shaver, I have always purchased Nore...  \n",
              "4      Talk about a smooth shave.  The blades are clo...  \n",
              "...                                                  ...  \n",
              "49996  this product functions admirably. it is slight...  \n",
              "49997  I can definitely tell this thing works! The on...  \n",
              "49998  Waterpikest in the businesst. Does what its de...  \n",
              "49999  I have used this product since I was in my tee...  \n",
              "50000  This stuff is amazing.  It keeps me fresh and ...  \n",
              "\n",
              "[50001 rows x 5 columns]"
            ],
            "text/html": [
              "\n",
              "\n",
              "  <div id=\"df-b62dc611-64a0-4864-a3f1-fb197f8a818f\">\n",
              "    <div class=\"colab-df-container\">\n",
              "      <div>\n",
              "<style scoped>\n",
              "    .dataframe tbody tr th:only-of-type {\n",
              "        vertical-align: middle;\n",
              "    }\n",
              "\n",
              "    .dataframe tbody tr th {\n",
              "        vertical-align: top;\n",
              "    }\n",
              "\n",
              "    .dataframe thead th {\n",
              "        text-align: right;\n",
              "    }\n",
              "</style>\n",
              "<table border=\"1\" class=\"dataframe\">\n",
              "  <thead>\n",
              "    <tr style=\"text-align: right;\">\n",
              "      <th></th>\n",
              "      <th>Rating</th>\n",
              "      <th>Time</th>\n",
              "      <th>UserId</th>\n",
              "      <th>ItemId</th>\n",
              "      <th>Review</th>\n",
              "    </tr>\n",
              "  </thead>\n",
              "  <tbody>\n",
              "    <tr>\n",
              "      <th>0</th>\n",
              "      <td>5</td>\n",
              "      <td>2000-01-10</td>\n",
              "      <td>220995</td>\n",
              "      <td>4614</td>\n",
              "      <td>M (company) is about real people, and real exp...</td>\n",
              "    </tr>\n",
              "    <tr>\n",
              "      <th>1</th>\n",
              "      <td>5</td>\n",
              "      <td>2000-05-06</td>\n",
              "      <td>225997</td>\n",
              "      <td>5365</td>\n",
              "      <td>This calender really is great.  In addition to...</td>\n",
              "    </tr>\n",
              "    <tr>\n",
              "      <th>2</th>\n",
              "      <td>5</td>\n",
              "      <td>2000-06-03</td>\n",
              "      <td>225996</td>\n",
              "      <td>5365</td>\n",
              "      <td>This calender is brilliant and has plenty of g...</td>\n",
              "    </tr>\n",
              "    <tr>\n",
              "      <th>3</th>\n",
              "      <td>5</td>\n",
              "      <td>2000-10-29</td>\n",
              "      <td>221070</td>\n",
              "      <td>4630</td>\n",
              "      <td>Very good shaver, I have always purchased Nore...</td>\n",
              "    </tr>\n",
              "    <tr>\n",
              "      <th>4</th>\n",
              "      <td>5</td>\n",
              "      <td>2000-11-12</td>\n",
              "      <td>5298</td>\n",
              "      <td>16</td>\n",
              "      <td>Talk about a smooth shave.  The blades are clo...</td>\n",
              "    </tr>\n",
              "    <tr>\n",
              "      <th>...</th>\n",
              "      <td>...</td>\n",
              "      <td>...</td>\n",
              "      <td>...</td>\n",
              "      <td>...</td>\n",
              "      <td>...</td>\n",
              "    </tr>\n",
              "    <tr>\n",
              "      <th>49996</th>\n",
              "      <td>4</td>\n",
              "      <td>2013-08-25</td>\n",
              "      <td>35295</td>\n",
              "      <td>1358</td>\n",
              "      <td>this product functions admirably. it is slight...</td>\n",
              "    </tr>\n",
              "    <tr>\n",
              "      <th>49997</th>\n",
              "      <td>5</td>\n",
              "      <td>2013-08-25</td>\n",
              "      <td>42261</td>\n",
              "      <td>277</td>\n",
              "      <td>I can definitely tell this thing works! The on...</td>\n",
              "    </tr>\n",
              "    <tr>\n",
              "      <th>49998</th>\n",
              "      <td>4</td>\n",
              "      <td>2013-08-25</td>\n",
              "      <td>35297</td>\n",
              "      <td>1358</td>\n",
              "      <td>Waterpikest in the businesst. Does what its de...</td>\n",
              "    </tr>\n",
              "    <tr>\n",
              "      <th>49999</th>\n",
              "      <td>5</td>\n",
              "      <td>2013-08-25</td>\n",
              "      <td>82546</td>\n",
              "      <td>885</td>\n",
              "      <td>I have used this product since I was in my tee...</td>\n",
              "    </tr>\n",
              "    <tr>\n",
              "      <th>50000</th>\n",
              "      <td>5</td>\n",
              "      <td>2013-08-25</td>\n",
              "      <td>81389</td>\n",
              "      <td>863</td>\n",
              "      <td>This stuff is amazing.  It keeps me fresh and ...</td>\n",
              "    </tr>\n",
              "  </tbody>\n",
              "</table>\n",
              "<p>50001 rows × 5 columns</p>\n",
              "</div>\n",
              "      <button class=\"colab-df-convert\" onclick=\"convertToInteractive('df-b62dc611-64a0-4864-a3f1-fb197f8a818f')\"\n",
              "              title=\"Convert this dataframe to an interactive table.\"\n",
              "              style=\"display:none;\">\n",
              "\n",
              "  <svg xmlns=\"http://www.w3.org/2000/svg\" height=\"24px\"viewBox=\"0 0 24 24\"\n",
              "       width=\"24px\">\n",
              "    <path d=\"M0 0h24v24H0V0z\" fill=\"none\"/>\n",
              "    <path d=\"M18.56 5.44l.94 2.06.94-2.06 2.06-.94-2.06-.94-.94-2.06-.94 2.06-2.06.94zm-11 1L8.5 8.5l.94-2.06 2.06-.94-2.06-.94L8.5 2.5l-.94 2.06-2.06.94zm10 10l.94 2.06.94-2.06 2.06-.94-2.06-.94-.94-2.06-.94 2.06-2.06.94z\"/><path d=\"M17.41 7.96l-1.37-1.37c-.4-.4-.92-.59-1.43-.59-.52 0-1.04.2-1.43.59L10.3 9.45l-7.72 7.72c-.78.78-.78 2.05 0 2.83L4 21.41c.39.39.9.59 1.41.59.51 0 1.02-.2 1.41-.59l7.78-7.78 2.81-2.81c.8-.78.8-2.07 0-2.86zM5.41 20L4 18.59l7.72-7.72 1.47 1.35L5.41 20z\"/>\n",
              "  </svg>\n",
              "      </button>\n",
              "\n",
              "\n",
              "\n",
              "    <div id=\"df-445ea323-b3f0-4fc3-b4ad-701103fdc613\">\n",
              "      <button class=\"colab-df-quickchart\" onclick=\"quickchart('df-445ea323-b3f0-4fc3-b4ad-701103fdc613')\"\n",
              "              title=\"Suggest charts.\"\n",
              "              style=\"display:none;\">\n",
              "\n",
              "<svg xmlns=\"http://www.w3.org/2000/svg\" height=\"24px\"viewBox=\"0 0 24 24\"\n",
              "     width=\"24px\">\n",
              "    <g>\n",
              "        <path d=\"M19 3H5c-1.1 0-2 .9-2 2v14c0 1.1.9 2 2 2h14c1.1 0 2-.9 2-2V5c0-1.1-.9-2-2-2zM9 17H7v-7h2v7zm4 0h-2V7h2v10zm4 0h-2v-4h2v4z\"/>\n",
              "    </g>\n",
              "</svg>\n",
              "      </button>\n",
              "    </div>\n",
              "\n",
              "<style>\n",
              "  .colab-df-quickchart {\n",
              "    background-color: #E8F0FE;\n",
              "    border: none;\n",
              "    border-radius: 50%;\n",
              "    cursor: pointer;\n",
              "    display: none;\n",
              "    fill: #1967D2;\n",
              "    height: 32px;\n",
              "    padding: 0 0 0 0;\n",
              "    width: 32px;\n",
              "  }\n",
              "\n",
              "  .colab-df-quickchart:hover {\n",
              "    background-color: #E2EBFA;\n",
              "    box-shadow: 0px 1px 2px rgba(60, 64, 67, 0.3), 0px 1px 3px 1px rgba(60, 64, 67, 0.15);\n",
              "    fill: #174EA6;\n",
              "  }\n",
              "\n",
              "  [theme=dark] .colab-df-quickchart {\n",
              "    background-color: #3B4455;\n",
              "    fill: #D2E3FC;\n",
              "  }\n",
              "\n",
              "  [theme=dark] .colab-df-quickchart:hover {\n",
              "    background-color: #434B5C;\n",
              "    box-shadow: 0px 1px 3px 1px rgba(0, 0, 0, 0.15);\n",
              "    filter: drop-shadow(0px 1px 2px rgba(0, 0, 0, 0.3));\n",
              "    fill: #FFFFFF;\n",
              "  }\n",
              "</style>\n",
              "\n",
              "    <script>\n",
              "      async function quickchart(key) {\n",
              "        const containerElement = document.querySelector('#' + key);\n",
              "        const charts = await google.colab.kernel.invokeFunction(\n",
              "            'suggestCharts', [key], {});\n",
              "      }\n",
              "    </script>\n",
              "\n",
              "      <script>\n",
              "\n",
              "function displayQuickchartButton(domScope) {\n",
              "  let quickchartButtonEl =\n",
              "    domScope.querySelector('#df-445ea323-b3f0-4fc3-b4ad-701103fdc613 button.colab-df-quickchart');\n",
              "  quickchartButtonEl.style.display =\n",
              "    google.colab.kernel.accessAllowed ? 'block' : 'none';\n",
              "}\n",
              "\n",
              "        displayQuickchartButton(document);\n",
              "      </script>\n",
              "      <style>\n",
              "    .colab-df-container {\n",
              "      display:flex;\n",
              "      flex-wrap:wrap;\n",
              "      gap: 12px;\n",
              "    }\n",
              "\n",
              "    .colab-df-convert {\n",
              "      background-color: #E8F0FE;\n",
              "      border: none;\n",
              "      border-radius: 50%;\n",
              "      cursor: pointer;\n",
              "      display: none;\n",
              "      fill: #1967D2;\n",
              "      height: 32px;\n",
              "      padding: 0 0 0 0;\n",
              "      width: 32px;\n",
              "    }\n",
              "\n",
              "    .colab-df-convert:hover {\n",
              "      background-color: #E2EBFA;\n",
              "      box-shadow: 0px 1px 2px rgba(60, 64, 67, 0.3), 0px 1px 3px 1px rgba(60, 64, 67, 0.15);\n",
              "      fill: #174EA6;\n",
              "    }\n",
              "\n",
              "    [theme=dark] .colab-df-convert {\n",
              "      background-color: #3B4455;\n",
              "      fill: #D2E3FC;\n",
              "    }\n",
              "\n",
              "    [theme=dark] .colab-df-convert:hover {\n",
              "      background-color: #434B5C;\n",
              "      box-shadow: 0px 1px 3px 1px rgba(0, 0, 0, 0.15);\n",
              "      filter: drop-shadow(0px 1px 2px rgba(0, 0, 0, 0.3));\n",
              "      fill: #FFFFFF;\n",
              "    }\n",
              "  </style>\n",
              "\n",
              "      <script>\n",
              "        const buttonEl =\n",
              "          document.querySelector('#df-b62dc611-64a0-4864-a3f1-fb197f8a818f button.colab-df-convert');\n",
              "        buttonEl.style.display =\n",
              "          google.colab.kernel.accessAllowed ? 'block' : 'none';\n",
              "\n",
              "        async function convertToInteractive(key) {\n",
              "          const element = document.querySelector('#df-b62dc611-64a0-4864-a3f1-fb197f8a818f');\n",
              "          const dataTable =\n",
              "            await google.colab.kernel.invokeFunction('convertToInteractive',\n",
              "                                                     [key], {});\n",
              "          if (!dataTable) return;\n",
              "\n",
              "          const docLinkHtml = 'Like what you see? Visit the ' +\n",
              "            '<a target=\"_blank\" href=https://colab.research.google.com/notebooks/data_table.ipynb>data table notebook</a>'\n",
              "            + ' to learn more about interactive tables.';\n",
              "          element.innerHTML = '';\n",
              "          dataTable['output_type'] = 'display_data';\n",
              "          await google.colab.output.renderOutput(dataTable, element);\n",
              "          const docLink = document.createElement('div');\n",
              "          docLink.innerHTML = docLinkHtml;\n",
              "          element.appendChild(docLink);\n",
              "        }\n",
              "      </script>\n",
              "    </div>\n",
              "  </div>\n"
            ]
          },
          "metadata": {},
          "execution_count": 28
        }
      ]
    },
    {
      "cell_type": "code",
      "execution_count": 29,
      "id": "9fc2f5c7",
      "metadata": {
        "hidden": true,
        "id": "9fc2f5c7"
      },
      "outputs": [],
      "source": [
        "# Split for training and other datasets.\n",
        "X_train, X_test, _, _ = train_test_split(X, y, train_size=0.7, shuffle=False)"
      ]
    },
    {
      "cell_type": "markdown",
      "id": "8a76c971",
      "metadata": {
        "id": "8a76c971"
      },
      "source": [
        "# 3. Recommendation Models"
      ]
    },
    {
      "cell_type": "markdown",
      "source": [
        "<h3>Datasets introduction:</h3>\n",
        " <li> Final processed datasets: df_items_final for items dataset and df_iter_final for iteraction dataset;</li>\n",
        " <li> X_train(val/test): splitted useful information datasets from iteraction dataset;</li>\n",
        " <li> y_train(val/test): recommendation validates datasets.</li>"
      ],
      "metadata": {
        "id": "jRCKzh3fq3VB"
      },
      "id": "jRCKzh3fq3VB"
    },
    {
      "cell_type": "code",
      "source": [
        "# User chosen\n",
        "# Filter out the users exist in both datasets (train and test datasets.), it means that these uses are not new user, also not buying anymore.\n",
        "common_user = set(X_train['UserId']) & set(X_test['UserId']) #549\n",
        "X_train_common = X_train[X_train['UserId'].isin(common_user)]\n",
        "\n",
        "#Filter out the users have cold start problem. (Not exist in training set but exist in testing set.)\n",
        "\n",
        "cs_user = set(X_test['UserId']) - set(X_train['UserId']) #27012\n",
        "X_train_cs = X_test[X_test['UserId'].isin(cs_user)]\n",
        "\n",
        "#Total: 87411\n",
        "#Except the users not exist in common and cold start groups: 27561"
      ],
      "metadata": {
        "id": "UqWUzuK0jFgK"
      },
      "id": "UqWUzuK0jFgK",
      "execution_count": 30,
      "outputs": []
    },
    {
      "cell_type": "code",
      "source": [
        "len(cs_user)"
      ],
      "metadata": {
        "colab": {
          "base_uri": "https://localhost:8080/"
        },
        "id": "R_45r_U4P3ZH",
        "outputId": "84bdf850-9943-4be0-84b8-9fafb13b8d82"
      },
      "id": "R_45r_U4P3ZH",
      "execution_count": 31,
      "outputs": [
        {
          "output_type": "execute_result",
          "data": {
            "text/plain": [
              "12774"
            ]
          },
          "metadata": {},
          "execution_count": 31
        }
      ]
    },
    {
      "cell_type": "code",
      "source": [
        "len(common_user)"
      ],
      "metadata": {
        "colab": {
          "base_uri": "https://localhost:8080/"
        },
        "id": "1M7nfbiDPY0h",
        "outputId": "6ecfdb80-cde5-4e19-90b4-86400d293e29"
      },
      "id": "1M7nfbiDPY0h",
      "execution_count": 32,
      "outputs": [
        {
          "output_type": "execute_result",
          "data": {
            "text/plain": [
              "223"
            ]
          },
          "metadata": {},
          "execution_count": 32
        }
      ]
    },
    {
      "cell_type": "code",
      "source": [
        "len(common_user | cs_user)"
      ],
      "metadata": {
        "colab": {
          "base_uri": "https://localhost:8080/"
        },
        "id": "_tSywGeQPO6v",
        "outputId": "0ae25a59-b920-4ca0-c933-ba451ea86c7f"
      },
      "id": "_tSywGeQPO6v",
      "execution_count": 33,
      "outputs": [
        {
          "output_type": "execute_result",
          "data": {
            "text/plain": [
              "12997"
            ]
          },
          "metadata": {},
          "execution_count": 33
        }
      ]
    },
    {
      "cell_type": "code",
      "source": [
        "len(set(X_train['UserId']) | set(X_test['UserId']))"
      ],
      "metadata": {
        "colab": {
          "base_uri": "https://localhost:8080/"
        },
        "id": "ocxrPAf6UQZW",
        "outputId": "03c4040e-7c50-4fc6-de57-a329cf1915f6"
      },
      "id": "ocxrPAf6UQZW",
      "execution_count": 34,
      "outputs": [
        {
          "output_type": "execute_result",
          "data": {
            "text/plain": [
              "43119"
            ]
          },
          "metadata": {},
          "execution_count": 34
        }
      ]
    },
    {
      "cell_type": "markdown",
      "id": "800b3e74",
      "metadata": {
        "heading_collapsed": true,
        "id": "800b3e74"
      },
      "source": [
        "## 3.1 Popularity model"
      ]
    },
    {
      "cell_type": "markdown",
      "id": "b5d7da65",
      "metadata": {
        "hidden": true,
        "id": "b5d7da65"
      },
      "source": [
        "In this model, we plan to **calculate the popularity of all items** and **rank them** according to the **popularity (average rating it reveived)**. <br/> <br/>\n",
        "Then, we should form **personalized recommendation list** for each user (**exclude the objects they bought befor**). Then recommend them **the most popular product(s)**."
      ]
    },
    {
      "cell_type": "markdown",
      "id": "a0016d38",
      "metadata": {
        "hidden": true,
        "id": "a0016d38"
      },
      "source": [
        "<h3>Important: here we only consider the average of items being purchased over 500 times.</h3>"
      ]
    },
    {
      "cell_type": "code",
      "execution_count": 35,
      "id": "57402343",
      "metadata": {
        "hidden": true,
        "id": "57402343"
      },
      "outputs": [],
      "source": [
        "# Select out the popular items dataset\n",
        "# Select the Items being purchased over 500 times\n",
        "a1_purchased_count = (X_train['ItemId'].value_counts())[X_train['ItemId'].value_counts()>=500]\n",
        "a1_filter_items = a1_purchased_count.index.to_list()\n",
        "a1_filtered_dataset = X_train[X_train['ItemId'].isin(a1_filter_items)]"
      ]
    },
    {
      "cell_type": "code",
      "execution_count": 36,
      "id": "a2f43ca7",
      "metadata": {
        "hidden": true,
        "id": "a2f43ca7"
      },
      "outputs": [],
      "source": [
        "#Calculate the average scores of each item and rank them. Here we get the recommendation list globally.\n",
        "a1_glo_recommend_dataset = a1_filtered_dataset.groupby('ItemId')['Rating'].mean().sort_values(ascending=False)\n",
        "a1_glo_recommend_items = a1_glo_recommend_dataset.index.to_series()"
      ]
    },
    {
      "cell_type": "code",
      "execution_count": 37,
      "id": "3e095561",
      "metadata": {
        "hidden": true,
        "id": "3e095561"
      },
      "outputs": [],
      "source": [
        "#Then according to each user's historical behaviors, we exclude all the items have bought by each user, the recommend them the most popular item.\n",
        "def a1_item_recommend(database, glo_recommend_items, user_id, n_top=1):\n",
        "    #Find out the ItemId of all items user has bought before.\n",
        "    items_purchased = database[database['UserId'] == user_id].ItemId.values\n",
        "    #Filter out these items and return the recommendation list\n",
        "    common_ele = glo_recommend_items[glo_recommend_items.isin(items_purchased)]\n",
        "    recommendation = glo_recommend_items[~glo_recommend_items.isin(common_ele)].values[:n_top]\n",
        "    return recommendation"
      ]
    },
    {
      "cell_type": "code",
      "execution_count": 38,
      "id": "52cb209c",
      "metadata": {
        "hidden": true,
        "scrolled": true,
        "id": "52cb209c"
      },
      "outputs": [],
      "source": [
        "# Run for users except neither common nor cold start group, get the dictionary of recommendation for each user.\n",
        "a1_dict = dict()\n",
        "\n",
        "for user_id in (common_user | cs_user):\n",
        "  a1_recommendation = a1_item_recommend(X_train, a1_glo_recommend_items, user_id)\n",
        "  a1_dict[user_id] = a1_recommendation"
      ]
    },
    {
      "cell_type": "markdown",
      "id": "e87ba88d",
      "metadata": {
        "id": "e87ba88d"
      },
      "source": [
        "## 3.2 Content-based model"
      ]
    },
    {
      "cell_type": "code",
      "execution_count": 39,
      "id": "0d19dec7",
      "metadata": {
        "id": "0d19dec7"
      },
      "outputs": [],
      "source": [
        "#Special processes for Nan values to desciption column in items dataset and to review column in X_train dataset.\n",
        "df_items_final['Description'] = df_items_final['Description'].fillna('None')\n",
        "X_train['Review'] = X_train['Review'].fillna('None')"
      ]
    },
    {
      "cell_type": "code",
      "execution_count": 40,
      "id": "77cf3c1c",
      "metadata": {
        "id": "77cf3c1c"
      },
      "outputs": [],
      "source": [
        "#Create feature vectors according to the description of objects.\n",
        "#Instantiating Objects\n",
        "tfidf = TfidfVectorizer(lowercase=True, stop_words='english')\n",
        "item_features = tfidf.fit_transform(df_items_final['Description'])\n"
      ]
    },
    {
      "cell_type": "code",
      "source": [
        "#Merge all reviews given by the same user.\n",
        "user_reviews = X_train.groupby(by='UserId', axis=0, group_keys = False)['Review'].apply(''.join)\n",
        "\n",
        "#Calculate user-profile by using the reviews of them.\n",
        "# user_features = tfidf.transform(user_reviews)\n",
        "# user_profile = pd.DataFrame(user_features.toarray())\n",
        "user_profile = tfidf.transform(user_reviews)"
      ],
      "metadata": {
        "id": "gzLNrVRPfi0d"
      },
      "id": "gzLNrVRPfi0d",
      "execution_count": 41,
      "outputs": []
    },
    {
      "cell_type": "code",
      "source": [
        "#Calculate the similarity matrix between items and users.\n",
        "al2_cos = cosine_similarity(user_profile, item_features)\n",
        "np.fill_diagonal(al2_cos, 0)\n",
        "al2_cos = pd.DataFrame(al2_cos)"
      ],
      "metadata": {
        "id": "T0CPmK4tx4Na"
      },
      "id": "T0CPmK4tx4Na",
      "execution_count": 42,
      "outputs": []
    },
    {
      "cell_type": "code",
      "source": [
        "# Exclude the items them bought\n",
        "# And recommend user with item with the highest similarity score for them.\n",
        "def a2_item_recommend(al2_cos, user_id, top_n=3):\n",
        "  item_sim = al2_cos.iloc[user_id, :]\n",
        "  recommendation = item_sim.sort_values(ascending=False).index[:top_n]\n",
        "  return recommendation"
      ],
      "metadata": {
        "id": "cX3x4v9UrVkI"
      },
      "id": "cX3x4v9UrVkI",
      "execution_count": 61,
      "outputs": []
    },
    {
      "cell_type": "code",
      "source": [
        "#Create a dictionary to store the result of recommendation to each user.\n",
        "a2_dict = dict()\n",
        "for user_id in common_user:\n",
        "  try:\n",
        "    a2_recommendation = a2_item_recommend(al2_cos, user_id=user_id)\n",
        "  except IndexError:\n",
        "    continue\n",
        "  a2_dict[user_id] = a2_recommendation"
      ],
      "metadata": {
        "id": "StbzHd6SseW0"
      },
      "id": "StbzHd6SseW0",
      "execution_count": 62,
      "outputs": []
    },
    {
      "cell_type": "markdown",
      "id": "347907f6",
      "metadata": {
        "id": "347907f6"
      },
      "source": [
        "## 3.3 Collaborative filtering model"
      ]
    },
    {
      "cell_type": "markdown",
      "id": "8b46abbc",
      "metadata": {
        "id": "8b46abbc"
      },
      "source": [
        "After analysing the structure of the two datasets: the amount of **user** is **much bigger** the amount of **item**.<br/><br/>\n",
        "Thus, in this case, we plan to do **item-based memory** model."
      ]
    },
    {
      "cell_type": "code",
      "execution_count": 45,
      "id": "a1ec4f46",
      "metadata": {
        "scrolled": true,
        "id": "a1ec4f46"
      },
      "outputs": [],
      "source": [
        "#Create a pivot to set 'ItemId' as the index, 'UserId' as the column and \"ratings\" as values.\n",
        "#Then fill all the Nan values with 0.\n",
        "al3_pivot = X_train[['UserId', 'ItemId', 'Rating']].pivot_table(index='ItemId', columns='UserId', values='Rating').fillna(0).sort_index(axis=0, ascending=True)"
      ]
    },
    {
      "cell_type": "code",
      "execution_count": 46,
      "id": "93e1c02c",
      "metadata": {
        "id": "93e1c02c"
      },
      "outputs": [],
      "source": [
        "#Calculate the similarities between items.\n",
        "al3_cos = cosine_similarity(al3_pivot)\n",
        "np.fill_diagonal(al3_cos, 0)\n",
        "#Turn it into a dataframe.\n",
        "al3_cos = pd.DataFrame(al3_cos)"
      ]
    },
    {
      "cell_type": "code",
      "execution_count": 47,
      "id": "045c3b0a",
      "metadata": {
        "colab": {
          "base_uri": "https://localhost:8080/"
        },
        "id": "045c3b0a",
        "outputId": "979a8c96-c03a-4ccc-cd37-2ad24663d620"
      },
      "outputs": [
        {
          "output_type": "execute_result",
          "data": {
            "text/plain": [
              "Int64Index([    0,     3,     5,     8,     9,    10,    11,    12,    13,\n",
              "               14,\n",
              "            ...\n",
              "            25955, 26103, 26213, 26344, 26790, 27020, 27505, 27560, 27586,\n",
              "            27602],\n",
              "           dtype='int64', name='ItemId', length=3853)"
            ]
          },
          "metadata": {},
          "execution_count": 47
        }
      ],
      "source": [
        "al3_pivot.index"
      ]
    },
    {
      "cell_type": "code",
      "execution_count": 48,
      "id": "b9556382",
      "metadata": {
        "id": "b9556382"
      },
      "outputs": [],
      "source": [
        "#Algorithm to recommend products to users.\n",
        "def a3_item_recommend(al3_pivot, al3_cos, user_id, top_n=3):\n",
        "    #Get the items this user rated.\n",
        "    rated_items = X_train[X_train['UserId'] == user_id]['ItemId'].tolist()\n",
        "    #Calculate the similarity score between the items rated and other unrated items.\n",
        "    item_scores = dict()\n",
        "    for item in rated_items:\n",
        "        sim_scores = al3_cos[item]\n",
        "        rated_item_scores = al3_pivot[user_id]\n",
        "        weighted_scores = sim_scores * rated_item_scores\n",
        "        item_scores.update(zip(al3_pivot.index, weighted_scores))\n",
        "\n",
        "    #Delete the items user has bought before.\n",
        "    for item in rated_items:\n",
        "        if item in item_scores:\n",
        "            del item_scores[item]\n",
        "\n",
        "    #Recommend the item to the user\n",
        "    recommendation = sorted(item_scores.items(), key=lambda x: x[1], reverse=True)[:5]\n",
        "    return recommendation"
      ]
    },
    {
      "cell_type": "code",
      "execution_count": 49,
      "id": "c6789d49",
      "metadata": {
        "id": "c6789d49"
      },
      "outputs": [],
      "source": [
        "a3_dict = dict()\n",
        "for user_id in common_user:\n",
        "  try:\n",
        "    a3_recommendation = a3_item_recommend(al3_pivot, al3_cos, user_id)\n",
        "  except ValueError:\n",
        "    continue\n",
        "  except KeyError:\n",
        "    continue\n",
        "  a3_dict[user_id] = a3_recommendation"
      ]
    },
    {
      "cell_type": "code",
      "source": [
        "a3_dict"
      ],
      "metadata": {
        "id": "CrBao86_afkT",
        "colab": {
          "base_uri": "https://localhost:8080/"
        },
        "outputId": "e69e94a2-3169-4f53-b163-d0ec822db692"
      },
      "id": "CrBao86_afkT",
      "execution_count": 50,
      "outputs": [
        {
          "output_type": "execute_result",
          "data": {
            "text/plain": [
              "{42496: [(0, 0.0), (3, nan), (5, nan), (8, 0.0), (9, nan)],\n",
              " 40970: [(0, 0.0), (3, nan), (5, nan), (8, 0.0), (9, nan)],\n",
              " 35854: [(0, 0.0), (3, nan), (5, nan), (8, 0.0), (9, nan)],\n",
              " 37391: [(0, 0.0), (3, nan), (5, nan), (8, 0.0), (9, nan)],\n",
              " 19982: [(0, 0.0), (3, nan), (5, nan), (8, 0.0), (9, nan)],\n",
              " 62993: [(0, 0.0), (3, nan), (5, nan), (8, 0.0), (9, nan)],\n",
              " 38418: [(0, 0.0), (3, nan), (5, nan), (8, 0.0), (9, nan)],\n",
              " 12819: [(0, 0.0), (3, nan), (5, nan), (8, 0.0), (9, nan)],\n",
              " 28180: [(0, 0.0), (3, nan), (5, nan), (8, 0.0), (9, nan)],\n",
              " 42518: [(0, 0.0), (3, nan), (5, nan), (8, 0.0), (9, nan)],\n",
              " 49175: [(0, 0.0), (3, nan), (5, nan), (8, 0.0), (9, nan)],\n",
              " 19479: [(0, 0.0), (3, nan), (5, nan), (8, 0.0), (9, nan)],\n",
              " 60444: [(0, 0.0), (3, nan), (5, nan), (8, 0.0), (9, nan)],\n",
              " 46624: [(0, 0.0), (3, nan), (5, nan), (8, 0.0), (9, nan)],\n",
              " 40993: [(0, 0.0), (3, nan), (5, nan), (8, 0.0), (9, nan)],\n",
              " 42018: [(0, 0.0), (3, nan), (5, nan), (8, 0.0), (9, nan)],\n",
              " 63009: [(0, 0.0), (3, nan), (5, nan), (8, 0.0), (9, nan)],\n",
              " 229413: [(0, 0.0), (3, nan), (5, nan), (8, 0.0), (9, nan)],\n",
              " 13350: [(0, 0.0), (3, nan), (5, nan), (8, 0.0), (9, nan)],\n",
              " 20517: [(0, 0.0), (3, nan), (5, nan), (8, 0.0), (9, nan)],\n",
              " 14376: [(0, 0.0), (3, nan), (5, nan), (8, 0.0), (9, nan)],\n",
              " 11817: [(0, 0.0), (3, nan), (5, nan), (8, 0.0), (9, nan)],\n",
              " 7210: [(0, 0.0), (3, nan), (5, nan), (8, 0.0), (9, nan)],\n",
              " 37934: [(0, 0.0), (3, nan), (5, nan), (8, 0.0), (9, nan)],\n",
              " 19512: [(0, 0.0), (3, nan), (5, nan), (8, 0.0), (9, nan)],\n",
              " 29755: [(0, 0.0), (3, nan), (5, nan), (8, 0.0), (9, nan)],\n",
              " 9789: [(0, 0.0), (3, nan), (5, nan), (8, 0.0), (9, nan)],\n",
              " 86591: [(0, 0.0), (3, nan), (5, nan), (8, 0.0), (9, nan)],\n",
              " 55358: [(0, 0.0), (3, nan), (5, nan), (8, 0.0), (9, nan)],\n",
              " 20033: [(0, 0.0), (3, nan), (5, nan), (8, 0.0), (9, nan)],\n",
              " 55359: [(0, 0.0), (3, nan), (5, nan), (8, 0.0), (9, nan)],\n",
              " 55361: [(0, 0.0), (3, nan), (5, nan), (8, 0.0), (9, nan)],\n",
              " 59969: [(0, 0.0), (3, nan), (5, nan), (8, 0.0), (9, nan)],\n",
              " 35910: [(0, 0.0), (3, nan), (5, nan), (8, 0.0), (9, nan)],\n",
              " 36424: [(0, 0.0), (3, nan), (5, nan), (8, 0.0), (9, nan)],\n",
              " 83026: [(0, 0.0), (3, nan), (5, nan), (8, 0.0), (9, nan)],\n",
              " 74327: [(0, 0.0), (3, nan), (5, nan), (8, 0.0), (9, nan)],\n",
              " 42073: [(0, 0.0), (3, nan), (5, nan), (8, 0.0), (9, nan)],\n",
              " 15449: [(0, 0.0), (3, nan), (5, nan), (8, 0.0), (9, nan)],\n",
              " 16988: [(0, 0.0), (3, nan), (5, nan), (8, 0.0), (9, nan)],\n",
              " 39012: [(0, 0.0), (3, nan), (5, nan), (8, 0.0), (9, nan)],\n",
              " 16996: [(0, 0.0), (3, nan), (5, nan), (8, 0.0), (9, nan)],\n",
              " 14460: [(0, 0.0), (3, nan), (5, nan), (8, 0.0), (9, nan)],\n",
              " 13949: [(0, 0.0), (3, nan), (5, nan), (8, 0.0), (9, nan)],\n",
              " 57467: [(0, 0.0), (3, nan), (5, nan), (8, 0.0), (9, nan)],\n",
              " 56453: [(0, 0.0), (3, nan), (5, nan), (8, 0.0), (9, nan)],\n",
              " 18566: [(0, 0.0), (3, nan), (5, nan), (8, 0.0), (9, nan)],\n",
              " 23176: [(0, 0.0), (3, nan), (5, nan), (8, 0.0), (9, nan)],\n",
              " 57483: [(0, 0.0), (3, nan), (5, nan), (8, 0.0), (9, nan)],\n",
              " 80012: [(0, 0.0), (3, nan), (5, nan), (8, 0.0), (9, nan)],\n",
              " 37005: [(0, 0.0), (3, nan), (5, nan), (8, 0.0), (9, nan)],\n",
              " 41615: [(0, 0.0), (3, nan), (5, nan), (8, 0.0), (9, nan)],\n",
              " 81040: [(0, 0.0), (3, nan), (5, nan), (8, 0.0), (9, nan)],\n",
              " 20628: [(0, 0.0), (3, nan), (5, nan), (8, 0.0), (9, nan)],\n",
              " 41626: [(0, 0.0), (3, nan), (5, nan), (8, 0.0), (9, nan)],\n",
              " 41627: [(0, 0.0), (3, nan), (5, nan), (8, 0.0), (9, nan)],\n",
              " 45212: [(0, 0.0), (3, nan), (5, nan), (8, 0.0), (9, nan)],\n",
              " 44703: [(0, 0.0), (3, nan), (5, nan), (8, 0.0), (9, nan)],\n",
              " 10913: [(0, 0.0), (3, nan), (5, nan), (8, 0.0), (9, nan)],\n",
              " 17061: [(0, 0.0), (3, nan), (5, nan), (8, 0.0), (9, nan)],\n",
              " 63655: [(0, 0.0), (3, nan), (5, nan), (8, 0.0), (9, nan)],\n",
              " 14508: [(0, 0.0), (3, nan), (5, nan), (8, 0.0), (9, nan)],\n",
              " 59054: [(0, 0.0), (3, nan), (5, nan), (8, 0.0), (9, nan)],\n",
              " 46773: [(0, 0.0), (3, nan), (5, nan), (8, 0.0), (9, nan)],\n",
              " 11447: [(0, 0.0), (3, nan), (5, nan), (8, 0.0), (9, nan)],\n",
              " 24759: [(0, 0.0), (3, nan), (5, nan), (8, 0.0), (9, nan)],\n",
              " 76473: [(0, 0.0), (3, nan), (5, nan), (8, 0.0), (9, nan)],\n",
              " 47290: [(0, 0.0), (3, nan), (5, nan), (8, 0.0), (9, nan)],\n",
              " 47293: [(0, 0.0), (3, nan), (5, nan), (8, 0.0), (9, nan)],\n",
              " 37054: [(0, 0.0), (3, nan), (5, nan), (8, 0.0), (9, nan)],\n",
              " 11965: [(0, 0.0), (3, nan), (5, nan), (8, 0.0), (9, nan)],\n",
              " 24770: [(0, 0.0), (3, nan), (5, nan), (8, 0.0), (9, nan)],\n",
              " 36547: [(0, 0.0), (3, nan), (5, nan), (8, 0.0), (9, nan)],\n",
              " 36548: [(0, 0.0), (3, nan), (5, nan), (8, 0.0), (9, nan)],\n",
              " 38597: [(0, 0.0), (3, nan), (5, nan), (8, 0.0), (9, nan)],\n",
              " 71878: [(0, 0.0), (3, nan), (5, nan), (8, 0.0), (9, nan)],\n",
              " 15558: [(0, 0.0), (3, nan), (5, nan), (8, 0.0), (9, nan)],\n",
              " 36552: [(0, 0.0), (3, nan), (5, nan), (8, 0.0), (9, nan)],\n",
              " 36553: [(0, 0.0), (3, nan), (5, nan), (8, 0.0), (9, nan)],\n",
              " 36554: [(0, 0.0), (3, nan), (5, nan), (8, 0.0), (9, nan)],\n",
              " 64710: [(0, 0.0), (3, nan), (5, nan), (8, 0.0), (9, nan)],\n",
              " 64711: [(0, 0.0), (3, nan), (5, nan), (8, 0.0), (9, nan)],\n",
              " 230605: [(0, 0.0), (3, nan), (5, nan), (8, 0.0), (9, nan)],\n",
              " 71888: [(0, 0.0), (3, nan), (5, nan), (8, 0.0), (9, nan)],\n",
              " 41692: [(0, 0.0), (3, nan), (5, nan), (8, 0.0), (9, nan)],\n",
              " 28903: [(0, 0.0), (3, nan), (5, nan), (8, 0.0), (9, nan)],\n",
              " 13546: [(0, 0.0), (3, nan), (5, nan), (8, 0.0), (9, nan)],\n",
              " 37616: [(0, 0.0), (3, nan), (5, nan), (8, 0.0), (9, nan)],\n",
              " 50416: [(0, 0.0), (3, nan), (5, nan), (8, 0.0), (9, nan)],\n",
              " 10491: [(0, 0.0), (3, nan), (5, nan), (8, 0.0), (9, nan)],\n",
              " 36606: [(0, 0.0), (3, nan), (5, nan), (8, 0.0), (9, nan)],\n",
              " 22274: [(0, 0.0), (3, nan), (5, nan), (8, 0.0), (9, nan)],\n",
              " 239879: [(0, 0.0), (3, nan), (5, nan), (8, 0.0), (9, nan)],\n",
              " 64062: [(0, 0.0), (3, nan), (5, nan), (8, 0.0), (9, nan)],\n",
              " 93451: [(0, 0.0), (3, nan), (5, nan), (8, 0.0), (9, nan)],\n",
              " 18703: [(0, 0.0), (3, nan), (5, nan), (8, 0.0), (9, nan)],\n",
              " 28946: [(0, 0.0), (3, nan), (5, nan), (8, 0.0), (9, nan)],\n",
              " 63762: [(0, 0.0), (3, nan), (5, nan), (8, 0.0), (9, nan)],\n",
              " 10517: [(474, 0.15744401319791318), (0, 0.0), (3, nan), (5, nan), (8, 0.0)],\n",
              " 36121: [(0, 0.0), (3, nan), (5, nan), (8, 0.0), (9, nan)],\n",
              " 131866: [(0, 0.0), (3, nan), (5, nan), (8, 0.0), (9, nan)],\n",
              " 98594: [(0, 0.0), (3, nan), (5, nan), (8, 0.0), (9, nan)],\n",
              " 80675: [(0, 0.0), (3, nan), (5, nan), (8, 0.0), (9, nan)],\n",
              " 65316: [(0, 0.0), (3, nan), (5, nan), (8, 0.0), (9, nan)],\n",
              " 11560: [(0, 0.0), (3, nan), (5, nan), (8, 0.0), (9, nan)],\n",
              " 43818: [(0, 0.0), (3, nan), (5, nan), (8, 0.0), (9, nan)],\n",
              " 42286: [(0, 0.0), (3, nan), (5, nan), (8, 0.0), (9, nan)],\n",
              " 43823: [(0, 0.0), (3, nan), (5, nan), (8, 0.0), (9, nan)],\n",
              " 52015: [(0, 0.0), (3, nan), (5, nan), (8, 0.0), (9, nan)],\n",
              " 11571: [(0, 0.0), (3, nan), (5, nan), (8, 0.0), (9, nan)],\n",
              " 75573: [(0, 0.0), (3, nan), (5, nan), (8, 0.0), (9, nan)],\n",
              " 39225: [(0, 0.0), (3, nan), (5, nan), (8, 0.0), (9, nan)],\n",
              " 45881: [(0, 0.0), (3, nan), (5, nan), (8, 0.0), (9, nan)],\n",
              " 14651: [(0, 0.0), (3, nan), (5, nan), (8, 0.0), (9, nan)],\n",
              " 14140: [(0, 0.0), (3, nan), (5, nan), (8, 0.0), (9, nan)],\n",
              " 85306: [(0, 0.0), (3, nan), (5, nan), (8, 0.0), (9, nan)],\n",
              " 20796: [(0, 0.0), (3, nan), (5, nan), (8, 0.0), (9, nan)],\n",
              " 22334: [(0, 0.0), (3, nan), (5, nan), (8, 0.0), (9, nan)],\n",
              " 28994: [(0, 0.0), (3, nan), (5, nan), (8, 0.0), (9, nan)],\n",
              " 42308: [(0, 0.0), (3, nan), (5, nan), (8, 0.0), (9, nan)],\n",
              " 9542: [(0, 0.0), (3, nan), (5, nan), (8, 0.0), (9, nan)],\n",
              " 38215: [(0, 0.0), (3, nan), (5, nan), (8, 0.0), (9, nan)],\n",
              " 164687: [(0, 0.0), (3, nan), (5, nan), (8, 0.0), (9, nan)],\n",
              " 164688: [(0, 0.0), (3, nan), (5, nan), (8, 0.0), (9, nan)],\n",
              " 22863: [(0, 0.0), (3, nan), (5, nan), (8, 0.0), (9, nan)],\n",
              " 88399: [(0, 0.0), (3, nan), (5, nan), (8, 0.0), (9, nan)],\n",
              " 61264: [(0, 0.0), (3, nan), (5, nan), (8, 0.0), (9, nan)],\n",
              " 38237: [(0, 0.0), (3, nan), (5, nan), (8, 0.0), (9, nan)],\n",
              " 45917: [(0, 0.0), (3, nan), (5, nan), (8, 0.0), (9, nan)],\n",
              " 45918: [(0, 0.0), (3, nan), (5, nan), (8, 0.0), (9, nan)],\n",
              " 79208: [(0, 0.0), (3, nan), (5, nan), (8, 0.0), (9, nan)],\n",
              " 37738: [(0, 0.0), (3, nan), (5, nan), (8, 0.0), (9, nan)],\n",
              " 25456: [(0, 0.0), (3, nan), (5, nan), (8, 0.0), (9, nan)],\n",
              " 40307: [(0, 0.0), (3, nan), (5, nan), (8, 0.0), (9, nan)],\n",
              " 55667: [(0, 0.0), (3, nan), (5, nan), (8, 0.0), (9, nan)],\n",
              " 54134: [(0, 0.0), (3, nan), (5, nan), (8, 0.0), (9, nan)],\n",
              " 22901: [(0, 0.0), (3, nan), (5, nan), (8, 0.0), (9, nan)],\n",
              " 55673: [(0, 0.0), (3, nan), (5, nan), (8, 0.0), (9, nan)],\n",
              " 23416: [(0, 0.0), (3, nan), (5, nan), (8, 0.0), (9, nan)],\n",
              " 101243: [(0, 0.0), (3, nan), (5, nan), (8, 0.0), (9, nan)],\n",
              " 28021: [(0, 0.0), (3, nan), (5, nan), (8, 0.0), (9, nan)],\n",
              " 163190: [(0, 0.0), (3, nan), (5, nan), (8, 0.0), (9, nan)],\n",
              " 62846: [(0, 0.0), (3, nan), (5, nan), (8, 0.0), (9, nan)],\n",
              " 86401: [(0, 0.0), (3, nan), (5, nan), (8, 0.0), (9, nan)],\n",
              " 45955: [(0, 0.0), (3, nan), (5, nan), (8, 0.0), (9, nan)],\n",
              " 73605: [(0, 0.0), (3, nan), (5, nan), (8, 0.0), (9, nan)],\n",
              " 36230: [(0, 0.0), (3, nan), (5, nan), (8, 0.0), (9, nan)],\n",
              " 67464: [(0, 0.0), (3, nan), (5, nan), (8, 0.0), (9, nan)],\n",
              " 71562: [(0, 0.0), (3, nan), (5, nan), (8, 0.0), (9, nan)],\n",
              " 67468: [(0, 0.0), (3, nan), (5, nan), (8, 0.0), (9, nan)],\n",
              " 58765: [(0, 0.0), (3, nan), (5, nan), (8, 0.0), (9, nan)],\n",
              " 36239: [(0, 0.0), (3, nan), (5, nan), (8, 0.0), (9, nan)],\n",
              " 45968: [(0, 0.0), (3, nan), (5, nan), (8, 0.0), (9, nan)],\n",
              " 87439: [(0, 0.0), (3, nan), (5, nan), (8, 0.0), (9, nan)],\n",
              " 46487: [(0, 0.0), (3, nan), (5, nan), (8, 0.0), (9, nan)],\n",
              " 57751: [(0, 0.0), (3, nan), (5, nan), (8, 0.0), (9, nan)],\n",
              " 22938: [(0, 0.0), (3, nan), (5, nan), (8, 0.0), (9, nan)],\n",
              " 13725: [(0, 0.0), (3, nan), (5, nan), (8, 0.0), (9, nan)],\n",
              " 90017: [(0, 0.0), (3, nan), (5, nan), (8, 0.0), (9, nan)],\n",
              " 164770: [(0, 0.0), (3, nan), (5, nan), (8, 0.0), (9, nan)],\n",
              " 87463: [(0, 0.0), (3, nan), (5, nan), (8, 0.0), (9, nan)],\n",
              " 26023: [(0, 0.0), (3, nan), (5, nan), (8, 0.0), (9, nan)],\n",
              " 26030: [(0, 0.0), (3, nan), (5, nan), (8, 0.0), (9, nan)],\n",
              " 35767: [(0, 0.0), (3, nan), (5, nan), (8, 0.0), (9, nan)],\n",
              " 42431: [(0, 0.0), (3, nan), (5, nan), (8, 0.0), (9, nan)],\n",
              " 31230: [(0, 0.0), (3, nan), (5, nan), (8, 0.0), (9, nan)],\n",
              " 21449: [(0, 0.0), (3, nan), (5, nan), (8, 0.0), (9, nan)],\n",
              " 56272: [(0, 0.0), (3, nan), (5, nan), (8, 0.0), (9, nan)],\n",
              " 43477: [(0, 0.0), (3, nan), (5, nan), (8, 0.0), (9, nan)],\n",
              " 19415: [(0, 0.0), (3, nan), (5, nan), (8, 0.0), (9, nan)],\n",
              " 46040: [(0, 0.0), (3, nan), (5, nan), (8, 0.0), (9, nan)],\n",
              " 63961: [(0, 0.0), (3, nan), (5, nan), (8, 0.0), (9, nan)],\n",
              " 59357: [(0, 0.0), (3, nan), (5, nan), (8, 0.0), (9, nan)],\n",
              " 105442: [(0, 0.0), (3, nan), (5, nan), (8, 0.0), (9, nan)],\n",
              " 15330: [(0, 0.0), (3, nan), (5, nan), (8, 0.0), (9, nan)],\n",
              " 23522: [(0, 0.0), (3, nan), (5, nan), (8, 0.0), (9, nan)],\n",
              " 72680: [(0, 0.0), (3, nan), (5, nan), (8, 0.0), (9, nan)],\n",
              " 59368: [(0, 0.0), (3, nan), (5, nan), (8, 0.0), (9, nan)],\n",
              " 93674: [(0, 0.0), (3, nan), (5, nan), (8, 0.0), (9, nan)],\n",
              " 5612: [(0, 0.0), (3, nan), (5, nan), (8, 0.0), (9, nan)],\n",
              " 39407: [(0, 0.0), (3, nan), (5, nan), (8, 0.0), (9, nan)],\n",
              " 11248: [(0, 0.0), (3, nan), (5, nan), (8, 0.0), (9, nan)],\n",
              " 12785: [(0, 0.0), (3, nan), (5, nan), (8, 0.0), (9, nan)],\n",
              " 61424: [(0, 0.0), (3, nan), (5, nan), (8, 0.0), (9, nan)],\n",
              " 63985: [(0, 0.0), (3, nan), (5, nan), (8, 0.0), (9, nan)],\n",
              " 90620: [(0, 0.0), (3, nan), (5, nan), (8, 0.0), (9, nan)],\n",
              " 6654: [(0, 0.0), (3, nan), (5, nan), (8, 0.0), (9, nan)]}"
            ]
          },
          "metadata": {},
          "execution_count": 50
        }
      ]
    },
    {
      "cell_type": "markdown",
      "id": "d5a2471c",
      "metadata": {
        "heading_collapsed": true,
        "id": "d5a2471c"
      },
      "source": [
        "## 3.4 Model-based collaborative filtering model"
      ]
    },
    {
      "cell_type": "markdown",
      "source": [
        "In the model-based model, we will use **SVD Model** from surprise library."
      ],
      "metadata": {
        "id": "-SJDKebv760M"
      },
      "id": "-SJDKebv760M"
    },
    {
      "cell_type": "code",
      "execution_count": 51,
      "id": "a836e9b1",
      "metadata": {
        "hidden": true,
        "id": "a836e9b1",
        "colab": {
          "base_uri": "https://localhost:8080/"
        },
        "outputId": "3d38a4d0-2ad1-4c4f-ddf5-8a8f268cd8fe"
      },
      "outputs": [
        {
          "output_type": "stream",
          "name": "stdout",
          "text": [
            "Processing epoch 0\n",
            "Processing epoch 1\n",
            "Processing epoch 2\n",
            "Processing epoch 3\n",
            "Processing epoch 4\n",
            "Processing epoch 5\n",
            "Processing epoch 6\n",
            "Processing epoch 7\n",
            "Processing epoch 8\n",
            "Processing epoch 9\n",
            "Processing epoch 10\n",
            "Processing epoch 11\n",
            "Processing epoch 12\n",
            "Processing epoch 13\n",
            "Processing epoch 14\n",
            "Processing epoch 15\n",
            "Processing epoch 16\n",
            "Processing epoch 17\n",
            "Processing epoch 18\n",
            "Processing epoch 19\n"
          ]
        },
        {
          "output_type": "execute_result",
          "data": {
            "text/plain": [
              "<surprise.prediction_algorithms.matrix_factorization.SVD at 0x79e7538947f0>"
            ]
          },
          "metadata": {},
          "execution_count": 51
        }
      ],
      "source": [
        "#Create a new user-item rating matrix\n",
        "reader = Reader(rating_scale=(1, 5))\n",
        "a4_df_iter = Dataset.load_from_df(df_iter_final[['UserId', 'ItemId', 'Rating']][:50001], reader=reader)\n",
        "trainset, testset =  tts(a4_df_iter, test_size=0.3)\n",
        "\n",
        "#Train the SVD model\n",
        "svd = SVD(n_factors=5, verbose=True)\n",
        "svd.fit(trainset)\n"
      ]
    },
    {
      "cell_type": "code",
      "source": [
        "# Recommendation function\n",
        "\n",
        "def model_based_recommendation(user_id, top_n=3):\n",
        "      rated_items = X_train[X_train['UserId'] == user_id]['ItemId'].tolist()\n",
        "      unrated_items = [item_id for item_id in range(1, len(df_items_final['ItemId']) + 1) if item_id not in rated_items]\n",
        "      # 获取前top_n个预测评分最高的物品作为推荐列表\n",
        "      top_n_recommended = sorted(unrated_items, key=lambda item_id: svd.predict(user_id, item_id).est, reverse=True)[:top_n]\n",
        "      return top_n_recommended"
      ],
      "metadata": {
        "id": "ORT1A1bP-GEI"
      },
      "id": "ORT1A1bP-GEI",
      "execution_count": 67,
      "outputs": []
    },
    {
      "cell_type": "code",
      "source": [
        "a4_dict = dict()\n",
        "for user_id in common_user:\n",
        "  a4_recommendation = model_based_recommendation(user_id)\n",
        "  a4_dict[user_id] = a4_recommendation"
      ],
      "metadata": {
        "id": "AFSHhMjbOSI3"
      },
      "id": "AFSHhMjbOSI3",
      "execution_count": 68,
      "outputs": []
    },
    {
      "cell_type": "markdown",
      "id": "26e57dbc",
      "metadata": {
        "id": "26e57dbc"
      },
      "source": [
        "# 4. Models comparison"
      ]
    },
    {
      "cell_type": "markdown",
      "source": [
        "## 4.1 Evaluation Function"
      ],
      "metadata": {
        "id": "Itw6V1zaV97S"
      },
      "id": "Itw6V1zaV97S"
    },
    {
      "cell_type": "code",
      "source": [
        "# Validate and measure the recommendation accuracy for Algorithm 1:\n",
        "# Idea: recommend only to users exist in both training and testing datasets and the cold start users.\n",
        "def a1_evaluation(recommend_dict, common_user, cs_user, X_test):\n",
        "  flag = 0\n",
        "  for user_id in (common_user | cs_user):\n",
        "    purchased_after = X_test['ItemId'][X_test['UserId'] == user_id]\n",
        "    if set(recommend_dict[user_id]).intersection(set(purchased_after.values)):\n",
        "      flag += 1\n",
        "  return flag"
      ],
      "metadata": {
        "id": "aiPaG5u-WCLE"
      },
      "id": "aiPaG5u-WCLE",
      "execution_count": 54,
      "outputs": []
    },
    {
      "cell_type": "code",
      "source": [
        "# Validate and measure the recommendation accuracy for Algorithm 2:\n",
        "# Idea: recommend only to users exist in both training and testing datasets.\n",
        "def a23_evaluation(recommend_dict, common_user, X_test):\n",
        "  flag = 0\n",
        "  for user_id in common_user:\n",
        "    purchased_after = X_test['ItemId'][X_test['UserId'] == user_id]\n",
        "    try:\n",
        "      if set(recommend_dict[user_id]).intersection(set(purchased_after.values)):\n",
        "        flag += 1\n",
        "    except KeyError:\n",
        "      continue\n",
        "    return flag"
      ],
      "metadata": {
        "id": "Cr5HrcV0HVj1"
      },
      "id": "Cr5HrcV0HVj1",
      "execution_count": 55,
      "outputs": []
    },
    {
      "cell_type": "code",
      "source": [
        "# Validate and measure the recommendation accuracy for Algorithm 2:\n",
        "# Idea: recommend only to users exist in both training and testing datasets.\n",
        "def a4_evaluation(recommend_dict, common_user, X_test):\n",
        "  flag = 0\n",
        "  for user_id in common_user:\n",
        "    purchased_after = X_test['ItemId'][X_test['UserId'] == user_id]\n",
        "    try:\n",
        "      if set(recommend_dict[user_id]).intersection(set(purchased_after.values)):\n",
        "        flag += 1\n",
        "    except KeyError:\n",
        "      continue\n",
        "    return flag"
      ],
      "metadata": {
        "id": "bEY1FM86N_aZ"
      },
      "id": "bEY1FM86N_aZ",
      "execution_count": 73,
      "outputs": []
    },
    {
      "cell_type": "markdown",
      "source": [
        "## 4.2 Evaluations for models"
      ],
      "metadata": {
        "id": "m1-vOto0W4Lz"
      },
      "id": "m1-vOto0W4Lz"
    },
    {
      "cell_type": "code",
      "source": [
        "# Algorithm 1\n",
        "a1_flag = a1_evaluation(a1_dict, common_user, cs_user, X_test)\n",
        "acc_a1 = round(a1_flag/len(common_user | cs_user) * 100, 1)\n",
        "print(f'Popularity model has a recommendation accuracy of:', acc_a1, '%')"
      ],
      "metadata": {
        "colab": {
          "base_uri": "https://localhost:8080/"
        },
        "id": "uTMl7BCnW7Nv",
        "outputId": "43d16ef7-9c6b-4d68-dafb-c1f75d1c0d8c"
      },
      "id": "uTMl7BCnW7Nv",
      "execution_count": 57,
      "outputs": [
        {
          "output_type": "stream",
          "name": "stdout",
          "text": [
            "Popularity model has a recommendation accuracy of: 9.8 %\n"
          ]
        }
      ]
    },
    {
      "cell_type": "code",
      "source": [
        "# Algorithm 2\n",
        "a2_flag = a23_evaluation(a2_dict, common_user, X_test)\n",
        "acc_a2 = round(a2_flag/len(a2_dict) * 100, 1)\n",
        "print(f'Popularity model has a recommendation accuracy of:', acc_a2, '%')"
      ],
      "metadata": {
        "colab": {
          "base_uri": "https://localhost:8080/"
        },
        "id": "8lcN5EHaW-gh",
        "outputId": "28ff4d91-facb-482f-b311-6ac957fad1d1"
      },
      "id": "8lcN5EHaW-gh",
      "execution_count": 65,
      "outputs": [
        {
          "output_type": "stream",
          "name": "stdout",
          "text": [
            "Popularity model has a recommendation accuracy of: 0.0 %\n"
          ]
        }
      ]
    },
    {
      "cell_type": "code",
      "source": [
        "# Algorithm 3\n",
        "# a3_flag = a23_evaluation(a3_dict, X_train, X_test)\n",
        "# acc_a3 = round(a3_flag/len(a3_dict) * 100, 1)\n",
        "# print(f'Popularity model has a recommendation accuracy of:', acc_a3, '%')"
      ],
      "metadata": {
        "id": "dlinjeDPW_Vc"
      },
      "id": "dlinjeDPW_Vc",
      "execution_count": null,
      "outputs": []
    },
    {
      "cell_type": "code",
      "source": [
        "# Algorithm 4\n",
        "a4_flag = a4_evaluation(a4_dict, common_user, X_test)\n",
        "acc_a4 = round(a4_flag/len(a4_dict) * 100, 1)\n",
        "print(f'Model-based has a recommendation accuracy of:', acc_a4, '%')"
      ],
      "metadata": {
        "colab": {
          "base_uri": "https://localhost:8080/"
        },
        "id": "O-rHEoxeKewh",
        "outputId": "7a68e842-ba67-493b-df82-e72ee3d44857"
      },
      "id": "O-rHEoxeKewh",
      "execution_count": 74,
      "outputs": [
        {
          "output_type": "stream",
          "name": "stdout",
          "text": [
            "Model-based has a recommendation accuracy of: 0.0 %\n"
          ]
        }
      ]
    },
    {
      "cell_type": "markdown",
      "source": [
        "## 4.3 Model Comparison"
      ],
      "metadata": {
        "id": "sA1xqOgcKkWA"
      },
      "id": "sA1xqOgcKkWA"
    },
    {
      "cell_type": "code",
      "source": [
        "print(\"Here are the comparison of four model's recommendation accuracy:\\n\\n\")\n",
        "print(f'Popularity model:', acc_a1, '%')\n",
        "print(f'Content-based model:', acc_a2, '%')\n",
        "# print(f'Collaborative model:', acc_a3, '%')\n",
        "print(f'Model-based model:', acc_a4, '%')"
      ],
      "metadata": {
        "id": "YxzEHModL8Qd",
        "colab": {
          "base_uri": "https://localhost:8080/"
        },
        "outputId": "cadf66c3-90b1-4088-9937-cc0b2b841e2b"
      },
      "id": "YxzEHModL8Qd",
      "execution_count": 75,
      "outputs": [
        {
          "output_type": "stream",
          "name": "stdout",
          "text": [
            "Here are the comparison of four model's recommendation accuracy:\n",
            "\n",
            "\n",
            "Popularity model: 9.8 %\n",
            "Content-based model: 0.0 %\n",
            "Model-based model: 0.0 %\n"
          ]
        }
      ]
    },
    {
      "cell_type": "markdown",
      "source": [
        "# Copyright"
      ],
      "metadata": {
        "id": "iHirsXlnOScK"
      },
      "id": "iHirsXlnOScK"
    },
    {
      "cell_type": "markdown",
      "id": "903e183d",
      "metadata": {
        "id": "903e183d"
      },
      "source": [
        "## <h3 align=\"center\"> © Haozhe TANG 07.2023. All rights reserved. <h3/>"
      ]
    }
  ],
  "metadata": {
    "kernelspec": {
      "display_name": "Python 3",
      "name": "python3"
    },
    "language_info": {
      "codemirror_mode": {
        "name": "ipython",
        "version": 3
      },
      "file_extension": ".py",
      "mimetype": "text/x-python",
      "name": "python",
      "nbconvert_exporter": "python",
      "pygments_lexer": "ipython3",
      "version": "3.8.13"
    },
    "colab": {
      "provenance": [],
      "gpuType": "T4"
    },
    "accelerator": "GPU"
  },
  "nbformat": 4,
  "nbformat_minor": 5
}