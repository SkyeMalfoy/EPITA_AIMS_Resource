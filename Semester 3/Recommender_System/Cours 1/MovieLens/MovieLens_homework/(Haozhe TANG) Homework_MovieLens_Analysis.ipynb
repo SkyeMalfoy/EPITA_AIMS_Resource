{
 "cells": [
  {
   "cell_type": "markdown",
   "id": "44cc5e98",
   "metadata": {},
   "source": [
    "<i>This notebook is made by Haozhe TANG on 11, May for the data exploration of Recommender System.</i>"
   ]
  },
  {
   "cell_type": "code",
   "execution_count": 1,
   "id": "a55c7436",
   "metadata": {},
   "outputs": [],
   "source": [
    "import numpy as np\n",
    "import pandas as pd\n",
    "import matplotlib.pyplot as plt\n",
    "import math\n",
    "import re\n",
    "import seaborn as sns\n",
    "\n",
    "#Sklearn\n",
    "from sklearn.base import BaseEstimator, TransformerMixin\n",
    "from sklearn.preprocessing import (LabelEncoder,\n",
    "                                  MinMaxScaler)\n",
    "\n",
    "#Graphic library\n",
    "from wordcloud import WordCloud"
   ]
  },
  {
   "cell_type": "markdown",
   "id": "a31ab368",
   "metadata": {
    "heading_collapsed": true
   },
   "source": [
    "# 1. Data Importing & Data Exploration"
   ]
  },
  {
   "cell_type": "code",
   "execution_count": 2,
   "id": "05ab3155",
   "metadata": {
    "hidden": true
   },
   "outputs": [],
   "source": [
    "df_inter = pd.read_csv('ML_interactions.csv')\n",
    "df_item = pd.read_csv('ML_items.csv')\n",
    "df_user = pd.read_csv('ML_users.csv')"
   ]
  },
  {
   "cell_type": "code",
   "execution_count": 3,
   "id": "81a1097c",
   "metadata": {
    "hidden": true
   },
   "outputs": [
    {
     "data": {
      "text/html": [
       "<div>\n",
       "<style scoped>\n",
       "    .dataframe tbody tr th:only-of-type {\n",
       "        vertical-align: middle;\n",
       "    }\n",
       "\n",
       "    .dataframe tbody tr th {\n",
       "        vertical-align: top;\n",
       "    }\n",
       "\n",
       "    .dataframe thead th {\n",
       "        text-align: right;\n",
       "    }\n",
       "</style>\n",
       "<table border=\"1\" class=\"dataframe\">\n",
       "  <thead>\n",
       "    <tr style=\"text-align: right;\">\n",
       "      <th></th>\n",
       "      <th>UserId</th>\n",
       "      <th>MovieId</th>\n",
       "      <th>Ratings</th>\n",
       "      <th>Timestamps</th>\n",
       "    </tr>\n",
       "  </thead>\n",
       "  <tbody>\n",
       "    <tr>\n",
       "      <th>0</th>\n",
       "      <td>196</td>\n",
       "      <td>242</td>\n",
       "      <td>3</td>\n",
       "      <td>881250949</td>\n",
       "    </tr>\n",
       "    <tr>\n",
       "      <th>1</th>\n",
       "      <td>186</td>\n",
       "      <td>302</td>\n",
       "      <td>3</td>\n",
       "      <td>891717742</td>\n",
       "    </tr>\n",
       "    <tr>\n",
       "      <th>2</th>\n",
       "      <td>22</td>\n",
       "      <td>377</td>\n",
       "      <td>1</td>\n",
       "      <td>878887116</td>\n",
       "    </tr>\n",
       "    <tr>\n",
       "      <th>3</th>\n",
       "      <td>244</td>\n",
       "      <td>51</td>\n",
       "      <td>2</td>\n",
       "      <td>880606923</td>\n",
       "    </tr>\n",
       "    <tr>\n",
       "      <th>4</th>\n",
       "      <td>166</td>\n",
       "      <td>346</td>\n",
       "      <td>1</td>\n",
       "      <td>886397596</td>\n",
       "    </tr>\n",
       "  </tbody>\n",
       "</table>\n",
       "</div>"
      ],
      "text/plain": [
       "   UserId  MovieId  Ratings  Timestamps\n",
       "0     196      242        3   881250949\n",
       "1     186      302        3   891717742\n",
       "2      22      377        1   878887116\n",
       "3     244       51        2   880606923\n",
       "4     166      346        1   886397596"
      ]
     },
     "execution_count": 3,
     "metadata": {},
     "output_type": "execute_result"
    }
   ],
   "source": [
    "df_inter.head()"
   ]
  },
  {
   "cell_type": "code",
   "execution_count": 4,
   "id": "c42b96f3",
   "metadata": {
    "hidden": true
   },
   "outputs": [
    {
     "data": {
      "text/html": [
       "<div>\n",
       "<style scoped>\n",
       "    .dataframe tbody tr th:only-of-type {\n",
       "        vertical-align: middle;\n",
       "    }\n",
       "\n",
       "    .dataframe tbody tr th {\n",
       "        vertical-align: top;\n",
       "    }\n",
       "\n",
       "    .dataframe thead th {\n",
       "        text-align: right;\n",
       "    }\n",
       "</style>\n",
       "<table border=\"1\" class=\"dataframe\">\n",
       "  <thead>\n",
       "    <tr style=\"text-align: right;\">\n",
       "      <th></th>\n",
       "      <th>Id</th>\n",
       "      <th>Title</th>\n",
       "      <th>ReleaseDate</th>\n",
       "      <th>VideoReleaseDate</th>\n",
       "      <th>URL</th>\n",
       "      <th>unknown</th>\n",
       "      <th>Action</th>\n",
       "      <th>Adventure</th>\n",
       "      <th>Animation</th>\n",
       "      <th>Children's</th>\n",
       "      <th>...</th>\n",
       "      <th>Fantasy</th>\n",
       "      <th>Film-Noir</th>\n",
       "      <th>Horror</th>\n",
       "      <th>Musical</th>\n",
       "      <th>Mystery</th>\n",
       "      <th>Romance</th>\n",
       "      <th>Sci-Fi</th>\n",
       "      <th>Thriller</th>\n",
       "      <th>War</th>\n",
       "      <th>Western</th>\n",
       "    </tr>\n",
       "  </thead>\n",
       "  <tbody>\n",
       "    <tr>\n",
       "      <th>0</th>\n",
       "      <td>1</td>\n",
       "      <td>Toy Story (1995)</td>\n",
       "      <td>01-Jan-1995</td>\n",
       "      <td>NaN</td>\n",
       "      <td>http://us.imdb.com/M/title-exact?Toy%20Story%2...</td>\n",
       "      <td>0</td>\n",
       "      <td>0</td>\n",
       "      <td>0</td>\n",
       "      <td>1</td>\n",
       "      <td>1</td>\n",
       "      <td>...</td>\n",
       "      <td>0</td>\n",
       "      <td>0</td>\n",
       "      <td>0</td>\n",
       "      <td>0</td>\n",
       "      <td>0</td>\n",
       "      <td>0</td>\n",
       "      <td>0</td>\n",
       "      <td>0</td>\n",
       "      <td>0</td>\n",
       "      <td>0</td>\n",
       "    </tr>\n",
       "    <tr>\n",
       "      <th>1</th>\n",
       "      <td>2</td>\n",
       "      <td>GoldenEye (1995)</td>\n",
       "      <td>01-Jan-1995</td>\n",
       "      <td>NaN</td>\n",
       "      <td>http://us.imdb.com/M/title-exact?GoldenEye%20(...</td>\n",
       "      <td>0</td>\n",
       "      <td>1</td>\n",
       "      <td>1</td>\n",
       "      <td>0</td>\n",
       "      <td>0</td>\n",
       "      <td>...</td>\n",
       "      <td>0</td>\n",
       "      <td>0</td>\n",
       "      <td>0</td>\n",
       "      <td>0</td>\n",
       "      <td>0</td>\n",
       "      <td>0</td>\n",
       "      <td>0</td>\n",
       "      <td>1</td>\n",
       "      <td>0</td>\n",
       "      <td>0</td>\n",
       "    </tr>\n",
       "    <tr>\n",
       "      <th>2</th>\n",
       "      <td>3</td>\n",
       "      <td>Four Rooms (1995)</td>\n",
       "      <td>01-Jan-1995</td>\n",
       "      <td>NaN</td>\n",
       "      <td>http://us.imdb.com/M/title-exact?Four%20Rooms%...</td>\n",
       "      <td>0</td>\n",
       "      <td>0</td>\n",
       "      <td>0</td>\n",
       "      <td>0</td>\n",
       "      <td>0</td>\n",
       "      <td>...</td>\n",
       "      <td>0</td>\n",
       "      <td>0</td>\n",
       "      <td>0</td>\n",
       "      <td>0</td>\n",
       "      <td>0</td>\n",
       "      <td>0</td>\n",
       "      <td>0</td>\n",
       "      <td>1</td>\n",
       "      <td>0</td>\n",
       "      <td>0</td>\n",
       "    </tr>\n",
       "    <tr>\n",
       "      <th>3</th>\n",
       "      <td>4</td>\n",
       "      <td>Get Shorty (1995)</td>\n",
       "      <td>01-Jan-1995</td>\n",
       "      <td>NaN</td>\n",
       "      <td>http://us.imdb.com/M/title-exact?Get%20Shorty%...</td>\n",
       "      <td>0</td>\n",
       "      <td>1</td>\n",
       "      <td>0</td>\n",
       "      <td>0</td>\n",
       "      <td>0</td>\n",
       "      <td>...</td>\n",
       "      <td>0</td>\n",
       "      <td>0</td>\n",
       "      <td>0</td>\n",
       "      <td>0</td>\n",
       "      <td>0</td>\n",
       "      <td>0</td>\n",
       "      <td>0</td>\n",
       "      <td>0</td>\n",
       "      <td>0</td>\n",
       "      <td>0</td>\n",
       "    </tr>\n",
       "    <tr>\n",
       "      <th>4</th>\n",
       "      <td>5</td>\n",
       "      <td>Copycat (1995)</td>\n",
       "      <td>01-Jan-1995</td>\n",
       "      <td>NaN</td>\n",
       "      <td>http://us.imdb.com/M/title-exact?Copycat%20(1995)</td>\n",
       "      <td>0</td>\n",
       "      <td>0</td>\n",
       "      <td>0</td>\n",
       "      <td>0</td>\n",
       "      <td>0</td>\n",
       "      <td>...</td>\n",
       "      <td>0</td>\n",
       "      <td>0</td>\n",
       "      <td>0</td>\n",
       "      <td>0</td>\n",
       "      <td>0</td>\n",
       "      <td>0</td>\n",
       "      <td>0</td>\n",
       "      <td>1</td>\n",
       "      <td>0</td>\n",
       "      <td>0</td>\n",
       "    </tr>\n",
       "  </tbody>\n",
       "</table>\n",
       "<p>5 rows × 24 columns</p>\n",
       "</div>"
      ],
      "text/plain": [
       "   Id              Title  ReleaseDate  VideoReleaseDate  \\\n",
       "0   1   Toy Story (1995)  01-Jan-1995               NaN   \n",
       "1   2   GoldenEye (1995)  01-Jan-1995               NaN   \n",
       "2   3  Four Rooms (1995)  01-Jan-1995               NaN   \n",
       "3   4  Get Shorty (1995)  01-Jan-1995               NaN   \n",
       "4   5     Copycat (1995)  01-Jan-1995               NaN   \n",
       "\n",
       "                                                 URL  unknown  Action  \\\n",
       "0  http://us.imdb.com/M/title-exact?Toy%20Story%2...        0       0   \n",
       "1  http://us.imdb.com/M/title-exact?GoldenEye%20(...        0       1   \n",
       "2  http://us.imdb.com/M/title-exact?Four%20Rooms%...        0       0   \n",
       "3  http://us.imdb.com/M/title-exact?Get%20Shorty%...        0       1   \n",
       "4  http://us.imdb.com/M/title-exact?Copycat%20(1995)        0       0   \n",
       "\n",
       "   Adventure  Animation  Children's  ...  Fantasy  Film-Noir  Horror  Musical  \\\n",
       "0          0          1           1  ...        0          0       0        0   \n",
       "1          1          0           0  ...        0          0       0        0   \n",
       "2          0          0           0  ...        0          0       0        0   \n",
       "3          0          0           0  ...        0          0       0        0   \n",
       "4          0          0           0  ...        0          0       0        0   \n",
       "\n",
       "   Mystery  Romance  Sci-Fi  Thriller  War  Western  \n",
       "0        0        0       0         0    0        0  \n",
       "1        0        0       0         1    0        0  \n",
       "2        0        0       0         1    0        0  \n",
       "3        0        0       0         0    0        0  \n",
       "4        0        0       0         1    0        0  \n",
       "\n",
       "[5 rows x 24 columns]"
      ]
     },
     "execution_count": 4,
     "metadata": {},
     "output_type": "execute_result"
    }
   ],
   "source": [
    "df_item.head()"
   ]
  },
  {
   "cell_type": "code",
   "execution_count": 5,
   "id": "5a6644ee",
   "metadata": {
    "hidden": true,
    "scrolled": true
   },
   "outputs": [
    {
     "data": {
      "text/html": [
       "<div>\n",
       "<style scoped>\n",
       "    .dataframe tbody tr th:only-of-type {\n",
       "        vertical-align: middle;\n",
       "    }\n",
       "\n",
       "    .dataframe tbody tr th {\n",
       "        vertical-align: top;\n",
       "    }\n",
       "\n",
       "    .dataframe thead th {\n",
       "        text-align: right;\n",
       "    }\n",
       "</style>\n",
       "<table border=\"1\" class=\"dataframe\">\n",
       "  <thead>\n",
       "    <tr style=\"text-align: right;\">\n",
       "      <th></th>\n",
       "      <th>Id</th>\n",
       "      <th>Age</th>\n",
       "      <th>Sex</th>\n",
       "      <th>Occupation</th>\n",
       "      <th>Code</th>\n",
       "    </tr>\n",
       "  </thead>\n",
       "  <tbody>\n",
       "    <tr>\n",
       "      <th>0</th>\n",
       "      <td>1</td>\n",
       "      <td>24</td>\n",
       "      <td>M</td>\n",
       "      <td>technician</td>\n",
       "      <td>85711</td>\n",
       "    </tr>\n",
       "    <tr>\n",
       "      <th>1</th>\n",
       "      <td>2</td>\n",
       "      <td>53</td>\n",
       "      <td>F</td>\n",
       "      <td>other</td>\n",
       "      <td>94043</td>\n",
       "    </tr>\n",
       "    <tr>\n",
       "      <th>2</th>\n",
       "      <td>3</td>\n",
       "      <td>23</td>\n",
       "      <td>M</td>\n",
       "      <td>writer</td>\n",
       "      <td>32067</td>\n",
       "    </tr>\n",
       "    <tr>\n",
       "      <th>3</th>\n",
       "      <td>4</td>\n",
       "      <td>24</td>\n",
       "      <td>M</td>\n",
       "      <td>technician</td>\n",
       "      <td>43537</td>\n",
       "    </tr>\n",
       "    <tr>\n",
       "      <th>4</th>\n",
       "      <td>5</td>\n",
       "      <td>33</td>\n",
       "      <td>F</td>\n",
       "      <td>other</td>\n",
       "      <td>15213</td>\n",
       "    </tr>\n",
       "  </tbody>\n",
       "</table>\n",
       "</div>"
      ],
      "text/plain": [
       "   Id  Age Sex  Occupation   Code\n",
       "0   1   24   M  technician  85711\n",
       "1   2   53   F       other  94043\n",
       "2   3   23   M      writer  32067\n",
       "3   4   24   M  technician  43537\n",
       "4   5   33   F       other  15213"
      ]
     },
     "execution_count": 5,
     "metadata": {},
     "output_type": "execute_result"
    }
   ],
   "source": [
    "df_user.head()"
   ]
  },
  {
   "cell_type": "code",
   "execution_count": 6,
   "id": "691b78eb",
   "metadata": {
    "hidden": true,
    "scrolled": false
   },
   "outputs": [
    {
     "name": "stdout",
     "output_type": "stream",
     "text": [
      "<class 'pandas.core.frame.DataFrame'>\n",
      "RangeIndex: 100000 entries, 0 to 99999\n",
      "Data columns (total 4 columns):\n",
      " #   Column      Non-Null Count   Dtype\n",
      "---  ------      --------------   -----\n",
      " 0   UserId      100000 non-null  int64\n",
      " 1   MovieId     100000 non-null  int64\n",
      " 2   Ratings     100000 non-null  int64\n",
      " 3   Timestamps  100000 non-null  int64\n",
      "dtypes: int64(4)\n",
      "memory usage: 3.1 MB\n",
      "None\n",
      "<class 'pandas.core.frame.DataFrame'>\n",
      "RangeIndex: 1682 entries, 0 to 1681\n",
      "Data columns (total 24 columns):\n",
      " #   Column            Non-Null Count  Dtype  \n",
      "---  ------            --------------  -----  \n",
      " 0   Id                1682 non-null   int64  \n",
      " 1   Title             1682 non-null   object \n",
      " 2   ReleaseDate       1681 non-null   object \n",
      " 3   VideoReleaseDate  0 non-null      float64\n",
      " 4   URL               1679 non-null   object \n",
      " 5   unknown           1682 non-null   int64  \n",
      " 6   Action            1682 non-null   int64  \n",
      " 7   Adventure         1682 non-null   int64  \n",
      " 8   Animation         1682 non-null   int64  \n",
      " 9   Children's        1682 non-null   int64  \n",
      " 10  Comedy            1682 non-null   int64  \n",
      " 11  Crime             1682 non-null   int64  \n",
      " 12  Documentary       1682 non-null   int64  \n",
      " 13  Drama             1682 non-null   int64  \n",
      " 14  Fantasy           1682 non-null   int64  \n",
      " 15  Film-Noir         1682 non-null   int64  \n",
      " 16  Horror            1682 non-null   int64  \n",
      " 17  Musical           1682 non-null   int64  \n",
      " 18  Mystery           1682 non-null   int64  \n",
      " 19  Romance           1682 non-null   int64  \n",
      " 20  Sci-Fi            1682 non-null   int64  \n",
      " 21  Thriller          1682 non-null   int64  \n",
      " 22  War               1682 non-null   int64  \n",
      " 23  Western           1682 non-null   int64  \n",
      "dtypes: float64(1), int64(20), object(3)\n",
      "memory usage: 315.5+ KB\n",
      "None\n",
      "<class 'pandas.core.frame.DataFrame'>\n",
      "RangeIndex: 943 entries, 0 to 942\n",
      "Data columns (total 5 columns):\n",
      " #   Column      Non-Null Count  Dtype \n",
      "---  ------      --------------  ----- \n",
      " 0   Id          943 non-null    int64 \n",
      " 1   Age         943 non-null    int64 \n",
      " 2   Sex         943 non-null    object\n",
      " 3   Occupation  943 non-null    object\n",
      " 4   Code        943 non-null    object\n",
      "dtypes: int64(2), object(3)\n",
      "memory usage: 37.0+ KB\n",
      "None\n"
     ]
    }
   ],
   "source": [
    "#Data Preview\n",
    "print(df_inter.info())\n",
    "print(df_item.info())\n",
    "print(df_user.info())"
   ]
  },
  {
   "cell_type": "markdown",
   "id": "7d34dde9",
   "metadata": {
    "hidden": true
   },
   "source": [
    "Item dataset has missing values. <br/>\n",
    "In columns **{'ReleaseDate', 'VideoReleaseDate', 'URL'}**"
   ]
  },
  {
   "cell_type": "code",
   "execution_count": 7,
   "id": "9e227d3d",
   "metadata": {
    "hidden": true,
    "scrolled": true
   },
   "outputs": [
    {
     "name": "stdout",
     "output_type": "stream",
     "text": [
      "Id                     0\n",
      "Title                  0\n",
      "ReleaseDate            1\n",
      "VideoReleaseDate    1682\n",
      "URL                    3\n",
      "unknown                0\n",
      "Action                 0\n",
      "Adventure              0\n",
      "Animation              0\n",
      "Children's             0\n",
      "Comedy                 0\n",
      "Crime                  0\n",
      "Documentary            0\n",
      "Drama                  0\n",
      "Fantasy                0\n",
      "Film-Noir              0\n",
      "Horror                 0\n",
      "Musical                0\n",
      "Mystery                0\n",
      "Romance                0\n",
      "Sci-Fi                 0\n",
      "Thriller               0\n",
      "War                    0\n",
      "Western                0\n",
      "dtype: int64\n",
      "(1682, 24)\n"
     ]
    }
   ],
   "source": [
    "#Missing value\n",
    "print(df_item.isnull().sum())\n",
    "print(df_item.shape)\n"
   ]
  },
  {
   "cell_type": "markdown",
   "id": "54cd70e6",
   "metadata": {
    "hidden": true
   },
   "source": [
    "So we can see that **column 4 (VideoReleaseDate) has values are all missing**, so we decide to **delete this column**; <br/>\n",
    "While the two other columns which have missing values, because of the small scale, we try to delete the line."
   ]
  },
  {
   "cell_type": "code",
   "execution_count": 8,
   "id": "792bb210",
   "metadata": {
    "hidden": true
   },
   "outputs": [
    {
     "name": "stdout",
     "output_type": "stream",
     "text": [
      "0\n",
      "0\n",
      "0\n"
     ]
    }
   ],
   "source": [
    "#Duplicate\n",
    "print(df_inter.duplicated().sum())\n",
    "print(df_item.duplicated().sum())\n",
    "print(df_user.duplicated().sum())"
   ]
  },
  {
   "cell_type": "markdown",
   "id": "4505c89b",
   "metadata": {
    "hidden": true
   },
   "source": [
    "**No duplicate for these three datasets.**"
   ]
  },
  {
   "cell_type": "code",
   "execution_count": 9,
   "id": "c5d2b609",
   "metadata": {
    "hidden": true
   },
   "outputs": [
    {
     "name": "stderr",
     "output_type": "stream",
     "text": [
      "/var/folders/q7/h0qy2kmn1617pwg3_l5zhc7c0000gn/T/ipykernel_28238/3706589000.py:10: FutureWarning: Dropping of nuisance columns in DataFrame reductions (with 'numeric_only=None') is deprecated; in a future version this will raise TypeError.  Select only valid columns before calling the reduction.\n",
      "  mean_item = df_item.mean()\n",
      "/var/folders/q7/h0qy2kmn1617pwg3_l5zhc7c0000gn/T/ipykernel_28238/3706589000.py:11: FutureWarning: Dropping of nuisance columns in DataFrame reductions (with 'numeric_only=None') is deprecated; in a future version this will raise TypeError.  Select only valid columns before calling the reduction.\n",
      "  std_item = df_item.std()\n"
     ]
    }
   ],
   "source": [
    "#Outliers z-score\n",
    "#inter dataset\n",
    "inter_col = df_inter.columns\n",
    "mean_inter = df_inter[inter_col].mean()\n",
    "std_inter = df_inter[inter_col].std()\n",
    "z_score_inter = abs(df_inter[inter_col] - mean_inter) / std_inter\n",
    "\n",
    "#Item dataset\n",
    "df_item_num = df_item.drop(['Title','ReleaseDate', 'VideoReleaseDate', 'URL'], axis=1)\n",
    "mean_item = df_item.mean()\n",
    "std_item = df_item.std()\n",
    "z_score_item = abs(df_item_num - mean_item) / mean_item"
   ]
  },
  {
   "cell_type": "code",
   "execution_count": 10,
   "id": "77b5d389",
   "metadata": {
    "hidden": true,
    "scrolled": true
   },
   "outputs": [
    {
     "data": {
      "text/html": [
       "<div>\n",
       "<style scoped>\n",
       "    .dataframe tbody tr th:only-of-type {\n",
       "        vertical-align: middle;\n",
       "    }\n",
       "\n",
       "    .dataframe tbody tr th {\n",
       "        vertical-align: top;\n",
       "    }\n",
       "\n",
       "    .dataframe thead th {\n",
       "        text-align: right;\n",
       "    }\n",
       "</style>\n",
       "<table border=\"1\" class=\"dataframe\">\n",
       "  <thead>\n",
       "    <tr style=\"text-align: right;\">\n",
       "      <th></th>\n",
       "      <th>UserId</th>\n",
       "      <th>MovieId</th>\n",
       "      <th>Ratings</th>\n",
       "      <th>Timestamps</th>\n",
       "    </tr>\n",
       "  </thead>\n",
       "  <tbody>\n",
       "    <tr>\n",
       "      <th>0</th>\n",
       "      <td>0.999514</td>\n",
       "      <td>0.554810</td>\n",
       "      <td>0.470705</td>\n",
       "      <td>0.426266</td>\n",
       "    </tr>\n",
       "    <tr>\n",
       "      <th>1</th>\n",
       "      <td>1.037021</td>\n",
       "      <td>0.373430</td>\n",
       "      <td>0.470705</td>\n",
       "      <td>1.532394</td>\n",
       "    </tr>\n",
       "    <tr>\n",
       "      <th>2</th>\n",
       "      <td>1.652142</td>\n",
       "      <td>0.146706</td>\n",
       "      <td>2.247419</td>\n",
       "      <td>0.868612</td>\n",
       "    </tr>\n",
       "    <tr>\n",
       "      <th>3</th>\n",
       "      <td>0.819478</td>\n",
       "      <td>1.132201</td>\n",
       "      <td>1.359062</td>\n",
       "      <td>0.546783</td>\n",
       "    </tr>\n",
       "    <tr>\n",
       "      <th>4</th>\n",
       "      <td>1.112036</td>\n",
       "      <td>0.240419</td>\n",
       "      <td>2.247419</td>\n",
       "      <td>0.536830</td>\n",
       "    </tr>\n",
       "  </tbody>\n",
       "</table>\n",
       "</div>"
      ],
      "text/plain": [
       "     UserId   MovieId   Ratings  Timestamps\n",
       "0  0.999514  0.554810  0.470705    0.426266\n",
       "1  1.037021  0.373430  0.470705    1.532394\n",
       "2  1.652142  0.146706  2.247419    0.868612\n",
       "3  0.819478  1.132201  1.359062    0.546783\n",
       "4  1.112036  0.240419  2.247419    0.536830"
      ]
     },
     "execution_count": 10,
     "metadata": {},
     "output_type": "execute_result"
    }
   ],
   "source": [
    "z_score_inter.head()"
   ]
  },
  {
   "cell_type": "code",
   "execution_count": 11,
   "id": "d285dc9f",
   "metadata": {
    "hidden": true
   },
   "outputs": [
    {
     "data": {
      "text/html": [
       "<div>\n",
       "<style scoped>\n",
       "    .dataframe tbody tr th:only-of-type {\n",
       "        vertical-align: middle;\n",
       "    }\n",
       "\n",
       "    .dataframe tbody tr th {\n",
       "        vertical-align: top;\n",
       "    }\n",
       "\n",
       "    .dataframe thead th {\n",
       "        text-align: right;\n",
       "    }\n",
       "</style>\n",
       "<table border=\"1\" class=\"dataframe\">\n",
       "  <thead>\n",
       "    <tr style=\"text-align: right;\">\n",
       "      <th></th>\n",
       "      <th>Action</th>\n",
       "      <th>Adventure</th>\n",
       "      <th>Animation</th>\n",
       "      <th>Children's</th>\n",
       "      <th>Comedy</th>\n",
       "      <th>Crime</th>\n",
       "      <th>Documentary</th>\n",
       "      <th>Drama</th>\n",
       "      <th>Fantasy</th>\n",
       "      <th>Film-Noir</th>\n",
       "      <th>...</th>\n",
       "      <th>Id</th>\n",
       "      <th>Musical</th>\n",
       "      <th>Mystery</th>\n",
       "      <th>Romance</th>\n",
       "      <th>Sci-Fi</th>\n",
       "      <th>Thriller</th>\n",
       "      <th>VideoReleaseDate</th>\n",
       "      <th>War</th>\n",
       "      <th>Western</th>\n",
       "      <th>unknown</th>\n",
       "    </tr>\n",
       "  </thead>\n",
       "  <tbody>\n",
       "    <tr>\n",
       "      <th>0</th>\n",
       "      <td>1.000000</td>\n",
       "      <td>1.000000</td>\n",
       "      <td>39.047619</td>\n",
       "      <td>12.786885</td>\n",
       "      <td>2.330693</td>\n",
       "      <td>1.000000</td>\n",
       "      <td>1.0</td>\n",
       "      <td>1.00</td>\n",
       "      <td>1.0</td>\n",
       "      <td>1.0</td>\n",
       "      <td>...</td>\n",
       "      <td>0.998812</td>\n",
       "      <td>1.0</td>\n",
       "      <td>1.0</td>\n",
       "      <td>1.0</td>\n",
       "      <td>1.0</td>\n",
       "      <td>1.000000</td>\n",
       "      <td>NaN</td>\n",
       "      <td>1.0</td>\n",
       "      <td>1.0</td>\n",
       "      <td>1.0</td>\n",
       "    </tr>\n",
       "    <tr>\n",
       "      <th>1</th>\n",
       "      <td>5.701195</td>\n",
       "      <td>11.459259</td>\n",
       "      <td>1.000000</td>\n",
       "      <td>1.000000</td>\n",
       "      <td>1.000000</td>\n",
       "      <td>1.000000</td>\n",
       "      <td>1.0</td>\n",
       "      <td>1.00</td>\n",
       "      <td>1.0</td>\n",
       "      <td>1.0</td>\n",
       "      <td>...</td>\n",
       "      <td>0.997623</td>\n",
       "      <td>1.0</td>\n",
       "      <td>1.0</td>\n",
       "      <td>1.0</td>\n",
       "      <td>1.0</td>\n",
       "      <td>5.701195</td>\n",
       "      <td>NaN</td>\n",
       "      <td>1.0</td>\n",
       "      <td>1.0</td>\n",
       "      <td>1.0</td>\n",
       "    </tr>\n",
       "    <tr>\n",
       "      <th>2</th>\n",
       "      <td>1.000000</td>\n",
       "      <td>1.000000</td>\n",
       "      <td>1.000000</td>\n",
       "      <td>1.000000</td>\n",
       "      <td>1.000000</td>\n",
       "      <td>1.000000</td>\n",
       "      <td>1.0</td>\n",
       "      <td>1.00</td>\n",
       "      <td>1.0</td>\n",
       "      <td>1.0</td>\n",
       "      <td>...</td>\n",
       "      <td>0.996435</td>\n",
       "      <td>1.0</td>\n",
       "      <td>1.0</td>\n",
       "      <td>1.0</td>\n",
       "      <td>1.0</td>\n",
       "      <td>5.701195</td>\n",
       "      <td>NaN</td>\n",
       "      <td>1.0</td>\n",
       "      <td>1.0</td>\n",
       "      <td>1.0</td>\n",
       "    </tr>\n",
       "    <tr>\n",
       "      <th>3</th>\n",
       "      <td>5.701195</td>\n",
       "      <td>1.000000</td>\n",
       "      <td>1.000000</td>\n",
       "      <td>1.000000</td>\n",
       "      <td>2.330693</td>\n",
       "      <td>1.000000</td>\n",
       "      <td>1.0</td>\n",
       "      <td>1.32</td>\n",
       "      <td>1.0</td>\n",
       "      <td>1.0</td>\n",
       "      <td>...</td>\n",
       "      <td>0.995247</td>\n",
       "      <td>1.0</td>\n",
       "      <td>1.0</td>\n",
       "      <td>1.0</td>\n",
       "      <td>1.0</td>\n",
       "      <td>1.000000</td>\n",
       "      <td>NaN</td>\n",
       "      <td>1.0</td>\n",
       "      <td>1.0</td>\n",
       "      <td>1.0</td>\n",
       "    </tr>\n",
       "    <tr>\n",
       "      <th>4</th>\n",
       "      <td>1.000000</td>\n",
       "      <td>1.000000</td>\n",
       "      <td>1.000000</td>\n",
       "      <td>1.000000</td>\n",
       "      <td>1.000000</td>\n",
       "      <td>14.431193</td>\n",
       "      <td>1.0</td>\n",
       "      <td>1.32</td>\n",
       "      <td>1.0</td>\n",
       "      <td>1.0</td>\n",
       "      <td>...</td>\n",
       "      <td>0.994058</td>\n",
       "      <td>1.0</td>\n",
       "      <td>1.0</td>\n",
       "      <td>1.0</td>\n",
       "      <td>1.0</td>\n",
       "      <td>5.701195</td>\n",
       "      <td>NaN</td>\n",
       "      <td>1.0</td>\n",
       "      <td>1.0</td>\n",
       "      <td>1.0</td>\n",
       "    </tr>\n",
       "  </tbody>\n",
       "</table>\n",
       "<p>5 rows × 21 columns</p>\n",
       "</div>"
      ],
      "text/plain": [
       "     Action  Adventure  Animation  Children's    Comedy      Crime  \\\n",
       "0  1.000000   1.000000  39.047619   12.786885  2.330693   1.000000   \n",
       "1  5.701195  11.459259   1.000000    1.000000  1.000000   1.000000   \n",
       "2  1.000000   1.000000   1.000000    1.000000  1.000000   1.000000   \n",
       "3  5.701195   1.000000   1.000000    1.000000  2.330693   1.000000   \n",
       "4  1.000000   1.000000   1.000000    1.000000  1.000000  14.431193   \n",
       "\n",
       "   Documentary  Drama  Fantasy  Film-Noir  ...        Id  Musical  Mystery  \\\n",
       "0          1.0   1.00      1.0        1.0  ...  0.998812      1.0      1.0   \n",
       "1          1.0   1.00      1.0        1.0  ...  0.997623      1.0      1.0   \n",
       "2          1.0   1.00      1.0        1.0  ...  0.996435      1.0      1.0   \n",
       "3          1.0   1.32      1.0        1.0  ...  0.995247      1.0      1.0   \n",
       "4          1.0   1.32      1.0        1.0  ...  0.994058      1.0      1.0   \n",
       "\n",
       "   Romance  Sci-Fi  Thriller  VideoReleaseDate  War  Western  unknown  \n",
       "0      1.0     1.0  1.000000               NaN  1.0      1.0      1.0  \n",
       "1      1.0     1.0  5.701195               NaN  1.0      1.0      1.0  \n",
       "2      1.0     1.0  5.701195               NaN  1.0      1.0      1.0  \n",
       "3      1.0     1.0  1.000000               NaN  1.0      1.0      1.0  \n",
       "4      1.0     1.0  5.701195               NaN  1.0      1.0      1.0  \n",
       "\n",
       "[5 rows x 21 columns]"
      ]
     },
     "execution_count": 11,
     "metadata": {},
     "output_type": "execute_result"
    }
   ],
   "source": [
    "z_score_item.head()"
   ]
  },
  {
   "cell_type": "code",
   "execution_count": 12,
   "id": "16628d2b",
   "metadata": {
    "hidden": true,
    "scrolled": false
   },
   "outputs": [
    {
     "name": "stdout",
     "output_type": "stream",
     "text": [
      "UserId        0\n",
      "MovieId       0\n",
      "Ratings       0\n",
      "Timestamps    0\n",
      "dtype: int64\n",
      "UserId        0\n",
      "MovieId       0\n",
      "Ratings       0\n",
      "Timestamps    0\n",
      "dtype: int64\n",
      "Id                    0\n",
      "Title                 0\n",
      "ReleaseDate           0\n",
      "VideoReleaseDate      0\n",
      "URL                   0\n",
      "unknown               2\n",
      "Action              251\n",
      "Adventure           135\n",
      "Animation            42\n",
      "Children's          122\n",
      "Comedy                0\n",
      "Crime               109\n",
      "Documentary          50\n",
      "Drama                 0\n",
      "Fantasy              22\n",
      "Film-Noir            24\n",
      "Horror               92\n",
      "Musical              56\n",
      "Mystery              61\n",
      "Romance             247\n",
      "Sci-Fi              101\n",
      "Thriller            251\n",
      "War                  71\n",
      "Western              27\n",
      "dtype: int64\n",
      "Id                  0\n",
      "Title               0\n",
      "ReleaseDate         0\n",
      "VideoReleaseDate    0\n",
      "URL                 0\n",
      "unknown             0\n",
      "Action              0\n",
      "Adventure           0\n",
      "Animation           0\n",
      "Children's          0\n",
      "Comedy              0\n",
      "Crime               0\n",
      "Documentary         0\n",
      "Drama               0\n",
      "Fantasy             0\n",
      "Film-Noir           0\n",
      "Horror              0\n",
      "Musical             0\n",
      "Mystery             0\n",
      "Romance             0\n",
      "Sci-Fi              0\n",
      "Thriller            0\n",
      "War                 0\n",
      "Western             0\n",
      "dtype: int64\n"
     ]
    }
   ],
   "source": [
    "#z-score validation\n",
    "#inter dataset\n",
    "#z>4\n",
    "print(df_inter[z_score_inter>4].count())\n",
    "#z<-4\n",
    "print(df_inter[z_score_inter<-4].count())\n",
    "\n",
    "#item dataset\n",
    "#z>4\n",
    "print(df_item[z_score_item>4].count())\n",
    "#z<-4\n",
    "print(df_item[z_score_item<-4].count())"
   ]
  },
  {
   "cell_type": "markdown",
   "id": "efcbc313",
   "metadata": {
    "hidden": true
   },
   "source": [
    "We can find there are a lot of upper outliers (numerical)in **item dataset** which have the **z-score bigger than 4**. We decide to replace them with the **upper cutoff**."
   ]
  },
  {
   "cell_type": "code",
   "execution_count": 13,
   "id": "3a9bdc57",
   "metadata": {
    "hidden": true,
    "scrolled": true
   },
   "outputs": [
    {
     "data": {
      "text/plain": [
       "student          196\n",
       "other            105\n",
       "educator          95\n",
       "administrator     79\n",
       "engineer          67\n",
       "programmer        66\n",
       "librarian         51\n",
       "writer            45\n",
       "executive         32\n",
       "scientist         31\n",
       "artist            28\n",
       "technician        27\n",
       "marketing         26\n",
       "entertainment     18\n",
       "healthcare        16\n",
       "retired           14\n",
       "lawyer            12\n",
       "salesman          12\n",
       "none               9\n",
       "homemaker          7\n",
       "doctor             7\n",
       "Name: Occupation, dtype: int64"
      ]
     },
     "execution_count": 13,
     "metadata": {},
     "output_type": "execute_result"
    }
   ],
   "source": [
    "#Categorical Outliers\n",
    "#inter dataset\n",
    "df_user['Occupation'].value_counts()"
   ]
  },
  {
   "cell_type": "markdown",
   "id": "385712af",
   "metadata": {
    "hidden": true
   },
   "source": [
    "So we decide to merge occupations lower than **20 users** into **\"others\"**."
   ]
  },
  {
   "cell_type": "markdown",
   "id": "7741e55d",
   "metadata": {
    "heading_collapsed": true
   },
   "source": [
    "# 2. Data Preprocessing"
   ]
  },
  {
   "cell_type": "markdown",
   "id": "4eb95129",
   "metadata": {
    "heading_collapsed": true,
    "hidden": true
   },
   "source": [
    "## 2.1 Missing Value"
   ]
  },
  {
   "cell_type": "code",
   "execution_count": 14,
   "id": "6f17718c",
   "metadata": {
    "hidden": true
   },
   "outputs": [
    {
     "data": {
      "text/html": [
       "<div>\n",
       "<style scoped>\n",
       "    .dataframe tbody tr th:only-of-type {\n",
       "        vertical-align: middle;\n",
       "    }\n",
       "\n",
       "    .dataframe tbody tr th {\n",
       "        vertical-align: top;\n",
       "    }\n",
       "\n",
       "    .dataframe thead th {\n",
       "        text-align: right;\n",
       "    }\n",
       "</style>\n",
       "<table border=\"1\" class=\"dataframe\">\n",
       "  <thead>\n",
       "    <tr style=\"text-align: right;\">\n",
       "      <th></th>\n",
       "      <th>Id</th>\n",
       "      <th>Title</th>\n",
       "      <th>ReleaseDate</th>\n",
       "      <th>VideoReleaseDate</th>\n",
       "      <th>URL</th>\n",
       "      <th>unknown</th>\n",
       "      <th>Action</th>\n",
       "      <th>Adventure</th>\n",
       "      <th>Animation</th>\n",
       "      <th>Children's</th>\n",
       "      <th>...</th>\n",
       "      <th>Fantasy</th>\n",
       "      <th>Film-Noir</th>\n",
       "      <th>Horror</th>\n",
       "      <th>Musical</th>\n",
       "      <th>Mystery</th>\n",
       "      <th>Romance</th>\n",
       "      <th>Sci-Fi</th>\n",
       "      <th>Thriller</th>\n",
       "      <th>War</th>\n",
       "      <th>Western</th>\n",
       "    </tr>\n",
       "  </thead>\n",
       "  <tbody>\n",
       "    <tr>\n",
       "      <th>266</th>\n",
       "      <td>267</td>\n",
       "      <td>unknown</td>\n",
       "      <td>NaN</td>\n",
       "      <td>NaN</td>\n",
       "      <td>NaN</td>\n",
       "      <td>1</td>\n",
       "      <td>0</td>\n",
       "      <td>0</td>\n",
       "      <td>0</td>\n",
       "      <td>0</td>\n",
       "      <td>...</td>\n",
       "      <td>0</td>\n",
       "      <td>0</td>\n",
       "      <td>0</td>\n",
       "      <td>0</td>\n",
       "      <td>0</td>\n",
       "      <td>0</td>\n",
       "      <td>0</td>\n",
       "      <td>0</td>\n",
       "      <td>0</td>\n",
       "      <td>0</td>\n",
       "    </tr>\n",
       "  </tbody>\n",
       "</table>\n",
       "<p>1 rows × 24 columns</p>\n",
       "</div>"
      ],
      "text/plain": [
       "      Id    Title ReleaseDate  VideoReleaseDate  URL  unknown  Action  \\\n",
       "266  267  unknown         NaN               NaN  NaN        1       0   \n",
       "\n",
       "     Adventure  Animation  Children's  ...  Fantasy  Film-Noir  Horror  \\\n",
       "266          0          0           0  ...        0          0       0   \n",
       "\n",
       "     Musical  Mystery  Romance  Sci-Fi  Thriller  War  Western  \n",
       "266        0        0        0       0         0    0        0  \n",
       "\n",
       "[1 rows x 24 columns]"
      ]
     },
     "execution_count": 14,
     "metadata": {},
     "output_type": "execute_result"
    }
   ],
   "source": [
    "df_item[df_item['ReleaseDate'].isnull() == True]"
   ]
  },
  {
   "cell_type": "markdown",
   "id": "cf3e3b3b",
   "metadata": {
    "hidden": true
   },
   "source": [
    "We can find that the only **\"None\"** value in the **\"ReleaseDate\"** column is an useless data line. \n",
    "So we decide to delete this row."
   ]
  },
  {
   "cell_type": "code",
   "execution_count": 15,
   "id": "db67a77c",
   "metadata": {
    "hidden": true
   },
   "outputs": [
    {
     "data": {
      "text/html": [
       "<div>\n",
       "<style scoped>\n",
       "    .dataframe tbody tr th:only-of-type {\n",
       "        vertical-align: middle;\n",
       "    }\n",
       "\n",
       "    .dataframe tbody tr th {\n",
       "        vertical-align: top;\n",
       "    }\n",
       "\n",
       "    .dataframe thead th {\n",
       "        text-align: right;\n",
       "    }\n",
       "</style>\n",
       "<table border=\"1\" class=\"dataframe\">\n",
       "  <thead>\n",
       "    <tr style=\"text-align: right;\">\n",
       "      <th></th>\n",
       "      <th>Id</th>\n",
       "      <th>Title</th>\n",
       "      <th>ReleaseDate</th>\n",
       "      <th>VideoReleaseDate</th>\n",
       "      <th>URL</th>\n",
       "      <th>unknown</th>\n",
       "      <th>Action</th>\n",
       "      <th>Adventure</th>\n",
       "      <th>Animation</th>\n",
       "      <th>Children's</th>\n",
       "      <th>...</th>\n",
       "      <th>Fantasy</th>\n",
       "      <th>Film-Noir</th>\n",
       "      <th>Horror</th>\n",
       "      <th>Musical</th>\n",
       "      <th>Mystery</th>\n",
       "      <th>Romance</th>\n",
       "      <th>Sci-Fi</th>\n",
       "      <th>Thriller</th>\n",
       "      <th>War</th>\n",
       "      <th>Western</th>\n",
       "    </tr>\n",
       "  </thead>\n",
       "  <tbody>\n",
       "    <tr>\n",
       "      <th>0</th>\n",
       "      <td>1</td>\n",
       "      <td>Toy Story (1995)</td>\n",
       "      <td>01-Jan-1995</td>\n",
       "      <td>NaN</td>\n",
       "      <td>http://us.imdb.com/M/title-exact?Toy%20Story%2...</td>\n",
       "      <td>0</td>\n",
       "      <td>0</td>\n",
       "      <td>0</td>\n",
       "      <td>1</td>\n",
       "      <td>1</td>\n",
       "      <td>...</td>\n",
       "      <td>0</td>\n",
       "      <td>0</td>\n",
       "      <td>0</td>\n",
       "      <td>0</td>\n",
       "      <td>0</td>\n",
       "      <td>0</td>\n",
       "      <td>0</td>\n",
       "      <td>0</td>\n",
       "      <td>0</td>\n",
       "      <td>0</td>\n",
       "    </tr>\n",
       "    <tr>\n",
       "      <th>1</th>\n",
       "      <td>2</td>\n",
       "      <td>GoldenEye (1995)</td>\n",
       "      <td>01-Jan-1995</td>\n",
       "      <td>NaN</td>\n",
       "      <td>http://us.imdb.com/M/title-exact?GoldenEye%20(...</td>\n",
       "      <td>0</td>\n",
       "      <td>1</td>\n",
       "      <td>1</td>\n",
       "      <td>0</td>\n",
       "      <td>0</td>\n",
       "      <td>...</td>\n",
       "      <td>0</td>\n",
       "      <td>0</td>\n",
       "      <td>0</td>\n",
       "      <td>0</td>\n",
       "      <td>0</td>\n",
       "      <td>0</td>\n",
       "      <td>0</td>\n",
       "      <td>1</td>\n",
       "      <td>0</td>\n",
       "      <td>0</td>\n",
       "    </tr>\n",
       "    <tr>\n",
       "      <th>2</th>\n",
       "      <td>3</td>\n",
       "      <td>Four Rooms (1995)</td>\n",
       "      <td>01-Jan-1995</td>\n",
       "      <td>NaN</td>\n",
       "      <td>http://us.imdb.com/M/title-exact?Four%20Rooms%...</td>\n",
       "      <td>0</td>\n",
       "      <td>0</td>\n",
       "      <td>0</td>\n",
       "      <td>0</td>\n",
       "      <td>0</td>\n",
       "      <td>...</td>\n",
       "      <td>0</td>\n",
       "      <td>0</td>\n",
       "      <td>0</td>\n",
       "      <td>0</td>\n",
       "      <td>0</td>\n",
       "      <td>0</td>\n",
       "      <td>0</td>\n",
       "      <td>1</td>\n",
       "      <td>0</td>\n",
       "      <td>0</td>\n",
       "    </tr>\n",
       "    <tr>\n",
       "      <th>3</th>\n",
       "      <td>4</td>\n",
       "      <td>Get Shorty (1995)</td>\n",
       "      <td>01-Jan-1995</td>\n",
       "      <td>NaN</td>\n",
       "      <td>http://us.imdb.com/M/title-exact?Get%20Shorty%...</td>\n",
       "      <td>0</td>\n",
       "      <td>1</td>\n",
       "      <td>0</td>\n",
       "      <td>0</td>\n",
       "      <td>0</td>\n",
       "      <td>...</td>\n",
       "      <td>0</td>\n",
       "      <td>0</td>\n",
       "      <td>0</td>\n",
       "      <td>0</td>\n",
       "      <td>0</td>\n",
       "      <td>0</td>\n",
       "      <td>0</td>\n",
       "      <td>0</td>\n",
       "      <td>0</td>\n",
       "      <td>0</td>\n",
       "    </tr>\n",
       "    <tr>\n",
       "      <th>4</th>\n",
       "      <td>5</td>\n",
       "      <td>Copycat (1995)</td>\n",
       "      <td>01-Jan-1995</td>\n",
       "      <td>NaN</td>\n",
       "      <td>http://us.imdb.com/M/title-exact?Copycat%20(1995)</td>\n",
       "      <td>0</td>\n",
       "      <td>0</td>\n",
       "      <td>0</td>\n",
       "      <td>0</td>\n",
       "      <td>0</td>\n",
       "      <td>...</td>\n",
       "      <td>0</td>\n",
       "      <td>0</td>\n",
       "      <td>0</td>\n",
       "      <td>0</td>\n",
       "      <td>0</td>\n",
       "      <td>0</td>\n",
       "      <td>0</td>\n",
       "      <td>1</td>\n",
       "      <td>0</td>\n",
       "      <td>0</td>\n",
       "    </tr>\n",
       "    <tr>\n",
       "      <th>...</th>\n",
       "      <td>...</td>\n",
       "      <td>...</td>\n",
       "      <td>...</td>\n",
       "      <td>...</td>\n",
       "      <td>...</td>\n",
       "      <td>...</td>\n",
       "      <td>...</td>\n",
       "      <td>...</td>\n",
       "      <td>...</td>\n",
       "      <td>...</td>\n",
       "      <td>...</td>\n",
       "      <td>...</td>\n",
       "      <td>...</td>\n",
       "      <td>...</td>\n",
       "      <td>...</td>\n",
       "      <td>...</td>\n",
       "      <td>...</td>\n",
       "      <td>...</td>\n",
       "      <td>...</td>\n",
       "      <td>...</td>\n",
       "      <td>...</td>\n",
       "    </tr>\n",
       "    <tr>\n",
       "      <th>1677</th>\n",
       "      <td>1678</td>\n",
       "      <td>Mat' i syn (1997)</td>\n",
       "      <td>06-Feb-1998</td>\n",
       "      <td>NaN</td>\n",
       "      <td>http://us.imdb.com/M/title-exact?Mat%27+i+syn+...</td>\n",
       "      <td>0</td>\n",
       "      <td>0</td>\n",
       "      <td>0</td>\n",
       "      <td>0</td>\n",
       "      <td>0</td>\n",
       "      <td>...</td>\n",
       "      <td>0</td>\n",
       "      <td>0</td>\n",
       "      <td>0</td>\n",
       "      <td>0</td>\n",
       "      <td>0</td>\n",
       "      <td>0</td>\n",
       "      <td>0</td>\n",
       "      <td>0</td>\n",
       "      <td>0</td>\n",
       "      <td>0</td>\n",
       "    </tr>\n",
       "    <tr>\n",
       "      <th>1678</th>\n",
       "      <td>1679</td>\n",
       "      <td>B. Monkey (1998)</td>\n",
       "      <td>06-Feb-1998</td>\n",
       "      <td>NaN</td>\n",
       "      <td>http://us.imdb.com/M/title-exact?B%2E+Monkey+(...</td>\n",
       "      <td>0</td>\n",
       "      <td>0</td>\n",
       "      <td>0</td>\n",
       "      <td>0</td>\n",
       "      <td>0</td>\n",
       "      <td>...</td>\n",
       "      <td>0</td>\n",
       "      <td>0</td>\n",
       "      <td>0</td>\n",
       "      <td>0</td>\n",
       "      <td>0</td>\n",
       "      <td>1</td>\n",
       "      <td>0</td>\n",
       "      <td>1</td>\n",
       "      <td>0</td>\n",
       "      <td>0</td>\n",
       "    </tr>\n",
       "    <tr>\n",
       "      <th>1679</th>\n",
       "      <td>1680</td>\n",
       "      <td>Sliding Doors (1998)</td>\n",
       "      <td>01-Jan-1998</td>\n",
       "      <td>NaN</td>\n",
       "      <td>http://us.imdb.com/Title?Sliding+Doors+(1998)</td>\n",
       "      <td>0</td>\n",
       "      <td>0</td>\n",
       "      <td>0</td>\n",
       "      <td>0</td>\n",
       "      <td>0</td>\n",
       "      <td>...</td>\n",
       "      <td>0</td>\n",
       "      <td>0</td>\n",
       "      <td>0</td>\n",
       "      <td>0</td>\n",
       "      <td>0</td>\n",
       "      <td>1</td>\n",
       "      <td>0</td>\n",
       "      <td>0</td>\n",
       "      <td>0</td>\n",
       "      <td>0</td>\n",
       "    </tr>\n",
       "    <tr>\n",
       "      <th>1680</th>\n",
       "      <td>1681</td>\n",
       "      <td>You So Crazy (1994)</td>\n",
       "      <td>01-Jan-1994</td>\n",
       "      <td>NaN</td>\n",
       "      <td>http://us.imdb.com/M/title-exact?You%20So%20Cr...</td>\n",
       "      <td>0</td>\n",
       "      <td>0</td>\n",
       "      <td>0</td>\n",
       "      <td>0</td>\n",
       "      <td>0</td>\n",
       "      <td>...</td>\n",
       "      <td>0</td>\n",
       "      <td>0</td>\n",
       "      <td>0</td>\n",
       "      <td>0</td>\n",
       "      <td>0</td>\n",
       "      <td>0</td>\n",
       "      <td>0</td>\n",
       "      <td>0</td>\n",
       "      <td>0</td>\n",
       "      <td>0</td>\n",
       "    </tr>\n",
       "    <tr>\n",
       "      <th>1681</th>\n",
       "      <td>1682</td>\n",
       "      <td>Scream of Stone (Schrei aus Stein) (1991)</td>\n",
       "      <td>08-Mar-1996</td>\n",
       "      <td>NaN</td>\n",
       "      <td>http://us.imdb.com/M/title-exact?Schrei%20aus%...</td>\n",
       "      <td>0</td>\n",
       "      <td>0</td>\n",
       "      <td>0</td>\n",
       "      <td>0</td>\n",
       "      <td>0</td>\n",
       "      <td>...</td>\n",
       "      <td>0</td>\n",
       "      <td>0</td>\n",
       "      <td>0</td>\n",
       "      <td>0</td>\n",
       "      <td>0</td>\n",
       "      <td>0</td>\n",
       "      <td>0</td>\n",
       "      <td>0</td>\n",
       "      <td>0</td>\n",
       "      <td>0</td>\n",
       "    </tr>\n",
       "  </tbody>\n",
       "</table>\n",
       "<p>1682 rows × 24 columns</p>\n",
       "</div>"
      ],
      "text/plain": [
       "        Id                                      Title  ReleaseDate  \\\n",
       "0        1                           Toy Story (1995)  01-Jan-1995   \n",
       "1        2                           GoldenEye (1995)  01-Jan-1995   \n",
       "2        3                          Four Rooms (1995)  01-Jan-1995   \n",
       "3        4                          Get Shorty (1995)  01-Jan-1995   \n",
       "4        5                             Copycat (1995)  01-Jan-1995   \n",
       "...    ...                                        ...          ...   \n",
       "1677  1678                          Mat' i syn (1997)  06-Feb-1998   \n",
       "1678  1679                           B. Monkey (1998)  06-Feb-1998   \n",
       "1679  1680                       Sliding Doors (1998)  01-Jan-1998   \n",
       "1680  1681                        You So Crazy (1994)  01-Jan-1994   \n",
       "1681  1682  Scream of Stone (Schrei aus Stein) (1991)  08-Mar-1996   \n",
       "\n",
       "      VideoReleaseDate                                                URL  \\\n",
       "0                  NaN  http://us.imdb.com/M/title-exact?Toy%20Story%2...   \n",
       "1                  NaN  http://us.imdb.com/M/title-exact?GoldenEye%20(...   \n",
       "2                  NaN  http://us.imdb.com/M/title-exact?Four%20Rooms%...   \n",
       "3                  NaN  http://us.imdb.com/M/title-exact?Get%20Shorty%...   \n",
       "4                  NaN  http://us.imdb.com/M/title-exact?Copycat%20(1995)   \n",
       "...                ...                                                ...   \n",
       "1677               NaN  http://us.imdb.com/M/title-exact?Mat%27+i+syn+...   \n",
       "1678               NaN  http://us.imdb.com/M/title-exact?B%2E+Monkey+(...   \n",
       "1679               NaN      http://us.imdb.com/Title?Sliding+Doors+(1998)   \n",
       "1680               NaN  http://us.imdb.com/M/title-exact?You%20So%20Cr...   \n",
       "1681               NaN  http://us.imdb.com/M/title-exact?Schrei%20aus%...   \n",
       "\n",
       "      unknown  Action  Adventure  Animation  Children's  ...  Fantasy  \\\n",
       "0           0       0          0          1           1  ...        0   \n",
       "1           0       1          1          0           0  ...        0   \n",
       "2           0       0          0          0           0  ...        0   \n",
       "3           0       1          0          0           0  ...        0   \n",
       "4           0       0          0          0           0  ...        0   \n",
       "...       ...     ...        ...        ...         ...  ...      ...   \n",
       "1677        0       0          0          0           0  ...        0   \n",
       "1678        0       0          0          0           0  ...        0   \n",
       "1679        0       0          0          0           0  ...        0   \n",
       "1680        0       0          0          0           0  ...        0   \n",
       "1681        0       0          0          0           0  ...        0   \n",
       "\n",
       "      Film-Noir  Horror  Musical  Mystery  Romance  Sci-Fi  Thriller  War  \\\n",
       "0             0       0        0        0        0       0         0    0   \n",
       "1             0       0        0        0        0       0         1    0   \n",
       "2             0       0        0        0        0       0         1    0   \n",
       "3             0       0        0        0        0       0         0    0   \n",
       "4             0       0        0        0        0       0         1    0   \n",
       "...         ...     ...      ...      ...      ...     ...       ...  ...   \n",
       "1677          0       0        0        0        0       0         0    0   \n",
       "1678          0       0        0        0        1       0         1    0   \n",
       "1679          0       0        0        0        1       0         0    0   \n",
       "1680          0       0        0        0        0       0         0    0   \n",
       "1681          0       0        0        0        0       0         0    0   \n",
       "\n",
       "      Western  \n",
       "0           0  \n",
       "1           0  \n",
       "2           0  \n",
       "3           0  \n",
       "4           0  \n",
       "...       ...  \n",
       "1677        0  \n",
       "1678        0  \n",
       "1679        0  \n",
       "1680        0  \n",
       "1681        0  \n",
       "\n",
       "[1682 rows x 24 columns]"
      ]
     },
     "execution_count": 15,
     "metadata": {},
     "output_type": "execute_result"
    }
   ],
   "source": [
    "df_item"
   ]
  },
  {
   "cell_type": "code",
   "execution_count": 16,
   "id": "51d709e9",
   "metadata": {
    "hidden": true
   },
   "outputs": [],
   "source": [
    "#Delete feature \"VideoReleaseDate\" and \"URL\"\n",
    "df_item = df_item.drop(['VideoReleaseDate', 'URL'], axis=1)\n",
    "#Delete rows with null values.\n",
    "df_item = df_item.dropna()"
   ]
  },
  {
   "cell_type": "markdown",
   "id": "14d76f4d",
   "metadata": {
    "heading_collapsed": true,
    "hidden": true
   },
   "source": [
    "## 2.2 Outliers"
   ]
  },
  {
   "cell_type": "markdown",
   "id": "745fa2fd",
   "metadata": {
    "hidden": true
   },
   "source": [
    "After observation, we found that all numerical features have only binary values, which means the outliers is not actually means out of scale. <br/>\n",
    "\n",
    "So we only to do **value mapping** to categorical features."
   ]
  },
  {
   "cell_type": "code",
   "execution_count": 17,
   "id": "a8dfcf53",
   "metadata": {
    "hidden": true
   },
   "outputs": [
    {
     "data": {
      "text/plain": [
       "other            200\n",
       "student          196\n",
       "educator          95\n",
       "administrator     79\n",
       "engineer          67\n",
       "programmer        66\n",
       "librarian         51\n",
       "writer            45\n",
       "executive         32\n",
       "scientist         31\n",
       "artist            28\n",
       "technician        27\n",
       "marketing         26\n",
       "Name: Occupation, dtype: int64"
      ]
     },
     "execution_count": 17,
     "metadata": {},
     "output_type": "execute_result"
    }
   ],
   "source": [
    "df_user_use = df_user.copy()\n",
    "df_user_use['Occupation'] = df_user['Occupation'].replace({\n",
    "    'entertainment': 'other',\n",
    "    'healthcare': 'other',\n",
    "    'retired': 'other',\n",
    "    'lawyer': 'other',\n",
    "    'salesman': 'other',\n",
    "    'none': 'other',\n",
    "    'homemaker':'other',\n",
    "    'doctor':'other'\n",
    "})\n",
    "df_user_use['Occupation'].value_counts()"
   ]
  },
  {
   "cell_type": "markdown",
   "id": "c240811c",
   "metadata": {
    "heading_collapsed": true,
    "hidden": true
   },
   "source": [
    "## 2.3 Encoding"
   ]
  },
  {
   "cell_type": "markdown",
   "id": "77a048db",
   "metadata": {
    "hidden": true
   },
   "source": [
    "Except for user dataset, the two other datasets don't need to do **encoding process**. <br/>\n",
    "For user dataset, we encode **occupation and sex (two categorical features)** with **labelencoder**;\n",
    "and we encode **age (a numerical feature)** with **MinMaxScaler**."
   ]
  },
  {
   "cell_type": "code",
   "execution_count": 18,
   "id": "24a8c1f9",
   "metadata": {
    "hidden": true
   },
   "outputs": [
    {
     "data": {
      "text/html": [
       "<div>\n",
       "<style scoped>\n",
       "    .dataframe tbody tr th:only-of-type {\n",
       "        vertical-align: middle;\n",
       "    }\n",
       "\n",
       "    .dataframe tbody tr th {\n",
       "        vertical-align: top;\n",
       "    }\n",
       "\n",
       "    .dataframe thead th {\n",
       "        text-align: right;\n",
       "    }\n",
       "</style>\n",
       "<table border=\"1\" class=\"dataframe\">\n",
       "  <thead>\n",
       "    <tr style=\"text-align: right;\">\n",
       "      <th></th>\n",
       "      <th>Id</th>\n",
       "      <th>Age</th>\n",
       "      <th>Sex</th>\n",
       "      <th>Occupation</th>\n",
       "      <th>Code</th>\n",
       "    </tr>\n",
       "  </thead>\n",
       "  <tbody>\n",
       "    <tr>\n",
       "      <th>0</th>\n",
       "      <td>1</td>\n",
       "      <td>0.257576</td>\n",
       "      <td>1</td>\n",
       "      <td>11</td>\n",
       "      <td>85711</td>\n",
       "    </tr>\n",
       "    <tr>\n",
       "      <th>1</th>\n",
       "      <td>2</td>\n",
       "      <td>0.696970</td>\n",
       "      <td>0</td>\n",
       "      <td>7</td>\n",
       "      <td>94043</td>\n",
       "    </tr>\n",
       "    <tr>\n",
       "      <th>2</th>\n",
       "      <td>3</td>\n",
       "      <td>0.242424</td>\n",
       "      <td>1</td>\n",
       "      <td>12</td>\n",
       "      <td>32067</td>\n",
       "    </tr>\n",
       "    <tr>\n",
       "      <th>3</th>\n",
       "      <td>4</td>\n",
       "      <td>0.257576</td>\n",
       "      <td>1</td>\n",
       "      <td>11</td>\n",
       "      <td>43537</td>\n",
       "    </tr>\n",
       "    <tr>\n",
       "      <th>4</th>\n",
       "      <td>5</td>\n",
       "      <td>0.393939</td>\n",
       "      <td>0</td>\n",
       "      <td>7</td>\n",
       "      <td>15213</td>\n",
       "    </tr>\n",
       "  </tbody>\n",
       "</table>\n",
       "</div>"
      ],
      "text/plain": [
       "   Id       Age  Sex  Occupation   Code\n",
       "0   1  0.257576    1          11  85711\n",
       "1   2  0.696970    0           7  94043\n",
       "2   3  0.242424    1          12  32067\n",
       "3   4  0.257576    1          11  43537\n",
       "4   5  0.393939    0           7  15213"
      ]
     },
     "execution_count": 18,
     "metadata": {},
     "output_type": "execute_result"
    }
   ],
   "source": [
    "# Do LabelEncoder to 'Occupation'and 'sex' feature of \"user\" dataset.\n",
    "le = LabelEncoder()\n",
    "df_user_use['Occupation'] = le.fit_transform(df_user_use['Occupation'])\n",
    "df_user_use['Sex'] = le.fit_transform(df_user_use['Sex'])\n",
    "\n",
    "#Do MinmaxEncoder to 'Age' feature of 'user' dataset\n",
    "mme = MinMaxScaler()\n",
    "df_user_use['Age'] = mme.fit_transform(df_user_use[['Age']])\n",
    "df_user_use.head()"
   ]
  },
  {
   "cell_type": "markdown",
   "id": "37880305",
   "metadata": {
    "heading_collapsed": true
   },
   "source": [
    "# 3. Data Visualization"
   ]
  },
  {
   "cell_type": "code",
   "execution_count": 19,
   "id": "6c3ec617",
   "metadata": {
    "hidden": true
   },
   "outputs": [
    {
     "data": {
      "text/html": [
       "<div>\n",
       "<style scoped>\n",
       "    .dataframe tbody tr th:only-of-type {\n",
       "        vertical-align: middle;\n",
       "    }\n",
       "\n",
       "    .dataframe tbody tr th {\n",
       "        vertical-align: top;\n",
       "    }\n",
       "\n",
       "    .dataframe thead th {\n",
       "        text-align: right;\n",
       "    }\n",
       "</style>\n",
       "<table border=\"1\" class=\"dataframe\">\n",
       "  <thead>\n",
       "    <tr style=\"text-align: right;\">\n",
       "      <th></th>\n",
       "      <th>UserId</th>\n",
       "      <th>MovieId</th>\n",
       "      <th>Ratings</th>\n",
       "      <th>Timestamps</th>\n",
       "    </tr>\n",
       "  </thead>\n",
       "  <tbody>\n",
       "    <tr>\n",
       "      <th>0</th>\n",
       "      <td>196</td>\n",
       "      <td>242</td>\n",
       "      <td>3</td>\n",
       "      <td>881250949</td>\n",
       "    </tr>\n",
       "    <tr>\n",
       "      <th>1</th>\n",
       "      <td>186</td>\n",
       "      <td>302</td>\n",
       "      <td>3</td>\n",
       "      <td>891717742</td>\n",
       "    </tr>\n",
       "    <tr>\n",
       "      <th>2</th>\n",
       "      <td>22</td>\n",
       "      <td>377</td>\n",
       "      <td>1</td>\n",
       "      <td>878887116</td>\n",
       "    </tr>\n",
       "    <tr>\n",
       "      <th>3</th>\n",
       "      <td>244</td>\n",
       "      <td>51</td>\n",
       "      <td>2</td>\n",
       "      <td>880606923</td>\n",
       "    </tr>\n",
       "    <tr>\n",
       "      <th>4</th>\n",
       "      <td>166</td>\n",
       "      <td>346</td>\n",
       "      <td>1</td>\n",
       "      <td>886397596</td>\n",
       "    </tr>\n",
       "  </tbody>\n",
       "</table>\n",
       "</div>"
      ],
      "text/plain": [
       "   UserId  MovieId  Ratings  Timestamps\n",
       "0     196      242        3   881250949\n",
       "1     186      302        3   891717742\n",
       "2      22      377        1   878887116\n",
       "3     244       51        2   880606923\n",
       "4     166      346        1   886397596"
      ]
     },
     "execution_count": 19,
     "metadata": {},
     "output_type": "execute_result"
    }
   ],
   "source": [
    "df_inter.head()"
   ]
  },
  {
   "cell_type": "code",
   "execution_count": 20,
   "id": "ff2a2e03",
   "metadata": {
    "hidden": true,
    "scrolled": false
   },
   "outputs": [
    {
     "data": {
      "text/html": [
       "<div>\n",
       "<style scoped>\n",
       "    .dataframe tbody tr th:only-of-type {\n",
       "        vertical-align: middle;\n",
       "    }\n",
       "\n",
       "    .dataframe tbody tr th {\n",
       "        vertical-align: top;\n",
       "    }\n",
       "\n",
       "    .dataframe thead th {\n",
       "        text-align: right;\n",
       "    }\n",
       "</style>\n",
       "<table border=\"1\" class=\"dataframe\">\n",
       "  <thead>\n",
       "    <tr style=\"text-align: right;\">\n",
       "      <th></th>\n",
       "      <th>Id</th>\n",
       "      <th>Title</th>\n",
       "      <th>ReleaseDate</th>\n",
       "      <th>unknown</th>\n",
       "      <th>Action</th>\n",
       "      <th>Adventure</th>\n",
       "      <th>Animation</th>\n",
       "      <th>Children's</th>\n",
       "      <th>Comedy</th>\n",
       "      <th>Crime</th>\n",
       "      <th>...</th>\n",
       "      <th>Fantasy</th>\n",
       "      <th>Film-Noir</th>\n",
       "      <th>Horror</th>\n",
       "      <th>Musical</th>\n",
       "      <th>Mystery</th>\n",
       "      <th>Romance</th>\n",
       "      <th>Sci-Fi</th>\n",
       "      <th>Thriller</th>\n",
       "      <th>War</th>\n",
       "      <th>Western</th>\n",
       "    </tr>\n",
       "  </thead>\n",
       "  <tbody>\n",
       "    <tr>\n",
       "      <th>0</th>\n",
       "      <td>1</td>\n",
       "      <td>Toy Story (1995)</td>\n",
       "      <td>01-Jan-1995</td>\n",
       "      <td>0</td>\n",
       "      <td>0</td>\n",
       "      <td>0</td>\n",
       "      <td>1</td>\n",
       "      <td>1</td>\n",
       "      <td>1</td>\n",
       "      <td>0</td>\n",
       "      <td>...</td>\n",
       "      <td>0</td>\n",
       "      <td>0</td>\n",
       "      <td>0</td>\n",
       "      <td>0</td>\n",
       "      <td>0</td>\n",
       "      <td>0</td>\n",
       "      <td>0</td>\n",
       "      <td>0</td>\n",
       "      <td>0</td>\n",
       "      <td>0</td>\n",
       "    </tr>\n",
       "    <tr>\n",
       "      <th>1</th>\n",
       "      <td>2</td>\n",
       "      <td>GoldenEye (1995)</td>\n",
       "      <td>01-Jan-1995</td>\n",
       "      <td>0</td>\n",
       "      <td>1</td>\n",
       "      <td>1</td>\n",
       "      <td>0</td>\n",
       "      <td>0</td>\n",
       "      <td>0</td>\n",
       "      <td>0</td>\n",
       "      <td>...</td>\n",
       "      <td>0</td>\n",
       "      <td>0</td>\n",
       "      <td>0</td>\n",
       "      <td>0</td>\n",
       "      <td>0</td>\n",
       "      <td>0</td>\n",
       "      <td>0</td>\n",
       "      <td>1</td>\n",
       "      <td>0</td>\n",
       "      <td>0</td>\n",
       "    </tr>\n",
       "    <tr>\n",
       "      <th>2</th>\n",
       "      <td>3</td>\n",
       "      <td>Four Rooms (1995)</td>\n",
       "      <td>01-Jan-1995</td>\n",
       "      <td>0</td>\n",
       "      <td>0</td>\n",
       "      <td>0</td>\n",
       "      <td>0</td>\n",
       "      <td>0</td>\n",
       "      <td>0</td>\n",
       "      <td>0</td>\n",
       "      <td>...</td>\n",
       "      <td>0</td>\n",
       "      <td>0</td>\n",
       "      <td>0</td>\n",
       "      <td>0</td>\n",
       "      <td>0</td>\n",
       "      <td>0</td>\n",
       "      <td>0</td>\n",
       "      <td>1</td>\n",
       "      <td>0</td>\n",
       "      <td>0</td>\n",
       "    </tr>\n",
       "    <tr>\n",
       "      <th>3</th>\n",
       "      <td>4</td>\n",
       "      <td>Get Shorty (1995)</td>\n",
       "      <td>01-Jan-1995</td>\n",
       "      <td>0</td>\n",
       "      <td>1</td>\n",
       "      <td>0</td>\n",
       "      <td>0</td>\n",
       "      <td>0</td>\n",
       "      <td>1</td>\n",
       "      <td>0</td>\n",
       "      <td>...</td>\n",
       "      <td>0</td>\n",
       "      <td>0</td>\n",
       "      <td>0</td>\n",
       "      <td>0</td>\n",
       "      <td>0</td>\n",
       "      <td>0</td>\n",
       "      <td>0</td>\n",
       "      <td>0</td>\n",
       "      <td>0</td>\n",
       "      <td>0</td>\n",
       "    </tr>\n",
       "    <tr>\n",
       "      <th>4</th>\n",
       "      <td>5</td>\n",
       "      <td>Copycat (1995)</td>\n",
       "      <td>01-Jan-1995</td>\n",
       "      <td>0</td>\n",
       "      <td>0</td>\n",
       "      <td>0</td>\n",
       "      <td>0</td>\n",
       "      <td>0</td>\n",
       "      <td>0</td>\n",
       "      <td>1</td>\n",
       "      <td>...</td>\n",
       "      <td>0</td>\n",
       "      <td>0</td>\n",
       "      <td>0</td>\n",
       "      <td>0</td>\n",
       "      <td>0</td>\n",
       "      <td>0</td>\n",
       "      <td>0</td>\n",
       "      <td>1</td>\n",
       "      <td>0</td>\n",
       "      <td>0</td>\n",
       "    </tr>\n",
       "  </tbody>\n",
       "</table>\n",
       "<p>5 rows × 22 columns</p>\n",
       "</div>"
      ],
      "text/plain": [
       "   Id              Title  ReleaseDate  unknown  Action  Adventure  Animation  \\\n",
       "0   1   Toy Story (1995)  01-Jan-1995        0       0          0          1   \n",
       "1   2   GoldenEye (1995)  01-Jan-1995        0       1          1          0   \n",
       "2   3  Four Rooms (1995)  01-Jan-1995        0       0          0          0   \n",
       "3   4  Get Shorty (1995)  01-Jan-1995        0       1          0          0   \n",
       "4   5     Copycat (1995)  01-Jan-1995        0       0          0          0   \n",
       "\n",
       "   Children's  Comedy  Crime  ...  Fantasy  Film-Noir  Horror  Musical  \\\n",
       "0           1       1      0  ...        0          0       0        0   \n",
       "1           0       0      0  ...        0          0       0        0   \n",
       "2           0       0      0  ...        0          0       0        0   \n",
       "3           0       1      0  ...        0          0       0        0   \n",
       "4           0       0      1  ...        0          0       0        0   \n",
       "\n",
       "   Mystery  Romance  Sci-Fi  Thriller  War  Western  \n",
       "0        0        0       0         0    0        0  \n",
       "1        0        0       0         1    0        0  \n",
       "2        0        0       0         1    0        0  \n",
       "3        0        0       0         0    0        0  \n",
       "4        0        0       0         1    0        0  \n",
       "\n",
       "[5 rows x 22 columns]"
      ]
     },
     "execution_count": 20,
     "metadata": {},
     "output_type": "execute_result"
    }
   ],
   "source": [
    "df_item.head()"
   ]
  },
  {
   "cell_type": "code",
   "execution_count": 21,
   "id": "bc36d6a1",
   "metadata": {
    "hidden": true
   },
   "outputs": [
    {
     "data": {
      "text/html": [
       "<div>\n",
       "<style scoped>\n",
       "    .dataframe tbody tr th:only-of-type {\n",
       "        vertical-align: middle;\n",
       "    }\n",
       "\n",
       "    .dataframe tbody tr th {\n",
       "        vertical-align: top;\n",
       "    }\n",
       "\n",
       "    .dataframe thead th {\n",
       "        text-align: right;\n",
       "    }\n",
       "</style>\n",
       "<table border=\"1\" class=\"dataframe\">\n",
       "  <thead>\n",
       "    <tr style=\"text-align: right;\">\n",
       "      <th></th>\n",
       "      <th>Id</th>\n",
       "      <th>Age</th>\n",
       "      <th>Sex</th>\n",
       "      <th>Occupation</th>\n",
       "      <th>Code</th>\n",
       "    </tr>\n",
       "  </thead>\n",
       "  <tbody>\n",
       "    <tr>\n",
       "      <th>0</th>\n",
       "      <td>1</td>\n",
       "      <td>24</td>\n",
       "      <td>M</td>\n",
       "      <td>technician</td>\n",
       "      <td>85711</td>\n",
       "    </tr>\n",
       "    <tr>\n",
       "      <th>1</th>\n",
       "      <td>2</td>\n",
       "      <td>53</td>\n",
       "      <td>F</td>\n",
       "      <td>other</td>\n",
       "      <td>94043</td>\n",
       "    </tr>\n",
       "    <tr>\n",
       "      <th>2</th>\n",
       "      <td>3</td>\n",
       "      <td>23</td>\n",
       "      <td>M</td>\n",
       "      <td>writer</td>\n",
       "      <td>32067</td>\n",
       "    </tr>\n",
       "    <tr>\n",
       "      <th>3</th>\n",
       "      <td>4</td>\n",
       "      <td>24</td>\n",
       "      <td>M</td>\n",
       "      <td>technician</td>\n",
       "      <td>43537</td>\n",
       "    </tr>\n",
       "    <tr>\n",
       "      <th>4</th>\n",
       "      <td>5</td>\n",
       "      <td>33</td>\n",
       "      <td>F</td>\n",
       "      <td>other</td>\n",
       "      <td>15213</td>\n",
       "    </tr>\n",
       "  </tbody>\n",
       "</table>\n",
       "</div>"
      ],
      "text/plain": [
       "   Id  Age Sex  Occupation   Code\n",
       "0   1   24   M  technician  85711\n",
       "1   2   53   F       other  94043\n",
       "2   3   23   M      writer  32067\n",
       "3   4   24   M  technician  43537\n",
       "4   5   33   F       other  15213"
      ]
     },
     "execution_count": 21,
     "metadata": {},
     "output_type": "execute_result"
    }
   ],
   "source": [
    "df_user.head()"
   ]
  },
  {
   "cell_type": "markdown",
   "id": "397e15ac",
   "metadata": {
    "heading_collapsed": true,
    "hidden": true
   },
   "source": [
    "## 3.1 Visualizatin on Interacting dataset|"
   ]
  },
  {
   "cell_type": "markdown",
   "id": "e9d9caa9",
   "metadata": {
    "heading_collapsed": true,
    "hidden": true
   },
   "source": [
    "### 3.1.1 Rating ratio"
   ]
  },
  {
   "cell_type": "code",
   "execution_count": 22,
   "id": "6a0a30ce",
   "metadata": {
    "hidden": true
   },
   "outputs": [],
   "source": [
    "textprops={'fontsize': 15}"
   ]
  },
  {
   "cell_type": "code",
   "execution_count": 23,
   "id": "c83646c9",
   "metadata": {
    "hidden": true
   },
   "outputs": [
    {
     "data": {
      "image/png": "[encoded data removed]",
      "text/plain": [
       "<Figure size 576x576 with 1 Axes>"
      ]
     },
     "metadata": {},
     "output_type": "display_data"
    }
   ],
   "source": [
    "plt.figure(figsize=(8, 8))\n",
    "plt.title('Ratings ratio for movies', fontsize=20)\n",
    "\n",
    "rating = df_inter['Ratings'].value_counts()\n",
    "data = rating.values\n",
    "labels = list()\n",
    "for index in rating.index:\n",
    "    labels.append(str(index) + '-star')\n",
    "\n",
    "colors=sns.color_palette('pastel')[0:5]\n",
    "\n",
    "plt.pie(x=data, labels=labels, colors=colors, autopct='%.0f%%', textprops=textprops)\n",
    "plt.show()"
   ]
  },
  {
   "cell_type": "markdown",
   "id": "d8701ac9",
   "metadata": {
    "hidden": true
   },
   "source": [
    "We can see from the pie chart that ***over half (55%)** of the movies are noted as **good (have/over 4-star)** by audiences. <br/>\n",
    "On the contrary, **few people(6%) rated movies as **bad (with only 1-star)**"
   ]
  },
  {
   "cell_type": "markdown",
   "id": "3da4298f",
   "metadata": {
    "heading_collapsed": true,
    "hidden": true
   },
   "source": [
    "## 3.2 Visualization on Item dataset"
   ]
  },
  {
   "cell_type": "markdown",
   "id": "12fe23d3",
   "metadata": {
    "heading_collapsed": true,
    "hidden": true
   },
   "source": [
    "### 3.2.1 Movie target ? Children OR Adults?"
   ]
  },
  {
   "cell_type": "code",
   "execution_count": 24,
   "id": "276d1206",
   "metadata": {
    "hidden": true
   },
   "outputs": [
    {
     "data": {
      "image/png": "[encoded data removed]",
      "text/plain": [
       "<Figure size 1440x576 with 2 Axes>"
      ]
     },
     "metadata": {
      "needs_background": "light"
     },
     "output_type": "display_data"
    }
   ],
   "source": [
    "is_child = df_item[\"Children's\"].value_counts()\n",
    "labels = ['Adults', 'Children']\n",
    "fig, axs = plt.subplots(1, 2, figsize=(20, 8))\n",
    "fig.suptitle('Movie Target', fontsize=25)\n",
    "\n",
    "#Barplot\n",
    "axs[0].set_title('Bar plot', fontsize=18)\n",
    "is_child.plot.bar(ax = axs[0])\n",
    "x = range(len(labels))\n",
    "axs[0].grid(\"on\")\n",
    "axs[0].set_xlabel('Type', fontsize=15)\n",
    "axs[0].set_ylabel('Amount', fontsize=15)\n",
    "axs[0].set_xticks(x, labels)\n",
    "axs[0].tick_params(labelsize=15, rotation=0)\n",
    "\n",
    "#Pie chart\n",
    "axs[1].set_title('Pie chart', fontsize=18)\n",
    "colors=sns.color_palette('pastel')[3:5]\n",
    "is_child.plot.pie(ax = axs[1], colors=colors, labels=labels, textprops=textprops, autopct='%.0f%%', explode=[0, 0.2])\n",
    "\n",
    "\n",
    "plt.show()"
   ]
  },
  {
   "cell_type": "markdown",
   "id": "461ae592",
   "metadata": {
    "hidden": true
   },
   "source": [
    "We can discover that there are not so many movies for **children (only 7%)**."
   ]
  },
  {
   "cell_type": "markdown",
   "id": "f80f6cfc",
   "metadata": {
    "heading_collapsed": true,
    "hidden": true
   },
   "source": [
    "### 3.2.2 Types of movies (Wordcloud)"
   ]
  },
  {
   "cell_type": "code",
   "execution_count": 25,
   "id": "96a2290b",
   "metadata": {
    "hidden": true,
    "scrolled": true
   },
   "outputs": [],
   "source": [
    "sum_type = list()\n",
    "title_type = df_item.columns[4:]\n",
    "for col in df_item.columns[4:]:\n",
    "    sum_type.append(sum(df_item[col]))"
   ]
  },
  {
   "cell_type": "code",
   "execution_count": 26,
   "id": "6bc4e091",
   "metadata": {
    "hidden": true,
    "scrolled": true
   },
   "outputs": [
    {
     "data": {
      "image/png": "[encoded data removed]",
      "text/plain": [
       "<Figure size 864x864 with 1 Axes>"
      ]
     },
     "metadata": {
      "needs_background": "light"
     },
     "output_type": "display_data"
    }
   ],
   "source": [
    "wc = WordCloud(max_words=30, \n",
    "               width=1500,\n",
    "               height=700,\n",
    "              background_color='white',\n",
    "              random_state=42).generate_from_frequencies(dict(zip(title_type, sum_type)))\n",
    "\n",
    "plt.figure(figsize=(12,12))\n",
    "plt.imshow(wc)\n",
    "plt.axis('off')\n",
    "plt.show()"
   ]
  },
  {
   "cell_type": "markdown",
   "id": "87ed5617",
   "metadata": {
    "hidden": true
   },
   "source": [
    "From the wordcloud, **comedy** and **drama** are the most common types of movies."
   ]
  },
  {
   "cell_type": "markdown",
   "id": "b1f9a153",
   "metadata": {
    "heading_collapsed": true,
    "hidden": true
   },
   "source": [
    "## 3.3 Visualization on user dataset"
   ]
  },
  {
   "cell_type": "markdown",
   "id": "a0f3b99d",
   "metadata": {
    "heading_collapsed": true,
    "hidden": true
   },
   "source": [
    "### 3.3.1 Occupation type"
   ]
  },
  {
   "cell_type": "code",
   "execution_count": 27,
   "id": "0cec4d1e",
   "metadata": {
    "hidden": true,
    "scrolled": true
   },
   "outputs": [
    {
     "data": {
      "image/png": "[encoded data removed]",
      "text/plain": [
       "<Figure size 576x720 with 1 Axes>"
      ]
     },
     "metadata": {
      "needs_background": "light"
     },
     "output_type": "display_data"
    }
   ],
   "source": [
    "plt.figure(figsize=(8, 10))\n",
    "occ_label = ['other',\n",
    "             'student',\n",
    "             'educator',\n",
    "            'administrator',\n",
    "            'engineer',\n",
    "            'programmer',\n",
    "            'librarian',\n",
    "            'writer',\n",
    "            'executive',\n",
    "            'scientist',\n",
    "            'artist',\n",
    "            'technician',\n",
    "            'marketing']\n",
    "\n",
    "ax = sns.barplot(x=df_user_use['Occupation'].value_counts().values, y=occ_label, orient='h')\n",
    "ax.set_title('Type of occupation', fontsize= 20)\n",
    "plt.xlabel('Counts', fontsize=15)\n",
    "plt.ylabel('Occpations', fontsize=15)\n",
    "ax.grid('on')"
   ]
  },
  {
   "cell_type": "code",
   "execution_count": 28,
   "id": "fccfd312",
   "metadata": {
    "hidden": true
   },
   "outputs": [
    {
     "data": {
      "text/html": [
       "<div>\n",
       "<style scoped>\n",
       "    .dataframe tbody tr th:only-of-type {\n",
       "        vertical-align: middle;\n",
       "    }\n",
       "\n",
       "    .dataframe tbody tr th {\n",
       "        vertical-align: top;\n",
       "    }\n",
       "\n",
       "    .dataframe thead th {\n",
       "        text-align: right;\n",
       "    }\n",
       "</style>\n",
       "<table border=\"1\" class=\"dataframe\">\n",
       "  <thead>\n",
       "    <tr style=\"text-align: right;\">\n",
       "      <th></th>\n",
       "      <th>Id</th>\n",
       "      <th>Age</th>\n",
       "      <th>Sex</th>\n",
       "      <th>Occupation</th>\n",
       "      <th>Code</th>\n",
       "    </tr>\n",
       "  </thead>\n",
       "  <tbody>\n",
       "    <tr>\n",
       "      <th>0</th>\n",
       "      <td>1</td>\n",
       "      <td>0.257576</td>\n",
       "      <td>1</td>\n",
       "      <td>11</td>\n",
       "      <td>85711</td>\n",
       "    </tr>\n",
       "    <tr>\n",
       "      <th>1</th>\n",
       "      <td>2</td>\n",
       "      <td>0.696970</td>\n",
       "      <td>0</td>\n",
       "      <td>7</td>\n",
       "      <td>94043</td>\n",
       "    </tr>\n",
       "    <tr>\n",
       "      <th>2</th>\n",
       "      <td>3</td>\n",
       "      <td>0.242424</td>\n",
       "      <td>1</td>\n",
       "      <td>12</td>\n",
       "      <td>32067</td>\n",
       "    </tr>\n",
       "    <tr>\n",
       "      <th>3</th>\n",
       "      <td>4</td>\n",
       "      <td>0.257576</td>\n",
       "      <td>1</td>\n",
       "      <td>11</td>\n",
       "      <td>43537</td>\n",
       "    </tr>\n",
       "    <tr>\n",
       "      <th>4</th>\n",
       "      <td>5</td>\n",
       "      <td>0.393939</td>\n",
       "      <td>0</td>\n",
       "      <td>7</td>\n",
       "      <td>15213</td>\n",
       "    </tr>\n",
       "    <tr>\n",
       "      <th>...</th>\n",
       "      <td>...</td>\n",
       "      <td>...</td>\n",
       "      <td>...</td>\n",
       "      <td>...</td>\n",
       "      <td>...</td>\n",
       "    </tr>\n",
       "    <tr>\n",
       "      <th>938</th>\n",
       "      <td>939</td>\n",
       "      <td>0.287879</td>\n",
       "      <td>0</td>\n",
       "      <td>10</td>\n",
       "      <td>33319</td>\n",
       "    </tr>\n",
       "    <tr>\n",
       "      <th>939</th>\n",
       "      <td>940</td>\n",
       "      <td>0.378788</td>\n",
       "      <td>1</td>\n",
       "      <td>0</td>\n",
       "      <td>02215</td>\n",
       "    </tr>\n",
       "    <tr>\n",
       "      <th>940</th>\n",
       "      <td>941</td>\n",
       "      <td>0.196970</td>\n",
       "      <td>1</td>\n",
       "      <td>10</td>\n",
       "      <td>97229</td>\n",
       "    </tr>\n",
       "    <tr>\n",
       "      <th>941</th>\n",
       "      <td>942</td>\n",
       "      <td>0.621212</td>\n",
       "      <td>0</td>\n",
       "      <td>5</td>\n",
       "      <td>78209</td>\n",
       "    </tr>\n",
       "    <tr>\n",
       "      <th>942</th>\n",
       "      <td>943</td>\n",
       "      <td>0.227273</td>\n",
       "      <td>1</td>\n",
       "      <td>10</td>\n",
       "      <td>77841</td>\n",
       "    </tr>\n",
       "  </tbody>\n",
       "</table>\n",
       "<p>943 rows × 5 columns</p>\n",
       "</div>"
      ],
      "text/plain": [
       "      Id       Age  Sex  Occupation   Code\n",
       "0      1  0.257576    1          11  85711\n",
       "1      2  0.696970    0           7  94043\n",
       "2      3  0.242424    1          12  32067\n",
       "3      4  0.257576    1          11  43537\n",
       "4      5  0.393939    0           7  15213\n",
       "..   ...       ...  ...         ...    ...\n",
       "938  939  0.287879    0          10  33319\n",
       "939  940  0.378788    1           0  02215\n",
       "940  941  0.196970    1          10  97229\n",
       "941  942  0.621212    0           5  78209\n",
       "942  943  0.227273    1          10  77841\n",
       "\n",
       "[943 rows x 5 columns]"
      ]
     },
     "execution_count": 28,
     "metadata": {},
     "output_type": "execute_result"
    }
   ],
   "source": [
    "df_user_use"
   ]
  },
  {
   "cell_type": "markdown",
   "id": "d6ab69a7",
   "metadata": {
    "heading_collapsed": true,
    "hidden": true
   },
   "source": [
    "### 3.3.2 Gender distribution"
   ]
  },
  {
   "cell_type": "code",
   "execution_count": 29,
   "id": "5e4ca838",
   "metadata": {
    "hidden": true
   },
   "outputs": [
    {
     "data": {
      "image/png": "[encoded data removed]",
      "text/plain": [
       "<Figure size 576x360 with 1 Axes>"
      ]
     },
     "metadata": {},
     "output_type": "display_data"
    }
   ],
   "source": [
    "plt.figure(figsize=(8, 5))\n",
    "\n",
    "plt.title('Audiences gender distribution', fontsize=15)\n",
    "\n",
    "labels = ['Male', 'Female']\n",
    "colors=sns.color_palette('pastel')[0:2]\n",
    "\n",
    "df_user_use['Sex'].value_counts().plot.pie(colors=colors, labels=labels, textprops=textprops, autopct='%.0f%%')\n",
    "\n",
    "plt.show()"
   ]
  },
  {
   "cell_type": "markdown",
   "id": "8af40165",
   "metadata": {
    "hidden": true
   },
   "source": [
    "We can see that all movies in the list attract **male much better than female (71% for male and 29% for female)**"
   ]
  },
  {
   "cell_type": "markdown",
   "id": "fefa901e",
   "metadata": {
    "heading_collapsed": true,
    "hidden": true
   },
   "source": [
    "### 3.3.3 Age Distribution"
   ]
  },
  {
   "cell_type": "markdown",
   "id": "c5b38469",
   "metadata": {
    "hidden": true
   },
   "source": [
    "In the dataset of user, we found that the max age is **73** and the min age is **7**. So we split age with the gap of **10, into 8 groups**.\n"
   ]
  },
  {
   "cell_type": "code",
   "execution_count": 30,
   "id": "55e00d21",
   "metadata": {
    "hidden": true
   },
   "outputs": [
    {
     "name": "stdout",
     "output_type": "stream",
     "text": [
      "Min age: 7\n",
      "Max age: 73\n"
     ]
    }
   ],
   "source": [
    "print(\"Min age:\",df_user['Age'].min())\n",
    "print(\"Max age:\",df_user['Age'].max())"
   ]
  },
  {
   "cell_type": "code",
   "execution_count": 31,
   "id": "06679954",
   "metadata": {
    "hidden": true
   },
   "outputs": [],
   "source": [
    "age = pd.cut(df_user['Age'], bins=8, right=True, labels=['0-10', '11-20', '21-30', '31-40', '41-50', '51-60', '61-70', '70+'])"
   ]
  },
  {
   "cell_type": "code",
   "execution_count": 32,
   "id": "7c098845",
   "metadata": {
    "hidden": true
   },
   "outputs": [
    {
     "data": {
      "text/plain": [
       "CategoricalIndex(['21-30', '31-40', '11-20', '41-50', '51-60', '61-70', '0-10',\n",
       "                  '70+'],\n",
       "                 categories=['0-10', '11-20', '21-30', '31-40', '41-50', '51-60', '61-70', '70+'], ordered=True, dtype='category')"
      ]
     },
     "execution_count": 32,
     "metadata": {},
     "output_type": "execute_result"
    }
   ],
   "source": [
    "age.value_counts().index"
   ]
  },
  {
   "cell_type": "code",
   "execution_count": 37,
   "id": "b2161be6",
   "metadata": {
    "hidden": true,
    "scrolled": true
   },
   "outputs": [
    {
     "data": {
      "text/plain": [
       "Text(0.5, 1.0, 'Pie chart')"
      ]
     },
     "execution_count": 37,
     "metadata": {},
     "output_type": "execute_result"
    },
    {
     "data": {
      "image/png": "[encoded data removed]",
      "text/plain": [
       "<Figure size 1080x576 with 2 Axes>"
      ]
     },
     "metadata": {
      "needs_background": "light"
     },
     "output_type": "display_data"
    }
   ],
   "source": [
    "figs, axs = plt.subplots(1, 2, figsize=(15,8))\n",
    "plt.suptitle('Age Distribution',fontsize=30)\n",
    "\n",
    "#Bar plot\n",
    "ax_1 = sns.barplot(ax=axs[0], x=age.value_counts().index, y=age.value_counts().values, palette=sns.color_palette('pastel')[0:9])\n",
    "ax_1.set_title('Bar plot', fontsize=20)\n",
    "ax_1.grid('on')\n",
    "ax_1.set_xlabel('Age ranges', fontsize=15)\n",
    "ax_1.set_ylabel('Count', fontsize=15)\n",
    "\n",
    "# Pie plot -> make 0-10, 60-70, 70+ into the 'other' group\n",
    "age = age.replace({'0-10': 'other', \n",
    "         '61-70': 'other', \n",
    "         '70+': 'other'})\n",
    "\n",
    "colors = sns.color_palette('pastel')[0:7]\n",
    "ax_2 = age.value_counts().plot.pie(labels=age.value_counts().index, \n",
    "                                   colors=colors, \n",
    "                                   textprops=textprops, \n",
    "                                   autopct='%.2f%%',\n",
    "                                  explode=[0,0,0,0,0,0.2])\n",
    "ax_2.set_title('Pie chart', fontsize=20)"
   ]
  },
  {
   "cell_type": "markdown",
   "id": "b2c0fe37",
   "metadata": {
    "hidden": true
   },
   "source": [
    "According to these two graphs, we found that audiences are aged mainly between 20-40. So we can roughly infer that movies in the list have more middle-aged movies."
   ]
  },
  {
   "cell_type": "markdown",
   "id": "54484ba6",
   "metadata": {},
   "source": [
    "# <h3 align=\"center\"> © Haozhe TANG 05.2023. All rights reserved. <h3/>"
   ]
  }
 ],
 "metadata": {
  "kernelspec": {
   "display_name": "Python 3 (ipykernel)",
   "language": "python",
   "name": "python3"
  },
  "language_info": {
   "codemirror_mode": {
    "name": "ipython",
    "version": 3
   },
   "file_extension": ".py",
   "mimetype": "text/x-python",
   "name": "python",
   "nbconvert_exporter": "python",
   "pygments_lexer": "ipython3",
   "version": "3.8.13"
  }
 },
 "nbformat": 4,
 "nbformat_minor": 5
}
