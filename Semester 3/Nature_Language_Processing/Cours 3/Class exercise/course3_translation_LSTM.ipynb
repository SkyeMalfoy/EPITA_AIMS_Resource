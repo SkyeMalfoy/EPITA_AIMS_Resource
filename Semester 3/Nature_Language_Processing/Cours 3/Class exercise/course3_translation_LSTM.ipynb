{
 "cells": [
  {
   "cell_type": "code",
   "execution_count": null,
   "metadata": {
    "id": "OT9LmaypcZnk"
   },
   "outputs": [],
   "source": [
    "import numpy as np\n",
    "import string\n",
    "from numpy import array, argmax, random, take\n",
    "import pandas as pd\n",
    "from keras.models import Sequential\n",
    "from keras.layers import Dense, LSTM, Embedding, RepeatVector, Bidirectional\n",
    "from keras.preprocessing.text import Tokenizer\n",
    "from keras.callbacks import ModelCheckpoint\n",
    "from tensorflow.keras.preprocessing.sequence import pad_sequences\n",
    "from keras.models import load_model\n",
    "from keras import optimizers\n",
    "import matplotlib.pyplot as plt\n",
    "import warnings\n",
    "warnings.filterwarnings(\"ignore\")"
   ]
  },
  {
   "cell_type": "markdown",
   "metadata": {
    "id": "hR0zakASv5Vv"
   },
   "source": [
    "Definition of a plot function for training result visualization"
   ]
  },
  {
   "cell_type": "code",
   "execution_count": null,
   "metadata": {
    "id": "LaMQJnOdhg4p"
   },
   "outputs": [],
   "source": [
    "def plot_results(history):\n",
    "    hist_df = pd.DataFrame(history.history)\n",
    "    hist_df.columns=[\"loss\", \"accuracy\", \"val_loss\", \"val_accuracy\"]\n",
    "    hist_df.index = np.arange(1, len(hist_df)+1)\n",
    "\n",
    "    fig, axs = plt.subplots(nrows=2, sharex=True, figsize=(16, 10))\n",
    "    axs[0].plot(hist_df.val_accuracy, lw=3, label='Validation Accuracy')\n",
    "    axs[0].plot(hist_df.accuracy, lw=3, label='Training Accuracy')\n",
    "    axs[0].set_ylabel('Accuracy')\n",
    "    axs[0].set_xlabel('Epoch')\n",
    "    axs[0].grid()\n",
    "    axs[0].legend(loc=0)\n",
    "    axs[1].plot(hist_df.val_loss, lw=3, label='Validation Loss')\n",
    "    axs[1].plot(hist_df.loss, lw=3, label='Training Loss')\n",
    "    axs[1].set_ylabel('Loss')\n",
    "    axs[1].set_xlabel('Epoch')\n",
    "    axs[1].grid()\n",
    "    axs[1].legend(loc=0)\n",
    "\n",
    "    plt.show();"
   ]
  },
  {
   "cell_type": "markdown",
   "metadata": {
    "id": "BHkZv4UYv-0z"
   },
   "source": [
    "## Data preprocessing"
   ]
  },
  {
   "cell_type": "code",
   "execution_count": null,
   "metadata": {
    "colab": {
     "base_uri": "https://localhost:8080/"
    },
    "id": "2Hgz1DFIdHsa",
    "outputId": "030fee89-6e0d-40f4-acf3-9b073677ee8c"
   },
   "outputs": [
    {
     "name": "stdout",
     "output_type": "stream",
     "text": [
      "Mounted at /content/drive\n"
     ]
    }
   ],
   "source": [
    "# Mounting the google drive to google colab in order to load the data files directly from it\n",
    "from google.colab import drive\n",
    "drive.mount('/content/drive')"
   ]
  },
  {
   "cell_type": "markdown",
   "metadata": {
    "id": "wEBtDl9_wFTc"
   },
   "source": [
    "We load a dataset build from Europarl dataset (containing the proceedings from the European Parliament in different languages). We will use a cleaned version of both english and french sentences (each sentence english sentence sharing the same meaning as corresponding french one)"
   ]
  },
  {
   "cell_type": "code",
   "execution_count": null,
   "metadata": {
    "id": "uNakBW4YdrXL"
   },
   "outputs": [],
   "source": [
    "import pickle\n",
    "with open(f'/content/drive/MyDrive/EPITA_NLP/Course3/english.pkl', 'rb') as f:\n",
    "    data_eng = pickle.load(f)\n",
    "df_eng = pd.DataFrame(data_eng)\n",
    "\n",
    "with open(f'/content/drive/MyDrive/EPITA_NLP/Course3/french.pkl', 'rb') as f:\n",
    "    data_fren = pickle.load(f)\n",
    "df_fren = pd.DataFrame(data_fren)"
   ]
  },
  {
   "cell_type": "code",
   "execution_count": null,
   "metadata": {
    "id": "d1167dc0",
    "scrolled": false
   },
   "outputs": [],
   "source": [
    "count = 0\n",
    "\n",
    "data_fren = []\n",
    "data_eng = []\n",
    "for i, row in df_eng.iterrows():\n",
    "    if count > 5000:\n",
    "        break;\n",
    "    fr_row = df_fren.loc[i]\n",
    "    if len(row[0].split()) <= 8 and len(fr_row[0].split()) <= 8:\n",
    "        data_fren.append(fr_row[0])\n",
    "        data_eng.append(row[0])\n",
    "        count += 1"
   ]
  },
  {
   "cell_type": "code",
   "execution_count": null,
   "metadata": {
    "id": "793f3f02"
   },
   "outputs": [],
   "source": [
    "df_fren = pd.DataFrame(data_fren)\n",
    "df_eng = pd.DataFrame(data_eng)"
   ]
  },
  {
   "cell_type": "markdown",
   "metadata": {
    "id": "MBIZPThEyfL3"
   },
   "source": [
    "We can have a look on the english dataset"
   ]
  },
  {
   "cell_type": "code",
   "execution_count": null,
   "metadata": {
    "colab": {
     "base_uri": "https://localhost:8080/",
     "height": 423
    },
    "id": "EdG0oRr1d2bS",
    "outputId": "c61f19bf-41a6-4dfe-e2fe-f7ddf0e7452f"
   },
   "outputs": [
    {
     "data": {
      "text/html": [
       "\n",
       "  <div id=\"df-7f69a76d-94c5-4395-afee-fe919c0fd710\">\n",
       "    <div class=\"colab-df-container\">\n",
       "      <div>\n",
       "<style scoped>\n",
       "    .dataframe tbody tr th:only-of-type {\n",
       "        vertical-align: middle;\n",
       "    }\n",
       "\n",
       "    .dataframe tbody tr th {\n",
       "        vertical-align: top;\n",
       "    }\n",
       "\n",
       "    .dataframe thead th {\n",
       "        text-align: right;\n",
       "    }\n",
       "</style>\n",
       "<table border=\"1\" class=\"dataframe\">\n",
       "  <thead>\n",
       "    <tr style=\"text-align: right;\">\n",
       "      <th></th>\n",
       "      <th>0</th>\n",
       "    </tr>\n",
       "  </thead>\n",
       "  <tbody>\n",
       "    <tr>\n",
       "      <th>0</th>\n",
       "      <td>resumption of the session</td>\n",
       "    </tr>\n",
       "    <tr>\n",
       "      <th>1</th>\n",
       "      <td>madam president on a point of order</td>\n",
       "    </tr>\n",
       "    <tr>\n",
       "      <th>2</th>\n",
       "      <td>madam president on a point of order</td>\n",
       "    </tr>\n",
       "    <tr>\n",
       "      <th>3</th>\n",
       "      <td>it is the case of alexander nikitin</td>\n",
       "    </tr>\n",
       "    <tr>\n",
       "      <th>4</th>\n",
       "      <td>mr berenguer fuster we shall check all this</td>\n",
       "    </tr>\n",
       "    <tr>\n",
       "      <th>...</th>\n",
       "      <td>...</td>\n",
       "    </tr>\n",
       "    <tr>\n",
       "      <th>4996</th>\n",
       "      <td>the vote will take place tomorrow at pm</td>\n",
       "    </tr>\n",
       "    <tr>\n",
       "      <th>4997</th>\n",
       "      <td>chinas accession to wto</td>\n",
       "    </tr>\n",
       "    <tr>\n",
       "      <th>4998</th>\n",
       "      <td>so the results are clear</td>\n",
       "    </tr>\n",
       "    <tr>\n",
       "      <th>4999</th>\n",
       "      <td>will it result in institutional reforms in china</td>\n",
       "    </tr>\n",
       "    <tr>\n",
       "      <th>5000</th>\n",
       "      <td>secondly a point addressed to the council</td>\n",
       "    </tr>\n",
       "  </tbody>\n",
       "</table>\n",
       "<p>5001 rows × 1 columns</p>\n",
       "</div>\n",
       "      <button class=\"colab-df-convert\" onclick=\"convertToInteractive('df-7f69a76d-94c5-4395-afee-fe919c0fd710')\"\n",
       "              title=\"Convert this dataframe to an interactive table.\"\n",
       "              style=\"display:none;\">\n",
       "        \n",
       "  <svg xmlns=\"http://www.w3.org/2000/svg\" height=\"24px\"viewBox=\"0 0 24 24\"\n",
       "       width=\"24px\">\n",
       "    <path d=\"M0 0h24v24H0V0z\" fill=\"none\"/>\n",
       "    <path d=\"M18.56 5.44l.94 2.06.94-2.06 2.06-.94-2.06-.94-.94-2.06-.94 2.06-2.06.94zm-11 1L8.5 8.5l.94-2.06 2.06-.94-2.06-.94L8.5 2.5l-.94 2.06-2.06.94zm10 10l.94 2.06.94-2.06 2.06-.94-2.06-.94-.94-2.06-.94 2.06-2.06.94z\"/><path d=\"M17.41 7.96l-1.37-1.37c-.4-.4-.92-.59-1.43-.59-.52 0-1.04.2-1.43.59L10.3 9.45l-7.72 7.72c-.78.78-.78 2.05 0 2.83L4 21.41c.39.39.9.59 1.41.59.51 0 1.02-.2 1.41-.59l7.78-7.78 2.81-2.81c.8-.78.8-2.07 0-2.86zM5.41 20L4 18.59l7.72-7.72 1.47 1.35L5.41 20z\"/>\n",
       "  </svg>\n",
       "      </button>\n",
       "      \n",
       "  <style>\n",
       "    .colab-df-container {\n",
       "      display:flex;\n",
       "      flex-wrap:wrap;\n",
       "      gap: 12px;\n",
       "    }\n",
       "\n",
       "    .colab-df-convert {\n",
       "      background-color: #E8F0FE;\n",
       "      border: none;\n",
       "      border-radius: 50%;\n",
       "      cursor: pointer;\n",
       "      display: none;\n",
       "      fill: #1967D2;\n",
       "      height: 32px;\n",
       "      padding: 0 0 0 0;\n",
       "      width: 32px;\n",
       "    }\n",
       "\n",
       "    .colab-df-convert:hover {\n",
       "      background-color: #E2EBFA;\n",
       "      box-shadow: 0px 1px 2px rgba(60, 64, 67, 0.3), 0px 1px 3px 1px rgba(60, 64, 67, 0.15);\n",
       "      fill: #174EA6;\n",
       "    }\n",
       "\n",
       "    [theme=dark] .colab-df-convert {\n",
       "      background-color: #3B4455;\n",
       "      fill: #D2E3FC;\n",
       "    }\n",
       "\n",
       "    [theme=dark] .colab-df-convert:hover {\n",
       "      background-color: #434B5C;\n",
       "      box-shadow: 0px 1px 3px 1px rgba(0, 0, 0, 0.15);\n",
       "      filter: drop-shadow(0px 1px 2px rgba(0, 0, 0, 0.3));\n",
       "      fill: #FFFFFF;\n",
       "    }\n",
       "  </style>\n",
       "\n",
       "      <script>\n",
       "        const buttonEl =\n",
       "          document.querySelector('#df-7f69a76d-94c5-4395-afee-fe919c0fd710 button.colab-df-convert');\n",
       "        buttonEl.style.display =\n",
       "          google.colab.kernel.accessAllowed ? 'block' : 'none';\n",
       "\n",
       "        async function convertToInteractive(key) {\n",
       "          const element = document.querySelector('#df-7f69a76d-94c5-4395-afee-fe919c0fd710');\n",
       "          const dataTable =\n",
       "            await google.colab.kernel.invokeFunction('convertToInteractive',\n",
       "                                                     [key], {});\n",
       "          if (!dataTable) return;\n",
       "\n",
       "          const docLinkHtml = 'Like what you see? Visit the ' +\n",
       "            '<a target=\"_blank\" href=https://colab.research.google.com/notebooks/data_table.ipynb>data table notebook</a>'\n",
       "            + ' to learn more about interactive tables.';\n",
       "          element.innerHTML = '';\n",
       "          dataTable['output_type'] = 'display_data';\n",
       "          await google.colab.output.renderOutput(dataTable, element);\n",
       "          const docLink = document.createElement('div');\n",
       "          docLink.innerHTML = docLinkHtml;\n",
       "          element.appendChild(docLink);\n",
       "        }\n",
       "      </script>\n",
       "    </div>\n",
       "  </div>\n",
       "  "
      ],
      "text/plain": [
       "                                                     0\n",
       "0                            resumption of the session\n",
       "1                  madam president on a point of order\n",
       "2                  madam president on a point of order\n",
       "3                  it is the case of alexander nikitin\n",
       "4          mr berenguer fuster we shall check all this\n",
       "...                                                ...\n",
       "4996           the vote will take place tomorrow at pm\n",
       "4997                           chinas accession to wto\n",
       "4998                          so the results are clear\n",
       "4999  will it result in institutional reforms in china\n",
       "5000         secondly a point addressed to the council\n",
       "\n",
       "[5001 rows x 1 columns]"
      ]
     },
     "execution_count": 9,
     "metadata": {},
     "output_type": "execute_result"
    }
   ],
   "source": [
    "df_eng"
   ]
  },
  {
   "cell_type": "markdown",
   "metadata": {
    "id": "yxGuiv5iyij-"
   },
   "source": [
    "As well as on the French dataset"
   ]
  },
  {
   "cell_type": "code",
   "execution_count": null,
   "metadata": {
    "colab": {
     "base_uri": "https://localhost:8080/",
     "height": 423
    },
    "id": "co7JoC6_yGLp",
    "outputId": "f08d62e5-257a-4e70-9b58-e9aa9aadc2a1",
    "scrolled": true
   },
   "outputs": [
    {
     "data": {
      "text/html": [
       "\n",
       "  <div id=\"df-b047906a-a473-42d8-98b6-00c39525b891\">\n",
       "    <div class=\"colab-df-container\">\n",
       "      <div>\n",
       "<style scoped>\n",
       "    .dataframe tbody tr th:only-of-type {\n",
       "        vertical-align: middle;\n",
       "    }\n",
       "\n",
       "    .dataframe tbody tr th {\n",
       "        vertical-align: top;\n",
       "    }\n",
       "\n",
       "    .dataframe thead th {\n",
       "        text-align: right;\n",
       "    }\n",
       "</style>\n",
       "<table border=\"1\" class=\"dataframe\">\n",
       "  <thead>\n",
       "    <tr style=\"text-align: right;\">\n",
       "      <th></th>\n",
       "      <th>0</th>\n",
       "    </tr>\n",
       "  </thead>\n",
       "  <tbody>\n",
       "    <tr>\n",
       "      <th>0</th>\n",
       "      <td>reprise de la session</td>\n",
       "    </tr>\n",
       "    <tr>\n",
       "      <th>1</th>\n",
       "      <td>madame la presidente cest une motion de procedure</td>\n",
       "    </tr>\n",
       "    <tr>\n",
       "      <th>2</th>\n",
       "      <td>madame la presidente cest une motion de procedure</td>\n",
       "    </tr>\n",
       "    <tr>\n",
       "      <th>3</th>\n",
       "      <td>il sagit du cas dalexandre nikitin</td>\n",
       "    </tr>\n",
       "    <tr>\n",
       "      <th>4</th>\n",
       "      <td>cher collegue nous allons verifier tout cela</td>\n",
       "    </tr>\n",
       "    <tr>\n",
       "      <th>...</th>\n",
       "      <td>...</td>\n",
       "    </tr>\n",
       "    <tr>\n",
       "      <th>4996</th>\n",
       "      <td>le vote aura lieu demain a heures</td>\n",
       "    </tr>\n",
       "    <tr>\n",
       "      <th>4997</th>\n",
       "      <td>adhesion de la chine a lomc</td>\n",
       "    </tr>\n",
       "    <tr>\n",
       "      <th>4998</th>\n",
       "      <td>le resultat est donc appreciable</td>\n",
       "    </tr>\n",
       "    <tr>\n",
       "      <th>4999</th>\n",
       "      <td>des reformes institutionnelles interviendronte...</td>\n",
       "    </tr>\n",
       "    <tr>\n",
       "      <th>5000</th>\n",
       "      <td>le deuxieme point s adresse au conseil</td>\n",
       "    </tr>\n",
       "  </tbody>\n",
       "</table>\n",
       "<p>5001 rows × 1 columns</p>\n",
       "</div>\n",
       "      <button class=\"colab-df-convert\" onclick=\"convertToInteractive('df-b047906a-a473-42d8-98b6-00c39525b891')\"\n",
       "              title=\"Convert this dataframe to an interactive table.\"\n",
       "              style=\"display:none;\">\n",
       "        \n",
       "  <svg xmlns=\"http://www.w3.org/2000/svg\" height=\"24px\"viewBox=\"0 0 24 24\"\n",
       "       width=\"24px\">\n",
       "    <path d=\"M0 0h24v24H0V0z\" fill=\"none\"/>\n",
       "    <path d=\"M18.56 5.44l.94 2.06.94-2.06 2.06-.94-2.06-.94-.94-2.06-.94 2.06-2.06.94zm-11 1L8.5 8.5l.94-2.06 2.06-.94-2.06-.94L8.5 2.5l-.94 2.06-2.06.94zm10 10l.94 2.06.94-2.06 2.06-.94-2.06-.94-.94-2.06-.94 2.06-2.06.94z\"/><path d=\"M17.41 7.96l-1.37-1.37c-.4-.4-.92-.59-1.43-.59-.52 0-1.04.2-1.43.59L10.3 9.45l-7.72 7.72c-.78.78-.78 2.05 0 2.83L4 21.41c.39.39.9.59 1.41.59.51 0 1.02-.2 1.41-.59l7.78-7.78 2.81-2.81c.8-.78.8-2.07 0-2.86zM5.41 20L4 18.59l7.72-7.72 1.47 1.35L5.41 20z\"/>\n",
       "  </svg>\n",
       "      </button>\n",
       "      \n",
       "  <style>\n",
       "    .colab-df-container {\n",
       "      display:flex;\n",
       "      flex-wrap:wrap;\n",
       "      gap: 12px;\n",
       "    }\n",
       "\n",
       "    .colab-df-convert {\n",
       "      background-color: #E8F0FE;\n",
       "      border: none;\n",
       "      border-radius: 50%;\n",
       "      cursor: pointer;\n",
       "      display: none;\n",
       "      fill: #1967D2;\n",
       "      height: 32px;\n",
       "      padding: 0 0 0 0;\n",
       "      width: 32px;\n",
       "    }\n",
       "\n",
       "    .colab-df-convert:hover {\n",
       "      background-color: #E2EBFA;\n",
       "      box-shadow: 0px 1px 2px rgba(60, 64, 67, 0.3), 0px 1px 3px 1px rgba(60, 64, 67, 0.15);\n",
       "      fill: #174EA6;\n",
       "    }\n",
       "\n",
       "    [theme=dark] .colab-df-convert {\n",
       "      background-color: #3B4455;\n",
       "      fill: #D2E3FC;\n",
       "    }\n",
       "\n",
       "    [theme=dark] .colab-df-convert:hover {\n",
       "      background-color: #434B5C;\n",
       "      box-shadow: 0px 1px 3px 1px rgba(0, 0, 0, 0.15);\n",
       "      filter: drop-shadow(0px 1px 2px rgba(0, 0, 0, 0.3));\n",
       "      fill: #FFFFFF;\n",
       "    }\n",
       "  </style>\n",
       "\n",
       "      <script>\n",
       "        const buttonEl =\n",
       "          document.querySelector('#df-b047906a-a473-42d8-98b6-00c39525b891 button.colab-df-convert');\n",
       "        buttonEl.style.display =\n",
       "          google.colab.kernel.accessAllowed ? 'block' : 'none';\n",
       "\n",
       "        async function convertToInteractive(key) {\n",
       "          const element = document.querySelector('#df-b047906a-a473-42d8-98b6-00c39525b891');\n",
       "          const dataTable =\n",
       "            await google.colab.kernel.invokeFunction('convertToInteractive',\n",
       "                                                     [key], {});\n",
       "          if (!dataTable) return;\n",
       "\n",
       "          const docLinkHtml = 'Like what you see? Visit the ' +\n",
       "            '<a target=\"_blank\" href=https://colab.research.google.com/notebooks/data_table.ipynb>data table notebook</a>'\n",
       "            + ' to learn more about interactive tables.';\n",
       "          element.innerHTML = '';\n",
       "          dataTable['output_type'] = 'display_data';\n",
       "          await google.colab.output.renderOutput(dataTable, element);\n",
       "          const docLink = document.createElement('div');\n",
       "          docLink.innerHTML = docLinkHtml;\n",
       "          element.appendChild(docLink);\n",
       "        }\n",
       "      </script>\n",
       "    </div>\n",
       "  </div>\n",
       "  "
      ],
      "text/plain": [
       "                                                      0\n",
       "0                                 reprise de la session\n",
       "1     madame la presidente cest une motion de procedure\n",
       "2     madame la presidente cest une motion de procedure\n",
       "3                    il sagit du cas dalexandre nikitin\n",
       "4          cher collegue nous allons verifier tout cela\n",
       "...                                                 ...\n",
       "4996                  le vote aura lieu demain a heures\n",
       "4997                        adhesion de la chine a lomc\n",
       "4998                   le resultat est donc appreciable\n",
       "4999  des reformes institutionnelles interviendronte...\n",
       "5000             le deuxieme point s adresse au conseil\n",
       "\n",
       "[5001 rows x 1 columns]"
      ]
     },
     "execution_count": 10,
     "metadata": {},
     "output_type": "execute_result"
    }
   ],
   "source": [
    "df_fren"
   ]
  },
  {
   "cell_type": "markdown",
   "metadata": {
    "id": "bag4H59-ym4C"
   },
   "source": [
    "We can check both datasets correspond to the same sentences in both languages.\n",
    "\n",
    "(You can see that the cleaning step had some impacts on some French words, especially concerning the accents which have been removed. Anyway, this is not a big problem here since we do not use a pre-trained model for language understanding, we use these French sentences as references for training a model from scratch)"
   ]
  },
  {
   "cell_type": "code",
   "execution_count": null,
   "metadata": {
    "colab": {
     "base_uri": "https://localhost:8080/"
    },
    "id": "bATlELtEysuw",
    "outputId": "4f7a1f90-dfc4-4332-fdca-e77a46249e06"
   },
   "outputs": [
    {
     "name": "stdout",
     "output_type": "stream",
     "text": [
      "English: resumption of the session\n",
      "French: reprise de la session\n",
      "---------------------\n",
      "English: madam president on a point of order\n",
      "French: madame la presidente cest une motion de procedure\n",
      "---------------------\n",
      "English: madam president on a point of order\n",
      "French: madame la presidente cest une motion de procedure\n",
      "---------------------\n"
     ]
    }
   ],
   "source": [
    "for en_sent, fr_sent in list(zip(df_eng[0],df_fren[0]))[0:3]:\n",
    "  print(f\"English: {en_sent}\")\n",
    "  print(f\"French: {fr_sent}\")\n",
    "  print(\"---------------------\")"
   ]
  },
  {
   "cell_type": "markdown",
   "metadata": {
    "id": "jSuMShHP2i7y"
   },
   "source": [
    "We define the Tokenizer object for both languages, and we get the size of vacabulary found in each."
   ]
  },
  {
   "cell_type": "markdown",
   "metadata": {
    "id": "uGSq5bNV3VVM"
   },
   "source": [
    "We also define the size of the sequences we want to use for training (we can keep a reduce length to speed up training)"
   ]
  },
  {
   "cell_type": "code",
   "execution_count": null,
   "metadata": {
    "colab": {
     "base_uri": "https://localhost:8080/"
    },
    "id": "-_U93O3eehyW",
    "outputId": "0d464bb6-123d-4a3c-91cb-b5280a88521f"
   },
   "outputs": [
    {
     "name": "stdout",
     "output_type": "stream",
     "text": [
      "Size of English Vocabulary : 3462\n",
      "Size of French Vocabulary : 4378\n"
     ]
    }
   ],
   "source": [
    "# prepare english tokenizer\n",
    "eng_tokenizer = Tokenizer()\n",
    "eng_tokenizer.fit_on_texts(df_eng[0][:50000])\n",
    "eng_vocab_size = len(eng_tokenizer.word_index) + 1\n",
    "eng_length = 8\n",
    "print('Size of English Vocabulary : %d' % eng_vocab_size)\n",
    "# prepare French tokenizer\n",
    "fren_tokenizer = Tokenizer()\n",
    "fren_tokenizer.fit_on_texts(df_fren[0][:50000])\n",
    "fren_vocab_size = len(fren_tokenizer.word_index) + 1\n",
    "fren_length = 8\n",
    "print('Size of French Vocabulary : %d' % fren_vocab_size)"
   ]
  },
  {
   "cell_type": "markdown",
   "metadata": {
    "id": "YMOgNMKh3qbj"
   },
   "source": [
    "We transform the text sentences into token sequences."
   ]
  },
  {
   "cell_type": "markdown",
   "metadata": {
    "id": "bT2VrSOv3xHG"
   },
   "source": [
    "We also add zero-padding for each of those sequences. Since we consider rather small length, most of the time the sequences will be troncated instead of being completed with additional zeros)"
   ]
  },
  {
   "cell_type": "code",
   "execution_count": null,
   "metadata": {
    "id": "ytX9I_mxiFHX"
   },
   "outputs": [],
   "source": [
    "# create input sequences using list of tokens\n",
    "input_sequences = []\n",
    "for line in df_eng[0][:5000]:\n",
    "\ttoken_list = eng_tokenizer.texts_to_sequences([line])[0]\n",
    "\tinput_sequences.append(token_list)\n",
    "\n",
    "\n",
    "# pad sequences\n",
    "#max_sequence_len = max([len(x) for x in input_sequences])\n",
    "input_sequences_eng = np.array(pad_sequences(input_sequences, maxlen=eng_length, padding='post'))"
   ]
  },
  {
   "cell_type": "markdown",
   "metadata": {
    "id": "aI6uXdGX4h8n"
   },
   "source": [
    "For the fist sentence of the dataset, we can see the padded-zeros in the end"
   ]
  },
  {
   "cell_type": "code",
   "execution_count": null,
   "metadata": {
    "colab": {
     "base_uri": "https://localhost:8080/"
    },
    "id": "P-MfQXalkY_a",
    "outputId": "23c61b36-e97a-40c6-82a8-56b1f2232b64"
   },
   "outputs": [
    {
     "name": "stdout",
     "output_type": "stream",
     "text": [
      "sentence => resumption of the session\n",
      "token sequence => [272   7   1 151   0   0   0   0]\n",
      "sequence length => 8\n"
     ]
    }
   ],
   "source": [
    "print(f\"sentence => {df_eng[0][0]}\")\n",
    "print(f\"token sequence => {input_sequences_eng[0]}\")\n",
    "print(f\"sequence length => {len(input_sequences_eng[0])}\")"
   ]
  },
  {
   "cell_type": "markdown",
   "metadata": {
    "id": "-EvWHqrU4oIt"
   },
   "source": [
    "For the others, most of the time, the sequence is troncated. Anyway, you can check that the length of the **padded sequence** is always the same."
   ]
  },
  {
   "cell_type": "code",
   "execution_count": null,
   "metadata": {
    "colab": {
     "base_uri": "https://localhost:8080/"
    },
    "id": "F_mvnp5S4oV1",
    "outputId": "6b98165d-64ca-4c94-8e54-53694a13d322"
   },
   "outputs": [
    {
     "name": "stdout",
     "output_type": "stream",
     "text": [
      "sentence => madam president on a point of order\n",
      "token sequence => [193  41  27   9  61   7 162   0]\n",
      "sequence length => 8\n"
     ]
    }
   ],
   "source": [
    "print(f\"sentence => {df_eng[0][1]}\")\n",
    "print(f\"token sequence => {input_sequences_eng[1]}\")\n",
    "print(f\"sequence length => {len(input_sequences_eng[1])}\")"
   ]
  },
  {
   "cell_type": "markdown",
   "metadata": {
    "id": "yHmTDco55xxn"
   },
   "source": [
    "We do the exact same processing but this time to turn the **French** sentences into padded token sequences."
   ]
  },
  {
   "cell_type": "code",
   "execution_count": null,
   "metadata": {
    "id": "zeN8qSgXmYmR"
   },
   "outputs": [],
   "source": [
    "# create input sequences using list of tokens\n",
    "input_sequences = []\n",
    "for line in df_fren[0][:5000]:\n",
    "\ttoken_list = fren_tokenizer.texts_to_sequences([line])[0]\n",
    "\tinput_sequences.append(token_list)\n",
    "\n",
    "\n",
    "# pad sequences\n",
    "#max_sequence_len = max([len(x) for x in input_sequences])\n",
    "input_sequences_fren = np.array(pad_sequences(input_sequences, maxlen=fren_length, padding='post'))"
   ]
  },
  {
   "cell_type": "code",
   "execution_count": null,
   "metadata": {
    "colab": {
     "base_uri": "https://localhost:8080/"
    },
    "id": "sf0cm2jRlRp-",
    "outputId": "e9d21626-5b0f-48fd-b9f0-48b4fc3bc8e3"
   },
   "outputs": [
    {
     "data": {
      "text/plain": [
       "array([268,   3,   2, 136,   0,   0,   0,   0], dtype=int32)"
      ]
     },
     "execution_count": 17,
     "metadata": {},
     "output_type": "execute_result"
    }
   ],
   "source": [
    "input_sequences_fren[0]"
   ]
  },
  {
   "cell_type": "code",
   "execution_count": null,
   "metadata": {
    "colab": {
     "base_uri": "https://localhost:8080/"
    },
    "id": "9FvpsbSAlwn5",
    "outputId": "6aa4a81b-2344-4b04-b2ca-2579449a1c89"
   },
   "outputs": [
    {
     "data": {
      "text/plain": [
       "4378"
      ]
     },
     "execution_count": 18,
     "metadata": {},
     "output_type": "execute_result"
    }
   ],
   "source": [
    "fren_vocab_size"
   ]
  },
  {
   "cell_type": "markdown",
   "metadata": {
    "id": "BYPaChPM6GYO"
   },
   "source": [
    "## Neural network model definition"
   ]
  },
  {
   "cell_type": "markdown",
   "metadata": {
    "id": "LuShFEg46JA2"
   },
   "source": [
    "Build a neural network using at least one LSTM layer\n",
    "\n",
    "(you may have a look at https://keras.io/api/layers/)\n"
   ]
  },
  {
   "cell_type": "code",
   "execution_count": null,
   "metadata": {
    "colab": {
     "base_uri": "https://localhost:8080/"
    },
    "id": "wfSDqJbzhNhs",
    "outputId": "bb6772fa-e025-4e3d-b807-d5f270f4ddcf"
   },
   "outputs": [
    {
     "name": "stdout",
     "output_type": "stream",
     "text": [
      "Model: \"sequential_1\"\n",
      "_________________________________________________________________\n",
      " Layer (type)                Output Shape              Param #   \n",
      "=================================================================\n",
      " embedding_1 (Embedding)     (None, 8, 512)            1772544   \n",
      "                                                                 \n",
      " lstm_2 (LSTM)               (None, 512)               2099200   \n",
      "                                                                 \n",
      " repeat_vector_1 (RepeatVect  (None, 8, 512)           0         \n",
      " or)                                                             \n",
      "                                                                 \n",
      " lstm_3 (LSTM)               (None, 8, 512)            2099200   \n",
      "                                                                 \n",
      " dense_1 (Dense)             (None, 8, 4378)           2245914   \n",
      "                                                                 \n",
      "=================================================================\n",
      "Total params: 8,216,858\n",
      "Trainable params: 8,216,858\n",
      "Non-trainable params: 0\n",
      "_________________________________________________________________\n",
      "None\n"
     ]
    }
   ],
   "source": [
    "model = Sequential()\n",
    "model.add(Embedding(eng_vocab_size, 512, input_length=eng_length, mask_zero=True))\n",
    "model.add(LSTM(512))\n",
    "#------------------------- Choose either the RepeatVector of the Bidirectional\n",
    "model.add(RepeatVector(fren_length))\n",
    "#model.add(Bidirectional(LSTM(fren_length), return_sequences = True))\n",
    "#----------------------------\n",
    "model.add(LSTM(512, return_sequences=True))\n",
    "model.add(Dense(fren_vocab_size, activation='softmax'))\n",
    "\n",
    "\n",
    "#rms = optimizers.RMSprop(lr=0.001)\n",
    "model.compile(optimizer='adam', loss='sparse_categorical_crossentropy',  metrics=[\"accuracy\"])\n",
    "print(model.summary())"
   ]
  },
  {
   "cell_type": "code",
   "execution_count": null,
   "metadata": {
    "colab": {
     "base_uri": "https://localhost:8080/"
    },
    "id": "pxYCzQxohs4W",
    "outputId": "ade72988-1258-495a-97be-ea1051977a2d"
   },
   "outputs": [
    {
     "name": "stdout",
     "output_type": "stream",
     "text": [
      "Epoch 1/30\n",
      "38/38 [==============================] - 52s 1s/step - loss: 5.9811 - accuracy: 0.3218 - val_loss: 5.0459 - val_accuracy: 0.3413\n",
      "Epoch 2/30\n",
      "38/38 [==============================] - 41s 1s/step - loss: 4.7638 - accuracy: 0.3411 - val_loss: 4.7740 - val_accuracy: 0.3586\n",
      "Epoch 3/30\n",
      "38/38 [==============================] - 42s 1s/step - loss: 4.5339 - accuracy: 0.3442 - val_loss: 4.7474 - val_accuracy: 0.3591\n",
      "Epoch 4/30\n",
      "38/38 [==============================] - 41s 1s/step - loss: 4.4134 - accuracy: 0.3459 - val_loss: 4.7074 - val_accuracy: 0.3614\n",
      "Epoch 5/30\n",
      "38/38 [==============================] - 40s 1s/step - loss: 4.3059 - accuracy: 0.3519 - val_loss: 4.6787 - val_accuracy: 0.3676\n",
      "Epoch 6/30\n",
      "38/38 [==============================] - 41s 1s/step - loss: 4.2048 - accuracy: 0.3533 - val_loss: 4.6683 - val_accuracy: 0.3660\n",
      "Epoch 7/30\n",
      "38/38 [==============================] - 41s 1s/step - loss: 4.1164 - accuracy: 0.3578 - val_loss: 4.6829 - val_accuracy: 0.3677\n",
      "Epoch 8/30\n",
      "38/38 [==============================] - 42s 1s/step - loss: 4.0362 - accuracy: 0.3659 - val_loss: 4.6686 - val_accuracy: 0.3746\n",
      "Epoch 9/30\n",
      "38/38 [==============================] - 42s 1s/step - loss: 3.9499 - accuracy: 0.3758 - val_loss: 4.6630 - val_accuracy: 0.3812\n",
      "Epoch 10/30\n",
      "38/38 [==============================] - 42s 1s/step - loss: 3.8728 - accuracy: 0.3851 - val_loss: 4.6495 - val_accuracy: 0.3847\n",
      "Epoch 11/30\n",
      "38/38 [==============================] - 42s 1s/step - loss: 3.7999 - accuracy: 0.3949 - val_loss: 4.6454 - val_accuracy: 0.3902\n",
      "Epoch 12/30\n",
      "38/38 [==============================] - 40s 1s/step - loss: 3.7203 - accuracy: 0.4079 - val_loss: 4.6433 - val_accuracy: 0.4098\n",
      "Epoch 13/30\n",
      "38/38 [==============================] - 42s 1s/step - loss: 3.6373 - accuracy: 0.4155 - val_loss: 4.6321 - val_accuracy: 0.4119\n",
      "Epoch 14/30\n",
      "38/38 [==============================] - 42s 1s/step - loss: 3.5541 - accuracy: 0.4257 - val_loss: 4.6543 - val_accuracy: 0.4237\n",
      "Epoch 15/30\n",
      "38/38 [==============================] - 42s 1s/step - loss: 3.4829 - accuracy: 0.4361 - val_loss: 4.6294 - val_accuracy: 0.4271\n",
      "Epoch 16/30\n",
      "38/38 [==============================] - 40s 1s/step - loss: 3.4173 - accuracy: 0.4427 - val_loss: 4.6079 - val_accuracy: 0.4257\n",
      "Epoch 17/30\n",
      "38/38 [==============================] - 46s 1s/step - loss: 3.3495 - accuracy: 0.4471 - val_loss: 4.6297 - val_accuracy: 0.4267\n",
      "Epoch 18/30\n",
      "38/38 [==============================] - 42s 1s/step - loss: 3.2764 - accuracy: 0.4531 - val_loss: 4.6278 - val_accuracy: 0.4293\n",
      "Epoch 19/30\n",
      "38/38 [==============================] - 41s 1s/step - loss: 3.2107 - accuracy: 0.4573 - val_loss: 4.6584 - val_accuracy: 0.4346\n",
      "Epoch 20/30\n",
      "38/38 [==============================] - 46s 1s/step - loss: 3.1513 - accuracy: 0.4629 - val_loss: 4.6647 - val_accuracy: 0.4377\n",
      "Epoch 21/30\n",
      "38/38 [==============================] - 41s 1s/step - loss: 3.0787 - accuracy: 0.4672 - val_loss: 4.6980 - val_accuracy: 0.4404\n",
      "Epoch 22/30\n",
      "38/38 [==============================] - 42s 1s/step - loss: 3.0286 - accuracy: 0.4686 - val_loss: 4.6452 - val_accuracy: 0.4424\n",
      "Epoch 23/30\n",
      "38/38 [==============================] - 41s 1s/step - loss: 3.0069 - accuracy: 0.4717 - val_loss: 4.6336 - val_accuracy: 0.4442\n",
      "Epoch 24/30\n",
      "38/38 [==============================] - 41s 1s/step - loss: 2.9013 - accuracy: 0.4803 - val_loss: 4.6511 - val_accuracy: 0.4459\n",
      "Epoch 25/30\n",
      "38/38 [==============================] - 42s 1s/step - loss: 2.8157 - accuracy: 0.4875 - val_loss: 4.7136 - val_accuracy: 0.4510\n",
      "Epoch 26/30\n",
      "38/38 [==============================] - 41s 1s/step - loss: 2.7476 - accuracy: 0.4915 - val_loss: 4.7591 - val_accuracy: 0.4535\n",
      "Epoch 27/30\n",
      "38/38 [==============================] - 41s 1s/step - loss: 2.6824 - accuracy: 0.4948 - val_loss: 4.7541 - val_accuracy: 0.4498\n",
      "Epoch 28/30\n",
      "38/38 [==============================] - 42s 1s/step - loss: 2.6200 - accuracy: 0.4992 - val_loss: 4.7725 - val_accuracy: 0.4463\n",
      "Epoch 29/30\n",
      "38/38 [==============================] - 41s 1s/step - loss: 2.5566 - accuracy: 0.5026 - val_loss: 4.7971 - val_accuracy: 0.4473\n",
      "Epoch 30/30\n",
      "38/38 [==============================] - 40s 1s/step - loss: 2.5011 - accuracy: 0.5074 - val_loss: 4.8217 - val_accuracy: 0.4446\n"
     ]
    }
   ],
   "source": [
    "history = model.fit(x = input_sequences_eng, y = input_sequences_fren, epochs = 30, batch_size= 100, validation_split=0.25)"
   ]
  },
  {
   "cell_type": "code",
   "execution_count": null,
   "metadata": {
    "colab": {
     "base_uri": "https://localhost:8080/"
    },
    "id": "3873fe4e",
    "outputId": "75533939-1f59-4529-b0bb-0e076b39dd86"
   },
   "outputs": [
    {
     "name": "stdout",
     "output_type": "stream",
     "text": [
      "resumption of the session\n",
      "reprise de la session \n",
      "reprise de la session\n",
      "------------\n",
      "madam president on a point of order\n",
      "monsieur la president la la de de procedure \n",
      "madame la presidente cest une motion de procedure\n",
      "------------\n",
      "madam president on a point of order\n",
      "monsieur la president la la de de procedure \n",
      "madame la presidente cest une motion de procedure\n",
      "------------\n",
      "it is the case of alexander nikitin\n",
      "il est un un \n",
      "il sagit du cas dalexandre nikitin\n",
      "------------\n",
      "mr berenguer fuster we shall check all this\n",
      "je ai et et et et \n",
      "cher collegue nous allons verifier tout cela\n",
      "------------\n",
      "we do not know what is happening\n",
      "nous ne pouvons pas pas pas pas \n",
      "nous ne savons pas ce qui se passe\n",
      "------------\n",
      "agenda\n",
      "ordre de travaux \n",
      "ordre des travaux\n",
      "------------\n",
      "relating to wednesday\n",
      "en ce qui concerne la mercredi \n",
      "en ce qui concerne le mercredi\n",
      "------------\n",
      "applause from the pse group\n",
      "applaudissements a groupe pse \n",
      "applaudissements du groupe pse\n",
      "------------\n",
      "parliament rejected the request president\n",
      "le parlement rejette la proposition de \n",
      "le parlement rejette la demande la presidente\n",
      "------------\n"
     ]
    }
   ],
   "source": [
    "def translate(input):\n",
    "    predicted = model.predict(input, verbose=0)\n",
    "    output_words = \"\"\n",
    "    for token_predicted in predicted[0]:\n",
    "        for word, index in fren_tokenizer.word_index.items():\n",
    "            if index == token_predicted.argmax():\n",
    "                output_words += word+\" \"\n",
    "                break\n",
    "    return output_words\n",
    "\n",
    "for i in range(10):\n",
    "    input_sentence = df_eng.loc[i][0]\n",
    "    token_list_test = eng_tokenizer.texts_to_sequences([input_sentence])[0]\n",
    "    input_sequences_eng_test = np.array(pad_sequences([token_list_test], maxlen=eng_length, padding='post'))\n",
    "    print(input_sentence)\n",
    "    print(translate(input_sequences_eng_test))\n",
    "    print(df_fren.loc[i][0])\n",
    "    print('------------')"
   ]
  },
  {
   "cell_type": "code",
   "execution_count": null,
   "metadata": {
    "colab": {
     "base_uri": "https://localhost:8080/"
    },
    "id": "FsWV8T00pqJX",
    "outputId": "8f3d0449-d9a9-4081-e5c3-9ed544245c2b"
   },
   "outputs": [
    {
     "data": {
      "text/plain": [
       "array([[7, 2, 2, ..., 0, 0, 0]])"
      ]
     },
     "execution_count": 36,
     "metadata": {},
     "output_type": "execute_result"
    }
   ],
   "source": [
    "predict = model.predict(input_sequences_eng[0].reshape(1,8), verbose=0)\n",
    "np.argmax(predict,axis=1)"
   ]
  },
  {
   "cell_type": "code",
   "execution_count": null,
   "metadata": {
    "colab": {
     "base_uri": "https://localhost:8080/"
    },
    "id": "b5P0I2aD1CVu",
    "outputId": "fc4d2265-2c2b-405e-c8b3-22ef5461a514"
   },
   "outputs": [
    {
     "data": {
      "text/plain": [
       "(8,)"
      ]
     },
     "execution_count": 37,
     "metadata": {},
     "output_type": "execute_result"
    }
   ],
   "source": [
    "input_sequences_eng[0].shape"
   ]
  },
  {
   "cell_type": "markdown",
   "metadata": {
    "id": "93nD760jMS2Q"
   },
   "source": [
    "We can define an English sentence to be translated into French thanks to the model trained"
   ]
  },
  {
   "cell_type": "code",
   "execution_count": null,
   "metadata": {
    "id": "fM6ZE1Hc4KKr"
   },
   "outputs": [],
   "source": [
    "input_sentence = \"resumption of the session\"\n",
    "token_list_test = eng_tokenizer.texts_to_sequences([input_sentence])[0]\n",
    "\n",
    "\n",
    "# pad sequences\n",
    "#max_sequence_len = max([len(x) for x in input_sequences])\n",
    "input_sequences_eng_test = np.array(pad_sequences([token_list_test], maxlen=eng_length, padding='post'))"
   ]
  },
  {
   "cell_type": "markdown",
   "metadata": {
    "id": "_xJDIBL0Moqy"
   },
   "source": [
    "We compute the translation"
   ]
  },
  {
   "cell_type": "code",
   "execution_count": null,
   "metadata": {
    "colab": {
     "base_uri": "https://localhost:8080/",
     "height": 36
    },
    "id": "QctvyHVMYTzs",
    "outputId": "8925f131-abb2-4f73-b48f-b6143b43b086"
   },
   "outputs": [
    {
     "data": {
      "application/vnd.google.colaboratory.intrinsic+json": {
       "type": "string"
      },
      "text/plain": [
       "'reprise de la session '"
      ]
     },
     "execution_count": 62,
     "metadata": {},
     "output_type": "execute_result"
    }
   ],
   "source": [
    "translate( input_sequences_eng_test)"
   ]
  },
  {
   "cell_type": "markdown",
   "metadata": {
    "id": "L-nvaNx86Pht"
   },
   "source": [
    "## Result visualization"
   ]
  },
  {
   "cell_type": "code",
   "execution_count": null,
   "metadata": {
    "colab": {
     "base_uri": "https://localhost:8080/",
     "height": 850
    },
    "id": "Wunte1qrw7UK",
    "outputId": "981c64c0-26e6-4951-c5ea-c9761a09c988"
   },
   "outputs": [
    {
     "data": {
      "image/png": "[encoded data removed]",
      "text/plain": [
       "<Figure size 1600x1000 with 2 Axes>"
      ]
     },
     "metadata": {},
     "output_type": "display_data"
    }
   ],
   "source": [
    "plot_results(history)"
   ]
  },
  {
   "cell_type": "markdown",
   "metadata": {
    "id": "s5NjD5EvxT4u"
   },
   "source": [
    "**References:**\n",
    "\n",
    "The approach and the model architecture come mainly from\n",
    "\n",
    "  https://medium.com/@saikrishna4820/lstm-language-translation-18c076860b23\n",
    "\n",
    "and has been adapted to work in this English-French translation use case (instead of an English-Hindi one) by **Eli Yaacoub** (EPITA student in 2022)\n",
    "\n",
    "The dataset comes from\n",
    "\n",
    "https://machinelearningmastery.com/prepare-french-english-dataset-machine-translation/"
   ]
  }
 ],
 "metadata": {
  "colab": {
   "provenance": []
  },
  "kernelspec": {
   "display_name": "Python 3 (ipykernel)",
   "language": "python",
   "name": "python3"
  },
  "language_info": {
   "codemirror_mode": {
    "name": "ipython",
    "version": 3
   },
   "file_extension": ".py",
   "mimetype": "text/x-python",
   "name": "python",
   "nbconvert_exporter": "python",
   "pygments_lexer": "ipython3",
   "version": "3.8.13"
  }
 },
 "nbformat": 4,
 "nbformat_minor": 1
}
