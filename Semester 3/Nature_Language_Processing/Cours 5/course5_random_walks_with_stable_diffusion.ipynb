{
  "cells": [
    {
      "cell_type": "markdown",
      "source": [
        "## Disclaimer:\n",
        "\n",
        "**This notebook comes from** https://keras.io/examples/generative/random_walks_with_stable_diffusion/"
      ],
      "metadata": {
        "id": "XIIQ0_bzd8Wd"
      }
    },
    {
      "cell_type": "markdown",
      "metadata": {
        "id": "GBWejhIlaEiV"
      },
      "source": [
        "# A walk through latent space with Stable Diffusion\n",
        "\n",
        "**Authors:** Ian Stenbit, [fchollet](https://twitter.com/fchollet), [lukewood](https://twitter.com/luke_wood_ml)<br>\n",
        "**Date created:** 2022/09/28<br>\n",
        "**Last modified:** 2022/09/28<br>\n",
        "**Description:** Explore the latent manifold of Stable Diffusion."
      ]
    },
    {
      "cell_type": "markdown",
      "metadata": {
        "id": "fJ2BoyIqaEiY"
      },
      "source": [
        "## Overview\n",
        "\n",
        "Generative image models learn a \"latent manifold\" of the visual world:\n",
        "a low-dimensional vector space where each point maps to an image.\n",
        "Going from such a point on the manifold back to a displayable image\n",
        "is called \"decoding\" -- in the Stable Diffusion model, this is handled by\n",
        "the \"decoder\" model.\n",
        "\n",
        "![The Stable Diffusion architecture](https://i.imgur.com/2uC8rYJ.png)\n",
        "\n",
        "This latent manifold of images is continuous and interpolative, meaning that:\n",
        "\n",
        "1. Moving a little on the manifold only changes the corresponding image a little (continuity).\n",
        "2. For any two points A and B on the manifold (i.e. any two images), it is possible\n",
        "to move from A to B via a path where each intermediate point is also on the manifold (i.e.\n",
        "is also a valid image). Intermediate points would be called \"interpolations\" between\n",
        "the two starting images.\n",
        "\n",
        "Stable Diffusion isn't just an image model, though, it's also a natural language model.\n",
        "It has two latent spaces: the image representation space learned by the\n",
        "encoder used during training, and the prompt latent space\n",
        "which is learned using a combination of pretraining and training-time\n",
        "fine-tuning.\n",
        "\n",
        "_Latent space walking_, or _latent space exploration_, is the process of\n",
        "sampling a point in latent space and incrementally changing the latent\n",
        "representation. Its most common application is generating animations\n",
        "where each sampled point is fed to the decoder and is stored as a\n",
        "frame in the final animation.\n",
        "For high-quality latent representations, this produces coherent-looking\n",
        "animations. These animations can provide insight into the feature map of the\n",
        "latent space, and can ultimately lead to improvements in the training\n",
        "process. One such GIF is displayed below:\n",
        "\n",
        "![Panda to Plane](/img/examples/generative/random_walks_with_stable_diffusion/panda2plane.gif)\n",
        "\n",
        "In this guide, we will show how to take advantage of the Stable Diffusion API\n",
        "in KerasCV to perform prompt interpolation and circular walks through\n",
        "Stable Diffusion's visual latent manifold, as well as through\n",
        "the text encoder's latent manifold.\n",
        "\n",
        "This guide assumes the reader has a\n",
        "high-level understanding of Stable Diffusion.\n",
        "If you haven't already, you should start\n",
        "by reading the [Stable Diffusion Tutorial](https://keras.io/guides/keras_cv/generate_images_with_stable_diffusion/).\n",
        "\n",
        "To start, we import KerasCV and load up a Stable Diffusion model using the\n",
        "optimizations discussed in the tutorial\n",
        "[Generate images with Stable Diffusion](https://keras.io/guides/keras_cv/generate_images_with_stable_diffusion/).\n",
        "Note that if you are running with a M1 Mac GPU you should not enable mixed precision."
      ]
    },
    {
      "cell_type": "code",
      "execution_count": null,
      "metadata": {
        "id": "FbIXrDkUaEiZ"
      },
      "outputs": [],
      "source": [
        "!pip install tensorflow keras_cv --upgrade --quiet\n",
        "!pip install tensorflow keras_core --upgrade --quiet"
      ]
    },
    {
      "cell_type": "code",
      "execution_count": null,
      "metadata": {
        "id": "kXOYOwLkaEia",
        "outputId": "ac14cfa2-5977-4955-be4b-22352be8a134",
        "colab": {
          "base_uri": "https://localhost:8080/"
        }
      },
      "outputs": [
        {
          "output_type": "stream",
          "name": "stdout",
          "text": [
            "Using TensorFlow backend\n",
            "By using this model checkpoint, you acknowledge that its usage is subject to the terms of the CreativeML Open RAIL-M license at https://raw.githubusercontent.com/CompVis/stable-diffusion/main/LICENSE\n"
          ]
        }
      ],
      "source": [
        "import keras_cv\n",
        "from tensorflow import keras\n",
        "import matplotlib.pyplot as plt\n",
        "import tensorflow as tf\n",
        "import numpy as np\n",
        "import math\n",
        "from PIL import Image\n",
        "\n",
        "# Enable mixed precision\n",
        "# (only do this if you have a recent NVIDIA GPU)\n",
        "keras.mixed_precision.set_global_policy(\"mixed_float16\")\n",
        "\n",
        "# Instantiate the Stable Diffusion model\n",
        "model = keras_cv.models.StableDiffusion(jit_compile=True)"
      ]
    },
    {
      "cell_type": "markdown",
      "metadata": {
        "id": "NcZEcYxPaEia"
      },
      "source": [
        "## Interpolating between text prompts\n",
        "\n",
        "In Stable Diffusion, a text prompt is first encoded into a vector,\n",
        "and that encoding is used to guide the diffusion process.\n",
        "The latent encoding vector has shape\n",
        "77x768 (that's huge!), and when we give Stable Diffusion a text prompt, we're\n",
        "generating images from just one such point on the latent manifold.\n",
        "\n",
        "To explore more of this manifold, we can interpolate between two text encodings\n",
        "and generate images at those interpolated points:"
      ]
    },
    {
      "cell_type": "code",
      "execution_count": null,
      "metadata": {
        "id": "TpNJccxNaEia",
        "outputId": "8319944f-5e3b-432a-dc38-0fe5dcb69600",
        "colab": {
          "base_uri": "https://localhost:8080/"
        }
      },
      "outputs": [
        {
          "output_type": "stream",
          "name": "stdout",
          "text": [
            "Downloading data from https://github.com/openai/CLIP/blob/main/clip/bpe_simple_vocab_16e6.txt.gz?raw=true\n",
            "1356917/1356917 [==============================] - 0s 0us/step\n",
            "Downloading data from https://huggingface.co/fchollet/stable-diffusion/resolve/main/kcv_encoder.h5\n",
            "492466864/492466864 [==============================] - 2s 0us/step\n",
            "Encoding shape: (77, 768)\n"
          ]
        }
      ],
      "source": [
        "prompt_1 = \"A watercolor painting of a Golden Retriever at the beach\"\n",
        "prompt_2 = \"A still life DSLR photo of a bowl of fruit\"\n",
        "interpolation_steps = 5\n",
        "\n",
        "encoding_1 = tf.squeeze(model.encode_text(prompt_1))\n",
        "encoding_2 = tf.squeeze(model.encode_text(prompt_2))\n",
        "\n",
        "interpolated_encodings = tf.linspace(encoding_1, encoding_2, interpolation_steps)\n",
        "\n",
        "# Show the size of the latent manifold\n",
        "print(f\"Encoding shape: {encoding_1.shape}\")"
      ]
    },
    {
      "cell_type": "markdown",
      "metadata": {
        "id": "Mf2XP89UaEib"
      },
      "source": [
        "Once we've interpolated the encodings, we can generate images from each point.\n",
        "Note that in order to maintain some stability between the resulting images we\n",
        "keep the diffusion noise constant between images."
      ]
    },
    {
      "cell_type": "code",
      "execution_count": null,
      "metadata": {
        "id": "r65X572TaEib",
        "outputId": "609d972d-a4d9-4b25-d55e-d06fb41c1a4b",
        "colab": {
          "base_uri": "https://localhost:8080/"
        }
      },
      "outputs": [
        {
          "output_type": "stream",
          "name": "stdout",
          "text": [
            "Downloading data from https://huggingface.co/fchollet/stable-diffusion/resolve/main/kcv_diffusion_model.h5\n",
            "3439090152/3439090152 [==============================] - 27s 0us/step\n",
            "50/50 [==============================] - 650s 1s/step\n",
            "Downloading data from https://huggingface.co/fchollet/stable-diffusion/resolve/main/kcv_decoder.h5\n",
            "198180272/198180272 [==============================] - 1s 0us/step\n"
          ]
        }
      ],
      "source": [
        "seed = 12345\n",
        "noise = tf.random.normal((512 // 8, 512 // 8, 4), seed=seed)\n",
        "\n",
        "images = model.generate_image(\n",
        "    interpolated_encodings,\n",
        "    batch_size=interpolation_steps,\n",
        "    diffusion_noise=noise,\n",
        ")"
      ]
    },
    {
      "cell_type": "markdown",
      "metadata": {
        "id": "adySDi1YaEic"
      },
      "source": [
        "Now that we've generated some interpolated images, let's take a look at them!\n",
        "\n",
        "Throughout this tutorial, we're going to export sequences of images as gifs so\n",
        "that they can be easily viewed with some temporal context. For sequences of\n",
        "images where the first and last images don't match conceptually, we rubber-band\n",
        "the gif.\n",
        "\n",
        "If you're running in Colab, you can view your own GIFs by running:\n",
        "\n",
        "```\n",
        "from IPython.display import Image as IImage\n",
        "IImage(\"doggo-and-fruit-5.gif\")\n",
        "```"
      ]
    },
    {
      "cell_type": "code",
      "execution_count": null,
      "metadata": {
        "id": "ysnPtCBYaEid"
      },
      "outputs": [],
      "source": [
        "\n",
        "def export_as_gif(filename, images, frames_per_second=10, rubber_band=False):\n",
        "    if rubber_band:\n",
        "        images += images[2:-1][::-1]\n",
        "    images[0].save(\n",
        "        filename,\n",
        "        save_all=True,\n",
        "        append_images=images[1:],\n",
        "        duration=1000 // frames_per_second,\n",
        "        loop=0,\n",
        "    )\n",
        "\n",
        "\n",
        "export_as_gif(\n",
        "    \"doggo-and-fruit-5.gif\",\n",
        "    [Image.fromarray(img) for img in images],\n",
        "    frames_per_second=2,\n",
        "    rubber_band=True,\n",
        ")"
      ]
    },
    {
      "cell_type": "markdown",
      "metadata": {
        "id": "F7QFl5FoaEid"
      },
      "source": [
        "![Dog to Fruit 5](https://i.imgur.com/4ZCxZY4.gif)\n",
        "\n",
        "The results may seem surprising. Generally, interpolating between prompts\n",
        "produces coherent looking images, and often demonstrates a progressive concept\n",
        "shift between the contents of the two prompts. This is indicative of a high\n",
        "quality representation space, that closely mirrors the natural structure\n",
        "of the visual world.\n",
        "\n",
        "To best visualize this, we should do a much more fine-grained interpolation,\n",
        "using hundreds of steps. In order to keep batch size small (so that we don't\n",
        "OOM our GPU), this requires manually batching our interpolated\n",
        "encodings."
      ]
    },
    {
      "cell_type": "code",
      "execution_count": null,
      "metadata": {
        "id": "_DdqWpK0aEie"
      },
      "outputs": [],
      "source": [
        "interpolation_steps = 150\n",
        "batch_size = 3\n",
        "batches = interpolation_steps // batch_size\n",
        "\n",
        "interpolated_encodings = tf.linspace(encoding_1, encoding_2, interpolation_steps)\n",
        "batched_encodings = tf.split(interpolated_encodings, batches)\n",
        "\n",
        "images = []\n",
        "for batch in range(batches):\n",
        "    images += [\n",
        "        Image.fromarray(img)\n",
        "        for img in model.generate_image(\n",
        "            batched_encodings[batch],\n",
        "            batch_size=batch_size,\n",
        "            num_steps=25,\n",
        "            diffusion_noise=noise,\n",
        "        )\n",
        "    ]\n",
        "\n",
        "export_as_gif(\"doggo-and-fruit-150.gif\", images, rubber_band=True)"
      ]
    },
    {
      "cell_type": "markdown",
      "metadata": {
        "id": "XOohabP9aEie"
      },
      "source": [
        "![Dog to Fruit 150](/img/examples/generative/random_walks_with_stable_diffusion/dog2fruit150.gif)\n",
        "\n",
        "The resulting gif shows a much clearer and more coherent shift between the two\n",
        "prompts. Try out some prompts of your own and experiment!\n",
        "\n",
        "We can even extend this concept for more than one image. For example, we can\n",
        "interpolate between four prompts:"
      ]
    },
    {
      "cell_type": "code",
      "execution_count": null,
      "metadata": {
        "id": "t1dvKhCvaEie"
      },
      "outputs": [],
      "source": [
        "prompt_1 = \"A watercolor painting of a Golden Retriever at the beach\"\n",
        "prompt_2 = \"A still life DSLR photo of a bowl of fruit\"\n",
        "prompt_3 = \"The eiffel tower in the style of starry night\"\n",
        "prompt_4 = \"An architectural sketch of a skyscraper\"\n",
        "\n",
        "interpolation_steps = 6\n",
        "batch_size = 3\n",
        "batches = (interpolation_steps**2) // batch_size\n",
        "\n",
        "encoding_1 = tf.squeeze(model.encode_text(prompt_1))\n",
        "encoding_2 = tf.squeeze(model.encode_text(prompt_2))\n",
        "encoding_3 = tf.squeeze(model.encode_text(prompt_3))\n",
        "encoding_4 = tf.squeeze(model.encode_text(prompt_4))\n",
        "\n",
        "interpolated_encodings = tf.linspace(\n",
        "    tf.linspace(encoding_1, encoding_2, interpolation_steps),\n",
        "    tf.linspace(encoding_3, encoding_4, interpolation_steps),\n",
        "    interpolation_steps,\n",
        ")\n",
        "interpolated_encodings = tf.reshape(\n",
        "    interpolated_encodings, (interpolation_steps**2, 77, 768)\n",
        ")\n",
        "batched_encodings = tf.split(interpolated_encodings, batches)\n",
        "\n",
        "images = []\n",
        "for batch in range(batches):\n",
        "    images.append(\n",
        "        model.generate_image(\n",
        "            batched_encodings[batch],\n",
        "            batch_size=batch_size,\n",
        "            diffusion_noise=noise,\n",
        "        )\n",
        "    )\n",
        "\n",
        "\n",
        "def plot_grid(\n",
        "    images,\n",
        "    path,\n",
        "    grid_size,\n",
        "    scale=2,\n",
        "):\n",
        "    fig = plt.figure(figsize=(grid_size * scale, grid_size * scale))\n",
        "    fig.tight_layout()\n",
        "    plt.subplots_adjust(wspace=0, hspace=0)\n",
        "    plt.margins(x=0, y=0)\n",
        "    plt.axis(\"off\")\n",
        "    images = images.astype(int)\n",
        "    for row in range(grid_size):\n",
        "        for col in range(grid_size):\n",
        "            index = row * grid_size + col\n",
        "            plt.subplot(grid_size, grid_size, index + 1)\n",
        "            plt.imshow(images[index].astype(\"uint8\"))\n",
        "            plt.axis(\"off\")\n",
        "            plt.margins(x=0, y=0)\n",
        "    plt.savefig(\n",
        "        fname=path,\n",
        "        pad_inches=0,\n",
        "        bbox_inches=\"tight\",\n",
        "        transparent=False,\n",
        "        dpi=60,\n",
        "    )\n",
        "\n",
        "\n",
        "images = np.concatenate(images)\n",
        "plot_grid(images, \"4-way-interpolation.jpg\", interpolation_steps)"
      ]
    },
    {
      "cell_type": "markdown",
      "metadata": {
        "id": "WBZMKj2kaEif"
      },
      "source": [
        "We can also interpolate while allowing diffusion noise to vary by dropping\n",
        "the `diffusion_noise` parameter:"
      ]
    },
    {
      "cell_type": "code",
      "execution_count": null,
      "metadata": {
        "id": "5ukWQsMbaEih"
      },
      "outputs": [],
      "source": [
        "images = []\n",
        "for batch in range(batches):\n",
        "    images.append(model.generate_image(batched_encodings[batch], batch_size=batch_size))\n",
        "\n",
        "images = np.concatenate(images)\n",
        "plot_grid(images, \"4-way-interpolation-varying-noise.jpg\", interpolation_steps)"
      ]
    },
    {
      "cell_type": "markdown",
      "metadata": {
        "id": "kDUj7rSDaEii"
      },
      "source": [
        "Next up -- let's go for some walks!\n",
        "\n",
        "## A walk around a text prompt\n",
        "\n",
        "Our next experiment will be to go for a walk around the latent manifold\n",
        "starting from a point produced by a particular prompt."
      ]
    },
    {
      "cell_type": "code",
      "execution_count": null,
      "metadata": {
        "id": "XVgjsucBaEii"
      },
      "outputs": [],
      "source": [
        "walk_steps = 150\n",
        "batch_size = 3\n",
        "batches = walk_steps // batch_size\n",
        "step_size = 0.005\n",
        "\n",
        "encoding = tf.squeeze(\n",
        "    model.encode_text(\"The Eiffel Tower in the style of starry night\")\n",
        ")\n",
        "# Note that (77, 768) is the shape of the text encoding.\n",
        "delta = tf.ones_like(encoding) * step_size\n",
        "\n",
        "walked_encodings = []\n",
        "for step_index in range(walk_steps):\n",
        "    walked_encodings.append(encoding)\n",
        "    encoding += delta\n",
        "walked_encodings = tf.stack(walked_encodings)\n",
        "batched_encodings = tf.split(walked_encodings, batches)\n",
        "\n",
        "images = []\n",
        "for batch in range(batches):\n",
        "    images += [\n",
        "        Image.fromarray(img)\n",
        "        for img in model.generate_image(\n",
        "            batched_encodings[batch],\n",
        "            batch_size=batch_size,\n",
        "            num_steps=25,\n",
        "            diffusion_noise=noise,\n",
        "        )\n",
        "    ]\n",
        "\n",
        "export_as_gif(\"eiffel-tower-starry-night.gif\", images, rubber_band=True)"
      ]
    },
    {
      "cell_type": "markdown",
      "metadata": {
        "id": "aa-OiIzkaEii"
      },
      "source": [
        "![Eiffel tower walk gif](https://i.imgur.com/9MMYtal.gif)\n",
        "\n",
        "Perhaps unsurprisingly, walking too far from the encoder's latent manifold\n",
        "produces images that look incoherent. Try it for yourself by setting\n",
        "your own prompt, and adjusting `step_size` to increase or decrease the magnitude\n",
        "of the walk. Note that when the magnitude of the walk gets large, the walk often\n",
        "leads into areas which produce extremely noisy images.\n",
        "\n",
        "## A circular walk through the diffusion noise space for a single prompt\n",
        "\n",
        "Our final experiment is to stick to one prompt and explore the variety of images\n",
        "that the diffusion model can produce from that prompt. We do this by controlling\n",
        "the noise that is used to seed the diffusion process.\n",
        "\n",
        "We create two noise components, `x` and `y`, and do a walk from 0 to 2π, summing\n",
        "the cosine of our `x` component and the sin of our `y` component to produce noise.\n",
        "Using this approach, the end of our walk arrives at the same noise inputs where\n",
        "we began our walk, so we get a \"loopable\" result!"
      ]
    },
    {
      "cell_type": "code",
      "execution_count": null,
      "metadata": {
        "id": "9aX8gzMPaEij"
      },
      "outputs": [],
      "source": [
        "prompt = \"An oil paintings of cows in a field next to a windmill in Holland\"\n",
        "encoding = tf.squeeze(model.encode_text(prompt))\n",
        "walk_steps = 150\n",
        "batch_size = 3\n",
        "batches = walk_steps // batch_size\n",
        "\n",
        "walk_noise_x = tf.random.normal(noise.shape, dtype=tf.float64)\n",
        "walk_noise_y = tf.random.normal(noise.shape, dtype=tf.float64)\n",
        "\n",
        "walk_scale_x = tf.cos(tf.linspace(0, 2, walk_steps) * math.pi)\n",
        "walk_scale_y = tf.sin(tf.linspace(0, 2, walk_steps) * math.pi)\n",
        "noise_x = tf.tensordot(walk_scale_x, walk_noise_x, axes=0)\n",
        "noise_y = tf.tensordot(walk_scale_y, walk_noise_y, axes=0)\n",
        "noise = tf.add(noise_x, noise_y)\n",
        "batched_noise = tf.split(noise, batches)\n",
        "\n",
        "images = []\n",
        "for batch in range(batches):\n",
        "    images += [\n",
        "        Image.fromarray(img)\n",
        "        for img in model.generate_image(\n",
        "            encoding,\n",
        "            batch_size=batch_size,\n",
        "            num_steps=25,\n",
        "            diffusion_noise=batched_noise[batch],\n",
        "        )\n",
        "    ]\n",
        "\n",
        "export_as_gif(\"cows.gif\", images)"
      ]
    },
    {
      "cell_type": "markdown",
      "metadata": {
        "id": "3lFa1d3UaEij"
      },
      "source": [
        "![Happy Cows](/img/examples/generative/random_walks_with_stable_diffusion/happycows.gif)\n",
        "\n",
        "Experiment with your own prompts and with different values of\n",
        "`unconditional_guidance_scale`!\n",
        "\n",
        "## Conclusion\n",
        "\n",
        "Stable Diffusion offers a lot more than just single text-to-image generation.\n",
        "Exploring the latent manifold of the text encoder and the noise space of the\n",
        "diffusion model are two fun ways to experience the power of this model, and\n",
        "KerasCV makes it easy!"
      ]
    }
  ],
  "metadata": {
    "accelerator": "GPU",
    "colab": {
      "provenance": [],
      "toc_visible": true
    },
    "kernelspec": {
      "display_name": "Python 3.10.7 64-bit",
      "language": "python",
      "name": "python3"
    },
    "language_info": {
      "codemirror_mode": {
        "name": "ipython",
        "version": 3
      },
      "file_extension": ".py",
      "mimetype": "text/x-python",
      "name": "python",
      "nbconvert_exporter": "python",
      "pygments_lexer": "ipython3",
      "version": "3.10.7"
    },
    "vscode": {
      "interpreter": {
        "hash": "aee8b7b246df8f9039afb4144a1f6fd8d2ca17a180786b69acc140d282b71a49"
      }
    }
  },
  "nbformat": 4,
  "nbformat_minor": 0
}