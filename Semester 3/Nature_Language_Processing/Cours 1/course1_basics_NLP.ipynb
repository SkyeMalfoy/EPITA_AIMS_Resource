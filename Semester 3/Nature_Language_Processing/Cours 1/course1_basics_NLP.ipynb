{
 "cells": [
  {
   "cell_type": "markdown",
   "metadata": {
    "id": "2itOsP34zvoJ"
   },
   "source": [
    "## Basics NLP processing with spaCy and NLTK"
   ]
  },
  {
   "cell_type": "code",
   "execution_count": 1,
   "metadata": {
    "colab": {
     "base_uri": "https://localhost:8080/"
    },
    "executionInfo": {
     "elapsed": 10348,
     "status": "ok",
     "timestamp": 1685655542637,
     "user": {
      "displayName": "Romain Benassi",
      "userId": "07755091784567448642"
     },
     "user_tz": -120
    },
    "id": "c-owubXuoSR6",
    "outputId": "26942336-5170-4d8e-aaf4-9d5d6cde978e"
   },
   "outputs": [
    {
     "name": "stdout",
     "output_type": "stream",
     "text": [
      "Tesla PROPN nsubj\n",
      "is AUX aux\n",
      "looking VERB ROOT\n",
      "at ADP prep\n",
      "buying VERB pcomp\n",
      "U.S. PROPN compound\n",
      "startup NOUN dobj\n",
      "for ADP prep\n",
      "$ SYM quantmod\n",
      "6 NUM compound\n",
      "million NUM pobj\n",
      ". PUNCT punct\n"
     ]
    }
   ],
   "source": [
    "# Import spaCy and load the language library\n",
    "import spacy\n",
    "# loading of a pre-trained model 'en_core_web_sm' available on the internet\n",
    "nlp = spacy.load('en_core_web_sm')\n",
    "\n",
    "# Create a Doc object\n",
    "doc = nlp(u'Tesla is looking at buying U.S. startup for $6 million.')\n",
    "\n",
    "# Print each token separately\n",
    "for token in doc:\n",
    "    print(token.text, token.pos_, token.dep_)"
   ]
  },
  {
   "cell_type": "code",
   "execution_count": 2,
   "metadata": {
    "colab": {
     "base_uri": "https://localhost:8080/"
    },
    "executionInfo": {
     "elapsed": 16,
     "status": "ok",
     "timestamp": 1685655542638,
     "user": {
      "displayName": "Romain Benassi",
      "userId": "07755091784567448642"
     },
     "user_tz": -120
    },
    "id": "biBCcFWrooCU",
    "outputId": "a7e4bb4e-ed1a-45f6-a4ef-487671b6db5a"
   },
   "outputs": [
    {
     "data": {
      "text/plain": [
       "[('tok2vec', <spacy.pipeline.tok2vec.Tok2Vec at 0x7f1318636440>),\n",
       " ('tagger', <spacy.pipeline.tagger.Tagger at 0x7f1318635ea0>),\n",
       " ('parser', <spacy.pipeline.dep_parser.DependencyParser at 0x7f1318713680>),\n",
       " ('attribute_ruler',\n",
       "  <spacy.pipeline.attributeruler.AttributeRuler at 0x7f13374af7c0>),\n",
       " ('lemmatizer',\n",
       "  <spacy.lang.en.lemmatizer.EnglishLemmatizer at 0x7f1318406300>),\n",
       " ('ner', <spacy.pipeline.ner.EntityRecognizer at 0x7f13187136f0>)]"
      ]
     },
     "execution_count": 2,
     "metadata": {},
     "output_type": "execute_result"
    }
   ],
   "source": [
    "nlp.pipeline"
   ]
  },
  {
   "cell_type": "markdown",
   "metadata": {
    "id": "RBKqIZyKrF_F"
   },
   "source": [
    "This figure shows how works the spacy pipeline with each different steps.\n",
    "\n",
    "![spacy_nlp_pipeline.JPG](data:image/jpeg;base64,/9j/4AAQSkZJRgABAQEAYABgAAD/4RD4RXhpZgAATU0AKgAAAAgABAE7AAIAAAAPAAAISodpAAQAAAABAAAIWpydAAEAAAAeAAAQ0uocAAcAAAgMAAAAPgAAAAAc6gAAAAgAAAAAAAAAAAAAAAAAAAAAAAAAAAAAAAAAAAAAAAAAAAAAAAAAAAAAAAAAAAAAAAAAAAAAAAAAAAAAAAAAAAAAAAAAAAAAAAAAAAAAAAAAAAAAAAAAAAAAAAAAAAAAAAAAAAAAAAAAAAAAAAAAAAAAAAAAAAAAAAAAAAAAAAAAAAAAAAAAAAAAAAAAAAAAAAAAAAAAAAAAAAAAAAAAAAAAAAAAAAAAAAAAAAAAAAAAAAAAAAAAAAAAAAAAAAAAAAAAAAAAAAAAAAAAAAAAAAAAAAAAAAAAAAAAAAAAAAAAAAAAAAAAAAAAAAAAAAAAAAAAAAAAAAAAAAAAAAAAAAAAAAAAAAAAAAAAAAAAAAAAAAAAAAAAAAAAAAAAAAAAAAAAAAAAAAAAAAAAAAAAAAAAAAAAAAAAAAAAAAAAAAAAAAAAAAAAAAAAAAAAAAAAAAAAAAAAAAAAAAAAAAAAAAAAAAAAAAAAAAAAAAAAAAAAAAAAAAAAAAAAAAAAAAAAAAAAAAAAAAAAAAAAAAAAAAAAAAAAAAAAAAAAAAAAAAAAAAAAAAAAAAAAAAAAAAAAAAAAAAAAAAAAAAAAAAAAAAAAAAAAAAAAAAAAAAAAAAAAAAAAAAAAAAAAAAAAAAAAAAAAAAAAAAAAAAAAAAAAAAAAAAAAAAAAAAAAAAAAAAAAAAAAAAAAAAAAAAAAAAAAAAAAAAAAAAAAAAAAAAAAAAAAAAAAAAAAAAAAAAAAAAAAAAAAAAAAAAAAAAAAAAAAAAAAAAAAAAAAAAAAAAAAAAAAAAAAAAAAAAAAAAAAAAAAAAAAAAAAAAAAAAAAAAAAAAAAAAAAAAAAAAAAAAAAAAAAAAAAAAAAAAAAAAAAAAAAAAAAAAAAAAAAAAAAAAAAAAAAAAAAAAAAAAAAAAAAAAAAAAAAAAAAAAAAAAAAAAAAAAAAAAAAAAAAAAAAAAAAAAAAAAAAAAAAAAAAAAAAAAAAAAAAAAAAAAAAAAAAAAAAAAAAAAAAAAAAAAAAAAAAAAAAAAAAAAAAAAAAAAAAAAAAAAAAAAAAAAAAAAAAAAAAAAAAAAAAAAAAAAAAAAAAAAAAAAAAAAAAAAAAAAAAAAAAAAAAAAAAAAAAAAAAAAAAAAAAAAAAAAAAAAAAAAAAAAAAAAAAAAAAAAAAAAAAAAAAAAAAAAAAAAAAAAAAAAAAAAAAAAAAAAAAAAAAAAAAAAAAAAAAAAAAAAAAAAAAAAAAAAAAAAAAAAAAAAAAAAAAAAAAAAAAAAAAAAAAAAAAAAAAAAAAAAAAAAAAAAAAAAAAAAAAAAAAAAAAAAAAAAAAAAAAAAAAAAAAAAAAAAAAAAAAAAAAAAAAAAAAAAAAAAAAAAAAAAAAAAAAAAAAAAAAAAAAAAAAAAAAAAAAAAAAAAAAAAAAAAAAAAAAAAAAAAAAAAAAAAAAAAAAAAAAAAAAAAAAAAAAAAAAAAAAAAAAAAAAAAAAAAAAAAAAAAAAAAAAAAAAAAAAAAAAAAAAAAAAAAAAAAAAAAAAAAAAAAAAAAAAAAAAAAAAAAAAAAAAAAAAAAAAAAAAAAAAAAAAAAAAAAAAAAAAAAAAAAAAAAAAAAAAAAAAAAAAAAAAAAAAAAAAAAAAAAAAAAAAAAAAAAAAAAAAAAAAAAAAAAAAAAAAAAAAAAAAAAAAAAAAAAAAAAAAAAAAAAAAAAAAAAAAAAAAAAAAAAAAAAAAAAAAAAAAAAAAAAAAAAAAAAAAAAAAAAAAAAAAAAAAAAAAAAAAAAAAAAAAAAAAAAAAAAAAAAAAAAAAAAAAAAAAAAAAAAAAAAAAAAAAAAAAAAAAAAAAAAAAAAAAAAAAAAAAAAAAAAAAAAAAAAAAAAAAAAAAAAAAAAAAAAAAAAAAAAAAAAAAAAAAAAAAAAAAAAAAAAAAAAAAAAAAAAAAAAAAAAAAAAAAAAAAAAAAAAAAAAAAAAAAAAAAAAAAAAAAAAAAAAAAAAAAAAAAAAAAAAAAAAAAAAAAAAAAAAAAAAAAAAAAAAAAAAAAAAAAAAAAAAAAAAAAAAAAAAAAAAAAAAAAAAAAAAAAAAAAAAAAAAAAAAAAAAAAAAAAAAAAAAAAAAAAAAAAAAAAAAAAAAAAAAAAAAAAAAAAAAAAAAAAAAAAAAAAAAAAAAAAAAAAAAAAAAAAAAAAAAAAAAAAAAAAAAAAAAAAAAAAAAAAAAAAAAAAAAAAAAAAAAAAAAAAAAAAAAAAAAAAAAAAAAAAAAAAAAAAAAAAAAAAAAAAAAAAAAAAAAAAAAAAAAAAAAAAAAAAAAAAAAAAAAAAAAAAAAAAAAAAAAAAAAAAAAAAAAAAAAAAAAAAAAAAAAAAAAAAAAAAAAAAAAAAAAAAAAAAAAAAAAAAAAAAAAAAAAAAAAAAAAAAAAAAAAAAAAAAAAAAAAAAAAAAAAAAAAAAAAAAAAAAAAAAAAAAAAAAAAAAAAAAAAAAAAAAAAAAAAAAAAAAAAAAAAAAAAAAAAAAAAAAAAAAAAAAAAAAAAAAAAAAAAAAAAAAAAAAAAAAAAAAAAAAAAAAAAAAAAAAAAAAAAAAAAAAAAAAAAAAAAAAAAAAAAAAAAAAAAAAAAAAAAAAAAAAAAAAAAAAAAAAAAAAAAAAAAAAAAAAAAAAAAAAAAAAAAAAAAAAAAAAAAAAAAAAAAAAAAAAAAAAAAAAAAAAAAAAAAAAAAAAAAAAAAAAAAAAAAAAAAAAAAAAAAAAAAAAAAAAAAAAAFJvbWFpbiBCZW5hc3NpAAAABZADAAIAAAAUAAAQqJAEAAIAAAAUAAAQvJKRAAIAAAADMTQAAJKSAAIAAAADMTQAAOocAAcAAAgMAAAInAAAAAAc6gAAAAgAAAAAAAAAAAAAAAAAAAAAAAAAAAAAAAAAAAAAAAAAAAAAAAAAAAAAAAAAAAAAAAAAAAAAAAAAAAAAAAAAAAAAAAAAAAAAAAAAAAAAAAAAAAAAAAAAAAAAAAAAAAAAAAAAAAAAAAAAAAAAAAAAAAAAAAAAAAAAAAAAAAAAAAAAAAAAAAAAAAAAAAAAAAAAAAAAAAAAAAAAAAAAAAAAAAAAAAAAAAAAAAAAAAAAAAAAAAAAAAAAAAAAAAAAAAAAAAAAAAAAAAAAAAAAAAAAAAAAAAAAAAAAAAAAAAAAAAAAAAAAAAAAAAAAAAAAAAAAAAAAAAAAAAAAAAAAAAAAAAAAAAAAAAAAAAAAAAAAAAAAAAAAAAAAAAAAAAAAAAAAAAAAAAAAAAAAAAAAAAAAAAAAAAAAAAAAAAAAAAAAAAAAAAAAAAAAAAAAAAAAAAAAAAAAAAAAAAAAAAAAAAAAAAAAAAAAAAAAAAAAAAAAAAAAAAAAAAAAAAAAAAAAAAAAAAAAAAAAAAAAAAAAAAAAAAAAAAAAAAAAAAAAAAAAAAAAAAAAAAAAAAAAAAAAAAAAAAAAAAAAAAAAAAAAAAAAAAAAAAAAAAAAAAAAAAAAAAAAAAAAAAAAAAAAAAAAAAAAAAAAAAAAAAAAAAAAAAAAAAAAAAAAAAAAAAAAAAAAAAAAAAAAAAAAAAAAAAAAAAAAAAAAAAAAAAAAAAAAAAAAAAAAAAAAAAAAAAAAAAAAAAAAAAAAAAAAAAAAAAAAAAAAAAAAAAAAAAAAAAAAAAAAAAAAAAAAAAAAAAAAAAAAAAAAAAAAAAAAAAAAAAAAAAAAAAAAAAAAAAAAAAAAAAAAAAAAAAAAAAAAAAAAAAAAAAAAAAAAAAAAAAAAAAAAAAAAAAAAAAAAAAAAAAAAAAAAAAAAAAAAAAAAAAAAAAAAAAAAAAAAAAAAAAAAAAAAAAAAAAAAAAAAAAAAAAAAAAAAAAAAAAAAAAAAAAAAAAAAAAAAAAAAAAAAAAAAAAAAAAAAAAAAAAAAAAAAAAAAAAAAAAAAAAAAAAAAAAAAAAAAAAAAAAAAAAAAAAAAAAAAAAAAAAAAAAAAAAAAAAAAAAAAAAAAAAAAAAAAAAAAAAAAAAAAAAAAAAAAAAAAAAAAAAAAAAAAAAAAAAAAAAAAAAAAAAAAAAAAAAAAAAAAAAAAAAAAAAAAAAAAAAAAAAAAAAAAAAAAAAAAAAAAAAAAAAAAAAAAAAAAAAAAAAAAAAAAAAAAAAAAAAAAAAAAAAAAAAAAAAAAAAAAAAAAAAAAAAAAAAAAAAAAAAAAAAAAAAAAAAAAAAAAAAAAAAAAAAAAAAAAAAAAAAAAAAAAAAAAAAAAAAAAAAAAAAAAAAAAAAAAAAAAAAAAAAAAAAAAAAAAAAAAAAAAAAAAAAAAAAAAAAAAAAAAAAAAAAAAAAAAAAAAAAAAAAAAAAAAAAAAAAAAAAAAAAAAAAAAAAAAAAAAAAAAAAAAAAAAAAAAAAAAAAAAAAAAAAAAAAAAAAAAAAAAAAAAAAAAAAAAAAAAAAAAAAAAAAAAAAAAAAAAAAAAAAAAAAAAAAAAAAAAAAAAAAAAAAAAAAAAAAAAAAAAAAAAAAAAAAAAAAAAAAAAAAAAAAAAAAAAAAAAAAAAAAAAAAAAAAAAAAAAAAAAAAAAAAAAAAAAAAAAAAAAAAAAAAAAAAAAAAAAAAAAAAAAAAAAAAAAAAAAAAAAAAAAAAAAAAAAAAAAAAAAAAAAAAAAAAAAAAAAAAAAAAAAAAAAAAAAAAAAAAAAAAAAAAAAAAAAAAAAAAAAAAAAAAAAAAAAAAAAAAAAAAAAAAAAAAAAAAAAAAAAAAAAAAAAAAAAAAAAAAAAAAAAAAAAAAAAAAAAAAAAAAAAAAAAAAAAAAAAAAAAAAAAAAAAAAAAAAAAAAAAAAAAAAAAAAAAAAAAAAAAAAAAAAAAAAAAAAAAAAAAAAAAAAAAAAAAAAAAAAAAAAAAAAAAAAAAAAAAAAAAAAAAAAAAAAAAAAAAAAAAAAAAAAAAAAAAAAAAAAAAAAAAAAAAAAAAAAAAAAAAAAAAAAAAAAAAAAAAAAAAAAAAAAAAAAAAAAAAAAAAAAAAAAAAAAAAAAAAAAAAAAAAAAAAAAAAAAAAAAAAAAAAAAAAAAAAAAAAAAAAAAAAAAAAAAAAAAAAAAAAAAAAAAAAAAAAAAAAAAAAAAAAAAAAAAAAAAAAAAAAAAAAAAAAAAAAAAAAAAAAAAAAAAAAAAAAAAAAAAAAAAAAAAAAAAAAAAAAAAAAAAAAAAAAAAAAAAAAAAAAAAAAAAAAAAAAAAAAAAAAAAAAAAAAAAAAAAAAAAAAAAAAAAAAAAAAAAAAAAAAAAAAAAAAAAAAAAAAAAAAAAAAAAAAAAAAAAAAAAAAAAAAAAAAAAAAAAAAAAAAAAAAAAAAAAAAAAAAAAAAAAAAAAAAAAAAAAAAAAAAAAAAAAAAAAAAAAAAAAAAAAAAAAAAAAAAAAAAAAAAAAAAAAAAAAAAAAAAAAAAAAAAAAAAAAAAAAAAAAAAAAAAAAAAAAAAAAAAAAAAAAAAAAAAAAAAAAAAAAAAAAAAAAAAAAAAAAAAAAAAAAAAAAAAAAAAAAAAAAAAAAAAAAAAAAAAAAAAAAAAAAAAAAAAAAAAAAAAAAAAAAAAAAAAAAAAAAAAAAAAAAAAAAAAAAAAAAAAAAAAAAAAAAAAAAAAAAAAAAAAAAAAAAAAADIwMjE6MDU6MzAgMjE6MDY6MTIAMjAyMTowNTozMCAyMTowNjoxMgAAAFIAbwBtAGEAaQBuACAAQgBlAG4AYQBzAHMAaQAAAP/hCyFodHRwOi8vbnMuYWRvYmUuY29tL3hhcC8xLjAvADw/eHBhY2tldCBiZWdpbj0n77u/JyBpZD0nVzVNME1wQ2VoaUh6cmVTek5UY3prYzlkJz8+DQo8eDp4bXBtZXRhIHhtbG5zOng9ImFkb2JlOm5zOm1ldGEvIj48cmRmOlJERiB4bWxuczpyZGY9Imh0dHA6Ly93d3cudzMub3JnLzE5OTkvMDIvMjItcmRmLXN5bnRheC1ucyMiPjxyZGY6RGVzY3JpcHRpb24gcmRmOmFib3V0PSJ1dWlkOmZhZjViZGQ1LWJhM2QtMTFkYS1hZDMxLWQzM2Q3NTE4MmYxYiIgeG1sbnM6ZGM9Imh0dHA6Ly9wdXJsLm9yZy9kYy9lbGVtZW50cy8xLjEvIi8+PHJkZjpEZXNjcmlwdGlvbiByZGY6YWJvdXQ9InV1aWQ6ZmFmNWJkZDUtYmEzZC0xMWRhLWFkMzEtZDMzZDc1MTgyZjFiIiB4bWxuczp4bXA9Imh0dHA6Ly9ucy5hZG9iZS5jb20veGFwLzEuMC8iPjx4bXA6Q3JlYXRlRGF0ZT4yMDIxLTA1LTMwVDIxOjA2OjEyLjE0NDwveG1wOkNyZWF0ZURhdGU+PC9yZGY6RGVzY3JpcHRpb24+PHJkZjpEZXNjcmlwdGlvbiByZGY6YWJvdXQ9InV1aWQ6ZmFmNWJkZDUtYmEzZC0xMWRhLWFkMzEtZDMzZDc1MTgyZjFiIiB4bWxuczpkYz0iaHR0cDovL3B1cmwub3JnL2RjL2VsZW1lbnRzLzEuMS8iPjxkYzpjcmVhdG9yPjxyZGY6U2VxIHhtbG5zOnJkZj0iaHR0cDovL3d3dy53My5vcmcvMTk5OS8wMi8yMi1yZGYtc3ludGF4LW5zIyI+PHJkZjpsaT5Sb21haW4gQmVuYXNzaTwvcmRmOmxpPjwvcmRmOlNlcT4NCgkJCTwvZGM6Y3JlYXRvcj48L3JkZjpEZXNjcmlwdGlvbj48L3JkZjpSREY+PC94OnhtcG1ldGE+DQogICAgICAgICAgICAgICAgICAgICAgICAgICAgICAgICAgICAgICAgICAgICAgICAgICAgICAgICAgICAgICAgICAgICAgICAgICAgICAgICAgICAgICAgICAgICAgICAgICAgCiAgICAgICAgICAgICAgICAgICAgICAgICAgICAgICAgICAgICAgICAgICAgICAgICAgICAgICAgICAgICAgICAgICAgICAgICAgICAgICAgICAgICAgICAgICAgICAgICAgICAKICAgICAgICAgICAgICAgICAgICAgICAgICAgICAgICAgICAgICAgICAgICAgICAgICAgICAgICAgICAgICAgICAgICAgICAgICAgICAgICAgICAgICAgICAgICAgICAgICAgIAogICAgICAgICAgICAgICAgICAgICAgICAgICAgICAgICAgICAgICAgICAgICAgICAgICAgICAgICAgICAgICAgICAgICAgICAgICAgICAgICAgICAgICAgICAgICAgICAgICAgCiAgICAgICAgICAgICAgICAgICAgICAgICAgICAgICAgICAgICAgICAgICAgICAgICAgICAgICAgICAgICAgICAgICAgICAgICAgICAgICAgICAgICAgICAgICAgICAgICAgICAKICAgICAgICAgICAgICAgICAgICAgICAgICAgICAgICAgICAgICAgICAgICAgICAgICAgICAgICAgICAgICAgICAgICAgICAgICAgICAgICAgICAgICAgICAgICAgICAgICAgIAogICAgICAgICAgICAgICAgICAgICAgICAgICAgICAgICAgICAgICAgICAgICAgICAgICAgICAgICAgICAgICAgICAgICAgICAgICAgICAgICAgICAgICAgICAgICAgICAgICAgCiAgICAgICAgICAgICAgICAgICAgICAgICAgICAgICAgICAgICAgICAgICAgICAgICAgICAgICAgICAgICAgICAgICAgICAgICAgICAgICAgICAgICAgICAgICAgICAgICAgICAKICAgICAgICAgICAgICAgICAgICAgICAgICAgICAgICAgICAgICAgICAgICAgICAgICAgICAgICAgICAgICAgICAgICAgICAgICAgICAgICAgICAgICAgICAgICAgICAgICAgIAogICAgICAgICAgICAgICAgICAgICAgICAgICAgICAgICAgICAgICAgICAgICAgICAgICAgICAgICAgICAgICAgICAgICAgICAgICAgICAgICAgICAgICAgICAgICAgICAgICAgCiAgICAgICAgICAgICAgICAgICAgICAgICAgICAgICAgICAgICAgICAgICAgICAgICAgICAgICAgICAgICAgICAgICAgICAgICAgICAgICAgICAgICAgICAgICAgICAgICAgICAKICAgICAgICAgICAgICAgICAgICAgICAgICAgICAgICAgICAgICAgICAgICAgICAgICAgICAgICAgICAgICAgICAgICAgICAgICAgICAgICAgICAgICAgICAgICAgICAgICAgIAogICAgICAgICAgICAgICAgICAgICAgICAgICAgICAgICAgICAgICAgICAgICAgICAgICAgICAgICAgICAgICAgICAgICAgICAgICAgICAgICAgICAgICAgICAgICAgICAgICAgCiAgICAgICAgICAgICAgICAgICAgICAgICAgICAgICAgICAgICAgICAgICAgICAgICAgICAgICAgICAgICAgICAgICAgICAgICAgICAgICAgICAgICAgICAgICAgICAgICAgICAKICAgICAgICAgICAgICAgICAgICAgICAgICAgICAgICAgICAgICAgICAgICAgICAgICAgICAgICAgICAgICAgICAgICAgICAgICAgICAgICAgICAgICAgICAgICAgICAgICAgIAogICAgICAgICAgICAgICAgICAgICAgICAgICAgICAgICAgICAgICAgICAgICAgICAgICAgICAgICAgICAgICAgICAgICAgICAgICAgICAgICAgICAgICAgICAgICAgICAgICAgCiAgICAgICAgICAgICAgICAgICAgICAgICAgICAgICAgICAgICAgICAgICAgICAgICAgICAgICAgICAgICAgICAgICAgICAgICAgICAgICAgICAgICAgICAgICAgICAgICAgICAKICAgICAgICAgICAgICAgICAgICAgICAgICAgICAgICAgICAgICAgICAgICAgICAgICAgICAgICAgICAgICAgICAgICAgICAgICAgICAgICAgICAgICAgICAgICAgICAgICAgIAogICAgICAgICAgICAgICAgICAgICAgICAgICAgICAgICAgICAgICAgICAgICAgICAgICAgICAgICAgICAgICAgICAgICAgICAgICAgICAgICAgICAgICAgICAgICAgICAgICAgCiAgICAgICAgICAgICAgICAgICAgICAgICAgICAgICAgICAgICAgICAgICAgICAgICAgICAgICAgICAgICAgICAgICAgICAgICAgICAgICAgICAgICAgICAgICAgICAgICAgICAKICAgICAgICAgICAgICAgICAgICAgICAgICAgIDw/eHBhY2tldCBlbmQ9J3cnPz7/2wBDAAcFBQYFBAcGBQYIBwcIChELCgkJChUPEAwRGBUaGRgVGBcbHichGx0lHRcYIi4iJSgpKywrGiAvMy8qMicqKyr/2wBDAQcICAoJChQLCxQqHBgcKioqKioqKioqKioqKioqKioqKioqKioqKioqKioqKioqKioqKioqKioqKioqKioqKir/wAARCACJAooDASIAAhEBAxEB/8QAHwAAAQUBAQEBAQEAAAAAAAAAAAECAwQFBgcICQoL/8QAtRAAAgEDAwIEAwUFBAQAAAF9AQIDAAQRBRIhMUEGE1FhByJxFDKBkaEII0KxwRVS0fAkM2JyggkKFhcYGRolJicoKSo0NTY3ODk6Q0RFRkdISUpTVFVWV1hZWmNkZWZnaGlqc3R1dnd4eXqDhIWGh4iJipKTlJWWl5iZmqKjpKWmp6ipqrKztLW2t7i5usLDxMXGx8jJytLT1NXW19jZ2uHi4+Tl5ufo6erx8vP09fb3+Pn6/8QAHwEAAwEBAQEBAQEBAQAAAAAAAAECAwQFBgcICQoL/8QAtREAAgECBAQDBAcFBAQAAQJ3AAECAxEEBSExBhJBUQdhcRMiMoEIFEKRobHBCSMzUvAVYnLRChYkNOEl8RcYGRomJygpKjU2Nzg5OkNERUZHSElKU1RVVldYWVpjZGVmZ2hpanN0dXZ3eHl6goOEhYaHiImKkpOUlZaXmJmaoqOkpaanqKmqsrO0tba3uLm6wsPExcbHyMnK0tPU1dbX2Nna4uPk5ebn6Onq8vP09fb3+Pn6/9oADAMBAAIRAxEAPwD6RooooAKKKKACiiigAooooAKKKKACiiigAooooAKKKKACiiigAooooAKKKKACiiigAooooAKKKKACiiigAooooAKKKKACiiigAooooAKKKKACiiigAooooAKKKKACiiigAooooAKKKKACiiigAooooAKKKKACiiigAooooAKKKKACiiigAooooAKKKKACiiigAooooAKKKKACiiigAooooAKKKKACiiigAooooAKKKKACiiigAooooAKKKKACiiigAooooAKKKKACim+YhUsGXaOpzxSllBAJGW6c9aAFopAwLEAjI6jPSk8xNm7cu31zxQA6ik3AMFJGT0GaN68/MPl689KAFopu9doO4Yboc9aXcN23I3YzjNAC0U3zF2ltwwOpz0pS6jGSPm6c9aAFopNwLEAjI6jPSk8xNm/cu31zxQFx1FIWAYKSMnoM9aN6nOCPl689KAFopu9dobcMHoc9aXcN23I3YzjNAC0U3euCdwwvU56Uu9ePmHzdOetAC1T1XUU0rS572RGkES5CL1Yk4A/EkCre4FiuRkdRmsPxeyt4VuSpBG+Lof8ApqtaU4qU4p9WjGvNwpSlHdJlUX3iZuTLpMR/ueRK+323bxn8hS/bPEv/AD86T/4Cy/8AxyrTfeP1NQXt3Fp+n3F5cbhDbxNLIVGTtUEnA78Cuq8ey+45vZNu3M/vYz7Z4l/5+dJ/8BZf/jlH2zxL/wA/Ok/+Asv/AMcrmNS8atP4XvtV8OgLJp5jeaLUrWRC8bgFSoyCNwYEE8cHitW98W6Zp+uNpdyLoTK0KySrbs0MfmkiPc44GSMfWjmj2X3B7P8AvP72aX2zxL/z86T/AOAsv/xymS63remxm71H+z7i0j5mW3ieN1Xuw3MQcdccVdrM8Sf8ixqX/Xs/8quKjKSi0tTOrFwhKcZO6V92deDkZFFMjYbVXIztBxml8xNpbcu0dTnpXnHpXHUUhZQQCRlunPWgMCxAIyOoz0oGLRTfMTZu3Lt9c8UpYBgpIyegz1oAWik3qc/MPl689KTeu0HcMN0OetAXHUUm4btuRuxnGaTzF2ltwwOpz0oAdRSF1GMsPm6c9aNwLEAjI6jPSgBaKb5ibN+5dvrnilLAMFJGT0GetAXFopNynOCPl689KTzE2htwwehz1oAdRSbhu25G7GcZpN64J3DC9TnpQA6ik3rx8w+bpz1o3DcVyMjkjNAC0UUUAFFFFABRRRQAUUUUAFFFFABRRRQAUUUUAFFFFABRRRQAUUUUAFFFFABRRRQAUUUUAFFFFABRRRQAUUUUAFFFFAFXUbqazsnmtbSS8kBAEMbAFsnB5Pp1ojsVTUpb3zZy0kaxmJpMxrjnIXseetNeKVtYilF8VjWFg1pgfOSeHz146Vcq72VkZJc0rvp/V/x6memg6ZHpcumpZxrZzEmSEZwxJyaml020muLWaWBWksyTAxz+7yMHH4Vaopc8u4/ZwSsor/htitHp9rDd3N1HCqz3QUTOOrhRgZ+gNQDQtNGkppgs4/sSEMsPOAQ24frzWhRRzy7h7OHZdfx3+/qVpNPtZdQivpIVa5hRkjkPVVbqKaml2UYuwlugF6S1x1/eEjBz+FW6KOaXcfJDexROjaebO1tDaoYLR1eBOcRsv3SPpUv9n2o1M6h5K/azF5Jl77M52/nVmijml3D2cOyKC6Jpy2FzZLaILa6Znmj5w5b7xP1qSTTLOaS0eS3Vmszm3Jz+7OMcfhVuijnl3F7OG1kV4rC2hvp7yKFVuLhVWWQdWC9PyquNB0xdI/ssWcYss58jnbndu/nzWhRRzy7/ANIHTg90uv47/f1K0mn2s19Beywq1xbqyxSHqgbrj60iaZZxvduluqteHNwef3hxjn8OKtUUc0u4+SF72/rb8ij/AGLp/wBgt7L7Kn2a2ZXhj5whU5Uj6VKdPtTqQ1Awr9qWLyRL3CZzj86s0Uc8u4ezgui/4bYpDR7BbW7thaoIbx3e4TnEjN94n6059KsnS0V7dCtkwa3HP7sgYGPwq3RRzy7h7OHZFZNPtY9QkvkhUXMqCN5e7KOgrD8S6fa6f4NuYLOFYYhLG+1em4yqSfzrpaoa3px1bRrizSQRPIo2ORkKwIIJHpkCtKc2pxbel1+BjXpKVKSitWn+P+ZSb7x+pqvfWcWo6dc2Vxu8m5heGTacHaylTg9jg1F5muLxJoLO/doruPaT6jODj6ijzdZ/6F6f/wAC4f8AGunl8196/wAzH2yvez/8Bl/kZOoeCdP1CyurU3eoW8V2IVn+z3AQyLEmxVJKnjABPqRmqyeChN4mmv8AUr67ubUR2gjhe4/10kO475gFG4gkEc49RW/5us/9C9P/AOBcP+NHm6z/ANC9P/4Fw/40uRXvdfev8w9tHs//AAGX+RdrM8Sf8ixqX/Xs/wDKpvN1n/oXp/8AwLh/xqG5sdY1i3ewk0z7DDONk081wj7U77VXqccc4FaQtGSba+9GVWfPTlGKd2n9l/5HSxWFst79vEKi6aERNL3KA5A/OohomnDTp7AWkYtbhmaWLnDljkn8avKMKAOgpa8/nl3PQ9nDql/w+5Vl0yzmmtZpbdWksyTAxz+7yMHH4Usen2sV5cXccKrPchVmcdXCjAz9BVmijmltcfJC97f1t+WhnjQtMGkrpYs4/sStuEPO0Hdu/nzU8mn2suoQ3skKtcwKyRyHqobqKs0Uc8u4lTgtkun4bfd0KiaXZx/a9luo+2Etcdf3hIxz+HFMbRtPeztbVrVDBZsjwJziMr90j6Veoo55dx+zh2RX+wW39pfb/JX7V5Xk+b32Zzt/PmoV0XT1sbmzW1QW90zPNHzhy33ifrV6ijml3D2cH0X/AA5Uk0uyma0aS3RjZndbk5/dnGOPwp8dhaxX015HCq3E6qkkg6sF6D8KsUUc0u4ckL3t/Wxn/wBg6Z/ZB0v7HH9iY5MHO3O7d/Pmp5dPtZ76C8lhVri3DCKQ9UDcHH1qzRRzy7/0xezgui6fht93QqpptnHJdukChrw5nPP7zjbz+HFRf2Jp39n29j9kT7NbMrxRc4Qqcgj6Vfoo55dx+zh2RWOn2rakuoGFTdLEYhL3CE5x+dRro9gtrd262qCG8dnuE5xIzcMT9au0Uc0u4ezh2RTbSbF4rONrZClkytbjn92VGBj6Cnpp9rHqEl8kKi6kjEby92UdBVmijml3D2cOxliwm0nT0g0KKNv34ZxcyscKzZcg8nPpWpQazNE/s6OG5ttKlaRYLl1mDMzFJCcsMn6/Sqd5Jt7/ANbkJKElFbdvTsjTooorM2CiiigAooooAKKKKACiiigAooooAKKKKACiiigAooooAKrX2oW2nQrLeSiJGbYpIJycE44+hqzWVrf+v0n/AK/h/wCi5KAE/wCEm0n/AJ+//IT/AOFH/CTaT/z9/wDkJ/8ACrm5v7x/Ojc394/nQBT/AOEm0n/n7/8AIT/4Uf8ACTaT/wA/f/kJ/wDCrm5v7x/Ojc394/nQBT/4SbSf+fv/AMhP/hR/wk2k/wDP3/5Cf/Crm5v7x/Ojc394/nQBT/4SbSf+fv8A8hP/AIUf8JNpP/P3/wCQn/wq5ub+8fzo3N/eP50AU/8AhJtJ/wCfv/yE/wDhVqx1ay1F3WznEjRgFhtIwD06j2NO3N/eP51SsiT4nvcnP+iw/wDoT0Aa9FFFAGYzWH/CToptWN/9kJFx5Z2iPd93d0znnFadVS19/aqqI4fsPk5L7j5nmZ6Y6Yx3pdRsYtT02ezuN3lzoUYqcEe4PqOtVLoRTSu79+39XLNFea6bolk0ctrf2v8Aptm/kz4lcbj1Djnowwau/wDCO6X/AM+v/kV/8a5/aPsek8JFfa/D/gne0VwX/CO6X/z6/wDkV/8AGj/hHdL/AOfX/wAiv/jT9o+wfVY/zfh/wTvaK4L/AIR3S/8An1/8iv8A40f8I7pf/Pr/AORX/wAaPaPsH1WP834f8E72iuC/4R3S/wDn1/8AIr/40f8ACO6X/wA+v/kV/wDGj2j7B9Vj/N+H/BO9orjdDlXQdbWyBZbDUP8AVBmJEU4H3cnsyjP1X3rsquMuZHLVpunKwUUhGRg81yK6PaW+pz2VxCW/5bQOXb5oyeR16qePoRXPiK06XLyxvfzt+jHSpqd7ux19Fcz/AGJp/wDz7/8AkRv8aP7E0/8A59//ACI3+NY/Wa38i/8AAn/8ia+wj/N+H/BOmormf7E0/wD59/8AyI3+NH9iaf8A8+//AJEb/Gj6zW/kX/gT/wDkQ9hH+b8P+CdNRXM/2Jp//Pv/AORG/wAaP7E0/wD59/8AyI3+NH1mt/Iv/An/APIh7CP834f8E6aiuZ/sTT/+ff8A8iN/jVG50qztL+GVof8ARpv3Tgu3yP8Awt16HofwqJ4ytBXcF/4E/wD5Eaw8X9r8P+CdpRXM/wBiaf8A8+//AJEb/Gj+xNP/AOff/wAiN/jV/Wa38i/8Cf8A8iL2Ef5vw/4J01Fcz/Ymn/8APv8A+RG/xo/sTT/+ff8A8iN/jR9ZrfyL/wACf/yIewj/ADfh/wAE6aiuZ/sTT/8An3/8iN/jR/Ymn/8APv8A+RG/xo+s1v5F/wCBP/5EPYR/m/D/AIJ01Fcz/Ymn/wDPv/5Eb/Gq99oNs9o/2SLZOvzRne2CR2PPQ9KmWKrpN8if/bz/APkRrDxb+L8P+CddRXJWen6Ze2kc8duQHHKmRsqe4PPUHip/7E0//n3/APIjf40RxdWSUlFWf95//IieHina/wCH/BOmormf7E0//n3/APIjf40f2Jp//Pv/AORG/wAar6zW/kX/AIE//kQ9hH+b8P8AgnTUVzP9iaf/AM+//kRv8aP7E0//AJ9//Ijf40fWa38i/wDAn/8AIh7CP834f8E6aiuZ/sTT/wDn3/8AIjf40f2Jp/8Az7/+RG/xo+s1v5F/4E//AJEPYR/m/D/gnTUVxVlpdnHeTWNzEWdP3kTl2+eMn69QePyq/wD2Jp//AD7/APkRv8aiGMqzV+Rf+BP/AORG8PFP4vw/4J01Fcz/AGJp/wDz7/8AkRv8aP7E0/8A59//ACI3+NX9ZrfyL/wJ/wDyIvYR/m/D/gnTUVzP9iaf/wA+/wD5Eb/Gj+xNP/59/wDyI3+NH1mt/Iv/AAJ//Ih7CP8AN+H/AATpqK5n+xNP/wCff/yI3+NH9iaf/wA+/wD5Eb/Gj6zW/kX/AIE//kQ9hH+b8P8AgnTUVzCJHod3HdW4KWzHy7ldxIAJ4fn0PX2NdOK6KFb2t1JWa/ryMalPkfkFVLKe6me5F3Z/ZhHMyxHzA3mp2fjpn0q3VSxinie5Nxffag8zNGNir5K9k4649TzXUrWZzyvzL/gf19xboooqSyjqOtWGkmMahcCEy52AqTux16D3ql/wmOhf8/4/79P/AIVV8RHHiHSscfubj/2Smbj/AHj+daqKsmzRRVi7/wAJjoX/AD/j/v0/+FH/AAmOhf8AP+P+/T/4VS3H+8fzo3H+8fzp8kQ5UXf+Ex0L/n/H/fp/8KP+Ex0L/n/H/fp/8Kpbj/eP50bj/eP50ckQ5UXf+Ex0L/n/AB/36f8Awo/4THQv+f8AH/fp/wDCqW4/3j+dG4/3j+dHJEOVF3/hMdC/5/x/36f/AAo/4THQv+f8f9+n/wAKpbj/AHj+dG4/3j+dHJEOVG5p2q2WrRPJp84mSNtjEKRg4zjkehq5XPeFTm41jP8Az9j/ANFJXQ1nJWdiGrMKKKKkQUUUUAFZWt/6/Sf+v4f+i5K1aytb/wBfpP8A1/D/ANFyUAWqKKKACuV1rxTrOla3b2EHhk3aXkzQ2s41KOPzSIy5ypGV4Vuvp711VYeuWNzdeIfDVxbwtJFZ30ss7gj92pt5FBP/AAIgfjR1GTWXiLT7iYWc91aw6kke6eyW4WR4iBllyOpHfH5VX1fxlomkaKdSlvYp4jbi5iWFwzSxlgoZfbLAZrl9J8OapZT2FpfQavcf2dfyXnmrPAts3zSMHTC+YzNvwUOOScnA5rReFtbt9G1+IaSvma3bG5ijicf6E4k3fZMk4wQxYEcbzJ2xQtRHpcM0dxAk0Dh45FDIw6MD0NSVHDKZ4UlaKSIyKGMcgAZM9jjPIqSgAqlZf8jNe/8AXrD/AOhPV2sn7JJdeJroR3k9rttYc+Tt+b5n65BoA6HNRSXMMMkccsqI8pwgY43H0HvVD+yLj/oM3/5x/wDxNZOv+HL7ULWK2gvri43SBma4ZNkYHfhck/SgDbaKP+3lk/tCQSfZyv2LzBtI3f6zb1z2zV+uf0ixXS9SjtLhbm9uvs24X8kQ2ou7/VB+vXnBJroKuXQyp21t3OV8U2v9n3kOuxDEagQXoHeMn5X/AOAsfyJ9KK6W5iimtpIrlVaF0KyK3QqRzn2xXEaC7NpEfzNJCrMtvI/3pIQ2EY+5X+hrlmrM9fDzcqdn0NKkyMgZGT0Ga8t0/WdS02TUbc64EN34mltJru4jjP2JNpIbB4G/AUbvlGOBWdq/inWmudG1O1jjvLy3j1SBLuOMbXhRowbkJnDYUE7RwSOOKOX+vlcHVS/rzseyUV5vc+MNa/4TBLHTrq0msoTZqjTzQRfbUlALSDOGJP8AD5fAIwamsfEutt4gtGm1COW0uPEN1pX2X7OgxGisytvHO4bfy60cr/r+vMftYnoIIYZUgj1BzS15FYeJtQk03w1Y6Vr1ppl3emR7iH7NbpbwwLO4aQ5Awx+6FHU5PrWxpni/Xr7xddQObWO0S4u4DavNCJI1iUlHVM+YTwCcjaQ3FDjb+uwKqn+H4neX9mt9ZPAXMbHDJIvWNwcqw9wQDW/4e1U6tpSyTqEuomMNzGP4JF6/geCPYiuH8C3eo6l4P0/U9YvxeT30CTnbCsax5HQbevrk/wAq1rCW6t/Fkg0mFZ2mtQ15G77FXBxG2cH5j8wxjkD2pq8ZWFUSq0r/ADO2rM1uzkntVuLVc3Vq3mRD+/8A3k/EcfXFJ9r1r/oGW3/gYf8A4isHWdT1+31i0FlbKJ3Q7raOUzK6g8EjA29+c/yqqlNVIOD6nnxk4yujXt547m3jmhOUkUMp9qkrM0lp/tN4kkKQqJASiPuVJCMuoPpnB9iSK0z0rzKcnKOu+33aHoPyCivJU1260bUfE6S+IZluLjxALWFPIgZowYgwIMjKqAgYBb5fl4BJNPsfHmsaho+gvc6tZ6W1zZXtxNdvCjLPJBJsWIAnaMj5jt5OOK35Ha/9bXMvaK9v63ser0V43d/EDX/+EYN42s2un3MHh231CNZLaMm+nk3BsA9AuAMKOp54rZh8ZeILj4hDTka0jtIr2C1a3mmhjaaN4lZpFBPmM2WJG35cKR1p+zlewvaq1z0uorm3juraSCYZSRSrVzHw/wBQ1XWdDk1PVtRF151xPFFEsCIsSxzOg5HLEgDOfT611lZyivhZpGV9UUtNuJJIXguTm4t28uQ/3vRvxHP51drNuPk1y0MHMsiMsy9vLHIY+4bgfU1pdqwot2cX00/r9fMuXfuFFeZeL/GGraT4h8QRWutWtoml2Ftd2tlLboxu5GLbo8n5jnAGF5yRj3d/wnN/J8RLKwt73daTag9jcWksMSeSywl8L8xlYhv4iAp6Ad66uRtGPtEel0V5PH4n8Ut4B0fWBrdu8+pTOZEK20Eiom8bYfMwjNlQTuOcDjFR3/xF16dtNOjzW8ccmmRXgkvfJtVunaQowYSMSF+XGIyTlgckYp+zbdgdRI9corlPDmoarqfi7xELvUB9i029FtDZrAnGYY3yz/eJBY4+vPaurqGrFxlczF/4l+rlelvenK+iygcj/gQGfqK06pausR0qczsUVF3Ky9VYfdI984qxatK1rE1yoWUoC6js2Oa5qfuTcOm/3/8AB2/4Bo9VcloormvHGqX+laXp7aVcpbTXWqWtqZHiEgCSPtbg+1dCV3YzbsrnS0V5NeeN/EdtZR2K3cTzDWb2wfUWWCHKwqGQHzP3Ssc8+oU45rc0PXdf1nxVpdpc39vbRHRItQuYbRI5kmkMpQ7ZOcIRzkfhV+ze/wDXcj2i2/rex3tFFFQaFDVIJDGl1bLuuLU70A/jX+JPxH6gVbt547m3jmhbdHIoZT6g1IazdL+S6vooObVJvkPo5GXUewP6k1zv3Kqt9r811+7T7i94+hpUUUV0EBRUV1dQWVpLdXk0cFvChkllkbaqKOSST0Aqp/b+keYY/wC07TeJIoivnLnfIMxr9WHIHcUWYrpGhRRRQMbLGksTRyKGRgVZT3B7U7QrlhHJp9wxaa0wFY9ZIz9xv6H3FFU5y0es6e9tzcNIYyv96LGXz7Dgj3+tQ5ezmqi9H6P+v06ilHmi0dHWZpH9nCXUP7NhaJvtb/aSyMu+Xuwz1+o4rT7Vix2Wp3d1dyXd5NZoJisCW8isGjHRjlTgn0r2V8LPLkvfj/l+vQ2s1FNcw24UzypGHbapY4BPpVD+yLj/AKDN/wDnH/8AE1na5oF7d6W9tBf3Vy0rBds7IEAznccLnjHaoNBPEX/Iw6V/1xuP/ZKZWa+kT6PqWlQXF9Ldkwz4Dfdj4The+K0q3Xwo1WyCiiimMwtT169tddTStM0c6hMbX7U7G8SAIu/Zj5gcnNS2vifT5dMkvL5/7NME5tp4rpgGilH8HGQ3BBGM5BzVDUnvtP8AGy6jDo1/qNtJpn2YtZiM7H87dg73Xt6Zqjb6Xqlrq0XiC4055JJby4nksYXRpIFeJI42HIVmAj5wf4zjOKX9fiJ7/wBdjpZ9e0m1soby41K1jtp+YpTKNsn0Pf8Ap3q8kiSxq8bK6MAyspyCD0INcXpumanpGqf2tJpUs6XAusWdu6F7XzZhIo5IXkDDYPBPcV1mmRSQ6XbRz28FtIsShoLf/VxnH3V9h0oWwdS1RRRTGT+Ff+PjWP8Ar7H/AKKSuirnfCv/AB8ax/19j/0UldFWU/iM5bhRRRUEhRRRQAVla3/r9J/6/h/6LkrVrJ14SKNPmjhlmEN2HdYk3MBscZx9SKALdFZ/9rj/AJ8NR/8AARqP7XH/AD4aj/4CNQBoUVn/ANrj/nw1H/wEaj+1x/z4aj/4CNQBoUVn/wBrj/nw1H/wEaj+1x/z4aj/AOAjUAaFFZ/9rj/nw1H/AMBGo/tcf8+Go/8AgI1AGhVKy/5Ga9/69Yf/AEJ6Z/a4/wCfDUf/AAEajSne41y7uTbXEMbQRIpniKZIL5xn6igDbooooAqkX39qKQ0H2HyeVIPmeZn16bcfjmrVZrLZ/wDCSIxvHF79lIFr5vymPd9/Z654zVy7uobK0lublxHDChd3PRQBkmqlpYindtrz9f69DA8W3jTrDodu5WS9Ba4ZTzHbj734t90fU+lQKiogVFCqoAAA4A9Ky9OvYrqSfVb2eFLi+YMEaVcxRD7idew5PuTV/wC22n/P1B/39X/GuRu7ue1Gm6cVD+rg1jaP52+1gb7RgTbolPm46buPm/GnC2gBjIgizEpSP92PkU9QPQewpv220/5+oP8Av6v+NH220/5+oP8Av6v+NBXK+wLZWiPC62sCvAu2JhEoMY9FOPlHsKUWlsCCLeEFZDKCI14c9W6dffrSfbbT/n6g/wC/q/40fbbT/n6g/wC/q/40XFy+RDJo2ly7fN0yyk2DC77ZDt5zxkcck1YFrbi4ecQRCZ12NIIxuZfQnGSPam/bbT/n6g/7+r/jR9utP+fqD/v6v+NFw5fIbcTW2lac8pRYre3TISNQAAOigD8gK2PC+ly2GmtPfLi/vG8+5/2SR8qD2UYH5+tYljCuveIo41KyWOmlZpmU5WSbqie+0fMffbXbVpBXdzmxM+VezXz/AE/r0Cs/V7w2NmWgVTdTERQjHVz0z7Dk/QVoVzJvYb/VpLp54xDb5htwXHJ/jf8AE8D2HvWOKq8kOVOzl/Tfy/OxzUYc0rvZFmztltLVIUJbaOWPVieST7k81NUP2u3/AOe8X/fwUv2u3/57xf8AfwVxxcIpJM7NWRy6bYztI09lbSNLt8wvCrF9v3c5HOO2elZmteFLTWUgUXV3p4hZ2AsmRFYt94lWUrnr8wAYZODzWv8Aa7f/AJ7xf9/BR9rt/wDnvF/38FV7SPcXL5HNah8PdK1C1tbM3F9BY21otmLSGYeW8Q/hO5SQSOCVKkjqa6QWdsLhLj7PD58abEl8sb1X0DdQPal+12//AD3i/wC/go+12/8Az3i/7+Cm6ie7EoJdB0MEVvH5cESRJknaihRknJ4HvSyyJFE0kjBUUFmY9gKZ9rt/+e8X/fwVn31xDeXUdkJo/J4luDvGCoPCfievsPesqlVRjdPXoXGN2TaZG8nmX06lZbnBCnqkY+6v9T7mr9Q/arf/AJ7xf9/BS/a7f/nvF/38FFPkhHluDu3cz08OaeviG61l4/OubpIUIlCssflbtrKCMhvmPOaumws2uDcG0tzMWDGUxLuJHQ5xnIzxT/tdv/z3i/7+Cj7Xb/8APeL/AL+CtPaR7k8vkMfTrKSzFpJZ272w6QNCpQc5+7jHWnSWdtK0JltoXMBzEWjU+WfVcjj8KX7Xb/8APeL/AL+Cj7Xb/wDPeL/v4KOePcOXyHRwxRPI0UaI0jbnKqAXOMZPqcdzT6i+12//AD3i/wC/gqvfanBa2bypJHJJ0jQOPmY8AfnUyqwinJvYai27Ihm/0/VlgHMFmRJL6NJ/Cv4Dn8q06oaeLeys1ja5ieUkvK/mD53PJNWvtdv/AM94v+/grOk0lzSer/q3yKl2RLTJYYpwomjSQKwdQ6g4YdCM9x6037Xb/wDPeL/v4KPtdv8A894v+/grXnj3Jsxkmn2csMkMtpbvFI/mPG0KlXb+8QRgn361IIIRN5wiQS7Nm8IN23OdueuPak+12/8Az3i/7+Cj7Xb/APPeL/v4KfPHuLl8iWiovtdv/wA94v8Av4KPtdv/AM94v+/gpc8e47Mg1K6e3twtvg3EzeXCD/ePf6Ac/hU1napZ2kcEeSqDGT1Y9yfcnms60uILzUJL6SaMRx5htwXA4/if8Tx9BWl9rt/+e8X/AH8FYU5xnJ1G/Jen/B/Kxck0uUloqL7Xb/8APeL/AL+Cj7Xb/wDPeL/v4K3549yLMfJEk0TRzIskbgqyOoIYehB61F9htN277LBncrZ8pc5UYU9OoHQ9u1O+12//AD3i/wC/go+12/8Az3i/7+Cnzx7i5SWiovtdv/z3i/7+Cj7Xb/8APeL/AL+Clzx7jsyRiFUknAAySe1M0GE3LyarKCPPGy3BH3YgeD/wI8/TFU7kjU7mLTbeQMs3z3DI2dsQ6jjux4/OumRQiBVAVVGAB2FXQj7WpzdI/n/wF+L8jKtLljy9X+QtUtOjEcl3jUGvN1wzbWZT5H/TMY6Ae/NXTWfpRtDJffY7GS0P2lvOLw7POfu4/vA+tesvhZ50vjiaFFFFQaHNeIv+Rh0r/rjcf+yVHT/EyzJq+m3EVrcXEcccyv5ERcqTtxnH0NUftsv/AEC9T/8AARq6I/CjVbIt0VU+2y/9AvU//ARqPtsv/QL1P/wEanYZbxRVT7bL/wBAvU//AAEaj7bL/wBAvU//AAEaiwFuiqn22X/oF6n/AOAjUfbZf+gXqf8A4CNRYC3RVT7bL/0C9T/8BGo+2y/9AvU//ARqLAaXhX/j41j/AK+x/wCikroq57wpHMDqcs1tPbia5DIJoyjEeWozg+4NdDWM/iM5bhRRRUEhRRRQAUUUUAFFFFABRRRQAUUUUAFFFFABRRRQAUUUUAUWmb+3Fh+wMV+zlvtmBgfN/q/XPf0q1PBDdQtDcxJNE4wySKGVvqDVe5W5W+gnW7ihsolc3EboPn44O7+HHNWkdZI1eNldGGVZTkEeoqpbIzg2m/Uz/wDhHNE/6A+n/wDgKn+FH/COaJ/0B9P/APAVP8K0qKiyN/aT7szf+Ec0T/oD6f8A+Aqf4Uf8I5on/QH0/wD8BU/wrSoosg9pPuzN/wCEc0T/AKA+n/8AgKn+FH/COaJ/0B9P/wDAVP8ACtKiiyD2k+7M3/hHNE/6A+n/APgKn+FH/COaJ/0B9P8A/AVP8K0qKLIPaT7sgtbK1sYfKsraG3jzu2QxhBn1wKnoopktt6sCMjBql/Y2mf8AQOtP+/C/4VdoqJQhP4lcFJrZlL+xtM/6B1p/34X/AAo/sbTP+gdaf9+F/wAKu0VHsKX8q+4rnn3KX9jaZ/0DrT/vwv8AhR/Y2mf9A60/78L/AIVdoo9hS/lX3Bzz7lL+xtM/6B1p/wB+F/wo/sbTP+gdaf8Afhf8Ku0Uewpfyr7g559yl/Y2mf8AQOtP+/C/4Uf2Npn/AEDrT/vwv+FXaKPYUv5V9wc8+5S/sbTP+gdaf9+F/wAKP7G0z/oHWn/fhf8ACrtFHsKX8q+4Oefcpf2Npn/QOtP+/C/4Uf2Npn/QOtP+/C/4Vdoo9hS/lX3Bzz7lL+xtM/6B1p/34X/Cj+xtM/6B1p/34X/CrtFHsKX8q+4Oefcpf2Npn/QOtP8Avwv+FH9jaZ/0DrT/AL8L/hV2ij2FL+VfcHPPuUv7G0z/AKB1p/34X/Cj+xtM/wCgdaf9+F/wq7RR7Cl/KvuDnn3KX9jaZ/0DrT/vwv8AhR/Y2mf9A60/78L/AIVdoo9hS/lX3Bzz7lL+xtM/6B1p/wB+F/wo/sbTP+gdaf8Afhf8Ku0Uewpfyr7g559yl/Y2mf8AQOtP+/C/4Uf2Npn/AEDrT/vwv+FXaKPYUv5V9wc8+5S/sbTP+gdaf9+F/wAKP7G0z/oHWn/fhf8ACrtFHsKX8q+4Oefcpf2Npn/QOtP+/C/4Uf2Npn/QOtP+/C/4Vdoo9hS/lX3Bzz7lL+xtM/6B1p/34X/Cj+xtM/6B1p/34X/CrtFHsKX8q+4Oefcpf2Npn/QOtP8Avwv+FH9jaZ/0DrT/AL8L/hV2ij2FL+VfcHPPuQW9la2m77LbQwbvveXGFz+VT0UVrGKirJWJbb1YVVsjf77n+0BAF84/Z/Jzny+27P8AF9KdfX1tptlJd3sohgiGXcgnH5UzTrRLSGTy7iedZpWmDTPu27ucD0X0FaJe62ZN3mkv6+RboooqDQKKKKACiiigAooooAKKKKACiiigAooooAKKKKACiiigAooooAKKKKACiiigAooooAKKKKACiiigAooooAZNDHcwPDOiyRSKVdGGQwPUGqhs54Z7JbCaO3srcFZLcRZ3rtwoB/hxV6iqUmiJQUtWU4U1AXV4Z5LcwMV+yhFO5eOd/rz6VAY9a/siBRPZ/wBoBl859jeWRn5sDr06Vp0U+fyF7NW3fXr3/rQqut7/AGpGySQiy8pg6FT5hfPBB6YxUUaaoIb4Sy2pkZ2+xlUOEXHy7/U564q/RS5vIOTXdlCRNV+zWIjltRMrp9rJQ7XXHzbPQ56ZqVVvf7UdmeH7D5QCIFPmB88knpjFWqKObyDk82Zqx6z/AGTcK09n9uLN5DhG8tRn5dw65x1qaZdQNxZmCS3EKk/agyncwxxs9OfWrlFPm8g9npa7+8qwrfC/ujPJAbUhfs6qp3qcfNuPQ89MVWEetf2IiGez/tLcN0mxvKI3c4HX7v61p0Uc3kDpp9X169/607FSVb46nA0MkAsgjecjKd5b+HB6Y9abGmpD7b5ktudzH7JhT8g28b/Xn07Vdopcw+TXdme6at9hsgk1qLlXT7WxRtrL/HsHY+mamC3v9rFi8P2HycBNp8zzM9c9MY/WrVFHN5C9n5szlj1j+zbtWmtPthd/szhG2Kv8O4dSfXFSSpqRksvJltwit/pYZTlhj+D059au0U+byD2ata7+8qxLfDUbhppITaFV8lVU7w38W49MelVRHrf9hlDPZ/2lu4k2N5WN3p1+7+talFHN5A6afV9evf8ArTsVJlvzqVs0EkAswreejKd7HHy7T0HPWkjTURLe+bJblGP+iBVOVG3+P159O1XKKXNoPk1vd/0rf15mb5esf2Zar51p9tDp9ofY2xlz820dQcdM1YK339rKyyQfYPJIZCp8zzM9c9MYq1RT5vIXs/N/f2M9U1X7HehprX7Qzv8AZGCHaq/w7/U+uKc6amY7Hy5bYOrL9rJU4cY+bZ6HPrV6ijm8g9mu7+8qRrfDVJWkkgNkY1EaBT5gfuSemKrmPWf7GlUT2f8AaJZvLk2N5YG7jI6/d/WtOijm8gdNPq+vXv8A1oVJVvzeWhhkgFuu77SrKdzcfLtPbnrmiFb8Xl4Z5IDbtt+yqqncvHO7159Kt0UubSw+TW93/St/XmZhj1r+x4VWez/tAMvmuUbyyM84HXpVl1vf7TjZHhFkI2EiFTvL54IPTGKtUU+byEqdur6de39alGNNTEd95stsXZ2+yFVOEXHy7/U564prpqptLERzWonV0+1kodrrj5tnoc9M1oUUc3kHs1bd/eVQt7/ajszw/YfKAVAp8zzM8nPTGKrrHrH9l3KtNafbi7+Q4RvLVc/LuHUnHWtKijm8gdO/V9fx/rQpTJqJnsjBJbiNSftQZTlhjjZ6c+tPiW+F/cmaSA2pVfs6qp3qcfNuPQ84xirVFLm0Hya3u/6Vv68zM8vWv7DVPPs/7T3cybG8rG706/d/WrMq3p1KFonhFmEbzVZTvLfw4PTHXNWqKfN5CVNLq+nXt/WvcoxpqY+2+bLbHcx+ybVPyDHG/wBefSmPHq/9n2YSa0F0rp9qYo2xl/j2DqD6ZrRoo5vIPZq27+8q7b3+1t2+H7D5ONm0+Z5meuemMVAker/2ddq81obtnf7MwRtir/DuHUn1xWjRS5vIPZ+bKUqakWsvJltwFYfa9yn5xj+D059afEt6NRnaZ4TaFF8lVU7w3O7J6Y6Yq1RRzaD5Nb3ZmCPWv7DZDPZ/2nu+WTY3lY3enX7v61YmW+OoWxgkgFoFb7QrKd7HHy7T0HPXNW6KfN5CVNJbvp17f1r3KlvaTRz3TXN01zFM4aOJ0AEQxjaPX15q3RRUttlRioqyCiiikUFFFFABRRRQAUUUUAFFFFABRRRQAUUUUAFFFFABRRRQAUUUUAFFFFABRRRQAUUUUAFFFFABRRRQAUUUUAFFFFABRRRQAUUUUAFFFFABRRRQAUUUUAFFFFABRRRQAUUUUAFFFFABRRRQAUUUUAFFFFABRRRQAUUUUAFFFFABRRRQAUUUUAFFFFABRRRQAUUUUAFFFFABRRRQAUUUUAFFFFABRRRQAUUUUAFFFFABRRRQAUUUUAFFFFABRRRQAUUUUAf/2Q==)"
   ]
  },
  {
   "cell_type": "markdown",
   "metadata": {
    "id": "hK8cI5R9z990"
   },
   "source": [
    "## Tokenization"
   ]
  },
  {
   "cell_type": "code",
   "execution_count": 3,
   "metadata": {
    "colab": {
     "base_uri": "https://localhost:8080/"
    },
    "executionInfo": {
     "elapsed": 12,
     "status": "ok",
     "timestamp": 1685655542638,
     "user": {
      "displayName": "Romain Benassi",
      "userId": "07755091784567448642"
     },
     "user_tz": -120
    },
    "id": "aypxZYuUpEVQ",
    "outputId": "7cf09dec-eb7f-4767-864c-723026b3a947"
   },
   "outputs": [
    {
     "name": "stdout",
     "output_type": "stream",
     "text": [
      "Tesla\n",
      "is\n",
      "looking\n",
      "at\n",
      "buying\n",
      "U.S.\n",
      "startup\n",
      "for\n",
      "$\n",
      "6\n",
      "million\n",
      ".\n"
     ]
    }
   ],
   "source": [
    "for token in doc:\n",
    "  print(token.text)"
   ]
  },
  {
   "cell_type": "code",
   "execution_count": 4,
   "metadata": {
    "colab": {
     "base_uri": "https://localhost:8080/"
    },
    "executionInfo": {
     "elapsed": 8,
     "status": "ok",
     "timestamp": 1685655542638,
     "user": {
      "displayName": "Romain Benassi",
      "userId": "07755091784567448642"
     },
     "user_tz": -120
    },
    "id": "PzB1ZuJ3pJDm",
    "outputId": "1686ff5c-7ad5-4d09-9a58-1feff49d5056"
   },
   "outputs": [
    {
     "name": "stdout",
     "output_type": "stream",
     "text": [
      "Tesla | PROPN | proper noun\n",
      "is | AUX | auxiliary\n",
      "looking | VERB | verb\n",
      "at | ADP | adposition\n",
      "buying | VERB | verb\n",
      "U.S. | PROPN | proper noun\n",
      "startup | NOUN | noun\n",
      "for | ADP | adposition\n",
      "$ | SYM | symbol\n",
      "6 | NUM | numeral\n",
      "million | NUM | numeral\n",
      ". | PUNCT | punctuation\n"
     ]
    }
   ],
   "source": [
    "for token in doc:\n",
    "  print(token.text,\"|\", token.pos_, \"|\", spacy.explain(token.pos_))"
   ]
  },
  {
   "cell_type": "code",
   "execution_count": 5,
   "metadata": {
    "colab": {
     "base_uri": "https://localhost:8080/"
    },
    "executionInfo": {
     "elapsed": 24,
     "status": "ok",
     "timestamp": 1685655542961,
     "user": {
      "displayName": "Romain Benassi",
      "userId": "07755091784567448642"
     },
     "user_tz": -120
    },
    "id": "OCC-Y1ioxKSG",
    "outputId": "c7c84ad4-eb50-470e-e371-31ccac336ad9"
   },
   "outputs": [
    {
     "name": "stdout",
     "output_type": "stream",
     "text": [
      "Tesla | PROPN | proper noun | nsubj\n",
      "is | AUX | auxiliary | aux\n",
      "looking | VERB | verb | ROOT\n",
      "at | ADP | adposition | prep\n",
      "buying | VERB | verb | pcomp\n",
      "U.S. | PROPN | proper noun | compound\n",
      "startup | NOUN | noun | dobj\n",
      "for | ADP | adposition | prep\n",
      "$ | SYM | symbol | quantmod\n",
      "6 | NUM | numeral | compound\n",
      "million | NUM | numeral | pobj\n",
      ". | PUNCT | punctuation | punct\n"
     ]
    }
   ],
   "source": [
    "for token in doc:\n",
    "  print(token.text,\"|\", token.pos_,\"|\", spacy.explain(token.pos_), \"|\", token.dep_)"
   ]
  },
  {
   "cell_type": "markdown",
   "metadata": {
    "id": "YoL6_PEe0CS4"
   },
   "source": [
    "Entity processing"
   ]
  },
  {
   "cell_type": "code",
   "execution_count": 6,
   "metadata": {
    "colab": {
     "base_uri": "https://localhost:8080/"
    },
    "executionInfo": {
     "elapsed": 24,
     "status": "ok",
     "timestamp": 1685655542962,
     "user": {
      "displayName": "Romain Benassi",
      "userId": "07755091784567448642"
     },
     "user_tz": -120
    },
    "id": "p4zrSOcExkmK",
    "outputId": "a657c3fa-e140-4770-e8d8-49d7ae0a6b24"
   },
   "outputs": [
    {
     "name": "stdout",
     "output_type": "stream",
     "text": [
      "Tesla\n",
      "U.S.\n",
      "$6 million\n"
     ]
    }
   ],
   "source": [
    "for entity in doc.ents:\n",
    "  print(entity.text)"
   ]
  },
  {
   "cell_type": "code",
   "execution_count": 7,
   "metadata": {
    "colab": {
     "base_uri": "https://localhost:8080/"
    },
    "executionInfo": {
     "elapsed": 22,
     "status": "ok",
     "timestamp": 1685655542962,
     "user": {
      "displayName": "Romain Benassi",
      "userId": "07755091784567448642"
     },
     "user_tz": -120
    },
    "id": "oMgYZ9gtxt3Z",
    "outputId": "e86da697-601b-4a76-c20f-b791a0aa2d0a"
   },
   "outputs": [
    {
     "name": "stdout",
     "output_type": "stream",
     "text": [
      "Tesla | ORG | Companies, agencies, institutions, etc.\n",
      "U.S. | GPE | Countries, cities, states\n",
      "$6 million | MONEY | Monetary values, including unit\n"
     ]
    }
   ],
   "source": [
    "for entity in doc.ents:\n",
    "  print(entity.text, \"|\", entity.label_,\"|\", spacy.explain(entity.label_))"
   ]
  },
  {
   "cell_type": "code",
   "execution_count": 8,
   "metadata": {
    "colab": {
     "base_uri": "https://localhost:8080/",
     "height": 52
    },
    "executionInfo": {
     "elapsed": 20,
     "status": "ok",
     "timestamp": 1685655542962,
     "user": {
      "displayName": "Romain Benassi",
      "userId": "07755091784567448642"
     },
     "user_tz": -120
    },
    "id": "Fk5v71NQ2-Uf",
    "outputId": "0d7d5815-bf05-4a99-c668-30f8e69ca9ea"
   },
   "outputs": [
    {
     "data": {
      "text/html": [
       "<span class=\"tex2jax_ignore\"><div class=\"entities\" style=\"line-height: 2.5; direction: ltr\">\n",
       "<mark class=\"entity\" style=\"background: #7aecec; padding: 0.45em 0.6em; margin: 0 0.25em; line-height: 1; border-radius: 0.35em;\">\n",
       "    Tesla\n",
       "    <span style=\"font-size: 0.8em; font-weight: bold; line-height: 1; border-radius: 0.35em; vertical-align: middle; margin-left: 0.5rem\">ORG</span>\n",
       "</mark>\n",
       " is looking at buying \n",
       "<mark class=\"entity\" style=\"background: #feca74; padding: 0.45em 0.6em; margin: 0 0.25em; line-height: 1; border-radius: 0.35em;\">\n",
       "    U.S.\n",
       "    <span style=\"font-size: 0.8em; font-weight: bold; line-height: 1; border-radius: 0.35em; vertical-align: middle; margin-left: 0.5rem\">GPE</span>\n",
       "</mark>\n",
       " startup for \n",
       "<mark class=\"entity\" style=\"background: #e4e7d2; padding: 0.45em 0.6em; margin: 0 0.25em; line-height: 1; border-radius: 0.35em;\">\n",
       "    $6 million\n",
       "    <span style=\"font-size: 0.8em; font-weight: bold; line-height: 1; border-radius: 0.35em; vertical-align: middle; margin-left: 0.5rem\">MONEY</span>\n",
       "</mark>\n",
       ".</div></span>"
      ],
      "text/plain": [
       "<IPython.core.display.HTML object>"
      ]
     },
     "metadata": {},
     "output_type": "display_data"
    }
   ],
   "source": [
    "from spacy import displacy\n",
    "displacy.render(doc, style='ent', jupyter=True)"
   ]
  },
  {
   "cell_type": "code",
   "execution_count": 9,
   "metadata": {
    "colab": {
     "base_uri": "https://localhost:8080/",
     "height": 308
    },
    "executionInfo": {
     "elapsed": 20,
     "status": "ok",
     "timestamp": 1685655542963,
     "user": {
      "displayName": "Romain Benassi",
      "userId": "07755091784567448642"
     },
     "user_tz": -120
    },
    "id": "tIyAsQjK0TF2",
    "outputId": "9fd02545-2949-45eb-ceba-5a0e4f234276"
   },
   "outputs": [
    {
     "data": {
      "text/html": [
       "<span class=\"tex2jax_ignore\"><svg xmlns=\"http://www.w3.org/2000/svg\" xmlns:xlink=\"http://www.w3.org/1999/xlink\" xml:lang=\"en\" id=\"a1fcc23d684b4199b7cc99432b9355fe-0\" class=\"displacy\" width=\"1150\" height=\"287.0\" direction=\"ltr\" style=\"max-width: none; height: 287.0px; color: #000000; background: #ffffff; font-family: Arial; direction: ltr\">\n",
       "<text class=\"displacy-token\" fill=\"currentColor\" text-anchor=\"middle\" y=\"197.0\">\n",
       "    <tspan class=\"displacy-word\" fill=\"currentColor\" x=\"50\">Tesla</tspan>\n",
       "    <tspan class=\"displacy-tag\" dy=\"2em\" fill=\"currentColor\" x=\"50\">PROPN</tspan>\n",
       "</text>\n",
       "\n",
       "<text class=\"displacy-token\" fill=\"currentColor\" text-anchor=\"middle\" y=\"197.0\">\n",
       "    <tspan class=\"displacy-word\" fill=\"currentColor\" x=\"150\">is</tspan>\n",
       "    <tspan class=\"displacy-tag\" dy=\"2em\" fill=\"currentColor\" x=\"150\">AUX</tspan>\n",
       "</text>\n",
       "\n",
       "<text class=\"displacy-token\" fill=\"currentColor\" text-anchor=\"middle\" y=\"197.0\">\n",
       "    <tspan class=\"displacy-word\" fill=\"currentColor\" x=\"250\">looking</tspan>\n",
       "    <tspan class=\"displacy-tag\" dy=\"2em\" fill=\"currentColor\" x=\"250\">VERB</tspan>\n",
       "</text>\n",
       "\n",
       "<text class=\"displacy-token\" fill=\"currentColor\" text-anchor=\"middle\" y=\"197.0\">\n",
       "    <tspan class=\"displacy-word\" fill=\"currentColor\" x=\"350\">at</tspan>\n",
       "    <tspan class=\"displacy-tag\" dy=\"2em\" fill=\"currentColor\" x=\"350\">ADP</tspan>\n",
       "</text>\n",
       "\n",
       "<text class=\"displacy-token\" fill=\"currentColor\" text-anchor=\"middle\" y=\"197.0\">\n",
       "    <tspan class=\"displacy-word\" fill=\"currentColor\" x=\"450\">buying</tspan>\n",
       "    <tspan class=\"displacy-tag\" dy=\"2em\" fill=\"currentColor\" x=\"450\">VERB</tspan>\n",
       "</text>\n",
       "\n",
       "<text class=\"displacy-token\" fill=\"currentColor\" text-anchor=\"middle\" y=\"197.0\">\n",
       "    <tspan class=\"displacy-word\" fill=\"currentColor\" x=\"550\">U.S.</tspan>\n",
       "    <tspan class=\"displacy-tag\" dy=\"2em\" fill=\"currentColor\" x=\"550\">PROPN</tspan>\n",
       "</text>\n",
       "\n",
       "<text class=\"displacy-token\" fill=\"currentColor\" text-anchor=\"middle\" y=\"197.0\">\n",
       "    <tspan class=\"displacy-word\" fill=\"currentColor\" x=\"650\">startup</tspan>\n",
       "    <tspan class=\"displacy-tag\" dy=\"2em\" fill=\"currentColor\" x=\"650\">NOUN</tspan>\n",
       "</text>\n",
       "\n",
       "<text class=\"displacy-token\" fill=\"currentColor\" text-anchor=\"middle\" y=\"197.0\">\n",
       "    <tspan class=\"displacy-word\" fill=\"currentColor\" x=\"750\">for</tspan>\n",
       "    <tspan class=\"displacy-tag\" dy=\"2em\" fill=\"currentColor\" x=\"750\">ADP</tspan>\n",
       "</text>\n",
       "\n",
       "<text class=\"displacy-token\" fill=\"currentColor\" text-anchor=\"middle\" y=\"197.0\">\n",
       "    <tspan class=\"displacy-word\" fill=\"currentColor\" x=\"850\">$</tspan>\n",
       "    <tspan class=\"displacy-tag\" dy=\"2em\" fill=\"currentColor\" x=\"850\">SYM</tspan>\n",
       "</text>\n",
       "\n",
       "<text class=\"displacy-token\" fill=\"currentColor\" text-anchor=\"middle\" y=\"197.0\">\n",
       "    <tspan class=\"displacy-word\" fill=\"currentColor\" x=\"950\">6</tspan>\n",
       "    <tspan class=\"displacy-tag\" dy=\"2em\" fill=\"currentColor\" x=\"950\">NUM</tspan>\n",
       "</text>\n",
       "\n",
       "<text class=\"displacy-token\" fill=\"currentColor\" text-anchor=\"middle\" y=\"197.0\">\n",
       "    <tspan class=\"displacy-word\" fill=\"currentColor\" x=\"1050\">million.</tspan>\n",
       "    <tspan class=\"displacy-tag\" dy=\"2em\" fill=\"currentColor\" x=\"1050\">NUM</tspan>\n",
       "</text>\n",
       "\n",
       "<g class=\"displacy-arrow\">\n",
       "    <path class=\"displacy-arc\" id=\"arrow-a1fcc23d684b4199b7cc99432b9355fe-0-0\" stroke-width=\"2px\" d=\"M70,152.0 C70,52.0 245.0,52.0 245.0,152.0\" fill=\"none\" stroke=\"currentColor\"/>\n",
       "    <text dy=\"1.25em\" style=\"font-size: 0.8em; letter-spacing: 1px\">\n",
       "        <textPath xlink:href=\"#arrow-a1fcc23d684b4199b7cc99432b9355fe-0-0\" class=\"displacy-label\" startOffset=\"50%\" side=\"left\" fill=\"currentColor\" text-anchor=\"middle\">nsubj</textPath>\n",
       "    </text>\n",
       "    <path class=\"displacy-arrowhead\" d=\"M70,154.0 L62,142.0 78,142.0\" fill=\"currentColor\"/>\n",
       "</g>\n",
       "\n",
       "<g class=\"displacy-arrow\">\n",
       "    <path class=\"displacy-arc\" id=\"arrow-a1fcc23d684b4199b7cc99432b9355fe-0-1\" stroke-width=\"2px\" d=\"M170,152.0 C170,102.0 240.0,102.0 240.0,152.0\" fill=\"none\" stroke=\"currentColor\"/>\n",
       "    <text dy=\"1.25em\" style=\"font-size: 0.8em; letter-spacing: 1px\">\n",
       "        <textPath xlink:href=\"#arrow-a1fcc23d684b4199b7cc99432b9355fe-0-1\" class=\"displacy-label\" startOffset=\"50%\" side=\"left\" fill=\"currentColor\" text-anchor=\"middle\">aux</textPath>\n",
       "    </text>\n",
       "    <path class=\"displacy-arrowhead\" d=\"M170,154.0 L162,142.0 178,142.0\" fill=\"currentColor\"/>\n",
       "</g>\n",
       "\n",
       "<g class=\"displacy-arrow\">\n",
       "    <path class=\"displacy-arc\" id=\"arrow-a1fcc23d684b4199b7cc99432b9355fe-0-2\" stroke-width=\"2px\" d=\"M270,152.0 C270,102.0 340.0,102.0 340.0,152.0\" fill=\"none\" stroke=\"currentColor\"/>\n",
       "    <text dy=\"1.25em\" style=\"font-size: 0.8em; letter-spacing: 1px\">\n",
       "        <textPath xlink:href=\"#arrow-a1fcc23d684b4199b7cc99432b9355fe-0-2\" class=\"displacy-label\" startOffset=\"50%\" side=\"left\" fill=\"currentColor\" text-anchor=\"middle\">prep</textPath>\n",
       "    </text>\n",
       "    <path class=\"displacy-arrowhead\" d=\"M340.0,154.0 L348.0,142.0 332.0,142.0\" fill=\"currentColor\"/>\n",
       "</g>\n",
       "\n",
       "<g class=\"displacy-arrow\">\n",
       "    <path class=\"displacy-arc\" id=\"arrow-a1fcc23d684b4199b7cc99432b9355fe-0-3\" stroke-width=\"2px\" d=\"M370,152.0 C370,102.0 440.0,102.0 440.0,152.0\" fill=\"none\" stroke=\"currentColor\"/>\n",
       "    <text dy=\"1.25em\" style=\"font-size: 0.8em; letter-spacing: 1px\">\n",
       "        <textPath xlink:href=\"#arrow-a1fcc23d684b4199b7cc99432b9355fe-0-3\" class=\"displacy-label\" startOffset=\"50%\" side=\"left\" fill=\"currentColor\" text-anchor=\"middle\">pcomp</textPath>\n",
       "    </text>\n",
       "    <path class=\"displacy-arrowhead\" d=\"M440.0,154.0 L448.0,142.0 432.0,142.0\" fill=\"currentColor\"/>\n",
       "</g>\n",
       "\n",
       "<g class=\"displacy-arrow\">\n",
       "    <path class=\"displacy-arc\" id=\"arrow-a1fcc23d684b4199b7cc99432b9355fe-0-4\" stroke-width=\"2px\" d=\"M570,152.0 C570,102.0 640.0,102.0 640.0,152.0\" fill=\"none\" stroke=\"currentColor\"/>\n",
       "    <text dy=\"1.25em\" style=\"font-size: 0.8em; letter-spacing: 1px\">\n",
       "        <textPath xlink:href=\"#arrow-a1fcc23d684b4199b7cc99432b9355fe-0-4\" class=\"displacy-label\" startOffset=\"50%\" side=\"left\" fill=\"currentColor\" text-anchor=\"middle\">compound</textPath>\n",
       "    </text>\n",
       "    <path class=\"displacy-arrowhead\" d=\"M570,154.0 L562,142.0 578,142.0\" fill=\"currentColor\"/>\n",
       "</g>\n",
       "\n",
       "<g class=\"displacy-arrow\">\n",
       "    <path class=\"displacy-arc\" id=\"arrow-a1fcc23d684b4199b7cc99432b9355fe-0-5\" stroke-width=\"2px\" d=\"M470,152.0 C470,52.0 645.0,52.0 645.0,152.0\" fill=\"none\" stroke=\"currentColor\"/>\n",
       "    <text dy=\"1.25em\" style=\"font-size: 0.8em; letter-spacing: 1px\">\n",
       "        <textPath xlink:href=\"#arrow-a1fcc23d684b4199b7cc99432b9355fe-0-5\" class=\"displacy-label\" startOffset=\"50%\" side=\"left\" fill=\"currentColor\" text-anchor=\"middle\">dobj</textPath>\n",
       "    </text>\n",
       "    <path class=\"displacy-arrowhead\" d=\"M645.0,154.0 L653.0,142.0 637.0,142.0\" fill=\"currentColor\"/>\n",
       "</g>\n",
       "\n",
       "<g class=\"displacy-arrow\">\n",
       "    <path class=\"displacy-arc\" id=\"arrow-a1fcc23d684b4199b7cc99432b9355fe-0-6\" stroke-width=\"2px\" d=\"M670,152.0 C670,102.0 740.0,102.0 740.0,152.0\" fill=\"none\" stroke=\"currentColor\"/>\n",
       "    <text dy=\"1.25em\" style=\"font-size: 0.8em; letter-spacing: 1px\">\n",
       "        <textPath xlink:href=\"#arrow-a1fcc23d684b4199b7cc99432b9355fe-0-6\" class=\"displacy-label\" startOffset=\"50%\" side=\"left\" fill=\"currentColor\" text-anchor=\"middle\">prep</textPath>\n",
       "    </text>\n",
       "    <path class=\"displacy-arrowhead\" d=\"M740.0,154.0 L748.0,142.0 732.0,142.0\" fill=\"currentColor\"/>\n",
       "</g>\n",
       "\n",
       "<g class=\"displacy-arrow\">\n",
       "    <path class=\"displacy-arc\" id=\"arrow-a1fcc23d684b4199b7cc99432b9355fe-0-7\" stroke-width=\"2px\" d=\"M870,152.0 C870,52.0 1045.0,52.0 1045.0,152.0\" fill=\"none\" stroke=\"currentColor\"/>\n",
       "    <text dy=\"1.25em\" style=\"font-size: 0.8em; letter-spacing: 1px\">\n",
       "        <textPath xlink:href=\"#arrow-a1fcc23d684b4199b7cc99432b9355fe-0-7\" class=\"displacy-label\" startOffset=\"50%\" side=\"left\" fill=\"currentColor\" text-anchor=\"middle\">quantmod</textPath>\n",
       "    </text>\n",
       "    <path class=\"displacy-arrowhead\" d=\"M870,154.0 L862,142.0 878,142.0\" fill=\"currentColor\"/>\n",
       "</g>\n",
       "\n",
       "<g class=\"displacy-arrow\">\n",
       "    <path class=\"displacy-arc\" id=\"arrow-a1fcc23d684b4199b7cc99432b9355fe-0-8\" stroke-width=\"2px\" d=\"M970,152.0 C970,102.0 1040.0,102.0 1040.0,152.0\" fill=\"none\" stroke=\"currentColor\"/>\n",
       "    <text dy=\"1.25em\" style=\"font-size: 0.8em; letter-spacing: 1px\">\n",
       "        <textPath xlink:href=\"#arrow-a1fcc23d684b4199b7cc99432b9355fe-0-8\" class=\"displacy-label\" startOffset=\"50%\" side=\"left\" fill=\"currentColor\" text-anchor=\"middle\">compound</textPath>\n",
       "    </text>\n",
       "    <path class=\"displacy-arrowhead\" d=\"M970,154.0 L962,142.0 978,142.0\" fill=\"currentColor\"/>\n",
       "</g>\n",
       "\n",
       "<g class=\"displacy-arrow\">\n",
       "    <path class=\"displacy-arc\" id=\"arrow-a1fcc23d684b4199b7cc99432b9355fe-0-9\" stroke-width=\"2px\" d=\"M770,152.0 C770,2.0 1050.0,2.0 1050.0,152.0\" fill=\"none\" stroke=\"currentColor\"/>\n",
       "    <text dy=\"1.25em\" style=\"font-size: 0.8em; letter-spacing: 1px\">\n",
       "        <textPath xlink:href=\"#arrow-a1fcc23d684b4199b7cc99432b9355fe-0-9\" class=\"displacy-label\" startOffset=\"50%\" side=\"left\" fill=\"currentColor\" text-anchor=\"middle\">pobj</textPath>\n",
       "    </text>\n",
       "    <path class=\"displacy-arrowhead\" d=\"M1050.0,154.0 L1058.0,142.0 1042.0,142.0\" fill=\"currentColor\"/>\n",
       "</g>\n",
       "</svg></span>"
      ],
      "text/plain": [
       "<IPython.core.display.HTML object>"
      ]
     },
     "metadata": {},
     "output_type": "display_data"
    }
   ],
   "source": [
    "displacy.render(doc, style='dep', jupyter=True, options={'distance':100})"
   ]
  },
  {
   "cell_type": "markdown",
   "metadata": {
    "id": "_zT6gTtb0PjE"
   },
   "source": [
    "Sentences processing"
   ]
  },
  {
   "cell_type": "code",
   "execution_count": 10,
   "metadata": {
    "colab": {
     "base_uri": "https://localhost:8080/"
    },
    "executionInfo": {
     "elapsed": 19,
     "status": "ok",
     "timestamp": 1685655542963,
     "user": {
      "displayName": "Romain Benassi",
      "userId": "07755091784567448642"
     },
     "user_tz": -120
    },
    "id": "WhUOuj760Rfn",
    "outputId": "f48c5682-1e29-4e5b-b0cd-6004439524ae"
   },
   "outputs": [
    {
     "name": "stdout",
     "output_type": "stream",
     "text": [
      "A thing of beauty is a joy forever.\n",
      "Its loveliness increases.\n",
      "It will never pass into nothingness.\n"
     ]
    }
   ],
   "source": [
    "doc_sentences = nlp(u'A thing of beauty is a joy forever. Its loveliness increases. It will never pass into nothingness.')\n",
    "for sentence in doc_sentences.sents:\n",
    "  print(sentence)\n"
   ]
  },
  {
   "cell_type": "code",
   "execution_count": 11,
   "metadata": {
    "colab": {
     "base_uri": "https://localhost:8080/"
    },
    "executionInfo": {
     "elapsed": 17,
     "status": "ok",
     "timestamp": 1685655542963,
     "user": {
      "displayName": "Romain Benassi",
      "userId": "07755091784567448642"
     },
     "user_tz": -120
    },
    "id": "-5pkeU3o1Dt6",
    "outputId": "d00f575b-b5b4-47a4-eeea-a71d9a0f7618"
   },
   "outputs": [
    {
     "name": "stdout",
     "output_type": "stream",
     "text": [
      "Tesla is looking at buying U.S. startup for $6 million.\n"
     ]
    }
   ],
   "source": [
    "for sentence in doc.sents:\n",
    "  print(sentence)"
   ]
  },
  {
   "cell_type": "markdown",
   "metadata": {
    "id": "_oqXK9y3y79n"
   },
   "source": [
    "Name chunks"
   ]
  },
  {
   "cell_type": "code",
   "execution_count": 12,
   "metadata": {
    "colab": {
     "base_uri": "https://localhost:8080/"
    },
    "executionInfo": {
     "elapsed": 16,
     "status": "ok",
     "timestamp": 1685655542964,
     "user": {
      "displayName": "Romain Benassi",
      "userId": "07755091784567448642"
     },
     "user_tz": -120
    },
    "id": "rDdrAQJry-2W",
    "outputId": "193ec9cc-3cde-4ce9-d943-683b37d4823c"
   },
   "outputs": [
    {
     "name": "stdout",
     "output_type": "stream",
     "text": [
      "Tesla\n",
      "U.S. startup\n"
     ]
    }
   ],
   "source": [
    "for chunk in doc.noun_chunks:\n",
    "  print(chunk)"
   ]
  },
  {
   "cell_type": "markdown",
   "metadata": {
    "id": "5OcWtEYm0Hwn"
   },
   "source": [
    "## Lemmatization"
   ]
  },
  {
   "cell_type": "code",
   "execution_count": 13,
   "metadata": {
    "colab": {
     "base_uri": "https://localhost:8080/"
    },
    "executionInfo": {
     "elapsed": 15,
     "status": "ok",
     "timestamp": 1685655542964,
     "user": {
      "displayName": "Romain Benassi",
      "userId": "07755091784567448642"
     },
     "user_tz": -120
    },
    "id": "dzstgtX80JPb",
    "outputId": "6b519b20-8543-41ea-fe0d-c61419ac0abf"
   },
   "outputs": [
    {
     "name": "stdout",
     "output_type": "stream",
     "text": [
      "Tesla -> Tesla\n",
      "is -> be\n",
      "looking -> look\n",
      "at -> at\n",
      "buying -> buy\n",
      "U.S. -> U.S.\n",
      "startup -> startup\n",
      "for -> for\n",
      "$ -> $\n",
      "6 -> 6\n",
      "million -> million\n",
      ". -> .\n"
     ]
    }
   ],
   "source": [
    "for token in doc:\n",
    "  print(token.text,\"->\",token.lemma_)"
   ]
  },
  {
   "cell_type": "code",
   "execution_count": 14,
   "metadata": {
    "colab": {
     "base_uri": "https://localhost:8080/"
    },
    "executionInfo": {
     "elapsed": 12,
     "status": "ok",
     "timestamp": 1685655542964,
     "user": {
      "displayName": "Romain Benassi",
      "userId": "07755091784567448642"
     },
     "user_tz": -120
    },
    "id": "_GH9KkWr1ju8",
    "outputId": "cc42b822-9ad2-452f-a8bc-d942e6f824e8"
   },
   "outputs": [
    {
     "name": "stdout",
     "output_type": "stream",
     "text": [
      "A | DET | a\n",
      "thing | NOUN | thing\n",
      "of | ADP | of\n",
      "beauty | NOUN | beauty\n",
      "is | AUX | be\n",
      "a | DET | a\n",
      "joy | NOUN | joy\n",
      "forever | ADV | forever\n",
      ". | PUNCT | .\n",
      "Its | PRON | its\n",
      "loveliness | NOUN | loveliness\n",
      "increases | NOUN | increase\n",
      ". | PUNCT | .\n",
      "It | PRON | it\n",
      "will | AUX | will\n",
      "never | ADV | never\n",
      "pass | VERB | pass\n",
      "into | ADP | into\n",
      "nothingness | NOUN | nothingness\n",
      ". | PUNCT | .\n"
     ]
    }
   ],
   "source": [
    "for token in doc_sentences:\n",
    "  print(token.text,\"|\", token.pos_,\"|\",token.lemma_)"
   ]
  },
  {
   "cell_type": "markdown",
   "metadata": {
    "id": "p6wGYWBO5YV-"
   },
   "source": [
    "## Stemming"
   ]
  },
  {
   "cell_type": "markdown",
   "metadata": {
    "id": "PqG3zRYsmHQf"
   },
   "source": [
    "No Stemming procedure is implemented in spaCy so the use of NLTK is needed"
   ]
  },
  {
   "cell_type": "markdown",
   "metadata": {
    "id": "Gb0-jG-M60Fh"
   },
   "source": [
    "Porter Stemming"
   ]
  },
  {
   "cell_type": "code",
   "execution_count": 15,
   "metadata": {
    "executionInfo": {
     "elapsed": 1324,
     "status": "ok",
     "timestamp": 1685655544278,
     "user": {
      "displayName": "Romain Benassi",
      "userId": "07755091784567448642"
     },
     "user_tz": -120
    },
    "id": "JwkoqHU25bFT"
   },
   "outputs": [],
   "source": [
    "# Import the toolkit and the full Porter Stemmer library\n",
    "import nltk\n",
    "\n",
    "from nltk.stem.porter import *"
   ]
  },
  {
   "cell_type": "code",
   "execution_count": 16,
   "metadata": {
    "executionInfo": {
     "elapsed": 3,
     "status": "ok",
     "timestamp": 1685655544278,
     "user": {
      "displayName": "Romain Benassi",
      "userId": "07755091784567448642"
     },
     "user_tz": -120
    },
    "id": "riV-d0wR6C6H"
   },
   "outputs": [],
   "source": [
    "p_stemmer = PorterStemmer()"
   ]
  },
  {
   "cell_type": "code",
   "execution_count": 17,
   "metadata": {
    "colab": {
     "base_uri": "https://localhost:8080/"
    },
    "executionInfo": {
     "elapsed": 383,
     "status": "ok",
     "timestamp": 1685655544660,
     "user": {
      "displayName": "Romain Benassi",
      "userId": "07755091784567448642"
     },
     "user_tz": -120
    },
    "id": "UBAgjAJ57ozL",
    "outputId": "5a2ae129-6170-45e2-d889-33d2bed13e20"
   },
   "outputs": [
    {
     "name": "stdout",
     "output_type": "stream",
     "text": [
      "Tesla -> tesla\n",
      "is -> is\n",
      "looking -> look\n",
      "at -> at\n",
      "buying -> buy\n",
      "U.S. -> u.s.\n",
      "startup -> startup\n",
      "for -> for\n",
      "$ -> $\n",
      "6 -> 6\n",
      "million -> million\n",
      ". -> .\n"
     ]
    }
   ],
   "source": [
    "for token in doc:\n",
    "  print(token.text,\"->\",p_stemmer.stem(token.text))"
   ]
  },
  {
   "cell_type": "code",
   "execution_count": 18,
   "metadata": {
    "executionInfo": {
     "elapsed": 29,
     "status": "ok",
     "timestamp": 1685655544660,
     "user": {
      "displayName": "Romain Benassi",
      "userId": "07755091784567448642"
     },
     "user_tz": -120
    },
    "id": "d_S5X9GZ6Jsv"
   },
   "outputs": [],
   "source": [
    "words = ['compute', 'computer', 'computed', 'computing','run','runner','running','ran','runs','easily','fairly', 'consolingly']"
   ]
  },
  {
   "cell_type": "code",
   "execution_count": 19,
   "metadata": {
    "colab": {
     "base_uri": "https://localhost:8080/"
    },
    "executionInfo": {
     "elapsed": 29,
     "status": "ok",
     "timestamp": 1685655544660,
     "user": {
      "displayName": "Romain Benassi",
      "userId": "07755091784567448642"
     },
     "user_tz": -120
    },
    "id": "ELTJQCAl6Rru",
    "outputId": "74d524d6-b89c-4350-80ec-fe0b2eacc472"
   },
   "outputs": [
    {
     "name": "stdout",
     "output_type": "stream",
     "text": [
      "compute --> comput\n",
      "computer --> comput\n",
      "computed --> comput\n",
      "computing --> comput\n",
      "run --> run\n",
      "runner --> runner\n",
      "running --> run\n",
      "ran --> ran\n",
      "runs --> run\n",
      "easily --> easili\n",
      "fairly --> fairli\n",
      "consolingly --> consolingli\n"
     ]
    }
   ],
   "source": [
    "for word in words:\n",
    "    print(word+' --> '+p_stemmer.stem(word))"
   ]
  },
  {
   "cell_type": "markdown",
   "metadata": {
    "id": "YC43nubK67Ra"
   },
   "source": [
    "Snowball Stemming"
   ]
  },
  {
   "cell_type": "code",
   "execution_count": 20,
   "metadata": {
    "executionInfo": {
     "elapsed": 28,
     "status": "ok",
     "timestamp": 1685655544661,
     "user": {
      "displayName": "Romain Benassi",
      "userId": "07755091784567448642"
     },
     "user_tz": -120
    },
    "id": "ndlawMLJ64IP"
   },
   "outputs": [],
   "source": [
    "from nltk.stem.snowball import SnowballStemmer\n",
    "\n",
    "s_stemmer = SnowballStemmer(language='english')"
   ]
  },
  {
   "cell_type": "code",
   "execution_count": 21,
   "metadata": {
    "colab": {
     "base_uri": "https://localhost:8080/"
    },
    "executionInfo": {
     "elapsed": 27,
     "status": "ok",
     "timestamp": 1685655544661,
     "user": {
      "displayName": "Romain Benassi",
      "userId": "07755091784567448642"
     },
     "user_tz": -120
    },
    "id": "cVK9T0s-7z3U",
    "outputId": "ed14220c-8cc9-4acb-c8cc-b00dafb9eda4"
   },
   "outputs": [
    {
     "name": "stdout",
     "output_type": "stream",
     "text": [
      "Tesla -> tesla\n",
      "is -> is\n",
      "looking -> look\n",
      "at -> at\n",
      "buying -> buy\n",
      "U.S. -> u.s.\n",
      "startup -> startup\n",
      "for -> for\n",
      "$ -> $\n",
      "6 -> 6\n",
      "million -> million\n",
      ". -> .\n"
     ]
    }
   ],
   "source": [
    "for token in doc:\n",
    "  print(token.text,\"->\",s_stemmer.stem(token.text))"
   ]
  },
  {
   "cell_type": "code",
   "execution_count": 22,
   "metadata": {
    "colab": {
     "base_uri": "https://localhost:8080/"
    },
    "executionInfo": {
     "elapsed": 25,
     "status": "ok",
     "timestamp": 1685655544661,
     "user": {
      "displayName": "Romain Benassi",
      "userId": "07755091784567448642"
     },
     "user_tz": -120
    },
    "id": "qv9B7Gl37Lt_",
    "outputId": "23703f24-1601-4faf-de32-949498dd013f"
   },
   "outputs": [
    {
     "name": "stdout",
     "output_type": "stream",
     "text": [
      "compute --> comput\n",
      "computer --> comput\n",
      "computed --> comput\n",
      "computing --> comput\n",
      "run --> run\n",
      "runner --> runner\n",
      "running --> run\n",
      "ran --> ran\n",
      "runs --> run\n",
      "easily --> easili\n",
      "fairly --> fair\n",
      "consolingly --> consol\n"
     ]
    }
   ],
   "source": [
    "for word in words:\n",
    "    print(word+' --> '+s_stemmer.stem(word))"
   ]
  },
  {
   "cell_type": "code",
   "execution_count": 23,
   "metadata": {
    "colab": {
     "base_uri": "https://localhost:8080/"
    },
    "executionInfo": {
     "elapsed": 24,
     "status": "ok",
     "timestamp": 1685655544661,
     "user": {
      "displayName": "Romain Benassi",
      "userId": "07755091784567448642"
     },
     "user_tz": -120
    },
    "id": "EyJstLhv742y",
    "outputId": "3aad46b7-41f2-4149-eb0d-f61fd780d982"
   },
   "outputs": [
    {
     "name": "stdout",
     "output_type": "stream",
     "text": [
      "word --> (p_stemmer,s_stemmer)\n",
      "---------------------------\n",
      "compute --> (comput,comput)\n",
      "computer --> (comput,comput)\n",
      "computed --> (comput,comput)\n",
      "computing --> (comput,comput)\n",
      "run --> (run,run)\n",
      "runner --> (runner,runner)\n",
      "running --> (run,run)\n",
      "ran --> (ran,ran)\n",
      "runs --> (run,run)\n",
      "easily --> (easili,easili)\n",
      "fairly --> (fairli,fair)\n",
      "consolingly --> (consolingli,consol)\n"
     ]
    }
   ],
   "source": [
    "print('word --> (p_stemmer,s_stemmer)')\n",
    "print('---------------------------')\n",
    "for word in words:\n",
    "    print(word+' --> ('+p_stemmer.stem(word)+','+s_stemmer.stem(word)+')')"
   ]
  },
  {
   "cell_type": "markdown",
   "metadata": {
    "id": "77ruQU4O_dRx"
   },
   "source": [
    "## Stop Words"
   ]
  },
  {
   "cell_type": "code",
   "execution_count": 24,
   "metadata": {
    "colab": {
     "base_uri": "https://localhost:8080/"
    },
    "executionInfo": {
     "elapsed": 23,
     "status": "ok",
     "timestamp": 1685655544662,
     "user": {
      "displayName": "Romain Benassi",
      "userId": "07755091784567448642"
     },
     "user_tz": -120
    },
    "id": "tDQ8Si9H_fgo",
    "outputId": "65b9475e-b85d-4c55-a4c2-9aa91620e16d"
   },
   "outputs": [
    {
     "name": "stdout",
     "output_type": "stream",
     "text": [
      "{'above', 'whoever', 'by', 'there', 'about', 'used', 'my', 'that', 'the', 'namely', 'once', 'hers', 'and', 'three', 'thus', 'nor', 'whence', 'seems', 'with', 'himself', 'after', 'him', 'regarding', 'below', 'each', '’ll', 'less', 'against', 'everything', 'this', 'can', 'myself', '‘re', 'has', 'first', 're', 'beside', 'whom', 'cannot', 'many', 'same', 'am', 'must', 'fifteen', 'out', 'noone', 'or', 'somehow', 'ours', 'either', 'due', 'eight', 'well', 'more', 'neither', 'using', 'could', 'to', 'go', 'yet', 'where', 'keep', 'sixty', 'sometime', 'else', 'put', 'thence', 'therefore', 'along', 'enough', 'one', 'until', 'anyone', 'they', 'six', 'already', 'of', 'meanwhile', 'further', 'not', 'such', 'throughout', 'were', 'whereas', 'hereby', 'whose', '’re', 'someone', 'are', 'themselves', 'afterwards', 'make', 'beforehand', 'really', 'thereby', \"'d\", 'others', 'rather', 'we', 'serious', 'should', 'did', 'on', 'almost', 'our', 'yourself', 'does', \"'m\", 'other', 'another', 'anything', 'us', 'something', '‘ve', 'latter', 'mostly', 'whither', 'often', 'everywhere', 'herein', 'ca', 'thereafter', '‘m', 'made', 'again', 'from', 'into', 'anywhere', 'here', 'ever', 'amongst', 'her', 'together', 'moreover', 'what', 'nobody', 'amount', 'too', 'i', 'still', 'hereupon', 'fifty', 'please', '’d', 'least', 'though', 'no', 'whereby', 'your', 'off', 'in', 'some', 'became', 'therein', 'then', 'bottom', 'last', 'hence', 'give', 'side', 'wherever', 'very', '‘d', 'nine', 'top', 'eleven', 'hereafter', 'much', '’m', 'even', 'it', 'most', 'several', 'ten', 'next', 'when', 'nowhere', 'quite', 'across', 'their', 'if', 'show', 'do', 'over', 'since', 'latterly', 'part', 'me', 'various', 'wherein', 'full', 'nothing', 'whether', 'own', 'otherwise', 'a', 'why', 'five', 'see', 'also', 'those', 'between', 'seemed', \"'ve\", 'although', 'than', 'beyond', 'she', 'how', 'whole', \"n't\", 'without', 'be', \"'re\", \"'ll\", 'n‘t', 'up', 'always', 'these', 'hundred', 'every', 'back', 'everyone', 'however', 'you', 'while', 'within', 'call', 'so', 'now', 'whereupon', 'for', 'become', 'somewhere', 'any', 'as', 'both', 'anyhow', 'alone', 'perhaps', 'front', 'via', 'might', 'move', 'all', 'becomes', 'thru', 'ourselves', 'his', 'but', 'unless', 'yours', 'behind', 'around', 'may', 'was', 'through', 'seem', 'whatever', '’ve', 'four', 'nevertheless', 'just', 'done', 'upon', 'because', 'few', 'towards', 'under', 'is', 'toward', 'its', 'twenty', 'at', 'being', \"'s\", 'say', 'anyway', 'two', 'before', 'only', 'among', 'none', 'been', '’s', 'itself', 'down', 'which', 'mine', 'whereafter', 'third', 'have', '‘ll', 'name', 'he', 'thereupon', 'who', 'get', '‘s', 'never', 'will', 'forty', 'an', 'elsewhere', 'yourselves', 'during', 'would', 'onto', 'doing', 'seeming', 'besides', 'whenever', 'except', 'becoming', 'n’t', 'per', 'indeed', 'empty', 'had', 'formerly', 'twelve', 'them', 'sometimes', 'former', 'herself', 'take'}\n"
     ]
    }
   ],
   "source": [
    "# Print the set of spaCy's default stop words (remember that sets are unordered):\n",
    "print(nlp.Defaults.stop_words)"
   ]
  },
  {
   "cell_type": "code",
   "execution_count": 25,
   "metadata": {
    "colab": {
     "base_uri": "https://localhost:8080/"
    },
    "executionInfo": {
     "elapsed": 21,
     "status": "ok",
     "timestamp": 1685655544662,
     "user": {
      "displayName": "Romain Benassi",
      "userId": "07755091784567448642"
     },
     "user_tz": -120
    },
    "id": "U0tZvvWd_s1V",
    "outputId": "07ce5435-6b6d-49b5-db66-b6dba53325d3"
   },
   "outputs": [
    {
     "data": {
      "text/plain": [
       "326"
      ]
     },
     "execution_count": 25,
     "metadata": {},
     "output_type": "execute_result"
    }
   ],
   "source": [
    "len(nlp.Defaults.stop_words)"
   ]
  },
  {
   "cell_type": "markdown",
   "metadata": {
    "id": "XL7aLIAgAcoI"
   },
   "source": [
    "Stop words checking"
   ]
  },
  {
   "cell_type": "code",
   "execution_count": 26,
   "metadata": {
    "colab": {
     "base_uri": "https://localhost:8080/"
    },
    "executionInfo": {
     "elapsed": 19,
     "status": "ok",
     "timestamp": 1685655544662,
     "user": {
      "displayName": "Romain Benassi",
      "userId": "07755091784567448642"
     },
     "user_tz": -120
    },
    "id": "qtamITj0_uCe",
    "outputId": "22065ad2-846a-4d5f-e547-65b8a3444d3a"
   },
   "outputs": [
    {
     "data": {
      "text/plain": [
       "True"
      ]
     },
     "execution_count": 26,
     "metadata": {},
     "output_type": "execute_result"
    }
   ],
   "source": [
    "nlp.vocab['is'].is_stop"
   ]
  },
  {
   "cell_type": "code",
   "execution_count": 27,
   "metadata": {
    "colab": {
     "base_uri": "https://localhost:8080/"
    },
    "executionInfo": {
     "elapsed": 18,
     "status": "ok",
     "timestamp": 1685655544662,
     "user": {
      "displayName": "Romain Benassi",
      "userId": "07755091784567448642"
     },
     "user_tz": -120
    },
    "id": "sscMNy9G_xot",
    "outputId": "5ca00ce9-82a7-4ef2-f407-c5b9a351703e"
   },
   "outputs": [
    {
     "data": {
      "text/plain": [
       "False"
      ]
     },
     "execution_count": 27,
     "metadata": {},
     "output_type": "execute_result"
    }
   ],
   "source": [
    "nlp.vocab['flower'].is_stop"
   ]
  },
  {
   "cell_type": "markdown",
   "metadata": {
    "id": "Ul1jJDJMAhsl"
   },
   "source": [
    "Stop word addition"
   ]
  },
  {
   "cell_type": "code",
   "execution_count": 28,
   "metadata": {
    "colab": {
     "base_uri": "https://localhost:8080/"
    },
    "executionInfo": {
     "elapsed": 18,
     "status": "ok",
     "timestamp": 1685655544663,
     "user": {
      "displayName": "Romain Benassi",
      "userId": "07755091784567448642"
     },
     "user_tz": -120
    },
    "id": "RTa3DcGW_12F",
    "outputId": "9c2d7c27-773b-402d-ec4e-b39b43bf7795"
   },
   "outputs": [
    {
     "data": {
      "text/plain": [
       "False"
      ]
     },
     "execution_count": 28,
     "metadata": {},
     "output_type": "execute_result"
    }
   ],
   "source": [
    "nlp.vocab['btw'].is_stop"
   ]
  },
  {
   "cell_type": "code",
   "execution_count": 29,
   "metadata": {
    "executionInfo": {
     "elapsed": 17,
     "status": "ok",
     "timestamp": 1685655544663,
     "user": {
      "displayName": "Romain Benassi",
      "userId": "07755091784567448642"
     },
     "user_tz": -120
    },
    "id": "RC7w7HuD_7du"
   },
   "outputs": [],
   "source": [
    "# Add the word to the set of stop words. Use lowercase!\n",
    "nlp.Defaults.stop_words.add('btw')"
   ]
  },
  {
   "cell_type": "code",
   "execution_count": 30,
   "metadata": {
    "colab": {
     "base_uri": "https://localhost:8080/"
    },
    "executionInfo": {
     "elapsed": 17,
     "status": "ok",
     "timestamp": 1685655544663,
     "user": {
      "displayName": "Romain Benassi",
      "userId": "07755091784567448642"
     },
     "user_tz": -120
    },
    "id": "DAa3heZDACqB",
    "outputId": "27d1e7df-37bc-4c66-fb92-52e1a10c6e15"
   },
   "outputs": [
    {
     "data": {
      "text/plain": [
       "True"
      ]
     },
     "execution_count": 30,
     "metadata": {},
     "output_type": "execute_result"
    }
   ],
   "source": [
    "'btw' in nlp.Defaults.stop_words"
   ]
  },
  {
   "cell_type": "code",
   "execution_count": 31,
   "metadata": {
    "colab": {
     "base_uri": "https://localhost:8080/"
    },
    "executionInfo": {
     "elapsed": 16,
     "status": "ok",
     "timestamp": 1685655544663,
     "user": {
      "displayName": "Romain Benassi",
      "userId": "07755091784567448642"
     },
     "user_tz": -120
    },
    "id": "kOiJbU0RAHi-",
    "outputId": "de762008-d68c-414b-91da-6a014d0fff7a"
   },
   "outputs": [
    {
     "data": {
      "text/plain": [
       "327"
      ]
     },
     "execution_count": 31,
     "metadata": {},
     "output_type": "execute_result"
    }
   ],
   "source": [
    "len(nlp.Defaults.stop_words)"
   ]
  },
  {
   "cell_type": "code",
   "execution_count": 32,
   "metadata": {
    "colab": {
     "base_uri": "https://localhost:8080/"
    },
    "executionInfo": {
     "elapsed": 15,
     "status": "ok",
     "timestamp": 1685655544664,
     "user": {
      "displayName": "Romain Benassi",
      "userId": "07755091784567448642"
     },
     "user_tz": -120
    },
    "id": "ZOY6SdBVAKSc",
    "outputId": "36db908d-0cd0-4347-964c-8fabda46a382"
   },
   "outputs": [
    {
     "data": {
      "text/plain": [
       "False"
      ]
     },
     "execution_count": 32,
     "metadata": {},
     "output_type": "execute_result"
    }
   ],
   "source": [
    "nlp.vocab['btw'].is_stop"
   ]
  },
  {
   "cell_type": "markdown",
   "metadata": {
    "id": "49KGkiZFAsOD"
   },
   "source": [
    "Stop word removal"
   ]
  },
  {
   "cell_type": "code",
   "execution_count": 33,
   "metadata": {
    "colab": {
     "base_uri": "https://localhost:8080/"
    },
    "executionInfo": {
     "elapsed": 14,
     "status": "ok",
     "timestamp": 1685655544664,
     "user": {
      "displayName": "Romain Benassi",
      "userId": "07755091784567448642"
     },
     "user_tz": -120
    },
    "id": "HF0U7c6gAPGD",
    "outputId": "94765077-3415-47c8-89df-3599f231197f"
   },
   "outputs": [
    {
     "data": {
      "text/plain": [
       "True"
      ]
     },
     "execution_count": 33,
     "metadata": {},
     "output_type": "execute_result"
    }
   ],
   "source": [
    "nlp.vocab['beyond'].is_stop"
   ]
  },
  {
   "cell_type": "code",
   "execution_count": 34,
   "metadata": {
    "executionInfo": {
     "elapsed": 13,
     "status": "ok",
     "timestamp": 1685655544664,
     "user": {
      "displayName": "Romain Benassi",
      "userId": "07755091784567448642"
     },
     "user_tz": -120
    },
    "id": "0tbioaiQAL7_"
   },
   "outputs": [],
   "source": [
    "# Remove the word from the set of stop words\n",
    "nlp.Defaults.stop_words.remove('beyond')"
   ]
  },
  {
   "cell_type": "code",
   "execution_count": 35,
   "metadata": {
    "colab": {
     "base_uri": "https://localhost:8080/"
    },
    "executionInfo": {
     "elapsed": 12,
     "status": "ok",
     "timestamp": 1685655544664,
     "user": {
      "displayName": "Romain Benassi",
      "userId": "07755091784567448642"
     },
     "user_tz": -120
    },
    "id": "aFVjzSLpAUDS",
    "outputId": "a9e4abbf-9214-4155-cfd5-24642e338c3f"
   },
   "outputs": [
    {
     "data": {
      "text/plain": [
       "326"
      ]
     },
     "execution_count": 35,
     "metadata": {},
     "output_type": "execute_result"
    }
   ],
   "source": [
    "len(nlp.Defaults.stop_words)"
   ]
  },
  {
   "cell_type": "code",
   "execution_count": 36,
   "metadata": {
    "colab": {
     "base_uri": "https://localhost:8080/"
    },
    "executionInfo": {
     "elapsed": 11,
     "status": "ok",
     "timestamp": 1685655544664,
     "user": {
      "displayName": "Romain Benassi",
      "userId": "07755091784567448642"
     },
     "user_tz": -120
    },
    "id": "WmXd4dAwAvK9",
    "outputId": "e8031ce5-0b7d-434d-9a24-0a6166dac984"
   },
   "outputs": [
    {
     "data": {
      "text/plain": [
       "False"
      ]
     },
     "execution_count": 36,
     "metadata": {},
     "output_type": "execute_result"
    }
   ],
   "source": [
    "'beyond' in nlp.Defaults.stop_words"
   ]
  },
  {
   "cell_type": "code",
   "execution_count": 37,
   "metadata": {
    "colab": {
     "base_uri": "https://localhost:8080/"
    },
    "executionInfo": {
     "elapsed": 10,
     "status": "ok",
     "timestamp": 1685655544665,
     "user": {
      "displayName": "Romain Benassi",
      "userId": "07755091784567448642"
     },
     "user_tz": -120
    },
    "id": "J4i5KCn_AUj8",
    "outputId": "e89b3c5e-40f0-4962-e778-e5ba8fd78508"
   },
   "outputs": [
    {
     "data": {
      "text/plain": [
       "True"
      ]
     },
     "execution_count": 37,
     "metadata": {},
     "output_type": "execute_result"
    }
   ],
   "source": [
    "nlp.vocab['beyond'].is_stop"
   ]
  },
  {
   "cell_type": "markdown",
   "metadata": {
    "id": "1pBuiWs7wFtk"
   },
   "source": [
    "References:\n",
    "\n",
    "https://stackabuse.com/python-for-nlp-tokenization-stemming-and-lemmatization-with-spacy-library/\n",
    "\n",
    "https://www.udemy.com/course/nlp-natural-language-processing-with-python"
   ]
  }
 ],
 "metadata": {
  "colab": {
   "authorship_tag": "ABX9TyPclZqkIyuh3/QrnmCmyHIm",
   "provenance": []
  },
  "kernelspec": {
   "display_name": "Python 3 (ipykernel)",
   "language": "python",
   "name": "python3"
  },
  "language_info": {
   "codemirror_mode": {
    "name": "ipython",
    "version": 3
   },
   "file_extension": ".py",
   "mimetype": "text/x-python",
   "name": "python",
   "nbconvert_exporter": "python",
   "pygments_lexer": "ipython3",
   "version": "3.8.13"
  }
 },
 "nbformat": 4,
 "nbformat_minor": 1
}
