{
  "nbformat": 4,
  "nbformat_minor": 0,
  "metadata": {
    "colab": {
      "provenance": [],
      "collapsed_sections": [
        "n65301OMyMnL",
        "u2OFypZWyTjZ",
        "28_M2H4Xys2U",
        "T5lKJE-9iNog",
        "akSfTimKyNjb",
        "n5vEsbbhzGrR",
        "ERpnd2iFzIoR"
      ]
    },
    "kernelspec": {
      "name": "python3",
      "display_name": "Python 3"
    },
    "language_info": {
      "name": "python"
    }
  },
  "cells": [
    {
      "cell_type": "markdown",
      "source": [
        "# Tokenization"
      ],
      "metadata": {
        "id": "n65301OMyMnL"
      }
    },
    {
      "cell_type": "markdown",
      "source": [
        "**SpaCy** is a popular library for natural language processing.<br>In the following exercise, you will use the `spacy.load()` function to tokenize the text.\n",
        "\n",
        "The function's syntax is `spacy.load(name, **kwargs)`.\n",
        "\n",
        "*   The **`name`** parameter is the name of the model to be loaded. This could be a package name, a shortcut link, or a path to the model data directory. SpaCy provides several pre-trained models that you can download and use in your code. These models are trained on a variety of data and support a wide range of languages.\n",
        "*   `**kwargs` represents keyword arguments which are optional.\n",
        "\n",
        "SpaCy offers several pre-trained models for the English language which are trained on different types and amounts of data:\n",
        "\n",
        "* **`en_core_web_sm`**: This is the smallest model and is great for getting started with. Assigns word vectors, Part-of-Speech tags, dependency parses and named entities.\n",
        "\n",
        "* **`en_core_web_md`**: This is the medium version of the English model.\n",
        "\n",
        "* **`en_core_web_lg`**: This is the large version of the English model.\n",
        "\n",
        "* **`en_core_web_trf`**: This model is a transformer-based pipeline for English text, using the base model of the transformer architecture. The pipeline includes a tokenizer, a transformer, a part-of-speech tagger, a parser, an attribute ruler, a lemmatizer, and a named entity recognizer.\n",
        "\n",
        "**1. Load the `en_core_web_sm` model in the `spacy.load()` function and use it on the following sentence.**\n",
        "\n",
        "*Tips: Store the spacy.load() function in a variable and then use that variable as a regular python function to transform the text.*"
      ],
      "metadata": {
        "id": "rmBBgnbCHV59"
      }
    },
    {
      "cell_type": "code",
      "source": [
        "sentence = \"This is the 1st part of the 'NLP for chatbots' exercise sheet !\""
      ],
      "metadata": {
        "id": "BJR-aqE3SCUP"
      },
      "execution_count": null,
      "outputs": []
    },
    {
      "cell_type": "code",
      "execution_count": null,
      "metadata": {
        "id": "R-rv1ENmvpuo",
        "colab": {
          "base_uri": "https://localhost:8080/"
        },
        "outputId": "c6e72ec2-99cc-43b0-ef2b-dd35f2b025e5"
      },
      "outputs": [
        {
          "output_type": "execute_result",
          "data": {
            "text/plain": [
              "This is the 1st part of the 'NLP for chatbots' exercise sheet !"
            ]
          },
          "metadata": {},
          "execution_count": 2
        }
      ],
      "source": [
        "import spacy\n",
        "\n",
        "nlp = spacy.load(\"en_core_web_sm\")\n",
        "doc = nlp(sentence)\n",
        "doc"
      ]
    },
    {
      "cell_type": "markdown",
      "source": [
        "**2. What is the type of the result ?**\n",
        "\n",
        "*Tips: Use `type()` on the output of question 1*"
      ],
      "metadata": {
        "id": "AEbIk22OKtkP"
      }
    },
    {
      "cell_type": "code",
      "source": [
        "type(doc)"
      ],
      "metadata": {
        "colab": {
          "base_uri": "https://localhost:8080/"
        },
        "id": "5wMn9bjOFBMd",
        "outputId": "02d45260-4bb5-4b03-f60b-00a35adb3fbe"
      },
      "execution_count": null,
      "outputs": [
        {
          "output_type": "execute_result",
          "data": {
            "text/plain": [
              "spacy.tokens.doc.Doc"
            ]
          },
          "metadata": {},
          "execution_count": 3
        }
      ]
    },
    {
      "cell_type": "markdown",
      "source": [
        "The function returns a **Doc object**, which is typically named nlp in SpaCy code.<br> This Doc object contains the processing pipeline and language-specific rules for tokenization.\n",
        "\n",
        "In our case, the Doc object is essentially a sequence of **Token objects**. The Token class in SpaCy represents a single token — that might be a word, punctuation symbol, whitespace, etc. Each Token object has a number of attributes that provide information about the token.\n",
        "\n",
        "The **`.text`** attribute of the Token object returns the original text of the token while the .is_alpha, .is_punct and .is_stop respectively returns True if the token is a number or letter, is a punctuation or is a stop word.\n",
        "\n",
        "**3. Iterate over the Doc object obtained at question 1 and print the `text`, `is_alpha`, `is_punct` and `is_stop`  attributes of each token.**"
      ],
      "metadata": {
        "id": "70XRUE0OLIfS"
      }
    },
    {
      "cell_type": "code",
      "source": [
        "print(f\"{'Token':15}\", end=' ')\n",
        "print(f\"{'Alpha':6}\", end=' ')\n",
        "print(f\"{'Punct':6}\", end=' ')\n",
        "print(f\"{'Stop':6}\", end='\\n\\n')\n",
        "\n",
        "for token in doc:\n",
        "    print(f\"{token.text:15}\", end=' ')\n",
        "    print(f\"{str(token.is_alpha):6}\", end=' ')\n",
        "    print(f\"{str(token.is_punct):6}\", end=' ')\n",
        "    print(f\"{str(token.is_stop):6}\")"
      ],
      "metadata": {
        "colab": {
          "base_uri": "https://localhost:8080/"
        },
        "id": "y4nYpBRtFAUd",
        "outputId": "b14b5d8a-9eba-4c92-be06-878e10c3aca9"
      },
      "execution_count": null,
      "outputs": [
        {
          "output_type": "stream",
          "name": "stdout",
          "text": [
            "Token           Alpha  Punct  Stop  \n",
            "\n",
            "This            True   False  True  \n",
            "is              True   False  True  \n",
            "the             True   False  True  \n",
            "1st             False  False  False \n",
            "part            True   False  True  \n",
            "of              True   False  True  \n",
            "the             True   False  True  \n",
            "'               False  True   False \n",
            "NLP             True   False  False \n",
            "for             True   False  True  \n",
            "chatbots        True   False  False \n",
            "'               False  True   False \n",
            "exercise        True   False  False \n",
            "sheet           True   False  False \n",
            "!               False  True   False \n"
          ]
        }
      ]
    },
    {
      "cell_type": "markdown",
      "source": [
        "SpaCy tokenization is powerful and can handle various specific cases.<br>\n",
        "For example, it can be tricky to correctly tokenize the sentence \"Dr. Smith graduated from Oxford University in 2023.\" because of the \"Dr.\" abbreviation, but SpaCy manages it.\n",
        "\n",
        "**4. Tokenize the aforementioned sentence to see what happens to the \"Dr.\" abbreviation.**"
      ],
      "metadata": {
        "id": "YzmotiuSSZQK"
      }
    },
    {
      "cell_type": "code",
      "source": [
        "# The Dr. has been kept as one single token.\n",
        "doc = nlp(\"Dr. Smith graduated from Oxford University in 2023.\")\n",
        "list(doc)"
      ],
      "metadata": {
        "colab": {
          "base_uri": "https://localhost:8080/"
        },
        "id": "rya6fq18S9i0",
        "outputId": "f7dfb4c5-4ad4-43fd-c41c-2bb48798395a"
      },
      "execution_count": null,
      "outputs": [
        {
          "output_type": "execute_result",
          "data": {
            "text/plain": [
              "[Dr., Smith, graduated, from, Oxford, University, in, 2023, .]"
            ]
          },
          "metadata": {},
          "execution_count": 5
        }
      ]
    },
    {
      "cell_type": "markdown",
      "source": [
        "Here is a bunch of other particular cases:\n",
        "\n",
        "*   \"New York City is often just called NYC.\"\n",
        "*   \"I paid $50 for this T-shirt.\"\n",
        "*   \"She lives in St. Petersburg, Russia.\"\n",
        "*   \"We're visiting our cousins in San Francisco.\"\n",
        "*   \"He said, 'The party starts at 8 p.m.'\"\n",
        "*   \"I visited the website www.example.com.\"\n",
        "*   \"It's 100°F outside.\"\n",
        "*   \"She got an A+ in her English test.\"\n",
        "*   \"The email address is example@example.com.\"\n",
        "\n",
        "**5. Tokenize the aforementionned cases and find their distinctive characteristic.**"
      ],
      "metadata": {
        "id": "n-UNd0iOTZaM"
      }
    },
    {
      "cell_type": "code",
      "source": [
        "sentences = [\"United States of America is often just called U.S.A.\",\n",
        "             \"I paid $50 for this T-shirt.\",\n",
        "             \"She lives in St. Petersburg, Russia.\",\n",
        "             \"We're visiting our cousins in San Francisco.\",\n",
        "             \"He said, 'The party starts at 8 p.m.'\",\n",
        "             \"I visited the website www.example.com.\",\n",
        "             \"It's 100°F outside.\",\n",
        "             \"She got an A+ in her English test.\",\n",
        "             \"The email address is example@example.com.\"]\n",
        "for sentence in sentences:\n",
        "    doc = nlp(sentence)\n",
        "    print(list(doc))"
      ],
      "metadata": {
        "colab": {
          "base_uri": "https://localhost:8080/"
        },
        "id": "YF6DFyxJUCHn",
        "outputId": "5d7e2d6b-92d7-45b6-f163-33c242d5123a"
      },
      "execution_count": null,
      "outputs": [
        {
          "output_type": "stream",
          "name": "stdout",
          "text": [
            "[United, States, of, America, is, often, just, called, U.S.A.]\n",
            "[I, paid, $, 50, for, this, T, -, shirt, .]\n",
            "[She, lives, in, St., Petersburg, ,, Russia, .]\n",
            "[We, 're, visiting, our, cousins, in, San, Francisco, .]\n",
            "[He, said, ,, ', The, party, starts, at, 8, p.m., ']\n",
            "[I, visited, the, website, www.example.com, .]\n",
            "[It, 's, 100, °, F, outside, .]\n",
            "[She, got, an, A+, in, her, English, test, .]\n",
            "[The, email, address, is, example@example.com, .]\n"
          ]
        }
      ]
    },
    {
      "cell_type": "markdown",
      "source": [
        "# Stemming and Lemmatization"
      ],
      "metadata": {
        "id": "u2OFypZWyTjZ"
      }
    },
    {
      "cell_type": "markdown",
      "source": [
        "SpaCy doesn't include a stemmer but fortunately, **NLTK**, the Natural Language Toolkit, does include a stemming option.\n",
        "\n",
        "NLTK has two different main stemmers :\n",
        "\n",
        "* The **Porter Stemmer** is one of the most popular stemming algorithms. It's a rule-based algorithm that strips suffixes based on a series of predefined rules. These rules define whether or not a word can have a certain suffix removed, often by considering the length of the word or what characters it ends with.\n",
        "\n",
        "* The **Snowball stemmer**, is a slightly improved version of the original Porter stemmer both in terms of logic and speed.\n",
        "\n",
        "The Porter Stemmer algorithm can be found on the NLTK libray [here](https://www.nltk.org/api/nltk.stem.porter.html) and can be imported from `nltk.stem`.\n",
        "\n",
        "**1. Use the Porter Stemmer algorithm to stem the following sentences.**\n",
        "\n",
        "*Tips: the `PorterStemmer() `class from nltk can stem the words individually with its `stem(word, to_lowercase=True)` method.*"
      ],
      "metadata": {
        "id": "mAG9IboDcZtw"
      }
    },
    {
      "cell_type": "code",
      "source": [
        "sentences = [\"The runner was running in a running event. He outran all the other competitors.\",\n",
        "             \"I love studying different studies related to environmental sustainability.\",\n",
        "             \"The worker's determination determined the successful outcome of the project.\",\n",
        "             \"She's investing in investments that will likely appreciate significantly.\",\n",
        "             \"The geese are flying in a loose formation in the sky.\"]"
      ],
      "metadata": {
        "id": "3dywfeBdfElg"
      },
      "execution_count": null,
      "outputs": []
    },
    {
      "cell_type": "code",
      "source": [
        "from nltk.stem import PorterStemmer\n",
        "\n",
        "ps = PorterStemmer()\n",
        "nlp = spacy.load(\"en_core_web_sm\")\n",
        "\n",
        "for sentence in sentences:\n",
        "    doc = nlp(sentence)\n",
        "    print([ps.stem(word.text) for word in doc])"
      ],
      "metadata": {
        "id": "Il-1RqakysWC",
        "colab": {
          "base_uri": "https://localhost:8080/"
        },
        "outputId": "6c67e2c8-b745-4d8c-c6a1-db07cbd23b95"
      },
      "execution_count": null,
      "outputs": [
        {
          "output_type": "stream",
          "name": "stdout",
          "text": [
            "['the', 'runner', 'wa', 'run', 'in', 'a', 'run', 'event', '.', 'he', 'outran', 'all', 'the', 'other', 'competitor', '.']\n",
            "['i', 'love', 'studi', 'differ', 'studi', 'relat', 'to', 'environment', 'sustain', '.']\n",
            "['the', 'worker', \"'s\", 'determin', 'determin', 'the', 'success', 'outcom', 'of', 'the', 'project', '.']\n",
            "['she', \"'s\", 'invest', 'in', 'invest', 'that', 'will', 'like', 'appreci', 'significantli', '.']\n",
            "['the', 'gees', 'are', 'fli', 'in', 'a', 'loos', 'format', 'in', 'the', 'sky', '.']\n"
          ]
        }
      ]
    },
    {
      "cell_type": "markdown",
      "source": [
        "**Lemmatization** is generally more sophisticated than stemming because it takes into account the morphological analysis of the words and always returns a valid word that exists in the language.\n",
        "\n",
        "It can easily be done using the SpaCy library. **`spacy.load()`** creates a Doc object object that contains token objects. Each token in the Doc object includes a variety of attribute, one of which is **`token.lemma_`** that provides the lemmatized form of the word.\n",
        "\n",
        "**2. Use the `lemma_` attribute to extract the lemmatized form of the words of the aforementionned sentences.<br>Is it better ? Why ?**"
      ],
      "metadata": {
        "id": "IRJItAs6gcMg"
      }
    },
    {
      "cell_type": "code",
      "source": [
        "for sentence in sentences:\n",
        "    doc = nlp(sentence)\n",
        "    print([word.lemma_ for word in doc])"
      ],
      "metadata": {
        "colab": {
          "base_uri": "https://localhost:8080/"
        },
        "id": "7OaN4GDIhjZx",
        "outputId": "3d7f30bb-5799-4c86-e6e9-cee70cd83231"
      },
      "execution_count": null,
      "outputs": [
        {
          "output_type": "stream",
          "name": "stdout",
          "text": [
            "['the', 'runner', 'be', 'run', 'in', 'a', 'running', 'event', '.', 'he', 'outrun', 'all', 'the', 'other', 'competitor', '.']\n",
            "['I', 'love', 'study', 'different', 'study', 'relate', 'to', 'environmental', 'sustainability', '.']\n",
            "['the', 'worker', \"'s\", 'determination', 'determine', 'the', 'successful', 'outcome', 'of', 'the', 'project', '.']\n",
            "['she', 'be', 'invest', 'in', 'investment', 'that', 'will', 'likely', 'appreciate', 'significantly', '.']\n",
            "['the', 'geese', 'be', 'fly', 'in', 'a', 'loose', 'formation', 'in', 'the', 'sky', '.']\n"
          ]
        }
      ]
    },
    {
      "cell_type": "markdown",
      "source": [
        "# Part of Speech tagging"
      ],
      "metadata": {
        "id": "28_M2H4Xys2U"
      }
    },
    {
      "cell_type": "markdown",
      "source": [
        "**Part of Speech tagging** (POS tagging) can easily be done with SpaCy. Similarly to the lemmatization, POS tagging is performed automatically when you create a Doc object. Each token in the Doc object includes two attributes for POS tagging:\n",
        "\n",
        "*   the **pos_** attribute provides a coarse-grained part-of-speech tag.\n",
        "*   the **tag_** attribute provides provides a fine-grained part-of-speech tag. It includes more specific information about the word's morphological features, and the specific set of tags used can vary between languages.\n",
        "\n",
        "At first, most tags are complex and may be hard to understand. To alleviate this issue, SpaCy propose a **`spacy.explain()`** function that explains the various linguistic annotations that it can produce by returning a brief description of what the term means.\n",
        "\n",
        "**1. Use the `pos` and the `tag` attribute to get POS tagging of these two sentences.**\n",
        "\n",
        "*Tips: Don't forget to use the `spacy.explain()` function around the POS tag.*"
      ],
      "metadata": {
        "id": "OREbsNMxivlL"
      }
    },
    {
      "cell_type": "code",
      "source": [
        "sentence_1 = \"The quick brown fox jumps over the lazy dog.\"\n",
        "sentence_2 = \"Eating apples and oranges daily improves your health.\""
      ],
      "metadata": {
        "id": "X9NlyHxAl_cE"
      },
      "execution_count": null,
      "outputs": []
    },
    {
      "cell_type": "code",
      "source": [
        "nlp = spacy.load(\"en_core_web_sm\")\n",
        "doc = nlp(sentence_1)\n",
        "for word in doc:\n",
        "    print(f\"{word.text:10} {word.tag_:5} {word.pos_:10} {spacy.explain(word.tag_)}\")"
      ],
      "metadata": {
        "id": "wgDoR2tOzGNr",
        "colab": {
          "base_uri": "https://localhost:8080/"
        },
        "outputId": "c37b6267-f5f1-4716-d46f-cf20adabc75c"
      },
      "execution_count": null,
      "outputs": [
        {
          "output_type": "stream",
          "name": "stdout",
          "text": [
            "The        DT    DET        determiner\n",
            "quick      JJ    ADJ        adjective (English), other noun-modifier (Chinese)\n",
            "brown      JJ    ADJ        adjective (English), other noun-modifier (Chinese)\n",
            "fox        NN    NOUN       noun, singular or mass\n",
            "jumps      VBZ   VERB       verb, 3rd person singular present\n",
            "over       IN    ADP        conjunction, subordinating or preposition\n",
            "the        DT    DET        determiner\n",
            "lazy       JJ    ADJ        adjective (English), other noun-modifier (Chinese)\n",
            "dog        NN    NOUN       noun, singular or mass\n",
            ".          .     PUNCT      punctuation mark, sentence closer\n"
          ]
        }
      ]
    },
    {
      "cell_type": "code",
      "source": [
        "nlp = spacy.load(\"en_core_web_sm\")\n",
        "doc = nlp(sentence_2)\n",
        "for word in doc:\n",
        "    print(f\"{word.text:10} {word.tag_:5} {word.pos_:10} {spacy.explain(word.tag_)}\")"
      ],
      "metadata": {
        "colab": {
          "base_uri": "https://localhost:8080/"
        },
        "id": "vODx6U9Knt8f",
        "outputId": "58877dda-70cb-43cb-caae-f97ee89f4591"
      },
      "execution_count": null,
      "outputs": [
        {
          "output_type": "stream",
          "name": "stdout",
          "text": [
            "Eating     VBG   VERB       verb, gerund or present participle\n",
            "apples     NNS   NOUN       noun, plural\n",
            "and        CC    CCONJ      conjunction, coordinating\n",
            "oranges    NNS   NOUN       noun, plural\n",
            "daily      RB    ADV        adverb\n",
            "improves   VBZ   VERB       verb, 3rd person singular present\n",
            "your       PRP$  PRON       pronoun, possessive\n",
            "health     NN    NOUN       noun, singular or mass\n",
            ".          .     PUNCT      punctuation mark, sentence closer\n"
          ]
        }
      ]
    },
    {
      "cell_type": "markdown",
      "source": [
        "**displaCy** is SpaCy's built-in library for visualizing dependency parse trees and named entities in a sentence. It is a great tool for exploring and understanding the output of SpaCy's linguistic annotation models.\n",
        "\n",
        "> *A **dependency parse tree** is a way of showing how words in a sentence relate to each other. It's called a \"tree\" because it starts with a root word (usually the main verb), and every other word branches off from it or from other words. The \"branches\" show which words depend on which other words to make sense.*\n",
        "\n",
        "displaCy has two main function to visualize the sentences:\n",
        "\n",
        "\n",
        "*   **`displaCy.serve(doc, style)`** that starts a web server to display the visualization, and is not intended for use in production environments.\n",
        "*   **`displaCy.render(doc, style)`** that generates the tree as an image. This function should be use in Production as well as in Jupyter Notebooks.\n",
        "\n",
        "**2. Use the displaCy library to render the dependency parse trees of the two aforementionned sentences.**"
      ],
      "metadata": {
        "id": "btp5sdC8pVif"
      }
    },
    {
      "cell_type": "code",
      "source": [
        "from spacy import displacy\n",
        "doc = nlp(sentence_1)\n",
        "displacy.render(doc, style=\"dep\", jupyter=True)"
      ],
      "metadata": {
        "colab": {
          "base_uri": "https://localhost:8080/"
        },
        "id": "aEovygnnoEjw",
        "outputId": "16f20e2b-a46e-41d9-ef48-468465646aa9"
      },
      "execution_count": null,
      "outputs": [
        {
          "output_type": "display_data",
          "data": {
            "text/plain": [
              "<IPython.core.display.HTML object>"
            ],
            "text/html": [
              "<span class=\"tex2jax_ignore\"><svg xmlns=\"http://www.w3.org/2000/svg\" xmlns:xlink=\"http://www.w3.org/1999/xlink\" xml:lang=\"en\" id=\"f9393f19990f43c7b548efae73b7f5de-0\" class=\"displacy\" width=\"1625\" height=\"399.5\" direction=\"ltr\" style=\"max-width: none; height: 399.5px; color: #000000; background: #ffffff; font-family: Arial; direction: ltr\">\n",
              "<text class=\"displacy-token\" fill=\"currentColor\" text-anchor=\"middle\" y=\"309.5\">\n",
              "    <tspan class=\"displacy-word\" fill=\"currentColor\" x=\"50\">The</tspan>\n",
              "    <tspan class=\"displacy-tag\" dy=\"2em\" fill=\"currentColor\" x=\"50\">DET</tspan>\n",
              "</text>\n",
              "\n",
              "<text class=\"displacy-token\" fill=\"currentColor\" text-anchor=\"middle\" y=\"309.5\">\n",
              "    <tspan class=\"displacy-word\" fill=\"currentColor\" x=\"225\">quick</tspan>\n",
              "    <tspan class=\"displacy-tag\" dy=\"2em\" fill=\"currentColor\" x=\"225\">ADJ</tspan>\n",
              "</text>\n",
              "\n",
              "<text class=\"displacy-token\" fill=\"currentColor\" text-anchor=\"middle\" y=\"309.5\">\n",
              "    <tspan class=\"displacy-word\" fill=\"currentColor\" x=\"400\">brown</tspan>\n",
              "    <tspan class=\"displacy-tag\" dy=\"2em\" fill=\"currentColor\" x=\"400\">ADJ</tspan>\n",
              "</text>\n",
              "\n",
              "<text class=\"displacy-token\" fill=\"currentColor\" text-anchor=\"middle\" y=\"309.5\">\n",
              "    <tspan class=\"displacy-word\" fill=\"currentColor\" x=\"575\">fox</tspan>\n",
              "    <tspan class=\"displacy-tag\" dy=\"2em\" fill=\"currentColor\" x=\"575\">NOUN</tspan>\n",
              "</text>\n",
              "\n",
              "<text class=\"displacy-token\" fill=\"currentColor\" text-anchor=\"middle\" y=\"309.5\">\n",
              "    <tspan class=\"displacy-word\" fill=\"currentColor\" x=\"750\">jumps</tspan>\n",
              "    <tspan class=\"displacy-tag\" dy=\"2em\" fill=\"currentColor\" x=\"750\">VERB</tspan>\n",
              "</text>\n",
              "\n",
              "<text class=\"displacy-token\" fill=\"currentColor\" text-anchor=\"middle\" y=\"309.5\">\n",
              "    <tspan class=\"displacy-word\" fill=\"currentColor\" x=\"925\">over</tspan>\n",
              "    <tspan class=\"displacy-tag\" dy=\"2em\" fill=\"currentColor\" x=\"925\">ADP</tspan>\n",
              "</text>\n",
              "\n",
              "<text class=\"displacy-token\" fill=\"currentColor\" text-anchor=\"middle\" y=\"309.5\">\n",
              "    <tspan class=\"displacy-word\" fill=\"currentColor\" x=\"1100\">the</tspan>\n",
              "    <tspan class=\"displacy-tag\" dy=\"2em\" fill=\"currentColor\" x=\"1100\">DET</tspan>\n",
              "</text>\n",
              "\n",
              "<text class=\"displacy-token\" fill=\"currentColor\" text-anchor=\"middle\" y=\"309.5\">\n",
              "    <tspan class=\"displacy-word\" fill=\"currentColor\" x=\"1275\">lazy</tspan>\n",
              "    <tspan class=\"displacy-tag\" dy=\"2em\" fill=\"currentColor\" x=\"1275\">ADJ</tspan>\n",
              "</text>\n",
              "\n",
              "<text class=\"displacy-token\" fill=\"currentColor\" text-anchor=\"middle\" y=\"309.5\">\n",
              "    <tspan class=\"displacy-word\" fill=\"currentColor\" x=\"1450\">dog.</tspan>\n",
              "    <tspan class=\"displacy-tag\" dy=\"2em\" fill=\"currentColor\" x=\"1450\">NOUN</tspan>\n",
              "</text>\n",
              "\n",
              "<g class=\"displacy-arrow\">\n",
              "    <path class=\"displacy-arc\" id=\"arrow-f9393f19990f43c7b548efae73b7f5de-0-0\" stroke-width=\"2px\" d=\"M70,264.5 C70,2.0 575.0,2.0 575.0,264.5\" fill=\"none\" stroke=\"currentColor\"/>\n",
              "    <text dy=\"1.25em\" style=\"font-size: 0.8em; letter-spacing: 1px\">\n",
              "        <textPath xlink:href=\"#arrow-f9393f19990f43c7b548efae73b7f5de-0-0\" class=\"displacy-label\" startOffset=\"50%\" side=\"left\" fill=\"currentColor\" text-anchor=\"middle\">det</textPath>\n",
              "    </text>\n",
              "    <path class=\"displacy-arrowhead\" d=\"M70,266.5 L62,254.5 78,254.5\" fill=\"currentColor\"/>\n",
              "</g>\n",
              "\n",
              "<g class=\"displacy-arrow\">\n",
              "    <path class=\"displacy-arc\" id=\"arrow-f9393f19990f43c7b548efae73b7f5de-0-1\" stroke-width=\"2px\" d=\"M245,264.5 C245,89.5 570.0,89.5 570.0,264.5\" fill=\"none\" stroke=\"currentColor\"/>\n",
              "    <text dy=\"1.25em\" style=\"font-size: 0.8em; letter-spacing: 1px\">\n",
              "        <textPath xlink:href=\"#arrow-f9393f19990f43c7b548efae73b7f5de-0-1\" class=\"displacy-label\" startOffset=\"50%\" side=\"left\" fill=\"currentColor\" text-anchor=\"middle\">amod</textPath>\n",
              "    </text>\n",
              "    <path class=\"displacy-arrowhead\" d=\"M245,266.5 L237,254.5 253,254.5\" fill=\"currentColor\"/>\n",
              "</g>\n",
              "\n",
              "<g class=\"displacy-arrow\">\n",
              "    <path class=\"displacy-arc\" id=\"arrow-f9393f19990f43c7b548efae73b7f5de-0-2\" stroke-width=\"2px\" d=\"M420,264.5 C420,177.0 565.0,177.0 565.0,264.5\" fill=\"none\" stroke=\"currentColor\"/>\n",
              "    <text dy=\"1.25em\" style=\"font-size: 0.8em; letter-spacing: 1px\">\n",
              "        <textPath xlink:href=\"#arrow-f9393f19990f43c7b548efae73b7f5de-0-2\" class=\"displacy-label\" startOffset=\"50%\" side=\"left\" fill=\"currentColor\" text-anchor=\"middle\">amod</textPath>\n",
              "    </text>\n",
              "    <path class=\"displacy-arrowhead\" d=\"M420,266.5 L412,254.5 428,254.5\" fill=\"currentColor\"/>\n",
              "</g>\n",
              "\n",
              "<g class=\"displacy-arrow\">\n",
              "    <path class=\"displacy-arc\" id=\"arrow-f9393f19990f43c7b548efae73b7f5de-0-3\" stroke-width=\"2px\" d=\"M595,264.5 C595,177.0 740.0,177.0 740.0,264.5\" fill=\"none\" stroke=\"currentColor\"/>\n",
              "    <text dy=\"1.25em\" style=\"font-size: 0.8em; letter-spacing: 1px\">\n",
              "        <textPath xlink:href=\"#arrow-f9393f19990f43c7b548efae73b7f5de-0-3\" class=\"displacy-label\" startOffset=\"50%\" side=\"left\" fill=\"currentColor\" text-anchor=\"middle\">nsubj</textPath>\n",
              "    </text>\n",
              "    <path class=\"displacy-arrowhead\" d=\"M595,266.5 L587,254.5 603,254.5\" fill=\"currentColor\"/>\n",
              "</g>\n",
              "\n",
              "<g class=\"displacy-arrow\">\n",
              "    <path class=\"displacy-arc\" id=\"arrow-f9393f19990f43c7b548efae73b7f5de-0-4\" stroke-width=\"2px\" d=\"M770,264.5 C770,177.0 915.0,177.0 915.0,264.5\" fill=\"none\" stroke=\"currentColor\"/>\n",
              "    <text dy=\"1.25em\" style=\"font-size: 0.8em; letter-spacing: 1px\">\n",
              "        <textPath xlink:href=\"#arrow-f9393f19990f43c7b548efae73b7f5de-0-4\" class=\"displacy-label\" startOffset=\"50%\" side=\"left\" fill=\"currentColor\" text-anchor=\"middle\">prep</textPath>\n",
              "    </text>\n",
              "    <path class=\"displacy-arrowhead\" d=\"M915.0,266.5 L923.0,254.5 907.0,254.5\" fill=\"currentColor\"/>\n",
              "</g>\n",
              "\n",
              "<g class=\"displacy-arrow\">\n",
              "    <path class=\"displacy-arc\" id=\"arrow-f9393f19990f43c7b548efae73b7f5de-0-5\" stroke-width=\"2px\" d=\"M1120,264.5 C1120,89.5 1445.0,89.5 1445.0,264.5\" fill=\"none\" stroke=\"currentColor\"/>\n",
              "    <text dy=\"1.25em\" style=\"font-size: 0.8em; letter-spacing: 1px\">\n",
              "        <textPath xlink:href=\"#arrow-f9393f19990f43c7b548efae73b7f5de-0-5\" class=\"displacy-label\" startOffset=\"50%\" side=\"left\" fill=\"currentColor\" text-anchor=\"middle\">det</textPath>\n",
              "    </text>\n",
              "    <path class=\"displacy-arrowhead\" d=\"M1120,266.5 L1112,254.5 1128,254.5\" fill=\"currentColor\"/>\n",
              "</g>\n",
              "\n",
              "<g class=\"displacy-arrow\">\n",
              "    <path class=\"displacy-arc\" id=\"arrow-f9393f19990f43c7b548efae73b7f5de-0-6\" stroke-width=\"2px\" d=\"M1295,264.5 C1295,177.0 1440.0,177.0 1440.0,264.5\" fill=\"none\" stroke=\"currentColor\"/>\n",
              "    <text dy=\"1.25em\" style=\"font-size: 0.8em; letter-spacing: 1px\">\n",
              "        <textPath xlink:href=\"#arrow-f9393f19990f43c7b548efae73b7f5de-0-6\" class=\"displacy-label\" startOffset=\"50%\" side=\"left\" fill=\"currentColor\" text-anchor=\"middle\">amod</textPath>\n",
              "    </text>\n",
              "    <path class=\"displacy-arrowhead\" d=\"M1295,266.5 L1287,254.5 1303,254.5\" fill=\"currentColor\"/>\n",
              "</g>\n",
              "\n",
              "<g class=\"displacy-arrow\">\n",
              "    <path class=\"displacy-arc\" id=\"arrow-f9393f19990f43c7b548efae73b7f5de-0-7\" stroke-width=\"2px\" d=\"M945,264.5 C945,2.0 1450.0,2.0 1450.0,264.5\" fill=\"none\" stroke=\"currentColor\"/>\n",
              "    <text dy=\"1.25em\" style=\"font-size: 0.8em; letter-spacing: 1px\">\n",
              "        <textPath xlink:href=\"#arrow-f9393f19990f43c7b548efae73b7f5de-0-7\" class=\"displacy-label\" startOffset=\"50%\" side=\"left\" fill=\"currentColor\" text-anchor=\"middle\">pobj</textPath>\n",
              "    </text>\n",
              "    <path class=\"displacy-arrowhead\" d=\"M1450.0,266.5 L1458.0,254.5 1442.0,254.5\" fill=\"currentColor\"/>\n",
              "</g>\n",
              "</svg></span>"
            ]
          },
          "metadata": {}
        }
      ]
    },
    {
      "cell_type": "code",
      "source": [
        "doc = nlp(sentence_2)\n",
        "displacy.render(doc, style=\"dep\", jupyter=True)"
      ],
      "metadata": {
        "colab": {
          "base_uri": "https://localhost:8080/"
        },
        "id": "f5PwChvGra31",
        "outputId": "db3327e2-6b50-42f8-a80c-278efa63cde5"
      },
      "execution_count": null,
      "outputs": [
        {
          "output_type": "display_data",
          "data": {
            "text/plain": [
              "<IPython.core.display.HTML object>"
            ],
            "text/html": [
              "<span class=\"tex2jax_ignore\"><svg xmlns=\"http://www.w3.org/2000/svg\" xmlns:xlink=\"http://www.w3.org/1999/xlink\" xml:lang=\"en\" id=\"08f06b270fc3434290b37f700a65fe85-0\" class=\"displacy\" width=\"1450\" height=\"487.0\" direction=\"ltr\" style=\"max-width: none; height: 487.0px; color: #000000; background: #ffffff; font-family: Arial; direction: ltr\">\n",
              "<text class=\"displacy-token\" fill=\"currentColor\" text-anchor=\"middle\" y=\"397.0\">\n",
              "    <tspan class=\"displacy-word\" fill=\"currentColor\" x=\"50\">Eating</tspan>\n",
              "    <tspan class=\"displacy-tag\" dy=\"2em\" fill=\"currentColor\" x=\"50\">VERB</tspan>\n",
              "</text>\n",
              "\n",
              "<text class=\"displacy-token\" fill=\"currentColor\" text-anchor=\"middle\" y=\"397.0\">\n",
              "    <tspan class=\"displacy-word\" fill=\"currentColor\" x=\"225\">apples</tspan>\n",
              "    <tspan class=\"displacy-tag\" dy=\"2em\" fill=\"currentColor\" x=\"225\">NOUN</tspan>\n",
              "</text>\n",
              "\n",
              "<text class=\"displacy-token\" fill=\"currentColor\" text-anchor=\"middle\" y=\"397.0\">\n",
              "    <tspan class=\"displacy-word\" fill=\"currentColor\" x=\"400\">and</tspan>\n",
              "    <tspan class=\"displacy-tag\" dy=\"2em\" fill=\"currentColor\" x=\"400\">CCONJ</tspan>\n",
              "</text>\n",
              "\n",
              "<text class=\"displacy-token\" fill=\"currentColor\" text-anchor=\"middle\" y=\"397.0\">\n",
              "    <tspan class=\"displacy-word\" fill=\"currentColor\" x=\"575\">oranges</tspan>\n",
              "    <tspan class=\"displacy-tag\" dy=\"2em\" fill=\"currentColor\" x=\"575\">NOUN</tspan>\n",
              "</text>\n",
              "\n",
              "<text class=\"displacy-token\" fill=\"currentColor\" text-anchor=\"middle\" y=\"397.0\">\n",
              "    <tspan class=\"displacy-word\" fill=\"currentColor\" x=\"750\">daily</tspan>\n",
              "    <tspan class=\"displacy-tag\" dy=\"2em\" fill=\"currentColor\" x=\"750\">ADV</tspan>\n",
              "</text>\n",
              "\n",
              "<text class=\"displacy-token\" fill=\"currentColor\" text-anchor=\"middle\" y=\"397.0\">\n",
              "    <tspan class=\"displacy-word\" fill=\"currentColor\" x=\"925\">improves</tspan>\n",
              "    <tspan class=\"displacy-tag\" dy=\"2em\" fill=\"currentColor\" x=\"925\">VERB</tspan>\n",
              "</text>\n",
              "\n",
              "<text class=\"displacy-token\" fill=\"currentColor\" text-anchor=\"middle\" y=\"397.0\">\n",
              "    <tspan class=\"displacy-word\" fill=\"currentColor\" x=\"1100\">your</tspan>\n",
              "    <tspan class=\"displacy-tag\" dy=\"2em\" fill=\"currentColor\" x=\"1100\">PRON</tspan>\n",
              "</text>\n",
              "\n",
              "<text class=\"displacy-token\" fill=\"currentColor\" text-anchor=\"middle\" y=\"397.0\">\n",
              "    <tspan class=\"displacy-word\" fill=\"currentColor\" x=\"1275\">health.</tspan>\n",
              "    <tspan class=\"displacy-tag\" dy=\"2em\" fill=\"currentColor\" x=\"1275\">NOUN</tspan>\n",
              "</text>\n",
              "\n",
              "<g class=\"displacy-arrow\">\n",
              "    <path class=\"displacy-arc\" id=\"arrow-08f06b270fc3434290b37f700a65fe85-0-0\" stroke-width=\"2px\" d=\"M70,352.0 C70,2.0 925.0,2.0 925.0,352.0\" fill=\"none\" stroke=\"currentColor\"/>\n",
              "    <text dy=\"1.25em\" style=\"font-size: 0.8em; letter-spacing: 1px\">\n",
              "        <textPath xlink:href=\"#arrow-08f06b270fc3434290b37f700a65fe85-0-0\" class=\"displacy-label\" startOffset=\"50%\" side=\"left\" fill=\"currentColor\" text-anchor=\"middle\">csubj</textPath>\n",
              "    </text>\n",
              "    <path class=\"displacy-arrowhead\" d=\"M70,354.0 L62,342.0 78,342.0\" fill=\"currentColor\"/>\n",
              "</g>\n",
              "\n",
              "<g class=\"displacy-arrow\">\n",
              "    <path class=\"displacy-arc\" id=\"arrow-08f06b270fc3434290b37f700a65fe85-0-1\" stroke-width=\"2px\" d=\"M70,352.0 C70,264.5 210.0,264.5 210.0,352.0\" fill=\"none\" stroke=\"currentColor\"/>\n",
              "    <text dy=\"1.25em\" style=\"font-size: 0.8em; letter-spacing: 1px\">\n",
              "        <textPath xlink:href=\"#arrow-08f06b270fc3434290b37f700a65fe85-0-1\" class=\"displacy-label\" startOffset=\"50%\" side=\"left\" fill=\"currentColor\" text-anchor=\"middle\">dobj</textPath>\n",
              "    </text>\n",
              "    <path class=\"displacy-arrowhead\" d=\"M210.0,354.0 L218.0,342.0 202.0,342.0\" fill=\"currentColor\"/>\n",
              "</g>\n",
              "\n",
              "<g class=\"displacy-arrow\">\n",
              "    <path class=\"displacy-arc\" id=\"arrow-08f06b270fc3434290b37f700a65fe85-0-2\" stroke-width=\"2px\" d=\"M245,352.0 C245,264.5 385.0,264.5 385.0,352.0\" fill=\"none\" stroke=\"currentColor\"/>\n",
              "    <text dy=\"1.25em\" style=\"font-size: 0.8em; letter-spacing: 1px\">\n",
              "        <textPath xlink:href=\"#arrow-08f06b270fc3434290b37f700a65fe85-0-2\" class=\"displacy-label\" startOffset=\"50%\" side=\"left\" fill=\"currentColor\" text-anchor=\"middle\">cc</textPath>\n",
              "    </text>\n",
              "    <path class=\"displacy-arrowhead\" d=\"M385.0,354.0 L393.0,342.0 377.0,342.0\" fill=\"currentColor\"/>\n",
              "</g>\n",
              "\n",
              "<g class=\"displacy-arrow\">\n",
              "    <path class=\"displacy-arc\" id=\"arrow-08f06b270fc3434290b37f700a65fe85-0-3\" stroke-width=\"2px\" d=\"M245,352.0 C245,177.0 565.0,177.0 565.0,352.0\" fill=\"none\" stroke=\"currentColor\"/>\n",
              "    <text dy=\"1.25em\" style=\"font-size: 0.8em; letter-spacing: 1px\">\n",
              "        <textPath xlink:href=\"#arrow-08f06b270fc3434290b37f700a65fe85-0-3\" class=\"displacy-label\" startOffset=\"50%\" side=\"left\" fill=\"currentColor\" text-anchor=\"middle\">conj</textPath>\n",
              "    </text>\n",
              "    <path class=\"displacy-arrowhead\" d=\"M565.0,354.0 L573.0,342.0 557.0,342.0\" fill=\"currentColor\"/>\n",
              "</g>\n",
              "\n",
              "<g class=\"displacy-arrow\">\n",
              "    <path class=\"displacy-arc\" id=\"arrow-08f06b270fc3434290b37f700a65fe85-0-4\" stroke-width=\"2px\" d=\"M70,352.0 C70,89.5 745.0,89.5 745.0,352.0\" fill=\"none\" stroke=\"currentColor\"/>\n",
              "    <text dy=\"1.25em\" style=\"font-size: 0.8em; letter-spacing: 1px\">\n",
              "        <textPath xlink:href=\"#arrow-08f06b270fc3434290b37f700a65fe85-0-4\" class=\"displacy-label\" startOffset=\"50%\" side=\"left\" fill=\"currentColor\" text-anchor=\"middle\">advmod</textPath>\n",
              "    </text>\n",
              "    <path class=\"displacy-arrowhead\" d=\"M745.0,354.0 L753.0,342.0 737.0,342.0\" fill=\"currentColor\"/>\n",
              "</g>\n",
              "\n",
              "<g class=\"displacy-arrow\">\n",
              "    <path class=\"displacy-arc\" id=\"arrow-08f06b270fc3434290b37f700a65fe85-0-5\" stroke-width=\"2px\" d=\"M1120,352.0 C1120,264.5 1260.0,264.5 1260.0,352.0\" fill=\"none\" stroke=\"currentColor\"/>\n",
              "    <text dy=\"1.25em\" style=\"font-size: 0.8em; letter-spacing: 1px\">\n",
              "        <textPath xlink:href=\"#arrow-08f06b270fc3434290b37f700a65fe85-0-5\" class=\"displacy-label\" startOffset=\"50%\" side=\"left\" fill=\"currentColor\" text-anchor=\"middle\">poss</textPath>\n",
              "    </text>\n",
              "    <path class=\"displacy-arrowhead\" d=\"M1120,354.0 L1112,342.0 1128,342.0\" fill=\"currentColor\"/>\n",
              "</g>\n",
              "\n",
              "<g class=\"displacy-arrow\">\n",
              "    <path class=\"displacy-arc\" id=\"arrow-08f06b270fc3434290b37f700a65fe85-0-6\" stroke-width=\"2px\" d=\"M945,352.0 C945,177.0 1265.0,177.0 1265.0,352.0\" fill=\"none\" stroke=\"currentColor\"/>\n",
              "    <text dy=\"1.25em\" style=\"font-size: 0.8em; letter-spacing: 1px\">\n",
              "        <textPath xlink:href=\"#arrow-08f06b270fc3434290b37f700a65fe85-0-6\" class=\"displacy-label\" startOffset=\"50%\" side=\"left\" fill=\"currentColor\" text-anchor=\"middle\">dobj</textPath>\n",
              "    </text>\n",
              "    <path class=\"displacy-arrowhead\" d=\"M1265.0,354.0 L1273.0,342.0 1257.0,342.0\" fill=\"currentColor\"/>\n",
              "</g>\n",
              "</svg></span>"
            ]
          },
          "metadata": {}
        }
      ]
    },
    {
      "cell_type": "markdown",
      "source": [
        "# Named Entity Recognition"
      ],
      "metadata": {
        "id": "T5lKJE-9iNog"
      }
    },
    {
      "cell_type": "markdown",
      "source": [
        "SpaCy has a **named entity recognition model** that supports 18 entity types, such as PERSON, NORP (nationalities, religious and political groups), FAC (buildings, airports etc.), ORG (organizations), GPE (countries, cities, states), and so on.\n",
        "\n",
        "The spaCy Doc object object has an **`.ents`** property that can be used to extract named entities. You can then access the entity text, starting position, ending position and name with the **`.text`**, **`.start_char`**, **`.end_char`** and the **`.label`** attributes respectively.\n",
        "\n",
        "**1. Find the different named entities of each of the following sentences.**"
      ],
      "metadata": {
        "id": "vySDGR1ysmWE"
      }
    },
    {
      "cell_type": "code",
      "source": [
        "sentence_1 = \"Microsoft, headquartered in Redmond, Washington, acquired LinkedIn for $26.2 billion in 2016, which was their biggest deal to date.\"\n",
        "sentence_2 = \"Emma Watson, a British actress best known for her role in the Harry Potter series, graduated from Brown University in Providence, Rhode Island in 2014.\""
      ],
      "metadata": {
        "id": "t068wijctyMv"
      },
      "execution_count": null,
      "outputs": []
    },
    {
      "cell_type": "code",
      "source": [
        "doc1 = nlp(sentence_1)\n",
        "for ent in doc1.ents:\n",
        "     print(f\"{ent.text = :20} {ent.label_ = }\")"
      ],
      "metadata": {
        "colab": {
          "base_uri": "https://localhost:8080/"
        },
        "id": "oxUxzs5diPbn",
        "outputId": "2fd7af24-a90f-482f-a55a-42dbe2a1dcd4"
      },
      "execution_count": null,
      "outputs": [
        {
          "output_type": "stream",
          "name": "stdout",
          "text": [
            "ent.text = Microsoft            ent.label_ = 'ORG'\n",
            "ent.text = Redmond              ent.label_ = 'GPE'\n",
            "ent.text = Washington           ent.label_ = 'GPE'\n",
            "ent.text = LinkedIn             ent.label_ = 'GPE'\n",
            "ent.text = $26.2 billion        ent.label_ = 'MONEY'\n",
            "ent.text = 2016                 ent.label_ = 'DATE'\n"
          ]
        }
      ]
    },
    {
      "cell_type": "code",
      "source": [
        "doc2 = nlp(sentence_2)\n",
        "for ent in doc2.ents:\n",
        "     print(f\"{ent.text = :20} {ent.label_ = }\")"
      ],
      "metadata": {
        "colab": {
          "base_uri": "https://localhost:8080/"
        },
        "id": "UMp-3YIhuc6j",
        "outputId": "090a7fa6-10dc-4cb1-e052-60651e7a8e6b"
      },
      "execution_count": null,
      "outputs": [
        {
          "output_type": "stream",
          "name": "stdout",
          "text": [
            "ent.text = Emma Watson          ent.label_ = 'PERSON'\n",
            "ent.text = British              ent.label_ = 'NORP'\n",
            "ent.text = Harry Potter         ent.label_ = 'PERSON'\n",
            "ent.text = Brown University     ent.label_ = 'ORG'\n",
            "ent.text = Providence           ent.label_ = 'GPE'\n",
            "ent.text = Rhode Island         ent.label_ = 'GPE'\n",
            "ent.text = 2014                 ent.label_ = 'DATE'\n"
          ]
        }
      ]
    },
    {
      "cell_type": "markdown",
      "source": [
        "**2. Use displaCy to display the two sentences with their respective named entities.**"
      ],
      "metadata": {
        "id": "TMM8a5RsunRY"
      }
    },
    {
      "cell_type": "code",
      "source": [
        "displacy.render(doc1, style=\"ent\", jupyter=True)"
      ],
      "metadata": {
        "colab": {
          "base_uri": "https://localhost:8080/"
        },
        "id": "1NmCjfSnuheM",
        "outputId": "0c0999a3-b5e1-4044-f5a4-a3c8c98fa4b0"
      },
      "execution_count": null,
      "outputs": [
        {
          "output_type": "display_data",
          "data": {
            "text/plain": [
              "<IPython.core.display.HTML object>"
            ],
            "text/html": [
              "<span class=\"tex2jax_ignore\"><div class=\"entities\" style=\"line-height: 2.5; direction: ltr\">\n",
              "<mark class=\"entity\" style=\"background: #7aecec; padding: 0.45em 0.6em; margin: 0 0.25em; line-height: 1; border-radius: 0.35em;\">\n",
              "    Microsoft\n",
              "    <span style=\"font-size: 0.8em; font-weight: bold; line-height: 1; border-radius: 0.35em; vertical-align: middle; margin-left: 0.5rem\">ORG</span>\n",
              "</mark>\n",
              ", headquartered in \n",
              "<mark class=\"entity\" style=\"background: #feca74; padding: 0.45em 0.6em; margin: 0 0.25em; line-height: 1; border-radius: 0.35em;\">\n",
              "    Redmond\n",
              "    <span style=\"font-size: 0.8em; font-weight: bold; line-height: 1; border-radius: 0.35em; vertical-align: middle; margin-left: 0.5rem\">GPE</span>\n",
              "</mark>\n",
              ", \n",
              "<mark class=\"entity\" style=\"background: #feca74; padding: 0.45em 0.6em; margin: 0 0.25em; line-height: 1; border-radius: 0.35em;\">\n",
              "    Washington\n",
              "    <span style=\"font-size: 0.8em; font-weight: bold; line-height: 1; border-radius: 0.35em; vertical-align: middle; margin-left: 0.5rem\">GPE</span>\n",
              "</mark>\n",
              ", acquired \n",
              "<mark class=\"entity\" style=\"background: #feca74; padding: 0.45em 0.6em; margin: 0 0.25em; line-height: 1; border-radius: 0.35em;\">\n",
              "    LinkedIn\n",
              "    <span style=\"font-size: 0.8em; font-weight: bold; line-height: 1; border-radius: 0.35em; vertical-align: middle; margin-left: 0.5rem\">GPE</span>\n",
              "</mark>\n",
              " for \n",
              "<mark class=\"entity\" style=\"background: #e4e7d2; padding: 0.45em 0.6em; margin: 0 0.25em; line-height: 1; border-radius: 0.35em;\">\n",
              "    $26.2 billion\n",
              "    <span style=\"font-size: 0.8em; font-weight: bold; line-height: 1; border-radius: 0.35em; vertical-align: middle; margin-left: 0.5rem\">MONEY</span>\n",
              "</mark>\n",
              " in \n",
              "<mark class=\"entity\" style=\"background: #bfe1d9; padding: 0.45em 0.6em; margin: 0 0.25em; line-height: 1; border-radius: 0.35em;\">\n",
              "    2016\n",
              "    <span style=\"font-size: 0.8em; font-weight: bold; line-height: 1; border-radius: 0.35em; vertical-align: middle; margin-left: 0.5rem\">DATE</span>\n",
              "</mark>\n",
              ", which was their biggest deal to date.</div></span>"
            ]
          },
          "metadata": {}
        }
      ]
    },
    {
      "cell_type": "code",
      "source": [
        "displacy.render(doc2, style=\"ent\", jupyter=True)"
      ],
      "metadata": {
        "colab": {
          "base_uri": "https://localhost:8080/"
        },
        "id": "bsWSr78eu0uV",
        "outputId": "fe9c73b2-8e12-45b9-c653-ae495c74a43e"
      },
      "execution_count": null,
      "outputs": [
        {
          "output_type": "display_data",
          "data": {
            "text/plain": [
              "<IPython.core.display.HTML object>"
            ],
            "text/html": [
              "<span class=\"tex2jax_ignore\"><div class=\"entities\" style=\"line-height: 2.5; direction: ltr\">\n",
              "<mark class=\"entity\" style=\"background: #aa9cfc; padding: 0.45em 0.6em; margin: 0 0.25em; line-height: 1; border-radius: 0.35em;\">\n",
              "    Emma Watson\n",
              "    <span style=\"font-size: 0.8em; font-weight: bold; line-height: 1; border-radius: 0.35em; vertical-align: middle; margin-left: 0.5rem\">PERSON</span>\n",
              "</mark>\n",
              ", a \n",
              "<mark class=\"entity\" style=\"background: #c887fb; padding: 0.45em 0.6em; margin: 0 0.25em; line-height: 1; border-radius: 0.35em;\">\n",
              "    British\n",
              "    <span style=\"font-size: 0.8em; font-weight: bold; line-height: 1; border-radius: 0.35em; vertical-align: middle; margin-left: 0.5rem\">NORP</span>\n",
              "</mark>\n",
              " actress best known for her role in the \n",
              "<mark class=\"entity\" style=\"background: #aa9cfc; padding: 0.45em 0.6em; margin: 0 0.25em; line-height: 1; border-radius: 0.35em;\">\n",
              "    Harry Potter\n",
              "    <span style=\"font-size: 0.8em; font-weight: bold; line-height: 1; border-radius: 0.35em; vertical-align: middle; margin-left: 0.5rem\">PERSON</span>\n",
              "</mark>\n",
              " series, graduated from \n",
              "<mark class=\"entity\" style=\"background: #7aecec; padding: 0.45em 0.6em; margin: 0 0.25em; line-height: 1; border-radius: 0.35em;\">\n",
              "    Brown University\n",
              "    <span style=\"font-size: 0.8em; font-weight: bold; line-height: 1; border-radius: 0.35em; vertical-align: middle; margin-left: 0.5rem\">ORG</span>\n",
              "</mark>\n",
              " in \n",
              "<mark class=\"entity\" style=\"background: #feca74; padding: 0.45em 0.6em; margin: 0 0.25em; line-height: 1; border-radius: 0.35em;\">\n",
              "    Providence\n",
              "    <span style=\"font-size: 0.8em; font-weight: bold; line-height: 1; border-radius: 0.35em; vertical-align: middle; margin-left: 0.5rem\">GPE</span>\n",
              "</mark>\n",
              ", \n",
              "<mark class=\"entity\" style=\"background: #feca74; padding: 0.45em 0.6em; margin: 0 0.25em; line-height: 1; border-radius: 0.35em;\">\n",
              "    Rhode Island\n",
              "    <span style=\"font-size: 0.8em; font-weight: bold; line-height: 1; border-radius: 0.35em; vertical-align: middle; margin-left: 0.5rem\">GPE</span>\n",
              "</mark>\n",
              " in \n",
              "<mark class=\"entity\" style=\"background: #bfe1d9; padding: 0.45em 0.6em; margin: 0 0.25em; line-height: 1; border-radius: 0.35em;\">\n",
              "    2014\n",
              "    <span style=\"font-size: 0.8em; font-weight: bold; line-height: 1; border-radius: 0.35em; vertical-align: middle; margin-left: 0.5rem\">DATE</span>\n",
              "</mark>\n",
              ".</div></span>"
            ]
          },
          "metadata": {}
        }
      ]
    },
    {
      "cell_type": "markdown",
      "source": [
        "# Word Embedding"
      ],
      "metadata": {
        "id": "akSfTimKyNjb"
      }
    },
    {
      "cell_type": "code",
      "source": [
        "# the en_core_web_sm model doesn't have any vector\n",
        "# thus, word embedding can only be done with the en_core_web_md or better\n",
        "!python -m spacy download en_core_web_md"
      ],
      "metadata": {
        "id": "f5FVqen43iKt"
      },
      "execution_count": null,
      "outputs": []
    },
    {
      "cell_type": "markdown",
      "source": [
        "In SpaCy, both Doc and Token objects have a **`.vector`** attribute.<br> This is a n-dimensional representation of the word or document using real numbers: the **word embedding**.\n",
        "\n",
        "In SpaCy, the sentence embedding is an average of its word embeddings.<br>Averaging word embeddings to get a sentence embedding is a simple and fast method, but it can lose important information.<br> Better methods like RNNs and Transformers have been developed to take into account the order of words and the context they are used in.\n",
        "\n",
        "**1. Display the word embeddings of the following word and sentence using the `.vector` attribute.**"
      ],
      "metadata": {
        "id": "EO77R2x494oC"
      }
    },
    {
      "cell_type": "code",
      "source": [
        "word = \"red\"\n",
        "sentence = \"Jasmine felt joy noticing the change in her garden. Once pale, the roses were now a vibrant fuchsia, their color like a sunset. Her marigolds had proliferated, their numbers mirroring stars in the night sky. Amidst this spectacle, her delight soared like the blooming flowers.\""
      ],
      "metadata": {
        "id": "d4g6VaH2944a"
      },
      "execution_count": null,
      "outputs": []
    },
    {
      "cell_type": "code",
      "source": [
        "# word vector\n",
        "nlp = spacy.load(\"en_core_web_md\")\n",
        "doc = nlp(word)\n",
        "doc.vector"
      ],
      "metadata": {
        "colab": {
          "base_uri": "https://localhost:8080/"
        },
        "id": "B1RMVdxZ_EEx",
        "outputId": "a23f64c1-9fd7-4c47-a70d-2f9d4de7169f"
      },
      "execution_count": null,
      "outputs": [
        {
          "output_type": "execute_result",
          "data": {
            "text/plain": [
              "array([ -6.9878  ,   1.1615  ,  -8.0692  ,   7.8001  ,   1.5212  ,\n",
              "        -7.2222  ,  -2.0646  ,   1.894   ,   2.3625  ,   2.6902  ,\n",
              "         9.4979  ,  -3.4991  ,  -0.38432 ,  -6.0193  ,   1.2838  ,\n",
              "        -2.6806  ,  -2.2116  ,   3.9222  ,   7.5336  ,  -1.0964  ,\n",
              "        -5.1213  ,  -0.34198 ,  -1.5403  ,  -9.3968  ,   1.0018  ,\n",
              "        -1.0686  ,  -3.9285  , -10.047   ,   7.1468  ,  -2.169   ,\n",
              "        -5.3271  ,   2.5496  ,  -0.11356 ,  -4.0581  ,   5.9786  ,\n",
              "        -4.4822  ,   0.22744 ,   6.5518  ,   3.3793  ,  -6.5683  ,\n",
              "         8.0658  ,  -3.243   ,   4.5571  ,   0.32214 ,  -1.7703  ,\n",
              "         8.0863  ,  -4.6628  ,  -2.0046  , -12.432   ,   2.341   ,\n",
              "         0.33277 ,   1.3754  ,  -7.0821  ,   4.6489  ,  -1.2588  ,\n",
              "         3.6096  ,   4.3955  ,   0.4455  ,   2.2074  ,   4.2716  ,\n",
              "         2.0343  ,  -2.2034  ,   3.0309  ,  -0.15809 ,  -6.0334  ,\n",
              "        -3.6964  ,   0.10791 ,  -9.4457  ,   0.39546 ,   4.1398  ,\n",
              "         5.7631  ,   4.1801  ,  -0.11611 ,   8.6585  ,   5.8561  ,\n",
              "        -3.0006  ,   0.39372 ,  -3.445   ,   2.461   ,   0.056061,\n",
              "         4.5665  ,  -3.8639  ,  -3.522   ,   7.4575  ,   7.8809  ,\n",
              "        -1.7918  ,   2.6374  ,  -2.3238  ,  -8.7475  ,   0.44351 ,\n",
              "         0.034058,  -0.88575 ,   9.6703  ,  -1.1388  ,   2.139   ,\n",
              "        -0.85321 ,   6.9904  ,   0.73174 ,   0.98552 ,  -0.246   ,\n",
              "        -6.4159  ,  -0.4264  ,   6.0306  ,  -0.95735 ,   1.7923  ,\n",
              "         3.3421  ,  -1.1571  ,  -1.8419  ,  -0.59311 ,  -0.60583 ,\n",
              "        -4.8151  ,  -0.59242 ,   3.4947  ,   2.1538  ,   0.43756 ,\n",
              "        -1.7492  ,   6.2142  ,  -6.483   ,   4.7363  ,  -7.9487  ,\n",
              "        -2.5925  ,  -0.59456 ,  -0.75448 ,  -0.50929 ,  -6.7412  ,\n",
              "        -8.4571  ,  -6.7815  ,   2.8936  ,  13.155   ,   4.6624  ,\n",
              "        -3.9597  ,  -3.2941  ,  -1.3198  ,  -1.1539  ,  -1.358   ,\n",
              "        -2.0242  ,  -6.9751  ,  -6.4454  ,   2.8312  ,   6.3431  ,\n",
              "        -5.9181  ,   5.6767  ,  -5.186   ,  -2.2535  ,  -4.9177  ,\n",
              "        -6.7571  ,  -0.31076 ,  -0.98864 ,   8.526   ,  -1.8342  ,\n",
              "        -1.0108  ,   3.1522  ,  -6.8223  ,  -1.1424  ,   2.7734  ,\n",
              "         0.43679 ,   4.3898  ,  -4.0743  ,   1.7427  ,   4.2509  ,\n",
              "        -2.0466  ,  -4.3543  ,   5.1761  ,  -1.7042  ,  -1.7088  ,\n",
              "         0.18381 ,  -4.1341  ,   4.3253  ,  -2.5146  ,   7.6019  ,\n",
              "        -9.2875  ,   4.3325  ,   0.88091 ,  -3.0489  , -10.134   ,\n",
              "         2.0538  ,   5.5616  ,  -2.0055  ,  -2.705   ,  -3.9038  ,\n",
              "        -3.3617  ,  -3.152   ,  -6.1024  ,   1.3064  ,   0.42472 ,\n",
              "        -5.2727  ,   2.2499  ,   1.4646  ,   1.4745  ,  -5.983   ,\n",
              "         2.2624  ,   1.3042  ,   1.4525  ,   4.3054  ,   6.5699  ,\n",
              "         6.6834  ,  -3.7416  ,   2.6196  ,  -0.85967 ,   4.4537  ,\n",
              "        -2.2163  , -10.501   ,  -0.70864 ,  -4.1008  ,  -3.8952  ,\n",
              "         3.147   ,  -0.4882  ,   0.73366 ,   1.2351  ,   3.4289  ,\n",
              "         7.9907  ,  -3.2284  ,   2.1535  ,   2.6361  ,   6.1015  ,\n",
              "         2.4571  ,   3.8315  ,   3.235   ,  -6.1516  ,   0.050422,\n",
              "         3.0432  ,   0.075408,  -0.09153 ,   5.7823  ,   1.1707  ,\n",
              "        -3.6535  ,  -4.6221  ,   3.39    ,  -1.347   ,  -0.53524 ,\n",
              "         7.7091  ,  -0.58231 ,   3.9405  ,   1.3821  ,  -1.0355  ,\n",
              "        -1.0952  ,  -8.4513  ,   0.89327 ,  -1.4766  ,  -2.5576  ,\n",
              "         0.050428,   0.9019  ,   0.23249 ,   0.68956 ,  -0.90597 ,\n",
              "         2.1402  ,  -3.907   ,  -2.5348  ,  -2.4491  ,  -7.5222  ,\n",
              "         2.5806  ,   8.9967  ,   1.2837  ,   2.1211  ,  -0.58277 ,\n",
              "         0.29586 ,   3.1354  ,  13.882   ,  -1.9123  ,   1.2281  ,\n",
              "         2.3892  ,   2.1611  ,   0.62162 ,   5.9057  ,   0.67548 ,\n",
              "         1.8526  ,  -5.3142  ,  -3.6703  , -10.188   ,   5.4151  ,\n",
              "         7.7425  ,   4.6922  ,   5.5709  ,  -5.8373  ,  -7.4798  ,\n",
              "        -2.41    ,  -1.7744  ,   2.9459  ,   6.1524  ,   5.0116  ,\n",
              "        -7.2284  ,   6.5404  ,   5.8776  ,   0.48054 ,   8.425   ,\n",
              "        -1.8524  ,  -0.57723 ,  -7.5026  ,  -2.8746  ,   5.9932  ,\n",
              "        -1.8251  ,   4.0339  ,   5.6533  ,  -3.8604  ,  -0.72858 ,\n",
              "         6.3829  ,   6.8294  ,  -0.30026 ,  -3.9543  ,  -2.6215  ],\n",
              "      dtype=float32)"
            ]
          },
          "metadata": {},
          "execution_count": 92
        }
      ]
    },
    {
      "cell_type": "code",
      "source": [
        "# sentence vector\n",
        "doc = nlp(sentence)\n",
        "doc.vector"
      ],
      "metadata": {
        "colab": {
          "base_uri": "https://localhost:8080/"
        },
        "id": "4lQ0rC1d_UhI",
        "outputId": "b69b6e0e-8441-4cb3-8f57-1f1a63e118ff"
      },
      "execution_count": null,
      "outputs": [
        {
          "output_type": "execute_result",
          "data": {
            "text/plain": [
              "array([-1.63753080e+00,  2.35903248e-01, -2.77067852e+00, -3.43604125e-02,\n",
              "        4.15163422e+00, -1.21671236e+00, -8.88198614e-03,  4.63980150e+00,\n",
              "        6.97373092e-01,  8.02708387e-01,  5.83615303e+00,  7.35451043e-01,\n",
              "       -3.33561182e+00,  7.94211090e-01,  2.37636733e+00,  1.44968116e+00,\n",
              "       -5.95934868e-01, -7.48656571e-01, -2.14183345e-01, -2.09285021e+00,\n",
              "        1.86846328e+00,  4.23778772e-01, -1.07583702e+00, -1.80203676e+00,\n",
              "       -3.87148917e-01, -1.19876778e+00, -3.59721684e+00, -1.75524282e+00,\n",
              "        4.18990016e-01,  1.23090303e+00,  9.07052250e-04, -1.39818013e+00,\n",
              "       -5.38067520e-01, -2.70251417e+00, -2.85592890e+00, -1.94530115e-01,\n",
              "       -6.03705108e-01,  1.77066731e+00,  1.18583691e+00,  1.98074505e-01,\n",
              "        9.54518974e-01,  8.51093650e-01,  1.06224164e-01, -3.07138979e-01,\n",
              "       -7.74031222e-01,  2.74235106e+00, -1.02498376e+00, -1.39977682e+00,\n",
              "       -3.04882657e-02,  1.40080392e+00, -1.32909524e+00,  1.92562819e+00,\n",
              "       -6.05269670e-01, -3.90643597e+00,  3.02721381e-01,  2.18799803e-02,\n",
              "       -2.17741162e-01,  7.83922136e-01,  1.32710969e+00,  1.09811641e-01,\n",
              "       -3.83860916e-01, -1.68585396e+00,  1.24623442e+00, -9.79091942e-01,\n",
              "        1.14636242e+00,  1.63882017e+00, -2.98417950e+00, -3.14006758e+00,\n",
              "        7.11697280e-01,  9.26826715e-01, -8.60007882e-01, -7.24209964e-01,\n",
              "       -2.09163523e+00,  5.65180063e-01, -2.78205127e-01,  1.28305674e+00,\n",
              "       -2.58878255e+00,  1.67476749e+00, -2.10578203e+00, -7.37865508e-01,\n",
              "       -3.73072529e+00,  7.67404675e-01,  1.43873918e+00, -3.69314164e-01,\n",
              "        3.65290141e+00,  2.35096186e-01, -1.48562419e+00, -1.63872337e+00,\n",
              "       -1.24511433e+00, -1.10666120e+00, -1.13019609e+00,  7.08875716e-01,\n",
              "        2.53024936e+00, -3.57914758e+00, -9.71513093e-02, -1.69531178e+00,\n",
              "        2.24817920e+00, -1.60354197e+00,  1.72810090e+00,  1.37549078e+00,\n",
              "        8.43339384e-01,  1.35775959e+00,  2.72851014e+00,  2.12523675e+00,\n",
              "       -6.09270930e-01,  3.45393252e+00,  5.87130070e-01, -1.53126884e+00,\n",
              "       -8.87166679e-01, -1.88858926e+00,  3.15343320e-01,  1.72022998e+00,\n",
              "       -1.36423397e+00,  7.81262815e-01,  1.70824587e+00,  7.58459345e-02,\n",
              "       -8.38335216e-01, -6.22957051e-01,  4.86238897e-01, -6.39586568e-01,\n",
              "       -2.57284909e-01, -2.49098635e+00, -8.23875785e-01,  2.47648358e+00,\n",
              "       -1.34949517e+00, -3.29309392e+00,  6.96184754e-01, -2.01447916e+00,\n",
              "        3.48235154e+00, -1.36449766e+00, -3.37010932e+00,  3.32727373e-01,\n",
              "        3.61630416e+00, -1.49237525e+00, -8.98927301e-02, -1.44355923e-01,\n",
              "       -1.67137754e+00, -1.93871331e+00,  2.58987427e+00, -2.42189312e+00,\n",
              "       -2.17867184e+00,  1.53411970e-01, -1.30039483e-01,  1.93920469e+00,\n",
              "        4.05523360e-01, -5.66753559e-02, -4.01705694e+00, -4.31978047e-01,\n",
              "        3.53481126e+00,  1.25246429e+00,  2.59013653e-01,  2.09474564e+00,\n",
              "       -6.66784763e-04,  1.54553366e+00, -1.01548684e+00,  1.75673890e+00,\n",
              "        2.17487669e+00, -8.01657975e-01, -1.24610472e+00, -9.23720956e-01,\n",
              "       -1.06848943e+00, -3.29723144e+00, -6.18146718e-01,  1.19971371e+00,\n",
              "       -1.43710840e+00, -1.11824965e+00, -2.61899638e+00,  1.32373214e+00,\n",
              "       -1.39372885e+00,  7.18587697e-01,  2.28704429e+00, -3.26877594e-01,\n",
              "        2.11980152e+00, -1.69949278e-01,  7.35179782e-01, -1.07606702e-01,\n",
              "        2.59042799e-01,  2.27330908e-01, -8.39324534e-01, -1.52723396e+00,\n",
              "       -1.19349468e+00, -9.80071068e-01,  1.05932355e+00, -3.35807609e-03,\n",
              "       -1.48333132e+00,  3.73340815e-01, -6.79253221e-01, -5.53877056e-01,\n",
              "        1.90571859e-01,  7.46732235e-01, -5.36409430e-02, -4.54540908e-01,\n",
              "       -3.80379081e-01, -2.40528393e+00,  4.30016547e-01, -7.17228770e-01,\n",
              "       -3.18375087e+00,  1.25556588e-01, -2.72778541e-01,  8.52958202e-01,\n",
              "        8.71596515e-01, -1.82344604e+00, -4.28578436e-01, -3.10238504e+00,\n",
              "        1.11919940e+00, -2.90346980e-01, -1.80565095e+00,  1.21221972e+00,\n",
              "       -1.05589497e+00, -6.10093653e-01,  2.34688306e+00,  4.35815662e-01,\n",
              "       -7.44170070e-01,  2.14267874e+00,  1.06237507e+00,  3.04242587e+00,\n",
              "       -3.69616121e-01, -1.15585840e+00, -9.83646691e-01, -1.42801911e-01,\n",
              "       -1.55913293e+00,  1.66721976e+00, -1.00197506e+00,  2.21270132e+00,\n",
              "       -2.44632506e+00, -1.73762047e+00,  1.01477884e-01,  2.05242944e+00,\n",
              "        2.45206690e+00,  1.15364850e+00,  2.40469241e+00, -2.26469040e+00,\n",
              "        1.29279211e-01,  2.53081036e+00,  2.07610130e-01,  1.60418677e+00,\n",
              "       -2.63935328e+00,  1.81355834e+00, -2.03227371e-01, -7.48879552e-01,\n",
              "       -3.67003530e-01,  9.46398318e-01,  9.78933275e-01, -2.97027349e-01,\n",
              "       -1.01153314e+00,  2.03699732e+00, -2.80231380e+00, -3.60741355e-02,\n",
              "        3.22565362e-02,  1.79844224e+00,  4.09375310e-01, -9.52601671e-01,\n",
              "       -4.50618267e+00,  5.92817366e-01,  3.01788449e-01, -1.37223649e+00,\n",
              "        1.62352824e+00,  7.85577238e-01, -4.62182581e-01,  9.58296239e-01,\n",
              "        1.99843037e+00,  4.00083828e+00,  2.81611824e+00,  2.61596966e+00,\n",
              "        2.03479505e+00, -9.39336121e-01, -1.46072459e+00,  1.47886300e+00,\n",
              "       -3.64754939e+00,  5.11858165e-01,  2.61506820e+00, -1.04189433e-01,\n",
              "       -8.72610927e-01, -1.78261292e+00,  7.93110020e-03,  8.75413477e-01,\n",
              "        1.70307362e+00, -1.55536985e+00, -8.42623591e-01,  1.79679120e+00,\n",
              "        5.74011922e-01,  9.74393368e-01,  9.18937981e-01,  4.14903015e-01,\n",
              "        2.23717117e+00, -7.11681426e-01, -1.63111365e+00,  4.06308264e-01,\n",
              "       -1.50443006e+00,  7.70142853e-01,  8.09200108e-02,  4.03982311e-01,\n",
              "        1.49609551e-01, -1.28872359e+00, -5.78671873e-01,  1.28766644e+00,\n",
              "        6.21174514e-01, -8.66295874e-01, -3.92489076e+00, -2.65484303e-02],\n",
              "      dtype=float32)"
            ]
          },
          "metadata": {},
          "execution_count": 99
        }
      ]
    },
    {
      "cell_type": "markdown",
      "source": [
        "**2. Reduce the dimensionality of each word of the aforementionned sentence to a 2D representation using t-SNE from sklearn.<br> Display a 2D graph with the words.<br>Can you find related words ?**\n",
        "\n",
        "*Tips: The result will be cleaner if you remove the stopwords and the punctuation.*"
      ],
      "metadata": {
        "id": "hcZT7GN8Afvl"
      }
    },
    {
      "cell_type": "code",
      "source": [
        "from sklearn.manifold import TSNE\n",
        "import matplotlib.pyplot as plt\n",
        "import numpy as np\n",
        "\n",
        "doc = nlp(sentence)\n",
        "emb = []\n",
        "words = []\n",
        "\n",
        "# Getting the individual word embedding\n",
        "for i,word in enumerate(doc):\n",
        "    if not(word.is_stop) and not(word.is_punct):\n",
        "        emb.append(word.vector)\n",
        "        words.append(word.text)\n",
        "\n",
        "# Reducing the dimensionality\n",
        "tsne = TSNE(perplexity=2, random_state=42)\n",
        "emb2d = tsne.fit_transform(np.array(emb))\n",
        "\n",
        "# Displaying the words\n",
        "fig, ax = plt.subplots(figsize=(15,8))\n",
        "ax.scatter(emb2d[:,0], emb2d[:,1])\n",
        "\n",
        "for i, word in enumerate(words):\n",
        "    ax.annotate(word, emb2d[i,:]+0.02*np.max(emb2d))"
      ],
      "metadata": {
        "colab": {
          "base_uri": "https://localhost:8080/",
          "height": 546
        },
        "id": "pnbFcaoKA4AV",
        "outputId": "89970524-930c-4766-f719-81d862435cab"
      },
      "execution_count": null,
      "outputs": [
        {
          "output_type": "display_data",
          "data": {
            "text/plain": [
              "<Figure size 1500x800 with 1 Axes>"
            ],
            "image/png": "[encoded data removed]"
          },
          "metadata": {}
        }
      ]
    },
    {
      "cell_type": "markdown",
      "source": [
        "It's possible to measure **word** and **sentence similarity** using the SpaCy library.<br> The similarity is based on the word vectors included in the SpaCy model.<br> Each Token object from the spaCy Doc objects contains a word vector representation that can be used to compute similarity.\n",
        "\n",
        "Similiarity can be computed using the **`.similarity()`** method.<br> It can be called on Token objects for word similarity, or Doc objects for sentence similarity:\n",
        "\n",
        "\n",
        "```\n",
        "word_sim = token_a.similarity(token_b)\n",
        "sentence_sim = doc_a.similarity(doc_b)\n",
        "```\n",
        "\n",
        "\n",
        "**3. Compare each token of the following sentence using the `.similarity()` method.**"
      ],
      "metadata": {
        "id": "QZdITFSK0NFr"
      }
    },
    {
      "cell_type": "code",
      "source": [
        "sentence = \"She's very excited about starting her new job next week.\""
      ],
      "metadata": {
        "id": "1D0QigFZyPDB"
      },
      "execution_count": null,
      "outputs": []
    },
    {
      "cell_type": "code",
      "source": [
        "import pandas as pd\n",
        "\n",
        "doc = nlp(sentence)\n",
        "\n",
        "similarity = np.zeros((len(doc),len(doc)))\n",
        "\n",
        "for i, word_a in enumerate(doc):\n",
        "    similarity[i,:] = np.array([word_a.similarity(word_b) for word_b in doc])\n",
        "\n",
        "q = np.quantile(similarity, q=0.95)\n",
        "\n",
        "# Removing the word autocorrelation (i.e. \"she\" with \"she\", \"very\" with \"very\" ...)\n",
        "np.fill_diagonal(similarity, np.NaN)\n",
        "\n",
        "# Displaying the results is a nice format\n",
        "sim = pd.DataFrame(similarity,\n",
        "                   index = [word.text for word in doc],\n",
        "                   columns = [word.text for word in doc])\n",
        "\n",
        "sim.style.apply(lambda x: [\"background: lightblue\" if v > q else \"\" for v in x],\n",
        "                axis = 0)"
      ],
      "metadata": {
        "colab": {
          "base_uri": "https://localhost:8080/",
          "height": 426
        },
        "id": "RoqcGa11yu7c",
        "outputId": "19c797ba-3b80-4934-b84e-6235948c1a7b"
      },
      "execution_count": null,
      "outputs": [
        {
          "output_type": "execute_result",
          "data": {
            "text/plain": [
              "<pandas.io.formats.style.Styler at 0x7cf72a2f3bb0>"
            ],
            "text/html": [
              "<style type=\"text/css\">\n",
              "</style>\n",
              "<table id=\"T_adeda\" class=\"dataframe\">\n",
              "  <thead>\n",
              "    <tr>\n",
              "      <th class=\"blank level0\" >&nbsp;</th>\n",
              "      <th id=\"T_adeda_level0_col0\" class=\"col_heading level0 col0\" >She</th>\n",
              "      <th id=\"T_adeda_level0_col1\" class=\"col_heading level0 col1\" >'s</th>\n",
              "      <th id=\"T_adeda_level0_col2\" class=\"col_heading level0 col2\" >very</th>\n",
              "      <th id=\"T_adeda_level0_col3\" class=\"col_heading level0 col3\" >excited</th>\n",
              "      <th id=\"T_adeda_level0_col4\" class=\"col_heading level0 col4\" >about</th>\n",
              "      <th id=\"T_adeda_level0_col5\" class=\"col_heading level0 col5\" >starting</th>\n",
              "      <th id=\"T_adeda_level0_col6\" class=\"col_heading level0 col6\" >her</th>\n",
              "      <th id=\"T_adeda_level0_col7\" class=\"col_heading level0 col7\" >new</th>\n",
              "      <th id=\"T_adeda_level0_col8\" class=\"col_heading level0 col8\" >job</th>\n",
              "      <th id=\"T_adeda_level0_col9\" class=\"col_heading level0 col9\" >next</th>\n",
              "      <th id=\"T_adeda_level0_col10\" class=\"col_heading level0 col10\" >week</th>\n",
              "      <th id=\"T_adeda_level0_col11\" class=\"col_heading level0 col11\" >.</th>\n",
              "    </tr>\n",
              "  </thead>\n",
              "  <tbody>\n",
              "    <tr>\n",
              "      <th id=\"T_adeda_level0_row0\" class=\"row_heading level0 row0\" >She</th>\n",
              "      <td id=\"T_adeda_row0_col0\" class=\"data row0 col0\" >nan</td>\n",
              "      <td id=\"T_adeda_row0_col1\" class=\"data row0 col1\" >0.032019</td>\n",
              "      <td id=\"T_adeda_row0_col2\" class=\"data row0 col2\" >0.206274</td>\n",
              "      <td id=\"T_adeda_row0_col3\" class=\"data row0 col3\" >0.075724</td>\n",
              "      <td id=\"T_adeda_row0_col4\" class=\"data row0 col4\" >0.143135</td>\n",
              "      <td id=\"T_adeda_row0_col5\" class=\"data row0 col5\" >-0.064667</td>\n",
              "      <td id=\"T_adeda_row0_col6\" class=\"data row0 col6\" >0.571110</td>\n",
              "      <td id=\"T_adeda_row0_col7\" class=\"data row0 col7\" >0.000406</td>\n",
              "      <td id=\"T_adeda_row0_col8\" class=\"data row0 col8\" >0.200048</td>\n",
              "      <td id=\"T_adeda_row0_col9\" class=\"data row0 col9\" >0.032130</td>\n",
              "      <td id=\"T_adeda_row0_col10\" class=\"data row0 col10\" >0.115551</td>\n",
              "      <td id=\"T_adeda_row0_col11\" class=\"data row0 col11\" >0.117281</td>\n",
              "    </tr>\n",
              "    <tr>\n",
              "      <th id=\"T_adeda_level0_row1\" class=\"row_heading level0 row1\" >'s</th>\n",
              "      <td id=\"T_adeda_row1_col0\" class=\"data row1 col0\" >0.032019</td>\n",
              "      <td id=\"T_adeda_row1_col1\" class=\"data row1 col1\" >nan</td>\n",
              "      <td id=\"T_adeda_row1_col2\" class=\"data row1 col2\" >0.155973</td>\n",
              "      <td id=\"T_adeda_row1_col3\" class=\"data row1 col3\" >0.132308</td>\n",
              "      <td id=\"T_adeda_row1_col4\" class=\"data row1 col4\" >0.188594</td>\n",
              "      <td id=\"T_adeda_row1_col5\" class=\"data row1 col5\" >0.126425</td>\n",
              "      <td id=\"T_adeda_row1_col6\" class=\"data row1 col6\" >0.293018</td>\n",
              "      <td id=\"T_adeda_row1_col7\" class=\"data row1 col7\" >0.094454</td>\n",
              "      <td id=\"T_adeda_row1_col8\" class=\"data row1 col8\" >0.100183</td>\n",
              "      <td id=\"T_adeda_row1_col9\" class=\"data row1 col9\" >0.112859</td>\n",
              "      <td id=\"T_adeda_row1_col10\" class=\"data row1 col10\" >0.029439</td>\n",
              "      <td id=\"T_adeda_row1_col11\" class=\"data row1 col11\" >0.259304</td>\n",
              "    </tr>\n",
              "    <tr>\n",
              "      <th id=\"T_adeda_level0_row2\" class=\"row_heading level0 row2\" >very</th>\n",
              "      <td id=\"T_adeda_row2_col0\" class=\"data row2 col0\" >0.206274</td>\n",
              "      <td id=\"T_adeda_row2_col1\" class=\"data row2 col1\" >0.155973</td>\n",
              "      <td id=\"T_adeda_row2_col2\" class=\"data row2 col2\" >nan</td>\n",
              "      <td id=\"T_adeda_row2_col3\" class=\"data row2 col3\" >0.248575</td>\n",
              "      <td id=\"T_adeda_row2_col4\" class=\"data row2 col4\" >0.347958</td>\n",
              "      <td id=\"T_adeda_row2_col5\" class=\"data row2 col5\" >0.354568</td>\n",
              "      <td id=\"T_adeda_row2_col6\" class=\"data row2 col6\" >0.139076</td>\n",
              "      <td id=\"T_adeda_row2_col7\" class=\"data row2 col7\" >0.145049</td>\n",
              "      <td id=\"T_adeda_row2_col8\" class=\"data row2 col8\" >0.249942</td>\n",
              "      <td id=\"T_adeda_row2_col9\" class=\"data row2 col9\" >0.115524</td>\n",
              "      <td id=\"T_adeda_row2_col10\" class=\"data row2 col10\" >0.094125</td>\n",
              "      <td id=\"T_adeda_row2_col11\" class=\"data row2 col11\" >0.278686</td>\n",
              "    </tr>\n",
              "    <tr>\n",
              "      <th id=\"T_adeda_level0_row3\" class=\"row_heading level0 row3\" >excited</th>\n",
              "      <td id=\"T_adeda_row3_col0\" class=\"data row3 col0\" >0.075724</td>\n",
              "      <td id=\"T_adeda_row3_col1\" class=\"data row3 col1\" >0.132308</td>\n",
              "      <td id=\"T_adeda_row3_col2\" class=\"data row3 col2\" >0.248575</td>\n",
              "      <td id=\"T_adeda_row3_col3\" class=\"data row3 col3\" >nan</td>\n",
              "      <td id=\"T_adeda_row3_col4\" class=\"data row3 col4\" >0.329759</td>\n",
              "      <td id=\"T_adeda_row3_col5\" class=\"data row3 col5\" >0.338691</td>\n",
              "      <td id=\"T_adeda_row3_col6\" class=\"data row3 col6\" >0.109986</td>\n",
              "      <td id=\"T_adeda_row3_col7\" class=\"data row3 col7\" >0.375137</td>\n",
              "      <td id=\"T_adeda_row3_col8\" class=\"data row3 col8\" >0.190199</td>\n",
              "      <td id=\"T_adeda_row3_col9\" class=\"data row3 col9\" >0.318113</td>\n",
              "      <td id=\"T_adeda_row3_col10\" class=\"data row3 col10\" >0.236667</td>\n",
              "      <td id=\"T_adeda_row3_col11\" class=\"data row3 col11\" >0.141614</td>\n",
              "    </tr>\n",
              "    <tr>\n",
              "      <th id=\"T_adeda_level0_row4\" class=\"row_heading level0 row4\" >about</th>\n",
              "      <td id=\"T_adeda_row4_col0\" class=\"data row4 col0\" >0.143135</td>\n",
              "      <td id=\"T_adeda_row4_col1\" class=\"data row4 col1\" >0.188594</td>\n",
              "      <td id=\"T_adeda_row4_col2\" class=\"data row4 col2\" >0.347958</td>\n",
              "      <td id=\"T_adeda_row4_col3\" class=\"data row4 col3\" >0.329759</td>\n",
              "      <td id=\"T_adeda_row4_col4\" class=\"data row4 col4\" >nan</td>\n",
              "      <td id=\"T_adeda_row4_col5\" class=\"data row4 col5\" >0.354985</td>\n",
              "      <td id=\"T_adeda_row4_col6\" class=\"data row4 col6\" >0.183071</td>\n",
              "      <td id=\"T_adeda_row4_col7\" class=\"data row4 col7\" >0.235094</td>\n",
              "      <td id=\"T_adeda_row4_col8\" class=\"data row4 col8\" >0.213673</td>\n",
              "      <td id=\"T_adeda_row4_col9\" class=\"data row4 col9\" >0.211931</td>\n",
              "      <td id=\"T_adeda_row4_col10\" class=\"data row4 col10\" >0.206261</td>\n",
              "      <td id=\"T_adeda_row4_col11\" class=\"data row4 col11\" >0.320803</td>\n",
              "    </tr>\n",
              "    <tr>\n",
              "      <th id=\"T_adeda_level0_row5\" class=\"row_heading level0 row5\" >starting</th>\n",
              "      <td id=\"T_adeda_row5_col0\" class=\"data row5 col0\" >-0.064667</td>\n",
              "      <td id=\"T_adeda_row5_col1\" class=\"data row5 col1\" >0.126425</td>\n",
              "      <td id=\"T_adeda_row5_col2\" class=\"data row5 col2\" >0.354568</td>\n",
              "      <td id=\"T_adeda_row5_col3\" class=\"data row5 col3\" >0.338691</td>\n",
              "      <td id=\"T_adeda_row5_col4\" class=\"data row5 col4\" >0.354985</td>\n",
              "      <td id=\"T_adeda_row5_col5\" class=\"data row5 col5\" >nan</td>\n",
              "      <td id=\"T_adeda_row5_col6\" class=\"data row5 col6\" >0.092750</td>\n",
              "      <td id=\"T_adeda_row5_col7\" class=\"data row5 col7\" >0.413129</td>\n",
              "      <td id=\"T_adeda_row5_col8\" class=\"data row5 col8\" >0.191132</td>\n",
              "      <td id=\"T_adeda_row5_col9\" class=\"data row5 col9\" >0.343713</td>\n",
              "      <td id=\"T_adeda_row5_col10\" class=\"data row5 col10\" >0.294430</td>\n",
              "      <td id=\"T_adeda_row5_col11\" class=\"data row5 col11\" >0.394351</td>\n",
              "    </tr>\n",
              "    <tr>\n",
              "      <th id=\"T_adeda_level0_row6\" class=\"row_heading level0 row6\" >her</th>\n",
              "      <td id=\"T_adeda_row6_col0\" class=\"data row6 col0\" >0.571110</td>\n",
              "      <td id=\"T_adeda_row6_col1\" class=\"data row6 col1\" >0.293018</td>\n",
              "      <td id=\"T_adeda_row6_col2\" class=\"data row6 col2\" >0.139076</td>\n",
              "      <td id=\"T_adeda_row6_col3\" class=\"data row6 col3\" >0.109986</td>\n",
              "      <td id=\"T_adeda_row6_col4\" class=\"data row6 col4\" >0.183071</td>\n",
              "      <td id=\"T_adeda_row6_col5\" class=\"data row6 col5\" >0.092750</td>\n",
              "      <td id=\"T_adeda_row6_col6\" class=\"data row6 col6\" >nan</td>\n",
              "      <td id=\"T_adeda_row6_col7\" class=\"data row6 col7\" >0.124836</td>\n",
              "      <td id=\"T_adeda_row6_col8\" class=\"data row6 col8\" >0.138156</td>\n",
              "      <td id=\"T_adeda_row6_col9\" class=\"data row6 col9\" >0.101789</td>\n",
              "      <td id=\"T_adeda_row6_col10\" class=\"data row6 col10\" >0.090813</td>\n",
              "      <td id=\"T_adeda_row6_col11\" class=\"data row6 col11\" >0.210664</td>\n",
              "    </tr>\n",
              "    <tr>\n",
              "      <th id=\"T_adeda_level0_row7\" class=\"row_heading level0 row7\" >new</th>\n",
              "      <td id=\"T_adeda_row7_col0\" class=\"data row7 col0\" >0.000406</td>\n",
              "      <td id=\"T_adeda_row7_col1\" class=\"data row7 col1\" >0.094454</td>\n",
              "      <td id=\"T_adeda_row7_col2\" class=\"data row7 col2\" >0.145049</td>\n",
              "      <td id=\"T_adeda_row7_col3\" class=\"data row7 col3\" >0.375137</td>\n",
              "      <td id=\"T_adeda_row7_col4\" class=\"data row7 col4\" >0.235094</td>\n",
              "      <td id=\"T_adeda_row7_col5\" class=\"data row7 col5\" >0.413129</td>\n",
              "      <td id=\"T_adeda_row7_col6\" class=\"data row7 col6\" >0.124836</td>\n",
              "      <td id=\"T_adeda_row7_col7\" class=\"data row7 col7\" >nan</td>\n",
              "      <td id=\"T_adeda_row7_col8\" class=\"data row7 col8\" >0.135078</td>\n",
              "      <td id=\"T_adeda_row7_col9\" class=\"data row7 col9\" >0.388973</td>\n",
              "      <td id=\"T_adeda_row7_col10\" class=\"data row7 col10\" >0.146542</td>\n",
              "      <td id=\"T_adeda_row7_col11\" class=\"data row7 col11\" >0.240406</td>\n",
              "    </tr>\n",
              "    <tr>\n",
              "      <th id=\"T_adeda_level0_row8\" class=\"row_heading level0 row8\" >job</th>\n",
              "      <td id=\"T_adeda_row8_col0\" class=\"data row8 col0\" >0.200048</td>\n",
              "      <td id=\"T_adeda_row8_col1\" class=\"data row8 col1\" >0.100183</td>\n",
              "      <td id=\"T_adeda_row8_col2\" class=\"data row8 col2\" >0.249942</td>\n",
              "      <td id=\"T_adeda_row8_col3\" class=\"data row8 col3\" >0.190199</td>\n",
              "      <td id=\"T_adeda_row8_col4\" class=\"data row8 col4\" >0.213673</td>\n",
              "      <td id=\"T_adeda_row8_col5\" class=\"data row8 col5\" >0.191132</td>\n",
              "      <td id=\"T_adeda_row8_col6\" class=\"data row8 col6\" >0.138156</td>\n",
              "      <td id=\"T_adeda_row8_col7\" class=\"data row8 col7\" >0.135078</td>\n",
              "      <td id=\"T_adeda_row8_col8\" class=\"data row8 col8\" >nan</td>\n",
              "      <td id=\"T_adeda_row8_col9\" class=\"data row8 col9\" >0.131315</td>\n",
              "      <td id=\"T_adeda_row8_col10\" class=\"data row8 col10\" >0.203073</td>\n",
              "      <td id=\"T_adeda_row8_col11\" class=\"data row8 col11\" >0.150671</td>\n",
              "    </tr>\n",
              "    <tr>\n",
              "      <th id=\"T_adeda_level0_row9\" class=\"row_heading level0 row9\" >next</th>\n",
              "      <td id=\"T_adeda_row9_col0\" class=\"data row9 col0\" >0.032130</td>\n",
              "      <td id=\"T_adeda_row9_col1\" class=\"data row9 col1\" >0.112859</td>\n",
              "      <td id=\"T_adeda_row9_col2\" class=\"data row9 col2\" >0.115524</td>\n",
              "      <td id=\"T_adeda_row9_col3\" class=\"data row9 col3\" >0.318113</td>\n",
              "      <td id=\"T_adeda_row9_col4\" class=\"data row9 col4\" >0.211931</td>\n",
              "      <td id=\"T_adeda_row9_col5\" class=\"data row9 col5\" >0.343713</td>\n",
              "      <td id=\"T_adeda_row9_col6\" class=\"data row9 col6\" >0.101789</td>\n",
              "      <td id=\"T_adeda_row9_col7\" class=\"data row9 col7\" >0.388973</td>\n",
              "      <td id=\"T_adeda_row9_col8\" class=\"data row9 col8\" >0.131315</td>\n",
              "      <td id=\"T_adeda_row9_col9\" class=\"data row9 col9\" >nan</td>\n",
              "      <td id=\"T_adeda_row9_col10\" class=\"data row9 col10\" >0.211013</td>\n",
              "      <td id=\"T_adeda_row9_col11\" class=\"data row9 col11\" >0.191143</td>\n",
              "    </tr>\n",
              "    <tr>\n",
              "      <th id=\"T_adeda_level0_row10\" class=\"row_heading level0 row10\" >week</th>\n",
              "      <td id=\"T_adeda_row10_col0\" class=\"data row10 col0\" >0.115551</td>\n",
              "      <td id=\"T_adeda_row10_col1\" class=\"data row10 col1\" >0.029439</td>\n",
              "      <td id=\"T_adeda_row10_col2\" class=\"data row10 col2\" >0.094125</td>\n",
              "      <td id=\"T_adeda_row10_col3\" class=\"data row10 col3\" >0.236667</td>\n",
              "      <td id=\"T_adeda_row10_col4\" class=\"data row10 col4\" >0.206261</td>\n",
              "      <td id=\"T_adeda_row10_col5\" class=\"data row10 col5\" >0.294430</td>\n",
              "      <td id=\"T_adeda_row10_col6\" class=\"data row10 col6\" >0.090813</td>\n",
              "      <td id=\"T_adeda_row10_col7\" class=\"data row10 col7\" >0.146542</td>\n",
              "      <td id=\"T_adeda_row10_col8\" class=\"data row10 col8\" >0.203073</td>\n",
              "      <td id=\"T_adeda_row10_col9\" class=\"data row10 col9\" >0.211013</td>\n",
              "      <td id=\"T_adeda_row10_col10\" class=\"data row10 col10\" >nan</td>\n",
              "      <td id=\"T_adeda_row10_col11\" class=\"data row10 col11\" >0.070353</td>\n",
              "    </tr>\n",
              "    <tr>\n",
              "      <th id=\"T_adeda_level0_row11\" class=\"row_heading level0 row11\" >.</th>\n",
              "      <td id=\"T_adeda_row11_col0\" class=\"data row11 col0\" >0.117281</td>\n",
              "      <td id=\"T_adeda_row11_col1\" class=\"data row11 col1\" >0.259304</td>\n",
              "      <td id=\"T_adeda_row11_col2\" class=\"data row11 col2\" >0.278686</td>\n",
              "      <td id=\"T_adeda_row11_col3\" class=\"data row11 col3\" >0.141614</td>\n",
              "      <td id=\"T_adeda_row11_col4\" class=\"data row11 col4\" >0.320803</td>\n",
              "      <td id=\"T_adeda_row11_col5\" class=\"data row11 col5\" >0.394351</td>\n",
              "      <td id=\"T_adeda_row11_col6\" class=\"data row11 col6\" >0.210664</td>\n",
              "      <td id=\"T_adeda_row11_col7\" class=\"data row11 col7\" >0.240406</td>\n",
              "      <td id=\"T_adeda_row11_col8\" class=\"data row11 col8\" >0.150671</td>\n",
              "      <td id=\"T_adeda_row11_col9\" class=\"data row11 col9\" >0.191143</td>\n",
              "      <td id=\"T_adeda_row11_col10\" class=\"data row11 col10\" >0.070353</td>\n",
              "      <td id=\"T_adeda_row11_col11\" class=\"data row11 col11\" >nan</td>\n",
              "    </tr>\n",
              "  </tbody>\n",
              "</table>\n"
            ]
          },
          "metadata": {},
          "execution_count": 87
        }
      ]
    },
    {
      "cell_type": "markdown",
      "source": [
        "**4. Compute the similarity between the four following sentences.<br> Which one seems to be the closest to the first one ?**\n",
        "\n",
        "*Tips: Removing the stopwords will improve the sentence comparison.*"
      ],
      "metadata": {
        "id": "ldkjtJNX6Yot"
      }
    },
    {
      "cell_type": "code",
      "source": [
        "sentences = [\"She's very excited about starting her new job next week.\",\n",
        "             \"She's really looking forward to beginning her new role in the coming week.\",\n",
        "             \"Eating apples and oranges daily improves your health.\",\n",
        "             \"The runner was running in a running event. He outran all the other competitors.\"]"
      ],
      "metadata": {
        "id": "60WLaD5P6lEG"
      },
      "execution_count": null,
      "outputs": []
    },
    {
      "cell_type": "code",
      "source": [
        "similarity = np.zeros((4,4))\n",
        "\n",
        "# Removing stop words\n",
        "import nltk\n",
        "nltk.download('stopwords')\n",
        "nltk.download('punkt')\n",
        "stop_words = set(nltk.corpus.stopwords.words('english'))\n",
        "\n",
        "for i in range(len(sentences)):\n",
        "    tokens = nltk.tokenize.word_tokenize(sentences[i])\n",
        "    sentences[i] = ' '.join([w for w in tokens if not w.lower() in stop_words])\n",
        "\n",
        "# Computing similarity\n",
        "for i,sentence in enumerate(sentences):\n",
        "    doc = nlp(sentence)\n",
        "    similarity[i,:] = np.array([doc.similarity(nlp(sentence_b)) for sentence_b in sentences])\n",
        "\n",
        "# Removing the sentence autocorrelation\n",
        "np.fill_diagonal(similarity, np.NaN)\n",
        "\n",
        "# Displaying the results is a nice format\n",
        "sim = pd.DataFrame(similarity,\n",
        "                   index = [f\"Sentence {i+1}\" for i in range(4)],\n",
        "                   columns = [f\"Sentence {i+1}\" for i in range(4)])\n",
        "\n",
        "sim"
      ],
      "metadata": {
        "colab": {
          "base_uri": "https://localhost:8080/",
          "height": 244
        },
        "id": "xpBGpPz468RI",
        "outputId": "0dee9ddd-f970-4d8b-d980-6da392e52056"
      },
      "execution_count": null,
      "outputs": [
        {
          "output_type": "stream",
          "name": "stderr",
          "text": [
            "[nltk_data] Downloading package stopwords to /root/nltk_data...\n",
            "[nltk_data]   Package stopwords is already up-to-date!\n",
            "[nltk_data] Downloading package punkt to /root/nltk_data...\n",
            "[nltk_data]   Unzipping tokenizers/punkt.zip.\n"
          ]
        },
        {
          "output_type": "execute_result",
          "data": {
            "text/plain": [
              "            Sentence 1  Sentence 2  Sentence 3  Sentence 4\n",
              "Sentence 1         NaN    0.904747    0.500937    0.674702\n",
              "Sentence 2    0.904747         NaN    0.590377    0.730770\n",
              "Sentence 3    0.500937    0.590377         NaN    0.638241\n",
              "Sentence 4    0.674702    0.730770    0.638241         NaN"
            ],
            "text/html": [
              "\n",
              "\n",
              "  <div id=\"df-b3e81ee3-0880-4289-892d-398a9e0d4a4a\">\n",
              "    <div class=\"colab-df-container\">\n",
              "      <div>\n",
              "<style scoped>\n",
              "    .dataframe tbody tr th:only-of-type {\n",
              "        vertical-align: middle;\n",
              "    }\n",
              "\n",
              "    .dataframe tbody tr th {\n",
              "        vertical-align: top;\n",
              "    }\n",
              "\n",
              "    .dataframe thead th {\n",
              "        text-align: right;\n",
              "    }\n",
              "</style>\n",
              "<table border=\"1\" class=\"dataframe\">\n",
              "  <thead>\n",
              "    <tr style=\"text-align: right;\">\n",
              "      <th></th>\n",
              "      <th>Sentence 1</th>\n",
              "      <th>Sentence 2</th>\n",
              "      <th>Sentence 3</th>\n",
              "      <th>Sentence 4</th>\n",
              "    </tr>\n",
              "  </thead>\n",
              "  <tbody>\n",
              "    <tr>\n",
              "      <th>Sentence 1</th>\n",
              "      <td>NaN</td>\n",
              "      <td>0.904747</td>\n",
              "      <td>0.500937</td>\n",
              "      <td>0.674702</td>\n",
              "    </tr>\n",
              "    <tr>\n",
              "      <th>Sentence 2</th>\n",
              "      <td>0.904747</td>\n",
              "      <td>NaN</td>\n",
              "      <td>0.590377</td>\n",
              "      <td>0.730770</td>\n",
              "    </tr>\n",
              "    <tr>\n",
              "      <th>Sentence 3</th>\n",
              "      <td>0.500937</td>\n",
              "      <td>0.590377</td>\n",
              "      <td>NaN</td>\n",
              "      <td>0.638241</td>\n",
              "    </tr>\n",
              "    <tr>\n",
              "      <th>Sentence 4</th>\n",
              "      <td>0.674702</td>\n",
              "      <td>0.730770</td>\n",
              "      <td>0.638241</td>\n",
              "      <td>NaN</td>\n",
              "    </tr>\n",
              "  </tbody>\n",
              "</table>\n",
              "</div>\n",
              "      <button class=\"colab-df-convert\" onclick=\"convertToInteractive('df-b3e81ee3-0880-4289-892d-398a9e0d4a4a')\"\n",
              "              title=\"Convert this dataframe to an interactive table.\"\n",
              "              style=\"display:none;\">\n",
              "\n",
              "  <svg xmlns=\"http://www.w3.org/2000/svg\" height=\"24px\"viewBox=\"0 0 24 24\"\n",
              "       width=\"24px\">\n",
              "    <path d=\"M0 0h24v24H0V0z\" fill=\"none\"/>\n",
              "    <path d=\"M18.56 5.44l.94 2.06.94-2.06 2.06-.94-2.06-.94-.94-2.06-.94 2.06-2.06.94zm-11 1L8.5 8.5l.94-2.06 2.06-.94-2.06-.94L8.5 2.5l-.94 2.06-2.06.94zm10 10l.94 2.06.94-2.06 2.06-.94-2.06-.94-.94-2.06-.94 2.06-2.06.94z\"/><path d=\"M17.41 7.96l-1.37-1.37c-.4-.4-.92-.59-1.43-.59-.52 0-1.04.2-1.43.59L10.3 9.45l-7.72 7.72c-.78.78-.78 2.05 0 2.83L4 21.41c.39.39.9.59 1.41.59.51 0 1.02-.2 1.41-.59l7.78-7.78 2.81-2.81c.8-.78.8-2.07 0-2.86zM5.41 20L4 18.59l7.72-7.72 1.47 1.35L5.41 20z\"/>\n",
              "  </svg>\n",
              "      </button>\n",
              "\n",
              "\n",
              "\n",
              "    <div id=\"df-31c8c888-9925-47c7-b24a-316cf18e4181\">\n",
              "      <button class=\"colab-df-quickchart\" onclick=\"quickchart('df-31c8c888-9925-47c7-b24a-316cf18e4181')\"\n",
              "              title=\"Suggest charts.\"\n",
              "              style=\"display:none;\">\n",
              "\n",
              "<svg xmlns=\"http://www.w3.org/2000/svg\" height=\"24px\"viewBox=\"0 0 24 24\"\n",
              "     width=\"24px\">\n",
              "    <g>\n",
              "        <path d=\"M19 3H5c-1.1 0-2 .9-2 2v14c0 1.1.9 2 2 2h14c1.1 0 2-.9 2-2V5c0-1.1-.9-2-2-2zM9 17H7v-7h2v7zm4 0h-2V7h2v10zm4 0h-2v-4h2v4z\"/>\n",
              "    </g>\n",
              "</svg>\n",
              "      </button>\n",
              "    </div>\n",
              "\n",
              "<style>\n",
              "  .colab-df-quickchart {\n",
              "    background-color: #E8F0FE;\n",
              "    border: none;\n",
              "    border-radius: 50%;\n",
              "    cursor: pointer;\n",
              "    display: none;\n",
              "    fill: #1967D2;\n",
              "    height: 32px;\n",
              "    padding: 0 0 0 0;\n",
              "    width: 32px;\n",
              "  }\n",
              "\n",
              "  .colab-df-quickchart:hover {\n",
              "    background-color: #E2EBFA;\n",
              "    box-shadow: 0px 1px 2px rgba(60, 64, 67, 0.3), 0px 1px 3px 1px rgba(60, 64, 67, 0.15);\n",
              "    fill: #174EA6;\n",
              "  }\n",
              "\n",
              "  [theme=dark] .colab-df-quickchart {\n",
              "    background-color: #3B4455;\n",
              "    fill: #D2E3FC;\n",
              "  }\n",
              "\n",
              "  [theme=dark] .colab-df-quickchart:hover {\n",
              "    background-color: #434B5C;\n",
              "    box-shadow: 0px 1px 3px 1px rgba(0, 0, 0, 0.15);\n",
              "    filter: drop-shadow(0px 1px 2px rgba(0, 0, 0, 0.3));\n",
              "    fill: #FFFFFF;\n",
              "  }\n",
              "</style>\n",
              "\n",
              "    <script>\n",
              "      async function quickchart(key) {\n",
              "        const containerElement = document.querySelector('#' + key);\n",
              "        const charts = await google.colab.kernel.invokeFunction(\n",
              "            'suggestCharts', [key], {});\n",
              "      }\n",
              "    </script>\n",
              "\n",
              "      <script>\n",
              "\n",
              "function displayQuickchartButton(domScope) {\n",
              "  let quickchartButtonEl =\n",
              "    domScope.querySelector('#df-31c8c888-9925-47c7-b24a-316cf18e4181 button.colab-df-quickchart');\n",
              "  quickchartButtonEl.style.display =\n",
              "    google.colab.kernel.accessAllowed ? 'block' : 'none';\n",
              "}\n",
              "\n",
              "        displayQuickchartButton(document);\n",
              "      </script>\n",
              "      <style>\n",
              "    .colab-df-container {\n",
              "      display:flex;\n",
              "      flex-wrap:wrap;\n",
              "      gap: 12px;\n",
              "    }\n",
              "\n",
              "    .colab-df-convert {\n",
              "      background-color: #E8F0FE;\n",
              "      border: none;\n",
              "      border-radius: 50%;\n",
              "      cursor: pointer;\n",
              "      display: none;\n",
              "      fill: #1967D2;\n",
              "      height: 32px;\n",
              "      padding: 0 0 0 0;\n",
              "      width: 32px;\n",
              "    }\n",
              "\n",
              "    .colab-df-convert:hover {\n",
              "      background-color: #E2EBFA;\n",
              "      box-shadow: 0px 1px 2px rgba(60, 64, 67, 0.3), 0px 1px 3px 1px rgba(60, 64, 67, 0.15);\n",
              "      fill: #174EA6;\n",
              "    }\n",
              "\n",
              "    [theme=dark] .colab-df-convert {\n",
              "      background-color: #3B4455;\n",
              "      fill: #D2E3FC;\n",
              "    }\n",
              "\n",
              "    [theme=dark] .colab-df-convert:hover {\n",
              "      background-color: #434B5C;\n",
              "      box-shadow: 0px 1px 3px 1px rgba(0, 0, 0, 0.15);\n",
              "      filter: drop-shadow(0px 1px 2px rgba(0, 0, 0, 0.3));\n",
              "      fill: #FFFFFF;\n",
              "    }\n",
              "  </style>\n",
              "\n",
              "      <script>\n",
              "        const buttonEl =\n",
              "          document.querySelector('#df-b3e81ee3-0880-4289-892d-398a9e0d4a4a button.colab-df-convert');\n",
              "        buttonEl.style.display =\n",
              "          google.colab.kernel.accessAllowed ? 'block' : 'none';\n",
              "\n",
              "        async function convertToInteractive(key) {\n",
              "          const element = document.querySelector('#df-b3e81ee3-0880-4289-892d-398a9e0d4a4a');\n",
              "          const dataTable =\n",
              "            await google.colab.kernel.invokeFunction('convertToInteractive',\n",
              "                                                     [key], {});\n",
              "          if (!dataTable) return;\n",
              "\n",
              "          const docLinkHtml = 'Like what you see? Visit the ' +\n",
              "            '<a target=\"_blank\" href=https://colab.research.google.com/notebooks/data_table.ipynb>data table notebook</a>'\n",
              "            + ' to learn more about interactive tables.';\n",
              "          element.innerHTML = '';\n",
              "          dataTable['output_type'] = 'display_data';\n",
              "          await google.colab.output.renderOutput(dataTable, element);\n",
              "          const docLink = document.createElement('div');\n",
              "          docLink.innerHTML = docLinkHtml;\n",
              "          element.appendChild(docLink);\n",
              "        }\n",
              "      </script>\n",
              "    </div>\n",
              "  </div>\n"
            ]
          },
          "metadata": {},
          "execution_count": 134
        }
      ]
    },
    {
      "cell_type": "markdown",
      "source": [
        "# Bag of words"
      ],
      "metadata": {
        "id": "n5vEsbbhzGrR"
      }
    },
    {
      "cell_type": "code",
      "source": [
        "from sklearn.datasets import fetch_openml\n",
        "import ast\n",
        "\n",
        "df = fetch_openml(\"DBLP-QuAD\", parser='auto')['data']['question'].apply(lambda x:ast.literal_eval(x)['string'])\n",
        "df"
      ],
      "metadata": {
        "id": "4ifg5lpB0fBZ",
        "colab": {
          "base_uri": "https://localhost:8080/"
        },
        "outputId": "d057ba1d-c84b-4fc2-935f-9966d6173794"
      },
      "execution_count": null,
      "outputs": [
        {
          "output_type": "execute_result",
          "data": {
            "text/plain": [
              "0       What are the papers written by the person Wazi...\n",
              "1                 What is the Wikidata ID of Yvo Desmedt?\n",
              "2       What is the primary affiliation of Leandro Kru...\n",
              "3                      What is the webpage of Ravi Kumar?\n",
              "4          Which publications did Lambe, Larry A. author?\n",
              "                              ...                        \n",
              "9995    Who has published the most papers among the au...\n",
              "9996    Mention the author who has published the most ...\n",
              "9997    Who published their first paper among the auth...\n",
              "9998    Between 'Graphics and Security: Exploring Visu...\n",
              "9999    Name the author who published their first pape...\n",
              "Name: question, Length: 10000, dtype: object"
            ]
          },
          "metadata": {},
          "execution_count": 215
        }
      ]
    },
    {
      "cell_type": "markdown",
      "source": [
        "**Bag of words** can be implement using **Scikit-Learn**'s **`CountVectorizer`**, which converts a collection of text documents to a matrix of token counts.\n",
        "\n",
        "**`CountVectorizer`** follows the regular Sklearn syntax:\n",
        "```\n",
        "vectorizer = CountVectorizer()\n",
        "bag_of_words = vectorizer.fit_transform(documents)\n",
        "```\n",
        "It can be found [here](https://scikit-learn.org/stable/modules/generated/sklearn.feature_extraction.text.CountVectorizer.html). <br>It has several parameters that allow you to customize its behavior:\n",
        "\n",
        "\n",
        "*   **`max_features`**: This parameter allows you to set a maximum number of words for the vocabulary, keeping only the top max_features most frequent words. This can be useful if you have very large documents and want to limit the complexity of the model.\n",
        "\n",
        "*   **`min_df`**: This is the minimum document frequency for a word to be included in the vocabulary. This can be an absolute count (e.g., min_df=5 means a word must appear in at least 5 documents to be included) or a proportion of the total documents (e.g., min_df=0.01 means the word must appear in at least 1% of the documents).\n",
        "\n",
        "*   **`max_df`**: This is the maximum document frequency for a word to be included in the vocabulary. Like min_df, this can be an absolute count or a proportion of total documents. Words that appear too frequently (like common stopwords) can be removed by setting this parameter to a lower value.\n",
        "\n",
        "*   **`stop_words`**: This can be a list of words to be removed from the documents or the string 'english' to use a built-in list of English stop words.\n",
        "\n",
        "*   **`ngram_range`**: This is a tuple (min_n, max_n) that defines the minimum and maximum length of sequences of words to consider. For example, ngram_range=(1, 2) would consider both individual words and pairs of consecutive words.\n",
        "\n",
        "*   **`binary`**: If set to True, this parameter will make the vectorizer use binary occurrence markers instead of counts. This means that the presence or absence of a word will be marked by 1 and 0, regardless of how many times it appears.\n",
        "\n",
        "The output is a sparse matrix where each row represents a specific text in documents and each column represents a word in the vocabulary. <br>To transform the sparse matrix into an array and see the vocabulary you can use:\n",
        "\n",
        "```\n",
        "# The name of the words found in the documents\n",
        "vectorizer.get_feature_names_out()\n",
        "\n",
        "# Transform the sparse matrix into an array\n",
        "bag_of_words.toarray()\n",
        "```\n",
        "\n",
        "\n",
        "**1. Count the word frequency for each text of the dataset using `binary=true` and `stop_words='english'` in `CountVectorizer`.<br>Transform the sparse matrix into an array.**"
      ],
      "metadata": {
        "id": "nUvVQ82UJOym"
      }
    },
    {
      "cell_type": "code",
      "source": [
        "from sklearn.feature_extraction.text import CountVectorizer\n",
        "vectorizer = CountVectorizer(binary=True, stop_words='english')\n",
        "bag_of_words = vectorizer.fit_transform(df)\n",
        "bag_of_words = bag_of_words.toarray()\n",
        "bag_of_words"
      ],
      "metadata": {
        "id": "uk_KcKYRzIC9",
        "colab": {
          "base_uri": "https://localhost:8080/"
        },
        "outputId": "86ff63ed-1d0f-465a-a886-f6474c8fa3ec"
      },
      "execution_count": null,
      "outputs": [
        {
          "output_type": "execute_result",
          "data": {
            "text/plain": [
              "array([[0, 0, 0, ..., 0, 0, 0],\n",
              "       [0, 0, 0, ..., 0, 0, 0],\n",
              "       [0, 0, 0, ..., 0, 0, 0],\n",
              "       ...,\n",
              "       [0, 0, 0, ..., 0, 0, 0],\n",
              "       [0, 0, 0, ..., 0, 0, 0],\n",
              "       [0, 0, 0, ..., 0, 0, 0]])"
            ]
          },
          "metadata": {},
          "execution_count": 216
        }
      ]
    },
    {
      "cell_type": "markdown",
      "source": [
        "**2. Turn the result in a Pandas Dataframe and add the word names as columns using `.get_feature_names_out()`**"
      ],
      "metadata": {
        "id": "S9xKAkLjMVeY"
      }
    },
    {
      "cell_type": "code",
      "source": [
        "bag_of_words = pd.DataFrame(bag_of_words,\n",
        "                            columns=vectorizer.get_feature_names_out())\n",
        "bag_of_words"
      ],
      "metadata": {
        "colab": {
          "base_uri": "https://localhost:8080/",
          "height": 487
        },
        "id": "8wKbGS7yMiC6",
        "outputId": "126f86f9-fabb-4af0-c016-554c009a8313"
      },
      "execution_count": null,
      "outputs": [
        {
          "output_type": "execute_result",
          "data": {
            "text/plain": [
              "      01903  0262101141  037w  06  064mm2  07431  0750663510  09  10  100  \\\n",
              "0         0           0     0   0       0      0           0   0   0    0   \n",
              "1         0           0     0   0       0      0           0   0   0    0   \n",
              "2         0           0     0   0       0      0           0   0   0    0   \n",
              "3         0           0     0   0       0      0           0   0   0    0   \n",
              "4         0           0     0   0       0      0           0   0   0    0   \n",
              "...     ...         ...   ...  ..     ...    ...         ...  ..  ..  ...   \n",
              "9995      0           0     0   0       0      0           0   0   0    0   \n",
              "9996      0           0     0   0       0      0           0   0   0    0   \n",
              "9997      0           0     0   0       0      0           0   0   0    0   \n",
              "9998      0           0     0   0       0      0           0   0   0    0   \n",
              "9999      0           0     0   0       0      0           0   0   0    0   \n",
              "\n",
              "      ...  zum  zunino  zuo  zur  zurich  zusammenh  zvs  zwieback  zwischen  \\\n",
              "0     ...    0       0    0    0       0          0    0         0         0   \n",
              "1     ...    0       0    0    0       0          0    0         0         0   \n",
              "2     ...    0       0    0    0       0          0    0         0         0   \n",
              "3     ...    0       0    0    0       0          0    0         0         0   \n",
              "4     ...    0       0    0    0       0          0    0         0         0   \n",
              "...   ...  ...     ...  ...  ...     ...        ...  ...       ...       ...   \n",
              "9995  ...    0       0    0    0       0          0    0         0         0   \n",
              "9996  ...    0       0    0    0       0          0    0         0         0   \n",
              "9997  ...    0       0    0    0       0          0    0         0         0   \n",
              "9998  ...    0       0    0    0       0          0    0         0         0   \n",
              "9999  ...    0       0    0    0       0          0    0         0         0   \n",
              "\n",
              "      zwolinski  \n",
              "0             0  \n",
              "1             0  \n",
              "2             0  \n",
              "3             0  \n",
              "4             0  \n",
              "...         ...  \n",
              "9995          0  \n",
              "9996          0  \n",
              "9997          0  \n",
              "9998          0  \n",
              "9999          0  \n",
              "\n",
              "[10000 rows x 18033 columns]"
            ],
            "text/html": [
              "\n",
              "\n",
              "  <div id=\"df-092663aa-e59e-4b68-8d11-d1872902274d\">\n",
              "    <div class=\"colab-df-container\">\n",
              "      <div>\n",
              "<style scoped>\n",
              "    .dataframe tbody tr th:only-of-type {\n",
              "        vertical-align: middle;\n",
              "    }\n",
              "\n",
              "    .dataframe tbody tr th {\n",
              "        vertical-align: top;\n",
              "    }\n",
              "\n",
              "    .dataframe thead th {\n",
              "        text-align: right;\n",
              "    }\n",
              "</style>\n",
              "<table border=\"1\" class=\"dataframe\">\n",
              "  <thead>\n",
              "    <tr style=\"text-align: right;\">\n",
              "      <th></th>\n",
              "      <th>01903</th>\n",
              "      <th>0262101141</th>\n",
              "      <th>037w</th>\n",
              "      <th>06</th>\n",
              "      <th>064mm2</th>\n",
              "      <th>07431</th>\n",
              "      <th>0750663510</th>\n",
              "      <th>09</th>\n",
              "      <th>10</th>\n",
              "      <th>100</th>\n",
              "      <th>...</th>\n",
              "      <th>zum</th>\n",
              "      <th>zunino</th>\n",
              "      <th>zuo</th>\n",
              "      <th>zur</th>\n",
              "      <th>zurich</th>\n",
              "      <th>zusammenh</th>\n",
              "      <th>zvs</th>\n",
              "      <th>zwieback</th>\n",
              "      <th>zwischen</th>\n",
              "      <th>zwolinski</th>\n",
              "    </tr>\n",
              "  </thead>\n",
              "  <tbody>\n",
              "    <tr>\n",
              "      <th>0</th>\n",
              "      <td>0</td>\n",
              "      <td>0</td>\n",
              "      <td>0</td>\n",
              "      <td>0</td>\n",
              "      <td>0</td>\n",
              "      <td>0</td>\n",
              "      <td>0</td>\n",
              "      <td>0</td>\n",
              "      <td>0</td>\n",
              "      <td>0</td>\n",
              "      <td>...</td>\n",
              "      <td>0</td>\n",
              "      <td>0</td>\n",
              "      <td>0</td>\n",
              "      <td>0</td>\n",
              "      <td>0</td>\n",
              "      <td>0</td>\n",
              "      <td>0</td>\n",
              "      <td>0</td>\n",
              "      <td>0</td>\n",
              "      <td>0</td>\n",
              "    </tr>\n",
              "    <tr>\n",
              "      <th>1</th>\n",
              "      <td>0</td>\n",
              "      <td>0</td>\n",
              "      <td>0</td>\n",
              "      <td>0</td>\n",
              "      <td>0</td>\n",
              "      <td>0</td>\n",
              "      <td>0</td>\n",
              "      <td>0</td>\n",
              "      <td>0</td>\n",
              "      <td>0</td>\n",
              "      <td>...</td>\n",
              "      <td>0</td>\n",
              "      <td>0</td>\n",
              "      <td>0</td>\n",
              "      <td>0</td>\n",
              "      <td>0</td>\n",
              "      <td>0</td>\n",
              "      <td>0</td>\n",
              "      <td>0</td>\n",
              "      <td>0</td>\n",
              "      <td>0</td>\n",
              "    </tr>\n",
              "    <tr>\n",
              "      <th>2</th>\n",
              "      <td>0</td>\n",
              "      <td>0</td>\n",
              "      <td>0</td>\n",
              "      <td>0</td>\n",
              "      <td>0</td>\n",
              "      <td>0</td>\n",
              "      <td>0</td>\n",
              "      <td>0</td>\n",
              "      <td>0</td>\n",
              "      <td>0</td>\n",
              "      <td>...</td>\n",
              "      <td>0</td>\n",
              "      <td>0</td>\n",
              "      <td>0</td>\n",
              "      <td>0</td>\n",
              "      <td>0</td>\n",
              "      <td>0</td>\n",
              "      <td>0</td>\n",
              "      <td>0</td>\n",
              "      <td>0</td>\n",
              "      <td>0</td>\n",
              "    </tr>\n",
              "    <tr>\n",
              "      <th>3</th>\n",
              "      <td>0</td>\n",
              "      <td>0</td>\n",
              "      <td>0</td>\n",
              "      <td>0</td>\n",
              "      <td>0</td>\n",
              "      <td>0</td>\n",
              "      <td>0</td>\n",
              "      <td>0</td>\n",
              "      <td>0</td>\n",
              "      <td>0</td>\n",
              "      <td>...</td>\n",
              "      <td>0</td>\n",
              "      <td>0</td>\n",
              "      <td>0</td>\n",
              "      <td>0</td>\n",
              "      <td>0</td>\n",
              "      <td>0</td>\n",
              "      <td>0</td>\n",
              "      <td>0</td>\n",
              "      <td>0</td>\n",
              "      <td>0</td>\n",
              "    </tr>\n",
              "    <tr>\n",
              "      <th>4</th>\n",
              "      <td>0</td>\n",
              "      <td>0</td>\n",
              "      <td>0</td>\n",
              "      <td>0</td>\n",
              "      <td>0</td>\n",
              "      <td>0</td>\n",
              "      <td>0</td>\n",
              "      <td>0</td>\n",
              "      <td>0</td>\n",
              "      <td>0</td>\n",
              "      <td>...</td>\n",
              "      <td>0</td>\n",
              "      <td>0</td>\n",
              "      <td>0</td>\n",
              "      <td>0</td>\n",
              "      <td>0</td>\n",
              "      <td>0</td>\n",
              "      <td>0</td>\n",
              "      <td>0</td>\n",
              "      <td>0</td>\n",
              "      <td>0</td>\n",
              "    </tr>\n",
              "    <tr>\n",
              "      <th>...</th>\n",
              "      <td>...</td>\n",
              "      <td>...</td>\n",
              "      <td>...</td>\n",
              "      <td>...</td>\n",
              "      <td>...</td>\n",
              "      <td>...</td>\n",
              "      <td>...</td>\n",
              "      <td>...</td>\n",
              "      <td>...</td>\n",
              "      <td>...</td>\n",
              "      <td>...</td>\n",
              "      <td>...</td>\n",
              "      <td>...</td>\n",
              "      <td>...</td>\n",
              "      <td>...</td>\n",
              "      <td>...</td>\n",
              "      <td>...</td>\n",
              "      <td>...</td>\n",
              "      <td>...</td>\n",
              "      <td>...</td>\n",
              "      <td>...</td>\n",
              "    </tr>\n",
              "    <tr>\n",
              "      <th>9995</th>\n",
              "      <td>0</td>\n",
              "      <td>0</td>\n",
              "      <td>0</td>\n",
              "      <td>0</td>\n",
              "      <td>0</td>\n",
              "      <td>0</td>\n",
              "      <td>0</td>\n",
              "      <td>0</td>\n",
              "      <td>0</td>\n",
              "      <td>0</td>\n",
              "      <td>...</td>\n",
              "      <td>0</td>\n",
              "      <td>0</td>\n",
              "      <td>0</td>\n",
              "      <td>0</td>\n",
              "      <td>0</td>\n",
              "      <td>0</td>\n",
              "      <td>0</td>\n",
              "      <td>0</td>\n",
              "      <td>0</td>\n",
              "      <td>0</td>\n",
              "    </tr>\n",
              "    <tr>\n",
              "      <th>9996</th>\n",
              "      <td>0</td>\n",
              "      <td>0</td>\n",
              "      <td>0</td>\n",
              "      <td>0</td>\n",
              "      <td>0</td>\n",
              "      <td>0</td>\n",
              "      <td>0</td>\n",
              "      <td>0</td>\n",
              "      <td>0</td>\n",
              "      <td>0</td>\n",
              "      <td>...</td>\n",
              "      <td>0</td>\n",
              "      <td>0</td>\n",
              "      <td>0</td>\n",
              "      <td>0</td>\n",
              "      <td>0</td>\n",
              "      <td>0</td>\n",
              "      <td>0</td>\n",
              "      <td>0</td>\n",
              "      <td>0</td>\n",
              "      <td>0</td>\n",
              "    </tr>\n",
              "    <tr>\n",
              "      <th>9997</th>\n",
              "      <td>0</td>\n",
              "      <td>0</td>\n",
              "      <td>0</td>\n",
              "      <td>0</td>\n",
              "      <td>0</td>\n",
              "      <td>0</td>\n",
              "      <td>0</td>\n",
              "      <td>0</td>\n",
              "      <td>0</td>\n",
              "      <td>0</td>\n",
              "      <td>...</td>\n",
              "      <td>0</td>\n",
              "      <td>0</td>\n",
              "      <td>0</td>\n",
              "      <td>0</td>\n",
              "      <td>0</td>\n",
              "      <td>0</td>\n",
              "      <td>0</td>\n",
              "      <td>0</td>\n",
              "      <td>0</td>\n",
              "      <td>0</td>\n",
              "    </tr>\n",
              "    <tr>\n",
              "      <th>9998</th>\n",
              "      <td>0</td>\n",
              "      <td>0</td>\n",
              "      <td>0</td>\n",
              "      <td>0</td>\n",
              "      <td>0</td>\n",
              "      <td>0</td>\n",
              "      <td>0</td>\n",
              "      <td>0</td>\n",
              "      <td>0</td>\n",
              "      <td>0</td>\n",
              "      <td>...</td>\n",
              "      <td>0</td>\n",
              "      <td>0</td>\n",
              "      <td>0</td>\n",
              "      <td>0</td>\n",
              "      <td>0</td>\n",
              "      <td>0</td>\n",
              "      <td>0</td>\n",
              "      <td>0</td>\n",
              "      <td>0</td>\n",
              "      <td>0</td>\n",
              "    </tr>\n",
              "    <tr>\n",
              "      <th>9999</th>\n",
              "      <td>0</td>\n",
              "      <td>0</td>\n",
              "      <td>0</td>\n",
              "      <td>0</td>\n",
              "      <td>0</td>\n",
              "      <td>0</td>\n",
              "      <td>0</td>\n",
              "      <td>0</td>\n",
              "      <td>0</td>\n",
              "      <td>0</td>\n",
              "      <td>...</td>\n",
              "      <td>0</td>\n",
              "      <td>0</td>\n",
              "      <td>0</td>\n",
              "      <td>0</td>\n",
              "      <td>0</td>\n",
              "      <td>0</td>\n",
              "      <td>0</td>\n",
              "      <td>0</td>\n",
              "      <td>0</td>\n",
              "      <td>0</td>\n",
              "    </tr>\n",
              "  </tbody>\n",
              "</table>\n",
              "<p>10000 rows × 18033 columns</p>\n",
              "</div>\n",
              "      <button class=\"colab-df-convert\" onclick=\"convertToInteractive('df-092663aa-e59e-4b68-8d11-d1872902274d')\"\n",
              "              title=\"Convert this dataframe to an interactive table.\"\n",
              "              style=\"display:none;\">\n",
              "\n",
              "  <svg xmlns=\"http://www.w3.org/2000/svg\" height=\"24px\"viewBox=\"0 0 24 24\"\n",
              "       width=\"24px\">\n",
              "    <path d=\"M0 0h24v24H0V0z\" fill=\"none\"/>\n",
              "    <path d=\"M18.56 5.44l.94 2.06.94-2.06 2.06-.94-2.06-.94-.94-2.06-.94 2.06-2.06.94zm-11 1L8.5 8.5l.94-2.06 2.06-.94-2.06-.94L8.5 2.5l-.94 2.06-2.06.94zm10 10l.94 2.06.94-2.06 2.06-.94-2.06-.94-.94-2.06-.94 2.06-2.06.94z\"/><path d=\"M17.41 7.96l-1.37-1.37c-.4-.4-.92-.59-1.43-.59-.52 0-1.04.2-1.43.59L10.3 9.45l-7.72 7.72c-.78.78-.78 2.05 0 2.83L4 21.41c.39.39.9.59 1.41.59.51 0 1.02-.2 1.41-.59l7.78-7.78 2.81-2.81c.8-.78.8-2.07 0-2.86zM5.41 20L4 18.59l7.72-7.72 1.47 1.35L5.41 20z\"/>\n",
              "  </svg>\n",
              "      </button>\n",
              "\n",
              "\n",
              "\n",
              "    <div id=\"df-ec4baf8a-ddfb-4d1d-ac93-a38cb3e6e0a9\">\n",
              "      <button class=\"colab-df-quickchart\" onclick=\"quickchart('df-ec4baf8a-ddfb-4d1d-ac93-a38cb3e6e0a9')\"\n",
              "              title=\"Suggest charts.\"\n",
              "              style=\"display:none;\">\n",
              "\n",
              "<svg xmlns=\"http://www.w3.org/2000/svg\" height=\"24px\"viewBox=\"0 0 24 24\"\n",
              "     width=\"24px\">\n",
              "    <g>\n",
              "        <path d=\"M19 3H5c-1.1 0-2 .9-2 2v14c0 1.1.9 2 2 2h14c1.1 0 2-.9 2-2V5c0-1.1-.9-2-2-2zM9 17H7v-7h2v7zm4 0h-2V7h2v10zm4 0h-2v-4h2v4z\"/>\n",
              "    </g>\n",
              "</svg>\n",
              "      </button>\n",
              "    </div>\n",
              "\n",
              "<style>\n",
              "  .colab-df-quickchart {\n",
              "    background-color: #E8F0FE;\n",
              "    border: none;\n",
              "    border-radius: 50%;\n",
              "    cursor: pointer;\n",
              "    display: none;\n",
              "    fill: #1967D2;\n",
              "    height: 32px;\n",
              "    padding: 0 0 0 0;\n",
              "    width: 32px;\n",
              "  }\n",
              "\n",
              "  .colab-df-quickchart:hover {\n",
              "    background-color: #E2EBFA;\n",
              "    box-shadow: 0px 1px 2px rgba(60, 64, 67, 0.3), 0px 1px 3px 1px rgba(60, 64, 67, 0.15);\n",
              "    fill: #174EA6;\n",
              "  }\n",
              "\n",
              "  [theme=dark] .colab-df-quickchart {\n",
              "    background-color: #3B4455;\n",
              "    fill: #D2E3FC;\n",
              "  }\n",
              "\n",
              "  [theme=dark] .colab-df-quickchart:hover {\n",
              "    background-color: #434B5C;\n",
              "    box-shadow: 0px 1px 3px 1px rgba(0, 0, 0, 0.15);\n",
              "    filter: drop-shadow(0px 1px 2px rgba(0, 0, 0, 0.3));\n",
              "    fill: #FFFFFF;\n",
              "  }\n",
              "</style>\n",
              "\n",
              "    <script>\n",
              "      async function quickchart(key) {\n",
              "        const containerElement = document.querySelector('#' + key);\n",
              "        const charts = await google.colab.kernel.invokeFunction(\n",
              "            'suggestCharts', [key], {});\n",
              "      }\n",
              "    </script>\n",
              "\n",
              "      <script>\n",
              "\n",
              "function displayQuickchartButton(domScope) {\n",
              "  let quickchartButtonEl =\n",
              "    domScope.querySelector('#df-ec4baf8a-ddfb-4d1d-ac93-a38cb3e6e0a9 button.colab-df-quickchart');\n",
              "  quickchartButtonEl.style.display =\n",
              "    google.colab.kernel.accessAllowed ? 'block' : 'none';\n",
              "}\n",
              "\n",
              "        displayQuickchartButton(document);\n",
              "      </script>\n",
              "      <style>\n",
              "    .colab-df-container {\n",
              "      display:flex;\n",
              "      flex-wrap:wrap;\n",
              "      gap: 12px;\n",
              "    }\n",
              "\n",
              "    .colab-df-convert {\n",
              "      background-color: #E8F0FE;\n",
              "      border: none;\n",
              "      border-radius: 50%;\n",
              "      cursor: pointer;\n",
              "      display: none;\n",
              "      fill: #1967D2;\n",
              "      height: 32px;\n",
              "      padding: 0 0 0 0;\n",
              "      width: 32px;\n",
              "    }\n",
              "\n",
              "    .colab-df-convert:hover {\n",
              "      background-color: #E2EBFA;\n",
              "      box-shadow: 0px 1px 2px rgba(60, 64, 67, 0.3), 0px 1px 3px 1px rgba(60, 64, 67, 0.15);\n",
              "      fill: #174EA6;\n",
              "    }\n",
              "\n",
              "    [theme=dark] .colab-df-convert {\n",
              "      background-color: #3B4455;\n",
              "      fill: #D2E3FC;\n",
              "    }\n",
              "\n",
              "    [theme=dark] .colab-df-convert:hover {\n",
              "      background-color: #434B5C;\n",
              "      box-shadow: 0px 1px 3px 1px rgba(0, 0, 0, 0.15);\n",
              "      filter: drop-shadow(0px 1px 2px rgba(0, 0, 0, 0.3));\n",
              "      fill: #FFFFFF;\n",
              "    }\n",
              "  </style>\n",
              "\n",
              "      <script>\n",
              "        const buttonEl =\n",
              "          document.querySelector('#df-092663aa-e59e-4b68-8d11-d1872902274d button.colab-df-convert');\n",
              "        buttonEl.style.display =\n",
              "          google.colab.kernel.accessAllowed ? 'block' : 'none';\n",
              "\n",
              "        async function convertToInteractive(key) {\n",
              "          const element = document.querySelector('#df-092663aa-e59e-4b68-8d11-d1872902274d');\n",
              "          const dataTable =\n",
              "            await google.colab.kernel.invokeFunction('convertToInteractive',\n",
              "                                                     [key], {});\n",
              "          if (!dataTable) return;\n",
              "\n",
              "          const docLinkHtml = 'Like what you see? Visit the ' +\n",
              "            '<a target=\"_blank\" href=https://colab.research.google.com/notebooks/data_table.ipynb>data table notebook</a>'\n",
              "            + ' to learn more about interactive tables.';\n",
              "          element.innerHTML = '';\n",
              "          dataTable['output_type'] = 'display_data';\n",
              "          await google.colab.output.renderOutput(dataTable, element);\n",
              "          const docLink = document.createElement('div');\n",
              "          docLink.innerHTML = docLinkHtml;\n",
              "          element.appendChild(docLink);\n",
              "        }\n",
              "      </script>\n",
              "    </div>\n",
              "  </div>\n"
            ]
          },
          "metadata": {},
          "execution_count": 217
        }
      ]
    },
    {
      "cell_type": "markdown",
      "source": [
        "**3. Find the top-5 most frequent words in the documents.**\n",
        "\n",
        "*Tips: You can compare the mean of frequency in the documents for each word using the `.mean()` method and sort the values using the `sort_values()` method.*"
      ],
      "metadata": {
        "id": "EIwxWKjVMt1D"
      }
    },
    {
      "cell_type": "code",
      "source": [
        "bag_of_words.mean().sort_values()[-5:]"
      ],
      "metadata": {
        "colab": {
          "base_uri": "https://localhost:8080/"
        },
        "id": "feK7M8v1NGHN",
        "outputId": "86c6afdb-0238-4b88-9ee4-face7f41d7ad"
      },
      "execution_count": null,
      "outputs": [
        {
          "output_type": "execute_result",
          "data": {
            "text/plain": [
              "did          0.2231\n",
              "paper        0.3407\n",
              "papers       0.3452\n",
              "authors      0.3777\n",
              "published    0.5016\n",
              "dtype: float64"
            ]
          },
          "metadata": {},
          "execution_count": 218
        }
      ]
    },
    {
      "cell_type": "markdown",
      "source": [
        "**4. Find the bi-grams to the bag of words using the `ngram_range` parameter.<br> How many elements does the bag of words have ?**\n",
        "\n",
        "*Tips: A bi-gram is a sequence of two adjacent words  that appear together in a sentence.*"
      ],
      "metadata": {
        "id": "xCrhP1TKNsGO"
      }
    },
    {
      "cell_type": "code",
      "source": [
        "vectorizer = CountVectorizer(binary=True,\n",
        "                             stop_words='english',\n",
        "                             ngram_range=(2,2))\n",
        "bag_of_words = vectorizer.fit_transform(df)\n",
        "bag_of_words = bag_of_words.toarray()\n",
        "bag_of_words = pd.DataFrame(bag_of_words,\n",
        "                            columns=vectorizer.get_feature_names_out())\n",
        "bag_of_words"
      ],
      "metadata": {
        "colab": {
          "base_uri": "https://localhost:8080/",
          "height": 381
        },
        "id": "wbu-NiOkOaXs",
        "outputId": "5a8ee385-5a8d-4a9f-e27b-5d5519a620aa"
      },
      "execution_count": null,
      "outputs": [
        {
          "output_type": "error",
          "ename": "KeyboardInterrupt",
          "evalue": "ignored",
          "traceback": [
            "\u001b[0;31m---------------------------------------------------------------------------\u001b[0m",
            "\u001b[0;31mKeyboardInterrupt\u001b[0m                         Traceback (most recent call last)",
            "\u001b[0;32m<ipython-input-219-259586f3324c>\u001b[0m in \u001b[0;36m<cell line: 4>\u001b[0;34m()\u001b[0m\n\u001b[1;32m      2\u001b[0m                              \u001b[0mstop_words\u001b[0m\u001b[0;34m=\u001b[0m\u001b[0;34m'english'\u001b[0m\u001b[0;34m,\u001b[0m\u001b[0;34m\u001b[0m\u001b[0;34m\u001b[0m\u001b[0m\n\u001b[1;32m      3\u001b[0m                              ngram_range=(2,2))\n\u001b[0;32m----> 4\u001b[0;31m \u001b[0mbag_of_words\u001b[0m \u001b[0;34m=\u001b[0m \u001b[0mvectorizer\u001b[0m\u001b[0;34m.\u001b[0m\u001b[0mfit_transform\u001b[0m\u001b[0;34m(\u001b[0m\u001b[0mdf\u001b[0m\u001b[0;34m)\u001b[0m\u001b[0;34m\u001b[0m\u001b[0;34m\u001b[0m\u001b[0m\n\u001b[0m\u001b[1;32m      5\u001b[0m \u001b[0mbag_of_words\u001b[0m \u001b[0;34m=\u001b[0m \u001b[0mbag_of_words\u001b[0m\u001b[0;34m.\u001b[0m\u001b[0mtoarray\u001b[0m\u001b[0;34m(\u001b[0m\u001b[0;34m)\u001b[0m\u001b[0;34m\u001b[0m\u001b[0;34m\u001b[0m\u001b[0m\n\u001b[1;32m      6\u001b[0m bag_of_words = pd.DataFrame(bag_of_words,\n",
            "\u001b[0;32m/usr/local/lib/python3.10/dist-packages/sklearn/feature_extraction/text.py\u001b[0m in \u001b[0;36mfit_transform\u001b[0;34m(self, raw_documents, y)\u001b[0m\n\u001b[1;32m   1386\u001b[0m                     \u001b[0;32mbreak\u001b[0m\u001b[0;34m\u001b[0m\u001b[0;34m\u001b[0m\u001b[0m\n\u001b[1;32m   1387\u001b[0m \u001b[0;34m\u001b[0m\u001b[0m\n\u001b[0;32m-> 1388\u001b[0;31m         \u001b[0mvocabulary\u001b[0m\u001b[0;34m,\u001b[0m \u001b[0mX\u001b[0m \u001b[0;34m=\u001b[0m \u001b[0mself\u001b[0m\u001b[0;34m.\u001b[0m\u001b[0m_count_vocab\u001b[0m\u001b[0;34m(\u001b[0m\u001b[0mraw_documents\u001b[0m\u001b[0;34m,\u001b[0m \u001b[0mself\u001b[0m\u001b[0;34m.\u001b[0m\u001b[0mfixed_vocabulary_\u001b[0m\u001b[0;34m)\u001b[0m\u001b[0;34m\u001b[0m\u001b[0;34m\u001b[0m\u001b[0m\n\u001b[0m\u001b[1;32m   1389\u001b[0m \u001b[0;34m\u001b[0m\u001b[0m\n\u001b[1;32m   1390\u001b[0m         \u001b[0;32mif\u001b[0m \u001b[0mself\u001b[0m\u001b[0;34m.\u001b[0m\u001b[0mbinary\u001b[0m\u001b[0;34m:\u001b[0m\u001b[0;34m\u001b[0m\u001b[0;34m\u001b[0m\u001b[0m\n",
            "\u001b[0;32m/usr/local/lib/python3.10/dist-packages/sklearn/feature_extraction/text.py\u001b[0m in \u001b[0;36m_count_vocab\u001b[0;34m(self, raw_documents, fixed_vocab)\u001b[0m\n\u001b[1;32m      1\u001b[0m \u001b[0;31m# Authors: Olivier Grisel <olivier.grisel@ensta.org>\u001b[0m\u001b[0;34m\u001b[0m\u001b[0;34m\u001b[0m\u001b[0m\n\u001b[1;32m      2\u001b[0m \u001b[0;31m#          Mathieu Blondel <mathieu@mblondel.org>\u001b[0m\u001b[0;34m\u001b[0m\u001b[0;34m\u001b[0m\u001b[0m\n\u001b[1;32m      3\u001b[0m \u001b[0;31m#          Lars Buitinck\u001b[0m\u001b[0;34m\u001b[0m\u001b[0;34m\u001b[0m\u001b[0m\n\u001b[1;32m      4\u001b[0m \u001b[0;31m#          Robert Layton <robertlayton@gmail.com>\u001b[0m\u001b[0;34m\u001b[0m\u001b[0;34m\u001b[0m\u001b[0m\n\u001b[1;32m      5\u001b[0m \u001b[0;31m#          Jochen Wersdörfer <jochen@wersdoerfer.de>\u001b[0m\u001b[0;34m\u001b[0m\u001b[0;34m\u001b[0m\u001b[0m\n",
            "\u001b[0;31mKeyboardInterrupt\u001b[0m: "
          ]
        }
      ]
    },
    {
      "cell_type": "markdown",
      "source": [
        "**5. Find the top-5 most frequent bi-grams in the documents.**"
      ],
      "metadata": {
        "id": "O_vlcEGiPBAL"
      }
    },
    {
      "cell_type": "code",
      "source": [
        "bag_of_words.mean().sort_values()[-5:]"
      ],
      "metadata": {
        "id": "EBff662APDNm"
      },
      "execution_count": null,
      "outputs": []
    },
    {
      "cell_type": "markdown",
      "source": [
        "# TF-IDF"
      ],
      "metadata": {
        "id": "ERpnd2iFzIoR"
      }
    },
    {
      "cell_type": "markdown",
      "source": [
        "**TF-IDF** can be implement using **Scikit-Learn**'s **`TfidfVectorizer`**, which converts a collection of text documents to a matrix of TF-IDF features that reflects how important a word is to a document in a collection of documents.\n",
        "\n",
        "**`TfidfVectorizer`** follows the regular Sklearn syntax:\n",
        "\n",
        "```\n",
        "vectorizer = TfidfVectorizer()\n",
        "tf_idf = vectorizer.fit_transform(documents)\n",
        "```\n",
        "\n",
        "It can be found [here](https://scikit-learn.org/stable/modules/generated/sklearn.feature_extraction.text.TfidfVectorizer.html). <br>It has several parameters that allow you to customize its behavior:\n",
        "\n",
        "\n",
        "*   **`max_features`**: This parameter allows you to set a maximum number of words for the vocabulary, keeping only the top max_features most frequent words. This can be useful if you have very large documents and want to limit the complexity of the model.\n",
        "\n",
        "*   **`min_df`**: This is the minimum document frequency for a word to be included in the vocabulary. This can be an absolute count (e.g., min_df=5 means a word must appear in at least 5 documents to be included) or a proportion of the total documents (e.g., min_df=0.01 means the word must appear in at least 1% of the documents).\n",
        "\n",
        "*   **`max_df`**: This is the maximum document frequency for a word to be included in the vocabulary. Like min_df, this can be an absolute count or a proportion of total documents. Words that appear too frequently (like common stopwords) can be removed by setting this parameter to a lower value.\n",
        "\n",
        "*   **`stop_words`**: This can be a list of words to be removed from the documents or the string 'english' to use a built-in list of English stop words.\n",
        "\n",
        "*   **`ngram_range`**: This is a tuple (min_n, max_n) that defines the minimum and maximum length of sequences of words to consider. For example, ngram_range=(1, 2) would consider both individual words and pairs of consecutive words.\n",
        "\n",
        "*   **`smooth_idf`**: Smooth idf weights by adding one to document frequencies, as if an extra document was seen containing every term in the collection exactly once. Prevents zero divisions.\n",
        "\n",
        "The output is a sparse matrix where each row represents a specific text in documents and each column represents a word in the vocabulary. <br>To transform the sparse matrix into an array and see the vocabulary you can use:\n",
        "\n",
        "```\n",
        "# The name of the words found in the documents\n",
        "vectorizer.get_feature_names_out()\n",
        "\n",
        "# Transform the sparse matrix into an array\n",
        "tf_idf.toarray()\n",
        "```\n",
        "\n",
        "**1. Compute the tf-idf of each word for each text of the dataset using `TfidfVectorizer`.<br>Transform the sparse matrix into an array.**"
      ],
      "metadata": {
        "id": "koooHSp-oBNk"
      }
    },
    {
      "cell_type": "code",
      "source": [
        "from sklearn.feature_extraction.text import TfidfVectorizer\n",
        "vectorizer = TfidfVectorizer()\n",
        "tf_idf = vectorizer.fit_transform(df)\n",
        "tf_idf = tf_idf.toarray()\n",
        "tf_idf = pd.DataFrame(tf_idf,\n",
        "                      columns=vectorizer.get_feature_names_out())\n",
        "tf_idf"
      ],
      "metadata": {
        "id": "t2Qp46ctzlm1",
        "colab": {
          "base_uri": "https://localhost:8080/",
          "height": 424
        },
        "outputId": "c7a95037-96ec-4d77-b93f-cfee1fb3ff5d"
      },
      "execution_count": null,
      "outputs": [
        {
          "output_type": "execute_result",
          "data": {
            "text/plain": [
              "      01903  0262101141  037w   06  064mm2  07431  0750663510   09   10  100  \\\n",
              "0       0.0         0.0   0.0  0.0     0.0    0.0         0.0  0.0  0.0  0.0   \n",
              "1       0.0         0.0   0.0  0.0     0.0    0.0         0.0  0.0  0.0  0.0   \n",
              "2       0.0         0.0   0.0  0.0     0.0    0.0         0.0  0.0  0.0  0.0   \n",
              "3       0.0         0.0   0.0  0.0     0.0    0.0         0.0  0.0  0.0  0.0   \n",
              "4       0.0         0.0   0.0  0.0     0.0    0.0         0.0  0.0  0.0  0.0   \n",
              "...     ...         ...   ...  ...     ...    ...         ...  ...  ...  ...   \n",
              "9995    0.0         0.0   0.0  0.0     0.0    0.0         0.0  0.0  0.0  0.0   \n",
              "9996    0.0         0.0   0.0  0.0     0.0    0.0         0.0  0.0  0.0  0.0   \n",
              "9997    0.0         0.0   0.0  0.0     0.0    0.0         0.0  0.0  0.0  0.0   \n",
              "9998    0.0         0.0   0.0  0.0     0.0    0.0         0.0  0.0  0.0  0.0   \n",
              "9999    0.0         0.0   0.0  0.0     0.0    0.0         0.0  0.0  0.0  0.0   \n",
              "\n",
              "      ...  zum  zunino  zuo  zur  zurich  zusammenh  zvs  zwieback  zwischen  \\\n",
              "0     ...  0.0     0.0  0.0  0.0     0.0        0.0  0.0       0.0       0.0   \n",
              "1     ...  0.0     0.0  0.0  0.0     0.0        0.0  0.0       0.0       0.0   \n",
              "2     ...  0.0     0.0  0.0  0.0     0.0        0.0  0.0       0.0       0.0   \n",
              "3     ...  0.0     0.0  0.0  0.0     0.0        0.0  0.0       0.0       0.0   \n",
              "4     ...  0.0     0.0  0.0  0.0     0.0        0.0  0.0       0.0       0.0   \n",
              "...   ...  ...     ...  ...  ...     ...        ...  ...       ...       ...   \n",
              "9995  ...  0.0     0.0  0.0  0.0     0.0        0.0  0.0       0.0       0.0   \n",
              "9996  ...  0.0     0.0  0.0  0.0     0.0        0.0  0.0       0.0       0.0   \n",
              "9997  ...  0.0     0.0  0.0  0.0     0.0        0.0  0.0       0.0       0.0   \n",
              "9998  ...  0.0     0.0  0.0  0.0     0.0        0.0  0.0       0.0       0.0   \n",
              "9999  ...  0.0     0.0  0.0  0.0     0.0        0.0  0.0       0.0       0.0   \n",
              "\n",
              "      zwolinski  \n",
              "0           0.0  \n",
              "1           0.0  \n",
              "2           0.0  \n",
              "3           0.0  \n",
              "4           0.0  \n",
              "...         ...  \n",
              "9995        0.0  \n",
              "9996        0.0  \n",
              "9997        0.0  \n",
              "9998        0.0  \n",
              "9999        0.0  \n",
              "\n",
              "[10000 rows x 18219 columns]"
            ],
            "text/html": [
              "\n",
              "\n",
              "  <div id=\"df-ef3f28b7-ef56-4d39-a667-9850e92cd7a9\">\n",
              "    <div class=\"colab-df-container\">\n",
              "      <div>\n",
              "<style scoped>\n",
              "    .dataframe tbody tr th:only-of-type {\n",
              "        vertical-align: middle;\n",
              "    }\n",
              "\n",
              "    .dataframe tbody tr th {\n",
              "        vertical-align: top;\n",
              "    }\n",
              "\n",
              "    .dataframe thead th {\n",
              "        text-align: right;\n",
              "    }\n",
              "</style>\n",
              "<table border=\"1\" class=\"dataframe\">\n",
              "  <thead>\n",
              "    <tr style=\"text-align: right;\">\n",
              "      <th></th>\n",
              "      <th>01903</th>\n",
              "      <th>0262101141</th>\n",
              "      <th>037w</th>\n",
              "      <th>06</th>\n",
              "      <th>064mm2</th>\n",
              "      <th>07431</th>\n",
              "      <th>0750663510</th>\n",
              "      <th>09</th>\n",
              "      <th>10</th>\n",
              "      <th>100</th>\n",
              "      <th>...</th>\n",
              "      <th>zum</th>\n",
              "      <th>zunino</th>\n",
              "      <th>zuo</th>\n",
              "      <th>zur</th>\n",
              "      <th>zurich</th>\n",
              "      <th>zusammenh</th>\n",
              "      <th>zvs</th>\n",
              "      <th>zwieback</th>\n",
              "      <th>zwischen</th>\n",
              "      <th>zwolinski</th>\n",
              "    </tr>\n",
              "  </thead>\n",
              "  <tbody>\n",
              "    <tr>\n",
              "      <th>0</th>\n",
              "      <td>0.0</td>\n",
              "      <td>0.0</td>\n",
              "      <td>0.0</td>\n",
              "      <td>0.0</td>\n",
              "      <td>0.0</td>\n",
              "      <td>0.0</td>\n",
              "      <td>0.0</td>\n",
              "      <td>0.0</td>\n",
              "      <td>0.0</td>\n",
              "      <td>0.0</td>\n",
              "      <td>...</td>\n",
              "      <td>0.0</td>\n",
              "      <td>0.0</td>\n",
              "      <td>0.0</td>\n",
              "      <td>0.0</td>\n",
              "      <td>0.0</td>\n",
              "      <td>0.0</td>\n",
              "      <td>0.0</td>\n",
              "      <td>0.0</td>\n",
              "      <td>0.0</td>\n",
              "      <td>0.0</td>\n",
              "    </tr>\n",
              "    <tr>\n",
              "      <th>1</th>\n",
              "      <td>0.0</td>\n",
              "      <td>0.0</td>\n",
              "      <td>0.0</td>\n",
              "      <td>0.0</td>\n",
              "      <td>0.0</td>\n",
              "      <td>0.0</td>\n",
              "      <td>0.0</td>\n",
              "      <td>0.0</td>\n",
              "      <td>0.0</td>\n",
              "      <td>0.0</td>\n",
              "      <td>...</td>\n",
              "      <td>0.0</td>\n",
              "      <td>0.0</td>\n",
              "      <td>0.0</td>\n",
              "      <td>0.0</td>\n",
              "      <td>0.0</td>\n",
              "      <td>0.0</td>\n",
              "      <td>0.0</td>\n",
              "      <td>0.0</td>\n",
              "      <td>0.0</td>\n",
              "      <td>0.0</td>\n",
              "    </tr>\n",
              "    <tr>\n",
              "      <th>2</th>\n",
              "      <td>0.0</td>\n",
              "      <td>0.0</td>\n",
              "      <td>0.0</td>\n",
              "      <td>0.0</td>\n",
              "      <td>0.0</td>\n",
              "      <td>0.0</td>\n",
              "      <td>0.0</td>\n",
              "      <td>0.0</td>\n",
              "      <td>0.0</td>\n",
              "      <td>0.0</td>\n",
              "      <td>...</td>\n",
              "      <td>0.0</td>\n",
              "      <td>0.0</td>\n",
              "      <td>0.0</td>\n",
              "      <td>0.0</td>\n",
              "      <td>0.0</td>\n",
              "      <td>0.0</td>\n",
              "      <td>0.0</td>\n",
              "      <td>0.0</td>\n",
              "      <td>0.0</td>\n",
              "      <td>0.0</td>\n",
              "    </tr>\n",
              "    <tr>\n",
              "      <th>3</th>\n",
              "      <td>0.0</td>\n",
              "      <td>0.0</td>\n",
              "      <td>0.0</td>\n",
              "      <td>0.0</td>\n",
              "      <td>0.0</td>\n",
              "      <td>0.0</td>\n",
              "      <td>0.0</td>\n",
              "      <td>0.0</td>\n",
              "      <td>0.0</td>\n",
              "      <td>0.0</td>\n",
              "      <td>...</td>\n",
              "      <td>0.0</td>\n",
              "      <td>0.0</td>\n",
              "      <td>0.0</td>\n",
              "      <td>0.0</td>\n",
              "      <td>0.0</td>\n",
              "      <td>0.0</td>\n",
              "      <td>0.0</td>\n",
              "      <td>0.0</td>\n",
              "      <td>0.0</td>\n",
              "      <td>0.0</td>\n",
              "    </tr>\n",
              "    <tr>\n",
              "      <th>4</th>\n",
              "      <td>0.0</td>\n",
              "      <td>0.0</td>\n",
              "      <td>0.0</td>\n",
              "      <td>0.0</td>\n",
              "      <td>0.0</td>\n",
              "      <td>0.0</td>\n",
              "      <td>0.0</td>\n",
              "      <td>0.0</td>\n",
              "      <td>0.0</td>\n",
              "      <td>0.0</td>\n",
              "      <td>...</td>\n",
              "      <td>0.0</td>\n",
              "      <td>0.0</td>\n",
              "      <td>0.0</td>\n",
              "      <td>0.0</td>\n",
              "      <td>0.0</td>\n",
              "      <td>0.0</td>\n",
              "      <td>0.0</td>\n",
              "      <td>0.0</td>\n",
              "      <td>0.0</td>\n",
              "      <td>0.0</td>\n",
              "    </tr>\n",
              "    <tr>\n",
              "      <th>...</th>\n",
              "      <td>...</td>\n",
              "      <td>...</td>\n",
              "      <td>...</td>\n",
              "      <td>...</td>\n",
              "      <td>...</td>\n",
              "      <td>...</td>\n",
              "      <td>...</td>\n",
              "      <td>...</td>\n",
              "      <td>...</td>\n",
              "      <td>...</td>\n",
              "      <td>...</td>\n",
              "      <td>...</td>\n",
              "      <td>...</td>\n",
              "      <td>...</td>\n",
              "      <td>...</td>\n",
              "      <td>...</td>\n",
              "      <td>...</td>\n",
              "      <td>...</td>\n",
              "      <td>...</td>\n",
              "      <td>...</td>\n",
              "      <td>...</td>\n",
              "    </tr>\n",
              "    <tr>\n",
              "      <th>9995</th>\n",
              "      <td>0.0</td>\n",
              "      <td>0.0</td>\n",
              "      <td>0.0</td>\n",
              "      <td>0.0</td>\n",
              "      <td>0.0</td>\n",
              "      <td>0.0</td>\n",
              "      <td>0.0</td>\n",
              "      <td>0.0</td>\n",
              "      <td>0.0</td>\n",
              "      <td>0.0</td>\n",
              "      <td>...</td>\n",
              "      <td>0.0</td>\n",
              "      <td>0.0</td>\n",
              "      <td>0.0</td>\n",
              "      <td>0.0</td>\n",
              "      <td>0.0</td>\n",
              "      <td>0.0</td>\n",
              "      <td>0.0</td>\n",
              "      <td>0.0</td>\n",
              "      <td>0.0</td>\n",
              "      <td>0.0</td>\n",
              "    </tr>\n",
              "    <tr>\n",
              "      <th>9996</th>\n",
              "      <td>0.0</td>\n",
              "      <td>0.0</td>\n",
              "      <td>0.0</td>\n",
              "      <td>0.0</td>\n",
              "      <td>0.0</td>\n",
              "      <td>0.0</td>\n",
              "      <td>0.0</td>\n",
              "      <td>0.0</td>\n",
              "      <td>0.0</td>\n",
              "      <td>0.0</td>\n",
              "      <td>...</td>\n",
              "      <td>0.0</td>\n",
              "      <td>0.0</td>\n",
              "      <td>0.0</td>\n",
              "      <td>0.0</td>\n",
              "      <td>0.0</td>\n",
              "      <td>0.0</td>\n",
              "      <td>0.0</td>\n",
              "      <td>0.0</td>\n",
              "      <td>0.0</td>\n",
              "      <td>0.0</td>\n",
              "    </tr>\n",
              "    <tr>\n",
              "      <th>9997</th>\n",
              "      <td>0.0</td>\n",
              "      <td>0.0</td>\n",
              "      <td>0.0</td>\n",
              "      <td>0.0</td>\n",
              "      <td>0.0</td>\n",
              "      <td>0.0</td>\n",
              "      <td>0.0</td>\n",
              "      <td>0.0</td>\n",
              "      <td>0.0</td>\n",
              "      <td>0.0</td>\n",
              "      <td>...</td>\n",
              "      <td>0.0</td>\n",
              "      <td>0.0</td>\n",
              "      <td>0.0</td>\n",
              "      <td>0.0</td>\n",
              "      <td>0.0</td>\n",
              "      <td>0.0</td>\n",
              "      <td>0.0</td>\n",
              "      <td>0.0</td>\n",
              "      <td>0.0</td>\n",
              "      <td>0.0</td>\n",
              "    </tr>\n",
              "    <tr>\n",
              "      <th>9998</th>\n",
              "      <td>0.0</td>\n",
              "      <td>0.0</td>\n",
              "      <td>0.0</td>\n",
              "      <td>0.0</td>\n",
              "      <td>0.0</td>\n",
              "      <td>0.0</td>\n",
              "      <td>0.0</td>\n",
              "      <td>0.0</td>\n",
              "      <td>0.0</td>\n",
              "      <td>0.0</td>\n",
              "      <td>...</td>\n",
              "      <td>0.0</td>\n",
              "      <td>0.0</td>\n",
              "      <td>0.0</td>\n",
              "      <td>0.0</td>\n",
              "      <td>0.0</td>\n",
              "      <td>0.0</td>\n",
              "      <td>0.0</td>\n",
              "      <td>0.0</td>\n",
              "      <td>0.0</td>\n",
              "      <td>0.0</td>\n",
              "    </tr>\n",
              "    <tr>\n",
              "      <th>9999</th>\n",
              "      <td>0.0</td>\n",
              "      <td>0.0</td>\n",
              "      <td>0.0</td>\n",
              "      <td>0.0</td>\n",
              "      <td>0.0</td>\n",
              "      <td>0.0</td>\n",
              "      <td>0.0</td>\n",
              "      <td>0.0</td>\n",
              "      <td>0.0</td>\n",
              "      <td>0.0</td>\n",
              "      <td>...</td>\n",
              "      <td>0.0</td>\n",
              "      <td>0.0</td>\n",
              "      <td>0.0</td>\n",
              "      <td>0.0</td>\n",
              "      <td>0.0</td>\n",
              "      <td>0.0</td>\n",
              "      <td>0.0</td>\n",
              "      <td>0.0</td>\n",
              "      <td>0.0</td>\n",
              "      <td>0.0</td>\n",
              "    </tr>\n",
              "  </tbody>\n",
              "</table>\n",
              "<p>10000 rows × 18219 columns</p>\n",
              "</div>\n",
              "      <button class=\"colab-df-convert\" onclick=\"convertToInteractive('df-ef3f28b7-ef56-4d39-a667-9850e92cd7a9')\"\n",
              "              title=\"Convert this dataframe to an interactive table.\"\n",
              "              style=\"display:none;\">\n",
              "\n",
              "  <svg xmlns=\"http://www.w3.org/2000/svg\" height=\"24px\"viewBox=\"0 0 24 24\"\n",
              "       width=\"24px\">\n",
              "    <path d=\"M0 0h24v24H0V0z\" fill=\"none\"/>\n",
              "    <path d=\"M18.56 5.44l.94 2.06.94-2.06 2.06-.94-2.06-.94-.94-2.06-.94 2.06-2.06.94zm-11 1L8.5 8.5l.94-2.06 2.06-.94-2.06-.94L8.5 2.5l-.94 2.06-2.06.94zm10 10l.94 2.06.94-2.06 2.06-.94-2.06-.94-.94-2.06-.94 2.06-2.06.94z\"/><path d=\"M17.41 7.96l-1.37-1.37c-.4-.4-.92-.59-1.43-.59-.52 0-1.04.2-1.43.59L10.3 9.45l-7.72 7.72c-.78.78-.78 2.05 0 2.83L4 21.41c.39.39.9.59 1.41.59.51 0 1.02-.2 1.41-.59l7.78-7.78 2.81-2.81c.8-.78.8-2.07 0-2.86zM5.41 20L4 18.59l7.72-7.72 1.47 1.35L5.41 20z\"/>\n",
              "  </svg>\n",
              "      </button>\n",
              "\n",
              "\n",
              "\n",
              "    <div id=\"df-4bce6319-77aa-4718-9318-b50361d15eb1\">\n",
              "      <button class=\"colab-df-quickchart\" onclick=\"quickchart('df-4bce6319-77aa-4718-9318-b50361d15eb1')\"\n",
              "              title=\"Suggest charts.\"\n",
              "              style=\"display:none;\">\n",
              "\n",
              "<svg xmlns=\"http://www.w3.org/2000/svg\" height=\"24px\"viewBox=\"0 0 24 24\"\n",
              "     width=\"24px\">\n",
              "    <g>\n",
              "        <path d=\"M19 3H5c-1.1 0-2 .9-2 2v14c0 1.1.9 2 2 2h14c1.1 0 2-.9 2-2V5c0-1.1-.9-2-2-2zM9 17H7v-7h2v7zm4 0h-2V7h2v10zm4 0h-2v-4h2v4z\"/>\n",
              "    </g>\n",
              "</svg>\n",
              "      </button>\n",
              "    </div>\n",
              "\n",
              "<style>\n",
              "  .colab-df-quickchart {\n",
              "    background-color: #E8F0FE;\n",
              "    border: none;\n",
              "    border-radius: 50%;\n",
              "    cursor: pointer;\n",
              "    display: none;\n",
              "    fill: #1967D2;\n",
              "    height: 32px;\n",
              "    padding: 0 0 0 0;\n",
              "    width: 32px;\n",
              "  }\n",
              "\n",
              "  .colab-df-quickchart:hover {\n",
              "    background-color: #E2EBFA;\n",
              "    box-shadow: 0px 1px 2px rgba(60, 64, 67, 0.3), 0px 1px 3px 1px rgba(60, 64, 67, 0.15);\n",
              "    fill: #174EA6;\n",
              "  }\n",
              "\n",
              "  [theme=dark] .colab-df-quickchart {\n",
              "    background-color: #3B4455;\n",
              "    fill: #D2E3FC;\n",
              "  }\n",
              "\n",
              "  [theme=dark] .colab-df-quickchart:hover {\n",
              "    background-color: #434B5C;\n",
              "    box-shadow: 0px 1px 3px 1px rgba(0, 0, 0, 0.15);\n",
              "    filter: drop-shadow(0px 1px 2px rgba(0, 0, 0, 0.3));\n",
              "    fill: #FFFFFF;\n",
              "  }\n",
              "</style>\n",
              "\n",
              "    <script>\n",
              "      async function quickchart(key) {\n",
              "        const containerElement = document.querySelector('#' + key);\n",
              "        const charts = await google.colab.kernel.invokeFunction(\n",
              "            'suggestCharts', [key], {});\n",
              "      }\n",
              "    </script>\n",
              "\n",
              "      <script>\n",
              "\n",
              "function displayQuickchartButton(domScope) {\n",
              "  let quickchartButtonEl =\n",
              "    domScope.querySelector('#df-4bce6319-77aa-4718-9318-b50361d15eb1 button.colab-df-quickchart');\n",
              "  quickchartButtonEl.style.display =\n",
              "    google.colab.kernel.accessAllowed ? 'block' : 'none';\n",
              "}\n",
              "\n",
              "        displayQuickchartButton(document);\n",
              "      </script>\n",
              "      <style>\n",
              "    .colab-df-container {\n",
              "      display:flex;\n",
              "      flex-wrap:wrap;\n",
              "      gap: 12px;\n",
              "    }\n",
              "\n",
              "    .colab-df-convert {\n",
              "      background-color: #E8F0FE;\n",
              "      border: none;\n",
              "      border-radius: 50%;\n",
              "      cursor: pointer;\n",
              "      display: none;\n",
              "      fill: #1967D2;\n",
              "      height: 32px;\n",
              "      padding: 0 0 0 0;\n",
              "      width: 32px;\n",
              "    }\n",
              "\n",
              "    .colab-df-convert:hover {\n",
              "      background-color: #E2EBFA;\n",
              "      box-shadow: 0px 1px 2px rgba(60, 64, 67, 0.3), 0px 1px 3px 1px rgba(60, 64, 67, 0.15);\n",
              "      fill: #174EA6;\n",
              "    }\n",
              "\n",
              "    [theme=dark] .colab-df-convert {\n",
              "      background-color: #3B4455;\n",
              "      fill: #D2E3FC;\n",
              "    }\n",
              "\n",
              "    [theme=dark] .colab-df-convert:hover {\n",
              "      background-color: #434B5C;\n",
              "      box-shadow: 0px 1px 3px 1px rgba(0, 0, 0, 0.15);\n",
              "      filter: drop-shadow(0px 1px 2px rgba(0, 0, 0, 0.3));\n",
              "      fill: #FFFFFF;\n",
              "    }\n",
              "  </style>\n",
              "\n",
              "      <script>\n",
              "        const buttonEl =\n",
              "          document.querySelector('#df-ef3f28b7-ef56-4d39-a667-9850e92cd7a9 button.colab-df-convert');\n",
              "        buttonEl.style.display =\n",
              "          google.colab.kernel.accessAllowed ? 'block' : 'none';\n",
              "\n",
              "        async function convertToInteractive(key) {\n",
              "          const element = document.querySelector('#df-ef3f28b7-ef56-4d39-a667-9850e92cd7a9');\n",
              "          const dataTable =\n",
              "            await google.colab.kernel.invokeFunction('convertToInteractive',\n",
              "                                                     [key], {});\n",
              "          if (!dataTable) return;\n",
              "\n",
              "          const docLinkHtml = 'Like what you see? Visit the ' +\n",
              "            '<a target=\"_blank\" href=https://colab.research.google.com/notebooks/data_table.ipynb>data table notebook</a>'\n",
              "            + ' to learn more about interactive tables.';\n",
              "          element.innerHTML = '';\n",
              "          dataTable['output_type'] = 'display_data';\n",
              "          await google.colab.output.renderOutput(dataTable, element);\n",
              "          const docLink = document.createElement('div');\n",
              "          docLink.innerHTML = docLinkHtml;\n",
              "          element.appendChild(docLink);\n",
              "        }\n",
              "      </script>\n",
              "    </div>\n",
              "  </div>\n"
            ]
          },
          "metadata": {},
          "execution_count": 208
        }
      ]
    },
    {
      "cell_type": "markdown",
      "source": [
        "**2. Find the word importance of some questions of the dataset.**"
      ],
      "metadata": {
        "id": "ZNBxKJVF8XJ3"
      }
    },
    {
      "cell_type": "code",
      "source": [
        "df[1]"
      ],
      "metadata": {
        "colab": {
          "base_uri": "https://localhost:8080/",
          "height": 35
        },
        "id": "bnUHe6zn8Thf",
        "outputId": "9a6f601d-d433-44f8-9ede-e42d89275080"
      },
      "execution_count": null,
      "outputs": [
        {
          "output_type": "execute_result",
          "data": {
            "text/plain": [
              "'What is the Wikidata ID of Yvo Desmedt?'"
            ],
            "application/vnd.google.colaboratory.intrinsic+json": {
              "type": "string"
            }
          },
          "metadata": {},
          "execution_count": 209
        }
      ]
    },
    {
      "cell_type": "code",
      "source": [
        "# Yvo desmedt seems to be the most important\n",
        "tf_idf.iloc[1,:][tf_idf.iloc[1,:] !=0]"
      ],
      "metadata": {
        "colab": {
          "base_uri": "https://localhost:8080/"
        },
        "id": "EJ4vZfwp8zmA",
        "outputId": "8c87dd43-eccf-41b0-8f62-2f5cc904324f"
      },
      "execution_count": null,
      "outputs": [
        {
          "output_type": "execute_result",
          "data": {
            "text/plain": [
              "desmedt     0.554864\n",
              "id          0.384756\n",
              "is          0.238586\n",
              "of          0.094740\n",
              "the         0.068174\n",
              "what        0.170525\n",
              "wikidata    0.369581\n",
              "yvo         0.554864\n",
              "Name: 1, dtype: float64"
            ]
          },
          "metadata": {},
          "execution_count": 214
        }
      ]
    }
  ]
}