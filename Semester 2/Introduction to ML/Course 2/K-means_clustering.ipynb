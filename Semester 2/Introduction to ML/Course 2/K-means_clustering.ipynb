{
 "cells": [
  {
   "cell_type": "code",
   "execution_count": 20,
   "id": "078a7f3e",
   "metadata": {},
   "outputs": [],
   "source": [
    "import pandas as pd\n",
    "import matplotlib.pyplot as plt\n",
    "import numpy as np\n",
    "import random"
   ]
  },
  {
   "cell_type": "code",
   "execution_count": 21,
   "id": "80232e20",
   "metadata": {},
   "outputs": [],
   "source": [
    "df = pd.read_csv('iris.data', names=['para1', 'para2','para3','para4','genre'])\n",
    "# df.columns(['para1', 'para2','para3','para4','genre'])"
   ]
  },
  {
   "cell_type": "code",
   "execution_count": 22,
   "id": "16345700",
   "metadata": {
    "scrolled": true
   },
   "outputs": [],
   "source": [
    "df = df.drop(columns=\"genre\")"
   ]
  },
  {
   "cell_type": "code",
   "execution_count": 23,
   "id": "e543f8ee",
   "metadata": {},
   "outputs": [
    {
     "name": "stdout",
     "output_type": "stream",
     "text": [
      "     para1  para2  para3  para4\n",
      "0      5.1    3.5    1.4    0.2\n",
      "1      4.9    3.0    1.4    0.2\n",
      "2      4.7    3.2    1.3    0.2\n",
      "3      4.6    3.1    1.5    0.2\n",
      "4      5.0    3.6    1.4    0.2\n",
      "..     ...    ...    ...    ...\n",
      "145    6.7    3.0    5.2    2.3\n",
      "146    6.3    2.5    5.0    1.9\n",
      "147    6.5    3.0    5.2    2.0\n",
      "148    6.2    3.4    5.4    2.3\n",
      "149    5.9    3.0    5.1    1.8\n",
      "\n",
      "[150 rows x 4 columns]\n"
     ]
    }
   ],
   "source": [
    "print(df)"
   ]
  },
  {
   "cell_type": "code",
   "execution_count": 24,
   "id": "d844ebca",
   "metadata": {},
   "outputs": [
    {
     "name": "stdout",
     "output_type": "stream",
     "text": [
      "(150, 4)\n",
      "[[5.1 3.5 1.4 0.2]\n",
      " [4.9 3.  1.4 0.2]\n",
      " [4.7 3.2 1.3 0.2]\n",
      " [4.6 3.1 1.5 0.2]\n",
      " [5.  3.6 1.4 0.2]\n",
      " [5.4 3.9 1.7 0.4]\n",
      " [4.6 3.4 1.4 0.3]\n",
      " [5.  3.4 1.5 0.2]\n",
      " [4.4 2.9 1.4 0.2]\n",
      " [4.9 3.1 1.5 0.1]\n",
      " [5.4 3.7 1.5 0.2]\n",
      " [4.8 3.4 1.6 0.2]\n",
      " [4.8 3.  1.4 0.1]\n",
      " [4.3 3.  1.1 0.1]\n",
      " [5.8 4.  1.2 0.2]\n",
      " [5.7 4.4 1.5 0.4]\n",
      " [5.4 3.9 1.3 0.4]\n",
      " [5.1 3.5 1.4 0.3]\n",
      " [5.7 3.8 1.7 0.3]\n",
      " [5.1 3.8 1.5 0.3]\n",
      " [5.4 3.4 1.7 0.2]\n",
      " [5.1 3.7 1.5 0.4]\n",
      " [4.6 3.6 1.  0.2]\n",
      " [5.1 3.3 1.7 0.5]\n",
      " [4.8 3.4 1.9 0.2]\n",
      " [5.  3.  1.6 0.2]\n",
      " [5.  3.4 1.6 0.4]\n",
      " [5.2 3.5 1.5 0.2]\n",
      " [5.2 3.4 1.4 0.2]\n",
      " [4.7 3.2 1.6 0.2]\n",
      " [4.8 3.1 1.6 0.2]\n",
      " [5.4 3.4 1.5 0.4]\n",
      " [5.2 4.1 1.5 0.1]\n",
      " [5.5 4.2 1.4 0.2]\n",
      " [4.9 3.1 1.5 0.1]\n",
      " [5.  3.2 1.2 0.2]\n",
      " [5.5 3.5 1.3 0.2]\n",
      " [4.9 3.1 1.5 0.1]\n",
      " [4.4 3.  1.3 0.2]\n",
      " [5.1 3.4 1.5 0.2]\n",
      " [5.  3.5 1.3 0.3]\n",
      " [4.5 2.3 1.3 0.3]\n",
      " [4.4 3.2 1.3 0.2]\n",
      " [5.  3.5 1.6 0.6]\n",
      " [5.1 3.8 1.9 0.4]\n",
      " [4.8 3.  1.4 0.3]\n",
      " [5.1 3.8 1.6 0.2]\n",
      " [4.6 3.2 1.4 0.2]\n",
      " [5.3 3.7 1.5 0.2]\n",
      " [5.  3.3 1.4 0.2]\n",
      " [7.  3.2 4.7 1.4]\n",
      " [6.4 3.2 4.5 1.5]\n",
      " [6.9 3.1 4.9 1.5]\n",
      " [5.5 2.3 4.  1.3]\n",
      " [6.5 2.8 4.6 1.5]\n",
      " [5.7 2.8 4.5 1.3]\n",
      " [6.3 3.3 4.7 1.6]\n",
      " [4.9 2.4 3.3 1. ]\n",
      " [6.6 2.9 4.6 1.3]\n",
      " [5.2 2.7 3.9 1.4]\n",
      " [5.  2.  3.5 1. ]\n",
      " [5.9 3.  4.2 1.5]\n",
      " [6.  2.2 4.  1. ]\n",
      " [6.1 2.9 4.7 1.4]\n",
      " [5.6 2.9 3.6 1.3]\n",
      " [6.7 3.1 4.4 1.4]\n",
      " [5.6 3.  4.5 1.5]\n",
      " [5.8 2.7 4.1 1. ]\n",
      " [6.2 2.2 4.5 1.5]\n",
      " [5.6 2.5 3.9 1.1]\n",
      " [5.9 3.2 4.8 1.8]\n",
      " [6.1 2.8 4.  1.3]\n",
      " [6.3 2.5 4.9 1.5]\n",
      " [6.1 2.8 4.7 1.2]\n",
      " [6.4 2.9 4.3 1.3]\n",
      " [6.6 3.  4.4 1.4]\n",
      " [6.8 2.8 4.8 1.4]\n",
      " [6.7 3.  5.  1.7]\n",
      " [6.  2.9 4.5 1.5]\n",
      " [5.7 2.6 3.5 1. ]\n",
      " [5.5 2.4 3.8 1.1]\n",
      " [5.5 2.4 3.7 1. ]\n",
      " [5.8 2.7 3.9 1.2]\n",
      " [6.  2.7 5.1 1.6]\n",
      " [5.4 3.  4.5 1.5]\n",
      " [6.  3.4 4.5 1.6]\n",
      " [6.7 3.1 4.7 1.5]\n",
      " [6.3 2.3 4.4 1.3]\n",
      " [5.6 3.  4.1 1.3]\n",
      " [5.5 2.5 4.  1.3]\n",
      " [5.5 2.6 4.4 1.2]\n",
      " [6.1 3.  4.6 1.4]\n",
      " [5.8 2.6 4.  1.2]\n",
      " [5.  2.3 3.3 1. ]\n",
      " [5.6 2.7 4.2 1.3]\n",
      " [5.7 3.  4.2 1.2]\n",
      " [5.7 2.9 4.2 1.3]\n",
      " [6.2 2.9 4.3 1.3]\n",
      " [5.1 2.5 3.  1.1]\n",
      " [5.7 2.8 4.1 1.3]\n",
      " [6.3 3.3 6.  2.5]\n",
      " [5.8 2.7 5.1 1.9]\n",
      " [7.1 3.  5.9 2.1]\n",
      " [6.3 2.9 5.6 1.8]\n",
      " [6.5 3.  5.8 2.2]\n",
      " [7.6 3.  6.6 2.1]\n",
      " [4.9 2.5 4.5 1.7]\n",
      " [7.3 2.9 6.3 1.8]\n",
      " [6.7 2.5 5.8 1.8]\n",
      " [7.2 3.6 6.1 2.5]\n",
      " [6.5 3.2 5.1 2. ]\n",
      " [6.4 2.7 5.3 1.9]\n",
      " [6.8 3.  5.5 2.1]\n",
      " [5.7 2.5 5.  2. ]\n",
      " [5.8 2.8 5.1 2.4]\n",
      " [6.4 3.2 5.3 2.3]\n",
      " [6.5 3.  5.5 1.8]\n",
      " [7.7 3.8 6.7 2.2]\n",
      " [7.7 2.6 6.9 2.3]\n",
      " [6.  2.2 5.  1.5]\n",
      " [6.9 3.2 5.7 2.3]\n",
      " [5.6 2.8 4.9 2. ]\n",
      " [7.7 2.8 6.7 2. ]\n",
      " [6.3 2.7 4.9 1.8]\n",
      " [6.7 3.3 5.7 2.1]\n",
      " [7.2 3.2 6.  1.8]\n",
      " [6.2 2.8 4.8 1.8]\n",
      " [6.1 3.  4.9 1.8]\n",
      " [6.4 2.8 5.6 2.1]\n",
      " [7.2 3.  5.8 1.6]\n",
      " [7.4 2.8 6.1 1.9]\n",
      " [7.9 3.8 6.4 2. ]\n",
      " [6.4 2.8 5.6 2.2]\n",
      " [6.3 2.8 5.1 1.5]\n",
      " [6.1 2.6 5.6 1.4]\n",
      " [7.7 3.  6.1 2.3]\n",
      " [6.3 3.4 5.6 2.4]\n",
      " [6.4 3.1 5.5 1.8]\n",
      " [6.  3.  4.8 1.8]\n",
      " [6.9 3.1 5.4 2.1]\n",
      " [6.7 3.1 5.6 2.4]\n",
      " [6.9 3.1 5.1 2.3]\n",
      " [5.8 2.7 5.1 1.9]\n",
      " [6.8 3.2 5.9 2.3]\n",
      " [6.7 3.3 5.7 2.5]\n",
      " [6.7 3.  5.2 2.3]\n",
      " [6.3 2.5 5.  1.9]\n",
      " [6.5 3.  5.2 2. ]\n",
      " [6.2 3.4 5.4 2.3]\n",
      " [5.9 3.  5.1 1.8]]\n"
     ]
    }
   ],
   "source": [
    "matrix = np.array(df)\n",
    "print(matrix.shape)\n",
    "print(matrix)"
   ]
  },
  {
   "cell_type": "code",
   "execution_count": 25,
   "id": "59fa0a26",
   "metadata": {},
   "outputs": [],
   "source": [
    "#Algorithm of Euclidian Distance\n",
    "def Euclidian(p1, p2):\n",
    "    if len(p1) != len(p2):\n",
    "        return 0\n",
    "    else:\n",
    "        sumd = 0\n",
    "        for i in range(len(p1)):\n",
    "            sumd += np.square(p1[i] - p2[i])\n",
    "        dist = np.sqrt(sumd)\n",
    "        return dist"
   ]
  },
  {
   "cell_type": "code",
   "execution_count": 26,
   "id": "5a075fd4",
   "metadata": {},
   "outputs": [
    {
     "name": "stdout",
     "output_type": "stream",
     "text": [
      "0.5385164807134502\n"
     ]
    }
   ],
   "source": [
    "#Test for the algorithm\n",
    "dist = Euclidian(matrix[0], matrix[1])\n",
    "print(dist)"
   ]
  },
  {
   "cell_type": "code",
   "execution_count": null,
   "id": "dcce078f",
   "metadata": {},
   "outputs": [],
   "source": []
  },
  {
   "cell_type": "code",
   "execution_count": 27,
   "id": "cae53ea9",
   "metadata": {},
   "outputs": [
    {
     "name": "stdout",
     "output_type": "stream",
     "text": [
      "<class 'list'>\n"
     ]
    }
   ],
   "source": [
    "k = 4\n",
    "centroid = random.sample(list(matrix), k)\n",
    "# centroid = [[4.4, 3. , 1.3, 0.2],[4.9, 3.1, 1.5, 0.1],[5.9, 3. , 5.1, 1.8],[6.6, 2.9, 4.6, 1.3]]\n",
    "print(type(centroid))"
   ]
  },
  {
   "cell_type": "code",
   "execution_count": 28,
   "id": "b695ec58",
   "metadata": {},
   "outputs": [],
   "source": [
    "# centroid1 = []\n",
    "# centroid2 = []\n",
    "# centroid3 = []\n",
    "# centroid4 = []\n",
    "# for point in matrix:\n",
    "#     dis = []\n",
    "#     for i in range(len(centroid)):\n",
    "#         dis.append(Euclidian(point, centroid[i]))\n",
    "\n",
    "#     #Classify\n",
    "#     index_min = dis.index(min(dis))\n",
    "\n",
    "#     if index_min == 0:\n",
    "#         centroid1.append(list(point))\n",
    "#     elif index_min == 1:\n",
    "#         centroid2.append(list(point))\n",
    "#     elif index_min == 2:\n",
    "#         centroid3.append(list(point))\n",
    "#     elif index_min == 3:\n",
    "#         centroid4.append(list(point))\n",
    "#     else:\n",
    "#         print(\"Error\")\n",
    "\n",
    "# print(centroid1)\n",
    "# print(centroid2)\n",
    "# print(centroid3)\n",
    "# print(centroid4)"
   ]
  },
  {
   "cell_type": "code",
   "execution_count": 29,
   "id": "d1711c6b",
   "metadata": {},
   "outputs": [],
   "source": [
    "length = len(centroid)\n",
    "def new_cluster(k, length, centroid):\n",
    "    cluster = []\n",
    "\n",
    "    for _ in range(k):\n",
    "        cluster.append([])\n",
    "\n",
    "    for point in matrix:\n",
    "        best_distance = -1\n",
    "        best_index = -1\n",
    "        for index in range(length):\n",
    "            estimated_distance = Euclidian(point, centroid[index])\n",
    "            if best_distance == -1:\n",
    "                best_distance = estimated_distance\n",
    "                best_index = index\n",
    "            elif estimated_distance < best_distance:\n",
    "                best_distance = estimated_distance\n",
    "                best_index = index\n",
    "        cluster[best_index].append(list(point))\n",
    "\n",
    "#     print(cluster)\n",
    "    return cluster"
   ]
  },
  {
   "cell_type": "code",
   "execution_count": 30,
   "id": "d2a83283",
   "metadata": {},
   "outputs": [],
   "source": [
    "def centroids(cluster_part, length):\n",
    "    new_centroid_each = [0.0] * length\n",
    "    for point in cluster_part:\n",
    "        for index in range(length):\n",
    "            #calculate the sum\n",
    "            new_centroid_each[index] = new_centroid_each[index] + point[index]\n",
    "            \n",
    "    #calculate the mean\n",
    "    for index in range(length):\n",
    "        new_centroid_each[index] /= len(cluster_part)\n",
    "    return new_centroid_each"
   ]
  },
  {
   "cell_type": "code",
   "execution_count": 31,
   "id": "4a8a043d",
   "metadata": {},
   "outputs": [],
   "source": [
    "def newCentroid(cluster, length):\n",
    "    new_centroid = []\n",
    "    for cluster_part in cluster:\n",
    "        new_centroid_each = centroids(cluster_part, length)\n",
    "        new_centroid.append(new_centroid_each)\n",
    "    return new_centroid"
   ]
  },
  {
   "cell_type": "code",
   "execution_count": 39,
   "id": "9bf32181",
   "metadata": {
    "scrolled": true
   },
   "outputs": [
    {
     "name": "stdout",
     "output_type": "stream",
     "text": [
      "[[6.853846153846153, 3.0769230769230766, 5.715384615384615, 2.053846153846153], [5.370588235294117, 3.8, 1.5176470588235293, 0.2764705882352942], [5.88360655737705, 2.740983606557377, 4.388524590163935, 1.4344262295081966], [4.818181818181818, 3.2212121212121207, 1.436363636363636, 0.2272727272727273]]\n"
     ]
    }
   ],
   "source": [
    "centroid_steps = [centroid]\n",
    "loops = 20\n",
    "limit_distance = 0.01\n",
    "for step in range(loops):\n",
    "    cluster = new_cluster(k, length, centroid)\n",
    "    centroid = newCentroid(cluster, length)\n",
    "    centroid_steps.append(centroid)\n"
   ]
  },
  {
   "cell_type": "code",
   "execution_count": null,
   "id": "54b8fc34",
   "metadata": {
    "scrolled": true
   },
   "outputs": [],
   "source": []
  },
  {
   "cell_type": "code",
   "execution_count": null,
   "id": "f66bdc8b",
   "metadata": {},
   "outputs": [],
   "source": []
  },
  {
   "cell_type": "code",
   "execution_count": null,
   "id": "030b1dc5",
   "metadata": {},
   "outputs": [],
   "source": []
  }
 ],
 "metadata": {
  "kernelspec": {
   "display_name": "Python 3 (ipykernel)",
   "language": "python",
   "name": "python3"
  },
  "language_info": {
   "codemirror_mode": {
    "name": "ipython",
    "version": 3
   },
   "file_extension": ".py",
   "mimetype": "text/x-python",
   "name": "python",
   "nbconvert_exporter": "python",
   "pygments_lexer": "ipython3",
   "version": "3.8.13"
  }
 },
 "nbformat": 4,
 "nbformat_minor": 5
}
