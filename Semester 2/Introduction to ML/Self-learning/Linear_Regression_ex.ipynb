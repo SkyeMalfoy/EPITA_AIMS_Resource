{
 "cells": [
  {
   "cell_type": "code",
   "execution_count": 3,
   "id": "d123a891",
   "metadata": {},
   "outputs": [],
   "source": [
    "import matplotlib.pyplot as plt\n",
    "import pandas as pd\n",
    "from sklearn import datasets, linear_model\n",
    "from sklearn.metrics import mean_squared_error, r2_score, adjusted_mutual_info_score, accuracy_score\n",
    "import numpy as np\n"
   ]
  },
  {
   "cell_type": "code",
   "execution_count": 4,
   "id": "47cf76f6",
   "metadata": {},
   "outputs": [],
   "source": [
    "df_X, df_y = datasets.load_diabetes(return_X_y=True)"
   ]
  },
  {
   "cell_type": "code",
   "execution_count": 20,
   "id": "05d6f255",
   "metadata": {},
   "outputs": [
    {
     "name": "stdout",
     "output_type": "stream",
     "text": [
      "(442, 1)\n",
      "(442,)\n"
     ]
    }
   ],
   "source": [
    "print(df_X.shape)\n",
    "\n",
    "print(df_y.shape)"
   ]
  },
  {
   "cell_type": "code",
   "execution_count": 21,
   "id": "2e80471b",
   "metadata": {
    "scrolled": true
   },
   "outputs": [
    {
     "ename": "IndexError",
     "evalue": "index 2 is out of bounds for axis 1 with size 1",
     "output_type": "error",
     "traceback": [
      "\u001b[0;31m---------------------------------------------------------------------------\u001b[0m",
      "\u001b[0;31mIndexError\u001b[0m                                Traceback (most recent call last)",
      "Input \u001b[0;32mIn [21]\u001b[0m, in \u001b[0;36m<cell line: 1>\u001b[0;34m()\u001b[0m\n\u001b[0;32m----> 1\u001b[0m df_X \u001b[38;5;241m=\u001b[39m \u001b[43mdf_X\u001b[49m\u001b[43m[\u001b[49m\u001b[43m:\u001b[49m\u001b[43m,\u001b[49m\u001b[43m \u001b[49m\u001b[43mnp\u001b[49m\u001b[38;5;241;43m.\u001b[39;49m\u001b[43mnewaxis\u001b[49m\u001b[43m,\u001b[49m\u001b[43m \u001b[49m\u001b[38;5;241;43m2\u001b[39;49m\u001b[43m]\u001b[49m\n\u001b[1;32m      2\u001b[0m df_X\u001b[38;5;241m.\u001b[39mshape\n",
      "\u001b[0;31mIndexError\u001b[0m: index 2 is out of bounds for axis 1 with size 1"
     ]
    }
   ],
   "source": [
    "df_X = df_X[:, np.newaxis, 2]\n",
    "df_X.shape"
   ]
  },
  {
   "cell_type": "code",
   "execution_count": 7,
   "id": "b9573263",
   "metadata": {},
   "outputs": [],
   "source": [
    "#Split X into training and testing datasets\n",
    "df_X_train = df_X[:-20]\n",
    "df_X_test = df_X[-20:]\n",
    "\n",
    "#Split y into training and testing datasets\n",
    "df_y_train = df_y[:-20]\n",
    "df_y_test = df_y[-20:]"
   ]
  },
  {
   "cell_type": "code",
   "execution_count": 16,
   "id": "b8ac49c6",
   "metadata": {},
   "outputs": [
    {
     "name": "stdout",
     "output_type": "stream",
     "text": [
      "coefficients: [938.23786125]\n"
     ]
    }
   ],
   "source": [
    "#Create linear regression model\n",
    "reg = linear_model.LinearRegression()\n",
    "# reg = linear_model.Ridge(alpha=.5)\n",
    "# reg = linear_model.LogisticRegression()\n",
    "# reg = linear_model.TweedieRegressor()\n",
    "\n",
    "#Train the model usting the testing sets\n",
    "reg.fit(df_X_train, df_y_train)\n",
    "\n",
    "#Make predictions using the testing sets\n",
    "prediction = reg.predict(df_X_test) \n",
    "\n",
    "#Display the coefficients\n",
    "print(\"coefficients:\", reg.coef_)"
   ]
  },
  {
   "cell_type": "code",
   "execution_count": 17,
   "id": "e337ffee",
   "metadata": {},
   "outputs": [
    {
     "name": "stdout",
     "output_type": "stream",
     "text": [
      "coefficients: [938.23786125]\n",
      "Mean square error:2548.07\n",
      "Coefficient of determination:0.47\n"
     ]
    }
   ],
   "source": [
    "#Display the coefficients\n",
    "print(\"coefficients:\", reg.coef_)\n",
    "#The mean square error\n",
    "print(\"Mean square error:%.2f\" %(mean_squared_error(df_y_test, prediction)))\n",
    "#The coefficient of determination (1 is the best)\n",
    "print(\"Coefficient of determination:%.2f\"%(r2_score(df_y_test, prediction)))"
   ]
  },
  {
   "cell_type": "code",
   "execution_count": 18,
   "id": "18af6fbc",
   "metadata": {},
   "outputs": [
    {
     "data": {
      "image/png": "[encoded data removed]",
      "text/plain": [
       "<Figure size 576x360 with 1 Axes>"
      ]
     },
     "metadata": {
      "needs_background": "light"
     },
     "output_type": "display_data"
    }
   ],
   "source": [
    "#Plot out\n",
    "plt.figure(figsize=(8,5))\n",
    "plt.scatter(df_X_test, df_y_test, c=\"red\")\n",
    "plt.plot(df_X_test, prediction, c='green')\n",
    "plt.show()"
   ]
  },
  {
   "cell_type": "code",
   "execution_count": 14,
   "id": "b0b2fcc3",
   "metadata": {},
   "outputs": [
    {
     "name": "stderr",
     "output_type": "stream",
     "text": [
      "/Users/skyemalfoy/opt/anaconda3/lib/python3.8/site-packages/sklearn/metrics/cluster/_supervised.py:64: UserWarning: Clustering metrics expects discrete values but received multiclass values for label, and continuous values for target\n",
      "  warnings.warn(msg, UserWarning)\n"
     ]
    },
    {
     "data": {
      "text/plain": [
       "-1.3454391316040754e-12"
      ]
     },
     "execution_count": 14,
     "metadata": {},
     "output_type": "execute_result"
    }
   ],
   "source": [
    "adjusted_mutual_info_score(df_y_test, prediction)"
   ]
  },
  {
   "cell_type": "code",
   "execution_count": 15,
   "id": "def36b83",
   "metadata": {},
   "outputs": [
    {
     "name": "stdout",
     "output_type": "stream",
     "text": [
      "<class 'numpy.ndarray'>\n"
     ]
    }
   ],
   "source": [
    "print(type(df_X_test))"
   ]
  },
  {
   "cell_type": "code",
   "execution_count": null,
   "id": "63df5830",
   "metadata": {},
   "outputs": [],
   "source": []
  }
 ],
 "metadata": {
  "kernelspec": {
   "display_name": "Python 3 (ipykernel)",
   "language": "python",
   "name": "python3"
  },
  "language_info": {
   "codemirror_mode": {
    "name": "ipython",
    "version": 3
   },
   "file_extension": ".py",
   "mimetype": "text/x-python",
   "name": "python",
   "nbconvert_exporter": "python",
   "pygments_lexer": "ipython3",
   "version": "3.8.13"
  }
 },
 "nbformat": 4,
 "nbformat_minor": 5
}
