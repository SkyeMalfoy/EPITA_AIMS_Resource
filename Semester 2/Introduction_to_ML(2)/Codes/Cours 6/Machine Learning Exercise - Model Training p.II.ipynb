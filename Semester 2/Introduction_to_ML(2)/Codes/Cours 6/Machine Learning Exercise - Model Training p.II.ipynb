{
 "cells": [
  {
   "cell_type": "markdown",
   "metadata": {
    "id": "mKrYb6F5UmQU"
   },
   "source": [
    "*This Notebook was created by Antoine Palisson*"
   ]
  },
  {
   "cell_type": "code",
   "execution_count": 1,
   "metadata": {
    "scrolled": true
   },
   "outputs": [
    {
     "name": "stdout",
     "output_type": "stream",
     "text": [
      "Collecting missingno\n",
      "  Downloading missingno-0.5.2-py3-none-any.whl (8.7 kB)\n",
      "Requirement already satisfied: scipy in /Users/skyemalfoy/opt/anaconda3/lib/python3.8/site-packages (from missingno) (1.7.3)\n",
      "Requirement already satisfied: seaborn in /Users/skyemalfoy/opt/anaconda3/lib/python3.8/site-packages (from missingno) (0.11.2)\n",
      "Requirement already satisfied: numpy in /Users/skyemalfoy/opt/anaconda3/lib/python3.8/site-packages (from missingno) (1.23.3)\n",
      "Requirement already satisfied: matplotlib in /Users/skyemalfoy/opt/anaconda3/lib/python3.8/site-packages (from missingno) (3.5.1)\n",
      "Requirement already satisfied: pyparsing>=2.2.1 in /Users/skyemalfoy/opt/anaconda3/lib/python3.8/site-packages (from matplotlib->missingno) (3.0.4)\n",
      "Requirement already satisfied: fonttools>=4.22.0 in /Users/skyemalfoy/opt/anaconda3/lib/python3.8/site-packages (from matplotlib->missingno) (4.31.2)\n",
      "Requirement already satisfied: cycler>=0.10 in /Users/skyemalfoy/opt/anaconda3/lib/python3.8/site-packages (from matplotlib->missingno) (0.11.0)\n",
      "Requirement already satisfied: pillow>=6.2.0 in /Users/skyemalfoy/opt/anaconda3/lib/python3.8/site-packages (from matplotlib->missingno) (9.0.1)\n",
      "Requirement already satisfied: python-dateutil>=2.7 in /Users/skyemalfoy/opt/anaconda3/lib/python3.8/site-packages (from matplotlib->missingno) (2.8.2)\n",
      "Requirement already satisfied: packaging>=20.0 in /Users/skyemalfoy/opt/anaconda3/lib/python3.8/site-packages (from matplotlib->missingno) (21.3)\n",
      "Requirement already satisfied: kiwisolver>=1.0.1 in /Users/skyemalfoy/opt/anaconda3/lib/python3.8/site-packages (from matplotlib->missingno) (1.4.2)\n",
      "Requirement already satisfied: six>=1.5 in /Users/skyemalfoy/opt/anaconda3/lib/python3.8/site-packages (from python-dateutil>=2.7->matplotlib->missingno) (1.16.0)\n",
      "Collecting numpy\n",
      "  Downloading numpy-1.22.4-cp38-cp38-macosx_10_15_x86_64.whl (17.6 MB)\n",
      "\u001b[K     |████████████████████████████████| 17.6 MB 13.4 MB/s eta 0:00:01\n",
      "\u001b[?25hRequirement already satisfied: pandas>=0.23 in /Users/skyemalfoy/opt/anaconda3/lib/python3.8/site-packages (from seaborn->missingno) (1.4.2)\n",
      "Requirement already satisfied: pytz>=2020.1 in /Users/skyemalfoy/opt/anaconda3/lib/python3.8/site-packages (from pandas>=0.23->seaborn->missingno) (2021.3)\n",
      "Installing collected packages: numpy, missingno\n",
      "  Attempting uninstall: numpy\n",
      "    Found existing installation: numpy 1.23.3\n",
      "    Uninstalling numpy-1.23.3:\n",
      "      Successfully uninstalled numpy-1.23.3\n",
      "\u001b[31mERROR: pip's dependency resolver does not currently take into account all the packages that are installed. This behaviour is the source of the following dependency conflicts.\n",
      "tensorflow 2.9.1 requires flatbuffers<2,>=1.12, but you have flatbuffers 2.0 which is incompatible.\u001b[0m\n",
      "Successfully installed missingno-0.5.2 numpy-1.22.4\n",
      "\u001b[33mWARNING: You are using pip version 22.0.4; however, version 23.0.1 is available.\n",
      "You should consider upgrading via the '/Users/skyemalfoy/opt/anaconda3/bin/python -m pip install --upgrade pip' command.\u001b[0m\n",
      "Note: you may need to restart the kernel to use updated packages.\n"
     ]
    }
   ],
   "source": [
    "pip install missingno"
   ]
  },
  {
   "cell_type": "code",
   "execution_count": 88,
   "metadata": {
    "id": "S3ud0IgvVEME"
   },
   "outputs": [],
   "source": [
    "import matplotlib.pyplot as plt\n",
    "import seaborn as sns\n",
    "import pandas as pd\n",
    "import numpy as np\n",
    "import missingno as msno\n",
    "from sklearn.model_selection import train_test_split"
   ]
  },
  {
   "cell_type": "markdown",
   "metadata": {
    "id": "xFVgAqSMH9Ki"
   },
   "source": [
    "# Data Exploration"
   ]
  },
  {
   "cell_type": "code",
   "execution_count": 2,
   "metadata": {
    "colab": {
     "base_uri": "https://localhost:8080/",
     "height": 206
    },
    "executionInfo": {
     "elapsed": 6,
     "status": "ok",
     "timestamp": 1679605823548,
     "user": {
      "displayName": "Antoine Palisson",
      "userId": "06334333839821267204"
     },
     "user_tz": -60
    },
    "id": "EUFI8ttobrzt",
    "outputId": "92b0bf0b-e452-47b2-d35b-4311494c225f"
   },
   "outputs": [
    {
     "data": {
      "text/html": [
       "<div>\n",
       "<style scoped>\n",
       "    .dataframe tbody tr th:only-of-type {\n",
       "        vertical-align: middle;\n",
       "    }\n",
       "\n",
       "    .dataframe tbody tr th {\n",
       "        vertical-align: top;\n",
       "    }\n",
       "\n",
       "    .dataframe thead th {\n",
       "        text-align: right;\n",
       "    }\n",
       "</style>\n",
       "<table border=\"1\" class=\"dataframe\">\n",
       "  <thead>\n",
       "    <tr style=\"text-align: right;\">\n",
       "      <th></th>\n",
       "      <th>age</th>\n",
       "      <th>workclass</th>\n",
       "      <th>fnlwgt</th>\n",
       "      <th>education</th>\n",
       "      <th>education.num</th>\n",
       "      <th>marital.status</th>\n",
       "      <th>occupation</th>\n",
       "      <th>relationship</th>\n",
       "      <th>race</th>\n",
       "      <th>sex</th>\n",
       "      <th>capital.gain</th>\n",
       "      <th>capital.loss</th>\n",
       "      <th>hours.per.week</th>\n",
       "      <th>native.country</th>\n",
       "      <th>income</th>\n",
       "    </tr>\n",
       "  </thead>\n",
       "  <tbody>\n",
       "    <tr>\n",
       "      <th>0</th>\n",
       "      <td>90.0</td>\n",
       "      <td>None</td>\n",
       "      <td>77053.0</td>\n",
       "      <td>HS-grad</td>\n",
       "      <td>9.0</td>\n",
       "      <td>Widowed</td>\n",
       "      <td>None</td>\n",
       "      <td>Not-in-family</td>\n",
       "      <td>White</td>\n",
       "      <td>Female</td>\n",
       "      <td>0.0</td>\n",
       "      <td>4356.0</td>\n",
       "      <td>40.0</td>\n",
       "      <td>United-States</td>\n",
       "      <td>&gt;=50k</td>\n",
       "    </tr>\n",
       "    <tr>\n",
       "      <th>1</th>\n",
       "      <td>82.0</td>\n",
       "      <td>Private</td>\n",
       "      <td>132870.0</td>\n",
       "      <td>HS-grad</td>\n",
       "      <td>9.0</td>\n",
       "      <td>Widowed</td>\n",
       "      <td>Exec-managerial</td>\n",
       "      <td>Not-in-family</td>\n",
       "      <td>White</td>\n",
       "      <td>Female</td>\n",
       "      <td>0.0</td>\n",
       "      <td>4356.0</td>\n",
       "      <td>18.0</td>\n",
       "      <td>United-States</td>\n",
       "      <td>&gt;=50k</td>\n",
       "    </tr>\n",
       "    <tr>\n",
       "      <th>2</th>\n",
       "      <td>66.0</td>\n",
       "      <td>None</td>\n",
       "      <td>186061.0</td>\n",
       "      <td>Some-college</td>\n",
       "      <td>10.0</td>\n",
       "      <td>Widowed</td>\n",
       "      <td>None</td>\n",
       "      <td>Unmarried</td>\n",
       "      <td>Black</td>\n",
       "      <td>Female</td>\n",
       "      <td>0.0</td>\n",
       "      <td>4356.0</td>\n",
       "      <td>40.0</td>\n",
       "      <td>United-States</td>\n",
       "      <td>&gt;=50k</td>\n",
       "    </tr>\n",
       "    <tr>\n",
       "      <th>3</th>\n",
       "      <td>54.0</td>\n",
       "      <td>Private</td>\n",
       "      <td>140359.0</td>\n",
       "      <td>7th-8th</td>\n",
       "      <td>4.0</td>\n",
       "      <td>Divorced</td>\n",
       "      <td>Machine-op-inspct</td>\n",
       "      <td>Unmarried</td>\n",
       "      <td>White</td>\n",
       "      <td>Female</td>\n",
       "      <td>0.0</td>\n",
       "      <td>3900.0</td>\n",
       "      <td>40.0</td>\n",
       "      <td>United-States</td>\n",
       "      <td>&gt;=50k</td>\n",
       "    </tr>\n",
       "    <tr>\n",
       "      <th>4</th>\n",
       "      <td>41.0</td>\n",
       "      <td>Private</td>\n",
       "      <td>264663.0</td>\n",
       "      <td>Some-college</td>\n",
       "      <td>10.0</td>\n",
       "      <td>Separated</td>\n",
       "      <td>Prof-specialty</td>\n",
       "      <td>Own-child</td>\n",
       "      <td>White</td>\n",
       "      <td>Female</td>\n",
       "      <td>0.0</td>\n",
       "      <td>3900.0</td>\n",
       "      <td>40.0</td>\n",
       "      <td>United-States</td>\n",
       "      <td>&gt;=50k</td>\n",
       "    </tr>\n",
       "  </tbody>\n",
       "</table>\n",
       "</div>"
      ],
      "text/plain": [
       "    age workclass    fnlwgt     education  education.num marital.status  \\\n",
       "0  90.0      None   77053.0       HS-grad            9.0        Widowed   \n",
       "1  82.0   Private  132870.0       HS-grad            9.0        Widowed   \n",
       "2  66.0      None  186061.0  Some-college           10.0        Widowed   \n",
       "3  54.0   Private  140359.0       7th-8th            4.0       Divorced   \n",
       "4  41.0   Private  264663.0  Some-college           10.0      Separated   \n",
       "\n",
       "          occupation   relationship   race     sex  capital.gain  \\\n",
       "0               None  Not-in-family  White  Female           0.0   \n",
       "1    Exec-managerial  Not-in-family  White  Female           0.0   \n",
       "2               None      Unmarried  Black  Female           0.0   \n",
       "3  Machine-op-inspct      Unmarried  White  Female           0.0   \n",
       "4     Prof-specialty      Own-child  White  Female           0.0   \n",
       "\n",
       "   capital.loss  hours.per.week native.country income  \n",
       "0        4356.0            40.0  United-States  >=50k  \n",
       "1        4356.0            18.0  United-States  >=50k  \n",
       "2        4356.0            40.0  United-States  >=50k  \n",
       "3        3900.0            40.0  United-States  >=50k  \n",
       "4        3900.0            40.0  United-States  >=50k  "
      ]
     },
     "execution_count": 2,
     "metadata": {},
     "output_type": "execute_result"
    }
   ],
   "source": [
    "from sklearn.datasets import fetch_openml\n",
    "data = fetch_openml('Adult-Census-Income', version=1, as_frame=True)\n",
    "df = pd.concat([data['data'], data['target']], axis=1)\n",
    "df['income'] = df['income'].map({'=50K':'>=50k','50K':'<50k'})\n",
    "df.head()"
   ]
  },
  {
   "cell_type": "markdown",
   "metadata": {
    "id": "pvCikc2EBH8s"
   },
   "source": [
    "The `income` target variable is the target of the adult dataset.\n",
    "\n",
    "**<font color='blue'>1.a. What is the task of the dataset ? Is it a classification and a regression ?<br>1.b. What is the type of each feature ? Are they Nominal ? Ordinal ? Cyclical ? Numerical ?**"
   ]
  },
  {
   "cell_type": "code",
   "execution_count": 3,
   "metadata": {
    "id": "E0bmr_G7SHJF"
   },
   "outputs": [
    {
     "data": {
      "text/plain": [
       "'\\n1.a This is a classification task.\\n1.b \\nage: Numerical;\\nworkclass: Nominal;\\nfnlwgt: Numerical;\\neducation: Ordinal;\\neducation.num: Numerical;\\nmarital.status: Nominal;\\noccupation: Nominal;\\nrelationship: Nominal;\\nrace: Nominal;\\nsex: Nominal;\\ncapital.gain: Numerical;\\ncapital.loss: Numerical;\\nhours.per.week: Numerical;\\nnative.country: Norminal.\\n'"
      ]
     },
     "execution_count": 3,
     "metadata": {},
     "output_type": "execute_result"
    }
   ],
   "source": [
    "'''\n",
    "1.a This is a classification task.\n",
    "1.b \n",
    "age: Numerical;\n",
    "workclass: Nominal;\n",
    "fnlwgt: Numerical;\n",
    "education: Ordinal;\n",
    "education.num: Numerical;\n",
    "marital.status: Nominal;\n",
    "occupation: Nominal;\n",
    "relationship: Nominal;\n",
    "race: Nominal;\n",
    "sex: Nominal;\n",
    "capital.gain: Numerical;\n",
    "capital.loss: Numerical;\n",
    "hours.per.week: Numerical;\n",
    "native.country: Norminal.\n",
    "'''"
   ]
  },
  {
   "cell_type": "markdown",
   "metadata": {
    "id": "8WYFtbb8CIED"
   },
   "source": [
    "**<font color='blue'>2. Is there any missing values in the dataset ?**"
   ]
  },
  {
   "cell_type": "code",
   "execution_count": 4,
   "metadata": {
    "scrolled": true
   },
   "outputs": [
    {
     "name": "stdout",
     "output_type": "stream",
     "text": [
      "<class 'pandas.core.frame.DataFrame'>\n",
      "RangeIndex: 32561 entries, 0 to 32560\n",
      "Data columns (total 15 columns):\n",
      " #   Column          Non-Null Count  Dtype  \n",
      "---  ------          --------------  -----  \n",
      " 0   age             32561 non-null  float64\n",
      " 1   workclass       30725 non-null  object \n",
      " 2   fnlwgt          32561 non-null  float64\n",
      " 3   education       32561 non-null  object \n",
      " 4   education.num   32561 non-null  float64\n",
      " 5   marital.status  32561 non-null  object \n",
      " 6   occupation      30718 non-null  object \n",
      " 7   relationship    32561 non-null  object \n",
      " 8   race            32561 non-null  object \n",
      " 9   sex             32561 non-null  object \n",
      " 10  capital.gain    32561 non-null  float64\n",
      " 11  capital.loss    32561 non-null  float64\n",
      " 12  hours.per.week  32561 non-null  float64\n",
      " 13  native.country  31978 non-null  object \n",
      " 14  income          32561 non-null  object \n",
      "dtypes: float64(6), object(9)\n",
      "memory usage: 3.7+ MB\n"
     ]
    }
   ],
   "source": [
    "df.info()"
   ]
  },
  {
   "cell_type": "code",
   "execution_count": 5,
   "metadata": {
    "id": "QBToLp5GSHqO",
    "scrolled": false
   },
   "outputs": [
    {
     "data": {
      "text/plain": [
       "age                  0\n",
       "workclass         1836\n",
       "fnlwgt               0\n",
       "education            0\n",
       "education.num        0\n",
       "marital.status       0\n",
       "occupation        1843\n",
       "relationship         0\n",
       "race                 0\n",
       "sex                  0\n",
       "capital.gain         0\n",
       "capital.loss         0\n",
       "hours.per.week       0\n",
       "native.country     583\n",
       "income               0\n",
       "dtype: int64"
      ]
     },
     "execution_count": 5,
     "metadata": {},
     "output_type": "execute_result"
    }
   ],
   "source": [
    "df.isnull().sum()"
   ]
  },
  {
   "cell_type": "code",
   "execution_count": 8,
   "metadata": {},
   "outputs": [
    {
     "data": {
      "text/html": [
       "<div>\n",
       "<style scoped>\n",
       "    .dataframe tbody tr th:only-of-type {\n",
       "        vertical-align: middle;\n",
       "    }\n",
       "\n",
       "    .dataframe tbody tr th {\n",
       "        vertical-align: top;\n",
       "    }\n",
       "\n",
       "    .dataframe thead th {\n",
       "        text-align: right;\n",
       "    }\n",
       "</style>\n",
       "<table border=\"1\" class=\"dataframe\">\n",
       "  <thead>\n",
       "    <tr style=\"text-align: right;\">\n",
       "      <th></th>\n",
       "      <th>workclass</th>\n",
       "      <th>occupation</th>\n",
       "    </tr>\n",
       "  </thead>\n",
       "  <tbody>\n",
       "    <tr>\n",
       "      <th>0</th>\n",
       "      <td>None</td>\n",
       "      <td>None</td>\n",
       "    </tr>\n",
       "    <tr>\n",
       "      <th>2</th>\n",
       "      <td>None</td>\n",
       "      <td>None</td>\n",
       "    </tr>\n",
       "    <tr>\n",
       "      <th>14</th>\n",
       "      <td>None</td>\n",
       "      <td>None</td>\n",
       "    </tr>\n",
       "    <tr>\n",
       "      <th>24</th>\n",
       "      <td>None</td>\n",
       "      <td>None</td>\n",
       "    </tr>\n",
       "    <tr>\n",
       "      <th>44</th>\n",
       "      <td>None</td>\n",
       "      <td>None</td>\n",
       "    </tr>\n",
       "    <tr>\n",
       "      <th>...</th>\n",
       "      <td>...</td>\n",
       "      <td>...</td>\n",
       "    </tr>\n",
       "    <tr>\n",
       "      <th>32533</th>\n",
       "      <td>None</td>\n",
       "      <td>None</td>\n",
       "    </tr>\n",
       "    <tr>\n",
       "      <th>32534</th>\n",
       "      <td>None</td>\n",
       "      <td>None</td>\n",
       "    </tr>\n",
       "    <tr>\n",
       "      <th>32541</th>\n",
       "      <td>None</td>\n",
       "      <td>None</td>\n",
       "    </tr>\n",
       "    <tr>\n",
       "      <th>32543</th>\n",
       "      <td>None</td>\n",
       "      <td>None</td>\n",
       "    </tr>\n",
       "    <tr>\n",
       "      <th>32544</th>\n",
       "      <td>None</td>\n",
       "      <td>None</td>\n",
       "    </tr>\n",
       "  </tbody>\n",
       "</table>\n",
       "<p>1836 rows × 2 columns</p>\n",
       "</div>"
      ],
      "text/plain": [
       "      workclass occupation\n",
       "0          None       None\n",
       "2          None       None\n",
       "14         None       None\n",
       "24         None       None\n",
       "44         None       None\n",
       "...         ...        ...\n",
       "32533      None       None\n",
       "32534      None       None\n",
       "32541      None       None\n",
       "32543      None       None\n",
       "32544      None       None\n",
       "\n",
       "[1836 rows x 2 columns]"
      ]
     },
     "execution_count": 8,
     "metadata": {},
     "output_type": "execute_result"
    }
   ],
   "source": [
    "#Study the relationship of missing value columns.\n",
    "# print(df[df['workclass'].isnull()])\n",
    "df_selected = df[df['workclass'].isnull()][['workclass', 'occupation']]\n",
    "df_selected"
   ]
  },
  {
   "cell_type": "markdown",
   "metadata": {},
   "source": [
    "So we can see there are 1836, 1843, 583 missing values for features 'workclass', 'occupation' and 'native.country' respectively. <br/><br/>\n",
    "Also, while column workclass has missing values, column occupation has missing values also - which means these two columns are related."
   ]
  },
  {
   "cell_type": "code",
   "execution_count": 11,
   "metadata": {
    "scrolled": true
   },
   "outputs": [
    {
     "data": {
      "image/png": "[encoded data removed]",
      "text/plain": [
       "<Figure size 576x360 with 2 Axes>"
      ]
     },
     "metadata": {
      "needs_background": "light"
     },
     "output_type": "display_data"
    }
   ],
   "source": [
    "#Find out the correlation between \"workclass\" and 'occupation'\n",
    "msno.heatmap(df, figsize=(8,5))\n",
    "plt.show()"
   ]
  },
  {
   "cell_type": "markdown",
   "metadata": {
    "id": "YUb9jcZMD9Kd"
   },
   "source": [
    "**<font color='blue'>3. Is there any duplicates in the dataset ?<br> If so, delete them.**"
   ]
  },
  {
   "cell_type": "code",
   "execution_count": 6,
   "metadata": {},
   "outputs": [
    {
     "data": {
      "text/html": [
       "<div>\n",
       "<style scoped>\n",
       "    .dataframe tbody tr th:only-of-type {\n",
       "        vertical-align: middle;\n",
       "    }\n",
       "\n",
       "    .dataframe tbody tr th {\n",
       "        vertical-align: top;\n",
       "    }\n",
       "\n",
       "    .dataframe thead th {\n",
       "        text-align: right;\n",
       "    }\n",
       "</style>\n",
       "<table border=\"1\" class=\"dataframe\">\n",
       "  <thead>\n",
       "    <tr style=\"text-align: right;\">\n",
       "      <th></th>\n",
       "      <th>age</th>\n",
       "      <th>workclass</th>\n",
       "      <th>fnlwgt</th>\n",
       "      <th>education</th>\n",
       "      <th>education.num</th>\n",
       "      <th>marital.status</th>\n",
       "      <th>occupation</th>\n",
       "      <th>relationship</th>\n",
       "      <th>race</th>\n",
       "      <th>sex</th>\n",
       "      <th>capital.gain</th>\n",
       "      <th>capital.loss</th>\n",
       "      <th>hours.per.week</th>\n",
       "      <th>native.country</th>\n",
       "      <th>income</th>\n",
       "    </tr>\n",
       "  </thead>\n",
       "  <tbody>\n",
       "    <tr>\n",
       "      <th>8453</th>\n",
       "      <td>25.0</td>\n",
       "      <td>Private</td>\n",
       "      <td>308144.0</td>\n",
       "      <td>Bachelors</td>\n",
       "      <td>13.0</td>\n",
       "      <td>Never-married</td>\n",
       "      <td>Craft-repair</td>\n",
       "      <td>Not-in-family</td>\n",
       "      <td>White</td>\n",
       "      <td>Male</td>\n",
       "      <td>0.0</td>\n",
       "      <td>0.0</td>\n",
       "      <td>40.0</td>\n",
       "      <td>Mexico</td>\n",
       "      <td>&gt;=50k</td>\n",
       "    </tr>\n",
       "    <tr>\n",
       "      <th>8645</th>\n",
       "      <td>90.0</td>\n",
       "      <td>Private</td>\n",
       "      <td>52386.0</td>\n",
       "      <td>Some-college</td>\n",
       "      <td>10.0</td>\n",
       "      <td>Never-married</td>\n",
       "      <td>Other-service</td>\n",
       "      <td>Not-in-family</td>\n",
       "      <td>Asian-Pac-Islander</td>\n",
       "      <td>Male</td>\n",
       "      <td>0.0</td>\n",
       "      <td>0.0</td>\n",
       "      <td>35.0</td>\n",
       "      <td>United-States</td>\n",
       "      <td>&gt;=50k</td>\n",
       "    </tr>\n",
       "    <tr>\n",
       "      <th>12202</th>\n",
       "      <td>21.0</td>\n",
       "      <td>Private</td>\n",
       "      <td>250051.0</td>\n",
       "      <td>Some-college</td>\n",
       "      <td>10.0</td>\n",
       "      <td>Never-married</td>\n",
       "      <td>Prof-specialty</td>\n",
       "      <td>Own-child</td>\n",
       "      <td>White</td>\n",
       "      <td>Female</td>\n",
       "      <td>0.0</td>\n",
       "      <td>0.0</td>\n",
       "      <td>10.0</td>\n",
       "      <td>United-States</td>\n",
       "      <td>&gt;=50k</td>\n",
       "    </tr>\n",
       "    <tr>\n",
       "      <th>14346</th>\n",
       "      <td>20.0</td>\n",
       "      <td>Private</td>\n",
       "      <td>107658.0</td>\n",
       "      <td>Some-college</td>\n",
       "      <td>10.0</td>\n",
       "      <td>Never-married</td>\n",
       "      <td>Tech-support</td>\n",
       "      <td>Not-in-family</td>\n",
       "      <td>White</td>\n",
       "      <td>Female</td>\n",
       "      <td>0.0</td>\n",
       "      <td>0.0</td>\n",
       "      <td>10.0</td>\n",
       "      <td>United-States</td>\n",
       "      <td>&gt;=50k</td>\n",
       "    </tr>\n",
       "    <tr>\n",
       "      <th>15603</th>\n",
       "      <td>25.0</td>\n",
       "      <td>Private</td>\n",
       "      <td>195994.0</td>\n",
       "      <td>1st-4th</td>\n",
       "      <td>2.0</td>\n",
       "      <td>Never-married</td>\n",
       "      <td>Priv-house-serv</td>\n",
       "      <td>Not-in-family</td>\n",
       "      <td>White</td>\n",
       "      <td>Female</td>\n",
       "      <td>0.0</td>\n",
       "      <td>0.0</td>\n",
       "      <td>40.0</td>\n",
       "      <td>Guatemala</td>\n",
       "      <td>&gt;=50k</td>\n",
       "    </tr>\n",
       "    <tr>\n",
       "      <th>17344</th>\n",
       "      <td>21.0</td>\n",
       "      <td>Private</td>\n",
       "      <td>243368.0</td>\n",
       "      <td>Preschool</td>\n",
       "      <td>1.0</td>\n",
       "      <td>Never-married</td>\n",
       "      <td>Farming-fishing</td>\n",
       "      <td>Not-in-family</td>\n",
       "      <td>White</td>\n",
       "      <td>Male</td>\n",
       "      <td>0.0</td>\n",
       "      <td>0.0</td>\n",
       "      <td>50.0</td>\n",
       "      <td>Mexico</td>\n",
       "      <td>&gt;=50k</td>\n",
       "    </tr>\n",
       "    <tr>\n",
       "      <th>19067</th>\n",
       "      <td>46.0</td>\n",
       "      <td>Private</td>\n",
       "      <td>173243.0</td>\n",
       "      <td>HS-grad</td>\n",
       "      <td>9.0</td>\n",
       "      <td>Married-civ-spouse</td>\n",
       "      <td>Craft-repair</td>\n",
       "      <td>Husband</td>\n",
       "      <td>White</td>\n",
       "      <td>Male</td>\n",
       "      <td>0.0</td>\n",
       "      <td>0.0</td>\n",
       "      <td>40.0</td>\n",
       "      <td>United-States</td>\n",
       "      <td>&gt;=50k</td>\n",
       "    </tr>\n",
       "    <tr>\n",
       "      <th>20388</th>\n",
       "      <td>30.0</td>\n",
       "      <td>Private</td>\n",
       "      <td>144593.0</td>\n",
       "      <td>HS-grad</td>\n",
       "      <td>9.0</td>\n",
       "      <td>Never-married</td>\n",
       "      <td>Other-service</td>\n",
       "      <td>Not-in-family</td>\n",
       "      <td>Black</td>\n",
       "      <td>Male</td>\n",
       "      <td>0.0</td>\n",
       "      <td>0.0</td>\n",
       "      <td>40.0</td>\n",
       "      <td>None</td>\n",
       "      <td>&gt;=50k</td>\n",
       "    </tr>\n",
       "    <tr>\n",
       "      <th>20507</th>\n",
       "      <td>19.0</td>\n",
       "      <td>Private</td>\n",
       "      <td>97261.0</td>\n",
       "      <td>HS-grad</td>\n",
       "      <td>9.0</td>\n",
       "      <td>Never-married</td>\n",
       "      <td>Farming-fishing</td>\n",
       "      <td>Not-in-family</td>\n",
       "      <td>White</td>\n",
       "      <td>Male</td>\n",
       "      <td>0.0</td>\n",
       "      <td>0.0</td>\n",
       "      <td>40.0</td>\n",
       "      <td>United-States</td>\n",
       "      <td>&gt;=50k</td>\n",
       "    </tr>\n",
       "    <tr>\n",
       "      <th>22783</th>\n",
       "      <td>19.0</td>\n",
       "      <td>Private</td>\n",
       "      <td>138153.0</td>\n",
       "      <td>Some-college</td>\n",
       "      <td>10.0</td>\n",
       "      <td>Never-married</td>\n",
       "      <td>Adm-clerical</td>\n",
       "      <td>Own-child</td>\n",
       "      <td>White</td>\n",
       "      <td>Female</td>\n",
       "      <td>0.0</td>\n",
       "      <td>0.0</td>\n",
       "      <td>10.0</td>\n",
       "      <td>United-States</td>\n",
       "      <td>&gt;=50k</td>\n",
       "    </tr>\n",
       "    <tr>\n",
       "      <th>22934</th>\n",
       "      <td>19.0</td>\n",
       "      <td>Private</td>\n",
       "      <td>146679.0</td>\n",
       "      <td>Some-college</td>\n",
       "      <td>10.0</td>\n",
       "      <td>Never-married</td>\n",
       "      <td>Exec-managerial</td>\n",
       "      <td>Own-child</td>\n",
       "      <td>Black</td>\n",
       "      <td>Male</td>\n",
       "      <td>0.0</td>\n",
       "      <td>0.0</td>\n",
       "      <td>30.0</td>\n",
       "      <td>United-States</td>\n",
       "      <td>&gt;=50k</td>\n",
       "    </tr>\n",
       "    <tr>\n",
       "      <th>23276</th>\n",
       "      <td>49.0</td>\n",
       "      <td>Private</td>\n",
       "      <td>31267.0</td>\n",
       "      <td>7th-8th</td>\n",
       "      <td>4.0</td>\n",
       "      <td>Married-civ-spouse</td>\n",
       "      <td>Craft-repair</td>\n",
       "      <td>Husband</td>\n",
       "      <td>White</td>\n",
       "      <td>Male</td>\n",
       "      <td>0.0</td>\n",
       "      <td>0.0</td>\n",
       "      <td>40.0</td>\n",
       "      <td>United-States</td>\n",
       "      <td>&gt;=50k</td>\n",
       "    </tr>\n",
       "    <tr>\n",
       "      <th>23660</th>\n",
       "      <td>25.0</td>\n",
       "      <td>Private</td>\n",
       "      <td>195994.0</td>\n",
       "      <td>1st-4th</td>\n",
       "      <td>2.0</td>\n",
       "      <td>Never-married</td>\n",
       "      <td>Priv-house-serv</td>\n",
       "      <td>Not-in-family</td>\n",
       "      <td>White</td>\n",
       "      <td>Female</td>\n",
       "      <td>0.0</td>\n",
       "      <td>0.0</td>\n",
       "      <td>40.0</td>\n",
       "      <td>Guatemala</td>\n",
       "      <td>&gt;=50k</td>\n",
       "    </tr>\n",
       "    <tr>\n",
       "      <th>23720</th>\n",
       "      <td>44.0</td>\n",
       "      <td>Private</td>\n",
       "      <td>367749.0</td>\n",
       "      <td>Bachelors</td>\n",
       "      <td>13.0</td>\n",
       "      <td>Never-married</td>\n",
       "      <td>Prof-specialty</td>\n",
       "      <td>Not-in-family</td>\n",
       "      <td>White</td>\n",
       "      <td>Female</td>\n",
       "      <td>0.0</td>\n",
       "      <td>0.0</td>\n",
       "      <td>45.0</td>\n",
       "      <td>Mexico</td>\n",
       "      <td>&gt;=50k</td>\n",
       "    </tr>\n",
       "    <tr>\n",
       "      <th>23827</th>\n",
       "      <td>49.0</td>\n",
       "      <td>Self-emp-not-inc</td>\n",
       "      <td>43479.0</td>\n",
       "      <td>Some-college</td>\n",
       "      <td>10.0</td>\n",
       "      <td>Married-civ-spouse</td>\n",
       "      <td>Craft-repair</td>\n",
       "      <td>Husband</td>\n",
       "      <td>White</td>\n",
       "      <td>Male</td>\n",
       "      <td>0.0</td>\n",
       "      <td>0.0</td>\n",
       "      <td>40.0</td>\n",
       "      <td>United-States</td>\n",
       "      <td>&gt;=50k</td>\n",
       "    </tr>\n",
       "    <tr>\n",
       "      <th>26738</th>\n",
       "      <td>23.0</td>\n",
       "      <td>Private</td>\n",
       "      <td>240137.0</td>\n",
       "      <td>5th-6th</td>\n",
       "      <td>3.0</td>\n",
       "      <td>Never-married</td>\n",
       "      <td>Handlers-cleaners</td>\n",
       "      <td>Not-in-family</td>\n",
       "      <td>White</td>\n",
       "      <td>Male</td>\n",
       "      <td>0.0</td>\n",
       "      <td>0.0</td>\n",
       "      <td>55.0</td>\n",
       "      <td>Mexico</td>\n",
       "      <td>&gt;=50k</td>\n",
       "    </tr>\n",
       "    <tr>\n",
       "      <th>27133</th>\n",
       "      <td>28.0</td>\n",
       "      <td>Private</td>\n",
       "      <td>274679.0</td>\n",
       "      <td>Masters</td>\n",
       "      <td>14.0</td>\n",
       "      <td>Never-married</td>\n",
       "      <td>Prof-specialty</td>\n",
       "      <td>Not-in-family</td>\n",
       "      <td>White</td>\n",
       "      <td>Male</td>\n",
       "      <td>0.0</td>\n",
       "      <td>0.0</td>\n",
       "      <td>50.0</td>\n",
       "      <td>United-States</td>\n",
       "      <td>&gt;=50k</td>\n",
       "    </tr>\n",
       "    <tr>\n",
       "      <th>28796</th>\n",
       "      <td>27.0</td>\n",
       "      <td>Private</td>\n",
       "      <td>255582.0</td>\n",
       "      <td>HS-grad</td>\n",
       "      <td>9.0</td>\n",
       "      <td>Never-married</td>\n",
       "      <td>Machine-op-inspct</td>\n",
       "      <td>Not-in-family</td>\n",
       "      <td>White</td>\n",
       "      <td>Female</td>\n",
       "      <td>0.0</td>\n",
       "      <td>0.0</td>\n",
       "      <td>40.0</td>\n",
       "      <td>United-States</td>\n",
       "      <td>&gt;=50k</td>\n",
       "    </tr>\n",
       "    <tr>\n",
       "      <th>29051</th>\n",
       "      <td>42.0</td>\n",
       "      <td>Private</td>\n",
       "      <td>204235.0</td>\n",
       "      <td>Some-college</td>\n",
       "      <td>10.0</td>\n",
       "      <td>Married-civ-spouse</td>\n",
       "      <td>Prof-specialty</td>\n",
       "      <td>Husband</td>\n",
       "      <td>White</td>\n",
       "      <td>Male</td>\n",
       "      <td>0.0</td>\n",
       "      <td>0.0</td>\n",
       "      <td>40.0</td>\n",
       "      <td>United-States</td>\n",
       "      <td>&lt;50k</td>\n",
       "    </tr>\n",
       "    <tr>\n",
       "      <th>29334</th>\n",
       "      <td>39.0</td>\n",
       "      <td>Private</td>\n",
       "      <td>30916.0</td>\n",
       "      <td>HS-grad</td>\n",
       "      <td>9.0</td>\n",
       "      <td>Married-civ-spouse</td>\n",
       "      <td>Craft-repair</td>\n",
       "      <td>Husband</td>\n",
       "      <td>White</td>\n",
       "      <td>Male</td>\n",
       "      <td>0.0</td>\n",
       "      <td>0.0</td>\n",
       "      <td>40.0</td>\n",
       "      <td>United-States</td>\n",
       "      <td>&gt;=50k</td>\n",
       "    </tr>\n",
       "    <tr>\n",
       "      <th>29604</th>\n",
       "      <td>38.0</td>\n",
       "      <td>Private</td>\n",
       "      <td>207202.0</td>\n",
       "      <td>HS-grad</td>\n",
       "      <td>9.0</td>\n",
       "      <td>Married-civ-spouse</td>\n",
       "      <td>Machine-op-inspct</td>\n",
       "      <td>Husband</td>\n",
       "      <td>White</td>\n",
       "      <td>Male</td>\n",
       "      <td>0.0</td>\n",
       "      <td>0.0</td>\n",
       "      <td>48.0</td>\n",
       "      <td>United-States</td>\n",
       "      <td>&lt;50k</td>\n",
       "    </tr>\n",
       "    <tr>\n",
       "      <th>31060</th>\n",
       "      <td>46.0</td>\n",
       "      <td>Private</td>\n",
       "      <td>133616.0</td>\n",
       "      <td>Some-college</td>\n",
       "      <td>10.0</td>\n",
       "      <td>Divorced</td>\n",
       "      <td>Adm-clerical</td>\n",
       "      <td>Unmarried</td>\n",
       "      <td>White</td>\n",
       "      <td>Female</td>\n",
       "      <td>0.0</td>\n",
       "      <td>0.0</td>\n",
       "      <td>40.0</td>\n",
       "      <td>United-States</td>\n",
       "      <td>&gt;=50k</td>\n",
       "    </tr>\n",
       "    <tr>\n",
       "      <th>32065</th>\n",
       "      <td>19.0</td>\n",
       "      <td>Private</td>\n",
       "      <td>251579.0</td>\n",
       "      <td>Some-college</td>\n",
       "      <td>10.0</td>\n",
       "      <td>Never-married</td>\n",
       "      <td>Other-service</td>\n",
       "      <td>Own-child</td>\n",
       "      <td>White</td>\n",
       "      <td>Male</td>\n",
       "      <td>0.0</td>\n",
       "      <td>0.0</td>\n",
       "      <td>14.0</td>\n",
       "      <td>United-States</td>\n",
       "      <td>&gt;=50k</td>\n",
       "    </tr>\n",
       "    <tr>\n",
       "      <th>32419</th>\n",
       "      <td>35.0</td>\n",
       "      <td>Private</td>\n",
       "      <td>379959.0</td>\n",
       "      <td>HS-grad</td>\n",
       "      <td>9.0</td>\n",
       "      <td>Divorced</td>\n",
       "      <td>Other-service</td>\n",
       "      <td>Not-in-family</td>\n",
       "      <td>White</td>\n",
       "      <td>Female</td>\n",
       "      <td>0.0</td>\n",
       "      <td>0.0</td>\n",
       "      <td>40.0</td>\n",
       "      <td>United-States</td>\n",
       "      <td>&gt;=50k</td>\n",
       "    </tr>\n",
       "  </tbody>\n",
       "</table>\n",
       "</div>"
      ],
      "text/plain": [
       "        age         workclass    fnlwgt     education  education.num  \\\n",
       "8453   25.0           Private  308144.0     Bachelors           13.0   \n",
       "8645   90.0           Private   52386.0  Some-college           10.0   \n",
       "12202  21.0           Private  250051.0  Some-college           10.0   \n",
       "14346  20.0           Private  107658.0  Some-college           10.0   \n",
       "15603  25.0           Private  195994.0       1st-4th            2.0   \n",
       "17344  21.0           Private  243368.0     Preschool            1.0   \n",
       "19067  46.0           Private  173243.0       HS-grad            9.0   \n",
       "20388  30.0           Private  144593.0       HS-grad            9.0   \n",
       "20507  19.0           Private   97261.0       HS-grad            9.0   \n",
       "22783  19.0           Private  138153.0  Some-college           10.0   \n",
       "22934  19.0           Private  146679.0  Some-college           10.0   \n",
       "23276  49.0           Private   31267.0       7th-8th            4.0   \n",
       "23660  25.0           Private  195994.0       1st-4th            2.0   \n",
       "23720  44.0           Private  367749.0     Bachelors           13.0   \n",
       "23827  49.0  Self-emp-not-inc   43479.0  Some-college           10.0   \n",
       "26738  23.0           Private  240137.0       5th-6th            3.0   \n",
       "27133  28.0           Private  274679.0       Masters           14.0   \n",
       "28796  27.0           Private  255582.0       HS-grad            9.0   \n",
       "29051  42.0           Private  204235.0  Some-college           10.0   \n",
       "29334  39.0           Private   30916.0       HS-grad            9.0   \n",
       "29604  38.0           Private  207202.0       HS-grad            9.0   \n",
       "31060  46.0           Private  133616.0  Some-college           10.0   \n",
       "32065  19.0           Private  251579.0  Some-college           10.0   \n",
       "32419  35.0           Private  379959.0       HS-grad            9.0   \n",
       "\n",
       "           marital.status         occupation   relationship  \\\n",
       "8453        Never-married       Craft-repair  Not-in-family   \n",
       "8645        Never-married      Other-service  Not-in-family   \n",
       "12202       Never-married     Prof-specialty      Own-child   \n",
       "14346       Never-married       Tech-support  Not-in-family   \n",
       "15603       Never-married    Priv-house-serv  Not-in-family   \n",
       "17344       Never-married    Farming-fishing  Not-in-family   \n",
       "19067  Married-civ-spouse       Craft-repair        Husband   \n",
       "20388       Never-married      Other-service  Not-in-family   \n",
       "20507       Never-married    Farming-fishing  Not-in-family   \n",
       "22783       Never-married       Adm-clerical      Own-child   \n",
       "22934       Never-married    Exec-managerial      Own-child   \n",
       "23276  Married-civ-spouse       Craft-repair        Husband   \n",
       "23660       Never-married    Priv-house-serv  Not-in-family   \n",
       "23720       Never-married     Prof-specialty  Not-in-family   \n",
       "23827  Married-civ-spouse       Craft-repair        Husband   \n",
       "26738       Never-married  Handlers-cleaners  Not-in-family   \n",
       "27133       Never-married     Prof-specialty  Not-in-family   \n",
       "28796       Never-married  Machine-op-inspct  Not-in-family   \n",
       "29051  Married-civ-spouse     Prof-specialty        Husband   \n",
       "29334  Married-civ-spouse       Craft-repair        Husband   \n",
       "29604  Married-civ-spouse  Machine-op-inspct        Husband   \n",
       "31060            Divorced       Adm-clerical      Unmarried   \n",
       "32065       Never-married      Other-service      Own-child   \n",
       "32419            Divorced      Other-service  Not-in-family   \n",
       "\n",
       "                     race     sex  capital.gain  capital.loss  hours.per.week  \\\n",
       "8453                White    Male           0.0           0.0            40.0   \n",
       "8645   Asian-Pac-Islander    Male           0.0           0.0            35.0   \n",
       "12202               White  Female           0.0           0.0            10.0   \n",
       "14346               White  Female           0.0           0.0            10.0   \n",
       "15603               White  Female           0.0           0.0            40.0   \n",
       "17344               White    Male           0.0           0.0            50.0   \n",
       "19067               White    Male           0.0           0.0            40.0   \n",
       "20388               Black    Male           0.0           0.0            40.0   \n",
       "20507               White    Male           0.0           0.0            40.0   \n",
       "22783               White  Female           0.0           0.0            10.0   \n",
       "22934               Black    Male           0.0           0.0            30.0   \n",
       "23276               White    Male           0.0           0.0            40.0   \n",
       "23660               White  Female           0.0           0.0            40.0   \n",
       "23720               White  Female           0.0           0.0            45.0   \n",
       "23827               White    Male           0.0           0.0            40.0   \n",
       "26738               White    Male           0.0           0.0            55.0   \n",
       "27133               White    Male           0.0           0.0            50.0   \n",
       "28796               White  Female           0.0           0.0            40.0   \n",
       "29051               White    Male           0.0           0.0            40.0   \n",
       "29334               White    Male           0.0           0.0            40.0   \n",
       "29604               White    Male           0.0           0.0            48.0   \n",
       "31060               White  Female           0.0           0.0            40.0   \n",
       "32065               White    Male           0.0           0.0            14.0   \n",
       "32419               White  Female           0.0           0.0            40.0   \n",
       "\n",
       "      native.country income  \n",
       "8453          Mexico  >=50k  \n",
       "8645   United-States  >=50k  \n",
       "12202  United-States  >=50k  \n",
       "14346  United-States  >=50k  \n",
       "15603      Guatemala  >=50k  \n",
       "17344         Mexico  >=50k  \n",
       "19067  United-States  >=50k  \n",
       "20388           None  >=50k  \n",
       "20507  United-States  >=50k  \n",
       "22783  United-States  >=50k  \n",
       "22934  United-States  >=50k  \n",
       "23276  United-States  >=50k  \n",
       "23660      Guatemala  >=50k  \n",
       "23720         Mexico  >=50k  \n",
       "23827  United-States  >=50k  \n",
       "26738         Mexico  >=50k  \n",
       "27133  United-States  >=50k  \n",
       "28796  United-States  >=50k  \n",
       "29051  United-States   <50k  \n",
       "29334  United-States  >=50k  \n",
       "29604  United-States   <50k  \n",
       "31060  United-States  >=50k  \n",
       "32065  United-States  >=50k  \n",
       "32419  United-States  >=50k  "
      ]
     },
     "execution_count": 6,
     "metadata": {},
     "output_type": "execute_result"
    }
   ],
   "source": [
    "df.duplicated().sum()\n",
    "df[df.duplicated()]"
   ]
  },
  {
   "cell_type": "code",
   "execution_count": 7,
   "metadata": {
    "id": "LHdNjU52SIPN"
   },
   "outputs": [
    {
     "data": {
      "text/html": [
       "<div>\n",
       "<style scoped>\n",
       "    .dataframe tbody tr th:only-of-type {\n",
       "        vertical-align: middle;\n",
       "    }\n",
       "\n",
       "    .dataframe tbody tr th {\n",
       "        vertical-align: top;\n",
       "    }\n",
       "\n",
       "    .dataframe thead th {\n",
       "        text-align: right;\n",
       "    }\n",
       "</style>\n",
       "<table border=\"1\" class=\"dataframe\">\n",
       "  <thead>\n",
       "    <tr style=\"text-align: right;\">\n",
       "      <th></th>\n",
       "      <th>age</th>\n",
       "      <th>workclass</th>\n",
       "      <th>fnlwgt</th>\n",
       "      <th>education</th>\n",
       "      <th>education.num</th>\n",
       "      <th>marital.status</th>\n",
       "      <th>occupation</th>\n",
       "      <th>relationship</th>\n",
       "      <th>race</th>\n",
       "      <th>sex</th>\n",
       "      <th>capital.gain</th>\n",
       "      <th>capital.loss</th>\n",
       "      <th>hours.per.week</th>\n",
       "      <th>native.country</th>\n",
       "      <th>income</th>\n",
       "    </tr>\n",
       "  </thead>\n",
       "  <tbody>\n",
       "  </tbody>\n",
       "</table>\n",
       "</div>"
      ],
      "text/plain": [
       "Empty DataFrame\n",
       "Columns: [age, workclass, fnlwgt, education, education.num, marital.status, occupation, relationship, race, sex, capital.gain, capital.loss, hours.per.week, native.country, income]\n",
       "Index: []"
      ]
     },
     "execution_count": 7,
     "metadata": {},
     "output_type": "execute_result"
    }
   ],
   "source": [
    "\n",
    "#So, delete the dublicates.\n",
    "df = df.drop_duplicates()\n",
    "df[df.duplicated()]"
   ]
  },
  {
   "cell_type": "markdown",
   "metadata": {
    "id": "tjIuIihMgW8n"
   },
   "source": [
    "**<font color='blue'>4. Is there any outliers ?<br>**"
   ]
  },
  {
   "cell_type": "markdown",
   "metadata": {},
   "source": [
    "### 4.1 Numerical Data"
   ]
  },
  {
   "cell_type": "code",
   "execution_count": 8,
   "metadata": {
    "id": "OggcCSDYSNpO",
    "scrolled": true
   },
   "outputs": [
    {
     "name": "stderr",
     "output_type": "stream",
     "text": [
      "/Users/skyemalfoy/opt/anaconda3/lib/python3.8/site-packages/numpy/core/fromnumeric.py:3472: FutureWarning: In a future version, DataFrame.mean(axis=None) will return a scalar mean over the entire DataFrame. To retain the old behavior, use 'frame.mean(axis=0)' or just 'frame.mean()'\n",
      "  return mean(axis=axis, dtype=dtype, out=out, **kwargs)\n"
     ]
    },
    {
     "data": {
      "text/html": [
       "<div>\n",
       "<style scoped>\n",
       "    .dataframe tbody tr th:only-of-type {\n",
       "        vertical-align: middle;\n",
       "    }\n",
       "\n",
       "    .dataframe tbody tr th {\n",
       "        vertical-align: top;\n",
       "    }\n",
       "\n",
       "    .dataframe thead th {\n",
       "        text-align: right;\n",
       "    }\n",
       "</style>\n",
       "<table border=\"1\" class=\"dataframe\">\n",
       "  <thead>\n",
       "    <tr style=\"text-align: right;\">\n",
       "      <th></th>\n",
       "      <th>age</th>\n",
       "      <th>fnlwgt</th>\n",
       "      <th>education.num</th>\n",
       "      <th>capital.gain</th>\n",
       "      <th>capital.loss</th>\n",
       "      <th>hours.per.week</th>\n",
       "    </tr>\n",
       "  </thead>\n",
       "  <tbody>\n",
       "    <tr>\n",
       "      <th>0</th>\n",
       "      <td>3.770003</td>\n",
       "      <td>1.067955</td>\n",
       "      <td>0.420679</td>\n",
       "      <td>0.145975</td>\n",
       "      <td>10.589625</td>\n",
       "      <td>0.035664</td>\n",
       "    </tr>\n",
       "    <tr>\n",
       "      <th>1</th>\n",
       "      <td>3.183397</td>\n",
       "      <td>0.539159</td>\n",
       "      <td>0.420679</td>\n",
       "      <td>0.145975</td>\n",
       "      <td>10.589625</td>\n",
       "      <td>1.817516</td>\n",
       "    </tr>\n",
       "    <tr>\n",
       "      <th>2</th>\n",
       "      <td>2.010185</td>\n",
       "      <td>0.035241</td>\n",
       "      <td>0.031815</td>\n",
       "      <td>0.145975</td>\n",
       "      <td>10.589625</td>\n",
       "      <td>0.035664</td>\n",
       "    </tr>\n",
       "    <tr>\n",
       "      <th>3</th>\n",
       "      <td>1.130276</td>\n",
       "      <td>0.468210</td>\n",
       "      <td>2.364998</td>\n",
       "      <td>0.145975</td>\n",
       "      <td>9.458380</td>\n",
       "      <td>0.035664</td>\n",
       "    </tr>\n",
       "    <tr>\n",
       "      <th>4</th>\n",
       "      <td>0.177041</td>\n",
       "      <td>0.709415</td>\n",
       "      <td>0.031815</td>\n",
       "      <td>0.145975</td>\n",
       "      <td>9.458380</td>\n",
       "      <td>0.035664</td>\n",
       "    </tr>\n",
       "    <tr>\n",
       "      <th>...</th>\n",
       "      <td>...</td>\n",
       "      <td>...</td>\n",
       "      <td>...</td>\n",
       "      <td>...</td>\n",
       "      <td>...</td>\n",
       "      <td>...</td>\n",
       "    </tr>\n",
       "    <tr>\n",
       "      <th>32556</th>\n",
       "      <td>1.216148</td>\n",
       "      <td>1.140366</td>\n",
       "      <td>0.031815</td>\n",
       "      <td>0.145975</td>\n",
       "      <td>0.216743</td>\n",
       "      <td>0.035664</td>\n",
       "    </tr>\n",
       "    <tr>\n",
       "      <th>32557</th>\n",
       "      <td>0.849519</td>\n",
       "      <td>0.639678</td>\n",
       "      <td>0.745913</td>\n",
       "      <td>0.145975</td>\n",
       "      <td>0.216743</td>\n",
       "      <td>0.197650</td>\n",
       "    </tr>\n",
       "    <tr>\n",
       "      <th>32558</th>\n",
       "      <td>0.103716</td>\n",
       "      <td>0.335436</td>\n",
       "      <td>0.420679</td>\n",
       "      <td>0.145975</td>\n",
       "      <td>0.216743</td>\n",
       "      <td>0.035664</td>\n",
       "    </tr>\n",
       "    <tr>\n",
       "      <th>32559</th>\n",
       "      <td>1.423579</td>\n",
       "      <td>0.358779</td>\n",
       "      <td>0.420679</td>\n",
       "      <td>0.145975</td>\n",
       "      <td>0.216743</td>\n",
       "      <td>0.035664</td>\n",
       "    </tr>\n",
       "    <tr>\n",
       "      <th>32560</th>\n",
       "      <td>1.216148</td>\n",
       "      <td>0.110930</td>\n",
       "      <td>0.420679</td>\n",
       "      <td>0.145975</td>\n",
       "      <td>0.216743</td>\n",
       "      <td>1.655530</td>\n",
       "    </tr>\n",
       "  </tbody>\n",
       "</table>\n",
       "<p>32537 rows × 6 columns</p>\n",
       "</div>"
      ],
      "text/plain": [
       "            age    fnlwgt  education.num  capital.gain  capital.loss  \\\n",
       "0      3.770003  1.067955       0.420679      0.145975     10.589625   \n",
       "1      3.183397  0.539159       0.420679      0.145975     10.589625   \n",
       "2      2.010185  0.035241       0.031815      0.145975     10.589625   \n",
       "3      1.130276  0.468210       2.364998      0.145975      9.458380   \n",
       "4      0.177041  0.709415       0.031815      0.145975      9.458380   \n",
       "...         ...       ...            ...           ...           ...   \n",
       "32556  1.216148  1.140366       0.031815      0.145975      0.216743   \n",
       "32557  0.849519  0.639678       0.745913      0.145975      0.216743   \n",
       "32558  0.103716  0.335436       0.420679      0.145975      0.216743   \n",
       "32559  1.423579  0.358779       0.420679      0.145975      0.216743   \n",
       "32560  1.216148  0.110930       0.420679      0.145975      0.216743   \n",
       "\n",
       "       hours.per.week  \n",
       "0            0.035664  \n",
       "1            1.817516  \n",
       "2            0.035664  \n",
       "3            0.035664  \n",
       "4            0.035664  \n",
       "...               ...  \n",
       "32556        0.035664  \n",
       "32557        0.197650  \n",
       "32558        0.035664  \n",
       "32559        0.035664  \n",
       "32560        1.655530  \n",
       "\n",
       "[32537 rows x 6 columns]"
      ]
     },
     "execution_count": 8,
     "metadata": {},
     "output_type": "execute_result"
    }
   ],
   "source": [
    "#Calculate z-score\n",
    "num_cols = ['age', 'fnlwgt', 'education.num', 'capital.gain', 'capital.loss', 'hours.per.week']\n",
    "mean = np.mean(df[num_cols])\n",
    "# print(mean)\n",
    "std = np.std(df[num_cols])\n",
    "# print(std)\n",
    "z_score = abs(df[num_cols] - mean) / std\n",
    "z_score"
   ]
  },
  {
   "cell_type": "code",
   "execution_count": 16,
   "metadata": {},
   "outputs": [
    {
     "name": "stdout",
     "output_type": "stream",
     "text": [
      "z_score>3: \n",
      "age                120\n",
      "fnlwgt             346\n",
      "education.num      216\n",
      "capital.gain       215\n",
      "capital.loss      1470\n",
      "hours.per.week     440\n",
      "dtype: int64\n",
      "z_score>4: \n",
      "age                  0\n",
      "fnlwgt             122\n",
      "education.num        0\n",
      "capital.gain       166\n",
      "capital.loss      1121\n",
      "hours.per.week     139\n",
      "dtype: int64\n"
     ]
    }
   ],
   "source": [
    "#z_score analysis\n",
    "#>3\n",
    "print('z_score>3: \\n{0}'.format((z_score>3).sum()))\n",
    "#>4\n",
    "print('z_score>4: \\n{0}'.format((z_score>4).sum()))"
   ]
  },
  {
   "cell_type": "code",
   "execution_count": 10,
   "metadata": {
    "scrolled": true
   },
   "outputs": [
    {
     "data": {
      "text/plain": [
       "<AxesSubplot:>"
      ]
     },
     "execution_count": 10,
     "metadata": {},
     "output_type": "execute_result"
    },
    {
     "data": {
      "image/png": "[encoded data removed]",
      "text/plain": [
       "<Figure size 576x360 with 1 Axes>"
      ]
     },
     "metadata": {
      "needs_background": "light"
     },
     "output_type": "display_data"
    }
   ],
   "source": [
    "z_score.plot.box(figsize=(8,5))"
   ]
  },
  {
   "cell_type": "markdown",
   "metadata": {},
   "source": [
    "## 4.2 Categorical Data"
   ]
  },
  {
   "cell_type": "code",
   "execution_count": 19,
   "metadata": {},
   "outputs": [
    {
     "name": "stdout",
     "output_type": "stream",
     "text": [
      "Index(['workclass', 'education', 'marital.status', 'occupation',\n",
      "       'relationship', 'race', 'sex', 'native.country', 'income'],\n",
      "      dtype='object')\n"
     ]
    }
   ],
   "source": [
    "cat_col = df.drop(num_cols, axis=1).columns\n",
    "print(cat_col)"
   ]
  },
  {
   "cell_type": "code",
   "execution_count": 26,
   "metadata": {},
   "outputs": [
    {
     "name": "stdout",
     "output_type": "stream",
     "text": [
      "Value counts of workclass:\n",
      "Private             0.738510\n",
      "Self-emp-not-inc    0.082733\n",
      "Local-gov           0.068174\n",
      "State-gov           0.042279\n",
      "Self-emp-inc        0.036351\n",
      "Federal-gov         0.031269\n",
      "Without-pay         0.000456\n",
      "Never-worked        0.000228\n",
      "Name: workclass, dtype: float64\n",
      "\n",
      "Value counts of education:\n",
      "HS-grad         0.322525\n",
      "Some-college    0.223807\n",
      "Bachelors       0.164520\n",
      "Masters         0.052924\n",
      "Assoc-voc       0.042475\n",
      "11th            0.036113\n",
      "Assoc-acdm      0.032793\n",
      "10th            0.028675\n",
      "7th-8th         0.019824\n",
      "Prof-school     0.017703\n",
      "9th             0.015797\n",
      "12th            0.013308\n",
      "Doctorate       0.012693\n",
      "5th-6th         0.010204\n",
      "1st-4th         0.005102\n",
      "Preschool       0.001537\n",
      "Name: education, dtype: float64\n",
      "\n",
      "Value counts of marital.status:\n",
      "Married-civ-spouse       0.460092\n",
      "Never-married            0.327842\n",
      "Divorced                 0.136491\n",
      "Separated                0.031503\n",
      "Widowed                  0.030519\n",
      "Married-spouse-absent    0.012847\n",
      "Married-AF-spouse        0.000707\n",
      "Name: marital.status, dtype: float64\n",
      "\n",
      "Value counts of occupation:\n",
      "Prof-specialty       0.134749\n",
      "Craft-repair         0.133381\n",
      "Exec-managerial      0.132436\n",
      "Adm-clerical         0.122760\n",
      "Sales                0.118916\n",
      "Other-service        0.107220\n",
      "Machine-op-inspct    0.065159\n",
      "Transport-moving     0.052030\n",
      "Handlers-cleaners    0.044602\n",
      "Farming-fishing      0.032319\n",
      "Tech-support         0.030201\n",
      "Protective-serv      0.021144\n",
      "Priv-house-serv      0.004789\n",
      "Armed-Forces         0.000293\n",
      "Name: occupation, dtype: float64\n",
      "\n",
      "Value counts of relationship:\n",
      "Husband           0.405292\n",
      "Not-in-family     0.254848\n",
      "Own-child         0.155638\n",
      "Unmarried         0.105879\n",
      "Wife              0.048191\n",
      "Other-relative    0.030150\n",
      "Name: relationship, dtype: float64\n",
      "\n",
      "Value counts of race:\n",
      "White                 0.854258\n",
      "Black                 0.095952\n",
      "Asian-Pac-Islander    0.031902\n",
      "Amer-Indian-Eskimo    0.009558\n",
      "Other                 0.008329\n",
      "Name: race, dtype: float64\n",
      "\n",
      "Value counts of sex:\n",
      "Male      0.669238\n",
      "Female    0.330762\n",
      "Name: sex, dtype: float64\n",
      "\n",
      "Value counts of native.country:\n",
      "United-States                 0.912314\n",
      "Mexico                        0.019997\n",
      "Philippines                   0.006196\n",
      "Germany                       0.004287\n",
      "Canada                        0.003787\n",
      "Puerto-Rico                   0.003568\n",
      "El-Salvador                   0.003317\n",
      "India                         0.003129\n",
      "Cuba                          0.002973\n",
      "England                       0.002816\n",
      "Jamaica                       0.002535\n",
      "South                         0.002504\n",
      "China                         0.002347\n",
      "Italy                         0.002284\n",
      "Dominican-Republic            0.002191\n",
      "Vietnam                       0.002097\n",
      "Guatemala                     0.001940\n",
      "Japan                         0.001940\n",
      "Poland                        0.001878\n",
      "Columbia                      0.001846\n",
      "Taiwan                        0.001596\n",
      "Haiti                         0.001377\n",
      "Iran                          0.001346\n",
      "Portugal                      0.001158\n",
      "Nicaragua                     0.001064\n",
      "Peru                          0.000970\n",
      "Greece                        0.000908\n",
      "France                        0.000908\n",
      "Ecuador                       0.000876\n",
      "Ireland                       0.000751\n",
      "Hong                          0.000626\n",
      "TrinadadTobago                0.000595\n",
      "Cambodia                      0.000595\n",
      "Thailand                      0.000563\n",
      "Laos                          0.000563\n",
      "Yugoslavia                    0.000501\n",
      "Outlying-US(Guam-USVI-etc)    0.000438\n",
      "Hungary                       0.000407\n",
      "Honduras                      0.000407\n",
      "Scotland                      0.000376\n",
      "Holand-Netherlands            0.000031\n",
      "Name: native.country, dtype: float64\n",
      "\n",
      "Value counts of income:\n",
      ">=50k    0.759074\n",
      "<50k     0.240926\n",
      "Name: income, dtype: float64\n",
      "\n"
     ]
    }
   ],
   "source": [
    "for cols in cat_col:\n",
    "    print(\"Value counts of {0}:\\n{1}\".format(cols, df[cols].value_counts(normalize=True)),end='\\n\\n')"
   ]
  },
  {
   "cell_type": "markdown",
   "metadata": {},
   "source": [
    "We can find outliers for all feature columns except sex. "
   ]
  },
  {
   "cell_type": "markdown",
   "metadata": {
    "id": "pAkPgpLPgqpY"
   },
   "source": [
    "**<font color='blue'>5.a. Analyze the ditribution of the label using graphs and statistics.<br> Is the dataset balanced ?**"
   ]
  },
  {
   "cell_type": "code",
   "execution_count": 36,
   "metadata": {
    "id": "X8_dScjNSPa3"
   },
   "outputs": [
    {
     "name": "stdout",
     "output_type": "stream",
     "text": [
      "       Count  percentage\n",
      ">=50k  24698        0.76\n",
      "<50k    7839        0.24\n"
     ]
    },
    {
     "data": {
      "image/png": "[encoded data removed]",
      "text/plain": [
       "<Figure size 432x288 with 1 Axes>"
      ]
     },
     "metadata": {
      "needs_background": "light"
     },
     "output_type": "display_data"
    }
   ],
   "source": [
    "count_label = df.iloc[:, -1].value_counts()\n",
    "count_label.plot.bar()\n",
    "count_label = count_label.to_frame(name='Count')\n",
    "count_label['percentage'] = round(df['income'].value_counts(normalize=True), 2)\n",
    "print(count_label)\n",
    "plt.show()"
   ]
  },
  {
   "cell_type": "markdown",
   "metadata": {
    "id": "TZ6cF5kjg1Zf"
   },
   "source": [
    "**<font color='blue'>5.b. Analyze the features one by one using graphs, statistics ...<br>**"
   ]
  },
  {
   "cell_type": "markdown",
   "metadata": {},
   "source": [
    "### 1. Numerical features"
   ]
  },
  {
   "cell_type": "code",
   "execution_count": 37,
   "metadata": {
    "id": "x2x00KexSQHY",
    "scrolled": false
   },
   "outputs": [
    {
     "data": {
      "text/html": [
       "<div>\n",
       "<style scoped>\n",
       "    .dataframe tbody tr th:only-of-type {\n",
       "        vertical-align: middle;\n",
       "    }\n",
       "\n",
       "    .dataframe tbody tr th {\n",
       "        vertical-align: top;\n",
       "    }\n",
       "\n",
       "    .dataframe thead th {\n",
       "        text-align: right;\n",
       "    }\n",
       "</style>\n",
       "<table border=\"1\" class=\"dataframe\">\n",
       "  <thead>\n",
       "    <tr style=\"text-align: right;\">\n",
       "      <th></th>\n",
       "      <th>age</th>\n",
       "      <th>fnlwgt</th>\n",
       "      <th>education.num</th>\n",
       "      <th>capital.gain</th>\n",
       "      <th>capital.loss</th>\n",
       "      <th>hours.per.week</th>\n",
       "    </tr>\n",
       "  </thead>\n",
       "  <tbody>\n",
       "    <tr>\n",
       "      <th>count</th>\n",
       "      <td>32537.000000</td>\n",
       "      <td>3.253700e+04</td>\n",
       "      <td>32537.000000</td>\n",
       "      <td>32537.000000</td>\n",
       "      <td>32537.000000</td>\n",
       "      <td>32537.000000</td>\n",
       "    </tr>\n",
       "    <tr>\n",
       "      <th>mean</th>\n",
       "      <td>38.585549</td>\n",
       "      <td>1.897808e+05</td>\n",
       "      <td>10.081815</td>\n",
       "      <td>1078.443741</td>\n",
       "      <td>87.368227</td>\n",
       "      <td>40.440329</td>\n",
       "    </tr>\n",
       "    <tr>\n",
       "      <th>std</th>\n",
       "      <td>13.637984</td>\n",
       "      <td>1.055565e+05</td>\n",
       "      <td>2.571633</td>\n",
       "      <td>7387.957424</td>\n",
       "      <td>403.101833</td>\n",
       "      <td>12.346889</td>\n",
       "    </tr>\n",
       "    <tr>\n",
       "      <th>min</th>\n",
       "      <td>17.000000</td>\n",
       "      <td>1.228500e+04</td>\n",
       "      <td>1.000000</td>\n",
       "      <td>0.000000</td>\n",
       "      <td>0.000000</td>\n",
       "      <td>1.000000</td>\n",
       "    </tr>\n",
       "    <tr>\n",
       "      <th>25%</th>\n",
       "      <td>28.000000</td>\n",
       "      <td>1.178270e+05</td>\n",
       "      <td>9.000000</td>\n",
       "      <td>0.000000</td>\n",
       "      <td>0.000000</td>\n",
       "      <td>40.000000</td>\n",
       "    </tr>\n",
       "    <tr>\n",
       "      <th>50%</th>\n",
       "      <td>37.000000</td>\n",
       "      <td>1.783560e+05</td>\n",
       "      <td>10.000000</td>\n",
       "      <td>0.000000</td>\n",
       "      <td>0.000000</td>\n",
       "      <td>40.000000</td>\n",
       "    </tr>\n",
       "    <tr>\n",
       "      <th>75%</th>\n",
       "      <td>48.000000</td>\n",
       "      <td>2.369930e+05</td>\n",
       "      <td>12.000000</td>\n",
       "      <td>0.000000</td>\n",
       "      <td>0.000000</td>\n",
       "      <td>45.000000</td>\n",
       "    </tr>\n",
       "    <tr>\n",
       "      <th>max</th>\n",
       "      <td>90.000000</td>\n",
       "      <td>1.484705e+06</td>\n",
       "      <td>16.000000</td>\n",
       "      <td>99999.000000</td>\n",
       "      <td>4356.000000</td>\n",
       "      <td>99.000000</td>\n",
       "    </tr>\n",
       "  </tbody>\n",
       "</table>\n",
       "</div>"
      ],
      "text/plain": [
       "                age        fnlwgt  education.num  capital.gain  capital.loss  \\\n",
       "count  32537.000000  3.253700e+04   32537.000000  32537.000000  32537.000000   \n",
       "mean      38.585549  1.897808e+05      10.081815   1078.443741     87.368227   \n",
       "std       13.637984  1.055565e+05       2.571633   7387.957424    403.101833   \n",
       "min       17.000000  1.228500e+04       1.000000      0.000000      0.000000   \n",
       "25%       28.000000  1.178270e+05       9.000000      0.000000      0.000000   \n",
       "50%       37.000000  1.783560e+05      10.000000      0.000000      0.000000   \n",
       "75%       48.000000  2.369930e+05      12.000000      0.000000      0.000000   \n",
       "max       90.000000  1.484705e+06      16.000000  99999.000000   4356.000000   \n",
       "\n",
       "       hours.per.week  \n",
       "count    32537.000000  \n",
       "mean        40.440329  \n",
       "std         12.346889  \n",
       "min          1.000000  \n",
       "25%         40.000000  \n",
       "50%         40.000000  \n",
       "75%         45.000000  \n",
       "max         99.000000  "
      ]
     },
     "execution_count": 37,
     "metadata": {},
     "output_type": "execute_result"
    }
   ],
   "source": [
    "df[num_cols].describe()"
   ]
  },
  {
   "cell_type": "code",
   "execution_count": 46,
   "metadata": {
    "scrolled": true
   },
   "outputs": [
    {
     "name": "stderr",
     "output_type": "stream",
     "text": [
      "/Users/skyemalfoy/opt/anaconda3/lib/python3.8/site-packages/seaborn/_decorators.py:36: FutureWarning: Pass the following variable as a keyword arg: x. From version 0.12, the only valid positional argument will be `data`, and passing other arguments without an explicit keyword will result in an error or misinterpretation.\n",
      "  warnings.warn(\n",
      "/Users/skyemalfoy/opt/anaconda3/lib/python3.8/site-packages/seaborn/_decorators.py:36: FutureWarning: Pass the following variable as a keyword arg: x. From version 0.12, the only valid positional argument will be `data`, and passing other arguments without an explicit keyword will result in an error or misinterpretation.\n",
      "  warnings.warn(\n",
      "/Users/skyemalfoy/opt/anaconda3/lib/python3.8/site-packages/seaborn/_decorators.py:36: FutureWarning: Pass the following variable as a keyword arg: x. From version 0.12, the only valid positional argument will be `data`, and passing other arguments without an explicit keyword will result in an error or misinterpretation.\n",
      "  warnings.warn(\n",
      "/Users/skyemalfoy/opt/anaconda3/lib/python3.8/site-packages/seaborn/_decorators.py:36: FutureWarning: Pass the following variable as a keyword arg: x. From version 0.12, the only valid positional argument will be `data`, and passing other arguments without an explicit keyword will result in an error or misinterpretation.\n",
      "  warnings.warn(\n",
      "/Users/skyemalfoy/opt/anaconda3/lib/python3.8/site-packages/seaborn/_decorators.py:36: FutureWarning: Pass the following variable as a keyword arg: x. From version 0.12, the only valid positional argument will be `data`, and passing other arguments without an explicit keyword will result in an error or misinterpretation.\n",
      "  warnings.warn(\n",
      "/Users/skyemalfoy/opt/anaconda3/lib/python3.8/site-packages/seaborn/_decorators.py:36: FutureWarning: Pass the following variable as a keyword arg: x. From version 0.12, the only valid positional argument will be `data`, and passing other arguments without an explicit keyword will result in an error or misinterpretation.\n",
      "  warnings.warn(\n"
     ]
    },
    {
     "data": {
      "image/png": "[encoded data removed]",
      "text/plain": [
       "<Figure size 1440x3600 with 12 Axes>"
      ]
     },
     "metadata": {
      "needs_background": "light"
     },
     "output_type": "display_data"
    }
   ],
   "source": [
    "fig, axs = plt.subplots(len(num_cols), 2, figsize=(20, 50))\n",
    "\n",
    "for col,ax in zip(num_cols, axs):\n",
    "    sns.histplot(df[col],\n",
    "               bins=30,\n",
    "               kde=True,\n",
    "               ax=ax[0])\n",
    "    ax[0].grid('on')\n",
    "    sns.boxplot(df[col], \n",
    "                flierprops={\"marker\": \"o\"},\n",
    "                boxprops={\"facecolor\": (.4, .6, .8, .5)}, \n",
    "                width=0.5, \n",
    "                ax=ax[1])"
   ]
  },
  {
   "cell_type": "markdown",
   "metadata": {},
   "source": [
    "We can find out that most values of capital gain and loss are 0. And there are also a big ratio of data with the values of 40 for column hours.per.week."
   ]
  },
  {
   "cell_type": "markdown",
   "metadata": {},
   "source": [
    "Ratio of 0 for capital gain and loss; and 40 for column hours.per.week."
   ]
  },
  {
   "cell_type": "code",
   "execution_count": 63,
   "metadata": {
    "scrolled": true
   },
   "outputs": [
    {
     "data": {
      "text/plain": [
       "0.46728340043642624"
      ]
     },
     "execution_count": 63,
     "metadata": {},
     "output_type": "execute_result"
    }
   ],
   "source": [
    "df['hours.per.week'].value_counts(normalize=True).values[0] * 100"
   ]
  },
  {
   "cell_type": "code",
   "execution_count": 66,
   "metadata": {
    "scrolled": true
   },
   "outputs": [
    {
     "name": "stdout",
     "output_type": "stream",
     "text": [
      "There are 91.66% of data are 0/40 for capital.gain\n",
      "There are 95.33% of data are 0/40 for capital.loss\n",
      "There are 46.73% of data are 0/40 for hours.per.week\n"
     ]
    }
   ],
   "source": [
    "for col in ['capital.gain', 'capital.loss', 'hours.per.week']:\n",
    "    print('There are {0}% of data are 0/40 for {1}'.format(round(df[col].value_counts(normalize=True).values[0] * 100, 2), col))"
   ]
  },
  {
   "cell_type": "markdown",
   "metadata": {},
   "source": [
    "### 2. Categorical features"
   ]
  },
  {
   "cell_type": "code",
   "execution_count": 85,
   "metadata": {},
   "outputs": [
    {
     "name": "stderr",
     "output_type": "stream",
     "text": [
      "/Users/skyemalfoy/opt/anaconda3/lib/python3.8/site-packages/seaborn/_decorators.py:36: FutureWarning: Pass the following variables as keyword args: x, y. From version 0.12, the only valid positional argument will be `data`, and passing other arguments without an explicit keyword will result in an error or misinterpretation.\n",
      "  warnings.warn(\n",
      "/Users/skyemalfoy/opt/anaconda3/lib/python3.8/site-packages/seaborn/_decorators.py:36: FutureWarning: Pass the following variables as keyword args: x, y. From version 0.12, the only valid positional argument will be `data`, and passing other arguments without an explicit keyword will result in an error or misinterpretation.\n",
      "  warnings.warn(\n",
      "/Users/skyemalfoy/opt/anaconda3/lib/python3.8/site-packages/seaborn/_decorators.py:36: FutureWarning: Pass the following variables as keyword args: x, y. From version 0.12, the only valid positional argument will be `data`, and passing other arguments without an explicit keyword will result in an error or misinterpretation.\n",
      "  warnings.warn(\n",
      "/Users/skyemalfoy/opt/anaconda3/lib/python3.8/site-packages/seaborn/_decorators.py:36: FutureWarning: Pass the following variables as keyword args: x, y. From version 0.12, the only valid positional argument will be `data`, and passing other arguments without an explicit keyword will result in an error or misinterpretation.\n",
      "  warnings.warn(\n",
      "/Users/skyemalfoy/opt/anaconda3/lib/python3.8/site-packages/seaborn/_decorators.py:36: FutureWarning: Pass the following variables as keyword args: x, y. From version 0.12, the only valid positional argument will be `data`, and passing other arguments without an explicit keyword will result in an error or misinterpretation.\n",
      "  warnings.warn(\n",
      "/Users/skyemalfoy/opt/anaconda3/lib/python3.8/site-packages/seaborn/_decorators.py:36: FutureWarning: Pass the following variables as keyword args: x, y. From version 0.12, the only valid positional argument will be `data`, and passing other arguments without an explicit keyword will result in an error or misinterpretation.\n",
      "  warnings.warn(\n",
      "/Users/skyemalfoy/opt/anaconda3/lib/python3.8/site-packages/seaborn/_decorators.py:36: FutureWarning: Pass the following variables as keyword args: x, y. From version 0.12, the only valid positional argument will be `data`, and passing other arguments without an explicit keyword will result in an error or misinterpretation.\n",
      "  warnings.warn(\n",
      "/Users/skyemalfoy/opt/anaconda3/lib/python3.8/site-packages/seaborn/_decorators.py:36: FutureWarning: Pass the following variables as keyword args: x, y. From version 0.12, the only valid positional argument will be `data`, and passing other arguments without an explicit keyword will result in an error or misinterpretation.\n",
      "  warnings.warn(\n"
     ]
    },
    {
     "data": {
      "image/png": "[encoded data removed]",
      "text/plain": [
       "<Figure size 1440x2880 with 8 Axes>"
      ]
     },
     "metadata": {
      "needs_background": "light"
     },
     "output_type": "display_data"
    }
   ],
   "source": [
    "fig, axs = plt.subplots(4, 2 , figsize=(20,40))\n",
    "\n",
    "for col,ax in zip(cat_col, np.ravel(axs)):\n",
    "    vc_cat = df[col].value_counts()\n",
    "    sns.barplot(vc_cat.index, vc_cat.values, ax=ax)\n",
    "    ax.tick_params(axis='x', rotation=90)\n",
    "    ax.set_title(col, fontsize=12)"
   ]
  },
  {
   "cell_type": "markdown",
   "metadata": {
    "id": "zov9g037g4SD"
   },
   "source": [
    "**<font color='blue'>6.a. Analyze the relationships between the features using graphs, correlation ...<br>**"
   ]
  },
  {
   "cell_type": "code",
   "execution_count": null,
   "metadata": {
    "id": "LrP7evBuhH5O"
   },
   "outputs": [],
   "source": []
  },
  {
   "cell_type": "markdown",
   "metadata": {
    "id": "9Y4V6c-_hIK-"
   },
   "source": [
    "**<font color='blue'>6.b. Analyze the feature-label relationships using graphs, correlation ...<br>**"
   ]
  },
  {
   "cell_type": "code",
   "execution_count": null,
   "metadata": {
    "id": "pILorKSxhPGn"
   },
   "outputs": [],
   "source": []
  },
  {
   "cell_type": "markdown",
   "metadata": {
    "id": "_jOZMkupIXO9"
   },
   "source": [
    "# Data Preprocessing"
   ]
  },
  {
   "cell_type": "markdown",
   "metadata": {
    "id": "-VXfbJp0yIjT"
   },
   "source": [
    "**<font color='blue'>1.a. Split the dataset into the features (X) and the label (y).**"
   ]
  },
  {
   "cell_type": "code",
   "execution_count": 87,
   "metadata": {
    "id": "V7oi7CnvyM7D"
   },
   "outputs": [],
   "source": [
    "X = df.iloc[:, :-1]\n",
    "y = df.iloc[:, -1]"
   ]
  },
  {
   "cell_type": "markdown",
   "metadata": {
    "id": "dHqSRsawh1XJ"
   },
   "source": [
    "**<font color='blue'>1.b. Split the dataset into a training and a testing set.**\n",
    "\n",
    "*Tips: There is no need for a validation set in this exercise because you will use the cross validation.<br>You should stratify when the dataset is imbalanced.*"
   ]
  },
  {
   "cell_type": "code",
   "execution_count": 89,
   "metadata": {
    "id": "fZ5C0SgdbzAJ"
   },
   "outputs": [],
   "source": [
    "X_train, X_test, y_train, y_test = train_test_split(X, y, train_size=0.8, stratify=y)"
   ]
  },
  {
   "cell_type": "code",
   "execution_count": 93,
   "metadata": {},
   "outputs": [
    {
     "name": "stdout",
     "output_type": "stream",
     "text": [
      "32537\n",
      "26029\n"
     ]
    }
   ],
   "source": [
    "print(len(df))\n",
    "print(len(X_train))"
   ]
  },
  {
   "cell_type": "markdown",
   "metadata": {
    "id": "h_3BHXaniJSe"
   },
   "source": [
    "**<font color='blue'>2. Handle the missing values.**"
   ]
  },
  {
   "cell_type": "code",
   "execution_count": null,
   "metadata": {},
   "outputs": [],
   "source": [
    "def nan_imputer(df):\n",
    "    df['workclass'] = df['workclass'].fillna('No workclass')\n",
    "    df['occupation'] = df['workclass'].fillna('No occupation')\n",
    "    df['native.country'] = df['native.country'].fillna('Other')\n",
    "    return df"
   ]
  },
  {
   "cell_type": "markdown",
   "metadata": {
    "id": "Q12Ws0nSiN25"
   },
   "source": [
    "**<font color='blue'>3. Handle the outliers**"
   ]
  },
  {
   "cell_type": "code",
   "execution_count": null,
   "metadata": {
    "id": "dFXCOTgLiQBf"
   },
   "outputs": [],
   "source": [
    "def outlier_imputer(df):\n",
    "    df['workclass'] = df['workclass'].replace({\n",
    "        'Without-pay': \"No-work\",\n",
    "        'Never-worked': 'No-work'\n",
    "    })\n",
    "    df['education'] = df['education'].replace({\n",
    "        '1st-4th':'<6th',\n",
    "        'Preschool': '<6th'\n",
    "    })\n",
    "    df['marital.status'] = df['marital.status'].replace({\n",
    "        'Married-AF-spouse': \"Married-civ-spouse\"\n",
    "    })\n",
    "    df['occupation'] = df['occupation'].replace({\n",
    "        'Priv-house-serv': 'Other-service',\n",
    "        'Armed-Forces': 'Other-service'\n",
    "    })\n",
    "    df['race'] = df['race'].replace({\n",
    "        'Amer-Indian-Eskimo': 'Other'\n",
    "    })\n",
    "    df['native.country'].loc[df['native.country'] not in ['United-States', 'Mexico']] = 'Other'"
   ]
  },
  {
   "cell_type": "markdown",
   "metadata": {
    "id": "xk6UbOXwiQXk"
   },
   "source": [
    "**<font color='blue'>4. Preprocess the categorical features using the correct method.**"
   ]
  },
  {
   "cell_type": "markdown",
   "metadata": {
    "id": "7Ir-PMMuib5l"
   },
   "source": [
    "**<font color='blue'>5. Preprocess the numerical features using the correct method.**\n"
   ]
  },
  {
   "cell_type": "markdown",
   "metadata": {},
   "source": [
    "**<font color='blue'> Using Pipeline to preprocess numerical and categorical features**\n"
   ]
  },
  {
   "cell_type": "code",
   "execution_count": null,
   "metadata": {},
   "outputs": [],
   "source": []
  },
  {
   "cell_type": "markdown",
   "metadata": {
    "id": "KyBZWBNjJGx6"
   },
   "source": [
    "# Model Selection"
   ]
  },
  {
   "cell_type": "markdown",
   "metadata": {
    "id": "FhFcnIiCilEi"
   },
   "source": [
    "The Logistic Regression model is a supervised learning algorithm used for binary classification problems where the target variable can take only two values.\n",
    "\n",
    "You can find the `LogisticRegression` model on the sklearn library, [here](https://scikit-learn.org/stable/modules/generated/sklearn.linear_model.LogisticRegression.html).\n",
    "\n",
    "Some of the most important hyperparameters include:\n",
    "\n",
    "* **`penalty`**: *This parameter controls the type of regularization used in the model. The two options are \"l1\" and \"l2\". L1 regularization adds a penalty proportional to the absolute value of the coefficients, while L2 regularization adds a penalty proportional to the square of the coefficients. L1 regularization can be used to perform feature selection by setting some coefficients to zero, while L2 regularization tends to lead to smaller and more evenly distributed coefficients. Generally, L2 regularization is more commonly used and performs well in most situations.*\n",
    "* **`C`**: *It is the inverse of the regularization strength, with smaller values of C indicating stronger regularization. A higher value of C allows the model to fit the training data more closely, while a lower value of C leads to more regularization and a simpler model. The optimal value of C depends on the particular dataset and the degree of complexity of the model that is required. A larger value of C could lead to overfitting while a smaller value of C could lead to underfitting.*\n",
    "* **`solver`**: *This parameter specifies the algorithm used to optimize the model. Different solvers have different tradeoffs between speed and accuracy, and the optimal choice depends on the size of the dataset and the complexity of the model. The \"liblinear\" solver is a good choice for small datasets, while the \"lbfgs\" and \"newton-cg\" solvers are better suited for larger datasets. The \"sag\" and \"saga\" solvers are especially well-suited for large datasets with many features.*\n",
    "* **`max_iter`**: *This parameter sets the maximum number of iterations for the solver to converge. If the solver has not converged after the maximum number of iterations, it will stop and return the best solution found so far. In general, larger datasets require more iterations to converge, so this parameter should be set appropriately.*\n",
    "\n",
    "**<font color='blue'>1.a. Train a LogisticRegression model on the training set.**"
   ]
  },
  {
   "cell_type": "code",
   "execution_count": null,
   "metadata": {
    "id": "iDESXcY5dq3Y"
   },
   "outputs": [],
   "source": []
  },
  {
   "cell_type": "markdown",
   "metadata": {
    "id": "ELH8q3Ygkeqw"
   },
   "source": [
    "The `LogisticRegression` class in sklearn has many attributes.<br>Here are some of the most important ones:\n",
    "\n",
    "*  **`coef_`**: *This attribute returns an array of shape (1, n_features) or (n_classes, n_features) containing the estimated coefficients of the logistic regression model. For binary classification problems, this will be a 1D array of coefficients. For multi-class problems, there will be a separate row of coefficients for each class.*\n",
    "*  **`intercept_`**: *This attribute returns an array of shape (1,) or (n_classes,) containing the estimated intercepts (or biases) of the logistic regression model. For binary classification problems, this will be a scalar value. For multi-class problems, there will be a separate intercept for each class.*\n",
    "\n",
    "**<font color='blue'>1.b. Use the `.coef_` attributes to get the coefficient for each feature of the logistic regression.<br> Which feature seems to be the most important for the task ?**"
   ]
  },
  {
   "cell_type": "code",
   "execution_count": null,
   "metadata": {
    "id": "dYmT_POHlcjB"
   },
   "outputs": [],
   "source": []
  },
  {
   "cell_type": "markdown",
   "metadata": {
    "id": "FkuQA5DRleNY"
   },
   "source": [
    "The `LogisticRegression` class in sklearn has many methods.<br>Here are some of the most important ones:\n",
    "\n",
    "* **`fit()`**: fits the logistic regression model to the training data X and labels y\n",
    "* **`predict()`**: predicts the class labels for new data X.\n",
    "* **`predict_proba()`**: predicts the probabilities of the class labels for new data X.\n",
    "* **`score()`**: computes the mean accuracy of the logistic regression model on the given test data X and labels y\n",
    "\n",
    "**<font color='blue'>1.c. Get the accuracy using the `.score()` function on the training set.**"
   ]
  },
  {
   "cell_type": "code",
   "execution_count": null,
   "metadata": {
    "id": "FnqnBZQElzlg"
   },
   "outputs": [],
   "source": []
  },
  {
   "cell_type": "markdown",
   "metadata": {
    "id": "bb6m2nrrrOBW"
   },
   "source": [
    "**<font color='blue'>1.d. Predict the label of the training set using the `.predict()` method.**"
   ]
  },
  {
   "cell_type": "code",
   "execution_count": null,
   "metadata": {
    "id": "HZ1hUarorWTG"
   },
   "outputs": [],
   "source": []
  },
  {
   "cell_type": "markdown",
   "metadata": {
    "id": "AY47CWM5l0Wd"
   },
   "source": [
    "Sklearn has many classification metrics including:\n",
    "\n",
    "*   Accuracy - [here](https://scikit-learn.org/stable/modules/generated/sklearn.metrics.accuracy_score.html)\n",
    "*   Precision - [here](https://scikit-learn.org/stable/modules/generated/sklearn.metrics.precision_score.html)\n",
    "*   Recall - [here](https://scikit-learn.org/stable/modules/generated/sklearn.metrics.recall_score.html)\n",
    "*   f1-score - [here](https://scikit-learn.org/stable/modules/generated/sklearn.metrics.f1_score.html)\n",
    "\n",
    "**<font color='blue'>1.e. Using the prediction made at the previous question, compute the accuracy, the precision, the recall and the f1-score on the training set.**"
   ]
  },
  {
   "cell_type": "code",
   "execution_count": null,
   "metadata": {
    "id": "lnYus1uymBE4"
   },
   "outputs": [],
   "source": []
  },
  {
   "cell_type": "markdown",
   "metadata": {
    "id": "EKoGkplPWlQl"
   },
   "source": [
    "**<font color='blue'>2.a. Merge the preprocessing steps and the model using the `Pipeline` and the `ColumnTransformer` classes from sklearn.**\n",
    "\n",
    "*Tips: Refer to the previous Notebook for the Pipeline and ColumnTransformer  instructions.*"
   ]
  },
  {
   "cell_type": "code",
   "execution_count": null,
   "metadata": {
    "id": "ML9flmM6WyoB"
   },
   "outputs": [],
   "source": []
  },
  {
   "cell_type": "markdown",
   "metadata": {
    "id": "kcV4hpKLmEd0"
   },
   "source": [
    "**<font color='blue'>2.b. Do a cross validation method with 5 folds with the `cross_val_score` function from sklearn on the LogisticRegression using a f1-score.**\n",
    "\n",
    "*Tips: Refer to the previous Notebook for the cross-validation instructions.*"
   ]
  },
  {
   "cell_type": "code",
   "execution_count": null,
   "metadata": {
    "id": "PcPVgBOMmVdO"
   },
   "outputs": [],
   "source": []
  },
  {
   "cell_type": "markdown",
   "metadata": {
    "id": "cN7hZi3VWDsR"
   },
   "source": [
    "The `LearningCurveDisplay` class from the `sklearn.metrics` module is a tool for visualizing the learning curve generated by the `learning_curve` function or by its `.from_estimator()` method. You can find it [here](https://scikit-learn.org/stable/modules/generated/sklearn.model_selection.LearningCurveDisplay.html#sklearn.model_selection.LearningCurveDisplay.from_estimator).\n",
    "\n",
    "The simplest way to use the `LearningCurveDisplay` class is to use its `from_estimator()` method. It allows you to generate a learning curve plot directly from an estimator, without having to use the `learning_curve` function directly. It also use a cross-validation method to compute the score.\n",
    "\n",
    "Here are the parameters of the `from_estimator()` method:\n",
    "\n",
    "* **`estimator`**: *The machine learning model to use.*\n",
    "* **`X`**: *The features of the training data.*\n",
    "* **`y`**: *The label of the training data.*\n",
    "* **`cv`**: *The cross-validation strategy to use. If cv is an integer value, it specifies the number of folds to use in k-fold cross-validation. If cv is a cross-validation generator, it specifies a custom cross-validation strategy to use.*\n",
    "* **`train_sizes`**: *An array of training set sizes to use for the learning curve. It specifies the number of training data to use to compute the scores. By default, it will take 10%, 32.5%, 55%, 77.5% and 100%.*\n",
    "* **`scoring`**: *The metric used to compute the learning curves.*\n",
    "* **`score_type`**: *The type of score to plot. It can be “test” to display the testing score curve, “train” to display the training score or “both” to display both training and testing scores.*\n",
    "* **`shuffle`**: *If set to True, it shuffles the data before sampling the instances with the train_sizes steps.*\n",
    "\n",
    "```\n",
    "model = ...\n",
    "disp = LearningCurveDisplay.from_estimator(model, \n",
    "                                           X, \n",
    "                                           y,\n",
    "                                           cv, ...)\n",
    "disp.plot()\n",
    "plt.show()\n",
    "```\n",
    "\n",
    "**<font color='blue'>3. Display the learning curves of the Logistic Regression.<br>Is the model overfitting ? Underfitting ?**\n",
    "\n",
    "*Tips: Similarly to a cross-validation, you need to merge the preprocessing steps and the model using the Pipeline and the ColumnTransformer classes from sklearn, and use that as the 'model' in the `from_estimator()` method.*"
   ]
  },
  {
   "cell_type": "code",
   "execution_count": null,
   "metadata": {
    "id": "GcqPt5sBW6r5"
   },
   "outputs": [],
   "source": []
  },
  {
   "cell_type": "markdown",
   "metadata": {
    "id": "PBdZScw_XTh7"
   },
   "source": [
    "Decision Trees, Support Vector Machine and k-nearest neighbors can be used for both classification and regression.\n",
    "\n",
    "The classification Decision Tree algorithm can be found [here](https://scikit-learn.org/stable/modules/generated/sklearn.tree.DecisionTreeClassifier.html).<br>\n",
    "The classification Support Vector Machine algorithm can be found [here](https://scikit-learn.org/stable/modules/generated/sklearn.svm.SVC.html#sklearn.svm.SVC).<br>\n",
    "The classification k-Nearest Neighbors algorithm can be found [here](https://scikit-learn.org/stable/modules/generated/sklearn.neighbors.KNeighborsClassifier.html).\n",
    "\n",
    "\n",
    "**<font color='blue'>4.a. Do a cross validation with the `DecisionTreeClassifier`, the `SVC` and the `KNeighborsClassifier` models.**\n",
    "\n",
    "*Tips: Don't forget to use the same metric and number of folds for each cross-validation.*"
   ]
  },
  {
   "cell_type": "code",
   "execution_count": null,
   "metadata": {
    "id": "y0Re1prEY0pS"
   },
   "outputs": [],
   "source": []
  },
  {
   "cell_type": "markdown",
   "metadata": {
    "id": "AYPJ5CBeY0zK"
   },
   "source": [
    "**<font color='blue'>4.b. Compare the model cross validation scores.<br> Which one is the best ?**\n",
    "\n",
    "*Tips: Analyze the mean and the standard deviation of the scores for each model.*"
   ]
  },
  {
   "cell_type": "code",
   "execution_count": null,
   "metadata": {
    "id": "XKGULDBYZAwr"
   },
   "outputs": [],
   "source": []
  },
  {
   "cell_type": "markdown",
   "metadata": {
    "id": "ZRLJ3thfZlQv"
   },
   "source": [
    "**<font color='blue'>4.c. Display the learning curves of the models.<br> Are they overfitting ? Underfitting ?**"
   ]
  },
  {
   "cell_type": "code",
   "execution_count": null,
   "metadata": {
    "id": "tjwOgNCL82q5"
   },
   "outputs": [],
   "source": []
  },
  {
   "cell_type": "markdown",
   "metadata": {
    "id": "pnmDDgPKaq49"
   },
   "source": [
    "**<font color='blue'>5.a. Re-train the best model and predict the labels of the testing set using the `predict()` method.**"
   ]
  },
  {
   "cell_type": "code",
   "execution_count": null,
   "metadata": {
    "id": "SFRgSHjrbVit"
   },
   "outputs": [],
   "source": []
  },
  {
   "cell_type": "markdown",
   "metadata": {
    "id": "2Ye06CwsbV3B"
   },
   "source": [
    "The **`ConfusionMatrixDisplay`** class is a tool in scikit-learn for visualizing a confusion matrix generated by the **`confusion_matrix`** function.<br> You can find the **`ConfusionMatrixDisplay`** [here](https://scikit-learn.org/stable/modules/generated/sklearn.metrics.ConfusionMatrixDisplay.html) and the **`confusion_matrix`** [here](https://scikit-learn.org/stable/modules/generated/sklearn.metrics.confusion_matrix.html).\n",
    "\n",
    "Here are some of the most important parameters of the `confusion_matrix` function:\n",
    "\n",
    "* **`y_true`**: *The true class labels.*\n",
    "* **`y_pred`**: *The predicted class labels.*\n",
    "* **`labels`**: *The class labels to include in the confusion matrix. It can be a list of names of the label classes.*\n",
    "* **`normalize`**: *If set to True, the confusion matrix will be normalized to show the proportions of correct and incorrect predictions for each class. If set to 'true', the confusion matrix is normalized by the true class values. If set to 'pred', the confusion matrix is normalized by the predicted class values.\n",
    "If set to 'all', the confusion matrix will be normalized by the total number of samples.*\n",
    "\n",
    "The output of the confusion_matrix can already be analyzed. However, analyzing a numpy ndarray can be difficult if the number of classes in the label is large.Thus the **`ConfusionMatrixDisplay`** can be used to generate a table visualization of the confusion matrix.\n",
    "\n",
    "```\n",
    "cm = confusion_matrix(...)\n",
    "disp = ConfusionMatrixDisplay(confusion_matrix=cm, ...)\n",
    "disp.plot()\n",
    "plt.show()\n",
    "```\n",
    "\n",
    "\n",
    "**<font color='blue'>5.b. Compute a confusion matrix on the testing set predictions.<br> Explain the confusion matrix.**"
   ]
  },
  {
   "cell_type": "code",
   "execution_count": null,
   "metadata": {
    "id": "_yJrO_CrbkPC"
   },
   "outputs": [],
   "source": []
  },
  {
   "cell_type": "markdown",
   "metadata": {
    "id": "U0XnhlsMcUYa"
   },
   "source": [
    "**<font color='blue'>6.a. Predict the label probabilities of the testing set using the `predict_proba()` method.<br> Explain the output.**"
   ]
  },
  {
   "cell_type": "code",
   "execution_count": null,
   "metadata": {
    "id": "6txA-GC-cYOB"
   },
   "outputs": [],
   "source": []
  },
  {
   "cell_type": "markdown",
   "metadata": {
    "id": "lHx4j3FgblEV"
   },
   "source": [
    "The **`RocCurveDisplay`** class in scikit-learn is a tool for visualizing the Receiver Operating Characteristic (ROC) curve of a binary classifier using the **`roc_curve`** and the **`roc_auc_score`** functions.<br> You can find the **`RocCurveDisplay`** [here](https://scikit-learn.org/stable/modules/generated/sklearn.metrics.RocCurveDisplay.html) , **`roc_curve`** [here](https://scikit-learn.org/stable/modules/generated/sklearn.metrics.roc_curve.html) and the **`roc_auc_score`** [here](https://scikit-learn.org/stable/modules/generated/sklearn.metrics.roc_auc_score.html).\n",
    "\n",
    "\n",
    "\n",
    "---\n",
    "\n",
    "\n",
    "The ROC curve can be calculated using the **`roc_curve`** function. It has some parameters such as:\n",
    "\n",
    "* **`y_true`**: *The true class labels.*\n",
    "* **`y_pred`**: *The predicted class labels. It should be given to the function as probabilities.*\n",
    "* **`pos_label`**: *The label of the positive class. If the positive class is not set to 1, you can set the value here.*\n",
    "\n",
    "The `roc_curve` function returns three arrays:\n",
    "\n",
    "* **`fpr`**: An array of the False Positive Rate (FPR) values for the different discrimination thresholds.\n",
    "* **`tpr`**: An array of the True Positive Rate (TPR) values for the different discrimination thresholds.\n",
    "* **`thresholds`**: An array of the discrimination thresholds used to calculate the FPR and TPR values.\n",
    "\n",
    "---\n",
    "\n",
    "The AUC score can be calculated using the **`roc_auc_score`** function. It has some parameters such as:\n",
    "* **`y_true`**: *The true class labels.*\n",
    "* **`y_pred`**: *The predicted class labels. It should be given to the function as probabilities.*\n",
    "* **`average`**: *It specifies how to aggregate the AUC-ROC scores for each individual class to obtain an overall score.*\n",
    " *  *When average is set to None, the function returns an array of AUC-ROC scores, one for each class.*\n",
    " *  *When average is set to `'macro'`, the function calculates the AUC-ROC score for each class and returns their unweighted mean.*\n",
    " *  *When average is set to `'weighted'`, the function calculates the AUC-ROC score for each class and returns their weighted mean, where the weights are proportional to the number of samples in each class.*\n",
    " *  *When the average parameter is set to `'micro'`, the function calculates the AUC-ROC score globally by treating all classes and all samples equally.* \n",
    " *  *When the average parameter is set to `'samples'`, the function calculates the AUC-ROC score for each sample, and then returns the average score across all samples.*\n",
    "\n",
    "Additionally, the AUC score can be calculated using the `auc` function. It takes the FPR and the TPR as inputs and returns the AUC score. Fortunately, the FPR and the TPR are calculated by the `roc_curve` function.\n",
    "\n",
    "---\n",
    "\n",
    "The **`RocCurveDisplay`** class can then be used to create the ROC curve and display the AUC score on it.\n",
    "\n",
    "```\n",
    "fpr, tpr, thresholds = metrics.roc_curve(...)\n",
    "roc_auc = metrics.roc_auc_score(...)\n",
    "disp = metrics.RocCurveDisplay(fpr=fpr, \n",
    "                               tpr=tpr, \n",
    "                               roc_auc=roc_auc)\n",
    "disp.plot()\n",
    "plt.show()\n",
    "```\n",
    "\n",
    "**<font color='blue'>6.b. Compute the AUC score and display the ROC curve.**\n",
    "\n",
    "*Tips: Add the Random Model curve.*"
   ]
  },
  {
   "cell_type": "code",
   "execution_count": null,
   "metadata": {
    "id": "nwThW9labxvL"
   },
   "outputs": [],
   "source": []
  },
  {
   "cell_type": "markdown",
   "metadata": {
    "id": "YQbgHOATb25d"
   },
   "source": [
    "The **`precision_recall_curve`** function in scikit-learn is a tool for visualizing the Precision-Recall curve of a binary classifier.<br> You can find it [here](https://scikit-learn.org/stable/modules/generated/sklearn.metrics.precision_recall_curve.html#sklearn.metrics.precision_recall_curve).\n",
    "\n",
    "Here are the most important parameters of the `precision_recall_curve` function:\n",
    "\n",
    "* **`y_true`**: *The true binary class labels.*\n",
    "* **`probas_pred`**: *The predicted probability scores for the positive class.*\n",
    "* **`pos_label`**: *The label of the positive class. If the positive class is not set to 1, you can set the value here.*\n",
    "* **`sample_weight`**: *An optional array of weights to apply to the samples.*\n",
    "\n",
    "The `precision_recall_curve` function returns three arrays:\n",
    "\n",
    "* **`precision`**: *An array of the precision values for the different probability thresholds.*\n",
    "* **`recall`**: *An array of the recall values for the different probability thresholds.*\n",
    "* **`thresholds`**: *An array of the probability thresholds used to calculate the precision and recall values.*\n",
    "\n",
    "```\n",
    "precision, recall, thresholds = precision_recall_curve(...)\n",
    "```\n",
    "\n",
    "The `predict_proba` method returns a 2D array where each row corresponds to a sample in the input data and each column corresponds to the predicted probability for one of the classes. It is important to use the predicted probabilities for the positive class from the predicted probabilities for both classes returned by the `predict_proba` method.\n",
    "\n",
    "**<font color='blue'>7.a. Compute the precision-recall curve.**\n",
    "\n",
    "*Tips: Use the matplotlib library to plot the curves.*"
   ]
  },
  {
   "cell_type": "code",
   "execution_count": null,
   "metadata": {
    "id": "6yvRWwcOcpDZ"
   },
   "outputs": [],
   "source": []
  },
  {
   "cell_type": "markdown",
   "metadata": {
    "id": "GK3xkf8dczPh"
   },
   "source": [
    "**<font color='blue'>7.b Compute the precision, the recall and the f1-score on the test set predictions for a threshold on 0.25 and 0.75.<br>Interpret the results.**"
   ]
  },
  {
   "cell_type": "code",
   "execution_count": null,
   "metadata": {
    "id": "rqWRS835dVk1"
   },
   "outputs": [],
   "source": []
  }
 ],
 "metadata": {
  "colab": {
   "authorship_tag": "ABX9TyM/fauluMEEFO+J9AqZwFdD",
   "collapsed_sections": [
    "xFVgAqSMH9Ki",
    "_jOZMkupIXO9",
    "KyBZWBNjJGx6"
   ],
   "provenance": [
    {
     "file_id": "1SfyXGoHgEmZeAAKDDSZX-nox-BU3UClI",
     "timestamp": 1677191951629
    }
   ]
  },
  "kernelspec": {
   "display_name": "Python 3 (ipykernel)",
   "language": "python",
   "name": "python3"
  },
  "language_info": {
   "codemirror_mode": {
    "name": "ipython",
    "version": 3
   },
   "file_extension": ".py",
   "mimetype": "text/x-python",
   "name": "python",
   "nbconvert_exporter": "python",
   "pygments_lexer": "ipython3",
   "version": "3.8.13"
  }
 },
 "nbformat": 4,
 "nbformat_minor": 1
}
