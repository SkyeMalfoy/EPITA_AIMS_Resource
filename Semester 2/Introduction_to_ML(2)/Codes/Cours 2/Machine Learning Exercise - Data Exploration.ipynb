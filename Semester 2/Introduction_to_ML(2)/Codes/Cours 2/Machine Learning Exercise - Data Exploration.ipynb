{
 "cells": [
  {
   "cell_type": "code",
   "execution_count": 1,
   "metadata": {
    "id": "S3ud0IgvVEME"
   },
   "outputs": [
    {
     "name": "stderr",
     "output_type": "stream",
     "text": [
      "/Users/skyemalfoy/opt/anaconda3/lib/python3.8/site-packages/scipy/__init__.py:146: UserWarning: A NumPy version >=1.16.5 and <1.23.0 is required for this version of SciPy (detected version 1.23.3\n",
      "  warnings.warn(f\"A NumPy version >={np_minversion} and <{np_maxversion}\"\n"
     ]
    }
   ],
   "source": [
    "import matplotlib.pyplot as plt\n",
    "import seaborn as sns\n",
    "import pandas as pd\n",
    "import numpy as np"
   ]
  },
  {
   "cell_type": "markdown",
   "metadata": {
    "id": "uIx6G6YEGlEH"
   },
   "source": [
    "In thhis exercise, we will use a **marketing campaing dataset**.<br>\n",
    "This dataset has been saved in a CSV file and have been provided with this notebook.<br>\n",
    "\n",
    "A **metadata file (.txt)** has also been provided: it contains all the information about the dataset's features."
   ]
  },
  {
   "cell_type": "markdown",
   "metadata": {
    "id": "xFVgAqSMH9Ki"
   },
   "source": [
    "# Load dataset & first analysis"
   ]
  },
  {
   "cell_type": "markdown",
   "metadata": {
    "id": "5XptBBKA6s--"
   },
   "source": [
    "The Pandas libraries allows to extract the CSV files into tables (Dataframe) by using the `read_csv()` function.<br>\n",
    "\n",
    "To quickly show the content of a dataset, you can use the `.head()` method on your dataframe. This function shows the first lines of the table. You can also use the `.tail()` function that shows the last lines of the table.\n",
    "These two functions only have a paramater named **n** that controls the number of lines displayed.\n",
    "\n",
    "**<font color='blue'>1. Load the dataset and show its content.**"
   ]
  },
  {
   "cell_type": "code",
   "execution_count": 2,
   "metadata": {
    "id": "EUFI8ttobrzt",
    "scrolled": true
   },
   "outputs": [
    {
     "data": {
      "text/html": [
       "<div>\n",
       "<style scoped>\n",
       "    .dataframe tbody tr th:only-of-type {\n",
       "        vertical-align: middle;\n",
       "    }\n",
       "\n",
       "    .dataframe tbody tr th {\n",
       "        vertical-align: top;\n",
       "    }\n",
       "\n",
       "    .dataframe thead th {\n",
       "        text-align: right;\n",
       "    }\n",
       "</style>\n",
       "<table border=\"1\" class=\"dataframe\">\n",
       "  <thead>\n",
       "    <tr style=\"text-align: right;\">\n",
       "      <th></th>\n",
       "      <th>ID</th>\n",
       "      <th>Year_Birth</th>\n",
       "      <th>Education</th>\n",
       "      <th>Marital_Status</th>\n",
       "      <th>Income</th>\n",
       "      <th>Kidhome</th>\n",
       "      <th>Teenhome</th>\n",
       "      <th>Dt_Customer</th>\n",
       "      <th>Recency</th>\n",
       "      <th>MntWines</th>\n",
       "      <th>...</th>\n",
       "      <th>NumWebVisitsMonth</th>\n",
       "      <th>AcceptedCmp3</th>\n",
       "      <th>AcceptedCmp4</th>\n",
       "      <th>AcceptedCmp5</th>\n",
       "      <th>AcceptedCmp1</th>\n",
       "      <th>AcceptedCmp2</th>\n",
       "      <th>Complain</th>\n",
       "      <th>Z_CostContact</th>\n",
       "      <th>Z_Revenue</th>\n",
       "      <th>Response</th>\n",
       "    </tr>\n",
       "  </thead>\n",
       "  <tbody>\n",
       "    <tr>\n",
       "      <th>0</th>\n",
       "      <td>5524</td>\n",
       "      <td>1957</td>\n",
       "      <td>Graduation</td>\n",
       "      <td>Single</td>\n",
       "      <td>58138.0</td>\n",
       "      <td>0</td>\n",
       "      <td>0</td>\n",
       "      <td>04-09-2012</td>\n",
       "      <td>58</td>\n",
       "      <td>635</td>\n",
       "      <td>...</td>\n",
       "      <td>7</td>\n",
       "      <td>0</td>\n",
       "      <td>0</td>\n",
       "      <td>0</td>\n",
       "      <td>0</td>\n",
       "      <td>0</td>\n",
       "      <td>0</td>\n",
       "      <td>3</td>\n",
       "      <td>11</td>\n",
       "      <td>1</td>\n",
       "    </tr>\n",
       "    <tr>\n",
       "      <th>1</th>\n",
       "      <td>2174</td>\n",
       "      <td>1954</td>\n",
       "      <td>Graduation</td>\n",
       "      <td>Single</td>\n",
       "      <td>46344.0</td>\n",
       "      <td>1</td>\n",
       "      <td>1</td>\n",
       "      <td>08-03-2014</td>\n",
       "      <td>38</td>\n",
       "      <td>11</td>\n",
       "      <td>...</td>\n",
       "      <td>5</td>\n",
       "      <td>0</td>\n",
       "      <td>0</td>\n",
       "      <td>0</td>\n",
       "      <td>0</td>\n",
       "      <td>0</td>\n",
       "      <td>0</td>\n",
       "      <td>3</td>\n",
       "      <td>11</td>\n",
       "      <td>0</td>\n",
       "    </tr>\n",
       "    <tr>\n",
       "      <th>2</th>\n",
       "      <td>4141</td>\n",
       "      <td>1965</td>\n",
       "      <td>Graduation</td>\n",
       "      <td>Together</td>\n",
       "      <td>71613.0</td>\n",
       "      <td>0</td>\n",
       "      <td>0</td>\n",
       "      <td>21-08-2013</td>\n",
       "      <td>26</td>\n",
       "      <td>426</td>\n",
       "      <td>...</td>\n",
       "      <td>4</td>\n",
       "      <td>0</td>\n",
       "      <td>0</td>\n",
       "      <td>0</td>\n",
       "      <td>0</td>\n",
       "      <td>0</td>\n",
       "      <td>0</td>\n",
       "      <td>3</td>\n",
       "      <td>11</td>\n",
       "      <td>0</td>\n",
       "    </tr>\n",
       "    <tr>\n",
       "      <th>3</th>\n",
       "      <td>6182</td>\n",
       "      <td>1984</td>\n",
       "      <td>Graduation</td>\n",
       "      <td>Together</td>\n",
       "      <td>26646.0</td>\n",
       "      <td>1</td>\n",
       "      <td>0</td>\n",
       "      <td>10-02-2014</td>\n",
       "      <td>26</td>\n",
       "      <td>11</td>\n",
       "      <td>...</td>\n",
       "      <td>6</td>\n",
       "      <td>0</td>\n",
       "      <td>0</td>\n",
       "      <td>0</td>\n",
       "      <td>0</td>\n",
       "      <td>0</td>\n",
       "      <td>0</td>\n",
       "      <td>3</td>\n",
       "      <td>11</td>\n",
       "      <td>0</td>\n",
       "    </tr>\n",
       "    <tr>\n",
       "      <th>4</th>\n",
       "      <td>5324</td>\n",
       "      <td>1981</td>\n",
       "      <td>PhD</td>\n",
       "      <td>Married</td>\n",
       "      <td>58293.0</td>\n",
       "      <td>1</td>\n",
       "      <td>0</td>\n",
       "      <td>19-01-2014</td>\n",
       "      <td>94</td>\n",
       "      <td>173</td>\n",
       "      <td>...</td>\n",
       "      <td>5</td>\n",
       "      <td>0</td>\n",
       "      <td>0</td>\n",
       "      <td>0</td>\n",
       "      <td>0</td>\n",
       "      <td>0</td>\n",
       "      <td>0</td>\n",
       "      <td>3</td>\n",
       "      <td>11</td>\n",
       "      <td>0</td>\n",
       "    </tr>\n",
       "  </tbody>\n",
       "</table>\n",
       "<p>5 rows × 29 columns</p>\n",
       "</div>"
      ],
      "text/plain": [
       "     ID  Year_Birth   Education Marital_Status   Income  Kidhome  Teenhome  \\\n",
       "0  5524        1957  Graduation         Single  58138.0        0         0   \n",
       "1  2174        1954  Graduation         Single  46344.0        1         1   \n",
       "2  4141        1965  Graduation       Together  71613.0        0         0   \n",
       "3  6182        1984  Graduation       Together  26646.0        1         0   \n",
       "4  5324        1981         PhD        Married  58293.0        1         0   \n",
       "\n",
       "  Dt_Customer  Recency  MntWines  ...  NumWebVisitsMonth  AcceptedCmp3  \\\n",
       "0  04-09-2012       58       635  ...                  7             0   \n",
       "1  08-03-2014       38        11  ...                  5             0   \n",
       "2  21-08-2013       26       426  ...                  4             0   \n",
       "3  10-02-2014       26        11  ...                  6             0   \n",
       "4  19-01-2014       94       173  ...                  5             0   \n",
       "\n",
       "   AcceptedCmp4  AcceptedCmp5  AcceptedCmp1  AcceptedCmp2  Complain  \\\n",
       "0             0             0             0             0         0   \n",
       "1             0             0             0             0         0   \n",
       "2             0             0             0             0         0   \n",
       "3             0             0             0             0         0   \n",
       "4             0             0             0             0         0   \n",
       "\n",
       "   Z_CostContact  Z_Revenue  Response  \n",
       "0              3         11         1  \n",
       "1              3         11         0  \n",
       "2              3         11         0  \n",
       "3              3         11         0  \n",
       "4              3         11         0  \n",
       "\n",
       "[5 rows x 29 columns]"
      ]
     },
     "execution_count": 2,
     "metadata": {},
     "output_type": "execute_result"
    }
   ],
   "source": [
    "df = pd.read_csv('marketing_campaign - marketing_campaign.csv')\n",
    "df.head()"
   ]
  },
  {
   "cell_type": "markdown",
   "metadata": {
    "id": "pvCikc2EBH8s"
   },
   "source": [
    "The `.info()` method can be used on a dataframe to get a resume of its variables, length and missing values. This method has some parameters such as the **show_counts** parameter that can be either True or False, if True the method returns the number of non-missing values in the dataset.\n",
    "\n",
    "**<font color='blue'>2. Show a resume of the dataset variables, length and missing values.<br> Do you understand each variable name ?<br> Is there any missing variable ?**"
   ]
  },
  {
   "cell_type": "code",
   "execution_count": 3,
   "metadata": {
    "id": "xAetRb2qbsJD"
   },
   "outputs": [
    {
     "name": "stdout",
     "output_type": "stream",
     "text": [
      "<class 'pandas.core.frame.DataFrame'>\n",
      "RangeIndex: 2240 entries, 0 to 2239\n",
      "Data columns (total 29 columns):\n",
      " #   Column               Non-Null Count  Dtype  \n",
      "---  ------               --------------  -----  \n",
      " 0   ID                   2240 non-null   int64  \n",
      " 1   Year_Birth           2240 non-null   int64  \n",
      " 2   Education            2240 non-null   object \n",
      " 3   Marital_Status       2240 non-null   object \n",
      " 4   Income               2216 non-null   float64\n",
      " 5   Kidhome              2240 non-null   int64  \n",
      " 6   Teenhome             2240 non-null   int64  \n",
      " 7   Dt_Customer          2240 non-null   object \n",
      " 8   Recency              2240 non-null   int64  \n",
      " 9   MntWines             2240 non-null   int64  \n",
      " 10  MntFruits            2240 non-null   int64  \n",
      " 11  MntMeatProducts      2240 non-null   int64  \n",
      " 12  MntFishProducts      2240 non-null   int64  \n",
      " 13  MntSweetProducts     2240 non-null   int64  \n",
      " 14  MntGoldProds         2240 non-null   int64  \n",
      " 15  NumDealsPurchases    2240 non-null   int64  \n",
      " 16  NumWebPurchases      2240 non-null   int64  \n",
      " 17  NumCatalogPurchases  2240 non-null   int64  \n",
      " 18  NumStorePurchases    2240 non-null   int64  \n",
      " 19  NumWebVisitsMonth    2240 non-null   int64  \n",
      " 20  AcceptedCmp3         2240 non-null   int64  \n",
      " 21  AcceptedCmp4         2240 non-null   int64  \n",
      " 22  AcceptedCmp5         2240 non-null   int64  \n",
      " 23  AcceptedCmp1         2240 non-null   int64  \n",
      " 24  AcceptedCmp2         2240 non-null   int64  \n",
      " 25  Complain             2240 non-null   int64  \n",
      " 26  Z_CostContact        2240 non-null   int64  \n",
      " 27  Z_Revenue            2240 non-null   int64  \n",
      " 28  Response             2240 non-null   int64  \n",
      "dtypes: float64(1), int64(25), object(3)\n",
      "memory usage: 507.6+ KB\n"
     ]
    }
   ],
   "source": [
    "#Column 5(kidhome) has 24 rows of missing data\n",
    "df.info()"
   ]
  },
  {
   "cell_type": "markdown",
   "metadata": {
    "id": "8WYFtbb8CIED"
   },
   "source": [
    "To open a text file, you can use the `open()` function from Python.<br>\n",
    "Here is a [tutorial](https://www.geeksforgeeks.org/python-open-function/) to use the open function.\n",
    "\n",
    "**<font color='blue'>3. Open the metadata text file to see the description of the columns. Could you group these variables into categories ?**"
   ]
  },
  {
   "cell_type": "code",
   "execution_count": 4,
   "metadata": {
    "id": "hhoivuYkbsjp"
   },
   "outputs": [
    {
     "name": "stdout",
     "output_type": "stream",
     "text": [
      "﻿ID: Customer's unique identifier\n",
      "Year_Birth: Customer's birth year\n",
      "Education: Customer's education level\n",
      "Marital_Status: Customer's marital status\n",
      "Income: Customer's yearly household income\n",
      "Kidhome: Number of children in customer's household\n",
      "Teenhome: Number of teenagers in customer's household\n",
      "Dt_Customer: Date of customer's enrollment with the company\n",
      "Recency: Number of days since customer's last purchase\n",
      "Complain: 1 if the customer complained in the last 2 years, 0 otherwise\n",
      "MntWines: Amount spent on wine in last 2 years\n",
      "MntFruits: Amount spent on fruits in last 2 years\n",
      "MntMeatProducts: Amount spent on meat in last 2 years\n",
      "MntFishProducts: Amount spent on fish in last 2 years\n",
      "MntSweetProducts: Amount spent on sweets in last 2 years\n",
      "MntGoldProds: Amount spent on gold in last 2 years\n",
      "NumDealsPurchases: Number of purchases made with a discount\n",
      "AcceptedCmp1: 1 if customer accepted the offer in the 1st campaign, 0 otherwise\n",
      "AcceptedCmp2: 1 if customer accepted the offer in the 2nd campaign, 0 otherwise\n",
      "AcceptedCmp3: 1 if customer accepted the offer in the 3rd campaign, 0 otherwise\n",
      "AcceptedCmp4: 1 if customer accepted the offer in the 4th campaign, 0 otherwise\n",
      "AcceptedCmp5: 1 if customer accepted the offer in the 5th campaign, 0 otherwise\n",
      "Response: 1 if customer accepted the offer in the last campaign, 0 otherwise\n",
      "NumWebPurchases: Number of purchases made through the company’s website\n",
      "NumCatalogPurchases: Number of purchases made using a catalogue\n",
      "NumStorePurchases: Number of purchases made directly in stores\n",
      "NumWebVisitsMonth: Number of visits to company’s website in the last month"
     ]
    }
   ],
   "source": [
    "description_metadata = open('marketing_campaign_metadata.txt', 'r')\n",
    "for lines in description_metadata:\n",
    "    print(lines, end = '')"
   ]
  },
  {
   "cell_type": "markdown",
   "metadata": {
    "id": "YUb9jcZMD9Kd"
   },
   "source": [
    "The ID column is the Customer's unique identifier. <br>Thus, we can check if there is any duplicate in our data. You can use the `.duplicated()` method on the dataframe.\n",
    "\n",
    "The `.duplicated()` method has several parameters:\n",
    "\n",
    "*   **subset**: This parameter specifies the column or columns to use for identifying duplicates. By default, all columns are used, but you can specify a subset of columns using a list of column names or column index positions.\n",
    "\n",
    "*   **keep**: This parameter specifies which duplicates, if any, to mark as True. By default, the first occurrence of a row is marked as False, and subsequent occurrences are marked as True. Setting keep to 'first' or False produces the same result. Setting keep to 'last' marks the last occurrence of a row as False and all previous occurrences as True.\n",
    "\n",
    "`.duplicated()` [Documentation](https://pandas.pydata.org/docs/reference/api/pandas.DataFrame.duplicated.html)\n",
    "\n",
    "**<font color='blue'>4. Is there any duplicates on the ID column ?**"
   ]
  },
  {
   "cell_type": "code",
   "execution_count": 5,
   "metadata": {
    "id": "UrVmvnoFbsza"
   },
   "outputs": [
    {
     "data": {
      "text/plain": [
       "False"
      ]
     },
     "execution_count": 5,
     "metadata": {},
     "output_type": "execute_result"
    }
   ],
   "source": [
    "# res_duplicate = df.duplicated('ID', keep = False).values\n",
    "# for result in res_duplicate:\n",
    "#     if result == True:\n",
    "#         print('It has duplicated values')\n",
    "#         break\n",
    "#So there are no duplicated values.\n",
    "\n",
    "\n",
    "#Another method - use any()\n",
    "df.duplicated('ID').any()"
   ]
  },
  {
   "cell_type": "markdown",
   "metadata": {
    "id": "_jOZMkupIXO9"
   },
   "source": [
    "# Analysis of the features"
   ]
  },
  {
   "cell_type": "markdown",
   "metadata": {
    "id": "MylOVI1zIMep"
   },
   "source": [
    "The Year_Birth feature is the customer's birth year.<br>\n",
    "Let's analyse it.\n",
    "\n",
    "First, you can analyse the summary statistics of this feature.<br> To do so, you can use the `.describe()` that will automatically compute the mean, the standard deviation, the min value, the quartiles and the max value.\n",
    "\n",
    "**<font color='blue'>1. Compute the summary statistics on the Year_Birth feature using the `describe()` method.<br>What can you say about these figures ?**"
   ]
  },
  {
   "cell_type": "code",
   "execution_count": 6,
   "metadata": {
    "id": "AertKnTYbuqA"
   },
   "outputs": [
    {
     "data": {
      "text/plain": [
       "count    2240.000000\n",
       "mean     1968.805804\n",
       "std        11.984069\n",
       "min      1893.000000\n",
       "25%      1959.000000\n",
       "50%      1970.000000\n",
       "75%      1977.000000\n",
       "max      1996.000000\n",
       "Name: Year_Birth, dtype: float64"
      ]
     },
     "execution_count": 6,
     "metadata": {},
     "output_type": "execute_result"
    }
   ],
   "source": [
    "#People born in similar year.\n",
    "des_of_yb = df['Year_Birth'].describe()\n",
    "des_of_yb"
   ]
  },
  {
   "cell_type": "markdown",
   "metadata": {
    "id": "Xrvw6C0DJbwW"
   },
   "source": [
    "It is generally better to visualize the data as it provides a more intuitive and insightful understanding of the underlying patterns, trends, and relationships in the data. \n",
    "\n",
    "For numerical values, a typical graph is the histogram. <br>There are many ways to create graphs in Python including:\n",
    "\n",
    "\n",
    "*   Matploblib\n",
    "*   Seaborn\n",
    "*   Pandas\n",
    "\n",
    "**<font color='blue'>2. Create an histogram of the Year_Birth feature values.<br>What can you tell about this feature ?**"
   ]
  },
  {
   "cell_type": "code",
   "execution_count": 7,
   "metadata": {
    "id": "b6MWs1tFbvKL"
   },
   "outputs": [
    {
     "data": {
      "text/plain": [
       "(array([  3.,   0.,   0.,   0.,  16., 300., 541., 685., 506., 189.]),\n",
       " array([1893. , 1903.3, 1913.6, 1923.9, 1934.2, 1944.5, 1954.8, 1965.1,\n",
       "        1975.4, 1985.7, 1996. ]),\n",
       " <BarContainer object of 10 artists>)"
      ]
     },
     "execution_count": 7,
     "metadata": {},
     "output_type": "execute_result"
    },
    {
     "data": {
      "image/png": "[encoded data removed]",
      "text/plain": [
       "<Figure size 432x288 with 1 Axes>"
      ]
     },
     "metadata": {
      "needs_background": "light"
     },
     "output_type": "display_data"
    }
   ],
   "source": [
    "#There are more people who was born around 1970 and nearly nobody born before 1940.\n",
    "plt.hist(df['Year_Birth'], bins = 10)"
   ]
  },
  {
   "cell_type": "markdown",
   "metadata": {
    "id": "kKYT7ZSttEPw"
   },
   "source": [
    "**<font color='blue'>3. Display an histogram of the Income feature.**"
   ]
  },
  {
   "cell_type": "code",
   "execution_count": 8,
   "metadata": {
    "id": "FGII4otXbvjc"
   },
   "outputs": [
    {
     "data": {
      "text/plain": [
       "(1065.063, 96720.857]       2199\n",
       "(96720.857, 191711.714]       16\n",
       "(571675.143, 666666.0]         1\n",
       "(191711.714, 286702.571]       0\n",
       "(286702.571, 381693.429]       0\n",
       "(381693.429, 476684.286]       0\n",
       "(476684.286, 571675.143]       0\n",
       "Name: Income, dtype: int64"
      ]
     },
     "execution_count": 8,
     "metadata": {},
     "output_type": "execute_result"
    },
    {
     "data": {
      "image/png": "[encoded data removed]",
      "text/plain": [
       "<Figure size 432x288 with 1 Axes>"
      ]
     },
     "metadata": {
      "needs_background": "light"
     },
     "output_type": "display_data"
    }
   ],
   "source": [
    "#We can easily say that nearly all people have the salary between 0-100,000\n",
    "plt.hist(df['Income'], bins = 5)\n",
    "df['Income'].value_counts(bins = 7)"
   ]
  },
  {
   "cell_type": "markdown",
   "metadata": {
    "id": "XhO5bPPBtQf1"
   },
   "source": [
    "Histograms are not the only type of graph that can be used with numerical data.<br> You can also create Boxplot by using the `.boxplot()` method from the Pandas library.\n",
    "\n",
    "**<font color='blue'>4. Create a boxplot of the Income feature. <br>Is this graph telling you the same story as the histogram ?**"
   ]
  },
  {
   "cell_type": "code",
   "execution_count": 9,
   "metadata": {
    "id": "Q9lyws8Zbv46",
    "scrolled": true
   },
   "outputs": [
    {
     "data": {
      "text/plain": [
       "<AxesSubplot:>"
      ]
     },
     "execution_count": 9,
     "metadata": {},
     "output_type": "execute_result"
    },
    {
     "data": {
      "image/png": "[encoded data removed]",
      "text/plain": [
       "<Figure size 432x288 with 1 Axes>"
      ]
     },
     "metadata": {
      "needs_background": "light"
     },
     "output_type": "display_data"
    }
   ],
   "source": [
    "df.boxplot(column = 'Income', fontsize = 12)"
   ]
  },
  {
   "cell_type": "markdown",
   "metadata": {
    "id": "FJyFaypbaX0m"
   },
   "source": [
    "Next, let's analyse a categorical data : the Education feature.\n",
    "\n",
    "The Education feature categories can be counted using the `.value_counts()` method of the dataframe.\n",
    "\n",
    "**<font color='blue'>5. Find the frequencies of each category of the Education feature.**"
   ]
  },
  {
   "cell_type": "code",
   "execution_count": 10,
   "metadata": {
    "id": "g6Qc4lX2bwTy"
   },
   "outputs": [
    {
     "data": {
      "text/plain": [
       "Education\n",
       "Graduation    0.503125\n",
       "PhD           0.216964\n",
       "Master        0.165179\n",
       "2n Cycle      0.090625\n",
       "Basic         0.024107\n",
       "dtype: float64"
      ]
     },
     "execution_count": 10,
     "metadata": {},
     "output_type": "execute_result"
    }
   ],
   "source": [
    "counts_edu = df.value_counts(df['Education'])\n",
    "counts_edu\n",
    "#use normalize = True to show the persentage for each value.\n",
    "df.value_counts(df['Education'], normalize=True)"
   ]
  },
  {
   "cell_type": "markdown",
   "metadata": {
    "id": "gBuDdNvocjZJ"
   },
   "source": [
    "Bar plots can be used to visualize the frequencies.<br> To do so, you can use the `.plot.bar()` method on the result of the `value_counts()` method.\n",
    "\n",
    "**<font color='blue'>6. Display a bar plot of the Education feature.<br>What can you tell about this feature ?**"
   ]
  },
  {
   "cell_type": "code",
   "execution_count": 11,
   "metadata": {
    "id": "UnLPAtGgbwq5"
   },
   "outputs": [
    {
     "data": {
      "image/png": "[encoded data removed]",
      "text/plain": [
       "<Figure size 432x288 with 1 Axes>"
      ]
     },
     "metadata": {
      "needs_background": "light"
     },
     "output_type": "display_data"
    }
   ],
   "source": [
    "counts_edu.plot.bar()\n",
    "plt.show()"
   ]
  },
  {
   "cell_type": "markdown",
   "metadata": {
    "id": "4jfOqvS_sqe5"
   },
   "source": [
    "**<font color='blue'>7. Do the exact same thing for the Marital_Status.**"
   ]
  },
  {
   "cell_type": "code",
   "execution_count": 12,
   "metadata": {
    "id": "RTBtq-WEbxNR"
   },
   "outputs": [
    {
     "data": {
      "text/plain": [
       "<AxesSubplot:xlabel='Marital_Status'>"
      ]
     },
     "execution_count": 12,
     "metadata": {},
     "output_type": "execute_result"
    },
    {
     "data": {
      "image/png": "[encoded data removed]",
      "text/plain": [
       "<Figure size 432x288 with 1 Axes>"
      ]
     },
     "metadata": {
      "needs_background": "light"
     },
     "output_type": "display_data"
    }
   ],
   "source": [
    "df.value_counts('Marital_Status').plot.bar()"
   ]
  },
  {
   "cell_type": "markdown",
   "metadata": {
    "id": "FW7nygWpuGgP"
   },
   "source": [
    "The `Dt_Customer` feature contains **dates**.\n",
    "\n",
    "Pandas provides several functions and tools to handle dates and time series data in a flexible and efficient manner. Here are some ways to handle dates using pandas:\n",
    "\n",
    "*  **Converting Strings to Dates**: Pandas provides a to_datetime function that can be used to convert a string to a datetime object. For example, `pd.to_datetime('2023-01-01')` will return a datetime object representing the date \"January 1st, 2023\".\n",
    "\n",
    "*  **Extracting Date Components**: Once a date is represented as a datetime object in pandas, we can extract various components of the date such as year, month, day, etc. using the dt accessor. For example, `df['Date'].dt.year` will return a Series object containing the year values for each date in the 'Date' column of the DataFrame df.\n",
    "\n",
    "**<font color='blue'>8.a. Transform the string dates from the Dt_Customer column into datetime objects.**"
   ]
  },
  {
   "cell_type": "code",
   "execution_count": 35,
   "metadata": {
    "id": "6LhA7wsZbx1s"
   },
   "outputs": [],
   "source": [
    "df['Dt_Customer'] = pd.to_datetime(df['Dt_Customer'], format='%Y-%m-%d')"
   ]
  },
  {
   "cell_type": "code",
   "execution_count": 38,
   "metadata": {},
   "outputs": [
    {
     "name": "stdout",
     "output_type": "stream",
     "text": [
      "0      2012-04-09\n",
      "1      2014-08-03\n",
      "2      2013-08-21\n",
      "3      2014-10-02\n",
      "4      2014-01-19\n",
      "          ...    \n",
      "2235   2013-06-13\n",
      "2236   2014-10-06\n",
      "2237   2014-01-25\n",
      "2238   2014-01-24\n",
      "2239   2012-10-15\n",
      "Name: Dt_Customer, Length: 2240, dtype: datetime64[ns]\n"
     ]
    },
    {
     "data": {
      "text/plain": [
       "pandas.core.series.Series"
      ]
     },
     "execution_count": 38,
     "metadata": {},
     "output_type": "execute_result"
    }
   ],
   "source": [
    "print(df['Dt_Customer'])\n",
    "type(df['Dt_Customer'])"
   ]
  },
  {
   "cell_type": "markdown",
   "metadata": {
    "id": "ltedQCYXNAKQ"
   },
   "source": [
    "**<font color='blue'>8.b. Extract the year from the transformed Dt_Customer column.**"
   ]
  },
  {
   "cell_type": "code",
   "execution_count": 14,
   "metadata": {
    "id": "BWBg5KGbbyMo"
   },
   "outputs": [
    {
     "data": {
      "text/plain": [
       "0       2012\n",
       "1       2014\n",
       "2       2013\n",
       "3       2014\n",
       "4       2014\n",
       "        ... \n",
       "2235    2013\n",
       "2236    2014\n",
       "2237    2014\n",
       "2238    2014\n",
       "2239    2012\n",
       "Name: Dt_Customer, Length: 2240, dtype: int64"
      ]
     },
     "execution_count": 14,
     "metadata": {},
     "output_type": "execute_result"
    }
   ],
   "source": [
    "years = df['Dt_Customer'].dt.year\n",
    "years"
   ]
  },
  {
   "cell_type": "markdown",
   "metadata": {
    "id": "1ttXE96nNr9F"
   },
   "source": [
    "**<font color='blue'>8.c Count the frequencies of each year and display a bar graph.**"
   ]
  },
  {
   "cell_type": "code",
   "execution_count": 15,
   "metadata": {
    "id": "xL37UOqSbynK",
    "scrolled": true
   },
   "outputs": [
    {
     "data": {
      "text/plain": [
       "<AxesSubplot:>"
      ]
     },
     "execution_count": 15,
     "metadata": {},
     "output_type": "execute_result"
    },
    {
     "data": {
      "image/png": "[encoded data removed]",
      "text/plain": [
       "<Figure size 432x288 with 1 Axes>"
      ]
     },
     "metadata": {
      "needs_background": "light"
     },
     "output_type": "display_data"
    }
   ],
   "source": [
    "freq_year = years.value_counts()\n",
    "freq_year.plot.bar()"
   ]
  },
  {
   "cell_type": "markdown",
   "metadata": {
    "id": "3ZaLL-tK_Xkq"
   },
   "source": [
    "The `Z_CostContact` and the Z_Revenue seem to have strange behaviours.\n",
    "\n",
    "**<font color='blue'>9. Compute the statistics for these two features.<br>Comment the result and the utility of these features.**"
   ]
  },
  {
   "cell_type": "code",
   "execution_count": 16,
   "metadata": {
    "id": "fZ5C0SgdbzAJ"
   },
   "outputs": [
    {
     "data": {
      "text/html": [
       "<div>\n",
       "<style scoped>\n",
       "    .dataframe tbody tr th:only-of-type {\n",
       "        vertical-align: middle;\n",
       "    }\n",
       "\n",
       "    .dataframe tbody tr th {\n",
       "        vertical-align: top;\n",
       "    }\n",
       "\n",
       "    .dataframe thead th {\n",
       "        text-align: right;\n",
       "    }\n",
       "</style>\n",
       "<table border=\"1\" class=\"dataframe\">\n",
       "  <thead>\n",
       "    <tr style=\"text-align: right;\">\n",
       "      <th></th>\n",
       "      <th>Z_CostContact</th>\n",
       "      <th>Z_Revenue</th>\n",
       "    </tr>\n",
       "  </thead>\n",
       "  <tbody>\n",
       "    <tr>\n",
       "      <th>count</th>\n",
       "      <td>2240.0</td>\n",
       "      <td>2240.0</td>\n",
       "    </tr>\n",
       "    <tr>\n",
       "      <th>mean</th>\n",
       "      <td>3.0</td>\n",
       "      <td>11.0</td>\n",
       "    </tr>\n",
       "    <tr>\n",
       "      <th>std</th>\n",
       "      <td>0.0</td>\n",
       "      <td>0.0</td>\n",
       "    </tr>\n",
       "    <tr>\n",
       "      <th>min</th>\n",
       "      <td>3.0</td>\n",
       "      <td>11.0</td>\n",
       "    </tr>\n",
       "    <tr>\n",
       "      <th>25%</th>\n",
       "      <td>3.0</td>\n",
       "      <td>11.0</td>\n",
       "    </tr>\n",
       "    <tr>\n",
       "      <th>50%</th>\n",
       "      <td>3.0</td>\n",
       "      <td>11.0</td>\n",
       "    </tr>\n",
       "    <tr>\n",
       "      <th>75%</th>\n",
       "      <td>3.0</td>\n",
       "      <td>11.0</td>\n",
       "    </tr>\n",
       "    <tr>\n",
       "      <th>max</th>\n",
       "      <td>3.0</td>\n",
       "      <td>11.0</td>\n",
       "    </tr>\n",
       "  </tbody>\n",
       "</table>\n",
       "</div>"
      ],
      "text/plain": [
       "       Z_CostContact  Z_Revenue\n",
       "count         2240.0     2240.0\n",
       "mean             3.0       11.0\n",
       "std              0.0        0.0\n",
       "min              3.0       11.0\n",
       "25%              3.0       11.0\n",
       "50%              3.0       11.0\n",
       "75%              3.0       11.0\n",
       "max              3.0       11.0"
      ]
     },
     "execution_count": 16,
     "metadata": {},
     "output_type": "execute_result"
    }
   ],
   "source": [
    "#std (standard deviation) = 0 while the mean, min and max are all equal,\n",
    "# It means the whole column has the same value. Meaningless...\n",
    "df[['Z_CostContact', 'Z_Revenue']].describe()"
   ]
  },
  {
   "cell_type": "markdown",
   "metadata": {
    "id": "KyBZWBNjJGx6"
   },
   "source": [
    "# Analysis of the label"
   ]
  },
  {
   "cell_type": "markdown",
   "metadata": {
    "id": "es4Rv8iWJr4U"
   },
   "source": [
    "Let's use the Response column as the label.\n",
    "\n",
    "Analysis of the target variable is an important step in machine learning and data analysis because the target variable is the variable that we are trying to predict or explain. By understanding the characteristics of the target variable, we can better understand the nature of the problem we are trying to solve and the requirements for an effective predictive model.\n",
    "\n",
    "**<font color='blue'>1.a. Is the target a numerical or a categorical variable ?<br>1.b. If numerical, analyze its statistics (mean, max, min, median, quantiles ...).<br> If categorical, analyze the number of categories and their respective counts.**"
   ]
  },
  {
   "cell_type": "code",
   "execution_count": 17,
   "metadata": {
    "id": "TtyXuS9Ebz6j"
   },
   "outputs": [
    {
     "data": {
      "text/plain": [
       "0    1906\n",
       "1     334\n",
       "Name: Response, dtype: int64"
      ]
     },
     "execution_count": 17,
     "metadata": {},
     "output_type": "execute_result"
    }
   ],
   "source": [
    "#1.a. A categorial variable (It has only two values: 0 and 1)\n",
    "#1.b. It has two values. 0 for 1906 and 1 for 334\n",
    "fre_res = df['Response'].value_counts()\n",
    "fre_res"
   ]
  },
  {
   "cell_type": "markdown",
   "metadata": {
    "id": "vWG82Z9DKI3v"
   },
   "source": [
    "**<font color='blue'>2.If numerical, display an histogram of the values.<br>If categorical, display a bar graph of the values.**"
   ]
  },
  {
   "cell_type": "code",
   "execution_count": 18,
   "metadata": {
    "id": "ibMm43wdb0T2"
   },
   "outputs": [
    {
     "data": {
      "text/plain": [
       "<AxesSubplot:>"
      ]
     },
     "execution_count": 18,
     "metadata": {},
     "output_type": "execute_result"
    },
    {
     "data": {
      "image/png": "[encoded data removed]",
      "text/plain": [
       "<Figure size 432x288 with 1 Axes>"
      ]
     },
     "metadata": {
      "needs_background": "light"
     },
     "output_type": "display_data"
    }
   ],
   "source": [
    "fre_res.plot.bar()"
   ]
  },
  {
   "cell_type": "markdown",
   "metadata": {
    "id": "XoJdK1OROMUw"
   },
   "source": [
    "# Target-feature relationship"
   ]
  },
  {
   "cell_type": "markdown",
   "metadata": {
    "id": "ZYMvpOqvOZzL"
   },
   "source": [
    "This type of analysis involves evaluating the statistical significance of the association between each individual feature and the target variable, without considering the relationships between different features in the dataset.\n",
    "\n",
    "**<font color='blue'>1. Compare the histograms of the MntMeatProducts feature when the Response target is 0 and 1.<br> Comment the result.**\n",
    "\n",
    "*Tips: For this question, you should create two histograms, one when Response is 0 and one when Response is 1.<br> Don't forget to keep the scales even i.e. the x-axis and the y-axis should be the same for both histograms.*"
   ]
  },
  {
   "cell_type": "code",
   "execution_count": 19,
   "metadata": {
    "id": "jayZuQYfb1Qa",
    "scrolled": true
   },
   "outputs": [
    {
     "data": {
      "image/png": "[encoded data removed]",
      "text/plain": [
       "<Figure size 576x360 with 2 Axes>"
      ]
     },
     "metadata": {
      "needs_background": "light"
     },
     "output_type": "display_data"
    }
   ],
   "source": [
    "plt.figure(figsize = (8,5))\n",
    "plt.subplot(1,2,1)\n",
    "plt.title('Response = 0')\n",
    "plt.xlim((0,1800))\n",
    "plt.ylim((0,1500))\n",
    "plt.hist(df['MntMeatProducts'][df['Response'] == 0])\n",
    "plt.subplot(1,2,2)\n",
    "plt.title('Response = 1')\n",
    "plt.xlim((0,1800))\n",
    "plt.ylim((0,1500))\n",
    "plt.hist(df['MntMeatProducts'][df['Response'] == 1])\n",
    "plt.show()"
   ]
  },
  {
   "cell_type": "markdown",
   "metadata": {
    "id": "xaE18Nn04U8K"
   },
   "source": [
    "**<font color='blue'>2. Compare the bar plots of the AcceptedCmp5 feature when the Response target is 0 and 1.<br>Comment the result.**\n",
    "\n",
    "*Tips: For this question, you should first count the values of AcceptedCmp5 for Reponse = 0 and Reponse = 1.<br> Then, you create two bar plots with the results.<br> It is a good idea to normalize the counts in order to compare the bar plots.*"
   ]
  },
  {
   "cell_type": "code",
   "execution_count": 20,
   "metadata": {
    "id": "bJEXTsPGb1vW"
   },
   "outputs": [
    {
     "data": {
      "image/png": "[encoded data removed]",
      "text/plain": [
       "<Figure size 576x360 with 2 Axes>"
      ]
     },
     "metadata": {
      "needs_background": "light"
     },
     "output_type": "display_data"
    }
   ],
   "source": [
    "frq_AcC5_R0 = df['AcceptedCmp5'][df['Response'] == 0].value_counts()\n",
    "frq_AcC5_R1 = df['AcceptedCmp5'][df['Response'] == 1].value_counts()\n",
    "\n",
    "plt.figure(figsize = (8,5))\n",
    "plt.subplot(1,2,1)\n",
    "plt.title('Response = 0')\n",
    "plt.ylim((0,1900))\n",
    "frq_AcC5_R0.plot.bar()\n",
    "plt.subplot(1,2,2)\n",
    "plt.title('Response = 1')\n",
    "plt.ylim((0,1900))\n",
    "frq_AcC5_R1.plot.bar()\n",
    "plt.show()"
   ]
  },
  {
   "cell_type": "markdown",
   "metadata": {
    "id": "V5C5q2wq6w4D"
   },
   "source": [
    "**<font color='blue'>3. Compare the bar plots of the Marital_Status feature when the Response target is 0 and 1.<br> Comment the result.**"
   ]
  },
  {
   "cell_type": "code",
   "execution_count": 21,
   "metadata": {
    "id": "RLX_lFdLb2PY"
   },
   "outputs": [
    {
     "data": {
      "image/png": "[encoded data removed]",
      "text/plain": [
       "<Figure size 576x360 with 2 Axes>"
      ]
     },
     "metadata": {
      "needs_background": "light"
     },
     "output_type": "display_data"
    }
   ],
   "source": [
    "frq_MS_R0 = df['Marital_Status'][df['Response'] == 0].value_counts()\n",
    "frq_MS_R1 = df['Marital_Status'][df['Response'] == 1].value_counts()\n",
    "\n",
    "plt.figure(figsize = (8,5))\n",
    "plt.subplot(1,2,1)\n",
    "plt.title('Response = 0')\n",
    "plt.ylim((0,800))\n",
    "frq_MS_R0.plot.bar()\n",
    "plt.subplot(1,2,2)\n",
    "plt.title('Response = 1')\n",
    "plt.ylim((0,800))\n",
    "frq_MS_R1.plot.bar()\n",
    "plt.show()"
   ]
  },
  {
   "cell_type": "markdown",
   "metadata": {
    "id": "yNgcKuFK_7yy"
   },
   "source": [
    "**<font color='blue'>4. Compute the correlation coefficient between the target and the features of the dataset.<br> Which features seem to be correlated to the target ?**\n",
    "\n",
    "*Tips: You can use the `.corr()` function.<br>You must encode the categorical features (Education, Marital_Status, Dt_Customer) into numbers to compute the correlation coefficient.*"
   ]
  },
  {
   "cell_type": "code",
   "execution_count": 22,
   "metadata": {
    "id": "VBuA7QP1b2os"
   },
   "outputs": [],
   "source": [
    "#Convert\n",
    "df['Education'] = df['Education'].map({\"Graduation\": 0, \"PhD\": 1, \"Master\":2, \"2n Cycle\": 3, \"Basic\": 4})\n",
    "df['Marital_Status'] = df['Marital_Status'].map({\"Married\": 0,\"Together\": 1,\"Single\": 2,\"Divorced\": 3,\"Widow\": 4,\"Alone\": 5,\"YOLO\": 6})"
   ]
  },
  {
   "cell_type": "code",
   "execution_count": 43,
   "metadata": {},
   "outputs": [
    {
     "name": "stdout",
     "output_type": "stream",
     "text": [
      "<class 'pandas.core.frame.DataFrame'>\n",
      "RangeIndex: 2240 entries, 0 to 2239\n",
      "Data columns (total 29 columns):\n",
      " #   Column               Non-Null Count  Dtype         \n",
      "---  ------               --------------  -----         \n",
      " 0   ID                   2240 non-null   int64         \n",
      " 1   Year_Birth           2240 non-null   int64         \n",
      " 2   Education            2240 non-null   int64         \n",
      " 3   Marital_Status       2238 non-null   float64       \n",
      " 4   Income               2216 non-null   float64       \n",
      " 5   Kidhome              2240 non-null   int64         \n",
      " 6   Teenhome             2240 non-null   int64         \n",
      " 7   Dt_Customer          2240 non-null   datetime64[ns]\n",
      " 8   Recency              2240 non-null   int64         \n",
      " 9   MntWines             2240 non-null   int64         \n",
      " 10  MntFruits            2240 non-null   int64         \n",
      " 11  MntMeatProducts      2240 non-null   int64         \n",
      " 12  MntFishProducts      2240 non-null   int64         \n",
      " 13  MntSweetProducts     2240 non-null   int64         \n",
      " 14  MntGoldProds         2240 non-null   int64         \n",
      " 15  NumDealsPurchases    2240 non-null   int64         \n",
      " 16  NumWebPurchases      2240 non-null   int64         \n",
      " 17  NumCatalogPurchases  2240 non-null   int64         \n",
      " 18  NumStorePurchases    2240 non-null   int64         \n",
      " 19  NumWebVisitsMonth    2240 non-null   int64         \n",
      " 20  AcceptedCmp3         2240 non-null   int64         \n",
      " 21  AcceptedCmp4         2240 non-null   int64         \n",
      " 22  AcceptedCmp5         2240 non-null   int64         \n",
      " 23  AcceptedCmp1         2240 non-null   int64         \n",
      " 24  AcceptedCmp2         2240 non-null   int64         \n",
      " 25  Complain             2240 non-null   int64         \n",
      " 26  Z_CostContact        2240 non-null   int64         \n",
      " 27  Z_Revenue            2240 non-null   int64         \n",
      " 28  Response             2240 non-null   int64         \n",
      "dtypes: datetime64[ns](1), float64(2), int64(26)\n",
      "memory usage: 507.6 KB\n"
     ]
    }
   ],
   "source": [
    "df.info()"
   ]
  },
  {
   "cell_type": "code",
   "execution_count": 57,
   "metadata": {},
   "outputs": [
    {
     "data": {
      "text/plain": [
       "0       1.333930e+09\n",
       "1       1.407024e+09\n",
       "2       1.377043e+09\n",
       "3       1.412208e+09\n",
       "4       1.390090e+09\n",
       "            ...     \n",
       "2235    1.371082e+09\n",
       "2236    1.412554e+09\n",
       "2237    1.390608e+09\n",
       "2238    1.390522e+09\n",
       "2239    1.350259e+09\n",
       "Name: Dt_Customer, Length: 2240, dtype: float64"
      ]
     },
     "execution_count": 57,
     "metadata": {},
     "output_type": "execute_result"
    }
   ],
   "source": [
    "#Covert Date\n",
    "df['Dt_Customer']= df['Dt_Customer'].apply(lambda x: x.timestamp())\n",
    "df['Dt_Customer']\n"
   ]
  },
  {
   "cell_type": "code",
   "execution_count": 67,
   "metadata": {
    "scrolled": true
   },
   "outputs": [
    {
     "data": {
      "text/html": [
       "<div>\n",
       "<style scoped>\n",
       "    .dataframe tbody tr th:only-of-type {\n",
       "        vertical-align: middle;\n",
       "    }\n",
       "\n",
       "    .dataframe tbody tr th {\n",
       "        vertical-align: top;\n",
       "    }\n",
       "\n",
       "    .dataframe thead th {\n",
       "        text-align: right;\n",
       "    }\n",
       "</style>\n",
       "<table border=\"1\" class=\"dataframe\">\n",
       "  <thead>\n",
       "    <tr style=\"text-align: right;\">\n",
       "      <th></th>\n",
       "      <th>ID</th>\n",
       "      <th>Year_Birth</th>\n",
       "      <th>Education</th>\n",
       "      <th>Marital_Status</th>\n",
       "      <th>Income</th>\n",
       "      <th>Kidhome</th>\n",
       "      <th>Teenhome</th>\n",
       "      <th>Dt_Customer</th>\n",
       "      <th>Recency</th>\n",
       "      <th>MntWines</th>\n",
       "      <th>...</th>\n",
       "      <th>NumWebVisitsMonth</th>\n",
       "      <th>AcceptedCmp3</th>\n",
       "      <th>AcceptedCmp4</th>\n",
       "      <th>AcceptedCmp5</th>\n",
       "      <th>AcceptedCmp1</th>\n",
       "      <th>AcceptedCmp2</th>\n",
       "      <th>Complain</th>\n",
       "      <th>Z_CostContact</th>\n",
       "      <th>Z_Revenue</th>\n",
       "      <th>Response</th>\n",
       "    </tr>\n",
       "  </thead>\n",
       "  <tbody>\n",
       "    <tr>\n",
       "      <th>ID</th>\n",
       "      <td>1.000000</td>\n",
       "      <td>0.000028</td>\n",
       "      <td>-0.021126</td>\n",
       "      <td>-0.012603</td>\n",
       "      <td>0.013095</td>\n",
       "      <td>0.002406</td>\n",
       "      <td>-0.002580</td>\n",
       "      <td>0.004535</td>\n",
       "      <td>-0.046524</td>\n",
       "      <td>-0.022878</td>\n",
       "      <td>...</td>\n",
       "      <td>-0.007446</td>\n",
       "      <td>-0.036040</td>\n",
       "      <td>-0.025387</td>\n",
       "      <td>-0.007517</td>\n",
       "      <td>-0.021614</td>\n",
       "      <td>-0.015061</td>\n",
       "      <td>0.033883</td>\n",
       "      <td>NaN</td>\n",
       "      <td>NaN</td>\n",
       "      <td>-0.021968</td>\n",
       "    </tr>\n",
       "    <tr>\n",
       "      <th>Year_Birth</th>\n",
       "      <td>0.000028</td>\n",
       "      <td>1.000000</td>\n",
       "      <td>0.035502</td>\n",
       "      <td>-0.090934</td>\n",
       "      <td>-0.161791</td>\n",
       "      <td>0.230176</td>\n",
       "      <td>-0.352111</td>\n",
       "      <td>-0.028032</td>\n",
       "      <td>-0.019871</td>\n",
       "      <td>-0.157773</td>\n",
       "      <td>...</td>\n",
       "      <td>0.121139</td>\n",
       "      <td>0.061774</td>\n",
       "      <td>-0.060510</td>\n",
       "      <td>0.007123</td>\n",
       "      <td>-0.005930</td>\n",
       "      <td>-0.006539</td>\n",
       "      <td>-0.030128</td>\n",
       "      <td>NaN</td>\n",
       "      <td>NaN</td>\n",
       "      <td>0.021325</td>\n",
       "    </tr>\n",
       "    <tr>\n",
       "      <th>Education</th>\n",
       "      <td>-0.021126</td>\n",
       "      <td>0.035502</td>\n",
       "      <td>1.000000</td>\n",
       "      <td>-0.015168</td>\n",
       "      <td>-0.117535</td>\n",
       "      <td>0.034961</td>\n",
       "      <td>-0.060603</td>\n",
       "      <td>-0.030495</td>\n",
       "      <td>-0.027619</td>\n",
       "      <td>-0.069143</td>\n",
       "      <td>...</td>\n",
       "      <td>0.047714</td>\n",
       "      <td>0.011963</td>\n",
       "      <td>-0.024276</td>\n",
       "      <td>-0.037413</td>\n",
       "      <td>-0.038975</td>\n",
       "      <td>-0.026042</td>\n",
       "      <td>-0.009267</td>\n",
       "      <td>NaN</td>\n",
       "      <td>NaN</td>\n",
       "      <td>-0.018925</td>\n",
       "    </tr>\n",
       "    <tr>\n",
       "      <th>Marital_Status</th>\n",
       "      <td>-0.012603</td>\n",
       "      <td>-0.090934</td>\n",
       "      <td>-0.015168</td>\n",
       "      <td>1.000000</td>\n",
       "      <td>0.014856</td>\n",
       "      <td>-0.043667</td>\n",
       "      <td>0.016457</td>\n",
       "      <td>-0.004424</td>\n",
       "      <td>0.005407</td>\n",
       "      <td>0.022783</td>\n",
       "      <td>...</td>\n",
       "      <td>-0.006438</td>\n",
       "      <td>0.009997</td>\n",
       "      <td>0.016341</td>\n",
       "      <td>-0.013530</td>\n",
       "      <td>-0.022480</td>\n",
       "      <td>0.021886</td>\n",
       "      <td>-0.004492</td>\n",
       "      <td>NaN</td>\n",
       "      <td>NaN</td>\n",
       "      <td>0.130329</td>\n",
       "    </tr>\n",
       "    <tr>\n",
       "      <th>Income</th>\n",
       "      <td>0.013095</td>\n",
       "      <td>-0.161791</td>\n",
       "      <td>-0.117535</td>\n",
       "      <td>0.014856</td>\n",
       "      <td>1.000000</td>\n",
       "      <td>-0.428669</td>\n",
       "      <td>0.019133</td>\n",
       "      <td>0.016712</td>\n",
       "      <td>-0.003970</td>\n",
       "      <td>0.578650</td>\n",
       "      <td>...</td>\n",
       "      <td>-0.553088</td>\n",
       "      <td>-0.016174</td>\n",
       "      <td>0.184400</td>\n",
       "      <td>0.335943</td>\n",
       "      <td>0.276820</td>\n",
       "      <td>0.087545</td>\n",
       "      <td>-0.027225</td>\n",
       "      <td>NaN</td>\n",
       "      <td>NaN</td>\n",
       "      <td>0.133047</td>\n",
       "    </tr>\n",
       "    <tr>\n",
       "      <th>Kidhome</th>\n",
       "      <td>0.002406</td>\n",
       "      <td>0.230176</td>\n",
       "      <td>0.034961</td>\n",
       "      <td>-0.043667</td>\n",
       "      <td>-0.428669</td>\n",
       "      <td>1.000000</td>\n",
       "      <td>-0.036133</td>\n",
       "      <td>0.055907</td>\n",
       "      <td>0.008827</td>\n",
       "      <td>-0.496297</td>\n",
       "      <td>...</td>\n",
       "      <td>0.447846</td>\n",
       "      <td>0.014674</td>\n",
       "      <td>-0.161600</td>\n",
       "      <td>-0.205634</td>\n",
       "      <td>-0.172339</td>\n",
       "      <td>-0.081716</td>\n",
       "      <td>0.040207</td>\n",
       "      <td>NaN</td>\n",
       "      <td>NaN</td>\n",
       "      <td>-0.080008</td>\n",
       "    </tr>\n",
       "    <tr>\n",
       "      <th>Teenhome</th>\n",
       "      <td>-0.002580</td>\n",
       "      <td>-0.352111</td>\n",
       "      <td>-0.060603</td>\n",
       "      <td>0.016457</td>\n",
       "      <td>0.019133</td>\n",
       "      <td>-0.036133</td>\n",
       "      <td>1.000000</td>\n",
       "      <td>-0.007130</td>\n",
       "      <td>0.016198</td>\n",
       "      <td>0.004846</td>\n",
       "      <td>...</td>\n",
       "      <td>0.134884</td>\n",
       "      <td>-0.042677</td>\n",
       "      <td>0.038886</td>\n",
       "      <td>-0.191050</td>\n",
       "      <td>-0.140090</td>\n",
       "      <td>-0.015605</td>\n",
       "      <td>0.003138</td>\n",
       "      <td>NaN</td>\n",
       "      <td>NaN</td>\n",
       "      <td>-0.154446</td>\n",
       "    </tr>\n",
       "    <tr>\n",
       "      <th>Dt_Customer</th>\n",
       "      <td>0.004535</td>\n",
       "      <td>-0.028032</td>\n",
       "      <td>-0.030495</td>\n",
       "      <td>-0.004424</td>\n",
       "      <td>0.016712</td>\n",
       "      <td>0.055907</td>\n",
       "      <td>-0.007130</td>\n",
       "      <td>1.000000</td>\n",
       "      <td>-0.030165</td>\n",
       "      <td>-0.147455</td>\n",
       "      <td>...</td>\n",
       "      <td>-0.251824</td>\n",
       "      <td>0.006700</td>\n",
       "      <td>-0.016015</td>\n",
       "      <td>0.024458</td>\n",
       "      <td>0.035947</td>\n",
       "      <td>-0.006050</td>\n",
       "      <td>-0.038988</td>\n",
       "      <td>NaN</td>\n",
       "      <td>NaN</td>\n",
       "      <td>-0.174061</td>\n",
       "    </tr>\n",
       "    <tr>\n",
       "      <th>Recency</th>\n",
       "      <td>-0.046524</td>\n",
       "      <td>-0.019871</td>\n",
       "      <td>-0.027619</td>\n",
       "      <td>0.005407</td>\n",
       "      <td>-0.003970</td>\n",
       "      <td>0.008827</td>\n",
       "      <td>0.016198</td>\n",
       "      <td>-0.030165</td>\n",
       "      <td>1.000000</td>\n",
       "      <td>0.016064</td>\n",
       "      <td>...</td>\n",
       "      <td>-0.021445</td>\n",
       "      <td>-0.032991</td>\n",
       "      <td>0.018826</td>\n",
       "      <td>0.000129</td>\n",
       "      <td>-0.019283</td>\n",
       "      <td>-0.001781</td>\n",
       "      <td>0.013231</td>\n",
       "      <td>NaN</td>\n",
       "      <td>NaN</td>\n",
       "      <td>-0.198437</td>\n",
       "    </tr>\n",
       "    <tr>\n",
       "      <th>MntWines</th>\n",
       "      <td>-0.022878</td>\n",
       "      <td>-0.157773</td>\n",
       "      <td>-0.069143</td>\n",
       "      <td>0.022783</td>\n",
       "      <td>0.578650</td>\n",
       "      <td>-0.496297</td>\n",
       "      <td>0.004846</td>\n",
       "      <td>-0.147455</td>\n",
       "      <td>0.016064</td>\n",
       "      <td>1.000000</td>\n",
       "      <td>...</td>\n",
       "      <td>-0.320653</td>\n",
       "      <td>0.062202</td>\n",
       "      <td>0.373286</td>\n",
       "      <td>0.472613</td>\n",
       "      <td>0.354133</td>\n",
       "      <td>0.205907</td>\n",
       "      <td>-0.039007</td>\n",
       "      <td>NaN</td>\n",
       "      <td>NaN</td>\n",
       "      <td>0.247254</td>\n",
       "    </tr>\n",
       "    <tr>\n",
       "      <th>MntFruits</th>\n",
       "      <td>0.004600</td>\n",
       "      <td>-0.017917</td>\n",
       "      <td>-0.082085</td>\n",
       "      <td>0.022796</td>\n",
       "      <td>0.430842</td>\n",
       "      <td>-0.372581</td>\n",
       "      <td>-0.176764</td>\n",
       "      <td>-0.059222</td>\n",
       "      <td>-0.004306</td>\n",
       "      <td>0.389637</td>\n",
       "      <td>...</td>\n",
       "      <td>-0.418383</td>\n",
       "      <td>0.014727</td>\n",
       "      <td>0.010152</td>\n",
       "      <td>0.215833</td>\n",
       "      <td>0.194748</td>\n",
       "      <td>-0.009773</td>\n",
       "      <td>-0.005166</td>\n",
       "      <td>NaN</td>\n",
       "      <td>NaN</td>\n",
       "      <td>0.125289</td>\n",
       "    </tr>\n",
       "    <tr>\n",
       "      <th>MntMeatProducts</th>\n",
       "      <td>-0.004437</td>\n",
       "      <td>-0.030872</td>\n",
       "      <td>-0.090716</td>\n",
       "      <td>0.012404</td>\n",
       "      <td>0.584633</td>\n",
       "      <td>-0.437129</td>\n",
       "      <td>-0.261160</td>\n",
       "      <td>-0.072946</td>\n",
       "      <td>0.023056</td>\n",
       "      <td>0.562667</td>\n",
       "      <td>...</td>\n",
       "      <td>-0.539470</td>\n",
       "      <td>0.018272</td>\n",
       "      <td>0.102912</td>\n",
       "      <td>0.373769</td>\n",
       "      <td>0.309761</td>\n",
       "      <td>0.043033</td>\n",
       "      <td>-0.023483</td>\n",
       "      <td>NaN</td>\n",
       "      <td>NaN</td>\n",
       "      <td>0.236335</td>\n",
       "    </tr>\n",
       "    <tr>\n",
       "      <th>MntFishProducts</th>\n",
       "      <td>-0.024475</td>\n",
       "      <td>-0.041625</td>\n",
       "      <td>-0.055916</td>\n",
       "      <td>0.025422</td>\n",
       "      <td>0.438871</td>\n",
       "      <td>-0.387644</td>\n",
       "      <td>-0.204187</td>\n",
       "      <td>-0.077190</td>\n",
       "      <td>0.001079</td>\n",
       "      <td>0.399753</td>\n",
       "      <td>...</td>\n",
       "      <td>-0.446003</td>\n",
       "      <td>0.000357</td>\n",
       "      <td>0.016843</td>\n",
       "      <td>0.199578</td>\n",
       "      <td>0.260762</td>\n",
       "      <td>0.002577</td>\n",
       "      <td>-0.020953</td>\n",
       "      <td>NaN</td>\n",
       "      <td>NaN</td>\n",
       "      <td>0.111331</td>\n",
       "    </tr>\n",
       "    <tr>\n",
       "      <th>MntSweetProducts</th>\n",
       "      <td>-0.007642</td>\n",
       "      <td>-0.018133</td>\n",
       "      <td>-0.063445</td>\n",
       "      <td>0.024021</td>\n",
       "      <td>0.440744</td>\n",
       "      <td>-0.370673</td>\n",
       "      <td>-0.162475</td>\n",
       "      <td>-0.076586</td>\n",
       "      <td>0.022670</td>\n",
       "      <td>0.386581</td>\n",
       "      <td>...</td>\n",
       "      <td>-0.423294</td>\n",
       "      <td>0.001530</td>\n",
       "      <td>0.028641</td>\n",
       "      <td>0.259590</td>\n",
       "      <td>0.241818</td>\n",
       "      <td>0.009985</td>\n",
       "      <td>-0.022485</td>\n",
       "      <td>NaN</td>\n",
       "      <td>NaN</td>\n",
       "      <td>0.117372</td>\n",
       "    </tr>\n",
       "    <tr>\n",
       "      <th>MntGoldProds</th>\n",
       "      <td>-0.013438</td>\n",
       "      <td>-0.061818</td>\n",
       "      <td>-0.088396</td>\n",
       "      <td>0.034947</td>\n",
       "      <td>0.325916</td>\n",
       "      <td>-0.349595</td>\n",
       "      <td>-0.021725</td>\n",
       "      <td>-0.144089</td>\n",
       "      <td>0.016693</td>\n",
       "      <td>0.387516</td>\n",
       "      <td>...</td>\n",
       "      <td>-0.250719</td>\n",
       "      <td>0.123091</td>\n",
       "      <td>0.022268</td>\n",
       "      <td>0.181021</td>\n",
       "      <td>0.166396</td>\n",
       "      <td>0.049990</td>\n",
       "      <td>-0.030861</td>\n",
       "      <td>NaN</td>\n",
       "      <td>NaN</td>\n",
       "      <td>0.139850</td>\n",
       "    </tr>\n",
       "    <tr>\n",
       "      <th>NumDealsPurchases</th>\n",
       "      <td>-0.037166</td>\n",
       "      <td>-0.060846</td>\n",
       "      <td>-0.012983</td>\n",
       "      <td>-0.010825</td>\n",
       "      <td>-0.083101</td>\n",
       "      <td>0.221798</td>\n",
       "      <td>0.387741</td>\n",
       "      <td>-0.200560</td>\n",
       "      <td>-0.001098</td>\n",
       "      <td>0.010940</td>\n",
       "      <td>...</td>\n",
       "      <td>0.347633</td>\n",
       "      <td>-0.023109</td>\n",
       "      <td>0.015594</td>\n",
       "      <td>-0.183248</td>\n",
       "      <td>-0.123244</td>\n",
       "      <td>-0.037695</td>\n",
       "      <td>0.000420</td>\n",
       "      <td>NaN</td>\n",
       "      <td>NaN</td>\n",
       "      <td>0.002238</td>\n",
       "    </tr>\n",
       "    <tr>\n",
       "      <th>NumWebPurchases</th>\n",
       "      <td>-0.018924</td>\n",
       "      <td>-0.145040</td>\n",
       "      <td>-0.081509</td>\n",
       "      <td>0.022803</td>\n",
       "      <td>0.387878</td>\n",
       "      <td>-0.361647</td>\n",
       "      <td>0.155500</td>\n",
       "      <td>-0.171415</td>\n",
       "      <td>-0.010726</td>\n",
       "      <td>0.542265</td>\n",
       "      <td>...</td>\n",
       "      <td>-0.055846</td>\n",
       "      <td>0.042176</td>\n",
       "      <td>0.155903</td>\n",
       "      <td>0.138684</td>\n",
       "      <td>0.155143</td>\n",
       "      <td>0.034188</td>\n",
       "      <td>-0.016310</td>\n",
       "      <td>NaN</td>\n",
       "      <td>NaN</td>\n",
       "      <td>0.148730</td>\n",
       "    </tr>\n",
       "    <tr>\n",
       "      <th>NumCatalogPurchases</th>\n",
       "      <td>-0.003440</td>\n",
       "      <td>-0.121275</td>\n",
       "      <td>-0.081995</td>\n",
       "      <td>0.015958</td>\n",
       "      <td>0.589162</td>\n",
       "      <td>-0.502237</td>\n",
       "      <td>-0.110769</td>\n",
       "      <td>-0.090771</td>\n",
       "      <td>0.025110</td>\n",
       "      <td>0.635226</td>\n",
       "      <td>...</td>\n",
       "      <td>-0.520364</td>\n",
       "      <td>0.104730</td>\n",
       "      <td>0.139247</td>\n",
       "      <td>0.322321</td>\n",
       "      <td>0.308097</td>\n",
       "      <td>0.099852</td>\n",
       "      <td>-0.020453</td>\n",
       "      <td>NaN</td>\n",
       "      <td>NaN</td>\n",
       "      <td>0.220810</td>\n",
       "    </tr>\n",
       "    <tr>\n",
       "      <th>NumStorePurchases</th>\n",
       "      <td>-0.014927</td>\n",
       "      <td>-0.128272</td>\n",
       "      <td>-0.073453</td>\n",
       "      <td>0.001668</td>\n",
       "      <td>0.529362</td>\n",
       "      <td>-0.499683</td>\n",
       "      <td>0.050695</td>\n",
       "      <td>-0.103614</td>\n",
       "      <td>0.000799</td>\n",
       "      <td>0.642100</td>\n",
       "      <td>...</td>\n",
       "      <td>-0.428473</td>\n",
       "      <td>-0.067577</td>\n",
       "      <td>0.179379</td>\n",
       "      <td>0.214790</td>\n",
       "      <td>0.183249</td>\n",
       "      <td>0.085189</td>\n",
       "      <td>-0.016524</td>\n",
       "      <td>NaN</td>\n",
       "      <td>NaN</td>\n",
       "      <td>0.039363</td>\n",
       "    </tr>\n",
       "    <tr>\n",
       "      <th>NumWebVisitsMonth</th>\n",
       "      <td>-0.007446</td>\n",
       "      <td>0.121139</td>\n",
       "      <td>0.047714</td>\n",
       "      <td>-0.006438</td>\n",
       "      <td>-0.553088</td>\n",
       "      <td>0.447846</td>\n",
       "      <td>0.134884</td>\n",
       "      <td>-0.251824</td>\n",
       "      <td>-0.021445</td>\n",
       "      <td>-0.320653</td>\n",
       "      <td>...</td>\n",
       "      <td>1.000000</td>\n",
       "      <td>0.061211</td>\n",
       "      <td>-0.032126</td>\n",
       "      <td>-0.278113</td>\n",
       "      <td>-0.192502</td>\n",
       "      <td>-0.007196</td>\n",
       "      <td>0.019769</td>\n",
       "      <td>NaN</td>\n",
       "      <td>NaN</td>\n",
       "      <td>-0.003987</td>\n",
       "    </tr>\n",
       "    <tr>\n",
       "      <th>AcceptedCmp3</th>\n",
       "      <td>-0.036040</td>\n",
       "      <td>0.061774</td>\n",
       "      <td>0.011963</td>\n",
       "      <td>0.009997</td>\n",
       "      <td>-0.016174</td>\n",
       "      <td>0.014674</td>\n",
       "      <td>-0.042677</td>\n",
       "      <td>0.006700</td>\n",
       "      <td>-0.032991</td>\n",
       "      <td>0.062202</td>\n",
       "      <td>...</td>\n",
       "      <td>0.061211</td>\n",
       "      <td>1.000000</td>\n",
       "      <td>-0.079512</td>\n",
       "      <td>0.080316</td>\n",
       "      <td>0.094751</td>\n",
       "      <td>0.072020</td>\n",
       "      <td>0.008415</td>\n",
       "      <td>NaN</td>\n",
       "      <td>NaN</td>\n",
       "      <td>0.254258</td>\n",
       "    </tr>\n",
       "    <tr>\n",
       "      <th>AcceptedCmp4</th>\n",
       "      <td>-0.025387</td>\n",
       "      <td>-0.060510</td>\n",
       "      <td>-0.024276</td>\n",
       "      <td>0.016341</td>\n",
       "      <td>0.184400</td>\n",
       "      <td>-0.161600</td>\n",
       "      <td>0.038886</td>\n",
       "      <td>-0.016015</td>\n",
       "      <td>0.018826</td>\n",
       "      <td>0.373286</td>\n",
       "      <td>...</td>\n",
       "      <td>-0.032126</td>\n",
       "      <td>-0.079512</td>\n",
       "      <td>1.000000</td>\n",
       "      <td>0.306526</td>\n",
       "      <td>0.251300</td>\n",
       "      <td>0.292210</td>\n",
       "      <td>-0.027611</td>\n",
       "      <td>NaN</td>\n",
       "      <td>NaN</td>\n",
       "      <td>0.177019</td>\n",
       "    </tr>\n",
       "    <tr>\n",
       "      <th>AcceptedCmp5</th>\n",
       "      <td>-0.007517</td>\n",
       "      <td>0.007123</td>\n",
       "      <td>-0.037413</td>\n",
       "      <td>-0.013530</td>\n",
       "      <td>0.335943</td>\n",
       "      <td>-0.205634</td>\n",
       "      <td>-0.191050</td>\n",
       "      <td>0.024458</td>\n",
       "      <td>0.000129</td>\n",
       "      <td>0.472613</td>\n",
       "      <td>...</td>\n",
       "      <td>-0.278113</td>\n",
       "      <td>0.080316</td>\n",
       "      <td>0.306526</td>\n",
       "      <td>1.000000</td>\n",
       "      <td>0.403078</td>\n",
       "      <td>0.221533</td>\n",
       "      <td>-0.009419</td>\n",
       "      <td>NaN</td>\n",
       "      <td>NaN</td>\n",
       "      <td>0.326634</td>\n",
       "    </tr>\n",
       "    <tr>\n",
       "      <th>AcceptedCmp1</th>\n",
       "      <td>-0.021614</td>\n",
       "      <td>-0.005930</td>\n",
       "      <td>-0.038975</td>\n",
       "      <td>-0.022480</td>\n",
       "      <td>0.276820</td>\n",
       "      <td>-0.172339</td>\n",
       "      <td>-0.140090</td>\n",
       "      <td>0.035947</td>\n",
       "      <td>-0.019283</td>\n",
       "      <td>0.354133</td>\n",
       "      <td>...</td>\n",
       "      <td>-0.192502</td>\n",
       "      <td>0.094751</td>\n",
       "      <td>0.251300</td>\n",
       "      <td>0.403078</td>\n",
       "      <td>1.000000</td>\n",
       "      <td>0.175315</td>\n",
       "      <td>-0.025499</td>\n",
       "      <td>NaN</td>\n",
       "      <td>NaN</td>\n",
       "      <td>0.293982</td>\n",
       "    </tr>\n",
       "    <tr>\n",
       "      <th>AcceptedCmp2</th>\n",
       "      <td>-0.015061</td>\n",
       "      <td>-0.006539</td>\n",
       "      <td>-0.026042</td>\n",
       "      <td>0.021886</td>\n",
       "      <td>0.087545</td>\n",
       "      <td>-0.081716</td>\n",
       "      <td>-0.015605</td>\n",
       "      <td>-0.006050</td>\n",
       "      <td>-0.001781</td>\n",
       "      <td>0.205907</td>\n",
       "      <td>...</td>\n",
       "      <td>-0.007196</td>\n",
       "      <td>0.072020</td>\n",
       "      <td>0.292210</td>\n",
       "      <td>0.221533</td>\n",
       "      <td>0.175315</td>\n",
       "      <td>1.000000</td>\n",
       "      <td>-0.011334</td>\n",
       "      <td>NaN</td>\n",
       "      <td>NaN</td>\n",
       "      <td>0.169293</td>\n",
       "    </tr>\n",
       "    <tr>\n",
       "      <th>Complain</th>\n",
       "      <td>0.033883</td>\n",
       "      <td>-0.030128</td>\n",
       "      <td>-0.009267</td>\n",
       "      <td>-0.004492</td>\n",
       "      <td>-0.027225</td>\n",
       "      <td>0.040207</td>\n",
       "      <td>0.003138</td>\n",
       "      <td>-0.038988</td>\n",
       "      <td>0.013231</td>\n",
       "      <td>-0.039007</td>\n",
       "      <td>...</td>\n",
       "      <td>0.019769</td>\n",
       "      <td>0.008415</td>\n",
       "      <td>-0.027611</td>\n",
       "      <td>-0.009419</td>\n",
       "      <td>-0.025499</td>\n",
       "      <td>-0.011334</td>\n",
       "      <td>1.000000</td>\n",
       "      <td>NaN</td>\n",
       "      <td>NaN</td>\n",
       "      <td>-0.001707</td>\n",
       "    </tr>\n",
       "    <tr>\n",
       "      <th>Z_CostContact</th>\n",
       "      <td>NaN</td>\n",
       "      <td>NaN</td>\n",
       "      <td>NaN</td>\n",
       "      <td>NaN</td>\n",
       "      <td>NaN</td>\n",
       "      <td>NaN</td>\n",
       "      <td>NaN</td>\n",
       "      <td>NaN</td>\n",
       "      <td>NaN</td>\n",
       "      <td>NaN</td>\n",
       "      <td>...</td>\n",
       "      <td>NaN</td>\n",
       "      <td>NaN</td>\n",
       "      <td>NaN</td>\n",
       "      <td>NaN</td>\n",
       "      <td>NaN</td>\n",
       "      <td>NaN</td>\n",
       "      <td>NaN</td>\n",
       "      <td>NaN</td>\n",
       "      <td>NaN</td>\n",
       "      <td>NaN</td>\n",
       "    </tr>\n",
       "    <tr>\n",
       "      <th>Z_Revenue</th>\n",
       "      <td>NaN</td>\n",
       "      <td>NaN</td>\n",
       "      <td>NaN</td>\n",
       "      <td>NaN</td>\n",
       "      <td>NaN</td>\n",
       "      <td>NaN</td>\n",
       "      <td>NaN</td>\n",
       "      <td>NaN</td>\n",
       "      <td>NaN</td>\n",
       "      <td>NaN</td>\n",
       "      <td>...</td>\n",
       "      <td>NaN</td>\n",
       "      <td>NaN</td>\n",
       "      <td>NaN</td>\n",
       "      <td>NaN</td>\n",
       "      <td>NaN</td>\n",
       "      <td>NaN</td>\n",
       "      <td>NaN</td>\n",
       "      <td>NaN</td>\n",
       "      <td>NaN</td>\n",
       "      <td>NaN</td>\n",
       "    </tr>\n",
       "    <tr>\n",
       "      <th>Response</th>\n",
       "      <td>-0.021968</td>\n",
       "      <td>0.021325</td>\n",
       "      <td>-0.018925</td>\n",
       "      <td>0.130329</td>\n",
       "      <td>0.133047</td>\n",
       "      <td>-0.080008</td>\n",
       "      <td>-0.154446</td>\n",
       "      <td>-0.174061</td>\n",
       "      <td>-0.198437</td>\n",
       "      <td>0.247254</td>\n",
       "      <td>...</td>\n",
       "      <td>-0.003987</td>\n",
       "      <td>0.254258</td>\n",
       "      <td>0.177019</td>\n",
       "      <td>0.326634</td>\n",
       "      <td>0.293982</td>\n",
       "      <td>0.169293</td>\n",
       "      <td>-0.001707</td>\n",
       "      <td>NaN</td>\n",
       "      <td>NaN</td>\n",
       "      <td>1.000000</td>\n",
       "    </tr>\n",
       "  </tbody>\n",
       "</table>\n",
       "<p>29 rows × 29 columns</p>\n",
       "</div>"
      ],
      "text/plain": [
       "                           ID  Year_Birth  Education  Marital_Status  \\\n",
       "ID                   1.000000    0.000028  -0.021126       -0.012603   \n",
       "Year_Birth           0.000028    1.000000   0.035502       -0.090934   \n",
       "Education           -0.021126    0.035502   1.000000       -0.015168   \n",
       "Marital_Status      -0.012603   -0.090934  -0.015168        1.000000   \n",
       "Income               0.013095   -0.161791  -0.117535        0.014856   \n",
       "Kidhome              0.002406    0.230176   0.034961       -0.043667   \n",
       "Teenhome            -0.002580   -0.352111  -0.060603        0.016457   \n",
       "Dt_Customer          0.004535   -0.028032  -0.030495       -0.004424   \n",
       "Recency             -0.046524   -0.019871  -0.027619        0.005407   \n",
       "MntWines            -0.022878   -0.157773  -0.069143        0.022783   \n",
       "MntFruits            0.004600   -0.017917  -0.082085        0.022796   \n",
       "MntMeatProducts     -0.004437   -0.030872  -0.090716        0.012404   \n",
       "MntFishProducts     -0.024475   -0.041625  -0.055916        0.025422   \n",
       "MntSweetProducts    -0.007642   -0.018133  -0.063445        0.024021   \n",
       "MntGoldProds        -0.013438   -0.061818  -0.088396        0.034947   \n",
       "NumDealsPurchases   -0.037166   -0.060846  -0.012983       -0.010825   \n",
       "NumWebPurchases     -0.018924   -0.145040  -0.081509        0.022803   \n",
       "NumCatalogPurchases -0.003440   -0.121275  -0.081995        0.015958   \n",
       "NumStorePurchases   -0.014927   -0.128272  -0.073453        0.001668   \n",
       "NumWebVisitsMonth   -0.007446    0.121139   0.047714       -0.006438   \n",
       "AcceptedCmp3        -0.036040    0.061774   0.011963        0.009997   \n",
       "AcceptedCmp4        -0.025387   -0.060510  -0.024276        0.016341   \n",
       "AcceptedCmp5        -0.007517    0.007123  -0.037413       -0.013530   \n",
       "AcceptedCmp1        -0.021614   -0.005930  -0.038975       -0.022480   \n",
       "AcceptedCmp2        -0.015061   -0.006539  -0.026042        0.021886   \n",
       "Complain             0.033883   -0.030128  -0.009267       -0.004492   \n",
       "Z_CostContact             NaN         NaN        NaN             NaN   \n",
       "Z_Revenue                 NaN         NaN        NaN             NaN   \n",
       "Response            -0.021968    0.021325  -0.018925        0.130329   \n",
       "\n",
       "                       Income   Kidhome  Teenhome  Dt_Customer   Recency  \\\n",
       "ID                   0.013095  0.002406 -0.002580     0.004535 -0.046524   \n",
       "Year_Birth          -0.161791  0.230176 -0.352111    -0.028032 -0.019871   \n",
       "Education           -0.117535  0.034961 -0.060603    -0.030495 -0.027619   \n",
       "Marital_Status       0.014856 -0.043667  0.016457    -0.004424  0.005407   \n",
       "Income               1.000000 -0.428669  0.019133     0.016712 -0.003970   \n",
       "Kidhome             -0.428669  1.000000 -0.036133     0.055907  0.008827   \n",
       "Teenhome             0.019133 -0.036133  1.000000    -0.007130  0.016198   \n",
       "Dt_Customer          0.016712  0.055907 -0.007130     1.000000 -0.030165   \n",
       "Recency             -0.003970  0.008827  0.016198    -0.030165  1.000000   \n",
       "MntWines             0.578650 -0.496297  0.004846    -0.147455  0.016064   \n",
       "MntFruits            0.430842 -0.372581 -0.176764    -0.059222 -0.004306   \n",
       "MntMeatProducts      0.584633 -0.437129 -0.261160    -0.072946  0.023056   \n",
       "MntFishProducts      0.438871 -0.387644 -0.204187    -0.077190  0.001079   \n",
       "MntSweetProducts     0.440744 -0.370673 -0.162475    -0.076586  0.022670   \n",
       "MntGoldProds         0.325916 -0.349595 -0.021725    -0.144089  0.016693   \n",
       "NumDealsPurchases   -0.083101  0.221798  0.387741    -0.200560 -0.001098   \n",
       "NumWebPurchases      0.387878 -0.361647  0.155500    -0.171415 -0.010726   \n",
       "NumCatalogPurchases  0.589162 -0.502237 -0.110769    -0.090771  0.025110   \n",
       "NumStorePurchases    0.529362 -0.499683  0.050695    -0.103614  0.000799   \n",
       "NumWebVisitsMonth   -0.553088  0.447846  0.134884    -0.251824 -0.021445   \n",
       "AcceptedCmp3        -0.016174  0.014674 -0.042677     0.006700 -0.032991   \n",
       "AcceptedCmp4         0.184400 -0.161600  0.038886    -0.016015  0.018826   \n",
       "AcceptedCmp5         0.335943 -0.205634 -0.191050     0.024458  0.000129   \n",
       "AcceptedCmp1         0.276820 -0.172339 -0.140090     0.035947 -0.019283   \n",
       "AcceptedCmp2         0.087545 -0.081716 -0.015605    -0.006050 -0.001781   \n",
       "Complain            -0.027225  0.040207  0.003138    -0.038988  0.013231   \n",
       "Z_CostContact             NaN       NaN       NaN          NaN       NaN   \n",
       "Z_Revenue                 NaN       NaN       NaN          NaN       NaN   \n",
       "Response             0.133047 -0.080008 -0.154446    -0.174061 -0.198437   \n",
       "\n",
       "                     MntWines  ...  NumWebVisitsMonth  AcceptedCmp3  \\\n",
       "ID                  -0.022878  ...          -0.007446     -0.036040   \n",
       "Year_Birth          -0.157773  ...           0.121139      0.061774   \n",
       "Education           -0.069143  ...           0.047714      0.011963   \n",
       "Marital_Status       0.022783  ...          -0.006438      0.009997   \n",
       "Income               0.578650  ...          -0.553088     -0.016174   \n",
       "Kidhome             -0.496297  ...           0.447846      0.014674   \n",
       "Teenhome             0.004846  ...           0.134884     -0.042677   \n",
       "Dt_Customer         -0.147455  ...          -0.251824      0.006700   \n",
       "Recency              0.016064  ...          -0.021445     -0.032991   \n",
       "MntWines             1.000000  ...          -0.320653      0.062202   \n",
       "MntFruits            0.389637  ...          -0.418383      0.014727   \n",
       "MntMeatProducts      0.562667  ...          -0.539470      0.018272   \n",
       "MntFishProducts      0.399753  ...          -0.446003      0.000357   \n",
       "MntSweetProducts     0.386581  ...          -0.423294      0.001530   \n",
       "MntGoldProds         0.387516  ...          -0.250719      0.123091   \n",
       "NumDealsPurchases    0.010940  ...           0.347633     -0.023109   \n",
       "NumWebPurchases      0.542265  ...          -0.055846      0.042176   \n",
       "NumCatalogPurchases  0.635226  ...          -0.520364      0.104730   \n",
       "NumStorePurchases    0.642100  ...          -0.428473     -0.067577   \n",
       "NumWebVisitsMonth   -0.320653  ...           1.000000      0.061211   \n",
       "AcceptedCmp3         0.062202  ...           0.061211      1.000000   \n",
       "AcceptedCmp4         0.373286  ...          -0.032126     -0.079512   \n",
       "AcceptedCmp5         0.472613  ...          -0.278113      0.080316   \n",
       "AcceptedCmp1         0.354133  ...          -0.192502      0.094751   \n",
       "AcceptedCmp2         0.205907  ...          -0.007196      0.072020   \n",
       "Complain            -0.039007  ...           0.019769      0.008415   \n",
       "Z_CostContact             NaN  ...                NaN           NaN   \n",
       "Z_Revenue                 NaN  ...                NaN           NaN   \n",
       "Response             0.247254  ...          -0.003987      0.254258   \n",
       "\n",
       "                     AcceptedCmp4  AcceptedCmp5  AcceptedCmp1  AcceptedCmp2  \\\n",
       "ID                      -0.025387     -0.007517     -0.021614     -0.015061   \n",
       "Year_Birth              -0.060510      0.007123     -0.005930     -0.006539   \n",
       "Education               -0.024276     -0.037413     -0.038975     -0.026042   \n",
       "Marital_Status           0.016341     -0.013530     -0.022480      0.021886   \n",
       "Income                   0.184400      0.335943      0.276820      0.087545   \n",
       "Kidhome                 -0.161600     -0.205634     -0.172339     -0.081716   \n",
       "Teenhome                 0.038886     -0.191050     -0.140090     -0.015605   \n",
       "Dt_Customer             -0.016015      0.024458      0.035947     -0.006050   \n",
       "Recency                  0.018826      0.000129     -0.019283     -0.001781   \n",
       "MntWines                 0.373286      0.472613      0.354133      0.205907   \n",
       "MntFruits                0.010152      0.215833      0.194748     -0.009773   \n",
       "MntMeatProducts          0.102912      0.373769      0.309761      0.043033   \n",
       "MntFishProducts          0.016843      0.199578      0.260762      0.002577   \n",
       "MntSweetProducts         0.028641      0.259590      0.241818      0.009985   \n",
       "MntGoldProds             0.022268      0.181021      0.166396      0.049990   \n",
       "NumDealsPurchases        0.015594     -0.183248     -0.123244     -0.037695   \n",
       "NumWebPurchases          0.155903      0.138684      0.155143      0.034188   \n",
       "NumCatalogPurchases      0.139247      0.322321      0.308097      0.099852   \n",
       "NumStorePurchases        0.179379      0.214790      0.183249      0.085189   \n",
       "NumWebVisitsMonth       -0.032126     -0.278113     -0.192502     -0.007196   \n",
       "AcceptedCmp3            -0.079512      0.080316      0.094751      0.072020   \n",
       "AcceptedCmp4             1.000000      0.306526      0.251300      0.292210   \n",
       "AcceptedCmp5             0.306526      1.000000      0.403078      0.221533   \n",
       "AcceptedCmp1             0.251300      0.403078      1.000000      0.175315   \n",
       "AcceptedCmp2             0.292210      0.221533      0.175315      1.000000   \n",
       "Complain                -0.027611     -0.009419     -0.025499     -0.011334   \n",
       "Z_CostContact                 NaN           NaN           NaN           NaN   \n",
       "Z_Revenue                     NaN           NaN           NaN           NaN   \n",
       "Response                 0.177019      0.326634      0.293982      0.169293   \n",
       "\n",
       "                     Complain  Z_CostContact  Z_Revenue  Response  \n",
       "ID                   0.033883            NaN        NaN -0.021968  \n",
       "Year_Birth          -0.030128            NaN        NaN  0.021325  \n",
       "Education           -0.009267            NaN        NaN -0.018925  \n",
       "Marital_Status      -0.004492            NaN        NaN  0.130329  \n",
       "Income              -0.027225            NaN        NaN  0.133047  \n",
       "Kidhome              0.040207            NaN        NaN -0.080008  \n",
       "Teenhome             0.003138            NaN        NaN -0.154446  \n",
       "Dt_Customer         -0.038988            NaN        NaN -0.174061  \n",
       "Recency              0.013231            NaN        NaN -0.198437  \n",
       "MntWines            -0.039007            NaN        NaN  0.247254  \n",
       "MntFruits           -0.005166            NaN        NaN  0.125289  \n",
       "MntMeatProducts     -0.023483            NaN        NaN  0.236335  \n",
       "MntFishProducts     -0.020953            NaN        NaN  0.111331  \n",
       "MntSweetProducts    -0.022485            NaN        NaN  0.117372  \n",
       "MntGoldProds        -0.030861            NaN        NaN  0.139850  \n",
       "NumDealsPurchases    0.000420            NaN        NaN  0.002238  \n",
       "NumWebPurchases     -0.016310            NaN        NaN  0.148730  \n",
       "NumCatalogPurchases -0.020453            NaN        NaN  0.220810  \n",
       "NumStorePurchases   -0.016524            NaN        NaN  0.039363  \n",
       "NumWebVisitsMonth    0.019769            NaN        NaN -0.003987  \n",
       "AcceptedCmp3         0.008415            NaN        NaN  0.254258  \n",
       "AcceptedCmp4        -0.027611            NaN        NaN  0.177019  \n",
       "AcceptedCmp5        -0.009419            NaN        NaN  0.326634  \n",
       "AcceptedCmp1        -0.025499            NaN        NaN  0.293982  \n",
       "AcceptedCmp2        -0.011334            NaN        NaN  0.169293  \n",
       "Complain             1.000000            NaN        NaN -0.001707  \n",
       "Z_CostContact             NaN            NaN        NaN       NaN  \n",
       "Z_Revenue                 NaN            NaN        NaN       NaN  \n",
       "Response            -0.001707            NaN        NaN  1.000000  \n",
       "\n",
       "[29 rows x 29 columns]"
      ]
     },
     "execution_count": 67,
     "metadata": {},
     "output_type": "execute_result"
    }
   ],
   "source": [
    "df.corr()"
   ]
  },
  {
   "cell_type": "code",
   "execution_count": 71,
   "metadata": {},
   "outputs": [],
   "source": [
    "#Delete columns useless.\n",
    "# df.drop(['Z_CostContact', 'Z_Revenue'], axis = 1)\n",
    "df_corr = df.corr()"
   ]
  },
  {
   "cell_type": "markdown",
   "metadata": {
    "id": "F-bfFdRREJsv"
   },
   "source": [
    "# Multidimensional relationships"
   ]
  },
  {
   "cell_type": "markdown",
   "metadata": {
    "id": "H-38bLKhEhu2"
   },
   "source": [
    "Multidimensional analysis allows analysts to drill down into the data and view it from different angles, helping them to identify patterns, relationships, and trends that might not be immediately apparent in a traditional two-dimensional table or chart.\n",
    "\n",
    "The first step is a feature-feature analysis. <br>**The simplest way to analyze the feature-feature relationships is to compute the correlation coefficient and display the result with a heatmap.**\n",
    "\n",
    "Features that are highly correlated (positively or negatively) are generally not useful. <br>**You generally want features that are completely uncorrelated.**\n",
    "\n",
    "Heatmaps can be drawn with the Seaborn library: [Documentation](https://seaborn.pydata.org/generated/seaborn.heatmap.html)\n",
    "\n",
    "**<font color='blue'>1. Compute the correlation coefficient between all the features. <br>Show a heatmap.**\n",
    "\n",
    "*Tips: Don't forget to convert the categorical features into numbers.*"
   ]
  },
  {
   "cell_type": "code",
   "execution_count": 72,
   "metadata": {
    "id": "EFBDcapSb3mX"
   },
   "outputs": [
    {
     "data": {
      "text/plain": [
       "<AxesSubplot:>"
      ]
     },
     "execution_count": 72,
     "metadata": {},
     "output_type": "execute_result"
    },
    {
     "data": {
      "image/png": "[encoded data removed]",
      "text/plain": [
       "<Figure size 720x720 with 2 Axes>"
      ]
     },
     "metadata": {
      "needs_background": "light"
     },
     "output_type": "display_data"
    }
   ],
   "source": [
    "plt.figure(figsize = (10,10))\n",
    "sns.heatmap(df_corr)"
   ]
  },
  {
   "cell_type": "markdown",
   "metadata": {
    "id": "yjYmGjxJHSTU"
   },
   "source": [
    "**<font color='blue'>2.a. Show the scatter plot between the MntWines and the Income features.**"
   ]
  },
  {
   "cell_type": "code",
   "execution_count": 50,
   "metadata": {
    "id": "fvbSgHMfb3-d",
    "scrolled": true
   },
   "outputs": [
    {
     "data": {
      "text/plain": [
       "<matplotlib.collections.PathCollection at 0x7fee90cf61f0>"
      ]
     },
     "execution_count": 50,
     "metadata": {},
     "output_type": "execute_result"
    },
    {
     "data": {
      "image/png": "[encoded data removed]",
      "text/plain": [
       "<Figure size 432x288 with 1 Axes>"
      ]
     },
     "metadata": {
      "needs_background": "light"
     },
     "output_type": "display_data"
    }
   ],
   "source": [
    "plt.scatter(df['MntWines'], df['Income'])"
   ]
  },
  {
   "cell_type": "markdown",
   "metadata": {
    "id": "RTo3J1VHIBBX"
   },
   "source": [
    "**<font color='blue'>2.b. Limit the y-axis to 200000 to remove the effect of the outlier**\n",
    "\n",
    "*Tips: you can use the `plt.ylim()` function [Documentation](https://matplotlib.org/stable/api/_as_gen/matplotlib.pyplot.ylim.html)*"
   ]
  },
  {
   "cell_type": "code",
   "execution_count": 52,
   "metadata": {
    "id": "_u-yLbLpb4Xr"
   },
   "outputs": [
    {
     "data": {
      "text/plain": [
       "<matplotlib.collections.PathCollection at 0x7fef000c7940>"
      ]
     },
     "execution_count": 52,
     "metadata": {},
     "output_type": "execute_result"
    },
    {
     "data": {
      "image/png": "[encoded data removed]",
      "text/plain": [
       "<Figure size 432x288 with 1 Axes>"
      ]
     },
     "metadata": {
      "needs_background": "light"
     },
     "output_type": "display_data"
    }
   ],
   "source": [
    "plt.ylim(0, 200000)\n",
    "plt.scatter(df['MntWines'], df['Income'])"
   ]
  },
  {
   "cell_type": "markdown",
   "metadata": {
    "id": "7T0y_cehIP_k"
   },
   "source": [
    "**<font color='blue'>2.c. Color the dots in the scatter plots using the Reponse categories.**\n",
    "\n",
    "*Tips: The Response=0 dots should be in a different color than the Response=1 dots. you can use the c parameter of the .plot.scatter() function.*<br>"
   ]
  },
  {
   "cell_type": "code",
   "execution_count": 53,
   "metadata": {
    "id": "8XHdoMz2b4y_"
   },
   "outputs": [
    {
     "data": {
      "text/plain": [
       "<matplotlib.collections.PathCollection at 0x7feed0342fd0>"
      ]
     },
     "execution_count": 53,
     "metadata": {},
     "output_type": "execute_result"
    },
    {
     "data": {
      "image/png": "[encoded data removed]",
      "text/plain": [
       "<Figure size 432x288 with 1 Axes>"
      ]
     },
     "metadata": {
      "needs_background": "light"
     },
     "output_type": "display_data"
    }
   ],
   "source": [
    "plt.ylim(0, 200000)\n",
    "plt.scatter(df['MntWines'], df['Income'], c = df['Response'])"
   ]
  },
  {
   "cell_type": "markdown",
   "metadata": {
    "id": "pEJNGcMjNnNl"
   },
   "source": [
    "Pandas plotting functions, built on top of the Matplotlib library, provide a quick and easy way to generate simple plots, such as line, bar, and scatter plots, directly from a DataFrame or Series. These functions can be useful for quick exploratory data analysis or for generating basic visualizations for simple datasets. However, **Pandas plotting functions can be limited in their flexibility and customization options**, and they may not always produce the most aesthetically pleasing or informative plots.\n",
    "\n",
    "On the other hand, Seaborn is a Python library that provides a higher-level interface for data visualization than Pandas. It is built on top of Matplotlib and offers a wide range of customizable, high-level visualizations, including heatmaps, violin plots, and faceted plots. **Seaborn's plots are often more visually appealing and informative than those generated by Pandas, and it provides advanced features such as built-in color palettes and statistical analysis capabilities**.\n",
    "\n",
    "In summary:\n",
    "\n",
    "*  **Use Pandas for generating quick and simple plots** \n",
    "*  **Use Seaborn for generating advanced plots**\n",
    "\n",
    "In this case, I suggest you to use Seaborn for the scatter plot [Documentation](https://seaborn.pydata.org/generated/seaborn.scatterplot.html).\n",
    "\n",
    "**<font color='blue'>2.d. Add the NumCatalogPurchases to the previous scatter plot by modifying the size of the dots.**\n",
    "\n",
    "*Tips: The higher is the NumCatalogPurchases feature, the bigger is the dot.*"
   ]
  },
  {
   "cell_type": "code",
   "execution_count": 45,
   "metadata": {
    "id": "AzC-gGItb5cq"
   },
   "outputs": [
    {
     "data": {
      "text/plain": [
       "<AxesSubplot:xlabel='MntWines', ylabel='Income'>"
      ]
     },
     "execution_count": 45,
     "metadata": {},
     "output_type": "execute_result"
    },
    {
     "data": {
      "image/png": "[encoded data removed]",
      "text/plain": [
       "<Figure size 432x288 with 1 Axes>"
      ]
     },
     "metadata": {
      "needs_background": "light"
     },
     "output_type": "display_data"
    }
   ],
   "source": [
    "plt.ylim((0,200000))\n",
    "sns.scatterplot(data = df, x = 'MntWines', y = 'Income', hue = 'Response', size = 'NumCatalogPurchases')"
   ]
  },
  {
   "cell_type": "markdown",
   "metadata": {
    "id": "h_nnXvZkLxMD"
   },
   "source": [
    "**<font color='blue'>3.a. Compute the means of the NumCatalogPurchases feature based on the Kidhome feature.<br>Comment the result.**\n",
    "\n",
    "*Tips: There are three values for Kidhome, thus you should compute one average for each of these values.<br>You can use `groupby()` [Documentation](https://pandas.pydata.org/docs/reference/api/pandas.DataFrame.groupby.html).*"
   ]
  },
  {
   "cell_type": "code",
   "execution_count": 46,
   "metadata": {
    "id": "bJUdlrGbb5-e",
    "scrolled": true
   },
   "outputs": [
    {
     "data": {
      "text/plain": [
       "Kidhome\n",
       "0    3.958237\n",
       "1    0.902113\n",
       "2    0.708333\n",
       "Name: NumCatalogPurchases, dtype: float64"
      ]
     },
     "execution_count": 46,
     "metadata": {},
     "output_type": "execute_result"
    }
   ],
   "source": [
    "df['NumCatalogPurchases'].groupby(df['Kidhome']).mean()"
   ]
  },
  {
   "cell_type": "markdown",
   "metadata": {
    "id": "Hx9PhxiuMj1Q"
   },
   "source": [
    "**<font color='blue'>3.b. Do the same but separate the Response=0 and Response=1 cases.<br>Are they different ? Comment.**"
   ]
  },
  {
   "cell_type": "code",
   "execution_count": 80,
   "metadata": {
    "id": "ov4HoXnQb6oQ"
   },
   "outputs": [
    {
     "name": "stdout",
     "output_type": "stream",
     "text": [
      "When Response = 0:\n",
      "Kidhome\n",
      "0    3.619048\n",
      "1    0.826362\n",
      "2    0.673913\n",
      "Name: NumCatalogPurchases, dtype: float64, \n",
      "when Response = 1:\n",
      "Kidhome\n",
      "0    5.594595\n",
      "1    1.445455\n",
      "2    1.500000\n",
      "Name: NumCatalogPurchases, dtype: float64\n"
     ]
    }
   ],
   "source": [
    "NP_K_R0 = df['NumCatalogPurchases'][df['Response'] == 0].groupby(df['Kidhome']).mean()\n",
    "NP_K_R1 =df['NumCatalogPurchases'][df['Response'] == 1].groupby(df['Kidhome']).mean()\n",
    "print('When Response = 0:\\n{0}, \\nwhen Response = 1:\\n{1}'.format(NP_K_R0, NP_K_R1))\n"
   ]
  },
  {
   "cell_type": "markdown",
   "metadata": {
    "id": "lSTDgKx4NSTL"
   },
   "source": [
    "**<font color='blue'>4. Using the `catplot()` function from seaborn, display the relationship between the marital_status, the Kidhome and the Response variables in a bar plot.**\n",
    "\n",
    "*Tips: The x, y, hue, col and kind parameters should be used inside of the catplot function.<br> The result should contain multiple bar plots.*"
   ]
  },
  {
   "cell_type": "code",
   "execution_count": 79,
   "metadata": {
    "id": "g-TsSi4kb7yb",
    "scrolled": true
   },
   "outputs": [
    {
     "data": {
      "text/plain": [
       "<seaborn.axisgrid.FacetGrid at 0x7f9c945b0c70>"
      ]
     },
     "execution_count": 79,
     "metadata": {},
     "output_type": "execute_result"
    },
    {
     "data": {
      "image/png": "[encoded data removed]",
      "text/plain": [
       "<Figure size 1135.75x360 with 3 Axes>"
      ]
     },
     "metadata": {
      "needs_background": "light"
     },
     "output_type": "display_data"
    }
   ],
   "source": [
    "sns.catplot(data = df, x = 'Marital_Status', col = 'Kidhome', hue = 'Response', kind = 'count')"
   ]
  }
 ],
 "metadata": {
  "colab": {
   "authorship_tag": "ABX9TyNTibQKtriHn2xyy405QvjV",
   "collapsed_sections": [
    "xFVgAqSMH9Ki",
    "_jOZMkupIXO9",
    "KyBZWBNjJGx6",
    "XoJdK1OROMUw",
    "F-bfFdRREJsv"
   ],
   "provenance": [
    {
     "file_id": "1SfyXGoHgEmZeAAKDDSZX-nox-BU3UClI",
     "timestamp": 1677191951629
    }
   ],
   "toc_visible": true
  },
  "kernelspec": {
   "display_name": "Python 3 (ipykernel)",
   "language": "python",
   "name": "python3"
  },
  "language_info": {
   "codemirror_mode": {
    "name": "ipython",
    "version": 3
   },
   "file_extension": ".py",
   "mimetype": "text/x-python",
   "name": "python",
   "nbconvert_exporter": "python",
   "pygments_lexer": "ipython3",
   "version": "3.8.13"
  }
 },
 "nbformat": 4,
 "nbformat_minor": 1
}
