{
 "cells": [
  {
   "cell_type": "markdown",
   "metadata": {
    "id": "311RbkGi8Z6i"
   },
   "source": [
    "***Pandas*** is a Python library that is used for data manipulation and analysis. It provides easy-to-use data structures and data analysis tools for working with structured data, such as tables or databases. \n",
    "\n",
    "***Pandas*** is built on top of ***NumPy***, another popular Python library for numerical computing, and it is often used in combination with other libraries for data analysis, such as ***Matplotlib***, ***Seaborn***, and ***Scikit-learn***.\n",
    "\n",
    "In order to work with Pandas, you need to import the library using the `import` statement."
   ]
  },
  {
   "cell_type": "code",
   "execution_count": 2,
   "metadata": {
    "id": "fh0DdOXo8G-t"
   },
   "outputs": [],
   "source": [
    "# the \"as pd\" is renaming the Pandas library into pd\n",
    "# it is much more convenient to use pd when calling the library\n",
    "import pandas as pd"
   ]
  },
  {
   "cell_type": "markdown",
   "metadata": {
    "id": "VUmi0AHl88_n"
   },
   "source": [
    "# Basics"
   ]
  },
  {
   "cell_type": "markdown",
   "metadata": {
    "id": "4MIc1YXgBdeg"
   },
   "source": [
    "## Lesson"
   ]
  },
  {
   "cell_type": "markdown",
   "metadata": {
    "id": "lQs6fyE89IOD"
   },
   "source": [
    "Pandas can create two data structure: \n",
    "\n",
    "*   the ***Series***\n",
    "*   the ***DataFrame***\n",
    "\n",
    "A Series is a one-dimensional array-like object that can hold any data type, such as integers, strings, or floating-point numbers. A DataFrame is a two-dimensional tabular data structure that can hold multiple Series objects, with rows and columns labeled for easy indexing and manipulation.\n",
    "\n",
    "<div>\n",
    "<img src=https://storage.googleapis.com/lds-media/images/series-and-dataframe.width-1200.png width=\"500\"/>\n",
    "</div>\n",
    "\n",
    "You would typically ***use a Pandas Series instead of a DataFrame when you are working with a one-dimensional array*** of data or a ***single column of a DataFrame***.\n",
    "\n",
    "You can create a Series using the ***`pd.Series()` function***.<br>"
   ]
  },
  {
   "cell_type": "code",
   "execution_count": 3,
   "metadata": {
    "colab": {
     "base_uri": "https://localhost:8080/"
    },
    "executionInfo": {
     "elapsed": 32,
     "status": "ok",
     "timestamp": 1677102979721,
     "user": {
      "displayName": "Antoine Palisson",
      "userId": "06334333839821267204"
     },
     "user_tz": -60
    },
    "id": "sq9QedXe88Zq",
    "outputId": "73b13c7c-1cb9-42ee-dc86-5704045bee2d"
   },
   "outputs": [
    {
     "data": {
      "text/plain": [
       "0    1\n",
       "1    2\n",
       "2    3\n",
       "3    4\n",
       "4    5\n",
       "dtype: int64"
      ]
     },
     "execution_count": 3,
     "metadata": {},
     "output_type": "execute_result"
    }
   ],
   "source": [
    "my_list = [1, 2, 3, 4, 5]\n",
    "\n",
    "my_series = pd.Series(data=my_list)\n",
    "my_series"
   ]
  },
  {
   "cell_type": "markdown",
   "metadata": {
    "id": "I8XY9xXOBA2V"
   },
   "source": [
    "It is possible to ***specify a name and a custom index*** to the Series."
   ]
  },
  {
   "cell_type": "code",
   "execution_count": 4,
   "metadata": {
    "colab": {
     "base_uri": "https://localhost:8080/"
    },
    "executionInfo": {
     "elapsed": 31,
     "status": "ok",
     "timestamp": 1677102979722,
     "user": {
      "displayName": "Antoine Palisson",
      "userId": "06334333839821267204"
     },
     "user_tz": -60
    },
    "id": "RF_CQ309AXn9",
    "outputId": "e6a524a4-6f91-4876-874c-433ffc8bb017"
   },
   "outputs": [
    {
     "data": {
      "text/plain": [
       "4    1\n",
       "5    2\n",
       "6    3\n",
       "7    4\n",
       "8    5\n",
       "Name: my_series name, dtype: int64"
      ]
     },
     "execution_count": 4,
     "metadata": {},
     "output_type": "execute_result"
    }
   ],
   "source": [
    "#Set addtional \"name\" for the Series and \"index\" for values.\n",
    "my_series = pd.Series(data=my_list,\n",
    "                      name='my_series name',\n",
    "                      index=[4,5,6,7,8])\n",
    "my_series"
   ]
  },
  {
   "cell_type": "markdown",
   "metadata": {
    "id": "Bzq62ljsBjYa"
   },
   "source": [
    "You can also create a Dataframe using the ***`pd.DataFrame()` function***.<br>\n",
    "The Dataframe accepts a lot of data including:\n",
    "\n",
    "*   Numpy array\n",
    "*   Lists and Tuples\n",
    "*   Dictionnaries "
   ]
  },
  {
   "cell_type": "code",
   "execution_count": 5,
   "metadata": {
    "colab": {
     "base_uri": "https://localhost:8080/"
    },
    "executionInfo": {
     "elapsed": 31,
     "status": "ok",
     "timestamp": 1677102979723,
     "user": {
      "displayName": "Antoine Palisson",
      "userId": "06334333839821267204"
     },
     "user_tz": -60
    },
    "id": "wzKHdeAhAaZL",
    "outputId": "31707f08-69d9-47b3-d192-4566c2036a5f"
   },
   "outputs": [
    {
     "data": {
      "text/html": [
       "<div>\n",
       "<style scoped>\n",
       "    .dataframe tbody tr th:only-of-type {\n",
       "        vertical-align: middle;\n",
       "    }\n",
       "\n",
       "    .dataframe tbody tr th {\n",
       "        vertical-align: top;\n",
       "    }\n",
       "\n",
       "    .dataframe thead th {\n",
       "        text-align: right;\n",
       "    }\n",
       "</style>\n",
       "<table border=\"1\" class=\"dataframe\">\n",
       "  <thead>\n",
       "    <tr style=\"text-align: right;\">\n",
       "      <th></th>\n",
       "      <th>0</th>\n",
       "    </tr>\n",
       "  </thead>\n",
       "  <tbody>\n",
       "    <tr>\n",
       "      <th>0</th>\n",
       "      <td>1</td>\n",
       "    </tr>\n",
       "    <tr>\n",
       "      <th>1</th>\n",
       "      <td>2</td>\n",
       "    </tr>\n",
       "    <tr>\n",
       "      <th>2</th>\n",
       "      <td>3</td>\n",
       "    </tr>\n",
       "    <tr>\n",
       "      <th>3</th>\n",
       "      <td>4</td>\n",
       "    </tr>\n",
       "    <tr>\n",
       "      <th>4</th>\n",
       "      <td>5</td>\n",
       "    </tr>\n",
       "  </tbody>\n",
       "</table>\n",
       "</div>"
      ],
      "text/plain": [
       "   0\n",
       "0  1\n",
       "1  2\n",
       "2  3\n",
       "3  4\n",
       "4  5"
      ]
     },
     "execution_count": 5,
     "metadata": {},
     "output_type": "execute_result"
    }
   ],
   "source": [
    "df = pd.DataFrame(data=my_list)\n",
    "df"
   ]
  },
  {
   "cell_type": "markdown",
   "metadata": {
    "id": "62g41YeRB8Z_"
   },
   "source": [
    "It is possible to ***specify column names and a custom index*** to the DataFrame.\n"
   ]
  },
  {
   "cell_type": "code",
   "execution_count": 6,
   "metadata": {
    "colab": {
     "base_uri": "https://localhost:8080/"
    },
    "executionInfo": {
     "elapsed": 30,
     "status": "ok",
     "timestamp": 1677102979723,
     "user": {
      "displayName": "Antoine Palisson",
      "userId": "06334333839821267204"
     },
     "user_tz": -60
    },
    "id": "YQQV1k1AB7Uf",
    "outputId": "c55f5d4f-a441-4d91-d2d6-d9ffe74d066d"
   },
   "outputs": [
    {
     "data": {
      "text/html": [
       "<div>\n",
       "<style scoped>\n",
       "    .dataframe tbody tr th:only-of-type {\n",
       "        vertical-align: middle;\n",
       "    }\n",
       "\n",
       "    .dataframe tbody tr th {\n",
       "        vertical-align: top;\n",
       "    }\n",
       "\n",
       "    .dataframe thead th {\n",
       "        text-align: right;\n",
       "    }\n",
       "</style>\n",
       "<table border=\"1\" class=\"dataframe\">\n",
       "  <thead>\n",
       "    <tr style=\"text-align: right;\">\n",
       "      <th></th>\n",
       "      <th>Col 1</th>\n",
       "    </tr>\n",
       "  </thead>\n",
       "  <tbody>\n",
       "    <tr>\n",
       "      <th>4</th>\n",
       "      <td>1</td>\n",
       "    </tr>\n",
       "    <tr>\n",
       "      <th>5</th>\n",
       "      <td>2</td>\n",
       "    </tr>\n",
       "    <tr>\n",
       "      <th>6</th>\n",
       "      <td>3</td>\n",
       "    </tr>\n",
       "    <tr>\n",
       "      <th>7</th>\n",
       "      <td>4</td>\n",
       "    </tr>\n",
       "    <tr>\n",
       "      <th>8</th>\n",
       "      <td>5</td>\n",
       "    </tr>\n",
       "  </tbody>\n",
       "</table>\n",
       "</div>"
      ],
      "text/plain": [
       "   Col 1\n",
       "4      1\n",
       "5      2\n",
       "6      3\n",
       "7      4\n",
       "8      5"
      ]
     },
     "execution_count": 6,
     "metadata": {},
     "output_type": "execute_result"
    }
   ],
   "source": [
    "# Columns = ['name1', 'name2'] for assigning names, index for assgining index for values\n",
    "df = pd.DataFrame(data=my_list,\n",
    "                  columns=['Col 1'],\n",
    "                  index=[4,5,6,7,8])\n",
    "df"
   ]
  },
  {
   "cell_type": "markdown",
   "metadata": {
    "id": "GmKtVDcZCy9x"
   },
   "source": [
    "You can ***create a dataframe with multiple columns***. <br>To do so you can use a dictionnary."
   ]
  },
  {
   "cell_type": "code",
   "execution_count": 7,
   "metadata": {
    "colab": {
     "base_uri": "https://localhost:8080/"
    },
    "executionInfo": {
     "elapsed": 32,
     "status": "ok",
     "timestamp": 1677102979725,
     "user": {
      "displayName": "Antoine Palisson",
      "userId": "06334333839821267204"
     },
     "user_tz": -60
    },
    "id": "oHYIYY8iDFSM",
    "outputId": "0bbd7924-30da-4d72-a219-d8a0c3d0d30a"
   },
   "outputs": [
    {
     "data": {
      "text/html": [
       "<div>\n",
       "<style scoped>\n",
       "    .dataframe tbody tr th:only-of-type {\n",
       "        vertical-align: middle;\n",
       "    }\n",
       "\n",
       "    .dataframe tbody tr th {\n",
       "        vertical-align: top;\n",
       "    }\n",
       "\n",
       "    .dataframe thead th {\n",
       "        text-align: right;\n",
       "    }\n",
       "</style>\n",
       "<table border=\"1\" class=\"dataframe\">\n",
       "  <thead>\n",
       "    <tr style=\"text-align: right;\">\n",
       "      <th></th>\n",
       "      <th>col 1</th>\n",
       "      <th>col 2</th>\n",
       "      <th>col 3</th>\n",
       "    </tr>\n",
       "  </thead>\n",
       "  <tbody>\n",
       "    <tr>\n",
       "      <th>0</th>\n",
       "      <td>a</td>\n",
       "      <td>0</td>\n",
       "      <td>0.0</td>\n",
       "    </tr>\n",
       "    <tr>\n",
       "      <th>1</th>\n",
       "      <td>b</td>\n",
       "      <td>1</td>\n",
       "      <td>0.1</td>\n",
       "    </tr>\n",
       "    <tr>\n",
       "      <th>2</th>\n",
       "      <td>c</td>\n",
       "      <td>2</td>\n",
       "      <td>0.2</td>\n",
       "    </tr>\n",
       "    <tr>\n",
       "      <th>3</th>\n",
       "      <td>d</td>\n",
       "      <td>3</td>\n",
       "      <td>0.3</td>\n",
       "    </tr>\n",
       "  </tbody>\n",
       "</table>\n",
       "</div>"
      ],
      "text/plain": [
       "  col 1  col 2  col 3\n",
       "0     a      0    0.0\n",
       "1     b      1    0.1\n",
       "2     c      2    0.2\n",
       "3     d      3    0.3"
      ]
     },
     "execution_count": 7,
     "metadata": {},
     "output_type": "execute_result"
    }
   ],
   "source": [
    "my_dict = {'col 1' : ['a', 'b', 'c', 'd'],\n",
    "           'col 2' : [0, 1, 2, 3],\n",
    "           'col 3' : [0.,0.1,0.2,0.3]}\n",
    "\n",
    "df = pd.DataFrame(data=my_dict)\n",
    "df"
   ]
  },
  {
   "cell_type": "markdown",
   "metadata": {
    "id": "8C0uluaODgqV"
   },
   "source": [
    "A Dataframe contains columns and rows.<br>\n",
    "It is possible to have a ***global view of the Dataframe content*** by using the following functions:\n",
    "\n",
    "\n",
    "*   `.head(n)` to see the top n rows\n",
    "*   `.tail(n)` to see the last n rows\n",
    "*   `.columns` to see the column names\n",
    "*   `.index` to see the index\n"
   ]
  },
  {
   "cell_type": "code",
   "execution_count": 8,
   "metadata": {
    "colab": {
     "base_uri": "https://localhost:8080/"
    },
    "executionInfo": {
     "elapsed": 30,
     "status": "ok",
     "timestamp": 1677102979725,
     "user": {
      "displayName": "Antoine Palisson",
      "userId": "06334333839821267204"
     },
     "user_tz": -60
    },
    "id": "pJmzefDkEee4",
    "outputId": "ce2941c1-f7aa-4e21-d978-84536a5f051a",
    "scrolled": true
   },
   "outputs": [
    {
     "data": {
      "text/html": [
       "<div>\n",
       "<style scoped>\n",
       "    .dataframe tbody tr th:only-of-type {\n",
       "        vertical-align: middle;\n",
       "    }\n",
       "\n",
       "    .dataframe tbody tr th {\n",
       "        vertical-align: top;\n",
       "    }\n",
       "\n",
       "    .dataframe thead th {\n",
       "        text-align: right;\n",
       "    }\n",
       "</style>\n",
       "<table border=\"1\" class=\"dataframe\">\n",
       "  <thead>\n",
       "    <tr style=\"text-align: right;\">\n",
       "      <th></th>\n",
       "      <th>col 1</th>\n",
       "      <th>col 2</th>\n",
       "      <th>col 3</th>\n",
       "    </tr>\n",
       "  </thead>\n",
       "  <tbody>\n",
       "    <tr>\n",
       "      <th>0</th>\n",
       "      <td>a</td>\n",
       "      <td>0</td>\n",
       "      <td>0.0</td>\n",
       "    </tr>\n",
       "    <tr>\n",
       "      <th>1</th>\n",
       "      <td>b</td>\n",
       "      <td>1</td>\n",
       "      <td>0.1</td>\n",
       "    </tr>\n",
       "  </tbody>\n",
       "</table>\n",
       "</div>"
      ],
      "text/plain": [
       "  col 1  col 2  col 3\n",
       "0     a      0    0.0\n",
       "1     b      1    0.1"
      ]
     },
     "execution_count": 8,
     "metadata": {},
     "output_type": "execute_result"
    }
   ],
   "source": [
    "df.head(2)"
   ]
  },
  {
   "cell_type": "code",
   "execution_count": 9,
   "metadata": {
    "colab": {
     "base_uri": "https://localhost:8080/"
    },
    "executionInfo": {
     "elapsed": 30,
     "status": "ok",
     "timestamp": 1677102979726,
     "user": {
      "displayName": "Antoine Palisson",
      "userId": "06334333839821267204"
     },
     "user_tz": -60
    },
    "id": "q1iaFWv6Euv-",
    "outputId": "f5fab158-d504-4fdf-9462-6a84cce09f00"
   },
   "outputs": [
    {
     "data": {
      "text/html": [
       "<div>\n",
       "<style scoped>\n",
       "    .dataframe tbody tr th:only-of-type {\n",
       "        vertical-align: middle;\n",
       "    }\n",
       "\n",
       "    .dataframe tbody tr th {\n",
       "        vertical-align: top;\n",
       "    }\n",
       "\n",
       "    .dataframe thead th {\n",
       "        text-align: right;\n",
       "    }\n",
       "</style>\n",
       "<table border=\"1\" class=\"dataframe\">\n",
       "  <thead>\n",
       "    <tr style=\"text-align: right;\">\n",
       "      <th></th>\n",
       "      <th>col 1</th>\n",
       "      <th>col 2</th>\n",
       "      <th>col 3</th>\n",
       "    </tr>\n",
       "  </thead>\n",
       "  <tbody>\n",
       "    <tr>\n",
       "      <th>2</th>\n",
       "      <td>c</td>\n",
       "      <td>2</td>\n",
       "      <td>0.2</td>\n",
       "    </tr>\n",
       "    <tr>\n",
       "      <th>3</th>\n",
       "      <td>d</td>\n",
       "      <td>3</td>\n",
       "      <td>0.3</td>\n",
       "    </tr>\n",
       "  </tbody>\n",
       "</table>\n",
       "</div>"
      ],
      "text/plain": [
       "  col 1  col 2  col 3\n",
       "2     c      2    0.2\n",
       "3     d      3    0.3"
      ]
     },
     "execution_count": 9,
     "metadata": {},
     "output_type": "execute_result"
    }
   ],
   "source": [
    "df.tail(2)"
   ]
  },
  {
   "cell_type": "code",
   "execution_count": 10,
   "metadata": {
    "colab": {
     "base_uri": "https://localhost:8080/"
    },
    "executionInfo": {
     "elapsed": 29,
     "status": "ok",
     "timestamp": 1677102979726,
     "user": {
      "displayName": "Antoine Palisson",
      "userId": "06334333839821267204"
     },
     "user_tz": -60
    },
    "id": "FnzLE79WErdV",
    "outputId": "0419c125-bf16-4e2f-b07b-e9e8c0b9e13a"
   },
   "outputs": [
    {
     "data": {
      "text/plain": [
       "Index(['col 1', 'col 2', 'col 3'], dtype='object')"
      ]
     },
     "execution_count": 10,
     "metadata": {},
     "output_type": "execute_result"
    }
   ],
   "source": [
    "df.columns"
   ]
  },
  {
   "cell_type": "code",
   "execution_count": 11,
   "metadata": {
    "colab": {
     "base_uri": "https://localhost:8080/"
    },
    "executionInfo": {
     "elapsed": 621,
     "status": "ok",
     "timestamp": 1677102980319,
     "user": {
      "displayName": "Antoine Palisson",
      "userId": "06334333839821267204"
     },
     "user_tz": -60
    },
    "id": "TRFOm7NrEtJX",
    "outputId": "08661a31-6779-49f5-91ae-773ac3c21013"
   },
   "outputs": [
    {
     "data": {
      "text/plain": [
       "RangeIndex(start=0, stop=4, step=1)"
      ]
     },
     "execution_count": 11,
     "metadata": {},
     "output_type": "execute_result"
    }
   ],
   "source": [
    "df.index"
   ]
  },
  {
   "cell_type": "markdown",
   "metadata": {
    "id": "ZqaCS7_FejdH"
   },
   "source": [
    "The ***column names can be changed*** by using the `df.rename(columns={'old name':'new name'})` method.<br>\n",
    "The `inplace=True` parameter allows to modify the original dataframe. <br>By default, the `rename()` method returns a copy of the original dataframe with the new column names."
   ]
  },
  {
   "cell_type": "code",
   "execution_count": 12,
   "metadata": {
    "colab": {
     "base_uri": "https://localhost:8080/"
    },
    "executionInfo": {
     "elapsed": 51,
     "status": "ok",
     "timestamp": 1677102980319,
     "user": {
      "displayName": "Antoine Palisson",
      "userId": "06334333839821267204"
     },
     "user_tz": -60
    },
    "id": "OkKjHoOwe3Jj",
    "outputId": "9165056e-b60d-48ef-c83b-99dc0e5889ef"
   },
   "outputs": [
    {
     "data": {
      "text/html": [
       "<div>\n",
       "<style scoped>\n",
       "    .dataframe tbody tr th:only-of-type {\n",
       "        vertical-align: middle;\n",
       "    }\n",
       "\n",
       "    .dataframe tbody tr th {\n",
       "        vertical-align: top;\n",
       "    }\n",
       "\n",
       "    .dataframe thead th {\n",
       "        text-align: right;\n",
       "    }\n",
       "</style>\n",
       "<table border=\"1\" class=\"dataframe\">\n",
       "  <thead>\n",
       "    <tr style=\"text-align: right;\">\n",
       "      <th></th>\n",
       "      <th>Col n°1</th>\n",
       "      <th>Col n°2</th>\n",
       "      <th>Col n°3</th>\n",
       "    </tr>\n",
       "  </thead>\n",
       "  <tbody>\n",
       "    <tr>\n",
       "      <th>0</th>\n",
       "      <td>a</td>\n",
       "      <td>0</td>\n",
       "      <td>0.0</td>\n",
       "    </tr>\n",
       "    <tr>\n",
       "      <th>1</th>\n",
       "      <td>b</td>\n",
       "      <td>1</td>\n",
       "      <td>0.1</td>\n",
       "    </tr>\n",
       "    <tr>\n",
       "      <th>2</th>\n",
       "      <td>c</td>\n",
       "      <td>2</td>\n",
       "      <td>0.2</td>\n",
       "    </tr>\n",
       "    <tr>\n",
       "      <th>3</th>\n",
       "      <td>d</td>\n",
       "      <td>3</td>\n",
       "      <td>0.3</td>\n",
       "    </tr>\n",
       "  </tbody>\n",
       "</table>\n",
       "</div>"
      ],
      "text/plain": [
       "  Col n°1  Col n°2  Col n°3\n",
       "0       a        0      0.0\n",
       "1       b        1      0.1\n",
       "2       c        2      0.2\n",
       "3       d        3      0.3"
      ]
     },
     "execution_count": 12,
     "metadata": {},
     "output_type": "execute_result"
    }
   ],
   "source": [
    "df.rename(columns={\"col 3\": \"Col n°3\",\n",
    "                   \"col 2\": \"Col n°2\",\n",
    "                   \"col 1\": \"Col n°1\"}, inplace=True)\n",
    "df"
   ]
  },
  {
   "cell_type": "markdown",
   "metadata": {
    "id": "Yq344t6xE3tj"
   },
   "source": [
    "It is possible to access ***each column of the Dataframe*** by using indexing `df['col_name']`.<br>\n",
    "The output of this operation is a Series."
   ]
  },
  {
   "cell_type": "code",
   "execution_count": 13,
   "metadata": {
    "colab": {
     "base_uri": "https://localhost:8080/"
    },
    "executionInfo": {
     "elapsed": 51,
     "status": "ok",
     "timestamp": 1677102980320,
     "user": {
      "displayName": "Antoine Palisson",
      "userId": "06334333839821267204"
     },
     "user_tz": -60
    },
    "id": "aPRstknPFL9V",
    "outputId": "0cd5f8b2-325a-421a-dedf-3d776921b89f",
    "scrolled": true
   },
   "outputs": [
    {
     "data": {
      "text/plain": [
       "0    a\n",
       "1    b\n",
       "2    c\n",
       "3    d\n",
       "Name: Col n°1, dtype: object"
      ]
     },
     "execution_count": 13,
     "metadata": {},
     "output_type": "execute_result"
    }
   ],
   "source": [
    "df['Col n°1']"
   ]
  },
  {
   "cell_type": "markdown",
   "metadata": {
    "id": "r2euDAtKFPJn"
   },
   "source": [
    "It is possible to access ***multiple columns of the Dataframe*** by using indexing `df[['col_name 1', ..., 'col_name n']]`.<br>\n",
    "The output of this operation is a DataFrame."
   ]
  },
  {
   "cell_type": "code",
   "execution_count": 14,
   "metadata": {
    "colab": {
     "base_uri": "https://localhost:8080/"
    },
    "executionInfo": {
     "elapsed": 50,
     "status": "ok",
     "timestamp": 1677102980320,
     "user": {
      "displayName": "Antoine Palisson",
      "userId": "06334333839821267204"
     },
     "user_tz": -60
    },
    "id": "fYJbC7UxFnCc",
    "outputId": "159fe3a0-abe3-4209-af18-4c330d407d39"
   },
   "outputs": [
    {
     "data": {
      "text/html": [
       "<div>\n",
       "<style scoped>\n",
       "    .dataframe tbody tr th:only-of-type {\n",
       "        vertical-align: middle;\n",
       "    }\n",
       "\n",
       "    .dataframe tbody tr th {\n",
       "        vertical-align: top;\n",
       "    }\n",
       "\n",
       "    .dataframe thead th {\n",
       "        text-align: right;\n",
       "    }\n",
       "</style>\n",
       "<table border=\"1\" class=\"dataframe\">\n",
       "  <thead>\n",
       "    <tr style=\"text-align: right;\">\n",
       "      <th></th>\n",
       "      <th>Col n°1</th>\n",
       "      <th>Col n°2</th>\n",
       "    </tr>\n",
       "  </thead>\n",
       "  <tbody>\n",
       "    <tr>\n",
       "      <th>0</th>\n",
       "      <td>a</td>\n",
       "      <td>0</td>\n",
       "    </tr>\n",
       "    <tr>\n",
       "      <th>1</th>\n",
       "      <td>b</td>\n",
       "      <td>1</td>\n",
       "    </tr>\n",
       "    <tr>\n",
       "      <th>2</th>\n",
       "      <td>c</td>\n",
       "      <td>2</td>\n",
       "    </tr>\n",
       "    <tr>\n",
       "      <th>3</th>\n",
       "      <td>d</td>\n",
       "      <td>3</td>\n",
       "    </tr>\n",
       "  </tbody>\n",
       "</table>\n",
       "</div>"
      ],
      "text/plain": [
       "  Col n°1  Col n°2\n",
       "0       a        0\n",
       "1       b        1\n",
       "2       c        2\n",
       "3       d        3"
      ]
     },
     "execution_count": 14,
     "metadata": {},
     "output_type": "execute_result"
    }
   ],
   "source": [
    "df[['Col n°1', 'Col n°2']]"
   ]
  },
  {
   "cell_type": "markdown",
   "metadata": {
    "id": "07xJ6h5SGcQ5"
   },
   "source": [
    "It is possible to ***add columns to an existing DataFrame*** by using `df['new col'] = ...`"
   ]
  },
  {
   "cell_type": "code",
   "execution_count": 15,
   "metadata": {
    "colab": {
     "base_uri": "https://localhost:8080/"
    },
    "executionInfo": {
     "elapsed": 50,
     "status": "ok",
     "timestamp": 1677102980321,
     "user": {
      "displayName": "Antoine Palisson",
      "userId": "06334333839821267204"
     },
     "user_tz": -60
    },
    "id": "25l8xG3YHDFa",
    "outputId": "50130d52-99d1-4577-8db0-4ba2aaee156a"
   },
   "outputs": [
    {
     "data": {
      "text/html": [
       "<div>\n",
       "<style scoped>\n",
       "    .dataframe tbody tr th:only-of-type {\n",
       "        vertical-align: middle;\n",
       "    }\n",
       "\n",
       "    .dataframe tbody tr th {\n",
       "        vertical-align: top;\n",
       "    }\n",
       "\n",
       "    .dataframe thead th {\n",
       "        text-align: right;\n",
       "    }\n",
       "</style>\n",
       "<table border=\"1\" class=\"dataframe\">\n",
       "  <thead>\n",
       "    <tr style=\"text-align: right;\">\n",
       "      <th></th>\n",
       "      <th>Col n°1</th>\n",
       "      <th>Col n°2</th>\n",
       "      <th>Col n°3</th>\n",
       "      <th>Col n°4</th>\n",
       "    </tr>\n",
       "  </thead>\n",
       "  <tbody>\n",
       "    <tr>\n",
       "      <th>0</th>\n",
       "      <td>a</td>\n",
       "      <td>0</td>\n",
       "      <td>0.0</td>\n",
       "      <td>True</td>\n",
       "    </tr>\n",
       "    <tr>\n",
       "      <th>1</th>\n",
       "      <td>b</td>\n",
       "      <td>1</td>\n",
       "      <td>0.1</td>\n",
       "      <td>True</td>\n",
       "    </tr>\n",
       "    <tr>\n",
       "      <th>2</th>\n",
       "      <td>c</td>\n",
       "      <td>2</td>\n",
       "      <td>0.2</td>\n",
       "      <td>False</td>\n",
       "    </tr>\n",
       "    <tr>\n",
       "      <th>3</th>\n",
       "      <td>d</td>\n",
       "      <td>3</td>\n",
       "      <td>0.3</td>\n",
       "      <td>False</td>\n",
       "    </tr>\n",
       "  </tbody>\n",
       "</table>\n",
       "</div>"
      ],
      "text/plain": [
       "  Col n°1  Col n°2  Col n°3  Col n°4\n",
       "0       a        0      0.0     True\n",
       "1       b        1      0.1     True\n",
       "2       c        2      0.2    False\n",
       "3       d        3      0.3    False"
      ]
     },
     "execution_count": 15,
     "metadata": {},
     "output_type": "execute_result"
    }
   ],
   "source": [
    "df['Col n°4'] = [True, True, False, False]\n",
    "df"
   ]
  },
  {
   "cell_type": "markdown",
   "metadata": {
    "id": "kNrqawUnHCZf"
   },
   "source": [
    "It is also possible to ***remove columns from the dataframe*** by using the `df.drop(columns=[\"col 1\", ..., \"col n\"])` method on the dataframe. \n",
    "\n",
    "Note that the `drop()` method does not modify the original dataframe and returns a copy instead.<br> You can change this behavior by adding the `inplace=True` parameter inside of the `drop()` method."
   ]
  },
  {
   "cell_type": "code",
   "execution_count": 16,
   "metadata": {
    "colab": {
     "base_uri": "https://localhost:8080/"
    },
    "executionInfo": {
     "elapsed": 49,
     "status": "ok",
     "timestamp": 1677102980321,
     "user": {
      "displayName": "Antoine Palisson",
      "userId": "06334333839821267204"
     },
     "user_tz": -60
    },
    "id": "iGVwVKqdJsJm",
    "outputId": "f36e3e0a-35c7-4a49-802d-da35e25f250c"
   },
   "outputs": [
    {
     "data": {
      "text/html": [
       "<div>\n",
       "<style scoped>\n",
       "    .dataframe tbody tr th:only-of-type {\n",
       "        vertical-align: middle;\n",
       "    }\n",
       "\n",
       "    .dataframe tbody tr th {\n",
       "        vertical-align: top;\n",
       "    }\n",
       "\n",
       "    .dataframe thead th {\n",
       "        text-align: right;\n",
       "    }\n",
       "</style>\n",
       "<table border=\"1\" class=\"dataframe\">\n",
       "  <thead>\n",
       "    <tr style=\"text-align: right;\">\n",
       "      <th></th>\n",
       "      <th>Col n°1</th>\n",
       "      <th>Col n°2</th>\n",
       "      <th>Col n°3</th>\n",
       "    </tr>\n",
       "  </thead>\n",
       "  <tbody>\n",
       "    <tr>\n",
       "      <th>0</th>\n",
       "      <td>a</td>\n",
       "      <td>0</td>\n",
       "      <td>0.0</td>\n",
       "    </tr>\n",
       "    <tr>\n",
       "      <th>1</th>\n",
       "      <td>b</td>\n",
       "      <td>1</td>\n",
       "      <td>0.1</td>\n",
       "    </tr>\n",
       "    <tr>\n",
       "      <th>2</th>\n",
       "      <td>c</td>\n",
       "      <td>2</td>\n",
       "      <td>0.2</td>\n",
       "    </tr>\n",
       "    <tr>\n",
       "      <th>3</th>\n",
       "      <td>d</td>\n",
       "      <td>3</td>\n",
       "      <td>0.3</td>\n",
       "    </tr>\n",
       "  </tbody>\n",
       "</table>\n",
       "</div>"
      ],
      "text/plain": [
       "  Col n°1  Col n°2  Col n°3\n",
       "0       a        0      0.0\n",
       "1       b        1      0.1\n",
       "2       c        2      0.2\n",
       "3       d        3      0.3"
      ]
     },
     "execution_count": 16,
     "metadata": {},
     "output_type": "execute_result"
    }
   ],
   "source": [
    "new_df = df.drop(columns=['Col n°4'])\n",
    "new_df"
   ]
  },
  {
   "cell_type": "code",
   "execution_count": 17,
   "metadata": {
    "colab": {
     "base_uri": "https://localhost:8080/"
    },
    "executionInfo": {
     "elapsed": 49,
     "status": "ok",
     "timestamp": 1677102980322,
     "user": {
      "displayName": "Antoine Palisson",
      "userId": "06334333839821267204"
     },
     "user_tz": -60
    },
    "id": "BVgJeaHKKLMQ",
    "outputId": "7ec5f8ab-4688-401d-e5df-f46f56133005"
   },
   "outputs": [
    {
     "data": {
      "text/html": [
       "<div>\n",
       "<style scoped>\n",
       "    .dataframe tbody tr th:only-of-type {\n",
       "        vertical-align: middle;\n",
       "    }\n",
       "\n",
       "    .dataframe tbody tr th {\n",
       "        vertical-align: top;\n",
       "    }\n",
       "\n",
       "    .dataframe thead th {\n",
       "        text-align: right;\n",
       "    }\n",
       "</style>\n",
       "<table border=\"1\" class=\"dataframe\">\n",
       "  <thead>\n",
       "    <tr style=\"text-align: right;\">\n",
       "      <th></th>\n",
       "      <th>Col n°1</th>\n",
       "      <th>Col n°2</th>\n",
       "      <th>Col n°3</th>\n",
       "      <th>Col n°4</th>\n",
       "    </tr>\n",
       "  </thead>\n",
       "  <tbody>\n",
       "    <tr>\n",
       "      <th>0</th>\n",
       "      <td>a</td>\n",
       "      <td>0</td>\n",
       "      <td>0.0</td>\n",
       "      <td>True</td>\n",
       "    </tr>\n",
       "    <tr>\n",
       "      <th>1</th>\n",
       "      <td>b</td>\n",
       "      <td>1</td>\n",
       "      <td>0.1</td>\n",
       "      <td>True</td>\n",
       "    </tr>\n",
       "    <tr>\n",
       "      <th>2</th>\n",
       "      <td>c</td>\n",
       "      <td>2</td>\n",
       "      <td>0.2</td>\n",
       "      <td>False</td>\n",
       "    </tr>\n",
       "    <tr>\n",
       "      <th>3</th>\n",
       "      <td>d</td>\n",
       "      <td>3</td>\n",
       "      <td>0.3</td>\n",
       "      <td>False</td>\n",
       "    </tr>\n",
       "  </tbody>\n",
       "</table>\n",
       "</div>"
      ],
      "text/plain": [
       "  Col n°1  Col n°2  Col n°3  Col n°4\n",
       "0       a        0      0.0     True\n",
       "1       b        1      0.1     True\n",
       "2       c        2      0.2    False\n",
       "3       d        3      0.3    False"
      ]
     },
     "execution_count": 17,
     "metadata": {},
     "output_type": "execute_result"
    }
   ],
   "source": [
    "# The original dataframe has not been modified\n",
    "df"
   ]
  },
  {
   "cell_type": "markdown",
   "metadata": {
    "id": "iWsFnCTpLcy_"
   },
   "source": [
    "It is also possible to ***select the rows of a dataframe*** by using the `df.iloc[]` and the `df.loc[]` methods.\n",
    "\n",
    "The ***`df.loc[]` method selects the rows by their name whereas `df.iloc[]` selects them by their position***.\n",
    "\n",
    "If one row is selected, the result is a Series with the values of each column for the given row."
   ]
  },
  {
   "cell_type": "code",
   "execution_count": 18,
   "metadata": {
    "colab": {
     "base_uri": "https://localhost:8080/"
    },
    "executionInfo": {
     "elapsed": 48,
     "status": "ok",
     "timestamp": 1677102980322,
     "user": {
      "displayName": "Antoine Palisson",
      "userId": "06334333839821267204"
     },
     "user_tz": -60
    },
    "id": "urj8qAZaMZ0v",
    "outputId": "f6a92679-9ef1-49c8-8ce3-5b605662d3fa"
   },
   "outputs": [
    {
     "data": {
      "text/html": [
       "<div>\n",
       "<style scoped>\n",
       "    .dataframe tbody tr th:only-of-type {\n",
       "        vertical-align: middle;\n",
       "    }\n",
       "\n",
       "    .dataframe tbody tr th {\n",
       "        vertical-align: top;\n",
       "    }\n",
       "\n",
       "    .dataframe thead th {\n",
       "        text-align: right;\n",
       "    }\n",
       "</style>\n",
       "<table border=\"1\" class=\"dataframe\">\n",
       "  <thead>\n",
       "    <tr style=\"text-align: right;\">\n",
       "      <th></th>\n",
       "      <th>col 1</th>\n",
       "      <th>col 2</th>\n",
       "    </tr>\n",
       "  </thead>\n",
       "  <tbody>\n",
       "    <tr>\n",
       "      <th>row 1</th>\n",
       "      <td>1</td>\n",
       "      <td>5</td>\n",
       "    </tr>\n",
       "    <tr>\n",
       "      <th>row 2</th>\n",
       "      <td>2</td>\n",
       "      <td>4</td>\n",
       "    </tr>\n",
       "    <tr>\n",
       "      <th>row 3</th>\n",
       "      <td>3</td>\n",
       "      <td>3</td>\n",
       "    </tr>\n",
       "    <tr>\n",
       "      <th>row 4</th>\n",
       "      <td>4</td>\n",
       "      <td>2</td>\n",
       "    </tr>\n",
       "    <tr>\n",
       "      <th>row 5</th>\n",
       "      <td>5</td>\n",
       "      <td>1</td>\n",
       "    </tr>\n",
       "  </tbody>\n",
       "</table>\n",
       "</div>"
      ],
      "text/plain": [
       "       col 1  col 2\n",
       "row 1      1      5\n",
       "row 2      2      4\n",
       "row 3      3      3\n",
       "row 4      4      2\n",
       "row 5      5      1"
      ]
     },
     "execution_count": 18,
     "metadata": {},
     "output_type": "execute_result"
    }
   ],
   "source": [
    "df = pd.DataFrame(data = [[1,5],[2,4],[3,3],[4,2],[5,1]],\n",
    "                  columns = ['col 1', 'col 2'],\n",
    "                  index = ['row 1','row 2','row 3','row 4','row 5'])\n",
    "df"
   ]
  },
  {
   "cell_type": "code",
   "execution_count": 19,
   "metadata": {
    "colab": {
     "base_uri": "https://localhost:8080/"
    },
    "executionInfo": {
     "elapsed": 48,
     "status": "ok",
     "timestamp": 1677102980322,
     "user": {
      "displayName": "Antoine Palisson",
      "userId": "06334333839821267204"
     },
     "user_tz": -60
    },
    "id": "IZO8WxooL6tb",
    "outputId": "41c74392-5b43-404e-d3ff-fdc3074ed3cf"
   },
   "outputs": [
    {
     "data": {
      "text/plain": [
       "col 1    3\n",
       "col 2    3\n",
       "Name: row 3, dtype: int64"
      ]
     },
     "execution_count": 19,
     "metadata": {},
     "output_type": "execute_result"
    }
   ],
   "source": [
    "# The row a position 2 is the 3rd row\n",
    "df.iloc[2]"
   ]
  },
  {
   "cell_type": "code",
   "execution_count": 20,
   "metadata": {
    "colab": {
     "base_uri": "https://localhost:8080/"
    },
    "executionInfo": {
     "elapsed": 48,
     "status": "ok",
     "timestamp": 1677102980323,
     "user": {
      "displayName": "Antoine Palisson",
      "userId": "06334333839821267204"
     },
     "user_tz": -60
    },
    "id": "lfy2tqdTM3H8",
    "outputId": "b3eb0358-9ac8-4d4e-c4af-bfa30f500123"
   },
   "outputs": [
    {
     "data": {
      "text/plain": [
       "col 1    3\n",
       "col 2    3\n",
       "Name: row 3, dtype: int64"
      ]
     },
     "execution_count": 20,
     "metadata": {},
     "output_type": "execute_result"
    }
   ],
   "source": [
    "# The row named row 3 is the 3rd row\n",
    "df.loc['row 3']"
   ]
  },
  {
   "cell_type": "markdown",
   "metadata": {
    "id": "D03epfUDMFUx"
   },
   "source": [
    "If multiple rows are selected using slicing, the result is a DataFrame that contains only the selected rows."
   ]
  },
  {
   "cell_type": "code",
   "execution_count": 21,
   "metadata": {
    "colab": {
     "base_uri": "https://localhost:8080/"
    },
    "executionInfo": {
     "elapsed": 47,
     "status": "ok",
     "timestamp": 1677102980323,
     "user": {
      "displayName": "Antoine Palisson",
      "userId": "06334333839821267204"
     },
     "user_tz": -60
    },
    "id": "jGHegK4UMLtQ",
    "outputId": "d352840c-7fa5-4214-888e-e6f33a30fa16",
    "scrolled": true
   },
   "outputs": [
    {
     "data": {
      "text/html": [
       "<div>\n",
       "<style scoped>\n",
       "    .dataframe tbody tr th:only-of-type {\n",
       "        vertical-align: middle;\n",
       "    }\n",
       "\n",
       "    .dataframe tbody tr th {\n",
       "        vertical-align: top;\n",
       "    }\n",
       "\n",
       "    .dataframe thead th {\n",
       "        text-align: right;\n",
       "    }\n",
       "</style>\n",
       "<table border=\"1\" class=\"dataframe\">\n",
       "  <thead>\n",
       "    <tr style=\"text-align: right;\">\n",
       "      <th></th>\n",
       "      <th>col 1</th>\n",
       "      <th>col 2</th>\n",
       "    </tr>\n",
       "  </thead>\n",
       "  <tbody>\n",
       "    <tr>\n",
       "      <th>row 2</th>\n",
       "      <td>2</td>\n",
       "      <td>4</td>\n",
       "    </tr>\n",
       "    <tr>\n",
       "      <th>row 3</th>\n",
       "      <td>3</td>\n",
       "      <td>3</td>\n",
       "    </tr>\n",
       "  </tbody>\n",
       "</table>\n",
       "</div>"
      ],
      "text/plain": [
       "       col 1  col 2\n",
       "row 2      2      4\n",
       "row 3      3      3"
      ]
     },
     "execution_count": 21,
     "metadata": {},
     "output_type": "execute_result"
    }
   ],
   "source": [
    "df.iloc[1:3]"
   ]
  },
  {
   "cell_type": "code",
   "execution_count": 22,
   "metadata": {
    "colab": {
     "base_uri": "https://localhost:8080/"
    },
    "executionInfo": {
     "elapsed": 47,
     "status": "ok",
     "timestamp": 1677102980324,
     "user": {
      "displayName": "Antoine Palisson",
      "userId": "06334333839821267204"
     },
     "user_tz": -60
    },
    "id": "LEcGgxdQM-a-",
    "outputId": "1cfdfa95-bd42-49e7-9f1b-cf619f31d74c"
   },
   "outputs": [
    {
     "data": {
      "text/html": [
       "<div>\n",
       "<style scoped>\n",
       "    .dataframe tbody tr th:only-of-type {\n",
       "        vertical-align: middle;\n",
       "    }\n",
       "\n",
       "    .dataframe tbody tr th {\n",
       "        vertical-align: top;\n",
       "    }\n",
       "\n",
       "    .dataframe thead th {\n",
       "        text-align: right;\n",
       "    }\n",
       "</style>\n",
       "<table border=\"1\" class=\"dataframe\">\n",
       "  <thead>\n",
       "    <tr style=\"text-align: right;\">\n",
       "      <th></th>\n",
       "      <th>col 1</th>\n",
       "      <th>col 2</th>\n",
       "    </tr>\n",
       "  </thead>\n",
       "  <tbody>\n",
       "    <tr>\n",
       "      <th>row 2</th>\n",
       "      <td>2</td>\n",
       "      <td>4</td>\n",
       "    </tr>\n",
       "    <tr>\n",
       "      <th>row 3</th>\n",
       "      <td>3</td>\n",
       "      <td>3</td>\n",
       "    </tr>\n",
       "  </tbody>\n",
       "</table>\n",
       "</div>"
      ],
      "text/plain": [
       "       col 1  col 2\n",
       "row 2      2      4\n",
       "row 3      3      3"
      ]
     },
     "execution_count": 22,
     "metadata": {},
     "output_type": "execute_result"
    }
   ],
   "source": [
    "df.loc['row 2':'row 3']"
   ]
  },
  {
   "cell_type": "markdown",
   "metadata": {
    "id": "JNnm5EizNHfM"
   },
   "source": [
    "`df.iloc[]` and `df.loc[]` can also be used to ***select based on both columns and rows***."
   ]
  },
  {
   "cell_type": "code",
   "execution_count": 23,
   "metadata": {
    "colab": {
     "base_uri": "https://localhost:8080/"
    },
    "executionInfo": {
     "elapsed": 46,
     "status": "ok",
     "timestamp": 1677102980324,
     "user": {
      "displayName": "Antoine Palisson",
      "userId": "06334333839821267204"
     },
     "user_tz": -60
    },
    "id": "D5XLoa9cNZ8I",
    "outputId": "ccc3c333-c40a-4117-b829-d57660567d3e"
   },
   "outputs": [
    {
     "data": {
      "text/plain": [
       "1"
      ]
     },
     "execution_count": 23,
     "metadata": {},
     "output_type": "execute_result"
    }
   ],
   "source": [
    "# Take the first row and the first column\n",
    "df.iloc[0,0]"
   ]
  },
  {
   "cell_type": "code",
   "execution_count": 24,
   "metadata": {
    "colab": {
     "base_uri": "https://localhost:8080/"
    },
    "executionInfo": {
     "elapsed": 45,
     "status": "ok",
     "timestamp": 1677102980324,
     "user": {
      "displayName": "Antoine Palisson",
      "userId": "06334333839821267204"
     },
     "user_tz": -60
    },
    "id": "gA2nPnBlNfi3",
    "outputId": "20c7f6f5-e84f-4c8f-a9cd-199f5b7c4e9b"
   },
   "outputs": [
    {
     "data": {
      "text/plain": [
       "row 1    5\n",
       "row 2    4\n",
       "Name: col 2, dtype: int64"
      ]
     },
     "execution_count": 24,
     "metadata": {},
     "output_type": "execute_result"
    }
   ],
   "source": [
    "# Take the two rows and the second column\n",
    "df.iloc[0:2,1]"
   ]
  },
  {
   "cell_type": "code",
   "execution_count": 25,
   "metadata": {
    "colab": {
     "base_uri": "https://localhost:8080/"
    },
    "executionInfo": {
     "elapsed": 46,
     "status": "ok",
     "timestamp": 1677102980325,
     "user": {
      "displayName": "Antoine Palisson",
      "userId": "06334333839821267204"
     },
     "user_tz": -60
    },
    "id": "cenf8jhlNoSz",
    "outputId": "15552028-0701-4ced-ed19-15f979431321"
   },
   "outputs": [
    {
     "data": {
      "text/plain": [
       "col 1    5\n",
       "col 2    1\n",
       "Name: row 5, dtype: int64"
      ]
     },
     "execution_count": 25,
     "metadata": {},
     "output_type": "execute_result"
    }
   ],
   "source": [
    "# Take the last row and all the columns\n",
    "# : means \"everything\"\n",
    "df.loc['row 5',:]"
   ]
  },
  {
   "cell_type": "code",
   "execution_count": 26,
   "metadata": {
    "colab": {
     "base_uri": "https://localhost:8080/"
    },
    "executionInfo": {
     "elapsed": 45,
     "status": "ok",
     "timestamp": 1677102980325,
     "user": {
      "displayName": "Antoine Palisson",
      "userId": "06334333839821267204"
     },
     "user_tz": -60
    },
    "id": "L0JSfOjLNzrZ",
    "outputId": "420df2b3-36f1-4dd3-e98c-664323c0b703"
   },
   "outputs": [
    {
     "data": {
      "text/plain": [
       "row 1    5\n",
       "row 2    4\n",
       "row 3    3\n",
       "row 4    2\n",
       "row 5    1\n",
       "Name: col 2, dtype: int64"
      ]
     },
     "execution_count": 26,
     "metadata": {},
     "output_type": "execute_result"
    }
   ],
   "source": [
    "# Take all the rows and the second column\n",
    "df.loc[:,'col 2']"
   ]
  },
  {
   "cell_type": "markdown",
   "metadata": {
    "id": "s7W4CWOxBglF"
   },
   "source": [
    "## Exercises"
   ]
  },
  {
   "cell_type": "markdown",
   "metadata": {
    "id": "t5S9kcDoOQ4c"
   },
   "source": [
    "**<font color='blue'>1. Create the following DataFrame.**\n",
    "\n",
    "<div>\n",
    "<img src=https://pynative.com/wp-content/uploads/2021/02/dataframe.png width=500>\n",
    "<div\\>"
   ]
  },
  {
   "cell_type": "code",
   "execution_count": 29,
   "metadata": {
    "id": "hiwRuCfcgrmH"
   },
   "outputs": [
    {
     "data": {
      "text/html": [
       "<div>\n",
       "<style scoped>\n",
       "    .dataframe tbody tr th:only-of-type {\n",
       "        vertical-align: middle;\n",
       "    }\n",
       "\n",
       "    .dataframe tbody tr th {\n",
       "        vertical-align: top;\n",
       "    }\n",
       "\n",
       "    .dataframe thead th {\n",
       "        text-align: right;\n",
       "    }\n",
       "</style>\n",
       "<table border=\"1\" class=\"dataframe\">\n",
       "  <thead>\n",
       "    <tr style=\"text-align: right;\">\n",
       "      <th></th>\n",
       "      <th>Name</th>\n",
       "      <th>Age</th>\n",
       "      <th>Marks</th>\n",
       "      <th>Grade</th>\n",
       "      <th>Hobby</th>\n",
       "    </tr>\n",
       "  </thead>\n",
       "  <tbody>\n",
       "    <tr>\n",
       "      <th>0</th>\n",
       "      <td>Joe</td>\n",
       "      <td>20</td>\n",
       "      <td>85.10</td>\n",
       "      <td>A</td>\n",
       "      <td>Swimming</td>\n",
       "    </tr>\n",
       "    <tr>\n",
       "      <th>1</th>\n",
       "      <td>Nat</td>\n",
       "      <td>21</td>\n",
       "      <td>77.80</td>\n",
       "      <td>B</td>\n",
       "      <td>Reading</td>\n",
       "    </tr>\n",
       "    <tr>\n",
       "      <th>2</th>\n",
       "      <td>Harry</td>\n",
       "      <td>19</td>\n",
       "      <td>91.54</td>\n",
       "      <td>A</td>\n",
       "      <td>Music</td>\n",
       "    </tr>\n",
       "    <tr>\n",
       "      <th>3</th>\n",
       "      <td>Sam</td>\n",
       "      <td>20</td>\n",
       "      <td>88.78</td>\n",
       "      <td>A</td>\n",
       "      <td>Painting</td>\n",
       "    </tr>\n",
       "    <tr>\n",
       "      <th>4</th>\n",
       "      <td>Monica</td>\n",
       "      <td>22</td>\n",
       "      <td>60.55</td>\n",
       "      <td>B</td>\n",
       "      <td>Dancing</td>\n",
       "    </tr>\n",
       "  </tbody>\n",
       "</table>\n",
       "</div>"
      ],
      "text/plain": [
       "     Name  Age  Marks Grade     Hobby\n",
       "0     Joe   20  85.10     A  Swimming\n",
       "1     Nat   21  77.80     B   Reading\n",
       "2   Harry   19  91.54     A     Music\n",
       "3     Sam   20  88.78     A  Painting\n",
       "4  Monica   22  60.55     B   Dancing"
      ]
     },
     "execution_count": 29,
     "metadata": {},
     "output_type": "execute_result"
    }
   ],
   "source": [
    "df_ex = pd.DataFrame({\n",
    "    \"Name\": ['Joe', 'Nat', 'Harry', 'Sam', 'Monica'],\n",
    "    \"Age\": [20, 21, 19, 20, 22],\n",
    "    \"Marks\": [85.10, 77.80, 91.54, 88.78, 60.55],\n",
    "    \"Grade\": [\"A\", \"B\", \"A\", \"A\", \"B\"],\n",
    "    \"Hobby\": ['Swimming', 'Reading', 'Music', 'Painting', 'Dancing']\n",
    "})\n",
    "df_ex"
   ]
  },
  {
   "cell_type": "markdown",
   "metadata": {
    "id": "He_7plXuPpi8"
   },
   "source": [
    "**<font color='blue'>2. Extract the Grade column into a variable.<br>Is the variable a Dataframe or a Series ?**"
   ]
  },
  {
   "cell_type": "code",
   "execution_count": 31,
   "metadata": {
    "id": "PavkdWgcgsJn"
   },
   "outputs": [
    {
     "data": {
      "text/plain": [
       "pandas.core.series.Series"
      ]
     },
     "execution_count": 31,
     "metadata": {},
     "output_type": "execute_result"
    }
   ],
   "source": [
    "co_Grade = df_ex['Grade']\n",
    "type(co_Grade)"
   ]
  },
  {
   "cell_type": "markdown",
   "metadata": {
    "id": "J6iOy5kUP926"
   },
   "source": [
    "**<font color='blue'>3.a. Show the 3 first rows of the original dataframe.<br>3.b. Show the columns name.<br>3.c. Extract the Name, Age and Marks columns and store them into a variable.<br> Is this new variable a Series or a Dataframe ?**"
   ]
  },
  {
   "cell_type": "code",
   "execution_count": 38,
   "metadata": {
    "id": "pvuU82fegs7b"
   },
   "outputs": [
    {
     "name": "stdout",
     "output_type": "stream",
     "text": [
      "    Name  Age  Marks Grade     Hobby\n",
      "0    Joe   20  85.10     A  Swimming\n",
      "1    Nat   21  77.80     B   Reading\n",
      "2  Harry   19  91.54     A     Music\n",
      "Index(['Name', 'Age', 'Marks', 'Grade', 'Hobby'], dtype='object')\n",
      "<class 'pandas.core.frame.DataFrame'>\n"
     ]
    }
   ],
   "source": [
    "#3.a.\n",
    "print(df_ex.head(3))\n",
    "\n",
    "#3.b.\n",
    "print(df_ex.columns)\n",
    "\n",
    "#3.c.\n",
    "df_3c = df_ex[['Name', \"Age\", 'Marks']]\n",
    "print(type(df_3c))"
   ]
  },
  {
   "cell_type": "markdown",
   "metadata": {
    "id": "hX5BxRLof1Ov"
   },
   "source": [
    "**<font color='blue'>4. Add a Gender column to the dataframe.**"
   ]
  },
  {
   "cell_type": "code",
   "execution_count": 39,
   "metadata": {
    "executionInfo": {
     "elapsed": 4,
     "status": "ok",
     "timestamp": 1677192926722,
     "user": {
      "displayName": "Antoine Palisson",
      "userId": "06334333839821267204"
     },
     "user_tz": -60
    },
    "id": "f5LKYt8BgtWM"
   },
   "outputs": [
    {
     "data": {
      "text/html": [
       "<div>\n",
       "<style scoped>\n",
       "    .dataframe tbody tr th:only-of-type {\n",
       "        vertical-align: middle;\n",
       "    }\n",
       "\n",
       "    .dataframe tbody tr th {\n",
       "        vertical-align: top;\n",
       "    }\n",
       "\n",
       "    .dataframe thead th {\n",
       "        text-align: right;\n",
       "    }\n",
       "</style>\n",
       "<table border=\"1\" class=\"dataframe\">\n",
       "  <thead>\n",
       "    <tr style=\"text-align: right;\">\n",
       "      <th></th>\n",
       "      <th>Name</th>\n",
       "      <th>Age</th>\n",
       "      <th>Marks</th>\n",
       "      <th>Grade</th>\n",
       "      <th>Hobby</th>\n",
       "      <th>Gender</th>\n",
       "    </tr>\n",
       "  </thead>\n",
       "  <tbody>\n",
       "    <tr>\n",
       "      <th>0</th>\n",
       "      <td>Joe</td>\n",
       "      <td>20</td>\n",
       "      <td>85.10</td>\n",
       "      <td>A</td>\n",
       "      <td>Swimming</td>\n",
       "      <td>M</td>\n",
       "    </tr>\n",
       "    <tr>\n",
       "      <th>1</th>\n",
       "      <td>Nat</td>\n",
       "      <td>21</td>\n",
       "      <td>77.80</td>\n",
       "      <td>B</td>\n",
       "      <td>Reading</td>\n",
       "      <td>F</td>\n",
       "    </tr>\n",
       "    <tr>\n",
       "      <th>2</th>\n",
       "      <td>Harry</td>\n",
       "      <td>19</td>\n",
       "      <td>91.54</td>\n",
       "      <td>A</td>\n",
       "      <td>Music</td>\n",
       "      <td>M</td>\n",
       "    </tr>\n",
       "    <tr>\n",
       "      <th>3</th>\n",
       "      <td>Sam</td>\n",
       "      <td>20</td>\n",
       "      <td>88.78</td>\n",
       "      <td>A</td>\n",
       "      <td>Painting</td>\n",
       "      <td>M</td>\n",
       "    </tr>\n",
       "    <tr>\n",
       "      <th>4</th>\n",
       "      <td>Monica</td>\n",
       "      <td>22</td>\n",
       "      <td>60.55</td>\n",
       "      <td>B</td>\n",
       "      <td>Dancing</td>\n",
       "      <td>F</td>\n",
       "    </tr>\n",
       "  </tbody>\n",
       "</table>\n",
       "</div>"
      ],
      "text/plain": [
       "     Name  Age  Marks Grade     Hobby Gender\n",
       "0     Joe   20  85.10     A  Swimming      M\n",
       "1     Nat   21  77.80     B   Reading      F\n",
       "2   Harry   19  91.54     A     Music      M\n",
       "3     Sam   20  88.78     A  Painting      M\n",
       "4  Monica   22  60.55     B   Dancing      F"
      ]
     },
     "execution_count": 39,
     "metadata": {},
     "output_type": "execute_result"
    }
   ],
   "source": [
    "df_ex['Gender'] = ['M', 'F', 'M', \"M\", \"F\"]\n",
    "df_ex"
   ]
  },
  {
   "cell_type": "markdown",
   "metadata": {
    "id": "0DB4taWZhh5O"
   },
   "source": [
    "**<font color='blue'>5.a. Using the `.iloc[]` method, get the third row**\n",
    "\n",
    "*Tips: the result should be a Series that contain these info: `Harry\t19\t91.54\tA\tMusic\tM`*"
   ]
  },
  {
   "cell_type": "code",
   "execution_count": 41,
   "metadata": {
    "id": "YFBd75Eqgt26"
   },
   "outputs": [
    {
     "data": {
      "text/plain": [
       "Name      Harry\n",
       "Age          19\n",
       "Marks     91.54\n",
       "Grade         A\n",
       "Hobby     Music\n",
       "Gender        M\n",
       "Name: 2, dtype: object"
      ]
     },
     "execution_count": 41,
     "metadata": {},
     "output_type": "execute_result"
    }
   ],
   "source": [
    "df_ex.iloc[2, :]"
   ]
  },
  {
   "cell_type": "markdown",
   "metadata": {
    "id": "nsS4mqMnivby"
   },
   "source": [
    "**<font color='blue'>5.b. Using the `.iloc[]` method, get the Nat and Harry information.** "
   ]
  },
  {
   "cell_type": "code",
   "execution_count": 43,
   "metadata": {
    "id": "180Q11NpguO2"
   },
   "outputs": [
    {
     "data": {
      "text/html": [
       "<div>\n",
       "<style scoped>\n",
       "    .dataframe tbody tr th:only-of-type {\n",
       "        vertical-align: middle;\n",
       "    }\n",
       "\n",
       "    .dataframe tbody tr th {\n",
       "        vertical-align: top;\n",
       "    }\n",
       "\n",
       "    .dataframe thead th {\n",
       "        text-align: right;\n",
       "    }\n",
       "</style>\n",
       "<table border=\"1\" class=\"dataframe\">\n",
       "  <thead>\n",
       "    <tr style=\"text-align: right;\">\n",
       "      <th></th>\n",
       "      <th>Name</th>\n",
       "      <th>Age</th>\n",
       "      <th>Marks</th>\n",
       "      <th>Grade</th>\n",
       "      <th>Hobby</th>\n",
       "      <th>Gender</th>\n",
       "    </tr>\n",
       "  </thead>\n",
       "  <tbody>\n",
       "    <tr>\n",
       "      <th>1</th>\n",
       "      <td>Nat</td>\n",
       "      <td>21</td>\n",
       "      <td>77.80</td>\n",
       "      <td>B</td>\n",
       "      <td>Reading</td>\n",
       "      <td>F</td>\n",
       "    </tr>\n",
       "    <tr>\n",
       "      <th>2</th>\n",
       "      <td>Harry</td>\n",
       "      <td>19</td>\n",
       "      <td>91.54</td>\n",
       "      <td>A</td>\n",
       "      <td>Music</td>\n",
       "      <td>M</td>\n",
       "    </tr>\n",
       "  </tbody>\n",
       "</table>\n",
       "</div>"
      ],
      "text/plain": [
       "    Name  Age  Marks Grade    Hobby Gender\n",
       "1    Nat   21  77.80     B  Reading      F\n",
       "2  Harry   19  91.54     A    Music      M"
      ]
     },
     "execution_count": 43,
     "metadata": {},
     "output_type": "execute_result"
    }
   ],
   "source": [
    "df_ex.iloc[1:3, :]"
   ]
  },
  {
   "cell_type": "markdown",
   "metadata": {
    "id": "9Vw68gCripmD"
   },
   "source": [
    "**<font color='blue'>6.a. Using the `.iloc[]` method, get the Hobby of Joe**"
   ]
  },
  {
   "cell_type": "code",
   "execution_count": 44,
   "metadata": {
    "id": "CsOAwGqSgutx"
   },
   "outputs": [
    {
     "data": {
      "text/plain": [
       "'Swimming'"
      ]
     },
     "execution_count": 44,
     "metadata": {},
     "output_type": "execute_result"
    }
   ],
   "source": [
    "df_ex.iloc[0,4]"
   ]
  },
  {
   "cell_type": "markdown",
   "metadata": {
    "id": "5tIQZ7F5jycO"
   },
   "source": [
    "**<font color='blue'>6.b. Do the same using the `.loc[]` method.**"
   ]
  },
  {
   "cell_type": "code",
   "execution_count": 48,
   "metadata": {
    "id": "e2wyPfsxgvFE"
   },
   "outputs": [
    {
     "data": {
      "text/html": [
       "<div>\n",
       "<style scoped>\n",
       "    .dataframe tbody tr th:only-of-type {\n",
       "        vertical-align: middle;\n",
       "    }\n",
       "\n",
       "    .dataframe tbody tr th {\n",
       "        vertical-align: top;\n",
       "    }\n",
       "\n",
       "    .dataframe thead th {\n",
       "        text-align: right;\n",
       "    }\n",
       "</style>\n",
       "<table border=\"1\" class=\"dataframe\">\n",
       "  <thead>\n",
       "    <tr style=\"text-align: right;\">\n",
       "      <th></th>\n",
       "      <th>Name</th>\n",
       "      <th>Age</th>\n",
       "      <th>Marks</th>\n",
       "      <th>Grade</th>\n",
       "      <th>Hobby</th>\n",
       "      <th>Gender</th>\n",
       "    </tr>\n",
       "  </thead>\n",
       "  <tbody>\n",
       "    <tr>\n",
       "      <th>1</th>\n",
       "      <td>Nat</td>\n",
       "      <td>21</td>\n",
       "      <td>77.80</td>\n",
       "      <td>B</td>\n",
       "      <td>Reading</td>\n",
       "      <td>F</td>\n",
       "    </tr>\n",
       "    <tr>\n",
       "      <th>2</th>\n",
       "      <td>Harry</td>\n",
       "      <td>19</td>\n",
       "      <td>91.54</td>\n",
       "      <td>A</td>\n",
       "      <td>Music</td>\n",
       "      <td>M</td>\n",
       "    </tr>\n",
       "  </tbody>\n",
       "</table>\n",
       "</div>"
      ],
      "text/plain": [
       "    Name  Age  Marks Grade    Hobby Gender\n",
       "1    Nat   21  77.80     B  Reading      F\n",
       "2  Harry   19  91.54     A    Music      M"
      ]
     },
     "execution_count": 48,
     "metadata": {},
     "output_type": "execute_result"
    }
   ],
   "source": [
    "df_ex.loc[[1,2],]"
   ]
  },
  {
   "cell_type": "markdown",
   "metadata": {
    "id": "RUHZDixEiNIS"
   },
   "source": [
    "**<font color='blue'>6.c. Using the `.loc[]` method, get the Marks and the Grade of Sam and Monica**"
   ]
  },
  {
   "cell_type": "code",
   "execution_count": 50,
   "metadata": {
    "executionInfo": {
     "elapsed": 3,
     "status": "ok",
     "timestamp": 1677192926723,
     "user": {
      "displayName": "Antoine Palisson",
      "userId": "06334333839821267204"
     },
     "user_tz": -60
    },
    "id": "EfkxCfw8gvhd"
   },
   "outputs": [
    {
     "data": {
      "text/html": [
       "<div>\n",
       "<style scoped>\n",
       "    .dataframe tbody tr th:only-of-type {\n",
       "        vertical-align: middle;\n",
       "    }\n",
       "\n",
       "    .dataframe tbody tr th {\n",
       "        vertical-align: top;\n",
       "    }\n",
       "\n",
       "    .dataframe thead th {\n",
       "        text-align: right;\n",
       "    }\n",
       "</style>\n",
       "<table border=\"1\" class=\"dataframe\">\n",
       "  <thead>\n",
       "    <tr style=\"text-align: right;\">\n",
       "      <th></th>\n",
       "      <th>Marks</th>\n",
       "      <th>Grade</th>\n",
       "    </tr>\n",
       "  </thead>\n",
       "  <tbody>\n",
       "    <tr>\n",
       "      <th>3</th>\n",
       "      <td>88.78</td>\n",
       "      <td>A</td>\n",
       "    </tr>\n",
       "    <tr>\n",
       "      <th>4</th>\n",
       "      <td>60.55</td>\n",
       "      <td>B</td>\n",
       "    </tr>\n",
       "  </tbody>\n",
       "</table>\n",
       "</div>"
      ],
      "text/plain": [
       "   Marks Grade\n",
       "3  88.78     A\n",
       "4  60.55     B"
      ]
     },
     "execution_count": 50,
     "metadata": {},
     "output_type": "execute_result"
    }
   ],
   "source": [
    "df_ex.loc[[3,4], ['Marks', 'Grade']]"
   ]
  },
  {
   "cell_type": "markdown",
   "metadata": {
    "id": "oh0HPZiykP2c"
   },
   "source": [
    "# Calculations"
   ]
  },
  {
   "cell_type": "markdown",
   "metadata": {
    "id": "b2da95MpyuNc"
   },
   "source": [
    "## Lesson"
   ]
  },
  {
   "cell_type": "markdown",
   "metadata": {
    "id": "d9E2n0FOyyPs"
   },
   "source": [
    "Pandas is a powerful data analysis and manipulation library in Python, which provides a variety of operations and calculations that can be performed on a pandas DataFrame, such as:\n",
    "\n",
    "\n",
    "*   Statistics : mean, median, standard deviation ...\n",
    "*   Math operators : addition, subtraction ...\n",
    "\n",
    "***These calculations can be done between Series. <br>It will always results in an element wise operation.***<br>"
   ]
  },
  {
   "cell_type": "code",
   "execution_count": 51,
   "metadata": {
    "colab": {
     "base_uri": "https://localhost:8080/"
    },
    "executionInfo": {
     "elapsed": 40,
     "status": "ok",
     "timestamp": 1677102980938,
     "user": {
      "displayName": "Antoine Palisson",
      "userId": "06334333839821267204"
     },
     "user_tz": -60
    },
    "id": "4_Fr_G_0kWUn",
    "outputId": "d35dab5f-1e07-425f-afc1-700a2d79643d"
   },
   "outputs": [
    {
     "data": {
      "text/plain": [
       "0      6\n",
       "1      8\n",
       "2     13\n",
       "3      8\n",
       "4     10\n",
       "5      9\n",
       "6     16\n",
       "7     14\n",
       "8     14\n",
       "9     13\n",
       "10    11\n",
       "11     9\n",
       "dtype: int64"
      ]
     },
     "execution_count": 51,
     "metadata": {},
     "output_type": "execute_result"
    }
   ],
   "source": [
    "series_1 = pd.Series([1,2,5,3,6,4,8,5,9,6,5,4])\n",
    "series_2 = pd.Series([5,6,8,5,4,5,8,9,5,7,6,5])\n",
    "\n",
    "series_3 = series_1 + series_2\n",
    "series_3"
   ]
  },
  {
   "cell_type": "code",
   "execution_count": 52,
   "metadata": {
    "colab": {
     "base_uri": "https://localhost:8080/"
    },
    "executionInfo": {
     "elapsed": 39,
     "status": "ok",
     "timestamp": 1677102980938,
     "user": {
      "displayName": "Antoine Palisson",
      "userId": "06334333839821267204"
     },
     "user_tz": -60
    },
    "id": "AFI9YKEg0UuX",
    "outputId": "790aa19c-7035-4151-c231-40d2ba285764"
   },
   "outputs": [
    {
     "data": {
      "text/plain": [
       "0      5\n",
       "1     12\n",
       "2     40\n",
       "3     15\n",
       "4     24\n",
       "5     20\n",
       "6     64\n",
       "7     45\n",
       "8     45\n",
       "9     42\n",
       "10    30\n",
       "11    20\n",
       "dtype: int64"
      ]
     },
     "execution_count": 52,
     "metadata": {},
     "output_type": "execute_result"
    }
   ],
   "source": [
    "series_4 = series_1 * series_2\n",
    "series_4"
   ]
  },
  {
   "cell_type": "markdown",
   "metadata": {
    "id": "nJ5W0G9x0Ah-"
   },
   "source": [
    "Pandas provides a variety of statistical functions that you can apply to both Series and DataFrame columns. Here are some of the most commonly used statistics that you can compute on pandas Series and DataFrame columns:\n",
    "\n",
    "\n",
    "\n",
    "*   Counting: `.count()`\n",
    "*   Summation: `.sum()`\n",
    "*   Mode: `.mode()`  众数\n",
    "*   Averaging: `.mean()`\n",
    "*   Median: `.median()`\n",
    "*   Minimum / maximum: `.min()` / `.max()`\n",
    "*   Variance / standard deviation: `.var()` / `.std()`\n",
    "*   Correlation (Pearson): `.corr()`\n",
    "*   Quantiles: `.quantile(q=0.5)`"
   ]
  },
  {
   "cell_type": "code",
   "execution_count": 53,
   "metadata": {
    "colab": {
     "base_uri": "https://localhost:8080/"
    },
    "executionInfo": {
     "elapsed": 38,
     "status": "ok",
     "timestamp": 1677102980939,
     "user": {
      "displayName": "Antoine Palisson",
      "userId": "06334333839821267204"
     },
     "user_tz": -60
    },
    "id": "cWlQfKOYz_80",
    "outputId": "7eb85ed3-7d0e-4a86-bd7c-23e0989fbb0b",
    "scrolled": true
   },
   "outputs": [
    {
     "name": "stdout",
     "output_type": "stream",
     "text": [
      "Series n°1 mean: 4.833333333333333\n",
      "Series n°2 mean: 6.083333333333333\n"
     ]
    }
   ],
   "source": [
    "print(f\"Series n°1 mean: {series_1.mean()}\")\n",
    "print(f\"Series n°2 mean: {series_2.mean()}\")"
   ]
  },
  {
   "cell_type": "markdown",
   "metadata": {
    "id": "pZZbzmg03hcS"
   },
   "source": [
    "The `describe()` function in pandas is a powerful method that provides summary statistics for a DataFrame or Series. It computes various descriptive statistics, such as the count, mean, standard deviation, minimum, and maximum values, as well as the quartiles for the numeric columns."
   ]
  },
  {
   "cell_type": "code",
   "execution_count": 54,
   "metadata": {
    "colab": {
     "base_uri": "https://localhost:8080/"
    },
    "executionInfo": {
     "elapsed": 37,
     "status": "ok",
     "timestamp": 1677102980939,
     "user": {
      "displayName": "Antoine Palisson",
      "userId": "06334333839821267204"
     },
     "user_tz": -60
    },
    "id": "z8v_0b-Y3p-0",
    "outputId": "22ed5570-aa94-417b-8e06-b419fc77809e"
   },
   "outputs": [
    {
     "data": {
      "text/plain": [
       "count    12.000000\n",
       "mean      4.833333\n",
       "std       2.289634\n",
       "min       1.000000\n",
       "25%       3.750000\n",
       "50%       5.000000\n",
       "75%       6.000000\n",
       "max       9.000000\n",
       "dtype: float64"
      ]
     },
     "execution_count": 54,
     "metadata": {},
     "output_type": "execute_result"
    }
   ],
   "source": [
    "series_1.describe()"
   ]
  },
  {
   "cell_type": "markdown",
   "metadata": {
    "id": "LQ30MBlM3vrJ"
   },
   "source": [
    "***All of these methods can be used on Dataframes.***"
   ]
  },
  {
   "cell_type": "code",
   "execution_count": 55,
   "metadata": {
    "colab": {
     "base_uri": "https://localhost:8080/"
    },
    "executionInfo": {
     "elapsed": 37,
     "status": "ok",
     "timestamp": 1677102980939,
     "user": {
      "displayName": "Antoine Palisson",
      "userId": "06334333839821267204"
     },
     "user_tz": -60
    },
    "id": "pe5OgzBc30H-",
    "outputId": "597f92d2-c255-4e49-9905-956ca8c2e5b2"
   },
   "outputs": [
    {
     "data": {
      "text/html": [
       "<div>\n",
       "<style scoped>\n",
       "    .dataframe tbody tr th:only-of-type {\n",
       "        vertical-align: middle;\n",
       "    }\n",
       "\n",
       "    .dataframe tbody tr th {\n",
       "        vertical-align: top;\n",
       "    }\n",
       "\n",
       "    .dataframe thead th {\n",
       "        text-align: right;\n",
       "    }\n",
       "</style>\n",
       "<table border=\"1\" class=\"dataframe\">\n",
       "  <thead>\n",
       "    <tr style=\"text-align: right;\">\n",
       "      <th></th>\n",
       "      <th>A</th>\n",
       "      <th>B</th>\n",
       "    </tr>\n",
       "  </thead>\n",
       "  <tbody>\n",
       "    <tr>\n",
       "      <th>0</th>\n",
       "      <td>1</td>\n",
       "      <td>8</td>\n",
       "    </tr>\n",
       "    <tr>\n",
       "      <th>1</th>\n",
       "      <td>2</td>\n",
       "      <td>5</td>\n",
       "    </tr>\n",
       "    <tr>\n",
       "      <th>2</th>\n",
       "      <td>5</td>\n",
       "      <td>2</td>\n",
       "    </tr>\n",
       "    <tr>\n",
       "      <th>3</th>\n",
       "      <td>4</td>\n",
       "      <td>8</td>\n",
       "    </tr>\n",
       "    <tr>\n",
       "      <th>4</th>\n",
       "      <td>5</td>\n",
       "      <td>5</td>\n",
       "    </tr>\n",
       "    <tr>\n",
       "      <th>5</th>\n",
       "      <td>6</td>\n",
       "      <td>12</td>\n",
       "    </tr>\n",
       "    <tr>\n",
       "      <th>6</th>\n",
       "      <td>5</td>\n",
       "      <td>18</td>\n",
       "    </tr>\n",
       "    <tr>\n",
       "      <th>7</th>\n",
       "      <td>2</td>\n",
       "      <td>2</td>\n",
       "    </tr>\n",
       "    <tr>\n",
       "      <th>8</th>\n",
       "      <td>3</td>\n",
       "      <td>11</td>\n",
       "    </tr>\n",
       "  </tbody>\n",
       "</table>\n",
       "</div>"
      ],
      "text/plain": [
       "   A   B\n",
       "0  1   8\n",
       "1  2   5\n",
       "2  5   2\n",
       "3  4   8\n",
       "4  5   5\n",
       "5  6  12\n",
       "6  5  18\n",
       "7  2   2\n",
       "8  3  11"
      ]
     },
     "execution_count": 55,
     "metadata": {},
     "output_type": "execute_result"
    }
   ],
   "source": [
    "df_1 = pd.DataFrame({'A':[1,2,5,4,5,6,5,2,3], 'B':[8,5,2,8,5,12,18,2,11]})\n",
    "df_1"
   ]
  },
  {
   "cell_type": "code",
   "execution_count": 56,
   "metadata": {
    "colab": {
     "base_uri": "https://localhost:8080/"
    },
    "executionInfo": {
     "elapsed": 37,
     "status": "ok",
     "timestamp": 1677102980940,
     "user": {
      "displayName": "Antoine Palisson",
      "userId": "06334333839821267204"
     },
     "user_tz": -60
    },
    "id": "mpjh470v4AwU",
    "outputId": "cc04076d-171b-45de-f806-b401d3cd4375"
   },
   "outputs": [
    {
     "data": {
      "text/html": [
       "<div>\n",
       "<style scoped>\n",
       "    .dataframe tbody tr th:only-of-type {\n",
       "        vertical-align: middle;\n",
       "    }\n",
       "\n",
       "    .dataframe tbody tr th {\n",
       "        vertical-align: top;\n",
       "    }\n",
       "\n",
       "    .dataframe thead th {\n",
       "        text-align: right;\n",
       "    }\n",
       "</style>\n",
       "<table border=\"1\" class=\"dataframe\">\n",
       "  <thead>\n",
       "    <tr style=\"text-align: right;\">\n",
       "      <th></th>\n",
       "      <th>A</th>\n",
       "      <th>B</th>\n",
       "    </tr>\n",
       "  </thead>\n",
       "  <tbody>\n",
       "    <tr>\n",
       "      <th>count</th>\n",
       "      <td>9.000000</td>\n",
       "      <td>9.000000</td>\n",
       "    </tr>\n",
       "    <tr>\n",
       "      <th>mean</th>\n",
       "      <td>3.666667</td>\n",
       "      <td>7.888889</td>\n",
       "    </tr>\n",
       "    <tr>\n",
       "      <th>std</th>\n",
       "      <td>1.732051</td>\n",
       "      <td>5.182771</td>\n",
       "    </tr>\n",
       "    <tr>\n",
       "      <th>min</th>\n",
       "      <td>1.000000</td>\n",
       "      <td>2.000000</td>\n",
       "    </tr>\n",
       "    <tr>\n",
       "      <th>25%</th>\n",
       "      <td>2.000000</td>\n",
       "      <td>5.000000</td>\n",
       "    </tr>\n",
       "    <tr>\n",
       "      <th>50%</th>\n",
       "      <td>4.000000</td>\n",
       "      <td>8.000000</td>\n",
       "    </tr>\n",
       "    <tr>\n",
       "      <th>75%</th>\n",
       "      <td>5.000000</td>\n",
       "      <td>11.000000</td>\n",
       "    </tr>\n",
       "    <tr>\n",
       "      <th>max</th>\n",
       "      <td>6.000000</td>\n",
       "      <td>18.000000</td>\n",
       "    </tr>\n",
       "  </tbody>\n",
       "</table>\n",
       "</div>"
      ],
      "text/plain": [
       "              A          B\n",
       "count  9.000000   9.000000\n",
       "mean   3.666667   7.888889\n",
       "std    1.732051   5.182771\n",
       "min    1.000000   2.000000\n",
       "25%    2.000000   5.000000\n",
       "50%    4.000000   8.000000\n",
       "75%    5.000000  11.000000\n",
       "max    6.000000  18.000000"
      ]
     },
     "execution_count": 56,
     "metadata": {},
     "output_type": "execute_result"
    }
   ],
   "source": [
    "df_1.describe()"
   ]
  },
  {
   "cell_type": "markdown",
   "metadata": {
    "id": "gC_vNHYpyvxb"
   },
   "source": [
    "## Exercises"
   ]
  },
  {
   "cell_type": "markdown",
   "metadata": {
    "id": "P6pXfArP1lt8"
   },
   "source": [
    "**<font color='blue'>1. Reuse the dataframe created at the last exercise and compute the mean of the marks column.**"
   ]
  },
  {
   "cell_type": "code",
   "execution_count": 57,
   "metadata": {
    "id": "x9Fvj9vNgwyb"
   },
   "outputs": [
    {
     "data": {
      "text/plain": [
       "80.754"
      ]
     },
     "execution_count": 57,
     "metadata": {},
     "output_type": "execute_result"
    }
   ],
   "source": [
    "df_ex['Marks'].mean()"
   ]
  },
  {
   "cell_type": "markdown",
   "metadata": {
    "id": "4iHigxV31v_A"
   },
   "source": [
    "**<font color='blue'>2. Select both Marks and Age columns and compute the median as well as the first (q=0.25) and the third (q=0.75) quartiles.<br> Is the output a Dataframe or a Series ?**"
   ]
  },
  {
   "cell_type": "code",
   "execution_count": 63,
   "metadata": {
    "id": "2puyZ5ZXgyAg"
   },
   "outputs": [],
   "source": [
    "cal_median = df_ex[['Marks', 'Age']].median()\n",
    "cal_q1 = df_ex[['Marks', 'Age']].quantile(q = 0.25)\n",
    "cal_q2 = df_ex[['Marks', 'Age']].quantile(q = 0.75)"
   ]
  },
  {
   "cell_type": "markdown",
   "metadata": {
    "id": "dGRo4Vv32LlN"
   },
   "source": [
    "**<font color='blue'>3. Create a Dataframe that contains the outputs of question 2.**\n",
    "\n",
    "*Tips: The dataframe should have Marks and Age as index and Median, Quantile 1, Quantile 2 as columns.*"
   ]
  },
  {
   "cell_type": "code",
   "execution_count": 64,
   "metadata": {
    "id": "JD8dO_0Ggysk"
   },
   "outputs": [
    {
     "data": {
      "text/html": [
       "<div>\n",
       "<style scoped>\n",
       "    .dataframe tbody tr th:only-of-type {\n",
       "        vertical-align: middle;\n",
       "    }\n",
       "\n",
       "    .dataframe tbody tr th {\n",
       "        vertical-align: top;\n",
       "    }\n",
       "\n",
       "    .dataframe thead th {\n",
       "        text-align: right;\n",
       "    }\n",
       "</style>\n",
       "<table border=\"1\" class=\"dataframe\">\n",
       "  <thead>\n",
       "    <tr style=\"text-align: right;\">\n",
       "      <th></th>\n",
       "      <th>Median</th>\n",
       "      <th>Quantile 1</th>\n",
       "      <th>Quantile 2</th>\n",
       "    </tr>\n",
       "  </thead>\n",
       "  <tbody>\n",
       "    <tr>\n",
       "      <th>Marks</th>\n",
       "      <td>85.1</td>\n",
       "      <td>77.8</td>\n",
       "      <td>88.78</td>\n",
       "    </tr>\n",
       "    <tr>\n",
       "      <th>Age</th>\n",
       "      <td>20.0</td>\n",
       "      <td>20.0</td>\n",
       "      <td>21.00</td>\n",
       "    </tr>\n",
       "  </tbody>\n",
       "</table>\n",
       "</div>"
      ],
      "text/plain": [
       "       Median  Quantile 1  Quantile 2\n",
       "Marks    85.1        77.8       88.78\n",
       "Age      20.0        20.0       21.00"
      ]
     },
     "execution_count": 64,
     "metadata": {},
     "output_type": "execute_result"
    }
   ],
   "source": [
    "df_cal = pd.DataFrame({\n",
    "    \"Median\": cal_median,\n",
    "    \"Quantile 1\": cal_q1,\n",
    "    \"Quantile 2\": cal_q2\n",
    "})\n",
    "df_cal"
   ]
  },
  {
   "cell_type": "markdown",
   "metadata": {
    "id": "oQnbrQK22t_d"
   },
   "source": [
    "**<font color='blue'>4. Add the dataframe to itself. <br> What's happening ?**"
   ]
  },
  {
   "cell_type": "code",
   "execution_count": null,
   "metadata": {
    "id": "yXMJtXcsgzEu"
   },
   "outputs": [],
   "source": []
  },
  {
   "cell_type": "markdown",
   "metadata": {
    "id": "R1M_z-mU2-BD"
   },
   "source": [
    "**<font color='blue'>5. Find the most common Grade in the dataframe.**\n",
    "\n",
    "*Tips: If you don't find how to do it --> [Solution](https://pandas.pydata.org/docs/reference/api/pandas.DataFrame.mode.html)*"
   ]
  },
  {
   "cell_type": "code",
   "execution_count": 65,
   "metadata": {
    "id": "bfeCe9lHgzp4"
   },
   "outputs": [
    {
     "data": {
      "text/plain": [
       "<bound method Series.mode of 0    A\n",
       "1    B\n",
       "2    A\n",
       "3    A\n",
       "4    B\n",
       "Name: Grade, dtype: object>"
      ]
     },
     "execution_count": 65,
     "metadata": {},
     "output_type": "execute_result"
    }
   ],
   "source": [
    "df_ex['Grade'].mode"
   ]
  },
  {
   "cell_type": "markdown",
   "metadata": {
    "id": "QMofI4uy3eO8"
   },
   "source": [
    "**<font color='blue'>6. Use the `describe()` method on the numerical columns of the dataframe only.**"
   ]
  },
  {
   "cell_type": "code",
   "execution_count": 66,
   "metadata": {
    "id": "_3ds5WDYg0DN"
   },
   "outputs": [
    {
     "data": {
      "text/html": [
       "<div>\n",
       "<style scoped>\n",
       "    .dataframe tbody tr th:only-of-type {\n",
       "        vertical-align: middle;\n",
       "    }\n",
       "\n",
       "    .dataframe tbody tr th {\n",
       "        vertical-align: top;\n",
       "    }\n",
       "\n",
       "    .dataframe thead th {\n",
       "        text-align: right;\n",
       "    }\n",
       "</style>\n",
       "<table border=\"1\" class=\"dataframe\">\n",
       "  <thead>\n",
       "    <tr style=\"text-align: right;\">\n",
       "      <th></th>\n",
       "      <th>Age</th>\n",
       "      <th>Marks</th>\n",
       "    </tr>\n",
       "  </thead>\n",
       "  <tbody>\n",
       "    <tr>\n",
       "      <th>count</th>\n",
       "      <td>5.000000</td>\n",
       "      <td>5.000000</td>\n",
       "    </tr>\n",
       "    <tr>\n",
       "      <th>mean</th>\n",
       "      <td>20.400000</td>\n",
       "      <td>80.754000</td>\n",
       "    </tr>\n",
       "    <tr>\n",
       "      <th>std</th>\n",
       "      <td>1.140175</td>\n",
       "      <td>12.415413</td>\n",
       "    </tr>\n",
       "    <tr>\n",
       "      <th>min</th>\n",
       "      <td>19.000000</td>\n",
       "      <td>60.550000</td>\n",
       "    </tr>\n",
       "    <tr>\n",
       "      <th>25%</th>\n",
       "      <td>20.000000</td>\n",
       "      <td>77.800000</td>\n",
       "    </tr>\n",
       "    <tr>\n",
       "      <th>50%</th>\n",
       "      <td>20.000000</td>\n",
       "      <td>85.100000</td>\n",
       "    </tr>\n",
       "    <tr>\n",
       "      <th>75%</th>\n",
       "      <td>21.000000</td>\n",
       "      <td>88.780000</td>\n",
       "    </tr>\n",
       "    <tr>\n",
       "      <th>max</th>\n",
       "      <td>22.000000</td>\n",
       "      <td>91.540000</td>\n",
       "    </tr>\n",
       "  </tbody>\n",
       "</table>\n",
       "</div>"
      ],
      "text/plain": [
       "             Age      Marks\n",
       "count   5.000000   5.000000\n",
       "mean   20.400000  80.754000\n",
       "std     1.140175  12.415413\n",
       "min    19.000000  60.550000\n",
       "25%    20.000000  77.800000\n",
       "50%    20.000000  85.100000\n",
       "75%    21.000000  88.780000\n",
       "max    22.000000  91.540000"
      ]
     },
     "execution_count": 66,
     "metadata": {},
     "output_type": "execute_result"
    }
   ],
   "source": [
    "df_ex.describe()"
   ]
  },
  {
   "cell_type": "markdown",
   "metadata": {
    "id": "aKMbxZCdkYWI"
   },
   "source": [
    "# Visualization"
   ]
  },
  {
   "cell_type": "markdown",
   "metadata": {
    "id": "fDiT00N3HwL3"
   },
   "source": [
    "## Lessons"
   ]
  },
  {
   "cell_type": "code",
   "execution_count": 67,
   "metadata": {
    "id": "lzZ5qf2fPlA7"
   },
   "outputs": [],
   "source": [
    "import matplotlib.pyplot as plt"
   ]
  },
  {
   "cell_type": "markdown",
   "metadata": {
    "id": "bejreHeK4jCf"
   },
   "source": [
    "Pandas provides several built-in visualization tools that allow you to quickly create various types of charts and graphs to help you understand and communicate your data. Here are some of the visualization tools provided by pandas:\n",
    "\n",
    "*   **Line charts**: The `plot()` function can be used to create a line chart of a DataFrame or Series.\n",
    "\n",
    "*   **Bar charts**: The `plot.bar()` function can be used to create a bar chart of a DataFrame or Series.\n",
    "\n",
    "*   **Histograms**: The `plot.hist()` function can be used to create a histogram of a DataFrame or Series.\n",
    "\n",
    "*   **Box plots**: The `plot.box()` function can be used to create a box plot of a DataFrame or Series.\n",
    "\n",
    "*   **Scatter plots**: The `plot.scatter()` function can be used to create a scatter plot of two columns in a DataFrame.\n",
    "\n",
    "*   **Pie charts**: The `plot.pie()` function can be used to create a pie chart of a Series."
   ]
  },
  {
   "cell_type": "markdown",
   "metadata": {
    "id": "bD5t0xKBOl7B"
   },
   "source": [
    "The `.plot()` method can be used to create line plots, area plots, scatter plots, and more for data stored in a pandas DataFrame or Series object.\n",
    "\n",
    "Here are some of the key features and arguments of the .plot() method:\n",
    "\n",
    "*  **Parameters**: The method takes several optional parameters that allow you to customize the appearance of the plot, such as the color, line style, marker style, and more. It also takes parameters that are specific to each plot type, such as the kind parameter, which specifies the type of plot to create.\n",
    "\n",
    "*  **Multiple plots**: You can create multiple plots in a single figure by calling the `.plot()` method multiple times on the same Matplotlib axes object.\n",
    "\n",
    "`.plot()` [Documentation](https://pandas.pydata.org/docs/reference/api/pandas.DataFrame.plot.html)"
   ]
  },
  {
   "cell_type": "code",
   "execution_count": 69,
   "metadata": {
    "colab": {
     "base_uri": "https://localhost:8080/",
     "height": 494
    },
    "executionInfo": {
     "elapsed": 434,
     "status": "ok",
     "timestamp": 1677104931801,
     "user": {
      "displayName": "Antoine Palisson",
      "userId": "06334333839821267204"
     },
     "user_tz": -60
    },
    "id": "7I9I74QROqxo",
    "outputId": "ffe105cf-5117-42be-ddeb-a58dc8b094bd"
   },
   "outputs": [
    {
     "data": {
      "image/png": "[encoded data removed]",
      "text/plain": [
       "<Figure size 1080x576 with 1 Axes>"
      ]
     },
     "metadata": {
      "needs_background": "light"
     },
     "output_type": "display_data"
    }
   ],
   "source": [
    "import numpy as np\n",
    "# Creation of a Time Series\n",
    "ts = pd.Series(np.random.randn(100), \n",
    "               index=pd.date_range(\"1/1/2000\", periods=100)).cumsum()\n",
    "\n",
    "# Plotting the line\n",
    "ts.plot(figsize=(15,8))\n",
    "plt.show()"
   ]
  },
  {
   "cell_type": "markdown",
   "metadata": {
    "id": "2uOCvs3wPPa6"
   },
   "source": [
    "The line plot can also be used on a Dataframe with multiple Time Series."
   ]
  },
  {
   "cell_type": "code",
   "execution_count": 71,
   "metadata": {
    "colab": {
     "base_uri": "https://localhost:8080/",
     "height": 494
    },
    "executionInfo": {
     "elapsed": 907,
     "status": "ok",
     "timestamp": 1677105008518,
     "user": {
      "displayName": "Antoine Palisson",
      "userId": "06334333839821267204"
     },
     "user_tz": -60
    },
    "id": "AlEkXtB0Psho",
    "outputId": "60c52699-2392-41e5-9232-150d805b3b5b"
   },
   "outputs": [
    {
     "name": "stdout",
     "output_type": "stream",
     "text": [
      "            Time Series A  Time Series B  Time Series C  Time Series D\n",
      "2000-01-01      -0.196244      -0.553203       0.095687      -0.234768\n",
      "2000-01-02       1.531960      -0.666570       0.673990      -0.201997\n",
      "2000-01-03       1.479908       1.075128       0.799630       2.288900\n",
      "2000-01-04       1.544398       3.683364      -0.242096       4.109812\n",
      "2000-01-05       1.528405       4.314403      -1.472644       3.328769\n",
      "...                   ...            ...            ...            ...\n",
      "2000-04-05      20.984570      10.150946       4.212025       5.700819\n",
      "2000-04-06      21.484846      10.087617       5.620884       5.256404\n",
      "2000-04-07      20.997786      10.149984       7.775955       6.377419\n",
      "2000-04-08      19.133598      10.857631       9.528217       6.602472\n",
      "2000-04-09      19.545140      12.634145       9.663989       5.372402\n",
      "\n",
      "[100 rows x 4 columns]\n"
     ]
    },
    {
     "data": {
      "image/png": "[encoded data removed]",
      "text/plain": [
       "<Figure size 1080x576 with 1 Axes>"
      ]
     },
     "metadata": {
      "needs_background": "light"
     },
     "output_type": "display_data"
    }
   ],
   "source": [
    "# Creation of multiple Time Series\n",
    "df = pd.DataFrame(np.random.randn(100,4), \n",
    "                  columns=['Time Series A','Time Series B','Time Series C','Time Series D'],\n",
    "                  index=pd.date_range(\"1/1/2000\", periods=100)).cumsum()\n",
    "\n",
    "print(df)\n",
    "# Plotting the line\n",
    "df.plot(figsize=(15,8))\n",
    "plt.show()"
   ]
  },
  {
   "cell_type": "markdown",
   "metadata": {
    "id": "ptA4-6RKIkNV"
   },
   "source": [
    "The `.plot.bar()` can be used to create vertical or horizontal bar plots for data stored in a pandas DataFrame or Series object.\n",
    "\n",
    "Here are some of the key features and arguments of the .plot.bar() method:\n",
    "\n",
    "* ***Parameters***: The method takes several optional parameters that allow you to customize the appearance of the plot, such as the color, edge color, line width, transparency, and more. It also takes many of the same parameters as other plot methods in pandas, such as figsize, title, and xlabel.\n",
    "\n",
    "* ***Vertical or horizontal bars***: By default, the method creates vertical bar plots, but you can also create horizontal bar plots by passing the kind='barh' parameter.\n",
    "\n",
    "`.plot.bar()` [Documentation](https://pandas.pydata.org/docs/reference/api/pandas.DataFrame.plot.bar.html)"
   ]
  },
  {
   "cell_type": "code",
   "execution_count": 72,
   "metadata": {
    "colab": {
     "base_uri": "https://localhost:8080/",
     "height": 522
    },
    "executionInfo": {
     "elapsed": 507,
     "status": "ok",
     "timestamp": 1677104878582,
     "user": {
      "displayName": "Antoine Palisson",
      "userId": "06334333839821267204"
     },
     "user_tz": -60
    },
    "id": "XRKlWPPAH04s",
    "outputId": "17dd5ea0-8560-4f20-99d9-7b68758abad8"
   },
   "outputs": [
    {
     "data": {
      "image/png": "[encoded data removed]",
      "text/plain": [
       "<Figure size 1080x576 with 1 Axes>"
      ]
     },
     "metadata": {
      "needs_background": "light"
     },
     "output_type": "display_data"
    }
   ],
   "source": [
    "my_dict = {'Name':['Joe', 'Nat', 'Harry', 'Sam', 'Monica'],\n",
    "           'Marks':[88.10,77.8,91.54,88.78,60.55]}\n",
    "\n",
    "df = pd.DataFrame(my_dict)\n",
    "\n",
    "df.plot.bar(x='Name',           # Specify the x-axis here\n",
    "            y='Marks',          # Specify the y-axis here\n",
    "            figsize=(15,8))     # You can add other parameters such as the figure size\n",
    "\n",
    "plt.show()"
   ]
  },
  {
   "cell_type": "markdown",
   "metadata": {
    "id": "KOxz7SvKOO8Y"
   },
   "source": [
    "The `plot.hist()` method can be used to create a histogram of a single column in a pandas DataFrame or Series object.\n",
    "\n",
    "Here are some of the key features and arguments of the `plot.hist()` method:\n",
    "\n",
    "*  **Parameters**: The method takes several optional parameters that allow you to customize the appearance of the plot, such as the number of bins, the color of the bars, and more. It also takes many of the same parameters as other plot methods in pandas, such as figsize, title, and xlabel.\n",
    "\n",
    "*  **Binning**: The `plot.hist()` method automatically bins the data into a specified number of `bins` (default is 10), and displays the counts or frequencies of the data i\n",
    "n each bin.\n",
    "\n",
    "*  **Overlayed histograms**: You can create overlayed histograms of multiple columns in a DataFrame by calling `plot.hist()` on each column and passing `alpha` parameter to make them transparent.\n",
    "\n",
    "*  **Cumulative histograms**: You can create cumulative histograms by passing the `cumulative=True` parameter. This will display the cumulative counts or frequencies of the data in each bin.\n",
    "\n",
    "`plot.hist()` [Documentation](https://pandas.pydata.org/docs/reference/api/pandas.DataFrame.hist.html)"
   ]
  },
  {
   "cell_type": "code",
   "execution_count": 74,
   "metadata": {
    "colab": {
     "base_uri": "https://localhost:8080/",
     "height": 483
    },
    "executionInfo": {
     "elapsed": 475,
     "status": "ok",
     "timestamp": 1677105271411,
     "user": {
      "displayName": "Antoine Palisson",
      "userId": "06334333839821267204"
     },
     "user_tz": -60
    },
    "id": "o86xJmtwQUXY",
    "outputId": "83c212c3-311e-40fc-d469-0501af682c29",
    "scrolled": true
   },
   "outputs": [
    {
     "data": {
      "image/png": "[encoded data removed]",
      "text/plain": [
       "<Figure size 1080x576 with 1 Axes>"
      ]
     },
     "metadata": {
      "needs_background": "light"
     },
     "output_type": "display_data"
    }
   ],
   "source": [
    "# Generating a random Series that follows a Normal Distribution\n",
    "s = pd.Series(np.random.normal(loc=0,\n",
    "                               scale=1,\n",
    "                               size=100))\n",
    "\n",
    "# Displaying the histogram\n",
    "s.plot.hist(figsize=(15,8))\n",
    "plt.show()"
   ]
  },
  {
   "cell_type": "markdown",
   "metadata": {
    "id": "7Jed0sejQ6VG"
   },
   "source": [
    "***Multiple histograms can be plotted*** on the same graph using `.plot.hist()` on a dataframe."
   ]
  },
  {
   "cell_type": "code",
   "execution_count": 75,
   "metadata": {
    "colab": {
     "base_uri": "https://localhost:8080/",
     "height": 483
    },
    "executionInfo": {
     "elapsed": 672,
     "status": "ok",
     "timestamp": 1677105372888,
     "user": {
      "displayName": "Antoine Palisson",
      "userId": "06334333839821267204"
     },
     "user_tz": -60
    },
    "id": "lqOFsN-TRAhF",
    "outputId": "1470c802-f24c-43f1-8177-8a6d29b16e17"
   },
   "outputs": [
    {
     "data": {
      "image/png": "[encoded data removed]",
      "text/plain": [
       "<Figure size 1080x576 with 1 Axes>"
      ]
     },
     "metadata": {
      "needs_background": "light"
     },
     "output_type": "display_data"
    }
   ],
   "source": [
    "# Generating a random Series that follows a Normal Distribution\n",
    "df = pd.DataFrame(np.random.normal(loc=0,\n",
    "                                  scale=1,\n",
    "                                  size=(100,4)),\n",
    "                 columns=['A','B','C','D'])\n",
    "\n",
    "# Displaying the histogram\n",
    "df.plot.hist(bins=20,\n",
    "             alpha=0.5,\n",
    "             figsize=(15,8))\n",
    "plt.show()"
   ]
  },
  {
   "cell_type": "markdown",
   "metadata": {
    "id": "Jzop7j3ZRUIZ"
   },
   "source": [
    "You can create ***multiple subplots with the `plot.hist()` method (and most of the other .plot pandas methods*** by passing the `subplots=True` parameter. This will create one subplot for each column in the DataFrame or Series."
   ]
  },
  {
   "cell_type": "code",
   "execution_count": 76,
   "metadata": {
    "colab": {
     "base_uri": "https://localhost:8080/",
     "height": 700
    },
    "executionInfo": {
     "elapsed": 1921,
     "status": "ok",
     "timestamp": 1677105437652,
     "user": {
      "displayName": "Antoine Palisson",
      "userId": "06334333839821267204"
     },
     "user_tz": -60
    },
    "id": "0WTWl2xhRboj",
    "outputId": "e0e35778-ae91-4347-ffdf-c68df2dc9791"
   },
   "outputs": [
    {
     "data": {
      "image/png": "[encoded data removed]",
      "text/plain": [
       "<Figure size 864x864 with 4 Axes>"
      ]
     },
     "metadata": {
      "needs_background": "light"
     },
     "output_type": "display_data"
    }
   ],
   "source": [
    "df.plot.hist(bins=20,\n",
    "             subplots=True,\n",
    "             figsize=(12,12))\n",
    "plt.show()"
   ]
  },
  {
   "cell_type": "markdown",
   "metadata": {
    "id": "4xPHiHD-Rrzb"
   },
   "source": [
    "The `plot.box()` method can be used to create a box plot of one or more columns in a pandas DataFrame.\n",
    "\n",
    "Here are some of the key features and arguments of the plot.box() method:\n",
    "\n",
    "* **Parameters**: The method takes several optional parameters that allow you to customize the appearance of the plot, such as the color of the boxes and whiskers, the style of the outliers, and more. It also takes many of the same parameters as other plot methods in pandas, such as figsize, title, and xlabel.\n",
    "\n",
    "* **Multiple columns**: You can create box plots of multiple columns in a DataFrame by passing a list of column names to the column parameter.\n",
    "\n",
    "`plot.box()` [Documentation](https://pandas.pydata.org/docs/reference/api/pandas.DataFrame.plot.box.html)"
   ]
  },
  {
   "cell_type": "code",
   "execution_count": 77,
   "metadata": {
    "colab": {
     "base_uri": "https://localhost:8080/",
     "height": 592
    },
    "executionInfo": {
     "elapsed": 370,
     "status": "ok",
     "timestamp": 1677105713055,
     "user": {
      "displayName": "Antoine Palisson",
      "userId": "06334333839821267204"
     },
     "user_tz": -60
    },
    "id": "yv_nFOV4R4hx",
    "outputId": "e49f6af0-b2cb-47d7-bfc7-04b9fffa12d5"
   },
   "outputs": [
    {
     "data": {
      "image/png": "[encoded data removed]",
      "text/plain": [
       "<Figure size 720x720 with 1 Axes>"
      ]
     },
     "metadata": {
      "needs_background": "light"
     },
     "output_type": "display_data"
    }
   ],
   "source": [
    "# Generating a random Series that follows a Normal Distribution\n",
    "arr = np.random.normal(loc=0,\n",
    "                       scale=1,\n",
    "                       size=100)\n",
    "\n",
    "# Generating some outliers\n",
    "arr[25] = 7\n",
    "arr[50] = 5\n",
    "arr[75] = -8\n",
    "\n",
    "s = pd.Series(arr)\n",
    "s.plot.box(figsize=(10,10))\n",
    "plt.show()"
   ]
  },
  {
   "cell_type": "markdown",
   "metadata": {
    "id": "9Ukj6rS4Sxx_"
   },
   "source": [
    "The `plot.scatter()` method can be used to create a scatter plot of two columns in a pandas DataFrame or Series object.\n",
    "\n",
    "Here are some of the key features and arguments of the `plot.scatter()` method:\n",
    "\n",
    "*  **Parameters**: The method takes several optional parameters that allow you to customize the appearance of the plot, such as the color, size, and shape of the markers, and more. It also takes many of the same parameters as other plot methods in pandas, such as `figsize`, `title`, and `xlabel`.\n",
    "\n",
    "* **Multiple columns**: You can create scatter plots of multiple columns in a DataFrame by passing a list of column names to the `x` and` y` parameters.\n",
    "\n",
    "*  **Color mapping**: You can map a third column in the DataFrame to the color of the markers by passing the column name to the `c` parameter. You can also specify the colormap and normalization for the color mapping with the `cmap` and `norm` parameters, respectively.\n",
    "\n",
    "*  **Size mapping**: You can map a fourth column in the DataFrame to the size of the markers by passing the column name to the `s` parameter. You can also specify the scaling factor for the size mapping with the `s` parameter.\n",
    "\n",
    "`plot.scatter()` [Documentation](https://pandas.pydata.org/docs/reference/api/pandas.DataFrame.plot.scatter.html?highlight=scatter#pandas.DataFrame.plot.scatter)"
   ]
  },
  {
   "cell_type": "code",
   "execution_count": 78,
   "metadata": {
    "colab": {
     "base_uri": "https://localhost:8080/",
     "height": 497
    },
    "executionInfo": {
     "elapsed": 1108,
     "status": "ok",
     "timestamp": 1677106137533,
     "user": {
      "displayName": "Antoine Palisson",
      "userId": "06334333839821267204"
     },
     "user_tz": -60
    },
    "id": "QCbGB68ETVfT",
    "outputId": "5fedb14f-576c-4b58-e8c1-4e7edfcc56fd"
   },
   "outputs": [
    {
     "data": {
      "image/png": "[encoded data removed]",
      "text/plain": [
       "<Figure size 1080x576 with 1 Axes>"
      ]
     },
     "metadata": {
      "needs_background": "light"
     },
     "output_type": "display_data"
    }
   ],
   "source": [
    "# Generating a dataframe with 3 columns\n",
    "df = pd.DataFrame(np.random.random((20,3)),\n",
    "                  columns=['length', 'width', 'species'])\n",
    "\n",
    "df.plot.scatter(x='length',\n",
    "                y='width',\n",
    "                c='orange',       # Color of the dots\n",
    "                figsize=(15,8))\n",
    "plt.show()"
   ]
  },
  {
   "cell_type": "markdown",
   "metadata": {
    "id": "ZokTpqcpUP1A"
   },
   "source": [
    "The `plot.pie()` method can be used to create a pie chart of a single column in a pandas DataFrame or Series object.\n",
    "\n",
    "Here are some of the key features and arguments of the `plot.pie()` method:\n",
    "\n",
    "*  **Parameters**: The method takes several optional parameters that allow you to customize the appearance of the pie chart, such as the colors of the wedges, the size of the chart, and more. It also takes many of the same parameters as other plot methods in pandas, such as `figsize`, `title`, and `ylabel`.\n",
    "\n",
    "*  **Explode**: You can \"explode\" one or more wedges by passing a list of values to the `explode` parameter. The values in the list specify the offset of the wedge from the center of the pie chart.\n",
    "\n",
    "*  **Angle**: You can rotate the pie chart by passing the `startangle` parameter. This specifies the angle at which the first wedge starts, measured in degrees counterclockwise from the x-axis.\n",
    "\n",
    "`plot.pie()` [Documentation](https://pandas.pydata.org/docs/reference/api/pandas.DataFrame.plot.pie.html)"
   ]
  },
  {
   "cell_type": "code",
   "execution_count": 79,
   "metadata": {
    "colab": {
     "base_uri": "https://localhost:8080/",
     "height": 575
    },
    "executionInfo": {
     "elapsed": 382,
     "status": "ok",
     "timestamp": 1677106284074,
     "user": {
      "displayName": "Antoine Palisson",
      "userId": "06334333839821267204"
     },
     "user_tz": -60
    },
    "id": "pq3AjNyFUNTq",
    "outputId": "d57e7ff8-7fff-48ef-f7be-1116e01694a7"
   },
   "outputs": [
    {
     "data": {
      "image/png": "[encoded data removed]",
      "text/plain": [
       "<Figure size 720x720 with 1 Axes>"
      ]
     },
     "metadata": {},
     "output_type": "display_data"
    }
   ],
   "source": [
    "# Create a dataframe\n",
    "df = pd.DataFrame({'mass': [0.330, 4.87 , 5.97],\n",
    "                   'radius': [2439.7, 6051.8, 6378.1]},\n",
    "                  index=['Mercury', 'Venus', 'Earth'])\n",
    "\n",
    "df.plot.pie(y='mass', \n",
    "            figsize=(10, 10))\n",
    "plt.show()"
   ]
  },
  {
   "cell_type": "markdown",
   "metadata": {
    "id": "Rr_DiO28HyXs"
   },
   "source": [
    "## Exercise"
   ]
  },
  {
   "cell_type": "code",
   "execution_count": 121,
   "metadata": {
    "id": "Efta6XQqVdfk"
   },
   "outputs": [],
   "source": [
    "import seaborn as sns\n",
    "\n",
    "tips = sns.load_dataset('tips')\n",
    "iris = sns.load_dataset('iris')\n",
    "mpg = sns.load_dataset('mpg')\n",
    "diamonds = sns.load_dataset('diamonds').sample(frac=0.01)\n",
    "titanic = sns.load_dataset('titanic')"
   ]
  },
  {
   "cell_type": "markdown",
   "metadata": {
    "id": "WAve3s1pVO9d"
   },
   "source": [
    "Use the tips DataFrame from seaborn.\n",
    "\n",
    "**<font color='blue'>1.a. Create a histogram of the `total_bill` column using the `plot.hist()` method. <br>Experiment with different numbers of bins to find the best representation of the data.**"
   ]
  },
  {
   "cell_type": "code",
   "execution_count": 90,
   "metadata": {
    "id": "pa0_KwOSg2cj"
   },
   "outputs": [
    {
     "data": {
      "text/plain": [
       "<AxesSubplot:ylabel='Frequency'>"
      ]
     },
     "execution_count": 90,
     "metadata": {},
     "output_type": "execute_result"
    },
    {
     "data": {
      "image/png": "[encoded data removed]",
      "text/plain": [
       "<Figure size 432x288 with 1 Axes>"
      ]
     },
     "metadata": {
      "needs_background": "light"
     },
     "output_type": "display_data"
    }
   ],
   "source": [
    "tips['total_bill'].plot.hist(bins = 8)"
   ]
  },
  {
   "cell_type": "markdown",
   "metadata": {
    "id": "JH5vCPuVWKY-"
   },
   "source": [
    "**<font color='blue'>1.b. Count the number of Male and Female in the `sex` column.<br> Display a bar graph of the counts using .plot.bar().**\n",
    "\n",
    "*Tips: You can use the `value_counts()` method.*"
   ]
  },
  {
   "cell_type": "code",
   "execution_count": 91,
   "metadata": {
    "id": "5aN8DqcSg29t"
   },
   "outputs": [
    {
     "data": {
      "text/plain": [
       "<AxesSubplot:>"
      ]
     },
     "execution_count": 91,
     "metadata": {},
     "output_type": "execute_result"
    },
    {
     "data": {
      "image/png": "[encoded data removed]",
      "text/plain": [
       "<Figure size 432x288 with 1 Axes>"
      ]
     },
     "metadata": {
      "needs_background": "light"
     },
     "output_type": "display_data"
    }
   ],
   "source": [
    "tips['sex'].value_counts().plot.bar()"
   ]
  },
  {
   "cell_type": "markdown",
   "metadata": {
    "id": "DCa6eT8VXD8Y"
   },
   "source": [
    "**<font color='blue'>1.c. Create a boxplot graph of the `tip` column.<br>Is there any outlier ?**\n"
   ]
  },
  {
   "cell_type": "code",
   "execution_count": 92,
   "metadata": {
    "id": "7MKE5eOpg3bZ"
   },
   "outputs": [
    {
     "data": {
      "text/plain": [
       "<AxesSubplot:>"
      ]
     },
     "execution_count": 92,
     "metadata": {},
     "output_type": "execute_result"
    },
    {
     "data": {
      "image/png": "[encoded data removed]",
      "text/plain": [
       "<Figure size 432x288 with 1 Axes>"
      ]
     },
     "metadata": {
      "needs_background": "light"
     },
     "output_type": "display_data"
    }
   ],
   "source": [
    "tips['tip'].plot.box()\n",
    "#There are several outliers."
   ]
  },
  {
   "cell_type": "markdown",
   "metadata": {
    "id": "b3BJvNjjXdnB"
   },
   "source": [
    "Use the iris dataset.\n",
    "\n",
    "**<font color='blue'>2. Create a scatter plot of the `sepal_length` and `sepal_width` columns using the `plot.scatter()` method.**"
   ]
  },
  {
   "cell_type": "code",
   "execution_count": 94,
   "metadata": {
    "id": "zqzcQu4ig36P"
   },
   "outputs": [
    {
     "data": {
      "text/plain": [
       "<AxesSubplot:xlabel='sepal_length', ylabel='sepal_width'>"
      ]
     },
     "execution_count": 94,
     "metadata": {},
     "output_type": "execute_result"
    },
    {
     "data": {
      "image/png": "[encoded data removed]",
      "text/plain": [
       "<Figure size 432x288 with 1 Axes>"
      ]
     },
     "metadata": {
      "needs_background": "light"
     },
     "output_type": "display_data"
    }
   ],
   "source": [
    "iris\n",
    "iris.plot.scatter(x = 'sepal_length', y = 'sepal_width')"
   ]
  },
  {
   "cell_type": "markdown",
   "metadata": {
    "id": "dC2Jf8zUYK_C"
   },
   "source": [
    "Use the mpg dataset\n",
    "\n",
    "**<font color='blue'>3.a. Create a box plot of the mpg and the acceleration columns using the `plot.box()` method. The two boxplots should be on the same graph.**"
   ]
  },
  {
   "cell_type": "code",
   "execution_count": 100,
   "metadata": {
    "id": "RNDFP6EBg4Rp"
   },
   "outputs": [
    {
     "data": {
      "image/png": "[encoded data removed]",
      "text/plain": [
       "<Figure size 720x576 with 2 Axes>"
      ]
     },
     "metadata": {
      "needs_background": "light"
     },
     "output_type": "display_data"
    }
   ],
   "source": [
    "mpg\n",
    "plt.figure(figsize = (10, 8))\n",
    "plt.subplot(211)\n",
    "mpg['mpg'].plot.box()\n",
    "plt.subplot(212)\n",
    "mpg['acceleration'].plot.box()\n",
    "plt.show()"
   ]
  },
  {
   "cell_type": "markdown",
   "metadata": {
    "id": "UM-0ehZfZANP"
   },
   "source": [
    "**<font color='blue'>3.b. Do the same with an histogram.<br> Make the histograms transparent.**"
   ]
  },
  {
   "cell_type": "code",
   "execution_count": 102,
   "metadata": {
    "id": "Zttau5fzg4sY"
   },
   "outputs": [
    {
     "data": {
      "image/png": "[encoded data removed]",
      "text/plain": [
       "<Figure size 720x576 with 2 Axes>"
      ]
     },
     "metadata": {
      "needs_background": "light"
     },
     "output_type": "display_data"
    }
   ],
   "source": [
    "plt.figure(figsize = (10, 8))\n",
    "plt.subplot(211)\n",
    "plt.title('mpg VS frequency')\n",
    "mpg['mpg'].plot.hist(alpha = 0.5)\n",
    "plt.subplot(212)\n",
    "plt.title('acceleration VS frequency')\n",
    "mpg['acceleration'].plot.hist(alpha = 0.5)\n",
    "plt.show()"
   ]
  },
  {
   "cell_type": "markdown",
   "metadata": {
    "id": "haGvze1hZZJg"
   },
   "source": [
    "Use the diamonds dataset.\n",
    "\n",
    "**<font color='blue'>4.a. Create a scatter plot of the `carat` and `price` columns using the `plot.scatter()` method.**"
   ]
  },
  {
   "cell_type": "code",
   "execution_count": 105,
   "metadata": {
    "id": "VXzVzuFYg5gv"
   },
   "outputs": [
    {
     "data": {
      "text/plain": [
       "<AxesSubplot:xlabel='carat', ylabel='price'>"
      ]
     },
     "execution_count": 105,
     "metadata": {},
     "output_type": "execute_result"
    },
    {
     "data": {
      "image/png": "[encoded data removed]",
      "text/plain": [
       "<Figure size 432x288 with 1 Axes>"
      ]
     },
     "metadata": {
      "needs_background": "light"
     },
     "output_type": "display_data"
    }
   ],
   "source": [
    "diamonds.plot.scatter(x = 'carat', y = 'price')"
   ]
  },
  {
   "cell_type": "markdown",
   "metadata": {
    "id": "qsdnh1YXaM95"
   },
   "source": [
    "**<font color='blue'>4.b. Map the `table` column to the color of the markers using the c parameter.**\n",
    "\n",
    "*Tips: You can use the cmap parameter to change the color palette*"
   ]
  },
  {
   "cell_type": "code",
   "execution_count": 106,
   "metadata": {
    "id": "Sny4h8n1g5MU"
   },
   "outputs": [
    {
     "data": {
      "text/plain": [
       "<AxesSubplot:xlabel='carat', ylabel='price'>"
      ]
     },
     "execution_count": 106,
     "metadata": {},
     "output_type": "execute_result"
    },
    {
     "data": {
      "image/png": "[encoded data removed]",
      "text/plain": [
       "<Figure size 432x288 with 2 Axes>"
      ]
     },
     "metadata": {
      "needs_background": "light"
     },
     "output_type": "display_data"
    }
   ],
   "source": [
    "diamonds.plot.scatter(x = 'carat', y = 'price', c = 'table')"
   ]
  },
  {
   "cell_type": "markdown",
   "metadata": {
    "id": "ScbMuRB3aoar"
   },
   "source": [
    "Use the titanic dataset.\n",
    "\n",
    "**<font color='blue'>5. Create a pie chart of the counts of the `class` column using the `plot.pie()` method. <br>Explode the Third category of the class column.**"
   ]
  },
  {
   "cell_type": "code",
   "execution_count": 115,
   "metadata": {},
   "outputs": [
    {
     "data": {
      "text/plain": [
       "Third     491\n",
       "First     216\n",
       "Second    184\n",
       "Name: class, dtype: int64"
      ]
     },
     "execution_count": 115,
     "metadata": {},
     "output_type": "execute_result"
    }
   ],
   "source": [
    "titanic['class'].value_counts()"
   ]
  },
  {
   "cell_type": "code",
   "execution_count": 122,
   "metadata": {
    "id": "lVaIcwV6g6Cr"
   },
   "outputs": [
    {
     "data": {
      "text/html": [
       "<div>\n",
       "<style scoped>\n",
       "    .dataframe tbody tr th:only-of-type {\n",
       "        vertical-align: middle;\n",
       "    }\n",
       "\n",
       "    .dataframe tbody tr th {\n",
       "        vertical-align: top;\n",
       "    }\n",
       "\n",
       "    .dataframe thead th {\n",
       "        text-align: right;\n",
       "    }\n",
       "</style>\n",
       "<table border=\"1\" class=\"dataframe\">\n",
       "  <thead>\n",
       "    <tr style=\"text-align: right;\">\n",
       "      <th></th>\n",
       "      <th>survived</th>\n",
       "      <th>pclass</th>\n",
       "      <th>sex</th>\n",
       "      <th>age</th>\n",
       "      <th>sibsp</th>\n",
       "      <th>parch</th>\n",
       "      <th>fare</th>\n",
       "      <th>embarked</th>\n",
       "      <th>class</th>\n",
       "      <th>who</th>\n",
       "      <th>adult_male</th>\n",
       "      <th>deck</th>\n",
       "      <th>embark_town</th>\n",
       "      <th>alive</th>\n",
       "      <th>alone</th>\n",
       "    </tr>\n",
       "  </thead>\n",
       "  <tbody>\n",
       "    <tr>\n",
       "      <th>0</th>\n",
       "      <td>0</td>\n",
       "      <td>3</td>\n",
       "      <td>male</td>\n",
       "      <td>22.0</td>\n",
       "      <td>1</td>\n",
       "      <td>0</td>\n",
       "      <td>7.2500</td>\n",
       "      <td>S</td>\n",
       "      <td>3</td>\n",
       "      <td>man</td>\n",
       "      <td>True</td>\n",
       "      <td>NaN</td>\n",
       "      <td>Southampton</td>\n",
       "      <td>no</td>\n",
       "      <td>False</td>\n",
       "    </tr>\n",
       "    <tr>\n",
       "      <th>1</th>\n",
       "      <td>1</td>\n",
       "      <td>1</td>\n",
       "      <td>female</td>\n",
       "      <td>38.0</td>\n",
       "      <td>1</td>\n",
       "      <td>0</td>\n",
       "      <td>71.2833</td>\n",
       "      <td>C</td>\n",
       "      <td>1</td>\n",
       "      <td>woman</td>\n",
       "      <td>False</td>\n",
       "      <td>C</td>\n",
       "      <td>Cherbourg</td>\n",
       "      <td>yes</td>\n",
       "      <td>False</td>\n",
       "    </tr>\n",
       "    <tr>\n",
       "      <th>2</th>\n",
       "      <td>1</td>\n",
       "      <td>3</td>\n",
       "      <td>female</td>\n",
       "      <td>26.0</td>\n",
       "      <td>0</td>\n",
       "      <td>0</td>\n",
       "      <td>7.9250</td>\n",
       "      <td>S</td>\n",
       "      <td>3</td>\n",
       "      <td>woman</td>\n",
       "      <td>False</td>\n",
       "      <td>NaN</td>\n",
       "      <td>Southampton</td>\n",
       "      <td>yes</td>\n",
       "      <td>True</td>\n",
       "    </tr>\n",
       "    <tr>\n",
       "      <th>3</th>\n",
       "      <td>1</td>\n",
       "      <td>1</td>\n",
       "      <td>female</td>\n",
       "      <td>35.0</td>\n",
       "      <td>1</td>\n",
       "      <td>0</td>\n",
       "      <td>53.1000</td>\n",
       "      <td>S</td>\n",
       "      <td>1</td>\n",
       "      <td>woman</td>\n",
       "      <td>False</td>\n",
       "      <td>C</td>\n",
       "      <td>Southampton</td>\n",
       "      <td>yes</td>\n",
       "      <td>False</td>\n",
       "    </tr>\n",
       "    <tr>\n",
       "      <th>4</th>\n",
       "      <td>0</td>\n",
       "      <td>3</td>\n",
       "      <td>male</td>\n",
       "      <td>35.0</td>\n",
       "      <td>0</td>\n",
       "      <td>0</td>\n",
       "      <td>8.0500</td>\n",
       "      <td>S</td>\n",
       "      <td>3</td>\n",
       "      <td>man</td>\n",
       "      <td>True</td>\n",
       "      <td>NaN</td>\n",
       "      <td>Southampton</td>\n",
       "      <td>no</td>\n",
       "      <td>True</td>\n",
       "    </tr>\n",
       "    <tr>\n",
       "      <th>...</th>\n",
       "      <td>...</td>\n",
       "      <td>...</td>\n",
       "      <td>...</td>\n",
       "      <td>...</td>\n",
       "      <td>...</td>\n",
       "      <td>...</td>\n",
       "      <td>...</td>\n",
       "      <td>...</td>\n",
       "      <td>...</td>\n",
       "      <td>...</td>\n",
       "      <td>...</td>\n",
       "      <td>...</td>\n",
       "      <td>...</td>\n",
       "      <td>...</td>\n",
       "      <td>...</td>\n",
       "    </tr>\n",
       "    <tr>\n",
       "      <th>886</th>\n",
       "      <td>0</td>\n",
       "      <td>2</td>\n",
       "      <td>male</td>\n",
       "      <td>27.0</td>\n",
       "      <td>0</td>\n",
       "      <td>0</td>\n",
       "      <td>13.0000</td>\n",
       "      <td>S</td>\n",
       "      <td>2</td>\n",
       "      <td>man</td>\n",
       "      <td>True</td>\n",
       "      <td>NaN</td>\n",
       "      <td>Southampton</td>\n",
       "      <td>no</td>\n",
       "      <td>True</td>\n",
       "    </tr>\n",
       "    <tr>\n",
       "      <th>887</th>\n",
       "      <td>1</td>\n",
       "      <td>1</td>\n",
       "      <td>female</td>\n",
       "      <td>19.0</td>\n",
       "      <td>0</td>\n",
       "      <td>0</td>\n",
       "      <td>30.0000</td>\n",
       "      <td>S</td>\n",
       "      <td>1</td>\n",
       "      <td>woman</td>\n",
       "      <td>False</td>\n",
       "      <td>B</td>\n",
       "      <td>Southampton</td>\n",
       "      <td>yes</td>\n",
       "      <td>True</td>\n",
       "    </tr>\n",
       "    <tr>\n",
       "      <th>888</th>\n",
       "      <td>0</td>\n",
       "      <td>3</td>\n",
       "      <td>female</td>\n",
       "      <td>NaN</td>\n",
       "      <td>1</td>\n",
       "      <td>2</td>\n",
       "      <td>23.4500</td>\n",
       "      <td>S</td>\n",
       "      <td>3</td>\n",
       "      <td>woman</td>\n",
       "      <td>False</td>\n",
       "      <td>NaN</td>\n",
       "      <td>Southampton</td>\n",
       "      <td>no</td>\n",
       "      <td>False</td>\n",
       "    </tr>\n",
       "    <tr>\n",
       "      <th>889</th>\n",
       "      <td>1</td>\n",
       "      <td>1</td>\n",
       "      <td>male</td>\n",
       "      <td>26.0</td>\n",
       "      <td>0</td>\n",
       "      <td>0</td>\n",
       "      <td>30.0000</td>\n",
       "      <td>C</td>\n",
       "      <td>1</td>\n",
       "      <td>man</td>\n",
       "      <td>True</td>\n",
       "      <td>C</td>\n",
       "      <td>Cherbourg</td>\n",
       "      <td>yes</td>\n",
       "      <td>True</td>\n",
       "    </tr>\n",
       "    <tr>\n",
       "      <th>890</th>\n",
       "      <td>0</td>\n",
       "      <td>3</td>\n",
       "      <td>male</td>\n",
       "      <td>32.0</td>\n",
       "      <td>0</td>\n",
       "      <td>0</td>\n",
       "      <td>7.7500</td>\n",
       "      <td>Q</td>\n",
       "      <td>3</td>\n",
       "      <td>man</td>\n",
       "      <td>True</td>\n",
       "      <td>NaN</td>\n",
       "      <td>Queenstown</td>\n",
       "      <td>no</td>\n",
       "      <td>True</td>\n",
       "    </tr>\n",
       "  </tbody>\n",
       "</table>\n",
       "<p>891 rows × 15 columns</p>\n",
       "</div>"
      ],
      "text/plain": [
       "     survived  pclass     sex   age  sibsp  parch     fare embarked class  \\\n",
       "0           0       3    male  22.0      1      0   7.2500        S     3   \n",
       "1           1       1  female  38.0      1      0  71.2833        C     1   \n",
       "2           1       3  female  26.0      0      0   7.9250        S     3   \n",
       "3           1       1  female  35.0      1      0  53.1000        S     1   \n",
       "4           0       3    male  35.0      0      0   8.0500        S     3   \n",
       "..        ...     ...     ...   ...    ...    ...      ...      ...   ...   \n",
       "886         0       2    male  27.0      0      0  13.0000        S     2   \n",
       "887         1       1  female  19.0      0      0  30.0000        S     1   \n",
       "888         0       3  female   NaN      1      2  23.4500        S     3   \n",
       "889         1       1    male  26.0      0      0  30.0000        C     1   \n",
       "890         0       3    male  32.0      0      0   7.7500        Q     3   \n",
       "\n",
       "       who  adult_male deck  embark_town alive  alone  \n",
       "0      man        True  NaN  Southampton    no  False  \n",
       "1    woman       False    C    Cherbourg   yes  False  \n",
       "2    woman       False  NaN  Southampton   yes   True  \n",
       "3    woman       False    C  Southampton   yes  False  \n",
       "4      man        True  NaN  Southampton    no   True  \n",
       "..     ...         ...  ...          ...   ...    ...  \n",
       "886    man        True  NaN  Southampton    no   True  \n",
       "887  woman       False    B  Southampton   yes   True  \n",
       "888  woman       False  NaN  Southampton    no  False  \n",
       "889    man        True    C    Cherbourg   yes   True  \n",
       "890    man        True  NaN   Queenstown    no   True  \n",
       "\n",
       "[891 rows x 15 columns]"
      ]
     },
     "execution_count": 122,
     "metadata": {},
     "output_type": "execute_result"
    }
   ],
   "source": [
    "# titanic.info()\n",
    "titanic['class'] = titanic['class'].map({\n",
    "    \"First\": 1,\n",
    "    \"Second\": 2,\n",
    "    \"Third\": 3\n",
    "})\n",
    "titanic\n"
   ]
  },
  {
   "cell_type": "code",
   "execution_count": 128,
   "metadata": {},
   "outputs": [
    {
     "ename": "TypeError",
     "evalue": "Cannot setitem on a Categorical with a new category (0), set the categories first",
     "output_type": "error",
     "traceback": [
      "\u001b[0;31m---------------------------------------------------------------------------\u001b[0m",
      "\u001b[0;31mTypeError\u001b[0m                                 Traceback (most recent call last)",
      "Input \u001b[0;32mIn [128]\u001b[0m, in \u001b[0;36m<cell line: 1>\u001b[0;34m()\u001b[0m\n\u001b[0;32m----> 1\u001b[0m \u001b[43mtitanic\u001b[49m\u001b[43m[\u001b[49m\u001b[38;5;124;43m'\u001b[39;49m\u001b[38;5;124;43mclass\u001b[39;49m\u001b[38;5;124;43m'\u001b[39;49m\u001b[43m]\u001b[49m\u001b[38;5;241;43m.\u001b[39;49m\u001b[43mplot\u001b[49m\u001b[38;5;241;43m.\u001b[39;49m\u001b[43mpie\u001b[49m\u001b[43m(\u001b[49m\u001b[43m)\u001b[49m\n",
      "File \u001b[0;32m~/opt/anaconda3/lib/python3.8/site-packages/pandas/plotting/_core.py:1584\u001b[0m, in \u001b[0;36mPlotAccessor.pie\u001b[0;34m(self, **kwargs)\u001b[0m\n\u001b[1;32m   1578\u001b[0m \u001b[38;5;28;01mif\u001b[39;00m (\n\u001b[1;32m   1579\u001b[0m     \u001b[38;5;28misinstance\u001b[39m(\u001b[38;5;28mself\u001b[39m\u001b[38;5;241m.\u001b[39m_parent, ABCDataFrame)\n\u001b[1;32m   1580\u001b[0m     \u001b[38;5;129;01mand\u001b[39;00m kwargs\u001b[38;5;241m.\u001b[39mget(\u001b[38;5;124m\"\u001b[39m\u001b[38;5;124my\u001b[39m\u001b[38;5;124m\"\u001b[39m, \u001b[38;5;28;01mNone\u001b[39;00m) \u001b[38;5;129;01mis\u001b[39;00m \u001b[38;5;28;01mNone\u001b[39;00m\n\u001b[1;32m   1581\u001b[0m     \u001b[38;5;129;01mand\u001b[39;00m \u001b[38;5;129;01mnot\u001b[39;00m kwargs\u001b[38;5;241m.\u001b[39mget(\u001b[38;5;124m\"\u001b[39m\u001b[38;5;124msubplots\u001b[39m\u001b[38;5;124m\"\u001b[39m, \u001b[38;5;28;01mFalse\u001b[39;00m)\n\u001b[1;32m   1582\u001b[0m ):\n\u001b[1;32m   1583\u001b[0m     \u001b[38;5;28;01mraise\u001b[39;00m \u001b[38;5;167;01mValueError\u001b[39;00m(\u001b[38;5;124m\"\u001b[39m\u001b[38;5;124mpie requires either y column or \u001b[39m\u001b[38;5;124m'\u001b[39m\u001b[38;5;124msubplots=True\u001b[39m\u001b[38;5;124m'\u001b[39m\u001b[38;5;124m\"\u001b[39m)\n\u001b[0;32m-> 1584\u001b[0m \u001b[38;5;28;01mreturn\u001b[39;00m \u001b[38;5;28;43mself\u001b[39;49m\u001b[43m(\u001b[49m\u001b[43mkind\u001b[49m\u001b[38;5;241;43m=\u001b[39;49m\u001b[38;5;124;43m\"\u001b[39;49m\u001b[38;5;124;43mpie\u001b[39;49m\u001b[38;5;124;43m\"\u001b[39;49m\u001b[43m,\u001b[49m\u001b[43m \u001b[49m\u001b[38;5;241;43m*\u001b[39;49m\u001b[38;5;241;43m*\u001b[39;49m\u001b[43mkwargs\u001b[49m\u001b[43m)\u001b[49m\n",
      "File \u001b[0;32m~/opt/anaconda3/lib/python3.8/site-packages/pandas/plotting/_core.py:972\u001b[0m, in \u001b[0;36mPlotAccessor.__call__\u001b[0;34m(self, *args, **kwargs)\u001b[0m\n\u001b[1;32m    969\u001b[0m             label_name \u001b[38;5;241m=\u001b[39m label_kw \u001b[38;5;129;01mor\u001b[39;00m data\u001b[38;5;241m.\u001b[39mcolumns\n\u001b[1;32m    970\u001b[0m             data\u001b[38;5;241m.\u001b[39mcolumns \u001b[38;5;241m=\u001b[39m label_name\n\u001b[0;32m--> 972\u001b[0m \u001b[38;5;28;01mreturn\u001b[39;00m \u001b[43mplot_backend\u001b[49m\u001b[38;5;241;43m.\u001b[39;49m\u001b[43mplot\u001b[49m\u001b[43m(\u001b[49m\u001b[43mdata\u001b[49m\u001b[43m,\u001b[49m\u001b[43m \u001b[49m\u001b[43mkind\u001b[49m\u001b[38;5;241;43m=\u001b[39;49m\u001b[43mkind\u001b[49m\u001b[43m,\u001b[49m\u001b[43m \u001b[49m\u001b[38;5;241;43m*\u001b[39;49m\u001b[38;5;241;43m*\u001b[39;49m\u001b[43mkwargs\u001b[49m\u001b[43m)\u001b[49m\n",
      "File \u001b[0;32m~/opt/anaconda3/lib/python3.8/site-packages/pandas/plotting/_matplotlib/__init__.py:70\u001b[0m, in \u001b[0;36mplot\u001b[0;34m(data, kind, **kwargs)\u001b[0m\n\u001b[1;32m     68\u001b[0m             ax \u001b[38;5;241m=\u001b[39m plt\u001b[38;5;241m.\u001b[39mgca()\n\u001b[1;32m     69\u001b[0m         kwargs[\u001b[38;5;124m\"\u001b[39m\u001b[38;5;124max\u001b[39m\u001b[38;5;124m\"\u001b[39m] \u001b[38;5;241m=\u001b[39m \u001b[38;5;28mgetattr\u001b[39m(ax, \u001b[38;5;124m\"\u001b[39m\u001b[38;5;124mleft_ax\u001b[39m\u001b[38;5;124m\"\u001b[39m, ax)\n\u001b[0;32m---> 70\u001b[0m plot_obj \u001b[38;5;241m=\u001b[39m \u001b[43mPLOT_CLASSES\u001b[49m\u001b[43m[\u001b[49m\u001b[43mkind\u001b[49m\u001b[43m]\u001b[49m\u001b[43m(\u001b[49m\u001b[43mdata\u001b[49m\u001b[43m,\u001b[49m\u001b[43m \u001b[49m\u001b[38;5;241;43m*\u001b[39;49m\u001b[38;5;241;43m*\u001b[39;49m\u001b[43mkwargs\u001b[49m\u001b[43m)\u001b[49m\n\u001b[1;32m     71\u001b[0m plot_obj\u001b[38;5;241m.\u001b[39mgenerate()\n\u001b[1;32m     72\u001b[0m plot_obj\u001b[38;5;241m.\u001b[39mdraw()\n",
      "File \u001b[0;32m~/opt/anaconda3/lib/python3.8/site-packages/pandas/plotting/_matplotlib/core.py:1625\u001b[0m, in \u001b[0;36mPiePlot.__init__\u001b[0;34m(self, data, kind, **kwargs)\u001b[0m\n\u001b[1;32m   1624\u001b[0m \u001b[38;5;28;01mdef\u001b[39;00m \u001b[38;5;21m__init__\u001b[39m(\u001b[38;5;28mself\u001b[39m, data, kind\u001b[38;5;241m=\u001b[39m\u001b[38;5;28;01mNone\u001b[39;00m, \u001b[38;5;241m*\u001b[39m\u001b[38;5;241m*\u001b[39mkwargs):\n\u001b[0;32m-> 1625\u001b[0m     data \u001b[38;5;241m=\u001b[39m \u001b[43mdata\u001b[49m\u001b[38;5;241;43m.\u001b[39;49m\u001b[43mfillna\u001b[49m\u001b[43m(\u001b[49m\u001b[43mvalue\u001b[49m\u001b[38;5;241;43m=\u001b[39;49m\u001b[38;5;241;43m0\u001b[39;49m\u001b[43m)\u001b[49m\n\u001b[1;32m   1626\u001b[0m     \u001b[38;5;28;01mif\u001b[39;00m (data \u001b[38;5;241m<\u001b[39m \u001b[38;5;241m0\u001b[39m)\u001b[38;5;241m.\u001b[39many()\u001b[38;5;241m.\u001b[39many():\n\u001b[1;32m   1627\u001b[0m         \u001b[38;5;28;01mraise\u001b[39;00m \u001b[38;5;167;01mValueError\u001b[39;00m(\u001b[38;5;124mf\u001b[39m\u001b[38;5;124m\"\u001b[39m\u001b[38;5;132;01m{\u001b[39;00m\u001b[38;5;28mself\u001b[39m\u001b[38;5;241m.\u001b[39m_kind\u001b[38;5;132;01m}\u001b[39;00m\u001b[38;5;124m plot doesn\u001b[39m\u001b[38;5;124m'\u001b[39m\u001b[38;5;124mt allow negative values\u001b[39m\u001b[38;5;124m\"\u001b[39m)\n",
      "File \u001b[0;32m~/opt/anaconda3/lib/python3.8/site-packages/pandas/util/_decorators.py:311\u001b[0m, in \u001b[0;36mdeprecate_nonkeyword_arguments.<locals>.decorate.<locals>.wrapper\u001b[0;34m(*args, **kwargs)\u001b[0m\n\u001b[1;32m    305\u001b[0m \u001b[38;5;28;01mif\u001b[39;00m \u001b[38;5;28mlen\u001b[39m(args) \u001b[38;5;241m>\u001b[39m num_allow_args:\n\u001b[1;32m    306\u001b[0m     warnings\u001b[38;5;241m.\u001b[39mwarn(\n\u001b[1;32m    307\u001b[0m         msg\u001b[38;5;241m.\u001b[39mformat(arguments\u001b[38;5;241m=\u001b[39marguments),\n\u001b[1;32m    308\u001b[0m         \u001b[38;5;167;01mFutureWarning\u001b[39;00m,\n\u001b[1;32m    309\u001b[0m         stacklevel\u001b[38;5;241m=\u001b[39mstacklevel,\n\u001b[1;32m    310\u001b[0m     )\n\u001b[0;32m--> 311\u001b[0m \u001b[38;5;28;01mreturn\u001b[39;00m \u001b[43mfunc\u001b[49m\u001b[43m(\u001b[49m\u001b[38;5;241;43m*\u001b[39;49m\u001b[43margs\u001b[49m\u001b[43m,\u001b[49m\u001b[43m \u001b[49m\u001b[38;5;241;43m*\u001b[39;49m\u001b[38;5;241;43m*\u001b[39;49m\u001b[43mkwargs\u001b[49m\u001b[43m)\u001b[49m\n",
      "File \u001b[0;32m~/opt/anaconda3/lib/python3.8/site-packages/pandas/core/series.py:4908\u001b[0m, in \u001b[0;36mSeries.fillna\u001b[0;34m(self, value, method, axis, inplace, limit, downcast)\u001b[0m\n\u001b[1;32m   4897\u001b[0m \u001b[38;5;129m@deprecate_nonkeyword_arguments\u001b[39m(version\u001b[38;5;241m=\u001b[39m\u001b[38;5;28;01mNone\u001b[39;00m, allowed_args\u001b[38;5;241m=\u001b[39m[\u001b[38;5;124m\"\u001b[39m\u001b[38;5;124mself\u001b[39m\u001b[38;5;124m\"\u001b[39m, \u001b[38;5;124m\"\u001b[39m\u001b[38;5;124mvalue\u001b[39m\u001b[38;5;124m\"\u001b[39m])\n\u001b[1;32m   4898\u001b[0m \u001b[38;5;129m@doc\u001b[39m(NDFrame\u001b[38;5;241m.\u001b[39mfillna, \u001b[38;5;241m*\u001b[39m\u001b[38;5;241m*\u001b[39m_shared_doc_kwargs)  \u001b[38;5;66;03m# type: ignore[has-type]\u001b[39;00m\n\u001b[1;32m   4899\u001b[0m \u001b[38;5;28;01mdef\u001b[39;00m \u001b[38;5;21mfillna\u001b[39m(\n\u001b[0;32m   (...)\u001b[0m\n\u001b[1;32m   4906\u001b[0m     downcast\u001b[38;5;241m=\u001b[39m\u001b[38;5;28;01mNone\u001b[39;00m,\n\u001b[1;32m   4907\u001b[0m ) \u001b[38;5;241m-\u001b[39m\u001b[38;5;241m>\u001b[39m Series \u001b[38;5;241m|\u001b[39m \u001b[38;5;28;01mNone\u001b[39;00m:\n\u001b[0;32m-> 4908\u001b[0m     \u001b[38;5;28;01mreturn\u001b[39;00m \u001b[38;5;28;43msuper\u001b[39;49m\u001b[43m(\u001b[49m\u001b[43m)\u001b[49m\u001b[38;5;241;43m.\u001b[39;49m\u001b[43mfillna\u001b[49m\u001b[43m(\u001b[49m\n\u001b[1;32m   4909\u001b[0m \u001b[43m        \u001b[49m\u001b[43mvalue\u001b[49m\u001b[38;5;241;43m=\u001b[39;49m\u001b[43mvalue\u001b[49m\u001b[43m,\u001b[49m\n\u001b[1;32m   4910\u001b[0m \u001b[43m        \u001b[49m\u001b[43mmethod\u001b[49m\u001b[38;5;241;43m=\u001b[39;49m\u001b[43mmethod\u001b[49m\u001b[43m,\u001b[49m\n\u001b[1;32m   4911\u001b[0m \u001b[43m        \u001b[49m\u001b[43maxis\u001b[49m\u001b[38;5;241;43m=\u001b[39;49m\u001b[43maxis\u001b[49m\u001b[43m,\u001b[49m\n\u001b[1;32m   4912\u001b[0m \u001b[43m        \u001b[49m\u001b[43minplace\u001b[49m\u001b[38;5;241;43m=\u001b[39;49m\u001b[43minplace\u001b[49m\u001b[43m,\u001b[49m\n\u001b[1;32m   4913\u001b[0m \u001b[43m        \u001b[49m\u001b[43mlimit\u001b[49m\u001b[38;5;241;43m=\u001b[39;49m\u001b[43mlimit\u001b[49m\u001b[43m,\u001b[49m\n\u001b[1;32m   4914\u001b[0m \u001b[43m        \u001b[49m\u001b[43mdowncast\u001b[49m\u001b[38;5;241;43m=\u001b[39;49m\u001b[43mdowncast\u001b[49m\u001b[43m,\u001b[49m\n\u001b[1;32m   4915\u001b[0m \u001b[43m    \u001b[49m\u001b[43m)\u001b[49m\n",
      "File \u001b[0;32m~/opt/anaconda3/lib/python3.8/site-packages/pandas/core/generic.py:6467\u001b[0m, in \u001b[0;36mNDFrame.fillna\u001b[0;34m(self, value, method, axis, inplace, limit, downcast)\u001b[0m\n\u001b[1;32m   6460\u001b[0m     \u001b[38;5;28;01melse\u001b[39;00m:\n\u001b[1;32m   6461\u001b[0m         \u001b[38;5;28;01mraise\u001b[39;00m \u001b[38;5;167;01mTypeError\u001b[39;00m(\n\u001b[1;32m   6462\u001b[0m             \u001b[38;5;124m'\u001b[39m\u001b[38;5;124m\"\u001b[39m\u001b[38;5;124mvalue\u001b[39m\u001b[38;5;124m\"\u001b[39m\u001b[38;5;124m parameter must be a scalar, dict \u001b[39m\u001b[38;5;124m'\u001b[39m\n\u001b[1;32m   6463\u001b[0m             \u001b[38;5;124m\"\u001b[39m\u001b[38;5;124mor Series, but you passed a \u001b[39m\u001b[38;5;124m\"\u001b[39m\n\u001b[1;32m   6464\u001b[0m             \u001b[38;5;124mf\u001b[39m\u001b[38;5;124m'\u001b[39m\u001b[38;5;124m\"\u001b[39m\u001b[38;5;132;01m{\u001b[39;00m\u001b[38;5;28mtype\u001b[39m(value)\u001b[38;5;241m.\u001b[39m\u001b[38;5;18m__name__\u001b[39m\u001b[38;5;132;01m}\u001b[39;00m\u001b[38;5;124m\"\u001b[39m\u001b[38;5;124m'\u001b[39m\n\u001b[1;32m   6465\u001b[0m         )\n\u001b[0;32m-> 6467\u001b[0m     new_data \u001b[38;5;241m=\u001b[39m \u001b[38;5;28;43mself\u001b[39;49m\u001b[38;5;241;43m.\u001b[39;49m\u001b[43m_mgr\u001b[49m\u001b[38;5;241;43m.\u001b[39;49m\u001b[43mfillna\u001b[49m\u001b[43m(\u001b[49m\n\u001b[1;32m   6468\u001b[0m \u001b[43m        \u001b[49m\u001b[43mvalue\u001b[49m\u001b[38;5;241;43m=\u001b[39;49m\u001b[43mvalue\u001b[49m\u001b[43m,\u001b[49m\u001b[43m \u001b[49m\u001b[43mlimit\u001b[49m\u001b[38;5;241;43m=\u001b[39;49m\u001b[43mlimit\u001b[49m\u001b[43m,\u001b[49m\u001b[43m \u001b[49m\u001b[43minplace\u001b[49m\u001b[38;5;241;43m=\u001b[39;49m\u001b[43minplace\u001b[49m\u001b[43m,\u001b[49m\u001b[43m \u001b[49m\u001b[43mdowncast\u001b[49m\u001b[38;5;241;43m=\u001b[39;49m\u001b[43mdowncast\u001b[49m\n\u001b[1;32m   6469\u001b[0m \u001b[43m    \u001b[49m\u001b[43m)\u001b[49m\n\u001b[1;32m   6471\u001b[0m \u001b[38;5;28;01melif\u001b[39;00m \u001b[38;5;28misinstance\u001b[39m(value, (\u001b[38;5;28mdict\u001b[39m, ABCSeries)):\n\u001b[1;32m   6472\u001b[0m     \u001b[38;5;28;01mif\u001b[39;00m axis \u001b[38;5;241m==\u001b[39m \u001b[38;5;241m1\u001b[39m:\n",
      "File \u001b[0;32m~/opt/anaconda3/lib/python3.8/site-packages/pandas/core/internals/managers.py:414\u001b[0m, in \u001b[0;36mBaseBlockManager.fillna\u001b[0;34m(self, value, limit, inplace, downcast)\u001b[0m\n\u001b[1;32m    413\u001b[0m \u001b[38;5;28;01mdef\u001b[39;00m \u001b[38;5;21mfillna\u001b[39m(\u001b[38;5;28mself\u001b[39m: T, value, limit, inplace: \u001b[38;5;28mbool\u001b[39m, downcast) \u001b[38;5;241m-\u001b[39m\u001b[38;5;241m>\u001b[39m T:\n\u001b[0;32m--> 414\u001b[0m     \u001b[38;5;28;01mreturn\u001b[39;00m \u001b[38;5;28;43mself\u001b[39;49m\u001b[38;5;241;43m.\u001b[39;49m\u001b[43mapply\u001b[49m\u001b[43m(\u001b[49m\n\u001b[1;32m    415\u001b[0m \u001b[43m        \u001b[49m\u001b[38;5;124;43m\"\u001b[39;49m\u001b[38;5;124;43mfillna\u001b[39;49m\u001b[38;5;124;43m\"\u001b[39;49m\u001b[43m,\u001b[49m\u001b[43m \u001b[49m\u001b[43mvalue\u001b[49m\u001b[38;5;241;43m=\u001b[39;49m\u001b[43mvalue\u001b[49m\u001b[43m,\u001b[49m\u001b[43m \u001b[49m\u001b[43mlimit\u001b[49m\u001b[38;5;241;43m=\u001b[39;49m\u001b[43mlimit\u001b[49m\u001b[43m,\u001b[49m\u001b[43m \u001b[49m\u001b[43minplace\u001b[49m\u001b[38;5;241;43m=\u001b[39;49m\u001b[43minplace\u001b[49m\u001b[43m,\u001b[49m\u001b[43m \u001b[49m\u001b[43mdowncast\u001b[49m\u001b[38;5;241;43m=\u001b[39;49m\u001b[43mdowncast\u001b[49m\n\u001b[1;32m    416\u001b[0m \u001b[43m    \u001b[49m\u001b[43m)\u001b[49m\n",
      "File \u001b[0;32m~/opt/anaconda3/lib/python3.8/site-packages/pandas/core/internals/managers.py:304\u001b[0m, in \u001b[0;36mBaseBlockManager.apply\u001b[0;34m(self, f, align_keys, ignore_failures, **kwargs)\u001b[0m\n\u001b[1;32m    302\u001b[0m         applied \u001b[38;5;241m=\u001b[39m b\u001b[38;5;241m.\u001b[39mapply(f, \u001b[38;5;241m*\u001b[39m\u001b[38;5;241m*\u001b[39mkwargs)\n\u001b[1;32m    303\u001b[0m     \u001b[38;5;28;01melse\u001b[39;00m:\n\u001b[0;32m--> 304\u001b[0m         applied \u001b[38;5;241m=\u001b[39m \u001b[38;5;28;43mgetattr\u001b[39;49m\u001b[43m(\u001b[49m\u001b[43mb\u001b[49m\u001b[43m,\u001b[49m\u001b[43m \u001b[49m\u001b[43mf\u001b[49m\u001b[43m)\u001b[49m\u001b[43m(\u001b[49m\u001b[38;5;241;43m*\u001b[39;49m\u001b[38;5;241;43m*\u001b[39;49m\u001b[43mkwargs\u001b[49m\u001b[43m)\u001b[49m\n\u001b[1;32m    305\u001b[0m \u001b[38;5;28;01mexcept\u001b[39;00m (\u001b[38;5;167;01mTypeError\u001b[39;00m, \u001b[38;5;167;01mNotImplementedError\u001b[39;00m):\n\u001b[1;32m    306\u001b[0m     \u001b[38;5;28;01mif\u001b[39;00m \u001b[38;5;129;01mnot\u001b[39;00m ignore_failures:\n",
      "File \u001b[0;32m~/opt/anaconda3/lib/python3.8/site-packages/pandas/core/internals/blocks.py:1703\u001b[0m, in \u001b[0;36mExtensionBlock.fillna\u001b[0;34m(self, value, limit, inplace, downcast)\u001b[0m\n\u001b[1;32m   1700\u001b[0m \u001b[38;5;28;01mdef\u001b[39;00m \u001b[38;5;21mfillna\u001b[39m(\n\u001b[1;32m   1701\u001b[0m     \u001b[38;5;28mself\u001b[39m, value, limit\u001b[38;5;241m=\u001b[39m\u001b[38;5;28;01mNone\u001b[39;00m, inplace: \u001b[38;5;28mbool\u001b[39m \u001b[38;5;241m=\u001b[39m \u001b[38;5;28;01mFalse\u001b[39;00m, downcast\u001b[38;5;241m=\u001b[39m\u001b[38;5;28;01mNone\u001b[39;00m\n\u001b[1;32m   1702\u001b[0m ) \u001b[38;5;241m-\u001b[39m\u001b[38;5;241m>\u001b[39m \u001b[38;5;28mlist\u001b[39m[Block]:\n\u001b[0;32m-> 1703\u001b[0m     values \u001b[38;5;241m=\u001b[39m \u001b[38;5;28;43mself\u001b[39;49m\u001b[38;5;241;43m.\u001b[39;49m\u001b[43mvalues\u001b[49m\u001b[38;5;241;43m.\u001b[39;49m\u001b[43mfillna\u001b[49m\u001b[43m(\u001b[49m\u001b[43mvalue\u001b[49m\u001b[38;5;241;43m=\u001b[39;49m\u001b[43mvalue\u001b[49m\u001b[43m,\u001b[49m\u001b[43m \u001b[49m\u001b[43mlimit\u001b[49m\u001b[38;5;241;43m=\u001b[39;49m\u001b[43mlimit\u001b[49m\u001b[43m)\u001b[49m\n\u001b[1;32m   1704\u001b[0m     \u001b[38;5;28;01mreturn\u001b[39;00m [\u001b[38;5;28mself\u001b[39m\u001b[38;5;241m.\u001b[39mmake_block_same_class(values\u001b[38;5;241m=\u001b[39mvalues)]\n",
      "File \u001b[0;32m~/opt/anaconda3/lib/python3.8/site-packages/pandas/core/arrays/_mixins.py:328\u001b[0m, in \u001b[0;36mNDArrayBackedExtensionArray.fillna\u001b[0;34m(self, value, method, limit)\u001b[0m\n\u001b[1;32m    325\u001b[0m \u001b[38;5;28;01melse\u001b[39;00m:\n\u001b[1;32m    326\u001b[0m     \u001b[38;5;66;03m# We validate the fill_value even if there is nothing to fill\u001b[39;00m\n\u001b[1;32m    327\u001b[0m     \u001b[38;5;28;01mif\u001b[39;00m value \u001b[38;5;129;01mis\u001b[39;00m \u001b[38;5;129;01mnot\u001b[39;00m \u001b[38;5;28;01mNone\u001b[39;00m:\n\u001b[0;32m--> 328\u001b[0m         \u001b[38;5;28;43mself\u001b[39;49m\u001b[38;5;241;43m.\u001b[39;49m\u001b[43m_validate_setitem_value\u001b[49m\u001b[43m(\u001b[49m\u001b[43mvalue\u001b[49m\u001b[43m)\u001b[49m\n\u001b[1;32m    330\u001b[0m     new_values \u001b[38;5;241m=\u001b[39m \u001b[38;5;28mself\u001b[39m\u001b[38;5;241m.\u001b[39mcopy()\n\u001b[1;32m    331\u001b[0m \u001b[38;5;28;01mreturn\u001b[39;00m new_values\n",
      "File \u001b[0;32m~/opt/anaconda3/lib/python3.8/site-packages/pandas/core/arrays/categorical.py:1457\u001b[0m, in \u001b[0;36mCategorical._validate_setitem_value\u001b[0;34m(self, value)\u001b[0m\n\u001b[1;32m   1455\u001b[0m     \u001b[38;5;28;01mreturn\u001b[39;00m \u001b[38;5;28mself\u001b[39m\u001b[38;5;241m.\u001b[39m_validate_listlike(value)\n\u001b[1;32m   1456\u001b[0m \u001b[38;5;28;01melse\u001b[39;00m:\n\u001b[0;32m-> 1457\u001b[0m     \u001b[38;5;28;01mreturn\u001b[39;00m \u001b[38;5;28;43mself\u001b[39;49m\u001b[38;5;241;43m.\u001b[39;49m\u001b[43m_validate_scalar\u001b[49m\u001b[43m(\u001b[49m\u001b[43mvalue\u001b[49m\u001b[43m)\u001b[49m\n",
      "File \u001b[0;32m~/opt/anaconda3/lib/python3.8/site-packages/pandas/core/arrays/categorical.py:1484\u001b[0m, in \u001b[0;36mCategorical._validate_scalar\u001b[0;34m(self, fill_value)\u001b[0m\n\u001b[1;32m   1482\u001b[0m     fill_value \u001b[38;5;241m=\u001b[39m \u001b[38;5;28mself\u001b[39m\u001b[38;5;241m.\u001b[39m_unbox_scalar(fill_value)\n\u001b[1;32m   1483\u001b[0m \u001b[38;5;28;01melse\u001b[39;00m:\n\u001b[0;32m-> 1484\u001b[0m     \u001b[38;5;28;01mraise\u001b[39;00m \u001b[38;5;167;01mTypeError\u001b[39;00m(\n\u001b[1;32m   1485\u001b[0m         \u001b[38;5;124m\"\u001b[39m\u001b[38;5;124mCannot setitem on a Categorical with a new \u001b[39m\u001b[38;5;124m\"\u001b[39m\n\u001b[1;32m   1486\u001b[0m         \u001b[38;5;124mf\u001b[39m\u001b[38;5;124m\"\u001b[39m\u001b[38;5;124mcategory (\u001b[39m\u001b[38;5;132;01m{\u001b[39;00mfill_value\u001b[38;5;132;01m}\u001b[39;00m\u001b[38;5;124m), set the categories first\u001b[39m\u001b[38;5;124m\"\u001b[39m\n\u001b[1;32m   1487\u001b[0m     )\n\u001b[1;32m   1488\u001b[0m \u001b[38;5;28;01mreturn\u001b[39;00m fill_value\n",
      "\u001b[0;31mTypeError\u001b[0m: Cannot setitem on a Categorical with a new category (0), set the categories first"
     ]
    }
   ],
   "source": [
    "titanic['class'].plot.pie()\n",
    "# titanic.info()"
   ]
  },
  {
   "cell_type": "markdown",
   "metadata": {
    "id": "H-niFO3MkbtZ"
   },
   "source": [
    "# Load & Save files"
   ]
  },
  {
   "cell_type": "markdown",
   "metadata": {
    "id": "q6kLXdWRbbWn"
   },
   "source": [
    "## Lesson"
   ]
  },
  {
   "cell_type": "markdown",
   "metadata": {
    "id": "QQgesmYebcnW"
   },
   "source": [
    "***Loading files*** is one of the most common tasks in data analysis and Pandas provides many convenient functions ***to read and write data*** from a variety of sources. Here are a few common ones:\n",
    "\n",
    "* `.read_csv()`: Reads data from a CSV file\n",
    "* `.read_excel()`: Reads data from an Excel file\n",
    "* `.read_json()`: Reads data from a JSON file\n",
    "* `.read_sql()`: Reads data from a SQL database\n",
    "\n",
    "Each of these functions takes one or more parameters that specify the location and format of the file to be read, as well as any additional options specific to the file format.\n",
    "\n",
    "For example, the `read_csv()` function has some extra parameters such as:\n",
    "* **sep**: Specifies the separator used in the CSV file. The default value is a comma, but it can be changed to any character or string.\n",
    "\n",
    "* **header**: Specifies which row(s) to use as the column headers. This can be an integer, a list of integers, or None to indicate that there are no column headers.\n",
    "\n",
    "* **index_col**: Specifies which column(s) to use as the index of the DataFrame. This can be an integer, a list of integers, or a column name.\n",
    "\n",
    "* **usecols**: Specifies which columns to include in the DataFrame. This can be a list of integers or column names.\n",
    "\n",
    "* **skiprows**: Specifies which row(s) to skip when reading the file. This can be an integer or a list of integers.\n",
    "\n",
    "* **na_values**: Specifies a list of values that should be treated as missing values.\n",
    "\n",
    "* **encoding**: Specifies the character encoding used in the CSV file.\n",
    "\n",
    "`read_csv()` [Documentation](https://pandas.pydata.org/docs/reference/api/pandas.read_csv.html)<br>\n",
    "`read_excel()` [Documentation](https://pandas.pydata.org/docs/reference/api/pandas.read_excel.html)"
   ]
  },
  {
   "cell_type": "code",
   "execution_count": 131,
   "metadata": {
    "colab": {
     "base_uri": "https://localhost:8080/",
     "height": 206
    },
    "executionInfo": {
     "elapsed": 371,
     "status": "ok",
     "timestamp": 1677108331666,
     "user": {
      "displayName": "Antoine Palisson",
      "userId": "06334333839821267204"
     },
     "user_tz": -60
    },
    "id": "fyZ3yegoke53",
    "outputId": "47fc9847-b562-41c1-8196-8fb3b6952337"
   },
   "outputs": [
    {
     "data": {
      "text/html": [
       "<div>\n",
       "<style scoped>\n",
       "    .dataframe tbody tr th:only-of-type {\n",
       "        vertical-align: middle;\n",
       "    }\n",
       "\n",
       "    .dataframe tbody tr th {\n",
       "        vertical-align: top;\n",
       "    }\n",
       "\n",
       "    .dataframe thead th {\n",
       "        text-align: right;\n",
       "    }\n",
       "</style>\n",
       "<table border=\"1\" class=\"dataframe\">\n",
       "  <thead>\n",
       "    <tr style=\"text-align: right;\">\n",
       "      <th></th>\n",
       "      <th>longitude</th>\n",
       "      <th>latitude</th>\n",
       "      <th>housing_median_age</th>\n",
       "      <th>total_rooms</th>\n",
       "      <th>total_bedrooms</th>\n",
       "      <th>population</th>\n",
       "      <th>households</th>\n",
       "      <th>median_income</th>\n",
       "      <th>median_house_value</th>\n",
       "    </tr>\n",
       "  </thead>\n",
       "  <tbody>\n",
       "    <tr>\n",
       "      <th>0</th>\n",
       "      <td>-114.31</td>\n",
       "      <td>34.19</td>\n",
       "      <td>15.0</td>\n",
       "      <td>5612.0</td>\n",
       "      <td>1283.0</td>\n",
       "      <td>1015.0</td>\n",
       "      <td>472.0</td>\n",
       "      <td>1.4936</td>\n",
       "      <td>66900.0</td>\n",
       "    </tr>\n",
       "    <tr>\n",
       "      <th>1</th>\n",
       "      <td>-114.47</td>\n",
       "      <td>34.40</td>\n",
       "      <td>19.0</td>\n",
       "      <td>7650.0</td>\n",
       "      <td>1901.0</td>\n",
       "      <td>1129.0</td>\n",
       "      <td>463.0</td>\n",
       "      <td>1.8200</td>\n",
       "      <td>80100.0</td>\n",
       "    </tr>\n",
       "    <tr>\n",
       "      <th>2</th>\n",
       "      <td>-114.56</td>\n",
       "      <td>33.69</td>\n",
       "      <td>17.0</td>\n",
       "      <td>720.0</td>\n",
       "      <td>174.0</td>\n",
       "      <td>333.0</td>\n",
       "      <td>117.0</td>\n",
       "      <td>1.6509</td>\n",
       "      <td>85700.0</td>\n",
       "    </tr>\n",
       "    <tr>\n",
       "      <th>3</th>\n",
       "      <td>-114.57</td>\n",
       "      <td>33.64</td>\n",
       "      <td>14.0</td>\n",
       "      <td>1501.0</td>\n",
       "      <td>337.0</td>\n",
       "      <td>515.0</td>\n",
       "      <td>226.0</td>\n",
       "      <td>3.1917</td>\n",
       "      <td>73400.0</td>\n",
       "    </tr>\n",
       "    <tr>\n",
       "      <th>4</th>\n",
       "      <td>-114.57</td>\n",
       "      <td>33.57</td>\n",
       "      <td>20.0</td>\n",
       "      <td>1454.0</td>\n",
       "      <td>326.0</td>\n",
       "      <td>624.0</td>\n",
       "      <td>262.0</td>\n",
       "      <td>1.9250</td>\n",
       "      <td>65500.0</td>\n",
       "    </tr>\n",
       "  </tbody>\n",
       "</table>\n",
       "</div>"
      ],
      "text/plain": [
       "   longitude  latitude  housing_median_age  total_rooms  total_bedrooms  \\\n",
       "0    -114.31     34.19                15.0       5612.0          1283.0   \n",
       "1    -114.47     34.40                19.0       7650.0          1901.0   \n",
       "2    -114.56     33.69                17.0        720.0           174.0   \n",
       "3    -114.57     33.64                14.0       1501.0           337.0   \n",
       "4    -114.57     33.57                20.0       1454.0           326.0   \n",
       "\n",
       "   population  households  median_income  median_house_value  \n",
       "0      1015.0       472.0         1.4936             66900.0  \n",
       "1      1129.0       463.0         1.8200             80100.0  \n",
       "2       333.0       117.0         1.6509             85700.0  \n",
       "3       515.0       226.0         3.1917             73400.0  \n",
       "4       624.0       262.0         1.9250             65500.0  "
      ]
     },
     "execution_count": 131,
     "metadata": {},
     "output_type": "execute_result"
    }
   ],
   "source": [
    "# Reading the Google Colab california housing dataset\n",
    "df = pd.read_csv('california_housing_train.csv')\n",
    "df.head()"
   ]
  },
  {
   "cell_type": "code",
   "execution_count": 132,
   "metadata": {
    "colab": {
     "base_uri": "https://localhost:8080/",
     "height": 206
    },
    "executionInfo": {
     "elapsed": 340,
     "status": "ok",
     "timestamp": 1677108398905,
     "user": {
      "displayName": "Antoine Palisson",
      "userId": "06334333839821267204"
     },
     "user_tz": -60
    },
    "id": "8B0oHIYpckEF",
    "outputId": "3b656452-8d4c-43f3-c426-9e066fabaa91"
   },
   "outputs": [
    {
     "data": {
      "text/html": [
       "<div>\n",
       "<style scoped>\n",
       "    .dataframe tbody tr th:only-of-type {\n",
       "        vertical-align: middle;\n",
       "    }\n",
       "\n",
       "    .dataframe tbody tr th {\n",
       "        vertical-align: top;\n",
       "    }\n",
       "\n",
       "    .dataframe thead th {\n",
       "        text-align: right;\n",
       "    }\n",
       "</style>\n",
       "<table border=\"1\" class=\"dataframe\">\n",
       "  <thead>\n",
       "    <tr style=\"text-align: right;\">\n",
       "      <th></th>\n",
       "      <th>housing_median_age</th>\n",
       "      <th>total_rooms</th>\n",
       "      <th>total_bedrooms</th>\n",
       "      <th>median_house_value</th>\n",
       "    </tr>\n",
       "  </thead>\n",
       "  <tbody>\n",
       "    <tr>\n",
       "      <th>0</th>\n",
       "      <td>15.0</td>\n",
       "      <td>5612.0</td>\n",
       "      <td>1283.0</td>\n",
       "      <td>66900.0</td>\n",
       "    </tr>\n",
       "    <tr>\n",
       "      <th>1</th>\n",
       "      <td>19.0</td>\n",
       "      <td>7650.0</td>\n",
       "      <td>1901.0</td>\n",
       "      <td>80100.0</td>\n",
       "    </tr>\n",
       "    <tr>\n",
       "      <th>2</th>\n",
       "      <td>17.0</td>\n",
       "      <td>720.0</td>\n",
       "      <td>174.0</td>\n",
       "      <td>85700.0</td>\n",
       "    </tr>\n",
       "    <tr>\n",
       "      <th>3</th>\n",
       "      <td>14.0</td>\n",
       "      <td>1501.0</td>\n",
       "      <td>337.0</td>\n",
       "      <td>73400.0</td>\n",
       "    </tr>\n",
       "    <tr>\n",
       "      <th>4</th>\n",
       "      <td>20.0</td>\n",
       "      <td>1454.0</td>\n",
       "      <td>326.0</td>\n",
       "      <td>65500.0</td>\n",
       "    </tr>\n",
       "  </tbody>\n",
       "</table>\n",
       "</div>"
      ],
      "text/plain": [
       "   housing_median_age  total_rooms  total_bedrooms  median_house_value\n",
       "0                15.0       5612.0          1283.0             66900.0\n",
       "1                19.0       7650.0          1901.0             80100.0\n",
       "2                17.0        720.0           174.0             85700.0\n",
       "3                14.0       1501.0           337.0             73400.0\n",
       "4                20.0       1454.0           326.0             65500.0"
      ]
     },
     "execution_count": 132,
     "metadata": {},
     "output_type": "execute_result"
    }
   ],
   "source": [
    "# Only keeping some columns\n",
    "df = pd.read_csv('california_housing_train.csv',\n",
    "                 usecols=['housing_median_age',\t'total_rooms',\t'total_bedrooms', 'median_house_value'])\n",
    "df.head()"
   ]
  },
  {
   "cell_type": "code",
   "execution_count": 133,
   "metadata": {
    "colab": {
     "base_uri": "https://localhost:8080/",
     "height": 206
    },
    "executionInfo": {
     "elapsed": 330,
     "status": "ok",
     "timestamp": 1677108529114,
     "user": {
      "displayName": "Antoine Palisson",
      "userId": "06334333839821267204"
     },
     "user_tz": -60
    },
    "id": "bv2fQ3Hcc0a0",
    "outputId": "aa5c6d81-64c2-45d1-d568-bcef0d9defc7"
   },
   "outputs": [
    {
     "data": {
      "text/html": [
       "<div>\n",
       "<style scoped>\n",
       "    .dataframe tbody tr th:only-of-type {\n",
       "        vertical-align: middle;\n",
       "    }\n",
       "\n",
       "    .dataframe tbody tr th {\n",
       "        vertical-align: top;\n",
       "    }\n",
       "\n",
       "    .dataframe thead th {\n",
       "        text-align: right;\n",
       "    }\n",
       "</style>\n",
       "<table border=\"1\" class=\"dataframe\">\n",
       "  <thead>\n",
       "    <tr style=\"text-align: right;\">\n",
       "      <th></th>\n",
       "      <th>longitude,\"latitude\",\"housing_median_age\",\"total_rooms\",\"total_bedrooms\",\"population\",\"households\",\"median_income\",\"median_house_value\"</th>\n",
       "    </tr>\n",
       "  </thead>\n",
       "  <tbody>\n",
       "    <tr>\n",
       "      <th>0</th>\n",
       "      <td>-114.310000,34.190000,15.000000,5612.000000,12...</td>\n",
       "    </tr>\n",
       "    <tr>\n",
       "      <th>1</th>\n",
       "      <td>-114.470000,34.400000,19.000000,7650.000000,19...</td>\n",
       "    </tr>\n",
       "    <tr>\n",
       "      <th>2</th>\n",
       "      <td>-114.560000,33.690000,17.000000,720.000000,174...</td>\n",
       "    </tr>\n",
       "    <tr>\n",
       "      <th>3</th>\n",
       "      <td>-114.570000,33.640000,14.000000,1501.000000,33...</td>\n",
       "    </tr>\n",
       "    <tr>\n",
       "      <th>4</th>\n",
       "      <td>-114.570000,33.570000,20.000000,1454.000000,32...</td>\n",
       "    </tr>\n",
       "  </tbody>\n",
       "</table>\n",
       "</div>"
      ],
      "text/plain": [
       "  longitude,\"latitude\",\"housing_median_age\",\"total_rooms\",\"total_bedrooms\",\"population\",\"households\",\"median_income\",\"median_house_value\"\n",
       "0  -114.310000,34.190000,15.000000,5612.000000,12...                                                                                     \n",
       "1  -114.470000,34.400000,19.000000,7650.000000,19...                                                                                     \n",
       "2  -114.560000,33.690000,17.000000,720.000000,174...                                                                                     \n",
       "3  -114.570000,33.640000,14.000000,1501.000000,33...                                                                                     \n",
       "4  -114.570000,33.570000,20.000000,1454.000000,32...                                                                                     "
      ]
     },
     "execution_count": 133,
     "metadata": {},
     "output_type": "execute_result"
    }
   ],
   "source": [
    "# By default, most CSV files have the comma separator\n",
    "# But, sometimes the CSV file separator can be different\n",
    "# For example, it can be \\t\n",
    "df = pd.read_csv('california_housing_train.csv',\n",
    "                 sep='\\t')\n",
    "df.head()"
   ]
  },
  {
   "cell_type": "markdown",
   "metadata": {
    "id": "P7lY9Kwjdiwe"
   },
   "source": [
    "***Saving files*** is another common task in data analysis and Pandas provides several functions to write data to a variety of file formats. To save a Pandas DataFrame to a file, we first need to create the DataFrame and do any necessary manipulations. Once we have the DataFrame, we can use one of the following functions to write it to a file:\n",
    "\n",
    "* `.to_csv()`: Writes the DataFrame to a CSV file\n",
    "* `.to_excel()`: Writes the DataFrame to an Excel file\n",
    "* `.to_json()`: Writes the DataFrame to a JSON file\n",
    "* `.to_sql()`: Writes the DataFrame to a SQL database\n",
    "\n",
    "Pandas provides many additional options for writing files, depending on the specifics of the data and file format.\n",
    "\n",
    "For example, the `to_csv()` function has some extra parameters such as:\n",
    "* **path_or_buf**: Specifies the location of the CSV file to be written. This can be a file path, a file-like object, or None to return the CSV data as a string.\n",
    "\n",
    "* **sep**: Specifies the separator used in the CSV file. The default value is a comma, but it can be changed to any character or string.\n",
    "\n",
    "* **header**: Specifies whether to include the column headers in the CSV file. This can be True, False, or a list of column names.\n",
    "\n",
    "* **index**: Specifies whether to include the index in the CSV file. This can be True, False, or a column name."
   ]
  },
  {
   "cell_type": "code",
   "execution_count": 134,
   "metadata": {
    "colab": {
     "base_uri": "https://localhost:8080/",
     "height": 363
    },
    "executionInfo": {
     "elapsed": 357,
     "status": "ok",
     "timestamp": 1677108843238,
     "user": {
      "displayName": "Antoine Palisson",
      "userId": "06334333839821267204"
     },
     "user_tz": -60
    },
    "id": "DLd2ncYIeGWj",
    "outputId": "a60e1cb8-7f4e-44da-fb5d-fa59af6b1809"
   },
   "outputs": [
    {
     "data": {
      "text/html": [
       "<div>\n",
       "<style scoped>\n",
       "    .dataframe tbody tr th:only-of-type {\n",
       "        vertical-align: middle;\n",
       "    }\n",
       "\n",
       "    .dataframe tbody tr th {\n",
       "        vertical-align: top;\n",
       "    }\n",
       "\n",
       "    .dataframe thead th {\n",
       "        text-align: right;\n",
       "    }\n",
       "</style>\n",
       "<table border=\"1\" class=\"dataframe\">\n",
       "  <thead>\n",
       "    <tr style=\"text-align: right;\">\n",
       "      <th></th>\n",
       "      <th>A</th>\n",
       "      <th>B</th>\n",
       "      <th>C</th>\n",
       "      <th>D</th>\n",
       "      <th>E</th>\n",
       "    </tr>\n",
       "  </thead>\n",
       "  <tbody>\n",
       "    <tr>\n",
       "      <th>0</th>\n",
       "      <td>0.848456</td>\n",
       "      <td>0.997622</td>\n",
       "      <td>0.551657</td>\n",
       "      <td>0.178139</td>\n",
       "      <td>0.353354</td>\n",
       "    </tr>\n",
       "    <tr>\n",
       "      <th>1</th>\n",
       "      <td>0.794821</td>\n",
       "      <td>0.971801</td>\n",
       "      <td>0.820121</td>\n",
       "      <td>0.217730</td>\n",
       "      <td>0.678361</td>\n",
       "    </tr>\n",
       "    <tr>\n",
       "      <th>2</th>\n",
       "      <td>0.964896</td>\n",
       "      <td>0.374787</td>\n",
       "      <td>0.267646</td>\n",
       "      <td>0.113184</td>\n",
       "      <td>0.677983</td>\n",
       "    </tr>\n",
       "    <tr>\n",
       "      <th>3</th>\n",
       "      <td>0.567594</td>\n",
       "      <td>0.828154</td>\n",
       "      <td>0.335108</td>\n",
       "      <td>0.820729</td>\n",
       "      <td>0.694632</td>\n",
       "    </tr>\n",
       "    <tr>\n",
       "      <th>4</th>\n",
       "      <td>0.551882</td>\n",
       "      <td>0.999626</td>\n",
       "      <td>0.039998</td>\n",
       "      <td>0.743351</td>\n",
       "      <td>0.044606</td>\n",
       "    </tr>\n",
       "    <tr>\n",
       "      <th>5</th>\n",
       "      <td>0.761528</td>\n",
       "      <td>0.522410</td>\n",
       "      <td>0.696313</td>\n",
       "      <td>0.468078</td>\n",
       "      <td>0.889752</td>\n",
       "    </tr>\n",
       "    <tr>\n",
       "      <th>6</th>\n",
       "      <td>0.931691</td>\n",
       "      <td>0.842581</td>\n",
       "      <td>0.805763</td>\n",
       "      <td>0.083010</td>\n",
       "      <td>0.848281</td>\n",
       "    </tr>\n",
       "    <tr>\n",
       "      <th>7</th>\n",
       "      <td>0.855145</td>\n",
       "      <td>0.893186</td>\n",
       "      <td>0.944695</td>\n",
       "      <td>0.533054</td>\n",
       "      <td>0.030314</td>\n",
       "    </tr>\n",
       "    <tr>\n",
       "      <th>8</th>\n",
       "      <td>0.390604</td>\n",
       "      <td>0.323863</td>\n",
       "      <td>0.913486</td>\n",
       "      <td>0.448110</td>\n",
       "      <td>0.334604</td>\n",
       "    </tr>\n",
       "    <tr>\n",
       "      <th>9</th>\n",
       "      <td>0.946672</td>\n",
       "      <td>0.282040</td>\n",
       "      <td>0.839655</td>\n",
       "      <td>0.483999</td>\n",
       "      <td>0.966593</td>\n",
       "    </tr>\n",
       "  </tbody>\n",
       "</table>\n",
       "</div>"
      ],
      "text/plain": [
       "          A         B         C         D         E\n",
       "0  0.848456  0.997622  0.551657  0.178139  0.353354\n",
       "1  0.794821  0.971801  0.820121  0.217730  0.678361\n",
       "2  0.964896  0.374787  0.267646  0.113184  0.677983\n",
       "3  0.567594  0.828154  0.335108  0.820729  0.694632\n",
       "4  0.551882  0.999626  0.039998  0.743351  0.044606\n",
       "5  0.761528  0.522410  0.696313  0.468078  0.889752\n",
       "6  0.931691  0.842581  0.805763  0.083010  0.848281\n",
       "7  0.855145  0.893186  0.944695  0.533054  0.030314\n",
       "8  0.390604  0.323863  0.913486  0.448110  0.334604\n",
       "9  0.946672  0.282040  0.839655  0.483999  0.966593"
      ]
     },
     "execution_count": 134,
     "metadata": {},
     "output_type": "execute_result"
    }
   ],
   "source": [
    "df = pd.DataFrame(np.random.random((10,5)),\n",
    "                  columns=['A','B','C','D','E'])\n",
    "df"
   ]
  },
  {
   "cell_type": "code",
   "execution_count": 137,
   "metadata": {
    "id": "FaChNG7Xeeaq"
   },
   "outputs": [],
   "source": [
    "df.to_csv('dataframe.csv', index = False)"
   ]
  },
  {
   "cell_type": "markdown",
   "metadata": {
    "id": "qVKqCWdvfEcC"
   },
   "source": [
    "## Exercises"
   ]
  },
  {
   "cell_type": "markdown",
   "metadata": {
    "id": "6oeeLC0gfpN8"
   },
   "source": [
    "**<font color='blue'>1. Load the `dataframe_1.csv` correclty.**"
   ]
  },
  {
   "cell_type": "code",
   "execution_count": 138,
   "metadata": {
    "id": "z6QIA8Gug7KB"
   },
   "outputs": [
    {
     "data": {
      "text/html": [
       "<div>\n",
       "<style scoped>\n",
       "    .dataframe tbody tr th:only-of-type {\n",
       "        vertical-align: middle;\n",
       "    }\n",
       "\n",
       "    .dataframe tbody tr th {\n",
       "        vertical-align: top;\n",
       "    }\n",
       "\n",
       "    .dataframe thead th {\n",
       "        text-align: right;\n",
       "    }\n",
       "</style>\n",
       "<table border=\"1\" class=\"dataframe\">\n",
       "  <thead>\n",
       "    <tr style=\"text-align: right;\">\n",
       "      <th></th>\n",
       "      <th>A</th>\n",
       "      <th>B</th>\n",
       "      <th>C</th>\n",
       "      <th>D</th>\n",
       "      <th>E</th>\n",
       "    </tr>\n",
       "  </thead>\n",
       "  <tbody>\n",
       "    <tr>\n",
       "      <th>0</th>\n",
       "      <td>0.848456</td>\n",
       "      <td>0.997622</td>\n",
       "      <td>0.551657</td>\n",
       "      <td>0.178139</td>\n",
       "      <td>0.353354</td>\n",
       "    </tr>\n",
       "    <tr>\n",
       "      <th>1</th>\n",
       "      <td>0.794821</td>\n",
       "      <td>0.971801</td>\n",
       "      <td>0.820121</td>\n",
       "      <td>0.217730</td>\n",
       "      <td>0.678361</td>\n",
       "    </tr>\n",
       "    <tr>\n",
       "      <th>2</th>\n",
       "      <td>0.964896</td>\n",
       "      <td>0.374787</td>\n",
       "      <td>0.267646</td>\n",
       "      <td>0.113184</td>\n",
       "      <td>0.677983</td>\n",
       "    </tr>\n",
       "    <tr>\n",
       "      <th>3</th>\n",
       "      <td>0.567594</td>\n",
       "      <td>0.828154</td>\n",
       "      <td>0.335108</td>\n",
       "      <td>0.820729</td>\n",
       "      <td>0.694632</td>\n",
       "    </tr>\n",
       "    <tr>\n",
       "      <th>4</th>\n",
       "      <td>0.551882</td>\n",
       "      <td>0.999626</td>\n",
       "      <td>0.039998</td>\n",
       "      <td>0.743351</td>\n",
       "      <td>0.044606</td>\n",
       "    </tr>\n",
       "    <tr>\n",
       "      <th>5</th>\n",
       "      <td>0.761528</td>\n",
       "      <td>0.522410</td>\n",
       "      <td>0.696313</td>\n",
       "      <td>0.468078</td>\n",
       "      <td>0.889752</td>\n",
       "    </tr>\n",
       "    <tr>\n",
       "      <th>6</th>\n",
       "      <td>0.931691</td>\n",
       "      <td>0.842581</td>\n",
       "      <td>0.805763</td>\n",
       "      <td>0.083010</td>\n",
       "      <td>0.848281</td>\n",
       "    </tr>\n",
       "    <tr>\n",
       "      <th>7</th>\n",
       "      <td>0.855145</td>\n",
       "      <td>0.893186</td>\n",
       "      <td>0.944695</td>\n",
       "      <td>0.533054</td>\n",
       "      <td>0.030314</td>\n",
       "    </tr>\n",
       "    <tr>\n",
       "      <th>8</th>\n",
       "      <td>0.390604</td>\n",
       "      <td>0.323863</td>\n",
       "      <td>0.913486</td>\n",
       "      <td>0.448110</td>\n",
       "      <td>0.334604</td>\n",
       "    </tr>\n",
       "    <tr>\n",
       "      <th>9</th>\n",
       "      <td>0.946672</td>\n",
       "      <td>0.282040</td>\n",
       "      <td>0.839655</td>\n",
       "      <td>0.483999</td>\n",
       "      <td>0.966593</td>\n",
       "    </tr>\n",
       "  </tbody>\n",
       "</table>\n",
       "</div>"
      ],
      "text/plain": [
       "          A         B         C         D         E\n",
       "0  0.848456  0.997622  0.551657  0.178139  0.353354\n",
       "1  0.794821  0.971801  0.820121  0.217730  0.678361\n",
       "2  0.964896  0.374787  0.267646  0.113184  0.677983\n",
       "3  0.567594  0.828154  0.335108  0.820729  0.694632\n",
       "4  0.551882  0.999626  0.039998  0.743351  0.044606\n",
       "5  0.761528  0.522410  0.696313  0.468078  0.889752\n",
       "6  0.931691  0.842581  0.805763  0.083010  0.848281\n",
       "7  0.855145  0.893186  0.944695  0.533054  0.030314\n",
       "8  0.390604  0.323863  0.913486  0.448110  0.334604\n",
       "9  0.946672  0.282040  0.839655  0.483999  0.966593"
      ]
     },
     "execution_count": 138,
     "metadata": {},
     "output_type": "execute_result"
    }
   ],
   "source": [
    "df1 = pd.read_csv('dataframe.csv')\n",
    "df1"
   ]
  },
  {
   "cell_type": "markdown",
   "metadata": {
    "id": "VKlfd2iyfujU"
   },
   "source": [
    "**<font color='blue'>2. Add a column to this dataframe.**"
   ]
  },
  {
   "cell_type": "code",
   "execution_count": 143,
   "metadata": {
    "id": "8o2H19rpg7j0"
   },
   "outputs": [
    {
     "data": {
      "text/html": [
       "<div>\n",
       "<style scoped>\n",
       "    .dataframe tbody tr th:only-of-type {\n",
       "        vertical-align: middle;\n",
       "    }\n",
       "\n",
       "    .dataframe tbody tr th {\n",
       "        vertical-align: top;\n",
       "    }\n",
       "\n",
       "    .dataframe thead th {\n",
       "        text-align: right;\n",
       "    }\n",
       "</style>\n",
       "<table border=\"1\" class=\"dataframe\">\n",
       "  <thead>\n",
       "    <tr style=\"text-align: right;\">\n",
       "      <th></th>\n",
       "      <th>A</th>\n",
       "      <th>B</th>\n",
       "      <th>C</th>\n",
       "      <th>D</th>\n",
       "      <th>E</th>\n",
       "      <th>F</th>\n",
       "    </tr>\n",
       "  </thead>\n",
       "  <tbody>\n",
       "    <tr>\n",
       "      <th>0</th>\n",
       "      <td>0.848456</td>\n",
       "      <td>0.997622</td>\n",
       "      <td>0.551657</td>\n",
       "      <td>0.178139</td>\n",
       "      <td>0.353354</td>\n",
       "      <td>0.887389</td>\n",
       "    </tr>\n",
       "    <tr>\n",
       "      <th>1</th>\n",
       "      <td>0.794821</td>\n",
       "      <td>0.971801</td>\n",
       "      <td>0.820121</td>\n",
       "      <td>0.217730</td>\n",
       "      <td>0.678361</td>\n",
       "      <td>0.750967</td>\n",
       "    </tr>\n",
       "    <tr>\n",
       "      <th>2</th>\n",
       "      <td>0.964896</td>\n",
       "      <td>0.374787</td>\n",
       "      <td>0.267646</td>\n",
       "      <td>0.113184</td>\n",
       "      <td>0.677983</td>\n",
       "      <td>0.975264</td>\n",
       "    </tr>\n",
       "    <tr>\n",
       "      <th>3</th>\n",
       "      <td>0.567594</td>\n",
       "      <td>0.828154</td>\n",
       "      <td>0.335108</td>\n",
       "      <td>0.820729</td>\n",
       "      <td>0.694632</td>\n",
       "      <td>0.038604</td>\n",
       "    </tr>\n",
       "    <tr>\n",
       "      <th>4</th>\n",
       "      <td>0.551882</td>\n",
       "      <td>0.999626</td>\n",
       "      <td>0.039998</td>\n",
       "      <td>0.743351</td>\n",
       "      <td>0.044606</td>\n",
       "      <td>0.216079</td>\n",
       "    </tr>\n",
       "    <tr>\n",
       "      <th>5</th>\n",
       "      <td>0.761528</td>\n",
       "      <td>0.522410</td>\n",
       "      <td>0.696313</td>\n",
       "      <td>0.468078</td>\n",
       "      <td>0.889752</td>\n",
       "      <td>0.014145</td>\n",
       "    </tr>\n",
       "    <tr>\n",
       "      <th>6</th>\n",
       "      <td>0.931691</td>\n",
       "      <td>0.842581</td>\n",
       "      <td>0.805763</td>\n",
       "      <td>0.083010</td>\n",
       "      <td>0.848281</td>\n",
       "      <td>0.383175</td>\n",
       "    </tr>\n",
       "    <tr>\n",
       "      <th>7</th>\n",
       "      <td>0.855145</td>\n",
       "      <td>0.893186</td>\n",
       "      <td>0.944695</td>\n",
       "      <td>0.533054</td>\n",
       "      <td>0.030314</td>\n",
       "      <td>0.614373</td>\n",
       "    </tr>\n",
       "    <tr>\n",
       "      <th>8</th>\n",
       "      <td>0.390604</td>\n",
       "      <td>0.323863</td>\n",
       "      <td>0.913486</td>\n",
       "      <td>0.448110</td>\n",
       "      <td>0.334604</td>\n",
       "      <td>0.810655</td>\n",
       "    </tr>\n",
       "    <tr>\n",
       "      <th>9</th>\n",
       "      <td>0.946672</td>\n",
       "      <td>0.282040</td>\n",
       "      <td>0.839655</td>\n",
       "      <td>0.483999</td>\n",
       "      <td>0.966593</td>\n",
       "      <td>0.677113</td>\n",
       "    </tr>\n",
       "  </tbody>\n",
       "</table>\n",
       "</div>"
      ],
      "text/plain": [
       "          A         B         C         D         E         F\n",
       "0  0.848456  0.997622  0.551657  0.178139  0.353354  0.887389\n",
       "1  0.794821  0.971801  0.820121  0.217730  0.678361  0.750967\n",
       "2  0.964896  0.374787  0.267646  0.113184  0.677983  0.975264\n",
       "3  0.567594  0.828154  0.335108  0.820729  0.694632  0.038604\n",
       "4  0.551882  0.999626  0.039998  0.743351  0.044606  0.216079\n",
       "5  0.761528  0.522410  0.696313  0.468078  0.889752  0.014145\n",
       "6  0.931691  0.842581  0.805763  0.083010  0.848281  0.383175\n",
       "7  0.855145  0.893186  0.944695  0.533054  0.030314  0.614373\n",
       "8  0.390604  0.323863  0.913486  0.448110  0.334604  0.810655\n",
       "9  0.946672  0.282040  0.839655  0.483999  0.966593  0.677113"
      ]
     },
     "execution_count": 143,
     "metadata": {},
     "output_type": "execute_result"
    }
   ],
   "source": [
    "df1['F'] = np.random.random((10,1))\n",
    "df1"
   ]
  },
  {
   "cell_type": "markdown",
   "metadata": {
    "id": "nl54vfNvfyMM"
   },
   "source": [
    "**<font color='blue'>3. Save it back as a CSV file.**"
   ]
  },
  {
   "cell_type": "code",
   "execution_count": 145,
   "metadata": {
    "id": "X0VnykAVg8Nt"
   },
   "outputs": [],
   "source": [
    "df1.to_csv('dataframe_1.csv', index = False)"
   ]
  }
 ],
 "metadata": {
  "colab": {
   "authorship_tag": "ABX9TyNOg+5c+hwNaC3BVpkZZ++w",
   "collapsed_sections": [
    "VUmi0AHl88_n",
    "4MIc1YXgBdeg",
    "s7W4CWOxBglF",
    "oh0HPZiykP2c",
    "b2da95MpyuNc",
    "gC_vNHYpyvxb",
    "aKMbxZCdkYWI",
    "fDiT00N3HwL3",
    "Rr_DiO28HyXs",
    "H-niFO3MkbtZ",
    "q6kLXdWRbbWn",
    "qVKqCWdvfEcC"
   ],
   "provenance": [],
   "toc_visible": true
  },
  "kernelspec": {
   "display_name": "Python 3 (ipykernel)",
   "language": "python",
   "name": "python3"
  },
  "language_info": {
   "codemirror_mode": {
    "name": "ipython",
    "version": 3
   },
   "file_extension": ".py",
   "mimetype": "text/x-python",
   "name": "python",
   "nbconvert_exporter": "python",
   "pygments_lexer": "ipython3",
   "version": "3.8.13"
  }
 },
 "nbformat": 4,
 "nbformat_minor": 1
}
