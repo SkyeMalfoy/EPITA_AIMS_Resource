{
 "cells": [
  {
   "cell_type": "markdown",
   "metadata": {
    "id": "68J-pJlzvlH2"
   },
   "source": [
    "*This Notebook was created by Antoine Palisson*"
   ]
  },
  {
   "cell_type": "code",
   "execution_count": 56,
   "metadata": {
    "id": "S3ud0IgvVEME"
   },
   "outputs": [],
   "source": [
    "import matplotlib.pyplot as plt\n",
    "import seaborn as sns\n",
    "import pandas as pd\n",
    "import numpy as np\n",
    "from sklearn.model_selection import train_test_split\n",
    "from sklearn.impute import SimpleImputer\n",
    "from sklearn.preprocessing import OrdinalEncoder, OneHotEncoder, MinMaxScaler\n",
    "from sklearn.compose import ColumnTransformer"
   ]
  },
  {
   "cell_type": "markdown",
   "metadata": {
    "id": "phGtOwDLvtlr"
   },
   "source": [
    "This exercise focus on the preprocessing steps of **Categorical variables**.\n",
    "\n",
    "Only a fraction of the methods will be used in this Notebook, including:\n",
    "\n",
    "* Random & Stratified Splitting on a numerical target\n",
    "* Missing Data deletion & imputation\n",
    "* Outliers detection\n",
    "* Encoding the categories in 3 different ways\n",
    "\n",
    "Depending on the dataset, it may be interesting to use other methods seen in the lesson."
   ]
  },
  {
   "cell_type": "markdown",
   "metadata": {
    "id": "xFVgAqSMH9Ki"
   },
   "source": [
    "# Splitting, Missing & Outliers"
   ]
  },
  {
   "cell_type": "markdown",
   "metadata": {
    "id": "5XptBBKA6s--"
   },
   "source": [
    "**<font color='blue'>1. Load the modified cat in the dat dataset (`cat_in_the_dat_m.csv`) and show its content.**"
   ]
  },
  {
   "cell_type": "code",
   "execution_count": 6,
   "metadata": {
    "id": "4izHpRXmyBEN"
   },
   "outputs": [
    {
     "data": {
      "text/html": [
       "<div>\n",
       "<style scoped>\n",
       "    .dataframe tbody tr th:only-of-type {\n",
       "        vertical-align: middle;\n",
       "    }\n",
       "\n",
       "    .dataframe tbody tr th {\n",
       "        vertical-align: top;\n",
       "    }\n",
       "\n",
       "    .dataframe thead th {\n",
       "        text-align: right;\n",
       "    }\n",
       "</style>\n",
       "<table border=\"1\" class=\"dataframe\">\n",
       "  <thead>\n",
       "    <tr style=\"text-align: right;\">\n",
       "      <th></th>\n",
       "      <th>cat_1</th>\n",
       "      <th>cat_2</th>\n",
       "      <th>cat_3</th>\n",
       "      <th>cat_4</th>\n",
       "      <th>day</th>\n",
       "      <th>month</th>\n",
       "      <th>target</th>\n",
       "    </tr>\n",
       "  </thead>\n",
       "  <tbody>\n",
       "    <tr>\n",
       "      <th>0</th>\n",
       "      <td>0.0</td>\n",
       "      <td>Red</td>\n",
       "      <td>Trapezoid</td>\n",
       "      <td>Big</td>\n",
       "      <td>6.0</td>\n",
       "      <td>3.0</td>\n",
       "      <td>-0.343563</td>\n",
       "    </tr>\n",
       "    <tr>\n",
       "      <th>1</th>\n",
       "      <td>1.0</td>\n",
       "      <td>Red</td>\n",
       "      <td>Star</td>\n",
       "      <td>Big</td>\n",
       "      <td>7.0</td>\n",
       "      <td>7.0</td>\n",
       "      <td>-2.015235</td>\n",
       "    </tr>\n",
       "    <tr>\n",
       "      <th>2</th>\n",
       "      <td>0.0</td>\n",
       "      <td>Red</td>\n",
       "      <td>NaN</td>\n",
       "      <td>Big</td>\n",
       "      <td>5.0</td>\n",
       "      <td>9.0</td>\n",
       "      <td>4.260065</td>\n",
       "    </tr>\n",
       "    <tr>\n",
       "      <th>3</th>\n",
       "      <td>NaN</td>\n",
       "      <td>Red</td>\n",
       "      <td>Circle</td>\n",
       "      <td>Small</td>\n",
       "      <td>3.0</td>\n",
       "      <td>3.0</td>\n",
       "      <td>3.463973</td>\n",
       "    </tr>\n",
       "    <tr>\n",
       "      <th>4</th>\n",
       "      <td>0.0</td>\n",
       "      <td>Red</td>\n",
       "      <td>Triangle</td>\n",
       "      <td>Big</td>\n",
       "      <td>5.0</td>\n",
       "      <td>12.0</td>\n",
       "      <td>-3.730371</td>\n",
       "    </tr>\n",
       "  </tbody>\n",
       "</table>\n",
       "</div>"
      ],
      "text/plain": [
       "   cat_1 cat_2      cat_3  cat_4  day  month    target\n",
       "0    0.0   Red  Trapezoid    Big  6.0    3.0 -0.343563\n",
       "1    1.0   Red       Star    Big  7.0    7.0 -2.015235\n",
       "2    0.0   Red        NaN    Big  5.0    9.0  4.260065\n",
       "3    NaN   Red     Circle  Small  3.0    3.0  3.463973\n",
       "4    0.0   Red   Triangle    Big  5.0   12.0 -3.730371"
      ]
     },
     "execution_count": 6,
     "metadata": {},
     "output_type": "execute_result"
    }
   ],
   "source": [
    "df_raw = pd.read_csv('cat_in_the_dat_m.csv')\n",
    "df_raw.head(5)"
   ]
  },
  {
   "cell_type": "markdown",
   "metadata": {
    "id": "pvCikc2EBH8s"
   },
   "source": [
    "The `.info()` method can be used on a dataframe to get a resume of its variables, length and missing values. This method has some parameters such as the **show_counts** parameter that can be either True or False, if True the method returns the number of non-missing values in the dataset.\n",
    "\n",
    "**<font color='blue'>2. Show a resume of the dataset variables, length and missing values.<br>Is there any missing variable ?**"
   ]
  },
  {
   "cell_type": "code",
   "execution_count": 3,
   "metadata": {
    "id": "6rayUZwKyBaI"
   },
   "outputs": [
    {
     "name": "stdout",
     "output_type": "stream",
     "text": [
      "<class 'pandas.core.frame.DataFrame'>\n",
      "RangeIndex: 50000 entries, 0 to 49999\n",
      "Data columns (total 7 columns):\n",
      " #   Column  Non-Null Count  Dtype  \n",
      "---  ------  --------------  -----  \n",
      " 0   cat_1   48504 non-null  float64\n",
      " 1   cat_2   48431 non-null  object \n",
      " 2   cat_3   48476 non-null  object \n",
      " 3   cat_4   48469 non-null  object \n",
      " 4   day     48463 non-null  float64\n",
      " 5   month   48543 non-null  float64\n",
      " 6   target  50000 non-null  float64\n",
      "dtypes: float64(4), object(3)\n",
      "memory usage: 2.7+ MB\n"
     ]
    },
    {
     "data": {
      "text/html": [
       "<div>\n",
       "<style scoped>\n",
       "    .dataframe tbody tr th:only-of-type {\n",
       "        vertical-align: middle;\n",
       "    }\n",
       "\n",
       "    .dataframe tbody tr th {\n",
       "        vertical-align: top;\n",
       "    }\n",
       "\n",
       "    .dataframe thead th {\n",
       "        text-align: right;\n",
       "    }\n",
       "</style>\n",
       "<table border=\"1\" class=\"dataframe\">\n",
       "  <thead>\n",
       "    <tr style=\"text-align: right;\">\n",
       "      <th></th>\n",
       "      <th>cat_1</th>\n",
       "      <th>day</th>\n",
       "      <th>month</th>\n",
       "      <th>target</th>\n",
       "    </tr>\n",
       "  </thead>\n",
       "  <tbody>\n",
       "    <tr>\n",
       "      <th>count</th>\n",
       "      <td>48504.000000</td>\n",
       "      <td>48463.000000</td>\n",
       "      <td>48543.000000</td>\n",
       "      <td>50000.000000</td>\n",
       "    </tr>\n",
       "    <tr>\n",
       "      <th>mean</th>\n",
       "      <td>0.092879</td>\n",
       "      <td>4.098364</td>\n",
       "      <td>6.372309</td>\n",
       "      <td>1.788189</td>\n",
       "    </tr>\n",
       "    <tr>\n",
       "      <th>std</th>\n",
       "      <td>0.290266</td>\n",
       "      <td>2.032839</td>\n",
       "      <td>3.458669</td>\n",
       "      <td>2.929503</td>\n",
       "    </tr>\n",
       "    <tr>\n",
       "      <th>min</th>\n",
       "      <td>0.000000</td>\n",
       "      <td>1.000000</td>\n",
       "      <td>1.000000</td>\n",
       "      <td>-9.794025</td>\n",
       "    </tr>\n",
       "    <tr>\n",
       "      <th>25%</th>\n",
       "      <td>0.000000</td>\n",
       "      <td>2.000000</td>\n",
       "      <td>3.000000</td>\n",
       "      <td>-0.210517</td>\n",
       "    </tr>\n",
       "    <tr>\n",
       "      <th>50%</th>\n",
       "      <td>0.000000</td>\n",
       "      <td>5.000000</td>\n",
       "      <td>6.000000</td>\n",
       "      <td>1.616218</td>\n",
       "    </tr>\n",
       "    <tr>\n",
       "      <th>75%</th>\n",
       "      <td>0.000000</td>\n",
       "      <td>6.000000</td>\n",
       "      <td>8.000000</td>\n",
       "      <td>3.764657</td>\n",
       "    </tr>\n",
       "    <tr>\n",
       "      <th>max</th>\n",
       "      <td>1.000000</td>\n",
       "      <td>7.000000</td>\n",
       "      <td>12.000000</td>\n",
       "      <td>15.307658</td>\n",
       "    </tr>\n",
       "  </tbody>\n",
       "</table>\n",
       "</div>"
      ],
      "text/plain": [
       "              cat_1           day         month        target\n",
       "count  48504.000000  48463.000000  48543.000000  50000.000000\n",
       "mean       0.092879      4.098364      6.372309      1.788189\n",
       "std        0.290266      2.032839      3.458669      2.929503\n",
       "min        0.000000      1.000000      1.000000     -9.794025\n",
       "25%        0.000000      2.000000      3.000000     -0.210517\n",
       "50%        0.000000      5.000000      6.000000      1.616218\n",
       "75%        0.000000      6.000000      8.000000      3.764657\n",
       "max        1.000000      7.000000     12.000000     15.307658"
      ]
     },
     "execution_count": 3,
     "metadata": {},
     "output_type": "execute_result"
    }
   ],
   "source": [
    "df_raw.info(show_counts=True)\n",
    "df_raw.describe()\n",
    "# df_raw.info()\n",
    "#Except for target column, there are missing values for all the other columns."
   ]
  },
  {
   "cell_type": "markdown",
   "metadata": {
    "id": "l2As3p8aVLTM"
   },
   "source": [
    "**<font color='blue'>3. What are the categorical type (nominal, ordinal or cyclical) of the features ?**"
   ]
  },
  {
   "cell_type": "markdown",
   "metadata": {
    "id": "IC6XunJUyCOK"
   },
   "source": [
    "<p>The types are as follows:\n",
    "    <li>Nominal</li>\n",
    "    <li>Nominal</li>\n",
    "    <li>Nominal</li>\n",
    "    <li>Ordinal</li>\n",
    "    <li>Cyclical</li>\n",
    "    <li>Cyclical</li>\n",
    "</p>"
   ]
  },
  {
   "cell_type": "markdown",
   "metadata": {
    "id": "dRjjwFNkXq1s"
   },
   "source": [
    "**<font color='blue'>4. What is the type of the target ?**"
   ]
  },
  {
   "cell_type": "markdown",
   "metadata": {
    "id": "GDHSrngcyCmk"
   },
   "source": [
    "<b>It's a numerical data.</b>"
   ]
  },
  {
   "cell_type": "markdown",
   "metadata": {
    "id": "s-q4cXmfqegB"
   },
   "source": [
    "## Splitting"
   ]
  },
  {
   "cell_type": "markdown",
   "metadata": {
    "id": "3cYkY1UYqoSG"
   },
   "source": [
    "**<font color='blue'>1. Split the cat in the data dataset into 3 sets using the `train_test_split` function:**\n",
    "\n",
    "\n",
    "*   **<font color='blue'>Training (80% of the data)**\n",
    "*   **<font color='blue'>Validation (10% of the data)**\n",
    "*   **<font color='blue'>Testing (10% of the data)**"
   ]
  },
  {
   "cell_type": "code",
   "execution_count": 4,
   "metadata": {
    "id": "x9XjvgvKyD0t"
   },
   "outputs": [
    {
     "name": "stdout",
     "output_type": "stream",
     "text": [
      "(40000, 7)\n",
      "(10000, 7)\n",
      "(5000, 7)\n",
      "(5000, 7)\n"
     ]
    }
   ],
   "source": [
    "X_train, X_test, y_train, y_test = train_test_split(df_raw, df_raw, train_size=0.8)\n",
    "print(X_train.shape)\n",
    "print(X_test.shape)\n",
    "X_val, X_test, y_val, y_test = train_test_split(X_test, y_test, train_size = 0.5)\n",
    "print(X_test.shape)\n",
    "print(X_val.shape)"
   ]
  },
  {
   "cell_type": "markdown",
   "metadata": {
    "id": "zFSMEHIut0_3"
   },
   "source": [
    "**<font color='blue'>2. Display the distribution of the training, the validation and the testing set.<br> Are they identical  ?**\n",
    "\n",
    "*Tips: You can use the `plot.kde()` or `plot.hist()`.*"
   ]
  },
  {
   "cell_type": "code",
   "execution_count": 5,
   "metadata": {
    "id": "YXUsd9GGyHw8"
   },
   "outputs": [
    {
     "name": "stdout",
     "output_type": "stream",
     "text": [
      "AxesSubplot(0.125,0.125;0.775x0.755)\n",
      "AxesSubplot(0.125,0.125;0.775x0.755)\n",
      "AxesSubplot(0.125,0.125;0.775x0.755)\n"
     ]
    },
    {
     "data": {
      "image/png": "[encoded data removed]",
      "text/plain": [
       "<Figure size 432x288 with 1 Axes>"
      ]
     },
     "metadata": {
      "needs_background": "light"
     },
     "output_type": "display_data"
    },
    {
     "data": {
      "image/png": "[encoded data removed]",
      "text/plain": [
       "<Figure size 432x288 with 1 Axes>"
      ]
     },
     "metadata": {
      "needs_background": "light"
     },
     "output_type": "display_data"
    },
    {
     "data": {
      "image/png": "[encoded data removed]",
      "text/plain": [
       "<Figure size 432x288 with 1 Axes>"
      ]
     },
     "metadata": {
      "needs_background": "light"
     },
     "output_type": "display_data"
    }
   ],
   "source": [
    "print(X_train.plot.hist())\n",
    "print(X_val.plot.hist())\n",
    "print(X_test.plot.hist())"
   ]
  },
  {
   "cell_type": "markdown",
   "metadata": {
    "id": "_BzoYdHQuW7Z"
   },
   "source": [
    "The stratify parameter of the `train_test_split` function is typically used when you have a categorical target variable and you want to ensure that the same proportion of each category is represented in both the training and test sets. However, if you have a regression target variable, the stratify parameter is not directly applicable.\n",
    "\n",
    "In order to use the stratify parameter, it is possible to bin the numerical target variable into a categorical variable.\n",
    "\n",
    "**<font color='blue'>3.a. Transform the numerical target into a categorical target using a binning method.**\n",
    "\n",
    "*Tips: You can use `pd.cut()` or `pd.qcut()`*"
   ]
  },
  {
   "cell_type": "code",
   "execution_count": 7,
   "metadata": {
    "id": "yh3n-BAeyISK",
    "scrolled": true
   },
   "outputs": [
    {
     "data": {
      "text/html": [
       "<div>\n",
       "<style scoped>\n",
       "    .dataframe tbody tr th:only-of-type {\n",
       "        vertical-align: middle;\n",
       "    }\n",
       "\n",
       "    .dataframe tbody tr th {\n",
       "        vertical-align: top;\n",
       "    }\n",
       "\n",
       "    .dataframe thead th {\n",
       "        text-align: right;\n",
       "    }\n",
       "</style>\n",
       "<table border=\"1\" class=\"dataframe\">\n",
       "  <thead>\n",
       "    <tr style=\"text-align: right;\">\n",
       "      <th></th>\n",
       "      <th>cat_1</th>\n",
       "      <th>cat_2</th>\n",
       "      <th>cat_3</th>\n",
       "      <th>cat_4</th>\n",
       "      <th>day</th>\n",
       "      <th>month</th>\n",
       "      <th>target</th>\n",
       "    </tr>\n",
       "  </thead>\n",
       "  <tbody>\n",
       "    <tr>\n",
       "      <th>0</th>\n",
       "      <td>0.0</td>\n",
       "      <td>Red</td>\n",
       "      <td>Trapezoid</td>\n",
       "      <td>Big</td>\n",
       "      <td>6.0</td>\n",
       "      <td>3.0</td>\n",
       "      <td>(-0.62, 0.17]</td>\n",
       "    </tr>\n",
       "    <tr>\n",
       "      <th>1</th>\n",
       "      <td>1.0</td>\n",
       "      <td>Red</td>\n",
       "      <td>Star</td>\n",
       "      <td>Big</td>\n",
       "      <td>7.0</td>\n",
       "      <td>7.0</td>\n",
       "      <td>(-9.799999999999999, -1.76]</td>\n",
       "    </tr>\n",
       "    <tr>\n",
       "      <th>2</th>\n",
       "      <td>0.0</td>\n",
       "      <td>Red</td>\n",
       "      <td>NaN</td>\n",
       "      <td>Big</td>\n",
       "      <td>5.0</td>\n",
       "      <td>9.0</td>\n",
       "      <td>(3.27, 4.29]</td>\n",
       "    </tr>\n",
       "    <tr>\n",
       "      <th>3</th>\n",
       "      <td>NaN</td>\n",
       "      <td>Red</td>\n",
       "      <td>Circle</td>\n",
       "      <td>Small</td>\n",
       "      <td>3.0</td>\n",
       "      <td>3.0</td>\n",
       "      <td>(3.27, 4.29]</td>\n",
       "    </tr>\n",
       "    <tr>\n",
       "      <th>4</th>\n",
       "      <td>0.0</td>\n",
       "      <td>Red</td>\n",
       "      <td>Triangle</td>\n",
       "      <td>Big</td>\n",
       "      <td>5.0</td>\n",
       "      <td>12.0</td>\n",
       "      <td>(-9.799999999999999, -1.76]</td>\n",
       "    </tr>\n",
       "    <tr>\n",
       "      <th>...</th>\n",
       "      <td>...</td>\n",
       "      <td>...</td>\n",
       "      <td>...</td>\n",
       "      <td>...</td>\n",
       "      <td>...</td>\n",
       "      <td>...</td>\n",
       "      <td>...</td>\n",
       "    </tr>\n",
       "    <tr>\n",
       "      <th>49995</th>\n",
       "      <td>0.0</td>\n",
       "      <td>Red</td>\n",
       "      <td>Polygon</td>\n",
       "      <td>Average</td>\n",
       "      <td>7.0</td>\n",
       "      <td>12.0</td>\n",
       "      <td>(-0.62, 0.17]</td>\n",
       "    </tr>\n",
       "    <tr>\n",
       "      <th>49996</th>\n",
       "      <td>0.0</td>\n",
       "      <td>Red</td>\n",
       "      <td>Circle</td>\n",
       "      <td>Small</td>\n",
       "      <td>7.0</td>\n",
       "      <td>11.0</td>\n",
       "      <td>(0.88, 1.62]</td>\n",
       "    </tr>\n",
       "    <tr>\n",
       "      <th>49997</th>\n",
       "      <td>1.0</td>\n",
       "      <td>Red</td>\n",
       "      <td>Circle</td>\n",
       "      <td>Average</td>\n",
       "      <td>6.0</td>\n",
       "      <td>3.0</td>\n",
       "      <td>(0.88, 1.62]</td>\n",
       "    </tr>\n",
       "    <tr>\n",
       "      <th>49998</th>\n",
       "      <td>NaN</td>\n",
       "      <td>Green</td>\n",
       "      <td>Triangle</td>\n",
       "      <td>Big</td>\n",
       "      <td>1.0</td>\n",
       "      <td>1.0</td>\n",
       "      <td>(0.17, 0.88]</td>\n",
       "    </tr>\n",
       "    <tr>\n",
       "      <th>49999</th>\n",
       "      <td>0.0</td>\n",
       "      <td>Red</td>\n",
       "      <td>Triangle</td>\n",
       "      <td>Big</td>\n",
       "      <td>NaN</td>\n",
       "      <td>12.0</td>\n",
       "      <td>(0.88, 1.62]</td>\n",
       "    </tr>\n",
       "  </tbody>\n",
       "</table>\n",
       "<p>50000 rows × 7 columns</p>\n",
       "</div>"
      ],
      "text/plain": [
       "       cat_1  cat_2      cat_3    cat_4  day  month  \\\n",
       "0        0.0    Red  Trapezoid      Big  6.0    3.0   \n",
       "1        1.0    Red       Star      Big  7.0    7.0   \n",
       "2        0.0    Red        NaN      Big  5.0    9.0   \n",
       "3        NaN    Red     Circle    Small  3.0    3.0   \n",
       "4        0.0    Red   Triangle      Big  5.0   12.0   \n",
       "...      ...    ...        ...      ...  ...    ...   \n",
       "49995    0.0    Red    Polygon  Average  7.0   12.0   \n",
       "49996    0.0    Red     Circle    Small  7.0   11.0   \n",
       "49997    1.0    Red     Circle  Average  6.0    3.0   \n",
       "49998    NaN  Green   Triangle      Big  1.0    1.0   \n",
       "49999    0.0    Red   Triangle      Big  NaN   12.0   \n",
       "\n",
       "                            target  \n",
       "0                    (-0.62, 0.17]  \n",
       "1      (-9.799999999999999, -1.76]  \n",
       "2                     (3.27, 4.29]  \n",
       "3                     (3.27, 4.29]  \n",
       "4      (-9.799999999999999, -1.76]  \n",
       "...                            ...  \n",
       "49995                (-0.62, 0.17]  \n",
       "49996                 (0.88, 1.62]  \n",
       "49997                 (0.88, 1.62]  \n",
       "49998                 (0.17, 0.88]  \n",
       "49999                 (0.88, 1.62]  \n",
       "\n",
       "[50000 rows x 7 columns]"
      ]
     },
     "execution_count": 7,
     "metadata": {},
     "output_type": "execute_result"
    }
   ],
   "source": [
    "df_raw['target'] = pd.qcut(df_raw['target'], 10, precision=2)\n",
    "df_raw"
   ]
  },
  {
   "cell_type": "markdown",
   "metadata": {
    "id": "KNAy--NWbY7C"
   },
   "source": [
    "**<font color='blue'>3.b. Set the `stratify` parameter of the `train_test_split` function to the binned target column and re-create the training, validation and testing sets.**"
   ]
  },
  {
   "cell_type": "code",
   "execution_count": 8,
   "metadata": {
    "id": "0V2YapQKyIrK",
    "scrolled": true
   },
   "outputs": [
    {
     "name": "stdout",
     "output_type": "stream",
     "text": [
      "(40000, 7)\n",
      "(10000, 7)\n",
      "(5000, 7)\n",
      "(5000, 7)\n"
     ]
    }
   ],
   "source": [
    "\n",
    "X_train, X_test, y_train, y_test = train_test_split(df_raw, df_raw, train_size=0.8, stratify=df_raw['target'])\n",
    "print(X_train.shape)\n",
    "print(X_test.shape)\n",
    "X_val, X_test, y_val, y_test = train_test_split(X_test, y_test, train_size = 0.5, stratify=X_test['target'])\n",
    "print(X_test.shape)\n",
    "print(X_val.shape)"
   ]
  },
  {
   "cell_type": "code",
   "execution_count": 9,
   "metadata": {},
   "outputs": [
    {
     "data": {
      "text/plain": [
       "(-9.799999999999999, -1.76]    500\n",
       "(-1.76, -0.62]                 500\n",
       "(-0.62, 0.17]                  500\n",
       "(0.17, 0.88]                   500\n",
       "(0.88, 1.62]                   500\n",
       "(1.62, 2.42]                   500\n",
       "(2.42, 3.27]                   500\n",
       "(3.27, 4.29]                   500\n",
       "(4.29, 5.66]                   500\n",
       "(5.66, 15.31]                  500\n",
       "Name: target, dtype: int64"
      ]
     },
     "execution_count": 9,
     "metadata": {},
     "output_type": "execute_result"
    }
   ],
   "source": [
    "X_test['target'].value_counts()"
   ]
  },
  {
   "cell_type": "markdown",
   "metadata": {
    "id": "KkL-9rJJupmD"
   },
   "source": [
    "**<font color='blue'>4. Display the distribution of the training, the validation and the testing set.<br> Are they identical  ?**"
   ]
  },
  {
   "cell_type": "code",
   "execution_count": 10,
   "metadata": {
    "id": "FPvpxSMTyJJ5",
    "scrolled": true
   },
   "outputs": [
    {
     "name": "stdout",
     "output_type": "stream",
     "text": [
      "AxesSubplot(0.125,0.125;0.775x0.755)\n",
      "AxesSubplot(0.125,0.125;0.775x0.755)\n",
      "AxesSubplot(0.125,0.125;0.775x0.755)\n"
     ]
    },
    {
     "data": {
      "image/png": "[encoded data removed]",
      "text/plain": [
       "<Figure size 432x288 with 1 Axes>"
      ]
     },
     "metadata": {
      "needs_background": "light"
     },
     "output_type": "display_data"
    },
    {
     "data": {
      "image/png": "[encoded data removed]",
      "text/plain": [
       "<Figure size 432x288 with 1 Axes>"
      ]
     },
     "metadata": {
      "needs_background": "light"
     },
     "output_type": "display_data"
    },
    {
     "data": {
      "image/png": "[encoded data removed]",
      "text/plain": [
       "<Figure size 432x288 with 1 Axes>"
      ]
     },
     "metadata": {
      "needs_background": "light"
     },
     "output_type": "display_data"
    }
   ],
   "source": [
    "print(X_train.plot.hist())\n",
    "print(X_val.plot.hist())\n",
    "print(X_test.plot.hist())"
   ]
  },
  {
   "cell_type": "markdown",
   "metadata": {
    "id": "vWGQi5Hy2PNN"
   },
   "source": [
    "**<font color='blue'>5. Separate the features from the target for the training, the validation and the testing sets.**"
   ]
  },
  {
   "cell_type": "code",
   "execution_count": 11,
   "metadata": {
    "id": "tbpZOdSdyJmv"
   },
   "outputs": [],
   "source": [
    "X_train = X_train.iloc[:, :-1]\n",
    "y_train = y_train.iloc[:, -1]\n",
    "X_val = X_val.iloc[:, :-1]\n",
    "y_val = y_val.iloc[:, -1]\n",
    "X_test = X_test.iloc[:, :-1]\n",
    "y_test = y_test.iloc[:, -1]\n"
   ]
  },
  {
   "cell_type": "markdown",
   "metadata": {
    "id": "Z8LZkvoGwMIe"
   },
   "source": [
    "## Missing data"
   ]
  },
  {
   "cell_type": "markdown",
   "metadata": {
    "id": "s0M22X7JwSaE"
   },
   "source": [
    "The missing values can be found in a dataframe using the `.isna()` method.\n",
    "\n",
    "**<font color='blue'>1. Count the number of NaN in the feature of the training cat in the dat dataframe.**\n",
    "\n",
    "*Tips: You can use the `.isna()` method and the `.sum()` method.*"
   ]
  },
  {
   "cell_type": "code",
   "execution_count": 12,
   "metadata": {
    "id": "GYVWxkbVyKa_"
   },
   "outputs": [
    {
     "data": {
      "text/plain": [
       "cat_1    1219\n",
       "cat_2    1269\n",
       "cat_3    1228\n",
       "cat_4    1234\n",
       "day      1245\n",
       "month    1175\n",
       "dtype: int64"
      ]
     },
     "execution_count": 12,
     "metadata": {},
     "output_type": "execute_result"
    }
   ],
   "source": [
    "X_train.isna().sum()"
   ]
  },
  {
   "cell_type": "markdown",
   "metadata": {
    "id": "3HPcRreHyDa_"
   },
   "source": [
    "**<font color='blue'>2. Drop the missing values of the training set.<br>How many rows were removed ?**"
   ]
  },
  {
   "cell_type": "code",
   "execution_count": 13,
   "metadata": {
    "id": "jBuGcOQWyKze"
   },
   "outputs": [
    {
     "name": "stdout",
     "output_type": "stream",
     "text": [
      "(40000, 6)\n",
      "(33178, 6)\n",
      "6822 of rows were removed\n"
     ]
    }
   ],
   "source": [
    "print(X_train.shape)\n",
    "X_train_dropped = X_train.dropna(how='any', axis=0)\n",
    "print(X_train_dropped.shape)\n",
    "print(\"{0} of rows were removed\".format(X_train.shape[0] - X_train_dropped.shape[0]))"
   ]
  },
  {
   "cell_type": "markdown",
   "metadata": {
    "id": "42Rga0BhxGQn"
   },
   "source": [
    "**<font color='blue'>3.a. Replace the missing values of the training set by their mode using the `SimpleImputer` from sklearn.<br>3.b. Get the mode values for each columns using the `statistics_` attribute.**"
   ]
  },
  {
   "cell_type": "code",
   "execution_count": 14,
   "metadata": {
    "id": "wcxEEmkGyLpt"
   },
   "outputs": [],
   "source": [
    "imp_SI = SimpleImputer(strategy='most_frequent')\n",
    "X_train_no_Nan = pd.DataFrame(imp_SI.fit_transform(X_train), columns=X_train.columns)"
   ]
  },
  {
   "cell_type": "code",
   "execution_count": 15,
   "metadata": {},
   "outputs": [
    {
     "name": "stdout",
     "output_type": "stream",
     "text": [
      "<class 'pandas.core.frame.DataFrame'>\n",
      "RangeIndex: 40000 entries, 0 to 39999\n",
      "Data columns (total 6 columns):\n",
      " #   Column  Non-Null Count  Dtype \n",
      "---  ------  --------------  ----- \n",
      " 0   cat_1   40000 non-null  object\n",
      " 1   cat_2   40000 non-null  object\n",
      " 2   cat_3   40000 non-null  object\n",
      " 3   cat_4   40000 non-null  object\n",
      " 4   day     40000 non-null  object\n",
      " 5   month   40000 non-null  object\n",
      "dtypes: object(6)\n",
      "memory usage: 1.8+ MB\n",
      "None\n",
      "The mode values are: [0.0 'Red' 'Triangle' 'Small' 3.0 8.0]\n"
     ]
    }
   ],
   "source": [
    "print(X_train_no_Nan.info())\n",
    "print('The mode values are: {0}'.format(imp_SI.statistics_))"
   ]
  },
  {
   "cell_type": "markdown",
   "metadata": {
    "id": "MEUqSO2IyEAa"
   },
   "source": [
    "**<font color='blue'>4. Apply the missing values imputation to the validation and the testing sets.**\n",
    "\n",
    "*Tips: You must reuse the computations made on the training set (e.g. the median should not be calculated on the validation and the testing sets)*"
   ]
  },
  {
   "cell_type": "code",
   "execution_count": 16,
   "metadata": {
    "id": "JgPmttI-yMU8"
   },
   "outputs": [],
   "source": [
    "#Apply on validation dataset\n",
    "X_val_no_Nan = pd.DataFrame(imp_SI.fit_transform(X_val), columns=X_val.columns)\n",
    "#Apply on test dataset\n",
    "X_test_no_Nan = pd.DataFrame(imp_SI.fit_transform(X_test), columns=X_test.columns)"
   ]
  },
  {
   "cell_type": "code",
   "execution_count": 17,
   "metadata": {},
   "outputs": [
    {
     "name": "stdout",
     "output_type": "stream",
     "text": [
      "<class 'pandas.core.frame.DataFrame'>\n",
      "RangeIndex: 5000 entries, 0 to 4999\n",
      "Data columns (total 6 columns):\n",
      " #   Column  Non-Null Count  Dtype \n",
      "---  ------  --------------  ----- \n",
      " 0   cat_1   5000 non-null   object\n",
      " 1   cat_2   5000 non-null   object\n",
      " 2   cat_3   5000 non-null   object\n",
      " 3   cat_4   5000 non-null   object\n",
      " 4   day     5000 non-null   object\n",
      " 5   month   5000 non-null   object\n",
      "dtypes: object(6)\n",
      "memory usage: 234.5+ KB\n",
      "None\n",
      "<class 'pandas.core.frame.DataFrame'>\n",
      "RangeIndex: 5000 entries, 0 to 4999\n",
      "Data columns (total 6 columns):\n",
      " #   Column  Non-Null Count  Dtype \n",
      "---  ------  --------------  ----- \n",
      " 0   cat_1   5000 non-null   object\n",
      " 1   cat_2   5000 non-null   object\n",
      " 2   cat_3   5000 non-null   object\n",
      " 3   cat_4   5000 non-null   object\n",
      " 4   day     5000 non-null   object\n",
      " 5   month   5000 non-null   object\n",
      "dtypes: object(6)\n",
      "memory usage: 234.5+ KB\n",
      "None\n"
     ]
    }
   ],
   "source": [
    "print(X_val_no_Nan.info())\n",
    "print(X_test_no_Nan.info())"
   ]
  },
  {
   "cell_type": "markdown",
   "metadata": {
    "id": "iHsYH_u23X5C"
   },
   "source": [
    "## Outliers"
   ]
  },
  {
   "cell_type": "markdown",
   "metadata": {
    "id": "hKB3MOxj30D5"
   },
   "source": [
    "In the following exercise, we will use the imputed feature training set.\n",
    "\n",
    "**<font color='blue'>1. Which categorical feature contain outliers ?**\n",
    "\n",
    "*Tips: Categorical outliers can be seen as \"rare\" category.*"
   ]
  },
  {
   "cell_type": "code",
   "execution_count": 18,
   "metadata": {
    "id": "zjNjs8mxyNLq"
   },
   "outputs": [
    {
     "name": "stdout",
     "output_type": "stream",
     "text": [
      "Cat_1:\n",
      "0.0    36416\n",
      "1.0     3584\n",
      "Name: cat_1, dtype: int64\n",
      "Cat_2:\n",
      "Red      22839\n",
      "Blue     13670\n",
      "Green     3491\n",
      "Name: cat_2, dtype: int64:\n",
      "Cat_3:\n",
      "Triangle     12073\n",
      "Polygon      10150\n",
      "Trapezoid     7983\n",
      "Circle        6928\n",
      "Square        1756\n",
      "Star           934\n",
      "Heart          134\n",
      "Diamond         42\n",
      "Name: cat_3, dtype: int64\n",
      "Cat_4:\n",
      "Small      16362\n",
      "Big        13165\n",
      "Average    10473\n",
      "Name: cat_4, dtype: int64\n",
      "day:\n",
      "3.0    8908\n",
      "5.0    7335\n",
      "6.0    6406\n",
      "7.0    5714\n",
      "1.0    5684\n",
      "2.0    4398\n",
      "4.0    1555\n",
      "Name: day, dtype: int64\n",
      "month:\n",
      "8.0     6404\n",
      "3.0     4745\n",
      "5.0     4619\n",
      "12.0    4553\n",
      "6.0     3982\n",
      "7.0     3637\n",
      "1.0     3437\n",
      "11.0    3343\n",
      "2.0     2846\n",
      "9.0     1348\n",
      "4.0      919\n",
      "10.0     167\n",
      "Name: month, dtype: int64\n"
     ]
    },
    {
     "data": {
      "text/plain": [
       "'We can see that in feature:\\nCat_3: Star, Heart and Diamond are \"rare\" catogories;\\nMonth: April and October are \"rare\" catogories.\\n'"
      ]
     },
     "execution_count": 18,
     "metadata": {},
     "output_type": "execute_result"
    }
   ],
   "source": [
    "#Count values to identify which categories are \"rare\".\n",
    "print(\"Cat_1:\\n{0}\\nCat_2:\\n{1}:\\nCat_3:\\n{2}\\nCat_4:\\n{3}\\nday:\\n{4}\\nmonth:\\n{5}\"\n",
    "      .format(X_train_no_Nan['cat_1'].value_counts(), X_train_no_Nan['cat_2'].value_counts(), \n",
    "              X_train_no_Nan['cat_3'].value_counts(), X_train_no_Nan['cat_4'].value_counts(), \n",
    "              X_train_no_Nan['day'].value_counts(), X_train_no_Nan['month'].value_counts()))\n",
    "\n",
    "'''We can see that in feature:\n",
    "Cat_3: Star, Heart and Diamond are \"rare\" catogories;\n",
    "Month: April and October are \"rare\" catogories.\n",
    "'''"
   ]
  },
  {
   "cell_type": "markdown",
   "metadata": {
    "id": "WqrJH1ymgZcs"
   },
   "source": [
    "**<font color='blue'>2. Merge the outliers into one \"rare\" category.**"
   ]
  },
  {
   "cell_type": "code",
   "execution_count": 19,
   "metadata": {
    "id": "jdUzzIgEyNnC"
   },
   "outputs": [
    {
     "data": {
      "text/plain": [
       "Triangle     12073\n",
       "Polygon      10150\n",
       "Trapezoid     7983\n",
       "Circle        6928\n",
       "Square        1756\n",
       "Rare          1110\n",
       "Name: cat_3, dtype: int64"
      ]
     },
     "execution_count": 19,
     "metadata": {},
     "output_type": "execute_result"
    }
   ],
   "source": [
    "#Treat column \"cat_3\":\n",
    "def cat_3_categorize(x):\n",
    "    if x in ['Star','Diamond','Heart']:\n",
    "        a='Rare'\n",
    "    else:\n",
    "        a=x\n",
    "    return a\n",
    "\n",
    "X_train_no_Nan['cat_3'] = X_train_no_Nan['cat_3'].apply(lambda x: cat_3_categorize(x))\n",
    "X_train_no_Nan['cat_3'].value_counts()\n",
    "#Treat column \"day\":\n",
    "# def day_categorize(x):\n",
    "#     if (x == 4.0) or (x == 10.0):\n",
    "#         a='Rare'\n",
    "#     else:\n",
    "#         a=x\n",
    "#     return a\n",
    "# X_train_no_Nan['day'] = X_train_no_Nan['day'].apply(lambda x: day_categorize(x))\n",
    "# X_train_no_Nan['day'].value_counts()"
   ]
  },
  {
   "cell_type": "markdown",
   "metadata": {
    "id": "gAfr6HsZhR-T"
   },
   "source": [
    "**<font color='blue'>3. Apply the outlier transformation to the validation and the testing sets.**"
   ]
  },
  {
   "cell_type": "code",
   "execution_count": 20,
   "metadata": {
    "id": "9nVM7779yN99"
   },
   "outputs": [
    {
     "name": "stdout",
     "output_type": "stream",
     "text": [
      "Cat_1:\n",
      "0.0    4543\n",
      "1.0     457\n",
      "Name: cat_1, dtype: int64\n",
      "Cat_2:\n",
      "Red      2858\n",
      "Blue     1723\n",
      "Green     419\n",
      "Name: cat_2, dtype: int64:\n",
      "Cat_3:\n",
      "Triangle     1554\n",
      "Polygon      1199\n",
      "Trapezoid     961\n",
      "Circle        895\n",
      "Square        249\n",
      "Star          117\n",
      "Heart          21\n",
      "Diamond         4\n",
      "Name: cat_3, dtype: int64\n",
      "Cat_4:\n",
      "Small      2011\n",
      "Big        1697\n",
      "Average    1292\n",
      "Name: cat_4, dtype: int64\n",
      "day:\n",
      "3.0    1096\n",
      "5.0     926\n",
      "6.0     848\n",
      "7.0     707\n",
      "1.0     692\n",
      "2.0     538\n",
      "4.0     193\n",
      "Name: day, dtype: int64\n",
      "month:\n",
      "8.0     798\n",
      "12.0    612\n",
      "3.0     600\n",
      "5.0     549\n",
      "6.0     502\n",
      "7.0     464\n",
      "11.0    420\n",
      "1.0     407\n",
      "2.0     335\n",
      "9.0     180\n",
      "4.0     117\n",
      "10.0     16\n",
      "Name: month, dtype: int64\n"
     ]
    },
    {
     "data": {
      "text/plain": [
       "Triangle     1554\n",
       "Polygon      1199\n",
       "Trapezoid     961\n",
       "Circle        895\n",
       "Square        249\n",
       "Rare          142\n",
       "Name: cat_3, dtype: int64"
      ]
     },
     "execution_count": 20,
     "metadata": {},
     "output_type": "execute_result"
    }
   ],
   "source": [
    "#For validation sets:\n",
    "print(\"Cat_1:\\n{0}\\nCat_2:\\n{1}:\\nCat_3:\\n{2}\\nCat_4:\\n{3}\\nday:\\n{4}\\nmonth:\\n{5}\"\n",
    "      .format(X_val_no_Nan['cat_1'].value_counts(), X_val_no_Nan['cat_2'].value_counts(), \n",
    "              X_val_no_Nan['cat_3'].value_counts(), X_val_no_Nan['cat_4'].value_counts(), \n",
    "              X_val_no_Nan['day'].value_counts(), X_val_no_Nan['month'].value_counts()))\n",
    "\n",
    "#Apply transformation:\n",
    "#Treat column \"cat_3\":\n",
    "def cat_3_categorize(x):\n",
    "    if x in ['Star','Diamond','Heart']:\n",
    "        a='Rare'\n",
    "    else:\n",
    "        a=x\n",
    "    return a\n",
    "\n",
    "X_val_no_Nan['cat_3'] = X_val_no_Nan['cat_3'].apply(lambda x: cat_3_categorize(x))\n",
    "X_val_no_Nan['cat_3'].value_counts()\n",
    "#Treat column \"day\":\n",
    "# def day_categorize(x):\n",
    "#     if (x == 4.0) or (x == 10.0):\n",
    "#         a='Rare'\n",
    "#     else:\n",
    "#         a=x\n",
    "#     return a\n",
    "# X_train_no_Nan['day'] = X_train_no_Nan['day'].apply(lambda x: day_categorize(x))\n",
    "# X_train_no_Nan['day'].value_counts()"
   ]
  },
  {
   "cell_type": "code",
   "execution_count": 21,
   "metadata": {},
   "outputs": [
    {
     "name": "stdout",
     "output_type": "stream",
     "text": [
      "Cat_1:\n",
      "0.0    4536\n",
      "1.0     464\n",
      "Name: cat_1, dtype: int64\n",
      "Cat_2:\n",
      "Red      2841\n",
      "Blue     1736\n",
      "Green     423\n",
      "Name: cat_2, dtype: int64:\n",
      "Cat_3:\n",
      "Triangle     1520\n",
      "Polygon      1319\n",
      "Trapezoid    1024\n",
      "Circle        820\n",
      "Square        181\n",
      "Star          119\n",
      "Heart          13\n",
      "Diamond         4\n",
      "Name: cat_3, dtype: int64\n",
      "Cat_4:\n",
      "Small      2067\n",
      "Big        1626\n",
      "Average    1307\n",
      "Name: cat_4, dtype: int64\n",
      "day:\n",
      "3.0    1101\n",
      "5.0     941\n",
      "6.0     789\n",
      "1.0     718\n",
      "7.0     686\n",
      "2.0     560\n",
      "4.0     205\n",
      "Name: day, dtype: int64\n",
      "month:\n",
      "8.0     802\n",
      "3.0     594\n",
      "12.0    576\n",
      "5.0     563\n",
      "6.0     509\n",
      "11.0    448\n",
      "7.0     446\n",
      "1.0     395\n",
      "2.0     325\n",
      "9.0     200\n",
      "4.0     119\n",
      "10.0     23\n",
      "Name: month, dtype: int64\n"
     ]
    },
    {
     "data": {
      "text/plain": [
       "Triangle     1520\n",
       "Polygon      1319\n",
       "Trapezoid    1024\n",
       "Circle        820\n",
       "Square        181\n",
       "Rare          136\n",
       "Name: cat_3, dtype: int64"
      ]
     },
     "execution_count": 21,
     "metadata": {},
     "output_type": "execute_result"
    }
   ],
   "source": [
    "#For test sets:\n",
    "print(\"Cat_1:\\n{0}\\nCat_2:\\n{1}:\\nCat_3:\\n{2}\\nCat_4:\\n{3}\\nday:\\n{4}\\nmonth:\\n{5}\"\n",
    "      .format(X_test_no_Nan['cat_1'].value_counts(), X_test_no_Nan['cat_2'].value_counts(), \n",
    "              X_test_no_Nan['cat_3'].value_counts(), X_test_no_Nan['cat_4'].value_counts(), \n",
    "              X_test_no_Nan['day'].value_counts(), X_test_no_Nan['month'].value_counts()))\n",
    "\n",
    "#Apply transformation\n",
    "X_test_no_Nan['cat_3'] = X_test_no_Nan['cat_3'].apply(lambda x: cat_3_categorize(x))\n",
    "X_test_no_Nan['cat_3'].value_counts()"
   ]
  },
  {
   "cell_type": "markdown",
   "metadata": {
    "id": "rvuYgZJzvdcI"
   },
   "source": [
    "# Transformation"
   ]
  },
  {
   "cell_type": "markdown",
   "metadata": {
    "id": "PyD9XTY3x2am"
   },
   "source": [
    "**In the following exercise, we will use the cleaned cat in the dat training dataset <br>*i.e. the dataset without any missing values and outliers obtained at the previous exercise.***"
   ]
  },
  {
   "cell_type": "markdown",
   "metadata": {
    "id": "lEXDkwy4xkCS"
   },
   "source": [
    "## Ordinal Encoding"
   ]
  },
  {
   "cell_type": "markdown",
   "metadata": {
    "id": "QI8dd5uEz4Ej"
   },
   "source": [
    "Ordinal encoding is a technique for encoding categorical features as numerical values in a way that preserves the order or ranking of the categories.\n",
    "\n",
    "The scikit-learn library provides a convenient OrdinalEncoder class for performing ordinal encoding on categorical features. The OrdinalEncoder class takes a list of categorical features as input and returns a numerical array with the same shape as the input, where each categorical value is replaced with a numerical value based on its order or ranking.\n",
    "\n",
    "Here are some of the most useful parameters:\n",
    "\n",
    "* **`categories`**: This parameter can be used to explicitly specify the categories for each feature. It should be a list of lists, where each inner list contains the categories for the corresponding feature. If this parameter is not provided, the encoder will automatically infer the categories from the input data.\n",
    "\n",
    "* **`handle_unknown`**: This parameter specifies how to handle unknown categories that are encountered during the transformation. It can be set to error to raise an error or use_encoded_value to assign the value -1 to unknown categories.\n",
    "\n",
    "* **`unknown_value`**: This parameter specifies the value to assign to unknown categories if handle_unknown is set to value. By default, it is set to None, which means that the encoder will raise an error if it encounters unknown categories.\n",
    "\n",
    "Ordinal Encoder can be used as follows:\n",
    "\n",
    "```\n",
    "encoder = OrdinalEncoder(...)\n",
    "encoder.fit(X_train)\n",
    "X_train_enc = encoder.transform(X_train)\n",
    "```\n",
    "\n",
    "**<font color='blue'>1. Apply the Ordinal Encoding to the ordinal feature(s) of the dataset.**\n",
    "\n",
    "*Tips: Specify the feature categories in the correct order in the categories parameter*"
   ]
  },
  {
   "cell_type": "code",
   "execution_count": 22,
   "metadata": {},
   "outputs": [
    {
     "data": {
      "text/html": [
       "<div>\n",
       "<style scoped>\n",
       "    .dataframe tbody tr th:only-of-type {\n",
       "        vertical-align: middle;\n",
       "    }\n",
       "\n",
       "    .dataframe tbody tr th {\n",
       "        vertical-align: top;\n",
       "    }\n",
       "\n",
       "    .dataframe thead th {\n",
       "        text-align: right;\n",
       "    }\n",
       "</style>\n",
       "<table border=\"1\" class=\"dataframe\">\n",
       "  <thead>\n",
       "    <tr style=\"text-align: right;\">\n",
       "      <th></th>\n",
       "      <th>cat_1</th>\n",
       "      <th>cat_2</th>\n",
       "      <th>cat_3</th>\n",
       "      <th>cat_4</th>\n",
       "      <th>day</th>\n",
       "      <th>month</th>\n",
       "    </tr>\n",
       "  </thead>\n",
       "  <tbody>\n",
       "    <tr>\n",
       "      <th>0</th>\n",
       "      <td>0.0</td>\n",
       "      <td>Green</td>\n",
       "      <td>Circle</td>\n",
       "      <td>Big</td>\n",
       "      <td>1.0</td>\n",
       "      <td>10.0</td>\n",
       "    </tr>\n",
       "    <tr>\n",
       "      <th>1</th>\n",
       "      <td>0.0</td>\n",
       "      <td>Blue</td>\n",
       "      <td>Polygon</td>\n",
       "      <td>Average</td>\n",
       "      <td>2.0</td>\n",
       "      <td>6.0</td>\n",
       "    </tr>\n",
       "    <tr>\n",
       "      <th>2</th>\n",
       "      <td>0.0</td>\n",
       "      <td>Blue</td>\n",
       "      <td>Circle</td>\n",
       "      <td>Small</td>\n",
       "      <td>1.0</td>\n",
       "      <td>8.0</td>\n",
       "    </tr>\n",
       "    <tr>\n",
       "      <th>3</th>\n",
       "      <td>0.0</td>\n",
       "      <td>Green</td>\n",
       "      <td>Triangle</td>\n",
       "      <td>Average</td>\n",
       "      <td>5.0</td>\n",
       "      <td>12.0</td>\n",
       "    </tr>\n",
       "    <tr>\n",
       "      <th>4</th>\n",
       "      <td>0.0</td>\n",
       "      <td>Red</td>\n",
       "      <td>Square</td>\n",
       "      <td>Average</td>\n",
       "      <td>1.0</td>\n",
       "      <td>4.0</td>\n",
       "    </tr>\n",
       "    <tr>\n",
       "      <th>...</th>\n",
       "      <td>...</td>\n",
       "      <td>...</td>\n",
       "      <td>...</td>\n",
       "      <td>...</td>\n",
       "      <td>...</td>\n",
       "      <td>...</td>\n",
       "    </tr>\n",
       "    <tr>\n",
       "      <th>39995</th>\n",
       "      <td>0.0</td>\n",
       "      <td>Red</td>\n",
       "      <td>Triangle</td>\n",
       "      <td>Big</td>\n",
       "      <td>1.0</td>\n",
       "      <td>8.0</td>\n",
       "    </tr>\n",
       "    <tr>\n",
       "      <th>39996</th>\n",
       "      <td>0.0</td>\n",
       "      <td>Red</td>\n",
       "      <td>Circle</td>\n",
       "      <td>Small</td>\n",
       "      <td>3.0</td>\n",
       "      <td>8.0</td>\n",
       "    </tr>\n",
       "    <tr>\n",
       "      <th>39997</th>\n",
       "      <td>0.0</td>\n",
       "      <td>Red</td>\n",
       "      <td>Triangle</td>\n",
       "      <td>Average</td>\n",
       "      <td>3.0</td>\n",
       "      <td>3.0</td>\n",
       "    </tr>\n",
       "    <tr>\n",
       "      <th>39998</th>\n",
       "      <td>0.0</td>\n",
       "      <td>Red</td>\n",
       "      <td>Trapezoid</td>\n",
       "      <td>Small</td>\n",
       "      <td>3.0</td>\n",
       "      <td>8.0</td>\n",
       "    </tr>\n",
       "    <tr>\n",
       "      <th>39999</th>\n",
       "      <td>0.0</td>\n",
       "      <td>Red</td>\n",
       "      <td>Circle</td>\n",
       "      <td>Big</td>\n",
       "      <td>3.0</td>\n",
       "      <td>8.0</td>\n",
       "    </tr>\n",
       "  </tbody>\n",
       "</table>\n",
       "<p>40000 rows × 6 columns</p>\n",
       "</div>"
      ],
      "text/plain": [
       "      cat_1  cat_2      cat_3    cat_4  day month\n",
       "0       0.0  Green     Circle      Big  1.0  10.0\n",
       "1       0.0   Blue    Polygon  Average  2.0   6.0\n",
       "2       0.0   Blue     Circle    Small  1.0   8.0\n",
       "3       0.0  Green   Triangle  Average  5.0  12.0\n",
       "4       0.0    Red     Square  Average  1.0   4.0\n",
       "...     ...    ...        ...      ...  ...   ...\n",
       "39995   0.0    Red   Triangle      Big  1.0   8.0\n",
       "39996   0.0    Red     Circle    Small  3.0   8.0\n",
       "39997   0.0    Red   Triangle  Average  3.0   3.0\n",
       "39998   0.0    Red  Trapezoid    Small  3.0   8.0\n",
       "39999   0.0    Red     Circle      Big  3.0   8.0\n",
       "\n",
       "[40000 rows x 6 columns]"
      ]
     },
     "execution_count": 22,
     "metadata": {},
     "output_type": "execute_result"
    }
   ],
   "source": [
    "X_train_no_Nan"
   ]
  },
  {
   "cell_type": "code",
   "execution_count": 24,
   "metadata": {
    "id": "4vfQldd-yPX8"
   },
   "outputs": [
    {
     "data": {
      "text/html": [
       "<div>\n",
       "<style scoped>\n",
       "    .dataframe tbody tr th:only-of-type {\n",
       "        vertical-align: middle;\n",
       "    }\n",
       "\n",
       "    .dataframe tbody tr th {\n",
       "        vertical-align: top;\n",
       "    }\n",
       "\n",
       "    .dataframe thead th {\n",
       "        text-align: right;\n",
       "    }\n",
       "</style>\n",
       "<table border=\"1\" class=\"dataframe\">\n",
       "  <thead>\n",
       "    <tr style=\"text-align: right;\">\n",
       "      <th></th>\n",
       "      <th>cat_1</th>\n",
       "      <th>cat_2</th>\n",
       "      <th>cat_3</th>\n",
       "      <th>cat_4</th>\n",
       "      <th>day</th>\n",
       "      <th>month</th>\n",
       "    </tr>\n",
       "  </thead>\n",
       "  <tbody>\n",
       "    <tr>\n",
       "      <th>0</th>\n",
       "      <td>0.0</td>\n",
       "      <td>Green</td>\n",
       "      <td>Circle</td>\n",
       "      <td>2.0</td>\n",
       "      <td>1.0</td>\n",
       "      <td>10.0</td>\n",
       "    </tr>\n",
       "    <tr>\n",
       "      <th>1</th>\n",
       "      <td>0.0</td>\n",
       "      <td>Blue</td>\n",
       "      <td>Polygon</td>\n",
       "      <td>1.0</td>\n",
       "      <td>2.0</td>\n",
       "      <td>6.0</td>\n",
       "    </tr>\n",
       "    <tr>\n",
       "      <th>2</th>\n",
       "      <td>0.0</td>\n",
       "      <td>Blue</td>\n",
       "      <td>Circle</td>\n",
       "      <td>0.0</td>\n",
       "      <td>1.0</td>\n",
       "      <td>8.0</td>\n",
       "    </tr>\n",
       "    <tr>\n",
       "      <th>3</th>\n",
       "      <td>0.0</td>\n",
       "      <td>Green</td>\n",
       "      <td>Triangle</td>\n",
       "      <td>1.0</td>\n",
       "      <td>5.0</td>\n",
       "      <td>12.0</td>\n",
       "    </tr>\n",
       "    <tr>\n",
       "      <th>4</th>\n",
       "      <td>0.0</td>\n",
       "      <td>Red</td>\n",
       "      <td>Square</td>\n",
       "      <td>1.0</td>\n",
       "      <td>1.0</td>\n",
       "      <td>4.0</td>\n",
       "    </tr>\n",
       "    <tr>\n",
       "      <th>...</th>\n",
       "      <td>...</td>\n",
       "      <td>...</td>\n",
       "      <td>...</td>\n",
       "      <td>...</td>\n",
       "      <td>...</td>\n",
       "      <td>...</td>\n",
       "    </tr>\n",
       "    <tr>\n",
       "      <th>39995</th>\n",
       "      <td>0.0</td>\n",
       "      <td>Red</td>\n",
       "      <td>Triangle</td>\n",
       "      <td>2.0</td>\n",
       "      <td>1.0</td>\n",
       "      <td>8.0</td>\n",
       "    </tr>\n",
       "    <tr>\n",
       "      <th>39996</th>\n",
       "      <td>0.0</td>\n",
       "      <td>Red</td>\n",
       "      <td>Circle</td>\n",
       "      <td>0.0</td>\n",
       "      <td>3.0</td>\n",
       "      <td>8.0</td>\n",
       "    </tr>\n",
       "    <tr>\n",
       "      <th>39997</th>\n",
       "      <td>0.0</td>\n",
       "      <td>Red</td>\n",
       "      <td>Triangle</td>\n",
       "      <td>1.0</td>\n",
       "      <td>3.0</td>\n",
       "      <td>3.0</td>\n",
       "    </tr>\n",
       "    <tr>\n",
       "      <th>39998</th>\n",
       "      <td>0.0</td>\n",
       "      <td>Red</td>\n",
       "      <td>Trapezoid</td>\n",
       "      <td>0.0</td>\n",
       "      <td>3.0</td>\n",
       "      <td>8.0</td>\n",
       "    </tr>\n",
       "    <tr>\n",
       "      <th>39999</th>\n",
       "      <td>0.0</td>\n",
       "      <td>Red</td>\n",
       "      <td>Circle</td>\n",
       "      <td>2.0</td>\n",
       "      <td>3.0</td>\n",
       "      <td>8.0</td>\n",
       "    </tr>\n",
       "  </tbody>\n",
       "</table>\n",
       "<p>40000 rows × 6 columns</p>\n",
       "</div>"
      ],
      "text/plain": [
       "      cat_1  cat_2      cat_3  cat_4  day month\n",
       "0       0.0  Green     Circle    2.0  1.0  10.0\n",
       "1       0.0   Blue    Polygon    1.0  2.0   6.0\n",
       "2       0.0   Blue     Circle    0.0  1.0   8.0\n",
       "3       0.0  Green   Triangle    1.0  5.0  12.0\n",
       "4       0.0    Red     Square    1.0  1.0   4.0\n",
       "...     ...    ...        ...    ...  ...   ...\n",
       "39995   0.0    Red   Triangle    2.0  1.0   8.0\n",
       "39996   0.0    Red     Circle    0.0  3.0   8.0\n",
       "39997   0.0    Red   Triangle    1.0  3.0   3.0\n",
       "39998   0.0    Red  Trapezoid    0.0  3.0   8.0\n",
       "39999   0.0    Red     Circle    2.0  3.0   8.0\n",
       "\n",
       "[40000 rows x 6 columns]"
      ]
     },
     "execution_count": 24,
     "metadata": {},
     "output_type": "execute_result"
    }
   ],
   "source": [
    "#Small < Average < Big\n",
    "X_train_OrEncoding = X_train_no_Nan.copy()\n",
    "OEncoder = OrdinalEncoder(categories=[['Small', 'Average', 'Big']], handle_unknown=\"error\")\n",
    "OEncoder.fit(X_train_no_Nan[['cat_4']])\n",
    "X_train_OrEncoding[['cat_4']] = OEncoder.transform(X_train_OrEncoding[['cat_4']])\n",
    "X_train_OrEncoding"
   ]
  },
  {
   "cell_type": "markdown",
   "metadata": {
    "id": "wWLTnkTdqOtN"
   },
   "source": [
    "Standardizing the output of ordinal encoding is generally not necessary if the feature is already ordinal. <br>However, **if the ordinal feature has a large range or if its values have a large variance, it may be beneficial to standardize the output of ordinal encoding.**\n",
    "\n",
    "As always in Machine Learning, there is no free meal.<br> Thus, it is appropriate to try different preprocessing.\n",
    "\n",
    "**<font color='blue'>2. Just for the example, scale the output of the ordinal encoding.**\n",
    "\n",
    "*Tips: You can using z-score scaling, min-max scaling, absolute max scaling ...*"
   ]
  },
  {
   "cell_type": "code",
   "execution_count": 25,
   "metadata": {
    "id": "Gbr6kCL_yP9l"
   },
   "outputs": [
    {
     "data": {
      "text/html": [
       "<div>\n",
       "<style scoped>\n",
       "    .dataframe tbody tr th:only-of-type {\n",
       "        vertical-align: middle;\n",
       "    }\n",
       "\n",
       "    .dataframe tbody tr th {\n",
       "        vertical-align: top;\n",
       "    }\n",
       "\n",
       "    .dataframe thead th {\n",
       "        text-align: right;\n",
       "    }\n",
       "</style>\n",
       "<table border=\"1\" class=\"dataframe\">\n",
       "  <thead>\n",
       "    <tr style=\"text-align: right;\">\n",
       "      <th></th>\n",
       "      <th>cat_1</th>\n",
       "      <th>cat_2</th>\n",
       "      <th>cat_3</th>\n",
       "      <th>cat_4</th>\n",
       "      <th>day</th>\n",
       "      <th>month</th>\n",
       "    </tr>\n",
       "  </thead>\n",
       "  <tbody>\n",
       "    <tr>\n",
       "      <th>0</th>\n",
       "      <td>0.0</td>\n",
       "      <td>Green</td>\n",
       "      <td>Circle</td>\n",
       "      <td>1.0</td>\n",
       "      <td>1.0</td>\n",
       "      <td>10.0</td>\n",
       "    </tr>\n",
       "    <tr>\n",
       "      <th>1</th>\n",
       "      <td>0.0</td>\n",
       "      <td>Blue</td>\n",
       "      <td>Polygon</td>\n",
       "      <td>0.5</td>\n",
       "      <td>2.0</td>\n",
       "      <td>6.0</td>\n",
       "    </tr>\n",
       "    <tr>\n",
       "      <th>2</th>\n",
       "      <td>0.0</td>\n",
       "      <td>Blue</td>\n",
       "      <td>Circle</td>\n",
       "      <td>0.0</td>\n",
       "      <td>1.0</td>\n",
       "      <td>8.0</td>\n",
       "    </tr>\n",
       "    <tr>\n",
       "      <th>3</th>\n",
       "      <td>0.0</td>\n",
       "      <td>Green</td>\n",
       "      <td>Triangle</td>\n",
       "      <td>0.5</td>\n",
       "      <td>5.0</td>\n",
       "      <td>12.0</td>\n",
       "    </tr>\n",
       "    <tr>\n",
       "      <th>4</th>\n",
       "      <td>0.0</td>\n",
       "      <td>Red</td>\n",
       "      <td>Square</td>\n",
       "      <td>0.5</td>\n",
       "      <td>1.0</td>\n",
       "      <td>4.0</td>\n",
       "    </tr>\n",
       "    <tr>\n",
       "      <th>...</th>\n",
       "      <td>...</td>\n",
       "      <td>...</td>\n",
       "      <td>...</td>\n",
       "      <td>...</td>\n",
       "      <td>...</td>\n",
       "      <td>...</td>\n",
       "    </tr>\n",
       "    <tr>\n",
       "      <th>39995</th>\n",
       "      <td>0.0</td>\n",
       "      <td>Red</td>\n",
       "      <td>Triangle</td>\n",
       "      <td>1.0</td>\n",
       "      <td>1.0</td>\n",
       "      <td>8.0</td>\n",
       "    </tr>\n",
       "    <tr>\n",
       "      <th>39996</th>\n",
       "      <td>0.0</td>\n",
       "      <td>Red</td>\n",
       "      <td>Circle</td>\n",
       "      <td>0.0</td>\n",
       "      <td>3.0</td>\n",
       "      <td>8.0</td>\n",
       "    </tr>\n",
       "    <tr>\n",
       "      <th>39997</th>\n",
       "      <td>0.0</td>\n",
       "      <td>Red</td>\n",
       "      <td>Triangle</td>\n",
       "      <td>0.5</td>\n",
       "      <td>3.0</td>\n",
       "      <td>3.0</td>\n",
       "    </tr>\n",
       "    <tr>\n",
       "      <th>39998</th>\n",
       "      <td>0.0</td>\n",
       "      <td>Red</td>\n",
       "      <td>Trapezoid</td>\n",
       "      <td>0.0</td>\n",
       "      <td>3.0</td>\n",
       "      <td>8.0</td>\n",
       "    </tr>\n",
       "    <tr>\n",
       "      <th>39999</th>\n",
       "      <td>0.0</td>\n",
       "      <td>Red</td>\n",
       "      <td>Circle</td>\n",
       "      <td>1.0</td>\n",
       "      <td>3.0</td>\n",
       "      <td>8.0</td>\n",
       "    </tr>\n",
       "  </tbody>\n",
       "</table>\n",
       "<p>40000 rows × 6 columns</p>\n",
       "</div>"
      ],
      "text/plain": [
       "      cat_1  cat_2      cat_3  cat_4  day month\n",
       "0       0.0  Green     Circle    1.0  1.0  10.0\n",
       "1       0.0   Blue    Polygon    0.5  2.0   6.0\n",
       "2       0.0   Blue     Circle    0.0  1.0   8.0\n",
       "3       0.0  Green   Triangle    0.5  5.0  12.0\n",
       "4       0.0    Red     Square    0.5  1.0   4.0\n",
       "...     ...    ...        ...    ...  ...   ...\n",
       "39995   0.0    Red   Triangle    1.0  1.0   8.0\n",
       "39996   0.0    Red     Circle    0.0  3.0   8.0\n",
       "39997   0.0    Red   Triangle    0.5  3.0   3.0\n",
       "39998   0.0    Red  Trapezoid    0.0  3.0   8.0\n",
       "39999   0.0    Red     Circle    1.0  3.0   8.0\n",
       "\n",
       "[40000 rows x 6 columns]"
      ]
     },
     "execution_count": 25,
     "metadata": {},
     "output_type": "execute_result"
    }
   ],
   "source": [
    "MMScaler = MinMaxScaler()\n",
    "X_train_OrEncoding.loc[:, ['cat_4']] = MMScaler.fit_transform(X_train_OrEncoding.loc[:, ['cat_4']])\n",
    "X_train_OrEncoding"
   ]
  },
  {
   "cell_type": "markdown",
   "metadata": {
    "id": "ZxISsv5exJup"
   },
   "source": [
    "**<font color='blue'>3. Apply the Ordinal Encoding and the scaling on the ordinal feature(s) of the test set and the validation set.**"
   ]
  },
  {
   "cell_type": "code",
   "execution_count": 26,
   "metadata": {
    "id": "tdz7SWfTyQpD"
   },
   "outputs": [
    {
     "data": {
      "text/html": [
       "<div>\n",
       "<style scoped>\n",
       "    .dataframe tbody tr th:only-of-type {\n",
       "        vertical-align: middle;\n",
       "    }\n",
       "\n",
       "    .dataframe tbody tr th {\n",
       "        vertical-align: top;\n",
       "    }\n",
       "\n",
       "    .dataframe thead th {\n",
       "        text-align: right;\n",
       "    }\n",
       "</style>\n",
       "<table border=\"1\" class=\"dataframe\">\n",
       "  <thead>\n",
       "    <tr style=\"text-align: right;\">\n",
       "      <th></th>\n",
       "      <th>cat_1</th>\n",
       "      <th>cat_2</th>\n",
       "      <th>cat_3</th>\n",
       "      <th>cat_4</th>\n",
       "      <th>day</th>\n",
       "      <th>month</th>\n",
       "    </tr>\n",
       "  </thead>\n",
       "  <tbody>\n",
       "    <tr>\n",
       "      <th>0</th>\n",
       "      <td>0.0</td>\n",
       "      <td>Red</td>\n",
       "      <td>Square</td>\n",
       "      <td>1.0</td>\n",
       "      <td>5.0</td>\n",
       "      <td>6.0</td>\n",
       "    </tr>\n",
       "    <tr>\n",
       "      <th>1</th>\n",
       "      <td>0.0</td>\n",
       "      <td>Red</td>\n",
       "      <td>Polygon</td>\n",
       "      <td>0.0</td>\n",
       "      <td>3.0</td>\n",
       "      <td>2.0</td>\n",
       "    </tr>\n",
       "    <tr>\n",
       "      <th>2</th>\n",
       "      <td>0.0</td>\n",
       "      <td>Red</td>\n",
       "      <td>Triangle</td>\n",
       "      <td>0.0</td>\n",
       "      <td>3.0</td>\n",
       "      <td>5.0</td>\n",
       "    </tr>\n",
       "    <tr>\n",
       "      <th>3</th>\n",
       "      <td>0.0</td>\n",
       "      <td>Red</td>\n",
       "      <td>Circle</td>\n",
       "      <td>1.0</td>\n",
       "      <td>5.0</td>\n",
       "      <td>1.0</td>\n",
       "    </tr>\n",
       "    <tr>\n",
       "      <th>4</th>\n",
       "      <td>0.0</td>\n",
       "      <td>Red</td>\n",
       "      <td>Triangle</td>\n",
       "      <td>0.5</td>\n",
       "      <td>5.0</td>\n",
       "      <td>4.0</td>\n",
       "    </tr>\n",
       "    <tr>\n",
       "      <th>...</th>\n",
       "      <td>...</td>\n",
       "      <td>...</td>\n",
       "      <td>...</td>\n",
       "      <td>...</td>\n",
       "      <td>...</td>\n",
       "      <td>...</td>\n",
       "    </tr>\n",
       "    <tr>\n",
       "      <th>4995</th>\n",
       "      <td>0.0</td>\n",
       "      <td>Blue</td>\n",
       "      <td>Rare</td>\n",
       "      <td>1.0</td>\n",
       "      <td>7.0</td>\n",
       "      <td>1.0</td>\n",
       "    </tr>\n",
       "    <tr>\n",
       "      <th>4996</th>\n",
       "      <td>1.0</td>\n",
       "      <td>Blue</td>\n",
       "      <td>Circle</td>\n",
       "      <td>1.0</td>\n",
       "      <td>7.0</td>\n",
       "      <td>5.0</td>\n",
       "    </tr>\n",
       "    <tr>\n",
       "      <th>4997</th>\n",
       "      <td>0.0</td>\n",
       "      <td>Blue</td>\n",
       "      <td>Triangle</td>\n",
       "      <td>1.0</td>\n",
       "      <td>6.0</td>\n",
       "      <td>4.0</td>\n",
       "    </tr>\n",
       "    <tr>\n",
       "      <th>4998</th>\n",
       "      <td>0.0</td>\n",
       "      <td>Blue</td>\n",
       "      <td>Square</td>\n",
       "      <td>0.0</td>\n",
       "      <td>2.0</td>\n",
       "      <td>12.0</td>\n",
       "    </tr>\n",
       "    <tr>\n",
       "      <th>4999</th>\n",
       "      <td>0.0</td>\n",
       "      <td>Blue</td>\n",
       "      <td>Triangle</td>\n",
       "      <td>0.0</td>\n",
       "      <td>7.0</td>\n",
       "      <td>8.0</td>\n",
       "    </tr>\n",
       "  </tbody>\n",
       "</table>\n",
       "<p>5000 rows × 6 columns</p>\n",
       "</div>"
      ],
      "text/plain": [
       "     cat_1 cat_2     cat_3  cat_4  day month\n",
       "0      0.0   Red    Square    1.0  5.0   6.0\n",
       "1      0.0   Red   Polygon    0.0  3.0   2.0\n",
       "2      0.0   Red  Triangle    0.0  3.0   5.0\n",
       "3      0.0   Red    Circle    1.0  5.0   1.0\n",
       "4      0.0   Red  Triangle    0.5  5.0   4.0\n",
       "...    ...   ...       ...    ...  ...   ...\n",
       "4995   0.0  Blue      Rare    1.0  7.0   1.0\n",
       "4996   1.0  Blue    Circle    1.0  7.0   5.0\n",
       "4997   0.0  Blue  Triangle    1.0  6.0   4.0\n",
       "4998   0.0  Blue    Square    0.0  2.0  12.0\n",
       "4999   0.0  Blue  Triangle    0.0  7.0   8.0\n",
       "\n",
       "[5000 rows x 6 columns]"
      ]
     },
     "execution_count": 26,
     "metadata": {},
     "output_type": "execute_result"
    }
   ],
   "source": [
    "#Apply on validation set:\n",
    "#Encoding\n",
    "X_val_OrEncoding = X_val_no_Nan.copy()\n",
    "OEncoder.fit(X_val_OrEncoding[['cat_4']])\n",
    "X_val_OrEncoding[['cat_4']] = OEncoder.transform(X_val_OrEncoding[['cat_4']])\n",
    "\n",
    "\n",
    "#Scaling\n",
    "X_val_OrEncoding.loc[:, ['cat_4']] = MMScaler.fit_transform(X_val_OrEncoding.loc[:, ['cat_4']])\n",
    "X_val_OrEncoding"
   ]
  },
  {
   "cell_type": "code",
   "execution_count": 27,
   "metadata": {},
   "outputs": [
    {
     "data": {
      "text/html": [
       "<div>\n",
       "<style scoped>\n",
       "    .dataframe tbody tr th:only-of-type {\n",
       "        vertical-align: middle;\n",
       "    }\n",
       "\n",
       "    .dataframe tbody tr th {\n",
       "        vertical-align: top;\n",
       "    }\n",
       "\n",
       "    .dataframe thead th {\n",
       "        text-align: right;\n",
       "    }\n",
       "</style>\n",
       "<table border=\"1\" class=\"dataframe\">\n",
       "  <thead>\n",
       "    <tr style=\"text-align: right;\">\n",
       "      <th></th>\n",
       "      <th>cat_1</th>\n",
       "      <th>cat_2</th>\n",
       "      <th>cat_3</th>\n",
       "      <th>cat_4</th>\n",
       "      <th>day</th>\n",
       "      <th>month</th>\n",
       "    </tr>\n",
       "  </thead>\n",
       "  <tbody>\n",
       "    <tr>\n",
       "      <th>0</th>\n",
       "      <td>0.0</td>\n",
       "      <td>Green</td>\n",
       "      <td>Circle</td>\n",
       "      <td>1.0</td>\n",
       "      <td>5.0</td>\n",
       "      <td>4.0</td>\n",
       "    </tr>\n",
       "    <tr>\n",
       "      <th>1</th>\n",
       "      <td>0.0</td>\n",
       "      <td>Red</td>\n",
       "      <td>Polygon</td>\n",
       "      <td>0.5</td>\n",
       "      <td>2.0</td>\n",
       "      <td>5.0</td>\n",
       "    </tr>\n",
       "    <tr>\n",
       "      <th>2</th>\n",
       "      <td>0.0</td>\n",
       "      <td>Blue</td>\n",
       "      <td>Polygon</td>\n",
       "      <td>1.0</td>\n",
       "      <td>7.0</td>\n",
       "      <td>8.0</td>\n",
       "    </tr>\n",
       "    <tr>\n",
       "      <th>3</th>\n",
       "      <td>0.0</td>\n",
       "      <td>Red</td>\n",
       "      <td>Polygon</td>\n",
       "      <td>1.0</td>\n",
       "      <td>6.0</td>\n",
       "      <td>4.0</td>\n",
       "    </tr>\n",
       "    <tr>\n",
       "      <th>4</th>\n",
       "      <td>1.0</td>\n",
       "      <td>Red</td>\n",
       "      <td>Circle</td>\n",
       "      <td>1.0</td>\n",
       "      <td>7.0</td>\n",
       "      <td>2.0</td>\n",
       "    </tr>\n",
       "    <tr>\n",
       "      <th>...</th>\n",
       "      <td>...</td>\n",
       "      <td>...</td>\n",
       "      <td>...</td>\n",
       "      <td>...</td>\n",
       "      <td>...</td>\n",
       "      <td>...</td>\n",
       "    </tr>\n",
       "    <tr>\n",
       "      <th>4995</th>\n",
       "      <td>0.0</td>\n",
       "      <td>Green</td>\n",
       "      <td>Trapezoid</td>\n",
       "      <td>1.0</td>\n",
       "      <td>3.0</td>\n",
       "      <td>12.0</td>\n",
       "    </tr>\n",
       "    <tr>\n",
       "      <th>4996</th>\n",
       "      <td>0.0</td>\n",
       "      <td>Red</td>\n",
       "      <td>Rare</td>\n",
       "      <td>0.0</td>\n",
       "      <td>5.0</td>\n",
       "      <td>3.0</td>\n",
       "    </tr>\n",
       "    <tr>\n",
       "      <th>4997</th>\n",
       "      <td>0.0</td>\n",
       "      <td>Blue</td>\n",
       "      <td>Circle</td>\n",
       "      <td>0.0</td>\n",
       "      <td>5.0</td>\n",
       "      <td>5.0</td>\n",
       "    </tr>\n",
       "    <tr>\n",
       "      <th>4998</th>\n",
       "      <td>0.0</td>\n",
       "      <td>Blue</td>\n",
       "      <td>Circle</td>\n",
       "      <td>0.5</td>\n",
       "      <td>7.0</td>\n",
       "      <td>5.0</td>\n",
       "    </tr>\n",
       "    <tr>\n",
       "      <th>4999</th>\n",
       "      <td>0.0</td>\n",
       "      <td>Red</td>\n",
       "      <td>Rare</td>\n",
       "      <td>0.0</td>\n",
       "      <td>1.0</td>\n",
       "      <td>1.0</td>\n",
       "    </tr>\n",
       "  </tbody>\n",
       "</table>\n",
       "<p>5000 rows × 6 columns</p>\n",
       "</div>"
      ],
      "text/plain": [
       "     cat_1  cat_2      cat_3  cat_4  day month\n",
       "0      0.0  Green     Circle    1.0  5.0   4.0\n",
       "1      0.0    Red    Polygon    0.5  2.0   5.0\n",
       "2      0.0   Blue    Polygon    1.0  7.0   8.0\n",
       "3      0.0    Red    Polygon    1.0  6.0   4.0\n",
       "4      1.0    Red     Circle    1.0  7.0   2.0\n",
       "...    ...    ...        ...    ...  ...   ...\n",
       "4995   0.0  Green  Trapezoid    1.0  3.0  12.0\n",
       "4996   0.0    Red       Rare    0.0  5.0   3.0\n",
       "4997   0.0   Blue     Circle    0.0  5.0   5.0\n",
       "4998   0.0   Blue     Circle    0.5  7.0   5.0\n",
       "4999   0.0    Red       Rare    0.0  1.0   1.0\n",
       "\n",
       "[5000 rows x 6 columns]"
      ]
     },
     "execution_count": 27,
     "metadata": {},
     "output_type": "execute_result"
    }
   ],
   "source": [
    "#Apply on test set:\n",
    "#Encoding\n",
    "X_test_OrEncoding = X_test_no_Nan.copy()\n",
    "OEncoder.fit(X_test_OrEncoding[['cat_4']])\n",
    "X_test_OrEncoding[['cat_4']] = OEncoder.transform(X_test_OrEncoding[['cat_4']])\n",
    "\n",
    "\n",
    "#Scaling\n",
    "X_test_OrEncoding.loc[:, ['cat_4']] = MMScaler.fit_transform(X_test_OrEncoding.loc[:, ['cat_4']])\n",
    "X_test_OrEncoding"
   ]
  },
  {
   "cell_type": "markdown",
   "metadata": {
    "id": "0MM5KUWqxugb"
   },
   "source": [
    "## One Hot Encoding"
   ]
  },
  {
   "cell_type": "markdown",
   "metadata": {
    "id": "hNBhTTNS1Gyt"
   },
   "source": [
    "**One Hot encoding** is a technique for encoding categorical features as binary vectors in a way that enables machine learning algorithms to treat each category as a separate feature.\n",
    "\n",
    "The scikit-learn library provides a convenient OneHotEncoder class for performing One Hot encoding on categorical features. The OneHotEncoder class takes a list of categorical features as input and returns a sparse matrix with the same number of rows as the input, where each row is a binary vector representing the presence or absence of each category.\n",
    "\n",
    "Here are some of the most useful parameters:\n",
    "\n",
    "* **`categories`**: This parameter can be used to explicitly specify the categories for each feature. It should be a list of lists, where each inner list contains the categories for the corresponding feature. If this parameter is not provided, the encoder will automatically infer the categories from the input data.\n",
    "\n",
    "* **`drop`**: This parameter specifies whether to drop one of the categories for each feature to avoid collinearity. By default, it is set to None, which means that all categories are kept. If it is set to `first`, the first category in each feature will be dropped, and if it is set to `if_binary`, it drops the first category in each feature with two categories.\n",
    "\n",
    "* **`handle_unknown`**: This parameter specifies how to handle unknown categories that are encountered during the transformation. It can be set to `error` to raise an error, `ignore` to assign a row of all zeros to unknown categories, or `infrequent_if_exist` to assign a specified value to unknown categories.\n",
    "\n",
    "*  **`sparse_output`**: This parameter specifies whether to return a sparse matrix or a dense array. By default, it is set to True, which means that a sparse matrix is returned.\n",
    "\n",
    "One Hot Encoder can be used as follows:\n",
    "\n",
    "```\n",
    "encoder = OneHotEncoder(...)\n",
    "encoder.fit(X_train)\n",
    "X_train_enc = encoder.transform(X_train)\n",
    "```\n",
    "\n",
    "**<font color='blue'>1. Apply the One Hot Encoding to the nominal feature(s) of the dataset.**\n",
    "\n",
    "*Tips: Don't forget to use `sparse_output=False` to return a Numpy array.*"
   ]
  },
  {
   "cell_type": "code",
   "execution_count": 43,
   "metadata": {},
   "outputs": [
    {
     "data": {
      "text/plain": [
       "Triangle     12115\n",
       "Polygon      10193\n",
       "Trapezoid     7939\n",
       "Circle        6890\n",
       "Square        1754\n",
       "Rare          1109\n",
       "Name: cat_3, dtype: int64"
      ]
     },
     "execution_count": 43,
     "metadata": {},
     "output_type": "execute_result"
    }
   ],
   "source": [
    "X_train_OrEncoding['cat_3'].value_counts()"
   ]
  },
  {
   "cell_type": "code",
   "execution_count": 28,
   "metadata": {
    "id": "M7jcl1jCyRxJ"
   },
   "outputs": [
    {
     "data": {
      "text/plain": [
       "array([[0., 1., 0., ..., 1., 0., 0.],\n",
       "       [0., 0., 1., ..., 0., 0., 0.],\n",
       "       [0., 0., 1., ..., 1., 0., 0.],\n",
       "       ...,\n",
       "       [1., 0., 0., ..., 0., 0., 0.],\n",
       "       [1., 0., 0., ..., 0., 0., 0.],\n",
       "       [1., 0., 0., ..., 1., 0., 0.]])"
      ]
     },
     "execution_count": 28,
     "metadata": {},
     "output_type": "execute_result"
    }
   ],
   "source": [
    "OHEncoder = OneHotEncoder(categories = [['Red', 'Green', \"Blue\"], ['Triangle', 'Polygon', 'Trapezoid', \"Circle\", \"Square\", \"Rare\"]], handle_unknown='error', sparse=False)\n",
    "X_train_OHEncoding = X_train_OrEncoding.copy()\n",
    "OHEncoder.fit(X_train_OHEncoding[['cat_2', 'cat_3']])\n",
    "X_train_OHEncoding_output = OHEncoder.transform(X_train_OHEncoding[['cat_2', 'cat_3']])\n",
    "X_train_OHEncoding_output"
   ]
  },
  {
   "cell_type": "markdown",
   "metadata": {
    "id": "FFWB2zLJ2S4p"
   },
   "source": [
    "The output of the `OneHotEncoder` is a Numpy array (*if `sparse_output=False`*) without the name of the columns.\n",
    "\n",
    "Fortunately, `OneHotEncoder` provides the `get_feature_names_out()` function that can be used to retrieve the names of the features in the encoded output array.\n",
    "\n",
    "```\n",
    "feature_names = encoder.get_feature_names_out()\n",
    "```\n",
    "\n",
    "**<font color='blue'>2.a. Get the names of the One Hot features.<br>2.b. Create a dataframe with the one hot encoded features and their names.**\n",
    "\n",
    "*Tips: You can transform all the features simultaneously if you are using a Pandas dataframe or a Numpy array.*"
   ]
  },
  {
   "cell_type": "code",
   "execution_count": 63,
   "metadata": {
    "id": "NqXi-gCOySUn"
   },
   "outputs": [
    {
     "data": {
      "text/html": [
       "<div>\n",
       "<style scoped>\n",
       "    .dataframe tbody tr th:only-of-type {\n",
       "        vertical-align: middle;\n",
       "    }\n",
       "\n",
       "    .dataframe tbody tr th {\n",
       "        vertical-align: top;\n",
       "    }\n",
       "\n",
       "    .dataframe thead th {\n",
       "        text-align: right;\n",
       "    }\n",
       "</style>\n",
       "<table border=\"1\" class=\"dataframe\">\n",
       "  <thead>\n",
       "    <tr style=\"text-align: right;\">\n",
       "      <th></th>\n",
       "      <th>cat_2_Red</th>\n",
       "      <th>cat_2_Green</th>\n",
       "      <th>cat_2_Blue</th>\n",
       "      <th>cat_3_Triangle</th>\n",
       "      <th>cat_3_Polygon</th>\n",
       "      <th>cat_3_Trapezoid</th>\n",
       "      <th>cat_3_Circle</th>\n",
       "      <th>cat_3_Square</th>\n",
       "      <th>cat_3_Rare</th>\n",
       "    </tr>\n",
       "  </thead>\n",
       "  <tbody>\n",
       "    <tr>\n",
       "      <th>0</th>\n",
       "      <td>0.0</td>\n",
       "      <td>1.0</td>\n",
       "      <td>0.0</td>\n",
       "      <td>0.0</td>\n",
       "      <td>0.0</td>\n",
       "      <td>0.0</td>\n",
       "      <td>1.0</td>\n",
       "      <td>0.0</td>\n",
       "      <td>0.0</td>\n",
       "    </tr>\n",
       "    <tr>\n",
       "      <th>1</th>\n",
       "      <td>0.0</td>\n",
       "      <td>0.0</td>\n",
       "      <td>1.0</td>\n",
       "      <td>0.0</td>\n",
       "      <td>1.0</td>\n",
       "      <td>0.0</td>\n",
       "      <td>0.0</td>\n",
       "      <td>0.0</td>\n",
       "      <td>0.0</td>\n",
       "    </tr>\n",
       "    <tr>\n",
       "      <th>2</th>\n",
       "      <td>0.0</td>\n",
       "      <td>0.0</td>\n",
       "      <td>1.0</td>\n",
       "      <td>0.0</td>\n",
       "      <td>0.0</td>\n",
       "      <td>0.0</td>\n",
       "      <td>1.0</td>\n",
       "      <td>0.0</td>\n",
       "      <td>0.0</td>\n",
       "    </tr>\n",
       "    <tr>\n",
       "      <th>3</th>\n",
       "      <td>0.0</td>\n",
       "      <td>1.0</td>\n",
       "      <td>0.0</td>\n",
       "      <td>1.0</td>\n",
       "      <td>0.0</td>\n",
       "      <td>0.0</td>\n",
       "      <td>0.0</td>\n",
       "      <td>0.0</td>\n",
       "      <td>0.0</td>\n",
       "    </tr>\n",
       "    <tr>\n",
       "      <th>4</th>\n",
       "      <td>1.0</td>\n",
       "      <td>0.0</td>\n",
       "      <td>0.0</td>\n",
       "      <td>0.0</td>\n",
       "      <td>0.0</td>\n",
       "      <td>0.0</td>\n",
       "      <td>0.0</td>\n",
       "      <td>1.0</td>\n",
       "      <td>0.0</td>\n",
       "    </tr>\n",
       "    <tr>\n",
       "      <th>...</th>\n",
       "      <td>...</td>\n",
       "      <td>...</td>\n",
       "      <td>...</td>\n",
       "      <td>...</td>\n",
       "      <td>...</td>\n",
       "      <td>...</td>\n",
       "      <td>...</td>\n",
       "      <td>...</td>\n",
       "      <td>...</td>\n",
       "    </tr>\n",
       "    <tr>\n",
       "      <th>39995</th>\n",
       "      <td>1.0</td>\n",
       "      <td>0.0</td>\n",
       "      <td>0.0</td>\n",
       "      <td>1.0</td>\n",
       "      <td>0.0</td>\n",
       "      <td>0.0</td>\n",
       "      <td>0.0</td>\n",
       "      <td>0.0</td>\n",
       "      <td>0.0</td>\n",
       "    </tr>\n",
       "    <tr>\n",
       "      <th>39996</th>\n",
       "      <td>1.0</td>\n",
       "      <td>0.0</td>\n",
       "      <td>0.0</td>\n",
       "      <td>0.0</td>\n",
       "      <td>0.0</td>\n",
       "      <td>0.0</td>\n",
       "      <td>1.0</td>\n",
       "      <td>0.0</td>\n",
       "      <td>0.0</td>\n",
       "    </tr>\n",
       "    <tr>\n",
       "      <th>39997</th>\n",
       "      <td>1.0</td>\n",
       "      <td>0.0</td>\n",
       "      <td>0.0</td>\n",
       "      <td>1.0</td>\n",
       "      <td>0.0</td>\n",
       "      <td>0.0</td>\n",
       "      <td>0.0</td>\n",
       "      <td>0.0</td>\n",
       "      <td>0.0</td>\n",
       "    </tr>\n",
       "    <tr>\n",
       "      <th>39998</th>\n",
       "      <td>1.0</td>\n",
       "      <td>0.0</td>\n",
       "      <td>0.0</td>\n",
       "      <td>0.0</td>\n",
       "      <td>0.0</td>\n",
       "      <td>1.0</td>\n",
       "      <td>0.0</td>\n",
       "      <td>0.0</td>\n",
       "      <td>0.0</td>\n",
       "    </tr>\n",
       "    <tr>\n",
       "      <th>39999</th>\n",
       "      <td>1.0</td>\n",
       "      <td>0.0</td>\n",
       "      <td>0.0</td>\n",
       "      <td>0.0</td>\n",
       "      <td>0.0</td>\n",
       "      <td>0.0</td>\n",
       "      <td>1.0</td>\n",
       "      <td>0.0</td>\n",
       "      <td>0.0</td>\n",
       "    </tr>\n",
       "  </tbody>\n",
       "</table>\n",
       "<p>40000 rows × 9 columns</p>\n",
       "</div>"
      ],
      "text/plain": [
       "       cat_2_Red  cat_2_Green  cat_2_Blue  cat_3_Triangle  cat_3_Polygon  \\\n",
       "0            0.0          1.0         0.0             0.0            0.0   \n",
       "1            0.0          0.0         1.0             0.0            1.0   \n",
       "2            0.0          0.0         1.0             0.0            0.0   \n",
       "3            0.0          1.0         0.0             1.0            0.0   \n",
       "4            1.0          0.0         0.0             0.0            0.0   \n",
       "...          ...          ...         ...             ...            ...   \n",
       "39995        1.0          0.0         0.0             1.0            0.0   \n",
       "39996        1.0          0.0         0.0             0.0            0.0   \n",
       "39997        1.0          0.0         0.0             1.0            0.0   \n",
       "39998        1.0          0.0         0.0             0.0            0.0   \n",
       "39999        1.0          0.0         0.0             0.0            0.0   \n",
       "\n",
       "       cat_3_Trapezoid  cat_3_Circle  cat_3_Square  cat_3_Rare  \n",
       "0                  0.0           1.0           0.0         0.0  \n",
       "1                  0.0           0.0           0.0         0.0  \n",
       "2                  0.0           1.0           0.0         0.0  \n",
       "3                  0.0           0.0           0.0         0.0  \n",
       "4                  0.0           0.0           1.0         0.0  \n",
       "...                ...           ...           ...         ...  \n",
       "39995              0.0           0.0           0.0         0.0  \n",
       "39996              0.0           1.0           0.0         0.0  \n",
       "39997              0.0           0.0           0.0         0.0  \n",
       "39998              1.0           0.0           0.0         0.0  \n",
       "39999              0.0           1.0           0.0         0.0  \n",
       "\n",
       "[40000 rows x 9 columns]"
      ]
     },
     "execution_count": 63,
     "metadata": {},
     "output_type": "execute_result"
    }
   ],
   "source": [
    "#2.a\n",
    "columns = OHEncoder.get_feature_names_out()\n",
    "#2.b\n",
    "df_OHE_train = pd.DataFrame(X_train_OHEncoding_output, columns=columns)\n",
    "df_OHE_train"
   ]
  },
  {
   "cell_type": "markdown",
   "metadata": {
    "id": "HYNjyHzUwS9o"
   },
   "source": [
    "**<font color='blue'>3. Apply the One Hot Encoding on the nominal features of the test set and the validation set.**"
   ]
  },
  {
   "cell_type": "code",
   "execution_count": 36,
   "metadata": {
    "id": "nDgtN9fwyS4Y"
   },
   "outputs": [
    {
     "data": {
      "text/plain": [
       "array([[0., 1., 0., ..., 1., 0., 0.],\n",
       "       [1., 0., 0., ..., 0., 0., 0.],\n",
       "       [0., 0., 1., ..., 0., 0., 0.],\n",
       "       ...,\n",
       "       [0., 0., 1., ..., 1., 0., 0.],\n",
       "       [0., 0., 1., ..., 1., 0., 0.],\n",
       "       [1., 0., 0., ..., 0., 0., 1.]])"
      ]
     },
     "execution_count": 36,
     "metadata": {},
     "output_type": "execute_result"
    }
   ],
   "source": [
    "#Apply on test set\n",
    "X_test_OHEncoding = X_test_OrEncoding.copy()\n",
    "OHEncoder.fit(X_test_OHEncoding[['cat_2', 'cat_3']])\n",
    "X_test_OHEncoding_output = OHEncoder.transform(X_test_OHEncoding[['cat_2', 'cat_3']])\n",
    "\n",
    "X_test_OHEncoding_output"
   ]
  },
  {
   "cell_type": "code",
   "execution_count": 37,
   "metadata": {},
   "outputs": [
    {
     "data": {
      "text/html": [
       "<div>\n",
       "<style scoped>\n",
       "    .dataframe tbody tr th:only-of-type {\n",
       "        vertical-align: middle;\n",
       "    }\n",
       "\n",
       "    .dataframe tbody tr th {\n",
       "        vertical-align: top;\n",
       "    }\n",
       "\n",
       "    .dataframe thead th {\n",
       "        text-align: right;\n",
       "    }\n",
       "</style>\n",
       "<table border=\"1\" class=\"dataframe\">\n",
       "  <thead>\n",
       "    <tr style=\"text-align: right;\">\n",
       "      <th></th>\n",
       "      <th>cat_2_Red</th>\n",
       "      <th>cat_2_Green</th>\n",
       "      <th>cat_2_Blue</th>\n",
       "      <th>cat_3_Triangle</th>\n",
       "      <th>cat_3_Polygon</th>\n",
       "      <th>cat_3_Trapezoid</th>\n",
       "      <th>cat_3_Circle</th>\n",
       "      <th>cat_3_Square</th>\n",
       "      <th>cat_3_Rare</th>\n",
       "    </tr>\n",
       "  </thead>\n",
       "  <tbody>\n",
       "    <tr>\n",
       "      <th>0</th>\n",
       "      <td>0.0</td>\n",
       "      <td>1.0</td>\n",
       "      <td>0.0</td>\n",
       "      <td>0.0</td>\n",
       "      <td>0.0</td>\n",
       "      <td>0.0</td>\n",
       "      <td>1.0</td>\n",
       "      <td>0.0</td>\n",
       "      <td>0.0</td>\n",
       "    </tr>\n",
       "    <tr>\n",
       "      <th>1</th>\n",
       "      <td>1.0</td>\n",
       "      <td>0.0</td>\n",
       "      <td>0.0</td>\n",
       "      <td>0.0</td>\n",
       "      <td>1.0</td>\n",
       "      <td>0.0</td>\n",
       "      <td>0.0</td>\n",
       "      <td>0.0</td>\n",
       "      <td>0.0</td>\n",
       "    </tr>\n",
       "    <tr>\n",
       "      <th>2</th>\n",
       "      <td>0.0</td>\n",
       "      <td>0.0</td>\n",
       "      <td>1.0</td>\n",
       "      <td>0.0</td>\n",
       "      <td>1.0</td>\n",
       "      <td>0.0</td>\n",
       "      <td>0.0</td>\n",
       "      <td>0.0</td>\n",
       "      <td>0.0</td>\n",
       "    </tr>\n",
       "    <tr>\n",
       "      <th>3</th>\n",
       "      <td>1.0</td>\n",
       "      <td>0.0</td>\n",
       "      <td>0.0</td>\n",
       "      <td>0.0</td>\n",
       "      <td>1.0</td>\n",
       "      <td>0.0</td>\n",
       "      <td>0.0</td>\n",
       "      <td>0.0</td>\n",
       "      <td>0.0</td>\n",
       "    </tr>\n",
       "    <tr>\n",
       "      <th>4</th>\n",
       "      <td>1.0</td>\n",
       "      <td>0.0</td>\n",
       "      <td>0.0</td>\n",
       "      <td>0.0</td>\n",
       "      <td>0.0</td>\n",
       "      <td>0.0</td>\n",
       "      <td>1.0</td>\n",
       "      <td>0.0</td>\n",
       "      <td>0.0</td>\n",
       "    </tr>\n",
       "    <tr>\n",
       "      <th>...</th>\n",
       "      <td>...</td>\n",
       "      <td>...</td>\n",
       "      <td>...</td>\n",
       "      <td>...</td>\n",
       "      <td>...</td>\n",
       "      <td>...</td>\n",
       "      <td>...</td>\n",
       "      <td>...</td>\n",
       "      <td>...</td>\n",
       "    </tr>\n",
       "    <tr>\n",
       "      <th>4995</th>\n",
       "      <td>0.0</td>\n",
       "      <td>1.0</td>\n",
       "      <td>0.0</td>\n",
       "      <td>0.0</td>\n",
       "      <td>0.0</td>\n",
       "      <td>1.0</td>\n",
       "      <td>0.0</td>\n",
       "      <td>0.0</td>\n",
       "      <td>0.0</td>\n",
       "    </tr>\n",
       "    <tr>\n",
       "      <th>4996</th>\n",
       "      <td>1.0</td>\n",
       "      <td>0.0</td>\n",
       "      <td>0.0</td>\n",
       "      <td>0.0</td>\n",
       "      <td>0.0</td>\n",
       "      <td>0.0</td>\n",
       "      <td>0.0</td>\n",
       "      <td>0.0</td>\n",
       "      <td>1.0</td>\n",
       "    </tr>\n",
       "    <tr>\n",
       "      <th>4997</th>\n",
       "      <td>0.0</td>\n",
       "      <td>0.0</td>\n",
       "      <td>1.0</td>\n",
       "      <td>0.0</td>\n",
       "      <td>0.0</td>\n",
       "      <td>0.0</td>\n",
       "      <td>1.0</td>\n",
       "      <td>0.0</td>\n",
       "      <td>0.0</td>\n",
       "    </tr>\n",
       "    <tr>\n",
       "      <th>4998</th>\n",
       "      <td>0.0</td>\n",
       "      <td>0.0</td>\n",
       "      <td>1.0</td>\n",
       "      <td>0.0</td>\n",
       "      <td>0.0</td>\n",
       "      <td>0.0</td>\n",
       "      <td>1.0</td>\n",
       "      <td>0.0</td>\n",
       "      <td>0.0</td>\n",
       "    </tr>\n",
       "    <tr>\n",
       "      <th>4999</th>\n",
       "      <td>1.0</td>\n",
       "      <td>0.0</td>\n",
       "      <td>0.0</td>\n",
       "      <td>0.0</td>\n",
       "      <td>0.0</td>\n",
       "      <td>0.0</td>\n",
       "      <td>0.0</td>\n",
       "      <td>0.0</td>\n",
       "      <td>1.0</td>\n",
       "    </tr>\n",
       "  </tbody>\n",
       "</table>\n",
       "<p>5000 rows × 9 columns</p>\n",
       "</div>"
      ],
      "text/plain": [
       "      cat_2_Red  cat_2_Green  cat_2_Blue  cat_3_Triangle  cat_3_Polygon  \\\n",
       "0           0.0          1.0         0.0             0.0            0.0   \n",
       "1           1.0          0.0         0.0             0.0            1.0   \n",
       "2           0.0          0.0         1.0             0.0            1.0   \n",
       "3           1.0          0.0         0.0             0.0            1.0   \n",
       "4           1.0          0.0         0.0             0.0            0.0   \n",
       "...         ...          ...         ...             ...            ...   \n",
       "4995        0.0          1.0         0.0             0.0            0.0   \n",
       "4996        1.0          0.0         0.0             0.0            0.0   \n",
       "4997        0.0          0.0         1.0             0.0            0.0   \n",
       "4998        0.0          0.0         1.0             0.0            0.0   \n",
       "4999        1.0          0.0         0.0             0.0            0.0   \n",
       "\n",
       "      cat_3_Trapezoid  cat_3_Circle  cat_3_Square  cat_3_Rare  \n",
       "0                 0.0           1.0           0.0         0.0  \n",
       "1                 0.0           0.0           0.0         0.0  \n",
       "2                 0.0           0.0           0.0         0.0  \n",
       "3                 0.0           0.0           0.0         0.0  \n",
       "4                 0.0           1.0           0.0         0.0  \n",
       "...               ...           ...           ...         ...  \n",
       "4995              1.0           0.0           0.0         0.0  \n",
       "4996              0.0           0.0           0.0         1.0  \n",
       "4997              0.0           1.0           0.0         0.0  \n",
       "4998              0.0           1.0           0.0         0.0  \n",
       "4999              0.0           0.0           0.0         1.0  \n",
       "\n",
       "[5000 rows x 9 columns]"
      ]
     },
     "execution_count": 37,
     "metadata": {},
     "output_type": "execute_result"
    }
   ],
   "source": [
    "df_OHE_test = pd.DataFrame(X_test_OHEncoding_output, columns=columns)\n",
    "df_OHE_test"
   ]
  },
  {
   "cell_type": "code",
   "execution_count": 38,
   "metadata": {},
   "outputs": [
    {
     "data": {
      "text/html": [
       "<div>\n",
       "<style scoped>\n",
       "    .dataframe tbody tr th:only-of-type {\n",
       "        vertical-align: middle;\n",
       "    }\n",
       "\n",
       "    .dataframe tbody tr th {\n",
       "        vertical-align: top;\n",
       "    }\n",
       "\n",
       "    .dataframe thead th {\n",
       "        text-align: right;\n",
       "    }\n",
       "</style>\n",
       "<table border=\"1\" class=\"dataframe\">\n",
       "  <thead>\n",
       "    <tr style=\"text-align: right;\">\n",
       "      <th></th>\n",
       "      <th>cat_2_Red</th>\n",
       "      <th>cat_2_Green</th>\n",
       "      <th>cat_2_Blue</th>\n",
       "      <th>cat_3_Triangle</th>\n",
       "      <th>cat_3_Polygon</th>\n",
       "      <th>cat_3_Trapezoid</th>\n",
       "      <th>cat_3_Circle</th>\n",
       "      <th>cat_3_Square</th>\n",
       "      <th>cat_3_Rare</th>\n",
       "    </tr>\n",
       "  </thead>\n",
       "  <tbody>\n",
       "    <tr>\n",
       "      <th>0</th>\n",
       "      <td>1.0</td>\n",
       "      <td>0.0</td>\n",
       "      <td>0.0</td>\n",
       "      <td>0.0</td>\n",
       "      <td>0.0</td>\n",
       "      <td>0.0</td>\n",
       "      <td>0.0</td>\n",
       "      <td>1.0</td>\n",
       "      <td>0.0</td>\n",
       "    </tr>\n",
       "    <tr>\n",
       "      <th>1</th>\n",
       "      <td>1.0</td>\n",
       "      <td>0.0</td>\n",
       "      <td>0.0</td>\n",
       "      <td>0.0</td>\n",
       "      <td>1.0</td>\n",
       "      <td>0.0</td>\n",
       "      <td>0.0</td>\n",
       "      <td>0.0</td>\n",
       "      <td>0.0</td>\n",
       "    </tr>\n",
       "    <tr>\n",
       "      <th>2</th>\n",
       "      <td>1.0</td>\n",
       "      <td>0.0</td>\n",
       "      <td>0.0</td>\n",
       "      <td>1.0</td>\n",
       "      <td>0.0</td>\n",
       "      <td>0.0</td>\n",
       "      <td>0.0</td>\n",
       "      <td>0.0</td>\n",
       "      <td>0.0</td>\n",
       "    </tr>\n",
       "    <tr>\n",
       "      <th>3</th>\n",
       "      <td>1.0</td>\n",
       "      <td>0.0</td>\n",
       "      <td>0.0</td>\n",
       "      <td>0.0</td>\n",
       "      <td>0.0</td>\n",
       "      <td>0.0</td>\n",
       "      <td>1.0</td>\n",
       "      <td>0.0</td>\n",
       "      <td>0.0</td>\n",
       "    </tr>\n",
       "    <tr>\n",
       "      <th>4</th>\n",
       "      <td>1.0</td>\n",
       "      <td>0.0</td>\n",
       "      <td>0.0</td>\n",
       "      <td>1.0</td>\n",
       "      <td>0.0</td>\n",
       "      <td>0.0</td>\n",
       "      <td>0.0</td>\n",
       "      <td>0.0</td>\n",
       "      <td>0.0</td>\n",
       "    </tr>\n",
       "    <tr>\n",
       "      <th>...</th>\n",
       "      <td>...</td>\n",
       "      <td>...</td>\n",
       "      <td>...</td>\n",
       "      <td>...</td>\n",
       "      <td>...</td>\n",
       "      <td>...</td>\n",
       "      <td>...</td>\n",
       "      <td>...</td>\n",
       "      <td>...</td>\n",
       "    </tr>\n",
       "    <tr>\n",
       "      <th>4995</th>\n",
       "      <td>0.0</td>\n",
       "      <td>0.0</td>\n",
       "      <td>1.0</td>\n",
       "      <td>0.0</td>\n",
       "      <td>0.0</td>\n",
       "      <td>0.0</td>\n",
       "      <td>0.0</td>\n",
       "      <td>0.0</td>\n",
       "      <td>1.0</td>\n",
       "    </tr>\n",
       "    <tr>\n",
       "      <th>4996</th>\n",
       "      <td>0.0</td>\n",
       "      <td>0.0</td>\n",
       "      <td>1.0</td>\n",
       "      <td>0.0</td>\n",
       "      <td>0.0</td>\n",
       "      <td>0.0</td>\n",
       "      <td>1.0</td>\n",
       "      <td>0.0</td>\n",
       "      <td>0.0</td>\n",
       "    </tr>\n",
       "    <tr>\n",
       "      <th>4997</th>\n",
       "      <td>0.0</td>\n",
       "      <td>0.0</td>\n",
       "      <td>1.0</td>\n",
       "      <td>1.0</td>\n",
       "      <td>0.0</td>\n",
       "      <td>0.0</td>\n",
       "      <td>0.0</td>\n",
       "      <td>0.0</td>\n",
       "      <td>0.0</td>\n",
       "    </tr>\n",
       "    <tr>\n",
       "      <th>4998</th>\n",
       "      <td>0.0</td>\n",
       "      <td>0.0</td>\n",
       "      <td>1.0</td>\n",
       "      <td>0.0</td>\n",
       "      <td>0.0</td>\n",
       "      <td>0.0</td>\n",
       "      <td>0.0</td>\n",
       "      <td>1.0</td>\n",
       "      <td>0.0</td>\n",
       "    </tr>\n",
       "    <tr>\n",
       "      <th>4999</th>\n",
       "      <td>0.0</td>\n",
       "      <td>0.0</td>\n",
       "      <td>1.0</td>\n",
       "      <td>1.0</td>\n",
       "      <td>0.0</td>\n",
       "      <td>0.0</td>\n",
       "      <td>0.0</td>\n",
       "      <td>0.0</td>\n",
       "      <td>0.0</td>\n",
       "    </tr>\n",
       "  </tbody>\n",
       "</table>\n",
       "<p>5000 rows × 9 columns</p>\n",
       "</div>"
      ],
      "text/plain": [
       "      cat_2_Red  cat_2_Green  cat_2_Blue  cat_3_Triangle  cat_3_Polygon  \\\n",
       "0           1.0          0.0         0.0             0.0            0.0   \n",
       "1           1.0          0.0         0.0             0.0            1.0   \n",
       "2           1.0          0.0         0.0             1.0            0.0   \n",
       "3           1.0          0.0         0.0             0.0            0.0   \n",
       "4           1.0          0.0         0.0             1.0            0.0   \n",
       "...         ...          ...         ...             ...            ...   \n",
       "4995        0.0          0.0         1.0             0.0            0.0   \n",
       "4996        0.0          0.0         1.0             0.0            0.0   \n",
       "4997        0.0          0.0         1.0             1.0            0.0   \n",
       "4998        0.0          0.0         1.0             0.0            0.0   \n",
       "4999        0.0          0.0         1.0             1.0            0.0   \n",
       "\n",
       "      cat_3_Trapezoid  cat_3_Circle  cat_3_Square  cat_3_Rare  \n",
       "0                 0.0           0.0           1.0         0.0  \n",
       "1                 0.0           0.0           0.0         0.0  \n",
       "2                 0.0           0.0           0.0         0.0  \n",
       "3                 0.0           1.0           0.0         0.0  \n",
       "4                 0.0           0.0           0.0         0.0  \n",
       "...               ...           ...           ...         ...  \n",
       "4995              0.0           0.0           0.0         1.0  \n",
       "4996              0.0           1.0           0.0         0.0  \n",
       "4997              0.0           0.0           0.0         0.0  \n",
       "4998              0.0           0.0           1.0         0.0  \n",
       "4999              0.0           0.0           0.0         0.0  \n",
       "\n",
       "[5000 rows x 9 columns]"
      ]
     },
     "execution_count": 38,
     "metadata": {},
     "output_type": "execute_result"
    }
   ],
   "source": [
    "#Apply on validation set\n",
    "X_val_OHEncoding = X_val_OrEncoding.copy()\n",
    "OHEncoder.fit(X_val_OHEncoding[['cat_2', 'cat_3']])\n",
    "X_val_OHEncoding_output = OHEncoder.transform(X_val_OHEncoding[['cat_2', 'cat_3']])\n",
    "df_OHE_val = pd.DataFrame(X_val_OHEncoding_output, columns=columns)\n",
    "df_OHE_val"
   ]
  },
  {
   "cell_type": "markdown",
   "metadata": {
    "id": "Ycc9fsNvxyVF"
   },
   "source": [
    "## Cyclical Encoding"
   ]
  },
  {
   "cell_type": "markdown",
   "metadata": {
    "id": "XA_JLid86TJp"
   },
   "source": [
    "Cyclical categories can be encoded using the **sine and cosine functions**.\n",
    "\n",
    "**<font color='blue'>1.a. Calculate $sin(2\\pi X/n)$ on the cyclical features with X the feature and n the period.**"
   ]
  },
  {
   "cell_type": "code",
   "execution_count": 40,
   "metadata": {},
   "outputs": [
    {
     "data": {
      "text/html": [
       "<div>\n",
       "<style scoped>\n",
       "    .dataframe tbody tr th:only-of-type {\n",
       "        vertical-align: middle;\n",
       "    }\n",
       "\n",
       "    .dataframe tbody tr th {\n",
       "        vertical-align: top;\n",
       "    }\n",
       "\n",
       "    .dataframe thead th {\n",
       "        text-align: right;\n",
       "    }\n",
       "</style>\n",
       "<table border=\"1\" class=\"dataframe\">\n",
       "  <thead>\n",
       "    <tr style=\"text-align: right;\">\n",
       "      <th></th>\n",
       "      <th>cat_1</th>\n",
       "      <th>cat_2</th>\n",
       "      <th>cat_3</th>\n",
       "      <th>cat_4</th>\n",
       "      <th>day</th>\n",
       "      <th>month</th>\n",
       "    </tr>\n",
       "  </thead>\n",
       "  <tbody>\n",
       "    <tr>\n",
       "      <th>0</th>\n",
       "      <td>0.0</td>\n",
       "      <td>Green</td>\n",
       "      <td>Circle</td>\n",
       "      <td>Big</td>\n",
       "      <td>1.0</td>\n",
       "      <td>10.0</td>\n",
       "    </tr>\n",
       "    <tr>\n",
       "      <th>1</th>\n",
       "      <td>0.0</td>\n",
       "      <td>Blue</td>\n",
       "      <td>Polygon</td>\n",
       "      <td>Average</td>\n",
       "      <td>2.0</td>\n",
       "      <td>6.0</td>\n",
       "    </tr>\n",
       "    <tr>\n",
       "      <th>2</th>\n",
       "      <td>0.0</td>\n",
       "      <td>Blue</td>\n",
       "      <td>Circle</td>\n",
       "      <td>Small</td>\n",
       "      <td>1.0</td>\n",
       "      <td>8.0</td>\n",
       "    </tr>\n",
       "    <tr>\n",
       "      <th>3</th>\n",
       "      <td>0.0</td>\n",
       "      <td>Green</td>\n",
       "      <td>Triangle</td>\n",
       "      <td>Average</td>\n",
       "      <td>5.0</td>\n",
       "      <td>12.0</td>\n",
       "    </tr>\n",
       "    <tr>\n",
       "      <th>4</th>\n",
       "      <td>0.0</td>\n",
       "      <td>Red</td>\n",
       "      <td>Square</td>\n",
       "      <td>Average</td>\n",
       "      <td>1.0</td>\n",
       "      <td>4.0</td>\n",
       "    </tr>\n",
       "  </tbody>\n",
       "</table>\n",
       "</div>"
      ],
      "text/plain": [
       "  cat_1  cat_2     cat_3    cat_4  day month\n",
       "0   0.0  Green    Circle      Big  1.0  10.0\n",
       "1   0.0   Blue   Polygon  Average  2.0   6.0\n",
       "2   0.0   Blue    Circle    Small  1.0   8.0\n",
       "3   0.0  Green  Triangle  Average  5.0  12.0\n",
       "4   0.0    Red    Square  Average  1.0   4.0"
      ]
     },
     "execution_count": 40,
     "metadata": {},
     "output_type": "execute_result"
    }
   ],
   "source": [
    "X_train_no_Nan.head(5)"
   ]
  },
  {
   "cell_type": "code",
   "execution_count": 57,
   "metadata": {
    "id": "xhNNk58oyTsK"
   },
   "outputs": [],
   "source": [
    "#Cyclical features: day and month\n",
    "#sin\n",
    "def CEncoding_sin(X, n):\n",
    "    x = np.sin((2* np.pi* X) / n)\n",
    "    return x\n",
    "\n",
    "X_CEncoding_train = X_train_no_Nan.copy()\n",
    "CEncoding_sin_train = pd.DataFrame({\n",
    "    \"day_sin\": X_CEnoding_train['day'].apply(lambda x: CEncoding_sin(x, 7)),\n",
    "    \"month_sin\": X_CEnoding_train['month'].apply(lambda x: CEncoding_sin(x, 12))\n",
    "})\n"
   ]
  },
  {
   "cell_type": "code",
   "execution_count": 58,
   "metadata": {},
   "outputs": [
    {
     "data": {
      "text/html": [
       "<div>\n",
       "<style scoped>\n",
       "    .dataframe tbody tr th:only-of-type {\n",
       "        vertical-align: middle;\n",
       "    }\n",
       "\n",
       "    .dataframe tbody tr th {\n",
       "        vertical-align: top;\n",
       "    }\n",
       "\n",
       "    .dataframe thead th {\n",
       "        text-align: right;\n",
       "    }\n",
       "</style>\n",
       "<table border=\"1\" class=\"dataframe\">\n",
       "  <thead>\n",
       "    <tr style=\"text-align: right;\">\n",
       "      <th></th>\n",
       "      <th>day_sin</th>\n",
       "      <th>month_sin</th>\n",
       "    </tr>\n",
       "  </thead>\n",
       "  <tbody>\n",
       "    <tr>\n",
       "      <th>0</th>\n",
       "      <td>0.781831</td>\n",
       "      <td>-8.660254e-01</td>\n",
       "    </tr>\n",
       "    <tr>\n",
       "      <th>1</th>\n",
       "      <td>0.974928</td>\n",
       "      <td>1.224647e-16</td>\n",
       "    </tr>\n",
       "    <tr>\n",
       "      <th>2</th>\n",
       "      <td>0.781831</td>\n",
       "      <td>-8.660254e-01</td>\n",
       "    </tr>\n",
       "    <tr>\n",
       "      <th>3</th>\n",
       "      <td>-0.974928</td>\n",
       "      <td>-2.449294e-16</td>\n",
       "    </tr>\n",
       "    <tr>\n",
       "      <th>4</th>\n",
       "      <td>0.781831</td>\n",
       "      <td>8.660254e-01</td>\n",
       "    </tr>\n",
       "    <tr>\n",
       "      <th>...</th>\n",
       "      <td>...</td>\n",
       "      <td>...</td>\n",
       "    </tr>\n",
       "    <tr>\n",
       "      <th>39995</th>\n",
       "      <td>0.781831</td>\n",
       "      <td>-8.660254e-01</td>\n",
       "    </tr>\n",
       "    <tr>\n",
       "      <th>39996</th>\n",
       "      <td>0.433884</td>\n",
       "      <td>-8.660254e-01</td>\n",
       "    </tr>\n",
       "    <tr>\n",
       "      <th>39997</th>\n",
       "      <td>0.433884</td>\n",
       "      <td>1.000000e+00</td>\n",
       "    </tr>\n",
       "    <tr>\n",
       "      <th>39998</th>\n",
       "      <td>0.433884</td>\n",
       "      <td>-8.660254e-01</td>\n",
       "    </tr>\n",
       "    <tr>\n",
       "      <th>39999</th>\n",
       "      <td>0.433884</td>\n",
       "      <td>-8.660254e-01</td>\n",
       "    </tr>\n",
       "  </tbody>\n",
       "</table>\n",
       "<p>40000 rows × 2 columns</p>\n",
       "</div>"
      ],
      "text/plain": [
       "        day_sin     month_sin\n",
       "0      0.781831 -8.660254e-01\n",
       "1      0.974928  1.224647e-16\n",
       "2      0.781831 -8.660254e-01\n",
       "3     -0.974928 -2.449294e-16\n",
       "4      0.781831  8.660254e-01\n",
       "...         ...           ...\n",
       "39995  0.781831 -8.660254e-01\n",
       "39996  0.433884 -8.660254e-01\n",
       "39997  0.433884  1.000000e+00\n",
       "39998  0.433884 -8.660254e-01\n",
       "39999  0.433884 -8.660254e-01\n",
       "\n",
       "[40000 rows x 2 columns]"
      ]
     },
     "execution_count": 58,
     "metadata": {},
     "output_type": "execute_result"
    }
   ],
   "source": [
    "CEncoding_sin_train"
   ]
  },
  {
   "cell_type": "markdown",
   "metadata": {
    "id": "8hZ28Z399IDF"
   },
   "source": [
    "**<font color='blue'>1.b. Do the same with $cos(2\\pi X/n)$.**"
   ]
  },
  {
   "cell_type": "code",
   "execution_count": 59,
   "metadata": {
    "id": "PMbVi0FYyUBP"
   },
   "outputs": [],
   "source": [
    "#cos\n",
    "def CEncoding_cos(X, n):\n",
    "    x = np.cos((2* np.pi* X) / n)\n",
    "    return x\n",
    "\n",
    "CEncoding_cos_train = pd.DataFrame({\n",
    "    \"day_cos\": X_CEnoding_train['day'].apply(lambda x: CEncoding_cos(x, 7)),\n",
    "    \"month_cos\": X_CEnoding_train['month'].apply(lambda x: CEncoding_cos(x, 12))\n",
    "})"
   ]
  },
  {
   "cell_type": "code",
   "execution_count": 60,
   "metadata": {},
   "outputs": [
    {
     "data": {
      "text/html": [
       "<div>\n",
       "<style scoped>\n",
       "    .dataframe tbody tr th:only-of-type {\n",
       "        vertical-align: middle;\n",
       "    }\n",
       "\n",
       "    .dataframe tbody tr th {\n",
       "        vertical-align: top;\n",
       "    }\n",
       "\n",
       "    .dataframe thead th {\n",
       "        text-align: right;\n",
       "    }\n",
       "</style>\n",
       "<table border=\"1\" class=\"dataframe\">\n",
       "  <thead>\n",
       "    <tr style=\"text-align: right;\">\n",
       "      <th></th>\n",
       "      <th>day_cos</th>\n",
       "      <th>month_cos</th>\n",
       "    </tr>\n",
       "  </thead>\n",
       "  <tbody>\n",
       "    <tr>\n",
       "      <th>0</th>\n",
       "      <td>0.623490</td>\n",
       "      <td>5.000000e-01</td>\n",
       "    </tr>\n",
       "    <tr>\n",
       "      <th>1</th>\n",
       "      <td>-0.222521</td>\n",
       "      <td>-1.000000e+00</td>\n",
       "    </tr>\n",
       "    <tr>\n",
       "      <th>2</th>\n",
       "      <td>0.623490</td>\n",
       "      <td>-5.000000e-01</td>\n",
       "    </tr>\n",
       "    <tr>\n",
       "      <th>3</th>\n",
       "      <td>-0.222521</td>\n",
       "      <td>1.000000e+00</td>\n",
       "    </tr>\n",
       "    <tr>\n",
       "      <th>4</th>\n",
       "      <td>0.623490</td>\n",
       "      <td>-5.000000e-01</td>\n",
       "    </tr>\n",
       "    <tr>\n",
       "      <th>...</th>\n",
       "      <td>...</td>\n",
       "      <td>...</td>\n",
       "    </tr>\n",
       "    <tr>\n",
       "      <th>39995</th>\n",
       "      <td>0.623490</td>\n",
       "      <td>-5.000000e-01</td>\n",
       "    </tr>\n",
       "    <tr>\n",
       "      <th>39996</th>\n",
       "      <td>-0.900969</td>\n",
       "      <td>-5.000000e-01</td>\n",
       "    </tr>\n",
       "    <tr>\n",
       "      <th>39997</th>\n",
       "      <td>-0.900969</td>\n",
       "      <td>6.123234e-17</td>\n",
       "    </tr>\n",
       "    <tr>\n",
       "      <th>39998</th>\n",
       "      <td>-0.900969</td>\n",
       "      <td>-5.000000e-01</td>\n",
       "    </tr>\n",
       "    <tr>\n",
       "      <th>39999</th>\n",
       "      <td>-0.900969</td>\n",
       "      <td>-5.000000e-01</td>\n",
       "    </tr>\n",
       "  </tbody>\n",
       "</table>\n",
       "<p>40000 rows × 2 columns</p>\n",
       "</div>"
      ],
      "text/plain": [
       "        day_cos     month_cos\n",
       "0      0.623490  5.000000e-01\n",
       "1     -0.222521 -1.000000e+00\n",
       "2      0.623490 -5.000000e-01\n",
       "3     -0.222521  1.000000e+00\n",
       "4      0.623490 -5.000000e-01\n",
       "...         ...           ...\n",
       "39995  0.623490 -5.000000e-01\n",
       "39996 -0.900969 -5.000000e-01\n",
       "39997 -0.900969  6.123234e-17\n",
       "39998 -0.900969 -5.000000e-01\n",
       "39999 -0.900969 -5.000000e-01\n",
       "\n",
       "[40000 rows x 2 columns]"
      ]
     },
     "execution_count": 60,
     "metadata": {},
     "output_type": "execute_result"
    }
   ],
   "source": [
    "CEncoding_cos_train"
   ]
  },
  {
   "cell_type": "markdown",
   "metadata": {
    "id": "40hVMQJ39To0"
   },
   "source": [
    "**<font color='blue'>2. Display the cosine and the sine values on a scatter plot.**"
   ]
  },
  {
   "cell_type": "code",
   "execution_count": 55,
   "metadata": {
    "id": "0DX748ZQyU3p"
   },
   "outputs": [
    {
     "data": {
      "image/png": "[encoded data removed]",
      "text/plain": [
       "<Figure size 720x360 with 2 Axes>"
      ]
     },
     "metadata": {
      "needs_background": "light"
     },
     "output_type": "display_data"
    }
   ],
   "source": [
    "plt.figure(figsize=(10,5))\n",
    "plt.subplot(121)\n",
    "plt.scatter(CEncoding_sin_train['day'], CEncoding_cos_train['day'])\n",
    "plt.subplot(122)\n",
    "plt.scatter(CEncoding_sin_train['month'], CEncoding_cos_train['month'])\n",
    "plt.show()"
   ]
  },
  {
   "cell_type": "markdown",
   "metadata": {
    "id": "huR1tIovIzSm"
   },
   "source": [
    "## Putting together"
   ]
  },
  {
   "cell_type": "markdown",
   "metadata": {
    "id": "FI19L2E2JORG"
   },
   "source": [
    "If the preprocessing steps are done separately, it is generally appropriate to concatenate them back into one unique dataset.\n",
    "\n",
    "It may be useful to use Pipelines such as the ColumnTransformer [from sklearn](https://scikit-learn.org/stable/modules/generated/sklearn.compose.ColumnTransformer.html#sklearn.compose.ColumnTransformer).\n",
    "\n",
    "**<font color='blue'>Concatenate all the encoded features back into one dataset.**"
   ]
  },
  {
   "cell_type": "code",
   "execution_count": 73,
   "metadata": {
    "id": "cAtS4Gr0JGJT"
   },
   "outputs": [
    {
     "ename": "NameError",
     "evalue": "name 'cat_1' is not defined",
     "output_type": "error",
     "traceback": [
      "\u001b[0;31m---------------------------------------------------------------------------\u001b[0m",
      "\u001b[0;31mNameError\u001b[0m                                 Traceback (most recent call last)",
      "Input \u001b[0;32mIn [73]\u001b[0m, in \u001b[0;36m<cell line: 6>\u001b[0;34m()\u001b[0m\n\u001b[1;32m      3\u001b[0m CEncoding_sin_train\n\u001b[1;32m      4\u001b[0m CEncoding_cos_train\n\u001b[1;32m      5\u001b[0m t \u001b[38;5;241m=\u001b[39m [\n\u001b[0;32m----> 6\u001b[0m     (\u001b[43mcat_1\u001b[49m, X_train_OrEncoding[\u001b[38;5;124m'\u001b[39m\u001b[38;5;124mcat_1\u001b[39m\u001b[38;5;124m'\u001b[39m], \u001b[38;5;241m0\u001b[39m),\n\u001b[1;32m      7\u001b[0m     (df_OHE_train\u001b[38;5;241m.\u001b[39mcolumns, df_OHE_train, [\u001b[38;5;241m1\u001b[39m,\u001b[38;5;241m2\u001b[39m,\u001b[38;5;241m3\u001b[39m,\u001b[38;5;241m4\u001b[39m,\u001b[38;5;241m5\u001b[39m,\u001b[38;5;241m6\u001b[39m,\u001b[38;5;241m7\u001b[39m,\u001b[38;5;241m8\u001b[39m,\u001b[38;5;241m9\u001b[39m]),\n\u001b[1;32m      8\u001b[0m     (cat_4, X_train_OrEncoding[\u001b[38;5;124m'\u001b[39m\u001b[38;5;124mcat_4\u001b[39m\u001b[38;5;124m'\u001b[39m], \u001b[38;5;241m10\u001b[39m),\n\u001b[1;32m      9\u001b[0m     (CEncoding_sin_train\u001b[38;5;241m.\u001b[39mcolumns, CEncoding_sin_train, [\u001b[38;5;241m11\u001b[39m,\u001b[38;5;241m12\u001b[39m]),\n\u001b[1;32m     10\u001b[0m     (CEncoding_cos_train\u001b[38;5;241m.\u001b[39mcolumns, CEncoding_cos_train, [\u001b[38;5;241m13\u001b[39m,\u001b[38;5;241m14\u001b[39m]),\n\u001b[1;32m     11\u001b[0m ]\n\u001b[1;32m     12\u001b[0m df_final \u001b[38;5;241m=\u001b[39m ColumnTransformer(transformers\u001b[38;5;241m=\u001b[39mt)\n",
      "\u001b[0;31mNameError\u001b[0m: name 'cat_1' is not defined"
     ]
    }
   ],
   "source": [
    "\n",
    "t = [\n",
    "    ('cat_1', X_train_OrEncoding['cat_1'], 0),\n",
    "    (df_OHE_train.columns, df_OHE_train, [1,2,3,4,5,6,7,8,9]),\n",
    "    ('cat_4', X_train_OrEncoding['cat_4'], 10),\n",
    "    ([''], CEncoding_sin_train, [11,12]),\n",
    "    (CEncoding_cos_train.columns, CEncoding_cos_train, [13,14]),\n",
    "]\n",
    "df_final = ColumnTransformer(transformers=t)"
   ]
  },
  {
   "cell_type": "code",
   "execution_count": 72,
   "metadata": {},
   "outputs": [
    {
     "ename": "ValueError",
     "evalue": "The truth value of a Index is ambiguous. Use a.empty, a.bool(), a.item(), a.any() or a.all().",
     "output_type": "error",
     "traceback": [
      "\u001b[0;31m---------------------------------------------------------------------------\u001b[0m",
      "\u001b[0;31mValueError\u001b[0m                                Traceback (most recent call last)",
      "File \u001b[0;32m~/opt/anaconda3/lib/python3.8/site-packages/IPython/core/formatters.py:973\u001b[0m, in \u001b[0;36mMimeBundleFormatter.__call__\u001b[0;34m(self, obj, include, exclude)\u001b[0m\n\u001b[1;32m    970\u001b[0m     method \u001b[38;5;241m=\u001b[39m get_real_method(obj, \u001b[38;5;28mself\u001b[39m\u001b[38;5;241m.\u001b[39mprint_method)\n\u001b[1;32m    972\u001b[0m     \u001b[38;5;28;01mif\u001b[39;00m method \u001b[38;5;129;01mis\u001b[39;00m \u001b[38;5;129;01mnot\u001b[39;00m \u001b[38;5;28;01mNone\u001b[39;00m:\n\u001b[0;32m--> 973\u001b[0m         \u001b[38;5;28;01mreturn\u001b[39;00m \u001b[43mmethod\u001b[49m\u001b[43m(\u001b[49m\u001b[43minclude\u001b[49m\u001b[38;5;241;43m=\u001b[39;49m\u001b[43minclude\u001b[49m\u001b[43m,\u001b[49m\u001b[43m \u001b[49m\u001b[43mexclude\u001b[49m\u001b[38;5;241;43m=\u001b[39;49m\u001b[43mexclude\u001b[49m\u001b[43m)\u001b[49m\n\u001b[1;32m    974\u001b[0m     \u001b[38;5;28;01mreturn\u001b[39;00m \u001b[38;5;28;01mNone\u001b[39;00m\n\u001b[1;32m    975\u001b[0m \u001b[38;5;28;01melse\u001b[39;00m:\n",
      "File \u001b[0;32m~/opt/anaconda3/lib/python3.8/site-packages/sklearn/base.py:631\u001b[0m, in \u001b[0;36mBaseEstimator._repr_mimebundle_\u001b[0;34m(self, **kwargs)\u001b[0m\n\u001b[1;32m    629\u001b[0m output \u001b[38;5;241m=\u001b[39m {\u001b[38;5;124m\"\u001b[39m\u001b[38;5;124mtext/plain\u001b[39m\u001b[38;5;124m\"\u001b[39m: \u001b[38;5;28mrepr\u001b[39m(\u001b[38;5;28mself\u001b[39m)}\n\u001b[1;32m    630\u001b[0m \u001b[38;5;28;01mif\u001b[39;00m get_config()[\u001b[38;5;124m\"\u001b[39m\u001b[38;5;124mdisplay\u001b[39m\u001b[38;5;124m\"\u001b[39m] \u001b[38;5;241m==\u001b[39m \u001b[38;5;124m\"\u001b[39m\u001b[38;5;124mdiagram\u001b[39m\u001b[38;5;124m\"\u001b[39m:\n\u001b[0;32m--> 631\u001b[0m     output[\u001b[38;5;124m\"\u001b[39m\u001b[38;5;124mtext/html\u001b[39m\u001b[38;5;124m\"\u001b[39m] \u001b[38;5;241m=\u001b[39m \u001b[43mestimator_html_repr\u001b[49m\u001b[43m(\u001b[49m\u001b[38;5;28;43mself\u001b[39;49m\u001b[43m)\u001b[49m\n\u001b[1;32m    632\u001b[0m \u001b[38;5;28;01mreturn\u001b[39;00m output\n",
      "File \u001b[0;32m~/opt/anaconda3/lib/python3.8/site-packages/sklearn/utils/_estimator_html_repr.py:410\u001b[0m, in \u001b[0;36mestimator_html_repr\u001b[0;34m(estimator)\u001b[0m\n\u001b[1;32m    396\u001b[0m fallback_msg \u001b[38;5;241m=\u001b[39m (\n\u001b[1;32m    397\u001b[0m     \u001b[38;5;124m\"\u001b[39m\u001b[38;5;124mIn a Jupyter environment, please rerun this cell to show the HTML\u001b[39m\u001b[38;5;124m\"\u001b[39m\n\u001b[1;32m    398\u001b[0m     \u001b[38;5;124m\"\u001b[39m\u001b[38;5;124m representation or trust the notebook. <br />On GitHub, the\u001b[39m\u001b[38;5;124m\"\u001b[39m\n\u001b[1;32m    399\u001b[0m     \u001b[38;5;124m\"\u001b[39m\u001b[38;5;124m HTML representation is unable to render, please try loading this page\u001b[39m\u001b[38;5;124m\"\u001b[39m\n\u001b[1;32m    400\u001b[0m     \u001b[38;5;124m\"\u001b[39m\u001b[38;5;124m with nbviewer.org.\u001b[39m\u001b[38;5;124m\"\u001b[39m\n\u001b[1;32m    401\u001b[0m )\n\u001b[1;32m    402\u001b[0m out\u001b[38;5;241m.\u001b[39mwrite(\n\u001b[1;32m    403\u001b[0m     \u001b[38;5;124mf\u001b[39m\u001b[38;5;124m\"\u001b[39m\u001b[38;5;124m<style>\u001b[39m\u001b[38;5;132;01m{\u001b[39;00mstyle_with_id\u001b[38;5;132;01m}\u001b[39;00m\u001b[38;5;124m</style>\u001b[39m\u001b[38;5;124m\"\u001b[39m\n\u001b[1;32m    404\u001b[0m     \u001b[38;5;124mf\u001b[39m\u001b[38;5;124m'\u001b[39m\u001b[38;5;124m<div id=\u001b[39m\u001b[38;5;124m\"\u001b[39m\u001b[38;5;132;01m{\u001b[39;00mcontainer_id\u001b[38;5;132;01m}\u001b[39;00m\u001b[38;5;124m\"\u001b[39m\u001b[38;5;124m class=\u001b[39m\u001b[38;5;124m\"\u001b[39m\u001b[38;5;124msk-top-container\u001b[39m\u001b[38;5;124m\"\u001b[39m\u001b[38;5;124m>\u001b[39m\u001b[38;5;124m'\u001b[39m\n\u001b[0;32m   (...)\u001b[0m\n\u001b[1;32m    408\u001b[0m     \u001b[38;5;124m'\u001b[39m\u001b[38;5;124m<div class=\u001b[39m\u001b[38;5;124m\"\u001b[39m\u001b[38;5;124msk-container\u001b[39m\u001b[38;5;124m\"\u001b[39m\u001b[38;5;124m hidden>\u001b[39m\u001b[38;5;124m'\u001b[39m\n\u001b[1;32m    409\u001b[0m )\n\u001b[0;32m--> 410\u001b[0m \u001b[43m_write_estimator_html\u001b[49m\u001b[43m(\u001b[49m\n\u001b[1;32m    411\u001b[0m \u001b[43m    \u001b[49m\u001b[43mout\u001b[49m\u001b[43m,\u001b[49m\n\u001b[1;32m    412\u001b[0m \u001b[43m    \u001b[49m\u001b[43mestimator\u001b[49m\u001b[43m,\u001b[49m\n\u001b[1;32m    413\u001b[0m \u001b[43m    \u001b[49m\u001b[43mestimator\u001b[49m\u001b[38;5;241;43m.\u001b[39;49m\u001b[38;5;18;43m__class__\u001b[39;49m\u001b[38;5;241;43m.\u001b[39;49m\u001b[38;5;18;43m__name__\u001b[39;49m\u001b[43m,\u001b[49m\n\u001b[1;32m    414\u001b[0m \u001b[43m    \u001b[49m\u001b[43mestimator_str\u001b[49m\u001b[43m,\u001b[49m\n\u001b[1;32m    415\u001b[0m \u001b[43m    \u001b[49m\u001b[43mfirst_call\u001b[49m\u001b[38;5;241;43m=\u001b[39;49m\u001b[38;5;28;43;01mTrue\u001b[39;49;00m\u001b[43m,\u001b[49m\n\u001b[1;32m    416\u001b[0m \u001b[43m\u001b[49m\u001b[43m)\u001b[49m\n\u001b[1;32m    417\u001b[0m out\u001b[38;5;241m.\u001b[39mwrite(\u001b[38;5;124m\"\u001b[39m\u001b[38;5;124m</div></div>\u001b[39m\u001b[38;5;124m\"\u001b[39m)\n\u001b[1;32m    419\u001b[0m html_output \u001b[38;5;241m=\u001b[39m out\u001b[38;5;241m.\u001b[39mgetvalue()\n",
      "File \u001b[0;32m~/opt/anaconda3/lib/python3.8/site-packages/sklearn/utils/_estimator_html_repr.py:168\u001b[0m, in \u001b[0;36m_write_estimator_html\u001b[0;34m(out, estimator, estimator_label, estimator_label_details, first_call)\u001b[0m\n\u001b[1;32m    166\u001b[0m         \u001b[38;5;66;03m# wrap element in a serial visualblock\u001b[39;00m\n\u001b[1;32m    167\u001b[0m         serial_block \u001b[38;5;241m=\u001b[39m _VisualBlock(\u001b[38;5;124m\"\u001b[39m\u001b[38;5;124mserial\u001b[39m\u001b[38;5;124m\"\u001b[39m, [est], dash_wrapped\u001b[38;5;241m=\u001b[39m\u001b[38;5;28;01mFalse\u001b[39;00m)\n\u001b[0;32m--> 168\u001b[0m         \u001b[43m_write_estimator_html\u001b[49m\u001b[43m(\u001b[49m\u001b[43mout\u001b[49m\u001b[43m,\u001b[49m\u001b[43m \u001b[49m\u001b[43mserial_block\u001b[49m\u001b[43m,\u001b[49m\u001b[43m \u001b[49m\u001b[43mname\u001b[49m\u001b[43m,\u001b[49m\u001b[43m \u001b[49m\u001b[43mname_details\u001b[49m\u001b[43m)\u001b[49m\n\u001b[1;32m    169\u001b[0m         out\u001b[38;5;241m.\u001b[39mwrite(\u001b[38;5;124m\"\u001b[39m\u001b[38;5;124m</div>\u001b[39m\u001b[38;5;124m\"\u001b[39m)  \u001b[38;5;66;03m# sk-parallel-item\u001b[39;00m\n\u001b[1;32m    171\u001b[0m out\u001b[38;5;241m.\u001b[39mwrite(\u001b[38;5;124m\"\u001b[39m\u001b[38;5;124m</div></div>\u001b[39m\u001b[38;5;124m\"\u001b[39m)\n",
      "File \u001b[0;32m~/opt/anaconda3/lib/python3.8/site-packages/sklearn/utils/_estimator_html_repr.py:154\u001b[0m, in \u001b[0;36m_write_estimator_html\u001b[0;34m(out, estimator, estimator_label, estimator_label_details, first_call)\u001b[0m\n\u001b[1;32m    151\u001b[0m dash_cls \u001b[38;5;241m=\u001b[39m \u001b[38;5;124m\"\u001b[39m\u001b[38;5;124m sk-dashed-wrapped\u001b[39m\u001b[38;5;124m\"\u001b[39m \u001b[38;5;28;01mif\u001b[39;00m dashed_wrapped \u001b[38;5;28;01melse\u001b[39;00m \u001b[38;5;124m\"\u001b[39m\u001b[38;5;124m\"\u001b[39m\n\u001b[1;32m    152\u001b[0m out\u001b[38;5;241m.\u001b[39mwrite(\u001b[38;5;124mf\u001b[39m\u001b[38;5;124m'\u001b[39m\u001b[38;5;124m<div class=\u001b[39m\u001b[38;5;124m\"\u001b[39m\u001b[38;5;124msk-item\u001b[39m\u001b[38;5;132;01m{\u001b[39;00mdash_cls\u001b[38;5;132;01m}\u001b[39;00m\u001b[38;5;124m\"\u001b[39m\u001b[38;5;124m>\u001b[39m\u001b[38;5;124m'\u001b[39m)\n\u001b[0;32m--> 154\u001b[0m \u001b[38;5;28;01mif\u001b[39;00m estimator_label:\n\u001b[1;32m    155\u001b[0m     _write_label_html(out, estimator_label, estimator_label_details)\n\u001b[1;32m    157\u001b[0m kind \u001b[38;5;241m=\u001b[39m est_block\u001b[38;5;241m.\u001b[39mkind\n",
      "File \u001b[0;32m~/opt/anaconda3/lib/python3.8/site-packages/pandas/core/indexes/base.py:3029\u001b[0m, in \u001b[0;36mIndex.__nonzero__\u001b[0;34m(self)\u001b[0m\n\u001b[1;32m   3027\u001b[0m \u001b[38;5;129m@final\u001b[39m\n\u001b[1;32m   3028\u001b[0m \u001b[38;5;28;01mdef\u001b[39;00m \u001b[38;5;21m__nonzero__\u001b[39m(\u001b[38;5;28mself\u001b[39m):\n\u001b[0;32m-> 3029\u001b[0m     \u001b[38;5;28;01mraise\u001b[39;00m \u001b[38;5;167;01mValueError\u001b[39;00m(\n\u001b[1;32m   3030\u001b[0m         \u001b[38;5;124mf\u001b[39m\u001b[38;5;124m\"\u001b[39m\u001b[38;5;124mThe truth value of a \u001b[39m\u001b[38;5;132;01m{\u001b[39;00m\u001b[38;5;28mtype\u001b[39m(\u001b[38;5;28mself\u001b[39m)\u001b[38;5;241m.\u001b[39m\u001b[38;5;18m__name__\u001b[39m\u001b[38;5;132;01m}\u001b[39;00m\u001b[38;5;124m is ambiguous. \u001b[39m\u001b[38;5;124m\"\u001b[39m\n\u001b[1;32m   3031\u001b[0m         \u001b[38;5;124m\"\u001b[39m\u001b[38;5;124mUse a.empty, a.bool(), a.item(), a.any() or a.all().\u001b[39m\u001b[38;5;124m\"\u001b[39m\n\u001b[1;32m   3032\u001b[0m     )\n",
      "\u001b[0;31mValueError\u001b[0m: The truth value of a Index is ambiguous. Use a.empty, a.bool(), a.item(), a.any() or a.all()."
     ]
    },
    {
     "ename": "ValueError",
     "evalue": "The truth value of a Index is ambiguous. Use a.empty, a.bool(), a.item(), a.any() or a.all().",
     "output_type": "error",
     "traceback": [
      "\u001b[0;31m---------------------------------------------------------------------------\u001b[0m",
      "\u001b[0;31mValueError\u001b[0m                                Traceback (most recent call last)",
      "File \u001b[0;32m~/opt/anaconda3/lib/python3.8/site-packages/IPython/core/formatters.py:343\u001b[0m, in \u001b[0;36mBaseFormatter.__call__\u001b[0;34m(self, obj)\u001b[0m\n\u001b[1;32m    341\u001b[0m     method \u001b[38;5;241m=\u001b[39m get_real_method(obj, \u001b[38;5;28mself\u001b[39m\u001b[38;5;241m.\u001b[39mprint_method)\n\u001b[1;32m    342\u001b[0m     \u001b[38;5;28;01mif\u001b[39;00m method \u001b[38;5;129;01mis\u001b[39;00m \u001b[38;5;129;01mnot\u001b[39;00m \u001b[38;5;28;01mNone\u001b[39;00m:\n\u001b[0;32m--> 343\u001b[0m         \u001b[38;5;28;01mreturn\u001b[39;00m \u001b[43mmethod\u001b[49m\u001b[43m(\u001b[49m\u001b[43m)\u001b[49m\n\u001b[1;32m    344\u001b[0m     \u001b[38;5;28;01mreturn\u001b[39;00m \u001b[38;5;28;01mNone\u001b[39;00m\n\u001b[1;32m    345\u001b[0m \u001b[38;5;28;01melse\u001b[39;00m:\n",
      "File \u001b[0;32m~/opt/anaconda3/lib/python3.8/site-packages/sklearn/base.py:625\u001b[0m, in \u001b[0;36mBaseEstimator._repr_html_inner\u001b[0;34m(self)\u001b[0m\n\u001b[1;32m    620\u001b[0m \u001b[38;5;28;01mdef\u001b[39;00m \u001b[38;5;21m_repr_html_inner\u001b[39m(\u001b[38;5;28mself\u001b[39m):\n\u001b[1;32m    621\u001b[0m     \u001b[38;5;124;03m\"\"\"This function is returned by the @property `_repr_html_` to make\u001b[39;00m\n\u001b[1;32m    622\u001b[0m \u001b[38;5;124;03m    `hasattr(estimator, \"_repr_html_\") return `True` or `False` depending\u001b[39;00m\n\u001b[1;32m    623\u001b[0m \u001b[38;5;124;03m    on `get_config()[\"display\"]`.\u001b[39;00m\n\u001b[1;32m    624\u001b[0m \u001b[38;5;124;03m    \"\"\"\u001b[39;00m\n\u001b[0;32m--> 625\u001b[0m     \u001b[38;5;28;01mreturn\u001b[39;00m \u001b[43mestimator_html_repr\u001b[49m\u001b[43m(\u001b[49m\u001b[38;5;28;43mself\u001b[39;49m\u001b[43m)\u001b[49m\n",
      "File \u001b[0;32m~/opt/anaconda3/lib/python3.8/site-packages/sklearn/utils/_estimator_html_repr.py:410\u001b[0m, in \u001b[0;36mestimator_html_repr\u001b[0;34m(estimator)\u001b[0m\n\u001b[1;32m    396\u001b[0m fallback_msg \u001b[38;5;241m=\u001b[39m (\n\u001b[1;32m    397\u001b[0m     \u001b[38;5;124m\"\u001b[39m\u001b[38;5;124mIn a Jupyter environment, please rerun this cell to show the HTML\u001b[39m\u001b[38;5;124m\"\u001b[39m\n\u001b[1;32m    398\u001b[0m     \u001b[38;5;124m\"\u001b[39m\u001b[38;5;124m representation or trust the notebook. <br />On GitHub, the\u001b[39m\u001b[38;5;124m\"\u001b[39m\n\u001b[1;32m    399\u001b[0m     \u001b[38;5;124m\"\u001b[39m\u001b[38;5;124m HTML representation is unable to render, please try loading this page\u001b[39m\u001b[38;5;124m\"\u001b[39m\n\u001b[1;32m    400\u001b[0m     \u001b[38;5;124m\"\u001b[39m\u001b[38;5;124m with nbviewer.org.\u001b[39m\u001b[38;5;124m\"\u001b[39m\n\u001b[1;32m    401\u001b[0m )\n\u001b[1;32m    402\u001b[0m out\u001b[38;5;241m.\u001b[39mwrite(\n\u001b[1;32m    403\u001b[0m     \u001b[38;5;124mf\u001b[39m\u001b[38;5;124m\"\u001b[39m\u001b[38;5;124m<style>\u001b[39m\u001b[38;5;132;01m{\u001b[39;00mstyle_with_id\u001b[38;5;132;01m}\u001b[39;00m\u001b[38;5;124m</style>\u001b[39m\u001b[38;5;124m\"\u001b[39m\n\u001b[1;32m    404\u001b[0m     \u001b[38;5;124mf\u001b[39m\u001b[38;5;124m'\u001b[39m\u001b[38;5;124m<div id=\u001b[39m\u001b[38;5;124m\"\u001b[39m\u001b[38;5;132;01m{\u001b[39;00mcontainer_id\u001b[38;5;132;01m}\u001b[39;00m\u001b[38;5;124m\"\u001b[39m\u001b[38;5;124m class=\u001b[39m\u001b[38;5;124m\"\u001b[39m\u001b[38;5;124msk-top-container\u001b[39m\u001b[38;5;124m\"\u001b[39m\u001b[38;5;124m>\u001b[39m\u001b[38;5;124m'\u001b[39m\n\u001b[0;32m   (...)\u001b[0m\n\u001b[1;32m    408\u001b[0m     \u001b[38;5;124m'\u001b[39m\u001b[38;5;124m<div class=\u001b[39m\u001b[38;5;124m\"\u001b[39m\u001b[38;5;124msk-container\u001b[39m\u001b[38;5;124m\"\u001b[39m\u001b[38;5;124m hidden>\u001b[39m\u001b[38;5;124m'\u001b[39m\n\u001b[1;32m    409\u001b[0m )\n\u001b[0;32m--> 410\u001b[0m \u001b[43m_write_estimator_html\u001b[49m\u001b[43m(\u001b[49m\n\u001b[1;32m    411\u001b[0m \u001b[43m    \u001b[49m\u001b[43mout\u001b[49m\u001b[43m,\u001b[49m\n\u001b[1;32m    412\u001b[0m \u001b[43m    \u001b[49m\u001b[43mestimator\u001b[49m\u001b[43m,\u001b[49m\n\u001b[1;32m    413\u001b[0m \u001b[43m    \u001b[49m\u001b[43mestimator\u001b[49m\u001b[38;5;241;43m.\u001b[39;49m\u001b[38;5;18;43m__class__\u001b[39;49m\u001b[38;5;241;43m.\u001b[39;49m\u001b[38;5;18;43m__name__\u001b[39;49m\u001b[43m,\u001b[49m\n\u001b[1;32m    414\u001b[0m \u001b[43m    \u001b[49m\u001b[43mestimator_str\u001b[49m\u001b[43m,\u001b[49m\n\u001b[1;32m    415\u001b[0m \u001b[43m    \u001b[49m\u001b[43mfirst_call\u001b[49m\u001b[38;5;241;43m=\u001b[39;49m\u001b[38;5;28;43;01mTrue\u001b[39;49;00m\u001b[43m,\u001b[49m\n\u001b[1;32m    416\u001b[0m \u001b[43m\u001b[49m\u001b[43m)\u001b[49m\n\u001b[1;32m    417\u001b[0m out\u001b[38;5;241m.\u001b[39mwrite(\u001b[38;5;124m\"\u001b[39m\u001b[38;5;124m</div></div>\u001b[39m\u001b[38;5;124m\"\u001b[39m)\n\u001b[1;32m    419\u001b[0m html_output \u001b[38;5;241m=\u001b[39m out\u001b[38;5;241m.\u001b[39mgetvalue()\n",
      "File \u001b[0;32m~/opt/anaconda3/lib/python3.8/site-packages/sklearn/utils/_estimator_html_repr.py:168\u001b[0m, in \u001b[0;36m_write_estimator_html\u001b[0;34m(out, estimator, estimator_label, estimator_label_details, first_call)\u001b[0m\n\u001b[1;32m    166\u001b[0m         \u001b[38;5;66;03m# wrap element in a serial visualblock\u001b[39;00m\n\u001b[1;32m    167\u001b[0m         serial_block \u001b[38;5;241m=\u001b[39m _VisualBlock(\u001b[38;5;124m\"\u001b[39m\u001b[38;5;124mserial\u001b[39m\u001b[38;5;124m\"\u001b[39m, [est], dash_wrapped\u001b[38;5;241m=\u001b[39m\u001b[38;5;28;01mFalse\u001b[39;00m)\n\u001b[0;32m--> 168\u001b[0m         \u001b[43m_write_estimator_html\u001b[49m\u001b[43m(\u001b[49m\u001b[43mout\u001b[49m\u001b[43m,\u001b[49m\u001b[43m \u001b[49m\u001b[43mserial_block\u001b[49m\u001b[43m,\u001b[49m\u001b[43m \u001b[49m\u001b[43mname\u001b[49m\u001b[43m,\u001b[49m\u001b[43m \u001b[49m\u001b[43mname_details\u001b[49m\u001b[43m)\u001b[49m\n\u001b[1;32m    169\u001b[0m         out\u001b[38;5;241m.\u001b[39mwrite(\u001b[38;5;124m\"\u001b[39m\u001b[38;5;124m</div>\u001b[39m\u001b[38;5;124m\"\u001b[39m)  \u001b[38;5;66;03m# sk-parallel-item\u001b[39;00m\n\u001b[1;32m    171\u001b[0m out\u001b[38;5;241m.\u001b[39mwrite(\u001b[38;5;124m\"\u001b[39m\u001b[38;5;124m</div></div>\u001b[39m\u001b[38;5;124m\"\u001b[39m)\n",
      "File \u001b[0;32m~/opt/anaconda3/lib/python3.8/site-packages/sklearn/utils/_estimator_html_repr.py:154\u001b[0m, in \u001b[0;36m_write_estimator_html\u001b[0;34m(out, estimator, estimator_label, estimator_label_details, first_call)\u001b[0m\n\u001b[1;32m    151\u001b[0m dash_cls \u001b[38;5;241m=\u001b[39m \u001b[38;5;124m\"\u001b[39m\u001b[38;5;124m sk-dashed-wrapped\u001b[39m\u001b[38;5;124m\"\u001b[39m \u001b[38;5;28;01mif\u001b[39;00m dashed_wrapped \u001b[38;5;28;01melse\u001b[39;00m \u001b[38;5;124m\"\u001b[39m\u001b[38;5;124m\"\u001b[39m\n\u001b[1;32m    152\u001b[0m out\u001b[38;5;241m.\u001b[39mwrite(\u001b[38;5;124mf\u001b[39m\u001b[38;5;124m'\u001b[39m\u001b[38;5;124m<div class=\u001b[39m\u001b[38;5;124m\"\u001b[39m\u001b[38;5;124msk-item\u001b[39m\u001b[38;5;132;01m{\u001b[39;00mdash_cls\u001b[38;5;132;01m}\u001b[39;00m\u001b[38;5;124m\"\u001b[39m\u001b[38;5;124m>\u001b[39m\u001b[38;5;124m'\u001b[39m)\n\u001b[0;32m--> 154\u001b[0m \u001b[38;5;28;01mif\u001b[39;00m estimator_label:\n\u001b[1;32m    155\u001b[0m     _write_label_html(out, estimator_label, estimator_label_details)\n\u001b[1;32m    157\u001b[0m kind \u001b[38;5;241m=\u001b[39m est_block\u001b[38;5;241m.\u001b[39mkind\n",
      "File \u001b[0;32m~/opt/anaconda3/lib/python3.8/site-packages/pandas/core/indexes/base.py:3029\u001b[0m, in \u001b[0;36mIndex.__nonzero__\u001b[0;34m(self)\u001b[0m\n\u001b[1;32m   3027\u001b[0m \u001b[38;5;129m@final\u001b[39m\n\u001b[1;32m   3028\u001b[0m \u001b[38;5;28;01mdef\u001b[39;00m \u001b[38;5;21m__nonzero__\u001b[39m(\u001b[38;5;28mself\u001b[39m):\n\u001b[0;32m-> 3029\u001b[0m     \u001b[38;5;28;01mraise\u001b[39;00m \u001b[38;5;167;01mValueError\u001b[39;00m(\n\u001b[1;32m   3030\u001b[0m         \u001b[38;5;124mf\u001b[39m\u001b[38;5;124m\"\u001b[39m\u001b[38;5;124mThe truth value of a \u001b[39m\u001b[38;5;132;01m{\u001b[39;00m\u001b[38;5;28mtype\u001b[39m(\u001b[38;5;28mself\u001b[39m)\u001b[38;5;241m.\u001b[39m\u001b[38;5;18m__name__\u001b[39m\u001b[38;5;132;01m}\u001b[39;00m\u001b[38;5;124m is ambiguous. \u001b[39m\u001b[38;5;124m\"\u001b[39m\n\u001b[1;32m   3031\u001b[0m         \u001b[38;5;124m\"\u001b[39m\u001b[38;5;124mUse a.empty, a.bool(), a.item(), a.any() or a.all().\u001b[39m\u001b[38;5;124m\"\u001b[39m\n\u001b[1;32m   3032\u001b[0m     )\n",
      "\u001b[0;31mValueError\u001b[0m: The truth value of a Index is ambiguous. Use a.empty, a.bool(), a.item(), a.any() or a.all()."
     ]
    },
    {
     "data": {
      "text/plain": [
       "ColumnTransformer(transformers=[('cat_1',\n",
       "                                 0        0.0\n",
       "1        0.0\n",
       "2        0.0\n",
       "3        0.0\n",
       "4        0.0\n",
       "        ... \n",
       "39995    0.0\n",
       "39996    0.0\n",
       "39997    0.0\n",
       "39998    0.0\n",
       "39999    0.0\n",
       "Name: cat_1, Length: 40000, dtype: object,\n",
       "                                 0),\n",
       "                                (Index(['cat_2_Red', 'cat_2_Green', 'cat_2_Blue', 'cat_3_Triangle',\n",
       "       'cat_3_Polygon', 'cat_3_Trapezoid', 'cat_3_Circle', 'cat_3_Square',\n",
       "       'cat_3_Rare'],\n",
       "      dtype='object'),\n",
       "                                        cat_2_Red  cat_2_Green  cat_2_Blue  cat_3_Triangle  cat_...\n",
       "                                 [11, 12]),\n",
       "                                (Index(['day_cos', 'month_cos'], dtype='object'),\n",
       "                                         day_cos     month_cos\n",
       "0      0.623490  5.000000e-01\n",
       "1     -0.222521 -1.000000e+00\n",
       "2      0.623490 -5.000000e-01\n",
       "3     -0.222521  1.000000e+00\n",
       "4      0.623490 -5.000000e-01\n",
       "...         ...           ...\n",
       "39995  0.623490 -5.000000e-01\n",
       "39996 -0.900969 -5.000000e-01\n",
       "39997 -0.900969  6.123234e-17\n",
       "39998 -0.900969 -5.000000e-01\n",
       "39999 -0.900969 -5.000000e-01\n",
       "\n",
       "[40000 rows x 2 columns],\n",
       "                                 [13, 14])])"
      ]
     },
     "execution_count": 72,
     "metadata": {},
     "output_type": "execute_result"
    }
   ],
   "source": [
    "df_final"
   ]
  },
  {
   "cell_type": "code",
   "execution_count": null,
   "metadata": {},
   "outputs": [],
   "source": []
  }
 ],
 "metadata": {
  "colab": {
   "collapsed_sections": [
    "xFVgAqSMH9Ki",
    "s-q4cXmfqegB",
    "Z8LZkvoGwMIe",
    "iHsYH_u23X5C",
    "lEXDkwy4xkCS",
    "0MM5KUWqxugb",
    "Ycc9fsNvxyVF"
   ],
   "provenance": []
  },
  "kernelspec": {
   "display_name": "Python 3 (ipykernel)",
   "language": "python",
   "name": "python3"
  },
  "language_info": {
   "codemirror_mode": {
    "name": "ipython",
    "version": 3
   },
   "file_extension": ".py",
   "mimetype": "text/x-python",
   "name": "python",
   "nbconvert_exporter": "python",
   "pygments_lexer": "ipython3",
   "version": "3.8.13"
  }
 },
 "nbformat": 4,
 "nbformat_minor": 1
}
