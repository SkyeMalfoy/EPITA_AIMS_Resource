{
 "cells": [
  {
   "cell_type": "markdown",
   "metadata": {
    "id": "68J-pJlzvlH2"
   },
   "source": [
    "*This Notebook was created by Antoine Palisson*"
   ]
  },
  {
   "cell_type": "code",
   "execution_count": null,
   "metadata": {
    "id": "S3ud0IgvVEME"
   },
   "outputs": [],
   "source": [
    "import matplotlib.pyplot as plt\n",
    "import seaborn as sns\n",
    "import pandas as pd\n",
    "import numpy as np"
   ]
  },
  {
   "cell_type": "markdown",
   "metadata": {
    "id": "phGtOwDLvtlr"
   },
   "source": [
    "This exercise focus on the preprocessing steps of **Categorical variables**.\n",
    "\n",
    "Only a fraction of the methods will be used in this Notebook, including:\n",
    "\n",
    "* Random & Stratified Splitting on a numerical target\n",
    "* Missing Data deletion & imputation\n",
    "* Outliers detection\n",
    "* Encoding the categories in 4 different ways\n",
    "\n",
    "Depending on the dataset, it may be interesting to use other methods seen in the lesson."
   ]
  },
  {
   "cell_type": "markdown",
   "metadata": {
    "id": "xFVgAqSMH9Ki"
   },
   "source": [
    "# Splitting, Missing & Outliers"
   ]
  },
  {
   "cell_type": "markdown",
   "metadata": {
    "id": "5XptBBKA6s--"
   },
   "source": [
    "**<font color='blue'>1. Load the modified cat in the dat dataset (`cat_in_the_dat_m.csv`) and show its content.**"
   ]
  },
  {
   "cell_type": "code",
   "execution_count": null,
   "metadata": {
    "colab": {
     "base_uri": "https://localhost:8080/"
    },
    "id": "PN-SU7qf1lNb",
    "outputId": "3248d040-0d1a-4723-a1d7-2195f97ec266"
   },
   "outputs": [
    {
     "data": {
      "text/html": [
       "\n",
       "  <div id=\"df-36d7e51a-c5a6-4481-833c-e8f96b0318be\">\n",
       "    <div class=\"colab-df-container\">\n",
       "      <div>\n",
       "<style scoped>\n",
       "    .dataframe tbody tr th:only-of-type {\n",
       "        vertical-align: middle;\n",
       "    }\n",
       "\n",
       "    .dataframe tbody tr th {\n",
       "        vertical-align: top;\n",
       "    }\n",
       "\n",
       "    .dataframe thead th {\n",
       "        text-align: right;\n",
       "    }\n",
       "</style>\n",
       "<table border=\"1\" class=\"dataframe\">\n",
       "  <thead>\n",
       "    <tr style=\"text-align: right;\">\n",
       "      <th></th>\n",
       "      <th>cat_1</th>\n",
       "      <th>cat_2</th>\n",
       "      <th>cat_3</th>\n",
       "      <th>cat_4</th>\n",
       "      <th>day</th>\n",
       "      <th>month</th>\n",
       "      <th>target</th>\n",
       "    </tr>\n",
       "  </thead>\n",
       "  <tbody>\n",
       "    <tr>\n",
       "      <th>0</th>\n",
       "      <td>0.0</td>\n",
       "      <td>Red</td>\n",
       "      <td>Trapezoid</td>\n",
       "      <td>Big</td>\n",
       "      <td>6.0</td>\n",
       "      <td>3.0</td>\n",
       "      <td>-0.343563</td>\n",
       "    </tr>\n",
       "    <tr>\n",
       "      <th>1</th>\n",
       "      <td>1.0</td>\n",
       "      <td>Red</td>\n",
       "      <td>Star</td>\n",
       "      <td>Big</td>\n",
       "      <td>7.0</td>\n",
       "      <td>7.0</td>\n",
       "      <td>-2.015235</td>\n",
       "    </tr>\n",
       "    <tr>\n",
       "      <th>2</th>\n",
       "      <td>0.0</td>\n",
       "      <td>Red</td>\n",
       "      <td>NaN</td>\n",
       "      <td>Big</td>\n",
       "      <td>5.0</td>\n",
       "      <td>9.0</td>\n",
       "      <td>4.260065</td>\n",
       "    </tr>\n",
       "    <tr>\n",
       "      <th>3</th>\n",
       "      <td>NaN</td>\n",
       "      <td>Red</td>\n",
       "      <td>Circle</td>\n",
       "      <td>Small</td>\n",
       "      <td>3.0</td>\n",
       "      <td>3.0</td>\n",
       "      <td>3.463973</td>\n",
       "    </tr>\n",
       "    <tr>\n",
       "      <th>4</th>\n",
       "      <td>0.0</td>\n",
       "      <td>Red</td>\n",
       "      <td>Triangle</td>\n",
       "      <td>Big</td>\n",
       "      <td>5.0</td>\n",
       "      <td>12.0</td>\n",
       "      <td>-3.730371</td>\n",
       "    </tr>\n",
       "  </tbody>\n",
       "</table>\n",
       "</div>\n",
       "      <button class=\"colab-df-convert\" onclick=\"convertToInteractive('df-36d7e51a-c5a6-4481-833c-e8f96b0318be')\"\n",
       "              title=\"Convert this dataframe to an interactive table.\"\n",
       "              style=\"display:none;\">\n",
       "        \n",
       "  <svg xmlns=\"http://www.w3.org/2000/svg\" height=\"24px\"viewBox=\"0 0 24 24\"\n",
       "       width=\"24px\">\n",
       "    <path d=\"M0 0h24v24H0V0z\" fill=\"none\"/>\n",
       "    <path d=\"M18.56 5.44l.94 2.06.94-2.06 2.06-.94-2.06-.94-.94-2.06-.94 2.06-2.06.94zm-11 1L8.5 8.5l.94-2.06 2.06-.94-2.06-.94L8.5 2.5l-.94 2.06-2.06.94zm10 10l.94 2.06.94-2.06 2.06-.94-2.06-.94-.94-2.06-.94 2.06-2.06.94z\"/><path d=\"M17.41 7.96l-1.37-1.37c-.4-.4-.92-.59-1.43-.59-.52 0-1.04.2-1.43.59L10.3 9.45l-7.72 7.72c-.78.78-.78 2.05 0 2.83L4 21.41c.39.39.9.59 1.41.59.51 0 1.02-.2 1.41-.59l7.78-7.78 2.81-2.81c.8-.78.8-2.07 0-2.86zM5.41 20L4 18.59l7.72-7.72 1.47 1.35L5.41 20z\"/>\n",
       "  </svg>\n",
       "      </button>\n",
       "      \n",
       "  <style>\n",
       "    .colab-df-container {\n",
       "      display:flex;\n",
       "      flex-wrap:wrap;\n",
       "      gap: 12px;\n",
       "    }\n",
       "\n",
       "    .colab-df-convert {\n",
       "      background-color: #E8F0FE;\n",
       "      border: none;\n",
       "      border-radius: 50%;\n",
       "      cursor: pointer;\n",
       "      display: none;\n",
       "      fill: #1967D2;\n",
       "      height: 32px;\n",
       "      padding: 0 0 0 0;\n",
       "      width: 32px;\n",
       "    }\n",
       "\n",
       "    .colab-df-convert:hover {\n",
       "      background-color: #E2EBFA;\n",
       "      box-shadow: 0px 1px 2px rgba(60, 64, 67, 0.3), 0px 1px 3px 1px rgba(60, 64, 67, 0.15);\n",
       "      fill: #174EA6;\n",
       "    }\n",
       "\n",
       "    [theme=dark] .colab-df-convert {\n",
       "      background-color: #3B4455;\n",
       "      fill: #D2E3FC;\n",
       "    }\n",
       "\n",
       "    [theme=dark] .colab-df-convert:hover {\n",
       "      background-color: #434B5C;\n",
       "      box-shadow: 0px 1px 3px 1px rgba(0, 0, 0, 0.15);\n",
       "      filter: drop-shadow(0px 1px 2px rgba(0, 0, 0, 0.3));\n",
       "      fill: #FFFFFF;\n",
       "    }\n",
       "  </style>\n",
       "\n",
       "      <script>\n",
       "        const buttonEl =\n",
       "          document.querySelector('#df-36d7e51a-c5a6-4481-833c-e8f96b0318be button.colab-df-convert');\n",
       "        buttonEl.style.display =\n",
       "          google.colab.kernel.accessAllowed ? 'block' : 'none';\n",
       "\n",
       "        async function convertToInteractive(key) {\n",
       "          const element = document.querySelector('#df-36d7e51a-c5a6-4481-833c-e8f96b0318be');\n",
       "          const dataTable =\n",
       "            await google.colab.kernel.invokeFunction('convertToInteractive',\n",
       "                                                     [key], {});\n",
       "          if (!dataTable) return;\n",
       "\n",
       "          const docLinkHtml = 'Like what you see? Visit the ' +\n",
       "            '<a target=\"_blank\" href=https://colab.research.google.com/notebooks/data_table.ipynb>data table notebook</a>'\n",
       "            + ' to learn more about interactive tables.';\n",
       "          element.innerHTML = '';\n",
       "          dataTable['output_type'] = 'display_data';\n",
       "          await google.colab.output.renderOutput(dataTable, element);\n",
       "          const docLink = document.createElement('div');\n",
       "          docLink.innerHTML = docLinkHtml;\n",
       "          element.appendChild(docLink);\n",
       "        }\n",
       "      </script>\n",
       "    </div>\n",
       "  </div>\n",
       "  "
      ],
      "text/plain": [
       "   cat_1 cat_2      cat_3  cat_4  day  month    target\n",
       "0    0.0   Red  Trapezoid    Big  6.0    3.0 -0.343563\n",
       "1    1.0   Red       Star    Big  7.0    7.0 -2.015235\n",
       "2    0.0   Red        NaN    Big  5.0    9.0  4.260065\n",
       "3    NaN   Red     Circle  Small  3.0    3.0  3.463973\n",
       "4    0.0   Red   Triangle    Big  5.0   12.0 -3.730371"
      ]
     },
     "execution_count": 2,
     "metadata": {},
     "output_type": "execute_result"
    }
   ],
   "source": [
    "cat = pd.read_csv('/content/drive/MyDrive/Cours/Machine Learning/Exercices/0_Datasets/cat_in_the_dat_m.csv')\n",
    "cat.head()"
   ]
  },
  {
   "cell_type": "markdown",
   "metadata": {
    "id": "pvCikc2EBH8s"
   },
   "source": [
    "The `.info()` method can be used on a dataframe to get a resume of its variables, length and missing values. This method has some parameters such as the **show_counts** parameter that can be either True or False, if True the method returns the number of non-missing values in the dataset.\n",
    "\n",
    "**<font color='blue'>2. Show a resume of the dataset variables, length and missing values.<br>Is there any missing variable ?**"
   ]
  },
  {
   "cell_type": "code",
   "execution_count": null,
   "metadata": {
    "colab": {
     "base_uri": "https://localhost:8080/"
    },
    "id": "T66ZynGbXP8u",
    "outputId": "38329644-fd44-4fb5-941b-9b7153d5afa9"
   },
   "outputs": [
    {
     "name": "stdout",
     "output_type": "stream",
     "text": [
      "<class 'pandas.core.frame.DataFrame'>\n",
      "RangeIndex: 50000 entries, 0 to 49999\n",
      "Data columns (total 7 columns):\n",
      " #   Column  Non-Null Count  Dtype  \n",
      "---  ------  --------------  -----  \n",
      " 0   cat_1   48504 non-null  float64\n",
      " 1   cat_2   48431 non-null  object \n",
      " 2   cat_3   48476 non-null  object \n",
      " 3   cat_4   48469 non-null  object \n",
      " 4   day     48463 non-null  float64\n",
      " 5   month   48543 non-null  float64\n",
      " 6   target  50000 non-null  float64\n",
      "dtypes: float64(4), object(3)\n",
      "memory usage: 2.7+ MB\n"
     ]
    }
   ],
   "source": [
    "# All the columns excepted the target have missing values\n",
    "cat.info()"
   ]
  },
  {
   "cell_type": "markdown",
   "metadata": {
    "id": "l2As3p8aVLTM"
   },
   "source": [
    "**<font color='blue'>3. What are the categorical type (nominal, ordinal or cyclical) of the features ?**"
   ]
  },
  {
   "cell_type": "code",
   "execution_count": null,
   "metadata": {
    "colab": {
     "base_uri": "https://localhost:8080/"
    },
    "id": "wy1e-nDOVTx8",
    "outputId": "4e6e3086-671d-4b49-daf6-83dd63d7ff35"
   },
   "outputs": [
    {
     "data": {
      "text/plain": [
       "0.0    43999\n",
       "1.0     4505\n",
       "Name: cat_1, dtype: int64"
      ]
     },
     "execution_count": 4,
     "metadata": {},
     "output_type": "execute_result"
    }
   ],
   "source": [
    "# Probably nominal\n",
    "cat['cat_1'].value_counts()"
   ]
  },
  {
   "cell_type": "code",
   "execution_count": null,
   "metadata": {
    "colab": {
     "base_uri": "https://localhost:8080/"
    },
    "id": "zO2bJfEkVisi",
    "outputId": "ffc3b772-7c69-4561-f8ca-f5c046e5c5ee"
   },
   "outputs": [
    {
     "data": {
      "text/plain": [
       "Red      26969\n",
       "Blue     17129\n",
       "Green     4333\n",
       "Name: cat_2, dtype: int64"
      ]
     },
     "execution_count": 5,
     "metadata": {},
     "output_type": "execute_result"
    }
   ],
   "source": [
    "# Colors --> No order --> Nominal\n",
    "cat['cat_2'].value_counts()"
   ]
  },
  {
   "cell_type": "code",
   "execution_count": null,
   "metadata": {
    "colab": {
     "base_uri": "https://localhost:8080/"
    },
    "id": "U3hvFZFOVpND",
    "outputId": "c249cde9-db6c-4421-ad46-5838c0289335"
   },
   "outputs": [
    {
     "data": {
      "text/plain": [
       "Triangle     13623\n",
       "Polygon      12668\n",
       "Trapezoid     9968\n",
       "Circle        8643\n",
       "Square        2186\n",
       "Star          1170\n",
       "Heart          168\n",
       "Diamond         50\n",
       "Name: cat_3, dtype: int64"
      ]
     },
     "execution_count": 6,
     "metadata": {},
     "output_type": "execute_result"
    }
   ],
   "source": [
    "# Shapes --> No order --> Nominal\n",
    "cat['cat_3'].value_counts()"
   ]
  },
  {
   "cell_type": "code",
   "execution_count": null,
   "metadata": {
    "colab": {
     "base_uri": "https://localhost:8080/"
    },
    "id": "87N-a0xoVr31",
    "outputId": "253f356a-a469-4657-ba12-21fa5a941ca6"
   },
   "outputs": [
    {
     "data": {
      "text/plain": [
       "Small      18909\n",
       "Big        16488\n",
       "Average    13072\n",
       "Name: cat_4, dtype: int64"
      ]
     },
     "execution_count": 7,
     "metadata": {},
     "output_type": "execute_result"
    }
   ],
   "source": [
    "# Sizes --> Ordered --> Ordinal\n",
    "cat['cat_4'].value_counts()"
   ]
  },
  {
   "cell_type": "code",
   "execution_count": null,
   "metadata": {
    "colab": {
     "base_uri": "https://localhost:8080/"
    },
    "id": "t2r8V7ujWqLD",
    "outputId": "60e2df33-856e-4394-de13-b62e797d08bf"
   },
   "outputs": [
    {
     "data": {
      "text/plain": [
       "3.0    9568\n",
       "5.0    9202\n",
       "6.0    8043\n",
       "7.0    7107\n",
       "1.0    7094\n",
       "2.0    5496\n",
       "4.0    1953\n",
       "Name: day, dtype: int64"
      ]
     },
     "execution_count": 8,
     "metadata": {},
     "output_type": "execute_result"
    }
   ],
   "source": [
    "# Day & month --> Cyclical\n",
    "cat['day'].value_counts()"
   ]
  },
  {
   "cell_type": "markdown",
   "metadata": {
    "id": "dRjjwFNkXq1s"
   },
   "source": [
    "**<font color='blue'>4. What is the type of the target ?**"
   ]
  },
  {
   "cell_type": "code",
   "execution_count": null,
   "metadata": {
    "colab": {
     "base_uri": "https://localhost:8080/"
    },
    "id": "5ahI7_r7XvHY",
    "outputId": "2f567fb8-4e47-4686-bcb7-d464602f0beb"
   },
   "outputs": [
    {
     "data": {
      "image/png": "[encoded data removed]",
      "text/plain": [
       "<Figure size 864x576 with 1 Axes>"
      ]
     },
     "metadata": {
      "needs_background": "light"
     },
     "output_type": "display_data"
    }
   ],
   "source": [
    "# It is a numerical target\n",
    "cat['target'].hist(bins=20, figsize=(12,8))\n",
    "plt.show()"
   ]
  },
  {
   "cell_type": "markdown",
   "metadata": {
    "id": "s-q4cXmfqegB"
   },
   "source": [
    "## Splitting"
   ]
  },
  {
   "cell_type": "markdown",
   "metadata": {
    "id": "3cYkY1UYqoSG"
   },
   "source": [
    "**<font color='blue'>1. Split the cat in the data dataset into 3 sets using the `train_test_split` function:**\n",
    "\n",
    "\n",
    "*   **<font color='blue'>Training (80% of the data)**\n",
    "*   **<font color='blue'>Validation (10% of the data)**\n",
    "*   **<font color='blue'>Testing (10% of the data)**"
   ]
  },
  {
   "cell_type": "code",
   "execution_count": null,
   "metadata": {
    "id": "anmAobAzqnGC"
   },
   "outputs": [],
   "source": [
    "from sklearn.model_selection import train_test_split\n",
    "cat_train, cat_test = train_test_split(cat, test_size=0.1, random_state=42)\n",
    "cat_train, cat_val = train_test_split(cat_train, test_size=0.1/(1-0.1), random_state=42)"
   ]
  },
  {
   "cell_type": "code",
   "execution_count": null,
   "metadata": {
    "colab": {
     "base_uri": "https://localhost:8080/"
    },
    "id": "SFLCvGVCvBgx",
    "outputId": "68e52852-33e2-4220-a87c-fbc49514f71d"
   },
   "outputs": [
    {
     "name": "stdout",
     "output_type": "stream",
     "text": [
      "Training shape   : (40000, 7) - 80%\n",
      "Validation shape : (5000, 7) - 10%\n",
      "Testing shape    : (5000, 7) - 10%\n"
     ]
    }
   ],
   "source": [
    "print(f'Training shape   : {cat_train.shape} - {len(cat_train)/50000:.0%}')\n",
    "print(f'Validation shape : {cat_val.shape} - {len(cat_val)/50000:.0%}')\n",
    "print(f'Testing shape    : {cat_test.shape} - {len(cat_test)/50000:.0%}')"
   ]
  },
  {
   "cell_type": "markdown",
   "metadata": {
    "id": "zFSMEHIut0_3"
   },
   "source": [
    "**<font color='blue'>2. Display the distribution of the training, the validation and the testing set.<br> Are they identical  ?**\n",
    "\n",
    "*Tips: You can use the `plot.kde()` or `plot.hist()`.*"
   ]
  },
  {
   "cell_type": "code",
   "execution_count": null,
   "metadata": {
    "colab": {
     "base_uri": "https://localhost:8080/"
    },
    "id": "0SzWwkn2uLF3",
    "outputId": "e3729d09-38f5-4705-b43f-a08b99d843b6"
   },
   "outputs": [
    {
     "data": {
      "image/png": "[encoded data removed]",
      "text/plain": [
       "<Figure size 720x576 with 1 Axes>"
      ]
     },
     "metadata": {
      "needs_background": "light"
     },
     "output_type": "display_data"
    }
   ],
   "source": [
    "# They are almost identical\n",
    "fig, ax = plt.subplots(1,1,figsize=(10,8))\n",
    "\n",
    "cat_train['target'].plot.kde(ax=ax, label='Training set')\n",
    "cat_test['target'].plot.kde(ax=ax, label='Testing set')\n",
    "cat_val['target'].plot.kde(ax=ax, label='Validation set')\n",
    "\n",
    "plt.legend()\n",
    "plt.show()"
   ]
  },
  {
   "cell_type": "markdown",
   "metadata": {
    "id": "_BzoYdHQuW7Z"
   },
   "source": [
    "The stratify parameter of the `train_test_split` function is typically used when you have a categorical target variable and you want to ensure that the same proportion of each category is represented in both the training and test sets. However, if you have a regression target variable, the stratify parameter is not directly applicable.\n",
    "\n",
    "In order to use the stratify parameter, it is possible to bin the numerical target variable into a categorical variable.\n",
    "\n",
    "**<font color='blue'>3.a. Transform the numerical target into a categorical target using a binning method.**\n",
    "\n",
    "*Tips: You can use `pd.cut()` or `pd.qcut()`*"
   ]
  },
  {
   "cell_type": "code",
   "execution_count": null,
   "metadata": {
    "colab": {
     "base_uri": "https://localhost:8080/"
    },
    "id": "lNotWLuwuo3k",
    "outputId": "0babf7e3-ef52-4316-8b65-561ba8be748b"
   },
   "outputs": [
    {
     "data": {
      "text/plain": [
       "(-9.795, -1.765]    5000\n",
       "(-1.765, -0.618]    5000\n",
       "(-0.618, 0.167]     5000\n",
       "(0.167, 0.878]      5000\n",
       "(0.878, 1.616]      5000\n",
       "(1.616, 2.418]      5000\n",
       "(2.418, 3.273]      5000\n",
       "(3.273, 4.286]      5000\n",
       "(4.286, 5.663]      5000\n",
       "(5.663, 15.308]     5000\n",
       "Name: target, dtype: int64"
      ]
     },
     "execution_count": 13,
     "metadata": {},
     "output_type": "execute_result"
    }
   ],
   "source": [
    "binned_target = pd.qcut(cat['target'], q=10)\n",
    "binned_target.value_counts()"
   ]
  },
  {
   "cell_type": "markdown",
   "metadata": {
    "id": "KNAy--NWbY7C"
   },
   "source": [
    "**<font color='blue'>3.b. Set the `stratify` parameter of the `train_test_split` function to the binned target column and re-create the training, validation and testing sets.**"
   ]
  },
  {
   "cell_type": "code",
   "execution_count": null,
   "metadata": {
    "id": "_n-cXuqObb6X"
   },
   "outputs": [],
   "source": [
    "# The binned_target is passed to the train_test_split function \n",
    "# because the binned_target of the training set will be use to generate the validation set\n",
    "\n",
    "cat_train, cat_test, bin_train, bin_test = train_test_split(cat, \n",
    "                                                            binned_target,\n",
    "                                                            test_size=0.1, \n",
    "                                                            random_state=42, \n",
    "                                                            stratify=binned_target)\n",
    "\n",
    "cat_train, cat_val = train_test_split(cat_train, \n",
    "                                      test_size=0.1/(1-0.1), \n",
    "                                      random_state=42, \n",
    "                                      stratify=bin_train)"
   ]
  },
  {
   "cell_type": "markdown",
   "metadata": {
    "id": "KkL-9rJJupmD"
   },
   "source": [
    "**<font color='blue'>4. Display the distribution of the training, the validation and the testing set.<br> Are they identical  ?**"
   ]
  },
  {
   "cell_type": "code",
   "execution_count": null,
   "metadata": {
    "colab": {
     "base_uri": "https://localhost:8080/"
    },
    "id": "OfzU9LN1wB87",
    "outputId": "3752f828-9aa4-4d74-8bd1-0fcc2b34ff74"
   },
   "outputs": [
    {
     "data": {
      "image/png": "[encoded data removed]",
      "text/plain": [
       "<Figure size 720x576 with 1 Axes>"
      ]
     },
     "metadata": {
      "needs_background": "light"
     },
     "output_type": "display_data"
    }
   ],
   "source": [
    "# The distributions are much more alike\n",
    "fig, ax = plt.subplots(1,1,figsize=(10,8))\n",
    "\n",
    "cat_train['target'].plot.kde(ax=ax, label='Training set')\n",
    "cat_test['target'].plot.kde(ax=ax, label='Testing set')\n",
    "cat_val['target'].plot.kde(ax=ax, label='Validation set')\n",
    "\n",
    "plt.legend()\n",
    "plt.show()"
   ]
  },
  {
   "cell_type": "markdown",
   "metadata": {
    "id": "vWGQi5Hy2PNN"
   },
   "source": [
    "**<font color='blue'>5. Separate the features from the target for the training, the validation and the testing sets.**"
   ]
  },
  {
   "cell_type": "code",
   "execution_count": null,
   "metadata": {
    "id": "APsQUuFf2WKg"
   },
   "outputs": [],
   "source": [
    "X_train = cat_train.copy()\n",
    "y_train = X_train.pop('target')\n",
    "\n",
    "X_val = cat_val.copy()\n",
    "y_val = X_val.pop('target')\n",
    "\n",
    "X_test = cat_test.copy()\n",
    "y_test = X_test.pop('target')"
   ]
  },
  {
   "cell_type": "markdown",
   "metadata": {
    "id": "Z8LZkvoGwMIe"
   },
   "source": [
    "## Missing data"
   ]
  },
  {
   "cell_type": "markdown",
   "metadata": {
    "id": "s0M22X7JwSaE"
   },
   "source": [
    "The missing values can be found in a dataframe using the `.isna()` method.\n",
    "\n",
    "**<font color='blue'>1. Count the number of NaN in the feature of the training cat in the dat dataframe.**\n",
    "\n",
    "*Tips: You can use the `.isna()` method and the `.sum()` method.*"
   ]
  },
  {
   "cell_type": "code",
   "execution_count": null,
   "metadata": {
    "colab": {
     "base_uri": "https://localhost:8080/"
    },
    "id": "8gIPFD2iwN3Z",
    "outputId": "77cea46a-23e3-4f10-d551-34d9d75ad695"
   },
   "outputs": [
    {
     "data": {
      "text/plain": [
       "cat_1    1222\n",
       "cat_2    1268\n",
       "cat_3    1219\n",
       "cat_4    1233\n",
       "day      1216\n",
       "month    1169\n",
       "dtype: int64"
      ]
     },
     "execution_count": 17,
     "metadata": {},
     "output_type": "execute_result"
    }
   ],
   "source": [
    "X_train.isna().sum()"
   ]
  },
  {
   "cell_type": "markdown",
   "metadata": {
    "id": "3HPcRreHyDa_"
   },
   "source": [
    "**<font color='blue'>2. Drop the missing values of the training set.<br>How many rows were removed ?**"
   ]
  },
  {
   "cell_type": "code",
   "execution_count": null,
   "metadata": {
    "colab": {
     "base_uri": "https://localhost:8080/"
    },
    "id": "xaKysgVFyDvj",
    "outputId": "ad6c27d0-7772-4862-e5d0-0113c530b5bd"
   },
   "outputs": [
    {
     "data": {
      "text/html": [
       "\n",
       "  <div id=\"df-bdd61092-ee4c-4751-9391-143b7863c324\">\n",
       "    <div class=\"colab-df-container\">\n",
       "      <div>\n",
       "<style scoped>\n",
       "    .dataframe tbody tr th:only-of-type {\n",
       "        vertical-align: middle;\n",
       "    }\n",
       "\n",
       "    .dataframe tbody tr th {\n",
       "        vertical-align: top;\n",
       "    }\n",
       "\n",
       "    .dataframe thead th {\n",
       "        text-align: right;\n",
       "    }\n",
       "</style>\n",
       "<table border=\"1\" class=\"dataframe\">\n",
       "  <thead>\n",
       "    <tr style=\"text-align: right;\">\n",
       "      <th></th>\n",
       "      <th>cat_1</th>\n",
       "      <th>cat_2</th>\n",
       "      <th>cat_3</th>\n",
       "      <th>cat_4</th>\n",
       "      <th>day</th>\n",
       "      <th>month</th>\n",
       "    </tr>\n",
       "  </thead>\n",
       "  <tbody>\n",
       "    <tr>\n",
       "      <th>38273</th>\n",
       "      <td>0.0</td>\n",
       "      <td>Red</td>\n",
       "      <td>Polygon</td>\n",
       "      <td>Big</td>\n",
       "      <td>3.0</td>\n",
       "      <td>1.0</td>\n",
       "    </tr>\n",
       "    <tr>\n",
       "      <th>38766</th>\n",
       "      <td>0.0</td>\n",
       "      <td>Blue</td>\n",
       "      <td>Circle</td>\n",
       "      <td>Small</td>\n",
       "      <td>6.0</td>\n",
       "      <td>8.0</td>\n",
       "    </tr>\n",
       "    <tr>\n",
       "      <th>35646</th>\n",
       "      <td>0.0</td>\n",
       "      <td>Blue</td>\n",
       "      <td>Polygon</td>\n",
       "      <td>Big</td>\n",
       "      <td>7.0</td>\n",
       "      <td>7.0</td>\n",
       "    </tr>\n",
       "    <tr>\n",
       "      <th>30536</th>\n",
       "      <td>0.0</td>\n",
       "      <td>Red</td>\n",
       "      <td>Triangle</td>\n",
       "      <td>Big</td>\n",
       "      <td>4.0</td>\n",
       "      <td>8.0</td>\n",
       "    </tr>\n",
       "    <tr>\n",
       "      <th>8541</th>\n",
       "      <td>0.0</td>\n",
       "      <td>Blue</td>\n",
       "      <td>Polygon</td>\n",
       "      <td>Small</td>\n",
       "      <td>1.0</td>\n",
       "      <td>9.0</td>\n",
       "    </tr>\n",
       "    <tr>\n",
       "      <th>...</th>\n",
       "      <td>...</td>\n",
       "      <td>...</td>\n",
       "      <td>...</td>\n",
       "      <td>...</td>\n",
       "      <td>...</td>\n",
       "      <td>...</td>\n",
       "    </tr>\n",
       "    <tr>\n",
       "      <th>4766</th>\n",
       "      <td>0.0</td>\n",
       "      <td>Red</td>\n",
       "      <td>Polygon</td>\n",
       "      <td>Big</td>\n",
       "      <td>5.0</td>\n",
       "      <td>1.0</td>\n",
       "    </tr>\n",
       "    <tr>\n",
       "      <th>43399</th>\n",
       "      <td>0.0</td>\n",
       "      <td>Red</td>\n",
       "      <td>Triangle</td>\n",
       "      <td>Small</td>\n",
       "      <td>6.0</td>\n",
       "      <td>3.0</td>\n",
       "    </tr>\n",
       "    <tr>\n",
       "      <th>15366</th>\n",
       "      <td>1.0</td>\n",
       "      <td>Blue</td>\n",
       "      <td>Polygon</td>\n",
       "      <td>Small</td>\n",
       "      <td>3.0</td>\n",
       "      <td>12.0</td>\n",
       "    </tr>\n",
       "    <tr>\n",
       "      <th>5868</th>\n",
       "      <td>0.0</td>\n",
       "      <td>Blue</td>\n",
       "      <td>Trapezoid</td>\n",
       "      <td>Small</td>\n",
       "      <td>5.0</td>\n",
       "      <td>11.0</td>\n",
       "    </tr>\n",
       "    <tr>\n",
       "      <th>12473</th>\n",
       "      <td>0.0</td>\n",
       "      <td>Red</td>\n",
       "      <td>Triangle</td>\n",
       "      <td>Small</td>\n",
       "      <td>4.0</td>\n",
       "      <td>6.0</td>\n",
       "    </tr>\n",
       "  </tbody>\n",
       "</table>\n",
       "<p>33196 rows × 6 columns</p>\n",
       "</div>\n",
       "      <button class=\"colab-df-convert\" onclick=\"convertToInteractive('df-bdd61092-ee4c-4751-9391-143b7863c324')\"\n",
       "              title=\"Convert this dataframe to an interactive table.\"\n",
       "              style=\"display:none;\">\n",
       "        \n",
       "  <svg xmlns=\"http://www.w3.org/2000/svg\" height=\"24px\"viewBox=\"0 0 24 24\"\n",
       "       width=\"24px\">\n",
       "    <path d=\"M0 0h24v24H0V0z\" fill=\"none\"/>\n",
       "    <path d=\"M18.56 5.44l.94 2.06.94-2.06 2.06-.94-2.06-.94-.94-2.06-.94 2.06-2.06.94zm-11 1L8.5 8.5l.94-2.06 2.06-.94-2.06-.94L8.5 2.5l-.94 2.06-2.06.94zm10 10l.94 2.06.94-2.06 2.06-.94-2.06-.94-.94-2.06-.94 2.06-2.06.94z\"/><path d=\"M17.41 7.96l-1.37-1.37c-.4-.4-.92-.59-1.43-.59-.52 0-1.04.2-1.43.59L10.3 9.45l-7.72 7.72c-.78.78-.78 2.05 0 2.83L4 21.41c.39.39.9.59 1.41.59.51 0 1.02-.2 1.41-.59l7.78-7.78 2.81-2.81c.8-.78.8-2.07 0-2.86zM5.41 20L4 18.59l7.72-7.72 1.47 1.35L5.41 20z\"/>\n",
       "  </svg>\n",
       "      </button>\n",
       "      \n",
       "  <style>\n",
       "    .colab-df-container {\n",
       "      display:flex;\n",
       "      flex-wrap:wrap;\n",
       "      gap: 12px;\n",
       "    }\n",
       "\n",
       "    .colab-df-convert {\n",
       "      background-color: #E8F0FE;\n",
       "      border: none;\n",
       "      border-radius: 50%;\n",
       "      cursor: pointer;\n",
       "      display: none;\n",
       "      fill: #1967D2;\n",
       "      height: 32px;\n",
       "      padding: 0 0 0 0;\n",
       "      width: 32px;\n",
       "    }\n",
       "\n",
       "    .colab-df-convert:hover {\n",
       "      background-color: #E2EBFA;\n",
       "      box-shadow: 0px 1px 2px rgba(60, 64, 67, 0.3), 0px 1px 3px 1px rgba(60, 64, 67, 0.15);\n",
       "      fill: #174EA6;\n",
       "    }\n",
       "\n",
       "    [theme=dark] .colab-df-convert {\n",
       "      background-color: #3B4455;\n",
       "      fill: #D2E3FC;\n",
       "    }\n",
       "\n",
       "    [theme=dark] .colab-df-convert:hover {\n",
       "      background-color: #434B5C;\n",
       "      box-shadow: 0px 1px 3px 1px rgba(0, 0, 0, 0.15);\n",
       "      filter: drop-shadow(0px 1px 2px rgba(0, 0, 0, 0.3));\n",
       "      fill: #FFFFFF;\n",
       "    }\n",
       "  </style>\n",
       "\n",
       "      <script>\n",
       "        const buttonEl =\n",
       "          document.querySelector('#df-bdd61092-ee4c-4751-9391-143b7863c324 button.colab-df-convert');\n",
       "        buttonEl.style.display =\n",
       "          google.colab.kernel.accessAllowed ? 'block' : 'none';\n",
       "\n",
       "        async function convertToInteractive(key) {\n",
       "          const element = document.querySelector('#df-bdd61092-ee4c-4751-9391-143b7863c324');\n",
       "          const dataTable =\n",
       "            await google.colab.kernel.invokeFunction('convertToInteractive',\n",
       "                                                     [key], {});\n",
       "          if (!dataTable) return;\n",
       "\n",
       "          const docLinkHtml = 'Like what you see? Visit the ' +\n",
       "            '<a target=\"_blank\" href=https://colab.research.google.com/notebooks/data_table.ipynb>data table notebook</a>'\n",
       "            + ' to learn more about interactive tables.';\n",
       "          element.innerHTML = '';\n",
       "          dataTable['output_type'] = 'display_data';\n",
       "          await google.colab.output.renderOutput(dataTable, element);\n",
       "          const docLink = document.createElement('div');\n",
       "          docLink.innerHTML = docLinkHtml;\n",
       "          element.appendChild(docLink);\n",
       "        }\n",
       "      </script>\n",
       "    </div>\n",
       "  </div>\n",
       "  "
      ],
      "text/plain": [
       "       cat_1 cat_2      cat_3  cat_4  day  month\n",
       "38273    0.0   Red    Polygon    Big  3.0    1.0\n",
       "38766    0.0  Blue     Circle  Small  6.0    8.0\n",
       "35646    0.0  Blue    Polygon    Big  7.0    7.0\n",
       "30536    0.0   Red   Triangle    Big  4.0    8.0\n",
       "8541     0.0  Blue    Polygon  Small  1.0    9.0\n",
       "...      ...   ...        ...    ...  ...    ...\n",
       "4766     0.0   Red    Polygon    Big  5.0    1.0\n",
       "43399    0.0   Red   Triangle  Small  6.0    3.0\n",
       "15366    1.0  Blue    Polygon  Small  3.0   12.0\n",
       "5868     0.0  Blue  Trapezoid  Small  5.0   11.0\n",
       "12473    0.0   Red   Triangle  Small  4.0    6.0\n",
       "\n",
       "[33196 rows x 6 columns]"
      ]
     },
     "execution_count": 18,
     "metadata": {},
     "output_type": "execute_result"
    }
   ],
   "source": [
    "# 6811 rows were removed .. about 17% of the dataset ! \n",
    "X_train.dropna()"
   ]
  },
  {
   "cell_type": "markdown",
   "metadata": {
    "id": "42Rga0BhxGQn"
   },
   "source": [
    "**<font color='blue'>3.a. Replace the missing values of the training set by their mode using the `SimpleImputer` from sklearn.<br>3.b. Get the mode values for each columns using the `statistics_` attribute.**"
   ]
  },
  {
   "cell_type": "code",
   "execution_count": null,
   "metadata": {
    "id": "hSklpTbVwVWn"
   },
   "outputs": [],
   "source": [
    "from sklearn.impute import SimpleImputer\n",
    "imp = SimpleImputer(strategy='most_frequent')\n",
    "X_train_no_nan = imp.fit_transform(X_train)"
   ]
  },
  {
   "cell_type": "code",
   "execution_count": null,
   "metadata": {
    "colab": {
     "base_uri": "https://localhost:8080/"
    },
    "id": "7rE4ProX0Uqd",
    "outputId": "5e3dba10-03bd-4fb6-da08-5b9da45ea748"
   },
   "outputs": [
    {
     "data": {
      "text/html": [
       "\n",
       "  <div id=\"df-a99ea84c-7276-4e14-8918-48c23361167b\">\n",
       "    <div class=\"colab-df-container\">\n",
       "      <div>\n",
       "<style scoped>\n",
       "    .dataframe tbody tr th:only-of-type {\n",
       "        vertical-align: middle;\n",
       "    }\n",
       "\n",
       "    .dataframe tbody tr th {\n",
       "        vertical-align: top;\n",
       "    }\n",
       "\n",
       "    .dataframe thead th {\n",
       "        text-align: right;\n",
       "    }\n",
       "</style>\n",
       "<table border=\"1\" class=\"dataframe\">\n",
       "  <thead>\n",
       "    <tr style=\"text-align: right;\">\n",
       "      <th></th>\n",
       "      <th>cat_1</th>\n",
       "      <th>cat_2</th>\n",
       "      <th>cat_3</th>\n",
       "      <th>cat_4</th>\n",
       "      <th>day</th>\n",
       "      <th>month</th>\n",
       "    </tr>\n",
       "  </thead>\n",
       "  <tbody>\n",
       "    <tr>\n",
       "      <th>0</th>\n",
       "      <td>0.0</td>\n",
       "      <td>Red</td>\n",
       "      <td>Polygon</td>\n",
       "      <td>Big</td>\n",
       "      <td>3.0</td>\n",
       "      <td>1.0</td>\n",
       "    </tr>\n",
       "    <tr>\n",
       "      <th>1</th>\n",
       "      <td>0.0</td>\n",
       "      <td>Red</td>\n",
       "      <td>Triangle</td>\n",
       "      <td>Small</td>\n",
       "      <td>5.0</td>\n",
       "      <td>2.0</td>\n",
       "    </tr>\n",
       "    <tr>\n",
       "      <th>2</th>\n",
       "      <td>0.0</td>\n",
       "      <td>Blue</td>\n",
       "      <td>Circle</td>\n",
       "      <td>Small</td>\n",
       "      <td>6.0</td>\n",
       "      <td>8.0</td>\n",
       "    </tr>\n",
       "    <tr>\n",
       "      <th>3</th>\n",
       "      <td>0.0</td>\n",
       "      <td>Blue</td>\n",
       "      <td>Trapezoid</td>\n",
       "      <td>Big</td>\n",
       "      <td>6.0</td>\n",
       "      <td>8.0</td>\n",
       "    </tr>\n",
       "    <tr>\n",
       "      <th>4</th>\n",
       "      <td>0.0</td>\n",
       "      <td>Blue</td>\n",
       "      <td>Polygon</td>\n",
       "      <td>Big</td>\n",
       "      <td>7.0</td>\n",
       "      <td>7.0</td>\n",
       "    </tr>\n",
       "  </tbody>\n",
       "</table>\n",
       "</div>\n",
       "      <button class=\"colab-df-convert\" onclick=\"convertToInteractive('df-a99ea84c-7276-4e14-8918-48c23361167b')\"\n",
       "              title=\"Convert this dataframe to an interactive table.\"\n",
       "              style=\"display:none;\">\n",
       "        \n",
       "  <svg xmlns=\"http://www.w3.org/2000/svg\" height=\"24px\"viewBox=\"0 0 24 24\"\n",
       "       width=\"24px\">\n",
       "    <path d=\"M0 0h24v24H0V0z\" fill=\"none\"/>\n",
       "    <path d=\"M18.56 5.44l.94 2.06.94-2.06 2.06-.94-2.06-.94-.94-2.06-.94 2.06-2.06.94zm-11 1L8.5 8.5l.94-2.06 2.06-.94-2.06-.94L8.5 2.5l-.94 2.06-2.06.94zm10 10l.94 2.06.94-2.06 2.06-.94-2.06-.94-.94-2.06-.94 2.06-2.06.94z\"/><path d=\"M17.41 7.96l-1.37-1.37c-.4-.4-.92-.59-1.43-.59-.52 0-1.04.2-1.43.59L10.3 9.45l-7.72 7.72c-.78.78-.78 2.05 0 2.83L4 21.41c.39.39.9.59 1.41.59.51 0 1.02-.2 1.41-.59l7.78-7.78 2.81-2.81c.8-.78.8-2.07 0-2.86zM5.41 20L4 18.59l7.72-7.72 1.47 1.35L5.41 20z\"/>\n",
       "  </svg>\n",
       "      </button>\n",
       "      \n",
       "  <style>\n",
       "    .colab-df-container {\n",
       "      display:flex;\n",
       "      flex-wrap:wrap;\n",
       "      gap: 12px;\n",
       "    }\n",
       "\n",
       "    .colab-df-convert {\n",
       "      background-color: #E8F0FE;\n",
       "      border: none;\n",
       "      border-radius: 50%;\n",
       "      cursor: pointer;\n",
       "      display: none;\n",
       "      fill: #1967D2;\n",
       "      height: 32px;\n",
       "      padding: 0 0 0 0;\n",
       "      width: 32px;\n",
       "    }\n",
       "\n",
       "    .colab-df-convert:hover {\n",
       "      background-color: #E2EBFA;\n",
       "      box-shadow: 0px 1px 2px rgba(60, 64, 67, 0.3), 0px 1px 3px 1px rgba(60, 64, 67, 0.15);\n",
       "      fill: #174EA6;\n",
       "    }\n",
       "\n",
       "    [theme=dark] .colab-df-convert {\n",
       "      background-color: #3B4455;\n",
       "      fill: #D2E3FC;\n",
       "    }\n",
       "\n",
       "    [theme=dark] .colab-df-convert:hover {\n",
       "      background-color: #434B5C;\n",
       "      box-shadow: 0px 1px 3px 1px rgba(0, 0, 0, 0.15);\n",
       "      filter: drop-shadow(0px 1px 2px rgba(0, 0, 0, 0.3));\n",
       "      fill: #FFFFFF;\n",
       "    }\n",
       "  </style>\n",
       "\n",
       "      <script>\n",
       "        const buttonEl =\n",
       "          document.querySelector('#df-a99ea84c-7276-4e14-8918-48c23361167b button.colab-df-convert');\n",
       "        buttonEl.style.display =\n",
       "          google.colab.kernel.accessAllowed ? 'block' : 'none';\n",
       "\n",
       "        async function convertToInteractive(key) {\n",
       "          const element = document.querySelector('#df-a99ea84c-7276-4e14-8918-48c23361167b');\n",
       "          const dataTable =\n",
       "            await google.colab.kernel.invokeFunction('convertToInteractive',\n",
       "                                                     [key], {});\n",
       "          if (!dataTable) return;\n",
       "\n",
       "          const docLinkHtml = 'Like what you see? Visit the ' +\n",
       "            '<a target=\"_blank\" href=https://colab.research.google.com/notebooks/data_table.ipynb>data table notebook</a>'\n",
       "            + ' to learn more about interactive tables.';\n",
       "          element.innerHTML = '';\n",
       "          dataTable['output_type'] = 'display_data';\n",
       "          await google.colab.output.renderOutput(dataTable, element);\n",
       "          const docLink = document.createElement('div');\n",
       "          docLink.innerHTML = docLinkHtml;\n",
       "          element.appendChild(docLink);\n",
       "        }\n",
       "      </script>\n",
       "    </div>\n",
       "  </div>\n",
       "  "
      ],
      "text/plain": [
       "  cat_1 cat_2      cat_3  cat_4  day month\n",
       "0   0.0   Red    Polygon    Big  3.0   1.0\n",
       "1   0.0   Red   Triangle  Small  5.0   2.0\n",
       "2   0.0  Blue     Circle  Small  6.0   8.0\n",
       "3   0.0  Blue  Trapezoid    Big  6.0   8.0\n",
       "4   0.0  Blue    Polygon    Big  7.0   7.0"
      ]
     },
     "execution_count": 20,
     "metadata": {},
     "output_type": "execute_result"
    }
   ],
   "source": [
    "# The output of the SimpleImputer is a numpy array\n",
    "# You can convert it back to a dataframe using the following syntax\n",
    "X_train_no_nan = pd.DataFrame(X_train_no_nan,\n",
    "                              columns=X_train.columns)\n",
    "X_train_no_nan.head()"
   ]
  },
  {
   "cell_type": "code",
   "execution_count": null,
   "metadata": {
    "colab": {
     "base_uri": "https://localhost:8080/"
    },
    "id": "VXl-D5EO06fY",
    "outputId": "62fd475d-f05b-4c8d-bf7d-73091bb94aba"
   },
   "outputs": [
    {
     "data": {
      "text/plain": [
       "cat_1    0\n",
       "cat_2    0\n",
       "cat_3    0\n",
       "cat_4    0\n",
       "day      0\n",
       "month    0\n",
       "dtype: int64"
      ]
     },
     "execution_count": 21,
     "metadata": {},
     "output_type": "execute_result"
    }
   ],
   "source": [
    "# All the missing values have been replaced by the median !\n",
    "X_train_no_nan.isna().sum()"
   ]
  },
  {
   "cell_type": "code",
   "execution_count": null,
   "metadata": {
    "colab": {
     "base_uri": "https://localhost:8080/"
    },
    "id": "QISvJ-Nm1u22",
    "outputId": "769d88bb-fdb6-4f0b-920d-d24f42483792"
   },
   "outputs": [
    {
     "name": "stdout",
     "output_type": "stream",
     "text": [
      "cat_1 - Mode = 0.0\n",
      "cat_2 - Mode = Red\n",
      "cat_3 - Mode = Triangle\n",
      "cat_4 - Mode = Small\n",
      "day   - Mode = 3.0\n",
      "month - Mode = 8.0\n"
     ]
    }
   ],
   "source": [
    "for col, stat in zip(X_train_no_nan.columns, imp.statistics_):\n",
    "    print(f\"{col:5} - Mode = {stat}\")"
   ]
  },
  {
   "cell_type": "markdown",
   "metadata": {
    "id": "MEUqSO2IyEAa"
   },
   "source": [
    "**<font color='blue'>4. Apply the missing values imputation to the validation and the testing sets.**\n",
    "\n",
    "*Tips: You must reuse the computations made on the training set (e.g. the median should not be calculated on the validation and the testing sets)*"
   ]
  },
  {
   "cell_type": "code",
   "execution_count": null,
   "metadata": {
    "id": "T6E6i0TJzUX6"
   },
   "outputs": [],
   "source": [
    "# .transform() NOT .fit()\n",
    "X_val_no_nan = imp.transform(X_val)\n",
    "X_test_no_nan = imp.transform(X_test)"
   ]
  },
  {
   "cell_type": "code",
   "execution_count": null,
   "metadata": {
    "colab": {
     "base_uri": "https://localhost:8080/"
    },
    "id": "G7Z3TMK1VkCT",
    "outputId": "567ef4f9-e6a3-46b9-831f-add3d2944d9c"
   },
   "outputs": [
    {
     "data": {
      "text/plain": [
       "cat_1    0\n",
       "cat_2    0\n",
       "cat_3    0\n",
       "cat_4    0\n",
       "day      0\n",
       "month    0\n",
       "dtype: int64"
      ]
     },
     "execution_count": 24,
     "metadata": {},
     "output_type": "execute_result"
    }
   ],
   "source": [
    "# No more missing values\n",
    "X_test_no_nan = pd.DataFrame(X_test_no_nan,\n",
    "                             columns=X_val.columns)\n",
    "X_test_no_nan.isna().sum()"
   ]
  },
  {
   "cell_type": "code",
   "execution_count": null,
   "metadata": {
    "colab": {
     "base_uri": "https://localhost:8080/"
    },
    "id": "Ua6n_OUOVp1I",
    "outputId": "921c8119-5e14-4cd0-97df-279baffcc845"
   },
   "outputs": [
    {
     "data": {
      "text/plain": [
       "cat_1    0\n",
       "cat_2    0\n",
       "cat_3    0\n",
       "cat_4    0\n",
       "day      0\n",
       "month    0\n",
       "dtype: int64"
      ]
     },
     "execution_count": 25,
     "metadata": {},
     "output_type": "execute_result"
    }
   ],
   "source": [
    "# No more missing values\n",
    "X_val_no_nan = pd.DataFrame(X_val_no_nan,\n",
    "                            columns=X_val.columns)\n",
    "X_val_no_nan.isna().sum()"
   ]
  },
  {
   "cell_type": "markdown",
   "metadata": {
    "id": "iHsYH_u23X5C"
   },
   "source": [
    "## Outliers"
   ]
  },
  {
   "cell_type": "markdown",
   "metadata": {
    "id": "hKB3MOxj30D5"
   },
   "source": [
    "In the following exercise, we will use the imputed feature training set.\n",
    "\n",
    "**<font color='blue'>1. Which categorical feature contain outliers ?**\n",
    "\n",
    "*Tips: Categorical outliers can be seen as \"rare\" category.*"
   ]
  },
  {
   "cell_type": "code",
   "execution_count": null,
   "metadata": {
    "colab": {
     "base_uri": "https://localhost:8080/"
    },
    "id": "xtuGuUvK3Zc8",
    "outputId": "74f4f1f7-fc47-4fba-eb51-024c95049d77"
   },
   "outputs": [
    {
     "data": {
      "text/plain": [
       "Triangle     12116\n",
       "Polygon      10089\n",
       "Trapezoid     8012\n",
       "Circle        6923\n",
       "Square        1756\n",
       "Star           921\n",
       "Heart          142\n",
       "Diamond         41\n",
       "Name: cat_3, dtype: int64"
      ]
     },
     "execution_count": 26,
     "metadata": {},
     "output_type": "execute_result"
    }
   ],
   "source": [
    "# The cat_3 feature contains two outliers : Heart & Diamond.\n",
    "X_train_no_nan['cat_3'].value_counts()"
   ]
  },
  {
   "cell_type": "markdown",
   "metadata": {
    "id": "WqrJH1ymgZcs"
   },
   "source": [
    "**<font color='blue'>2. Merge the outliers into one \"rare\" category.**"
   ]
  },
  {
   "cell_type": "code",
   "execution_count": null,
   "metadata": {
    "colab": {
     "base_uri": "https://localhost:8080/"
    },
    "id": "cInasXSQgqRR",
    "outputId": "a7a7e526-8ed1-4f40-8e43-b17b7562e6c5"
   },
   "outputs": [
    {
     "data": {
      "text/plain": [
       "Triangle     12116\n",
       "Polygon      10089\n",
       "Trapezoid     8012\n",
       "Circle        6923\n",
       "Square        1756\n",
       "Star           921\n",
       "Rare           183\n",
       "Name: cat_3, dtype: int64"
      ]
     },
     "execution_count": 27,
     "metadata": {},
     "output_type": "execute_result"
    }
   ],
   "source": [
    "X_train_no_nan['cat_3'] = X_train_no_nan['cat_3'].replace({'Heart':'Rare',\n",
    "                                                           'Diamond':'Rare'})\n",
    "X_train_no_nan['cat_3'].value_counts()"
   ]
  },
  {
   "cell_type": "markdown",
   "metadata": {
    "id": "gAfr6HsZhR-T"
   },
   "source": [
    "**<font color='blue'>3. Apply the outlier transformation to the validation and the testing sets.**"
   ]
  },
  {
   "cell_type": "code",
   "execution_count": null,
   "metadata": {
    "id": "vDAU-9HBhbDu"
   },
   "outputs": [],
   "source": [
    "X_test_no_nan['cat_3'] = X_test_no_nan['cat_3'].replace({'Heart':'Rare',\n",
    "                                                         'Diamond':'Rare'})\n",
    "X_val_no_nan['cat_3'] = X_val_no_nan['cat_3'].replace({'Heart':'Rare',\n",
    "                                                       'Diamond':'Rare'})"
   ]
  },
  {
   "cell_type": "markdown",
   "metadata": {
    "id": "rvuYgZJzvdcI"
   },
   "source": [
    "# Transformation"
   ]
  },
  {
   "cell_type": "markdown",
   "metadata": {
    "id": "PyD9XTY3x2am"
   },
   "source": [
    "**In the following exercise, we will use the cleaned cat in the dat training dataset <br>*i.e. the dataset without any missing values and outliers obtained at the previous exercise.***"
   ]
  },
  {
   "cell_type": "markdown",
   "metadata": {
    "id": "lEXDkwy4xkCS"
   },
   "source": [
    "## Ordinal Encoding"
   ]
  },
  {
   "cell_type": "markdown",
   "metadata": {
    "id": "QI8dd5uEz4Ej"
   },
   "source": [
    "Ordinal encoding is a technique for encoding categorical features as numerical values in a way that preserves the order or ranking of the categories.\n",
    "\n",
    "The scikit-learn library provides a convenient OrdinalEncoder class for performing ordinal encoding on categorical features. The OrdinalEncoder class takes a list of categorical features as input and returns a numerical array with the same shape as the input, where each categorical value is replaced with a numerical value based on its order or ranking.\n",
    "\n",
    "Here are some of the most useful parameters:\n",
    "\n",
    "* **`categories`**: This parameter can be used to explicitly specify the categories for each feature. It should be a list of lists, where each inner list contains the categories for the corresponding feature. If this parameter is not provided, the encoder will automatically infer the categories from the input data.\n",
    "\n",
    "* **`handle_unknown`**: This parameter specifies how to handle unknown categories that are encountered during the transformation. It can be set to error to raise an error or use_encoded_value to assign the value -1 to unknown categories.\n",
    "\n",
    "* **`unknown_value`**: This parameter specifies the value to assign to unknown categories if handle_unknown is set to value. By default, it is set to None, which means that the encoder will raise an error if it encounters unknown categories.\n",
    "\n",
    "Ordinal Encoder can be used as follows:\n",
    "\n",
    "```\n",
    "encoder = OrdinalEncoder(...)\n",
    "encoder.fit(X_train)\n",
    "X_train_enc = encoder.transform(X_train)\n",
    "```\n",
    "\n",
    "**<font color='blue'>1. Apply the Ordinal Encoding to the ordinal feature(s) of the dataset.**\n",
    "\n",
    "*Tips: Specify the feature categories in the correct order in the categories parameter*"
   ]
  },
  {
   "cell_type": "code",
   "execution_count": null,
   "metadata": {
    "colab": {
     "base_uri": "https://localhost:8080/"
    },
    "id": "RGSaOv3inpyC",
    "outputId": "e642385f-2b6a-44ee-f7c9-27942a3686d3"
   },
   "outputs": [
    {
     "data": {
      "text/plain": [
       "array([[2.],\n",
       "       [0.],\n",
       "       [0.],\n",
       "       ...,\n",
       "       [2.],\n",
       "       [0.],\n",
       "       [0.]])"
      ]
     },
     "execution_count": 29,
     "metadata": {},
     "output_type": "execute_result"
    }
   ],
   "source": [
    "from sklearn.preprocessing import OrdinalEncoder\n",
    "\n",
    "# 'Small' < 'Average'< 'Big' \n",
    "ord = OrdinalEncoder(categories=[['Small','Average','Big']],\n",
    "                     handle_unknown='use_encoded_value',\n",
    "                     unknown_value=-1)\n",
    "\n",
    "ord.fit(X_train_no_nan[['cat_4']])\n",
    "ordinal_ord = ord.transform(X_train_no_nan[['cat_4']])\n",
    "ordinal_ord"
   ]
  },
  {
   "cell_type": "markdown",
   "metadata": {
    "id": "wWLTnkTdqOtN"
   },
   "source": [
    "Standardizing the output of ordinal encoding is generally not necessary if the feature is already ordinal. <br>However, **if the ordinal feature has a large range or if its values have a large variance, it may be beneficial to standardize the output of ordinal encoding.**\n",
    "\n",
    "As always in Machine Learning, there is no free meal.<br> Thus, it is appropriate to try different preprocessing.\n",
    "\n",
    "**<font color='blue'>2. Just for the example, scale the output of the ordinal encoding.**\n",
    "\n",
    "*Tips: You can using z-score scaling, min-max scaling, absolute max scaling ...*"
   ]
  },
  {
   "cell_type": "code",
   "execution_count": null,
   "metadata": {
    "id": "HV6EEH3IrLi_"
   },
   "outputs": [],
   "source": [
    "from sklearn.preprocessing import StandardScaler\n",
    "\n",
    "std = StandardScaler()\n",
    "ordinal_ord = std.fit_transform(ordinal_ord)"
   ]
  },
  {
   "cell_type": "code",
   "execution_count": null,
   "metadata": {
    "colab": {
     "base_uri": "https://localhost:8080/",
     "height": 206
    },
    "id": "M6A5dkGwNH51",
    "outputId": "3dc8b96f-3145-451c-cb47-f11ee0db6e78"
   },
   "outputs": [
    {
     "data": {
      "text/html": [
       "\n",
       "  <div id=\"df-1eed792d-7d59-46a0-ac0a-724e5c16ab14\">\n",
       "    <div class=\"colab-df-container\">\n",
       "      <div>\n",
       "<style scoped>\n",
       "    .dataframe tbody tr th:only-of-type {\n",
       "        vertical-align: middle;\n",
       "    }\n",
       "\n",
       "    .dataframe tbody tr th {\n",
       "        vertical-align: top;\n",
       "    }\n",
       "\n",
       "    .dataframe thead th {\n",
       "        text-align: right;\n",
       "    }\n",
       "</style>\n",
       "<table border=\"1\" class=\"dataframe\">\n",
       "  <thead>\n",
       "    <tr style=\"text-align: right;\">\n",
       "      <th></th>\n",
       "      <th>cat_4_enc</th>\n",
       "    </tr>\n",
       "  </thead>\n",
       "  <tbody>\n",
       "    <tr>\n",
       "      <th>0</th>\n",
       "      <td>1.261352</td>\n",
       "    </tr>\n",
       "    <tr>\n",
       "      <th>1</th>\n",
       "      <td>-1.075405</td>\n",
       "    </tr>\n",
       "    <tr>\n",
       "      <th>2</th>\n",
       "      <td>-1.075405</td>\n",
       "    </tr>\n",
       "    <tr>\n",
       "      <th>3</th>\n",
       "      <td>1.261352</td>\n",
       "    </tr>\n",
       "    <tr>\n",
       "      <th>4</th>\n",
       "      <td>1.261352</td>\n",
       "    </tr>\n",
       "  </tbody>\n",
       "</table>\n",
       "</div>\n",
       "      <button class=\"colab-df-convert\" onclick=\"convertToInteractive('df-1eed792d-7d59-46a0-ac0a-724e5c16ab14')\"\n",
       "              title=\"Convert this dataframe to an interactive table.\"\n",
       "              style=\"display:none;\">\n",
       "        \n",
       "  <svg xmlns=\"http://www.w3.org/2000/svg\" height=\"24px\"viewBox=\"0 0 24 24\"\n",
       "       width=\"24px\">\n",
       "    <path d=\"M0 0h24v24H0V0z\" fill=\"none\"/>\n",
       "    <path d=\"M18.56 5.44l.94 2.06.94-2.06 2.06-.94-2.06-.94-.94-2.06-.94 2.06-2.06.94zm-11 1L8.5 8.5l.94-2.06 2.06-.94-2.06-.94L8.5 2.5l-.94 2.06-2.06.94zm10 10l.94 2.06.94-2.06 2.06-.94-2.06-.94-.94-2.06-.94 2.06-2.06.94z\"/><path d=\"M17.41 7.96l-1.37-1.37c-.4-.4-.92-.59-1.43-.59-.52 0-1.04.2-1.43.59L10.3 9.45l-7.72 7.72c-.78.78-.78 2.05 0 2.83L4 21.41c.39.39.9.59 1.41.59.51 0 1.02-.2 1.41-.59l7.78-7.78 2.81-2.81c.8-.78.8-2.07 0-2.86zM5.41 20L4 18.59l7.72-7.72 1.47 1.35L5.41 20z\"/>\n",
       "  </svg>\n",
       "      </button>\n",
       "      \n",
       "  <style>\n",
       "    .colab-df-container {\n",
       "      display:flex;\n",
       "      flex-wrap:wrap;\n",
       "      gap: 12px;\n",
       "    }\n",
       "\n",
       "    .colab-df-convert {\n",
       "      background-color: #E8F0FE;\n",
       "      border: none;\n",
       "      border-radius: 50%;\n",
       "      cursor: pointer;\n",
       "      display: none;\n",
       "      fill: #1967D2;\n",
       "      height: 32px;\n",
       "      padding: 0 0 0 0;\n",
       "      width: 32px;\n",
       "    }\n",
       "\n",
       "    .colab-df-convert:hover {\n",
       "      background-color: #E2EBFA;\n",
       "      box-shadow: 0px 1px 2px rgba(60, 64, 67, 0.3), 0px 1px 3px 1px rgba(60, 64, 67, 0.15);\n",
       "      fill: #174EA6;\n",
       "    }\n",
       "\n",
       "    [theme=dark] .colab-df-convert {\n",
       "      background-color: #3B4455;\n",
       "      fill: #D2E3FC;\n",
       "    }\n",
       "\n",
       "    [theme=dark] .colab-df-convert:hover {\n",
       "      background-color: #434B5C;\n",
       "      box-shadow: 0px 1px 3px 1px rgba(0, 0, 0, 0.15);\n",
       "      filter: drop-shadow(0px 1px 2px rgba(0, 0, 0, 0.3));\n",
       "      fill: #FFFFFF;\n",
       "    }\n",
       "  </style>\n",
       "\n",
       "      <script>\n",
       "        const buttonEl =\n",
       "          document.querySelector('#df-1eed792d-7d59-46a0-ac0a-724e5c16ab14 button.colab-df-convert');\n",
       "        buttonEl.style.display =\n",
       "          google.colab.kernel.accessAllowed ? 'block' : 'none';\n",
       "\n",
       "        async function convertToInteractive(key) {\n",
       "          const element = document.querySelector('#df-1eed792d-7d59-46a0-ac0a-724e5c16ab14');\n",
       "          const dataTable =\n",
       "            await google.colab.kernel.invokeFunction('convertToInteractive',\n",
       "                                                     [key], {});\n",
       "          if (!dataTable) return;\n",
       "\n",
       "          const docLinkHtml = 'Like what you see? Visit the ' +\n",
       "            '<a target=\"_blank\" href=https://colab.research.google.com/notebooks/data_table.ipynb>data table notebook</a>'\n",
       "            + ' to learn more about interactive tables.';\n",
       "          element.innerHTML = '';\n",
       "          dataTable['output_type'] = 'display_data';\n",
       "          await google.colab.output.renderOutput(dataTable, element);\n",
       "          const docLink = document.createElement('div');\n",
       "          docLink.innerHTML = docLinkHtml;\n",
       "          element.appendChild(docLink);\n",
       "        }\n",
       "      </script>\n",
       "    </div>\n",
       "  </div>\n",
       "  "
      ],
      "text/plain": [
       "   cat_4_enc\n",
       "0   1.261352\n",
       "1  -1.075405\n",
       "2  -1.075405\n",
       "3   1.261352\n",
       "4   1.261352"
      ]
     },
     "execution_count": 46,
     "metadata": {},
     "output_type": "execute_result"
    }
   ],
   "source": [
    "ordinal_ord = pd.DataFrame(ordinal_ord,\n",
    "                           columns=['cat_4_enc'])\n",
    "ordinal_ord.head()"
   ]
  },
  {
   "cell_type": "markdown",
   "metadata": {
    "id": "ZxISsv5exJup"
   },
   "source": [
    "**<font color='blue'>3. Apply the Ordinal Encoding and the scaling on the ordinal feature(s) of the test set and the validation set.**"
   ]
  },
  {
   "cell_type": "code",
   "execution_count": null,
   "metadata": {
    "id": "OWYBGuFYxJup"
   },
   "outputs": [],
   "source": [
    "ordinal_val = ord.transform(X_val_no_nan[['cat_4']])\n",
    "ordinal_val = std.transform(ordinal_val)\n",
    "ordinal_test = ord.transform(X_test_no_nan[['cat_4']])\n",
    "ordinal_test = std.transform(ordinal_test)"
   ]
  },
  {
   "cell_type": "markdown",
   "metadata": {
    "id": "0MM5KUWqxugb"
   },
   "source": [
    "## One Hot Encoding"
   ]
  },
  {
   "cell_type": "markdown",
   "metadata": {
    "id": "hNBhTTNS1Gyt"
   },
   "source": [
    "**One Hot encoding** is a technique for encoding categorical features as binary vectors in a way that enables machine learning algorithms to treat each category as a separate feature.\n",
    "\n",
    "The scikit-learn library provides a convenient OneHotEncoder class for performing One Hot encoding on categorical features. The OneHotEncoder class takes a list of categorical features as input and returns a sparse matrix with the same number of rows as the input, where each row is a binary vector representing the presence or absence of each category.\n",
    "\n",
    "Here are some of the most useful parameters:\n",
    "\n",
    "* **`categories`**: This parameter can be used to explicitly specify the categories for each feature. It should be a list of lists, where each inner list contains the categories for the corresponding feature. If this parameter is not provided, the encoder will automatically infer the categories from the input data.\n",
    "\n",
    "* **`drop`**: This parameter specifies whether to drop one of the categories for each feature to avoid collinearity. By default, it is set to None, which means that all categories are kept. If it is set to `first`, the first category in each feature will be dropped, and if it is set to `if_binary`, it drops the first category in each feature with two categories.\n",
    "\n",
    "* **`handle_unknown`**: This parameter specifies how to handle unknown categories that are encountered during the transformation. It can be set to `error` to raise an error, `ignore` to assign a row of all zeros to unknown categories, or `infrequent_if_exist` to assign a specified value to unknown categories.\n",
    "\n",
    "*  **`sparse_output`**: This parameter specifies whether to return a sparse matrix or a dense array. By default, it is set to True, which means that a sparse matrix is returned.\n",
    "\n",
    "One Hot Encoder can be used as follows:\n",
    "\n",
    "```\n",
    "encoder = OneHotEncoder(...)\n",
    "encoder.fit(X_train)\n",
    "X_train_enc = encoder.transform(X_train)\n",
    "```\n",
    "\n",
    "**<font color='blue'>1. Apply the One Hot Encoding to the nominal feature(s) of the dataset.**\n",
    "\n",
    "*Tips: Don't forget to use `sparse_output=False` to return a Numpy array.*"
   ]
  },
  {
   "cell_type": "code",
   "execution_count": null,
   "metadata": {
    "colab": {
     "base_uri": "https://localhost:8080/"
    },
    "id": "YW64hqEVxxp4",
    "outputId": "60ada454-a10f-4dba-b743-8abc2d828f89"
   },
   "outputs": [
    {
     "data": {
      "text/plain": [
       "array([[0., 0., 1., ..., 0., 0., 0.],\n",
       "       [0., 0., 1., ..., 0., 0., 1.],\n",
       "       [1., 0., 0., ..., 0., 0., 0.],\n",
       "       ...,\n",
       "       [0., 0., 1., ..., 0., 1., 0.],\n",
       "       [1., 0., 0., ..., 0., 1., 0.],\n",
       "       [0., 0., 1., ..., 0., 0., 1.]])"
      ]
     },
     "execution_count": 36,
     "metadata": {},
     "output_type": "execute_result"
    }
   ],
   "source": [
    "from sklearn.preprocessing import OneHotEncoder\n",
    "\n",
    "onehot = OneHotEncoder(handle_unknown='ignore',\n",
    "                       sparse_output=False)\n",
    "nominal_onehot = onehot.fit_transform(X_train_no_nan[['cat_2', 'cat_3']])\n",
    "nominal_onehot"
   ]
  },
  {
   "cell_type": "markdown",
   "metadata": {
    "id": "FFWB2zLJ2S4p"
   },
   "source": [
    "The output of the `OneHotEncoder` is a Numpy array (*if `sparse_output=False`*) without the name of the columns.\n",
    "\n",
    "Fortunately, `OneHotEncoder` provides the `get_feature_names_out()` function that can be used to retrieve the names of the features in the encoded output array.\n",
    "\n",
    "```\n",
    "feature_names = encoder.get_feature_names_out()\n",
    "```\n",
    "\n",
    "**<font color='blue'>2.a. Get the names of the One Hot features.<br>2.b. Create a dataframe with the one hot encoded features and their names.**\n",
    "\n",
    "*Tips: You can transform all the features simultaneously if you are using a Pandas dataframe or a Numpy array.*"
   ]
  },
  {
   "cell_type": "code",
   "execution_count": null,
   "metadata": {
    "colab": {
     "base_uri": "https://localhost:8080/",
     "height": 424
    },
    "id": "BMMpewch2zh5",
    "outputId": "ae5ddff1-a1e0-4adf-8160-7865ef806238"
   },
   "outputs": [
    {
     "data": {
      "text/html": [
       "\n",
       "  <div id=\"df-b8755360-4fb5-4dee-b154-2d38579461f8\">\n",
       "    <div class=\"colab-df-container\">\n",
       "      <div>\n",
       "<style scoped>\n",
       "    .dataframe tbody tr th:only-of-type {\n",
       "        vertical-align: middle;\n",
       "    }\n",
       "\n",
       "    .dataframe tbody tr th {\n",
       "        vertical-align: top;\n",
       "    }\n",
       "\n",
       "    .dataframe thead th {\n",
       "        text-align: right;\n",
       "    }\n",
       "</style>\n",
       "<table border=\"1\" class=\"dataframe\">\n",
       "  <thead>\n",
       "    <tr style=\"text-align: right;\">\n",
       "      <th></th>\n",
       "      <th>cat_2_Blue</th>\n",
       "      <th>cat_2_Green</th>\n",
       "      <th>cat_2_Red</th>\n",
       "      <th>cat_3_Circle</th>\n",
       "      <th>cat_3_Polygon</th>\n",
       "      <th>cat_3_Rare</th>\n",
       "      <th>cat_3_Square</th>\n",
       "      <th>cat_3_Star</th>\n",
       "      <th>cat_3_Trapezoid</th>\n",
       "      <th>cat_3_Triangle</th>\n",
       "    </tr>\n",
       "  </thead>\n",
       "  <tbody>\n",
       "    <tr>\n",
       "      <th>0</th>\n",
       "      <td>0.0</td>\n",
       "      <td>0.0</td>\n",
       "      <td>1.0</td>\n",
       "      <td>0.0</td>\n",
       "      <td>1.0</td>\n",
       "      <td>0.0</td>\n",
       "      <td>0.0</td>\n",
       "      <td>0.0</td>\n",
       "      <td>0.0</td>\n",
       "      <td>0.0</td>\n",
       "    </tr>\n",
       "    <tr>\n",
       "      <th>1</th>\n",
       "      <td>0.0</td>\n",
       "      <td>0.0</td>\n",
       "      <td>1.0</td>\n",
       "      <td>0.0</td>\n",
       "      <td>0.0</td>\n",
       "      <td>0.0</td>\n",
       "      <td>0.0</td>\n",
       "      <td>0.0</td>\n",
       "      <td>0.0</td>\n",
       "      <td>1.0</td>\n",
       "    </tr>\n",
       "    <tr>\n",
       "      <th>2</th>\n",
       "      <td>1.0</td>\n",
       "      <td>0.0</td>\n",
       "      <td>0.0</td>\n",
       "      <td>1.0</td>\n",
       "      <td>0.0</td>\n",
       "      <td>0.0</td>\n",
       "      <td>0.0</td>\n",
       "      <td>0.0</td>\n",
       "      <td>0.0</td>\n",
       "      <td>0.0</td>\n",
       "    </tr>\n",
       "    <tr>\n",
       "      <th>3</th>\n",
       "      <td>1.0</td>\n",
       "      <td>0.0</td>\n",
       "      <td>0.0</td>\n",
       "      <td>0.0</td>\n",
       "      <td>0.0</td>\n",
       "      <td>0.0</td>\n",
       "      <td>0.0</td>\n",
       "      <td>0.0</td>\n",
       "      <td>1.0</td>\n",
       "      <td>0.0</td>\n",
       "    </tr>\n",
       "    <tr>\n",
       "      <th>4</th>\n",
       "      <td>1.0</td>\n",
       "      <td>0.0</td>\n",
       "      <td>0.0</td>\n",
       "      <td>0.0</td>\n",
       "      <td>1.0</td>\n",
       "      <td>0.0</td>\n",
       "      <td>0.0</td>\n",
       "      <td>0.0</td>\n",
       "      <td>0.0</td>\n",
       "      <td>0.0</td>\n",
       "    </tr>\n",
       "    <tr>\n",
       "      <th>...</th>\n",
       "      <td>...</td>\n",
       "      <td>...</td>\n",
       "      <td>...</td>\n",
       "      <td>...</td>\n",
       "      <td>...</td>\n",
       "      <td>...</td>\n",
       "      <td>...</td>\n",
       "      <td>...</td>\n",
       "      <td>...</td>\n",
       "      <td>...</td>\n",
       "    </tr>\n",
       "    <tr>\n",
       "      <th>39995</th>\n",
       "      <td>0.0</td>\n",
       "      <td>0.0</td>\n",
       "      <td>1.0</td>\n",
       "      <td>0.0</td>\n",
       "      <td>0.0</td>\n",
       "      <td>0.0</td>\n",
       "      <td>0.0</td>\n",
       "      <td>0.0</td>\n",
       "      <td>0.0</td>\n",
       "      <td>1.0</td>\n",
       "    </tr>\n",
       "    <tr>\n",
       "      <th>39996</th>\n",
       "      <td>1.0</td>\n",
       "      <td>0.0</td>\n",
       "      <td>0.0</td>\n",
       "      <td>0.0</td>\n",
       "      <td>1.0</td>\n",
       "      <td>0.0</td>\n",
       "      <td>0.0</td>\n",
       "      <td>0.0</td>\n",
       "      <td>0.0</td>\n",
       "      <td>0.0</td>\n",
       "    </tr>\n",
       "    <tr>\n",
       "      <th>39997</th>\n",
       "      <td>0.0</td>\n",
       "      <td>0.0</td>\n",
       "      <td>1.0</td>\n",
       "      <td>0.0</td>\n",
       "      <td>0.0</td>\n",
       "      <td>0.0</td>\n",
       "      <td>0.0</td>\n",
       "      <td>0.0</td>\n",
       "      <td>1.0</td>\n",
       "      <td>0.0</td>\n",
       "    </tr>\n",
       "    <tr>\n",
       "      <th>39998</th>\n",
       "      <td>1.0</td>\n",
       "      <td>0.0</td>\n",
       "      <td>0.0</td>\n",
       "      <td>0.0</td>\n",
       "      <td>0.0</td>\n",
       "      <td>0.0</td>\n",
       "      <td>0.0</td>\n",
       "      <td>0.0</td>\n",
       "      <td>1.0</td>\n",
       "      <td>0.0</td>\n",
       "    </tr>\n",
       "    <tr>\n",
       "      <th>39999</th>\n",
       "      <td>0.0</td>\n",
       "      <td>0.0</td>\n",
       "      <td>1.0</td>\n",
       "      <td>0.0</td>\n",
       "      <td>0.0</td>\n",
       "      <td>0.0</td>\n",
       "      <td>0.0</td>\n",
       "      <td>0.0</td>\n",
       "      <td>0.0</td>\n",
       "      <td>1.0</td>\n",
       "    </tr>\n",
       "  </tbody>\n",
       "</table>\n",
       "<p>40000 rows × 10 columns</p>\n",
       "</div>\n",
       "      <button class=\"colab-df-convert\" onclick=\"convertToInteractive('df-b8755360-4fb5-4dee-b154-2d38579461f8')\"\n",
       "              title=\"Convert this dataframe to an interactive table.\"\n",
       "              style=\"display:none;\">\n",
       "        \n",
       "  <svg xmlns=\"http://www.w3.org/2000/svg\" height=\"24px\"viewBox=\"0 0 24 24\"\n",
       "       width=\"24px\">\n",
       "    <path d=\"M0 0h24v24H0V0z\" fill=\"none\"/>\n",
       "    <path d=\"M18.56 5.44l.94 2.06.94-2.06 2.06-.94-2.06-.94-.94-2.06-.94 2.06-2.06.94zm-11 1L8.5 8.5l.94-2.06 2.06-.94-2.06-.94L8.5 2.5l-.94 2.06-2.06.94zm10 10l.94 2.06.94-2.06 2.06-.94-2.06-.94-.94-2.06-.94 2.06-2.06.94z\"/><path d=\"M17.41 7.96l-1.37-1.37c-.4-.4-.92-.59-1.43-.59-.52 0-1.04.2-1.43.59L10.3 9.45l-7.72 7.72c-.78.78-.78 2.05 0 2.83L4 21.41c.39.39.9.59 1.41.59.51 0 1.02-.2 1.41-.59l7.78-7.78 2.81-2.81c.8-.78.8-2.07 0-2.86zM5.41 20L4 18.59l7.72-7.72 1.47 1.35L5.41 20z\"/>\n",
       "  </svg>\n",
       "      </button>\n",
       "      \n",
       "  <style>\n",
       "    .colab-df-container {\n",
       "      display:flex;\n",
       "      flex-wrap:wrap;\n",
       "      gap: 12px;\n",
       "    }\n",
       "\n",
       "    .colab-df-convert {\n",
       "      background-color: #E8F0FE;\n",
       "      border: none;\n",
       "      border-radius: 50%;\n",
       "      cursor: pointer;\n",
       "      display: none;\n",
       "      fill: #1967D2;\n",
       "      height: 32px;\n",
       "      padding: 0 0 0 0;\n",
       "      width: 32px;\n",
       "    }\n",
       "\n",
       "    .colab-df-convert:hover {\n",
       "      background-color: #E2EBFA;\n",
       "      box-shadow: 0px 1px 2px rgba(60, 64, 67, 0.3), 0px 1px 3px 1px rgba(60, 64, 67, 0.15);\n",
       "      fill: #174EA6;\n",
       "    }\n",
       "\n",
       "    [theme=dark] .colab-df-convert {\n",
       "      background-color: #3B4455;\n",
       "      fill: #D2E3FC;\n",
       "    }\n",
       "\n",
       "    [theme=dark] .colab-df-convert:hover {\n",
       "      background-color: #434B5C;\n",
       "      box-shadow: 0px 1px 3px 1px rgba(0, 0, 0, 0.15);\n",
       "      filter: drop-shadow(0px 1px 2px rgba(0, 0, 0, 0.3));\n",
       "      fill: #FFFFFF;\n",
       "    }\n",
       "  </style>\n",
       "\n",
       "      <script>\n",
       "        const buttonEl =\n",
       "          document.querySelector('#df-b8755360-4fb5-4dee-b154-2d38579461f8 button.colab-df-convert');\n",
       "        buttonEl.style.display =\n",
       "          google.colab.kernel.accessAllowed ? 'block' : 'none';\n",
       "\n",
       "        async function convertToInteractive(key) {\n",
       "          const element = document.querySelector('#df-b8755360-4fb5-4dee-b154-2d38579461f8');\n",
       "          const dataTable =\n",
       "            await google.colab.kernel.invokeFunction('convertToInteractive',\n",
       "                                                     [key], {});\n",
       "          if (!dataTable) return;\n",
       "\n",
       "          const docLinkHtml = 'Like what you see? Visit the ' +\n",
       "            '<a target=\"_blank\" href=https://colab.research.google.com/notebooks/data_table.ipynb>data table notebook</a>'\n",
       "            + ' to learn more about interactive tables.';\n",
       "          element.innerHTML = '';\n",
       "          dataTable['output_type'] = 'display_data';\n",
       "          await google.colab.output.renderOutput(dataTable, element);\n",
       "          const docLink = document.createElement('div');\n",
       "          docLink.innerHTML = docLinkHtml;\n",
       "          element.appendChild(docLink);\n",
       "        }\n",
       "      </script>\n",
       "    </div>\n",
       "  </div>\n",
       "  "
      ],
      "text/plain": [
       "       cat_2_Blue  cat_2_Green  cat_2_Red  cat_3_Circle  cat_3_Polygon  \\\n",
       "0             0.0          0.0        1.0           0.0            1.0   \n",
       "1             0.0          0.0        1.0           0.0            0.0   \n",
       "2             1.0          0.0        0.0           1.0            0.0   \n",
       "3             1.0          0.0        0.0           0.0            0.0   \n",
       "4             1.0          0.0        0.0           0.0            1.0   \n",
       "...           ...          ...        ...           ...            ...   \n",
       "39995         0.0          0.0        1.0           0.0            0.0   \n",
       "39996         1.0          0.0        0.0           0.0            1.0   \n",
       "39997         0.0          0.0        1.0           0.0            0.0   \n",
       "39998         1.0          0.0        0.0           0.0            0.0   \n",
       "39999         0.0          0.0        1.0           0.0            0.0   \n",
       "\n",
       "       cat_3_Rare  cat_3_Square  cat_3_Star  cat_3_Trapezoid  cat_3_Triangle  \n",
       "0             0.0           0.0         0.0              0.0             0.0  \n",
       "1             0.0           0.0         0.0              0.0             1.0  \n",
       "2             0.0           0.0         0.0              0.0             0.0  \n",
       "3             0.0           0.0         0.0              1.0             0.0  \n",
       "4             0.0           0.0         0.0              0.0             0.0  \n",
       "...           ...           ...         ...              ...             ...  \n",
       "39995         0.0           0.0         0.0              0.0             1.0  \n",
       "39996         0.0           0.0         0.0              0.0             0.0  \n",
       "39997         0.0           0.0         0.0              1.0             0.0  \n",
       "39998         0.0           0.0         0.0              1.0             0.0  \n",
       "39999         0.0           0.0         0.0              0.0             1.0  \n",
       "\n",
       "[40000 rows x 10 columns]"
      ]
     },
     "execution_count": 37,
     "metadata": {},
     "output_type": "execute_result"
    }
   ],
   "source": [
    "feature_names = onehot.get_feature_names_out()\n",
    "nominal_onehot = pd.DataFrame(nominal_onehot,\n",
    "                              columns=feature_names)\n",
    "nominal_onehot"
   ]
  },
  {
   "cell_type": "markdown",
   "metadata": {
    "id": "HYNjyHzUwS9o"
   },
   "source": [
    "**<font color='blue'>3. Apply the One Hot Encoding on the nominal features of the test set and the validation set.**"
   ]
  },
  {
   "cell_type": "code",
   "execution_count": null,
   "metadata": {
    "id": "sAy0uplzwaVp"
   },
   "outputs": [],
   "source": [
    "nominal_onehot_val = onehot.transform(X_val_no_nan[['cat_2', 'cat_3']])\n",
    "nominal_onehot_test = onehot.transform(X_test_no_nan[['cat_2', 'cat_3']])"
   ]
  },
  {
   "cell_type": "markdown",
   "metadata": {
    "id": "Ycc9fsNvxyVF"
   },
   "source": [
    "## Cyclical Encoding"
   ]
  },
  {
   "cell_type": "markdown",
   "metadata": {
    "id": "XA_JLid86TJp"
   },
   "source": [
    "Cyclical categories can be encoded using the **sine and cosine functions**.\n",
    "\n",
    "**<font color='blue'>1.a. Calculate $sin(2\\pi X/n)$ on the cyclical features with X the feature and n the period.**"
   ]
  },
  {
   "cell_type": "code",
   "execution_count": null,
   "metadata": {
    "id": "nSkLZ_x19CNr"
   },
   "outputs": [],
   "source": [
    "sin_day = X_train_no_nan['day'].apply(lambda x:np.sin(2*np.pi*x/7))\n",
    "sin_day.name = 'Sin day'\n",
    "\n",
    "sin_mth = X_train_no_nan['month'].apply(lambda x:np.sin(2*np.pi*x/12))\n",
    "sin_mth.name = 'Sin month'"
   ]
  },
  {
   "cell_type": "markdown",
   "metadata": {
    "id": "8hZ28Z399IDF"
   },
   "source": [
    "**<font color='blue'>1.b. Do the same with $cos(2\\pi X/n)$.**"
   ]
  },
  {
   "cell_type": "code",
   "execution_count": null,
   "metadata": {
    "id": "qqVlAHnW9S4W"
   },
   "outputs": [],
   "source": [
    "cos_day = X_train_no_nan['day'].apply(lambda x:np.cos(2*np.pi*x/7))\n",
    "cos_day.name = 'Cos day'\n",
    "\n",
    "cos_mth = X_train_no_nan['month'].apply(lambda x:np.cos(2*np.pi*x/12))\n",
    "cos_mth.name = 'Cos month'"
   ]
  },
  {
   "cell_type": "markdown",
   "metadata": {
    "id": "40hVMQJ39To0"
   },
   "source": [
    "**<font color='blue'>2. Display the cosine and the sine values on a scatter plot.**"
   ]
  },
  {
   "cell_type": "code",
   "execution_count": null,
   "metadata": {
    "colab": {
     "base_uri": "https://localhost:8080/",
     "height": 499
    },
    "id": "F1kPzSWvwCPk",
    "outputId": "3d3b03e2-9dc7-494b-9872-5163cda6ff59"
   },
   "outputs": [
    {
     "data": {
      "image/png": "[encoded data removed]",
      "text/plain": [
       "<Figure size 576x576 with 1 Axes>"
      ]
     },
     "metadata": {
      "needs_background": "light"
     },
     "output_type": "display_data"
    }
   ],
   "source": [
    "plt.figure(figsize=(8,8))\n",
    "plt.scatter(cos_day, sin_day)\n",
    "plt.title('Day')\n",
    "plt.show()"
   ]
  },
  {
   "cell_type": "markdown",
   "metadata": {
    "id": "YI39mMmbJG5w"
   },
   "source": [
    "## Putting together"
   ]
  },
  {
   "cell_type": "markdown",
   "metadata": {
    "id": "dWvJUeYhJcx2"
   },
   "source": [
    "If the preprocessing steps are done separately, it is generally appropriate to concatenate them back into one unique dataset.\n",
    "\n",
    "It may be useful to use Pipelines such as the ColumnTransformer [from sklearn](https://scikit-learn.org/stable/modules/generated/sklearn.compose.ColumnTransformer.html#sklearn.compose.ColumnTransformer).\n",
    "\n",
    "**<font color='blue'>Concatenate all the encoded features back into one dataset.**"
   ]
  },
  {
   "cell_type": "code",
   "execution_count": null,
   "metadata": {
    "colab": {
     "base_uri": "https://localhost:8080/",
     "height": 206
    },
    "id": "4AgKgCN9JH-6",
    "outputId": "16447124-adad-4229-de7e-96ceb181916d"
   },
   "outputs": [
    {
     "data": {
      "text/html": [
       "\n",
       "  <div id=\"df-6bb03a3f-c7a8-41b0-a5b7-a845ab00d33d\">\n",
       "    <div class=\"colab-df-container\">\n",
       "      <div>\n",
       "<style scoped>\n",
       "    .dataframe tbody tr th:only-of-type {\n",
       "        vertical-align: middle;\n",
       "    }\n",
       "\n",
       "    .dataframe tbody tr th {\n",
       "        vertical-align: top;\n",
       "    }\n",
       "\n",
       "    .dataframe thead th {\n",
       "        text-align: right;\n",
       "    }\n",
       "</style>\n",
       "<table border=\"1\" class=\"dataframe\">\n",
       "  <thead>\n",
       "    <tr style=\"text-align: right;\">\n",
       "      <th></th>\n",
       "      <th>cat_1</th>\n",
       "      <th>cat_2_Blue</th>\n",
       "      <th>cat_2_Green</th>\n",
       "      <th>cat_2_Red</th>\n",
       "      <th>cat_3_Circle</th>\n",
       "      <th>cat_3_Polygon</th>\n",
       "      <th>cat_3_Rare</th>\n",
       "      <th>cat_3_Square</th>\n",
       "      <th>cat_3_Star</th>\n",
       "      <th>cat_3_Trapezoid</th>\n",
       "      <th>cat_3_Triangle</th>\n",
       "      <th>cat_4_enc</th>\n",
       "      <th>Sin day</th>\n",
       "      <th>Cos day</th>\n",
       "      <th>Sin month</th>\n",
       "      <th>Cos month</th>\n",
       "    </tr>\n",
       "  </thead>\n",
       "  <tbody>\n",
       "    <tr>\n",
       "      <th>38273</th>\n",
       "      <td>0.0</td>\n",
       "      <td>0.0</td>\n",
       "      <td>0.0</td>\n",
       "      <td>1.0</td>\n",
       "      <td>0.0</td>\n",
       "      <td>0.0</td>\n",
       "      <td>0.0</td>\n",
       "      <td>0.0</td>\n",
       "      <td>0.0</td>\n",
       "      <td>0.0</td>\n",
       "      <td>1.0</td>\n",
       "      <td>-1.075405</td>\n",
       "      <td>-9.749279e-01</td>\n",
       "      <td>-0.222521</td>\n",
       "      <td>-8.660254e-01</td>\n",
       "      <td>-5.000000e-01</td>\n",
       "    </tr>\n",
       "    <tr>\n",
       "      <th>17099</th>\n",
       "      <td>0.0</td>\n",
       "      <td>1.0</td>\n",
       "      <td>0.0</td>\n",
       "      <td>0.0</td>\n",
       "      <td>0.0</td>\n",
       "      <td>0.0</td>\n",
       "      <td>0.0</td>\n",
       "      <td>0.0</td>\n",
       "      <td>0.0</td>\n",
       "      <td>1.0</td>\n",
       "      <td>0.0</td>\n",
       "      <td>0.092974</td>\n",
       "      <td>-9.749279e-01</td>\n",
       "      <td>-0.222521</td>\n",
       "      <td>1.000000e+00</td>\n",
       "      <td>6.123234e-17</td>\n",
       "    </tr>\n",
       "    <tr>\n",
       "      <th>38766</th>\n",
       "      <td>0.0</td>\n",
       "      <td>0.0</td>\n",
       "      <td>1.0</td>\n",
       "      <td>0.0</td>\n",
       "      <td>0.0</td>\n",
       "      <td>0.0</td>\n",
       "      <td>0.0</td>\n",
       "      <td>0.0</td>\n",
       "      <td>0.0</td>\n",
       "      <td>0.0</td>\n",
       "      <td>1.0</td>\n",
       "      <td>1.261352</td>\n",
       "      <td>-2.449294e-16</td>\n",
       "      <td>1.000000</td>\n",
       "      <td>-8.660254e-01</td>\n",
       "      <td>-5.000000e-01</td>\n",
       "    </tr>\n",
       "    <tr>\n",
       "      <th>9070</th>\n",
       "      <td>0.0</td>\n",
       "      <td>1.0</td>\n",
       "      <td>0.0</td>\n",
       "      <td>0.0</td>\n",
       "      <td>1.0</td>\n",
       "      <td>0.0</td>\n",
       "      <td>0.0</td>\n",
       "      <td>0.0</td>\n",
       "      <td>0.0</td>\n",
       "      <td>0.0</td>\n",
       "      <td>0.0</td>\n",
       "      <td>0.092974</td>\n",
       "      <td>4.338837e-01</td>\n",
       "      <td>-0.900969</td>\n",
       "      <td>-8.660254e-01</td>\n",
       "      <td>-5.000000e-01</td>\n",
       "    </tr>\n",
       "    <tr>\n",
       "      <th>35646</th>\n",
       "      <td>0.0</td>\n",
       "      <td>0.0</td>\n",
       "      <td>0.0</td>\n",
       "      <td>1.0</td>\n",
       "      <td>0.0</td>\n",
       "      <td>0.0</td>\n",
       "      <td>0.0</td>\n",
       "      <td>0.0</td>\n",
       "      <td>0.0</td>\n",
       "      <td>0.0</td>\n",
       "      <td>1.0</td>\n",
       "      <td>-1.075405</td>\n",
       "      <td>-9.749279e-01</td>\n",
       "      <td>-0.222521</td>\n",
       "      <td>-2.449294e-16</td>\n",
       "      <td>1.000000e+00</td>\n",
       "    </tr>\n",
       "  </tbody>\n",
       "</table>\n",
       "</div>\n",
       "      <button class=\"colab-df-convert\" onclick=\"convertToInteractive('df-6bb03a3f-c7a8-41b0-a5b7-a845ab00d33d')\"\n",
       "              title=\"Convert this dataframe to an interactive table.\"\n",
       "              style=\"display:none;\">\n",
       "        \n",
       "  <svg xmlns=\"http://www.w3.org/2000/svg\" height=\"24px\"viewBox=\"0 0 24 24\"\n",
       "       width=\"24px\">\n",
       "    <path d=\"M0 0h24v24H0V0z\" fill=\"none\"/>\n",
       "    <path d=\"M18.56 5.44l.94 2.06.94-2.06 2.06-.94-2.06-.94-.94-2.06-.94 2.06-2.06.94zm-11 1L8.5 8.5l.94-2.06 2.06-.94-2.06-.94L8.5 2.5l-.94 2.06-2.06.94zm10 10l.94 2.06.94-2.06 2.06-.94-2.06-.94-.94-2.06-.94 2.06-2.06.94z\"/><path d=\"M17.41 7.96l-1.37-1.37c-.4-.4-.92-.59-1.43-.59-.52 0-1.04.2-1.43.59L10.3 9.45l-7.72 7.72c-.78.78-.78 2.05 0 2.83L4 21.41c.39.39.9.59 1.41.59.51 0 1.02-.2 1.41-.59l7.78-7.78 2.81-2.81c.8-.78.8-2.07 0-2.86zM5.41 20L4 18.59l7.72-7.72 1.47 1.35L5.41 20z\"/>\n",
       "  </svg>\n",
       "      </button>\n",
       "      \n",
       "  <style>\n",
       "    .colab-df-container {\n",
       "      display:flex;\n",
       "      flex-wrap:wrap;\n",
       "      gap: 12px;\n",
       "    }\n",
       "\n",
       "    .colab-df-convert {\n",
       "      background-color: #E8F0FE;\n",
       "      border: none;\n",
       "      border-radius: 50%;\n",
       "      cursor: pointer;\n",
       "      display: none;\n",
       "      fill: #1967D2;\n",
       "      height: 32px;\n",
       "      padding: 0 0 0 0;\n",
       "      width: 32px;\n",
       "    }\n",
       "\n",
       "    .colab-df-convert:hover {\n",
       "      background-color: #E2EBFA;\n",
       "      box-shadow: 0px 1px 2px rgba(60, 64, 67, 0.3), 0px 1px 3px 1px rgba(60, 64, 67, 0.15);\n",
       "      fill: #174EA6;\n",
       "    }\n",
       "\n",
       "    [theme=dark] .colab-df-convert {\n",
       "      background-color: #3B4455;\n",
       "      fill: #D2E3FC;\n",
       "    }\n",
       "\n",
       "    [theme=dark] .colab-df-convert:hover {\n",
       "      background-color: #434B5C;\n",
       "      box-shadow: 0px 1px 3px 1px rgba(0, 0, 0, 0.15);\n",
       "      filter: drop-shadow(0px 1px 2px rgba(0, 0, 0, 0.3));\n",
       "      fill: #FFFFFF;\n",
       "    }\n",
       "  </style>\n",
       "\n",
       "      <script>\n",
       "        const buttonEl =\n",
       "          document.querySelector('#df-6bb03a3f-c7a8-41b0-a5b7-a845ab00d33d button.colab-df-convert');\n",
       "        buttonEl.style.display =\n",
       "          google.colab.kernel.accessAllowed ? 'block' : 'none';\n",
       "\n",
       "        async function convertToInteractive(key) {\n",
       "          const element = document.querySelector('#df-6bb03a3f-c7a8-41b0-a5b7-a845ab00d33d');\n",
       "          const dataTable =\n",
       "            await google.colab.kernel.invokeFunction('convertToInteractive',\n",
       "                                                     [key], {});\n",
       "          if (!dataTable) return;\n",
       "\n",
       "          const docLinkHtml = 'Like what you see? Visit the ' +\n",
       "            '<a target=\"_blank\" href=https://colab.research.google.com/notebooks/data_table.ipynb>data table notebook</a>'\n",
       "            + ' to learn more about interactive tables.';\n",
       "          element.innerHTML = '';\n",
       "          dataTable['output_type'] = 'display_data';\n",
       "          await google.colab.output.renderOutput(dataTable, element);\n",
       "          const docLink = document.createElement('div');\n",
       "          docLink.innerHTML = docLinkHtml;\n",
       "          element.appendChild(docLink);\n",
       "        }\n",
       "      </script>\n",
       "    </div>\n",
       "  </div>\n",
       "  "
      ],
      "text/plain": [
       "       cat_1  cat_2_Blue  cat_2_Green  cat_2_Red  cat_3_Circle  cat_3_Polygon  \\\n",
       "38273    0.0         0.0          0.0        1.0           0.0            0.0   \n",
       "17099    0.0         1.0          0.0        0.0           0.0            0.0   \n",
       "38766    0.0         0.0          1.0        0.0           0.0            0.0   \n",
       "9070     0.0         1.0          0.0        0.0           1.0            0.0   \n",
       "35646    0.0         0.0          0.0        1.0           0.0            0.0   \n",
       "\n",
       "       cat_3_Rare  cat_3_Square  cat_3_Star  cat_3_Trapezoid  cat_3_Triangle  \\\n",
       "38273         0.0           0.0         0.0              0.0             1.0   \n",
       "17099         0.0           0.0         0.0              1.0             0.0   \n",
       "38766         0.0           0.0         0.0              0.0             1.0   \n",
       "9070          0.0           0.0         0.0              0.0             0.0   \n",
       "35646         0.0           0.0         0.0              0.0             1.0   \n",
       "\n",
       "       cat_4_enc       Sin day   Cos day     Sin month     Cos month  \n",
       "38273  -1.075405 -9.749279e-01 -0.222521 -8.660254e-01 -5.000000e-01  \n",
       "17099   0.092974 -9.749279e-01 -0.222521  1.000000e+00  6.123234e-17  \n",
       "38766   1.261352 -2.449294e-16  1.000000 -8.660254e-01 -5.000000e-01  \n",
       "9070    0.092974  4.338837e-01 -0.900969 -8.660254e-01 -5.000000e-01  \n",
       "35646  -1.075405 -9.749279e-01 -0.222521 -2.449294e-16  1.000000e+00  "
      ]
     },
     "execution_count": 56,
     "metadata": {},
     "output_type": "execute_result"
    }
   ],
   "source": [
    "# Don't forget the binary cat_1 that we didn't modify\n",
    "X_train_p = pd.concat([X_train['cat_1'],\n",
    "                       nominal_onehot,\n",
    "                       ordinal_ord,\n",
    "                       sin_day,\n",
    "                       cos_day,\n",
    "                       sin_mth,\n",
    "                       cos_mth], axis=1)\n",
    "X_train_p.head()"
   ]
  }
 ],
 "metadata": {
  "colab": {
   "collapsed_sections": [
    "xFVgAqSMH9Ki",
    "s-q4cXmfqegB",
    "Z8LZkvoGwMIe",
    "iHsYH_u23X5C",
    "rvuYgZJzvdcI",
    "lEXDkwy4xkCS",
    "0MM5KUWqxugb",
    "Ycc9fsNvxyVF",
    "YI39mMmbJG5w"
   ],
   "provenance": []
  },
  "kernelspec": {
   "display_name": "Python 3 (ipykernel)",
   "language": "python",
   "name": "python3"
  },
  "language_info": {
   "codemirror_mode": {
    "name": "ipython",
    "version": 3
   },
   "file_extension": ".py",
   "mimetype": "text/x-python",
   "name": "python",
   "nbconvert_exporter": "python",
   "pygments_lexer": "ipython3",
   "version": "3.8.13"
  }
 },
 "nbformat": 4,
 "nbformat_minor": 1
}
