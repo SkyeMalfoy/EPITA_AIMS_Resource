{
 "cells": [
  {
   "cell_type": "markdown",
   "metadata": {
    "id": "mKrYb6F5UmQU"
   },
   "source": [
    "*This Notebook was created by Antoine Palisson*"
   ]
  },
  {
   "cell_type": "code",
   "execution_count": null,
   "metadata": {
    "id": "S3ud0IgvVEME"
   },
   "outputs": [],
   "source": [
    "import matplotlib.pyplot as plt\n",
    "import seaborn as sns\n",
    "import pandas as pd\n",
    "import numpy as np"
   ]
  },
  {
   "cell_type": "markdown",
   "metadata": {
    "id": "RdaKgT1-HeQT"
   },
   "source": [
    "### Dataset"
   ]
  },
  {
   "cell_type": "code",
   "execution_count": null,
   "metadata": {
    "id": "NLctxy76vdK_"
   },
   "outputs": [],
   "source": [
    "from sklearn.datasets import fetch_openml\n",
    "\n",
    "data = fetch_openml('artificial-characters', version=1, as_frame=True, parser='pandas')\n",
    "X = data['data']\n",
    "y = data['target']"
   ]
  },
  {
   "cell_type": "markdown",
   "metadata": {
    "id": "EdtV_k87HhlQ"
   },
   "source": [
    "# Quick Exploration & Preprocessing"
   ]
  },
  {
   "cell_type": "markdown",
   "metadata": {
    "id": "VZ1WAy2vHnSX"
   },
   "source": [
    "**<font color='blue'>1.a. How many classes does the label have ?<br>1.b. Is the dataset balanced ?**"
   ]
  },
  {
   "cell_type": "code",
   "execution_count": null,
   "metadata": {
    "colab": {
     "base_uri": "https://localhost:8080/"
    },
    "executionInfo": {
     "elapsed": 214,
     "status": "ok",
     "timestamp": 1680187214338,
     "user": {
      "displayName": "Antoine Palisson",
      "userId": "06334333839821267204"
     },
     "user_tz": -120
    },
    "id": "eGIHIE_56oHa",
    "outputId": "4d3036ec-0e7b-4edf-cbd9-453b2e3a1495"
   },
   "outputs": [
    {
     "data": {
      "text/plain": [
       "3     0.138579\n",
       "8     0.117244\n",
       "1     0.117048\n",
       "2     0.116657\n",
       "5     0.098649\n",
       "6     0.097867\n",
       "9     0.097867\n",
       "4     0.079076\n",
       "7     0.078293\n",
       "10    0.058720\n",
       "Name: Class, dtype: float64"
      ]
     },
     "execution_count": 100,
     "metadata": {},
     "output_type": "execute_result"
    }
   ],
   "source": [
    "# 10 classes --> Multi-class classification\n",
    "# The dataset is imbalanced\n",
    "y.value_counts(normalize=True)"
   ]
  },
  {
   "cell_type": "markdown",
   "metadata": {
    "id": "BI_XS_aUIRYc"
   },
   "source": [
    "**<font color='blue'>2. Split the dataset into a training and a testing set.**\n",
    "\n",
    "*Tips: Don't forget to do the splitting according to the type of the task (classification, regression) and the dataset label (balanced or not).*"
   ]
  },
  {
   "cell_type": "code",
   "execution_count": null,
   "metadata": {
    "id": "GSzI8Xu5wD0B"
   },
   "outputs": [],
   "source": [
    "from sklearn.model_selection import train_test_split\n",
    "X_train, X_test, y_train, y_test = train_test_split(X,y,\n",
    "                                                    test_size=0.2,\n",
    "                                                    stratify=y,\n",
    "                                                    random_state=42)"
   ]
  },
  {
   "cell_type": "markdown",
   "metadata": {
    "id": "R7F3lAUJI5Wo"
   },
   "source": [
    "The dataset only contains numerical features.<br>The purpose of this exercise is not to explore the data or to do specific preprocessing.\n",
    "\n",
    "**<font color='blue'>3. How should you preprocess the dataset ?<br> Don't apply the preprocessing yet.**"
   ]
  },
  {
   "cell_type": "markdown",
   "metadata": {
    "id": "wUEE2W66JED3"
   },
   "source": [
    "It should be scaled."
   ]
  },
  {
   "cell_type": "markdown",
   "metadata": {
    "id": "qGywz0MqJLqt"
   },
   "source": [
    "# Model Selection"
   ]
  },
  {
   "cell_type": "markdown",
   "metadata": {
    "id": "v0auRVP7Mgo7"
   },
   "source": [
    "**<font color='blue'>1.a. Which metric from the sklearn library should you use for this dataset ?<br> Should you change some of its parameters ?**\n",
    "\n",
    "*Tips: Is the dataset balanced ? How many classes does the label ?*"
   ]
  },
  {
   "cell_type": "markdown",
   "metadata": {
    "id": "ZYs59-XnM145"
   },
   "source": [
    "The f1-score because the dataset is imbalanced.<br>\n",
    "The average parameter of the f1_score function should be set to micro, macro or weighted because it is a multi-class classifiation."
   ]
  },
  {
   "cell_type": "markdown",
   "metadata": {
    "id": "aTS0tF7fM1xh"
   },
   "source": [
    "The **`make_scorer`** function is a utility function in the Sklearn library that allows you to create a custom scoring function that can be used in model selection and evaluation. It essentially transforms an arbitrary function into a scorer object that can be passed to the `cross_val_score` or `GridSearchCV` functions (you will use them in this notebook).\n",
    "\n",
    "You can find it [here](https://scikit-learn.org/stable/modules/generated/sklearn.metrics.make_scorer.html).\n",
    "\n",
    "---\n",
    "\n",
    "The `make_scorer` **parameters**:\n",
    "\n",
    "* **`score_func`**: This parameter is a function that computes the score for a given set of predicted and true values. The function takes two arguments: the true labels and the predicted labels. The score function can be any function that returns a scalar value, such as accuracy, precision, recall, F1-score, etc.\n",
    "\n",
    "* **`greater_is_better`**: This parameter is a boolean value that determines whether a higher score is better or worse for the model. If set to True, the scorer will be maximizing the score; if set to False, the scorer will be minimizing the score.\n",
    "\n",
    "* **`needs_proba`**: This parameter is a boolean value that determines whether the scorer requires the model to output predicted probabilities instead of predicted labels. If set to True, the scorer expects the model to output probabilities, and the score_func function will be applied to the probabilities instead of the predicted labels.\n",
    "\n",
    "* **`needs_threshold`**: This parameter is a boolean value that determines whether the scorer requires the model to output a probability threshold. If set to True, the scorer will optimize the threshold in addition to the model's hyperparameters.\n",
    "\n",
    "* **`kwargs`**: This parameter is a dictionary of additional keyword arguments that can be passed to the score_func function. These arguments can be used to customize the behavior of the score function, such as changing the weight of different classes or adjusting the threshold for binary classification.\n",
    "\n",
    "---\n",
    "**Code examples**:\n",
    "\n",
    "Example 1 - *it is the same as passing `scoring='accuracy'`*\n",
    "```\n",
    "acc_scorer = make_scorer(accuracy_score)\n",
    "scores = cross_val_score(..., scoring=acc_scorer)\n",
    "```\n",
    "\n",
    "Example 2 - *average is a parameter of the `f1_score` function*\n",
    "```\n",
    "f1_scorer = make_scorer(f1_score, average='micro')\n",
    "scores = cross_val_score(..., scoring=f1_scorer)\n",
    "```\n",
    "\n",
    "\n",
    "**<font color='blue'>1.b. Use the `make_scorer` function from sklearn to create a metric with the correct parameters.**"
   ]
  },
  {
   "cell_type": "code",
   "execution_count": null,
   "metadata": {
    "id": "SruHReNnM0_n"
   },
   "outputs": [],
   "source": [
    "from sklearn.metrics import make_scorer, f1_score\n",
    "\n",
    "f1_scorer = make_scorer(f1_score, average='micro')"
   ]
  },
  {
   "cell_type": "markdown",
   "metadata": {
    "id": "fMDdn5MDJOV2"
   },
   "source": [
    "**Let's compare four models:**\n",
    "\n",
    "*   Logistic Regression\n",
    "*   Support Vector Classifier\n",
    "*   k-Neighbors Classifier\n",
    "*   Decision Tree Classifier\n",
    "\n",
    "To compare the models, you will use a **cross-validation method**.\n",
    "\n",
    "As a remainder:\n",
    "\n",
    "> *The **`Pipeline`** class in sklearn is a tool for chaining multiple processing steps together into a single estimator. It can be used to automate the workflow of a machine learning project by **combining data preprocessing and modeling into a single object** that can be used for training and prediction. It can be found [here](https://scikit-learn.org/stable/modules/generated/sklearn.pipeline.Pipeline.html#sklearn.pipeline.Pipeline).*\n",
    "\n",
    "> *The most important parameter of the Pipeline is the `steps`: it is a list of tuples, where each tuple contains the name of the step and the processing object. The steps are executed in the order they are listed.*\n",
    "\n",
    ">```\n",
    "pipeline = Pipeline(steps=[('preprocesing', StandardScaler()),        # Preprocessing\n",
    "                           ('model', LogisticRegression())])          # Model\n",
    "\n",
    "\n",
    "**<font color='blue'>2.a. Use the `Pipeline` class to merge the preprocessing function and a Logistic Regression model.**"
   ]
  },
  {
   "cell_type": "code",
   "execution_count": null,
   "metadata": {
    "id": "bv_1Z1ce9uSK"
   },
   "outputs": [],
   "source": [
    "from sklearn.linear_model import LogisticRegression\n",
    "from sklearn.preprocessing import StandardScaler\n",
    "from sklearn.pipeline import Pipeline\n",
    "\n",
    "logreg = LogisticRegression(max_iter=200,\n",
    "                            random_state=42)\n",
    "\n",
    "pipe = Pipeline([('preprocessing', StandardScaler()),\n",
    "                 ('model', logreg)])"
   ]
  },
  {
   "cell_type": "markdown",
   "metadata": {
    "id": "O1N0kD92KR1W"
   },
   "source": [
    "**<font color='blue'>2.b. Do a cross-validation method to evaluate the model performance using the `make_scorer` function.<br>Show the mean and the standard deviation of the scores.**"
   ]
  },
  {
   "cell_type": "code",
   "execution_count": null,
   "metadata": {
    "colab": {
     "base_uri": "https://localhost:8080/"
    },
    "executionInfo": {
     "elapsed": 1845,
     "status": "ok",
     "timestamp": 1680192248858,
     "user": {
      "displayName": "Antoine Palisson",
      "userId": "06334333839821267204"
     },
     "user_tz": -120
    },
    "id": "xc-pLTZDvyaY",
    "outputId": "7b204e57-6a94-4dca-e48b-c40d58827583"
   },
   "outputs": [
    {
     "name": "stdout",
     "output_type": "stream",
     "text": [
      "Mean score : 0.3559 +/- 0.0018\n"
     ]
    }
   ],
   "source": [
    "from sklearn.model_selection import cross_val_score\n",
    "\n",
    "score = cross_val_score(pipe, \n",
    "                        X_train, \n",
    "                        y_train, \n",
    "                        cv=3, \n",
    "                        scoring=f1_scorer)\n",
    "\n",
    "print(f\"Mean score : {np.mean(score):.4f} +/- {np.std(score):.4f}\")"
   ]
  },
  {
   "cell_type": "markdown",
   "metadata": {
    "id": "YFmum2wLQ4AU"
   },
   "source": [
    "**<font color='blue'>3. Do the same for the Support Vector Classifier model.**"
   ]
  },
  {
   "cell_type": "code",
   "execution_count": null,
   "metadata": {
    "colab": {
     "base_uri": "https://localhost:8080/"
    },
    "executionInfo": {
     "elapsed": 6142,
     "status": "ok",
     "timestamp": 1680192339681,
     "user": {
      "displayName": "Antoine Palisson",
      "userId": "06334333839821267204"
     },
     "user_tz": -120
    },
    "id": "Byhe5ZiwwzY2",
    "outputId": "3453da7b-18e1-441e-da30-a3a8a0294b83"
   },
   "outputs": [
    {
     "name": "stdout",
     "output_type": "stream",
     "text": [
      "Mean score : 0.6112 +/- 0.0068\n"
     ]
    }
   ],
   "source": [
    "from sklearn.svm import SVC\n",
    "\n",
    "svc = SVC(random_state=42)\n",
    "pipe = Pipeline([('preprocessing', StandardScaler()),\n",
    "                 ('model', svc)])\n",
    "\n",
    "score = cross_val_score(pipe, \n",
    "                        X_train, \n",
    "                        y_train, \n",
    "                        cv=3, \n",
    "                        scoring=f1_scorer)\n",
    "\n",
    "print(f\"Mean score : {np.mean(score):.4f} +/- {np.std(score):.4f}\")"
   ]
  },
  {
   "cell_type": "markdown",
   "metadata": {
    "id": "to6GNzz1RJOM"
   },
   "source": [
    "**<font color='blue'>4. Do the same for the k-neighbors classifier model.**"
   ]
  },
  {
   "cell_type": "code",
   "execution_count": null,
   "metadata": {
    "colab": {
     "base_uri": "https://localhost:8080/"
    },
    "executionInfo": {
     "elapsed": 401,
     "status": "ok",
     "timestamp": 1680192406474,
     "user": {
      "displayName": "Antoine Palisson",
      "userId": "06334333839821267204"
     },
     "user_tz": -120
    },
    "id": "ybwEyxRtRSsZ",
    "outputId": "df0e574c-c708-4cea-c010-d83b36b7a7f9"
   },
   "outputs": [
    {
     "name": "stdout",
     "output_type": "stream",
     "text": [
      "Mean score : 0.6286 +/- 0.0052\n"
     ]
    }
   ],
   "source": [
    "from sklearn.neighbors import KNeighborsClassifier\n",
    "\n",
    "knn = KNeighborsClassifier()\n",
    "pipe = Pipeline([('preprocessing', StandardScaler()),\n",
    "                 ('model', knn)])\n",
    "\n",
    "score = cross_val_score(pipe, \n",
    "                        X_train, \n",
    "                        y_train, \n",
    "                        cv=3, \n",
    "                        scoring=f1_scorer)\n",
    "\n",
    "print(f\"Mean score : {np.mean(score):.4f} +/- {np.std(score):.4f}\")"
   ]
  },
  {
   "cell_type": "markdown",
   "metadata": {
    "id": "eqBTY5-nRZIN"
   },
   "source": [
    "**<font color='blue'>5. Finally, do the same for the Decision Tree classifier model.<br>Which model is the best ?**"
   ]
  },
  {
   "cell_type": "code",
   "execution_count": null,
   "metadata": {
    "colab": {
     "base_uri": "https://localhost:8080/"
    },
    "executionInfo": {
     "elapsed": 1030,
     "status": "ok",
     "timestamp": 1680192434540,
     "user": {
      "displayName": "Antoine Palisson",
      "userId": "06334333839821267204"
     },
     "user_tz": -120
    },
    "id": "4rGGO8Gfw6um",
    "outputId": "c457fe6d-4c17-42f9-b28a-b8285e37541e"
   },
   "outputs": [
    {
     "name": "stdout",
     "output_type": "stream",
     "text": [
      "Mean score : 0.8087 +/- 0.0070\n"
     ]
    }
   ],
   "source": [
    "from sklearn.tree import DecisionTreeClassifier\n",
    "\n",
    "dtc = DecisionTreeClassifier(random_state=42)\n",
    "pipe = Pipeline([('preprocessing', StandardScaler()),\n",
    "                 ('model', dtc)])\n",
    "\n",
    "score = cross_val_score(pipe, \n",
    "                        X_train, \n",
    "                        y_train, \n",
    "                        cv=3, \n",
    "                        scoring=f1_scorer)\n",
    "\n",
    "print(f\"Mean score : {np.mean(score):.4f} +/- {np.std(score):.4f}\")"
   ]
  },
  {
   "cell_type": "markdown",
   "metadata": {
    "id": "uwh_c2dBRxOV"
   },
   "source": [
    "# Hyperparameter Tuning"
   ]
  },
  {
   "cell_type": "markdown",
   "metadata": {
    "id": "jYzN-ZjuR1kI"
   },
   "source": [
    "## Grid Search"
   ]
  },
  {
   "cell_type": "markdown",
   "metadata": {
    "id": "EUFtHaQpR48r"
   },
   "source": [
    "The **Decision Tree classifier** model has many parameters.<br> Let's try to tune the following ones:\n",
    "\n",
    "*   **`criterion`** which can takes three values gini, entropy or logloss\n",
    "*   **`splitter`** which can takes two values random or best\n",
    "*   **`max_depth`** which can any positive integer or None (i.e. infinite)\n",
    "*   **`min_samples_split`** which can any positive integer from 2\n",
    "*   **`min_samples_leaf`** which can any positive integer from 1\n",
    "*   **`max_features`** which can any positive integer from 1 to the number of features\n",
    "\n",
    "Explaining these hyperparameters is out of the scopre of this exercise.<br>Thus, we will consider each of them has potentially very important for the task.\n",
    "\n"
   ]
  },
  {
   "cell_type": "markdown",
   "metadata": {
    "id": "5ATC9Y_WTAUa"
   },
   "source": [
    "**<font color='blue'>1. Change the values of each of the hyperparameters independently and evaluate the model performance.<br>Find the hyperparameters that make the performances change a lot.**"
   ]
  },
  {
   "cell_type": "code",
   "execution_count": null,
   "metadata": {
    "colab": {
     "base_uri": "https://localhost:8080/"
    },
    "executionInfo": {
     "elapsed": 1189,
     "status": "ok",
     "timestamp": 1680193270197,
     "user": {
      "displayName": "Antoine Palisson",
      "userId": "06334333839821267204"
     },
     "user_tz": -120
    },
    "id": "m_pPunSBTjhn",
    "outputId": "f003d414-236a-4b0e-b92e-1aa6865cb764"
   },
   "outputs": [
    {
     "name": "stdout",
     "output_type": "stream",
     "text": [
      "gini --> Mean score : 0.8087 +/- 0.0070\n",
      "entropy --> Mean score : 0.8118 +/- 0.0007\n"
     ]
    }
   ],
   "source": [
    "# Criterion does not make the model vary a lot\n",
    "for criterion in ['gini', 'entropy']:\n",
    "    dtc = DecisionTreeClassifier(criterion=criterion,\n",
    "                                random_state=42)\n",
    "    pipe = Pipeline([('preprocessing', StandardScaler()),\n",
    "                    ('model', dtc)])\n",
    "\n",
    "    score = cross_val_score(pipe, \n",
    "                            X_train, \n",
    "                            y_train, \n",
    "                            cv=3, \n",
    "                            scoring=f1_scorer)\n",
    "\n",
    "    print(f\"{criterion} --> Mean score : {np.mean(score):.4f} +/- {np.std(score):.4f}\")"
   ]
  },
  {
   "cell_type": "code",
   "execution_count": null,
   "metadata": {
    "colab": {
     "base_uri": "https://localhost:8080/"
    },
    "executionInfo": {
     "elapsed": 836,
     "status": "ok",
     "timestamp": 1680193302049,
     "user": {
      "displayName": "Antoine Palisson",
      "userId": "06334333839821267204"
     },
     "user_tz": -120
    },
    "id": "Siv7ibwwUrhK",
    "outputId": "8f2b0b99-1d47-4b92-bb21-b5f591475270"
   },
   "outputs": [
    {
     "name": "stdout",
     "output_type": "stream",
     "text": [
      "best --> Mean score : 0.8087 +/- 0.0070\n",
      "random --> Mean score : 0.8052 +/- 0.0078\n"
     ]
    }
   ],
   "source": [
    "# Splitter does not make the model vary a lot\n",
    "for splitter in ['best', 'random']:\n",
    "    dtc = DecisionTreeClassifier(splitter=splitter,\n",
    "                                 random_state=42)\n",
    "    pipe = Pipeline([('preprocessing', StandardScaler()),\n",
    "                    ('model', dtc)])\n",
    "\n",
    "    score = cross_val_score(pipe, \n",
    "                            X_train, \n",
    "                            y_train, \n",
    "                            cv=3, \n",
    "                            scoring=f1_scorer)\n",
    "\n",
    "    print(f\"{splitter} --> Mean score : {np.mean(score):.4f} +/- {np.std(score):.4f}\")"
   ]
  },
  {
   "cell_type": "code",
   "execution_count": null,
   "metadata": {
    "colab": {
     "base_uri": "https://localhost:8080/"
    },
    "executionInfo": {
     "elapsed": 2152,
     "status": "ok",
     "timestamp": 1680193351312,
     "user": {
      "displayName": "Antoine Palisson",
      "userId": "06334333839821267204"
     },
     "user_tz": -120
    },
    "id": "sHxoWLJuU1Uk",
    "outputId": "a8068ae9-0daa-4038-9b54-edffc731cc8f"
   },
   "outputs": [
    {
     "name": "stdout",
     "output_type": "stream",
     "text": [
      "2 --> Mean score : 0.2370 +/- 0.0035\n",
      "None --> Mean score : 0.8087 +/- 0.0070\n"
     ]
    }
   ],
   "source": [
    "# max_depth seems very important\n",
    "for max_depth in [2, None]:                                   # 2 and None are the most extreme values\n",
    "    dtc = DecisionTreeClassifier(max_depth=max_depth,\n",
    "                                 random_state=42)\n",
    "    pipe = Pipeline([('preprocessing', StandardScaler()),\n",
    "                    ('model', dtc)])\n",
    "\n",
    "    score = cross_val_score(pipe, \n",
    "                            X_train, \n",
    "                            y_train, \n",
    "                            cv=3, \n",
    "                            scoring=f1_scorer)\n",
    "\n",
    "    print(f\"{max_depth} --> Mean score : {np.mean(score):.4f} +/- {np.std(score):.4f}\")"
   ]
  },
  {
   "cell_type": "code",
   "execution_count": null,
   "metadata": {
    "colab": {
     "base_uri": "https://localhost:8080/"
    },
    "executionInfo": {
     "elapsed": 2266,
     "status": "ok",
     "timestamp": 1680193450532,
     "user": {
      "displayName": "Antoine Palisson",
      "userId": "06334333839821267204"
     },
     "user_tz": -120
    },
    "id": "Yf10c1J2VCjd",
    "outputId": "d99a406b-a801-4fad-e6b3-6b5165c215d8"
   },
   "outputs": [
    {
     "name": "stdout",
     "output_type": "stream",
     "text": [
      "2 --> Mean score : 0.8087 +/- 0.0070\n",
      "100 --> Mean score : 0.5700 +/- 0.0085\n"
     ]
    }
   ],
   "source": [
    "# min_samples_split seems very important\n",
    "for min_samples_split in [2, 100]:                                   \n",
    "    dtc = DecisionTreeClassifier(min_samples_split=min_samples_split,\n",
    "                                 random_state=42)\n",
    "    pipe = Pipeline([('preprocessing', StandardScaler()),\n",
    "                    ('model', dtc)])\n",
    "\n",
    "    score = cross_val_score(pipe, \n",
    "                            X_train, \n",
    "                            y_train, \n",
    "                            cv=3, \n",
    "                            scoring=f1_scorer)\n",
    "\n",
    "    print(f\"{min_samples_split} --> Mean score : {np.mean(score):.4f} +/- {np.std(score):.4f}\")"
   ]
  },
  {
   "cell_type": "code",
   "execution_count": null,
   "metadata": {
    "colab": {
     "base_uri": "https://localhost:8080/"
    },
    "executionInfo": {
     "elapsed": 1618,
     "status": "ok",
     "timestamp": 1680193463814,
     "user": {
      "displayName": "Antoine Palisson",
      "userId": "06334333839821267204"
     },
     "user_tz": -120
    },
    "id": "GC0M4tPHVQvi",
    "outputId": "c2818a4f-a52c-400f-b86c-df64ea70b510"
   },
   "outputs": [
    {
     "name": "stdout",
     "output_type": "stream",
     "text": [
      "1 --> Mean score : 0.8087 +/- 0.0070\n",
      "100 --> Mean score : 0.4856 +/- 0.0129\n"
     ]
    }
   ],
   "source": [
    "# min_samples_leaf seems very important\n",
    "for min_samples_leaf in [1, 100]:                                   \n",
    "    dtc = DecisionTreeClassifier(min_samples_leaf=min_samples_leaf,\n",
    "                                 random_state=42)\n",
    "    pipe = Pipeline([('preprocessing', StandardScaler()),\n",
    "                    ('model', dtc)])\n",
    "\n",
    "    score = cross_val_score(pipe, \n",
    "                            X_train, \n",
    "                            y_train, \n",
    "                            cv=3, \n",
    "                            scoring=f1_scorer)\n",
    "\n",
    "    print(f\"{min_samples_leaf} --> Mean score : {np.mean(score):.4f} +/- {np.std(score):.4f}\")"
   ]
  },
  {
   "cell_type": "code",
   "execution_count": null,
   "metadata": {
    "colab": {
     "base_uri": "https://localhost:8080/"
    },
    "executionInfo": {
     "elapsed": 1375,
     "status": "ok",
     "timestamp": 1680193490101,
     "user": {
      "displayName": "Antoine Palisson",
      "userId": "06334333839821267204"
     },
     "user_tz": -120
    },
    "id": "ZYfPwYEcVb0p",
    "outputId": "39f734b8-e2c4-4dbf-e287-ecc9f218b2a3"
   },
   "outputs": [
    {
     "name": "stdout",
     "output_type": "stream",
     "text": [
      "1 --> Mean score : 0.7847 +/- 0.0079\n",
      "6 --> Mean score : 0.8093 +/- 0.0040\n"
     ]
    }
   ],
   "source": [
    "# max_features seems to very little effect on the performances\n",
    "for max_features in [1, 6]:                                   \n",
    "    dtc = DecisionTreeClassifier(max_features=max_features,\n",
    "                                 random_state=42)\n",
    "    pipe = Pipeline([('preprocessing', StandardScaler()),\n",
    "                    ('model', dtc)])\n",
    "\n",
    "    score = cross_val_score(pipe, \n",
    "                            X_train, \n",
    "                            y_train, \n",
    "                            cv=3, \n",
    "                            scoring=f1_scorer)\n",
    "\n",
    "    print(f\"{max_features} --> Mean score : {np.mean(score):.4f} +/- {np.std(score):.4f}\")"
   ]
  },
  {
   "cell_type": "code",
   "execution_count": null,
   "metadata": {
    "id": "XiMPunUjfQ7O"
   },
   "outputs": [],
   "source": [
    "# Overall, max_depth, min_samples_leaf and min_samples_split are the most important parameters."
   ]
  },
  {
   "cell_type": "markdown",
   "metadata": {
    "id": "j6bbB3SXTj3E"
   },
   "source": [
    "The **`GridSearchCV`** class in Sklearn is a tool for performing an exhaustive search over a specified parameter grid for an estimator. It searches over all possible combinations of the parameters to determine the best parameter values based on the chosen evaluation metric.\n",
    "\n",
    "You can find it [here](https://scikit-learn.org/stable/modules/generated/sklearn.model_selection.GridSearchCV.html#sklearn.model_selection.GridSearchCV).\n",
    "\n",
    "---\n",
    "\n",
    "Most important **parameters**:\n",
    "\n",
    "* **`estimator`**: This parameter takes an estimator object that is to be tuned using GridSearchCV. The estimator object should implement a fit method that takes the training data as input.\n",
    "\n",
    "* **`param_grid`**: This parameter is a dictionary or a list of dictionaries that defines the hyperparameter search space. The keys of the dictionary are the hyperparameter names and the values are the corresponding search spaces. A search space is a list of possible values or a distribution where the values are sampled.\n",
    "\n",
    "* **`scoring`**: This parameter specifies the metric to use for evaluating the performance of the model with different hyperparameters. It can take a string representing a built-in scoring metric, a callable object that implements a custom scoring metric with make_scorer, or a list/tuple of multiple scoring metrics.\n",
    "\n",
    "* **`cv`**: This parameter specifies the cross-validation splitting strategy. It can take an integer value representing the number of folds in a KFold cross-validation, a cross-validation iterator, or a specific data splitting strategy. It specifies how the data is partitioned into training and validation sets for each hyperparameter combination.\n",
    "\n",
    "---\n",
    "\n",
    "Most important **attributes**:\n",
    "\n",
    "* **`cv_results_`**: This attribute is a dictionary that contains all of the cross-validation results for each combination of hyperparameters tried during the GridSearchCV search. It includes information such as the mean and standard deviation of the test scores, training times, and hyperparameter values for each combination.\n",
    "\n",
    "* **`best_params_`**: This attribute is a dictionary that contains the best hyperparameter values found during the GridSearchCV search. It includes the hyperparameter names as keys and their corresponding best values as values.\n",
    "\n",
    "* **`best_score_`**: This attribute is a float value that represents the best cross-validation score obtained during the GridSearchCV search.\n",
    "\n",
    "---\n",
    "\n",
    "```\n",
    "params = {...}\n",
    "\n",
    "grid_search = GridSearchCV(estimator=model, \n",
    "                           param_grid=params)\n",
    "\n",
    "grid_search.fit(X_train, y_train)\n",
    "\n",
    "results = grid_search.cv_results_\n",
    "```\n",
    "\n",
    "\n",
    "\n",
    "**<font color='blue'>2. Create a param_grid dictionnary with a maximum of 5 different values per hyperparameter.<br> How many trials would you perform ?**\n",
    "\n",
    "*Tips: If you are using a pipeline, then the model hyperparameters have been renamed to the name of the step in the Pipeline + two underscores + the name of the hyperparameter (see below).*\n",
    "\n",
    "```\n",
    "pipe = Pipeline([('preprocessing', ...),\n",
    "                 ('model', ...)])\n",
    "params = {\"model__hyperparameter1\" : [...],\n",
    "          \"model__hyperparameter2\" : [...]}\n",
    "```"
   ]
  },
  {
   "cell_type": "code",
   "execution_count": null,
   "metadata": {
    "id": "qKowNBaUcCBD"
   },
   "outputs": [],
   "source": [
    "params = {\"model__criterion\": [\"gini\", \"entropy\"], \n",
    "          \"model__splitter\": [\"random\", \"best\"],\n",
    "          \"model__max_depth\": [None, 5, 10, 15, 20], \n",
    "          \"model__min_samples_split\": [2, 5, 10, 15, 20], \n",
    "          \"model__min_samples_leaf\": [1, 5, 10, 15, 20], \n",
    "          \"model__max_features\": [2, 3, 4, 5, 6]}"
   ]
  },
  {
   "cell_type": "code",
   "execution_count": null,
   "metadata": {
    "colab": {
     "base_uri": "https://localhost:8080/"
    },
    "executionInfo": {
     "elapsed": 1135,
     "status": "ok",
     "timestamp": 1680195379499,
     "user": {
      "displayName": "Antoine Palisson",
      "userId": "06334333839821267204"
     },
     "user_tz": -120
    },
    "id": "uRiMSNUlcME9",
    "outputId": "480d1f86-6bd7-4bdc-bc2f-83862640f151"
   },
   "outputs": [
    {
     "name": "stdout",
     "output_type": "stream",
     "text": [
      "Number of trials : 2500\n"
     ]
    }
   ],
   "source": [
    "print(f\"Number of trials : {2*2*5*5*5*5}\")"
   ]
  },
  {
   "cell_type": "markdown",
   "metadata": {
    "id": "6Y35iHg8ZNJN"
   },
   "source": [
    "**<font color='blue'>2. Use a Grid Search strategy to find the best hyperparameter using the param_grid defined at the previous question.**\n",
    "\n",
    "*Tips: You should pass the Pipeline to the estimator parameter.<br> Additionally, you should pass the custom scorer to the scoring parameter.*"
   ]
  },
  {
   "cell_type": "code",
   "execution_count": null,
   "metadata": {
    "id": "TSIRQJs8c4_Y"
   },
   "outputs": [],
   "source": [
    "import time"
   ]
  },
  {
   "cell_type": "code",
   "execution_count": null,
   "metadata": {
    "colab": {
     "base_uri": "https://localhost:8080/"
    },
    "executionInfo": {
     "elapsed": 330217,
     "status": "ok",
     "timestamp": 1680196970127,
     "user": {
      "displayName": "Antoine Palisson",
      "userId": "06334333839821267204"
     },
     "user_tz": -120
    },
    "id": "VwNucnvETdRX",
    "outputId": "0c1292e1-964c-468a-9fe3-e485c0caa9ed"
   },
   "outputs": [
    {
     "name": "stdout",
     "output_type": "stream",
     "text": [
      "The grid search took 329.89425015449524s to run\n"
     ]
    }
   ],
   "source": [
    "t0 = time.time()\n",
    "from sklearn.model_selection import GridSearchCV\n",
    "\n",
    "dtc = DecisionTreeClassifier(random_state=42)\n",
    "pipe = Pipeline([('preprocessing', StandardScaler()),\n",
    "                 ('model', dtc)])\n",
    "\n",
    "gscv = GridSearchCV(pipe,\n",
    "                    cv=3, \n",
    "                    param_grid=params,\n",
    "                    scoring=f1_scorer)\n",
    "\n",
    "gscv.fit(X_train, y_train)\n",
    "print(f\"The grid search took {time.time() - t0:.0f}s to run\")"
   ]
  },
  {
   "cell_type": "markdown",
   "metadata": {
    "id": "dTfcBKPQdAkV"
   },
   "source": [
    "**<font color='blue'>3.a. Get the result of all the trials using the .cv_results_ attribute and transform it into a DataFrame.**\n"
   ]
  },
  {
   "cell_type": "code",
   "execution_count": null,
   "metadata": {
    "colab": {
     "base_uri": "https://localhost:8080/",
     "height": 444
    },
    "executionInfo": {
     "elapsed": 14,
     "status": "ok",
     "timestamp": 1680196970127,
     "user": {
      "displayName": "Antoine Palisson",
      "userId": "06334333839821267204"
     },
     "user_tz": -120
    },
    "id": "N3E4Kp4WdAxX",
    "outputId": "ca707470-8f9b-486c-8c8a-2e01322dfaa8"
   },
   "outputs": [
    {
     "data": {
      "text/html": [
       "\n",
       "  <div id=\"df-bde67258-6def-4bd8-a292-a45d8810ad11\">\n",
       "    <div class=\"colab-df-container\">\n",
       "      <div>\n",
       "<style scoped>\n",
       "    .dataframe tbody tr th:only-of-type {\n",
       "        vertical-align: middle;\n",
       "    }\n",
       "\n",
       "    .dataframe tbody tr th {\n",
       "        vertical-align: top;\n",
       "    }\n",
       "\n",
       "    .dataframe thead th {\n",
       "        text-align: right;\n",
       "    }\n",
       "</style>\n",
       "<table border=\"1\" class=\"dataframe\">\n",
       "  <thead>\n",
       "    <tr style=\"text-align: right;\">\n",
       "      <th></th>\n",
       "      <th>mean_fit_time</th>\n",
       "      <th>std_fit_time</th>\n",
       "      <th>mean_score_time</th>\n",
       "      <th>std_score_time</th>\n",
       "      <th>param_model__criterion</th>\n",
       "      <th>param_model__max_depth</th>\n",
       "      <th>param_model__max_features</th>\n",
       "      <th>param_model__min_samples_leaf</th>\n",
       "      <th>param_model__min_samples_split</th>\n",
       "      <th>param_model__splitter</th>\n",
       "      <th>params</th>\n",
       "      <th>split0_test_score</th>\n",
       "      <th>split1_test_score</th>\n",
       "      <th>split2_test_score</th>\n",
       "      <th>mean_test_score</th>\n",
       "      <th>std_test_score</th>\n",
       "      <th>rank_test_score</th>\n",
       "    </tr>\n",
       "  </thead>\n",
       "  <tbody>\n",
       "    <tr>\n",
       "      <th>0</th>\n",
       "      <td>0.015180</td>\n",
       "      <td>0.000880</td>\n",
       "      <td>0.019618</td>\n",
       "      <td>0.000687</td>\n",
       "      <td>gini</td>\n",
       "      <td>None</td>\n",
       "      <td>2</td>\n",
       "      <td>1</td>\n",
       "      <td>2</td>\n",
       "      <td>random</td>\n",
       "      <td>{'model__criterion': 'gini', 'model__max_depth...</td>\n",
       "      <td>0.787890</td>\n",
       "      <td>0.792661</td>\n",
       "      <td>0.784141</td>\n",
       "      <td>0.788230</td>\n",
       "      <td>0.003486</td>\n",
       "      <td>23</td>\n",
       "    </tr>\n",
       "    <tr>\n",
       "      <th>1</th>\n",
       "      <td>0.018331</td>\n",
       "      <td>0.000296</td>\n",
       "      <td>0.020190</td>\n",
       "      <td>0.001477</td>\n",
       "      <td>gini</td>\n",
       "      <td>None</td>\n",
       "      <td>2</td>\n",
       "      <td>1</td>\n",
       "      <td>2</td>\n",
       "      <td>best</td>\n",
       "      <td>{'model__criterion': 'gini', 'model__max_depth...</td>\n",
       "      <td>0.794128</td>\n",
       "      <td>0.795229</td>\n",
       "      <td>0.800661</td>\n",
       "      <td>0.796673</td>\n",
       "      <td>0.002855</td>\n",
       "      <td>16</td>\n",
       "    </tr>\n",
       "    <tr>\n",
       "      <th>2</th>\n",
       "      <td>0.016771</td>\n",
       "      <td>0.004070</td>\n",
       "      <td>0.021697</td>\n",
       "      <td>0.002493</td>\n",
       "      <td>gini</td>\n",
       "      <td>None</td>\n",
       "      <td>2</td>\n",
       "      <td>1</td>\n",
       "      <td>5</td>\n",
       "      <td>random</td>\n",
       "      <td>{'model__criterion': 'gini', 'model__max_depth...</td>\n",
       "      <td>0.637064</td>\n",
       "      <td>0.638899</td>\n",
       "      <td>0.635095</td>\n",
       "      <td>0.637020</td>\n",
       "      <td>0.001553</td>\n",
       "      <td>309</td>\n",
       "    </tr>\n",
       "    <tr>\n",
       "      <th>3</th>\n",
       "      <td>0.018711</td>\n",
       "      <td>0.001195</td>\n",
       "      <td>0.019289</td>\n",
       "      <td>0.000665</td>\n",
       "      <td>gini</td>\n",
       "      <td>None</td>\n",
       "      <td>2</td>\n",
       "      <td>1</td>\n",
       "      <td>5</td>\n",
       "      <td>best</td>\n",
       "      <td>{'model__criterion': 'gini', 'model__max_depth...</td>\n",
       "      <td>0.695780</td>\n",
       "      <td>0.689541</td>\n",
       "      <td>0.707048</td>\n",
       "      <td>0.697457</td>\n",
       "      <td>0.007245</td>\n",
       "      <td>86</td>\n",
       "    </tr>\n",
       "    <tr>\n",
       "      <th>4</th>\n",
       "      <td>0.016322</td>\n",
       "      <td>0.003010</td>\n",
       "      <td>0.019047</td>\n",
       "      <td>0.000233</td>\n",
       "      <td>gini</td>\n",
       "      <td>None</td>\n",
       "      <td>2</td>\n",
       "      <td>1</td>\n",
       "      <td>10</td>\n",
       "      <td>random</td>\n",
       "      <td>{'model__criterion': 'gini', 'model__max_depth...</td>\n",
       "      <td>0.617248</td>\n",
       "      <td>0.601468</td>\n",
       "      <td>0.610499</td>\n",
       "      <td>0.609738</td>\n",
       "      <td>0.006465</td>\n",
       "      <td>523</td>\n",
       "    </tr>\n",
       "  </tbody>\n",
       "</table>\n",
       "</div>\n",
       "      <button class=\"colab-df-convert\" onclick=\"convertToInteractive('df-bde67258-6def-4bd8-a292-a45d8810ad11')\"\n",
       "              title=\"Convert this dataframe to an interactive table.\"\n",
       "              style=\"display:none;\">\n",
       "        \n",
       "  <svg xmlns=\"http://www.w3.org/2000/svg\" height=\"24px\"viewBox=\"0 0 24 24\"\n",
       "       width=\"24px\">\n",
       "    <path d=\"M0 0h24v24H0V0z\" fill=\"none\"/>\n",
       "    <path d=\"M18.56 5.44l.94 2.06.94-2.06 2.06-.94-2.06-.94-.94-2.06-.94 2.06-2.06.94zm-11 1L8.5 8.5l.94-2.06 2.06-.94-2.06-.94L8.5 2.5l-.94 2.06-2.06.94zm10 10l.94 2.06.94-2.06 2.06-.94-2.06-.94-.94-2.06-.94 2.06-2.06.94z\"/><path d=\"M17.41 7.96l-1.37-1.37c-.4-.4-.92-.59-1.43-.59-.52 0-1.04.2-1.43.59L10.3 9.45l-7.72 7.72c-.78.78-.78 2.05 0 2.83L4 21.41c.39.39.9.59 1.41.59.51 0 1.02-.2 1.41-.59l7.78-7.78 2.81-2.81c.8-.78.8-2.07 0-2.86zM5.41 20L4 18.59l7.72-7.72 1.47 1.35L5.41 20z\"/>\n",
       "  </svg>\n",
       "      </button>\n",
       "      \n",
       "  <style>\n",
       "    .colab-df-container {\n",
       "      display:flex;\n",
       "      flex-wrap:wrap;\n",
       "      gap: 12px;\n",
       "    }\n",
       "\n",
       "    .colab-df-convert {\n",
       "      background-color: #E8F0FE;\n",
       "      border: none;\n",
       "      border-radius: 50%;\n",
       "      cursor: pointer;\n",
       "      display: none;\n",
       "      fill: #1967D2;\n",
       "      height: 32px;\n",
       "      padding: 0 0 0 0;\n",
       "      width: 32px;\n",
       "    }\n",
       "\n",
       "    .colab-df-convert:hover {\n",
       "      background-color: #E2EBFA;\n",
       "      box-shadow: 0px 1px 2px rgba(60, 64, 67, 0.3), 0px 1px 3px 1px rgba(60, 64, 67, 0.15);\n",
       "      fill: #174EA6;\n",
       "    }\n",
       "\n",
       "    [theme=dark] .colab-df-convert {\n",
       "      background-color: #3B4455;\n",
       "      fill: #D2E3FC;\n",
       "    }\n",
       "\n",
       "    [theme=dark] .colab-df-convert:hover {\n",
       "      background-color: #434B5C;\n",
       "      box-shadow: 0px 1px 3px 1px rgba(0, 0, 0, 0.15);\n",
       "      filter: drop-shadow(0px 1px 2px rgba(0, 0, 0, 0.3));\n",
       "      fill: #FFFFFF;\n",
       "    }\n",
       "  </style>\n",
       "\n",
       "      <script>\n",
       "        const buttonEl =\n",
       "          document.querySelector('#df-bde67258-6def-4bd8-a292-a45d8810ad11 button.colab-df-convert');\n",
       "        buttonEl.style.display =\n",
       "          google.colab.kernel.accessAllowed ? 'block' : 'none';\n",
       "\n",
       "        async function convertToInteractive(key) {\n",
       "          const element = document.querySelector('#df-bde67258-6def-4bd8-a292-a45d8810ad11');\n",
       "          const dataTable =\n",
       "            await google.colab.kernel.invokeFunction('convertToInteractive',\n",
       "                                                     [key], {});\n",
       "          if (!dataTable) return;\n",
       "\n",
       "          const docLinkHtml = 'Like what you see? Visit the ' +\n",
       "            '<a target=\"_blank\" href=https://colab.research.google.com/notebooks/data_table.ipynb>data table notebook</a>'\n",
       "            + ' to learn more about interactive tables.';\n",
       "          element.innerHTML = '';\n",
       "          dataTable['output_type'] = 'display_data';\n",
       "          await google.colab.output.renderOutput(dataTable, element);\n",
       "          const docLink = document.createElement('div');\n",
       "          docLink.innerHTML = docLinkHtml;\n",
       "          element.appendChild(docLink);\n",
       "        }\n",
       "      </script>\n",
       "    </div>\n",
       "  </div>\n",
       "  "
      ],
      "text/plain": [
       "   mean_fit_time  std_fit_time  mean_score_time  std_score_time  \\\n",
       "0       0.015180      0.000880         0.019618        0.000687   \n",
       "1       0.018331      0.000296         0.020190        0.001477   \n",
       "2       0.016771      0.004070         0.021697        0.002493   \n",
       "3       0.018711      0.001195         0.019289        0.000665   \n",
       "4       0.016322      0.003010         0.019047        0.000233   \n",
       "\n",
       "  param_model__criterion param_model__max_depth param_model__max_features  \\\n",
       "0                   gini                   None                         2   \n",
       "1                   gini                   None                         2   \n",
       "2                   gini                   None                         2   \n",
       "3                   gini                   None                         2   \n",
       "4                   gini                   None                         2   \n",
       "\n",
       "  param_model__min_samples_leaf param_model__min_samples_split  \\\n",
       "0                             1                              2   \n",
       "1                             1                              2   \n",
       "2                             1                              5   \n",
       "3                             1                              5   \n",
       "4                             1                             10   \n",
       "\n",
       "  param_model__splitter                                             params  \\\n",
       "0                random  {'model__criterion': 'gini', 'model__max_depth...   \n",
       "1                  best  {'model__criterion': 'gini', 'model__max_depth...   \n",
       "2                random  {'model__criterion': 'gini', 'model__max_depth...   \n",
       "3                  best  {'model__criterion': 'gini', 'model__max_depth...   \n",
       "4                random  {'model__criterion': 'gini', 'model__max_depth...   \n",
       "\n",
       "   split0_test_score  split1_test_score  split2_test_score  mean_test_score  \\\n",
       "0           0.787890           0.792661           0.784141         0.788230   \n",
       "1           0.794128           0.795229           0.800661         0.796673   \n",
       "2           0.637064           0.638899           0.635095         0.637020   \n",
       "3           0.695780           0.689541           0.707048         0.697457   \n",
       "4           0.617248           0.601468           0.610499         0.609738   \n",
       "\n",
       "   std_test_score  rank_test_score  \n",
       "0        0.003486               23  \n",
       "1        0.002855               16  \n",
       "2        0.001553              309  \n",
       "3        0.007245               86  \n",
       "4        0.006465              523  "
      ]
     },
     "execution_count": 203,
     "metadata": {},
     "output_type": "execute_result"
    }
   ],
   "source": [
    "results = pd.DataFrame(gscv.cv_results_)\n",
    "results.head()"
   ]
  },
  {
   "cell_type": "markdown",
   "metadata": {
    "id": "RlvTwdLUdPcZ"
   },
   "source": [
    "**<font color='blue'>3.b. Sort the trials by the `rank_test_score` column.<br>What is the best set of hyperparameters ? Is it better than the default model.**"
   ]
  },
  {
   "cell_type": "code",
   "execution_count": null,
   "metadata": {
    "colab": {
     "base_uri": "https://localhost:8080/",
     "height": 206
    },
    "executionInfo": {
     "elapsed": 13,
     "status": "ok",
     "timestamp": 1680196970127,
     "user": {
      "displayName": "Antoine Palisson",
      "userId": "06334333839821267204"
     },
     "user_tz": -120
    },
    "id": "sTVI32LddelF",
    "outputId": "4e1adb83-d942-447f-ead0-5f74b976ed74"
   },
   "outputs": [
    {
     "data": {
      "text/html": [
       "\n",
       "  <div id=\"df-2538327f-6d8c-4433-85d7-ccbaab634da7\">\n",
       "    <div class=\"colab-df-container\">\n",
       "      <div>\n",
       "<style scoped>\n",
       "    .dataframe tbody tr th:only-of-type {\n",
       "        vertical-align: middle;\n",
       "    }\n",
       "\n",
       "    .dataframe tbody tr th {\n",
       "        vertical-align: top;\n",
       "    }\n",
       "\n",
       "    .dataframe thead th {\n",
       "        text-align: right;\n",
       "    }\n",
       "</style>\n",
       "<table border=\"1\" class=\"dataframe\">\n",
       "  <thead>\n",
       "    <tr style=\"text-align: right;\">\n",
       "      <th></th>\n",
       "      <th>params</th>\n",
       "      <th>split0_test_score</th>\n",
       "      <th>split1_test_score</th>\n",
       "      <th>split2_test_score</th>\n",
       "      <th>mean_test_score</th>\n",
       "      <th>std_test_score</th>\n",
       "      <th>rank_test_score</th>\n",
       "    </tr>\n",
       "  </thead>\n",
       "  <tbody>\n",
       "    <tr>\n",
       "      <th>200</th>\n",
       "      <td>{'model__criterion': 'gini', 'model__max_depth...</td>\n",
       "      <td>0.817982</td>\n",
       "      <td>0.809908</td>\n",
       "      <td>0.800294</td>\n",
       "      <td>0.809395</td>\n",
       "      <td>0.007230</td>\n",
       "      <td>1</td>\n",
       "    </tr>\n",
       "    <tr>\n",
       "      <th>201</th>\n",
       "      <td>{'model__criterion': 'gini', 'model__max_depth...</td>\n",
       "      <td>0.803670</td>\n",
       "      <td>0.812477</td>\n",
       "      <td>0.811674</td>\n",
       "      <td>0.809274</td>\n",
       "      <td>0.003976</td>\n",
       "      <td>2</td>\n",
       "    </tr>\n",
       "    <tr>\n",
       "      <th>1451</th>\n",
       "      <td>{'model__criterion': 'entropy', 'model__max_de...</td>\n",
       "      <td>0.812844</td>\n",
       "      <td>0.805872</td>\n",
       "      <td>0.808003</td>\n",
       "      <td>0.808906</td>\n",
       "      <td>0.002917</td>\n",
       "      <td>3</td>\n",
       "    </tr>\n",
       "    <tr>\n",
       "      <th>1400</th>\n",
       "      <td>{'model__criterion': 'entropy', 'model__max_de...</td>\n",
       "      <td>0.802569</td>\n",
       "      <td>0.805872</td>\n",
       "      <td>0.805066</td>\n",
       "      <td>0.804502</td>\n",
       "      <td>0.001406</td>\n",
       "      <td>4</td>\n",
       "    </tr>\n",
       "    <tr>\n",
       "      <th>101</th>\n",
       "      <td>{'model__criterion': 'gini', 'model__max_depth...</td>\n",
       "      <td>0.802569</td>\n",
       "      <td>0.801101</td>\n",
       "      <td>0.809104</td>\n",
       "      <td>0.804258</td>\n",
       "      <td>0.003479</td>\n",
       "      <td>5</td>\n",
       "    </tr>\n",
       "  </tbody>\n",
       "</table>\n",
       "</div>\n",
       "      <button class=\"colab-df-convert\" onclick=\"convertToInteractive('df-2538327f-6d8c-4433-85d7-ccbaab634da7')\"\n",
       "              title=\"Convert this dataframe to an interactive table.\"\n",
       "              style=\"display:none;\">\n",
       "        \n",
       "  <svg xmlns=\"http://www.w3.org/2000/svg\" height=\"24px\"viewBox=\"0 0 24 24\"\n",
       "       width=\"24px\">\n",
       "    <path d=\"M0 0h24v24H0V0z\" fill=\"none\"/>\n",
       "    <path d=\"M18.56 5.44l.94 2.06.94-2.06 2.06-.94-2.06-.94-.94-2.06-.94 2.06-2.06.94zm-11 1L8.5 8.5l.94-2.06 2.06-.94-2.06-.94L8.5 2.5l-.94 2.06-2.06.94zm10 10l.94 2.06.94-2.06 2.06-.94-2.06-.94-.94-2.06-.94 2.06-2.06.94z\"/><path d=\"M17.41 7.96l-1.37-1.37c-.4-.4-.92-.59-1.43-.59-.52 0-1.04.2-1.43.59L10.3 9.45l-7.72 7.72c-.78.78-.78 2.05 0 2.83L4 21.41c.39.39.9.59 1.41.59.51 0 1.02-.2 1.41-.59l7.78-7.78 2.81-2.81c.8-.78.8-2.07 0-2.86zM5.41 20L4 18.59l7.72-7.72 1.47 1.35L5.41 20z\"/>\n",
       "  </svg>\n",
       "      </button>\n",
       "      \n",
       "  <style>\n",
       "    .colab-df-container {\n",
       "      display:flex;\n",
       "      flex-wrap:wrap;\n",
       "      gap: 12px;\n",
       "    }\n",
       "\n",
       "    .colab-df-convert {\n",
       "      background-color: #E8F0FE;\n",
       "      border: none;\n",
       "      border-radius: 50%;\n",
       "      cursor: pointer;\n",
       "      display: none;\n",
       "      fill: #1967D2;\n",
       "      height: 32px;\n",
       "      padding: 0 0 0 0;\n",
       "      width: 32px;\n",
       "    }\n",
       "\n",
       "    .colab-df-convert:hover {\n",
       "      background-color: #E2EBFA;\n",
       "      box-shadow: 0px 1px 2px rgba(60, 64, 67, 0.3), 0px 1px 3px 1px rgba(60, 64, 67, 0.15);\n",
       "      fill: #174EA6;\n",
       "    }\n",
       "\n",
       "    [theme=dark] .colab-df-convert {\n",
       "      background-color: #3B4455;\n",
       "      fill: #D2E3FC;\n",
       "    }\n",
       "\n",
       "    [theme=dark] .colab-df-convert:hover {\n",
       "      background-color: #434B5C;\n",
       "      box-shadow: 0px 1px 3px 1px rgba(0, 0, 0, 0.15);\n",
       "      filter: drop-shadow(0px 1px 2px rgba(0, 0, 0, 0.3));\n",
       "      fill: #FFFFFF;\n",
       "    }\n",
       "  </style>\n",
       "\n",
       "      <script>\n",
       "        const buttonEl =\n",
       "          document.querySelector('#df-2538327f-6d8c-4433-85d7-ccbaab634da7 button.colab-df-convert');\n",
       "        buttonEl.style.display =\n",
       "          google.colab.kernel.accessAllowed ? 'block' : 'none';\n",
       "\n",
       "        async function convertToInteractive(key) {\n",
       "          const element = document.querySelector('#df-2538327f-6d8c-4433-85d7-ccbaab634da7');\n",
       "          const dataTable =\n",
       "            await google.colab.kernel.invokeFunction('convertToInteractive',\n",
       "                                                     [key], {});\n",
       "          if (!dataTable) return;\n",
       "\n",
       "          const docLinkHtml = 'Like what you see? Visit the ' +\n",
       "            '<a target=\"_blank\" href=https://colab.research.google.com/notebooks/data_table.ipynb>data table notebook</a>'\n",
       "            + ' to learn more about interactive tables.';\n",
       "          element.innerHTML = '';\n",
       "          dataTable['output_type'] = 'display_data';\n",
       "          await google.colab.output.renderOutput(dataTable, element);\n",
       "          const docLink = document.createElement('div');\n",
       "          docLink.innerHTML = docLinkHtml;\n",
       "          element.appendChild(docLink);\n",
       "        }\n",
       "      </script>\n",
       "    </div>\n",
       "  </div>\n",
       "  "
      ],
      "text/plain": [
       "                                                 params  split0_test_score  \\\n",
       "200   {'model__criterion': 'gini', 'model__max_depth...           0.817982   \n",
       "201   {'model__criterion': 'gini', 'model__max_depth...           0.803670   \n",
       "1451  {'model__criterion': 'entropy', 'model__max_de...           0.812844   \n",
       "1400  {'model__criterion': 'entropy', 'model__max_de...           0.802569   \n",
       "101   {'model__criterion': 'gini', 'model__max_depth...           0.802569   \n",
       "\n",
       "      split1_test_score  split2_test_score  mean_test_score  std_test_score  \\\n",
       "200            0.809908           0.800294         0.809395        0.007230   \n",
       "201            0.812477           0.811674         0.809274        0.003976   \n",
       "1451           0.805872           0.808003         0.808906        0.002917   \n",
       "1400           0.805872           0.805066         0.804502        0.001406   \n",
       "101            0.801101           0.809104         0.804258        0.003479   \n",
       "\n",
       "      rank_test_score  \n",
       "200                 1  \n",
       "201                 2  \n",
       "1451                3  \n",
       "1400                4  \n",
       "101                 5  "
      ]
     },
     "execution_count": 204,
     "metadata": {},
     "output_type": "execute_result"
    }
   ],
   "source": [
    "# The result it bit better than  the default model but it took more than 5 minutes to compute\n",
    "# Imagine with a bigger parameter space.\n",
    "results.loc[:,'params':].sort_values('rank_test_score').head()"
   ]
  },
  {
   "cell_type": "code",
   "execution_count": null,
   "metadata": {
    "colab": {
     "base_uri": "https://localhost:8080/"
    },
    "executionInfo": {
     "elapsed": 320,
     "status": "ok",
     "timestamp": 1680197092566,
     "user": {
      "displayName": "Antoine Palisson",
      "userId": "06334333839821267204"
     },
     "user_tz": -120
    },
    "id": "RkPGDNdhjIIj",
    "outputId": "d8e5f56c-c525-42c0-9eed-40636eaabc4f"
   },
   "outputs": [
    {
     "data": {
      "text/plain": [
       "array([{'model__criterion': 'gini', 'model__max_depth': None, 'model__max_features': 6, 'model__min_samples_leaf': 1, 'model__min_samples_split': 2, 'model__splitter': 'random'},\n",
       "       {'model__criterion': 'gini', 'model__max_depth': None, 'model__max_features': 6, 'model__min_samples_leaf': 1, 'model__min_samples_split': 2, 'model__splitter': 'best'},\n",
       "       {'model__criterion': 'entropy', 'model__max_depth': None, 'model__max_features': 6, 'model__min_samples_leaf': 1, 'model__min_samples_split': 2, 'model__splitter': 'best'},\n",
       "       {'model__criterion': 'entropy', 'model__max_depth': None, 'model__max_features': 5, 'model__min_samples_leaf': 1, 'model__min_samples_split': 2, 'model__splitter': 'random'},\n",
       "       {'model__criterion': 'gini', 'model__max_depth': None, 'model__max_features': 4, 'model__min_samples_leaf': 1, 'model__min_samples_split': 2, 'model__splitter': 'best'}],\n",
       "      dtype=object)"
      ]
     },
     "execution_count": 209,
     "metadata": {},
     "output_type": "execute_result"
    }
   ],
   "source": [
    "results.loc[:,'params':].sort_values('rank_test_score')['params'].head().to_numpy()"
   ]
  },
  {
   "cell_type": "markdown",
   "metadata": {
    "id": "m1gGR34BdxZJ"
   },
   "source": [
    "## Random Search"
   ]
  },
  {
   "cell_type": "markdown",
   "metadata": {
    "id": "V8lp-W5ZeC8Q"
   },
   "source": [
    "**`RandomizedSearchCV`** is a class in Scikit-learn that randomly selects a subset of hyperparameters and fits the model using those hyperparameters, repeating this process for a specified number of iterations to find the optimal combination of hyperparameters that produce the best performance on a given metric.\n",
    "\n",
    "You can find it [here](https://scikit-learn.org/stable/modules/generated/sklearn.model_selection.RandomizedSearchCV.html#sklearn.model_selection.RandomizedSearchCV).\n",
    "\n",
    "---\n",
    "\n",
    "**`RandomizedSearchCV`** has very similar parameters to **`GridSearchCV`**.<br> It also adds new parameters suchs as:\n",
    "\n",
    "* **`param_distributions`**: This parameter is a dictionary or a list of dictionaries, where each dictionary contains hyperparameter distributions to be sampled from. The hyperparameters to be tuned are specified as keys in each dictionary, and the corresponding value is a distribution over the hyperparameter space from which to sample. This parameter controls the search space from which the hyperparameters are randomly sampled.\n",
    "\n",
    "* **`n_iter`**: This parameter specifies the number of iterations to perform during the randomized search. Each iteration samples a set of hyperparameters from the specified param_distributions and fits the model using those hyperparameters. The higher the value of n_iter, the more exhaustive the search for the optimal hyperparameters will be.\n",
    "\n",
    "* **`random_state`**: This parameter controls the random number generator used for the randomized search. Setting a specific value for random_state ensures that the same set of hyperparameters is sampled on each run, making the results reproducible. If random_state is not set, the search will generate different hyperparameters each time it is run.\n",
    "\n",
    "---\n",
    "\n",
    "**`RandomizedSearchCV`** has the same attributes as **`GridSearchCV`**.\n",
    "\n",
    "---\n",
    "\n",
    "```\n",
    "params = {...}\n",
    "\n",
    "random_search = RandomizedSearchCV(estimator=model, \n",
    "                                   param_distribution=params,\n",
    "                                   n_iter=...)\n",
    "\n",
    "random_search.fit(X_train, y_train)\n",
    "\n",
    "results = random_search.cv_results_\n",
    "```\n",
    "\n",
    "**<font color='blue'>1. Use the following param_distribution in the RandomizedSeachCV class to perform a first coarse search with `n_iter=500`.<br>How many trials would it be if used on along with a Grid Search strategy ?**"
   ]
  },
  {
   "cell_type": "code",
   "execution_count": null,
   "metadata": {
    "id": "QtfQIkSE4HvZ"
   },
   "outputs": [],
   "source": [
    "max_depth = list(range(5,80,5))\n",
    "max_depth.append(None)\n",
    "\n",
    "params = {\"model__criterion\": [\"gini\", \"entropy\"], \n",
    "          \"model__splitter\": [\"random\", \"best\"],\n",
    "          \"model__max_depth\": max_depth, \n",
    "          \"model__min_samples_split\": range(2,30,2), \n",
    "          \"model__min_samples_leaf\": range(1,30,2), \n",
    "          \"model__max_features\": range(1,7)}"
   ]
  },
  {
   "cell_type": "code",
   "execution_count": null,
   "metadata": {
    "colab": {
     "base_uri": "https://localhost:8080/"
    },
    "executionInfo": {
     "elapsed": 125,
     "status": "ok",
     "timestamp": 1680200475716,
     "user": {
      "displayName": "Antoine Palisson",
      "userId": "06334333839821267204"
     },
     "user_tz": -120
    },
    "id": "Qa7qXqDujyoa",
    "outputId": "408d9eaf-7d8a-4127-aa29-a5a817e638e6"
   },
   "outputs": [
    {
     "name": "stdout",
     "output_type": "stream",
     "text": [
      "Number of trials : 80,640\n"
     ]
    }
   ],
   "source": [
    "print(f\"Number of trials : {len(max_depth)*len(range(1,30,2))*len(range(2,30,2))*2*2*len(range(1,7)):,}\")"
   ]
  },
  {
   "cell_type": "code",
   "execution_count": null,
   "metadata": {
    "colab": {
     "base_uri": "https://localhost:8080/",
     "height": 152
    },
    "executionInfo": {
     "elapsed": 62031,
     "status": "ok",
     "timestamp": 1680200475715,
     "user": {
      "displayName": "Antoine Palisson",
      "userId": "06334333839821267204"
     },
     "user_tz": -120
    },
    "id": "BvSJgmSuxIL_",
    "outputId": "e0705da6-5cb5-43fd-fc83-ee7c49f5472a"
   },
   "outputs": [
    {
     "data": {
      "text/html": [
       "<style>#sk-container-id-27 {color: black;background-color: white;}#sk-container-id-27 pre{padding: 0;}#sk-container-id-27 div.sk-toggleable {background-color: white;}#sk-container-id-27 label.sk-toggleable__label {cursor: pointer;display: block;width: 100%;margin-bottom: 0;padding: 0.3em;box-sizing: border-box;text-align: center;}#sk-container-id-27 label.sk-toggleable__label-arrow:before {content: \"▸\";float: left;margin-right: 0.25em;color: #696969;}#sk-container-id-27 label.sk-toggleable__label-arrow:hover:before {color: black;}#sk-container-id-27 div.sk-estimator:hover label.sk-toggleable__label-arrow:before {color: black;}#sk-container-id-27 div.sk-toggleable__content {max-height: 0;max-width: 0;overflow: hidden;text-align: left;background-color: #f0f8ff;}#sk-container-id-27 div.sk-toggleable__content pre {margin: 0.2em;color: black;border-radius: 0.25em;background-color: #f0f8ff;}#sk-container-id-27 input.sk-toggleable__control:checked~div.sk-toggleable__content {max-height: 200px;max-width: 100%;overflow: auto;}#sk-container-id-27 input.sk-toggleable__control:checked~label.sk-toggleable__label-arrow:before {content: \"▾\";}#sk-container-id-27 div.sk-estimator input.sk-toggleable__control:checked~label.sk-toggleable__label {background-color: #d4ebff;}#sk-container-id-27 div.sk-label input.sk-toggleable__control:checked~label.sk-toggleable__label {background-color: #d4ebff;}#sk-container-id-27 input.sk-hidden--visually {border: 0;clip: rect(1px 1px 1px 1px);clip: rect(1px, 1px, 1px, 1px);height: 1px;margin: -1px;overflow: hidden;padding: 0;position: absolute;width: 1px;}#sk-container-id-27 div.sk-estimator {font-family: monospace;background-color: #f0f8ff;border: 1px dotted black;border-radius: 0.25em;box-sizing: border-box;margin-bottom: 0.5em;}#sk-container-id-27 div.sk-estimator:hover {background-color: #d4ebff;}#sk-container-id-27 div.sk-parallel-item::after {content: \"\";width: 100%;border-bottom: 1px solid gray;flex-grow: 1;}#sk-container-id-27 div.sk-label:hover label.sk-toggleable__label {background-color: #d4ebff;}#sk-container-id-27 div.sk-serial::before {content: \"\";position: absolute;border-left: 1px solid gray;box-sizing: border-box;top: 0;bottom: 0;left: 50%;z-index: 0;}#sk-container-id-27 div.sk-serial {display: flex;flex-direction: column;align-items: center;background-color: white;padding-right: 0.2em;padding-left: 0.2em;position: relative;}#sk-container-id-27 div.sk-item {position: relative;z-index: 1;}#sk-container-id-27 div.sk-parallel {display: flex;align-items: stretch;justify-content: center;background-color: white;position: relative;}#sk-container-id-27 div.sk-item::before, #sk-container-id-27 div.sk-parallel-item::before {content: \"\";position: absolute;border-left: 1px solid gray;box-sizing: border-box;top: 0;bottom: 0;left: 50%;z-index: -1;}#sk-container-id-27 div.sk-parallel-item {display: flex;flex-direction: column;z-index: 1;position: relative;background-color: white;}#sk-container-id-27 div.sk-parallel-item:first-child::after {align-self: flex-end;width: 50%;}#sk-container-id-27 div.sk-parallel-item:last-child::after {align-self: flex-start;width: 50%;}#sk-container-id-27 div.sk-parallel-item:only-child::after {width: 0;}#sk-container-id-27 div.sk-dashed-wrapped {border: 1px dashed gray;margin: 0 0.4em 0.5em 0.4em;box-sizing: border-box;padding-bottom: 0.4em;background-color: white;}#sk-container-id-27 div.sk-label label {font-family: monospace;font-weight: bold;display: inline-block;line-height: 1.2em;}#sk-container-id-27 div.sk-label-container {text-align: center;}#sk-container-id-27 div.sk-container {/* jupyter's `normalize.less` sets `[hidden] { display: none; }` but bootstrap.min.css set `[hidden] { display: none !important; }` so we also need the `!important` here to be able to override the default hidden behavior on the sphinx rendered scikit-learn.org. See: https://github.com/scikit-learn/scikit-learn/issues/21755 */display: inline-block !important;position: relative;}#sk-container-id-27 div.sk-text-repr-fallback {display: none;}</style><div id=\"sk-container-id-27\" class=\"sk-top-container\"><div class=\"sk-text-repr-fallback\"><pre>RandomizedSearchCV(cv=3,\n",
       "                   estimator=Pipeline(steps=[(&#x27;preprocessing&#x27;,\n",
       "                                              StandardScaler()),\n",
       "                                             (&#x27;model&#x27;,\n",
       "                                              DecisionTreeClassifier(criterion=&#x27;entropy&#x27;,\n",
       "                                                                     random_state=42))]),\n",
       "                   n_iter=500,\n",
       "                   param_distributions={&#x27;model__criterion&#x27;: [&#x27;gini&#x27;, &#x27;entropy&#x27;],\n",
       "                                        &#x27;model__max_depth&#x27;: [5, 10, 15, 20, 25,\n",
       "                                                             30, 35, 40, 45, 50,\n",
       "                                                             55, 60, 65, 70, 75,\n",
       "                                                             None],\n",
       "                                        &#x27;model__max_features&#x27;: range(1, 7),\n",
       "                                        &#x27;model__min_samples_leaf&#x27;: range(1, 30, 2),\n",
       "                                        &#x27;model__min_samples_split&#x27;: range(2, 30, 2),\n",
       "                                        &#x27;model__splitter&#x27;: [&#x27;random&#x27;, &#x27;best&#x27;]},\n",
       "                   random_state=42,\n",
       "                   scoring=make_scorer(f1_score, average=micro))</pre><b>In a Jupyter environment, please rerun this cell to show the HTML representation or trust the notebook. <br />On GitHub, the HTML representation is unable to render, please try loading this page with nbviewer.org.</b></div><div class=\"sk-container\" hidden><div class=\"sk-item sk-dashed-wrapped\"><div class=\"sk-label-container\"><div class=\"sk-label sk-toggleable\"><input class=\"sk-toggleable__control sk-hidden--visually\" id=\"sk-estimator-id-95\" type=\"checkbox\" ><label for=\"sk-estimator-id-95\" class=\"sk-toggleable__label sk-toggleable__label-arrow\">RandomizedSearchCV</label><div class=\"sk-toggleable__content\"><pre>RandomizedSearchCV(cv=3,\n",
       "                   estimator=Pipeline(steps=[(&#x27;preprocessing&#x27;,\n",
       "                                              StandardScaler()),\n",
       "                                             (&#x27;model&#x27;,\n",
       "                                              DecisionTreeClassifier(criterion=&#x27;entropy&#x27;,\n",
       "                                                                     random_state=42))]),\n",
       "                   n_iter=500,\n",
       "                   param_distributions={&#x27;model__criterion&#x27;: [&#x27;gini&#x27;, &#x27;entropy&#x27;],\n",
       "                                        &#x27;model__max_depth&#x27;: [5, 10, 15, 20, 25,\n",
       "                                                             30, 35, 40, 45, 50,\n",
       "                                                             55, 60, 65, 70, 75,\n",
       "                                                             None],\n",
       "                                        &#x27;model__max_features&#x27;: range(1, 7),\n",
       "                                        &#x27;model__min_samples_leaf&#x27;: range(1, 30, 2),\n",
       "                                        &#x27;model__min_samples_split&#x27;: range(2, 30, 2),\n",
       "                                        &#x27;model__splitter&#x27;: [&#x27;random&#x27;, &#x27;best&#x27;]},\n",
       "                   random_state=42,\n",
       "                   scoring=make_scorer(f1_score, average=micro))</pre></div></div></div><div class=\"sk-parallel\"><div class=\"sk-parallel-item\"><div class=\"sk-item\"><div class=\"sk-label-container\"><div class=\"sk-label sk-toggleable\"><input class=\"sk-toggleable__control sk-hidden--visually\" id=\"sk-estimator-id-96\" type=\"checkbox\" ><label for=\"sk-estimator-id-96\" class=\"sk-toggleable__label sk-toggleable__label-arrow\">estimator: Pipeline</label><div class=\"sk-toggleable__content\"><pre>Pipeline(steps=[(&#x27;preprocessing&#x27;, StandardScaler()),\n",
       "                (&#x27;model&#x27;,\n",
       "                 DecisionTreeClassifier(criterion=&#x27;entropy&#x27;, random_state=42))])</pre></div></div></div><div class=\"sk-serial\"><div class=\"sk-item\"><div class=\"sk-serial\"><div class=\"sk-item\"><div class=\"sk-estimator sk-toggleable\"><input class=\"sk-toggleable__control sk-hidden--visually\" id=\"sk-estimator-id-97\" type=\"checkbox\" ><label for=\"sk-estimator-id-97\" class=\"sk-toggleable__label sk-toggleable__label-arrow\">StandardScaler</label><div class=\"sk-toggleable__content\"><pre>StandardScaler()</pre></div></div></div><div class=\"sk-item\"><div class=\"sk-estimator sk-toggleable\"><input class=\"sk-toggleable__control sk-hidden--visually\" id=\"sk-estimator-id-98\" type=\"checkbox\" ><label for=\"sk-estimator-id-98\" class=\"sk-toggleable__label sk-toggleable__label-arrow\">DecisionTreeClassifier</label><div class=\"sk-toggleable__content\"><pre>DecisionTreeClassifier(criterion=&#x27;entropy&#x27;, random_state=42)</pre></div></div></div></div></div></div></div></div></div></div></div></div>"
      ],
      "text/plain": [
       "RandomizedSearchCV(cv=3,\n",
       "                   estimator=Pipeline(steps=[('preprocessing',\n",
       "                                              StandardScaler()),\n",
       "                                             ('model',\n",
       "                                              DecisionTreeClassifier(criterion='entropy',\n",
       "                                                                     random_state=42))]),\n",
       "                   n_iter=500,\n",
       "                   param_distributions={'model__criterion': ['gini', 'entropy'],\n",
       "                                        'model__max_depth': [5, 10, 15, 20, 25,\n",
       "                                                             30, 35, 40, 45, 50,\n",
       "                                                             55, 60, 65, 70, 75,\n",
       "                                                             None],\n",
       "                                        'model__max_features': range(1, 7),\n",
       "                                        'model__min_samples_leaf': range(1, 30, 2),\n",
       "                                        'model__min_samples_split': range(2, 30, 2),\n",
       "                                        'model__splitter': ['random', 'best']},\n",
       "                   random_state=42,\n",
       "                   scoring=make_scorer(f1_score, average=micro))"
      ]
     },
     "execution_count": 278,
     "metadata": {},
     "output_type": "execute_result"
    }
   ],
   "source": [
    "from sklearn.model_selection import RandomizedSearchCV\n",
    "\n",
    "rscv = RandomizedSearchCV(pipe, \n",
    "                          params,\n",
    "                          n_iter=500, \n",
    "                          scoring=f1_scorer, \n",
    "                          cv=3,\n",
    "                          random_state=42)\n",
    "\n",
    "rscv.fit(X_train, y_train)"
   ]
  },
  {
   "cell_type": "markdown",
   "metadata": {
    "id": "HPW6Qutahwe9"
   },
   "source": [
    "**<font color='blue'>2.a. Get the result of all the trials using the .cv_results_ attribute and sort the trials by the `rank_test_score` column.**"
   ]
  },
  {
   "cell_type": "code",
   "execution_count": null,
   "metadata": {
    "colab": {
     "base_uri": "https://localhost:8080/",
     "height": 206
    },
    "executionInfo": {
     "elapsed": 130,
     "status": "ok",
     "timestamp": 1680200475726,
     "user": {
      "displayName": "Antoine Palisson",
      "userId": "06334333839821267204"
     },
     "user_tz": -120
    },
    "id": "NmvXUKSzyOwY",
    "outputId": "fb5ecf01-95e4-4787-ad72-c79b7fafc021"
   },
   "outputs": [
    {
     "data": {
      "text/html": [
       "\n",
       "  <div id=\"df-660215bf-5590-4c1e-b113-231a76a51b49\">\n",
       "    <div class=\"colab-df-container\">\n",
       "      <div>\n",
       "<style scoped>\n",
       "    .dataframe tbody tr th:only-of-type {\n",
       "        vertical-align: middle;\n",
       "    }\n",
       "\n",
       "    .dataframe tbody tr th {\n",
       "        vertical-align: top;\n",
       "    }\n",
       "\n",
       "    .dataframe thead th {\n",
       "        text-align: right;\n",
       "    }\n",
       "</style>\n",
       "<table border=\"1\" class=\"dataframe\">\n",
       "  <thead>\n",
       "    <tr style=\"text-align: right;\">\n",
       "      <th></th>\n",
       "      <th>params</th>\n",
       "      <th>split0_test_score</th>\n",
       "      <th>split1_test_score</th>\n",
       "      <th>split2_test_score</th>\n",
       "      <th>mean_test_score</th>\n",
       "      <th>std_test_score</th>\n",
       "      <th>rank_test_score</th>\n",
       "    </tr>\n",
       "  </thead>\n",
       "  <tbody>\n",
       "    <tr>\n",
       "      <th>339</th>\n",
       "      <td>{'model__splitter': 'best', 'model__min_sample...</td>\n",
       "      <td>0.779817</td>\n",
       "      <td>0.776514</td>\n",
       "      <td>0.781938</td>\n",
       "      <td>0.779423</td>\n",
       "      <td>0.002232</td>\n",
       "      <td>1</td>\n",
       "    </tr>\n",
       "    <tr>\n",
       "      <th>185</th>\n",
       "      <td>{'model__splitter': 'best', 'model__min_sample...</td>\n",
       "      <td>0.761101</td>\n",
       "      <td>0.777248</td>\n",
       "      <td>0.760279</td>\n",
       "      <td>0.766209</td>\n",
       "      <td>0.007813</td>\n",
       "      <td>2</td>\n",
       "    </tr>\n",
       "    <tr>\n",
       "      <th>233</th>\n",
       "      <td>{'model__splitter': 'best', 'model__min_sample...</td>\n",
       "      <td>0.760367</td>\n",
       "      <td>0.767706</td>\n",
       "      <td>0.763950</td>\n",
       "      <td>0.764008</td>\n",
       "      <td>0.002997</td>\n",
       "      <td>3</td>\n",
       "    </tr>\n",
       "    <tr>\n",
       "      <th>192</th>\n",
       "      <td>{'model__splitter': 'best', 'model__min_sample...</td>\n",
       "      <td>0.767706</td>\n",
       "      <td>0.744220</td>\n",
       "      <td>0.759178</td>\n",
       "      <td>0.757035</td>\n",
       "      <td>0.009707</td>\n",
       "      <td>4</td>\n",
       "    </tr>\n",
       "    <tr>\n",
       "      <th>71</th>\n",
       "      <td>{'model__splitter': 'best', 'model__min_sample...</td>\n",
       "      <td>0.734312</td>\n",
       "      <td>0.735413</td>\n",
       "      <td>0.738987</td>\n",
       "      <td>0.736237</td>\n",
       "      <td>0.001996</td>\n",
       "      <td>5</td>\n",
       "    </tr>\n",
       "  </tbody>\n",
       "</table>\n",
       "</div>\n",
       "      <button class=\"colab-df-convert\" onclick=\"convertToInteractive('df-660215bf-5590-4c1e-b113-231a76a51b49')\"\n",
       "              title=\"Convert this dataframe to an interactive table.\"\n",
       "              style=\"display:none;\">\n",
       "        \n",
       "  <svg xmlns=\"http://www.w3.org/2000/svg\" height=\"24px\"viewBox=\"0 0 24 24\"\n",
       "       width=\"24px\">\n",
       "    <path d=\"M0 0h24v24H0V0z\" fill=\"none\"/>\n",
       "    <path d=\"M18.56 5.44l.94 2.06.94-2.06 2.06-.94-2.06-.94-.94-2.06-.94 2.06-2.06.94zm-11 1L8.5 8.5l.94-2.06 2.06-.94-2.06-.94L8.5 2.5l-.94 2.06-2.06.94zm10 10l.94 2.06.94-2.06 2.06-.94-2.06-.94-.94-2.06-.94 2.06-2.06.94z\"/><path d=\"M17.41 7.96l-1.37-1.37c-.4-.4-.92-.59-1.43-.59-.52 0-1.04.2-1.43.59L10.3 9.45l-7.72 7.72c-.78.78-.78 2.05 0 2.83L4 21.41c.39.39.9.59 1.41.59.51 0 1.02-.2 1.41-.59l7.78-7.78 2.81-2.81c.8-.78.8-2.07 0-2.86zM5.41 20L4 18.59l7.72-7.72 1.47 1.35L5.41 20z\"/>\n",
       "  </svg>\n",
       "      </button>\n",
       "      \n",
       "  <style>\n",
       "    .colab-df-container {\n",
       "      display:flex;\n",
       "      flex-wrap:wrap;\n",
       "      gap: 12px;\n",
       "    }\n",
       "\n",
       "    .colab-df-convert {\n",
       "      background-color: #E8F0FE;\n",
       "      border: none;\n",
       "      border-radius: 50%;\n",
       "      cursor: pointer;\n",
       "      display: none;\n",
       "      fill: #1967D2;\n",
       "      height: 32px;\n",
       "      padding: 0 0 0 0;\n",
       "      width: 32px;\n",
       "    }\n",
       "\n",
       "    .colab-df-convert:hover {\n",
       "      background-color: #E2EBFA;\n",
       "      box-shadow: 0px 1px 2px rgba(60, 64, 67, 0.3), 0px 1px 3px 1px rgba(60, 64, 67, 0.15);\n",
       "      fill: #174EA6;\n",
       "    }\n",
       "\n",
       "    [theme=dark] .colab-df-convert {\n",
       "      background-color: #3B4455;\n",
       "      fill: #D2E3FC;\n",
       "    }\n",
       "\n",
       "    [theme=dark] .colab-df-convert:hover {\n",
       "      background-color: #434B5C;\n",
       "      box-shadow: 0px 1px 3px 1px rgba(0, 0, 0, 0.15);\n",
       "      filter: drop-shadow(0px 1px 2px rgba(0, 0, 0, 0.3));\n",
       "      fill: #FFFFFF;\n",
       "    }\n",
       "  </style>\n",
       "\n",
       "      <script>\n",
       "        const buttonEl =\n",
       "          document.querySelector('#df-660215bf-5590-4c1e-b113-231a76a51b49 button.colab-df-convert');\n",
       "        buttonEl.style.display =\n",
       "          google.colab.kernel.accessAllowed ? 'block' : 'none';\n",
       "\n",
       "        async function convertToInteractive(key) {\n",
       "          const element = document.querySelector('#df-660215bf-5590-4c1e-b113-231a76a51b49');\n",
       "          const dataTable =\n",
       "            await google.colab.kernel.invokeFunction('convertToInteractive',\n",
       "                                                     [key], {});\n",
       "          if (!dataTable) return;\n",
       "\n",
       "          const docLinkHtml = 'Like what you see? Visit the ' +\n",
       "            '<a target=\"_blank\" href=https://colab.research.google.com/notebooks/data_table.ipynb>data table notebook</a>'\n",
       "            + ' to learn more about interactive tables.';\n",
       "          element.innerHTML = '';\n",
       "          dataTable['output_type'] = 'display_data';\n",
       "          await google.colab.output.renderOutput(dataTable, element);\n",
       "          const docLink = document.createElement('div');\n",
       "          docLink.innerHTML = docLinkHtml;\n",
       "          element.appendChild(docLink);\n",
       "        }\n",
       "      </script>\n",
       "    </div>\n",
       "  </div>\n",
       "  "
      ],
      "text/plain": [
       "                                                params  split0_test_score  \\\n",
       "339  {'model__splitter': 'best', 'model__min_sample...           0.779817   \n",
       "185  {'model__splitter': 'best', 'model__min_sample...           0.761101   \n",
       "233  {'model__splitter': 'best', 'model__min_sample...           0.760367   \n",
       "192  {'model__splitter': 'best', 'model__min_sample...           0.767706   \n",
       "71   {'model__splitter': 'best', 'model__min_sample...           0.734312   \n",
       "\n",
       "     split1_test_score  split2_test_score  mean_test_score  std_test_score  \\\n",
       "339           0.776514           0.781938         0.779423        0.002232   \n",
       "185           0.777248           0.760279         0.766209        0.007813   \n",
       "233           0.767706           0.763950         0.764008        0.002997   \n",
       "192           0.744220           0.759178         0.757035        0.009707   \n",
       "71            0.735413           0.738987         0.736237        0.001996   \n",
       "\n",
       "     rank_test_score  \n",
       "339                1  \n",
       "185                2  \n",
       "233                3  \n",
       "192                4  \n",
       "71                 5  "
      ]
     },
     "execution_count": 280,
     "metadata": {},
     "output_type": "execute_result"
    }
   ],
   "source": [
    "results = pd.DataFrame(rscv.cv_results_).loc[:,'params':].sort_values('rank_test_score')\n",
    "results.head()"
   ]
  },
  {
   "cell_type": "markdown",
   "metadata": {
    "id": "Nb_X9qtsh4Kj"
   },
   "source": [
    "**<font color='blue'>2.b. Have a look to the top hyperparameter combinations and especially their values.<br> Can you find similar values in different top combinations ?**"
   ]
  },
  {
   "cell_type": "code",
   "execution_count": null,
   "metadata": {
    "colab": {
     "base_uri": "https://localhost:8080/"
    },
    "executionInfo": {
     "elapsed": 496,
     "status": "ok",
     "timestamp": 1680200484043,
     "user": {
      "displayName": "Antoine Palisson",
      "userId": "06334333839821267204"
     },
     "user_tz": -120
    },
    "id": "1Fcd-ESQ0bLb",
    "outputId": "520ddf32-553d-4542-98a3-feea50de28fa"
   },
   "outputs": [
    {
     "data": {
      "text/plain": [
       "array([{'model__splitter': 'best', 'model__min_samples_split': 2, 'model__min_samples_leaf': 1, 'model__max_features': 1, 'model__max_depth': 30, 'model__criterion': 'entropy'},\n",
       "       {'model__splitter': 'best', 'model__min_samples_split': 4, 'model__min_samples_leaf': 1, 'model__max_features': 5, 'model__max_depth': 25, 'model__criterion': 'entropy'},\n",
       "       {'model__splitter': 'best', 'model__min_samples_split': 4, 'model__min_samples_leaf': 1, 'model__max_features': 6, 'model__max_depth': 25, 'model__criterion': 'gini'},\n",
       "       {'model__splitter': 'best', 'model__min_samples_split': 4, 'model__min_samples_leaf': 1, 'model__max_features': 4, 'model__max_depth': 25, 'model__criterion': 'entropy'},\n",
       "       {'model__splitter': 'best', 'model__min_samples_split': 6, 'model__min_samples_leaf': 1, 'model__max_features': 6, 'model__max_depth': 25, 'model__criterion': 'gini'}],\n",
       "      dtype=object)"
      ]
     },
     "execution_count": 281,
     "metadata": {},
     "output_type": "execute_result"
    }
   ],
   "source": [
    "# Splitter seems to be better with best\n",
    "# min_samples_leaf seems to be better with 1\n",
    "# min_samples_split seems to be better with very low value\n",
    "# max_depth seems to be better with values close to 30\n",
    "# max_features seems to be better with 4, 5 or 6\n",
    "results.iloc[:5]['params'].to_numpy()"
   ]
  },
  {
   "cell_type": "markdown",
   "metadata": {
    "id": "8L8rIXTjkLjs"
   },
   "source": [
    "**<font color='blue'>3. Using the knowledge of the first 500 trials, reduce the spaces close the best values for each parameter and run 250 trials.**"
   ]
  },
  {
   "cell_type": "code",
   "execution_count": null,
   "metadata": {
    "colab": {
     "base_uri": "https://localhost:8080/",
     "height": 152
    },
    "executionInfo": {
     "elapsed": 39223,
     "status": "ok",
     "timestamp": 1680200683810,
     "user": {
      "displayName": "Antoine Palisson",
      "userId": "06334333839821267204"
     },
     "user_tz": -120
    },
    "id": "zQCX_AUg09jL",
    "outputId": "bebad6f5-5380-4b61-b4cb-e4e727ac19d5"
   },
   "outputs": [
    {
     "data": {
      "text/html": [
       "<style>#sk-container-id-28 {color: black;background-color: white;}#sk-container-id-28 pre{padding: 0;}#sk-container-id-28 div.sk-toggleable {background-color: white;}#sk-container-id-28 label.sk-toggleable__label {cursor: pointer;display: block;width: 100%;margin-bottom: 0;padding: 0.3em;box-sizing: border-box;text-align: center;}#sk-container-id-28 label.sk-toggleable__label-arrow:before {content: \"▸\";float: left;margin-right: 0.25em;color: #696969;}#sk-container-id-28 label.sk-toggleable__label-arrow:hover:before {color: black;}#sk-container-id-28 div.sk-estimator:hover label.sk-toggleable__label-arrow:before {color: black;}#sk-container-id-28 div.sk-toggleable__content {max-height: 0;max-width: 0;overflow: hidden;text-align: left;background-color: #f0f8ff;}#sk-container-id-28 div.sk-toggleable__content pre {margin: 0.2em;color: black;border-radius: 0.25em;background-color: #f0f8ff;}#sk-container-id-28 input.sk-toggleable__control:checked~div.sk-toggleable__content {max-height: 200px;max-width: 100%;overflow: auto;}#sk-container-id-28 input.sk-toggleable__control:checked~label.sk-toggleable__label-arrow:before {content: \"▾\";}#sk-container-id-28 div.sk-estimator input.sk-toggleable__control:checked~label.sk-toggleable__label {background-color: #d4ebff;}#sk-container-id-28 div.sk-label input.sk-toggleable__control:checked~label.sk-toggleable__label {background-color: #d4ebff;}#sk-container-id-28 input.sk-hidden--visually {border: 0;clip: rect(1px 1px 1px 1px);clip: rect(1px, 1px, 1px, 1px);height: 1px;margin: -1px;overflow: hidden;padding: 0;position: absolute;width: 1px;}#sk-container-id-28 div.sk-estimator {font-family: monospace;background-color: #f0f8ff;border: 1px dotted black;border-radius: 0.25em;box-sizing: border-box;margin-bottom: 0.5em;}#sk-container-id-28 div.sk-estimator:hover {background-color: #d4ebff;}#sk-container-id-28 div.sk-parallel-item::after {content: \"\";width: 100%;border-bottom: 1px solid gray;flex-grow: 1;}#sk-container-id-28 div.sk-label:hover label.sk-toggleable__label {background-color: #d4ebff;}#sk-container-id-28 div.sk-serial::before {content: \"\";position: absolute;border-left: 1px solid gray;box-sizing: border-box;top: 0;bottom: 0;left: 50%;z-index: 0;}#sk-container-id-28 div.sk-serial {display: flex;flex-direction: column;align-items: center;background-color: white;padding-right: 0.2em;padding-left: 0.2em;position: relative;}#sk-container-id-28 div.sk-item {position: relative;z-index: 1;}#sk-container-id-28 div.sk-parallel {display: flex;align-items: stretch;justify-content: center;background-color: white;position: relative;}#sk-container-id-28 div.sk-item::before, #sk-container-id-28 div.sk-parallel-item::before {content: \"\";position: absolute;border-left: 1px solid gray;box-sizing: border-box;top: 0;bottom: 0;left: 50%;z-index: -1;}#sk-container-id-28 div.sk-parallel-item {display: flex;flex-direction: column;z-index: 1;position: relative;background-color: white;}#sk-container-id-28 div.sk-parallel-item:first-child::after {align-self: flex-end;width: 50%;}#sk-container-id-28 div.sk-parallel-item:last-child::after {align-self: flex-start;width: 50%;}#sk-container-id-28 div.sk-parallel-item:only-child::after {width: 0;}#sk-container-id-28 div.sk-dashed-wrapped {border: 1px dashed gray;margin: 0 0.4em 0.5em 0.4em;box-sizing: border-box;padding-bottom: 0.4em;background-color: white;}#sk-container-id-28 div.sk-label label {font-family: monospace;font-weight: bold;display: inline-block;line-height: 1.2em;}#sk-container-id-28 div.sk-label-container {text-align: center;}#sk-container-id-28 div.sk-container {/* jupyter's `normalize.less` sets `[hidden] { display: none; }` but bootstrap.min.css set `[hidden] { display: none !important; }` so we also need the `!important` here to be able to override the default hidden behavior on the sphinx rendered scikit-learn.org. See: https://github.com/scikit-learn/scikit-learn/issues/21755 */display: inline-block !important;position: relative;}#sk-container-id-28 div.sk-text-repr-fallback {display: none;}</style><div id=\"sk-container-id-28\" class=\"sk-top-container\"><div class=\"sk-text-repr-fallback\"><pre>RandomizedSearchCV(cv=3,\n",
       "                   estimator=Pipeline(steps=[(&#x27;preprocessing&#x27;,\n",
       "                                              StandardScaler()),\n",
       "                                             (&#x27;model&#x27;,\n",
       "                                              DecisionTreeClassifier(random_state=42))]),\n",
       "                   n_iter=250,\n",
       "                   param_distributions={&#x27;model__criterion&#x27;: [&#x27;gini&#x27;, &#x27;entropy&#x27;],\n",
       "                                        &#x27;model__max_depth&#x27;: [20, 21, 22, 23, 24,\n",
       "                                                             25, 26, 27, 28, 29,\n",
       "                                                             30, 31, 32, 33, 34,\n",
       "                                                             None],\n",
       "                                        &#x27;model__max_features&#x27;: range(4, 7),\n",
       "                                        &#x27;model__min_samples_leaf&#x27;: range(1, 5),\n",
       "                                        &#x27;model__min_samples_split&#x27;: range(2, 8)},\n",
       "                   random_state=42,\n",
       "                   scoring=make_scorer(f1_score, average=micro))</pre><b>In a Jupyter environment, please rerun this cell to show the HTML representation or trust the notebook. <br />On GitHub, the HTML representation is unable to render, please try loading this page with nbviewer.org.</b></div><div class=\"sk-container\" hidden><div class=\"sk-item sk-dashed-wrapped\"><div class=\"sk-label-container\"><div class=\"sk-label sk-toggleable\"><input class=\"sk-toggleable__control sk-hidden--visually\" id=\"sk-estimator-id-99\" type=\"checkbox\" ><label for=\"sk-estimator-id-99\" class=\"sk-toggleable__label sk-toggleable__label-arrow\">RandomizedSearchCV</label><div class=\"sk-toggleable__content\"><pre>RandomizedSearchCV(cv=3,\n",
       "                   estimator=Pipeline(steps=[(&#x27;preprocessing&#x27;,\n",
       "                                              StandardScaler()),\n",
       "                                             (&#x27;model&#x27;,\n",
       "                                              DecisionTreeClassifier(random_state=42))]),\n",
       "                   n_iter=250,\n",
       "                   param_distributions={&#x27;model__criterion&#x27;: [&#x27;gini&#x27;, &#x27;entropy&#x27;],\n",
       "                                        &#x27;model__max_depth&#x27;: [20, 21, 22, 23, 24,\n",
       "                                                             25, 26, 27, 28, 29,\n",
       "                                                             30, 31, 32, 33, 34,\n",
       "                                                             None],\n",
       "                                        &#x27;model__max_features&#x27;: range(4, 7),\n",
       "                                        &#x27;model__min_samples_leaf&#x27;: range(1, 5),\n",
       "                                        &#x27;model__min_samples_split&#x27;: range(2, 8)},\n",
       "                   random_state=42,\n",
       "                   scoring=make_scorer(f1_score, average=micro))</pre></div></div></div><div class=\"sk-parallel\"><div class=\"sk-parallel-item\"><div class=\"sk-item\"><div class=\"sk-label-container\"><div class=\"sk-label sk-toggleable\"><input class=\"sk-toggleable__control sk-hidden--visually\" id=\"sk-estimator-id-100\" type=\"checkbox\" ><label for=\"sk-estimator-id-100\" class=\"sk-toggleable__label sk-toggleable__label-arrow\">estimator: Pipeline</label><div class=\"sk-toggleable__content\"><pre>Pipeline(steps=[(&#x27;preprocessing&#x27;, StandardScaler()),\n",
       "                (&#x27;model&#x27;, DecisionTreeClassifier(random_state=42))])</pre></div></div></div><div class=\"sk-serial\"><div class=\"sk-item\"><div class=\"sk-serial\"><div class=\"sk-item\"><div class=\"sk-estimator sk-toggleable\"><input class=\"sk-toggleable__control sk-hidden--visually\" id=\"sk-estimator-id-101\" type=\"checkbox\" ><label for=\"sk-estimator-id-101\" class=\"sk-toggleable__label sk-toggleable__label-arrow\">StandardScaler</label><div class=\"sk-toggleable__content\"><pre>StandardScaler()</pre></div></div></div><div class=\"sk-item\"><div class=\"sk-estimator sk-toggleable\"><input class=\"sk-toggleable__control sk-hidden--visually\" id=\"sk-estimator-id-102\" type=\"checkbox\" ><label for=\"sk-estimator-id-102\" class=\"sk-toggleable__label sk-toggleable__label-arrow\">DecisionTreeClassifier</label><div class=\"sk-toggleable__content\"><pre>DecisionTreeClassifier(random_state=42)</pre></div></div></div></div></div></div></div></div></div></div></div></div>"
      ],
      "text/plain": [
       "RandomizedSearchCV(cv=3,\n",
       "                   estimator=Pipeline(steps=[('preprocessing',\n",
       "                                              StandardScaler()),\n",
       "                                             ('model',\n",
       "                                              DecisionTreeClassifier(random_state=42))]),\n",
       "                   n_iter=250,\n",
       "                   param_distributions={'model__criterion': ['gini', 'entropy'],\n",
       "                                        'model__max_depth': [20, 21, 22, 23, 24,\n",
       "                                                             25, 26, 27, 28, 29,\n",
       "                                                             30, 31, 32, 33, 34,\n",
       "                                                             None],\n",
       "                                        'model__max_features': range(4, 7),\n",
       "                                        'model__min_samples_leaf': range(1, 5),\n",
       "                                        'model__min_samples_split': range(2, 8)},\n",
       "                   random_state=42,\n",
       "                   scoring=make_scorer(f1_score, average=micro))"
      ]
     },
     "execution_count": 282,
     "metadata": {},
     "output_type": "execute_result"
    }
   ],
   "source": [
    "dtc = DecisionTreeClassifier(splitter=\"best\",\n",
    "                             random_state=42)\n",
    "\n",
    "pipe = Pipeline([('preprocessing', StandardScaler()),\n",
    "                 ('model', dtc)])\n",
    "\n",
    "max_depth = list(range(20,35))\n",
    "max_depth.append(None)\n",
    "\n",
    "params = {\"model__criterion\": [\"gini\", \"entropy\"],\n",
    "          \"model__max_depth\": max_depth, \n",
    "          \"model__min_samples_split\": range(2,8), \n",
    "          \"model__min_samples_leaf\": range(1,5), \n",
    "          \"model__max_features\": range(4,7)}\n",
    "\n",
    "rscv = RandomizedSearchCV(pipe, \n",
    "                          params, \n",
    "                          n_iter=250,\n",
    "                          scoring=f1_scorer, \n",
    "                          cv=3,\n",
    "                          random_state=42)\n",
    "\n",
    "rscv.fit(X_train, y_train)"
   ]
  },
  {
   "cell_type": "markdown",
   "metadata": {
    "id": "hqILkMm1kwaX"
   },
   "source": [
    "**<font color='blue'>4. Get the result of all the trials and have a look to the top hyperparameter combinations.**"
   ]
  },
  {
   "cell_type": "code",
   "execution_count": null,
   "metadata": {
    "colab": {
     "base_uri": "https://localhost:8080/",
     "height": 206
    },
    "executionInfo": {
     "elapsed": 235,
     "status": "ok",
     "timestamp": 1680200691257,
     "user": {
      "displayName": "Antoine Palisson",
      "userId": "06334333839821267204"
     },
     "user_tz": -120
    },
    "id": "9lhGelRC2erQ",
    "outputId": "c483ffd2-265a-419f-aac2-dbea1e7c43a0"
   },
   "outputs": [
    {
     "data": {
      "text/html": [
       "\n",
       "  <div id=\"df-f6150b21-46fd-4f3a-95d3-5c6dd3a06233\">\n",
       "    <div class=\"colab-df-container\">\n",
       "      <div>\n",
       "<style scoped>\n",
       "    .dataframe tbody tr th:only-of-type {\n",
       "        vertical-align: middle;\n",
       "    }\n",
       "\n",
       "    .dataframe tbody tr th {\n",
       "        vertical-align: top;\n",
       "    }\n",
       "\n",
       "    .dataframe thead th {\n",
       "        text-align: right;\n",
       "    }\n",
       "</style>\n",
       "<table border=\"1\" class=\"dataframe\">\n",
       "  <thead>\n",
       "    <tr style=\"text-align: right;\">\n",
       "      <th></th>\n",
       "      <th>params</th>\n",
       "      <th>split0_test_score</th>\n",
       "      <th>split1_test_score</th>\n",
       "      <th>split2_test_score</th>\n",
       "      <th>mean_test_score</th>\n",
       "      <th>std_test_score</th>\n",
       "      <th>rank_test_score</th>\n",
       "    </tr>\n",
       "  </thead>\n",
       "  <tbody>\n",
       "    <tr>\n",
       "      <th>46</th>\n",
       "      <td>{'model__min_samples_split': 2, 'model__min_sa...</td>\n",
       "      <td>0.812844</td>\n",
       "      <td>0.805872</td>\n",
       "      <td>0.808003</td>\n",
       "      <td>0.808906</td>\n",
       "      <td>0.002917</td>\n",
       "      <td>1</td>\n",
       "    </tr>\n",
       "    <tr>\n",
       "      <th>206</th>\n",
       "      <td>{'model__min_samples_split': 2, 'model__min_sa...</td>\n",
       "      <td>0.813211</td>\n",
       "      <td>0.805872</td>\n",
       "      <td>0.805066</td>\n",
       "      <td>0.808050</td>\n",
       "      <td>0.003664</td>\n",
       "      <td>2</td>\n",
       "    </tr>\n",
       "    <tr>\n",
       "      <th>175</th>\n",
       "      <td>{'model__min_samples_split': 2, 'model__min_sa...</td>\n",
       "      <td>0.806239</td>\n",
       "      <td>0.807339</td>\n",
       "      <td>0.808370</td>\n",
       "      <td>0.807316</td>\n",
       "      <td>0.000870</td>\n",
       "      <td>3</td>\n",
       "    </tr>\n",
       "    <tr>\n",
       "      <th>202</th>\n",
       "      <td>{'model__min_samples_split': 2, 'model__min_sa...</td>\n",
       "      <td>0.803303</td>\n",
       "      <td>0.803670</td>\n",
       "      <td>0.806902</td>\n",
       "      <td>0.804625</td>\n",
       "      <td>0.001617</td>\n",
       "      <td>4</td>\n",
       "    </tr>\n",
       "    <tr>\n",
       "      <th>58</th>\n",
       "      <td>{'model__min_samples_split': 2, 'model__min_sa...</td>\n",
       "      <td>0.802569</td>\n",
       "      <td>0.801101</td>\n",
       "      <td>0.809104</td>\n",
       "      <td>0.804258</td>\n",
       "      <td>0.003479</td>\n",
       "      <td>5</td>\n",
       "    </tr>\n",
       "  </tbody>\n",
       "</table>\n",
       "</div>\n",
       "      <button class=\"colab-df-convert\" onclick=\"convertToInteractive('df-f6150b21-46fd-4f3a-95d3-5c6dd3a06233')\"\n",
       "              title=\"Convert this dataframe to an interactive table.\"\n",
       "              style=\"display:none;\">\n",
       "        \n",
       "  <svg xmlns=\"http://www.w3.org/2000/svg\" height=\"24px\"viewBox=\"0 0 24 24\"\n",
       "       width=\"24px\">\n",
       "    <path d=\"M0 0h24v24H0V0z\" fill=\"none\"/>\n",
       "    <path d=\"M18.56 5.44l.94 2.06.94-2.06 2.06-.94-2.06-.94-.94-2.06-.94 2.06-2.06.94zm-11 1L8.5 8.5l.94-2.06 2.06-.94-2.06-.94L8.5 2.5l-.94 2.06-2.06.94zm10 10l.94 2.06.94-2.06 2.06-.94-2.06-.94-.94-2.06-.94 2.06-2.06.94z\"/><path d=\"M17.41 7.96l-1.37-1.37c-.4-.4-.92-.59-1.43-.59-.52 0-1.04.2-1.43.59L10.3 9.45l-7.72 7.72c-.78.78-.78 2.05 0 2.83L4 21.41c.39.39.9.59 1.41.59.51 0 1.02-.2 1.41-.59l7.78-7.78 2.81-2.81c.8-.78.8-2.07 0-2.86zM5.41 20L4 18.59l7.72-7.72 1.47 1.35L5.41 20z\"/>\n",
       "  </svg>\n",
       "      </button>\n",
       "      \n",
       "  <style>\n",
       "    .colab-df-container {\n",
       "      display:flex;\n",
       "      flex-wrap:wrap;\n",
       "      gap: 12px;\n",
       "    }\n",
       "\n",
       "    .colab-df-convert {\n",
       "      background-color: #E8F0FE;\n",
       "      border: none;\n",
       "      border-radius: 50%;\n",
       "      cursor: pointer;\n",
       "      display: none;\n",
       "      fill: #1967D2;\n",
       "      height: 32px;\n",
       "      padding: 0 0 0 0;\n",
       "      width: 32px;\n",
       "    }\n",
       "\n",
       "    .colab-df-convert:hover {\n",
       "      background-color: #E2EBFA;\n",
       "      box-shadow: 0px 1px 2px rgba(60, 64, 67, 0.3), 0px 1px 3px 1px rgba(60, 64, 67, 0.15);\n",
       "      fill: #174EA6;\n",
       "    }\n",
       "\n",
       "    [theme=dark] .colab-df-convert {\n",
       "      background-color: #3B4455;\n",
       "      fill: #D2E3FC;\n",
       "    }\n",
       "\n",
       "    [theme=dark] .colab-df-convert:hover {\n",
       "      background-color: #434B5C;\n",
       "      box-shadow: 0px 1px 3px 1px rgba(0, 0, 0, 0.15);\n",
       "      filter: drop-shadow(0px 1px 2px rgba(0, 0, 0, 0.3));\n",
       "      fill: #FFFFFF;\n",
       "    }\n",
       "  </style>\n",
       "\n",
       "      <script>\n",
       "        const buttonEl =\n",
       "          document.querySelector('#df-f6150b21-46fd-4f3a-95d3-5c6dd3a06233 button.colab-df-convert');\n",
       "        buttonEl.style.display =\n",
       "          google.colab.kernel.accessAllowed ? 'block' : 'none';\n",
       "\n",
       "        async function convertToInteractive(key) {\n",
       "          const element = document.querySelector('#df-f6150b21-46fd-4f3a-95d3-5c6dd3a06233');\n",
       "          const dataTable =\n",
       "            await google.colab.kernel.invokeFunction('convertToInteractive',\n",
       "                                                     [key], {});\n",
       "          if (!dataTable) return;\n",
       "\n",
       "          const docLinkHtml = 'Like what you see? Visit the ' +\n",
       "            '<a target=\"_blank\" href=https://colab.research.google.com/notebooks/data_table.ipynb>data table notebook</a>'\n",
       "            + ' to learn more about interactive tables.';\n",
       "          element.innerHTML = '';\n",
       "          dataTable['output_type'] = 'display_data';\n",
       "          await google.colab.output.renderOutput(dataTable, element);\n",
       "          const docLink = document.createElement('div');\n",
       "          docLink.innerHTML = docLinkHtml;\n",
       "          element.appendChild(docLink);\n",
       "        }\n",
       "      </script>\n",
       "    </div>\n",
       "  </div>\n",
       "  "
      ],
      "text/plain": [
       "                                                params  split0_test_score  \\\n",
       "46   {'model__min_samples_split': 2, 'model__min_sa...           0.812844   \n",
       "206  {'model__min_samples_split': 2, 'model__min_sa...           0.813211   \n",
       "175  {'model__min_samples_split': 2, 'model__min_sa...           0.806239   \n",
       "202  {'model__min_samples_split': 2, 'model__min_sa...           0.803303   \n",
       "58   {'model__min_samples_split': 2, 'model__min_sa...           0.802569   \n",
       "\n",
       "     split1_test_score  split2_test_score  mean_test_score  std_test_score  \\\n",
       "46            0.805872           0.808003         0.808906        0.002917   \n",
       "206           0.805872           0.805066         0.808050        0.003664   \n",
       "175           0.807339           0.808370         0.807316        0.000870   \n",
       "202           0.803670           0.806902         0.804625        0.001617   \n",
       "58            0.801101           0.809104         0.804258        0.003479   \n",
       "\n",
       "     rank_test_score  \n",
       "46                 1  \n",
       "206                2  \n",
       "175                3  \n",
       "202                4  \n",
       "58                 5  "
      ]
     },
     "execution_count": 283,
     "metadata": {},
     "output_type": "execute_result"
    }
   ],
   "source": [
    "results = pd.DataFrame(rscv.cv_results_).loc[:,'params':].sort_values('rank_test_score')\n",
    "results.head()"
   ]
  },
  {
   "cell_type": "code",
   "execution_count": null,
   "metadata": {
    "colab": {
     "base_uri": "https://localhost:8080/"
    },
    "executionInfo": {
     "elapsed": 217,
     "status": "ok",
     "timestamp": 1680200713806,
     "user": {
      "displayName": "Antoine Palisson",
      "userId": "06334333839821267204"
     },
     "user_tz": -120
    },
    "id": "yF4B8YMc2uMB",
    "outputId": "a124f3b1-ed1c-4226-c402-db3a4336b25b"
   },
   "outputs": [
    {
     "data": {
      "text/plain": [
       "array([{'model__min_samples_split': 2, 'model__min_samples_leaf': 1, 'model__max_features': 6, 'model__max_depth': 31, 'model__criterion': 'entropy'},\n",
       "       {'model__min_samples_split': 2, 'model__min_samples_leaf': 1, 'model__max_features': 6, 'model__max_depth': 27, 'model__criterion': 'gini'},\n",
       "       {'model__min_samples_split': 2, 'model__min_samples_leaf': 1, 'model__max_features': 5, 'model__max_depth': 27, 'model__criterion': 'gini'},\n",
       "       {'model__min_samples_split': 2, 'model__min_samples_leaf': 1, 'model__max_features': 5, 'model__max_depth': 22, 'model__criterion': 'entropy'},\n",
       "       {'model__min_samples_split': 2, 'model__min_samples_leaf': 1, 'model__max_features': 4, 'model__max_depth': None, 'model__criterion': 'gini'}],\n",
       "      dtype=object)"
      ]
     },
     "execution_count": 284,
     "metadata": {},
     "output_type": "execute_result"
    }
   ],
   "source": [
    "results.iloc[:5]['params'].to_numpy()"
   ]
  },
  {
   "cell_type": "markdown",
   "metadata": {
    "id": "DylSfk0MxQW2"
   },
   "source": [
    "**<font color='blue'>5.a. Get the best hyperparameter combination and re-train the model.**"
   ]
  },
  {
   "cell_type": "code",
   "execution_count": null,
   "metadata": {
    "colab": {
     "base_uri": "https://localhost:8080/"
    },
    "executionInfo": {
     "elapsed": 499,
     "status": "ok",
     "timestamp": 1680200760170,
     "user": {
      "displayName": "Antoine Palisson",
      "userId": "06334333839821267204"
     },
     "user_tz": -120
    },
    "id": "iypL6JwHBwxw",
    "outputId": "1e8c777a-34db-47b3-d8fe-7e0168ba9b37"
   },
   "outputs": [
    {
     "data": {
      "text/plain": [
       "{'model__min_samples_split': 2,\n",
       " 'model__min_samples_leaf': 1,\n",
       " 'model__max_features': 6,\n",
       " 'model__max_depth': 31,\n",
       " 'model__criterion': 'entropy'}"
      ]
     },
     "execution_count": 285,
     "metadata": {},
     "output_type": "execute_result"
    }
   ],
   "source": [
    "rscv.best_params_"
   ]
  },
  {
   "cell_type": "code",
   "execution_count": null,
   "metadata": {
    "colab": {
     "base_uri": "https://localhost:8080/",
     "height": 126
    },
    "executionInfo": {
     "elapsed": 298,
     "status": "ok",
     "timestamp": 1680200860007,
     "user": {
      "displayName": "Antoine Palisson",
      "userId": "06334333839821267204"
     },
     "user_tz": -120
    },
    "id": "sr4K2Rq65uq2",
    "outputId": "9f03fe2a-3712-4577-9be0-6d2343ac968e"
   },
   "outputs": [
    {
     "data": {
      "text/html": [
       "<style>#sk-container-id-29 {color: black;background-color: white;}#sk-container-id-29 pre{padding: 0;}#sk-container-id-29 div.sk-toggleable {background-color: white;}#sk-container-id-29 label.sk-toggleable__label {cursor: pointer;display: block;width: 100%;margin-bottom: 0;padding: 0.3em;box-sizing: border-box;text-align: center;}#sk-container-id-29 label.sk-toggleable__label-arrow:before {content: \"▸\";float: left;margin-right: 0.25em;color: #696969;}#sk-container-id-29 label.sk-toggleable__label-arrow:hover:before {color: black;}#sk-container-id-29 div.sk-estimator:hover label.sk-toggleable__label-arrow:before {color: black;}#sk-container-id-29 div.sk-toggleable__content {max-height: 0;max-width: 0;overflow: hidden;text-align: left;background-color: #f0f8ff;}#sk-container-id-29 div.sk-toggleable__content pre {margin: 0.2em;color: black;border-radius: 0.25em;background-color: #f0f8ff;}#sk-container-id-29 input.sk-toggleable__control:checked~div.sk-toggleable__content {max-height: 200px;max-width: 100%;overflow: auto;}#sk-container-id-29 input.sk-toggleable__control:checked~label.sk-toggleable__label-arrow:before {content: \"▾\";}#sk-container-id-29 div.sk-estimator input.sk-toggleable__control:checked~label.sk-toggleable__label {background-color: #d4ebff;}#sk-container-id-29 div.sk-label input.sk-toggleable__control:checked~label.sk-toggleable__label {background-color: #d4ebff;}#sk-container-id-29 input.sk-hidden--visually {border: 0;clip: rect(1px 1px 1px 1px);clip: rect(1px, 1px, 1px, 1px);height: 1px;margin: -1px;overflow: hidden;padding: 0;position: absolute;width: 1px;}#sk-container-id-29 div.sk-estimator {font-family: monospace;background-color: #f0f8ff;border: 1px dotted black;border-radius: 0.25em;box-sizing: border-box;margin-bottom: 0.5em;}#sk-container-id-29 div.sk-estimator:hover {background-color: #d4ebff;}#sk-container-id-29 div.sk-parallel-item::after {content: \"\";width: 100%;border-bottom: 1px solid gray;flex-grow: 1;}#sk-container-id-29 div.sk-label:hover label.sk-toggleable__label {background-color: #d4ebff;}#sk-container-id-29 div.sk-serial::before {content: \"\";position: absolute;border-left: 1px solid gray;box-sizing: border-box;top: 0;bottom: 0;left: 50%;z-index: 0;}#sk-container-id-29 div.sk-serial {display: flex;flex-direction: column;align-items: center;background-color: white;padding-right: 0.2em;padding-left: 0.2em;position: relative;}#sk-container-id-29 div.sk-item {position: relative;z-index: 1;}#sk-container-id-29 div.sk-parallel {display: flex;align-items: stretch;justify-content: center;background-color: white;position: relative;}#sk-container-id-29 div.sk-item::before, #sk-container-id-29 div.sk-parallel-item::before {content: \"\";position: absolute;border-left: 1px solid gray;box-sizing: border-box;top: 0;bottom: 0;left: 50%;z-index: -1;}#sk-container-id-29 div.sk-parallel-item {display: flex;flex-direction: column;z-index: 1;position: relative;background-color: white;}#sk-container-id-29 div.sk-parallel-item:first-child::after {align-self: flex-end;width: 50%;}#sk-container-id-29 div.sk-parallel-item:last-child::after {align-self: flex-start;width: 50%;}#sk-container-id-29 div.sk-parallel-item:only-child::after {width: 0;}#sk-container-id-29 div.sk-dashed-wrapped {border: 1px dashed gray;margin: 0 0.4em 0.5em 0.4em;box-sizing: border-box;padding-bottom: 0.4em;background-color: white;}#sk-container-id-29 div.sk-label label {font-family: monospace;font-weight: bold;display: inline-block;line-height: 1.2em;}#sk-container-id-29 div.sk-label-container {text-align: center;}#sk-container-id-29 div.sk-container {/* jupyter's `normalize.less` sets `[hidden] { display: none; }` but bootstrap.min.css set `[hidden] { display: none !important; }` so we also need the `!important` here to be able to override the default hidden behavior on the sphinx rendered scikit-learn.org. See: https://github.com/scikit-learn/scikit-learn/issues/21755 */display: inline-block !important;position: relative;}#sk-container-id-29 div.sk-text-repr-fallback {display: none;}</style><div id=\"sk-container-id-29\" class=\"sk-top-container\"><div class=\"sk-text-repr-fallback\"><pre>Pipeline(steps=[(&#x27;preprocessing&#x27;, StandardScaler()),\n",
       "                (&#x27;model&#x27;,\n",
       "                 DecisionTreeClassifier(criterion=&#x27;entropy&#x27;, max_depth=31,\n",
       "                                        max_features=6, random_state=42))])</pre><b>In a Jupyter environment, please rerun this cell to show the HTML representation or trust the notebook. <br />On GitHub, the HTML representation is unable to render, please try loading this page with nbviewer.org.</b></div><div class=\"sk-container\" hidden><div class=\"sk-item sk-dashed-wrapped\"><div class=\"sk-label-container\"><div class=\"sk-label sk-toggleable\"><input class=\"sk-toggleable__control sk-hidden--visually\" id=\"sk-estimator-id-103\" type=\"checkbox\" ><label for=\"sk-estimator-id-103\" class=\"sk-toggleable__label sk-toggleable__label-arrow\">Pipeline</label><div class=\"sk-toggleable__content\"><pre>Pipeline(steps=[(&#x27;preprocessing&#x27;, StandardScaler()),\n",
       "                (&#x27;model&#x27;,\n",
       "                 DecisionTreeClassifier(criterion=&#x27;entropy&#x27;, max_depth=31,\n",
       "                                        max_features=6, random_state=42))])</pre></div></div></div><div class=\"sk-serial\"><div class=\"sk-item\"><div class=\"sk-estimator sk-toggleable\"><input class=\"sk-toggleable__control sk-hidden--visually\" id=\"sk-estimator-id-104\" type=\"checkbox\" ><label for=\"sk-estimator-id-104\" class=\"sk-toggleable__label sk-toggleable__label-arrow\">StandardScaler</label><div class=\"sk-toggleable__content\"><pre>StandardScaler()</pre></div></div></div><div class=\"sk-item\"><div class=\"sk-estimator sk-toggleable\"><input class=\"sk-toggleable__control sk-hidden--visually\" id=\"sk-estimator-id-105\" type=\"checkbox\" ><label for=\"sk-estimator-id-105\" class=\"sk-toggleable__label sk-toggleable__label-arrow\">DecisionTreeClassifier</label><div class=\"sk-toggleable__content\"><pre>DecisionTreeClassifier(criterion=&#x27;entropy&#x27;, max_depth=31, max_features=6,\n",
       "                       random_state=42)</pre></div></div></div></div></div></div></div>"
      ],
      "text/plain": [
       "Pipeline(steps=[('preprocessing', StandardScaler()),\n",
       "                ('model',\n",
       "                 DecisionTreeClassifier(criterion='entropy', max_depth=31,\n",
       "                                        max_features=6, random_state=42))])"
      ]
     },
     "execution_count": 286,
     "metadata": {},
     "output_type": "execute_result"
    }
   ],
   "source": [
    "dtc = DecisionTreeClassifier(criterion = \"entropy\",\n",
    "                             splitter = \"best\",\n",
    "                             min_samples_split = 2,\n",
    "                             min_samples_leaf = 1,\n",
    "                             max_features = 6,\n",
    "                             max_depth = 31,\n",
    "                             random_state = 42)\n",
    "pipe = Pipeline([('preprocessing', StandardScaler()),\n",
    "                 ('model', dtc)])\n",
    "\n",
    "pipe.fit(X_train, y_train)"
   ]
  },
  {
   "cell_type": "markdown",
   "metadata": {
    "id": "Hm9Rs4qaxZW9"
   },
   "source": [
    "**<font color='blue'>5.b. Predict the training, validation (using a cross-validation) and testing sets and get the scores.**"
   ]
  },
  {
   "cell_type": "code",
   "execution_count": null,
   "metadata": {
    "colab": {
     "base_uri": "https://localhost:8080/"
    },
    "executionInfo": {
     "elapsed": 357,
     "status": "ok",
     "timestamp": 1680200929896,
     "user": {
      "displayName": "Antoine Palisson",
      "userId": "06334333839821267204"
     },
     "user_tz": -120
    },
    "id": "MYh-L2jaxZgG",
    "outputId": "97cbdfa1-87e5-4788-b885-b2da2ae66998"
   },
   "outputs": [
    {
     "name": "stdout",
     "output_type": "stream",
     "text": [
      "Training score   : 99.41%\n",
      "Validation score : 80.89%\n",
      "Test score       : 90.70%\n"
     ]
    }
   ],
   "source": [
    "y_pred = pipe.predict(X_test)\n",
    "\n",
    "print(f\"Training score   : {f1_score(y_true=y_train, y_pred=pipe.predict(X_train), average='micro'):.2%}\")\n",
    "print(f\"Validation score : {np.mean(cross_val_score(pipe, X_train, y_train, cv=3, scoring=f1_scorer)):.2%}\")\n",
    "print(f\"Test score       : {f1_score(y_true=y_test, y_pred=y_pred, average='micro'):.2%}\")"
   ]
  }
 ],
 "metadata": {
  "colab": {
   "authorship_tag": "ABX9TyPEgmHuIqpx72yv2bqL9bHP",
   "collapsed_sections": [
    "RdaKgT1-HeQT",
    "EdtV_k87HhlQ",
    "qGywz0MqJLqt",
    "uwh_c2dBRxOV",
    "jYzN-ZjuR1kI",
    "m1gGR34BdxZJ"
   ],
   "provenance": [
    {
     "file_id": "1mU8AZURstgvbGkKWqz28G7EKsk-SYiFn",
     "timestamp": 1679907264873
    },
    {
     "file_id": "1SfyXGoHgEmZeAAKDDSZX-nox-BU3UClI",
     "timestamp": 1677191951629
    }
   ],
   "toc_visible": true
  },
  "kernelspec": {
   "display_name": "Python 3 (ipykernel)",
   "language": "python",
   "name": "python3"
  },
  "language_info": {
   "codemirror_mode": {
    "name": "ipython",
    "version": 3
   },
   "file_extension": ".py",
   "mimetype": "text/x-python",
   "name": "python",
   "nbconvert_exporter": "python",
   "pygments_lexer": "ipython3",
   "version": "3.8.13"
  }
 },
 "nbformat": 4,
 "nbformat_minor": 1
}
