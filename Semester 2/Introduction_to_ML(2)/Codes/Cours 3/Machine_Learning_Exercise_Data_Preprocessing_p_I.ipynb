{
 "cells": [
  {
   "cell_type": "markdown",
   "metadata": {
    "id": "68J-pJlzvlH2"
   },
   "source": [
    "*This Notebook was created by Antoine Palisson*"
   ]
  },
  {
   "cell_type": "code",
   "execution_count": 190,
   "metadata": {
    "id": "S3ud0IgvVEME"
   },
   "outputs": [],
   "source": [
    "import matplotlib.pyplot as plt\n",
    "import seaborn as sns\n",
    "import pandas as pd\n",
    "import numpy as np\n",
    "import scipy\n",
    "from sklearn.model_selection import train_test_split\n",
    "from sklearn.impute import SimpleImputer\n",
    "from sklearn.preprocessing import MinMaxScaler, StandardScaler"
   ]
  },
  {
   "cell_type": "markdown",
   "metadata": {
    "id": "phGtOwDLvtlr"
   },
   "source": [
    "This exercise focus on the preprocessing steps of **Numerical variables**.\n",
    "\n",
    "Only a fraction of the methods will be used in this Notebook, including:\n",
    "\n",
    "* Random & Stratified Splitting \n",
    "* Missing Data deletion & imputation with median\n",
    "* Outliers detection using the IQR & imputation using winsorization\n",
    "* Scaling using the min-max transformation and the z-score transformation\n",
    "* Transformation of the features using the log transformation \n",
    "\n",
    "**Depending on the dataset, it may be interesting to use other methods seen in the lesson (missing Data imputation using ML models, outlier detection using z-score, robust scaling, other transformation ...)**\n",
    "\n",
    "In this course, we will use the Scikit-learn library a lot.<br>\n",
    "**You can find the preprocessing functions of the sklearn library** [**here**](https://scikit-learn.org/stable/modules/classes.html#module-sklearn.preprocessing)."
   ]
  },
  {
   "cell_type": "markdown",
   "metadata": {
    "id": "xFVgAqSMH9Ki"
   },
   "source": [
    "# Splitting, Missing & Outliers"
   ]
  },
  {
   "cell_type": "markdown",
   "metadata": {
    "id": "5XptBBKA6s--"
   },
   "source": [
    "**<font color='blue'>1. Load the modified iris dataset (`iris_m.csv`) and show its content.**"
   ]
  },
  {
   "cell_type": "code",
   "execution_count": 2,
   "metadata": {
    "id": "GtE4NlHbTSFt",
    "scrolled": true
   },
   "outputs": [
    {
     "data": {
      "text/html": [
       "<div>\n",
       "<style scoped>\n",
       "    .dataframe tbody tr th:only-of-type {\n",
       "        vertical-align: middle;\n",
       "    }\n",
       "\n",
       "    .dataframe tbody tr th {\n",
       "        vertical-align: top;\n",
       "    }\n",
       "\n",
       "    .dataframe thead th {\n",
       "        text-align: right;\n",
       "    }\n",
       "</style>\n",
       "<table border=\"1\" class=\"dataframe\">\n",
       "  <thead>\n",
       "    <tr style=\"text-align: right;\">\n",
       "      <th></th>\n",
       "      <th>sepal length (cm)</th>\n",
       "      <th>sepal width (cm)</th>\n",
       "      <th>petal length (cm)</th>\n",
       "      <th>petal width (cm)</th>\n",
       "      <th>target</th>\n",
       "    </tr>\n",
       "  </thead>\n",
       "  <tbody>\n",
       "    <tr>\n",
       "      <th>0</th>\n",
       "      <td>NaN</td>\n",
       "      <td>3.5</td>\n",
       "      <td>1.4</td>\n",
       "      <td>0.2</td>\n",
       "      <td>0</td>\n",
       "    </tr>\n",
       "    <tr>\n",
       "      <th>1</th>\n",
       "      <td>4.9</td>\n",
       "      <td>3.0</td>\n",
       "      <td>1.4</td>\n",
       "      <td>NaN</td>\n",
       "      <td>0</td>\n",
       "    </tr>\n",
       "    <tr>\n",
       "      <th>2</th>\n",
       "      <td>4.7</td>\n",
       "      <td>3.2</td>\n",
       "      <td>1.3</td>\n",
       "      <td>0.2</td>\n",
       "      <td>0</td>\n",
       "    </tr>\n",
       "    <tr>\n",
       "      <th>3</th>\n",
       "      <td>36.8</td>\n",
       "      <td>3.1</td>\n",
       "      <td>1.5</td>\n",
       "      <td>0.2</td>\n",
       "      <td>0</td>\n",
       "    </tr>\n",
       "    <tr>\n",
       "      <th>4</th>\n",
       "      <td>5.0</td>\n",
       "      <td>NaN</td>\n",
       "      <td>12.6</td>\n",
       "      <td>NaN</td>\n",
       "      <td>0</td>\n",
       "    </tr>\n",
       "    <tr>\n",
       "      <th>...</th>\n",
       "      <td>...</td>\n",
       "      <td>...</td>\n",
       "      <td>...</td>\n",
       "      <td>...</td>\n",
       "      <td>...</td>\n",
       "    </tr>\n",
       "    <tr>\n",
       "      <th>145</th>\n",
       "      <td>6.7</td>\n",
       "      <td>3.0</td>\n",
       "      <td>NaN</td>\n",
       "      <td>2.3</td>\n",
       "      <td>2</td>\n",
       "    </tr>\n",
       "    <tr>\n",
       "      <th>146</th>\n",
       "      <td>6.3</td>\n",
       "      <td>2.5</td>\n",
       "      <td>5.0</td>\n",
       "      <td>17.1</td>\n",
       "      <td>2</td>\n",
       "    </tr>\n",
       "    <tr>\n",
       "      <th>147</th>\n",
       "      <td>6.5</td>\n",
       "      <td>NaN</td>\n",
       "      <td>5.2</td>\n",
       "      <td>12.0</td>\n",
       "      <td>2</td>\n",
       "    </tr>\n",
       "    <tr>\n",
       "      <th>148</th>\n",
       "      <td>6.2</td>\n",
       "      <td>3.4</td>\n",
       "      <td>5.4</td>\n",
       "      <td>2.3</td>\n",
       "      <td>2</td>\n",
       "    </tr>\n",
       "    <tr>\n",
       "      <th>149</th>\n",
       "      <td>5.9</td>\n",
       "      <td>3.0</td>\n",
       "      <td>5.1</td>\n",
       "      <td>12.6</td>\n",
       "      <td>2</td>\n",
       "    </tr>\n",
       "  </tbody>\n",
       "</table>\n",
       "<p>150 rows × 5 columns</p>\n",
       "</div>"
      ],
      "text/plain": [
       "     sepal length (cm)  sepal width (cm)  petal length (cm)  petal width (cm)  \\\n",
       "0                  NaN               3.5                1.4               0.2   \n",
       "1                  4.9               3.0                1.4               NaN   \n",
       "2                  4.7               3.2                1.3               0.2   \n",
       "3                 36.8               3.1                1.5               0.2   \n",
       "4                  5.0               NaN               12.6               NaN   \n",
       "..                 ...               ...                ...               ...   \n",
       "145                6.7               3.0                NaN               2.3   \n",
       "146                6.3               2.5                5.0              17.1   \n",
       "147                6.5               NaN                5.2              12.0   \n",
       "148                6.2               3.4                5.4               2.3   \n",
       "149                5.9               3.0                5.1              12.6   \n",
       "\n",
       "     target  \n",
       "0         0  \n",
       "1         0  \n",
       "2         0  \n",
       "3         0  \n",
       "4         0  \n",
       "..      ...  \n",
       "145       2  \n",
       "146       2  \n",
       "147       2  \n",
       "148       2  \n",
       "149       2  \n",
       "\n",
       "[150 rows x 5 columns]"
      ]
     },
     "execution_count": 2,
     "metadata": {},
     "output_type": "execute_result"
    }
   ],
   "source": [
    "df_iris = pd.read_csv('iris_m.csv')\n",
    "df_iris"
   ]
  },
  {
   "cell_type": "code",
   "execution_count": 77,
   "metadata": {},
   "outputs": [
    {
     "data": {
      "text/plain": [
       "0    50\n",
       "1    50\n",
       "2    50\n",
       "Name: target, dtype: int64"
      ]
     },
     "execution_count": 77,
     "metadata": {},
     "output_type": "execute_result"
    }
   ],
   "source": [
    "df_iris['target'].value_counts()"
   ]
  },
  {
   "cell_type": "markdown",
   "metadata": {
    "id": "pvCikc2EBH8s"
   },
   "source": [
    "The `.info()` method can be used on a dataframe to get a resume of its variables, length and missing values. This method has some parameters such as the **show_counts** parameter that can be either True or False, if True the method returns the number of non-missing values in the dataset.\n",
    "\n",
    "**<font color='blue'>2. Show a resume of the dataset variables, length and missing values.<br>Is there any missing variable ?**"
   ]
  },
  {
   "cell_type": "code",
   "execution_count": 3,
   "metadata": {
    "id": "tDDgi7U4TSkm"
   },
   "outputs": [
    {
     "name": "stdout",
     "output_type": "stream",
     "text": [
      "<class 'pandas.core.frame.DataFrame'>\n",
      "RangeIndex: 150 entries, 0 to 149\n",
      "Data columns (total 5 columns):\n",
      " #   Column             Non-Null Count  Dtype  \n",
      "---  ------             --------------  -----  \n",
      " 0   sepal length (cm)  133 non-null    float64\n",
      " 1   sepal width (cm)   134 non-null    float64\n",
      " 2   petal length (cm)  134 non-null    float64\n",
      " 3   petal width (cm)   133 non-null    float64\n",
      " 4   target             150 non-null    int64  \n",
      "dtypes: float64(4), int64(1)\n",
      "memory usage: 6.0 KB\n"
     ]
    }
   ],
   "source": [
    "# Except target value, there are all have missing value.\n",
    "df_iris.info(show_counts=True)"
   ]
  },
  {
   "cell_type": "markdown",
   "metadata": {
    "id": "s-q4cXmfqegB"
   },
   "source": [
    "## Splitting"
   ]
  },
  {
   "cell_type": "markdown",
   "metadata": {
    "id": "3cYkY1UYqoSG"
   },
   "source": [
    "There are many ways to split a dataset into a training and a testing set:\n",
    "\n",
    "*   Train-test split using scikit-learn\n",
    "*   Slicing using numpy\n",
    "*   Sample using pandas\n",
    "\n",
    "In the following, we will use the `train_test_split` function from sklearn [Documentation](https://scikit-learn.org/stable/modules/generated/sklearn.model_selection.train_test_split.html).<br> Here are some of the most important parameters:\n",
    "\n",
    "*   **`test_size`**: This parameter specifies the proportion of the dataset to be used for testing. It is typically set to a decimal value between 0 and 1, where 0.2 or 0.3 is commonly used.\n",
    "\n",
    "*   **`train_size`**: This parameter specifies the proportion of the dataset to be used for training. If test_size is not specified, the remaining portion of the dataset will be used for training. If both test_size and train_size are specified, test_size takes precedence.\n",
    "\n",
    "*   **`random_state`**: This parameter sets the random seed for the random number generator used for the train-test split. Setting a fixed random_state ensures that the same split is obtained every time the code is run, which is useful for reproducibility.\n",
    "\n",
    "*   **`shuffle`**: This parameter determines whether or not to shuffle the dataset before splitting. By default, it is set to True, meaning that the data is shuffled randomly before splitting.\n",
    "\n",
    "*   **`stratify`**: This parameter is used for stratified sampling, which ensures that the proportion of each class or category is preserved in both the training and testing sets. It requires a target vector y to be passed as an argument.\n",
    "\n",
    "In addition to its parameters, an indefinite number of datasets can be passed to the function:\n",
    "> `train_test_split(X_1, X_2, X_3 ...)`\n",
    "\n",
    "The `train_test_split` function returns two times the number of datasets passed as inputs: the training sets and then the testing sets.<br>\n",
    "> `X_train, X_test = train_test_split(X, ...)`<br>\n",
    "> `X_train, X_test, Y_train, Y_test = train_test_split(X, Y ...)`<br>\n",
    "> `X_train, X_test, Y_train, Y_test, Z_train, Z_test = train_test_split(X, Y, Z ...)`\n",
    "\n",
    "\n",
    "\n",
    "**<font color='blue'>1. Split the iris dataset into 3 sets using the `train_test_split` function:**\n",
    "\n",
    "\n",
    "*   **<font color='blue'>Training (70% of the data)**\n",
    "*   **<font color='blue'>Validation (10% of the data)**\n",
    "*   **<font color='blue'>Testing (20% of the data)**\n",
    "\n"
   ]
  },
  {
   "cell_type": "code",
   "execution_count": 4,
   "metadata": {},
   "outputs": [],
   "source": [
    "X = df_iris.iloc[:, :-1]\n",
    "y = df_iris.iloc[:, -1]"
   ]
  },
  {
   "cell_type": "code",
   "execution_count": 38,
   "metadata": {
    "id": "tWWX3kbPTUEE"
   },
   "outputs": [],
   "source": [
    "#Splitting train dataset and test+val dataset\n",
    "X_train, X_test, y_train, y_test= train_test_split(X, y, train_size = 0.8)"
   ]
  },
  {
   "cell_type": "code",
   "execution_count": 39,
   "metadata": {},
   "outputs": [],
   "source": [
    "#Splitting train dataset and val dataset\n",
    "X_train, X_val, y_train, y_val= train_test_split(X_train, y_train, train_size = 7/8)"
   ]
  },
  {
   "cell_type": "code",
   "execution_count": 30,
   "metadata": {},
   "outputs": [
    {
     "name": "stdout",
     "output_type": "stream",
     "text": [
      "15\n",
      "15\n"
     ]
    }
   ],
   "source": [
    "print(len(X_val))\n",
    "print(len(y_val))"
   ]
  },
  {
   "cell_type": "markdown",
   "metadata": {
    "id": "zFSMEHIut0_3"
   },
   "source": [
    "**<font color='blue'>2. Count the frequency of categories in the target column of the training, the validation and the testing set.<br> Are the frequencies identical in the 3 sets ?**\n",
    "\n",
    "*Tips: You can use the `value_counts()` function and set the normalize argument to True in order to get frequencies.*"
   ]
  },
  {
   "cell_type": "code",
   "execution_count": 40,
   "metadata": {
    "id": "yMWoitlqTVKD"
   },
   "outputs": [
    {
     "name": "stdout",
     "output_type": "stream",
     "text": [
      "Training data:\n",
      "1    36\n",
      "0    36\n",
      "2    33\n",
      "Name: target, dtype: int64\n",
      "Validation data:\n",
      "2    7\n",
      "1    6\n",
      "0    2\n",
      "Name: target, dtype: int64\n",
      "Testing data:\n",
      "0    12\n",
      "2    10\n",
      "1     8\n",
      "Name: target, dtype: int64\n"
     ]
    }
   ],
   "source": [
    "print('Training data:\\n{0}'.format(y_train.value_counts()))\n",
    "print('Validation data:\\n{0}'.format(y_val.value_counts()))\n",
    "print('Testing data:\\n{0}'.format(y_test.value_counts()))\n",
    "#Yes"
   ]
  },
  {
   "cell_type": "markdown",
   "metadata": {
    "id": "_BzoYdHQuW7Z"
   },
   "source": [
    "**<font color='blue'>3. Set the `stratify` parameter of the train_test_split function to the target column and re-create the training, validation and testing sets.**"
   ]
  },
  {
   "cell_type": "code",
   "execution_count": 5,
   "metadata": {
    "id": "1gwEY2SoTVmz"
   },
   "outputs": [],
   "source": [
    "#Splitting train dataset and test+val dataset\n",
    "X_train, X_test, y_train, y_test= train_test_split(X, y, train_size = 0.8, stratify=y)\n",
    "#Splitting train dataset and val dataset\n",
    "X_train, X_val, y_train, y_val= train_test_split(X_train, y_train, train_size = 7/8, stratify = y_train)"
   ]
  },
  {
   "cell_type": "markdown",
   "metadata": {
    "id": "KkL-9rJJupmD"
   },
   "source": [
    "**<font color='blue'>4. Count the frequency of categories in the target column of the training, the validation and the testing set.<br> Are the frequencies identical in the 3 sets now ?**"
   ]
  },
  {
   "cell_type": "code",
   "execution_count": 6,
   "metadata": {
    "id": "h2kmm5bFTWV6"
   },
   "outputs": [
    {
     "name": "stdout",
     "output_type": "stream",
     "text": [
      "Training data:\n",
      "0    35\n",
      "2    35\n",
      "1    35\n",
      "Name: target, dtype: int64\n",
      "Validation data:\n",
      "2    5\n",
      "0    5\n",
      "1    5\n",
      "Name: target, dtype: int64\n",
      "Testing data:\n",
      "2    10\n",
      "1    10\n",
      "0    10\n",
      "Name: target, dtype: int64\n"
     ]
    }
   ],
   "source": [
    "print('Training data:\\n{0}'.format(y_train.value_counts()))\n",
    "print('Validation data:\\n{0}'.format(y_val.value_counts()))\n",
    "print('Testing data:\\n{0}'.format(y_test.value_counts()))\n",
    "#No, "
   ]
  },
  {
   "cell_type": "markdown",
   "metadata": {
    "id": "vWGQi5Hy2PNN"
   },
   "source": [
    "**<font color='blue'>5. Separate the features from the target for the training, the validation and the testing sets.**"
   ]
  },
  {
   "cell_type": "code",
   "execution_count": null,
   "metadata": {
    "id": "vGbL8oHWTWtQ"
   },
   "outputs": [],
   "source": []
  },
  {
   "cell_type": "markdown",
   "metadata": {
    "id": "Z8LZkvoGwMIe"
   },
   "source": [
    "## Missing data"
   ]
  },
  {
   "cell_type": "markdown",
   "metadata": {
    "id": "s0M22X7JwSaE"
   },
   "source": [
    "The missing values can be found in a dataframe using the `.isna()` method.\n",
    "\n",
    "**<font color='blue'>1. Count the number of NaN in the feature of the training iris dataframe.**\n",
    "\n",
    "*Tips: You can use the `.isna()` method and the `.sum()` method.*"
   ]
  },
  {
   "cell_type": "code",
   "execution_count": 192,
   "metadata": {
    "id": "UZ0y0cacTXr3",
    "scrolled": true
   },
   "outputs": [
    {
     "data": {
      "text/plain": [
       "sepal length (cm)    17\n",
       "sepal width (cm)     16\n",
       "petal length (cm)    16\n",
       "petal width (cm)     17\n",
       "target                0\n",
       "dtype: int64"
      ]
     },
     "execution_count": 192,
     "metadata": {},
     "output_type": "execute_result"
    }
   ],
   "source": [
    "df_iris.isna().sum()"
   ]
  },
  {
   "cell_type": "markdown",
   "metadata": {
    "id": "3HPcRreHyDa_"
   },
   "source": [
    "Pandas provides a `.dropna()` function that can be used to remove rows or columns that contain missing values (i.e., NaN values) from a DataFrame. This function returns a new DataFrame with the missing values removed, leaving only the non-missing values.\n",
    "\n",
    "Here are some of the most important parameters of the dropna() function in pandas:\n",
    "\n",
    "* `axis`: This parameter specifies whether to drop rows (axis=0) or columns (axis=1) that contain missing values. By default, axis=0 is used to drop rows.\n",
    "\n",
    "* `how`: This parameter specifies the criteria for dropping rows or columns. The how parameter can take the value 'any' or 'all'. If 'any' is specified, any row or column with at least one missing value will be dropped. If 'all' is specified, only rows or columns where all values are missing will be dropped.\n",
    "\n",
    "* `thresh`: This parameter specifies the minimum number of non-missing values required for a row or column to be kept. Rows or columns with fewer than thresh non-missing values will be dropped. The thresh parameter can be used to keep only rows or columns that have a certain level of completeness.\n",
    "\n",
    "* `subset`: This parameter specifies a subset of columns to consider when dropping rows or columns. Only the specified columns will be checked for missing values. This parameter can be useful when there are some columns in the DataFrame that are not relevant for the analysis.\n",
    "\n",
    "* `inplace`: This parameter specifies whether to modify the DataFrame in place (inplace=True) or return a new DataFrame with the missing values removed (inplace=False). By default, inplace=False.\n",
    "\n",
    "**<font color='blue'>2.a. Create a copy of the feature of iris_train using the .copy() function.<br>2.b. Drop the missing values on the copy of the iris_train.<br>How many rows were removed ?**"
   ]
  },
  {
   "cell_type": "code",
   "execution_count": 8,
   "metadata": {
    "id": "nB0zQGJoTYXH"
   },
   "outputs": [
    {
     "name": "stdout",
     "output_type": "stream",
     "text": [
      "105\n",
      "67\n"
     ]
    }
   ],
   "source": [
    "iris_train = X_train.copy()\n",
    "print(len(iris_train))\n",
    "iris_train.dropna(axis=0, how='any')\n",
    "#38 rows were removed"
   ]
  },
  {
   "cell_type": "markdown",
   "metadata": {
    "id": "42Rga0BhxGQn"
   },
   "source": [
    "Missing values can be imputed using either pandas or sklearn.\n",
    "\n",
    "The `sklearn.impute` [module](https://scikit-learn.org/stable/modules/classes.html#module-sklearn.impute) in scikit-learn provides various classes for imputing missing values in datasets. This module contains several popular strategies for handling missing values, including:\n",
    "\n",
    "*   `SimpleImputer`: This class provides a basic imputation strategy for missing values in numerical datasets. It allows the user to specify a strategy for filling in missing values, such as using the mean, median, or most frequent value of each column.\n",
    "\n",
    "*   `KNNImputer`: This class provides an unsupervised ML imputation strategy that uses the k-nearest neighbors algorithm to impute missing values in numerical datasets. It estimates each missing value based on the values of its k-nearest neighbors in the dataset.\n",
    "\n",
    "Here are some of the most important parameters of the `SimpleImputer` class:\n",
    "\n",
    "* `missing_values`: This parameter specifies the value or values that should be treated as missing values. By default, missing_values=np.nan is used to identify missing values.\n",
    "\n",
    "* `strategy`: This parameter specifies the strategy used for imputing missing values. The possible values are 'mean', 'median', 'most_frequent', or 'constant'. If 'mean' is specified, missing values are imputed using the mean value of the corresponding feature. If 'median' is specified, missing values are imputed using the median value of the corresponding feature. If 'most_frequent' is specified, missing values are imputed using the most frequent value of the corresponding feature. If 'constant' is specified, missing values are imputed with a user-specified constant value.\n",
    "\n",
    "* `fill_value`: This parameter is used only when the strategy parameter is set to 'constant'. It specifies the value that should be used to impute missing values.\n",
    "\n",
    "To use the `SimpleImputer`, you need to:\n",
    "\n",
    "1.   Create the imputer\n",
    "2.   Fit the imputer on the desired data\n",
    "3.   Transform the desired data\n",
    "\n",
    "```\n",
    "imp = SimpleImputer(...)\n",
    "imp_mean.fit(X)\n",
    "X_no_nan = imp_mean.transform(X)\n",
    "```\n",
    "\n",
    "`SimpleImputer` also have some attributes that can be used after using the fit() method on the data.<br> The `statistics_` attribute is an attribute of the `SimpleImputer` class in scikit-learn, which contains the imputation values for each feature in the input dataset.\n",
    "\n",
    "**<font color='blue'>3.a. Create a copy of the iris_train using the `.copy()` function.<br>3.b. Replace the missing values on the copy of the iris_train by their median using the `SimpleImputer` from sklearn.<br>3.c. Get the median values for each columns using the `statistics_` attribute.**"
   ]
  },
  {
   "cell_type": "code",
   "execution_count": 114,
   "metadata": {
    "id": "XAxdQWIhTZsM"
   },
   "outputs": [
    {
     "name": "stdout",
     "output_type": "stream",
     "text": [
      "Median values:  [6.  3.  4.6 1.5]\n",
      "Training dataset without Nan:  [[ 5.2  3.5  1.5  0.2]\n",
      " [ 7.7  2.8  6.7 18. ]\n",
      " [ 6.3  3.3  4.7  1.6]\n",
      " [ 5.   3.3  1.4  0.2]\n",
      " [ 5.6  2.8  4.9  2. ]\n",
      " [ 6.   3.2  5.3  2.3]\n",
      " [ 5.8 21.6  3.9  1.2]\n",
      " [ 6.   2.2  5.   1.5]\n",
      " [ 6.9  3.2  5.7  2.3]\n",
      " [ 6.2  3.4  5.4  2.3]\n",
      " [50.4  3.3  6.   2.5]\n",
      " [ 4.4  3.   1.3  1.8]\n",
      " [ 6.   2.2  4.   1. ]\n",
      " [ 7.3  3.   6.3  1.8]\n",
      " [ 5.1  3.7  1.5  3.6]\n",
      " [38.4 18.6  1.6  0.2]\n",
      " [ 6.7  3.3 28.5  2.5]\n",
      " [ 6.5  2.8  4.6  1.5]\n",
      " [ 6.   2.9  4.7  1.4]\n",
      " [ 6.1  2.8  4.6  1.2]\n",
      " [ 5.   3.4  4.6  0.4]\n",
      " [ 4.9  3.1  1.5  0.7]\n",
      " [ 6.   3.   8.   0.2]\n",
      " [ 5.8  2.7  5.1  1.9]\n",
      " [ 6.2  2.8  4.8  1.8]\n",
      " [ 5.6  3.  20.5  1.3]\n",
      " [ 6.9  3.1  5.4  2.1]\n",
      " [ 7.9  3.8  6.4  2. ]\n",
      " [ 5.2  4.1  1.5  0.1]\n",
      " [ 6.3  2.5 44.1  1.5]\n",
      " [ 7.2  3.   4.6  1.6]\n",
      " [ 6.   3.5  1.4  0.2]\n",
      " [ 6.9  3.   4.9  1.5]\n",
      " [ 5.   3.  12.6  1.5]\n",
      " [ 6.8 28.8  5.9 16.1]\n",
      " [ 6.   3.   4.6  1.7]\n",
      " [ 6.   3.   4.4  1.4]\n",
      " [ 5.8  2.7  5.1  1.5]\n",
      " [ 5.9  3.2  4.8  1.8]\n",
      " [56.7  2.3  4.4  1.3]\n",
      " [27.6  3.4  1.4  0.3]\n",
      " [ 5.4  3.4  4.6  0.4]\n",
      " [ 6.   2.7  4.1  1. ]\n",
      " [ 5.9  3.   5.1 12.6]\n",
      " [ 4.9  2.5  4.5  1.5]\n",
      " [ 5.4  3.   4.5  1.5]\n",
      " [ 6.5  3.   5.5  1.8]\n",
      " [ 6.3  3.4  5.6  2.4]\n",
      " [ 5.  20.4  1.5  0.2]\n",
      " [ 4.9  3.6  1.4  1.5]\n",
      " [ 4.7  3.2  1.3  0.2]\n",
      " [ 6.   2.8 30.6  1.5]\n",
      " [ 6.4  2.8  5.6  2.2]\n",
      " [45.   3.   1.2  0.2]\n",
      " [ 5.   3.  21.   1. ]\n",
      " [ 6.7  3.1  4.7  1.5]\n",
      " [ 6.   2.9 38.7  1.3]\n",
      " [ 6.   2.8  4.8  9.8]\n",
      " [ 6.  13.5  5.1  1.6]\n",
      " [35.   3.5 11.7  0.3]\n",
      " [ 4.5  2.3  1.3  0.3]\n",
      " [ 5.4  3.7  1.5  1.5]\n",
      " [ 6.   3.2  5.1  1.5]\n",
      " [53.6  2.5  5.8  1.8]\n",
      " [ 6.9  3.1  5.1  2.3]\n",
      " [ 5.5  2.3  4.   1.3]\n",
      " [ 5.5 24.5  1.3  0.2]\n",
      " [ 6.   3.8  1.9  0.4]\n",
      " [34.2  3.   4.2  7.2]\n",
      " [ 6.1  2.6 28.  12.6]\n",
      " [ 6.7  3.   4.6  2.3]\n",
      " [ 6.  27.   4.8  1.8]\n",
      " [ 4.9  3.   1.4  1.5]\n",
      " [ 5.6  3.   4.5  1.5]\n",
      " [ 5.1  3.   3.   1.1]\n",
      " [ 6.3  2.7  4.9  1.5]\n",
      " [24.5  3.1  1.5  0.2]\n",
      " [ 5.9  3.   4.2  1.5]\n",
      " [ 4.6  3.6  7.   1. ]\n",
      " [36.8  3.1  1.5  0.2]\n",
      " [ 5.4  3.   1.7  2.8]\n",
      " [39.2  2.7  4.6  1.3]\n",
      " [ 5.5  4.2  1.4  0.2]\n",
      " [ 6.6  2.9  4.6  1.3]\n",
      " [ 5.7  4.4  1.5  3.2]\n",
      " [ 7.6  3.   6.6  2.1]\n",
      " [ 4.8  3.4  4.6  0.2]\n",
      " [ 5.7 23.4  4.6  1. ]\n",
      " [ 5.   2.3  3.3  1. ]\n",
      " [ 6.7  3.1  4.4  1.4]\n",
      " [ 4.4  3.   1.3  0.2]\n",
      " [ 5.7 34.2  4.6  1.5]\n",
      " [ 5.2  2.7  3.9  1.4]\n",
      " [ 5.1  3.3  1.7  0.5]\n",
      " [ 6.8  3.   4.6  1.5]\n",
      " [ 5.4  3.4  1.7  0.2]\n",
      " [ 5.7  2.5  5.   2. ]\n",
      " [ 6.   2.9  4.5  1.5]\n",
      " [ 6.3  2.9  5.6  1.8]\n",
      " [ 5.5  2.5  4.   1.3]\n",
      " [36.6  3.   4.6  1.4]\n",
      " [ 5.3 29.6  1.5  1.5]\n",
      " [ 6.   2.5  3.9  1.1]\n",
      " [ 6.4 13.5  5.3  1.9]\n",
      " [ 6.1  3.   4.9  1.8]]\n",
      "     sepal length (cm)  sepal width (cm)  petal length (cm)  petal width (cm)\n",
      "0                  5.2               3.5                1.5               0.2\n",
      "1                  7.7               2.8                6.7              18.0\n",
      "2                  6.3               3.3                4.7               1.6\n",
      "3                  5.0               3.3                1.4               0.2\n",
      "4                  5.6               2.8                4.9               2.0\n",
      "..                 ...               ...                ...               ...\n",
      "100               36.6               3.0                4.6               1.4\n",
      "101                5.3              29.6                1.5               1.5\n",
      "102                6.0               2.5                3.9               1.1\n",
      "103                6.4              13.5                5.3               1.9\n",
      "104                6.1               3.0                4.9               1.8\n",
      "\n",
      "[105 rows x 4 columns]\n"
     ]
    }
   ],
   "source": [
    "iris_train = X_train.copy()\n",
    "imp_median = SimpleImputer(missing_values=np.nan, strategy='median')\n",
    "imp_median.fit(iris_train)\n",
    "print('Median values: ', imp_median.statistics_)\n",
    "X_no_nan_train = imp_median.transform(iris_train)\n",
    "print(\"Training dataset without Nan: \", X_no_nan_train)\n",
    "iris_train = pd.DataFrame(X_no_nan_train, columns=['sepal length (cm)', 'sepal width (cm)', 'petal length (cm)', 'petal width (cm)'])\n",
    "print(iris_train)"
   ]
  },
  {
   "cell_type": "markdown",
   "metadata": {
    "id": "MEUqSO2IyEAa"
   },
   "source": [
    "**<font color='blue'>4. Apply the missing values imputation to the validation and the testing sets.**\n",
    "\n",
    "*Tips: You must reuse the computations made on the training set (e.g. the median should not be calculated on the validation and the testing sets)*"
   ]
  },
  {
   "cell_type": "code",
   "execution_count": 67,
   "metadata": {
    "id": "T6E6i0TJzUX6"
   },
   "outputs": [
    {
     "name": "stdout",
     "output_type": "stream",
     "text": [
      "[[ 7.7  15.6   6.9   2.3 ]\n",
      " [33.6   3.    1.4   0.1 ]\n",
      " [ 6.55 20.3   4.3   6.5 ]\n",
      " [ 7.    3.2   4.7   1.25]\n",
      " [40.8   3.8   1.6   0.2 ]\n",
      " [ 6.4   3.1  27.5  12.6 ]\n",
      " [ 5.7   3.3   4.55  1.3 ]\n",
      " [ 5.8  13.    4.    1.2 ]\n",
      " [ 6.7   3.3   5.7   2.1 ]\n",
      " [ 5.    3.    1.6   0.2 ]\n",
      " [ 7.1   3.3   5.9   2.1 ]\n",
      " [52.2   4.    1.2   0.2 ]\n",
      " [ 5.8   2.8   5.1  16.8 ]\n",
      " [ 5.5   2.6   4.4   1.2 ]\n",
      " [ 4.8  30.6   9.5   0.2 ]]\n",
      "    sepal length (cm)  sepal width (cm)  petal length (cm)  petal width (cm)\n",
      "0                7.70              15.6               6.90              2.30\n",
      "1               33.60               3.0               1.40              0.10\n",
      "2                6.55              20.3               4.30              6.50\n",
      "3                7.00               3.2               4.70              1.25\n",
      "4               40.80               3.8               1.60              0.20\n",
      "5                6.40               3.1              27.50             12.60\n",
      "6                5.70               3.3               4.55              1.30\n",
      "7                5.80              13.0               4.00              1.20\n",
      "8                6.70               3.3               5.70              2.10\n",
      "9                5.00               3.0               1.60              0.20\n",
      "10               7.10               3.3               5.90              2.10\n",
      "11              52.20               4.0               1.20              0.20\n",
      "12               5.80               2.8               5.10             16.80\n",
      "13               5.50               2.6               4.40              1.20\n",
      "14               4.80              30.6               9.50              0.20\n"
     ]
    }
   ],
   "source": [
    "iris_val = X_val.copy()\n",
    "imp_median.fit(iris_val)\n",
    "X_no_nan_val = imp_median.transform(iris_val)\n",
    "print(X_no_nan_val)\n",
    "iris_val = pd.DataFrame(X_no_nan_val, columns=['sepal length (cm)', 'sepal width (cm)', 'petal length (cm)', 'petal width (cm)'])\n",
    "print(iris_val)"
   ]
  },
  {
   "cell_type": "code",
   "execution_count": 68,
   "metadata": {},
   "outputs": [
    {
     "name": "stdout",
     "output_type": "stream",
     "text": [
      "[[ 6.5  3.   5.2 12. ]\n",
      " [ 5.7  2.2  4.5  1.5]\n",
      " [ 4.9  2.4  4.5  1.5]\n",
      " [ 5.2  3.4  4.5  1.5]\n",
      " [ 6.3  2.5  5.  17.1]\n",
      " [ 6.4  3.2 40.5  1.5]\n",
      " [ 5.1  3.5  1.4  0.3]\n",
      " [ 4.6  3.2  1.4  0.2]\n",
      " [ 5.7  2.8  4.5  1.5]\n",
      " [ 6.4  2.8  5.6  2.1]\n",
      " [ 4.3  3.   1.1  1.5]\n",
      " [ 7.4  2.8  6.1 13.3]\n",
      " [ 5.1  3.   1.5  0.3]\n",
      " [ 5.7  3.   3.8  1.1]\n",
      " [ 5.7  2.8  4.1  1.3]\n",
      " [ 5.   3.5  1.6  1.5]\n",
      " [ 5.7  3.4  4.5  0.2]\n",
      " [36.   3.   6.1  2.5]\n",
      " [ 6.7  3.1  5.6  2.4]\n",
      " [ 4.4  2.9  1.4  0.2]\n",
      " [ 7.7  3.  36.6  2.3]\n",
      " [ 6.   3.4  4.5  1.6]\n",
      " [ 6.5  3.   5.8  2.2]\n",
      " [ 5.4 19.5  1.3  0.4]\n",
      " [ 6.1  2.8  4.   1.3]\n",
      " [ 7.7 34.2 40.2  2.2]\n",
      " [ 5.6  2.9  4.5  1.3]\n",
      " [50.4  3.2  6.   1.8]\n",
      " [ 4.8  3.   1.4  0.3]\n",
      " [ 5.5  3.   3.7  1. ]]\n",
      "    sepal length (cm)  sepal width (cm)  petal length (cm)  petal width (cm)\n",
      "0                 6.5               3.0                5.2              12.0\n",
      "1                 5.7               2.2                4.5               1.5\n",
      "2                 4.9               2.4                4.5               1.5\n",
      "3                 5.2               3.4                4.5               1.5\n",
      "4                 6.3               2.5                5.0              17.1\n",
      "5                 6.4               3.2               40.5               1.5\n",
      "6                 5.1               3.5                1.4               0.3\n",
      "7                 4.6               3.2                1.4               0.2\n",
      "8                 5.7               2.8                4.5               1.5\n",
      "9                 6.4               2.8                5.6               2.1\n",
      "10                4.3               3.0                1.1               1.5\n",
      "11                7.4               2.8                6.1              13.3\n",
      "12                5.1               3.0                1.5               0.3\n",
      "13                5.7               3.0                3.8               1.1\n",
      "14                5.7               2.8                4.1               1.3\n",
      "15                5.0               3.5                1.6               1.5\n",
      "16                5.7               3.4                4.5               0.2\n",
      "17               36.0               3.0                6.1               2.5\n",
      "18                6.7               3.1                5.6               2.4\n",
      "19                4.4               2.9                1.4               0.2\n",
      "20                7.7               3.0               36.6               2.3\n",
      "21                6.0               3.4                4.5               1.6\n",
      "22                6.5               3.0                5.8               2.2\n",
      "23                5.4              19.5                1.3               0.4\n",
      "24                6.1               2.8                4.0               1.3\n",
      "25                7.7              34.2               40.2               2.2\n",
      "26                5.6               2.9                4.5               1.3\n",
      "27               50.4               3.2                6.0               1.8\n",
      "28                4.8               3.0                1.4               0.3\n",
      "29                5.5               3.0                3.7               1.0\n"
     ]
    }
   ],
   "source": [
    "iris_test = X_test.copy()\n",
    "imp_median.fit(iris_test)\n",
    "X_no_nan_test = imp_median.transform(iris_test)\n",
    "print(X_no_nan_test)\n",
    "iris_test = pd.DataFrame(X_no_nan_test, columns=['sepal length (cm)', 'sepal width (cm)', 'petal length (cm)', 'petal width (cm)'])\n",
    "print(iris_test)"
   ]
  },
  {
   "cell_type": "markdown",
   "metadata": {
    "id": "iHsYH_u23X5C"
   },
   "source": [
    "## Outliers"
   ]
  },
  {
   "cell_type": "markdown",
   "metadata": {
    "id": "hKB3MOxj30D5"
   },
   "source": [
    "In the following exercise, we will use the imputed feature training set.\n",
    "\n",
    "**<font color='blue'>1. Display the histograms of the imputed features of the training iris *(i.e. the ones that does not contain NaN anymore)*.<br> Can you see outliers ?**\n",
    "\n",
    "*Tips: Outliers are easier to detect if you increase the number of bins in your histogram*"
   ]
  },
  {
   "cell_type": "code",
   "execution_count": 71,
   "metadata": {
    "id": "lWXYB63fTbJ3"
   },
   "outputs": [
    {
     "data": {
      "text/plain": [
       "array([[<AxesSubplot:title={'center':'sepal length (cm)'}>,\n",
       "        <AxesSubplot:title={'center':'sepal width (cm)'}>],\n",
       "       [<AxesSubplot:title={'center':'petal length (cm)'}>,\n",
       "        <AxesSubplot:title={'center':'petal width (cm)'}>]], dtype=object)"
      ]
     },
     "execution_count": 71,
     "metadata": {},
     "output_type": "execute_result"
    },
    {
     "data": {
      "image/png": "[encoded data removed]",
      "text/plain": [
       "<Figure size 1440x720 with 4 Axes>"
      ]
     },
     "metadata": {
      "needs_background": "light"
     },
     "output_type": "display_data"
    }
   ],
   "source": [
    "iris_train.hist(bins=10, figsize=(20,10))\n"
   ]
  },
  {
   "cell_type": "markdown",
   "metadata": {
    "id": "TsrKyIsb5K9s"
   },
   "source": [
    "**<font color='blue'>2. Do the same with boxplot.**"
   ]
  },
  {
   "cell_type": "code",
   "execution_count": 146,
   "metadata": {
    "id": "R_Sz0IasTbfb"
   },
   "outputs": [
    {
     "data": {
      "text/plain": [
       "<AxesSubplot:>"
      ]
     },
     "execution_count": 146,
     "metadata": {},
     "output_type": "execute_result"
    },
    {
     "data": {
      "image/png": "[encoded data removed]",
      "text/plain": [
       "<Figure size 1440x720 with 1 Axes>"
      ]
     },
     "metadata": {
      "needs_background": "light"
     },
     "output_type": "display_data"
    }
   ],
   "source": [
    "iris_train.boxplot(figsize=(20,10))\n",
    "#There are ourliers for all the features."
   ]
  },
  {
   "cell_type": "markdown",
   "metadata": {
    "id": "hCMDe6dH5j7A"
   },
   "source": [
    "The interquartile range can be used to detect outliers.\n",
    "\n",
    "It can be done using the scipy iqr() class [here](https://docs.scipy.org/doc/scipy/reference/generated/scipy.stats.iqr.html). <br> In this exercise, we will do it manually on the imputed training features of the iris dataset.\n",
    "\n",
    "\n",
    "\n",
    "**<font color='blue'>3.a. Calculate the 1st quartile (Q1) and the 3rd quartile (Q3) of the data.**\n",
    "\n",
    "*Tips: It can be done using the pandas [quantile() method](https://pandas.pydata.org/docs/reference/api/pandas.DataFrame.quantile.html) or the Numpy [quantile() method](https://numpy.org/doc/stable/reference/generated/numpy.quantile.html)*"
   ]
  },
  {
   "cell_type": "code",
   "execution_count": 116,
   "metadata": {
    "id": "mRodE7nQTcT1"
   },
   "outputs": [
    {
     "name": "stdout",
     "output_type": "stream",
     "text": [
      "sepal length (cm)    5.4\n",
      "sepal width (cm)     2.8\n",
      "petal length (cm)    1.9\n",
      "petal width (cm)     1.0\n",
      "Name: 0.25, dtype: float64 \n",
      " sepal length (cm)    6.7\n",
      "sepal width (cm)     3.4\n",
      "petal length (cm)    5.3\n",
      "petal width (cm)     1.8\n",
      "Name: 0.75, dtype: float64\n"
     ]
    }
   ],
   "source": [
    "q1 = iris_train.quantile(q=0.25)\n",
    "q3 = iris_train.quantile(q=0.75)\n",
    "print(q1, '\\n' ,q3)"
   ]
  },
  {
   "cell_type": "markdown",
   "metadata": {
    "id": "XR7kMTks7ztF"
   },
   "source": [
    "**<font color='blue'>3.b. Calculate the interquartile range: IQR = Q3 - Q1.**"
   ]
  },
  {
   "cell_type": "code",
   "execution_count": 117,
   "metadata": {
    "id": "aEs_BX0BTc3j"
   },
   "outputs": [
    {
     "name": "stdout",
     "output_type": "stream",
     "text": [
      "sepal length (cm)    1.3\n",
      "sepal width (cm)     0.6\n",
      "petal length (cm)    3.4\n",
      "petal width (cm)     0.8\n",
      "dtype: float64\n",
      "[1.3 0.6 3.4 0.8]\n"
     ]
    }
   ],
   "source": [
    "iqr_1 = q3 - q1\n",
    "iqr_2 = scipy.stats.iqr(iris_train, axis=0)\n",
    "print(iqr_1)\n",
    "print(iqr_2)"
   ]
  },
  {
   "cell_type": "markdown",
   "metadata": {
    "id": "mNvPnLyt757E"
   },
   "source": [
    "**<font color='blue'>3.c. Calculate the lower cutoff Q1 - 1.5 x IQR and the higher cutoff Q3 + 1.5 x IQR**"
   ]
  },
  {
   "cell_type": "code",
   "execution_count": 133,
   "metadata": {
    "id": "D_Ef3m2bTdWs"
   },
   "outputs": [
    {
     "name": "stdout",
     "output_type": "stream",
     "text": [
      "sepal length (cm)    3.45\n",
      "sepal width (cm)     1.90\n",
      "petal length (cm)   -3.20\n",
      "petal width (cm)    -0.20\n",
      "Name: 0.25, dtype: float64\n",
      "sepal length (cm)     8.65\n",
      "sepal width (cm)      4.30\n",
      "petal length (cm)    10.40\n",
      "petal width (cm)      3.00\n",
      "Name: 0.75, dtype: float64\n"
     ]
    }
   ],
   "source": [
    "low_co = q1 - 1.5 * iqr_2\n",
    "high_co = q3 + 1.5 * iqr_2\n",
    "print(low_co)\n",
    "print(high_co)"
   ]
  },
  {
   "cell_type": "markdown",
   "metadata": {
    "id": "cmJ9J5Ji8tIo"
   },
   "source": [
    "**<font color='blue'>3.d. Use the lower and the higher cutoff to find the outliers in the data.**\n",
    "\n",
    "*Tips: Any value higher than the higher cutoff or lower than the lower cutoff is an outlier.*"
   ]
  },
  {
   "cell_type": "code",
   "execution_count": 148,
   "metadata": {
    "id": "lB1tMS-VTe-0"
   },
   "outputs": [
    {
     "name": "stdout",
     "output_type": "stream",
     "text": [
      "(35, 4)\n",
      "(0, 4)\n"
     ]
    }
   ],
   "source": [
    "# lower_set = iris_train[iris_train.where(iris_train<low_co).notna()==True]\n",
    "# print(lower_set) \n",
    "lower_set = iris_train[iris_train[iris_train<low_co].notna().any(axis=1)]\n",
    "higher_set = iris_train[iris_train[iris_train>high_co].notna().any(axis=1)]\n",
    "print(higher_set.shape)\n",
    "print(lower_set.shape)\n",
    "#We can see that there has no outliers for lower cutoff."
   ]
  },
  {
   "cell_type": "markdown",
   "metadata": {
    "id": "VdrT2F5x-K4j"
   },
   "source": [
    "**<font color='blue'>4. Replace the upper outliers by the Q3 value and the lower outliers by the Q1 value.**\n",
    "\n",
    "*Tips: You can use the `.mask()` [method](https://pandas.pydata.org/docs/reference/api/pandas.DataFrame.mask.html) of pandas.*"
   ]
  },
  {
   "cell_type": "code",
   "execution_count": 160,
   "metadata": {
    "id": "E6l23RJKTgVN"
   },
   "outputs": [
    {
     "name": "stdout",
     "output_type": "stream",
     "text": [
      "     sepal length (cm)  sepal width (cm)  petal length (cm)  petal width (cm)\n",
      "0                  5.2               3.5                1.5               0.2\n",
      "1                  7.7               2.8                6.7              18.0\n",
      "2                  6.3               3.3                4.7               1.6\n",
      "3                  5.0               3.3                1.4               0.2\n",
      "4                  5.6               2.8                4.9               2.0\n",
      "..                 ...               ...                ...               ...\n",
      "100               36.6               3.0                4.6               1.4\n",
      "101                5.3              29.6                1.5               1.5\n",
      "102                6.0               2.5                3.9               1.1\n",
      "103                6.4              13.5                5.3               1.9\n",
      "104                6.1               3.0                4.9               1.8\n",
      "\n",
      "[105 rows x 4 columns]\n",
      "     sepal length (cm)  sepal width (cm)  petal length (cm)  petal width (cm)\n",
      "0                 5.20               3.5                1.5               0.2\n",
      "1                 7.70               2.8                6.7               3.0\n",
      "2                 6.30               3.3                4.7               1.6\n",
      "3                 5.00               3.3                1.4               0.2\n",
      "4                 5.60               2.8                4.9               2.0\n",
      "..                 ...               ...                ...               ...\n",
      "100               8.65               3.0                4.6               1.4\n",
      "101               5.30               4.3                1.5               1.5\n",
      "102               6.00               2.5                3.9               1.1\n",
      "103               6.40               4.3                5.3               1.9\n",
      "104               6.10               3.0                4.9               1.8\n",
      "\n",
      "[105 rows x 4 columns]\n"
     ]
    }
   ],
   "source": [
    "#Replace lower outliers for train dataset\n",
    "print(iris_train)\n",
    "iris_masked_train = iris_train.mask(iris_train>high_co, high_co, axis=1)\n",
    "print(iris_masked_train)"
   ]
  },
  {
   "cell_type": "markdown",
   "metadata": {
    "id": "AZ04THOezXoz"
   },
   "source": [
    "**<font color='blue'>5. Apply the same outlier transformation to the validation and the testing sets.**"
   ]
  },
  {
   "cell_type": "code",
   "execution_count": 161,
   "metadata": {
    "id": "vsUdqalXzkUN"
   },
   "outputs": [
    {
     "name": "stdout",
     "output_type": "stream",
     "text": [
      "    sepal length (cm)  sepal width (cm)  petal length (cm)  petal width (cm)\n",
      "0                7.70              15.6               6.90              2.30\n",
      "1               33.60               3.0               1.40              0.10\n",
      "2                6.55              20.3               4.30              6.50\n",
      "3                7.00               3.2               4.70              1.25\n",
      "4               40.80               3.8               1.60              0.20\n",
      "5                6.40               3.1              27.50             12.60\n",
      "6                5.70               3.3               4.55              1.30\n",
      "7                5.80              13.0               4.00              1.20\n",
      "8                6.70               3.3               5.70              2.10\n",
      "9                5.00               3.0               1.60              0.20\n",
      "10               7.10               3.3               5.90              2.10\n",
      "11              52.20               4.0               1.20              0.20\n",
      "12               5.80               2.8               5.10             16.80\n",
      "13               5.50               2.6               4.40              1.20\n",
      "14               4.80              30.6               9.50              0.20\n",
      "    sepal length (cm)  sepal width (cm)  petal length (cm)  petal width (cm)\n",
      "0                7.70               4.3               6.90              2.30\n",
      "1                8.65               3.0               1.40              0.10\n",
      "2                6.55               4.3               4.30              3.00\n",
      "3                7.00               3.2               4.70              1.25\n",
      "4                8.65               3.8               1.60              0.20\n",
      "5                6.40               3.1              10.40              3.00\n",
      "6                5.70               3.3               4.55              1.30\n",
      "7                5.80               4.3               4.00              1.20\n",
      "8                6.70               3.3               5.70              2.10\n",
      "9                5.00               3.0               1.60              0.20\n",
      "10               7.10               3.3               5.90              2.10\n",
      "11               8.65               4.0               1.20              0.20\n",
      "12               5.80               2.8               5.10              3.00\n",
      "13               5.50               2.6               4.40              1.20\n",
      "14               4.80               4.3               9.50              0.20\n",
      "    sepal length (cm)  sepal width (cm)  petal length (cm)  petal width (cm)\n",
      "0                 6.5               3.0                5.2              12.0\n",
      "1                 5.7               2.2                4.5               1.5\n",
      "2                 4.9               2.4                4.5               1.5\n",
      "3                 5.2               3.4                4.5               1.5\n",
      "4                 6.3               2.5                5.0              17.1\n",
      "5                 6.4               3.2               40.5               1.5\n",
      "6                 5.1               3.5                1.4               0.3\n",
      "7                 4.6               3.2                1.4               0.2\n",
      "8                 5.7               2.8                4.5               1.5\n",
      "9                 6.4               2.8                5.6               2.1\n",
      "10                4.3               3.0                1.1               1.5\n",
      "11                7.4               2.8                6.1              13.3\n",
      "12                5.1               3.0                1.5               0.3\n",
      "13                5.7               3.0                3.8               1.1\n",
      "14                5.7               2.8                4.1               1.3\n",
      "15                5.0               3.5                1.6               1.5\n",
      "16                5.7               3.4                4.5               0.2\n",
      "17               36.0               3.0                6.1               2.5\n",
      "18                6.7               3.1                5.6               2.4\n",
      "19                4.4               2.9                1.4               0.2\n",
      "20                7.7               3.0               36.6               2.3\n",
      "21                6.0               3.4                4.5               1.6\n",
      "22                6.5               3.0                5.8               2.2\n",
      "23                5.4              19.5                1.3               0.4\n",
      "24                6.1               2.8                4.0               1.3\n",
      "25                7.7              34.2               40.2               2.2\n",
      "26                5.6               2.9                4.5               1.3\n",
      "27               50.4               3.2                6.0               1.8\n",
      "28                4.8               3.0                1.4               0.3\n",
      "29                5.5               3.0                3.7               1.0\n",
      "    sepal length (cm)  sepal width (cm)  petal length (cm)  petal width (cm)\n",
      "0                6.50               3.0                5.2               3.0\n",
      "1                5.70               2.2                4.5               1.5\n",
      "2                4.90               2.4                4.5               1.5\n",
      "3                5.20               3.4                4.5               1.5\n",
      "4                6.30               2.5                5.0               3.0\n",
      "5                6.40               3.2               10.4               1.5\n",
      "6                5.10               3.5                1.4               0.3\n",
      "7                4.60               3.2                1.4               0.2\n",
      "8                5.70               2.8                4.5               1.5\n",
      "9                6.40               2.8                5.6               2.1\n",
      "10               4.30               3.0                1.1               1.5\n",
      "11               7.40               2.8                6.1               3.0\n",
      "12               5.10               3.0                1.5               0.3\n",
      "13               5.70               3.0                3.8               1.1\n",
      "14               5.70               2.8                4.1               1.3\n",
      "15               5.00               3.5                1.6               1.5\n",
      "16               5.70               3.4                4.5               0.2\n",
      "17               8.65               3.0                6.1               2.5\n",
      "18               6.70               3.1                5.6               2.4\n",
      "19               4.40               2.9                1.4               0.2\n",
      "20               7.70               3.0               10.4               2.3\n",
      "21               6.00               3.4                4.5               1.6\n",
      "22               6.50               3.0                5.8               2.2\n",
      "23               5.40               4.3                1.3               0.4\n",
      "24               6.10               2.8                4.0               1.3\n",
      "25               7.70               4.3               10.4               2.2\n",
      "26               5.60               2.9                4.5               1.3\n",
      "27               8.65               3.2                6.0               1.8\n",
      "28               4.80               3.0                1.4               0.3\n",
      "29               5.50               3.0                3.7               1.0\n"
     ]
    }
   ],
   "source": [
    "#Replace lower outliers for validation dataset\n",
    "print(iris_val)\n",
    "iris_masked_val = iris_val.mask(iris_val>high_co, high_co, axis=1)\n",
    "print(iris_masked_val)\n",
    "\n",
    "#Replace lower outliers for test dataset\n",
    "print(iris_test)\n",
    "iris_masked_test = iris_test.mask(iris_test>high_co, high_co, axis=1)\n",
    "print(iris_masked_test)"
   ]
  },
  {
   "cell_type": "markdown",
   "metadata": {
    "id": "rvuYgZJzvdcI"
   },
   "source": [
    "# Transformation"
   ]
  },
  {
   "cell_type": "markdown",
   "metadata": {
    "id": "PyD9XTY3x2am"
   },
   "source": [
    "In the following exercise, we will use the cleaned iris training dataset i.e. the dataset without any missing values and outliers obtained at the previous exercise."
   ]
  },
  {
   "cell_type": "markdown",
   "metadata": {
    "id": "lEXDkwy4xkCS"
   },
   "source": [
    "## Log transformation"
   ]
  },
  {
   "cell_type": "markdown",
   "metadata": {
    "id": "QI8dd5uEz4Ej"
   },
   "source": [
    "**<font color='blue'>1. Display the histograms of the features.**"
   ]
  },
  {
   "cell_type": "code",
   "execution_count": 164,
   "metadata": {
    "id": "NJgGZdYDvhQx"
   },
   "outputs": [
    {
     "data": {
      "text/plain": [
       "array([[<AxesSubplot:title={'center':'sepal length (cm)'}>,\n",
       "        <AxesSubplot:title={'center':'sepal width (cm)'}>],\n",
       "       [<AxesSubplot:title={'center':'petal length (cm)'}>,\n",
       "        <AxesSubplot:title={'center':'petal width (cm)'}>]], dtype=object)"
      ]
     },
     "execution_count": 164,
     "metadata": {},
     "output_type": "execute_result"
    },
    {
     "data": {
      "image/png": "[encoded data removed]",
      "text/plain": [
       "<Figure size 1440x720 with 4 Axes>"
      ]
     },
     "metadata": {
      "needs_background": "light"
     },
     "output_type": "display_data"
    }
   ],
   "source": [
    "iris_masked_train.hist(bins=10, figsize=(20, 10))"
   ]
  },
  {
   "cell_type": "markdown",
   "metadata": {
    "id": "dgdgPQhK0KKx"
   },
   "source": [
    "**<font color='blue'>2. Apply the logarithm transformation to the features.**\n",
    "\n",
    "*Tips: You can use the log() function from Numpy.*"
   ]
  },
  {
   "cell_type": "code",
   "execution_count": 168,
   "metadata": {
    "id": "l32Cp3-B0uny"
   },
   "outputs": [],
   "source": [
    "iris_loged_train = np.log(iris_masked_train)"
   ]
  },
  {
   "cell_type": "markdown",
   "metadata": {
    "id": "-DOeEA9X0u8n"
   },
   "source": [
    "**<font color='blue'>3. Display the histograms of the modified features.<br> What happened ?**"
   ]
  },
  {
   "cell_type": "code",
   "execution_count": 170,
   "metadata": {
    "id": "-sFo_4Jy0-eb"
   },
   "outputs": [
    {
     "data": {
      "text/plain": [
       "array([[<AxesSubplot:title={'center':'sepal length (cm)'}>,\n",
       "        <AxesSubplot:title={'center':'sepal width (cm)'}>],\n",
       "       [<AxesSubplot:title={'center':'petal length (cm)'}>,\n",
       "        <AxesSubplot:title={'center':'petal width (cm)'}>]], dtype=object)"
      ]
     },
     "execution_count": 170,
     "metadata": {},
     "output_type": "execute_result"
    },
    {
     "data": {
      "image/png": "[encoded data removed]",
      "text/plain": [
       "<Figure size 1440x720 with 4 Axes>"
      ]
     },
     "metadata": {
      "needs_background": "light"
     },
     "output_type": "display_data"
    }
   ],
   "source": [
    "iris_loged_train.hist(figsize=(20, 10), bins= 10)"
   ]
  },
  {
   "cell_type": "markdown",
   "metadata": {
    "id": "0MM5KUWqxugb"
   },
   "source": [
    "## Min-Max Scaling"
   ]
  },
  {
   "cell_type": "markdown",
   "metadata": {
    "id": "hNBhTTNS1Gyt"
   },
   "source": [
    "First, let's compute the Min-Max Scaling by hands.\n",
    "\n",
    "**<font color='blue'>1. Calculate the minimum and the maximum of the features.**\n",
    "\n",
    "*Tips: You can use the pandas .min() and .max() methods directly on the dataframe.*"
   ]
  },
  {
   "cell_type": "code",
   "execution_count": 171,
   "metadata": {
    "id": "YW64hqEVxxp4"
   },
   "outputs": [
    {
     "name": "stdout",
     "output_type": "stream",
     "text": [
      "sepal length (cm)    4.4\n",
      "sepal width (cm)     2.2\n",
      "petal length (cm)    1.2\n",
      "petal width (cm)     0.1\n",
      "dtype: float64\n",
      "sepal length (cm)     8.65\n",
      "sepal width (cm)      4.30\n",
      "petal length (cm)    10.40\n",
      "petal width (cm)      3.00\n",
      "dtype: float64\n"
     ]
    }
   ],
   "source": [
    "min_value = iris_masked_train.min()\n",
    "max_value = iris_masked_train.max()\n",
    "print(min_value)\n",
    "print(max_value)"
   ]
  },
  {
   "cell_type": "markdown",
   "metadata": {
    "id": "FFWB2zLJ2S4p"
   },
   "source": [
    "The min-max scaling method is simply:\n",
    "\n",
    "$X = \\frac{X-X_{min}}{X_{max}-X_{min}}$\n",
    "\n",
    "**<font color='blue'>2. Transform the features using the min-max scaling method.**\n",
    "\n",
    "*Tips: You can transform all the features simultaneously if you are using a Pandas dataframe or a Numpy array.*"
   ]
  },
  {
   "cell_type": "code",
   "execution_count": 172,
   "metadata": {
    "id": "BMMpewch2zh5"
   },
   "outputs": [
    {
     "name": "stdout",
     "output_type": "stream",
     "text": [
      "     sepal length (cm)  sepal width (cm)  petal length (cm)  petal width (cm)\n",
      "0             0.188235          0.619048           0.032609          0.034483\n",
      "1             0.776471          0.285714           0.597826          1.000000\n",
      "2             0.447059          0.523810           0.380435          0.517241\n",
      "3             0.141176          0.523810           0.021739          0.034483\n",
      "4             0.282353          0.285714           0.402174          0.655172\n",
      "..                 ...               ...                ...               ...\n",
      "100           1.000000          0.380952           0.369565          0.448276\n",
      "101           0.211765          1.000000           0.032609          0.482759\n",
      "102           0.376471          0.142857           0.293478          0.344828\n",
      "103           0.470588          1.000000           0.445652          0.620690\n",
      "104           0.400000          0.380952           0.402174          0.586207\n",
      "\n",
      "[105 rows x 4 columns]\n"
     ]
    }
   ],
   "source": [
    "iris_minmax_train = (iris_masked_train - min_value)/(max_value - min_value)\n",
    "print(iris_minmax_train)"
   ]
  },
  {
   "cell_type": "markdown",
   "metadata": {
    "id": "1XO2FCAR3qi5"
   },
   "source": [
    "**<font color='blue'>3. Apply the min-max scaling method to the validation and testing sets.**\n",
    "\n",
    "*Tips: Similarly, you need to reuse the calculations made on the training set.*"
   ]
  },
  {
   "cell_type": "code",
   "execution_count": 173,
   "metadata": {
    "id": "QcRtwQuC35l1"
   },
   "outputs": [
    {
     "name": "stdout",
     "output_type": "stream",
     "text": [
      "    sepal length (cm)  sepal width (cm)  petal length (cm)  petal width (cm)\n",
      "0            0.776471          1.000000           0.619565          0.758621\n",
      "1            1.000000          0.380952           0.021739          0.000000\n",
      "2            0.505882          1.000000           0.336957          1.000000\n",
      "3            0.611765          0.476190           0.380435          0.396552\n",
      "4            1.000000          0.761905           0.043478          0.034483\n",
      "5            0.470588          0.428571           1.000000          1.000000\n",
      "6            0.305882          0.523810           0.364130          0.413793\n",
      "7            0.329412          1.000000           0.304348          0.379310\n",
      "8            0.541176          0.523810           0.489130          0.689655\n",
      "9            0.141176          0.380952           0.043478          0.034483\n",
      "10           0.635294          0.523810           0.510870          0.689655\n",
      "11           1.000000          0.857143           0.000000          0.034483\n",
      "12           0.329412          0.285714           0.423913          1.000000\n",
      "13           0.258824          0.190476           0.347826          0.379310\n",
      "14           0.094118          1.000000           0.902174          0.034483\n",
      "    sepal length (cm)  sepal width (cm)  petal length (cm)  petal width (cm)\n",
      "0            0.494118          0.380952           0.434783          1.000000\n",
      "1            0.305882          0.000000           0.358696          0.482759\n",
      "2            0.117647          0.095238           0.358696          0.482759\n",
      "3            0.188235          0.571429           0.358696          0.482759\n",
      "4            0.447059          0.142857           0.413043          1.000000\n",
      "5            0.470588          0.476190           1.000000          0.482759\n",
      "6            0.164706          0.619048           0.021739          0.068966\n",
      "7            0.047059          0.476190           0.021739          0.034483\n",
      "8            0.305882          0.285714           0.358696          0.482759\n",
      "9            0.470588          0.285714           0.478261          0.689655\n",
      "10          -0.023529          0.380952          -0.010870          0.482759\n",
      "11           0.705882          0.285714           0.532609          1.000000\n",
      "12           0.164706          0.380952           0.032609          0.068966\n",
      "13           0.305882          0.380952           0.282609          0.344828\n",
      "14           0.305882          0.285714           0.315217          0.413793\n",
      "15           0.141176          0.619048           0.043478          0.482759\n",
      "16           0.305882          0.571429           0.358696          0.034483\n",
      "17           1.000000          0.380952           0.532609          0.827586\n",
      "18           0.541176          0.428571           0.478261          0.793103\n",
      "19           0.000000          0.333333           0.021739          0.034483\n",
      "20           0.776471          0.380952           1.000000          0.758621\n",
      "21           0.376471          0.571429           0.358696          0.517241\n",
      "22           0.494118          0.380952           0.500000          0.724138\n",
      "23           0.235294          1.000000           0.010870          0.103448\n",
      "24           0.400000          0.285714           0.304348          0.413793\n",
      "25           0.776471          1.000000           1.000000          0.724138\n",
      "26           0.282353          0.333333           0.358696          0.413793\n",
      "27           1.000000          0.476190           0.521739          0.586207\n",
      "28           0.094118          0.380952           0.021739          0.068966\n",
      "29           0.258824          0.380952           0.271739          0.310345\n"
     ]
    }
   ],
   "source": [
    "iris_minmax_val = (iris_masked_val - min_value)/(max_value - min_value)\n",
    "iris_minmax_test = (iris_masked_test - min_value)/(max_value - min_value)\n",
    "print(iris_minmax_val)\n",
    "print(iris_minmax_test)"
   ]
  },
  {
   "cell_type": "markdown",
   "metadata": {
    "id": "a9IYhXry4DsL"
   },
   "source": [
    "\n",
    "The MinMaxScaler [class](https://scikit-learn.org/stable/modules/generated/sklearn.preprocessing.MinMaxScaler.html) is used to transform numerical data into a specific range, typically between 0 and 1, by scaling each feature to a specified minimum and maximum value.\n",
    "\n",
    "The MinMaxScaler class has two important methods, fit() and transform().\n",
    "\n",
    "* `fit()` is used to compute the minimum and maximum values for each feature in the input data. These values are used to perform the scaling operation.\n",
    "\n",
    "* `transform()` is used to perform the actual scaling operation on the input data using the computed minimum and maximum values.\n",
    "\n",
    "Here's an example usage of MinMaxScaler:\n",
    "\n",
    "```\n",
    "scl=MinMaxScaler()\n",
    "scl.fit(X_train)\n",
    "X_train_std = scl.transform(X_train)\n",
    "```\n",
    "\n",
    "**<font color='blue'>4. Do the same as the previous questions using the Sklearn `MinMaxScaler` class.**\n",
    "\n",
    "*Tips: Again, don't forget to compute on the training set and to only apply on the validation & resting sets*"
   ]
  },
  {
   "cell_type": "code",
   "execution_count": 183,
   "metadata": {
    "id": "44t2PDfe4Zxs"
   },
   "outputs": [
    {
     "name": "stdout",
     "output_type": "stream",
     "text": [
      "   sepal length (cm)  sepal width (cm)  petal length (cm)  petal width (cm)\n",
      "0           0.188235          0.619048           0.032609          0.034483\n",
      "1           0.776471          0.285714           0.597826          1.000000\n",
      "2           0.447059          0.523810           0.380435          0.517241\n",
      "3           0.141176          0.523810           0.021739          0.034483\n",
      "4           0.282353          0.285714           0.402174          0.655172\n",
      "5           0.376471          0.476190           0.445652          0.758621\n",
      "6           0.329412          1.000000           0.293478          0.379310\n",
      "7           0.376471          0.000000           0.413043          0.482759\n",
      "8           0.588235          0.476190           0.489130          0.758621\n",
      "9           0.423529          0.571429           0.456522          0.758621\n"
     ]
    }
   ],
   "source": [
    "scl_mms = MinMaxScaler()\n",
    "scl_mms.fit(iris_masked_train)\n",
    "X_train_mms = pd.DataFrame(scl_mms.transform(iris_masked_train), columns=['sepal length (cm)', 'sepal width (cm)', 'petal length (cm)', 'petal width (cm)'])\n",
    "print(X_train_mms[:10])"
   ]
  },
  {
   "cell_type": "markdown",
   "metadata": {
    "id": "QscQPIwZ6dtJ"
   },
   "source": [
    "**<font color='blue'>5. Display the histograms of the scaled features. What can you see ?**"
   ]
  },
  {
   "cell_type": "code",
   "execution_count": 184,
   "metadata": {
    "id": "3bBAP1nf8_Y5"
   },
   "outputs": [
    {
     "data": {
      "text/plain": [
       "array([[<AxesSubplot:title={'center':'sepal length (cm)'}>,\n",
       "        <AxesSubplot:title={'center':'sepal width (cm)'}>],\n",
       "       [<AxesSubplot:title={'center':'petal length (cm)'}>,\n",
       "        <AxesSubplot:title={'center':'petal width (cm)'}>]], dtype=object)"
      ]
     },
     "execution_count": 184,
     "metadata": {},
     "output_type": "execute_result"
    },
    {
     "data": {
      "image/png": "[encoded data removed]",
      "text/plain": [
       "<Figure size 1440x720 with 4 Axes>"
      ]
     },
     "metadata": {
      "needs_background": "light"
     },
     "output_type": "display_data"
    }
   ],
   "source": [
    "X_train_mms.hist(bins=10, figsize=(20,10))"
   ]
  },
  {
   "cell_type": "markdown",
   "metadata": {
    "id": "Ycc9fsNvxyVF"
   },
   "source": [
    "## Standardization"
   ]
  },
  {
   "cell_type": "markdown",
   "metadata": {
    "id": "XA_JLid86TJp"
   },
   "source": [
    "First, let's compute the z-score Scaling by hands.\n",
    "\n",
    "**<font color='blue'>1. Calculate the mean and the standard deviation of the features.**\n",
    "\n",
    "*Tips: You can use the pandas .min() and .max() methods directly on the dataframe.*"
   ]
  },
  {
   "cell_type": "code",
   "execution_count": 186,
   "metadata": {
    "id": "nSkLZ_x19CNr"
   },
   "outputs": [
    {
     "name": "stdout",
     "output_type": "stream",
     "text": [
      "sepal length (cm)    6.180952\n",
      "sepal width (cm)     3.170476\n",
      "petal length (cm)    4.504762\n",
      "petal width (cm)     1.420952\n",
      "dtype: float64\n",
      "sepal length (cm)    1.131591\n",
      "sepal width (cm)     0.548236\n",
      "petal length (cm)    2.443609\n",
      "petal width (cm)     0.805235\n",
      "dtype: float64\n"
     ]
    }
   ],
   "source": [
    "mean_value = iris_masked_train.mean()\n",
    "std_value = iris_masked_train.std()\n",
    "print(mean_value)\n",
    "print(std_value)"
   ]
  },
  {
   "cell_type": "markdown",
   "metadata": {
    "id": "8hZ28Z399IDF"
   },
   "source": [
    "The z-score scaling method is simply:\n",
    "\n",
    "$X = \\frac{X-X_{mean}}{X_{std}}$\n",
    "\n",
    "**<font color='blue'>2. Transform the features using the z-score scaling method.**\n",
    "\n",
    "*Tips: You can transform all the features simultaneously if you are using a Pandas dataframe or a Numpy array.*"
   ]
  },
  {
   "cell_type": "code",
   "execution_count": 187,
   "metadata": {
    "id": "qqVlAHnW9S4W"
   },
   "outputs": [
    {
     "name": "stdout",
     "output_type": "stream",
     "text": [
      "     sepal length (cm)  sepal width (cm)  petal length (cm)  petal width (cm)\n",
      "0            -0.866879          0.601062          -1.229641         -1.516269\n",
      "1             1.342399         -0.675761           0.898359          1.960978\n",
      "2             0.105204          0.236256           0.079897          0.222355\n",
      "3            -1.043621          0.236256          -1.270564         -1.516269\n",
      "4            -0.513394         -0.675761           0.161744          0.719104\n",
      "..                 ...               ...                ...               ...\n",
      "100           2.181925         -0.310954           0.038974         -0.026020\n",
      "101          -0.778507          2.060289          -1.229641          0.098167\n",
      "102          -0.159910         -1.222971          -0.247487         -0.398582\n",
      "103           0.193575          2.060289           0.325436          0.594917\n",
      "104          -0.071539         -0.310954           0.161744          0.470729\n",
      "\n",
      "[105 rows x 4 columns]\n"
     ]
    }
   ],
   "source": [
    "#Z-score of training dataset\n",
    "iris_z_score_train = (iris_masked_train - mean_value)/std_value\n",
    "print(iris_z_score_train)"
   ]
  },
  {
   "cell_type": "markdown",
   "metadata": {
    "id": "40hVMQJ39To0"
   },
   "source": [
    "**<font color='blue'>3. Apply the z-score scaling method to the validation and testing sets.**\n",
    "\n",
    "*Tips: Similarly, you need to reuse the calculations made on the training set.*"
   ]
  },
  {
   "cell_type": "code",
   "execution_count": 189,
   "metadata": {
    "id": "XeW1saD09d4r"
   },
   "outputs": [
    {
     "name": "stdout",
     "output_type": "stream",
     "text": [
      "   sepal length (cm)  sepal width (cm)  petal length (cm)  petal width (cm)\n",
      "0           1.342399          2.060289           0.980205          1.091666\n",
      "1           2.181925         -0.310954          -1.270564         -1.640456\n",
      "2           0.326132          2.060289          -0.083795          1.960978\n",
      "3           0.723802          0.053852           0.079897         -0.212301\n",
      "4           2.181925          1.148272          -1.188718         -1.516269\n",
      "   sepal length (cm)  sepal width (cm)  petal length (cm)  petal width (cm)\n",
      "0           0.281946         -0.310954           0.284513          1.960978\n",
      "1          -0.425023         -1.770181          -0.001949          0.098167\n",
      "2          -1.131992         -1.405374          -0.001949          0.098167\n",
      "3          -0.866879          0.418659          -0.001949          0.098167\n",
      "4           0.105204         -1.222971           0.202667          1.960978\n"
     ]
    }
   ],
   "source": [
    "#Z-score of validation dataset\n",
    "iris_z_score_val = (iris_masked_val - mean_value)/std_value\n",
    "print(iris_z_score_val.head())\n",
    "#Z-score of testing dataset\n",
    "iris_z_score_test = (iris_masked_test - mean_value)/std_value\n",
    "print(iris_z_score_test.head())"
   ]
  },
  {
   "cell_type": "markdown",
   "metadata": {
    "id": "tDkWhdYa9eQa"
   },
   "source": [
    "StandardScaler is a scikit-learn [class](https://scikit-learn.org/stable/modules/generated/sklearn.preprocessing.StandardScaler.html) that is used to standardize numerical data by removing the mean and scaling to unit variance.\n",
    "\n",
    "The StandardScaler class in scikit-learn has two main methods: `fit()` and `transform()`.\n",
    "\n",
    "* `fit()` is used to compute the mean and standard deviation of each feature in the input data. These values are used to perform the standardization operation.\n",
    "\n",
    "* `transform()` is used to perform the actual standardization operation on the input data using the computed mean and standard deviation values.\n",
    "\n",
    "Here's an example usage of StandardScaler:\n",
    "\n",
    "```\n",
    "scl=StandardScaler()\n",
    "scl.fit(X_train)\n",
    "X_train_std = scl.transform(X_train)\n",
    "```\n",
    "\n",
    "**<font color='blue'>4. Do the same as the previous questions using the Sklearn `StandardScaler` class.**\n",
    "\n",
    "*Tips: Again, don't forget to compute on the training set and to only apply on the validation & resting sets*"
   ]
  },
  {
   "cell_type": "code",
   "execution_count": 194,
   "metadata": {
    "id": "uFNs7cag-fb-"
   },
   "outputs": [
    {
     "name": "stdout",
     "output_type": "stream",
     "text": [
      "     sepal length (cm)  sepal width (cm)  petal length (cm)  petal width (cm)\n",
      "0            -0.871036          0.603945          -1.235538         -1.523541\n",
      "1             1.348838         -0.679002           0.902668          1.970383\n",
      "2             0.105708          0.237389           0.080281          0.223421\n",
      "3            -1.048626          0.237389          -1.276658         -1.523541\n",
      "4            -0.515856         -0.679002           0.162519          0.722553\n",
      "..                 ...               ...                ...               ...\n",
      "100           2.192390         -0.312446           0.039161         -0.026145\n",
      "101          -0.782241          2.070171          -1.235538          0.098638\n",
      "102          -0.160677         -1.228837          -0.248674         -0.400494\n",
      "103           0.194503          2.070171           0.326997          0.597770\n",
      "104          -0.071882         -0.312446           0.162519          0.472987\n",
      "\n",
      "[105 rows x 4 columns]\n"
     ]
    }
   ],
   "source": [
    "scl_std = StandardScaler()\n",
    "scl_std.fit(iris_masked_train)\n",
    "X_train_std = pd.DataFrame(scl_std.transform(iris_masked_train),columns=iris_masked_train.columns)\n",
    "print(X_train_std)"
   ]
  },
  {
   "cell_type": "markdown",
   "metadata": {
    "id": "9yJjn5Se-hEw"
   },
   "source": [
    "**<font color='blue'>5. Compare the results with the MinMaxScaler.**"
   ]
  },
  {
   "cell_type": "code",
   "execution_count": 195,
   "metadata": {
    "id": "PD4SH60R-s0U"
   },
   "outputs": [
    {
     "name": "stdout",
     "output_type": "stream",
     "text": [
      "     sepal length (cm)  sepal width (cm)  petal length (cm)  petal width (cm)\n",
      "0             0.188235          0.619048           0.032609          0.034483\n",
      "1             0.776471          0.285714           0.597826          1.000000\n",
      "2             0.447059          0.523810           0.380435          0.517241\n",
      "3             0.141176          0.523810           0.021739          0.034483\n",
      "4             0.282353          0.285714           0.402174          0.655172\n",
      "..                 ...               ...                ...               ...\n",
      "100           1.000000          0.380952           0.369565          0.448276\n",
      "101           0.211765          1.000000           0.032609          0.482759\n",
      "102           0.376471          0.142857           0.293478          0.344828\n",
      "103           0.470588          1.000000           0.445652          0.620690\n",
      "104           0.400000          0.380952           0.402174          0.586207\n",
      "\n",
      "[105 rows x 4 columns]\n",
      "     sepal length (cm)  sepal width (cm)  petal length (cm)  petal width (cm)\n",
      "0            -0.871036          0.603945          -1.235538         -1.523541\n",
      "1             1.348838         -0.679002           0.902668          1.970383\n",
      "2             0.105708          0.237389           0.080281          0.223421\n",
      "3            -1.048626          0.237389          -1.276658         -1.523541\n",
      "4            -0.515856         -0.679002           0.162519          0.722553\n",
      "..                 ...               ...                ...               ...\n",
      "100           2.192390         -0.312446           0.039161         -0.026145\n",
      "101          -0.782241          2.070171          -1.235538          0.098638\n",
      "102          -0.160677         -1.228837          -0.248674         -0.400494\n",
      "103           0.194503          2.070171           0.326997          0.597770\n",
      "104          -0.071882         -0.312446           0.162519          0.472987\n",
      "\n",
      "[105 rows x 4 columns]\n"
     ]
    }
   ],
   "source": [
    "print(X_train_mms)\n",
    "print(X_train_std)"
   ]
  },
  {
   "cell_type": "code",
   "execution_count": null,
   "metadata": {},
   "outputs": [],
   "source": []
  }
 ],
 "metadata": {
  "colab": {
   "collapsed_sections": [
    "xFVgAqSMH9Ki",
    "s-q4cXmfqegB",
    "Z8LZkvoGwMIe",
    "iHsYH_u23X5C",
    "rvuYgZJzvdcI",
    "lEXDkwy4xkCS",
    "0MM5KUWqxugb",
    "Ycc9fsNvxyVF"
   ],
   "provenance": []
  },
  "kernelspec": {
   "display_name": "Python 3 (ipykernel)",
   "language": "python",
   "name": "python3"
  },
  "language_info": {
   "codemirror_mode": {
    "name": "ipython",
    "version": 3
   },
   "file_extension": ".py",
   "mimetype": "text/x-python",
   "name": "python",
   "nbconvert_exporter": "python",
   "pygments_lexer": "ipython3",
   "version": "3.8.13"
  }
 },
 "nbformat": 4,
 "nbformat_minor": 1
}
