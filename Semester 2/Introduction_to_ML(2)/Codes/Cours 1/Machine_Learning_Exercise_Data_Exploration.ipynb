{
 "cells": [
  {
   "cell_type": "code",
   "execution_count": 2,
   "metadata": {
    "id": "S3ud0IgvVEME"
   },
   "outputs": [
    {
     "name": "stderr",
     "output_type": "stream",
     "text": [
      "/Users/skyemalfoy/opt/anaconda3/lib/python3.8/site-packages/scipy/__init__.py:146: UserWarning: A NumPy version >=1.16.5 and <1.23.0 is required for this version of SciPy (detected version 1.23.3\n",
      "  warnings.warn(f\"A NumPy version >={np_minversion} and <{np_maxversion}\"\n"
     ]
    }
   ],
   "source": [
    "import matplotlib.pyplot as plt\n",
    "import seaborn as sns\n",
    "import pandas as pd\n",
    "import numpy as np"
   ]
  },
  {
   "cell_type": "markdown",
   "metadata": {
    "id": "xFVgAqSMH9Ki"
   },
   "source": [
    "# Load dataset & first analysis"
   ]
  },
  {
   "cell_type": "markdown",
   "metadata": {
    "id": "5XptBBKA6s--"
   },
   "source": [
    "This dataset has been saved in a CSV file.<br>\n",
    "The Pandas libraries allows to extract the CSV files into tables (Dataframe) by using the `read_csv()` function.<br>\n",
    "\n",
    "To quickly show the content of a dataset, you can use the `.head()` method on your dataframe. This function shows the first lines of the table. You can also use the `.tail()` function that shows the last lines of the table.\n",
    "These two functions only have a paramater named **n** that controls the number of lines displayed.\n",
    "\n",
    "The `read_csv` function  has many parameters, but some of the most important ones are:\n",
    "\n",
    "* **filepath_or_buffer**: This parameter specifies the path or URL of the CSV file to read. It can also accept a file-like object or a string containing the CSV data.\n",
    "\n",
    "* **sep**: This parameter specifies the delimiter character used in the CSV file to separate fields. The default value is a comma (,), but it can be changed to any other character, such as a tab (\\t) or a semicolon (;).\n",
    "\n",
    "* **header**: This parameter specifies which row in the CSV file contains the column headers. The default value is 0, which means the first row is treated as headers. If there are no headers, you can set this parameter to None.\n",
    "\n",
    "* **index_col**: This parameter specifies which column in the CSV file should be used as the index of the resulting DataFrame. The default value is None, which means a default index will be created.\n",
    "\n",
    "* **usecols**: This parameter specifies which columns from the CSV file should be read into the DataFrame. It can accept either a list of column names or a list of column indices.\n",
    "\n",
    "* **dtype**: This parameter specifies the data types of the columns in the resulting DataFrame. It can accept a dictionary mapping column names to data types, or a single data type to be used for all columns.\n",
    "\n",
    "* **na_values**: This parameter specifies the values that should be treated as missing values in the CSV file. It can accept a list of strings or a dictionary mapping column names to lists of strings.\n",
    "\n",
    "`read_csv()` [*Documentation*](https://pandas.pydata.org/docs/reference/api/pandas.read_csv.html)\n",
    "\n",
    "**1. Load the dataset and show its content.**"
   ]
  },
  {
   "cell_type": "code",
   "execution_count": 3,
   "metadata": {
    "id": "zZJOC2F53759"
   },
   "outputs": [],
   "source": [
    "df = pd.read_csv('marketing_campaign - marketing_campaign.csv')"
   ]
  },
  {
   "cell_type": "code",
   "execution_count": 4,
   "metadata": {},
   "outputs": [
    {
     "data": {
      "text/html": [
       "<div>\n",
       "<style scoped>\n",
       "    .dataframe tbody tr th:only-of-type {\n",
       "        vertical-align: middle;\n",
       "    }\n",
       "\n",
       "    .dataframe tbody tr th {\n",
       "        vertical-align: top;\n",
       "    }\n",
       "\n",
       "    .dataframe thead th {\n",
       "        text-align: right;\n",
       "    }\n",
       "</style>\n",
       "<table border=\"1\" class=\"dataframe\">\n",
       "  <thead>\n",
       "    <tr style=\"text-align: right;\">\n",
       "      <th></th>\n",
       "      <th>ID</th>\n",
       "      <th>Year_Birth</th>\n",
       "      <th>Education</th>\n",
       "      <th>Marital_Status</th>\n",
       "      <th>Income</th>\n",
       "      <th>Kidhome</th>\n",
       "      <th>Teenhome</th>\n",
       "      <th>Dt_Customer</th>\n",
       "      <th>Recency</th>\n",
       "      <th>MntWines</th>\n",
       "      <th>...</th>\n",
       "      <th>NumWebVisitsMonth</th>\n",
       "      <th>AcceptedCmp3</th>\n",
       "      <th>AcceptedCmp4</th>\n",
       "      <th>AcceptedCmp5</th>\n",
       "      <th>AcceptedCmp1</th>\n",
       "      <th>AcceptedCmp2</th>\n",
       "      <th>Complain</th>\n",
       "      <th>Z_CostContact</th>\n",
       "      <th>Z_Revenue</th>\n",
       "      <th>Response</th>\n",
       "    </tr>\n",
       "  </thead>\n",
       "  <tbody>\n",
       "    <tr>\n",
       "      <th>0</th>\n",
       "      <td>5524</td>\n",
       "      <td>1957</td>\n",
       "      <td>Graduation</td>\n",
       "      <td>Single</td>\n",
       "      <td>58138.0</td>\n",
       "      <td>0</td>\n",
       "      <td>0</td>\n",
       "      <td>04-09-2012</td>\n",
       "      <td>58</td>\n",
       "      <td>635</td>\n",
       "      <td>...</td>\n",
       "      <td>7</td>\n",
       "      <td>0</td>\n",
       "      <td>0</td>\n",
       "      <td>0</td>\n",
       "      <td>0</td>\n",
       "      <td>0</td>\n",
       "      <td>0</td>\n",
       "      <td>3</td>\n",
       "      <td>11</td>\n",
       "      <td>1</td>\n",
       "    </tr>\n",
       "    <tr>\n",
       "      <th>1</th>\n",
       "      <td>2174</td>\n",
       "      <td>1954</td>\n",
       "      <td>Graduation</td>\n",
       "      <td>Single</td>\n",
       "      <td>46344.0</td>\n",
       "      <td>1</td>\n",
       "      <td>1</td>\n",
       "      <td>08-03-2014</td>\n",
       "      <td>38</td>\n",
       "      <td>11</td>\n",
       "      <td>...</td>\n",
       "      <td>5</td>\n",
       "      <td>0</td>\n",
       "      <td>0</td>\n",
       "      <td>0</td>\n",
       "      <td>0</td>\n",
       "      <td>0</td>\n",
       "      <td>0</td>\n",
       "      <td>3</td>\n",
       "      <td>11</td>\n",
       "      <td>0</td>\n",
       "    </tr>\n",
       "    <tr>\n",
       "      <th>2</th>\n",
       "      <td>4141</td>\n",
       "      <td>1965</td>\n",
       "      <td>Graduation</td>\n",
       "      <td>Together</td>\n",
       "      <td>71613.0</td>\n",
       "      <td>0</td>\n",
       "      <td>0</td>\n",
       "      <td>21-08-2013</td>\n",
       "      <td>26</td>\n",
       "      <td>426</td>\n",
       "      <td>...</td>\n",
       "      <td>4</td>\n",
       "      <td>0</td>\n",
       "      <td>0</td>\n",
       "      <td>0</td>\n",
       "      <td>0</td>\n",
       "      <td>0</td>\n",
       "      <td>0</td>\n",
       "      <td>3</td>\n",
       "      <td>11</td>\n",
       "      <td>0</td>\n",
       "    </tr>\n",
       "    <tr>\n",
       "      <th>3</th>\n",
       "      <td>6182</td>\n",
       "      <td>1984</td>\n",
       "      <td>Graduation</td>\n",
       "      <td>Together</td>\n",
       "      <td>26646.0</td>\n",
       "      <td>1</td>\n",
       "      <td>0</td>\n",
       "      <td>10-02-2014</td>\n",
       "      <td>26</td>\n",
       "      <td>11</td>\n",
       "      <td>...</td>\n",
       "      <td>6</td>\n",
       "      <td>0</td>\n",
       "      <td>0</td>\n",
       "      <td>0</td>\n",
       "      <td>0</td>\n",
       "      <td>0</td>\n",
       "      <td>0</td>\n",
       "      <td>3</td>\n",
       "      <td>11</td>\n",
       "      <td>0</td>\n",
       "    </tr>\n",
       "    <tr>\n",
       "      <th>4</th>\n",
       "      <td>5324</td>\n",
       "      <td>1981</td>\n",
       "      <td>PhD</td>\n",
       "      <td>Married</td>\n",
       "      <td>58293.0</td>\n",
       "      <td>1</td>\n",
       "      <td>0</td>\n",
       "      <td>19-01-2014</td>\n",
       "      <td>94</td>\n",
       "      <td>173</td>\n",
       "      <td>...</td>\n",
       "      <td>5</td>\n",
       "      <td>0</td>\n",
       "      <td>0</td>\n",
       "      <td>0</td>\n",
       "      <td>0</td>\n",
       "      <td>0</td>\n",
       "      <td>0</td>\n",
       "      <td>3</td>\n",
       "      <td>11</td>\n",
       "      <td>0</td>\n",
       "    </tr>\n",
       "  </tbody>\n",
       "</table>\n",
       "<p>5 rows × 29 columns</p>\n",
       "</div>"
      ],
      "text/plain": [
       "     ID  Year_Birth   Education Marital_Status   Income  Kidhome  Teenhome  \\\n",
       "0  5524        1957  Graduation         Single  58138.0        0         0   \n",
       "1  2174        1954  Graduation         Single  46344.0        1         1   \n",
       "2  4141        1965  Graduation       Together  71613.0        0         0   \n",
       "3  6182        1984  Graduation       Together  26646.0        1         0   \n",
       "4  5324        1981         PhD        Married  58293.0        1         0   \n",
       "\n",
       "  Dt_Customer  Recency  MntWines  ...  NumWebVisitsMonth  AcceptedCmp3  \\\n",
       "0  04-09-2012       58       635  ...                  7             0   \n",
       "1  08-03-2014       38        11  ...                  5             0   \n",
       "2  21-08-2013       26       426  ...                  4             0   \n",
       "3  10-02-2014       26        11  ...                  6             0   \n",
       "4  19-01-2014       94       173  ...                  5             0   \n",
       "\n",
       "   AcceptedCmp4  AcceptedCmp5  AcceptedCmp1  AcceptedCmp2  Complain  \\\n",
       "0             0             0             0             0         0   \n",
       "1             0             0             0             0         0   \n",
       "2             0             0             0             0         0   \n",
       "3             0             0             0             0         0   \n",
       "4             0             0             0             0         0   \n",
       "\n",
       "   Z_CostContact  Z_Revenue  Response  \n",
       "0              3         11         1  \n",
       "1              3         11         0  \n",
       "2              3         11         0  \n",
       "3              3         11         0  \n",
       "4              3         11         0  \n",
       "\n",
       "[5 rows x 29 columns]"
      ]
     },
     "execution_count": 4,
     "metadata": {},
     "output_type": "execute_result"
    }
   ],
   "source": [
    "df.head()"
   ]
  },
  {
   "cell_type": "markdown",
   "metadata": {
    "id": "pvCikc2EBH8s"
   },
   "source": [
    "The `.info()` method can be used on a dataframe to get a resume of its variables, length and missing values. This method has some parameters such as the **show_counts** parameter that can be either True or False, if True the method returns the number of non-missing values in the dataset.\n",
    "\n",
    "**2. Show a resume of the dataset variables, length and missing values.<br> Do you understand each variable name ?<br> Is there any missing variable ?**"
   ]
  },
  {
   "cell_type": "code",
   "execution_count": 5,
   "metadata": {
    "id": "GxSaaJBR38hT"
   },
   "outputs": [
    {
     "name": "stdout",
     "output_type": "stream",
     "text": [
      "<class 'pandas.core.frame.DataFrame'>\n",
      "RangeIndex: 2240 entries, 0 to 2239\n",
      "Data columns (total 29 columns):\n",
      " #   Column               Non-Null Count  Dtype  \n",
      "---  ------               --------------  -----  \n",
      " 0   ID                   2240 non-null   int64  \n",
      " 1   Year_Birth           2240 non-null   int64  \n",
      " 2   Education            2240 non-null   object \n",
      " 3   Marital_Status       2240 non-null   object \n",
      " 4   Income               2216 non-null   float64\n",
      " 5   Kidhome              2240 non-null   int64  \n",
      " 6   Teenhome             2240 non-null   int64  \n",
      " 7   Dt_Customer          2240 non-null   object \n",
      " 8   Recency              2240 non-null   int64  \n",
      " 9   MntWines             2240 non-null   int64  \n",
      " 10  MntFruits            2240 non-null   int64  \n",
      " 11  MntMeatProducts      2240 non-null   int64  \n",
      " 12  MntFishProducts      2240 non-null   int64  \n",
      " 13  MntSweetProducts     2240 non-null   int64  \n",
      " 14  MntGoldProds         2240 non-null   int64  \n",
      " 15  NumDealsPurchases    2240 non-null   int64  \n",
      " 16  NumWebPurchases      2240 non-null   int64  \n",
      " 17  NumCatalogPurchases  2240 non-null   int64  \n",
      " 18  NumStorePurchases    2240 non-null   int64  \n",
      " 19  NumWebVisitsMonth    2240 non-null   int64  \n",
      " 20  AcceptedCmp3         2240 non-null   int64  \n",
      " 21  AcceptedCmp4         2240 non-null   int64  \n",
      " 22  AcceptedCmp5         2240 non-null   int64  \n",
      " 23  AcceptedCmp1         2240 non-null   int64  \n",
      " 24  AcceptedCmp2         2240 non-null   int64  \n",
      " 25  Complain             2240 non-null   int64  \n",
      " 26  Z_CostContact        2240 non-null   int64  \n",
      " 27  Z_Revenue            2240 non-null   int64  \n",
      " 28  Response             2240 non-null   int64  \n",
      "dtypes: float64(1), int64(25), object(3)\n",
      "memory usage: 507.6+ KB\n"
     ]
    }
   ],
   "source": [
    "#Column 5(kidhome) has 24 rows of missing data\n",
    "df.info()"
   ]
  },
  {
   "cell_type": "markdown",
   "metadata": {
    "id": "8WYFtbb8CIED"
   },
   "source": [
    "To open a text file, you can use the `open()` function from Python.<br>\n",
    "Here is a [tutorial](https://www.geeksforgeeks.org/python-open-function/) to use the open function.\n",
    "\n",
    "**3. Open the metadata text file to see the description of the columns. Could you group these variables into categories ?**"
   ]
  },
  {
   "cell_type": "code",
   "execution_count": 13,
   "metadata": {
    "id": "k5O-aaFG39qp"
   },
   "outputs": [],
   "source": [
    "description_metadata = open('marketing_campaign_metadata.txt', 'r')"
   ]
  },
  {
   "cell_type": "code",
   "execution_count": 14,
   "metadata": {},
   "outputs": [
    {
     "name": "stdout",
     "output_type": "stream",
     "text": [
      "﻿ID: Customer's unique identifier\n",
      "Year_Birth: Customer's birth year\n",
      "Education: Customer's education level\n",
      "Marital_Status: Customer's marital status\n",
      "Income: Customer's yearly household income\n",
      "Kidhome: Number of children in customer's household\n",
      "Teenhome: Number of teenagers in customer's household\n",
      "Dt_Customer: Date of customer's enrollment with the company\n",
      "Recency: Number of days since customer's last purchase\n",
      "Complain: 1 if the customer complained in the last 2 years, 0 otherwise\n",
      "MntWines: Amount spent on wine in last 2 years\n",
      "MntFruits: Amount spent on fruits in last 2 years\n",
      "MntMeatProducts: Amount spent on meat in last 2 years\n",
      "MntFishProducts: Amount spent on fish in last 2 years\n",
      "MntSweetProducts: Amount spent on sweets in last 2 years\n",
      "MntGoldProds: Amount spent on gold in last 2 years\n",
      "NumDealsPurchases: Number of purchases made with a discount\n",
      "AcceptedCmp1: 1 if customer accepted the offer in the 1st campaign, 0 otherwise\n",
      "AcceptedCmp2: 1 if customer accepted the offer in the 2nd campaign, 0 otherwise\n",
      "AcceptedCmp3: 1 if customer accepted the offer in the 3rd campaign, 0 otherwise\n",
      "AcceptedCmp4: 1 if customer accepted the offer in the 4th campaign, 0 otherwise\n",
      "AcceptedCmp5: 1 if customer accepted the offer in the 5th campaign, 0 otherwise\n",
      "Response: 1 if customer accepted the offer in the last campaign, 0 otherwise\n",
      "NumWebPurchases: Number of purchases made through the company’s website\n",
      "NumCatalogPurchases: Number of purchases made using a catalogue\n",
      "NumStorePurchases: Number of purchases made directly in stores\n",
      "NumWebVisitsMonth: Number of visits to company’s website in the last month"
     ]
    }
   ],
   "source": [
    "# description_metadata.readlines()\n",
    "for lines in description_metadata:\n",
    "    print(lines, end = '')"
   ]
  },
  {
   "cell_type": "markdown",
   "metadata": {
    "id": "YUb9jcZMD9Kd"
   },
   "source": [
    "The ID column is the Customer's unique identifier. <br>Thus, we can check if there is any duplicate in our data. You can use the `.duplicated()` method on the dataframe.\n",
    "\n",
    "The `.duplicated()` method has several parameters:\n",
    "\n",
    "*   **subset**: This parameter specifies the column or columns to use for identifying duplicates. By default, all columns are used, but you can specify a subset of columns using a list of column names or column index positions.\n",
    "\n",
    "*   **keep**: This parameter specifies which duplicates, if any, to mark as True. By default, the first occurrence of a row is marked as False, and subsequent occurrences are marked as True. Setting keep to 'first' or False produces the same result. Setting keep to 'last' marks the last occurrence of a row as False and all previous occurrences as True.\n",
    "\n",
    "`.duplicated()` [Documentation](https://pandas.pydata.org/docs/reference/api/pandas.DataFrame.duplicated.html)\n",
    "\n",
    "**4. Is there any duplicates on the ID column ?**"
   ]
  },
  {
   "cell_type": "code",
   "execution_count": 22,
   "metadata": {
    "id": "NibEg-1J3-Wq"
   },
   "outputs": [],
   "source": [
    "res_duplicate = df.duplicated('ID', keep = False).values\n",
    "for result in res_duplicate:\n",
    "    if result == True:\n",
    "        print('It has duplicated values')\n",
    "        break\n",
    "#So there are no duplicated values."
   ]
  },
  {
   "cell_type": "markdown",
   "metadata": {
    "id": "VBNWIUapICaK"
   },
   "source": [
    "# Feature analysis"
   ]
  },
  {
   "cell_type": "markdown",
   "metadata": {
    "id": "MylOVI1zIMep"
   },
   "source": [
    "The Year_Birth feature is the customer's birth year.<br>\n",
    "Let's analyse it.\n",
    "\n",
    "First, you can analyse the summary statistics of this feature.<br> To do so, you can use the `.describe()` that will automatically compute the mean, the standard deviation, the min value, the quartiles and the max value.\n",
    "\n",
    "`.describe()` [*Documentation*](https://pandas.pydata.org/docs/reference/api/pandas.DataFrame.describe.html)\n",
    "\n",
    "**1. Compute the summary statistics on the Year_Birth feature using the `describe()` method.<br>What can you say about these figures ?**"
   ]
  },
  {
   "cell_type": "code",
   "execution_count": 26,
   "metadata": {
    "id": "w6SNU7yY3-8c"
   },
   "outputs": [
    {
     "data": {
      "text/plain": [
       "count    2240.000000\n",
       "mean     1968.805804\n",
       "std        11.984069\n",
       "min      1893.000000\n",
       "25%      1959.000000\n",
       "50%      1970.000000\n",
       "75%      1977.000000\n",
       "max      1996.000000\n",
       "Name: Year_Birth, dtype: float64"
      ]
     },
     "execution_count": 26,
     "metadata": {},
     "output_type": "execute_result"
    }
   ],
   "source": [
    "#People born in similar year.\n",
    "des_of_yb = df['Year_Birth'].describe()\n",
    "des_of_yb"
   ]
  },
  {
   "cell_type": "markdown",
   "metadata": {
    "id": "Xrvw6C0DJbwW"
   },
   "source": [
    "It is generally better to visualize the data as it provides a more intuitive and insightful understanding of the underlying patterns, trends, and relationships in the data. \n",
    "\n",
    "For numerical values, a typical graph is the histogram. There are many ways to create graphs in Python including:\n",
    "\n",
    "\n",
    "*   Matploblib\n",
    "*   Seaborn\n",
    "*   Pandas\n",
    "\n",
    "The Pandas implementation is the easiest: You can use the `.hist()` method on the dataframe. It has several parameters that can be used to customize the histogram. Here are some of the most important parameters:\n",
    "\n",
    "\n",
    "*   **column**: This parameter specifies the name of the column in the DataFrame that the histogram is based on.\n",
    "\n",
    "*    **by**: This parameter is used to create a separate histogram for each group in the DataFrame. The by parameter takes the name of the column to group by.\n",
    "\n",
    "*    **bins**: This parameter specifies the number of bins in the histogram. By default, it is set to 10.\n",
    "\n",
    "*    **density**: This parameter normalizes the histogram by converting the counts to frequencies. By default, it is set to False.\n",
    "\n",
    "*    **cumulative**: This parameter creates a cumulative histogram. By default, it is set to False.\n",
    "\n",
    "*    **log**: This parameter sets the scale of the y-axis to logarithmic. By default, it is set to False.\n",
    "\n",
    "`.hist()` [*Documentation*](https://pandas.pydata.org/docs/reference/api/pandas.DataFrame.hist.html)\n",
    "\n",
    "**2. Create an histogram of the Year_Birth feature values.<br>What can you tell about this feature ?**"
   ]
  },
  {
   "cell_type": "code",
   "execution_count": 29,
   "metadata": {
    "id": "y_5knLpL3_hv"
   },
   "outputs": [
    {
     "data": {
      "text/plain": [
       "(array([  3.,   0.,   0.,   0.,  16., 300., 541., 685., 506., 189.]),\n",
       " array([1893. , 1903.3, 1913.6, 1923.9, 1934.2, 1944.5, 1954.8, 1965.1,\n",
       "        1975.4, 1985.7, 1996. ]),\n",
       " <BarContainer object of 10 artists>)"
      ]
     },
     "execution_count": 29,
     "metadata": {},
     "output_type": "execute_result"
    },
    {
     "data": {
      "image/png": "[encoded data removed]",
      "text/plain": [
       "<Figure size 432x288 with 1 Axes>"
      ]
     },
     "metadata": {
      "needs_background": "light"
     },
     "output_type": "display_data"
    }
   ],
   "source": [
    "#There are more people who was born around 1970 and nearly nobody born before 1940.\n",
    "plt.hist(df['Year_Birth'], bins = 10)"
   ]
  },
  {
   "cell_type": "markdown",
   "metadata": {
    "id": "kKYT7ZSttEPw"
   },
   "source": [
    "**3. Display an histogram of the Income feature.**"
   ]
  },
  {
   "cell_type": "code",
   "execution_count": 30,
   "metadata": {
    "id": "eoKrE7Db4AFp"
   },
   "outputs": [
    {
     "data": {
      "text/plain": [
       "(1065.063, 96720.857]       2199\n",
       "(96720.857, 191711.714]       16\n",
       "(571675.143, 666666.0]         1\n",
       "(191711.714, 286702.571]       0\n",
       "(286702.571, 381693.429]       0\n",
       "(381693.429, 476684.286]       0\n",
       "(476684.286, 571675.143]       0\n",
       "Name: Income, dtype: int64"
      ]
     },
     "execution_count": 30,
     "metadata": {},
     "output_type": "execute_result"
    },
    {
     "data": {
      "image/png": "[encoded data removed]",
      "text/plain": [
       "<Figure size 432x288 with 1 Axes>"
      ]
     },
     "metadata": {
      "needs_background": "light"
     },
     "output_type": "display_data"
    }
   ],
   "source": [
    "#We can easily say that nearly all people have the salary between 0-100,000\n",
    "plt.hist(df['Income'], bins = 5)\n",
    "df['Income'].value_counts(bins = 7)"
   ]
  },
  {
   "cell_type": "markdown",
   "metadata": {
    "id": "XhO5bPPBtQf1"
   },
   "source": [
    "Histograms are not the only type of graph that can be used with numerical data. You can also create Boxplot by using the `.boxplot()` method from the Pandas library.\n",
    "\n",
    "`.boxplot()` [Documentation](https://pandas.pydata.org/docs/reference/api/pandas.DataFrame.boxplot.html)\n",
    "\n",
    "**4. Create a boxplot of the Income feature. Is this graph telling you the story as the histogram ?**"
   ]
  },
  {
   "cell_type": "code",
   "execution_count": 34,
   "metadata": {
    "id": "u-__22OC4Agq"
   },
   "outputs": [
    {
     "data": {
      "text/plain": [
       "<AxesSubplot:>"
      ]
     },
     "execution_count": 34,
     "metadata": {},
     "output_type": "execute_result"
    },
    {
     "data": {
      "image/png": "[encoded data removed]",
      "text/plain": [
       "<Figure size 432x288 with 1 Axes>"
      ]
     },
     "metadata": {
      "needs_background": "light"
     },
     "output_type": "display_data"
    }
   ],
   "source": [
    "df.boxplot(column = 'Income', fontsize = 12)"
   ]
  },
  {
   "cell_type": "markdown",
   "metadata": {
    "id": "FJyFaypbaX0m"
   },
   "source": [
    "Next, let's analyse a categorical data : the Education feature.\n",
    "\n",
    "The Education feature categories can be counted using the `.value_counts()` method of the dataframe. It has three main parameters:\n",
    "\n",
    "\n",
    "*   **normalize**: This parameter returns the counts as frequencies (percentages).\n",
    "*   **sort**: This parameter sort the categories by their respective frequency.\n",
    "*   **ascending**: The order of the sorting (growing, decreasing order)\n",
    "\n",
    ".value_counts() [*Documentation*](https://pandas.pydata.org/docs/reference/api/pandas.Series.value_counts.html)\n",
    "\n",
    "**5. Find the frequencies of each category of the Education feature.**"
   ]
  },
  {
   "cell_type": "code",
   "execution_count": 31,
   "metadata": {
    "id": "hi1Rmniw4BAZ",
    "scrolled": true
   },
   "outputs": [
    {
     "data": {
      "text/plain": [
       "Education\n",
       "Graduation    1127\n",
       "PhD            486\n",
       "Master         370\n",
       "2n Cycle       203\n",
       "Basic           54\n",
       "dtype: int64"
      ]
     },
     "execution_count": 31,
     "metadata": {},
     "output_type": "execute_result"
    }
   ],
   "source": [
    "counts_edu = df.value_counts(df['Education'])\n",
    "counts_edu"
   ]
  },
  {
   "cell_type": "markdown",
   "metadata": {
    "id": "gBuDdNvocjZJ"
   },
   "source": [
    "Bar plots can be used to visualize the frequencies.<br> To do so, you can use the `.plot.bar()` method on the result of the `value_counts()` method.\n",
    "\n",
    "`.plot.bar()` [Documentation](https://pandas.pydata.org/docs/reference/api/pandas.DataFrame.plot.bar.html)\n",
    "\n",
    "**6. Display a bar plot of the Education feature.<br>What can you tell about this feature ?**"
   ]
  },
  {
   "cell_type": "code",
   "execution_count": 78,
   "metadata": {
    "id": "BKY1-G784Bly",
    "scrolled": true
   },
   "outputs": [
    {
     "data": {
      "text/plain": [
       "<AxesSubplot:xlabel='Education'>"
      ]
     },
     "execution_count": 78,
     "metadata": {},
     "output_type": "execute_result"
    },
    {
     "data": {
      "image/png": "[encoded data removed]",
      "text/plain": [
       "<Figure size 432x288 with 1 Axes>"
      ]
     },
     "metadata": {
      "needs_background": "light"
     },
     "output_type": "display_data"
    }
   ],
   "source": [
    "counts_edu.plot.bar()"
   ]
  },
  {
   "cell_type": "markdown",
   "metadata": {
    "id": "4jfOqvS_sqe5"
   },
   "source": [
    "**7. Do the exact same thing for the Marital_Status.**"
   ]
  },
  {
   "cell_type": "code",
   "execution_count": 73,
   "metadata": {
    "id": "APfm1Dvs00qb"
   },
   "outputs": [
    {
     "data": {
      "text/plain": [
       "<AxesSubplot:xlabel='Marital_Status'>"
      ]
     },
     "execution_count": 73,
     "metadata": {},
     "output_type": "execute_result"
    },
    {
     "data": {
      "image/png": "[encoded data removed]",
      "text/plain": [
       "<Figure size 432x288 with 1 Axes>"
      ]
     },
     "metadata": {
      "needs_background": "light"
     },
     "output_type": "display_data"
    }
   ],
   "source": [
    "df.value_counts('Marital_Status').plot.bar()"
   ]
  },
  {
   "cell_type": "code",
   "execution_count": null,
   "metadata": {},
   "outputs": [],
   "source": []
  }
 ],
 "metadata": {
  "colab": {
   "provenance": []
  },
  "kernelspec": {
   "display_name": "Python 3 (ipykernel)",
   "language": "python",
   "name": "python3"
  },
  "language_info": {
   "codemirror_mode": {
    "name": "ipython",
    "version": 3
   },
   "file_extension": ".py",
   "mimetype": "text/x-python",
   "name": "python",
   "nbconvert_exporter": "python",
   "pygments_lexer": "ipython3",
   "version": "3.8.13"
  }
 },
 "nbformat": 4,
 "nbformat_minor": 1
}
