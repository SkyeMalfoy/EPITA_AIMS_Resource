{
 "cells": [
  {
   "cell_type": "markdown",
   "metadata": {
    "id": "WcAsGCAIqpU1"
   },
   "source": [
    "This Notebook has been created by PALISSON Antoine"
   ]
  },
  {
   "cell_type": "code",
   "execution_count": 1,
   "metadata": {
    "id": "_4KV6P8V1qP6"
   },
   "outputs": [],
   "source": [
    "import os\n",
    "import random\n",
    "import numpy as np\n",
    "import pandas as pd\n",
    "import matplotlib.pyplot as plt\n",
    "import tensorflow as tf\n",
    "\n",
    "from sklearn.model_selection import train_test_split"
   ]
  },
  {
   "cell_type": "markdown",
   "metadata": {
    "id": "XiMEW_7-VjYr"
   },
   "source": [
    "### Datasets"
   ]
  },
  {
   "cell_type": "code",
   "execution_count": 2,
   "metadata": {
    "id": "mymiYqraVkZf"
   },
   "outputs": [],
   "source": [
    "from sklearn.datasets import fetch_openml\n",
    "\n",
    "# Fasion dataset\n",
    "fashion_mnist = fetch_openml(\"Fashion-MNIST\", version=1)\n",
    "fashion_mnist = pd.concat([fashion_mnist['data'], fashion_mnist['target']], axis=1)\n",
    "fashion_mnist['class'] = fashion_mnist['class'].map({\"0\" : \"T-shirt/top\",\n",
    "                                                     \"1\" : \"Trouser\",\n",
    "                                                     \"2\" : \"Pullover\",\n",
    "                                                     \"3\" : \"Dress\",\n",
    "                                                     \"4\" : \"Coat\",\n",
    "                                                     \"5\" : \"Sandal\",\n",
    "                                                     \"6\" : \"Shirt\",\n",
    "                                                     \"7\" : \"Sneaker\",\n",
    "                                                     \"8\" : \"Bag\",\n",
    "                                                     \"9\" : \"Ankle boot\"})"
   ]
  },
  {
   "cell_type": "markdown",
   "metadata": {
    "id": "ROV6KN1YXpCU"
   },
   "source": [
    "# Fashion classification"
   ]
  },
  {
   "cell_type": "markdown",
   "metadata": {
    "id": "qLzEfVtaxTR1"
   },
   "source": [
    "**Fashion MNIST** is a popular benchmark dataset for image classification in the field of machine learning. It consists of a set of 70,000 grayscale images of size 28x28 pixels, representing 10 different categories of clothing and accessories, such as t-shirts, trousers, dresses, and shoes.\n",
    "\n",
    "Fashion MNIST is widely used in research and education as a replacement for the traditional MNIST dataset of handwritten digits, which has become too easy for modern machine learning algorithms to classify accurately. Fashion MNIST presents a more challenging task for image classification, while still being relatively small and easy to work with.\n",
    "\n",
    "Fashion MNIST was created by a team of researchers from Zalando, and it has been used as a benchmark dataset for evaluating the performance of various machine learning models, including deep neural networks. The dataset can be downloaded from the official Fashion MNIST website, along with code examples for working with the data in various programming languages.\n",
    "\n",
    "**<font color='blue'>1.a. Show the fashion mnist first rows.**"
   ]
  },
  {
   "cell_type": "code",
   "execution_count": 3,
   "metadata": {
    "id": "6ygzMJDPMLWj"
   },
   "outputs": [
    {
     "data": {
      "text/html": [
       "<div>\n",
       "<style scoped>\n",
       "    .dataframe tbody tr th:only-of-type {\n",
       "        vertical-align: middle;\n",
       "    }\n",
       "\n",
       "    .dataframe tbody tr th {\n",
       "        vertical-align: top;\n",
       "    }\n",
       "\n",
       "    .dataframe thead th {\n",
       "        text-align: right;\n",
       "    }\n",
       "</style>\n",
       "<table border=\"1\" class=\"dataframe\">\n",
       "  <thead>\n",
       "    <tr style=\"text-align: right;\">\n",
       "      <th></th>\n",
       "      <th>pixel1</th>\n",
       "      <th>pixel2</th>\n",
       "      <th>pixel3</th>\n",
       "      <th>pixel4</th>\n",
       "      <th>pixel5</th>\n",
       "      <th>pixel6</th>\n",
       "      <th>pixel7</th>\n",
       "      <th>pixel8</th>\n",
       "      <th>pixel9</th>\n",
       "      <th>pixel10</th>\n",
       "      <th>...</th>\n",
       "      <th>pixel775</th>\n",
       "      <th>pixel776</th>\n",
       "      <th>pixel777</th>\n",
       "      <th>pixel778</th>\n",
       "      <th>pixel779</th>\n",
       "      <th>pixel780</th>\n",
       "      <th>pixel781</th>\n",
       "      <th>pixel782</th>\n",
       "      <th>pixel783</th>\n",
       "      <th>pixel784</th>\n",
       "    </tr>\n",
       "  </thead>\n",
       "  <tbody>\n",
       "    <tr>\n",
       "      <th>count</th>\n",
       "      <td>70000.000000</td>\n",
       "      <td>70000.000000</td>\n",
       "      <td>70000.000000</td>\n",
       "      <td>70000.000000</td>\n",
       "      <td>70000.000000</td>\n",
       "      <td>70000.000000</td>\n",
       "      <td>70000.000000</td>\n",
       "      <td>70000.000000</td>\n",
       "      <td>70000.000000</td>\n",
       "      <td>70000.00000</td>\n",
       "      <td>...</td>\n",
       "      <td>70000.000000</td>\n",
       "      <td>70000.000000</td>\n",
       "      <td>70000.000000</td>\n",
       "      <td>70000.000000</td>\n",
       "      <td>70000.000000</td>\n",
       "      <td>70000.000000</td>\n",
       "      <td>70000.000000</td>\n",
       "      <td>70000.00000</td>\n",
       "      <td>70000.000000</td>\n",
       "      <td>70000.000000</td>\n",
       "    </tr>\n",
       "    <tr>\n",
       "      <th>mean</th>\n",
       "      <td>0.000771</td>\n",
       "      <td>0.006414</td>\n",
       "      <td>0.034486</td>\n",
       "      <td>0.098886</td>\n",
       "      <td>0.247843</td>\n",
       "      <td>0.408714</td>\n",
       "      <td>0.802900</td>\n",
       "      <td>2.204386</td>\n",
       "      <td>5.634900</td>\n",
       "      <td>14.41000</td>\n",
       "      <td>...</td>\n",
       "      <td>34.582314</td>\n",
       "      <td>23.288643</td>\n",
       "      <td>16.611600</td>\n",
       "      <td>17.823371</td>\n",
       "      <td>22.887986</td>\n",
       "      <td>17.968129</td>\n",
       "      <td>8.524043</td>\n",
       "      <td>2.75140</td>\n",
       "      <td>0.836529</td>\n",
       "      <td>0.072914</td>\n",
       "    </tr>\n",
       "    <tr>\n",
       "      <th>std</th>\n",
       "      <td>0.087339</td>\n",
       "      <td>0.296605</td>\n",
       "      <td>1.200882</td>\n",
       "      <td>2.458872</td>\n",
       "      <td>4.408110</td>\n",
       "      <td>5.842288</td>\n",
       "      <td>8.186472</td>\n",
       "      <td>14.117208</td>\n",
       "      <td>23.698865</td>\n",
       "      <td>38.18827</td>\n",
       "      <td>...</td>\n",
       "      <td>57.584612</td>\n",
       "      <td>48.935288</td>\n",
       "      <td>42.075046</td>\n",
       "      <td>43.901606</td>\n",
       "      <td>51.853192</td>\n",
       "      <td>45.231601</td>\n",
       "      <td>29.527900</td>\n",
       "      <td>17.38577</td>\n",
       "      <td>9.258426</td>\n",
       "      <td>2.129924</td>\n",
       "    </tr>\n",
       "    <tr>\n",
       "      <th>min</th>\n",
       "      <td>0.000000</td>\n",
       "      <td>0.000000</td>\n",
       "      <td>0.000000</td>\n",
       "      <td>0.000000</td>\n",
       "      <td>0.000000</td>\n",
       "      <td>0.000000</td>\n",
       "      <td>0.000000</td>\n",
       "      <td>0.000000</td>\n",
       "      <td>0.000000</td>\n",
       "      <td>0.00000</td>\n",
       "      <td>...</td>\n",
       "      <td>0.000000</td>\n",
       "      <td>0.000000</td>\n",
       "      <td>0.000000</td>\n",
       "      <td>0.000000</td>\n",
       "      <td>0.000000</td>\n",
       "      <td>0.000000</td>\n",
       "      <td>0.000000</td>\n",
       "      <td>0.00000</td>\n",
       "      <td>0.000000</td>\n",
       "      <td>0.000000</td>\n",
       "    </tr>\n",
       "    <tr>\n",
       "      <th>25%</th>\n",
       "      <td>0.000000</td>\n",
       "      <td>0.000000</td>\n",
       "      <td>0.000000</td>\n",
       "      <td>0.000000</td>\n",
       "      <td>0.000000</td>\n",
       "      <td>0.000000</td>\n",
       "      <td>0.000000</td>\n",
       "      <td>0.000000</td>\n",
       "      <td>0.000000</td>\n",
       "      <td>0.00000</td>\n",
       "      <td>...</td>\n",
       "      <td>0.000000</td>\n",
       "      <td>0.000000</td>\n",
       "      <td>0.000000</td>\n",
       "      <td>0.000000</td>\n",
       "      <td>0.000000</td>\n",
       "      <td>0.000000</td>\n",
       "      <td>0.000000</td>\n",
       "      <td>0.00000</td>\n",
       "      <td>0.000000</td>\n",
       "      <td>0.000000</td>\n",
       "    </tr>\n",
       "    <tr>\n",
       "      <th>50%</th>\n",
       "      <td>0.000000</td>\n",
       "      <td>0.000000</td>\n",
       "      <td>0.000000</td>\n",
       "      <td>0.000000</td>\n",
       "      <td>0.000000</td>\n",
       "      <td>0.000000</td>\n",
       "      <td>0.000000</td>\n",
       "      <td>0.000000</td>\n",
       "      <td>0.000000</td>\n",
       "      <td>0.00000</td>\n",
       "      <td>...</td>\n",
       "      <td>0.000000</td>\n",
       "      <td>0.000000</td>\n",
       "      <td>0.000000</td>\n",
       "      <td>0.000000</td>\n",
       "      <td>0.000000</td>\n",
       "      <td>0.000000</td>\n",
       "      <td>0.000000</td>\n",
       "      <td>0.00000</td>\n",
       "      <td>0.000000</td>\n",
       "      <td>0.000000</td>\n",
       "    </tr>\n",
       "    <tr>\n",
       "      <th>75%</th>\n",
       "      <td>0.000000</td>\n",
       "      <td>0.000000</td>\n",
       "      <td>0.000000</td>\n",
       "      <td>0.000000</td>\n",
       "      <td>0.000000</td>\n",
       "      <td>0.000000</td>\n",
       "      <td>0.000000</td>\n",
       "      <td>0.000000</td>\n",
       "      <td>0.000000</td>\n",
       "      <td>0.00000</td>\n",
       "      <td>...</td>\n",
       "      <td>57.000000</td>\n",
       "      <td>8.000000</td>\n",
       "      <td>0.000000</td>\n",
       "      <td>0.000000</td>\n",
       "      <td>0.000000</td>\n",
       "      <td>0.000000</td>\n",
       "      <td>0.000000</td>\n",
       "      <td>0.00000</td>\n",
       "      <td>0.000000</td>\n",
       "      <td>0.000000</td>\n",
       "    </tr>\n",
       "    <tr>\n",
       "      <th>max</th>\n",
       "      <td>16.000000</td>\n",
       "      <td>45.000000</td>\n",
       "      <td>218.000000</td>\n",
       "      <td>185.000000</td>\n",
       "      <td>227.000000</td>\n",
       "      <td>230.000000</td>\n",
       "      <td>224.000000</td>\n",
       "      <td>225.000000</td>\n",
       "      <td>254.000000</td>\n",
       "      <td>255.00000</td>\n",
       "      <td>...</td>\n",
       "      <td>255.000000</td>\n",
       "      <td>255.000000</td>\n",
       "      <td>255.000000</td>\n",
       "      <td>255.000000</td>\n",
       "      <td>255.000000</td>\n",
       "      <td>255.000000</td>\n",
       "      <td>255.000000</td>\n",
       "      <td>255.00000</td>\n",
       "      <td>255.000000</td>\n",
       "      <td>170.000000</td>\n",
       "    </tr>\n",
       "  </tbody>\n",
       "</table>\n",
       "<p>8 rows × 784 columns</p>\n",
       "</div>"
      ],
      "text/plain": [
       "             pixel1        pixel2        pixel3        pixel4        pixel5  \\\n",
       "count  70000.000000  70000.000000  70000.000000  70000.000000  70000.000000   \n",
       "mean       0.000771      0.006414      0.034486      0.098886      0.247843   \n",
       "std        0.087339      0.296605      1.200882      2.458872      4.408110   \n",
       "min        0.000000      0.000000      0.000000      0.000000      0.000000   \n",
       "25%        0.000000      0.000000      0.000000      0.000000      0.000000   \n",
       "50%        0.000000      0.000000      0.000000      0.000000      0.000000   \n",
       "75%        0.000000      0.000000      0.000000      0.000000      0.000000   \n",
       "max       16.000000     45.000000    218.000000    185.000000    227.000000   \n",
       "\n",
       "             pixel6        pixel7        pixel8        pixel9      pixel10  \\\n",
       "count  70000.000000  70000.000000  70000.000000  70000.000000  70000.00000   \n",
       "mean       0.408714      0.802900      2.204386      5.634900     14.41000   \n",
       "std        5.842288      8.186472     14.117208     23.698865     38.18827   \n",
       "min        0.000000      0.000000      0.000000      0.000000      0.00000   \n",
       "25%        0.000000      0.000000      0.000000      0.000000      0.00000   \n",
       "50%        0.000000      0.000000      0.000000      0.000000      0.00000   \n",
       "75%        0.000000      0.000000      0.000000      0.000000      0.00000   \n",
       "max      230.000000    224.000000    225.000000    254.000000    255.00000   \n",
       "\n",
       "       ...      pixel775      pixel776      pixel777      pixel778  \\\n",
       "count  ...  70000.000000  70000.000000  70000.000000  70000.000000   \n",
       "mean   ...     34.582314     23.288643     16.611600     17.823371   \n",
       "std    ...     57.584612     48.935288     42.075046     43.901606   \n",
       "min    ...      0.000000      0.000000      0.000000      0.000000   \n",
       "25%    ...      0.000000      0.000000      0.000000      0.000000   \n",
       "50%    ...      0.000000      0.000000      0.000000      0.000000   \n",
       "75%    ...     57.000000      8.000000      0.000000      0.000000   \n",
       "max    ...    255.000000    255.000000    255.000000    255.000000   \n",
       "\n",
       "           pixel779      pixel780      pixel781     pixel782      pixel783  \\\n",
       "count  70000.000000  70000.000000  70000.000000  70000.00000  70000.000000   \n",
       "mean      22.887986     17.968129      8.524043      2.75140      0.836529   \n",
       "std       51.853192     45.231601     29.527900     17.38577      9.258426   \n",
       "min        0.000000      0.000000      0.000000      0.00000      0.000000   \n",
       "25%        0.000000      0.000000      0.000000      0.00000      0.000000   \n",
       "50%        0.000000      0.000000      0.000000      0.00000      0.000000   \n",
       "75%        0.000000      0.000000      0.000000      0.00000      0.000000   \n",
       "max      255.000000    255.000000    255.000000    255.00000    255.000000   \n",
       "\n",
       "           pixel784  \n",
       "count  70000.000000  \n",
       "mean       0.072914  \n",
       "std        2.129924  \n",
       "min        0.000000  \n",
       "25%        0.000000  \n",
       "50%        0.000000  \n",
       "75%        0.000000  \n",
       "max      170.000000  \n",
       "\n",
       "[8 rows x 784 columns]"
      ]
     },
     "execution_count": 3,
     "metadata": {},
     "output_type": "execute_result"
    }
   ],
   "source": [
    "fashion_mnist.describe()"
   ]
  },
  {
   "cell_type": "markdown",
   "metadata": {
    "id": "RQgFrdBAySrx"
   },
   "source": [
    "To show an image stored in a DataFrame in Python:\n",
    "\n",
    "\n",
    "1.   **Reshape the data**: Reshaping the data involves changing the dimensions of an array without changing the underlying data. To reshape the data, you can use the **`reshape()`** function in NumPy. For example, if the original image dimensions are 28x28 pixels, we can reshape a one-dimensional array image_data of length 784 into a two-dimensional array image_array of shape (28, 28). [Documentation](https://numpy.org/doc/stable/reference/generated/numpy.reshape.html).\n",
    "```\n",
    "arr_reshaped = np.reshape(arr, (28,28))\n",
    "```\n",
    "\n",
    "\n",
    "2.   **Display the image**: To display the data, you can use the **`imshow()`** function in NumPy. You can play with the image color using the `cmap` parameter that can be a string representing a named colormap (such as 'gray', 'binary' or 'viridis'). [Documentation](https://matplotlib.org/stable/api/_as_gen/matplotlib.pyplot.imshow.html).\n",
    "```\n",
    "import matplotlib.pyplot as plt\n",
    "plt.imshow(arr_reshaped, ...)\n",
    "```\n",
    "\n",
    "**<font color='blue'>1.b. Display some of the images of the dataset.**"
   ]
  },
  {
   "cell_type": "code",
   "execution_count": 4,
   "metadata": {
    "id": "eX3DN9bdMME5"
   },
   "outputs": [
    {
     "data": {
      "text/plain": [
       "(-0.5, 27.5, 27.5, -0.5)"
      ]
     },
     "execution_count": 4,
     "metadata": {},
     "output_type": "execute_result"
    },
    {
     "data": {
      "image/png": "[encoded data removed]",
      "text/plain": [
       "<Figure size 432x288 with 1 Axes>"
      ]
     },
     "metadata": {
      "needs_background": "light"
     },
     "output_type": "display_data"
    }
   ],
   "source": [
    "arr = np.array(fashion_mnist.iloc[0, :-1]).astype(float)\n",
    "# type(arr)\n",
    "arr_reshaped = np.reshape(arr, (28, 28))\n",
    "\n",
    "plt.imshow(arr_reshaped, cmap='binary')\n",
    "plt.axis('off')"
   ]
  },
  {
   "cell_type": "code",
   "execution_count": 5,
   "metadata": {},
   "outputs": [
    {
     "data": {
      "text/plain": [
       "(-0.5, 27.5, 27.5, -0.5)"
      ]
     },
     "execution_count": 5,
     "metadata": {},
     "output_type": "execute_result"
    },
    {
     "data": {
      "image/png": "[encoded data removed]",
      "text/plain": [
       "<Figure size 432x288 with 1 Axes>"
      ]
     },
     "metadata": {
      "needs_background": "light"
     },
     "output_type": "display_data"
    }
   ],
   "source": [
    "arr = np.array(fashion_mnist.iloc[3, :-1]).astype(float)\n",
    "# type(arr)\n",
    "arr_reshaped = np.reshape(arr, (28, 28))\n",
    "\n",
    "plt.imshow(arr_reshaped, cmap='binary')\n",
    "plt.axis('off')"
   ]
  },
  {
   "cell_type": "markdown",
   "metadata": {
    "id": "aKXUy2Vk1OXy"
   },
   "source": [
    "**<font color='blue'>2.a. Separate the features from the labels.**"
   ]
  },
  {
   "cell_type": "code",
   "execution_count": 6,
   "metadata": {
    "id": "ZLiukRBQMMfI"
   },
   "outputs": [],
   "source": [
    "X = fashion_mnist.iloc[:, :-1]\n",
    "y = fashion_mnist.iloc[:, -1]"
   ]
  },
  {
   "cell_type": "markdown",
   "metadata": {
    "id": "Cq9lZ7YI1ZMx"
   },
   "source": [
    "**<font color='blue'>2.b. Create a training, a validation and a testing set.**"
   ]
  },
  {
   "cell_type": "code",
   "execution_count": 7,
   "metadata": {
    "id": "8dKmmSXZMMzE"
   },
   "outputs": [],
   "source": [
    "#Split train and val-test sets.\n",
    "X_train, X_test, y_train, y_test = train_test_split(X, y, train_size=0.7, random_state=42, stratify=y)\n",
    "\n",
    "#Split validation and test sets.\n",
    "X_val, X_test, y_val, y_test = train_test_split(X_test, y_test, train_size=1/3, random_state=42, stratify=y_test)"
   ]
  },
  {
   "cell_type": "markdown",
   "metadata": {
    "id": "3rlfJ6zC1ewQ"
   },
   "source": [
    "An image is generally composed of **pixels** which are integers that range from 0 to 255.\n",
    "\n",
    "Pixels are generally **normalized to a common scale**, such as between 0 and 1, to ensure that the values are comparable and have similar ranges. This can be done by dividing the pixel values by the maximum pixel value (e.g. 255 for 8-bit grayscale images).\n",
    "\n",
    "**<font color='blue'>3.a. Preprocess the features by dividing the features by 255.**"
   ]
  },
  {
   "cell_type": "code",
   "execution_count": 8,
   "metadata": {
    "id": "3DLamEOtMNM2"
   },
   "outputs": [],
   "source": [
    "X_train = X_train / 255\n",
    "X_val = X_val / 255\n",
    "X_test = X_test / 255"
   ]
  },
  {
   "cell_type": "code",
   "execution_count": 9,
   "metadata": {},
   "outputs": [
    {
     "data": {
      "text/html": [
       "<div>\n",
       "<style scoped>\n",
       "    .dataframe tbody tr th:only-of-type {\n",
       "        vertical-align: middle;\n",
       "    }\n",
       "\n",
       "    .dataframe tbody tr th {\n",
       "        vertical-align: top;\n",
       "    }\n",
       "\n",
       "    .dataframe thead th {\n",
       "        text-align: right;\n",
       "    }\n",
       "</style>\n",
       "<table border=\"1\" class=\"dataframe\">\n",
       "  <thead>\n",
       "    <tr style=\"text-align: right;\">\n",
       "      <th></th>\n",
       "      <th>pixel1</th>\n",
       "      <th>pixel2</th>\n",
       "      <th>pixel3</th>\n",
       "      <th>pixel4</th>\n",
       "      <th>pixel5</th>\n",
       "      <th>pixel6</th>\n",
       "      <th>pixel7</th>\n",
       "      <th>pixel8</th>\n",
       "      <th>pixel9</th>\n",
       "      <th>pixel10</th>\n",
       "      <th>...</th>\n",
       "      <th>pixel775</th>\n",
       "      <th>pixel776</th>\n",
       "      <th>pixel777</th>\n",
       "      <th>pixel778</th>\n",
       "      <th>pixel779</th>\n",
       "      <th>pixel780</th>\n",
       "      <th>pixel781</th>\n",
       "      <th>pixel782</th>\n",
       "      <th>pixel783</th>\n",
       "      <th>pixel784</th>\n",
       "    </tr>\n",
       "  </thead>\n",
       "  <tbody>\n",
       "    <tr>\n",
       "      <th>22317</th>\n",
       "      <td>0.0</td>\n",
       "      <td>0.0</td>\n",
       "      <td>0.0</td>\n",
       "      <td>0.000000</td>\n",
       "      <td>0.0</td>\n",
       "      <td>0.000000</td>\n",
       "      <td>0.000000</td>\n",
       "      <td>0.0</td>\n",
       "      <td>0.0</td>\n",
       "      <td>0.000000</td>\n",
       "      <td>...</td>\n",
       "      <td>0.333333</td>\n",
       "      <td>0.270588</td>\n",
       "      <td>0.529412</td>\n",
       "      <td>0.756863</td>\n",
       "      <td>0.356863</td>\n",
       "      <td>0.000000</td>\n",
       "      <td>0.000000</td>\n",
       "      <td>0.0</td>\n",
       "      <td>0.0</td>\n",
       "      <td>0.0</td>\n",
       "    </tr>\n",
       "    <tr>\n",
       "      <th>18502</th>\n",
       "      <td>0.0</td>\n",
       "      <td>0.0</td>\n",
       "      <td>0.0</td>\n",
       "      <td>0.000000</td>\n",
       "      <td>0.0</td>\n",
       "      <td>0.000000</td>\n",
       "      <td>0.000000</td>\n",
       "      <td>0.0</td>\n",
       "      <td>0.0</td>\n",
       "      <td>0.000000</td>\n",
       "      <td>...</td>\n",
       "      <td>0.000000</td>\n",
       "      <td>0.000000</td>\n",
       "      <td>0.000000</td>\n",
       "      <td>0.000000</td>\n",
       "      <td>0.000000</td>\n",
       "      <td>0.000000</td>\n",
       "      <td>0.000000</td>\n",
       "      <td>0.0</td>\n",
       "      <td>0.0</td>\n",
       "      <td>0.0</td>\n",
       "    </tr>\n",
       "    <tr>\n",
       "      <th>43477</th>\n",
       "      <td>0.0</td>\n",
       "      <td>0.0</td>\n",
       "      <td>0.0</td>\n",
       "      <td>0.000000</td>\n",
       "      <td>0.0</td>\n",
       "      <td>0.000000</td>\n",
       "      <td>0.000000</td>\n",
       "      <td>0.0</td>\n",
       "      <td>0.0</td>\n",
       "      <td>0.000000</td>\n",
       "      <td>...</td>\n",
       "      <td>0.000000</td>\n",
       "      <td>0.000000</td>\n",
       "      <td>0.000000</td>\n",
       "      <td>0.137255</td>\n",
       "      <td>0.352941</td>\n",
       "      <td>0.254902</td>\n",
       "      <td>0.000000</td>\n",
       "      <td>0.0</td>\n",
       "      <td>0.0</td>\n",
       "      <td>0.0</td>\n",
       "    </tr>\n",
       "    <tr>\n",
       "      <th>41125</th>\n",
       "      <td>0.0</td>\n",
       "      <td>0.0</td>\n",
       "      <td>0.0</td>\n",
       "      <td>0.000000</td>\n",
       "      <td>0.0</td>\n",
       "      <td>0.003922</td>\n",
       "      <td>0.000000</td>\n",
       "      <td>0.0</td>\n",
       "      <td>0.0</td>\n",
       "      <td>0.152941</td>\n",
       "      <td>...</td>\n",
       "      <td>0.015686</td>\n",
       "      <td>0.000000</td>\n",
       "      <td>0.270588</td>\n",
       "      <td>0.674510</td>\n",
       "      <td>0.462745</td>\n",
       "      <td>0.000000</td>\n",
       "      <td>0.000000</td>\n",
       "      <td>0.0</td>\n",
       "      <td>0.0</td>\n",
       "      <td>0.0</td>\n",
       "    </tr>\n",
       "    <tr>\n",
       "      <th>44733</th>\n",
       "      <td>0.0</td>\n",
       "      <td>0.0</td>\n",
       "      <td>0.0</td>\n",
       "      <td>0.000000</td>\n",
       "      <td>0.0</td>\n",
       "      <td>0.000000</td>\n",
       "      <td>0.000000</td>\n",
       "      <td>0.0</td>\n",
       "      <td>0.0</td>\n",
       "      <td>0.000000</td>\n",
       "      <td>...</td>\n",
       "      <td>0.000000</td>\n",
       "      <td>0.000000</td>\n",
       "      <td>0.000000</td>\n",
       "      <td>0.000000</td>\n",
       "      <td>0.000000</td>\n",
       "      <td>0.000000</td>\n",
       "      <td>0.000000</td>\n",
       "      <td>0.0</td>\n",
       "      <td>0.0</td>\n",
       "      <td>0.0</td>\n",
       "    </tr>\n",
       "    <tr>\n",
       "      <th>...</th>\n",
       "      <td>...</td>\n",
       "      <td>...</td>\n",
       "      <td>...</td>\n",
       "      <td>...</td>\n",
       "      <td>...</td>\n",
       "      <td>...</td>\n",
       "      <td>...</td>\n",
       "      <td>...</td>\n",
       "      <td>...</td>\n",
       "      <td>...</td>\n",
       "      <td>...</td>\n",
       "      <td>...</td>\n",
       "      <td>...</td>\n",
       "      <td>...</td>\n",
       "      <td>...</td>\n",
       "      <td>...</td>\n",
       "      <td>...</td>\n",
       "      <td>...</td>\n",
       "      <td>...</td>\n",
       "      <td>...</td>\n",
       "      <td>...</td>\n",
       "    </tr>\n",
       "    <tr>\n",
       "      <th>7781</th>\n",
       "      <td>0.0</td>\n",
       "      <td>0.0</td>\n",
       "      <td>0.0</td>\n",
       "      <td>0.003922</td>\n",
       "      <td>0.0</td>\n",
       "      <td>0.003922</td>\n",
       "      <td>0.003922</td>\n",
       "      <td>0.0</td>\n",
       "      <td>0.0</td>\n",
       "      <td>0.000000</td>\n",
       "      <td>...</td>\n",
       "      <td>0.000000</td>\n",
       "      <td>0.000000</td>\n",
       "      <td>0.000000</td>\n",
       "      <td>0.003922</td>\n",
       "      <td>0.000000</td>\n",
       "      <td>0.000000</td>\n",
       "      <td>0.000000</td>\n",
       "      <td>0.0</td>\n",
       "      <td>0.0</td>\n",
       "      <td>0.0</td>\n",
       "    </tr>\n",
       "    <tr>\n",
       "      <th>17394</th>\n",
       "      <td>0.0</td>\n",
       "      <td>0.0</td>\n",
       "      <td>0.0</td>\n",
       "      <td>0.000000</td>\n",
       "      <td>0.0</td>\n",
       "      <td>0.000000</td>\n",
       "      <td>0.000000</td>\n",
       "      <td>0.0</td>\n",
       "      <td>0.0</td>\n",
       "      <td>0.000000</td>\n",
       "      <td>...</td>\n",
       "      <td>0.000000</td>\n",
       "      <td>0.000000</td>\n",
       "      <td>0.000000</td>\n",
       "      <td>0.000000</td>\n",
       "      <td>0.000000</td>\n",
       "      <td>0.000000</td>\n",
       "      <td>0.000000</td>\n",
       "      <td>0.0</td>\n",
       "      <td>0.0</td>\n",
       "      <td>0.0</td>\n",
       "    </tr>\n",
       "    <tr>\n",
       "      <th>18928</th>\n",
       "      <td>0.0</td>\n",
       "      <td>0.0</td>\n",
       "      <td>0.0</td>\n",
       "      <td>0.000000</td>\n",
       "      <td>0.0</td>\n",
       "      <td>0.000000</td>\n",
       "      <td>0.000000</td>\n",
       "      <td>0.0</td>\n",
       "      <td>0.0</td>\n",
       "      <td>0.000000</td>\n",
       "      <td>...</td>\n",
       "      <td>0.000000</td>\n",
       "      <td>0.000000</td>\n",
       "      <td>0.007843</td>\n",
       "      <td>0.000000</td>\n",
       "      <td>0.000000</td>\n",
       "      <td>0.000000</td>\n",
       "      <td>0.000000</td>\n",
       "      <td>0.0</td>\n",
       "      <td>0.0</td>\n",
       "      <td>0.0</td>\n",
       "    </tr>\n",
       "    <tr>\n",
       "      <th>36573</th>\n",
       "      <td>0.0</td>\n",
       "      <td>0.0</td>\n",
       "      <td>0.0</td>\n",
       "      <td>0.000000</td>\n",
       "      <td>0.0</td>\n",
       "      <td>0.000000</td>\n",
       "      <td>0.000000</td>\n",
       "      <td>0.0</td>\n",
       "      <td>0.0</td>\n",
       "      <td>0.145098</td>\n",
       "      <td>...</td>\n",
       "      <td>0.125490</td>\n",
       "      <td>0.090196</td>\n",
       "      <td>0.054902</td>\n",
       "      <td>0.078431</td>\n",
       "      <td>0.000000</td>\n",
       "      <td>0.000000</td>\n",
       "      <td>0.003922</td>\n",
       "      <td>0.0</td>\n",
       "      <td>0.0</td>\n",
       "      <td>0.0</td>\n",
       "    </tr>\n",
       "    <tr>\n",
       "      <th>44371</th>\n",
       "      <td>0.0</td>\n",
       "      <td>0.0</td>\n",
       "      <td>0.0</td>\n",
       "      <td>0.000000</td>\n",
       "      <td>0.0</td>\n",
       "      <td>0.000000</td>\n",
       "      <td>0.000000</td>\n",
       "      <td>0.0</td>\n",
       "      <td>0.0</td>\n",
       "      <td>0.152941</td>\n",
       "      <td>...</td>\n",
       "      <td>0.000000</td>\n",
       "      <td>0.003922</td>\n",
       "      <td>0.000000</td>\n",
       "      <td>0.125490</td>\n",
       "      <td>0.556863</td>\n",
       "      <td>0.549020</td>\n",
       "      <td>0.219608</td>\n",
       "      <td>0.0</td>\n",
       "      <td>0.0</td>\n",
       "      <td>0.0</td>\n",
       "    </tr>\n",
       "  </tbody>\n",
       "</table>\n",
       "<p>49000 rows × 784 columns</p>\n",
       "</div>"
      ],
      "text/plain": [
       "       pixel1  pixel2  pixel3    pixel4  pixel5    pixel6    pixel7  pixel8  \\\n",
       "22317     0.0     0.0     0.0  0.000000     0.0  0.000000  0.000000     0.0   \n",
       "18502     0.0     0.0     0.0  0.000000     0.0  0.000000  0.000000     0.0   \n",
       "43477     0.0     0.0     0.0  0.000000     0.0  0.000000  0.000000     0.0   \n",
       "41125     0.0     0.0     0.0  0.000000     0.0  0.003922  0.000000     0.0   \n",
       "44733     0.0     0.0     0.0  0.000000     0.0  0.000000  0.000000     0.0   \n",
       "...       ...     ...     ...       ...     ...       ...       ...     ...   \n",
       "7781      0.0     0.0     0.0  0.003922     0.0  0.003922  0.003922     0.0   \n",
       "17394     0.0     0.0     0.0  0.000000     0.0  0.000000  0.000000     0.0   \n",
       "18928     0.0     0.0     0.0  0.000000     0.0  0.000000  0.000000     0.0   \n",
       "36573     0.0     0.0     0.0  0.000000     0.0  0.000000  0.000000     0.0   \n",
       "44371     0.0     0.0     0.0  0.000000     0.0  0.000000  0.000000     0.0   \n",
       "\n",
       "       pixel9   pixel10  ...  pixel775  pixel776  pixel777  pixel778  \\\n",
       "22317     0.0  0.000000  ...  0.333333  0.270588  0.529412  0.756863   \n",
       "18502     0.0  0.000000  ...  0.000000  0.000000  0.000000  0.000000   \n",
       "43477     0.0  0.000000  ...  0.000000  0.000000  0.000000  0.137255   \n",
       "41125     0.0  0.152941  ...  0.015686  0.000000  0.270588  0.674510   \n",
       "44733     0.0  0.000000  ...  0.000000  0.000000  0.000000  0.000000   \n",
       "...       ...       ...  ...       ...       ...       ...       ...   \n",
       "7781      0.0  0.000000  ...  0.000000  0.000000  0.000000  0.003922   \n",
       "17394     0.0  0.000000  ...  0.000000  0.000000  0.000000  0.000000   \n",
       "18928     0.0  0.000000  ...  0.000000  0.000000  0.007843  0.000000   \n",
       "36573     0.0  0.145098  ...  0.125490  0.090196  0.054902  0.078431   \n",
       "44371     0.0  0.152941  ...  0.000000  0.003922  0.000000  0.125490   \n",
       "\n",
       "       pixel779  pixel780  pixel781  pixel782  pixel783  pixel784  \n",
       "22317  0.356863  0.000000  0.000000       0.0       0.0       0.0  \n",
       "18502  0.000000  0.000000  0.000000       0.0       0.0       0.0  \n",
       "43477  0.352941  0.254902  0.000000       0.0       0.0       0.0  \n",
       "41125  0.462745  0.000000  0.000000       0.0       0.0       0.0  \n",
       "44733  0.000000  0.000000  0.000000       0.0       0.0       0.0  \n",
       "...         ...       ...       ...       ...       ...       ...  \n",
       "7781   0.000000  0.000000  0.000000       0.0       0.0       0.0  \n",
       "17394  0.000000  0.000000  0.000000       0.0       0.0       0.0  \n",
       "18928  0.000000  0.000000  0.000000       0.0       0.0       0.0  \n",
       "36573  0.000000  0.000000  0.003922       0.0       0.0       0.0  \n",
       "44371  0.556863  0.549020  0.219608       0.0       0.0       0.0  \n",
       "\n",
       "[49000 rows x 784 columns]"
      ]
     },
     "execution_count": 9,
     "metadata": {},
     "output_type": "execute_result"
    }
   ],
   "source": [
    "X_train"
   ]
  },
  {
   "cell_type": "markdown",
   "metadata": {
    "id": "5vpY-vuY366Y"
   },
   "source": [
    "**<font color='blue'>3.b. Encode the labels into numbers.**"
   ]
  },
  {
   "cell_type": "code",
   "execution_count": 10,
   "metadata": {
    "id": "gvEl-jlpMNht",
    "scrolled": true
   },
   "outputs": [
    {
     "data": {
      "text/plain": [
       "T-shirt/top    7000\n",
       "Trouser        7000\n",
       "Pullover       7000\n",
       "Dress          7000\n",
       "Coat           7000\n",
       "Sandal         7000\n",
       "Shirt          7000\n",
       "Sneaker        7000\n",
       "Bag            7000\n",
       "Ankle boot     7000\n",
       "Name: class, dtype: int64"
      ]
     },
     "execution_count": 10,
     "metadata": {},
     "output_type": "execute_result"
    }
   ],
   "source": [
    "y.value_counts()"
   ]
  },
  {
   "cell_type": "code",
   "execution_count": 11,
   "metadata": {},
   "outputs": [],
   "source": [
    "y_train = y_train.replace({\n",
    "    'T-shirt/top': 0,\n",
    "    'Trouser': 1,\n",
    "    'Pullover': 2,\n",
    "    \"Dress\": 3,\n",
    "    \"Coat\": 4,\n",
    "    \"Sandal\": 5,\n",
    "    'Shirt':6,\n",
    "    \"Sneaker\": 7,\n",
    "    \"Bag\": 8,\n",
    "    \"Ankle boot\": 9\n",
    "})\n",
    "\n",
    "y_val = y_val.replace({\n",
    "    'T-shirt/top': 0,\n",
    "    'Trouser': 1,\n",
    "    'Pullover': 2,\n",
    "    \"Dress\": 3,\n",
    "    \"Coat\": 4,\n",
    "    \"Sandal\": 5,\n",
    "    'Shirt':6,\n",
    "    \"Sneaker\": 7,\n",
    "    \"Bag\": 8,\n",
    "    \"Ankle boot\": 9\n",
    "})\n",
    "\n",
    "y_test = y_test.replace({\n",
    "    'T-shirt/top': 0,\n",
    "    'Trouser': 1,\n",
    "    'Pullover': 2,\n",
    "    \"Dress\": 3,\n",
    "    \"Coat\": 4,\n",
    "    \"Sandal\": 5,\n",
    "    'Shirt':6,\n",
    "    \"Sneaker\": 7,\n",
    "    \"Bag\": 8,\n",
    "    \"Ankle boot\": 9\n",
    "})"
   ]
  },
  {
   "cell_type": "markdown",
   "metadata": {
    "id": "-wguUusv2Dph"
   },
   "source": [
    "Convolutional Neural Networks (CNNs) need images of shape ***(instances, height,width, channel)***.\n",
    "\n",
    "The (instances, width, height, channel) format represents a four-dimensional array, where:\n",
    "\n",
    "* **instances**: The number of images in the dataset.\n",
    "* **width**: The width of each image in pixels.\n",
    "* **height**: The height of each image in pixels.\n",
    "* **channel**: The number of color channels in each image (1 for grayscale images, 3 for RGB color images).\n",
    "\n",
    "For example, if you have a DataFrame with 28x28 grayscale images (i.e., one color channel), you can reshape the data into a (..., 28, 28, 1) array using the following code:\n",
    "\n",
    "```\n",
    "# -1 in the first dimension means that the number of instances is inferred automatically\n",
    "arr_reshaped = np.reshape(arr, (-1, 28, 28, 1))\n",
    "```\n",
    "\n",
    "\n",
    "\n",
    "**<font color='blue'>3.c. Reshape the training, validation and testing sets into a (instances, height,width, channel) format.**"
   ]
  },
  {
   "cell_type": "code",
   "execution_count": 12,
   "metadata": {
    "id": "VCuXzWEpMOP3"
   },
   "outputs": [],
   "source": [
    "arr_train = np.array(X_train)\n",
    "arr_reshaped_train = np.reshape(arr_train, (-1, 28, 28, 1))\n",
    "\n",
    "arr_val = np.array(X_val)\n",
    "arr_reshaped_val = np.reshape(arr_val, (-1, 28, 28, 1))\n",
    "\n",
    "arr_test = np.array(X_test)\n",
    "arr_reshaped_test = np.reshape(arr_test, (-1, 28, 28, 1))"
   ]
  },
  {
   "cell_type": "markdown",
   "metadata": {
    "id": "6arDiWgN4GRn"
   },
   "source": [
    "**Convolutional layers** are a fundamental building block in convolutional neural networks (CNNs). They apply a set of filters (also known as kernels) to an input image to extract features and create a set of output feature maps. The process of applying these filters is called convolution.\n",
    "\n",
    "![img](https://stanford.edu/~shervine/teaching/cs-230/illustrations/architecture-cnn-en.jpeg?3b7fccd728e29dc619e1bd8022bf71cf)\n",
    "\n",
    "Here's a brief overview of the key concepts in convolutional layers:\n",
    "\n",
    "* **Filter**: A small matrix of weights that is applied to a small region of the input image. The filter is slid across the entire input image and applied to each small region to generate a feature map.\n",
    "* **Feature map**: A 2D array of values that represents the response of each filter to the input image. Each filter produces one feature map.\n",
    " \n",
    " <center><img width=70% height=auto src=https://stanford.edu/~shervine/teaching/cs-230/illustrations/convolution-layer-a.png?1c517e00cb8d709baf32fc3d39ebae67/>\n",
    "\n",
    "* **Stride**: The number of pixels that the filter moves horizontally or vertically on each slide across the input image.\n",
    "* **Padding**: A technique used to ensure that the output feature map has the same size as the input image. Padding adds zeros around the edges of the input image before applying the filter.\n",
    "\n",
    "---\n",
    "\n",
    "**`tf.keras.layers.Conv2D`** is a class in TensorFlow's high-level API Keras that represents a 2D convolutional layer for use in convolutional neural networks (CNNs). The reason why convolutional layers in CNNs typically use 2D filters is because images and videos are 2D spatial structures. Here's an overview of the main parameters:\n",
    "\n",
    "* **`filters`**: The number of filters (or output channels) in the convolution. This parameter determines the depth of the output tensor, which can be different from the depth of the input tensor if filters is not equal to the input's number of channels. This parameter is required.\n",
    "* **`kernel_size`**: The height and width of the convolutional kernel (or filter) as an integer or a tuple of two integers. For example, (3, 3) means a 3x3 kernel.\n",
    "* **`strides`**: The stride of the convolution as a tuple of two integers, which specifies the step size of the kernel along the height and width dimensions. Default is (1, 1) which means the kernel slides one pixel at a time.\n",
    "* **`padding`**: One of \"valid\" or \"same\". \"valid\" means no padding is applied and the output size will be reduced. \"same\" means zero-padding is applied to the input so that the output size is the same as the input size.\n",
    "* **`activation`**: The activation function to apply to the output of the convolution. Common choices include ReLU, sigmoid, and tanh.\n",
    "\n",
    "```\n",
    "conv = tf.keras.layers.Conv2D(filters=...,\n",
    "                              kernel_size=...,\n",
    "                              strides=...,\n",
    "                              padding=...,\n",
    "                              activation=...)\n",
    "```\n",
    "\n",
    "Conv2D [Documentation](https://www.tensorflow.org/api_docs/python/tf/keras/layers/Conv2D)\n",
    "\n",
    "---\n",
    "\n",
    "Convolutional layers are often associated with **max pooling** and **flatten layers** in CNNs.\n",
    "\n",
    "* **Max pooling**: Max pooling is a downsampling technique that reduces the spatial dimensions of the feature maps while preserving the most important information. It does this by taking the maximum value in a local neighborhood of the feature map. Max pooling helps to reduce the computational complexity of the network by reducing the number of parameters in the model, and it also helps to prevent overfitting by introducing some degree of translation invariance. You can use the **`MaxPooling2D`** from [Tensorflow](https://www.tensorflow.org/api_docs/python/tf/keras/layers/MaxPool2D).\n",
    "\n",
    "* **Flatten layer**: A flatten layer is used to convert the 2D feature maps produced by the convolutional and pooling layers into a 1D vector that can be fed into a fully connected layer. This is necessary because fully connected layers can only accept inputs as a 1D vector. The flatten layer essentially \"flattens\" the feature maps into a vector by stacking the rows of the 2D feature map on top of each other. You can use the **`Flatten`** from [Tensorflow](https://www.tensorflow.org/api_docs/python/tf/keras/layers/Flatten).\n",
    "\n",
    "```\n",
    "max_pooling = tf.keras.layers.MaxPooling2D(pool_size=...,\n",
    "                                           strides=...,\n",
    "                                           padding=...)\n",
    "flatten = tf.keras.layers.Flatten()\n",
    "```\n",
    "\n",
    "**<font color='blue'>4.a. Create a model using:**\n",
    "\n",
    "*   **<font color='blue'>One convolutional layer with 32 filters, a kernel size of 3x3 and a relu activation function**\n",
    "*   **Followed by one max pooling layer with a pool size of 2x2**\n",
    "*   **Followed by one flattening layer**\n",
    "*   **Followed by one dense layer with 32 neurons and a relu activation function**\n",
    "*   **Followed by a final dense layer for a classification task.**"
   ]
  },
  {
   "cell_type": "code",
   "execution_count": 13,
   "metadata": {
    "id": "O3NPl7Z-MPJD"
   },
   "outputs": [
    {
     "name": "stderr",
     "output_type": "stream",
     "text": [
      "2023-04-20 14:22:58.586840: I tensorflow/core/platform/cpu_feature_guard.cc:193] This TensorFlow binary is optimized with oneAPI Deep Neural Network Library (oneDNN) to use the following CPU instructions in performance-critical operations:  SSE4.1 SSE4.2\n",
      "To enable them in other operations, rebuild TensorFlow with the appropriate compiler flags.\n"
     ]
    }
   ],
   "source": [
    "input_layer = tf.keras.Input(shape=(28, 28, 1))\n",
    "\n",
    "conv = tf.keras.layers.Conv2D(filters=32,\n",
    "                              kernel_size=(3,3), # Or only put a 3 here.\n",
    "                              activation='relu'\n",
    "                             )(input_layer)\n",
    "\n",
    "max_pooling = tf.keras.layers.MaxPooling2D(pool_size = (2,2),\n",
    "                                         strides=(2,2))(conv)\n",
    "\n",
    "flatten = tf.keras.layers.Flatten()(max_pooling)\n",
    "\n",
    "outputs_1 = tf.keras.layers.Dense(units=32,\n",
    "                             activation='relu',\n",
    "                             use_bias=True)(flatten)\n",
    "\n",
    "outputs = tf.keras.layers.Dense(units=10,\n",
    "                           activation='softmax',\n",
    "                           use_bias=True)(outputs_1)\n",
    "\n",
    "model = tf.keras.Model(inputs=input_layer, outputs=outputs)\n",
    "\n"
   ]
  },
  {
   "cell_type": "markdown",
   "metadata": {
    "id": "UFb2m_Oq9FcD"
   },
   "source": [
    "**<font color='blue'>4.b. Display the architecture of the model using `summary()`or `keras.utils.plot_model()`.**"
   ]
  },
  {
   "cell_type": "code",
   "execution_count": 14,
   "metadata": {
    "id": "KoPNJM85MP4c",
    "scrolled": true
   },
   "outputs": [
    {
     "data": {
      "image/png": "[encoded data removed]",
      "text/plain": [
       "<IPython.core.display.Image object>"
      ]
     },
     "execution_count": 14,
     "metadata": {},
     "output_type": "execute_result"
    }
   ],
   "source": [
    "tf.keras.utils.plot_model(model)"
   ]
  },
  {
   "cell_type": "code",
   "execution_count": 15,
   "metadata": {},
   "outputs": [
    {
     "data": {
      "text/plain": [
       "<bound method Model.summary of <keras.engine.functional.Functional object at 0x7ff253ef9580>>"
      ]
     },
     "execution_count": 15,
     "metadata": {},
     "output_type": "execute_result"
    }
   ],
   "source": [
    "model.summary"
   ]
  },
  {
   "cell_type": "markdown",
   "metadata": {
    "id": "03yQYRSD9Se_"
   },
   "source": [
    "**<font color='blue'>5. Compile the model using the correct loss, the Adam optimizer with a learning rate of 0.001 and the accuracy metric.**"
   ]
  },
  {
   "cell_type": "code",
   "execution_count": null,
   "metadata": {
    "id": "ZonBGQEpMQMR",
    "scrolled": true
   },
   "outputs": [],
   "source": [
    "\n",
    "model.compile(optimizer=tf.keras.optimizers.Adam(learning_rate=0.001), \n",
    "              metrics=['accuracy'], loss=tf.keras.losses.SparseCategorical())"
   ]
  },
  {
   "cell_type": "markdown",
   "metadata": {
    "id": "4M7teGqi9eox"
   },
   "source": [
    "**<font color='blue'>6. Train the model for 10 epochs with a batch size of 64.**\n",
    "\n",
    "*Tips: Don't forget to use the validation data and to save the output of the fit function.*"
   ]
  },
  {
   "cell_type": "code",
   "execution_count": null,
   "metadata": {
    "id": "f7Ff_v9LMQiV"
   },
   "outputs": [],
   "source": []
  },
  {
   "cell_type": "markdown",
   "metadata": {
    "id": "3DJ-OYc29pm9"
   },
   "source": [
    "**<font color='blue'>7.a. Display the learning curves.**"
   ]
  },
  {
   "cell_type": "code",
   "execution_count": null,
   "metadata": {
    "id": "kPks585EMQ8p"
   },
   "outputs": [],
   "source": []
  },
  {
   "cell_type": "markdown",
   "metadata": {
    "id": "s-3-y8ZH9sZU"
   },
   "source": [
    "**<font color='blue'>7.b. Evaluate the model on the test set and display the confusion matrix.**"
   ]
  },
  {
   "cell_type": "code",
   "execution_count": null,
   "metadata": {
    "id": "EGpC3NkxMRkr"
   },
   "outputs": [],
   "source": []
  },
  {
   "cell_type": "markdown",
   "metadata": {
    "id": "D5Z8J1dA_hQp"
   },
   "source": [
    "**<font color='blue'>8.a. Choose and display an image from the dataset.**"
   ]
  },
  {
   "cell_type": "code",
   "execution_count": null,
   "metadata": {
    "id": "EFcuFRLVMR97"
   },
   "outputs": [],
   "source": []
  },
  {
   "cell_type": "markdown",
   "metadata": {
    "id": "OobOH_Ar_1hB"
   },
   "source": [
    "\n",
    "Tensorflow model's layers can be accessed using the `.layers` attribute.<br> It returns a list of all the layers of the model.\n",
    "\n",
    "```\n",
    "layers = model.layers\n",
    "```\n",
    "\n",
    "\n",
    "**<font color='blue'>8.b. Extract the convolutional layer from the model and pass the image as an input.**\n",
    "\n",
    "*Tips: Remember to reshape the image to a (instances, height, width, channel) shape.*"
   ]
  },
  {
   "cell_type": "code",
   "execution_count": null,
   "metadata": {
    "id": "Vpvi8SeLMSlI"
   },
   "outputs": [],
   "source": []
  },
  {
   "cell_type": "markdown",
   "metadata": {
    "id": "3NsQdM0BBRmQ"
   },
   "source": [
    "Assuming an **input of shape (batch_size, height, width, channels)** and a convolutional layer with filters number of filters, kernel_size size of filters, stride stride, and 'same' padding, the **output tensor will have a shape of (batch_size, height, width, filters)**.\n",
    "\n",
    "If the inputs have the same size (height and width) and the same number of instance per batch (batch_size) then the individual filters can be accessed by indexing the filters dimension:\n",
    "\n",
    "```\n",
    "for i in range(n):\n",
    "   output[:,:,:,i] # filter map n°i\n",
    "```\n",
    "\n",
    "**<font color='blue'>8.c. Display the 32 feature maps using the `imshow()` function.**"
   ]
  },
  {
   "cell_type": "code",
   "execution_count": null,
   "metadata": {
    "id": "N6dLvJxiMTGV"
   },
   "outputs": [],
   "source": [
    "fig, axes = plt.subplots()\n",
    "for i in "
   ]
  },
  {
   "cell_type": "markdown",
   "metadata": {
    "id": "vhozx3flXy-R"
   },
   "source": [
    "# Snapchat Review classification"
   ]
  },
  {
   "cell_type": "code",
   "execution_count": 16,
   "metadata": {
    "id": "wR1orO7oLBWm"
   },
   "outputs": [],
   "source": [
    "# Snapchat dataset\n",
    "snapchat_review = fetch_openml(\"Snapchat-Google-PlayStore-Reviews\", version=1)['data']\n",
    "snapchat_review = snapchat_review.drop(['Date', 'Helpful'], axis=1)\n",
    "snapchat_review = snapchat_review.drop(snapchat_review[snapchat_review['Rating'] == 3].index, axis=0).reset_index(drop=True)\n",
    "snapchat_review['Rating'] = snapchat_review['Rating'].transform(lambda x: \"Positive\" if x >= 4 else \"Negative\")"
   ]
  },
  {
   "cell_type": "code",
   "execution_count": 17,
   "metadata": {},
   "outputs": [
    {
     "data": {
      "text/html": [
       "<div>\n",
       "<style scoped>\n",
       "    .dataframe tbody tr th:only-of-type {\n",
       "        vertical-align: middle;\n",
       "    }\n",
       "\n",
       "    .dataframe tbody tr th {\n",
       "        vertical-align: top;\n",
       "    }\n",
       "\n",
       "    .dataframe thead th {\n",
       "        text-align: right;\n",
       "    }\n",
       "</style>\n",
       "<table border=\"1\" class=\"dataframe\">\n",
       "  <thead>\n",
       "    <tr style=\"text-align: right;\">\n",
       "      <th></th>\n",
       "      <th>Rating</th>\n",
       "      <th>Review_Text</th>\n",
       "    </tr>\n",
       "  </thead>\n",
       "  <tbody>\n",
       "    <tr>\n",
       "      <th>0</th>\n",
       "      <td>Positive</td>\n",
       "      <td>Very Best camera and chat app</td>\n",
       "    </tr>\n",
       "    <tr>\n",
       "      <th>1</th>\n",
       "      <td>Positive</td>\n",
       "      <td>I love love love this app its its amazingly ea...</td>\n",
       "    </tr>\n",
       "    <tr>\n",
       "      <th>2</th>\n",
       "      <td>Negative</td>\n",
       "      <td>Broken joke of an app. Nothing else to it</td>\n",
       "    </tr>\n",
       "    <tr>\n",
       "      <th>3</th>\n",
       "      <td>Positive</td>\n",
       "      <td>One of the best texting a call apps out there</td>\n",
       "    </tr>\n",
       "    <tr>\n",
       "      <th>4</th>\n",
       "      <td>Negative</td>\n",
       "      <td>Have to download it again and again so that th...</td>\n",
       "    </tr>\n",
       "  </tbody>\n",
       "</table>\n",
       "</div>"
      ],
      "text/plain": [
       "     Rating                                        Review_Text\n",
       "0  Positive                      Very Best camera and chat app\n",
       "1  Positive  I love love love this app its its amazingly ea...\n",
       "2  Negative          Broken joke of an app. Nothing else to it\n",
       "3  Positive      One of the best texting a call apps out there\n",
       "4  Negative  Have to download it again and again so that th..."
      ]
     },
     "execution_count": 17,
     "metadata": {},
     "output_type": "execute_result"
    }
   ],
   "source": [
    "snapchat_review.head()"
   ]
  },
  {
   "cell_type": "code",
   "execution_count": null,
   "metadata": {},
   "outputs": [],
   "source": []
  }
 ],
 "metadata": {
  "accelerator": "GPU",
  "colab": {
   "authorship_tag": "ABX9TyMQIlN5YGxmf+XSBbM74bIJ",
   "collapsed_sections": [
    "ROV6KN1YXpCU",
    "vhozx3flXy-R"
   ],
   "mount_file_id": "1f_P_VB_mpD0leExAWK2KRiOiXWpE9qgS",
   "provenance": [],
   "toc_visible": true
  },
  "gpuClass": "premium",
  "kernelspec": {
   "display_name": "Python 3 (ipykernel)",
   "language": "python",
   "name": "python3"
  },
  "language_info": {
   "codemirror_mode": {
    "name": "ipython",
    "version": 3
   },
   "file_extension": ".py",
   "mimetype": "text/x-python",
   "name": "python",
   "nbconvert_exporter": "python",
   "pygments_lexer": "ipython3",
   "version": "3.8.13"
  }
 },
 "nbformat": 4,
 "nbformat_minor": 1
}
