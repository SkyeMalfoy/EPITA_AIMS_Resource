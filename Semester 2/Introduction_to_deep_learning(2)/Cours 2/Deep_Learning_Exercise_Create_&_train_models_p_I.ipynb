{
 "cells": [
  {
   "cell_type": "markdown",
   "metadata": {
    "id": "4FMp9gtS-2LO"
   },
   "source": [
    "*This Notebook has been created by PALISSON Antoine.*<br>\n"
   ]
  },
  {
   "cell_type": "code",
   "execution_count": 1,
   "metadata": {
    "id": "XxHArnZntSDY"
   },
   "outputs": [],
   "source": [
    "# Basic packages\n",
    "import numpy as np\n",
    "import pandas as pd\n",
    "import matplotlib.pyplot as plt\n",
    "\n",
    "# Sklearn \n",
    "from sklearn.datasets import fetch_openml\n",
    "from sklearn.model_selection import train_test_split\n",
    "from sklearn.preprocessing import StandardScaler, OneHotEncoder\n",
    "from sklearn.compose import ColumnTransformer\n",
    "from sklearn.pipeline import Pipeline\n",
    "from sklearn.metrics import mean_squared_error\n",
    "\n",
    "# Tensorflow\n",
    "import tensorflow as tf"
   ]
  },
  {
   "cell_type": "markdown",
   "metadata": {
    "id": "CKDCymVPVKIK"
   },
   "source": [
    "### Datasets"
   ]
  },
  {
   "cell_type": "code",
   "execution_count": 2,
   "metadata": {
    "colab": {
     "base_uri": "https://localhost:8080/",
     "height": 206
    },
    "id": "s6IdWw14XJZA",
    "outputId": "474ab237-7deb-4eb2-d86f-f1210c5459f9"
   },
   "outputs": [
    {
     "data": {
      "text/html": [
       "<div>\n",
       "<style scoped>\n",
       "    .dataframe tbody tr th:only-of-type {\n",
       "        vertical-align: middle;\n",
       "    }\n",
       "\n",
       "    .dataframe tbody tr th {\n",
       "        vertical-align: top;\n",
       "    }\n",
       "\n",
       "    .dataframe thead th {\n",
       "        text-align: right;\n",
       "    }\n",
       "</style>\n",
       "<table border=\"1\" class=\"dataframe\">\n",
       "  <thead>\n",
       "    <tr style=\"text-align: right;\">\n",
       "      <th></th>\n",
       "      <th>median_house_value</th>\n",
       "      <th>longitude</th>\n",
       "      <th>latitude</th>\n",
       "      <th>housing_median_age</th>\n",
       "      <th>total_rooms</th>\n",
       "      <th>total_bedrooms</th>\n",
       "      <th>population</th>\n",
       "      <th>households</th>\n",
       "      <th>median_income</th>\n",
       "      <th>ocean_proximity</th>\n",
       "    </tr>\n",
       "  </thead>\n",
       "  <tbody>\n",
       "    <tr>\n",
       "      <th>0</th>\n",
       "      <td>452600.0</td>\n",
       "      <td>-122.23</td>\n",
       "      <td>37.88</td>\n",
       "      <td>41.0</td>\n",
       "      <td>880.0</td>\n",
       "      <td>129.0</td>\n",
       "      <td>322.0</td>\n",
       "      <td>126.0</td>\n",
       "      <td>8.3252</td>\n",
       "      <td>NEAR BAY</td>\n",
       "    </tr>\n",
       "    <tr>\n",
       "      <th>1</th>\n",
       "      <td>358500.0</td>\n",
       "      <td>-122.22</td>\n",
       "      <td>37.86</td>\n",
       "      <td>21.0</td>\n",
       "      <td>7099.0</td>\n",
       "      <td>1106.0</td>\n",
       "      <td>2401.0</td>\n",
       "      <td>1138.0</td>\n",
       "      <td>8.3014</td>\n",
       "      <td>NEAR BAY</td>\n",
       "    </tr>\n",
       "    <tr>\n",
       "      <th>2</th>\n",
       "      <td>352100.0</td>\n",
       "      <td>-122.24</td>\n",
       "      <td>37.85</td>\n",
       "      <td>52.0</td>\n",
       "      <td>1467.0</td>\n",
       "      <td>190.0</td>\n",
       "      <td>496.0</td>\n",
       "      <td>177.0</td>\n",
       "      <td>7.2574</td>\n",
       "      <td>NEAR BAY</td>\n",
       "    </tr>\n",
       "    <tr>\n",
       "      <th>3</th>\n",
       "      <td>341300.0</td>\n",
       "      <td>-122.25</td>\n",
       "      <td>37.85</td>\n",
       "      <td>52.0</td>\n",
       "      <td>1274.0</td>\n",
       "      <td>235.0</td>\n",
       "      <td>558.0</td>\n",
       "      <td>219.0</td>\n",
       "      <td>5.6431</td>\n",
       "      <td>NEAR BAY</td>\n",
       "    </tr>\n",
       "    <tr>\n",
       "      <th>4</th>\n",
       "      <td>342200.0</td>\n",
       "      <td>-122.25</td>\n",
       "      <td>37.85</td>\n",
       "      <td>52.0</td>\n",
       "      <td>1627.0</td>\n",
       "      <td>280.0</td>\n",
       "      <td>565.0</td>\n",
       "      <td>259.0</td>\n",
       "      <td>3.8462</td>\n",
       "      <td>NEAR BAY</td>\n",
       "    </tr>\n",
       "  </tbody>\n",
       "</table>\n",
       "</div>"
      ],
      "text/plain": [
       "   median_house_value  longitude  latitude  housing_median_age  total_rooms  \\\n",
       "0            452600.0    -122.23     37.88                41.0        880.0   \n",
       "1            358500.0    -122.22     37.86                21.0       7099.0   \n",
       "2            352100.0    -122.24     37.85                52.0       1467.0   \n",
       "3            341300.0    -122.25     37.85                52.0       1274.0   \n",
       "4            342200.0    -122.25     37.85                52.0       1627.0   \n",
       "\n",
       "   total_bedrooms  population  households  median_income ocean_proximity  \n",
       "0           129.0       322.0       126.0         8.3252        NEAR BAY  \n",
       "1          1106.0      2401.0      1138.0         8.3014        NEAR BAY  \n",
       "2           190.0       496.0       177.0         7.2574        NEAR BAY  \n",
       "3           235.0       558.0       219.0         5.6431        NEAR BAY  \n",
       "4           280.0       565.0       259.0         3.8462        NEAR BAY  "
      ]
     },
     "execution_count": 2,
     "metadata": {},
     "output_type": "execute_result"
    }
   ],
   "source": [
    "data = fetch_openml('california_housing', version=1)\n",
    "housing = pd.concat([data['target'], data['data']], axis=1).dropna()\n",
    "housing.head()"
   ]
  },
  {
   "cell_type": "code",
   "execution_count": 3,
   "metadata": {},
   "outputs": [
    {
     "name": "stdout",
     "output_type": "stream",
     "text": [
      "<class 'pandas.core.frame.DataFrame'>\n",
      "Int64Index: 20433 entries, 0 to 20639\n",
      "Data columns (total 10 columns):\n",
      " #   Column              Non-Null Count  Dtype   \n",
      "---  ------              --------------  -----   \n",
      " 0   median_house_value  20433 non-null  float64 \n",
      " 1   longitude           20433 non-null  float64 \n",
      " 2   latitude            20433 non-null  float64 \n",
      " 3   housing_median_age  20433 non-null  float64 \n",
      " 4   total_rooms         20433 non-null  float64 \n",
      " 5   total_bedrooms      20433 non-null  float64 \n",
      " 6   population          20433 non-null  float64 \n",
      " 7   households          20433 non-null  float64 \n",
      " 8   median_income       20433 non-null  float64 \n",
      " 9   ocean_proximity     20433 non-null  category\n",
      "dtypes: category(1), float64(9)\n",
      "memory usage: 1.6 MB\n"
     ]
    }
   ],
   "source": [
    "housing.info()"
   ]
  },
  {
   "cell_type": "code",
   "execution_count": 4,
   "metadata": {
    "colab": {
     "base_uri": "https://localhost:8080/",
     "height": 236
    },
    "id": "irXUHe88ML9J",
    "outputId": "c78e7868-3d9e-43e6-9224-82620e00b96f",
    "scrolled": true
   },
   "outputs": [
    {
     "data": {
      "text/html": [
       "<div>\n",
       "<style scoped>\n",
       "    .dataframe tbody tr th:only-of-type {\n",
       "        vertical-align: middle;\n",
       "    }\n",
       "\n",
       "    .dataframe tbody tr th {\n",
       "        vertical-align: top;\n",
       "    }\n",
       "\n",
       "    .dataframe thead th {\n",
       "        text-align: right;\n",
       "    }\n",
       "</style>\n",
       "<table border=\"1\" class=\"dataframe\">\n",
       "  <thead>\n",
       "    <tr style=\"text-align: right;\">\n",
       "      <th></th>\n",
       "      <th>Class</th>\n",
       "      <th>V1</th>\n",
       "      <th>V2</th>\n",
       "      <th>V3</th>\n",
       "      <th>V4</th>\n",
       "      <th>V5</th>\n",
       "      <th>V6</th>\n",
       "      <th>V7</th>\n",
       "      <th>V8</th>\n",
       "      <th>V9</th>\n",
       "      <th>...</th>\n",
       "      <th>V21</th>\n",
       "      <th>V22</th>\n",
       "      <th>V23</th>\n",
       "      <th>V24</th>\n",
       "      <th>V25</th>\n",
       "      <th>V26</th>\n",
       "      <th>V27</th>\n",
       "      <th>V28</th>\n",
       "      <th>V29</th>\n",
       "      <th>V30</th>\n",
       "    </tr>\n",
       "  </thead>\n",
       "  <tbody>\n",
       "    <tr>\n",
       "      <th>0</th>\n",
       "      <td>2</td>\n",
       "      <td>17.99</td>\n",
       "      <td>10.38</td>\n",
       "      <td>122.80</td>\n",
       "      <td>1001.0</td>\n",
       "      <td>0.11840</td>\n",
       "      <td>0.27760</td>\n",
       "      <td>0.3001</td>\n",
       "      <td>0.14710</td>\n",
       "      <td>0.2419</td>\n",
       "      <td>...</td>\n",
       "      <td>25.38</td>\n",
       "      <td>17.33</td>\n",
       "      <td>184.60</td>\n",
       "      <td>2019.0</td>\n",
       "      <td>0.1622</td>\n",
       "      <td>0.6656</td>\n",
       "      <td>0.7119</td>\n",
       "      <td>0.2654</td>\n",
       "      <td>0.4601</td>\n",
       "      <td>0.11890</td>\n",
       "    </tr>\n",
       "    <tr>\n",
       "      <th>1</th>\n",
       "      <td>2</td>\n",
       "      <td>20.57</td>\n",
       "      <td>17.77</td>\n",
       "      <td>132.90</td>\n",
       "      <td>1326.0</td>\n",
       "      <td>0.08474</td>\n",
       "      <td>0.07864</td>\n",
       "      <td>0.0869</td>\n",
       "      <td>0.07017</td>\n",
       "      <td>0.1812</td>\n",
       "      <td>...</td>\n",
       "      <td>24.99</td>\n",
       "      <td>23.41</td>\n",
       "      <td>158.80</td>\n",
       "      <td>1956.0</td>\n",
       "      <td>0.1238</td>\n",
       "      <td>0.1866</td>\n",
       "      <td>0.2416</td>\n",
       "      <td>0.1860</td>\n",
       "      <td>0.2750</td>\n",
       "      <td>0.08902</td>\n",
       "    </tr>\n",
       "    <tr>\n",
       "      <th>2</th>\n",
       "      <td>2</td>\n",
       "      <td>19.69</td>\n",
       "      <td>21.25</td>\n",
       "      <td>130.00</td>\n",
       "      <td>1203.0</td>\n",
       "      <td>0.10960</td>\n",
       "      <td>0.15990</td>\n",
       "      <td>0.1974</td>\n",
       "      <td>0.12790</td>\n",
       "      <td>0.2069</td>\n",
       "      <td>...</td>\n",
       "      <td>23.57</td>\n",
       "      <td>25.53</td>\n",
       "      <td>152.50</td>\n",
       "      <td>1709.0</td>\n",
       "      <td>0.1444</td>\n",
       "      <td>0.4245</td>\n",
       "      <td>0.4504</td>\n",
       "      <td>0.2430</td>\n",
       "      <td>0.3613</td>\n",
       "      <td>0.08758</td>\n",
       "    </tr>\n",
       "    <tr>\n",
       "      <th>3</th>\n",
       "      <td>2</td>\n",
       "      <td>11.42</td>\n",
       "      <td>20.38</td>\n",
       "      <td>77.58</td>\n",
       "      <td>386.1</td>\n",
       "      <td>0.14250</td>\n",
       "      <td>0.28390</td>\n",
       "      <td>0.2414</td>\n",
       "      <td>0.10520</td>\n",
       "      <td>0.2597</td>\n",
       "      <td>...</td>\n",
       "      <td>14.91</td>\n",
       "      <td>26.50</td>\n",
       "      <td>98.87</td>\n",
       "      <td>567.7</td>\n",
       "      <td>0.2098</td>\n",
       "      <td>0.8663</td>\n",
       "      <td>0.6869</td>\n",
       "      <td>0.2575</td>\n",
       "      <td>0.6638</td>\n",
       "      <td>0.17300</td>\n",
       "    </tr>\n",
       "    <tr>\n",
       "      <th>4</th>\n",
       "      <td>2</td>\n",
       "      <td>20.29</td>\n",
       "      <td>14.34</td>\n",
       "      <td>135.10</td>\n",
       "      <td>1297.0</td>\n",
       "      <td>0.10030</td>\n",
       "      <td>0.13280</td>\n",
       "      <td>0.1980</td>\n",
       "      <td>0.10430</td>\n",
       "      <td>0.1809</td>\n",
       "      <td>...</td>\n",
       "      <td>22.54</td>\n",
       "      <td>16.67</td>\n",
       "      <td>152.20</td>\n",
       "      <td>1575.0</td>\n",
       "      <td>0.1374</td>\n",
       "      <td>0.2050</td>\n",
       "      <td>0.4000</td>\n",
       "      <td>0.1625</td>\n",
       "      <td>0.2364</td>\n",
       "      <td>0.07678</td>\n",
       "    </tr>\n",
       "  </tbody>\n",
       "</table>\n",
       "<p>5 rows × 31 columns</p>\n",
       "</div>"
      ],
      "text/plain": [
       "  Class     V1     V2      V3      V4       V5       V6      V7       V8  \\\n",
       "0     2  17.99  10.38  122.80  1001.0  0.11840  0.27760  0.3001  0.14710   \n",
       "1     2  20.57  17.77  132.90  1326.0  0.08474  0.07864  0.0869  0.07017   \n",
       "2     2  19.69  21.25  130.00  1203.0  0.10960  0.15990  0.1974  0.12790   \n",
       "3     2  11.42  20.38   77.58   386.1  0.14250  0.28390  0.2414  0.10520   \n",
       "4     2  20.29  14.34  135.10  1297.0  0.10030  0.13280  0.1980  0.10430   \n",
       "\n",
       "       V9  ...    V21    V22     V23     V24     V25     V26     V27     V28  \\\n",
       "0  0.2419  ...  25.38  17.33  184.60  2019.0  0.1622  0.6656  0.7119  0.2654   \n",
       "1  0.1812  ...  24.99  23.41  158.80  1956.0  0.1238  0.1866  0.2416  0.1860   \n",
       "2  0.2069  ...  23.57  25.53  152.50  1709.0  0.1444  0.4245  0.4504  0.2430   \n",
       "3  0.2597  ...  14.91  26.50   98.87   567.7  0.2098  0.8663  0.6869  0.2575   \n",
       "4  0.1809  ...  22.54  16.67  152.20  1575.0  0.1374  0.2050  0.4000  0.1625   \n",
       "\n",
       "      V29      V30  \n",
       "0  0.4601  0.11890  \n",
       "1  0.2750  0.08902  \n",
       "2  0.3613  0.08758  \n",
       "3  0.6638  0.17300  \n",
       "4  0.2364  0.07678  \n",
       "\n",
       "[5 rows x 31 columns]"
      ]
     },
     "execution_count": 4,
     "metadata": {},
     "output_type": "execute_result"
    }
   ],
   "source": [
    "data = fetch_openml(\"wdbc\", version=1)\n",
    "breast = pd.concat([data['target'], data['data']], axis=1).dropna()\n",
    "breast.head()"
   ]
  },
  {
   "cell_type": "markdown",
   "metadata": {
    "id": "DxaB0EZOuLas"
   },
   "source": [
    "# Regression"
   ]
  },
  {
   "cell_type": "markdown",
   "metadata": {
    "id": "-SuD_rn5oivl"
   },
   "source": [
    "## Preprocessing"
   ]
  },
  {
   "cell_type": "markdown",
   "metadata": {
    "id": "W6O9HZ97sGo1"
   },
   "source": [
    "**<font color='blue'>1. Create a validation set and a test set by using respectively 10% and 20% of the data.**\n",
    "\n",
    "*Tips: You can use the `train_test_split` function from sklearn.*"
   ]
  },
  {
   "cell_type": "code",
   "execution_count": 5,
   "metadata": {
    "id": "KbpxCiqTgHI5"
   },
   "outputs": [],
   "source": [
    "X = housing.iloc[:, 1:]\n",
    "y = housing.iloc[:, 0]\n",
    "\n",
    "#Split training set and the rest.\n",
    "X_train, X_test, y_train, y_test = train_test_split(X, y, train_size=0.7, random_state=42)\n",
    "\n",
    "#Split testing set and validation set.\n",
    "X_val, X_test, y_val, y_test = train_test_split(X_test, y_test, train_size=1/3, random_state=42)"
   ]
  },
  {
   "cell_type": "markdown",
   "metadata": {
    "id": "o3pi3TZGsiTe"
   },
   "source": [
    "In this exercise, the label is the **median_house_value**.\n",
    "\n",
    "**<font color='blue'>2. Separate the features and the label (for the train, validation and testing sets).**\n",
    "\n",
    "*Tips: You can use the `pop` function from pandas.*"
   ]
  },
  {
   "cell_type": "markdown",
   "metadata": {
    "id": "MXOpavi9qYpV"
   },
   "source": [
    "Deep learning algorithms **often require standardized data more than other algorithms** due to their reliance on complex neural network architectures. Here are some reasons:\n",
    "\n",
    "*   It ensures that the neural network is trained on consistent and comparable data. Each layer should receive input data in a consistent format in order to improve the overall performance.\n",
    "*   If the input features are not standardized, the differences in scale between features can result in the neural network assigning higher weights to some features and lower weights to others, which can result in poor performance.\n",
    "*   It helps to reduce the number of iterations required to optimize the neural network's weights, and can also help to prevent the optimizer from getting stuck in local minima.\n",
    "\n",
    "**<font color='blue'>3.a. Standardize the features.**\n",
    "\n",
    "*Tips: You can use the `StandardScaler` function from sklearn.*"
   ]
  },
  {
   "cell_type": "code",
   "execution_count": 6,
   "metadata": {},
   "outputs": [],
   "source": [
    "#Cat -> ohe; Num -> standardscaler"
   ]
  },
  {
   "cell_type": "code",
   "execution_count": 8,
   "metadata": {},
   "outputs": [],
   "source": [
    "num_col = X.select_dtypes(exclude='category').columns\n",
    "ct = ColumnTransformer([\n",
    "    ('num', StandardScaler(), num_col),\n",
    "    ('cat', OneHotEncoder(), ['ocean_proximity'])\n",
    "])\n",
    "\n",
    "\n",
    "X_train_f = ct.fit_transform(X_train)\n",
    "X_val_f = ct.transform(X_val)\n",
    "X_test_f = ct.transform(X_test)\n",
    "\n",
    "col_names = np.concatenate([num_col, ct.named_transformers_.cat.get_feature_names_out()], axis=0)\n",
    "\n",
    "X_train_f = pd.DataFrame(X_train_f, columns=col_names)\n",
    "X_val_f = pd.DataFrame(X_val_f, columns=col_names)\n",
    "X_test_f = pd.DataFrame(X_test_f, columns=col_names)\n",
    "\n"
   ]
  },
  {
   "cell_type": "markdown",
   "metadata": {
    "id": "fwNL3L8ouBAq"
   },
   "source": [
    "In deep learning regression, **standardizing the labels can be just as important as standardizing the input features** for the following reasons:\n",
    "\n",
    "\n",
    "*   **Gradient calculations**: The gradients used for optimizing the weights in a deep neural network are calculated based on the loss between the predicted and true labels. If the labels are not standardized, then the gradients will be calculated on a different scale. This can result in unstable gradient updates and slower convergence during training. \n",
    "*   **Activation functions**: The activation functions used in deep neural networks are designed to work best on inputs that are on a similar scale. If the labels are not standardized, then the activations can be biased towards some labels, which can result in lower accuracy. \n",
    "*   **Bias term**: A bias term is often included in the output layer of a deep neural network. If the labels are not standardized, then the bias term can become dominated by the largest values, leading to an imbalanced weighting of the inputs.\n",
    "\n",
    "**<font color='blue'>3.b. Standardize the labels.**\n",
    "\n",
    "*Tips: You can use the `StandardScaler` function from sklearn. Don't use the same as the one for the features.*"
   ]
  },
  {
   "cell_type": "code",
   "execution_count": 9,
   "metadata": {
    "id": "kyeG5JkqgIzD"
   },
   "outputs": [],
   "source": [
    "std_scaler_lab = StandardScaler()\n",
    "y_train_std = std_scaler_lab.fit_transform(y_train.to_numpy().reshape(-1, 1))\n",
    "y_val_std = std_scaler_lab.transform(y_val.to_numpy().reshape(-1, 1))\n",
    "y_test_std = std_scaler_lab.transform(y_test.to_numpy().reshape(-1, 1))"
   ]
  },
  {
   "cell_type": "markdown",
   "metadata": {
    "heading_collapsed": true,
    "id": "tBEbjl7sokJL"
   },
   "source": [
    "## Architecture"
   ]
  },
  {
   "cell_type": "markdown",
   "metadata": {
    "hidden": true,
    "id": "aMcRFuXKwOAE"
   },
   "source": [
    "**TensorFlow Keras** is a high-level API for building and training deep learning models in TensorFlow. TensorFlow Keras **provides a variety of pre-defined layers that can be used to build a neural network**, as well as the ability to create custom layers.\n",
    "\n",
    "The **Dense layer** in TensorFlow is a fully connected layer where each neuron is connected to every neuron in the previous layer. In other words, all input features are connected to all output features.\n",
    "\n",
    "It takes in a tensor as input and applies a linear transformation to produce an output tensor. This linear transformation is defined by a set of weights and biases that are learned during the training process.\n",
    "\n",
    "The Dense layer has many parameters.<br> In this exercise, we will only consider 3 of them:\n",
    "\n",
    "*   **units**: It specifies the number of neurons in the layer. It determines the dimensionality of the output space, i.e., the number of features in the output tensor. For example, if you set units to 10, the Dense layer will output a tensor with 10 features.\n",
    "\n",
    "*   **activation**: It specifies the activation function applied to the output of the layer. Activation functions introduce non-linearity to the model and are an essential component of deep neural networks. You can set this parameter to any activation function provided by TensorFlow, or you can create your own custom activation function. \n",
    "\n",
    "*   **use_bias**: It specifies whether to include a bias term in the layer or not. The bias term is an additional parameter that is added to the output of each neuron. It allows the model to learn an offset from zero, which can be useful for certain types of problems. By default, the use_bias parameter is set to True, but you can set it to False to exclude the bias term from the layer.\n",
    "\n",
    "You can create a Dense layer in TensorFlow using the tf.keras.layers.Dense class:\n",
    "\n",
    "\n",
    "```\n",
    "import tensorflow as tf\n",
    "dense = tf.keras.layers.Dense()\n",
    "```\n",
    "\n",
    "`tf.keras.layers.Dense` [Documentation](https://www.tensorflow.org/api_docs/python/tf/keras/layers/Dense)\n",
    "\n",
    "**<font color='blue'>1. Create a Dense layer that contains 8 neurons with a ReLU activation function and a bias using the Tensorflow Keras library.**"
   ]
  },
  {
   "cell_type": "code",
   "execution_count": 10,
   "metadata": {
    "hidden": true,
    "id": "Hb02bzVngJcC"
   },
   "outputs": [
    {
     "data": {
      "text/plain": [
       "<keras.layers.core.dense.Dense at 0x7fcac83a1910>"
      ]
     },
     "execution_count": 10,
     "metadata": {},
     "output_type": "execute_result"
    }
   ],
   "source": [
    "dense = tf.keras.layers.Dense(\n",
    "    units=8,\n",
    "    activation='relu',\n",
    "    use_bias=True\n",
    ")\n",
    "dense"
   ]
  },
  {
   "cell_type": "markdown",
   "metadata": {
    "hidden": true,
    "id": "2tUrQNHzynCU"
   },
   "source": [
    "Performing a forward pass on a TensorFlow Dense layer is straightforward. Given an input tensor, you can apply the Dense layer using the `call` method of the `tf.keras.layers.Dense` class. \n",
    "\n",
    "In python, when you write `dense(x)`, it is interpreted as a call to the `__call__()` method of the Layer class with x as an argument.\n",
    "\n",
    "```\n",
    "output = dense(x_train)\n",
    "```\n",
    "\n",
    "**<font color='blue'>2. Do the forward pass on this layer on the training features.**\n",
    "\n",
    "*Tips: The output of a Dense layer is always of shape (instances, number of neurons)* "
   ]
  },
  {
   "cell_type": "code",
   "execution_count": 12,
   "metadata": {
    "hidden": true
   },
   "outputs": [
    {
     "data": {
      "text/html": [
       "<div>\n",
       "<style scoped>\n",
       "    .dataframe tbody tr th:only-of-type {\n",
       "        vertical-align: middle;\n",
       "    }\n",
       "\n",
       "    .dataframe tbody tr th {\n",
       "        vertical-align: top;\n",
       "    }\n",
       "\n",
       "    .dataframe thead th {\n",
       "        text-align: right;\n",
       "    }\n",
       "</style>\n",
       "<table border=\"1\" class=\"dataframe\">\n",
       "  <thead>\n",
       "    <tr style=\"text-align: right;\">\n",
       "      <th></th>\n",
       "      <th>longitude</th>\n",
       "      <th>latitude</th>\n",
       "      <th>housing_median_age</th>\n",
       "      <th>total_rooms</th>\n",
       "      <th>total_bedrooms</th>\n",
       "      <th>population</th>\n",
       "      <th>households</th>\n",
       "      <th>median_income</th>\n",
       "      <th>ocean_proximity_&lt;1H OCEAN</th>\n",
       "      <th>ocean_proximity_INLAND</th>\n",
       "      <th>ocean_proximity_ISLAND</th>\n",
       "      <th>ocean_proximity_NEAR BAY</th>\n",
       "      <th>ocean_proximity_NEAR OCEAN</th>\n",
       "    </tr>\n",
       "  </thead>\n",
       "  <tbody>\n",
       "    <tr>\n",
       "      <th>0</th>\n",
       "      <td>-0.686846</td>\n",
       "      <td>0.920798</td>\n",
       "      <td>-0.445203</td>\n",
       "      <td>0.399304</td>\n",
       "      <td>0.834551</td>\n",
       "      <td>0.910535</td>\n",
       "      <td>0.835419</td>\n",
       "      <td>-1.015918</td>\n",
       "      <td>0.0</td>\n",
       "      <td>1.0</td>\n",
       "      <td>0.0</td>\n",
       "      <td>0.0</td>\n",
       "      <td>0.0</td>\n",
       "    </tr>\n",
       "    <tr>\n",
       "      <th>1</th>\n",
       "      <td>0.681149</td>\n",
       "      <td>-0.778899</td>\n",
       "      <td>0.428308</td>\n",
       "      <td>-0.186537</td>\n",
       "      <td>0.515742</td>\n",
       "      <td>1.358170</td>\n",
       "      <td>0.625219</td>\n",
       "      <td>-1.160854</td>\n",
       "      <td>1.0</td>\n",
       "      <td>0.0</td>\n",
       "      <td>0.0</td>\n",
       "      <td>0.0</td>\n",
       "      <td>0.0</td>\n",
       "    </tr>\n",
       "    <tr>\n",
       "      <th>2</th>\n",
       "      <td>-1.176128</td>\n",
       "      <td>0.766280</td>\n",
       "      <td>-0.127563</td>\n",
       "      <td>0.105463</td>\n",
       "      <td>-0.171840</td>\n",
       "      <td>-0.243890</td>\n",
       "      <td>-0.178795</td>\n",
       "      <td>0.632436</td>\n",
       "      <td>1.0</td>\n",
       "      <td>0.0</td>\n",
       "      <td>0.0</td>\n",
       "      <td>0.0</td>\n",
       "      <td>0.0</td>\n",
       "    </tr>\n",
       "    <tr>\n",
       "      <th>3</th>\n",
       "      <td>-1.161150</td>\n",
       "      <td>0.794374</td>\n",
       "      <td>0.507719</td>\n",
       "      <td>-0.203118</td>\n",
       "      <td>0.168382</td>\n",
       "      <td>-0.201134</td>\n",
       "      <td>0.168035</td>\n",
       "      <td>-0.564246</td>\n",
       "      <td>1.0</td>\n",
       "      <td>0.0</td>\n",
       "      <td>0.0</td>\n",
       "      <td>0.0</td>\n",
       "      <td>0.0</td>\n",
       "    </tr>\n",
       "    <tr>\n",
       "      <th>4</th>\n",
       "      <td>0.651193</td>\n",
       "      <td>-0.792946</td>\n",
       "      <td>0.984179</td>\n",
       "      <td>-0.826725</td>\n",
       "      <td>-0.780909</td>\n",
       "      <td>-0.625208</td>\n",
       "      <td>-0.804139</td>\n",
       "      <td>-1.296492</td>\n",
       "      <td>1.0</td>\n",
       "      <td>0.0</td>\n",
       "      <td>0.0</td>\n",
       "      <td>0.0</td>\n",
       "      <td>0.0</td>\n",
       "    </tr>\n",
       "    <tr>\n",
       "      <th>...</th>\n",
       "      <td>...</td>\n",
       "      <td>...</td>\n",
       "      <td>...</td>\n",
       "      <td>...</td>\n",
       "      <td>...</td>\n",
       "      <td>...</td>\n",
       "      <td>...</td>\n",
       "      <td>...</td>\n",
       "      <td>...</td>\n",
       "      <td>...</td>\n",
       "      <td>...</td>\n",
       "      <td>...</td>\n",
       "      <td>...</td>\n",
       "    </tr>\n",
       "    <tr>\n",
       "      <th>14298</th>\n",
       "      <td>0.805966</td>\n",
       "      <td>-0.900641</td>\n",
       "      <td>-0.365793</td>\n",
       "      <td>0.166257</td>\n",
       "      <td>-0.086190</td>\n",
       "      <td>0.011776</td>\n",
       "      <td>-0.118362</td>\n",
       "      <td>0.814407</td>\n",
       "      <td>1.0</td>\n",
       "      <td>0.0</td>\n",
       "      <td>0.0</td>\n",
       "      <td>0.0</td>\n",
       "      <td>0.0</td>\n",
       "    </tr>\n",
       "    <tr>\n",
       "      <th>14299</th>\n",
       "      <td>1.020651</td>\n",
       "      <td>-0.881911</td>\n",
       "      <td>-1.874586</td>\n",
       "      <td>1.481177</td>\n",
       "      <td>1.186669</td>\n",
       "      <td>1.600747</td>\n",
       "      <td>1.321506</td>\n",
       "      <td>0.482352</td>\n",
       "      <td>1.0</td>\n",
       "      <td>0.0</td>\n",
       "      <td>0.0</td>\n",
       "      <td>0.0</td>\n",
       "      <td>0.0</td>\n",
       "    </tr>\n",
       "    <tr>\n",
       "      <th>14300</th>\n",
       "      <td>0.581295</td>\n",
       "      <td>-0.764852</td>\n",
       "      <td>1.063590</td>\n",
       "      <td>-0.477155</td>\n",
       "      <td>-0.397862</td>\n",
       "      <td>-0.411426</td>\n",
       "      <td>-0.357465</td>\n",
       "      <td>-0.409382</td>\n",
       "      <td>1.0</td>\n",
       "      <td>0.0</td>\n",
       "      <td>0.0</td>\n",
       "      <td>0.0</td>\n",
       "      <td>0.0</td>\n",
       "    </tr>\n",
       "    <tr>\n",
       "      <th>14301</th>\n",
       "      <td>-1.226055</td>\n",
       "      <td>0.902069</td>\n",
       "      <td>-1.318715</td>\n",
       "      <td>1.422685</td>\n",
       "      <td>1.255665</td>\n",
       "      <td>1.756067</td>\n",
       "      <td>1.468646</td>\n",
       "      <td>0.740495</td>\n",
       "      <td>0.0</td>\n",
       "      <td>0.0</td>\n",
       "      <td>0.0</td>\n",
       "      <td>1.0</td>\n",
       "      <td>0.0</td>\n",
       "    </tr>\n",
       "    <tr>\n",
       "      <th>14302</th>\n",
       "      <td>-1.420770</td>\n",
       "      <td>0.976987</td>\n",
       "      <td>1.857691</td>\n",
       "      <td>0.447664</td>\n",
       "      <td>0.480054</td>\n",
       "      <td>0.738637</td>\n",
       "      <td>0.391372</td>\n",
       "      <td>0.007934</td>\n",
       "      <td>0.0</td>\n",
       "      <td>0.0</td>\n",
       "      <td>0.0</td>\n",
       "      <td>1.0</td>\n",
       "      <td>0.0</td>\n",
       "    </tr>\n",
       "  </tbody>\n",
       "</table>\n",
       "<p>14303 rows × 13 columns</p>\n",
       "</div>"
      ],
      "text/plain": [
       "       longitude  latitude  housing_median_age  total_rooms  total_bedrooms  \\\n",
       "0      -0.686846  0.920798           -0.445203     0.399304        0.834551   \n",
       "1       0.681149 -0.778899            0.428308    -0.186537        0.515742   \n",
       "2      -1.176128  0.766280           -0.127563     0.105463       -0.171840   \n",
       "3      -1.161150  0.794374            0.507719    -0.203118        0.168382   \n",
       "4       0.651193 -0.792946            0.984179    -0.826725       -0.780909   \n",
       "...          ...       ...                 ...          ...             ...   \n",
       "14298   0.805966 -0.900641           -0.365793     0.166257       -0.086190   \n",
       "14299   1.020651 -0.881911           -1.874586     1.481177        1.186669   \n",
       "14300   0.581295 -0.764852            1.063590    -0.477155       -0.397862   \n",
       "14301  -1.226055  0.902069           -1.318715     1.422685        1.255665   \n",
       "14302  -1.420770  0.976987            1.857691     0.447664        0.480054   \n",
       "\n",
       "       population  households  median_income  ocean_proximity_<1H OCEAN  \\\n",
       "0        0.910535    0.835419      -1.015918                        0.0   \n",
       "1        1.358170    0.625219      -1.160854                        1.0   \n",
       "2       -0.243890   -0.178795       0.632436                        1.0   \n",
       "3       -0.201134    0.168035      -0.564246                        1.0   \n",
       "4       -0.625208   -0.804139      -1.296492                        1.0   \n",
       "...           ...         ...            ...                        ...   \n",
       "14298    0.011776   -0.118362       0.814407                        1.0   \n",
       "14299    1.600747    1.321506       0.482352                        1.0   \n",
       "14300   -0.411426   -0.357465      -0.409382                        1.0   \n",
       "14301    1.756067    1.468646       0.740495                        0.0   \n",
       "14302    0.738637    0.391372       0.007934                        0.0   \n",
       "\n",
       "       ocean_proximity_INLAND  ocean_proximity_ISLAND  \\\n",
       "0                         1.0                     0.0   \n",
       "1                         0.0                     0.0   \n",
       "2                         0.0                     0.0   \n",
       "3                         0.0                     0.0   \n",
       "4                         0.0                     0.0   \n",
       "...                       ...                     ...   \n",
       "14298                     0.0                     0.0   \n",
       "14299                     0.0                     0.0   \n",
       "14300                     0.0                     0.0   \n",
       "14301                     0.0                     0.0   \n",
       "14302                     0.0                     0.0   \n",
       "\n",
       "       ocean_proximity_NEAR BAY  ocean_proximity_NEAR OCEAN  \n",
       "0                           0.0                         0.0  \n",
       "1                           0.0                         0.0  \n",
       "2                           0.0                         0.0  \n",
       "3                           0.0                         0.0  \n",
       "4                           0.0                         0.0  \n",
       "...                         ...                         ...  \n",
       "14298                       0.0                         0.0  \n",
       "14299                       0.0                         0.0  \n",
       "14300                       0.0                         0.0  \n",
       "14301                       1.0                         0.0  \n",
       "14302                       1.0                         0.0  \n",
       "\n",
       "[14303 rows x 13 columns]"
      ]
     },
     "execution_count": 12,
     "metadata": {},
     "output_type": "execute_result"
    }
   ],
   "source": [
    "X_train_f"
   ]
  },
  {
   "cell_type": "code",
   "execution_count": 14,
   "metadata": {
    "hidden": true,
    "id": "3VVVVPoXgJ8v",
    "scrolled": true
   },
   "outputs": [
    {
     "data": {
      "text/html": [
       "<div>\n",
       "<style scoped>\n",
       "    .dataframe tbody tr th:only-of-type {\n",
       "        vertical-align: middle;\n",
       "    }\n",
       "\n",
       "    .dataframe tbody tr th {\n",
       "        vertical-align: top;\n",
       "    }\n",
       "\n",
       "    .dataframe thead th {\n",
       "        text-align: right;\n",
       "    }\n",
       "</style>\n",
       "<table border=\"1\" class=\"dataframe\">\n",
       "  <thead>\n",
       "    <tr style=\"text-align: right;\">\n",
       "      <th></th>\n",
       "      <th>0</th>\n",
       "      <th>1</th>\n",
       "      <th>2</th>\n",
       "      <th>3</th>\n",
       "      <th>4</th>\n",
       "      <th>5</th>\n",
       "      <th>6</th>\n",
       "      <th>7</th>\n",
       "    </tr>\n",
       "  </thead>\n",
       "  <tbody>\n",
       "    <tr>\n",
       "      <th>0</th>\n",
       "      <td>0.473284</td>\n",
       "      <td>0.153665</td>\n",
       "      <td>0.207528</td>\n",
       "      <td>0.000000</td>\n",
       "      <td>0.000000</td>\n",
       "      <td>0.000000</td>\n",
       "      <td>0.000000</td>\n",
       "      <td>0.038546</td>\n",
       "    </tr>\n",
       "    <tr>\n",
       "      <th>1</th>\n",
       "      <td>0.595494</td>\n",
       "      <td>0.000000</td>\n",
       "      <td>0.000000</td>\n",
       "      <td>0.376447</td>\n",
       "      <td>0.000000</td>\n",
       "      <td>0.000000</td>\n",
       "      <td>0.000000</td>\n",
       "      <td>0.000000</td>\n",
       "    </tr>\n",
       "    <tr>\n",
       "      <th>2</th>\n",
       "      <td>0.313460</td>\n",
       "      <td>0.367005</td>\n",
       "      <td>0.000000</td>\n",
       "      <td>0.060038</td>\n",
       "      <td>0.215560</td>\n",
       "      <td>0.000000</td>\n",
       "      <td>0.000000</td>\n",
       "      <td>0.000000</td>\n",
       "    </tr>\n",
       "    <tr>\n",
       "      <th>3</th>\n",
       "      <td>0.871335</td>\n",
       "      <td>0.603557</td>\n",
       "      <td>0.241983</td>\n",
       "      <td>0.250010</td>\n",
       "      <td>0.000000</td>\n",
       "      <td>0.000000</td>\n",
       "      <td>0.000000</td>\n",
       "      <td>0.000000</td>\n",
       "    </tr>\n",
       "    <tr>\n",
       "      <th>4</th>\n",
       "      <td>1.160851</td>\n",
       "      <td>0.665425</td>\n",
       "      <td>0.111505</td>\n",
       "      <td>0.488181</td>\n",
       "      <td>0.000000</td>\n",
       "      <td>0.000000</td>\n",
       "      <td>0.306279</td>\n",
       "      <td>0.598154</td>\n",
       "    </tr>\n",
       "    <tr>\n",
       "      <th>...</th>\n",
       "      <td>...</td>\n",
       "      <td>...</td>\n",
       "      <td>...</td>\n",
       "      <td>...</td>\n",
       "      <td>...</td>\n",
       "      <td>...</td>\n",
       "      <td>...</td>\n",
       "      <td>...</td>\n",
       "    </tr>\n",
       "    <tr>\n",
       "      <th>14298</th>\n",
       "      <td>0.000000</td>\n",
       "      <td>0.000000</td>\n",
       "      <td>0.000000</td>\n",
       "      <td>0.104566</td>\n",
       "      <td>0.000000</td>\n",
       "      <td>0.346647</td>\n",
       "      <td>0.489419</td>\n",
       "      <td>0.000000</td>\n",
       "    </tr>\n",
       "    <tr>\n",
       "      <th>14299</th>\n",
       "      <td>0.000000</td>\n",
       "      <td>0.000000</td>\n",
       "      <td>0.000000</td>\n",
       "      <td>0.000000</td>\n",
       "      <td>0.000000</td>\n",
       "      <td>0.201133</td>\n",
       "      <td>0.000000</td>\n",
       "      <td>0.000000</td>\n",
       "    </tr>\n",
       "    <tr>\n",
       "      <th>14300</th>\n",
       "      <td>0.807860</td>\n",
       "      <td>0.295246</td>\n",
       "      <td>0.169820</td>\n",
       "      <td>0.464529</td>\n",
       "      <td>0.000000</td>\n",
       "      <td>0.000000</td>\n",
       "      <td>0.497747</td>\n",
       "      <td>0.000000</td>\n",
       "    </tr>\n",
       "    <tr>\n",
       "      <th>14301</th>\n",
       "      <td>0.000000</td>\n",
       "      <td>0.000000</td>\n",
       "      <td>0.000000</td>\n",
       "      <td>0.000000</td>\n",
       "      <td>0.847333</td>\n",
       "      <td>0.000000</td>\n",
       "      <td>0.000000</td>\n",
       "      <td>0.000000</td>\n",
       "    </tr>\n",
       "    <tr>\n",
       "      <th>14302</th>\n",
       "      <td>0.424052</td>\n",
       "      <td>0.498879</td>\n",
       "      <td>0.668863</td>\n",
       "      <td>0.307943</td>\n",
       "      <td>0.000000</td>\n",
       "      <td>0.361271</td>\n",
       "      <td>0.000000</td>\n",
       "      <td>0.000000</td>\n",
       "    </tr>\n",
       "  </tbody>\n",
       "</table>\n",
       "<p>14303 rows × 8 columns</p>\n",
       "</div>"
      ],
      "text/plain": [
       "              0         1         2         3         4         5         6  \\\n",
       "0      0.473284  0.153665  0.207528  0.000000  0.000000  0.000000  0.000000   \n",
       "1      0.595494  0.000000  0.000000  0.376447  0.000000  0.000000  0.000000   \n",
       "2      0.313460  0.367005  0.000000  0.060038  0.215560  0.000000  0.000000   \n",
       "3      0.871335  0.603557  0.241983  0.250010  0.000000  0.000000  0.000000   \n",
       "4      1.160851  0.665425  0.111505  0.488181  0.000000  0.000000  0.306279   \n",
       "...         ...       ...       ...       ...       ...       ...       ...   \n",
       "14298  0.000000  0.000000  0.000000  0.104566  0.000000  0.346647  0.489419   \n",
       "14299  0.000000  0.000000  0.000000  0.000000  0.000000  0.201133  0.000000   \n",
       "14300  0.807860  0.295246  0.169820  0.464529  0.000000  0.000000  0.497747   \n",
       "14301  0.000000  0.000000  0.000000  0.000000  0.847333  0.000000  0.000000   \n",
       "14302  0.424052  0.498879  0.668863  0.307943  0.000000  0.361271  0.000000   \n",
       "\n",
       "              7  \n",
       "0      0.038546  \n",
       "1      0.000000  \n",
       "2      0.000000  \n",
       "3      0.000000  \n",
       "4      0.598154  \n",
       "...         ...  \n",
       "14298  0.000000  \n",
       "14299  0.000000  \n",
       "14300  0.000000  \n",
       "14301  0.000000  \n",
       "14302  0.000000  \n",
       "\n",
       "[14303 rows x 8 columns]"
      ]
     },
     "execution_count": 14,
     "metadata": {},
     "output_type": "execute_result"
    }
   ],
   "source": [
    "output = dense(X_train_f.to_numpy())\n",
    "pd.DataFrame(output)"
   ]
  },
  {
   "cell_type": "markdown",
   "metadata": {
    "hidden": true,
    "id": "P_uUVHWC0OZm"
   },
   "source": [
    "It is possible to **stack multiple layers** by passing the output of the previous layer to the next.\n",
    "\n",
    "**<font color='blue'>3. Create a second dense layer, with one neuron, a linear activation function and a bias.<br> This type of configuration is  typical of an output layer for a regression task.** "
   ]
  },
  {
   "cell_type": "code",
   "execution_count": 15,
   "metadata": {
    "hidden": true,
    "id": "SailRMZzgKa4"
   },
   "outputs": [
    {
     "data": {
      "text/plain": [
       "<tf.Tensor: shape=(14303, 1), dtype=float32, numpy=\n",
       "array([[0.32891828],\n",
       "       [0.3629131 ],\n",
       "       [0.14735949],\n",
       "       ...,\n",
       "       [0.71577084],\n",
       "       [0.16548806],\n",
       "       [0.08415061]], dtype=float32)>"
      ]
     },
     "execution_count": 15,
     "metadata": {},
     "output_type": "execute_result"
    }
   ],
   "source": [
    "dense2 = tf.keras.layers.Dense(units=1, activation='linear', use_bias=True)\n",
    "output = dense2(output)\n",
    "output"
   ]
  },
  {
   "cell_type": "markdown",
   "metadata": {
    "hidden": true,
    "id": "lI1oQ8cY1g5T"
   },
   "source": [
    "In TensorFlow Keras, **a model is a way of organizing layers into a complete graph of computations that transform input data into output predictions**. The `tf.keras.Model` class provides a high-level API for defining and training deep learning models in TensorFlow.\n",
    "\n",
    "***A `tf.keras.Model` is constructed by defining the input and output layers, and any hidden layers that are necessary.*** The input and output layers define the shape of the input data and the shape of the predicted output data, respectively. The hidden layers can be added as necessary to transform the data in the desired way.\n",
    "\n",
    "**The input layer can be defined using the `tf.keras.Input` class.**<br> The only mandatory parameter is the shape of the inputs (the number of features).<br> For a dataset with 15 features, the input layer of the model can be written as:\n",
    "\n",
    "```\n",
    "input_layer = tf.keras.Input(shape=(15,))\n",
    "```\n",
    "\n",
    "`tf.keras.Model` [*Documentation*](https://www.tensorflow.org/api_docs/python/tf/keras/Model)<br>\n",
    "`tf.keras.Input` [*Documentation*](https://www.tensorflow.org/api_docs/python/tf/keras/Input)\n",
    "\n",
    "**<font color='blue'>4.a. Create an input layer with the correct shape (housing dataset).**"
   ]
  },
  {
   "cell_type": "code",
   "execution_count": 16,
   "metadata": {
    "hidden": true,
    "id": "0iovyc0cgLEU"
   },
   "outputs": [],
   "source": [
    "input_layer = tf.keras.Input(shape=(13,))"
   ]
  },
  {
   "cell_type": "markdown",
   "metadata": {
    "hidden": true,
    "id": "fUTdh2Zr3mJx"
   },
   "source": [
    "In TensorFlow, you can chain layers together using a **functional model**. In a functional model, you define the input layer(s) and output layer(s), and then create a \"graph\" of layers that connect the input to the output. **Each layer in the graph takes the output of the previous layer as its input**, and produces an output that can be used as the input to the next layer.\n",
    "\n",
    "\n",
    "```\n",
    "output_1 = tf.keras.layers.Dense(...)(input)\n",
    "output_2 = tf.keras.layers.Dense(...)(output_1)\n",
    "output_3 = tf.keras.layers.Dense(...)(output_2)\n",
    "...\n",
    "```\n",
    "\n",
    "\n",
    "**<font color='blue'>4.b. Create one hidden layer with the tf.keras.Dense class with 8 neurons, a ReLU activation function and a bias.<br> This layer should take the output of the input_layer as input.**"
   ]
  },
  {
   "cell_type": "code",
   "execution_count": 17,
   "metadata": {
    "hidden": true,
    "id": "kjVyq8j6gLlq"
   },
   "outputs": [],
   "source": [
    "output_1 = tf.keras.layers.Dense(units=8, activation='relu', use_bias=True)(input_layer)"
   ]
  },
  {
   "cell_type": "markdown",
   "metadata": {
    "hidden": true,
    "id": "G2vhAUQJ4s-V"
   },
   "source": [
    "**<font color='blue'>4.c. Finally, create one output layer with the tf.keras.Dense class with 1 neurons, a linear activation function and a bias.<br> This layer should take the output of the hidden layer as input..**"
   ]
  },
  {
   "cell_type": "code",
   "execution_count": 18,
   "metadata": {
    "hidden": true,
    "id": "P7WVUlzHgL8h"
   },
   "outputs": [],
   "source": [
    "output = tf.keras.layers.Dense(units=1, activation='linear', use_bias=True)(output_1)"
   ]
  },
  {
   "cell_type": "markdown",
   "metadata": {
    "hidden": true,
    "id": "kz8_5j8X49rZ"
   },
   "source": [
    "**The `tf.keras.Model` class accepts three parameters: inputs, outputs and name.** <br>To create a Tensorflow Keras model, you need to specify the input layers in the inputs parameter and the output layers in the outputs parameter.\n",
    "\n",
    "```\n",
    "model = tf.keras.Model(inputs=..., outputs=...)\n",
    "```\n",
    "\n",
    "\n",
    "**<font color='blue'>5. Create the model using the tf.keras.Model class and the layers created at question 4.**"
   ]
  },
  {
   "cell_type": "code",
   "execution_count": 19,
   "metadata": {
    "hidden": true,
    "id": "4D9vdaXSgMid"
   },
   "outputs": [],
   "source": [
    "model1 = tf.keras.Model(inputs=input_layer, outputs=output, name='model1')"
   ]
  },
  {
   "cell_type": "markdown",
   "metadata": {
    "hidden": true,
    "id": "9yL5V0ET90Rn"
   },
   "source": [
    "You can check the model architecture using:\n",
    "\n",
    "\n",
    "*   the `summary()` method which is a convenient way to get a high-level architecture of the structure of the deep neural network model. \n",
    "*   the `plot_model()` function from `tf.keras.utils` that can be used to visualize the structure of a Keras model. It generates a diagram of the model architecture, which can be saved to a file or displayed on the screen. This function is particularly useful for visualizing complex models with multiple inputs or outputs, or models with branching or merging layers.\n",
    "\n",
    "```\n",
    "model.summary()\n",
    "tf.keras.utils.plot_model(model)\n",
    "```\n",
    "\n",
    "`summary()` [Documentation](https://www.tensorflow.org/api_docs/python/tf/keras/Model#summary)<br>\n",
    "`tf.keras.utils.plot_model()` [Documentation](https://www.tensorflow.org/api_docs/python/tf/keras/utils/plot_model)\n",
    "\n",
    "\n",
    "\n",
    "**<font color='blue'>6.a. Use the `summary()` method on your model.<br>Pay attention to the different elements of the output.**"
   ]
  },
  {
   "cell_type": "code",
   "execution_count": 20,
   "metadata": {
    "hidden": true,
    "id": "y3p3XcG0gNDM"
   },
   "outputs": [
    {
     "name": "stdout",
     "output_type": "stream",
     "text": [
      "Model: \"model1\"\n",
      "_________________________________________________________________\n",
      " Layer (type)                Output Shape              Param #   \n",
      "=================================================================\n",
      " input_1 (InputLayer)        [(None, 13)]              0         \n",
      "                                                                 \n",
      " dense_2 (Dense)             (None, 8)                 112       \n",
      "                                                                 \n",
      " dense_3 (Dense)             (None, 1)                 9         \n",
      "                                                                 \n",
      "=================================================================\n",
      "Total params: 121\n",
      "Trainable params: 121\n",
      "Non-trainable params: 0\n",
      "_________________________________________________________________\n"
     ]
    }
   ],
   "source": [
    "model1.summary()"
   ]
  },
  {
   "cell_type": "markdown",
   "metadata": {
    "hidden": true,
    "id": "RCLURnDI-zpr"
   },
   "source": [
    "**<font color='blue'>6.b. Use the `plot_model()` function on your model.**"
   ]
  },
  {
   "cell_type": "code",
   "execution_count": 21,
   "metadata": {
    "hidden": true,
    "id": "eQp73fkBgNcV",
    "scrolled": false
   },
   "outputs": [
    {
     "data": {
      "image/png": "[encoded data removed]",
      "text/plain": [
       "<IPython.core.display.Image object>"
      ]
     },
     "execution_count": 21,
     "metadata": {},
     "output_type": "execute_result"
    }
   ],
   "source": [
    "tf.keras.utils.plot_model(model1)"
   ]
  },
  {
   "cell_type": "markdown",
   "metadata": {
    "heading_collapsed": true,
    "id": "54b_U0NBomYL"
   },
   "source": [
    "## Training"
   ]
  },
  {
   "cell_type": "markdown",
   "metadata": {
    "hidden": true,
    "id": "Dd4ablpW_2Y-"
   },
   "source": [
    "Before starting the training, we need to specify the loss function, Gradient Descent the algorithm we want to use and the metrics.\n",
    "\n",
    "The `compile()` method is a function in TensorFlow that is used to configure the learning process of a model by specifying the loss, the metrics and the optimizer. It is typically called after a model has been defined, but before it has been trained on any data.\n",
    "\n",
    "The `compile()` method allows you to specify the following important parameters:\n",
    "\n",
    "*   **optimizer**: The optimizer is the algorithm that is used to update the weights of the neural network during training. Some common optimizers include stochastic gradient descent (SGD), Adam, and Adagrad. Tensorflow keras already has builtin losses that you can find in the `tf.keras.optimizers` class.\n",
    "\n",
    "*   **loss**: The loss function is a metric that is used to measure the difference between the predicted output of the model and the true output. The loss function is used by the optimizer to adjust the weights of the neural network to minimize the difference between the predicted and true output. Some common loss functions include mean squared error, categorical cross-entropy, and binary cross-entropy. Tensorflow keras already has builtin losses that you can find in the `tf.keras.losses` class.\n",
    "\n",
    "*   **metrics**: Metrics are used to measure the performance of the model during training and testing. Some common metrics include accuracy, precision, recall, and F1 score. Tensorflow keras already has builtin losses that you can find in the `tf.keras.metrics` class.\n",
    "\n",
    "```\n",
    "model.compile(loss=...,\n",
    "              optimizer=...,\n",
    "              metrics=[...])\n",
    "```\n",
    "\n",
    "In this exercise, we will use the **MSE loss** ([Documentation](https://www.tensorflow.org/api_docs/python/tf/keras/losses/MeanSquaredError)) and the **SGD optimizer** ([Documentation](https://www.tensorflow.org/api_docs/python/tf/keras/optimizers/experimental/SGD)) with a **learning rate of 0.01**.<br> You can add the `learning_rate` parameter directly inside the SGD optimizer.\n",
    "\n",
    "`compile()` [Documentation](https://www.tensorflow.org/api_docs/python/tf/keras/Model#compile)\n",
    "\n",
    "\n",
    "**<font color='blue'>1. Provide the model with its loss and its optimizer using the `compile()` method.**"
   ]
  },
  {
   "cell_type": "code",
   "execution_count": 22,
   "metadata": {
    "hidden": true,
    "id": "TCxPTLBTgOOw"
   },
   "outputs": [],
   "source": [
    "model1.compile(loss=tf.keras.losses.MeanSquaredError(),\n",
    "             optimizer=tf.keras.optimizers.experimental.SGD(learning_rate=0.01))"
   ]
  },
  {
   "cell_type": "markdown",
   "metadata": {
    "hidden": true,
    "id": "D98oWHjPENZh"
   },
   "source": [
    "Now, you are ready to train the model.\n",
    "\n",
    "The `fit()` method is a function in TensorFlow that is used to train a neural network model on a given dataset. It is typically called after the model has been defined and compiled, and it is used to optimize the weights of the model so that it can make accurate predictions on new data.\n",
    "\n",
    "The `fit()` method allows you to specify the following important parameters:\n",
    "\n",
    "* **x**: The input data to train the model on. This can be a Numpy array or a TensorFlow Dataset.\n",
    "\n",
    "* **y**: The target labels for the input data. This can also be a Numpy array or a TensorFlow Dataset.\n",
    "\n",
    "* **batch_size**: The number of samples that are used in each iteration of training. This can be an integer or None.\n",
    "\n",
    "* **epochs**: The number of times to iterate over the entire dataset. This can be an integer or None.\n",
    "\n",
    "* **validation_data**: The validation data to use during training. This can be a tuple of x_val and y_val, or a TensorFlow Dataset.\n",
    "\n",
    "* **callbacks**: A list of callback functions to use during training. This can include functions to save the weights of the model, or to stop training early if the performance of the model stops improving.\n",
    "\n",
    "The `fit()` method returns a **History object** that contains information about the training history of the model, such as the loss and accuracy metrics on the training and validation data at each epoch. You can use this information to monitor the performance of the model during training and make decisions about when to stop training or adjust the model parameters.\n",
    "\n",
    "```\n",
    "history = model.fit(x=...,\n",
    "                    y=...,\n",
    "                    batch_size=...,\n",
    "                    epochs=...,\n",
    "                    validation_data=(x_val, y_val),\n",
    "                    callbacks=[...])\n",
    "```\n",
    "\n",
    "\n",
    "`fit()` [Documentation](https://www.tensorflow.org/api_docs/python/tf/keras/Model#fit)\n",
    "\n",
    "**<font color='blue'>2. Train the model with batch_size=32 and epochs=25.<br> Store the result of the `fit()` method in a variable.**\n",
    "\n",
    "*Tips: Don't forget to fill the `validation_data` parameter with the validation set.*"
   ]
  },
  {
   "cell_type": "code",
   "execution_count": 23,
   "metadata": {
    "hidden": true,
    "id": "yJPPm9uUgOzV"
   },
   "outputs": [
    {
     "name": "stdout",
     "output_type": "stream",
     "text": [
      "Epoch 1/25\n",
      "447/447 [==============================] - 1s 1ms/step - loss: 0.5241 - val_loss: 0.3719\n",
      "Epoch 2/25\n",
      "447/447 [==============================] - 0s 756us/step - loss: 0.3811 - val_loss: 0.3456\n",
      "Epoch 3/25\n",
      "447/447 [==============================] - 0s 747us/step - loss: 0.3593 - val_loss: 0.3279\n",
      "Epoch 4/25\n",
      "447/447 [==============================] - 0s 743us/step - loss: 0.3465 - val_loss: 0.3202\n",
      "Epoch 5/25\n",
      "447/447 [==============================] - 0s 757us/step - loss: 0.3364 - val_loss: 0.3123\n",
      "Epoch 6/25\n",
      "447/447 [==============================] - 0s 763us/step - loss: 0.3273 - val_loss: 0.3106\n",
      "Epoch 7/25\n",
      "447/447 [==============================] - 0s 756us/step - loss: 0.3193 - val_loss: 0.3009\n",
      "Epoch 8/25\n",
      "447/447 [==============================] - 0s 764us/step - loss: 0.3125 - val_loss: 0.2955\n",
      "Epoch 9/25\n",
      "447/447 [==============================] - 0s 764us/step - loss: 0.3072 - val_loss: 0.2896\n",
      "Epoch 10/25\n",
      "447/447 [==============================] - 0s 764us/step - loss: 0.3029 - val_loss: 0.2857\n",
      "Epoch 11/25\n",
      "447/447 [==============================] - 0s 760us/step - loss: 0.2992 - val_loss: 0.2834\n",
      "Epoch 12/25\n",
      "447/447 [==============================] - 0s 757us/step - loss: 0.2966 - val_loss: 0.2811\n",
      "Epoch 13/25\n",
      "447/447 [==============================] - 0s 742us/step - loss: 0.2941 - val_loss: 0.2808\n",
      "Epoch 14/25\n",
      "447/447 [==============================] - 0s 759us/step - loss: 0.2921 - val_loss: 0.2771\n",
      "Epoch 15/25\n",
      "447/447 [==============================] - 0s 742us/step - loss: 0.2904 - val_loss: 0.2767\n",
      "Epoch 16/25\n",
      "447/447 [==============================] - 0s 741us/step - loss: 0.2891 - val_loss: 0.2773\n",
      "Epoch 17/25\n",
      "447/447 [==============================] - 0s 754us/step - loss: 0.2874 - val_loss: 0.2793\n",
      "Epoch 18/25\n",
      "447/447 [==============================] - 0s 750us/step - loss: 0.2865 - val_loss: 0.2754\n",
      "Epoch 19/25\n",
      "447/447 [==============================] - 0s 747us/step - loss: 0.2858 - val_loss: 0.2774\n",
      "Epoch 20/25\n",
      "447/447 [==============================] - 0s 748us/step - loss: 0.2849 - val_loss: 0.2731\n",
      "Epoch 21/25\n",
      "447/447 [==============================] - 0s 756us/step - loss: 0.2831 - val_loss: 0.2756\n",
      "Epoch 22/25\n",
      "447/447 [==============================] - 0s 814us/step - loss: 0.2828 - val_loss: 0.2724\n",
      "Epoch 23/25\n",
      "447/447 [==============================] - 0s 964us/step - loss: 0.2821 - val_loss: 0.2736\n",
      "Epoch 24/25\n",
      "447/447 [==============================] - 0s 830us/step - loss: 0.2811 - val_loss: 0.2706\n",
      "Epoch 25/25\n",
      "447/447 [==============================] - 0s 752us/step - loss: 0.2802 - val_loss: 0.2697\n"
     ]
    }
   ],
   "source": [
    "history = model1.fit(x=X_train_f,\n",
    "                    y=y_train_std,\n",
    "                    batch_size=32,\n",
    "                    epochs=25,\n",
    "                    validation_data=(X_val_f, y_val_std),\n",
    "                    callbacks=None)"
   ]
  },
  {
   "cell_type": "markdown",
   "metadata": {
    "hidden": true,
    "id": "SQ3zRODpGGq-"
   },
   "source": [
    "It is important to look at the **learning curves** (*the training and the validation loss curves*) after the training step.\n",
    "\n",
    "The `fit()` method in TensorFlow **returns a dictionary that contains the training and validation metrics (including the loss) for the model**. The keys of the dictionary correspond to the names of the metrics that were monitored during training, and the values are lists that contain the metric values at each epoch. When no metrics is provided to the model, the dictionary contains at least the loss of the model:\n",
    "\n",
    "* **loss**: The training loss for each epoch.\n",
    "\n",
    "* **val_loss**: The validation loss for each epoch.\n",
    "\n",
    "```\n",
    "history = model.fit(...)\n",
    "metrics_dict = history.history\n",
    "```\n",
    "\n",
    "\n",
    "\n",
    "**<font color='blue'>3. Get the training and the validation losses and display them on a line graph using Matplotlib.**"
   ]
  },
  {
   "cell_type": "code",
   "execution_count": 24,
   "metadata": {
    "hidden": true,
    "id": "KH_zjylhgPQi"
   },
   "outputs": [],
   "source": [
    "model1.compile(loss=tf.keras.losses.MeanSquaredError(),\n",
    "             optimizer=tf.keras.optimizers.experimental.SGD(learning_rate=0.01))\n",
    "\n",
    "metrics_dict = history.history"
   ]
  },
  {
   "cell_type": "code",
   "execution_count": 25,
   "metadata": {
    "hidden": true
   },
   "outputs": [],
   "source": [
    "epoch = range(25)"
   ]
  },
  {
   "cell_type": "code",
   "execution_count": 26,
   "metadata": {
    "hidden": true
   },
   "outputs": [
    {
     "data": {
      "image/png": "[encoded data removed]",
      "text/plain": [
       "<Figure size 1080x576 with 1 Axes>"
      ]
     },
     "metadata": {
      "needs_background": "light"
     },
     "output_type": "display_data"
    }
   ],
   "source": [
    "figs, ax = plt.subplots(figsize=(15,8))\n",
    "\n",
    "\n",
    "ax.plot(epoch, metrics_dict['loss'], label='Loss')\n",
    "ax.plot(epoch, metrics_dict['val_loss'], label='Val Loss')\n",
    "ax.set_xlabel('Epoch', fontsize=15)\n",
    "ax.set_ylabel('Loss', fontsize=15)\n",
    "ax.tick_params(labelsize=15)\n",
    "plt.legend(fontsize=15)\n",
    "plt.show()\n"
   ]
  },
  {
   "cell_type": "markdown",
   "metadata": {
    "heading_collapsed": true,
    "id": "ghxiF9z5oncv"
   },
   "source": [
    "## Prediction"
   ]
  },
  {
   "cell_type": "markdown",
   "metadata": {
    "hidden": true,
    "id": "RiL_ypn9HrKW"
   },
   "source": [
    "**The `evaluate()` and `predict()` methods are functions in TensorFlow that are used to test a trained neural network model on new data**. These methods can be called after the model has been trained using the `fit()` method.\n",
    "\n",
    "The `evaluate()` method is used to evaluate the performance of the model on a test dataset. It takes as input the test data and returns the loss and metrics for the model. It allows you to evaluate the performance of the model on data that it has not seen during training.\n",
    "\n",
    "```\n",
    "# It takes both the features and the labels\n",
    "model.evaluate(x=..., y=...)\n",
    "```\n",
    "\n",
    "`evaluate()` [Documentation](https://www.tensorflow.org/api_docs/python/tf/keras/Model#evaluate)\n",
    "\n",
    "**<font color='blue'>1.a. Use the `evaluate()` method to evalate the performances of the model on the test set.**"
   ]
  },
  {
   "cell_type": "code",
   "execution_count": 27,
   "metadata": {
    "hidden": true,
    "id": "L26MIWS2gPyh"
   },
   "outputs": [
    {
     "name": "stdout",
     "output_type": "stream",
     "text": [
      "128/128 [==============================] - 0s 636us/step - loss: 0.2834\n"
     ]
    },
    {
     "data": {
      "text/plain": [
       "0.28344297409057617"
      ]
     },
     "execution_count": 27,
     "metadata": {},
     "output_type": "execute_result"
    }
   ],
   "source": [
    "model1.evaluate(x=X_test_f,\n",
    "               y=y_test_std)"
   ]
  },
  {
   "cell_type": "markdown",
   "metadata": {
    "hidden": true,
    "id": "v9Jc6cQEIcsJ"
   },
   "source": [
    "The `predict()` method is used to generate predictions from the trained model on new data. It takes as input the test data and returns the predicted output of the model. It allows you to use the trained model to make predictions on new data.\n",
    "\n",
    "```\n",
    "# It only takes the features\n",
    "model.predict(x=...)\n",
    "```\n",
    "\n",
    "`predict()` [Documentation](https://www.tensorflow.org/api_docs/python/tf/keras/Model#predict)\n",
    "\n",
    "**<font color='blue'>1.b. Use the `predict()` method to evaluate the performances of the model on the test set.**"
   ]
  },
  {
   "cell_type": "code",
   "execution_count": 28,
   "metadata": {
    "hidden": true,
    "id": "Z-jdDwZ6gQeo",
    "scrolled": true
   },
   "outputs": [
    {
     "name": "stdout",
     "output_type": "stream",
     "text": [
      "128/128 [==============================] - 0s 545us/step\n"
     ]
    }
   ],
   "source": [
    "pred = model1.predict(x=X_test_f)"
   ]
  },
  {
   "cell_type": "markdown",
   "metadata": {
    "hidden": true,
    "id": "LIT_7CmMI36U"
   },
   "source": [
    "The predictions are in the standardized format.\n",
    "\n",
    "**<font color='blue'>2.a. Apply the inverse preprocessing transformation on the predictions.**\n",
    "\n",
    "*Tips: The sklearn preprocessing functions provide an `inverse_transform` method.*"
   ]
  },
  {
   "cell_type": "code",
   "execution_count": 29,
   "metadata": {
    "hidden": true,
    "id": "94l2UK6VgQ1L"
   },
   "outputs": [],
   "source": [
    "pred_f = std_scaler_lab.inverse_transform(pred)"
   ]
  },
  {
   "cell_type": "markdown",
   "metadata": {
    "hidden": true,
    "id": "QTV6Fa0pJwby"
   },
   "source": [
    "**<font color='blue'>2.b. Compute the RMSE score.**\n",
    "\n",
    "*Tips: You can get the RMSE function from the sklearn library.*"
   ]
  },
  {
   "cell_type": "code",
   "execution_count": 30,
   "metadata": {
    "hidden": true,
    "id": "y_RO92tXgRPj"
   },
   "outputs": [
    {
     "data": {
      "text/plain": [
       "61448.2391314779"
      ]
     },
     "execution_count": 30,
     "metadata": {},
     "output_type": "execute_result"
    }
   ],
   "source": [
    "mean_squared_error(y_true=y_test, y_pred=pred_f, squared=False)"
   ]
  },
  {
   "cell_type": "markdown",
   "metadata": {
    "id": "DWF6LYZhuUKm"
   },
   "source": [
    "# Classification"
   ]
  },
  {
   "cell_type": "markdown",
   "metadata": {
    "id": "OVkC-3AE9EW3"
   },
   "source": [
    "The MLP architecture, the loss and the metrics are different for classification tasks.\n",
    "\n",
    "**<font color='blue'>Build and train an MLP model for the breast dataset.**\n",
    "\n",
    "*Tips: Don't forget to use the correct cross-entropy and the correct output layer activation function.*"
   ]
  },
  {
   "cell_type": "markdown",
   "metadata": {
    "id": "1Me7SznhgTGE"
   },
   "source": [
    "## Preprocessing"
   ]
  },
  {
   "cell_type": "code",
   "execution_count": 33,
   "metadata": {},
   "outputs": [],
   "source": [
    "X = breast.iloc[:, 1:]\n",
    "y = breast.iloc[:, 0]\n",
    "\n",
    "X_train, X_test, y_train, y_test = train_test_split(X, y, train_size=0.7, random_state=42, stratify=y)\n",
    "\n",
    "X_val, X_test, y_val, y_test = train_test_split(X_test, y_test, train_size=1/3, random_state=42, stratify=y_test)"
   ]
  },
  {
   "cell_type": "code",
   "execution_count": 36,
   "metadata": {},
   "outputs": [
    {
     "name": "stdout",
     "output_type": "stream",
     "text": [
      "1    0.628141\n",
      "2    0.371859\n",
      "Name: Class, dtype: float64\n",
      "1    0.631579\n",
      "2    0.368421\n",
      "Name: Class, dtype: float64\n",
      "1    0.622807\n",
      "2    0.377193\n",
      "Name: Class, dtype: float64\n"
     ]
    }
   ],
   "source": [
    "print(y_train.value_counts(normalize=True))\n",
    "print(y_val.value_counts(normalize=True))\n",
    "print(y_test.value_counts(normalize=True))"
   ]
  },
  {
   "cell_type": "code",
   "execution_count": 37,
   "metadata": {},
   "outputs": [],
   "source": [
    "# Pipeline and ColumnTransformer"
   ]
  },
  {
   "cell_type": "code",
   "execution_count": null,
   "metadata": {},
   "outputs": [],
   "source": []
  }
 ],
 "metadata": {
  "accelerator": "GPU",
  "colab": {
   "collapsed_sections": [
    "CKDCymVPVKIK"
   ],
   "provenance": [],
   "toc_visible": true
  },
  "gpuClass": "premium",
  "kernelspec": {
   "display_name": "Python 3 (ipykernel)",
   "language": "python",
   "name": "python3"
  },
  "language_info": {
   "codemirror_mode": {
    "name": "ipython",
    "version": 3
   },
   "file_extension": ".py",
   "mimetype": "text/x-python",
   "name": "python",
   "nbconvert_exporter": "python",
   "pygments_lexer": "ipython3",
   "version": "3.8.13"
  }
 },
 "nbformat": 4,
 "nbformat_minor": 1
}
