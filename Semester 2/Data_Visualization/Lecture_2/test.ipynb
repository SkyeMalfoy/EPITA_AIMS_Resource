{
 "cells": [
  {
   "cell_type": "code",
   "execution_count": 22,
   "id": "72fc0b87",
   "metadata": {
    "scrolled": true
   },
   "outputs": [],
   "source": [
    "import pandas as pd\n",
    "import dash\n",
    "import dash_core_components as dcc\n",
    "import dash_html_components as html\n",
    "import plotly.express as px"
   ]
  },
  {
   "cell_type": "code",
   "execution_count": 23,
   "id": "6b43efb3",
   "metadata": {},
   "outputs": [],
   "source": [
    "# df = pd.read_csv('https://raw.githubusercontent.com/plotly/datasets/master/2014_apple_stock.csv')\n",
    "df = pd.read_csv('https://raw.githubusercontent.com/ediziks/EPITA-DSA-Notes/main/DataVisualization%5BDataViz%5D/ClassStudy/Pokemon.csv')"
   ]
  },
  {
   "cell_type": "code",
   "execution_count": 24,
   "id": "b9848a70",
   "metadata": {},
   "outputs": [
    {
     "name": "stdout",
     "output_type": "stream",
     "text": [
      "Water       112\n",
      "Normal       98\n",
      "Grass        70\n",
      "Bug          69\n",
      "Psychic      57\n",
      "Fire         52\n",
      "Electric     44\n",
      "Rock         44\n",
      "Dragon       32\n",
      "Ground       32\n",
      "Ghost        32\n",
      "Dark         31\n",
      "Poison       28\n",
      "Steel        27\n",
      "Fighting     27\n",
      "Ice          24\n",
      "Fairy        17\n",
      "Flying        4\n",
      "Name: Type 1, dtype: int64\n"
     ]
    }
   ],
   "source": [
    "count_type = df['Type 1'].value_counts()\n",
    "print(count_type)\n",
    "\n",
    "type_pokemon = ['Water', 'Normal', 'Grass', 'Bug', 'Psychic', 'Fire', 'Electric', 'Rock', 'Dragon', 'Ground', 'Ghost', 'Dark', 'Poison', 'Steel', 'Fighting', 'Ice', 'Fairy', 'Flying']"
   ]
  },
  {
   "cell_type": "code",
   "execution_count": 25,
   "id": "29b849b3",
   "metadata": {},
   "outputs": [],
   "source": [
    "# # leave this live\n",
    "# app = dash.Dash('test')\n",
    "\n",
    "# # load the data\n",
    "# df = pd.read_csv('https://raw.githubusercontent.com/plotly/datasets/master/2014_apple_stock.csv')\n",
    "\n",
    "# # create charts\n",
    "# fig = px.bar(df, x=type_pokemon, y=count_type[:], title='Count of Pokemon of each type')\n",
    "\n",
    "# # create layout\n",
    "# app.layout = html.Div(children=[\n",
    "#     html.H1(children=\"Hello Dash\"),\n",
    "#     html.Div(children='Dash: A web supporter'),\n",
    "#     dcc.Graph(\n",
    "#         id='aapl-graph',\n",
    "#         figure=fig\n",
    "#     )\n",
    "# ]\n",
    "#                       )\n",
    "\n",
    "# # leave this part\n",
    "# if __name__ == '__main__':\n",
    "#     app.run_server(debug=True, port=8080)\n",
    "#     exit()"
   ]
  },
  {
   "cell_type": "code",
   "execution_count": 26,
   "id": "60e9c6bb",
   "metadata": {},
   "outputs": [
    {
     "data": {
      "text/html": [
       "<div>\n",
       "<style scoped>\n",
       "    .dataframe tbody tr th:only-of-type {\n",
       "        vertical-align: middle;\n",
       "    }\n",
       "\n",
       "    .dataframe tbody tr th {\n",
       "        vertical-align: top;\n",
       "    }\n",
       "\n",
       "    .dataframe thead th {\n",
       "        text-align: right;\n",
       "    }\n",
       "</style>\n",
       "<table border=\"1\" class=\"dataframe\">\n",
       "  <thead>\n",
       "    <tr style=\"text-align: right;\">\n",
       "      <th></th>\n",
       "      <th>#</th>\n",
       "      <th>Name</th>\n",
       "      <th>Type 1</th>\n",
       "      <th>Type 2</th>\n",
       "      <th>Total</th>\n",
       "      <th>HP</th>\n",
       "      <th>Attack</th>\n",
       "      <th>Defense</th>\n",
       "      <th>Sp. Atk</th>\n",
       "      <th>Sp. Def</th>\n",
       "      <th>Speed</th>\n",
       "      <th>Generation</th>\n",
       "      <th>Legendary</th>\n",
       "    </tr>\n",
       "  </thead>\n",
       "  <tbody>\n",
       "    <tr>\n",
       "      <th>0</th>\n",
       "      <td>1</td>\n",
       "      <td>Bulbasaur</td>\n",
       "      <td>Grass</td>\n",
       "      <td>Poison</td>\n",
       "      <td>318</td>\n",
       "      <td>45</td>\n",
       "      <td>49</td>\n",
       "      <td>49</td>\n",
       "      <td>65</td>\n",
       "      <td>65</td>\n",
       "      <td>45</td>\n",
       "      <td>1</td>\n",
       "      <td>False</td>\n",
       "    </tr>\n",
       "    <tr>\n",
       "      <th>1</th>\n",
       "      <td>2</td>\n",
       "      <td>Ivysaur</td>\n",
       "      <td>Grass</td>\n",
       "      <td>Poison</td>\n",
       "      <td>405</td>\n",
       "      <td>60</td>\n",
       "      <td>62</td>\n",
       "      <td>63</td>\n",
       "      <td>80</td>\n",
       "      <td>80</td>\n",
       "      <td>60</td>\n",
       "      <td>1</td>\n",
       "      <td>False</td>\n",
       "    </tr>\n",
       "    <tr>\n",
       "      <th>2</th>\n",
       "      <td>3</td>\n",
       "      <td>Venusaur</td>\n",
       "      <td>Grass</td>\n",
       "      <td>Poison</td>\n",
       "      <td>525</td>\n",
       "      <td>80</td>\n",
       "      <td>82</td>\n",
       "      <td>83</td>\n",
       "      <td>100</td>\n",
       "      <td>100</td>\n",
       "      <td>80</td>\n",
       "      <td>1</td>\n",
       "      <td>False</td>\n",
       "    </tr>\n",
       "    <tr>\n",
       "      <th>3</th>\n",
       "      <td>3</td>\n",
       "      <td>VenusaurMega Venusaur</td>\n",
       "      <td>Grass</td>\n",
       "      <td>Poison</td>\n",
       "      <td>625</td>\n",
       "      <td>80</td>\n",
       "      <td>100</td>\n",
       "      <td>123</td>\n",
       "      <td>122</td>\n",
       "      <td>120</td>\n",
       "      <td>80</td>\n",
       "      <td>1</td>\n",
       "      <td>False</td>\n",
       "    </tr>\n",
       "    <tr>\n",
       "      <th>4</th>\n",
       "      <td>4</td>\n",
       "      <td>Charmander</td>\n",
       "      <td>Fire</td>\n",
       "      <td>NaN</td>\n",
       "      <td>309</td>\n",
       "      <td>39</td>\n",
       "      <td>52</td>\n",
       "      <td>43</td>\n",
       "      <td>60</td>\n",
       "      <td>50</td>\n",
       "      <td>65</td>\n",
       "      <td>1</td>\n",
       "      <td>False</td>\n",
       "    </tr>\n",
       "    <tr>\n",
       "      <th>...</th>\n",
       "      <td>...</td>\n",
       "      <td>...</td>\n",
       "      <td>...</td>\n",
       "      <td>...</td>\n",
       "      <td>...</td>\n",
       "      <td>...</td>\n",
       "      <td>...</td>\n",
       "      <td>...</td>\n",
       "      <td>...</td>\n",
       "      <td>...</td>\n",
       "      <td>...</td>\n",
       "      <td>...</td>\n",
       "      <td>...</td>\n",
       "    </tr>\n",
       "    <tr>\n",
       "      <th>795</th>\n",
       "      <td>719</td>\n",
       "      <td>Diancie</td>\n",
       "      <td>Rock</td>\n",
       "      <td>Fairy</td>\n",
       "      <td>600</td>\n",
       "      <td>50</td>\n",
       "      <td>100</td>\n",
       "      <td>150</td>\n",
       "      <td>100</td>\n",
       "      <td>150</td>\n",
       "      <td>50</td>\n",
       "      <td>6</td>\n",
       "      <td>True</td>\n",
       "    </tr>\n",
       "    <tr>\n",
       "      <th>796</th>\n",
       "      <td>719</td>\n",
       "      <td>DiancieMega Diancie</td>\n",
       "      <td>Rock</td>\n",
       "      <td>Fairy</td>\n",
       "      <td>700</td>\n",
       "      <td>50</td>\n",
       "      <td>160</td>\n",
       "      <td>110</td>\n",
       "      <td>160</td>\n",
       "      <td>110</td>\n",
       "      <td>110</td>\n",
       "      <td>6</td>\n",
       "      <td>True</td>\n",
       "    </tr>\n",
       "    <tr>\n",
       "      <th>797</th>\n",
       "      <td>720</td>\n",
       "      <td>HoopaHoopa Confined</td>\n",
       "      <td>Psychic</td>\n",
       "      <td>Ghost</td>\n",
       "      <td>600</td>\n",
       "      <td>80</td>\n",
       "      <td>110</td>\n",
       "      <td>60</td>\n",
       "      <td>150</td>\n",
       "      <td>130</td>\n",
       "      <td>70</td>\n",
       "      <td>6</td>\n",
       "      <td>True</td>\n",
       "    </tr>\n",
       "    <tr>\n",
       "      <th>798</th>\n",
       "      <td>720</td>\n",
       "      <td>HoopaHoopa Unbound</td>\n",
       "      <td>Psychic</td>\n",
       "      <td>Dark</td>\n",
       "      <td>680</td>\n",
       "      <td>80</td>\n",
       "      <td>160</td>\n",
       "      <td>60</td>\n",
       "      <td>170</td>\n",
       "      <td>130</td>\n",
       "      <td>80</td>\n",
       "      <td>6</td>\n",
       "      <td>True</td>\n",
       "    </tr>\n",
       "    <tr>\n",
       "      <th>799</th>\n",
       "      <td>721</td>\n",
       "      <td>Volcanion</td>\n",
       "      <td>Fire</td>\n",
       "      <td>Water</td>\n",
       "      <td>600</td>\n",
       "      <td>80</td>\n",
       "      <td>110</td>\n",
       "      <td>120</td>\n",
       "      <td>130</td>\n",
       "      <td>90</td>\n",
       "      <td>70</td>\n",
       "      <td>6</td>\n",
       "      <td>True</td>\n",
       "    </tr>\n",
       "  </tbody>\n",
       "</table>\n",
       "<p>800 rows × 13 columns</p>\n",
       "</div>"
      ],
      "text/plain": [
       "       #                   Name   Type 1  Type 2  Total  HP  Attack  Defense  \\\n",
       "0      1              Bulbasaur    Grass  Poison    318  45      49       49   \n",
       "1      2                Ivysaur    Grass  Poison    405  60      62       63   \n",
       "2      3               Venusaur    Grass  Poison    525  80      82       83   \n",
       "3      3  VenusaurMega Venusaur    Grass  Poison    625  80     100      123   \n",
       "4      4             Charmander     Fire     NaN    309  39      52       43   \n",
       "..   ...                    ...      ...     ...    ...  ..     ...      ...   \n",
       "795  719                Diancie     Rock   Fairy    600  50     100      150   \n",
       "796  719    DiancieMega Diancie     Rock   Fairy    700  50     160      110   \n",
       "797  720    HoopaHoopa Confined  Psychic   Ghost    600  80     110       60   \n",
       "798  720     HoopaHoopa Unbound  Psychic    Dark    680  80     160       60   \n",
       "799  721              Volcanion     Fire   Water    600  80     110      120   \n",
       "\n",
       "     Sp. Atk  Sp. Def  Speed  Generation  Legendary  \n",
       "0         65       65     45           1      False  \n",
       "1         80       80     60           1      False  \n",
       "2        100      100     80           1      False  \n",
       "3        122      120     80           1      False  \n",
       "4         60       50     65           1      False  \n",
       "..       ...      ...    ...         ...        ...  \n",
       "795      100      150     50           6       True  \n",
       "796      160      110    110           6       True  \n",
       "797      150      130     70           6       True  \n",
       "798      170      130     80           6       True  \n",
       "799      130       90     70           6       True  \n",
       "\n",
       "[800 rows x 13 columns]"
      ]
     },
     "execution_count": 26,
     "metadata": {},
     "output_type": "execute_result"
    }
   ],
   "source": [
    "pd.DataFrame(df)"
   ]
  },
  {
   "cell_type": "code",
   "execution_count": 27,
   "id": "2aa47276",
   "metadata": {},
   "outputs": [
    {
     "name": "stdout",
     "output_type": "stream",
     "text": [
      "Water\n",
      "Normal\n",
      "Grass\n",
      "Bug\n",
      "Psychic\n",
      "Fire\n",
      "Electric\n",
      "Rock\n",
      "Dragon\n",
      "Ground\n",
      "Ghost\n",
      "Dark\n",
      "Poison\n",
      "Steel\n",
      "Fighting\n",
      "Ice\n",
      "Fairy\n",
      "Flying\n"
     ]
    }
   ],
   "source": [
    "# app.layout{\n",
    "#     html.Div(children=[\n",
    "#         dcc.Graph(id=\"call_back_with_slider\")\n",
    "#         dcc.Slider(\n",
    "#             df['Type 1'][0],\n",
    "#             df['Type 1'][-1],\n",
    "#             step=None,\n",
    "            \n",
    "#         )\n",
    "#     ])\n",
    "# }\n",
    "\n",
    "# test = {str(i): str(i) for i in df['Type 1'].unique()}\n",
    "# print(test)\n",
    "\n",
    "type1 = df['Type 1'].value_counts()\n",
    "for i in type1.keys():\n",
    "    print(i)"
   ]
  },
  {
   "cell_type": "code",
   "execution_count": 28,
   "id": "be2338ba",
   "metadata": {},
   "outputs": [
    {
     "data": {
      "application/vnd.plotly.v1+json": {
       "config": {
        "plotlyServerURL": "https://plot.ly"
       },
       "data": [
        {
         "hovertemplate": "Name=%{x}<br>Total=%{y}<br>HP=%{marker.size}<extra></extra>",
         "legendgroup": "Squirtle",
         "marker": {
          "color": "#636efa",
          "size": [
           44
          ],
          "sizemode": "area",
          "sizeref": 0.425,
          "symbol": "circle"
         },
         "mode": "markers",
         "name": "Squirtle",
         "orientation": "v",
         "showlegend": true,
         "type": "scatter",
         "x": [
          "Squirtle"
         ],
         "xaxis": "x",
         "y": [
          314
         ],
         "yaxis": "y"
        },
        {
         "hovertemplate": "Name=%{x}<br>Total=%{y}<br>HP=%{marker.size}<extra></extra>",
         "legendgroup": "Wartortle",
         "marker": {
          "color": "#EF553B",
          "size": [
           59
          ],
          "sizemode": "area",
          "sizeref": 0.425,
          "symbol": "circle"
         },
         "mode": "markers",
         "name": "Wartortle",
         "orientation": "v",
         "showlegend": true,
         "type": "scatter",
         "x": [
          "Wartortle"
         ],
         "xaxis": "x",
         "y": [
          405
         ],
         "yaxis": "y"
        },
        {
         "hovertemplate": "Name=%{x}<br>Total=%{y}<br>HP=%{marker.size}<extra></extra>",
         "legendgroup": "Blastoise",
         "marker": {
          "color": "#00cc96",
          "size": [
           79
          ],
          "sizemode": "area",
          "sizeref": 0.425,
          "symbol": "circle"
         },
         "mode": "markers",
         "name": "Blastoise",
         "orientation": "v",
         "showlegend": true,
         "type": "scatter",
         "x": [
          "Blastoise"
         ],
         "xaxis": "x",
         "y": [
          530
         ],
         "yaxis": "y"
        },
        {
         "hovertemplate": "Name=%{x}<br>Total=%{y}<br>HP=%{marker.size}<extra></extra>",
         "legendgroup": "BlastoiseMega Blastoise",
         "marker": {
          "color": "#ab63fa",
          "size": [
           79
          ],
          "sizemode": "area",
          "sizeref": 0.425,
          "symbol": "circle"
         },
         "mode": "markers",
         "name": "BlastoiseMega Blastoise",
         "orientation": "v",
         "showlegend": true,
         "type": "scatter",
         "x": [
          "BlastoiseMega Blastoise"
         ],
         "xaxis": "x",
         "y": [
          630
         ],
         "yaxis": "y"
        },
        {
         "hovertemplate": "Name=%{x}<br>Total=%{y}<br>HP=%{marker.size}<extra></extra>",
         "legendgroup": "Psyduck",
         "marker": {
          "color": "#FFA15A",
          "size": [
           50
          ],
          "sizemode": "area",
          "sizeref": 0.425,
          "symbol": "circle"
         },
         "mode": "markers",
         "name": "Psyduck",
         "orientation": "v",
         "showlegend": true,
         "type": "scatter",
         "x": [
          "Psyduck"
         ],
         "xaxis": "x",
         "y": [
          320
         ],
         "yaxis": "y"
        },
        {
         "hovertemplate": "Name=%{x}<br>Total=%{y}<br>HP=%{marker.size}<extra></extra>",
         "legendgroup": "Golduck",
         "marker": {
          "color": "#19d3f3",
          "size": [
           80
          ],
          "sizemode": "area",
          "sizeref": 0.425,
          "symbol": "circle"
         },
         "mode": "markers",
         "name": "Golduck",
         "orientation": "v",
         "showlegend": true,
         "type": "scatter",
         "x": [
          "Golduck"
         ],
         "xaxis": "x",
         "y": [
          500
         ],
         "yaxis": "y"
        },
        {
         "hovertemplate": "Name=%{x}<br>Total=%{y}<br>HP=%{marker.size}<extra></extra>",
         "legendgroup": "Poliwag",
         "marker": {
          "color": "#FF6692",
          "size": [
           40
          ],
          "sizemode": "area",
          "sizeref": 0.425,
          "symbol": "circle"
         },
         "mode": "markers",
         "name": "Poliwag",
         "orientation": "v",
         "showlegend": true,
         "type": "scatter",
         "x": [
          "Poliwag"
         ],
         "xaxis": "x",
         "y": [
          300
         ],
         "yaxis": "y"
        },
        {
         "hovertemplate": "Name=%{x}<br>Total=%{y}<br>HP=%{marker.size}<extra></extra>",
         "legendgroup": "Poliwhirl",
         "marker": {
          "color": "#B6E880",
          "size": [
           65
          ],
          "sizemode": "area",
          "sizeref": 0.425,
          "symbol": "circle"
         },
         "mode": "markers",
         "name": "Poliwhirl",
         "orientation": "v",
         "showlegend": true,
         "type": "scatter",
         "x": [
          "Poliwhirl"
         ],
         "xaxis": "x",
         "y": [
          385
         ],
         "yaxis": "y"
        },
        {
         "hovertemplate": "Name=%{x}<br>Total=%{y}<br>HP=%{marker.size}<extra></extra>",
         "legendgroup": "Poliwrath",
         "marker": {
          "color": "#FF97FF",
          "size": [
           90
          ],
          "sizemode": "area",
          "sizeref": 0.425,
          "symbol": "circle"
         },
         "mode": "markers",
         "name": "Poliwrath",
         "orientation": "v",
         "showlegend": true,
         "type": "scatter",
         "x": [
          "Poliwrath"
         ],
         "xaxis": "x",
         "y": [
          510
         ],
         "yaxis": "y"
        },
        {
         "hovertemplate": "Name=%{x}<br>Total=%{y}<br>HP=%{marker.size}<extra></extra>",
         "legendgroup": "Tentacool",
         "marker": {
          "color": "#FECB52",
          "size": [
           40
          ],
          "sizemode": "area",
          "sizeref": 0.425,
          "symbol": "circle"
         },
         "mode": "markers",
         "name": "Tentacool",
         "orientation": "v",
         "showlegend": true,
         "type": "scatter",
         "x": [
          "Tentacool"
         ],
         "xaxis": "x",
         "y": [
          335
         ],
         "yaxis": "y"
        },
        {
         "hovertemplate": "Name=%{x}<br>Total=%{y}<br>HP=%{marker.size}<extra></extra>",
         "legendgroup": "Tentacruel",
         "marker": {
          "color": "#636efa",
          "size": [
           80
          ],
          "sizemode": "area",
          "sizeref": 0.425,
          "symbol": "circle"
         },
         "mode": "markers",
         "name": "Tentacruel",
         "orientation": "v",
         "showlegend": true,
         "type": "scatter",
         "x": [
          "Tentacruel"
         ],
         "xaxis": "x",
         "y": [
          515
         ],
         "yaxis": "y"
        },
        {
         "hovertemplate": "Name=%{x}<br>Total=%{y}<br>HP=%{marker.size}<extra></extra>",
         "legendgroup": "Slowpoke",
         "marker": {
          "color": "#EF553B",
          "size": [
           90
          ],
          "sizemode": "area",
          "sizeref": 0.425,
          "symbol": "circle"
         },
         "mode": "markers",
         "name": "Slowpoke",
         "orientation": "v",
         "showlegend": true,
         "type": "scatter",
         "x": [
          "Slowpoke"
         ],
         "xaxis": "x",
         "y": [
          315
         ],
         "yaxis": "y"
        },
        {
         "hovertemplate": "Name=%{x}<br>Total=%{y}<br>HP=%{marker.size}<extra></extra>",
         "legendgroup": "Slowbro",
         "marker": {
          "color": "#00cc96",
          "size": [
           95
          ],
          "sizemode": "area",
          "sizeref": 0.425,
          "symbol": "circle"
         },
         "mode": "markers",
         "name": "Slowbro",
         "orientation": "v",
         "showlegend": true,
         "type": "scatter",
         "x": [
          "Slowbro"
         ],
         "xaxis": "x",
         "y": [
          490
         ],
         "yaxis": "y"
        },
        {
         "hovertemplate": "Name=%{x}<br>Total=%{y}<br>HP=%{marker.size}<extra></extra>",
         "legendgroup": "SlowbroMega Slowbro",
         "marker": {
          "color": "#ab63fa",
          "size": [
           95
          ],
          "sizemode": "area",
          "sizeref": 0.425,
          "symbol": "circle"
         },
         "mode": "markers",
         "name": "SlowbroMega Slowbro",
         "orientation": "v",
         "showlegend": true,
         "type": "scatter",
         "x": [
          "SlowbroMega Slowbro"
         ],
         "xaxis": "x",
         "y": [
          590
         ],
         "yaxis": "y"
        },
        {
         "hovertemplate": "Name=%{x}<br>Total=%{y}<br>HP=%{marker.size}<extra></extra>",
         "legendgroup": "Seel",
         "marker": {
          "color": "#FFA15A",
          "size": [
           65
          ],
          "sizemode": "area",
          "sizeref": 0.425,
          "symbol": "circle"
         },
         "mode": "markers",
         "name": "Seel",
         "orientation": "v",
         "showlegend": true,
         "type": "scatter",
         "x": [
          "Seel"
         ],
         "xaxis": "x",
         "y": [
          325
         ],
         "yaxis": "y"
        },
        {
         "hovertemplate": "Name=%{x}<br>Total=%{y}<br>HP=%{marker.size}<extra></extra>",
         "legendgroup": "Dewgong",
         "marker": {
          "color": "#19d3f3",
          "size": [
           90
          ],
          "sizemode": "area",
          "sizeref": 0.425,
          "symbol": "circle"
         },
         "mode": "markers",
         "name": "Dewgong",
         "orientation": "v",
         "showlegend": true,
         "type": "scatter",
         "x": [
          "Dewgong"
         ],
         "xaxis": "x",
         "y": [
          475
         ],
         "yaxis": "y"
        },
        {
         "hovertemplate": "Name=%{x}<br>Total=%{y}<br>HP=%{marker.size}<extra></extra>",
         "legendgroup": "Shellder",
         "marker": {
          "color": "#FF6692",
          "size": [
           30
          ],
          "sizemode": "area",
          "sizeref": 0.425,
          "symbol": "circle"
         },
         "mode": "markers",
         "name": "Shellder",
         "orientation": "v",
         "showlegend": true,
         "type": "scatter",
         "x": [
          "Shellder"
         ],
         "xaxis": "x",
         "y": [
          305
         ],
         "yaxis": "y"
        },
        {
         "hovertemplate": "Name=%{x}<br>Total=%{y}<br>HP=%{marker.size}<extra></extra>",
         "legendgroup": "Cloyster",
         "marker": {
          "color": "#B6E880",
          "size": [
           50
          ],
          "sizemode": "area",
          "sizeref": 0.425,
          "symbol": "circle"
         },
         "mode": "markers",
         "name": "Cloyster",
         "orientation": "v",
         "showlegend": true,
         "type": "scatter",
         "x": [
          "Cloyster"
         ],
         "xaxis": "x",
         "y": [
          525
         ],
         "yaxis": "y"
        },
        {
         "hovertemplate": "Name=%{x}<br>Total=%{y}<br>HP=%{marker.size}<extra></extra>",
         "legendgroup": "Krabby",
         "marker": {
          "color": "#FF97FF",
          "size": [
           30
          ],
          "sizemode": "area",
          "sizeref": 0.425,
          "symbol": "circle"
         },
         "mode": "markers",
         "name": "Krabby",
         "orientation": "v",
         "showlegend": true,
         "type": "scatter",
         "x": [
          "Krabby"
         ],
         "xaxis": "x",
         "y": [
          325
         ],
         "yaxis": "y"
        },
        {
         "hovertemplate": "Name=%{x}<br>Total=%{y}<br>HP=%{marker.size}<extra></extra>",
         "legendgroup": "Kingler",
         "marker": {
          "color": "#FECB52",
          "size": [
           55
          ],
          "sizemode": "area",
          "sizeref": 0.425,
          "symbol": "circle"
         },
         "mode": "markers",
         "name": "Kingler",
         "orientation": "v",
         "showlegend": true,
         "type": "scatter",
         "x": [
          "Kingler"
         ],
         "xaxis": "x",
         "y": [
          475
         ],
         "yaxis": "y"
        },
        {
         "hovertemplate": "Name=%{x}<br>Total=%{y}<br>HP=%{marker.size}<extra></extra>",
         "legendgroup": "Horsea",
         "marker": {
          "color": "#636efa",
          "size": [
           30
          ],
          "sizemode": "area",
          "sizeref": 0.425,
          "symbol": "circle"
         },
         "mode": "markers",
         "name": "Horsea",
         "orientation": "v",
         "showlegend": true,
         "type": "scatter",
         "x": [
          "Horsea"
         ],
         "xaxis": "x",
         "y": [
          295
         ],
         "yaxis": "y"
        },
        {
         "hovertemplate": "Name=%{x}<br>Total=%{y}<br>HP=%{marker.size}<extra></extra>",
         "legendgroup": "Seadra",
         "marker": {
          "color": "#EF553B",
          "size": [
           55
          ],
          "sizemode": "area",
          "sizeref": 0.425,
          "symbol": "circle"
         },
         "mode": "markers",
         "name": "Seadra",
         "orientation": "v",
         "showlegend": true,
         "type": "scatter",
         "x": [
          "Seadra"
         ],
         "xaxis": "x",
         "y": [
          440
         ],
         "yaxis": "y"
        },
        {
         "hovertemplate": "Name=%{x}<br>Total=%{y}<br>HP=%{marker.size}<extra></extra>",
         "legendgroup": "Goldeen",
         "marker": {
          "color": "#00cc96",
          "size": [
           45
          ],
          "sizemode": "area",
          "sizeref": 0.425,
          "symbol": "circle"
         },
         "mode": "markers",
         "name": "Goldeen",
         "orientation": "v",
         "showlegend": true,
         "type": "scatter",
         "x": [
          "Goldeen"
         ],
         "xaxis": "x",
         "y": [
          320
         ],
         "yaxis": "y"
        },
        {
         "hovertemplate": "Name=%{x}<br>Total=%{y}<br>HP=%{marker.size}<extra></extra>",
         "legendgroup": "Seaking",
         "marker": {
          "color": "#ab63fa",
          "size": [
           80
          ],
          "sizemode": "area",
          "sizeref": 0.425,
          "symbol": "circle"
         },
         "mode": "markers",
         "name": "Seaking",
         "orientation": "v",
         "showlegend": true,
         "type": "scatter",
         "x": [
          "Seaking"
         ],
         "xaxis": "x",
         "y": [
          450
         ],
         "yaxis": "y"
        },
        {
         "hovertemplate": "Name=%{x}<br>Total=%{y}<br>HP=%{marker.size}<extra></extra>",
         "legendgroup": "Staryu",
         "marker": {
          "color": "#FFA15A",
          "size": [
           30
          ],
          "sizemode": "area",
          "sizeref": 0.425,
          "symbol": "circle"
         },
         "mode": "markers",
         "name": "Staryu",
         "orientation": "v",
         "showlegend": true,
         "type": "scatter",
         "x": [
          "Staryu"
         ],
         "xaxis": "x",
         "y": [
          340
         ],
         "yaxis": "y"
        },
        {
         "hovertemplate": "Name=%{x}<br>Total=%{y}<br>HP=%{marker.size}<extra></extra>",
         "legendgroup": "Starmie",
         "marker": {
          "color": "#19d3f3",
          "size": [
           60
          ],
          "sizemode": "area",
          "sizeref": 0.425,
          "symbol": "circle"
         },
         "mode": "markers",
         "name": "Starmie",
         "orientation": "v",
         "showlegend": true,
         "type": "scatter",
         "x": [
          "Starmie"
         ],
         "xaxis": "x",
         "y": [
          520
         ],
         "yaxis": "y"
        },
        {
         "hovertemplate": "Name=%{x}<br>Total=%{y}<br>HP=%{marker.size}<extra></extra>",
         "legendgroup": "Magikarp",
         "marker": {
          "color": "#FF6692",
          "size": [
           20
          ],
          "sizemode": "area",
          "sizeref": 0.425,
          "symbol": "circle"
         },
         "mode": "markers",
         "name": "Magikarp",
         "orientation": "v",
         "showlegend": true,
         "type": "scatter",
         "x": [
          "Magikarp"
         ],
         "xaxis": "x",
         "y": [
          200
         ],
         "yaxis": "y"
        },
        {
         "hovertemplate": "Name=%{x}<br>Total=%{y}<br>HP=%{marker.size}<extra></extra>",
         "legendgroup": "Gyarados",
         "marker": {
          "color": "#B6E880",
          "size": [
           95
          ],
          "sizemode": "area",
          "sizeref": 0.425,
          "symbol": "circle"
         },
         "mode": "markers",
         "name": "Gyarados",
         "orientation": "v",
         "showlegend": true,
         "type": "scatter",
         "x": [
          "Gyarados"
         ],
         "xaxis": "x",
         "y": [
          540
         ],
         "yaxis": "y"
        },
        {
         "hovertemplate": "Name=%{x}<br>Total=%{y}<br>HP=%{marker.size}<extra></extra>",
         "legendgroup": "GyaradosMega Gyarados",
         "marker": {
          "color": "#FF97FF",
          "size": [
           95
          ],
          "sizemode": "area",
          "sizeref": 0.425,
          "symbol": "circle"
         },
         "mode": "markers",
         "name": "GyaradosMega Gyarados",
         "orientation": "v",
         "showlegend": true,
         "type": "scatter",
         "x": [
          "GyaradosMega Gyarados"
         ],
         "xaxis": "x",
         "y": [
          640
         ],
         "yaxis": "y"
        },
        {
         "hovertemplate": "Name=%{x}<br>Total=%{y}<br>HP=%{marker.size}<extra></extra>",
         "legendgroup": "Lapras",
         "marker": {
          "color": "#FECB52",
          "size": [
           130
          ],
          "sizemode": "area",
          "sizeref": 0.425,
          "symbol": "circle"
         },
         "mode": "markers",
         "name": "Lapras",
         "orientation": "v",
         "showlegend": true,
         "type": "scatter",
         "x": [
          "Lapras"
         ],
         "xaxis": "x",
         "y": [
          535
         ],
         "yaxis": "y"
        },
        {
         "hovertemplate": "Name=%{x}<br>Total=%{y}<br>HP=%{marker.size}<extra></extra>",
         "legendgroup": "Vaporeon",
         "marker": {
          "color": "#636efa",
          "size": [
           130
          ],
          "sizemode": "area",
          "sizeref": 0.425,
          "symbol": "circle"
         },
         "mode": "markers",
         "name": "Vaporeon",
         "orientation": "v",
         "showlegend": true,
         "type": "scatter",
         "x": [
          "Vaporeon"
         ],
         "xaxis": "x",
         "y": [
          525
         ],
         "yaxis": "y"
        },
        {
         "hovertemplate": "Name=%{x}<br>Total=%{y}<br>HP=%{marker.size}<extra></extra>",
         "legendgroup": "Totodile",
         "marker": {
          "color": "#EF553B",
          "size": [
           50
          ],
          "sizemode": "area",
          "sizeref": 0.425,
          "symbol": "circle"
         },
         "mode": "markers",
         "name": "Totodile",
         "orientation": "v",
         "showlegend": true,
         "type": "scatter",
         "x": [
          "Totodile"
         ],
         "xaxis": "x",
         "y": [
          314
         ],
         "yaxis": "y"
        },
        {
         "hovertemplate": "Name=%{x}<br>Total=%{y}<br>HP=%{marker.size}<extra></extra>",
         "legendgroup": "Croconaw",
         "marker": {
          "color": "#00cc96",
          "size": [
           65
          ],
          "sizemode": "area",
          "sizeref": 0.425,
          "symbol": "circle"
         },
         "mode": "markers",
         "name": "Croconaw",
         "orientation": "v",
         "showlegend": true,
         "type": "scatter",
         "x": [
          "Croconaw"
         ],
         "xaxis": "x",
         "y": [
          405
         ],
         "yaxis": "y"
        },
        {
         "hovertemplate": "Name=%{x}<br>Total=%{y}<br>HP=%{marker.size}<extra></extra>",
         "legendgroup": "Feraligatr",
         "marker": {
          "color": "#ab63fa",
          "size": [
           85
          ],
          "sizemode": "area",
          "sizeref": 0.425,
          "symbol": "circle"
         },
         "mode": "markers",
         "name": "Feraligatr",
         "orientation": "v",
         "showlegend": true,
         "type": "scatter",
         "x": [
          "Feraligatr"
         ],
         "xaxis": "x",
         "y": [
          530
         ],
         "yaxis": "y"
        },
        {
         "hovertemplate": "Name=%{x}<br>Total=%{y}<br>HP=%{marker.size}<extra></extra>",
         "legendgroup": "Chinchou",
         "marker": {
          "color": "#FFA15A",
          "size": [
           75
          ],
          "sizemode": "area",
          "sizeref": 0.425,
          "symbol": "circle"
         },
         "mode": "markers",
         "name": "Chinchou",
         "orientation": "v",
         "showlegend": true,
         "type": "scatter",
         "x": [
          "Chinchou"
         ],
         "xaxis": "x",
         "y": [
          330
         ],
         "yaxis": "y"
        },
        {
         "hovertemplate": "Name=%{x}<br>Total=%{y}<br>HP=%{marker.size}<extra></extra>",
         "legendgroup": "Lanturn",
         "marker": {
          "color": "#19d3f3",
          "size": [
           125
          ],
          "sizemode": "area",
          "sizeref": 0.425,
          "symbol": "circle"
         },
         "mode": "markers",
         "name": "Lanturn",
         "orientation": "v",
         "showlegend": true,
         "type": "scatter",
         "x": [
          "Lanturn"
         ],
         "xaxis": "x",
         "y": [
          460
         ],
         "yaxis": "y"
        },
        {
         "hovertemplate": "Name=%{x}<br>Total=%{y}<br>HP=%{marker.size}<extra></extra>",
         "legendgroup": "Marill",
         "marker": {
          "color": "#FF6692",
          "size": [
           70
          ],
          "sizemode": "area",
          "sizeref": 0.425,
          "symbol": "circle"
         },
         "mode": "markers",
         "name": "Marill",
         "orientation": "v",
         "showlegend": true,
         "type": "scatter",
         "x": [
          "Marill"
         ],
         "xaxis": "x",
         "y": [
          250
         ],
         "yaxis": "y"
        },
        {
         "hovertemplate": "Name=%{x}<br>Total=%{y}<br>HP=%{marker.size}<extra></extra>",
         "legendgroup": "Azumarill",
         "marker": {
          "color": "#B6E880",
          "size": [
           100
          ],
          "sizemode": "area",
          "sizeref": 0.425,
          "symbol": "circle"
         },
         "mode": "markers",
         "name": "Azumarill",
         "orientation": "v",
         "showlegend": true,
         "type": "scatter",
         "x": [
          "Azumarill"
         ],
         "xaxis": "x",
         "y": [
          420
         ],
         "yaxis": "y"
        },
        {
         "hovertemplate": "Name=%{x}<br>Total=%{y}<br>HP=%{marker.size}<extra></extra>",
         "legendgroup": "Politoed",
         "marker": {
          "color": "#FF97FF",
          "size": [
           90
          ],
          "sizemode": "area",
          "sizeref": 0.425,
          "symbol": "circle"
         },
         "mode": "markers",
         "name": "Politoed",
         "orientation": "v",
         "showlegend": true,
         "type": "scatter",
         "x": [
          "Politoed"
         ],
         "xaxis": "x",
         "y": [
          500
         ],
         "yaxis": "y"
        },
        {
         "hovertemplate": "Name=%{x}<br>Total=%{y}<br>HP=%{marker.size}<extra></extra>",
         "legendgroup": "Wooper",
         "marker": {
          "color": "#FECB52",
          "size": [
           55
          ],
          "sizemode": "area",
          "sizeref": 0.425,
          "symbol": "circle"
         },
         "mode": "markers",
         "name": "Wooper",
         "orientation": "v",
         "showlegend": true,
         "type": "scatter",
         "x": [
          "Wooper"
         ],
         "xaxis": "x",
         "y": [
          210
         ],
         "yaxis": "y"
        },
        {
         "hovertemplate": "Name=%{x}<br>Total=%{y}<br>HP=%{marker.size}<extra></extra>",
         "legendgroup": "Quagsire",
         "marker": {
          "color": "#636efa",
          "size": [
           95
          ],
          "sizemode": "area",
          "sizeref": 0.425,
          "symbol": "circle"
         },
         "mode": "markers",
         "name": "Quagsire",
         "orientation": "v",
         "showlegend": true,
         "type": "scatter",
         "x": [
          "Quagsire"
         ],
         "xaxis": "x",
         "y": [
          430
         ],
         "yaxis": "y"
        },
        {
         "hovertemplate": "Name=%{x}<br>Total=%{y}<br>HP=%{marker.size}<extra></extra>",
         "legendgroup": "Slowking",
         "marker": {
          "color": "#EF553B",
          "size": [
           95
          ],
          "sizemode": "area",
          "sizeref": 0.425,
          "symbol": "circle"
         },
         "mode": "markers",
         "name": "Slowking",
         "orientation": "v",
         "showlegend": true,
         "type": "scatter",
         "x": [
          "Slowking"
         ],
         "xaxis": "x",
         "y": [
          490
         ],
         "yaxis": "y"
        },
        {
         "hovertemplate": "Name=%{x}<br>Total=%{y}<br>HP=%{marker.size}<extra></extra>",
         "legendgroup": "Qwilfish",
         "marker": {
          "color": "#00cc96",
          "size": [
           65
          ],
          "sizemode": "area",
          "sizeref": 0.425,
          "symbol": "circle"
         },
         "mode": "markers",
         "name": "Qwilfish",
         "orientation": "v",
         "showlegend": true,
         "type": "scatter",
         "x": [
          "Qwilfish"
         ],
         "xaxis": "x",
         "y": [
          430
         ],
         "yaxis": "y"
        },
        {
         "hovertemplate": "Name=%{x}<br>Total=%{y}<br>HP=%{marker.size}<extra></extra>",
         "legendgroup": "Corsola",
         "marker": {
          "color": "#ab63fa",
          "size": [
           55
          ],
          "sizemode": "area",
          "sizeref": 0.425,
          "symbol": "circle"
         },
         "mode": "markers",
         "name": "Corsola",
         "orientation": "v",
         "showlegend": true,
         "type": "scatter",
         "x": [
          "Corsola"
         ],
         "xaxis": "x",
         "y": [
          380
         ],
         "yaxis": "y"
        },
        {
         "hovertemplate": "Name=%{x}<br>Total=%{y}<br>HP=%{marker.size}<extra></extra>",
         "legendgroup": "Remoraid",
         "marker": {
          "color": "#FFA15A",
          "size": [
           35
          ],
          "sizemode": "area",
          "sizeref": 0.425,
          "symbol": "circle"
         },
         "mode": "markers",
         "name": "Remoraid",
         "orientation": "v",
         "showlegend": true,
         "type": "scatter",
         "x": [
          "Remoraid"
         ],
         "xaxis": "x",
         "y": [
          300
         ],
         "yaxis": "y"
        },
        {
         "hovertemplate": "Name=%{x}<br>Total=%{y}<br>HP=%{marker.size}<extra></extra>",
         "legendgroup": "Octillery",
         "marker": {
          "color": "#19d3f3",
          "size": [
           75
          ],
          "sizemode": "area",
          "sizeref": 0.425,
          "symbol": "circle"
         },
         "mode": "markers",
         "name": "Octillery",
         "orientation": "v",
         "showlegend": true,
         "type": "scatter",
         "x": [
          "Octillery"
         ],
         "xaxis": "x",
         "y": [
          480
         ],
         "yaxis": "y"
        },
        {
         "hovertemplate": "Name=%{x}<br>Total=%{y}<br>HP=%{marker.size}<extra></extra>",
         "legendgroup": "Mantine",
         "marker": {
          "color": "#FF6692",
          "size": [
           65
          ],
          "sizemode": "area",
          "sizeref": 0.425,
          "symbol": "circle"
         },
         "mode": "markers",
         "name": "Mantine",
         "orientation": "v",
         "showlegend": true,
         "type": "scatter",
         "x": [
          "Mantine"
         ],
         "xaxis": "x",
         "y": [
          465
         ],
         "yaxis": "y"
        },
        {
         "hovertemplate": "Name=%{x}<br>Total=%{y}<br>HP=%{marker.size}<extra></extra>",
         "legendgroup": "Kingdra",
         "marker": {
          "color": "#B6E880",
          "size": [
           75
          ],
          "sizemode": "area",
          "sizeref": 0.425,
          "symbol": "circle"
         },
         "mode": "markers",
         "name": "Kingdra",
         "orientation": "v",
         "showlegend": true,
         "type": "scatter",
         "x": [
          "Kingdra"
         ],
         "xaxis": "x",
         "y": [
          540
         ],
         "yaxis": "y"
        },
        {
         "hovertemplate": "Name=%{x}<br>Total=%{y}<br>HP=%{marker.size}<extra></extra>",
         "legendgroup": "Suicune",
         "marker": {
          "color": "#FF97FF",
          "size": [
           100
          ],
          "sizemode": "area",
          "sizeref": 0.425,
          "symbol": "circle"
         },
         "mode": "markers",
         "name": "Suicune",
         "orientation": "v",
         "showlegend": true,
         "type": "scatter",
         "x": [
          "Suicune"
         ],
         "xaxis": "x",
         "y": [
          580
         ],
         "yaxis": "y"
        },
        {
         "hovertemplate": "Name=%{x}<br>Total=%{y}<br>HP=%{marker.size}<extra></extra>",
         "legendgroup": "Mudkip",
         "marker": {
          "color": "#FECB52",
          "size": [
           50
          ],
          "sizemode": "area",
          "sizeref": 0.425,
          "symbol": "circle"
         },
         "mode": "markers",
         "name": "Mudkip",
         "orientation": "v",
         "showlegend": true,
         "type": "scatter",
         "x": [
          "Mudkip"
         ],
         "xaxis": "x",
         "y": [
          310
         ],
         "yaxis": "y"
        },
        {
         "hovertemplate": "Name=%{x}<br>Total=%{y}<br>HP=%{marker.size}<extra></extra>",
         "legendgroup": "Marshtomp",
         "marker": {
          "color": "#636efa",
          "size": [
           70
          ],
          "sizemode": "area",
          "sizeref": 0.425,
          "symbol": "circle"
         },
         "mode": "markers",
         "name": "Marshtomp",
         "orientation": "v",
         "showlegend": true,
         "type": "scatter",
         "x": [
          "Marshtomp"
         ],
         "xaxis": "x",
         "y": [
          405
         ],
         "yaxis": "y"
        },
        {
         "hovertemplate": "Name=%{x}<br>Total=%{y}<br>HP=%{marker.size}<extra></extra>",
         "legendgroup": "Swampert",
         "marker": {
          "color": "#EF553B",
          "size": [
           100
          ],
          "sizemode": "area",
          "sizeref": 0.425,
          "symbol": "circle"
         },
         "mode": "markers",
         "name": "Swampert",
         "orientation": "v",
         "showlegend": true,
         "type": "scatter",
         "x": [
          "Swampert"
         ],
         "xaxis": "x",
         "y": [
          535
         ],
         "yaxis": "y"
        },
        {
         "hovertemplate": "Name=%{x}<br>Total=%{y}<br>HP=%{marker.size}<extra></extra>",
         "legendgroup": "SwampertMega Swampert",
         "marker": {
          "color": "#00cc96",
          "size": [
           100
          ],
          "sizemode": "area",
          "sizeref": 0.425,
          "symbol": "circle"
         },
         "mode": "markers",
         "name": "SwampertMega Swampert",
         "orientation": "v",
         "showlegend": true,
         "type": "scatter",
         "x": [
          "SwampertMega Swampert"
         ],
         "xaxis": "x",
         "y": [
          635
         ],
         "yaxis": "y"
        },
        {
         "hovertemplate": "Name=%{x}<br>Total=%{y}<br>HP=%{marker.size}<extra></extra>",
         "legendgroup": "Lotad",
         "marker": {
          "color": "#ab63fa",
          "size": [
           40
          ],
          "sizemode": "area",
          "sizeref": 0.425,
          "symbol": "circle"
         },
         "mode": "markers",
         "name": "Lotad",
         "orientation": "v",
         "showlegend": true,
         "type": "scatter",
         "x": [
          "Lotad"
         ],
         "xaxis": "x",
         "y": [
          220
         ],
         "yaxis": "y"
        },
        {
         "hovertemplate": "Name=%{x}<br>Total=%{y}<br>HP=%{marker.size}<extra></extra>",
         "legendgroup": "Lombre",
         "marker": {
          "color": "#FFA15A",
          "size": [
           60
          ],
          "sizemode": "area",
          "sizeref": 0.425,
          "symbol": "circle"
         },
         "mode": "markers",
         "name": "Lombre",
         "orientation": "v",
         "showlegend": true,
         "type": "scatter",
         "x": [
          "Lombre"
         ],
         "xaxis": "x",
         "y": [
          340
         ],
         "yaxis": "y"
        },
        {
         "hovertemplate": "Name=%{x}<br>Total=%{y}<br>HP=%{marker.size}<extra></extra>",
         "legendgroup": "Ludicolo",
         "marker": {
          "color": "#19d3f3",
          "size": [
           80
          ],
          "sizemode": "area",
          "sizeref": 0.425,
          "symbol": "circle"
         },
         "mode": "markers",
         "name": "Ludicolo",
         "orientation": "v",
         "showlegend": true,
         "type": "scatter",
         "x": [
          "Ludicolo"
         ],
         "xaxis": "x",
         "y": [
          480
         ],
         "yaxis": "y"
        },
        {
         "hovertemplate": "Name=%{x}<br>Total=%{y}<br>HP=%{marker.size}<extra></extra>",
         "legendgroup": "Wingull",
         "marker": {
          "color": "#FF6692",
          "size": [
           40
          ],
          "sizemode": "area",
          "sizeref": 0.425,
          "symbol": "circle"
         },
         "mode": "markers",
         "name": "Wingull",
         "orientation": "v",
         "showlegend": true,
         "type": "scatter",
         "x": [
          "Wingull"
         ],
         "xaxis": "x",
         "y": [
          270
         ],
         "yaxis": "y"
        },
        {
         "hovertemplate": "Name=%{x}<br>Total=%{y}<br>HP=%{marker.size}<extra></extra>",
         "legendgroup": "Pelipper",
         "marker": {
          "color": "#B6E880",
          "size": [
           60
          ],
          "sizemode": "area",
          "sizeref": 0.425,
          "symbol": "circle"
         },
         "mode": "markers",
         "name": "Pelipper",
         "orientation": "v",
         "showlegend": true,
         "type": "scatter",
         "x": [
          "Pelipper"
         ],
         "xaxis": "x",
         "y": [
          430
         ],
         "yaxis": "y"
        },
        {
         "hovertemplate": "Name=%{x}<br>Total=%{y}<br>HP=%{marker.size}<extra></extra>",
         "legendgroup": "Carvanha",
         "marker": {
          "color": "#FF97FF",
          "size": [
           45
          ],
          "sizemode": "area",
          "sizeref": 0.425,
          "symbol": "circle"
         },
         "mode": "markers",
         "name": "Carvanha",
         "orientation": "v",
         "showlegend": true,
         "type": "scatter",
         "x": [
          "Carvanha"
         ],
         "xaxis": "x",
         "y": [
          305
         ],
         "yaxis": "y"
        },
        {
         "hovertemplate": "Name=%{x}<br>Total=%{y}<br>HP=%{marker.size}<extra></extra>",
         "legendgroup": "Sharpedo",
         "marker": {
          "color": "#FECB52",
          "size": [
           70
          ],
          "sizemode": "area",
          "sizeref": 0.425,
          "symbol": "circle"
         },
         "mode": "markers",
         "name": "Sharpedo",
         "orientation": "v",
         "showlegend": true,
         "type": "scatter",
         "x": [
          "Sharpedo"
         ],
         "xaxis": "x",
         "y": [
          460
         ],
         "yaxis": "y"
        },
        {
         "hovertemplate": "Name=%{x}<br>Total=%{y}<br>HP=%{marker.size}<extra></extra>",
         "legendgroup": "SharpedoMega Sharpedo",
         "marker": {
          "color": "#636efa",
          "size": [
           70
          ],
          "sizemode": "area",
          "sizeref": 0.425,
          "symbol": "circle"
         },
         "mode": "markers",
         "name": "SharpedoMega Sharpedo",
         "orientation": "v",
         "showlegend": true,
         "type": "scatter",
         "x": [
          "SharpedoMega Sharpedo"
         ],
         "xaxis": "x",
         "y": [
          560
         ],
         "yaxis": "y"
        },
        {
         "hovertemplate": "Name=%{x}<br>Total=%{y}<br>HP=%{marker.size}<extra></extra>",
         "legendgroup": "Wailmer",
         "marker": {
          "color": "#EF553B",
          "size": [
           130
          ],
          "sizemode": "area",
          "sizeref": 0.425,
          "symbol": "circle"
         },
         "mode": "markers",
         "name": "Wailmer",
         "orientation": "v",
         "showlegend": true,
         "type": "scatter",
         "x": [
          "Wailmer"
         ],
         "xaxis": "x",
         "y": [
          400
         ],
         "yaxis": "y"
        },
        {
         "hovertemplate": "Name=%{x}<br>Total=%{y}<br>HP=%{marker.size}<extra></extra>",
         "legendgroup": "Wailord",
         "marker": {
          "color": "#00cc96",
          "size": [
           170
          ],
          "sizemode": "area",
          "sizeref": 0.425,
          "symbol": "circle"
         },
         "mode": "markers",
         "name": "Wailord",
         "orientation": "v",
         "showlegend": true,
         "type": "scatter",
         "x": [
          "Wailord"
         ],
         "xaxis": "x",
         "y": [
          500
         ],
         "yaxis": "y"
        },
        {
         "hovertemplate": "Name=%{x}<br>Total=%{y}<br>HP=%{marker.size}<extra></extra>",
         "legendgroup": "Barboach",
         "marker": {
          "color": "#ab63fa",
          "size": [
           50
          ],
          "sizemode": "area",
          "sizeref": 0.425,
          "symbol": "circle"
         },
         "mode": "markers",
         "name": "Barboach",
         "orientation": "v",
         "showlegend": true,
         "type": "scatter",
         "x": [
          "Barboach"
         ],
         "xaxis": "x",
         "y": [
          288
         ],
         "yaxis": "y"
        },
        {
         "hovertemplate": "Name=%{x}<br>Total=%{y}<br>HP=%{marker.size}<extra></extra>",
         "legendgroup": "Whiscash",
         "marker": {
          "color": "#FFA15A",
          "size": [
           110
          ],
          "sizemode": "area",
          "sizeref": 0.425,
          "symbol": "circle"
         },
         "mode": "markers",
         "name": "Whiscash",
         "orientation": "v",
         "showlegend": true,
         "type": "scatter",
         "x": [
          "Whiscash"
         ],
         "xaxis": "x",
         "y": [
          468
         ],
         "yaxis": "y"
        },
        {
         "hovertemplate": "Name=%{x}<br>Total=%{y}<br>HP=%{marker.size}<extra></extra>",
         "legendgroup": "Corphish",
         "marker": {
          "color": "#19d3f3",
          "size": [
           43
          ],
          "sizemode": "area",
          "sizeref": 0.425,
          "symbol": "circle"
         },
         "mode": "markers",
         "name": "Corphish",
         "orientation": "v",
         "showlegend": true,
         "type": "scatter",
         "x": [
          "Corphish"
         ],
         "xaxis": "x",
         "y": [
          308
         ],
         "yaxis": "y"
        },
        {
         "hovertemplate": "Name=%{x}<br>Total=%{y}<br>HP=%{marker.size}<extra></extra>",
         "legendgroup": "Crawdaunt",
         "marker": {
          "color": "#FF6692",
          "size": [
           63
          ],
          "sizemode": "area",
          "sizeref": 0.425,
          "symbol": "circle"
         },
         "mode": "markers",
         "name": "Crawdaunt",
         "orientation": "v",
         "showlegend": true,
         "type": "scatter",
         "x": [
          "Crawdaunt"
         ],
         "xaxis": "x",
         "y": [
          468
         ],
         "yaxis": "y"
        },
        {
         "hovertemplate": "Name=%{x}<br>Total=%{y}<br>HP=%{marker.size}<extra></extra>",
         "legendgroup": "Feebas",
         "marker": {
          "color": "#B6E880",
          "size": [
           20
          ],
          "sizemode": "area",
          "sizeref": 0.425,
          "symbol": "circle"
         },
         "mode": "markers",
         "name": "Feebas",
         "orientation": "v",
         "showlegend": true,
         "type": "scatter",
         "x": [
          "Feebas"
         ],
         "xaxis": "x",
         "y": [
          200
         ],
         "yaxis": "y"
        },
        {
         "hovertemplate": "Name=%{x}<br>Total=%{y}<br>HP=%{marker.size}<extra></extra>",
         "legendgroup": "Milotic",
         "marker": {
          "color": "#FF97FF",
          "size": [
           95
          ],
          "sizemode": "area",
          "sizeref": 0.425,
          "symbol": "circle"
         },
         "mode": "markers",
         "name": "Milotic",
         "orientation": "v",
         "showlegend": true,
         "type": "scatter",
         "x": [
          "Milotic"
         ],
         "xaxis": "x",
         "y": [
          540
         ],
         "yaxis": "y"
        },
        {
         "hovertemplate": "Name=%{x}<br>Total=%{y}<br>HP=%{marker.size}<extra></extra>",
         "legendgroup": "Clamperl",
         "marker": {
          "color": "#FECB52",
          "size": [
           35
          ],
          "sizemode": "area",
          "sizeref": 0.425,
          "symbol": "circle"
         },
         "mode": "markers",
         "name": "Clamperl",
         "orientation": "v",
         "showlegend": true,
         "type": "scatter",
         "x": [
          "Clamperl"
         ],
         "xaxis": "x",
         "y": [
          345
         ],
         "yaxis": "y"
        },
        {
         "hovertemplate": "Name=%{x}<br>Total=%{y}<br>HP=%{marker.size}<extra></extra>",
         "legendgroup": "Huntail",
         "marker": {
          "color": "#636efa",
          "size": [
           55
          ],
          "sizemode": "area",
          "sizeref": 0.425,
          "symbol": "circle"
         },
         "mode": "markers",
         "name": "Huntail",
         "orientation": "v",
         "showlegend": true,
         "type": "scatter",
         "x": [
          "Huntail"
         ],
         "xaxis": "x",
         "y": [
          485
         ],
         "yaxis": "y"
        },
        {
         "hovertemplate": "Name=%{x}<br>Total=%{y}<br>HP=%{marker.size}<extra></extra>",
         "legendgroup": "Gorebyss",
         "marker": {
          "color": "#EF553B",
          "size": [
           55
          ],
          "sizemode": "area",
          "sizeref": 0.425,
          "symbol": "circle"
         },
         "mode": "markers",
         "name": "Gorebyss",
         "orientation": "v",
         "showlegend": true,
         "type": "scatter",
         "x": [
          "Gorebyss"
         ],
         "xaxis": "x",
         "y": [
          485
         ],
         "yaxis": "y"
        },
        {
         "hovertemplate": "Name=%{x}<br>Total=%{y}<br>HP=%{marker.size}<extra></extra>",
         "legendgroup": "Relicanth",
         "marker": {
          "color": "#00cc96",
          "size": [
           100
          ],
          "sizemode": "area",
          "sizeref": 0.425,
          "symbol": "circle"
         },
         "mode": "markers",
         "name": "Relicanth",
         "orientation": "v",
         "showlegend": true,
         "type": "scatter",
         "x": [
          "Relicanth"
         ],
         "xaxis": "x",
         "y": [
          485
         ],
         "yaxis": "y"
        },
        {
         "hovertemplate": "Name=%{x}<br>Total=%{y}<br>HP=%{marker.size}<extra></extra>",
         "legendgroup": "Luvdisc",
         "marker": {
          "color": "#ab63fa",
          "size": [
           43
          ],
          "sizemode": "area",
          "sizeref": 0.425,
          "symbol": "circle"
         },
         "mode": "markers",
         "name": "Luvdisc",
         "orientation": "v",
         "showlegend": true,
         "type": "scatter",
         "x": [
          "Luvdisc"
         ],
         "xaxis": "x",
         "y": [
          330
         ],
         "yaxis": "y"
        },
        {
         "hovertemplate": "Name=%{x}<br>Total=%{y}<br>HP=%{marker.size}<extra></extra>",
         "legendgroup": "Kyogre",
         "marker": {
          "color": "#FFA15A",
          "size": [
           100
          ],
          "sizemode": "area",
          "sizeref": 0.425,
          "symbol": "circle"
         },
         "mode": "markers",
         "name": "Kyogre",
         "orientation": "v",
         "showlegend": true,
         "type": "scatter",
         "x": [
          "Kyogre"
         ],
         "xaxis": "x",
         "y": [
          670
         ],
         "yaxis": "y"
        },
        {
         "hovertemplate": "Name=%{x}<br>Total=%{y}<br>HP=%{marker.size}<extra></extra>",
         "legendgroup": "KyogrePrimal Kyogre",
         "marker": {
          "color": "#19d3f3",
          "size": [
           100
          ],
          "sizemode": "area",
          "sizeref": 0.425,
          "symbol": "circle"
         },
         "mode": "markers",
         "name": "KyogrePrimal Kyogre",
         "orientation": "v",
         "showlegend": true,
         "type": "scatter",
         "x": [
          "KyogrePrimal Kyogre"
         ],
         "xaxis": "x",
         "y": [
          770
         ],
         "yaxis": "y"
        },
        {
         "hovertemplate": "Name=%{x}<br>Total=%{y}<br>HP=%{marker.size}<extra></extra>",
         "legendgroup": "Piplup",
         "marker": {
          "color": "#FF6692",
          "size": [
           53
          ],
          "sizemode": "area",
          "sizeref": 0.425,
          "symbol": "circle"
         },
         "mode": "markers",
         "name": "Piplup",
         "orientation": "v",
         "showlegend": true,
         "type": "scatter",
         "x": [
          "Piplup"
         ],
         "xaxis": "x",
         "y": [
          314
         ],
         "yaxis": "y"
        },
        {
         "hovertemplate": "Name=%{x}<br>Total=%{y}<br>HP=%{marker.size}<extra></extra>",
         "legendgroup": "Prinplup",
         "marker": {
          "color": "#B6E880",
          "size": [
           64
          ],
          "sizemode": "area",
          "sizeref": 0.425,
          "symbol": "circle"
         },
         "mode": "markers",
         "name": "Prinplup",
         "orientation": "v",
         "showlegend": true,
         "type": "scatter",
         "x": [
          "Prinplup"
         ],
         "xaxis": "x",
         "y": [
          405
         ],
         "yaxis": "y"
        },
        {
         "hovertemplate": "Name=%{x}<br>Total=%{y}<br>HP=%{marker.size}<extra></extra>",
         "legendgroup": "Empoleon",
         "marker": {
          "color": "#FF97FF",
          "size": [
           84
          ],
          "sizemode": "area",
          "sizeref": 0.425,
          "symbol": "circle"
         },
         "mode": "markers",
         "name": "Empoleon",
         "orientation": "v",
         "showlegend": true,
         "type": "scatter",
         "x": [
          "Empoleon"
         ],
         "xaxis": "x",
         "y": [
          530
         ],
         "yaxis": "y"
        },
        {
         "hovertemplate": "Name=%{x}<br>Total=%{y}<br>HP=%{marker.size}<extra></extra>",
         "legendgroup": "Buizel",
         "marker": {
          "color": "#FECB52",
          "size": [
           55
          ],
          "sizemode": "area",
          "sizeref": 0.425,
          "symbol": "circle"
         },
         "mode": "markers",
         "name": "Buizel",
         "orientation": "v",
         "showlegend": true,
         "type": "scatter",
         "x": [
          "Buizel"
         ],
         "xaxis": "x",
         "y": [
          330
         ],
         "yaxis": "y"
        },
        {
         "hovertemplate": "Name=%{x}<br>Total=%{y}<br>HP=%{marker.size}<extra></extra>",
         "legendgroup": "Floatzel",
         "marker": {
          "color": "#636efa",
          "size": [
           85
          ],
          "sizemode": "area",
          "sizeref": 0.425,
          "symbol": "circle"
         },
         "mode": "markers",
         "name": "Floatzel",
         "orientation": "v",
         "showlegend": true,
         "type": "scatter",
         "x": [
          "Floatzel"
         ],
         "xaxis": "x",
         "y": [
          495
         ],
         "yaxis": "y"
        },
        {
         "hovertemplate": "Name=%{x}<br>Total=%{y}<br>HP=%{marker.size}<extra></extra>",
         "legendgroup": "Shellos",
         "marker": {
          "color": "#EF553B",
          "size": [
           76
          ],
          "sizemode": "area",
          "sizeref": 0.425,
          "symbol": "circle"
         },
         "mode": "markers",
         "name": "Shellos",
         "orientation": "v",
         "showlegend": true,
         "type": "scatter",
         "x": [
          "Shellos"
         ],
         "xaxis": "x",
         "y": [
          325
         ],
         "yaxis": "y"
        },
        {
         "hovertemplate": "Name=%{x}<br>Total=%{y}<br>HP=%{marker.size}<extra></extra>",
         "legendgroup": "Gastrodon",
         "marker": {
          "color": "#00cc96",
          "size": [
           111
          ],
          "sizemode": "area",
          "sizeref": 0.425,
          "symbol": "circle"
         },
         "mode": "markers",
         "name": "Gastrodon",
         "orientation": "v",
         "showlegend": true,
         "type": "scatter",
         "x": [
          "Gastrodon"
         ],
         "xaxis": "x",
         "y": [
          475
         ],
         "yaxis": "y"
        },
        {
         "hovertemplate": "Name=%{x}<br>Total=%{y}<br>HP=%{marker.size}<extra></extra>",
         "legendgroup": "Finneon",
         "marker": {
          "color": "#ab63fa",
          "size": [
           49
          ],
          "sizemode": "area",
          "sizeref": 0.425,
          "symbol": "circle"
         },
         "mode": "markers",
         "name": "Finneon",
         "orientation": "v",
         "showlegend": true,
         "type": "scatter",
         "x": [
          "Finneon"
         ],
         "xaxis": "x",
         "y": [
          330
         ],
         "yaxis": "y"
        },
        {
         "hovertemplate": "Name=%{x}<br>Total=%{y}<br>HP=%{marker.size}<extra></extra>",
         "legendgroup": "Lumineon",
         "marker": {
          "color": "#FFA15A",
          "size": [
           69
          ],
          "sizemode": "area",
          "sizeref": 0.425,
          "symbol": "circle"
         },
         "mode": "markers",
         "name": "Lumineon",
         "orientation": "v",
         "showlegend": true,
         "type": "scatter",
         "x": [
          "Lumineon"
         ],
         "xaxis": "x",
         "y": [
          460
         ],
         "yaxis": "y"
        },
        {
         "hovertemplate": "Name=%{x}<br>Total=%{y}<br>HP=%{marker.size}<extra></extra>",
         "legendgroup": "Mantyke",
         "marker": {
          "color": "#19d3f3",
          "size": [
           45
          ],
          "sizemode": "area",
          "sizeref": 0.425,
          "symbol": "circle"
         },
         "mode": "markers",
         "name": "Mantyke",
         "orientation": "v",
         "showlegend": true,
         "type": "scatter",
         "x": [
          "Mantyke"
         ],
         "xaxis": "x",
         "y": [
          345
         ],
         "yaxis": "y"
        },
        {
         "hovertemplate": "Name=%{x}<br>Total=%{y}<br>HP=%{marker.size}<extra></extra>",
         "legendgroup": "Palkia",
         "marker": {
          "color": "#FF6692",
          "size": [
           90
          ],
          "sizemode": "area",
          "sizeref": 0.425,
          "symbol": "circle"
         },
         "mode": "markers",
         "name": "Palkia",
         "orientation": "v",
         "showlegend": true,
         "type": "scatter",
         "x": [
          "Palkia"
         ],
         "xaxis": "x",
         "y": [
          680
         ],
         "yaxis": "y"
        },
        {
         "hovertemplate": "Name=%{x}<br>Total=%{y}<br>HP=%{marker.size}<extra></extra>",
         "legendgroup": "Phione",
         "marker": {
          "color": "#B6E880",
          "size": [
           80
          ],
          "sizemode": "area",
          "sizeref": 0.425,
          "symbol": "circle"
         },
         "mode": "markers",
         "name": "Phione",
         "orientation": "v",
         "showlegend": true,
         "type": "scatter",
         "x": [
          "Phione"
         ],
         "xaxis": "x",
         "y": [
          480
         ],
         "yaxis": "y"
        },
        {
         "hovertemplate": "Name=%{x}<br>Total=%{y}<br>HP=%{marker.size}<extra></extra>",
         "legendgroup": "Manaphy",
         "marker": {
          "color": "#FF97FF",
          "size": [
           100
          ],
          "sizemode": "area",
          "sizeref": 0.425,
          "symbol": "circle"
         },
         "mode": "markers",
         "name": "Manaphy",
         "orientation": "v",
         "showlegend": true,
         "type": "scatter",
         "x": [
          "Manaphy"
         ],
         "xaxis": "x",
         "y": [
          600
         ],
         "yaxis": "y"
        },
        {
         "hovertemplate": "Name=%{x}<br>Total=%{y}<br>HP=%{marker.size}<extra></extra>",
         "legendgroup": "Oshawott",
         "marker": {
          "color": "#FECB52",
          "size": [
           55
          ],
          "sizemode": "area",
          "sizeref": 0.425,
          "symbol": "circle"
         },
         "mode": "markers",
         "name": "Oshawott",
         "orientation": "v",
         "showlegend": true,
         "type": "scatter",
         "x": [
          "Oshawott"
         ],
         "xaxis": "x",
         "y": [
          308
         ],
         "yaxis": "y"
        },
        {
         "hovertemplate": "Name=%{x}<br>Total=%{y}<br>HP=%{marker.size}<extra></extra>",
         "legendgroup": "Dewott",
         "marker": {
          "color": "#636efa",
          "size": [
           75
          ],
          "sizemode": "area",
          "sizeref": 0.425,
          "symbol": "circle"
         },
         "mode": "markers",
         "name": "Dewott",
         "orientation": "v",
         "showlegend": true,
         "type": "scatter",
         "x": [
          "Dewott"
         ],
         "xaxis": "x",
         "y": [
          413
         ],
         "yaxis": "y"
        },
        {
         "hovertemplate": "Name=%{x}<br>Total=%{y}<br>HP=%{marker.size}<extra></extra>",
         "legendgroup": "Samurott",
         "marker": {
          "color": "#EF553B",
          "size": [
           95
          ],
          "sizemode": "area",
          "sizeref": 0.425,
          "symbol": "circle"
         },
         "mode": "markers",
         "name": "Samurott",
         "orientation": "v",
         "showlegend": true,
         "type": "scatter",
         "x": [
          "Samurott"
         ],
         "xaxis": "x",
         "y": [
          528
         ],
         "yaxis": "y"
        },
        {
         "hovertemplate": "Name=%{x}<br>Total=%{y}<br>HP=%{marker.size}<extra></extra>",
         "legendgroup": "Panpour",
         "marker": {
          "color": "#00cc96",
          "size": [
           50
          ],
          "sizemode": "area",
          "sizeref": 0.425,
          "symbol": "circle"
         },
         "mode": "markers",
         "name": "Panpour",
         "orientation": "v",
         "showlegend": true,
         "type": "scatter",
         "x": [
          "Panpour"
         ],
         "xaxis": "x",
         "y": [
          316
         ],
         "yaxis": "y"
        },
        {
         "hovertemplate": "Name=%{x}<br>Total=%{y}<br>HP=%{marker.size}<extra></extra>",
         "legendgroup": "Simipour",
         "marker": {
          "color": "#ab63fa",
          "size": [
           75
          ],
          "sizemode": "area",
          "sizeref": 0.425,
          "symbol": "circle"
         },
         "mode": "markers",
         "name": "Simipour",
         "orientation": "v",
         "showlegend": true,
         "type": "scatter",
         "x": [
          "Simipour"
         ],
         "xaxis": "x",
         "y": [
          498
         ],
         "yaxis": "y"
        },
        {
         "hovertemplate": "Name=%{x}<br>Total=%{y}<br>HP=%{marker.size}<extra></extra>",
         "legendgroup": "Tympole",
         "marker": {
          "color": "#FFA15A",
          "size": [
           50
          ],
          "sizemode": "area",
          "sizeref": 0.425,
          "symbol": "circle"
         },
         "mode": "markers",
         "name": "Tympole",
         "orientation": "v",
         "showlegend": true,
         "type": "scatter",
         "x": [
          "Tympole"
         ],
         "xaxis": "x",
         "y": [
          294
         ],
         "yaxis": "y"
        },
        {
         "hovertemplate": "Name=%{x}<br>Total=%{y}<br>HP=%{marker.size}<extra></extra>",
         "legendgroup": "Palpitoad",
         "marker": {
          "color": "#19d3f3",
          "size": [
           75
          ],
          "sizemode": "area",
          "sizeref": 0.425,
          "symbol": "circle"
         },
         "mode": "markers",
         "name": "Palpitoad",
         "orientation": "v",
         "showlegend": true,
         "type": "scatter",
         "x": [
          "Palpitoad"
         ],
         "xaxis": "x",
         "y": [
          384
         ],
         "yaxis": "y"
        },
        {
         "hovertemplate": "Name=%{x}<br>Total=%{y}<br>HP=%{marker.size}<extra></extra>",
         "legendgroup": "Seismitoad",
         "marker": {
          "color": "#FF6692",
          "size": [
           105
          ],
          "sizemode": "area",
          "sizeref": 0.425,
          "symbol": "circle"
         },
         "mode": "markers",
         "name": "Seismitoad",
         "orientation": "v",
         "showlegend": true,
         "type": "scatter",
         "x": [
          "Seismitoad"
         ],
         "xaxis": "x",
         "y": [
          509
         ],
         "yaxis": "y"
        },
        {
         "hovertemplate": "Name=%{x}<br>Total=%{y}<br>HP=%{marker.size}<extra></extra>",
         "legendgroup": "Basculin",
         "marker": {
          "color": "#B6E880",
          "size": [
           70
          ],
          "sizemode": "area",
          "sizeref": 0.425,
          "symbol": "circle"
         },
         "mode": "markers",
         "name": "Basculin",
         "orientation": "v",
         "showlegend": true,
         "type": "scatter",
         "x": [
          "Basculin"
         ],
         "xaxis": "x",
         "y": [
          460
         ],
         "yaxis": "y"
        },
        {
         "hovertemplate": "Name=%{x}<br>Total=%{y}<br>HP=%{marker.size}<extra></extra>",
         "legendgroup": "Tirtouga",
         "marker": {
          "color": "#FF97FF",
          "size": [
           54
          ],
          "sizemode": "area",
          "sizeref": 0.425,
          "symbol": "circle"
         },
         "mode": "markers",
         "name": "Tirtouga",
         "orientation": "v",
         "showlegend": true,
         "type": "scatter",
         "x": [
          "Tirtouga"
         ],
         "xaxis": "x",
         "y": [
          355
         ],
         "yaxis": "y"
        },
        {
         "hovertemplate": "Name=%{x}<br>Total=%{y}<br>HP=%{marker.size}<extra></extra>",
         "legendgroup": "Carracosta",
         "marker": {
          "color": "#FECB52",
          "size": [
           74
          ],
          "sizemode": "area",
          "sizeref": 0.425,
          "symbol": "circle"
         },
         "mode": "markers",
         "name": "Carracosta",
         "orientation": "v",
         "showlegend": true,
         "type": "scatter",
         "x": [
          "Carracosta"
         ],
         "xaxis": "x",
         "y": [
          495
         ],
         "yaxis": "y"
        },
        {
         "hovertemplate": "Name=%{x}<br>Total=%{y}<br>HP=%{marker.size}<extra></extra>",
         "legendgroup": "Ducklett",
         "marker": {
          "color": "#636efa",
          "size": [
           62
          ],
          "sizemode": "area",
          "sizeref": 0.425,
          "symbol": "circle"
         },
         "mode": "markers",
         "name": "Ducklett",
         "orientation": "v",
         "showlegend": true,
         "type": "scatter",
         "x": [
          "Ducklett"
         ],
         "xaxis": "x",
         "y": [
          305
         ],
         "yaxis": "y"
        },
        {
         "hovertemplate": "Name=%{x}<br>Total=%{y}<br>HP=%{marker.size}<extra></extra>",
         "legendgroup": "Swanna",
         "marker": {
          "color": "#EF553B",
          "size": [
           75
          ],
          "sizemode": "area",
          "sizeref": 0.425,
          "symbol": "circle"
         },
         "mode": "markers",
         "name": "Swanna",
         "orientation": "v",
         "showlegend": true,
         "type": "scatter",
         "x": [
          "Swanna"
         ],
         "xaxis": "x",
         "y": [
          473
         ],
         "yaxis": "y"
        },
        {
         "hovertemplate": "Name=%{x}<br>Total=%{y}<br>HP=%{marker.size}<extra></extra>",
         "legendgroup": "Frillish",
         "marker": {
          "color": "#00cc96",
          "size": [
           55
          ],
          "sizemode": "area",
          "sizeref": 0.425,
          "symbol": "circle"
         },
         "mode": "markers",
         "name": "Frillish",
         "orientation": "v",
         "showlegend": true,
         "type": "scatter",
         "x": [
          "Frillish"
         ],
         "xaxis": "x",
         "y": [
          335
         ],
         "yaxis": "y"
        },
        {
         "hovertemplate": "Name=%{x}<br>Total=%{y}<br>HP=%{marker.size}<extra></extra>",
         "legendgroup": "Jellicent",
         "marker": {
          "color": "#ab63fa",
          "size": [
           100
          ],
          "sizemode": "area",
          "sizeref": 0.425,
          "symbol": "circle"
         },
         "mode": "markers",
         "name": "Jellicent",
         "orientation": "v",
         "showlegend": true,
         "type": "scatter",
         "x": [
          "Jellicent"
         ],
         "xaxis": "x",
         "y": [
          480
         ],
         "yaxis": "y"
        },
        {
         "hovertemplate": "Name=%{x}<br>Total=%{y}<br>HP=%{marker.size}<extra></extra>",
         "legendgroup": "Alomomola",
         "marker": {
          "color": "#FFA15A",
          "size": [
           165
          ],
          "sizemode": "area",
          "sizeref": 0.425,
          "symbol": "circle"
         },
         "mode": "markers",
         "name": "Alomomola",
         "orientation": "v",
         "showlegend": true,
         "type": "scatter",
         "x": [
          "Alomomola"
         ],
         "xaxis": "x",
         "y": [
          470
         ],
         "yaxis": "y"
        },
        {
         "hovertemplate": "Name=%{x}<br>Total=%{y}<br>HP=%{marker.size}<extra></extra>",
         "legendgroup": "KeldeoOrdinary Forme",
         "marker": {
          "color": "#19d3f3",
          "size": [
           91
          ],
          "sizemode": "area",
          "sizeref": 0.425,
          "symbol": "circle"
         },
         "mode": "markers",
         "name": "KeldeoOrdinary Forme",
         "orientation": "v",
         "showlegend": true,
         "type": "scatter",
         "x": [
          "KeldeoOrdinary Forme"
         ],
         "xaxis": "x",
         "y": [
          580
         ],
         "yaxis": "y"
        },
        {
         "hovertemplate": "Name=%{x}<br>Total=%{y}<br>HP=%{marker.size}<extra></extra>",
         "legendgroup": "KeldeoResolute Forme",
         "marker": {
          "color": "#FF6692",
          "size": [
           91
          ],
          "sizemode": "area",
          "sizeref": 0.425,
          "symbol": "circle"
         },
         "mode": "markers",
         "name": "KeldeoResolute Forme",
         "orientation": "v",
         "showlegend": true,
         "type": "scatter",
         "x": [
          "KeldeoResolute Forme"
         ],
         "xaxis": "x",
         "y": [
          580
         ],
         "yaxis": "y"
        },
        {
         "hovertemplate": "Name=%{x}<br>Total=%{y}<br>HP=%{marker.size}<extra></extra>",
         "legendgroup": "Froakie",
         "marker": {
          "color": "#B6E880",
          "size": [
           41
          ],
          "sizemode": "area",
          "sizeref": 0.425,
          "symbol": "circle"
         },
         "mode": "markers",
         "name": "Froakie",
         "orientation": "v",
         "showlegend": true,
         "type": "scatter",
         "x": [
          "Froakie"
         ],
         "xaxis": "x",
         "y": [
          314
         ],
         "yaxis": "y"
        },
        {
         "hovertemplate": "Name=%{x}<br>Total=%{y}<br>HP=%{marker.size}<extra></extra>",
         "legendgroup": "Frogadier",
         "marker": {
          "color": "#FF97FF",
          "size": [
           54
          ],
          "sizemode": "area",
          "sizeref": 0.425,
          "symbol": "circle"
         },
         "mode": "markers",
         "name": "Frogadier",
         "orientation": "v",
         "showlegend": true,
         "type": "scatter",
         "x": [
          "Frogadier"
         ],
         "xaxis": "x",
         "y": [
          405
         ],
         "yaxis": "y"
        },
        {
         "hovertemplate": "Name=%{x}<br>Total=%{y}<br>HP=%{marker.size}<extra></extra>",
         "legendgroup": "Greninja",
         "marker": {
          "color": "#FECB52",
          "size": [
           72
          ],
          "sizemode": "area",
          "sizeref": 0.425,
          "symbol": "circle"
         },
         "mode": "markers",
         "name": "Greninja",
         "orientation": "v",
         "showlegend": true,
         "type": "scatter",
         "x": [
          "Greninja"
         ],
         "xaxis": "x",
         "y": [
          530
         ],
         "yaxis": "y"
        },
        {
         "hovertemplate": "Name=%{x}<br>Total=%{y}<br>HP=%{marker.size}<extra></extra>",
         "legendgroup": "Clauncher",
         "marker": {
          "color": "#636efa",
          "size": [
           50
          ],
          "sizemode": "area",
          "sizeref": 0.425,
          "symbol": "circle"
         },
         "mode": "markers",
         "name": "Clauncher",
         "orientation": "v",
         "showlegend": true,
         "type": "scatter",
         "x": [
          "Clauncher"
         ],
         "xaxis": "x",
         "y": [
          330
         ],
         "yaxis": "y"
        },
        {
         "hovertemplate": "Name=%{x}<br>Total=%{y}<br>HP=%{marker.size}<extra></extra>",
         "legendgroup": "Clawitzer",
         "marker": {
          "color": "#EF553B",
          "size": [
           71
          ],
          "sizemode": "area",
          "sizeref": 0.425,
          "symbol": "circle"
         },
         "mode": "markers",
         "name": "Clawitzer",
         "orientation": "v",
         "showlegend": true,
         "type": "scatter",
         "x": [
          "Clawitzer"
         ],
         "xaxis": "x",
         "y": [
          500
         ],
         "yaxis": "y"
        }
       ],
       "layout": {
        "legend": {
         "itemsizing": "constant",
         "title": {
          "text": "Name"
         },
         "tracegroupgap": 0
        },
        "margin": {
         "t": 60
        },
        "template": {
         "data": {
          "bar": [
           {
            "error_x": {
             "color": "#2a3f5f"
            },
            "error_y": {
             "color": "#2a3f5f"
            },
            "marker": {
             "line": {
              "color": "#E5ECF6",
              "width": 0.5
             },
             "pattern": {
              "fillmode": "overlay",
              "size": 10,
              "solidity": 0.2
             }
            },
            "type": "bar"
           }
          ],
          "barpolar": [
           {
            "marker": {
             "line": {
              "color": "#E5ECF6",
              "width": 0.5
             },
             "pattern": {
              "fillmode": "overlay",
              "size": 10,
              "solidity": 0.2
             }
            },
            "type": "barpolar"
           }
          ],
          "carpet": [
           {
            "aaxis": {
             "endlinecolor": "#2a3f5f",
             "gridcolor": "white",
             "linecolor": "white",
             "minorgridcolor": "white",
             "startlinecolor": "#2a3f5f"
            },
            "baxis": {
             "endlinecolor": "#2a3f5f",
             "gridcolor": "white",
             "linecolor": "white",
             "minorgridcolor": "white",
             "startlinecolor": "#2a3f5f"
            },
            "type": "carpet"
           }
          ],
          "choropleth": [
           {
            "colorbar": {
             "outlinewidth": 0,
             "ticks": ""
            },
            "type": "choropleth"
           }
          ],
          "contour": [
           {
            "colorbar": {
             "outlinewidth": 0,
             "ticks": ""
            },
            "colorscale": [
             [
              0,
              "#0d0887"
             ],
             [
              0.1111111111111111,
              "#46039f"
             ],
             [
              0.2222222222222222,
              "#7201a8"
             ],
             [
              0.3333333333333333,
              "#9c179e"
             ],
             [
              0.4444444444444444,
              "#bd3786"
             ],
             [
              0.5555555555555556,
              "#d8576b"
             ],
             [
              0.6666666666666666,
              "#ed7953"
             ],
             [
              0.7777777777777778,
              "#fb9f3a"
             ],
             [
              0.8888888888888888,
              "#fdca26"
             ],
             [
              1,
              "#f0f921"
             ]
            ],
            "type": "contour"
           }
          ],
          "contourcarpet": [
           {
            "colorbar": {
             "outlinewidth": 0,
             "ticks": ""
            },
            "type": "contourcarpet"
           }
          ],
          "heatmap": [
           {
            "colorbar": {
             "outlinewidth": 0,
             "ticks": ""
            },
            "colorscale": [
             [
              0,
              "#0d0887"
             ],
             [
              0.1111111111111111,
              "#46039f"
             ],
             [
              0.2222222222222222,
              "#7201a8"
             ],
             [
              0.3333333333333333,
              "#9c179e"
             ],
             [
              0.4444444444444444,
              "#bd3786"
             ],
             [
              0.5555555555555556,
              "#d8576b"
             ],
             [
              0.6666666666666666,
              "#ed7953"
             ],
             [
              0.7777777777777778,
              "#fb9f3a"
             ],
             [
              0.8888888888888888,
              "#fdca26"
             ],
             [
              1,
              "#f0f921"
             ]
            ],
            "type": "heatmap"
           }
          ],
          "heatmapgl": [
           {
            "colorbar": {
             "outlinewidth": 0,
             "ticks": ""
            },
            "colorscale": [
             [
              0,
              "#0d0887"
             ],
             [
              0.1111111111111111,
              "#46039f"
             ],
             [
              0.2222222222222222,
              "#7201a8"
             ],
             [
              0.3333333333333333,
              "#9c179e"
             ],
             [
              0.4444444444444444,
              "#bd3786"
             ],
             [
              0.5555555555555556,
              "#d8576b"
             ],
             [
              0.6666666666666666,
              "#ed7953"
             ],
             [
              0.7777777777777778,
              "#fb9f3a"
             ],
             [
              0.8888888888888888,
              "#fdca26"
             ],
             [
              1,
              "#f0f921"
             ]
            ],
            "type": "heatmapgl"
           }
          ],
          "histogram": [
           {
            "marker": {
             "pattern": {
              "fillmode": "overlay",
              "size": 10,
              "solidity": 0.2
             }
            },
            "type": "histogram"
           }
          ],
          "histogram2d": [
           {
            "colorbar": {
             "outlinewidth": 0,
             "ticks": ""
            },
            "colorscale": [
             [
              0,
              "#0d0887"
             ],
             [
              0.1111111111111111,
              "#46039f"
             ],
             [
              0.2222222222222222,
              "#7201a8"
             ],
             [
              0.3333333333333333,
              "#9c179e"
             ],
             [
              0.4444444444444444,
              "#bd3786"
             ],
             [
              0.5555555555555556,
              "#d8576b"
             ],
             [
              0.6666666666666666,
              "#ed7953"
             ],
             [
              0.7777777777777778,
              "#fb9f3a"
             ],
             [
              0.8888888888888888,
              "#fdca26"
             ],
             [
              1,
              "#f0f921"
             ]
            ],
            "type": "histogram2d"
           }
          ],
          "histogram2dcontour": [
           {
            "colorbar": {
             "outlinewidth": 0,
             "ticks": ""
            },
            "colorscale": [
             [
              0,
              "#0d0887"
             ],
             [
              0.1111111111111111,
              "#46039f"
             ],
             [
              0.2222222222222222,
              "#7201a8"
             ],
             [
              0.3333333333333333,
              "#9c179e"
             ],
             [
              0.4444444444444444,
              "#bd3786"
             ],
             [
              0.5555555555555556,
              "#d8576b"
             ],
             [
              0.6666666666666666,
              "#ed7953"
             ],
             [
              0.7777777777777778,
              "#fb9f3a"
             ],
             [
              0.8888888888888888,
              "#fdca26"
             ],
             [
              1,
              "#f0f921"
             ]
            ],
            "type": "histogram2dcontour"
           }
          ],
          "mesh3d": [
           {
            "colorbar": {
             "outlinewidth": 0,
             "ticks": ""
            },
            "type": "mesh3d"
           }
          ],
          "parcoords": [
           {
            "line": {
             "colorbar": {
              "outlinewidth": 0,
              "ticks": ""
             }
            },
            "type": "parcoords"
           }
          ],
          "pie": [
           {
            "automargin": true,
            "type": "pie"
           }
          ],
          "scatter": [
           {
            "fillpattern": {
             "fillmode": "overlay",
             "size": 10,
             "solidity": 0.2
            },
            "type": "scatter"
           }
          ],
          "scatter3d": [
           {
            "line": {
             "colorbar": {
              "outlinewidth": 0,
              "ticks": ""
             }
            },
            "marker": {
             "colorbar": {
              "outlinewidth": 0,
              "ticks": ""
             }
            },
            "type": "scatter3d"
           }
          ],
          "scattercarpet": [
           {
            "marker": {
             "colorbar": {
              "outlinewidth": 0,
              "ticks": ""
             }
            },
            "type": "scattercarpet"
           }
          ],
          "scattergeo": [
           {
            "marker": {
             "colorbar": {
              "outlinewidth": 0,
              "ticks": ""
             }
            },
            "type": "scattergeo"
           }
          ],
          "scattergl": [
           {
            "marker": {
             "colorbar": {
              "outlinewidth": 0,
              "ticks": ""
             }
            },
            "type": "scattergl"
           }
          ],
          "scattermapbox": [
           {
            "marker": {
             "colorbar": {
              "outlinewidth": 0,
              "ticks": ""
             }
            },
            "type": "scattermapbox"
           }
          ],
          "scatterpolar": [
           {
            "marker": {
             "colorbar": {
              "outlinewidth": 0,
              "ticks": ""
             }
            },
            "type": "scatterpolar"
           }
          ],
          "scatterpolargl": [
           {
            "marker": {
             "colorbar": {
              "outlinewidth": 0,
              "ticks": ""
             }
            },
            "type": "scatterpolargl"
           }
          ],
          "scatterternary": [
           {
            "marker": {
             "colorbar": {
              "outlinewidth": 0,
              "ticks": ""
             }
            },
            "type": "scatterternary"
           }
          ],
          "surface": [
           {
            "colorbar": {
             "outlinewidth": 0,
             "ticks": ""
            },
            "colorscale": [
             [
              0,
              "#0d0887"
             ],
             [
              0.1111111111111111,
              "#46039f"
             ],
             [
              0.2222222222222222,
              "#7201a8"
             ],
             [
              0.3333333333333333,
              "#9c179e"
             ],
             [
              0.4444444444444444,
              "#bd3786"
             ],
             [
              0.5555555555555556,
              "#d8576b"
             ],
             [
              0.6666666666666666,
              "#ed7953"
             ],
             [
              0.7777777777777778,
              "#fb9f3a"
             ],
             [
              0.8888888888888888,
              "#fdca26"
             ],
             [
              1,
              "#f0f921"
             ]
            ],
            "type": "surface"
           }
          ],
          "table": [
           {
            "cells": {
             "fill": {
              "color": "#EBF0F8"
             },
             "line": {
              "color": "white"
             }
            },
            "header": {
             "fill": {
              "color": "#C8D4E3"
             },
             "line": {
              "color": "white"
             }
            },
            "type": "table"
           }
          ]
         },
         "layout": {
          "annotationdefaults": {
           "arrowcolor": "#2a3f5f",
           "arrowhead": 0,
           "arrowwidth": 1
          },
          "autotypenumbers": "strict",
          "coloraxis": {
           "colorbar": {
            "outlinewidth": 0,
            "ticks": ""
           }
          },
          "colorscale": {
           "diverging": [
            [
             0,
             "#8e0152"
            ],
            [
             0.1,
             "#c51b7d"
            ],
            [
             0.2,
             "#de77ae"
            ],
            [
             0.3,
             "#f1b6da"
            ],
            [
             0.4,
             "#fde0ef"
            ],
            [
             0.5,
             "#f7f7f7"
            ],
            [
             0.6,
             "#e6f5d0"
            ],
            [
             0.7,
             "#b8e186"
            ],
            [
             0.8,
             "#7fbc41"
            ],
            [
             0.9,
             "#4d9221"
            ],
            [
             1,
             "#276419"
            ]
           ],
           "sequential": [
            [
             0,
             "#0d0887"
            ],
            [
             0.1111111111111111,
             "#46039f"
            ],
            [
             0.2222222222222222,
             "#7201a8"
            ],
            [
             0.3333333333333333,
             "#9c179e"
            ],
            [
             0.4444444444444444,
             "#bd3786"
            ],
            [
             0.5555555555555556,
             "#d8576b"
            ],
            [
             0.6666666666666666,
             "#ed7953"
            ],
            [
             0.7777777777777778,
             "#fb9f3a"
            ],
            [
             0.8888888888888888,
             "#fdca26"
            ],
            [
             1,
             "#f0f921"
            ]
           ],
           "sequentialminus": [
            [
             0,
             "#0d0887"
            ],
            [
             0.1111111111111111,
             "#46039f"
            ],
            [
             0.2222222222222222,
             "#7201a8"
            ],
            [
             0.3333333333333333,
             "#9c179e"
            ],
            [
             0.4444444444444444,
             "#bd3786"
            ],
            [
             0.5555555555555556,
             "#d8576b"
            ],
            [
             0.6666666666666666,
             "#ed7953"
            ],
            [
             0.7777777777777778,
             "#fb9f3a"
            ],
            [
             0.8888888888888888,
             "#fdca26"
            ],
            [
             1,
             "#f0f921"
            ]
           ]
          },
          "colorway": [
           "#636efa",
           "#EF553B",
           "#00cc96",
           "#ab63fa",
           "#FFA15A",
           "#19d3f3",
           "#FF6692",
           "#B6E880",
           "#FF97FF",
           "#FECB52"
          ],
          "font": {
           "color": "#2a3f5f"
          },
          "geo": {
           "bgcolor": "white",
           "lakecolor": "white",
           "landcolor": "#E5ECF6",
           "showlakes": true,
           "showland": true,
           "subunitcolor": "white"
          },
          "hoverlabel": {
           "align": "left"
          },
          "hovermode": "closest",
          "mapbox": {
           "style": "light"
          },
          "paper_bgcolor": "white",
          "plot_bgcolor": "#E5ECF6",
          "polar": {
           "angularaxis": {
            "gridcolor": "white",
            "linecolor": "white",
            "ticks": ""
           },
           "bgcolor": "#E5ECF6",
           "radialaxis": {
            "gridcolor": "white",
            "linecolor": "white",
            "ticks": ""
           }
          },
          "scene": {
           "xaxis": {
            "backgroundcolor": "#E5ECF6",
            "gridcolor": "white",
            "gridwidth": 2,
            "linecolor": "white",
            "showbackground": true,
            "ticks": "",
            "zerolinecolor": "white"
           },
           "yaxis": {
            "backgroundcolor": "#E5ECF6",
            "gridcolor": "white",
            "gridwidth": 2,
            "linecolor": "white",
            "showbackground": true,
            "ticks": "",
            "zerolinecolor": "white"
           },
           "zaxis": {
            "backgroundcolor": "#E5ECF6",
            "gridcolor": "white",
            "gridwidth": 2,
            "linecolor": "white",
            "showbackground": true,
            "ticks": "",
            "zerolinecolor": "white"
           }
          },
          "shapedefaults": {
           "line": {
            "color": "#2a3f5f"
           }
          },
          "ternary": {
           "aaxis": {
            "gridcolor": "white",
            "linecolor": "white",
            "ticks": ""
           },
           "baxis": {
            "gridcolor": "white",
            "linecolor": "white",
            "ticks": ""
           },
           "bgcolor": "#E5ECF6",
           "caxis": {
            "gridcolor": "white",
            "linecolor": "white",
            "ticks": ""
           }
          },
          "title": {
           "x": 0.05
          },
          "xaxis": {
           "automargin": true,
           "gridcolor": "white",
           "linecolor": "white",
           "ticks": "",
           "title": {
            "standoff": 15
           },
           "zerolinecolor": "white",
           "zerolinewidth": 2
          },
          "yaxis": {
           "automargin": true,
           "gridcolor": "white",
           "linecolor": "white",
           "ticks": "",
           "title": {
            "standoff": 15
           },
           "zerolinecolor": "white",
           "zerolinewidth": 2
          }
         }
        },
        "xaxis": {
         "anchor": "y",
         "categoryarray": [
          "Squirtle",
          "Wartortle",
          "Blastoise",
          "BlastoiseMega Blastoise",
          "Psyduck",
          "Golduck",
          "Poliwag",
          "Poliwhirl",
          "Poliwrath",
          "Tentacool",
          "Tentacruel",
          "Slowpoke",
          "Slowbro",
          "SlowbroMega Slowbro",
          "Seel",
          "Dewgong",
          "Shellder",
          "Cloyster",
          "Krabby",
          "Kingler",
          "Horsea",
          "Seadra",
          "Goldeen",
          "Seaking",
          "Staryu",
          "Starmie",
          "Magikarp",
          "Gyarados",
          "GyaradosMega Gyarados",
          "Lapras",
          "Vaporeon",
          "Totodile",
          "Croconaw",
          "Feraligatr",
          "Chinchou",
          "Lanturn",
          "Marill",
          "Azumarill",
          "Politoed",
          "Wooper",
          "Quagsire",
          "Slowking",
          "Qwilfish",
          "Corsola",
          "Remoraid",
          "Octillery",
          "Mantine",
          "Kingdra",
          "Suicune",
          "Mudkip",
          "Marshtomp",
          "Swampert",
          "SwampertMega Swampert",
          "Lotad",
          "Lombre",
          "Ludicolo",
          "Wingull",
          "Pelipper",
          "Carvanha",
          "Sharpedo",
          "SharpedoMega Sharpedo",
          "Wailmer",
          "Wailord",
          "Barboach",
          "Whiscash",
          "Corphish",
          "Crawdaunt",
          "Feebas",
          "Milotic",
          "Clamperl",
          "Huntail",
          "Gorebyss",
          "Relicanth",
          "Luvdisc",
          "Kyogre",
          "KyogrePrimal Kyogre",
          "Piplup",
          "Prinplup",
          "Empoleon",
          "Buizel",
          "Floatzel",
          "Shellos",
          "Gastrodon",
          "Finneon",
          "Lumineon",
          "Mantyke",
          "Palkia",
          "Phione",
          "Manaphy",
          "Oshawott",
          "Dewott",
          "Samurott",
          "Panpour",
          "Simipour",
          "Tympole",
          "Palpitoad",
          "Seismitoad",
          "Basculin",
          "Tirtouga",
          "Carracosta",
          "Ducklett",
          "Swanna",
          "Frillish",
          "Jellicent",
          "Alomomola",
          "KeldeoOrdinary Forme",
          "KeldeoResolute Forme",
          "Froakie",
          "Frogadier",
          "Greninja",
          "Clauncher",
          "Clawitzer"
         ],
         "categoryorder": "array",
         "domain": [
          0,
          1
         ],
         "title": {
          "text": "Name"
         }
        },
        "yaxis": {
         "anchor": "x",
         "domain": [
          0,
          1
         ],
         "title": {
          "text": "Total"
         }
        }
       }
      },
      "text/html": [
       "<div>                            <div id=\"22c17340-d37e-431c-999b-dceb198198a3\" class=\"plotly-graph-div\" style=\"height:525px; width:100%;\"></div>            <script type=\"text/javascript\">                require([\"plotly\"], function(Plotly) {                    window.PLOTLYENV=window.PLOTLYENV || {};                                    if (document.getElementById(\"22c17340-d37e-431c-999b-dceb198198a3\")) {                    Plotly.newPlot(                        \"22c17340-d37e-431c-999b-dceb198198a3\",                        [{\"hovertemplate\":\"Name=%{x}<br>Total=%{y}<br>HP=%{marker.size}<extra></extra>\",\"legendgroup\":\"Squirtle\",\"marker\":{\"color\":\"#636efa\",\"size\":[44],\"sizemode\":\"area\",\"sizeref\":0.425,\"symbol\":\"circle\"},\"mode\":\"markers\",\"name\":\"Squirtle\",\"orientation\":\"v\",\"showlegend\":true,\"x\":[\"Squirtle\"],\"xaxis\":\"x\",\"y\":[314],\"yaxis\":\"y\",\"type\":\"scatter\"},{\"hovertemplate\":\"Name=%{x}<br>Total=%{y}<br>HP=%{marker.size}<extra></extra>\",\"legendgroup\":\"Wartortle\",\"marker\":{\"color\":\"#EF553B\",\"size\":[59],\"sizemode\":\"area\",\"sizeref\":0.425,\"symbol\":\"circle\"},\"mode\":\"markers\",\"name\":\"Wartortle\",\"orientation\":\"v\",\"showlegend\":true,\"x\":[\"Wartortle\"],\"xaxis\":\"x\",\"y\":[405],\"yaxis\":\"y\",\"type\":\"scatter\"},{\"hovertemplate\":\"Name=%{x}<br>Total=%{y}<br>HP=%{marker.size}<extra></extra>\",\"legendgroup\":\"Blastoise\",\"marker\":{\"color\":\"#00cc96\",\"size\":[79],\"sizemode\":\"area\",\"sizeref\":0.425,\"symbol\":\"circle\"},\"mode\":\"markers\",\"name\":\"Blastoise\",\"orientation\":\"v\",\"showlegend\":true,\"x\":[\"Blastoise\"],\"xaxis\":\"x\",\"y\":[530],\"yaxis\":\"y\",\"type\":\"scatter\"},{\"hovertemplate\":\"Name=%{x}<br>Total=%{y}<br>HP=%{marker.size}<extra></extra>\",\"legendgroup\":\"BlastoiseMega Blastoise\",\"marker\":{\"color\":\"#ab63fa\",\"size\":[79],\"sizemode\":\"area\",\"sizeref\":0.425,\"symbol\":\"circle\"},\"mode\":\"markers\",\"name\":\"BlastoiseMega Blastoise\",\"orientation\":\"v\",\"showlegend\":true,\"x\":[\"BlastoiseMega Blastoise\"],\"xaxis\":\"x\",\"y\":[630],\"yaxis\":\"y\",\"type\":\"scatter\"},{\"hovertemplate\":\"Name=%{x}<br>Total=%{y}<br>HP=%{marker.size}<extra></extra>\",\"legendgroup\":\"Psyduck\",\"marker\":{\"color\":\"#FFA15A\",\"size\":[50],\"sizemode\":\"area\",\"sizeref\":0.425,\"symbol\":\"circle\"},\"mode\":\"markers\",\"name\":\"Psyduck\",\"orientation\":\"v\",\"showlegend\":true,\"x\":[\"Psyduck\"],\"xaxis\":\"x\",\"y\":[320],\"yaxis\":\"y\",\"type\":\"scatter\"},{\"hovertemplate\":\"Name=%{x}<br>Total=%{y}<br>HP=%{marker.size}<extra></extra>\",\"legendgroup\":\"Golduck\",\"marker\":{\"color\":\"#19d3f3\",\"size\":[80],\"sizemode\":\"area\",\"sizeref\":0.425,\"symbol\":\"circle\"},\"mode\":\"markers\",\"name\":\"Golduck\",\"orientation\":\"v\",\"showlegend\":true,\"x\":[\"Golduck\"],\"xaxis\":\"x\",\"y\":[500],\"yaxis\":\"y\",\"type\":\"scatter\"},{\"hovertemplate\":\"Name=%{x}<br>Total=%{y}<br>HP=%{marker.size}<extra></extra>\",\"legendgroup\":\"Poliwag\",\"marker\":{\"color\":\"#FF6692\",\"size\":[40],\"sizemode\":\"area\",\"sizeref\":0.425,\"symbol\":\"circle\"},\"mode\":\"markers\",\"name\":\"Poliwag\",\"orientation\":\"v\",\"showlegend\":true,\"x\":[\"Poliwag\"],\"xaxis\":\"x\",\"y\":[300],\"yaxis\":\"y\",\"type\":\"scatter\"},{\"hovertemplate\":\"Name=%{x}<br>Total=%{y}<br>HP=%{marker.size}<extra></extra>\",\"legendgroup\":\"Poliwhirl\",\"marker\":{\"color\":\"#B6E880\",\"size\":[65],\"sizemode\":\"area\",\"sizeref\":0.425,\"symbol\":\"circle\"},\"mode\":\"markers\",\"name\":\"Poliwhirl\",\"orientation\":\"v\",\"showlegend\":true,\"x\":[\"Poliwhirl\"],\"xaxis\":\"x\",\"y\":[385],\"yaxis\":\"y\",\"type\":\"scatter\"},{\"hovertemplate\":\"Name=%{x}<br>Total=%{y}<br>HP=%{marker.size}<extra></extra>\",\"legendgroup\":\"Poliwrath\",\"marker\":{\"color\":\"#FF97FF\",\"size\":[90],\"sizemode\":\"area\",\"sizeref\":0.425,\"symbol\":\"circle\"},\"mode\":\"markers\",\"name\":\"Poliwrath\",\"orientation\":\"v\",\"showlegend\":true,\"x\":[\"Poliwrath\"],\"xaxis\":\"x\",\"y\":[510],\"yaxis\":\"y\",\"type\":\"scatter\"},{\"hovertemplate\":\"Name=%{x}<br>Total=%{y}<br>HP=%{marker.size}<extra></extra>\",\"legendgroup\":\"Tentacool\",\"marker\":{\"color\":\"#FECB52\",\"size\":[40],\"sizemode\":\"area\",\"sizeref\":0.425,\"symbol\":\"circle\"},\"mode\":\"markers\",\"name\":\"Tentacool\",\"orientation\":\"v\",\"showlegend\":true,\"x\":[\"Tentacool\"],\"xaxis\":\"x\",\"y\":[335],\"yaxis\":\"y\",\"type\":\"scatter\"},{\"hovertemplate\":\"Name=%{x}<br>Total=%{y}<br>HP=%{marker.size}<extra></extra>\",\"legendgroup\":\"Tentacruel\",\"marker\":{\"color\":\"#636efa\",\"size\":[80],\"sizemode\":\"area\",\"sizeref\":0.425,\"symbol\":\"circle\"},\"mode\":\"markers\",\"name\":\"Tentacruel\",\"orientation\":\"v\",\"showlegend\":true,\"x\":[\"Tentacruel\"],\"xaxis\":\"x\",\"y\":[515],\"yaxis\":\"y\",\"type\":\"scatter\"},{\"hovertemplate\":\"Name=%{x}<br>Total=%{y}<br>HP=%{marker.size}<extra></extra>\",\"legendgroup\":\"Slowpoke\",\"marker\":{\"color\":\"#EF553B\",\"size\":[90],\"sizemode\":\"area\",\"sizeref\":0.425,\"symbol\":\"circle\"},\"mode\":\"markers\",\"name\":\"Slowpoke\",\"orientation\":\"v\",\"showlegend\":true,\"x\":[\"Slowpoke\"],\"xaxis\":\"x\",\"y\":[315],\"yaxis\":\"y\",\"type\":\"scatter\"},{\"hovertemplate\":\"Name=%{x}<br>Total=%{y}<br>HP=%{marker.size}<extra></extra>\",\"legendgroup\":\"Slowbro\",\"marker\":{\"color\":\"#00cc96\",\"size\":[95],\"sizemode\":\"area\",\"sizeref\":0.425,\"symbol\":\"circle\"},\"mode\":\"markers\",\"name\":\"Slowbro\",\"orientation\":\"v\",\"showlegend\":true,\"x\":[\"Slowbro\"],\"xaxis\":\"x\",\"y\":[490],\"yaxis\":\"y\",\"type\":\"scatter\"},{\"hovertemplate\":\"Name=%{x}<br>Total=%{y}<br>HP=%{marker.size}<extra></extra>\",\"legendgroup\":\"SlowbroMega Slowbro\",\"marker\":{\"color\":\"#ab63fa\",\"size\":[95],\"sizemode\":\"area\",\"sizeref\":0.425,\"symbol\":\"circle\"},\"mode\":\"markers\",\"name\":\"SlowbroMega Slowbro\",\"orientation\":\"v\",\"showlegend\":true,\"x\":[\"SlowbroMega Slowbro\"],\"xaxis\":\"x\",\"y\":[590],\"yaxis\":\"y\",\"type\":\"scatter\"},{\"hovertemplate\":\"Name=%{x}<br>Total=%{y}<br>HP=%{marker.size}<extra></extra>\",\"legendgroup\":\"Seel\",\"marker\":{\"color\":\"#FFA15A\",\"size\":[65],\"sizemode\":\"area\",\"sizeref\":0.425,\"symbol\":\"circle\"},\"mode\":\"markers\",\"name\":\"Seel\",\"orientation\":\"v\",\"showlegend\":true,\"x\":[\"Seel\"],\"xaxis\":\"x\",\"y\":[325],\"yaxis\":\"y\",\"type\":\"scatter\"},{\"hovertemplate\":\"Name=%{x}<br>Total=%{y}<br>HP=%{marker.size}<extra></extra>\",\"legendgroup\":\"Dewgong\",\"marker\":{\"color\":\"#19d3f3\",\"size\":[90],\"sizemode\":\"area\",\"sizeref\":0.425,\"symbol\":\"circle\"},\"mode\":\"markers\",\"name\":\"Dewgong\",\"orientation\":\"v\",\"showlegend\":true,\"x\":[\"Dewgong\"],\"xaxis\":\"x\",\"y\":[475],\"yaxis\":\"y\",\"type\":\"scatter\"},{\"hovertemplate\":\"Name=%{x}<br>Total=%{y}<br>HP=%{marker.size}<extra></extra>\",\"legendgroup\":\"Shellder\",\"marker\":{\"color\":\"#FF6692\",\"size\":[30],\"sizemode\":\"area\",\"sizeref\":0.425,\"symbol\":\"circle\"},\"mode\":\"markers\",\"name\":\"Shellder\",\"orientation\":\"v\",\"showlegend\":true,\"x\":[\"Shellder\"],\"xaxis\":\"x\",\"y\":[305],\"yaxis\":\"y\",\"type\":\"scatter\"},{\"hovertemplate\":\"Name=%{x}<br>Total=%{y}<br>HP=%{marker.size}<extra></extra>\",\"legendgroup\":\"Cloyster\",\"marker\":{\"color\":\"#B6E880\",\"size\":[50],\"sizemode\":\"area\",\"sizeref\":0.425,\"symbol\":\"circle\"},\"mode\":\"markers\",\"name\":\"Cloyster\",\"orientation\":\"v\",\"showlegend\":true,\"x\":[\"Cloyster\"],\"xaxis\":\"x\",\"y\":[525],\"yaxis\":\"y\",\"type\":\"scatter\"},{\"hovertemplate\":\"Name=%{x}<br>Total=%{y}<br>HP=%{marker.size}<extra></extra>\",\"legendgroup\":\"Krabby\",\"marker\":{\"color\":\"#FF97FF\",\"size\":[30],\"sizemode\":\"area\",\"sizeref\":0.425,\"symbol\":\"circle\"},\"mode\":\"markers\",\"name\":\"Krabby\",\"orientation\":\"v\",\"showlegend\":true,\"x\":[\"Krabby\"],\"xaxis\":\"x\",\"y\":[325],\"yaxis\":\"y\",\"type\":\"scatter\"},{\"hovertemplate\":\"Name=%{x}<br>Total=%{y}<br>HP=%{marker.size}<extra></extra>\",\"legendgroup\":\"Kingler\",\"marker\":{\"color\":\"#FECB52\",\"size\":[55],\"sizemode\":\"area\",\"sizeref\":0.425,\"symbol\":\"circle\"},\"mode\":\"markers\",\"name\":\"Kingler\",\"orientation\":\"v\",\"showlegend\":true,\"x\":[\"Kingler\"],\"xaxis\":\"x\",\"y\":[475],\"yaxis\":\"y\",\"type\":\"scatter\"},{\"hovertemplate\":\"Name=%{x}<br>Total=%{y}<br>HP=%{marker.size}<extra></extra>\",\"legendgroup\":\"Horsea\",\"marker\":{\"color\":\"#636efa\",\"size\":[30],\"sizemode\":\"area\",\"sizeref\":0.425,\"symbol\":\"circle\"},\"mode\":\"markers\",\"name\":\"Horsea\",\"orientation\":\"v\",\"showlegend\":true,\"x\":[\"Horsea\"],\"xaxis\":\"x\",\"y\":[295],\"yaxis\":\"y\",\"type\":\"scatter\"},{\"hovertemplate\":\"Name=%{x}<br>Total=%{y}<br>HP=%{marker.size}<extra></extra>\",\"legendgroup\":\"Seadra\",\"marker\":{\"color\":\"#EF553B\",\"size\":[55],\"sizemode\":\"area\",\"sizeref\":0.425,\"symbol\":\"circle\"},\"mode\":\"markers\",\"name\":\"Seadra\",\"orientation\":\"v\",\"showlegend\":true,\"x\":[\"Seadra\"],\"xaxis\":\"x\",\"y\":[440],\"yaxis\":\"y\",\"type\":\"scatter\"},{\"hovertemplate\":\"Name=%{x}<br>Total=%{y}<br>HP=%{marker.size}<extra></extra>\",\"legendgroup\":\"Goldeen\",\"marker\":{\"color\":\"#00cc96\",\"size\":[45],\"sizemode\":\"area\",\"sizeref\":0.425,\"symbol\":\"circle\"},\"mode\":\"markers\",\"name\":\"Goldeen\",\"orientation\":\"v\",\"showlegend\":true,\"x\":[\"Goldeen\"],\"xaxis\":\"x\",\"y\":[320],\"yaxis\":\"y\",\"type\":\"scatter\"},{\"hovertemplate\":\"Name=%{x}<br>Total=%{y}<br>HP=%{marker.size}<extra></extra>\",\"legendgroup\":\"Seaking\",\"marker\":{\"color\":\"#ab63fa\",\"size\":[80],\"sizemode\":\"area\",\"sizeref\":0.425,\"symbol\":\"circle\"},\"mode\":\"markers\",\"name\":\"Seaking\",\"orientation\":\"v\",\"showlegend\":true,\"x\":[\"Seaking\"],\"xaxis\":\"x\",\"y\":[450],\"yaxis\":\"y\",\"type\":\"scatter\"},{\"hovertemplate\":\"Name=%{x}<br>Total=%{y}<br>HP=%{marker.size}<extra></extra>\",\"legendgroup\":\"Staryu\",\"marker\":{\"color\":\"#FFA15A\",\"size\":[30],\"sizemode\":\"area\",\"sizeref\":0.425,\"symbol\":\"circle\"},\"mode\":\"markers\",\"name\":\"Staryu\",\"orientation\":\"v\",\"showlegend\":true,\"x\":[\"Staryu\"],\"xaxis\":\"x\",\"y\":[340],\"yaxis\":\"y\",\"type\":\"scatter\"},{\"hovertemplate\":\"Name=%{x}<br>Total=%{y}<br>HP=%{marker.size}<extra></extra>\",\"legendgroup\":\"Starmie\",\"marker\":{\"color\":\"#19d3f3\",\"size\":[60],\"sizemode\":\"area\",\"sizeref\":0.425,\"symbol\":\"circle\"},\"mode\":\"markers\",\"name\":\"Starmie\",\"orientation\":\"v\",\"showlegend\":true,\"x\":[\"Starmie\"],\"xaxis\":\"x\",\"y\":[520],\"yaxis\":\"y\",\"type\":\"scatter\"},{\"hovertemplate\":\"Name=%{x}<br>Total=%{y}<br>HP=%{marker.size}<extra></extra>\",\"legendgroup\":\"Magikarp\",\"marker\":{\"color\":\"#FF6692\",\"size\":[20],\"sizemode\":\"area\",\"sizeref\":0.425,\"symbol\":\"circle\"},\"mode\":\"markers\",\"name\":\"Magikarp\",\"orientation\":\"v\",\"showlegend\":true,\"x\":[\"Magikarp\"],\"xaxis\":\"x\",\"y\":[200],\"yaxis\":\"y\",\"type\":\"scatter\"},{\"hovertemplate\":\"Name=%{x}<br>Total=%{y}<br>HP=%{marker.size}<extra></extra>\",\"legendgroup\":\"Gyarados\",\"marker\":{\"color\":\"#B6E880\",\"size\":[95],\"sizemode\":\"area\",\"sizeref\":0.425,\"symbol\":\"circle\"},\"mode\":\"markers\",\"name\":\"Gyarados\",\"orientation\":\"v\",\"showlegend\":true,\"x\":[\"Gyarados\"],\"xaxis\":\"x\",\"y\":[540],\"yaxis\":\"y\",\"type\":\"scatter\"},{\"hovertemplate\":\"Name=%{x}<br>Total=%{y}<br>HP=%{marker.size}<extra></extra>\",\"legendgroup\":\"GyaradosMega Gyarados\",\"marker\":{\"color\":\"#FF97FF\",\"size\":[95],\"sizemode\":\"area\",\"sizeref\":0.425,\"symbol\":\"circle\"},\"mode\":\"markers\",\"name\":\"GyaradosMega Gyarados\",\"orientation\":\"v\",\"showlegend\":true,\"x\":[\"GyaradosMega Gyarados\"],\"xaxis\":\"x\",\"y\":[640],\"yaxis\":\"y\",\"type\":\"scatter\"},{\"hovertemplate\":\"Name=%{x}<br>Total=%{y}<br>HP=%{marker.size}<extra></extra>\",\"legendgroup\":\"Lapras\",\"marker\":{\"color\":\"#FECB52\",\"size\":[130],\"sizemode\":\"area\",\"sizeref\":0.425,\"symbol\":\"circle\"},\"mode\":\"markers\",\"name\":\"Lapras\",\"orientation\":\"v\",\"showlegend\":true,\"x\":[\"Lapras\"],\"xaxis\":\"x\",\"y\":[535],\"yaxis\":\"y\",\"type\":\"scatter\"},{\"hovertemplate\":\"Name=%{x}<br>Total=%{y}<br>HP=%{marker.size}<extra></extra>\",\"legendgroup\":\"Vaporeon\",\"marker\":{\"color\":\"#636efa\",\"size\":[130],\"sizemode\":\"area\",\"sizeref\":0.425,\"symbol\":\"circle\"},\"mode\":\"markers\",\"name\":\"Vaporeon\",\"orientation\":\"v\",\"showlegend\":true,\"x\":[\"Vaporeon\"],\"xaxis\":\"x\",\"y\":[525],\"yaxis\":\"y\",\"type\":\"scatter\"},{\"hovertemplate\":\"Name=%{x}<br>Total=%{y}<br>HP=%{marker.size}<extra></extra>\",\"legendgroup\":\"Totodile\",\"marker\":{\"color\":\"#EF553B\",\"size\":[50],\"sizemode\":\"area\",\"sizeref\":0.425,\"symbol\":\"circle\"},\"mode\":\"markers\",\"name\":\"Totodile\",\"orientation\":\"v\",\"showlegend\":true,\"x\":[\"Totodile\"],\"xaxis\":\"x\",\"y\":[314],\"yaxis\":\"y\",\"type\":\"scatter\"},{\"hovertemplate\":\"Name=%{x}<br>Total=%{y}<br>HP=%{marker.size}<extra></extra>\",\"legendgroup\":\"Croconaw\",\"marker\":{\"color\":\"#00cc96\",\"size\":[65],\"sizemode\":\"area\",\"sizeref\":0.425,\"symbol\":\"circle\"},\"mode\":\"markers\",\"name\":\"Croconaw\",\"orientation\":\"v\",\"showlegend\":true,\"x\":[\"Croconaw\"],\"xaxis\":\"x\",\"y\":[405],\"yaxis\":\"y\",\"type\":\"scatter\"},{\"hovertemplate\":\"Name=%{x}<br>Total=%{y}<br>HP=%{marker.size}<extra></extra>\",\"legendgroup\":\"Feraligatr\",\"marker\":{\"color\":\"#ab63fa\",\"size\":[85],\"sizemode\":\"area\",\"sizeref\":0.425,\"symbol\":\"circle\"},\"mode\":\"markers\",\"name\":\"Feraligatr\",\"orientation\":\"v\",\"showlegend\":true,\"x\":[\"Feraligatr\"],\"xaxis\":\"x\",\"y\":[530],\"yaxis\":\"y\",\"type\":\"scatter\"},{\"hovertemplate\":\"Name=%{x}<br>Total=%{y}<br>HP=%{marker.size}<extra></extra>\",\"legendgroup\":\"Chinchou\",\"marker\":{\"color\":\"#FFA15A\",\"size\":[75],\"sizemode\":\"area\",\"sizeref\":0.425,\"symbol\":\"circle\"},\"mode\":\"markers\",\"name\":\"Chinchou\",\"orientation\":\"v\",\"showlegend\":true,\"x\":[\"Chinchou\"],\"xaxis\":\"x\",\"y\":[330],\"yaxis\":\"y\",\"type\":\"scatter\"},{\"hovertemplate\":\"Name=%{x}<br>Total=%{y}<br>HP=%{marker.size}<extra></extra>\",\"legendgroup\":\"Lanturn\",\"marker\":{\"color\":\"#19d3f3\",\"size\":[125],\"sizemode\":\"area\",\"sizeref\":0.425,\"symbol\":\"circle\"},\"mode\":\"markers\",\"name\":\"Lanturn\",\"orientation\":\"v\",\"showlegend\":true,\"x\":[\"Lanturn\"],\"xaxis\":\"x\",\"y\":[460],\"yaxis\":\"y\",\"type\":\"scatter\"},{\"hovertemplate\":\"Name=%{x}<br>Total=%{y}<br>HP=%{marker.size}<extra></extra>\",\"legendgroup\":\"Marill\",\"marker\":{\"color\":\"#FF6692\",\"size\":[70],\"sizemode\":\"area\",\"sizeref\":0.425,\"symbol\":\"circle\"},\"mode\":\"markers\",\"name\":\"Marill\",\"orientation\":\"v\",\"showlegend\":true,\"x\":[\"Marill\"],\"xaxis\":\"x\",\"y\":[250],\"yaxis\":\"y\",\"type\":\"scatter\"},{\"hovertemplate\":\"Name=%{x}<br>Total=%{y}<br>HP=%{marker.size}<extra></extra>\",\"legendgroup\":\"Azumarill\",\"marker\":{\"color\":\"#B6E880\",\"size\":[100],\"sizemode\":\"area\",\"sizeref\":0.425,\"symbol\":\"circle\"},\"mode\":\"markers\",\"name\":\"Azumarill\",\"orientation\":\"v\",\"showlegend\":true,\"x\":[\"Azumarill\"],\"xaxis\":\"x\",\"y\":[420],\"yaxis\":\"y\",\"type\":\"scatter\"},{\"hovertemplate\":\"Name=%{x}<br>Total=%{y}<br>HP=%{marker.size}<extra></extra>\",\"legendgroup\":\"Politoed\",\"marker\":{\"color\":\"#FF97FF\",\"size\":[90],\"sizemode\":\"area\",\"sizeref\":0.425,\"symbol\":\"circle\"},\"mode\":\"markers\",\"name\":\"Politoed\",\"orientation\":\"v\",\"showlegend\":true,\"x\":[\"Politoed\"],\"xaxis\":\"x\",\"y\":[500],\"yaxis\":\"y\",\"type\":\"scatter\"},{\"hovertemplate\":\"Name=%{x}<br>Total=%{y}<br>HP=%{marker.size}<extra></extra>\",\"legendgroup\":\"Wooper\",\"marker\":{\"color\":\"#FECB52\",\"size\":[55],\"sizemode\":\"area\",\"sizeref\":0.425,\"symbol\":\"circle\"},\"mode\":\"markers\",\"name\":\"Wooper\",\"orientation\":\"v\",\"showlegend\":true,\"x\":[\"Wooper\"],\"xaxis\":\"x\",\"y\":[210],\"yaxis\":\"y\",\"type\":\"scatter\"},{\"hovertemplate\":\"Name=%{x}<br>Total=%{y}<br>HP=%{marker.size}<extra></extra>\",\"legendgroup\":\"Quagsire\",\"marker\":{\"color\":\"#636efa\",\"size\":[95],\"sizemode\":\"area\",\"sizeref\":0.425,\"symbol\":\"circle\"},\"mode\":\"markers\",\"name\":\"Quagsire\",\"orientation\":\"v\",\"showlegend\":true,\"x\":[\"Quagsire\"],\"xaxis\":\"x\",\"y\":[430],\"yaxis\":\"y\",\"type\":\"scatter\"},{\"hovertemplate\":\"Name=%{x}<br>Total=%{y}<br>HP=%{marker.size}<extra></extra>\",\"legendgroup\":\"Slowking\",\"marker\":{\"color\":\"#EF553B\",\"size\":[95],\"sizemode\":\"area\",\"sizeref\":0.425,\"symbol\":\"circle\"},\"mode\":\"markers\",\"name\":\"Slowking\",\"orientation\":\"v\",\"showlegend\":true,\"x\":[\"Slowking\"],\"xaxis\":\"x\",\"y\":[490],\"yaxis\":\"y\",\"type\":\"scatter\"},{\"hovertemplate\":\"Name=%{x}<br>Total=%{y}<br>HP=%{marker.size}<extra></extra>\",\"legendgroup\":\"Qwilfish\",\"marker\":{\"color\":\"#00cc96\",\"size\":[65],\"sizemode\":\"area\",\"sizeref\":0.425,\"symbol\":\"circle\"},\"mode\":\"markers\",\"name\":\"Qwilfish\",\"orientation\":\"v\",\"showlegend\":true,\"x\":[\"Qwilfish\"],\"xaxis\":\"x\",\"y\":[430],\"yaxis\":\"y\",\"type\":\"scatter\"},{\"hovertemplate\":\"Name=%{x}<br>Total=%{y}<br>HP=%{marker.size}<extra></extra>\",\"legendgroup\":\"Corsola\",\"marker\":{\"color\":\"#ab63fa\",\"size\":[55],\"sizemode\":\"area\",\"sizeref\":0.425,\"symbol\":\"circle\"},\"mode\":\"markers\",\"name\":\"Corsola\",\"orientation\":\"v\",\"showlegend\":true,\"x\":[\"Corsola\"],\"xaxis\":\"x\",\"y\":[380],\"yaxis\":\"y\",\"type\":\"scatter\"},{\"hovertemplate\":\"Name=%{x}<br>Total=%{y}<br>HP=%{marker.size}<extra></extra>\",\"legendgroup\":\"Remoraid\",\"marker\":{\"color\":\"#FFA15A\",\"size\":[35],\"sizemode\":\"area\",\"sizeref\":0.425,\"symbol\":\"circle\"},\"mode\":\"markers\",\"name\":\"Remoraid\",\"orientation\":\"v\",\"showlegend\":true,\"x\":[\"Remoraid\"],\"xaxis\":\"x\",\"y\":[300],\"yaxis\":\"y\",\"type\":\"scatter\"},{\"hovertemplate\":\"Name=%{x}<br>Total=%{y}<br>HP=%{marker.size}<extra></extra>\",\"legendgroup\":\"Octillery\",\"marker\":{\"color\":\"#19d3f3\",\"size\":[75],\"sizemode\":\"area\",\"sizeref\":0.425,\"symbol\":\"circle\"},\"mode\":\"markers\",\"name\":\"Octillery\",\"orientation\":\"v\",\"showlegend\":true,\"x\":[\"Octillery\"],\"xaxis\":\"x\",\"y\":[480],\"yaxis\":\"y\",\"type\":\"scatter\"},{\"hovertemplate\":\"Name=%{x}<br>Total=%{y}<br>HP=%{marker.size}<extra></extra>\",\"legendgroup\":\"Mantine\",\"marker\":{\"color\":\"#FF6692\",\"size\":[65],\"sizemode\":\"area\",\"sizeref\":0.425,\"symbol\":\"circle\"},\"mode\":\"markers\",\"name\":\"Mantine\",\"orientation\":\"v\",\"showlegend\":true,\"x\":[\"Mantine\"],\"xaxis\":\"x\",\"y\":[465],\"yaxis\":\"y\",\"type\":\"scatter\"},{\"hovertemplate\":\"Name=%{x}<br>Total=%{y}<br>HP=%{marker.size}<extra></extra>\",\"legendgroup\":\"Kingdra\",\"marker\":{\"color\":\"#B6E880\",\"size\":[75],\"sizemode\":\"area\",\"sizeref\":0.425,\"symbol\":\"circle\"},\"mode\":\"markers\",\"name\":\"Kingdra\",\"orientation\":\"v\",\"showlegend\":true,\"x\":[\"Kingdra\"],\"xaxis\":\"x\",\"y\":[540],\"yaxis\":\"y\",\"type\":\"scatter\"},{\"hovertemplate\":\"Name=%{x}<br>Total=%{y}<br>HP=%{marker.size}<extra></extra>\",\"legendgroup\":\"Suicune\",\"marker\":{\"color\":\"#FF97FF\",\"size\":[100],\"sizemode\":\"area\",\"sizeref\":0.425,\"symbol\":\"circle\"},\"mode\":\"markers\",\"name\":\"Suicune\",\"orientation\":\"v\",\"showlegend\":true,\"x\":[\"Suicune\"],\"xaxis\":\"x\",\"y\":[580],\"yaxis\":\"y\",\"type\":\"scatter\"},{\"hovertemplate\":\"Name=%{x}<br>Total=%{y}<br>HP=%{marker.size}<extra></extra>\",\"legendgroup\":\"Mudkip\",\"marker\":{\"color\":\"#FECB52\",\"size\":[50],\"sizemode\":\"area\",\"sizeref\":0.425,\"symbol\":\"circle\"},\"mode\":\"markers\",\"name\":\"Mudkip\",\"orientation\":\"v\",\"showlegend\":true,\"x\":[\"Mudkip\"],\"xaxis\":\"x\",\"y\":[310],\"yaxis\":\"y\",\"type\":\"scatter\"},{\"hovertemplate\":\"Name=%{x}<br>Total=%{y}<br>HP=%{marker.size}<extra></extra>\",\"legendgroup\":\"Marshtomp\",\"marker\":{\"color\":\"#636efa\",\"size\":[70],\"sizemode\":\"area\",\"sizeref\":0.425,\"symbol\":\"circle\"},\"mode\":\"markers\",\"name\":\"Marshtomp\",\"orientation\":\"v\",\"showlegend\":true,\"x\":[\"Marshtomp\"],\"xaxis\":\"x\",\"y\":[405],\"yaxis\":\"y\",\"type\":\"scatter\"},{\"hovertemplate\":\"Name=%{x}<br>Total=%{y}<br>HP=%{marker.size}<extra></extra>\",\"legendgroup\":\"Swampert\",\"marker\":{\"color\":\"#EF553B\",\"size\":[100],\"sizemode\":\"area\",\"sizeref\":0.425,\"symbol\":\"circle\"},\"mode\":\"markers\",\"name\":\"Swampert\",\"orientation\":\"v\",\"showlegend\":true,\"x\":[\"Swampert\"],\"xaxis\":\"x\",\"y\":[535],\"yaxis\":\"y\",\"type\":\"scatter\"},{\"hovertemplate\":\"Name=%{x}<br>Total=%{y}<br>HP=%{marker.size}<extra></extra>\",\"legendgroup\":\"SwampertMega Swampert\",\"marker\":{\"color\":\"#00cc96\",\"size\":[100],\"sizemode\":\"area\",\"sizeref\":0.425,\"symbol\":\"circle\"},\"mode\":\"markers\",\"name\":\"SwampertMega Swampert\",\"orientation\":\"v\",\"showlegend\":true,\"x\":[\"SwampertMega Swampert\"],\"xaxis\":\"x\",\"y\":[635],\"yaxis\":\"y\",\"type\":\"scatter\"},{\"hovertemplate\":\"Name=%{x}<br>Total=%{y}<br>HP=%{marker.size}<extra></extra>\",\"legendgroup\":\"Lotad\",\"marker\":{\"color\":\"#ab63fa\",\"size\":[40],\"sizemode\":\"area\",\"sizeref\":0.425,\"symbol\":\"circle\"},\"mode\":\"markers\",\"name\":\"Lotad\",\"orientation\":\"v\",\"showlegend\":true,\"x\":[\"Lotad\"],\"xaxis\":\"x\",\"y\":[220],\"yaxis\":\"y\",\"type\":\"scatter\"},{\"hovertemplate\":\"Name=%{x}<br>Total=%{y}<br>HP=%{marker.size}<extra></extra>\",\"legendgroup\":\"Lombre\",\"marker\":{\"color\":\"#FFA15A\",\"size\":[60],\"sizemode\":\"area\",\"sizeref\":0.425,\"symbol\":\"circle\"},\"mode\":\"markers\",\"name\":\"Lombre\",\"orientation\":\"v\",\"showlegend\":true,\"x\":[\"Lombre\"],\"xaxis\":\"x\",\"y\":[340],\"yaxis\":\"y\",\"type\":\"scatter\"},{\"hovertemplate\":\"Name=%{x}<br>Total=%{y}<br>HP=%{marker.size}<extra></extra>\",\"legendgroup\":\"Ludicolo\",\"marker\":{\"color\":\"#19d3f3\",\"size\":[80],\"sizemode\":\"area\",\"sizeref\":0.425,\"symbol\":\"circle\"},\"mode\":\"markers\",\"name\":\"Ludicolo\",\"orientation\":\"v\",\"showlegend\":true,\"x\":[\"Ludicolo\"],\"xaxis\":\"x\",\"y\":[480],\"yaxis\":\"y\",\"type\":\"scatter\"},{\"hovertemplate\":\"Name=%{x}<br>Total=%{y}<br>HP=%{marker.size}<extra></extra>\",\"legendgroup\":\"Wingull\",\"marker\":{\"color\":\"#FF6692\",\"size\":[40],\"sizemode\":\"area\",\"sizeref\":0.425,\"symbol\":\"circle\"},\"mode\":\"markers\",\"name\":\"Wingull\",\"orientation\":\"v\",\"showlegend\":true,\"x\":[\"Wingull\"],\"xaxis\":\"x\",\"y\":[270],\"yaxis\":\"y\",\"type\":\"scatter\"},{\"hovertemplate\":\"Name=%{x}<br>Total=%{y}<br>HP=%{marker.size}<extra></extra>\",\"legendgroup\":\"Pelipper\",\"marker\":{\"color\":\"#B6E880\",\"size\":[60],\"sizemode\":\"area\",\"sizeref\":0.425,\"symbol\":\"circle\"},\"mode\":\"markers\",\"name\":\"Pelipper\",\"orientation\":\"v\",\"showlegend\":true,\"x\":[\"Pelipper\"],\"xaxis\":\"x\",\"y\":[430],\"yaxis\":\"y\",\"type\":\"scatter\"},{\"hovertemplate\":\"Name=%{x}<br>Total=%{y}<br>HP=%{marker.size}<extra></extra>\",\"legendgroup\":\"Carvanha\",\"marker\":{\"color\":\"#FF97FF\",\"size\":[45],\"sizemode\":\"area\",\"sizeref\":0.425,\"symbol\":\"circle\"},\"mode\":\"markers\",\"name\":\"Carvanha\",\"orientation\":\"v\",\"showlegend\":true,\"x\":[\"Carvanha\"],\"xaxis\":\"x\",\"y\":[305],\"yaxis\":\"y\",\"type\":\"scatter\"},{\"hovertemplate\":\"Name=%{x}<br>Total=%{y}<br>HP=%{marker.size}<extra></extra>\",\"legendgroup\":\"Sharpedo\",\"marker\":{\"color\":\"#FECB52\",\"size\":[70],\"sizemode\":\"area\",\"sizeref\":0.425,\"symbol\":\"circle\"},\"mode\":\"markers\",\"name\":\"Sharpedo\",\"orientation\":\"v\",\"showlegend\":true,\"x\":[\"Sharpedo\"],\"xaxis\":\"x\",\"y\":[460],\"yaxis\":\"y\",\"type\":\"scatter\"},{\"hovertemplate\":\"Name=%{x}<br>Total=%{y}<br>HP=%{marker.size}<extra></extra>\",\"legendgroup\":\"SharpedoMega Sharpedo\",\"marker\":{\"color\":\"#636efa\",\"size\":[70],\"sizemode\":\"area\",\"sizeref\":0.425,\"symbol\":\"circle\"},\"mode\":\"markers\",\"name\":\"SharpedoMega Sharpedo\",\"orientation\":\"v\",\"showlegend\":true,\"x\":[\"SharpedoMega Sharpedo\"],\"xaxis\":\"x\",\"y\":[560],\"yaxis\":\"y\",\"type\":\"scatter\"},{\"hovertemplate\":\"Name=%{x}<br>Total=%{y}<br>HP=%{marker.size}<extra></extra>\",\"legendgroup\":\"Wailmer\",\"marker\":{\"color\":\"#EF553B\",\"size\":[130],\"sizemode\":\"area\",\"sizeref\":0.425,\"symbol\":\"circle\"},\"mode\":\"markers\",\"name\":\"Wailmer\",\"orientation\":\"v\",\"showlegend\":true,\"x\":[\"Wailmer\"],\"xaxis\":\"x\",\"y\":[400],\"yaxis\":\"y\",\"type\":\"scatter\"},{\"hovertemplate\":\"Name=%{x}<br>Total=%{y}<br>HP=%{marker.size}<extra></extra>\",\"legendgroup\":\"Wailord\",\"marker\":{\"color\":\"#00cc96\",\"size\":[170],\"sizemode\":\"area\",\"sizeref\":0.425,\"symbol\":\"circle\"},\"mode\":\"markers\",\"name\":\"Wailord\",\"orientation\":\"v\",\"showlegend\":true,\"x\":[\"Wailord\"],\"xaxis\":\"x\",\"y\":[500],\"yaxis\":\"y\",\"type\":\"scatter\"},{\"hovertemplate\":\"Name=%{x}<br>Total=%{y}<br>HP=%{marker.size}<extra></extra>\",\"legendgroup\":\"Barboach\",\"marker\":{\"color\":\"#ab63fa\",\"size\":[50],\"sizemode\":\"area\",\"sizeref\":0.425,\"symbol\":\"circle\"},\"mode\":\"markers\",\"name\":\"Barboach\",\"orientation\":\"v\",\"showlegend\":true,\"x\":[\"Barboach\"],\"xaxis\":\"x\",\"y\":[288],\"yaxis\":\"y\",\"type\":\"scatter\"},{\"hovertemplate\":\"Name=%{x}<br>Total=%{y}<br>HP=%{marker.size}<extra></extra>\",\"legendgroup\":\"Whiscash\",\"marker\":{\"color\":\"#FFA15A\",\"size\":[110],\"sizemode\":\"area\",\"sizeref\":0.425,\"symbol\":\"circle\"},\"mode\":\"markers\",\"name\":\"Whiscash\",\"orientation\":\"v\",\"showlegend\":true,\"x\":[\"Whiscash\"],\"xaxis\":\"x\",\"y\":[468],\"yaxis\":\"y\",\"type\":\"scatter\"},{\"hovertemplate\":\"Name=%{x}<br>Total=%{y}<br>HP=%{marker.size}<extra></extra>\",\"legendgroup\":\"Corphish\",\"marker\":{\"color\":\"#19d3f3\",\"size\":[43],\"sizemode\":\"area\",\"sizeref\":0.425,\"symbol\":\"circle\"},\"mode\":\"markers\",\"name\":\"Corphish\",\"orientation\":\"v\",\"showlegend\":true,\"x\":[\"Corphish\"],\"xaxis\":\"x\",\"y\":[308],\"yaxis\":\"y\",\"type\":\"scatter\"},{\"hovertemplate\":\"Name=%{x}<br>Total=%{y}<br>HP=%{marker.size}<extra></extra>\",\"legendgroup\":\"Crawdaunt\",\"marker\":{\"color\":\"#FF6692\",\"size\":[63],\"sizemode\":\"area\",\"sizeref\":0.425,\"symbol\":\"circle\"},\"mode\":\"markers\",\"name\":\"Crawdaunt\",\"orientation\":\"v\",\"showlegend\":true,\"x\":[\"Crawdaunt\"],\"xaxis\":\"x\",\"y\":[468],\"yaxis\":\"y\",\"type\":\"scatter\"},{\"hovertemplate\":\"Name=%{x}<br>Total=%{y}<br>HP=%{marker.size}<extra></extra>\",\"legendgroup\":\"Feebas\",\"marker\":{\"color\":\"#B6E880\",\"size\":[20],\"sizemode\":\"area\",\"sizeref\":0.425,\"symbol\":\"circle\"},\"mode\":\"markers\",\"name\":\"Feebas\",\"orientation\":\"v\",\"showlegend\":true,\"x\":[\"Feebas\"],\"xaxis\":\"x\",\"y\":[200],\"yaxis\":\"y\",\"type\":\"scatter\"},{\"hovertemplate\":\"Name=%{x}<br>Total=%{y}<br>HP=%{marker.size}<extra></extra>\",\"legendgroup\":\"Milotic\",\"marker\":{\"color\":\"#FF97FF\",\"size\":[95],\"sizemode\":\"area\",\"sizeref\":0.425,\"symbol\":\"circle\"},\"mode\":\"markers\",\"name\":\"Milotic\",\"orientation\":\"v\",\"showlegend\":true,\"x\":[\"Milotic\"],\"xaxis\":\"x\",\"y\":[540],\"yaxis\":\"y\",\"type\":\"scatter\"},{\"hovertemplate\":\"Name=%{x}<br>Total=%{y}<br>HP=%{marker.size}<extra></extra>\",\"legendgroup\":\"Clamperl\",\"marker\":{\"color\":\"#FECB52\",\"size\":[35],\"sizemode\":\"area\",\"sizeref\":0.425,\"symbol\":\"circle\"},\"mode\":\"markers\",\"name\":\"Clamperl\",\"orientation\":\"v\",\"showlegend\":true,\"x\":[\"Clamperl\"],\"xaxis\":\"x\",\"y\":[345],\"yaxis\":\"y\",\"type\":\"scatter\"},{\"hovertemplate\":\"Name=%{x}<br>Total=%{y}<br>HP=%{marker.size}<extra></extra>\",\"legendgroup\":\"Huntail\",\"marker\":{\"color\":\"#636efa\",\"size\":[55],\"sizemode\":\"area\",\"sizeref\":0.425,\"symbol\":\"circle\"},\"mode\":\"markers\",\"name\":\"Huntail\",\"orientation\":\"v\",\"showlegend\":true,\"x\":[\"Huntail\"],\"xaxis\":\"x\",\"y\":[485],\"yaxis\":\"y\",\"type\":\"scatter\"},{\"hovertemplate\":\"Name=%{x}<br>Total=%{y}<br>HP=%{marker.size}<extra></extra>\",\"legendgroup\":\"Gorebyss\",\"marker\":{\"color\":\"#EF553B\",\"size\":[55],\"sizemode\":\"area\",\"sizeref\":0.425,\"symbol\":\"circle\"},\"mode\":\"markers\",\"name\":\"Gorebyss\",\"orientation\":\"v\",\"showlegend\":true,\"x\":[\"Gorebyss\"],\"xaxis\":\"x\",\"y\":[485],\"yaxis\":\"y\",\"type\":\"scatter\"},{\"hovertemplate\":\"Name=%{x}<br>Total=%{y}<br>HP=%{marker.size}<extra></extra>\",\"legendgroup\":\"Relicanth\",\"marker\":{\"color\":\"#00cc96\",\"size\":[100],\"sizemode\":\"area\",\"sizeref\":0.425,\"symbol\":\"circle\"},\"mode\":\"markers\",\"name\":\"Relicanth\",\"orientation\":\"v\",\"showlegend\":true,\"x\":[\"Relicanth\"],\"xaxis\":\"x\",\"y\":[485],\"yaxis\":\"y\",\"type\":\"scatter\"},{\"hovertemplate\":\"Name=%{x}<br>Total=%{y}<br>HP=%{marker.size}<extra></extra>\",\"legendgroup\":\"Luvdisc\",\"marker\":{\"color\":\"#ab63fa\",\"size\":[43],\"sizemode\":\"area\",\"sizeref\":0.425,\"symbol\":\"circle\"},\"mode\":\"markers\",\"name\":\"Luvdisc\",\"orientation\":\"v\",\"showlegend\":true,\"x\":[\"Luvdisc\"],\"xaxis\":\"x\",\"y\":[330],\"yaxis\":\"y\",\"type\":\"scatter\"},{\"hovertemplate\":\"Name=%{x}<br>Total=%{y}<br>HP=%{marker.size}<extra></extra>\",\"legendgroup\":\"Kyogre\",\"marker\":{\"color\":\"#FFA15A\",\"size\":[100],\"sizemode\":\"area\",\"sizeref\":0.425,\"symbol\":\"circle\"},\"mode\":\"markers\",\"name\":\"Kyogre\",\"orientation\":\"v\",\"showlegend\":true,\"x\":[\"Kyogre\"],\"xaxis\":\"x\",\"y\":[670],\"yaxis\":\"y\",\"type\":\"scatter\"},{\"hovertemplate\":\"Name=%{x}<br>Total=%{y}<br>HP=%{marker.size}<extra></extra>\",\"legendgroup\":\"KyogrePrimal Kyogre\",\"marker\":{\"color\":\"#19d3f3\",\"size\":[100],\"sizemode\":\"area\",\"sizeref\":0.425,\"symbol\":\"circle\"},\"mode\":\"markers\",\"name\":\"KyogrePrimal Kyogre\",\"orientation\":\"v\",\"showlegend\":true,\"x\":[\"KyogrePrimal Kyogre\"],\"xaxis\":\"x\",\"y\":[770],\"yaxis\":\"y\",\"type\":\"scatter\"},{\"hovertemplate\":\"Name=%{x}<br>Total=%{y}<br>HP=%{marker.size}<extra></extra>\",\"legendgroup\":\"Piplup\",\"marker\":{\"color\":\"#FF6692\",\"size\":[53],\"sizemode\":\"area\",\"sizeref\":0.425,\"symbol\":\"circle\"},\"mode\":\"markers\",\"name\":\"Piplup\",\"orientation\":\"v\",\"showlegend\":true,\"x\":[\"Piplup\"],\"xaxis\":\"x\",\"y\":[314],\"yaxis\":\"y\",\"type\":\"scatter\"},{\"hovertemplate\":\"Name=%{x}<br>Total=%{y}<br>HP=%{marker.size}<extra></extra>\",\"legendgroup\":\"Prinplup\",\"marker\":{\"color\":\"#B6E880\",\"size\":[64],\"sizemode\":\"area\",\"sizeref\":0.425,\"symbol\":\"circle\"},\"mode\":\"markers\",\"name\":\"Prinplup\",\"orientation\":\"v\",\"showlegend\":true,\"x\":[\"Prinplup\"],\"xaxis\":\"x\",\"y\":[405],\"yaxis\":\"y\",\"type\":\"scatter\"},{\"hovertemplate\":\"Name=%{x}<br>Total=%{y}<br>HP=%{marker.size}<extra></extra>\",\"legendgroup\":\"Empoleon\",\"marker\":{\"color\":\"#FF97FF\",\"size\":[84],\"sizemode\":\"area\",\"sizeref\":0.425,\"symbol\":\"circle\"},\"mode\":\"markers\",\"name\":\"Empoleon\",\"orientation\":\"v\",\"showlegend\":true,\"x\":[\"Empoleon\"],\"xaxis\":\"x\",\"y\":[530],\"yaxis\":\"y\",\"type\":\"scatter\"},{\"hovertemplate\":\"Name=%{x}<br>Total=%{y}<br>HP=%{marker.size}<extra></extra>\",\"legendgroup\":\"Buizel\",\"marker\":{\"color\":\"#FECB52\",\"size\":[55],\"sizemode\":\"area\",\"sizeref\":0.425,\"symbol\":\"circle\"},\"mode\":\"markers\",\"name\":\"Buizel\",\"orientation\":\"v\",\"showlegend\":true,\"x\":[\"Buizel\"],\"xaxis\":\"x\",\"y\":[330],\"yaxis\":\"y\",\"type\":\"scatter\"},{\"hovertemplate\":\"Name=%{x}<br>Total=%{y}<br>HP=%{marker.size}<extra></extra>\",\"legendgroup\":\"Floatzel\",\"marker\":{\"color\":\"#636efa\",\"size\":[85],\"sizemode\":\"area\",\"sizeref\":0.425,\"symbol\":\"circle\"},\"mode\":\"markers\",\"name\":\"Floatzel\",\"orientation\":\"v\",\"showlegend\":true,\"x\":[\"Floatzel\"],\"xaxis\":\"x\",\"y\":[495],\"yaxis\":\"y\",\"type\":\"scatter\"},{\"hovertemplate\":\"Name=%{x}<br>Total=%{y}<br>HP=%{marker.size}<extra></extra>\",\"legendgroup\":\"Shellos\",\"marker\":{\"color\":\"#EF553B\",\"size\":[76],\"sizemode\":\"area\",\"sizeref\":0.425,\"symbol\":\"circle\"},\"mode\":\"markers\",\"name\":\"Shellos\",\"orientation\":\"v\",\"showlegend\":true,\"x\":[\"Shellos\"],\"xaxis\":\"x\",\"y\":[325],\"yaxis\":\"y\",\"type\":\"scatter\"},{\"hovertemplate\":\"Name=%{x}<br>Total=%{y}<br>HP=%{marker.size}<extra></extra>\",\"legendgroup\":\"Gastrodon\",\"marker\":{\"color\":\"#00cc96\",\"size\":[111],\"sizemode\":\"area\",\"sizeref\":0.425,\"symbol\":\"circle\"},\"mode\":\"markers\",\"name\":\"Gastrodon\",\"orientation\":\"v\",\"showlegend\":true,\"x\":[\"Gastrodon\"],\"xaxis\":\"x\",\"y\":[475],\"yaxis\":\"y\",\"type\":\"scatter\"},{\"hovertemplate\":\"Name=%{x}<br>Total=%{y}<br>HP=%{marker.size}<extra></extra>\",\"legendgroup\":\"Finneon\",\"marker\":{\"color\":\"#ab63fa\",\"size\":[49],\"sizemode\":\"area\",\"sizeref\":0.425,\"symbol\":\"circle\"},\"mode\":\"markers\",\"name\":\"Finneon\",\"orientation\":\"v\",\"showlegend\":true,\"x\":[\"Finneon\"],\"xaxis\":\"x\",\"y\":[330],\"yaxis\":\"y\",\"type\":\"scatter\"},{\"hovertemplate\":\"Name=%{x}<br>Total=%{y}<br>HP=%{marker.size}<extra></extra>\",\"legendgroup\":\"Lumineon\",\"marker\":{\"color\":\"#FFA15A\",\"size\":[69],\"sizemode\":\"area\",\"sizeref\":0.425,\"symbol\":\"circle\"},\"mode\":\"markers\",\"name\":\"Lumineon\",\"orientation\":\"v\",\"showlegend\":true,\"x\":[\"Lumineon\"],\"xaxis\":\"x\",\"y\":[460],\"yaxis\":\"y\",\"type\":\"scatter\"},{\"hovertemplate\":\"Name=%{x}<br>Total=%{y}<br>HP=%{marker.size}<extra></extra>\",\"legendgroup\":\"Mantyke\",\"marker\":{\"color\":\"#19d3f3\",\"size\":[45],\"sizemode\":\"area\",\"sizeref\":0.425,\"symbol\":\"circle\"},\"mode\":\"markers\",\"name\":\"Mantyke\",\"orientation\":\"v\",\"showlegend\":true,\"x\":[\"Mantyke\"],\"xaxis\":\"x\",\"y\":[345],\"yaxis\":\"y\",\"type\":\"scatter\"},{\"hovertemplate\":\"Name=%{x}<br>Total=%{y}<br>HP=%{marker.size}<extra></extra>\",\"legendgroup\":\"Palkia\",\"marker\":{\"color\":\"#FF6692\",\"size\":[90],\"sizemode\":\"area\",\"sizeref\":0.425,\"symbol\":\"circle\"},\"mode\":\"markers\",\"name\":\"Palkia\",\"orientation\":\"v\",\"showlegend\":true,\"x\":[\"Palkia\"],\"xaxis\":\"x\",\"y\":[680],\"yaxis\":\"y\",\"type\":\"scatter\"},{\"hovertemplate\":\"Name=%{x}<br>Total=%{y}<br>HP=%{marker.size}<extra></extra>\",\"legendgroup\":\"Phione\",\"marker\":{\"color\":\"#B6E880\",\"size\":[80],\"sizemode\":\"area\",\"sizeref\":0.425,\"symbol\":\"circle\"},\"mode\":\"markers\",\"name\":\"Phione\",\"orientation\":\"v\",\"showlegend\":true,\"x\":[\"Phione\"],\"xaxis\":\"x\",\"y\":[480],\"yaxis\":\"y\",\"type\":\"scatter\"},{\"hovertemplate\":\"Name=%{x}<br>Total=%{y}<br>HP=%{marker.size}<extra></extra>\",\"legendgroup\":\"Manaphy\",\"marker\":{\"color\":\"#FF97FF\",\"size\":[100],\"sizemode\":\"area\",\"sizeref\":0.425,\"symbol\":\"circle\"},\"mode\":\"markers\",\"name\":\"Manaphy\",\"orientation\":\"v\",\"showlegend\":true,\"x\":[\"Manaphy\"],\"xaxis\":\"x\",\"y\":[600],\"yaxis\":\"y\",\"type\":\"scatter\"},{\"hovertemplate\":\"Name=%{x}<br>Total=%{y}<br>HP=%{marker.size}<extra></extra>\",\"legendgroup\":\"Oshawott\",\"marker\":{\"color\":\"#FECB52\",\"size\":[55],\"sizemode\":\"area\",\"sizeref\":0.425,\"symbol\":\"circle\"},\"mode\":\"markers\",\"name\":\"Oshawott\",\"orientation\":\"v\",\"showlegend\":true,\"x\":[\"Oshawott\"],\"xaxis\":\"x\",\"y\":[308],\"yaxis\":\"y\",\"type\":\"scatter\"},{\"hovertemplate\":\"Name=%{x}<br>Total=%{y}<br>HP=%{marker.size}<extra></extra>\",\"legendgroup\":\"Dewott\",\"marker\":{\"color\":\"#636efa\",\"size\":[75],\"sizemode\":\"area\",\"sizeref\":0.425,\"symbol\":\"circle\"},\"mode\":\"markers\",\"name\":\"Dewott\",\"orientation\":\"v\",\"showlegend\":true,\"x\":[\"Dewott\"],\"xaxis\":\"x\",\"y\":[413],\"yaxis\":\"y\",\"type\":\"scatter\"},{\"hovertemplate\":\"Name=%{x}<br>Total=%{y}<br>HP=%{marker.size}<extra></extra>\",\"legendgroup\":\"Samurott\",\"marker\":{\"color\":\"#EF553B\",\"size\":[95],\"sizemode\":\"area\",\"sizeref\":0.425,\"symbol\":\"circle\"},\"mode\":\"markers\",\"name\":\"Samurott\",\"orientation\":\"v\",\"showlegend\":true,\"x\":[\"Samurott\"],\"xaxis\":\"x\",\"y\":[528],\"yaxis\":\"y\",\"type\":\"scatter\"},{\"hovertemplate\":\"Name=%{x}<br>Total=%{y}<br>HP=%{marker.size}<extra></extra>\",\"legendgroup\":\"Panpour\",\"marker\":{\"color\":\"#00cc96\",\"size\":[50],\"sizemode\":\"area\",\"sizeref\":0.425,\"symbol\":\"circle\"},\"mode\":\"markers\",\"name\":\"Panpour\",\"orientation\":\"v\",\"showlegend\":true,\"x\":[\"Panpour\"],\"xaxis\":\"x\",\"y\":[316],\"yaxis\":\"y\",\"type\":\"scatter\"},{\"hovertemplate\":\"Name=%{x}<br>Total=%{y}<br>HP=%{marker.size}<extra></extra>\",\"legendgroup\":\"Simipour\",\"marker\":{\"color\":\"#ab63fa\",\"size\":[75],\"sizemode\":\"area\",\"sizeref\":0.425,\"symbol\":\"circle\"},\"mode\":\"markers\",\"name\":\"Simipour\",\"orientation\":\"v\",\"showlegend\":true,\"x\":[\"Simipour\"],\"xaxis\":\"x\",\"y\":[498],\"yaxis\":\"y\",\"type\":\"scatter\"},{\"hovertemplate\":\"Name=%{x}<br>Total=%{y}<br>HP=%{marker.size}<extra></extra>\",\"legendgroup\":\"Tympole\",\"marker\":{\"color\":\"#FFA15A\",\"size\":[50],\"sizemode\":\"area\",\"sizeref\":0.425,\"symbol\":\"circle\"},\"mode\":\"markers\",\"name\":\"Tympole\",\"orientation\":\"v\",\"showlegend\":true,\"x\":[\"Tympole\"],\"xaxis\":\"x\",\"y\":[294],\"yaxis\":\"y\",\"type\":\"scatter\"},{\"hovertemplate\":\"Name=%{x}<br>Total=%{y}<br>HP=%{marker.size}<extra></extra>\",\"legendgroup\":\"Palpitoad\",\"marker\":{\"color\":\"#19d3f3\",\"size\":[75],\"sizemode\":\"area\",\"sizeref\":0.425,\"symbol\":\"circle\"},\"mode\":\"markers\",\"name\":\"Palpitoad\",\"orientation\":\"v\",\"showlegend\":true,\"x\":[\"Palpitoad\"],\"xaxis\":\"x\",\"y\":[384],\"yaxis\":\"y\",\"type\":\"scatter\"},{\"hovertemplate\":\"Name=%{x}<br>Total=%{y}<br>HP=%{marker.size}<extra></extra>\",\"legendgroup\":\"Seismitoad\",\"marker\":{\"color\":\"#FF6692\",\"size\":[105],\"sizemode\":\"area\",\"sizeref\":0.425,\"symbol\":\"circle\"},\"mode\":\"markers\",\"name\":\"Seismitoad\",\"orientation\":\"v\",\"showlegend\":true,\"x\":[\"Seismitoad\"],\"xaxis\":\"x\",\"y\":[509],\"yaxis\":\"y\",\"type\":\"scatter\"},{\"hovertemplate\":\"Name=%{x}<br>Total=%{y}<br>HP=%{marker.size}<extra></extra>\",\"legendgroup\":\"Basculin\",\"marker\":{\"color\":\"#B6E880\",\"size\":[70],\"sizemode\":\"area\",\"sizeref\":0.425,\"symbol\":\"circle\"},\"mode\":\"markers\",\"name\":\"Basculin\",\"orientation\":\"v\",\"showlegend\":true,\"x\":[\"Basculin\"],\"xaxis\":\"x\",\"y\":[460],\"yaxis\":\"y\",\"type\":\"scatter\"},{\"hovertemplate\":\"Name=%{x}<br>Total=%{y}<br>HP=%{marker.size}<extra></extra>\",\"legendgroup\":\"Tirtouga\",\"marker\":{\"color\":\"#FF97FF\",\"size\":[54],\"sizemode\":\"area\",\"sizeref\":0.425,\"symbol\":\"circle\"},\"mode\":\"markers\",\"name\":\"Tirtouga\",\"orientation\":\"v\",\"showlegend\":true,\"x\":[\"Tirtouga\"],\"xaxis\":\"x\",\"y\":[355],\"yaxis\":\"y\",\"type\":\"scatter\"},{\"hovertemplate\":\"Name=%{x}<br>Total=%{y}<br>HP=%{marker.size}<extra></extra>\",\"legendgroup\":\"Carracosta\",\"marker\":{\"color\":\"#FECB52\",\"size\":[74],\"sizemode\":\"area\",\"sizeref\":0.425,\"symbol\":\"circle\"},\"mode\":\"markers\",\"name\":\"Carracosta\",\"orientation\":\"v\",\"showlegend\":true,\"x\":[\"Carracosta\"],\"xaxis\":\"x\",\"y\":[495],\"yaxis\":\"y\",\"type\":\"scatter\"},{\"hovertemplate\":\"Name=%{x}<br>Total=%{y}<br>HP=%{marker.size}<extra></extra>\",\"legendgroup\":\"Ducklett\",\"marker\":{\"color\":\"#636efa\",\"size\":[62],\"sizemode\":\"area\",\"sizeref\":0.425,\"symbol\":\"circle\"},\"mode\":\"markers\",\"name\":\"Ducklett\",\"orientation\":\"v\",\"showlegend\":true,\"x\":[\"Ducklett\"],\"xaxis\":\"x\",\"y\":[305],\"yaxis\":\"y\",\"type\":\"scatter\"},{\"hovertemplate\":\"Name=%{x}<br>Total=%{y}<br>HP=%{marker.size}<extra></extra>\",\"legendgroup\":\"Swanna\",\"marker\":{\"color\":\"#EF553B\",\"size\":[75],\"sizemode\":\"area\",\"sizeref\":0.425,\"symbol\":\"circle\"},\"mode\":\"markers\",\"name\":\"Swanna\",\"orientation\":\"v\",\"showlegend\":true,\"x\":[\"Swanna\"],\"xaxis\":\"x\",\"y\":[473],\"yaxis\":\"y\",\"type\":\"scatter\"},{\"hovertemplate\":\"Name=%{x}<br>Total=%{y}<br>HP=%{marker.size}<extra></extra>\",\"legendgroup\":\"Frillish\",\"marker\":{\"color\":\"#00cc96\",\"size\":[55],\"sizemode\":\"area\",\"sizeref\":0.425,\"symbol\":\"circle\"},\"mode\":\"markers\",\"name\":\"Frillish\",\"orientation\":\"v\",\"showlegend\":true,\"x\":[\"Frillish\"],\"xaxis\":\"x\",\"y\":[335],\"yaxis\":\"y\",\"type\":\"scatter\"},{\"hovertemplate\":\"Name=%{x}<br>Total=%{y}<br>HP=%{marker.size}<extra></extra>\",\"legendgroup\":\"Jellicent\",\"marker\":{\"color\":\"#ab63fa\",\"size\":[100],\"sizemode\":\"area\",\"sizeref\":0.425,\"symbol\":\"circle\"},\"mode\":\"markers\",\"name\":\"Jellicent\",\"orientation\":\"v\",\"showlegend\":true,\"x\":[\"Jellicent\"],\"xaxis\":\"x\",\"y\":[480],\"yaxis\":\"y\",\"type\":\"scatter\"},{\"hovertemplate\":\"Name=%{x}<br>Total=%{y}<br>HP=%{marker.size}<extra></extra>\",\"legendgroup\":\"Alomomola\",\"marker\":{\"color\":\"#FFA15A\",\"size\":[165],\"sizemode\":\"area\",\"sizeref\":0.425,\"symbol\":\"circle\"},\"mode\":\"markers\",\"name\":\"Alomomola\",\"orientation\":\"v\",\"showlegend\":true,\"x\":[\"Alomomola\"],\"xaxis\":\"x\",\"y\":[470],\"yaxis\":\"y\",\"type\":\"scatter\"},{\"hovertemplate\":\"Name=%{x}<br>Total=%{y}<br>HP=%{marker.size}<extra></extra>\",\"legendgroup\":\"KeldeoOrdinary Forme\",\"marker\":{\"color\":\"#19d3f3\",\"size\":[91],\"sizemode\":\"area\",\"sizeref\":0.425,\"symbol\":\"circle\"},\"mode\":\"markers\",\"name\":\"KeldeoOrdinary Forme\",\"orientation\":\"v\",\"showlegend\":true,\"x\":[\"KeldeoOrdinary Forme\"],\"xaxis\":\"x\",\"y\":[580],\"yaxis\":\"y\",\"type\":\"scatter\"},{\"hovertemplate\":\"Name=%{x}<br>Total=%{y}<br>HP=%{marker.size}<extra></extra>\",\"legendgroup\":\"KeldeoResolute Forme\",\"marker\":{\"color\":\"#FF6692\",\"size\":[91],\"sizemode\":\"area\",\"sizeref\":0.425,\"symbol\":\"circle\"},\"mode\":\"markers\",\"name\":\"KeldeoResolute Forme\",\"orientation\":\"v\",\"showlegend\":true,\"x\":[\"KeldeoResolute Forme\"],\"xaxis\":\"x\",\"y\":[580],\"yaxis\":\"y\",\"type\":\"scatter\"},{\"hovertemplate\":\"Name=%{x}<br>Total=%{y}<br>HP=%{marker.size}<extra></extra>\",\"legendgroup\":\"Froakie\",\"marker\":{\"color\":\"#B6E880\",\"size\":[41],\"sizemode\":\"area\",\"sizeref\":0.425,\"symbol\":\"circle\"},\"mode\":\"markers\",\"name\":\"Froakie\",\"orientation\":\"v\",\"showlegend\":true,\"x\":[\"Froakie\"],\"xaxis\":\"x\",\"y\":[314],\"yaxis\":\"y\",\"type\":\"scatter\"},{\"hovertemplate\":\"Name=%{x}<br>Total=%{y}<br>HP=%{marker.size}<extra></extra>\",\"legendgroup\":\"Frogadier\",\"marker\":{\"color\":\"#FF97FF\",\"size\":[54],\"sizemode\":\"area\",\"sizeref\":0.425,\"symbol\":\"circle\"},\"mode\":\"markers\",\"name\":\"Frogadier\",\"orientation\":\"v\",\"showlegend\":true,\"x\":[\"Frogadier\"],\"xaxis\":\"x\",\"y\":[405],\"yaxis\":\"y\",\"type\":\"scatter\"},{\"hovertemplate\":\"Name=%{x}<br>Total=%{y}<br>HP=%{marker.size}<extra></extra>\",\"legendgroup\":\"Greninja\",\"marker\":{\"color\":\"#FECB52\",\"size\":[72],\"sizemode\":\"area\",\"sizeref\":0.425,\"symbol\":\"circle\"},\"mode\":\"markers\",\"name\":\"Greninja\",\"orientation\":\"v\",\"showlegend\":true,\"x\":[\"Greninja\"],\"xaxis\":\"x\",\"y\":[530],\"yaxis\":\"y\",\"type\":\"scatter\"},{\"hovertemplate\":\"Name=%{x}<br>Total=%{y}<br>HP=%{marker.size}<extra></extra>\",\"legendgroup\":\"Clauncher\",\"marker\":{\"color\":\"#636efa\",\"size\":[50],\"sizemode\":\"area\",\"sizeref\":0.425,\"symbol\":\"circle\"},\"mode\":\"markers\",\"name\":\"Clauncher\",\"orientation\":\"v\",\"showlegend\":true,\"x\":[\"Clauncher\"],\"xaxis\":\"x\",\"y\":[330],\"yaxis\":\"y\",\"type\":\"scatter\"},{\"hovertemplate\":\"Name=%{x}<br>Total=%{y}<br>HP=%{marker.size}<extra></extra>\",\"legendgroup\":\"Clawitzer\",\"marker\":{\"color\":\"#EF553B\",\"size\":[71],\"sizemode\":\"area\",\"sizeref\":0.425,\"symbol\":\"circle\"},\"mode\":\"markers\",\"name\":\"Clawitzer\",\"orientation\":\"v\",\"showlegend\":true,\"x\":[\"Clawitzer\"],\"xaxis\":\"x\",\"y\":[500],\"yaxis\":\"y\",\"type\":\"scatter\"}],                        {\"template\":{\"data\":{\"histogram2dcontour\":[{\"type\":\"histogram2dcontour\",\"colorbar\":{\"outlinewidth\":0,\"ticks\":\"\"},\"colorscale\":[[0.0,\"#0d0887\"],[0.1111111111111111,\"#46039f\"],[0.2222222222222222,\"#7201a8\"],[0.3333333333333333,\"#9c179e\"],[0.4444444444444444,\"#bd3786\"],[0.5555555555555556,\"#d8576b\"],[0.6666666666666666,\"#ed7953\"],[0.7777777777777778,\"#fb9f3a\"],[0.8888888888888888,\"#fdca26\"],[1.0,\"#f0f921\"]]}],\"choropleth\":[{\"type\":\"choropleth\",\"colorbar\":{\"outlinewidth\":0,\"ticks\":\"\"}}],\"histogram2d\":[{\"type\":\"histogram2d\",\"colorbar\":{\"outlinewidth\":0,\"ticks\":\"\"},\"colorscale\":[[0.0,\"#0d0887\"],[0.1111111111111111,\"#46039f\"],[0.2222222222222222,\"#7201a8\"],[0.3333333333333333,\"#9c179e\"],[0.4444444444444444,\"#bd3786\"],[0.5555555555555556,\"#d8576b\"],[0.6666666666666666,\"#ed7953\"],[0.7777777777777778,\"#fb9f3a\"],[0.8888888888888888,\"#fdca26\"],[1.0,\"#f0f921\"]]}],\"heatmap\":[{\"type\":\"heatmap\",\"colorbar\":{\"outlinewidth\":0,\"ticks\":\"\"},\"colorscale\":[[0.0,\"#0d0887\"],[0.1111111111111111,\"#46039f\"],[0.2222222222222222,\"#7201a8\"],[0.3333333333333333,\"#9c179e\"],[0.4444444444444444,\"#bd3786\"],[0.5555555555555556,\"#d8576b\"],[0.6666666666666666,\"#ed7953\"],[0.7777777777777778,\"#fb9f3a\"],[0.8888888888888888,\"#fdca26\"],[1.0,\"#f0f921\"]]}],\"heatmapgl\":[{\"type\":\"heatmapgl\",\"colorbar\":{\"outlinewidth\":0,\"ticks\":\"\"},\"colorscale\":[[0.0,\"#0d0887\"],[0.1111111111111111,\"#46039f\"],[0.2222222222222222,\"#7201a8\"],[0.3333333333333333,\"#9c179e\"],[0.4444444444444444,\"#bd3786\"],[0.5555555555555556,\"#d8576b\"],[0.6666666666666666,\"#ed7953\"],[0.7777777777777778,\"#fb9f3a\"],[0.8888888888888888,\"#fdca26\"],[1.0,\"#f0f921\"]]}],\"contourcarpet\":[{\"type\":\"contourcarpet\",\"colorbar\":{\"outlinewidth\":0,\"ticks\":\"\"}}],\"contour\":[{\"type\":\"contour\",\"colorbar\":{\"outlinewidth\":0,\"ticks\":\"\"},\"colorscale\":[[0.0,\"#0d0887\"],[0.1111111111111111,\"#46039f\"],[0.2222222222222222,\"#7201a8\"],[0.3333333333333333,\"#9c179e\"],[0.4444444444444444,\"#bd3786\"],[0.5555555555555556,\"#d8576b\"],[0.6666666666666666,\"#ed7953\"],[0.7777777777777778,\"#fb9f3a\"],[0.8888888888888888,\"#fdca26\"],[1.0,\"#f0f921\"]]}],\"surface\":[{\"type\":\"surface\",\"colorbar\":{\"outlinewidth\":0,\"ticks\":\"\"},\"colorscale\":[[0.0,\"#0d0887\"],[0.1111111111111111,\"#46039f\"],[0.2222222222222222,\"#7201a8\"],[0.3333333333333333,\"#9c179e\"],[0.4444444444444444,\"#bd3786\"],[0.5555555555555556,\"#d8576b\"],[0.6666666666666666,\"#ed7953\"],[0.7777777777777778,\"#fb9f3a\"],[0.8888888888888888,\"#fdca26\"],[1.0,\"#f0f921\"]]}],\"mesh3d\":[{\"type\":\"mesh3d\",\"colorbar\":{\"outlinewidth\":0,\"ticks\":\"\"}}],\"scatter\":[{\"fillpattern\":{\"fillmode\":\"overlay\",\"size\":10,\"solidity\":0.2},\"type\":\"scatter\"}],\"parcoords\":[{\"type\":\"parcoords\",\"line\":{\"colorbar\":{\"outlinewidth\":0,\"ticks\":\"\"}}}],\"scatterpolargl\":[{\"type\":\"scatterpolargl\",\"marker\":{\"colorbar\":{\"outlinewidth\":0,\"ticks\":\"\"}}}],\"bar\":[{\"error_x\":{\"color\":\"#2a3f5f\"},\"error_y\":{\"color\":\"#2a3f5f\"},\"marker\":{\"line\":{\"color\":\"#E5ECF6\",\"width\":0.5},\"pattern\":{\"fillmode\":\"overlay\",\"size\":10,\"solidity\":0.2}},\"type\":\"bar\"}],\"scattergeo\":[{\"type\":\"scattergeo\",\"marker\":{\"colorbar\":{\"outlinewidth\":0,\"ticks\":\"\"}}}],\"scatterpolar\":[{\"type\":\"scatterpolar\",\"marker\":{\"colorbar\":{\"outlinewidth\":0,\"ticks\":\"\"}}}],\"histogram\":[{\"marker\":{\"pattern\":{\"fillmode\":\"overlay\",\"size\":10,\"solidity\":0.2}},\"type\":\"histogram\"}],\"scattergl\":[{\"type\":\"scattergl\",\"marker\":{\"colorbar\":{\"outlinewidth\":0,\"ticks\":\"\"}}}],\"scatter3d\":[{\"type\":\"scatter3d\",\"line\":{\"colorbar\":{\"outlinewidth\":0,\"ticks\":\"\"}},\"marker\":{\"colorbar\":{\"outlinewidth\":0,\"ticks\":\"\"}}}],\"scattermapbox\":[{\"type\":\"scattermapbox\",\"marker\":{\"colorbar\":{\"outlinewidth\":0,\"ticks\":\"\"}}}],\"scatterternary\":[{\"type\":\"scatterternary\",\"marker\":{\"colorbar\":{\"outlinewidth\":0,\"ticks\":\"\"}}}],\"scattercarpet\":[{\"type\":\"scattercarpet\",\"marker\":{\"colorbar\":{\"outlinewidth\":0,\"ticks\":\"\"}}}],\"carpet\":[{\"aaxis\":{\"endlinecolor\":\"#2a3f5f\",\"gridcolor\":\"white\",\"linecolor\":\"white\",\"minorgridcolor\":\"white\",\"startlinecolor\":\"#2a3f5f\"},\"baxis\":{\"endlinecolor\":\"#2a3f5f\",\"gridcolor\":\"white\",\"linecolor\":\"white\",\"minorgridcolor\":\"white\",\"startlinecolor\":\"#2a3f5f\"},\"type\":\"carpet\"}],\"table\":[{\"cells\":{\"fill\":{\"color\":\"#EBF0F8\"},\"line\":{\"color\":\"white\"}},\"header\":{\"fill\":{\"color\":\"#C8D4E3\"},\"line\":{\"color\":\"white\"}},\"type\":\"table\"}],\"barpolar\":[{\"marker\":{\"line\":{\"color\":\"#E5ECF6\",\"width\":0.5},\"pattern\":{\"fillmode\":\"overlay\",\"size\":10,\"solidity\":0.2}},\"type\":\"barpolar\"}],\"pie\":[{\"automargin\":true,\"type\":\"pie\"}]},\"layout\":{\"autotypenumbers\":\"strict\",\"colorway\":[\"#636efa\",\"#EF553B\",\"#00cc96\",\"#ab63fa\",\"#FFA15A\",\"#19d3f3\",\"#FF6692\",\"#B6E880\",\"#FF97FF\",\"#FECB52\"],\"font\":{\"color\":\"#2a3f5f\"},\"hovermode\":\"closest\",\"hoverlabel\":{\"align\":\"left\"},\"paper_bgcolor\":\"white\",\"plot_bgcolor\":\"#E5ECF6\",\"polar\":{\"bgcolor\":\"#E5ECF6\",\"angularaxis\":{\"gridcolor\":\"white\",\"linecolor\":\"white\",\"ticks\":\"\"},\"radialaxis\":{\"gridcolor\":\"white\",\"linecolor\":\"white\",\"ticks\":\"\"}},\"ternary\":{\"bgcolor\":\"#E5ECF6\",\"aaxis\":{\"gridcolor\":\"white\",\"linecolor\":\"white\",\"ticks\":\"\"},\"baxis\":{\"gridcolor\":\"white\",\"linecolor\":\"white\",\"ticks\":\"\"},\"caxis\":{\"gridcolor\":\"white\",\"linecolor\":\"white\",\"ticks\":\"\"}},\"coloraxis\":{\"colorbar\":{\"outlinewidth\":0,\"ticks\":\"\"}},\"colorscale\":{\"sequential\":[[0.0,\"#0d0887\"],[0.1111111111111111,\"#46039f\"],[0.2222222222222222,\"#7201a8\"],[0.3333333333333333,\"#9c179e\"],[0.4444444444444444,\"#bd3786\"],[0.5555555555555556,\"#d8576b\"],[0.6666666666666666,\"#ed7953\"],[0.7777777777777778,\"#fb9f3a\"],[0.8888888888888888,\"#fdca26\"],[1.0,\"#f0f921\"]],\"sequentialminus\":[[0.0,\"#0d0887\"],[0.1111111111111111,\"#46039f\"],[0.2222222222222222,\"#7201a8\"],[0.3333333333333333,\"#9c179e\"],[0.4444444444444444,\"#bd3786\"],[0.5555555555555556,\"#d8576b\"],[0.6666666666666666,\"#ed7953\"],[0.7777777777777778,\"#fb9f3a\"],[0.8888888888888888,\"#fdca26\"],[1.0,\"#f0f921\"]],\"diverging\":[[0,\"#8e0152\"],[0.1,\"#c51b7d\"],[0.2,\"#de77ae\"],[0.3,\"#f1b6da\"],[0.4,\"#fde0ef\"],[0.5,\"#f7f7f7\"],[0.6,\"#e6f5d0\"],[0.7,\"#b8e186\"],[0.8,\"#7fbc41\"],[0.9,\"#4d9221\"],[1,\"#276419\"]]},\"xaxis\":{\"gridcolor\":\"white\",\"linecolor\":\"white\",\"ticks\":\"\",\"title\":{\"standoff\":15},\"zerolinecolor\":\"white\",\"automargin\":true,\"zerolinewidth\":2},\"yaxis\":{\"gridcolor\":\"white\",\"linecolor\":\"white\",\"ticks\":\"\",\"title\":{\"standoff\":15},\"zerolinecolor\":\"white\",\"automargin\":true,\"zerolinewidth\":2},\"scene\":{\"xaxis\":{\"backgroundcolor\":\"#E5ECF6\",\"gridcolor\":\"white\",\"linecolor\":\"white\",\"showbackground\":true,\"ticks\":\"\",\"zerolinecolor\":\"white\",\"gridwidth\":2},\"yaxis\":{\"backgroundcolor\":\"#E5ECF6\",\"gridcolor\":\"white\",\"linecolor\":\"white\",\"showbackground\":true,\"ticks\":\"\",\"zerolinecolor\":\"white\",\"gridwidth\":2},\"zaxis\":{\"backgroundcolor\":\"#E5ECF6\",\"gridcolor\":\"white\",\"linecolor\":\"white\",\"showbackground\":true,\"ticks\":\"\",\"zerolinecolor\":\"white\",\"gridwidth\":2}},\"shapedefaults\":{\"line\":{\"color\":\"#2a3f5f\"}},\"annotationdefaults\":{\"arrowcolor\":\"#2a3f5f\",\"arrowhead\":0,\"arrowwidth\":1},\"geo\":{\"bgcolor\":\"white\",\"landcolor\":\"#E5ECF6\",\"subunitcolor\":\"white\",\"showland\":true,\"showlakes\":true,\"lakecolor\":\"white\"},\"title\":{\"x\":0.05},\"mapbox\":{\"style\":\"light\"}}},\"xaxis\":{\"anchor\":\"y\",\"domain\":[0.0,1.0],\"title\":{\"text\":\"Name\"},\"categoryorder\":\"array\",\"categoryarray\":[\"Squirtle\",\"Wartortle\",\"Blastoise\",\"BlastoiseMega Blastoise\",\"Psyduck\",\"Golduck\",\"Poliwag\",\"Poliwhirl\",\"Poliwrath\",\"Tentacool\",\"Tentacruel\",\"Slowpoke\",\"Slowbro\",\"SlowbroMega Slowbro\",\"Seel\",\"Dewgong\",\"Shellder\",\"Cloyster\",\"Krabby\",\"Kingler\",\"Horsea\",\"Seadra\",\"Goldeen\",\"Seaking\",\"Staryu\",\"Starmie\",\"Magikarp\",\"Gyarados\",\"GyaradosMega Gyarados\",\"Lapras\",\"Vaporeon\",\"Totodile\",\"Croconaw\",\"Feraligatr\",\"Chinchou\",\"Lanturn\",\"Marill\",\"Azumarill\",\"Politoed\",\"Wooper\",\"Quagsire\",\"Slowking\",\"Qwilfish\",\"Corsola\",\"Remoraid\",\"Octillery\",\"Mantine\",\"Kingdra\",\"Suicune\",\"Mudkip\",\"Marshtomp\",\"Swampert\",\"SwampertMega Swampert\",\"Lotad\",\"Lombre\",\"Ludicolo\",\"Wingull\",\"Pelipper\",\"Carvanha\",\"Sharpedo\",\"SharpedoMega Sharpedo\",\"Wailmer\",\"Wailord\",\"Barboach\",\"Whiscash\",\"Corphish\",\"Crawdaunt\",\"Feebas\",\"Milotic\",\"Clamperl\",\"Huntail\",\"Gorebyss\",\"Relicanth\",\"Luvdisc\",\"Kyogre\",\"KyogrePrimal Kyogre\",\"Piplup\",\"Prinplup\",\"Empoleon\",\"Buizel\",\"Floatzel\",\"Shellos\",\"Gastrodon\",\"Finneon\",\"Lumineon\",\"Mantyke\",\"Palkia\",\"Phione\",\"Manaphy\",\"Oshawott\",\"Dewott\",\"Samurott\",\"Panpour\",\"Simipour\",\"Tympole\",\"Palpitoad\",\"Seismitoad\",\"Basculin\",\"Tirtouga\",\"Carracosta\",\"Ducklett\",\"Swanna\",\"Frillish\",\"Jellicent\",\"Alomomola\",\"KeldeoOrdinary Forme\",\"KeldeoResolute Forme\",\"Froakie\",\"Frogadier\",\"Greninja\",\"Clauncher\",\"Clawitzer\"]},\"yaxis\":{\"anchor\":\"x\",\"domain\":[0.0,1.0],\"title\":{\"text\":\"Total\"}},\"legend\":{\"title\":{\"text\":\"Name\"},\"tracegroupgap\":0,\"itemsizing\":\"constant\"},\"margin\":{\"t\":60}},                        {\"responsive\": true}                    ).then(function(){\n",
       "                            \n",
       "var gd = document.getElementById('22c17340-d37e-431c-999b-dceb198198a3');\n",
       "var x = new MutationObserver(function (mutations, observer) {{\n",
       "        var display = window.getComputedStyle(gd).display;\n",
       "        if (!display || display === 'none') {{\n",
       "            console.log([gd, 'removed!']);\n",
       "            Plotly.purge(gd);\n",
       "            observer.disconnect();\n",
       "        }}\n",
       "}});\n",
       "\n",
       "// Listen for the removal of the full notebook cells\n",
       "var notebookContainer = gd.closest('#notebook-container');\n",
       "if (notebookContainer) {{\n",
       "    x.observe(notebookContainer, {childList: true});\n",
       "}}\n",
       "\n",
       "// Listen for the clearing of the current output cell\n",
       "var outputEl = gd.closest('.output');\n",
       "if (outputEl) {{\n",
       "    x.observe(outputEl, {childList: true});\n",
       "}}\n",
       "\n",
       "                        })                };                });            </script>        </div>"
      ]
     },
     "metadata": {},
     "output_type": "display_data"
    }
   ],
   "source": [
    "list(df['Type 1'].unique())\n",
    "df['Type 1'].unique()[0]\n",
    "df_filtered = df[df['Type 1'] == \"Water\"]\n",
    "px.scatter(df_filtered, x='Name', y='Total', size=\"HP\", color='Name')\n"
   ]
  },
  {
   "cell_type": "code",
   "execution_count": 50,
   "id": "f26e5de0",
   "metadata": {
    "scrolled": false
   },
   "outputs": [
    {
     "data": {
      "text/plain": [
       "Type 1    Legendary\n",
       "Water     False        108\n",
       "Normal    False         96\n",
       "Bug       False         69\n",
       "Grass     False         67\n",
       "Fire      False         47\n",
       "Psychic   False         43\n",
       "Electric  False         40\n",
       "Rock      False         40\n",
       "Ghost     False         30\n",
       "Dark      False         29\n",
       "Ground    False         28\n",
       "Poison    False         28\n",
       "Fighting  False         27\n",
       "Steel     False         23\n",
       "Ice       False         22\n",
       "Dragon    False         20\n",
       "Fairy     False         16\n",
       "Psychic   True          14\n",
       "Dragon    True          12\n",
       "Fire      True           5\n",
       "Ground    True           4\n",
       "Rock      True           4\n",
       "Electric  True           4\n",
       "Steel     True           4\n",
       "Water     True           4\n",
       "Grass     True           3\n",
       "Ice       True           2\n",
       "Ghost     True           2\n",
       "Normal    True           2\n",
       "Flying    True           2\n",
       "          False          2\n",
       "Dark      True           2\n",
       "Fairy     True           1\n",
       "dtype: int64"
      ]
     },
     "execution_count": 50,
     "metadata": {},
     "output_type": "execute_result"
    }
   ],
   "source": [
    "# print(df['Legendary'])\n",
    "# df['Legendary'] = df['Legendary'] * 1\n",
    "test = df['Legendary'].value_counts()\n",
    "# print(test)\n",
    "\n",
    "df.value_counts(['Type 1','Legendary'])"
   ]
  },
  {
   "cell_type": "code",
   "execution_count": 18,
   "id": "bd5c58aa",
   "metadata": {},
   "outputs": [
    {
     "name": "stderr",
     "output_type": "stream",
     "text": [
      "/var/folders/q7/h0qy2kmn1617pwg3_l5zhc7c0000gn/T/ipykernel_6161/1892902441.py:12: FutureWarning:\n",
      "\n",
      "The frame.append method is deprecated and will be removed from pandas in a future version. Use pandas.concat instead.\n",
      "\n",
      "/var/folders/q7/h0qy2kmn1617pwg3_l5zhc7c0000gn/T/ipykernel_6161/1892902441.py:12: FutureWarning:\n",
      "\n",
      "The frame.append method is deprecated and will be removed from pandas in a future version. Use pandas.concat instead.\n",
      "\n",
      "/var/folders/q7/h0qy2kmn1617pwg3_l5zhc7c0000gn/T/ipykernel_6161/1892902441.py:12: FutureWarning:\n",
      "\n",
      "The frame.append method is deprecated and will be removed from pandas in a future version. Use pandas.concat instead.\n",
      "\n",
      "/var/folders/q7/h0qy2kmn1617pwg3_l5zhc7c0000gn/T/ipykernel_6161/1892902441.py:12: FutureWarning:\n",
      "\n",
      "The frame.append method is deprecated and will be removed from pandas in a future version. Use pandas.concat instead.\n",
      "\n",
      "/var/folders/q7/h0qy2kmn1617pwg3_l5zhc7c0000gn/T/ipykernel_6161/1892902441.py:12: FutureWarning:\n",
      "\n",
      "The frame.append method is deprecated and will be removed from pandas in a future version. Use pandas.concat instead.\n",
      "\n",
      "/var/folders/q7/h0qy2kmn1617pwg3_l5zhc7c0000gn/T/ipykernel_6161/1892902441.py:12: FutureWarning:\n",
      "\n",
      "The frame.append method is deprecated and will be removed from pandas in a future version. Use pandas.concat instead.\n",
      "\n",
      "/var/folders/q7/h0qy2kmn1617pwg3_l5zhc7c0000gn/T/ipykernel_6161/1892902441.py:12: FutureWarning:\n",
      "\n",
      "The frame.append method is deprecated and will be removed from pandas in a future version. Use pandas.concat instead.\n",
      "\n",
      "/var/folders/q7/h0qy2kmn1617pwg3_l5zhc7c0000gn/T/ipykernel_6161/1892902441.py:12: FutureWarning:\n",
      "\n",
      "The frame.append method is deprecated and will be removed from pandas in a future version. Use pandas.concat instead.\n",
      "\n",
      "/var/folders/q7/h0qy2kmn1617pwg3_l5zhc7c0000gn/T/ipykernel_6161/1892902441.py:12: FutureWarning:\n",
      "\n",
      "The frame.append method is deprecated and will be removed from pandas in a future version. Use pandas.concat instead.\n",
      "\n",
      "/var/folders/q7/h0qy2kmn1617pwg3_l5zhc7c0000gn/T/ipykernel_6161/1892902441.py:12: FutureWarning:\n",
      "\n",
      "The frame.append method is deprecated and will be removed from pandas in a future version. Use pandas.concat instead.\n",
      "\n",
      "/var/folders/q7/h0qy2kmn1617pwg3_l5zhc7c0000gn/T/ipykernel_6161/1892902441.py:12: FutureWarning:\n",
      "\n",
      "The frame.append method is deprecated and will be removed from pandas in a future version. Use pandas.concat instead.\n",
      "\n",
      "/var/folders/q7/h0qy2kmn1617pwg3_l5zhc7c0000gn/T/ipykernel_6161/1892902441.py:12: FutureWarning:\n",
      "\n",
      "The frame.append method is deprecated and will be removed from pandas in a future version. Use pandas.concat instead.\n",
      "\n",
      "/var/folders/q7/h0qy2kmn1617pwg3_l5zhc7c0000gn/T/ipykernel_6161/1892902441.py:12: FutureWarning:\n",
      "\n",
      "The frame.append method is deprecated and will be removed from pandas in a future version. Use pandas.concat instead.\n",
      "\n",
      "/var/folders/q7/h0qy2kmn1617pwg3_l5zhc7c0000gn/T/ipykernel_6161/1892902441.py:12: FutureWarning:\n",
      "\n",
      "The frame.append method is deprecated and will be removed from pandas in a future version. Use pandas.concat instead.\n",
      "\n",
      "/var/folders/q7/h0qy2kmn1617pwg3_l5zhc7c0000gn/T/ipykernel_6161/1892902441.py:12: FutureWarning:\n",
      "\n",
      "The frame.append method is deprecated and will be removed from pandas in a future version. Use pandas.concat instead.\n",
      "\n",
      "/var/folders/q7/h0qy2kmn1617pwg3_l5zhc7c0000gn/T/ipykernel_6161/1892902441.py:12: FutureWarning:\n",
      "\n",
      "The frame.append method is deprecated and will be removed from pandas in a future version. Use pandas.concat instead.\n",
      "\n",
      "/var/folders/q7/h0qy2kmn1617pwg3_l5zhc7c0000gn/T/ipykernel_6161/1892902441.py:12: FutureWarning:\n",
      "\n",
      "The frame.append method is deprecated and will be removed from pandas in a future version. Use pandas.concat instead.\n",
      "\n",
      "/var/folders/q7/h0qy2kmn1617pwg3_l5zhc7c0000gn/T/ipykernel_6161/1892902441.py:12: FutureWarning:\n",
      "\n",
      "The frame.append method is deprecated and will be removed from pandas in a future version. Use pandas.concat instead.\n",
      "\n",
      "/var/folders/q7/h0qy2kmn1617pwg3_l5zhc7c0000gn/T/ipykernel_6161/1892902441.py:12: FutureWarning:\n",
      "\n",
      "The frame.append method is deprecated and will be removed from pandas in a future version. Use pandas.concat instead.\n",
      "\n",
      "/var/folders/q7/h0qy2kmn1617pwg3_l5zhc7c0000gn/T/ipykernel_6161/1892902441.py:12: FutureWarning:\n",
      "\n",
      "The frame.append method is deprecated and will be removed from pandas in a future version. Use pandas.concat instead.\n",
      "\n",
      "/var/folders/q7/h0qy2kmn1617pwg3_l5zhc7c0000gn/T/ipykernel_6161/1892902441.py:12: FutureWarning:\n",
      "\n",
      "The frame.append method is deprecated and will be removed from pandas in a future version. Use pandas.concat instead.\n",
      "\n",
      "/var/folders/q7/h0qy2kmn1617pwg3_l5zhc7c0000gn/T/ipykernel_6161/1892902441.py:12: FutureWarning:\n",
      "\n",
      "The frame.append method is deprecated and will be removed from pandas in a future version. Use pandas.concat instead.\n",
      "\n",
      "/var/folders/q7/h0qy2kmn1617pwg3_l5zhc7c0000gn/T/ipykernel_6161/1892902441.py:12: FutureWarning:\n",
      "\n",
      "The frame.append method is deprecated and will be removed from pandas in a future version. Use pandas.concat instead.\n",
      "\n",
      "/var/folders/q7/h0qy2kmn1617pwg3_l5zhc7c0000gn/T/ipykernel_6161/1892902441.py:12: FutureWarning:\n",
      "\n",
      "The frame.append method is deprecated and will be removed from pandas in a future version. Use pandas.concat instead.\n",
      "\n",
      "/var/folders/q7/h0qy2kmn1617pwg3_l5zhc7c0000gn/T/ipykernel_6161/1892902441.py:12: FutureWarning:\n",
      "\n",
      "The frame.append method is deprecated and will be removed from pandas in a future version. Use pandas.concat instead.\n",
      "\n",
      "/var/folders/q7/h0qy2kmn1617pwg3_l5zhc7c0000gn/T/ipykernel_6161/1892902441.py:12: FutureWarning:\n",
      "\n",
      "The frame.append method is deprecated and will be removed from pandas in a future version. Use pandas.concat instead.\n",
      "\n",
      "/var/folders/q7/h0qy2kmn1617pwg3_l5zhc7c0000gn/T/ipykernel_6161/1892902441.py:12: FutureWarning:\n",
      "\n",
      "The frame.append method is deprecated and will be removed from pandas in a future version. Use pandas.concat instead.\n",
      "\n",
      "/var/folders/q7/h0qy2kmn1617pwg3_l5zhc7c0000gn/T/ipykernel_6161/1892902441.py:12: FutureWarning:\n",
      "\n",
      "The frame.append method is deprecated and will be removed from pandas in a future version. Use pandas.concat instead.\n",
      "\n",
      "/var/folders/q7/h0qy2kmn1617pwg3_l5zhc7c0000gn/T/ipykernel_6161/1892902441.py:12: FutureWarning:\n",
      "\n",
      "The frame.append method is deprecated and will be removed from pandas in a future version. Use pandas.concat instead.\n",
      "\n",
      "/var/folders/q7/h0qy2kmn1617pwg3_l5zhc7c0000gn/T/ipykernel_6161/1892902441.py:12: FutureWarning:\n",
      "\n",
      "The frame.append method is deprecated and will be removed from pandas in a future version. Use pandas.concat instead.\n",
      "\n",
      "/var/folders/q7/h0qy2kmn1617pwg3_l5zhc7c0000gn/T/ipykernel_6161/1892902441.py:12: FutureWarning:\n",
      "\n",
      "The frame.append method is deprecated and will be removed from pandas in a future version. Use pandas.concat instead.\n",
      "\n",
      "/var/folders/q7/h0qy2kmn1617pwg3_l5zhc7c0000gn/T/ipykernel_6161/1892902441.py:12: FutureWarning:\n",
      "\n",
      "The frame.append method is deprecated and will be removed from pandas in a future version. Use pandas.concat instead.\n",
      "\n",
      "/var/folders/q7/h0qy2kmn1617pwg3_l5zhc7c0000gn/T/ipykernel_6161/1892902441.py:12: FutureWarning:\n",
      "\n",
      "The frame.append method is deprecated and will be removed from pandas in a future version. Use pandas.concat instead.\n",
      "\n",
      "/var/folders/q7/h0qy2kmn1617pwg3_l5zhc7c0000gn/T/ipykernel_6161/1892902441.py:12: FutureWarning:\n",
      "\n",
      "The frame.append method is deprecated and will be removed from pandas in a future version. Use pandas.concat instead.\n",
      "\n",
      "/var/folders/q7/h0qy2kmn1617pwg3_l5zhc7c0000gn/T/ipykernel_6161/1892902441.py:12: FutureWarning:\n",
      "\n",
      "The frame.append method is deprecated and will be removed from pandas in a future version. Use pandas.concat instead.\n",
      "\n",
      "/var/folders/q7/h0qy2kmn1617pwg3_l5zhc7c0000gn/T/ipykernel_6161/1892902441.py:12: FutureWarning:\n",
      "\n",
      "The frame.append method is deprecated and will be removed from pandas in a future version. Use pandas.concat instead.\n",
      "\n",
      "/var/folders/q7/h0qy2kmn1617pwg3_l5zhc7c0000gn/T/ipykernel_6161/1892902441.py:12: FutureWarning:\n",
      "\n",
      "The frame.append method is deprecated and will be removed from pandas in a future version. Use pandas.concat instead.\n",
      "\n",
      "/var/folders/q7/h0qy2kmn1617pwg3_l5zhc7c0000gn/T/ipykernel_6161/1892902441.py:12: FutureWarning:\n",
      "\n",
      "The frame.append method is deprecated and will be removed from pandas in a future version. Use pandas.concat instead.\n",
      "\n",
      "/var/folders/q7/h0qy2kmn1617pwg3_l5zhc7c0000gn/T/ipykernel_6161/1892902441.py:12: FutureWarning:\n",
      "\n",
      "The frame.append method is deprecated and will be removed from pandas in a future version. Use pandas.concat instead.\n",
      "\n",
      "/var/folders/q7/h0qy2kmn1617pwg3_l5zhc7c0000gn/T/ipykernel_6161/1892902441.py:12: FutureWarning:\n",
      "\n",
      "The frame.append method is deprecated and will be removed from pandas in a future version. Use pandas.concat instead.\n",
      "\n",
      "/var/folders/q7/h0qy2kmn1617pwg3_l5zhc7c0000gn/T/ipykernel_6161/1892902441.py:12: FutureWarning:\n",
      "\n",
      "The frame.append method is deprecated and will be removed from pandas in a future version. Use pandas.concat instead.\n",
      "\n",
      "/var/folders/q7/h0qy2kmn1617pwg3_l5zhc7c0000gn/T/ipykernel_6161/1892902441.py:12: FutureWarning:\n",
      "\n",
      "The frame.append method is deprecated and will be removed from pandas in a future version. Use pandas.concat instead.\n",
      "\n",
      "/var/folders/q7/h0qy2kmn1617pwg3_l5zhc7c0000gn/T/ipykernel_6161/1892902441.py:12: FutureWarning:\n",
      "\n",
      "The frame.append method is deprecated and will be removed from pandas in a future version. Use pandas.concat instead.\n",
      "\n",
      "/var/folders/q7/h0qy2kmn1617pwg3_l5zhc7c0000gn/T/ipykernel_6161/1892902441.py:12: FutureWarning:\n",
      "\n",
      "The frame.append method is deprecated and will be removed from pandas in a future version. Use pandas.concat instead.\n",
      "\n",
      "/var/folders/q7/h0qy2kmn1617pwg3_l5zhc7c0000gn/T/ipykernel_6161/1892902441.py:12: FutureWarning:\n",
      "\n",
      "The frame.append method is deprecated and will be removed from pandas in a future version. Use pandas.concat instead.\n",
      "\n",
      "/var/folders/q7/h0qy2kmn1617pwg3_l5zhc7c0000gn/T/ipykernel_6161/1892902441.py:12: FutureWarning:\n",
      "\n",
      "The frame.append method is deprecated and will be removed from pandas in a future version. Use pandas.concat instead.\n",
      "\n",
      "/var/folders/q7/h0qy2kmn1617pwg3_l5zhc7c0000gn/T/ipykernel_6161/1892902441.py:12: FutureWarning:\n",
      "\n",
      "The frame.append method is deprecated and will be removed from pandas in a future version. Use pandas.concat instead.\n",
      "\n",
      "/var/folders/q7/h0qy2kmn1617pwg3_l5zhc7c0000gn/T/ipykernel_6161/1892902441.py:12: FutureWarning:\n",
      "\n",
      "The frame.append method is deprecated and will be removed from pandas in a future version. Use pandas.concat instead.\n",
      "\n",
      "/var/folders/q7/h0qy2kmn1617pwg3_l5zhc7c0000gn/T/ipykernel_6161/1892902441.py:12: FutureWarning:\n",
      "\n",
      "The frame.append method is deprecated and will be removed from pandas in a future version. Use pandas.concat instead.\n",
      "\n",
      "/var/folders/q7/h0qy2kmn1617pwg3_l5zhc7c0000gn/T/ipykernel_6161/1892902441.py:12: FutureWarning:\n",
      "\n",
      "The frame.append method is deprecated and will be removed from pandas in a future version. Use pandas.concat instead.\n",
      "\n",
      "/var/folders/q7/h0qy2kmn1617pwg3_l5zhc7c0000gn/T/ipykernel_6161/1892902441.py:12: FutureWarning:\n",
      "\n",
      "The frame.append method is deprecated and will be removed from pandas in a future version. Use pandas.concat instead.\n",
      "\n",
      "/var/folders/q7/h0qy2kmn1617pwg3_l5zhc7c0000gn/T/ipykernel_6161/1892902441.py:12: FutureWarning:\n",
      "\n",
      "The frame.append method is deprecated and will be removed from pandas in a future version. Use pandas.concat instead.\n",
      "\n",
      "/var/folders/q7/h0qy2kmn1617pwg3_l5zhc7c0000gn/T/ipykernel_6161/1892902441.py:12: FutureWarning:\n",
      "\n",
      "The frame.append method is deprecated and will be removed from pandas in a future version. Use pandas.concat instead.\n",
      "\n",
      "/var/folders/q7/h0qy2kmn1617pwg3_l5zhc7c0000gn/T/ipykernel_6161/1892902441.py:12: FutureWarning:\n",
      "\n",
      "The frame.append method is deprecated and will be removed from pandas in a future version. Use pandas.concat instead.\n",
      "\n"
     ]
    },
    {
     "name": "stderr",
     "output_type": "stream",
     "text": [
      "/var/folders/q7/h0qy2kmn1617pwg3_l5zhc7c0000gn/T/ipykernel_6161/1892902441.py:12: FutureWarning:\n",
      "\n",
      "The frame.append method is deprecated and will be removed from pandas in a future version. Use pandas.concat instead.\n",
      "\n",
      "/var/folders/q7/h0qy2kmn1617pwg3_l5zhc7c0000gn/T/ipykernel_6161/1892902441.py:12: FutureWarning:\n",
      "\n",
      "The frame.append method is deprecated and will be removed from pandas in a future version. Use pandas.concat instead.\n",
      "\n",
      "/var/folders/q7/h0qy2kmn1617pwg3_l5zhc7c0000gn/T/ipykernel_6161/1892902441.py:12: FutureWarning:\n",
      "\n",
      "The frame.append method is deprecated and will be removed from pandas in a future version. Use pandas.concat instead.\n",
      "\n",
      "/var/folders/q7/h0qy2kmn1617pwg3_l5zhc7c0000gn/T/ipykernel_6161/1892902441.py:12: FutureWarning:\n",
      "\n",
      "The frame.append method is deprecated and will be removed from pandas in a future version. Use pandas.concat instead.\n",
      "\n",
      "/var/folders/q7/h0qy2kmn1617pwg3_l5zhc7c0000gn/T/ipykernel_6161/1892902441.py:12: FutureWarning:\n",
      "\n",
      "The frame.append method is deprecated and will be removed from pandas in a future version. Use pandas.concat instead.\n",
      "\n",
      "/var/folders/q7/h0qy2kmn1617pwg3_l5zhc7c0000gn/T/ipykernel_6161/1892902441.py:12: FutureWarning:\n",
      "\n",
      "The frame.append method is deprecated and will be removed from pandas in a future version. Use pandas.concat instead.\n",
      "\n",
      "/var/folders/q7/h0qy2kmn1617pwg3_l5zhc7c0000gn/T/ipykernel_6161/1892902441.py:12: FutureWarning:\n",
      "\n",
      "The frame.append method is deprecated and will be removed from pandas in a future version. Use pandas.concat instead.\n",
      "\n",
      "/var/folders/q7/h0qy2kmn1617pwg3_l5zhc7c0000gn/T/ipykernel_6161/1892902441.py:12: FutureWarning:\n",
      "\n",
      "The frame.append method is deprecated and will be removed from pandas in a future version. Use pandas.concat instead.\n",
      "\n",
      "/var/folders/q7/h0qy2kmn1617pwg3_l5zhc7c0000gn/T/ipykernel_6161/1892902441.py:12: FutureWarning:\n",
      "\n",
      "The frame.append method is deprecated and will be removed from pandas in a future version. Use pandas.concat instead.\n",
      "\n",
      "/var/folders/q7/h0qy2kmn1617pwg3_l5zhc7c0000gn/T/ipykernel_6161/1892902441.py:12: FutureWarning:\n",
      "\n",
      "The frame.append method is deprecated and will be removed from pandas in a future version. Use pandas.concat instead.\n",
      "\n",
      "/var/folders/q7/h0qy2kmn1617pwg3_l5zhc7c0000gn/T/ipykernel_6161/1892902441.py:12: FutureWarning:\n",
      "\n",
      "The frame.append method is deprecated and will be removed from pandas in a future version. Use pandas.concat instead.\n",
      "\n",
      "/var/folders/q7/h0qy2kmn1617pwg3_l5zhc7c0000gn/T/ipykernel_6161/1892902441.py:12: FutureWarning:\n",
      "\n",
      "The frame.append method is deprecated and will be removed from pandas in a future version. Use pandas.concat instead.\n",
      "\n",
      "/var/folders/q7/h0qy2kmn1617pwg3_l5zhc7c0000gn/T/ipykernel_6161/1892902441.py:12: FutureWarning:\n",
      "\n",
      "The frame.append method is deprecated and will be removed from pandas in a future version. Use pandas.concat instead.\n",
      "\n",
      "/var/folders/q7/h0qy2kmn1617pwg3_l5zhc7c0000gn/T/ipykernel_6161/1892902441.py:12: FutureWarning:\n",
      "\n",
      "The frame.append method is deprecated and will be removed from pandas in a future version. Use pandas.concat instead.\n",
      "\n",
      "/var/folders/q7/h0qy2kmn1617pwg3_l5zhc7c0000gn/T/ipykernel_6161/1892902441.py:12: FutureWarning:\n",
      "\n",
      "The frame.append method is deprecated and will be removed from pandas in a future version. Use pandas.concat instead.\n",
      "\n",
      "/var/folders/q7/h0qy2kmn1617pwg3_l5zhc7c0000gn/T/ipykernel_6161/1892902441.py:12: FutureWarning:\n",
      "\n",
      "The frame.append method is deprecated and will be removed from pandas in a future version. Use pandas.concat instead.\n",
      "\n",
      "/var/folders/q7/h0qy2kmn1617pwg3_l5zhc7c0000gn/T/ipykernel_6161/1892902441.py:12: FutureWarning:\n",
      "\n",
      "The frame.append method is deprecated and will be removed from pandas in a future version. Use pandas.concat instead.\n",
      "\n",
      "/var/folders/q7/h0qy2kmn1617pwg3_l5zhc7c0000gn/T/ipykernel_6161/1892902441.py:12: FutureWarning:\n",
      "\n",
      "The frame.append method is deprecated and will be removed from pandas in a future version. Use pandas.concat instead.\n",
      "\n",
      "/var/folders/q7/h0qy2kmn1617pwg3_l5zhc7c0000gn/T/ipykernel_6161/1892902441.py:12: FutureWarning:\n",
      "\n",
      "The frame.append method is deprecated and will be removed from pandas in a future version. Use pandas.concat instead.\n",
      "\n",
      "/var/folders/q7/h0qy2kmn1617pwg3_l5zhc7c0000gn/T/ipykernel_6161/1892902441.py:12: FutureWarning:\n",
      "\n",
      "The frame.append method is deprecated and will be removed from pandas in a future version. Use pandas.concat instead.\n",
      "\n",
      "/var/folders/q7/h0qy2kmn1617pwg3_l5zhc7c0000gn/T/ipykernel_6161/1892902441.py:12: FutureWarning:\n",
      "\n",
      "The frame.append method is deprecated and will be removed from pandas in a future version. Use pandas.concat instead.\n",
      "\n",
      "/var/folders/q7/h0qy2kmn1617pwg3_l5zhc7c0000gn/T/ipykernel_6161/1892902441.py:12: FutureWarning:\n",
      "\n",
      "The frame.append method is deprecated and will be removed from pandas in a future version. Use pandas.concat instead.\n",
      "\n",
      "/var/folders/q7/h0qy2kmn1617pwg3_l5zhc7c0000gn/T/ipykernel_6161/1892902441.py:12: FutureWarning:\n",
      "\n",
      "The frame.append method is deprecated and will be removed from pandas in a future version. Use pandas.concat instead.\n",
      "\n",
      "/var/folders/q7/h0qy2kmn1617pwg3_l5zhc7c0000gn/T/ipykernel_6161/1892902441.py:12: FutureWarning:\n",
      "\n",
      "The frame.append method is deprecated and will be removed from pandas in a future version. Use pandas.concat instead.\n",
      "\n",
      "/var/folders/q7/h0qy2kmn1617pwg3_l5zhc7c0000gn/T/ipykernel_6161/1892902441.py:12: FutureWarning:\n",
      "\n",
      "The frame.append method is deprecated and will be removed from pandas in a future version. Use pandas.concat instead.\n",
      "\n",
      "/var/folders/q7/h0qy2kmn1617pwg3_l5zhc7c0000gn/T/ipykernel_6161/1892902441.py:12: FutureWarning:\n",
      "\n",
      "The frame.append method is deprecated and will be removed from pandas in a future version. Use pandas.concat instead.\n",
      "\n",
      "/var/folders/q7/h0qy2kmn1617pwg3_l5zhc7c0000gn/T/ipykernel_6161/1892902441.py:12: FutureWarning:\n",
      "\n",
      "The frame.append method is deprecated and will be removed from pandas in a future version. Use pandas.concat instead.\n",
      "\n",
      "/var/folders/q7/h0qy2kmn1617pwg3_l5zhc7c0000gn/T/ipykernel_6161/1892902441.py:12: FutureWarning:\n",
      "\n",
      "The frame.append method is deprecated and will be removed from pandas in a future version. Use pandas.concat instead.\n",
      "\n",
      "/var/folders/q7/h0qy2kmn1617pwg3_l5zhc7c0000gn/T/ipykernel_6161/1892902441.py:12: FutureWarning:\n",
      "\n",
      "The frame.append method is deprecated and will be removed from pandas in a future version. Use pandas.concat instead.\n",
      "\n",
      "/var/folders/q7/h0qy2kmn1617pwg3_l5zhc7c0000gn/T/ipykernel_6161/1892902441.py:12: FutureWarning:\n",
      "\n",
      "The frame.append method is deprecated and will be removed from pandas in a future version. Use pandas.concat instead.\n",
      "\n",
      "/var/folders/q7/h0qy2kmn1617pwg3_l5zhc7c0000gn/T/ipykernel_6161/1892902441.py:12: FutureWarning:\n",
      "\n",
      "The frame.append method is deprecated and will be removed from pandas in a future version. Use pandas.concat instead.\n",
      "\n",
      "/var/folders/q7/h0qy2kmn1617pwg3_l5zhc7c0000gn/T/ipykernel_6161/1892902441.py:12: FutureWarning:\n",
      "\n",
      "The frame.append method is deprecated and will be removed from pandas in a future version. Use pandas.concat instead.\n",
      "\n",
      "/var/folders/q7/h0qy2kmn1617pwg3_l5zhc7c0000gn/T/ipykernel_6161/1892902441.py:12: FutureWarning:\n",
      "\n",
      "The frame.append method is deprecated and will be removed from pandas in a future version. Use pandas.concat instead.\n",
      "\n",
      "/var/folders/q7/h0qy2kmn1617pwg3_l5zhc7c0000gn/T/ipykernel_6161/1892902441.py:12: FutureWarning:\n",
      "\n",
      "The frame.append method is deprecated and will be removed from pandas in a future version. Use pandas.concat instead.\n",
      "\n",
      "/var/folders/q7/h0qy2kmn1617pwg3_l5zhc7c0000gn/T/ipykernel_6161/1892902441.py:12: FutureWarning:\n",
      "\n",
      "The frame.append method is deprecated and will be removed from pandas in a future version. Use pandas.concat instead.\n",
      "\n",
      "/var/folders/q7/h0qy2kmn1617pwg3_l5zhc7c0000gn/T/ipykernel_6161/1892902441.py:12: FutureWarning:\n",
      "\n",
      "The frame.append method is deprecated and will be removed from pandas in a future version. Use pandas.concat instead.\n",
      "\n",
      "/var/folders/q7/h0qy2kmn1617pwg3_l5zhc7c0000gn/T/ipykernel_6161/1892902441.py:12: FutureWarning:\n",
      "\n",
      "The frame.append method is deprecated and will be removed from pandas in a future version. Use pandas.concat instead.\n",
      "\n",
      "/var/folders/q7/h0qy2kmn1617pwg3_l5zhc7c0000gn/T/ipykernel_6161/1892902441.py:12: FutureWarning:\n",
      "\n",
      "The frame.append method is deprecated and will be removed from pandas in a future version. Use pandas.concat instead.\n",
      "\n",
      "/var/folders/q7/h0qy2kmn1617pwg3_l5zhc7c0000gn/T/ipykernel_6161/1892902441.py:12: FutureWarning:\n",
      "\n",
      "The frame.append method is deprecated and will be removed from pandas in a future version. Use pandas.concat instead.\n",
      "\n",
      "/var/folders/q7/h0qy2kmn1617pwg3_l5zhc7c0000gn/T/ipykernel_6161/1892902441.py:12: FutureWarning:\n",
      "\n",
      "The frame.append method is deprecated and will be removed from pandas in a future version. Use pandas.concat instead.\n",
      "\n",
      "/var/folders/q7/h0qy2kmn1617pwg3_l5zhc7c0000gn/T/ipykernel_6161/1892902441.py:12: FutureWarning:\n",
      "\n",
      "The frame.append method is deprecated and will be removed from pandas in a future version. Use pandas.concat instead.\n",
      "\n",
      "/var/folders/q7/h0qy2kmn1617pwg3_l5zhc7c0000gn/T/ipykernel_6161/1892902441.py:12: FutureWarning:\n",
      "\n",
      "The frame.append method is deprecated and will be removed from pandas in a future version. Use pandas.concat instead.\n",
      "\n",
      "/var/folders/q7/h0qy2kmn1617pwg3_l5zhc7c0000gn/T/ipykernel_6161/1892902441.py:12: FutureWarning:\n",
      "\n",
      "The frame.append method is deprecated and will be removed from pandas in a future version. Use pandas.concat instead.\n",
      "\n",
      "/var/folders/q7/h0qy2kmn1617pwg3_l5zhc7c0000gn/T/ipykernel_6161/1892902441.py:12: FutureWarning:\n",
      "\n",
      "The frame.append method is deprecated and will be removed from pandas in a future version. Use pandas.concat instead.\n",
      "\n",
      "/var/folders/q7/h0qy2kmn1617pwg3_l5zhc7c0000gn/T/ipykernel_6161/1892902441.py:12: FutureWarning:\n",
      "\n",
      "The frame.append method is deprecated and will be removed from pandas in a future version. Use pandas.concat instead.\n",
      "\n",
      "/var/folders/q7/h0qy2kmn1617pwg3_l5zhc7c0000gn/T/ipykernel_6161/1892902441.py:12: FutureWarning:\n",
      "\n",
      "The frame.append method is deprecated and will be removed from pandas in a future version. Use pandas.concat instead.\n",
      "\n",
      "/var/folders/q7/h0qy2kmn1617pwg3_l5zhc7c0000gn/T/ipykernel_6161/1892902441.py:12: FutureWarning:\n",
      "\n",
      "The frame.append method is deprecated and will be removed from pandas in a future version. Use pandas.concat instead.\n",
      "\n",
      "/var/folders/q7/h0qy2kmn1617pwg3_l5zhc7c0000gn/T/ipykernel_6161/1892902441.py:12: FutureWarning:\n",
      "\n",
      "The frame.append method is deprecated and will be removed from pandas in a future version. Use pandas.concat instead.\n",
      "\n",
      "/var/folders/q7/h0qy2kmn1617pwg3_l5zhc7c0000gn/T/ipykernel_6161/1892902441.py:12: FutureWarning:\n",
      "\n",
      "The frame.append method is deprecated and will be removed from pandas in a future version. Use pandas.concat instead.\n",
      "\n",
      "/var/folders/q7/h0qy2kmn1617pwg3_l5zhc7c0000gn/T/ipykernel_6161/1892902441.py:12: FutureWarning:\n",
      "\n",
      "The frame.append method is deprecated and will be removed from pandas in a future version. Use pandas.concat instead.\n",
      "\n",
      "/var/folders/q7/h0qy2kmn1617pwg3_l5zhc7c0000gn/T/ipykernel_6161/1892902441.py:12: FutureWarning:\n",
      "\n",
      "The frame.append method is deprecated and will be removed from pandas in a future version. Use pandas.concat instead.\n",
      "\n",
      "/var/folders/q7/h0qy2kmn1617pwg3_l5zhc7c0000gn/T/ipykernel_6161/1892902441.py:12: FutureWarning:\n",
      "\n",
      "The frame.append method is deprecated and will be removed from pandas in a future version. Use pandas.concat instead.\n",
      "\n",
      "/var/folders/q7/h0qy2kmn1617pwg3_l5zhc7c0000gn/T/ipykernel_6161/1892902441.py:12: FutureWarning:\n",
      "\n",
      "The frame.append method is deprecated and will be removed from pandas in a future version. Use pandas.concat instead.\n",
      "\n",
      "/var/folders/q7/h0qy2kmn1617pwg3_l5zhc7c0000gn/T/ipykernel_6161/1892902441.py:12: FutureWarning:\n",
      "\n",
      "The frame.append method is deprecated and will be removed from pandas in a future version. Use pandas.concat instead.\n",
      "\n",
      "/var/folders/q7/h0qy2kmn1617pwg3_l5zhc7c0000gn/T/ipykernel_6161/1892902441.py:12: FutureWarning:\n",
      "\n",
      "The frame.append method is deprecated and will be removed from pandas in a future version. Use pandas.concat instead.\n",
      "\n",
      "/var/folders/q7/h0qy2kmn1617pwg3_l5zhc7c0000gn/T/ipykernel_6161/1892902441.py:12: FutureWarning:\n",
      "\n",
      "The frame.append method is deprecated and will be removed from pandas in a future version. Use pandas.concat instead.\n",
      "\n"
     ]
    },
    {
     "name": "stderr",
     "output_type": "stream",
     "text": [
      "/var/folders/q7/h0qy2kmn1617pwg3_l5zhc7c0000gn/T/ipykernel_6161/1892902441.py:12: FutureWarning:\n",
      "\n",
      "The frame.append method is deprecated and will be removed from pandas in a future version. Use pandas.concat instead.\n",
      "\n",
      "/var/folders/q7/h0qy2kmn1617pwg3_l5zhc7c0000gn/T/ipykernel_6161/1892902441.py:12: FutureWarning:\n",
      "\n",
      "The frame.append method is deprecated and will be removed from pandas in a future version. Use pandas.concat instead.\n",
      "\n",
      "/var/folders/q7/h0qy2kmn1617pwg3_l5zhc7c0000gn/T/ipykernel_6161/1892902441.py:12: FutureWarning:\n",
      "\n",
      "The frame.append method is deprecated and will be removed from pandas in a future version. Use pandas.concat instead.\n",
      "\n",
      "/var/folders/q7/h0qy2kmn1617pwg3_l5zhc7c0000gn/T/ipykernel_6161/1892902441.py:12: FutureWarning:\n",
      "\n",
      "The frame.append method is deprecated and will be removed from pandas in a future version. Use pandas.concat instead.\n",
      "\n",
      "/var/folders/q7/h0qy2kmn1617pwg3_l5zhc7c0000gn/T/ipykernel_6161/1892902441.py:12: FutureWarning:\n",
      "\n",
      "The frame.append method is deprecated and will be removed from pandas in a future version. Use pandas.concat instead.\n",
      "\n",
      "/var/folders/q7/h0qy2kmn1617pwg3_l5zhc7c0000gn/T/ipykernel_6161/1892902441.py:12: FutureWarning:\n",
      "\n",
      "The frame.append method is deprecated and will be removed from pandas in a future version. Use pandas.concat instead.\n",
      "\n",
      "/var/folders/q7/h0qy2kmn1617pwg3_l5zhc7c0000gn/T/ipykernel_6161/1892902441.py:12: FutureWarning:\n",
      "\n",
      "The frame.append method is deprecated and will be removed from pandas in a future version. Use pandas.concat instead.\n",
      "\n",
      "/var/folders/q7/h0qy2kmn1617pwg3_l5zhc7c0000gn/T/ipykernel_6161/1892902441.py:12: FutureWarning:\n",
      "\n",
      "The frame.append method is deprecated and will be removed from pandas in a future version. Use pandas.concat instead.\n",
      "\n",
      "/var/folders/q7/h0qy2kmn1617pwg3_l5zhc7c0000gn/T/ipykernel_6161/1892902441.py:12: FutureWarning:\n",
      "\n",
      "The frame.append method is deprecated and will be removed from pandas in a future version. Use pandas.concat instead.\n",
      "\n",
      "/var/folders/q7/h0qy2kmn1617pwg3_l5zhc7c0000gn/T/ipykernel_6161/1892902441.py:12: FutureWarning:\n",
      "\n",
      "The frame.append method is deprecated and will be removed from pandas in a future version. Use pandas.concat instead.\n",
      "\n",
      "/var/folders/q7/h0qy2kmn1617pwg3_l5zhc7c0000gn/T/ipykernel_6161/1892902441.py:12: FutureWarning:\n",
      "\n",
      "The frame.append method is deprecated and will be removed from pandas in a future version. Use pandas.concat instead.\n",
      "\n",
      "/var/folders/q7/h0qy2kmn1617pwg3_l5zhc7c0000gn/T/ipykernel_6161/1892902441.py:12: FutureWarning:\n",
      "\n",
      "The frame.append method is deprecated and will be removed from pandas in a future version. Use pandas.concat instead.\n",
      "\n",
      "/var/folders/q7/h0qy2kmn1617pwg3_l5zhc7c0000gn/T/ipykernel_6161/1892902441.py:12: FutureWarning:\n",
      "\n",
      "The frame.append method is deprecated and will be removed from pandas in a future version. Use pandas.concat instead.\n",
      "\n",
      "/var/folders/q7/h0qy2kmn1617pwg3_l5zhc7c0000gn/T/ipykernel_6161/1892902441.py:12: FutureWarning:\n",
      "\n",
      "The frame.append method is deprecated and will be removed from pandas in a future version. Use pandas.concat instead.\n",
      "\n",
      "/var/folders/q7/h0qy2kmn1617pwg3_l5zhc7c0000gn/T/ipykernel_6161/1892902441.py:12: FutureWarning:\n",
      "\n",
      "The frame.append method is deprecated and will be removed from pandas in a future version. Use pandas.concat instead.\n",
      "\n",
      "/var/folders/q7/h0qy2kmn1617pwg3_l5zhc7c0000gn/T/ipykernel_6161/1892902441.py:12: FutureWarning:\n",
      "\n",
      "The frame.append method is deprecated and will be removed from pandas in a future version. Use pandas.concat instead.\n",
      "\n",
      "/var/folders/q7/h0qy2kmn1617pwg3_l5zhc7c0000gn/T/ipykernel_6161/1892902441.py:12: FutureWarning:\n",
      "\n",
      "The frame.append method is deprecated and will be removed from pandas in a future version. Use pandas.concat instead.\n",
      "\n",
      "/var/folders/q7/h0qy2kmn1617pwg3_l5zhc7c0000gn/T/ipykernel_6161/1892902441.py:12: FutureWarning:\n",
      "\n",
      "The frame.append method is deprecated and will be removed from pandas in a future version. Use pandas.concat instead.\n",
      "\n",
      "/var/folders/q7/h0qy2kmn1617pwg3_l5zhc7c0000gn/T/ipykernel_6161/1892902441.py:12: FutureWarning:\n",
      "\n",
      "The frame.append method is deprecated and will be removed from pandas in a future version. Use pandas.concat instead.\n",
      "\n",
      "/var/folders/q7/h0qy2kmn1617pwg3_l5zhc7c0000gn/T/ipykernel_6161/1892902441.py:12: FutureWarning:\n",
      "\n",
      "The frame.append method is deprecated and will be removed from pandas in a future version. Use pandas.concat instead.\n",
      "\n",
      "/var/folders/q7/h0qy2kmn1617pwg3_l5zhc7c0000gn/T/ipykernel_6161/1892902441.py:12: FutureWarning:\n",
      "\n",
      "The frame.append method is deprecated and will be removed from pandas in a future version. Use pandas.concat instead.\n",
      "\n",
      "/var/folders/q7/h0qy2kmn1617pwg3_l5zhc7c0000gn/T/ipykernel_6161/1892902441.py:12: FutureWarning:\n",
      "\n",
      "The frame.append method is deprecated and will be removed from pandas in a future version. Use pandas.concat instead.\n",
      "\n",
      "/var/folders/q7/h0qy2kmn1617pwg3_l5zhc7c0000gn/T/ipykernel_6161/1892902441.py:12: FutureWarning:\n",
      "\n",
      "The frame.append method is deprecated and will be removed from pandas in a future version. Use pandas.concat instead.\n",
      "\n",
      "/var/folders/q7/h0qy2kmn1617pwg3_l5zhc7c0000gn/T/ipykernel_6161/1892902441.py:12: FutureWarning:\n",
      "\n",
      "The frame.append method is deprecated and will be removed from pandas in a future version. Use pandas.concat instead.\n",
      "\n",
      "/var/folders/q7/h0qy2kmn1617pwg3_l5zhc7c0000gn/T/ipykernel_6161/1892902441.py:12: FutureWarning:\n",
      "\n",
      "The frame.append method is deprecated and will be removed from pandas in a future version. Use pandas.concat instead.\n",
      "\n",
      "/var/folders/q7/h0qy2kmn1617pwg3_l5zhc7c0000gn/T/ipykernel_6161/1892902441.py:12: FutureWarning:\n",
      "\n",
      "The frame.append method is deprecated and will be removed from pandas in a future version. Use pandas.concat instead.\n",
      "\n",
      "/var/folders/q7/h0qy2kmn1617pwg3_l5zhc7c0000gn/T/ipykernel_6161/1892902441.py:12: FutureWarning:\n",
      "\n",
      "The frame.append method is deprecated and will be removed from pandas in a future version. Use pandas.concat instead.\n",
      "\n",
      "/var/folders/q7/h0qy2kmn1617pwg3_l5zhc7c0000gn/T/ipykernel_6161/1892902441.py:12: FutureWarning:\n",
      "\n",
      "The frame.append method is deprecated and will be removed from pandas in a future version. Use pandas.concat instead.\n",
      "\n",
      "/var/folders/q7/h0qy2kmn1617pwg3_l5zhc7c0000gn/T/ipykernel_6161/1892902441.py:12: FutureWarning:\n",
      "\n",
      "The frame.append method is deprecated and will be removed from pandas in a future version. Use pandas.concat instead.\n",
      "\n",
      "/var/folders/q7/h0qy2kmn1617pwg3_l5zhc7c0000gn/T/ipykernel_6161/1892902441.py:12: FutureWarning:\n",
      "\n",
      "The frame.append method is deprecated and will be removed from pandas in a future version. Use pandas.concat instead.\n",
      "\n",
      "/var/folders/q7/h0qy2kmn1617pwg3_l5zhc7c0000gn/T/ipykernel_6161/1892902441.py:12: FutureWarning:\n",
      "\n",
      "The frame.append method is deprecated and will be removed from pandas in a future version. Use pandas.concat instead.\n",
      "\n",
      "/var/folders/q7/h0qy2kmn1617pwg3_l5zhc7c0000gn/T/ipykernel_6161/1892902441.py:12: FutureWarning:\n",
      "\n",
      "The frame.append method is deprecated and will be removed from pandas in a future version. Use pandas.concat instead.\n",
      "\n",
      "/var/folders/q7/h0qy2kmn1617pwg3_l5zhc7c0000gn/T/ipykernel_6161/1892902441.py:12: FutureWarning:\n",
      "\n",
      "The frame.append method is deprecated and will be removed from pandas in a future version. Use pandas.concat instead.\n",
      "\n",
      "/var/folders/q7/h0qy2kmn1617pwg3_l5zhc7c0000gn/T/ipykernel_6161/1892902441.py:12: FutureWarning:\n",
      "\n",
      "The frame.append method is deprecated and will be removed from pandas in a future version. Use pandas.concat instead.\n",
      "\n",
      "/var/folders/q7/h0qy2kmn1617pwg3_l5zhc7c0000gn/T/ipykernel_6161/1892902441.py:12: FutureWarning:\n",
      "\n",
      "The frame.append method is deprecated and will be removed from pandas in a future version. Use pandas.concat instead.\n",
      "\n",
      "/var/folders/q7/h0qy2kmn1617pwg3_l5zhc7c0000gn/T/ipykernel_6161/1892902441.py:12: FutureWarning:\n",
      "\n",
      "The frame.append method is deprecated and will be removed from pandas in a future version. Use pandas.concat instead.\n",
      "\n",
      "/var/folders/q7/h0qy2kmn1617pwg3_l5zhc7c0000gn/T/ipykernel_6161/1892902441.py:12: FutureWarning:\n",
      "\n",
      "The frame.append method is deprecated and will be removed from pandas in a future version. Use pandas.concat instead.\n",
      "\n",
      "/var/folders/q7/h0qy2kmn1617pwg3_l5zhc7c0000gn/T/ipykernel_6161/1892902441.py:12: FutureWarning:\n",
      "\n",
      "The frame.append method is deprecated and will be removed from pandas in a future version. Use pandas.concat instead.\n",
      "\n",
      "/var/folders/q7/h0qy2kmn1617pwg3_l5zhc7c0000gn/T/ipykernel_6161/1892902441.py:12: FutureWarning:\n",
      "\n",
      "The frame.append method is deprecated and will be removed from pandas in a future version. Use pandas.concat instead.\n",
      "\n",
      "/var/folders/q7/h0qy2kmn1617pwg3_l5zhc7c0000gn/T/ipykernel_6161/1892902441.py:12: FutureWarning:\n",
      "\n",
      "The frame.append method is deprecated and will be removed from pandas in a future version. Use pandas.concat instead.\n",
      "\n",
      "/var/folders/q7/h0qy2kmn1617pwg3_l5zhc7c0000gn/T/ipykernel_6161/1892902441.py:12: FutureWarning:\n",
      "\n",
      "The frame.append method is deprecated and will be removed from pandas in a future version. Use pandas.concat instead.\n",
      "\n",
      "/var/folders/q7/h0qy2kmn1617pwg3_l5zhc7c0000gn/T/ipykernel_6161/1892902441.py:12: FutureWarning:\n",
      "\n",
      "The frame.append method is deprecated and will be removed from pandas in a future version. Use pandas.concat instead.\n",
      "\n",
      "/var/folders/q7/h0qy2kmn1617pwg3_l5zhc7c0000gn/T/ipykernel_6161/1892902441.py:12: FutureWarning:\n",
      "\n",
      "The frame.append method is deprecated and will be removed from pandas in a future version. Use pandas.concat instead.\n",
      "\n",
      "/var/folders/q7/h0qy2kmn1617pwg3_l5zhc7c0000gn/T/ipykernel_6161/1892902441.py:12: FutureWarning:\n",
      "\n",
      "The frame.append method is deprecated and will be removed from pandas in a future version. Use pandas.concat instead.\n",
      "\n",
      "/var/folders/q7/h0qy2kmn1617pwg3_l5zhc7c0000gn/T/ipykernel_6161/1892902441.py:12: FutureWarning:\n",
      "\n",
      "The frame.append method is deprecated and will be removed from pandas in a future version. Use pandas.concat instead.\n",
      "\n",
      "/var/folders/q7/h0qy2kmn1617pwg3_l5zhc7c0000gn/T/ipykernel_6161/1892902441.py:12: FutureWarning:\n",
      "\n",
      "The frame.append method is deprecated and will be removed from pandas in a future version. Use pandas.concat instead.\n",
      "\n",
      "/var/folders/q7/h0qy2kmn1617pwg3_l5zhc7c0000gn/T/ipykernel_6161/1892902441.py:12: FutureWarning:\n",
      "\n",
      "The frame.append method is deprecated and will be removed from pandas in a future version. Use pandas.concat instead.\n",
      "\n",
      "/var/folders/q7/h0qy2kmn1617pwg3_l5zhc7c0000gn/T/ipykernel_6161/1892902441.py:12: FutureWarning:\n",
      "\n",
      "The frame.append method is deprecated and will be removed from pandas in a future version. Use pandas.concat instead.\n",
      "\n",
      "/var/folders/q7/h0qy2kmn1617pwg3_l5zhc7c0000gn/T/ipykernel_6161/1892902441.py:12: FutureWarning:\n",
      "\n",
      "The frame.append method is deprecated and will be removed from pandas in a future version. Use pandas.concat instead.\n",
      "\n",
      "/var/folders/q7/h0qy2kmn1617pwg3_l5zhc7c0000gn/T/ipykernel_6161/1892902441.py:12: FutureWarning:\n",
      "\n",
      "The frame.append method is deprecated and will be removed from pandas in a future version. Use pandas.concat instead.\n",
      "\n",
      "/var/folders/q7/h0qy2kmn1617pwg3_l5zhc7c0000gn/T/ipykernel_6161/1892902441.py:12: FutureWarning:\n",
      "\n",
      "The frame.append method is deprecated and will be removed from pandas in a future version. Use pandas.concat instead.\n",
      "\n",
      "/var/folders/q7/h0qy2kmn1617pwg3_l5zhc7c0000gn/T/ipykernel_6161/1892902441.py:12: FutureWarning:\n",
      "\n",
      "The frame.append method is deprecated and will be removed from pandas in a future version. Use pandas.concat instead.\n",
      "\n",
      "/var/folders/q7/h0qy2kmn1617pwg3_l5zhc7c0000gn/T/ipykernel_6161/1892902441.py:12: FutureWarning:\n",
      "\n",
      "The frame.append method is deprecated and will be removed from pandas in a future version. Use pandas.concat instead.\n",
      "\n",
      "/var/folders/q7/h0qy2kmn1617pwg3_l5zhc7c0000gn/T/ipykernel_6161/1892902441.py:12: FutureWarning:\n",
      "\n",
      "The frame.append method is deprecated and will be removed from pandas in a future version. Use pandas.concat instead.\n",
      "\n",
      "/var/folders/q7/h0qy2kmn1617pwg3_l5zhc7c0000gn/T/ipykernel_6161/1892902441.py:12: FutureWarning:\n",
      "\n",
      "The frame.append method is deprecated and will be removed from pandas in a future version. Use pandas.concat instead.\n",
      "\n",
      "/var/folders/q7/h0qy2kmn1617pwg3_l5zhc7c0000gn/T/ipykernel_6161/1892902441.py:12: FutureWarning:\n",
      "\n",
      "The frame.append method is deprecated and will be removed from pandas in a future version. Use pandas.concat instead.\n",
      "\n"
     ]
    },
    {
     "name": "stderr",
     "output_type": "stream",
     "text": [
      "/var/folders/q7/h0qy2kmn1617pwg3_l5zhc7c0000gn/T/ipykernel_6161/1892902441.py:12: FutureWarning:\n",
      "\n",
      "The frame.append method is deprecated and will be removed from pandas in a future version. Use pandas.concat instead.\n",
      "\n",
      "/var/folders/q7/h0qy2kmn1617pwg3_l5zhc7c0000gn/T/ipykernel_6161/1892902441.py:12: FutureWarning:\n",
      "\n",
      "The frame.append method is deprecated and will be removed from pandas in a future version. Use pandas.concat instead.\n",
      "\n",
      "/var/folders/q7/h0qy2kmn1617pwg3_l5zhc7c0000gn/T/ipykernel_6161/1892902441.py:12: FutureWarning:\n",
      "\n",
      "The frame.append method is deprecated and will be removed from pandas in a future version. Use pandas.concat instead.\n",
      "\n",
      "/var/folders/q7/h0qy2kmn1617pwg3_l5zhc7c0000gn/T/ipykernel_6161/1892902441.py:12: FutureWarning:\n",
      "\n",
      "The frame.append method is deprecated and will be removed from pandas in a future version. Use pandas.concat instead.\n",
      "\n",
      "/var/folders/q7/h0qy2kmn1617pwg3_l5zhc7c0000gn/T/ipykernel_6161/1892902441.py:12: FutureWarning:\n",
      "\n",
      "The frame.append method is deprecated and will be removed from pandas in a future version. Use pandas.concat instead.\n",
      "\n",
      "/var/folders/q7/h0qy2kmn1617pwg3_l5zhc7c0000gn/T/ipykernel_6161/1892902441.py:12: FutureWarning:\n",
      "\n",
      "The frame.append method is deprecated and will be removed from pandas in a future version. Use pandas.concat instead.\n",
      "\n",
      "/var/folders/q7/h0qy2kmn1617pwg3_l5zhc7c0000gn/T/ipykernel_6161/1892902441.py:12: FutureWarning:\n",
      "\n",
      "The frame.append method is deprecated and will be removed from pandas in a future version. Use pandas.concat instead.\n",
      "\n",
      "/var/folders/q7/h0qy2kmn1617pwg3_l5zhc7c0000gn/T/ipykernel_6161/1892902441.py:12: FutureWarning:\n",
      "\n",
      "The frame.append method is deprecated and will be removed from pandas in a future version. Use pandas.concat instead.\n",
      "\n",
      "/var/folders/q7/h0qy2kmn1617pwg3_l5zhc7c0000gn/T/ipykernel_6161/1892902441.py:12: FutureWarning:\n",
      "\n",
      "The frame.append method is deprecated and will be removed from pandas in a future version. Use pandas.concat instead.\n",
      "\n",
      "/var/folders/q7/h0qy2kmn1617pwg3_l5zhc7c0000gn/T/ipykernel_6161/1892902441.py:12: FutureWarning:\n",
      "\n",
      "The frame.append method is deprecated and will be removed from pandas in a future version. Use pandas.concat instead.\n",
      "\n",
      "/var/folders/q7/h0qy2kmn1617pwg3_l5zhc7c0000gn/T/ipykernel_6161/1892902441.py:12: FutureWarning:\n",
      "\n",
      "The frame.append method is deprecated and will be removed from pandas in a future version. Use pandas.concat instead.\n",
      "\n",
      "/var/folders/q7/h0qy2kmn1617pwg3_l5zhc7c0000gn/T/ipykernel_6161/1892902441.py:12: FutureWarning:\n",
      "\n",
      "The frame.append method is deprecated and will be removed from pandas in a future version. Use pandas.concat instead.\n",
      "\n",
      "/var/folders/q7/h0qy2kmn1617pwg3_l5zhc7c0000gn/T/ipykernel_6161/1892902441.py:12: FutureWarning:\n",
      "\n",
      "The frame.append method is deprecated and will be removed from pandas in a future version. Use pandas.concat instead.\n",
      "\n",
      "/var/folders/q7/h0qy2kmn1617pwg3_l5zhc7c0000gn/T/ipykernel_6161/1892902441.py:12: FutureWarning:\n",
      "\n",
      "The frame.append method is deprecated and will be removed from pandas in a future version. Use pandas.concat instead.\n",
      "\n",
      "/var/folders/q7/h0qy2kmn1617pwg3_l5zhc7c0000gn/T/ipykernel_6161/1892902441.py:12: FutureWarning:\n",
      "\n",
      "The frame.append method is deprecated and will be removed from pandas in a future version. Use pandas.concat instead.\n",
      "\n",
      "/var/folders/q7/h0qy2kmn1617pwg3_l5zhc7c0000gn/T/ipykernel_6161/1892902441.py:12: FutureWarning:\n",
      "\n",
      "The frame.append method is deprecated and will be removed from pandas in a future version. Use pandas.concat instead.\n",
      "\n",
      "/var/folders/q7/h0qy2kmn1617pwg3_l5zhc7c0000gn/T/ipykernel_6161/1892902441.py:12: FutureWarning:\n",
      "\n",
      "The frame.append method is deprecated and will be removed from pandas in a future version. Use pandas.concat instead.\n",
      "\n",
      "/var/folders/q7/h0qy2kmn1617pwg3_l5zhc7c0000gn/T/ipykernel_6161/1892902441.py:12: FutureWarning:\n",
      "\n",
      "The frame.append method is deprecated and will be removed from pandas in a future version. Use pandas.concat instead.\n",
      "\n",
      "/var/folders/q7/h0qy2kmn1617pwg3_l5zhc7c0000gn/T/ipykernel_6161/1892902441.py:12: FutureWarning:\n",
      "\n",
      "The frame.append method is deprecated and will be removed from pandas in a future version. Use pandas.concat instead.\n",
      "\n",
      "/var/folders/q7/h0qy2kmn1617pwg3_l5zhc7c0000gn/T/ipykernel_6161/1892902441.py:12: FutureWarning:\n",
      "\n",
      "The frame.append method is deprecated and will be removed from pandas in a future version. Use pandas.concat instead.\n",
      "\n",
      "/var/folders/q7/h0qy2kmn1617pwg3_l5zhc7c0000gn/T/ipykernel_6161/1892902441.py:12: FutureWarning:\n",
      "\n",
      "The frame.append method is deprecated and will be removed from pandas in a future version. Use pandas.concat instead.\n",
      "\n",
      "/var/folders/q7/h0qy2kmn1617pwg3_l5zhc7c0000gn/T/ipykernel_6161/1892902441.py:12: FutureWarning:\n",
      "\n",
      "The frame.append method is deprecated and will be removed from pandas in a future version. Use pandas.concat instead.\n",
      "\n",
      "/var/folders/q7/h0qy2kmn1617pwg3_l5zhc7c0000gn/T/ipykernel_6161/1892902441.py:12: FutureWarning:\n",
      "\n",
      "The frame.append method is deprecated and will be removed from pandas in a future version. Use pandas.concat instead.\n",
      "\n",
      "/var/folders/q7/h0qy2kmn1617pwg3_l5zhc7c0000gn/T/ipykernel_6161/1892902441.py:12: FutureWarning:\n",
      "\n",
      "The frame.append method is deprecated and will be removed from pandas in a future version. Use pandas.concat instead.\n",
      "\n",
      "/var/folders/q7/h0qy2kmn1617pwg3_l5zhc7c0000gn/T/ipykernel_6161/1892902441.py:12: FutureWarning:\n",
      "\n",
      "The frame.append method is deprecated and will be removed from pandas in a future version. Use pandas.concat instead.\n",
      "\n",
      "/var/folders/q7/h0qy2kmn1617pwg3_l5zhc7c0000gn/T/ipykernel_6161/1892902441.py:12: FutureWarning:\n",
      "\n",
      "The frame.append method is deprecated and will be removed from pandas in a future version. Use pandas.concat instead.\n",
      "\n",
      "/var/folders/q7/h0qy2kmn1617pwg3_l5zhc7c0000gn/T/ipykernel_6161/1892902441.py:12: FutureWarning:\n",
      "\n",
      "The frame.append method is deprecated and will be removed from pandas in a future version. Use pandas.concat instead.\n",
      "\n",
      "/var/folders/q7/h0qy2kmn1617pwg3_l5zhc7c0000gn/T/ipykernel_6161/1892902441.py:12: FutureWarning:\n",
      "\n",
      "The frame.append method is deprecated and will be removed from pandas in a future version. Use pandas.concat instead.\n",
      "\n",
      "/var/folders/q7/h0qy2kmn1617pwg3_l5zhc7c0000gn/T/ipykernel_6161/1892902441.py:12: FutureWarning:\n",
      "\n",
      "The frame.append method is deprecated and will be removed from pandas in a future version. Use pandas.concat instead.\n",
      "\n",
      "/var/folders/q7/h0qy2kmn1617pwg3_l5zhc7c0000gn/T/ipykernel_6161/1892902441.py:12: FutureWarning:\n",
      "\n",
      "The frame.append method is deprecated and will be removed from pandas in a future version. Use pandas.concat instead.\n",
      "\n",
      "/var/folders/q7/h0qy2kmn1617pwg3_l5zhc7c0000gn/T/ipykernel_6161/1892902441.py:12: FutureWarning:\n",
      "\n",
      "The frame.append method is deprecated and will be removed from pandas in a future version. Use pandas.concat instead.\n",
      "\n",
      "/var/folders/q7/h0qy2kmn1617pwg3_l5zhc7c0000gn/T/ipykernel_6161/1892902441.py:12: FutureWarning:\n",
      "\n",
      "The frame.append method is deprecated and will be removed from pandas in a future version. Use pandas.concat instead.\n",
      "\n",
      "/var/folders/q7/h0qy2kmn1617pwg3_l5zhc7c0000gn/T/ipykernel_6161/1892902441.py:12: FutureWarning:\n",
      "\n",
      "The frame.append method is deprecated and will be removed from pandas in a future version. Use pandas.concat instead.\n",
      "\n",
      "/var/folders/q7/h0qy2kmn1617pwg3_l5zhc7c0000gn/T/ipykernel_6161/1892902441.py:12: FutureWarning:\n",
      "\n",
      "The frame.append method is deprecated and will be removed from pandas in a future version. Use pandas.concat instead.\n",
      "\n",
      "/var/folders/q7/h0qy2kmn1617pwg3_l5zhc7c0000gn/T/ipykernel_6161/1892902441.py:12: FutureWarning:\n",
      "\n",
      "The frame.append method is deprecated and will be removed from pandas in a future version. Use pandas.concat instead.\n",
      "\n",
      "/var/folders/q7/h0qy2kmn1617pwg3_l5zhc7c0000gn/T/ipykernel_6161/1892902441.py:12: FutureWarning:\n",
      "\n",
      "The frame.append method is deprecated and will be removed from pandas in a future version. Use pandas.concat instead.\n",
      "\n",
      "/var/folders/q7/h0qy2kmn1617pwg3_l5zhc7c0000gn/T/ipykernel_6161/1892902441.py:12: FutureWarning:\n",
      "\n",
      "The frame.append method is deprecated and will be removed from pandas in a future version. Use pandas.concat instead.\n",
      "\n",
      "/var/folders/q7/h0qy2kmn1617pwg3_l5zhc7c0000gn/T/ipykernel_6161/1892902441.py:12: FutureWarning:\n",
      "\n",
      "The frame.append method is deprecated and will be removed from pandas in a future version. Use pandas.concat instead.\n",
      "\n",
      "/var/folders/q7/h0qy2kmn1617pwg3_l5zhc7c0000gn/T/ipykernel_6161/1892902441.py:12: FutureWarning:\n",
      "\n",
      "The frame.append method is deprecated and will be removed from pandas in a future version. Use pandas.concat instead.\n",
      "\n",
      "/var/folders/q7/h0qy2kmn1617pwg3_l5zhc7c0000gn/T/ipykernel_6161/1892902441.py:12: FutureWarning:\n",
      "\n",
      "The frame.append method is deprecated and will be removed from pandas in a future version. Use pandas.concat instead.\n",
      "\n",
      "/var/folders/q7/h0qy2kmn1617pwg3_l5zhc7c0000gn/T/ipykernel_6161/1892902441.py:12: FutureWarning:\n",
      "\n",
      "The frame.append method is deprecated and will be removed from pandas in a future version. Use pandas.concat instead.\n",
      "\n",
      "/var/folders/q7/h0qy2kmn1617pwg3_l5zhc7c0000gn/T/ipykernel_6161/1892902441.py:12: FutureWarning:\n",
      "\n",
      "The frame.append method is deprecated and will be removed from pandas in a future version. Use pandas.concat instead.\n",
      "\n",
      "/var/folders/q7/h0qy2kmn1617pwg3_l5zhc7c0000gn/T/ipykernel_6161/1892902441.py:12: FutureWarning:\n",
      "\n",
      "The frame.append method is deprecated and will be removed from pandas in a future version. Use pandas.concat instead.\n",
      "\n",
      "/var/folders/q7/h0qy2kmn1617pwg3_l5zhc7c0000gn/T/ipykernel_6161/1892902441.py:12: FutureWarning:\n",
      "\n",
      "The frame.append method is deprecated and will be removed from pandas in a future version. Use pandas.concat instead.\n",
      "\n",
      "/var/folders/q7/h0qy2kmn1617pwg3_l5zhc7c0000gn/T/ipykernel_6161/1892902441.py:12: FutureWarning:\n",
      "\n",
      "The frame.append method is deprecated and will be removed from pandas in a future version. Use pandas.concat instead.\n",
      "\n",
      "/var/folders/q7/h0qy2kmn1617pwg3_l5zhc7c0000gn/T/ipykernel_6161/1892902441.py:12: FutureWarning:\n",
      "\n",
      "The frame.append method is deprecated and will be removed from pandas in a future version. Use pandas.concat instead.\n",
      "\n",
      "/var/folders/q7/h0qy2kmn1617pwg3_l5zhc7c0000gn/T/ipykernel_6161/1892902441.py:12: FutureWarning:\n",
      "\n",
      "The frame.append method is deprecated and will be removed from pandas in a future version. Use pandas.concat instead.\n",
      "\n",
      "/var/folders/q7/h0qy2kmn1617pwg3_l5zhc7c0000gn/T/ipykernel_6161/1892902441.py:12: FutureWarning:\n",
      "\n",
      "The frame.append method is deprecated and will be removed from pandas in a future version. Use pandas.concat instead.\n",
      "\n",
      "/var/folders/q7/h0qy2kmn1617pwg3_l5zhc7c0000gn/T/ipykernel_6161/1892902441.py:12: FutureWarning:\n",
      "\n",
      "The frame.append method is deprecated and will be removed from pandas in a future version. Use pandas.concat instead.\n",
      "\n",
      "/var/folders/q7/h0qy2kmn1617pwg3_l5zhc7c0000gn/T/ipykernel_6161/1892902441.py:12: FutureWarning:\n",
      "\n",
      "The frame.append method is deprecated and will be removed from pandas in a future version. Use pandas.concat instead.\n",
      "\n",
      "/var/folders/q7/h0qy2kmn1617pwg3_l5zhc7c0000gn/T/ipykernel_6161/1892902441.py:12: FutureWarning:\n",
      "\n",
      "The frame.append method is deprecated and will be removed from pandas in a future version. Use pandas.concat instead.\n",
      "\n",
      "/var/folders/q7/h0qy2kmn1617pwg3_l5zhc7c0000gn/T/ipykernel_6161/1892902441.py:12: FutureWarning:\n",
      "\n",
      "The frame.append method is deprecated and will be removed from pandas in a future version. Use pandas.concat instead.\n",
      "\n",
      "/var/folders/q7/h0qy2kmn1617pwg3_l5zhc7c0000gn/T/ipykernel_6161/1892902441.py:12: FutureWarning:\n",
      "\n",
      "The frame.append method is deprecated and will be removed from pandas in a future version. Use pandas.concat instead.\n",
      "\n",
      "/var/folders/q7/h0qy2kmn1617pwg3_l5zhc7c0000gn/T/ipykernel_6161/1892902441.py:12: FutureWarning:\n",
      "\n",
      "The frame.append method is deprecated and will be removed from pandas in a future version. Use pandas.concat instead.\n",
      "\n",
      "/var/folders/q7/h0qy2kmn1617pwg3_l5zhc7c0000gn/T/ipykernel_6161/1892902441.py:12: FutureWarning:\n",
      "\n",
      "The frame.append method is deprecated and will be removed from pandas in a future version. Use pandas.concat instead.\n",
      "\n",
      "/var/folders/q7/h0qy2kmn1617pwg3_l5zhc7c0000gn/T/ipykernel_6161/1892902441.py:12: FutureWarning:\n",
      "\n",
      "The frame.append method is deprecated and will be removed from pandas in a future version. Use pandas.concat instead.\n",
      "\n",
      "/var/folders/q7/h0qy2kmn1617pwg3_l5zhc7c0000gn/T/ipykernel_6161/1892902441.py:12: FutureWarning:\n",
      "\n",
      "The frame.append method is deprecated and will be removed from pandas in a future version. Use pandas.concat instead.\n",
      "\n"
     ]
    },
    {
     "name": "stderr",
     "output_type": "stream",
     "text": [
      "/var/folders/q7/h0qy2kmn1617pwg3_l5zhc7c0000gn/T/ipykernel_6161/1892902441.py:12: FutureWarning:\n",
      "\n",
      "The frame.append method is deprecated and will be removed from pandas in a future version. Use pandas.concat instead.\n",
      "\n",
      "/var/folders/q7/h0qy2kmn1617pwg3_l5zhc7c0000gn/T/ipykernel_6161/1892902441.py:12: FutureWarning:\n",
      "\n",
      "The frame.append method is deprecated and will be removed from pandas in a future version. Use pandas.concat instead.\n",
      "\n",
      "/var/folders/q7/h0qy2kmn1617pwg3_l5zhc7c0000gn/T/ipykernel_6161/1892902441.py:12: FutureWarning:\n",
      "\n",
      "The frame.append method is deprecated and will be removed from pandas in a future version. Use pandas.concat instead.\n",
      "\n",
      "/var/folders/q7/h0qy2kmn1617pwg3_l5zhc7c0000gn/T/ipykernel_6161/1892902441.py:12: FutureWarning:\n",
      "\n",
      "The frame.append method is deprecated and will be removed from pandas in a future version. Use pandas.concat instead.\n",
      "\n",
      "/var/folders/q7/h0qy2kmn1617pwg3_l5zhc7c0000gn/T/ipykernel_6161/1892902441.py:12: FutureWarning:\n",
      "\n",
      "The frame.append method is deprecated and will be removed from pandas in a future version. Use pandas.concat instead.\n",
      "\n",
      "/var/folders/q7/h0qy2kmn1617pwg3_l5zhc7c0000gn/T/ipykernel_6161/1892902441.py:12: FutureWarning:\n",
      "\n",
      "The frame.append method is deprecated and will be removed from pandas in a future version. Use pandas.concat instead.\n",
      "\n",
      "/var/folders/q7/h0qy2kmn1617pwg3_l5zhc7c0000gn/T/ipykernel_6161/1892902441.py:12: FutureWarning:\n",
      "\n",
      "The frame.append method is deprecated and will be removed from pandas in a future version. Use pandas.concat instead.\n",
      "\n",
      "/var/folders/q7/h0qy2kmn1617pwg3_l5zhc7c0000gn/T/ipykernel_6161/1892902441.py:12: FutureWarning:\n",
      "\n",
      "The frame.append method is deprecated and will be removed from pandas in a future version. Use pandas.concat instead.\n",
      "\n",
      "/var/folders/q7/h0qy2kmn1617pwg3_l5zhc7c0000gn/T/ipykernel_6161/1892902441.py:12: FutureWarning:\n",
      "\n",
      "The frame.append method is deprecated and will be removed from pandas in a future version. Use pandas.concat instead.\n",
      "\n",
      "/var/folders/q7/h0qy2kmn1617pwg3_l5zhc7c0000gn/T/ipykernel_6161/1892902441.py:12: FutureWarning:\n",
      "\n",
      "The frame.append method is deprecated and will be removed from pandas in a future version. Use pandas.concat instead.\n",
      "\n",
      "/var/folders/q7/h0qy2kmn1617pwg3_l5zhc7c0000gn/T/ipykernel_6161/1892902441.py:12: FutureWarning:\n",
      "\n",
      "The frame.append method is deprecated and will be removed from pandas in a future version. Use pandas.concat instead.\n",
      "\n",
      "/var/folders/q7/h0qy2kmn1617pwg3_l5zhc7c0000gn/T/ipykernel_6161/1892902441.py:12: FutureWarning:\n",
      "\n",
      "The frame.append method is deprecated and will be removed from pandas in a future version. Use pandas.concat instead.\n",
      "\n",
      "/var/folders/q7/h0qy2kmn1617pwg3_l5zhc7c0000gn/T/ipykernel_6161/1892902441.py:12: FutureWarning:\n",
      "\n",
      "The frame.append method is deprecated and will be removed from pandas in a future version. Use pandas.concat instead.\n",
      "\n",
      "/var/folders/q7/h0qy2kmn1617pwg3_l5zhc7c0000gn/T/ipykernel_6161/1892902441.py:12: FutureWarning:\n",
      "\n",
      "The frame.append method is deprecated and will be removed from pandas in a future version. Use pandas.concat instead.\n",
      "\n",
      "/var/folders/q7/h0qy2kmn1617pwg3_l5zhc7c0000gn/T/ipykernel_6161/1892902441.py:12: FutureWarning:\n",
      "\n",
      "The frame.append method is deprecated and will be removed from pandas in a future version. Use pandas.concat instead.\n",
      "\n",
      "/var/folders/q7/h0qy2kmn1617pwg3_l5zhc7c0000gn/T/ipykernel_6161/1892902441.py:12: FutureWarning:\n",
      "\n",
      "The frame.append method is deprecated and will be removed from pandas in a future version. Use pandas.concat instead.\n",
      "\n",
      "/var/folders/q7/h0qy2kmn1617pwg3_l5zhc7c0000gn/T/ipykernel_6161/1892902441.py:12: FutureWarning:\n",
      "\n",
      "The frame.append method is deprecated and will be removed from pandas in a future version. Use pandas.concat instead.\n",
      "\n",
      "/var/folders/q7/h0qy2kmn1617pwg3_l5zhc7c0000gn/T/ipykernel_6161/1892902441.py:12: FutureWarning:\n",
      "\n",
      "The frame.append method is deprecated and will be removed from pandas in a future version. Use pandas.concat instead.\n",
      "\n",
      "/var/folders/q7/h0qy2kmn1617pwg3_l5zhc7c0000gn/T/ipykernel_6161/1892902441.py:12: FutureWarning:\n",
      "\n",
      "The frame.append method is deprecated and will be removed from pandas in a future version. Use pandas.concat instead.\n",
      "\n",
      "/var/folders/q7/h0qy2kmn1617pwg3_l5zhc7c0000gn/T/ipykernel_6161/1892902441.py:12: FutureWarning:\n",
      "\n",
      "The frame.append method is deprecated and will be removed from pandas in a future version. Use pandas.concat instead.\n",
      "\n",
      "/var/folders/q7/h0qy2kmn1617pwg3_l5zhc7c0000gn/T/ipykernel_6161/1892902441.py:12: FutureWarning:\n",
      "\n",
      "The frame.append method is deprecated and will be removed from pandas in a future version. Use pandas.concat instead.\n",
      "\n",
      "/var/folders/q7/h0qy2kmn1617pwg3_l5zhc7c0000gn/T/ipykernel_6161/1892902441.py:12: FutureWarning:\n",
      "\n",
      "The frame.append method is deprecated and will be removed from pandas in a future version. Use pandas.concat instead.\n",
      "\n",
      "/var/folders/q7/h0qy2kmn1617pwg3_l5zhc7c0000gn/T/ipykernel_6161/1892902441.py:12: FutureWarning:\n",
      "\n",
      "The frame.append method is deprecated and will be removed from pandas in a future version. Use pandas.concat instead.\n",
      "\n",
      "/var/folders/q7/h0qy2kmn1617pwg3_l5zhc7c0000gn/T/ipykernel_6161/1892902441.py:12: FutureWarning:\n",
      "\n",
      "The frame.append method is deprecated and will be removed from pandas in a future version. Use pandas.concat instead.\n",
      "\n",
      "/var/folders/q7/h0qy2kmn1617pwg3_l5zhc7c0000gn/T/ipykernel_6161/1892902441.py:12: FutureWarning:\n",
      "\n",
      "The frame.append method is deprecated and will be removed from pandas in a future version. Use pandas.concat instead.\n",
      "\n",
      "/var/folders/q7/h0qy2kmn1617pwg3_l5zhc7c0000gn/T/ipykernel_6161/1892902441.py:12: FutureWarning:\n",
      "\n",
      "The frame.append method is deprecated and will be removed from pandas in a future version. Use pandas.concat instead.\n",
      "\n",
      "/var/folders/q7/h0qy2kmn1617pwg3_l5zhc7c0000gn/T/ipykernel_6161/1892902441.py:12: FutureWarning:\n",
      "\n",
      "The frame.append method is deprecated and will be removed from pandas in a future version. Use pandas.concat instead.\n",
      "\n",
      "/var/folders/q7/h0qy2kmn1617pwg3_l5zhc7c0000gn/T/ipykernel_6161/1892902441.py:12: FutureWarning:\n",
      "\n",
      "The frame.append method is deprecated and will be removed from pandas in a future version. Use pandas.concat instead.\n",
      "\n",
      "/var/folders/q7/h0qy2kmn1617pwg3_l5zhc7c0000gn/T/ipykernel_6161/1892902441.py:12: FutureWarning:\n",
      "\n",
      "The frame.append method is deprecated and will be removed from pandas in a future version. Use pandas.concat instead.\n",
      "\n",
      "/var/folders/q7/h0qy2kmn1617pwg3_l5zhc7c0000gn/T/ipykernel_6161/1892902441.py:12: FutureWarning:\n",
      "\n",
      "The frame.append method is deprecated and will be removed from pandas in a future version. Use pandas.concat instead.\n",
      "\n",
      "/var/folders/q7/h0qy2kmn1617pwg3_l5zhc7c0000gn/T/ipykernel_6161/1892902441.py:12: FutureWarning:\n",
      "\n",
      "The frame.append method is deprecated and will be removed from pandas in a future version. Use pandas.concat instead.\n",
      "\n",
      "/var/folders/q7/h0qy2kmn1617pwg3_l5zhc7c0000gn/T/ipykernel_6161/1892902441.py:12: FutureWarning:\n",
      "\n",
      "The frame.append method is deprecated and will be removed from pandas in a future version. Use pandas.concat instead.\n",
      "\n",
      "/var/folders/q7/h0qy2kmn1617pwg3_l5zhc7c0000gn/T/ipykernel_6161/1892902441.py:12: FutureWarning:\n",
      "\n",
      "The frame.append method is deprecated and will be removed from pandas in a future version. Use pandas.concat instead.\n",
      "\n",
      "/var/folders/q7/h0qy2kmn1617pwg3_l5zhc7c0000gn/T/ipykernel_6161/1892902441.py:12: FutureWarning:\n",
      "\n",
      "The frame.append method is deprecated and will be removed from pandas in a future version. Use pandas.concat instead.\n",
      "\n",
      "/var/folders/q7/h0qy2kmn1617pwg3_l5zhc7c0000gn/T/ipykernel_6161/1892902441.py:12: FutureWarning:\n",
      "\n",
      "The frame.append method is deprecated and will be removed from pandas in a future version. Use pandas.concat instead.\n",
      "\n",
      "/var/folders/q7/h0qy2kmn1617pwg3_l5zhc7c0000gn/T/ipykernel_6161/1892902441.py:12: FutureWarning:\n",
      "\n",
      "The frame.append method is deprecated and will be removed from pandas in a future version. Use pandas.concat instead.\n",
      "\n",
      "/var/folders/q7/h0qy2kmn1617pwg3_l5zhc7c0000gn/T/ipykernel_6161/1892902441.py:12: FutureWarning:\n",
      "\n",
      "The frame.append method is deprecated and will be removed from pandas in a future version. Use pandas.concat instead.\n",
      "\n",
      "/var/folders/q7/h0qy2kmn1617pwg3_l5zhc7c0000gn/T/ipykernel_6161/1892902441.py:12: FutureWarning:\n",
      "\n",
      "The frame.append method is deprecated and will be removed from pandas in a future version. Use pandas.concat instead.\n",
      "\n",
      "/var/folders/q7/h0qy2kmn1617pwg3_l5zhc7c0000gn/T/ipykernel_6161/1892902441.py:12: FutureWarning:\n",
      "\n",
      "The frame.append method is deprecated and will be removed from pandas in a future version. Use pandas.concat instead.\n",
      "\n",
      "/var/folders/q7/h0qy2kmn1617pwg3_l5zhc7c0000gn/T/ipykernel_6161/1892902441.py:12: FutureWarning:\n",
      "\n",
      "The frame.append method is deprecated and will be removed from pandas in a future version. Use pandas.concat instead.\n",
      "\n",
      "/var/folders/q7/h0qy2kmn1617pwg3_l5zhc7c0000gn/T/ipykernel_6161/1892902441.py:12: FutureWarning:\n",
      "\n",
      "The frame.append method is deprecated and will be removed from pandas in a future version. Use pandas.concat instead.\n",
      "\n",
      "/var/folders/q7/h0qy2kmn1617pwg3_l5zhc7c0000gn/T/ipykernel_6161/1892902441.py:12: FutureWarning:\n",
      "\n",
      "The frame.append method is deprecated and will be removed from pandas in a future version. Use pandas.concat instead.\n",
      "\n",
      "/var/folders/q7/h0qy2kmn1617pwg3_l5zhc7c0000gn/T/ipykernel_6161/1892902441.py:12: FutureWarning:\n",
      "\n",
      "The frame.append method is deprecated and will be removed from pandas in a future version. Use pandas.concat instead.\n",
      "\n",
      "/var/folders/q7/h0qy2kmn1617pwg3_l5zhc7c0000gn/T/ipykernel_6161/1892902441.py:12: FutureWarning:\n",
      "\n",
      "The frame.append method is deprecated and will be removed from pandas in a future version. Use pandas.concat instead.\n",
      "\n",
      "/var/folders/q7/h0qy2kmn1617pwg3_l5zhc7c0000gn/T/ipykernel_6161/1892902441.py:12: FutureWarning:\n",
      "\n",
      "The frame.append method is deprecated and will be removed from pandas in a future version. Use pandas.concat instead.\n",
      "\n",
      "/var/folders/q7/h0qy2kmn1617pwg3_l5zhc7c0000gn/T/ipykernel_6161/1892902441.py:12: FutureWarning:\n",
      "\n",
      "The frame.append method is deprecated and will be removed from pandas in a future version. Use pandas.concat instead.\n",
      "\n",
      "/var/folders/q7/h0qy2kmn1617pwg3_l5zhc7c0000gn/T/ipykernel_6161/1892902441.py:12: FutureWarning:\n",
      "\n",
      "The frame.append method is deprecated and will be removed from pandas in a future version. Use pandas.concat instead.\n",
      "\n",
      "/var/folders/q7/h0qy2kmn1617pwg3_l5zhc7c0000gn/T/ipykernel_6161/1892902441.py:12: FutureWarning:\n",
      "\n",
      "The frame.append method is deprecated and will be removed from pandas in a future version. Use pandas.concat instead.\n",
      "\n",
      "/var/folders/q7/h0qy2kmn1617pwg3_l5zhc7c0000gn/T/ipykernel_6161/1892902441.py:12: FutureWarning:\n",
      "\n",
      "The frame.append method is deprecated and will be removed from pandas in a future version. Use pandas.concat instead.\n",
      "\n",
      "/var/folders/q7/h0qy2kmn1617pwg3_l5zhc7c0000gn/T/ipykernel_6161/1892902441.py:12: FutureWarning:\n",
      "\n",
      "The frame.append method is deprecated and will be removed from pandas in a future version. Use pandas.concat instead.\n",
      "\n",
      "/var/folders/q7/h0qy2kmn1617pwg3_l5zhc7c0000gn/T/ipykernel_6161/1892902441.py:12: FutureWarning:\n",
      "\n",
      "The frame.append method is deprecated and will be removed from pandas in a future version. Use pandas.concat instead.\n",
      "\n",
      "/var/folders/q7/h0qy2kmn1617pwg3_l5zhc7c0000gn/T/ipykernel_6161/1892902441.py:12: FutureWarning:\n",
      "\n",
      "The frame.append method is deprecated and will be removed from pandas in a future version. Use pandas.concat instead.\n",
      "\n",
      "/var/folders/q7/h0qy2kmn1617pwg3_l5zhc7c0000gn/T/ipykernel_6161/1892902441.py:12: FutureWarning:\n",
      "\n",
      "The frame.append method is deprecated and will be removed from pandas in a future version. Use pandas.concat instead.\n",
      "\n",
      "/var/folders/q7/h0qy2kmn1617pwg3_l5zhc7c0000gn/T/ipykernel_6161/1892902441.py:12: FutureWarning:\n",
      "\n",
      "The frame.append method is deprecated and will be removed from pandas in a future version. Use pandas.concat instead.\n",
      "\n",
      "/var/folders/q7/h0qy2kmn1617pwg3_l5zhc7c0000gn/T/ipykernel_6161/1892902441.py:12: FutureWarning:\n",
      "\n",
      "The frame.append method is deprecated and will be removed from pandas in a future version. Use pandas.concat instead.\n",
      "\n",
      "/var/folders/q7/h0qy2kmn1617pwg3_l5zhc7c0000gn/T/ipykernel_6161/1892902441.py:12: FutureWarning:\n",
      "\n",
      "The frame.append method is deprecated and will be removed from pandas in a future version. Use pandas.concat instead.\n",
      "\n",
      "/var/folders/q7/h0qy2kmn1617pwg3_l5zhc7c0000gn/T/ipykernel_6161/1892902441.py:12: FutureWarning:\n",
      "\n",
      "The frame.append method is deprecated and will be removed from pandas in a future version. Use pandas.concat instead.\n",
      "\n",
      "/var/folders/q7/h0qy2kmn1617pwg3_l5zhc7c0000gn/T/ipykernel_6161/1892902441.py:12: FutureWarning:\n",
      "\n",
      "The frame.append method is deprecated and will be removed from pandas in a future version. Use pandas.concat instead.\n",
      "\n"
     ]
    },
    {
     "name": "stderr",
     "output_type": "stream",
     "text": [
      "/var/folders/q7/h0qy2kmn1617pwg3_l5zhc7c0000gn/T/ipykernel_6161/1892902441.py:12: FutureWarning:\n",
      "\n",
      "The frame.append method is deprecated and will be removed from pandas in a future version. Use pandas.concat instead.\n",
      "\n",
      "/var/folders/q7/h0qy2kmn1617pwg3_l5zhc7c0000gn/T/ipykernel_6161/1892902441.py:12: FutureWarning:\n",
      "\n",
      "The frame.append method is deprecated and will be removed from pandas in a future version. Use pandas.concat instead.\n",
      "\n",
      "/var/folders/q7/h0qy2kmn1617pwg3_l5zhc7c0000gn/T/ipykernel_6161/1892902441.py:12: FutureWarning:\n",
      "\n",
      "The frame.append method is deprecated and will be removed from pandas in a future version. Use pandas.concat instead.\n",
      "\n",
      "/var/folders/q7/h0qy2kmn1617pwg3_l5zhc7c0000gn/T/ipykernel_6161/1892902441.py:12: FutureWarning:\n",
      "\n",
      "The frame.append method is deprecated and will be removed from pandas in a future version. Use pandas.concat instead.\n",
      "\n",
      "/var/folders/q7/h0qy2kmn1617pwg3_l5zhc7c0000gn/T/ipykernel_6161/1892902441.py:12: FutureWarning:\n",
      "\n",
      "The frame.append method is deprecated and will be removed from pandas in a future version. Use pandas.concat instead.\n",
      "\n",
      "/var/folders/q7/h0qy2kmn1617pwg3_l5zhc7c0000gn/T/ipykernel_6161/1892902441.py:12: FutureWarning:\n",
      "\n",
      "The frame.append method is deprecated and will be removed from pandas in a future version. Use pandas.concat instead.\n",
      "\n",
      "/var/folders/q7/h0qy2kmn1617pwg3_l5zhc7c0000gn/T/ipykernel_6161/1892902441.py:12: FutureWarning:\n",
      "\n",
      "The frame.append method is deprecated and will be removed from pandas in a future version. Use pandas.concat instead.\n",
      "\n",
      "/var/folders/q7/h0qy2kmn1617pwg3_l5zhc7c0000gn/T/ipykernel_6161/1892902441.py:12: FutureWarning:\n",
      "\n",
      "The frame.append method is deprecated and will be removed from pandas in a future version. Use pandas.concat instead.\n",
      "\n",
      "/var/folders/q7/h0qy2kmn1617pwg3_l5zhc7c0000gn/T/ipykernel_6161/1892902441.py:12: FutureWarning:\n",
      "\n",
      "The frame.append method is deprecated and will be removed from pandas in a future version. Use pandas.concat instead.\n",
      "\n",
      "/var/folders/q7/h0qy2kmn1617pwg3_l5zhc7c0000gn/T/ipykernel_6161/1892902441.py:12: FutureWarning:\n",
      "\n",
      "The frame.append method is deprecated and will be removed from pandas in a future version. Use pandas.concat instead.\n",
      "\n",
      "/var/folders/q7/h0qy2kmn1617pwg3_l5zhc7c0000gn/T/ipykernel_6161/1892902441.py:12: FutureWarning:\n",
      "\n",
      "The frame.append method is deprecated and will be removed from pandas in a future version. Use pandas.concat instead.\n",
      "\n",
      "/var/folders/q7/h0qy2kmn1617pwg3_l5zhc7c0000gn/T/ipykernel_6161/1892902441.py:12: FutureWarning:\n",
      "\n",
      "The frame.append method is deprecated and will be removed from pandas in a future version. Use pandas.concat instead.\n",
      "\n",
      "/var/folders/q7/h0qy2kmn1617pwg3_l5zhc7c0000gn/T/ipykernel_6161/1892902441.py:12: FutureWarning:\n",
      "\n",
      "The frame.append method is deprecated and will be removed from pandas in a future version. Use pandas.concat instead.\n",
      "\n",
      "/var/folders/q7/h0qy2kmn1617pwg3_l5zhc7c0000gn/T/ipykernel_6161/1892902441.py:12: FutureWarning:\n",
      "\n",
      "The frame.append method is deprecated and will be removed from pandas in a future version. Use pandas.concat instead.\n",
      "\n",
      "/var/folders/q7/h0qy2kmn1617pwg3_l5zhc7c0000gn/T/ipykernel_6161/1892902441.py:12: FutureWarning:\n",
      "\n",
      "The frame.append method is deprecated and will be removed from pandas in a future version. Use pandas.concat instead.\n",
      "\n",
      "/var/folders/q7/h0qy2kmn1617pwg3_l5zhc7c0000gn/T/ipykernel_6161/1892902441.py:12: FutureWarning:\n",
      "\n",
      "The frame.append method is deprecated and will be removed from pandas in a future version. Use pandas.concat instead.\n",
      "\n",
      "/var/folders/q7/h0qy2kmn1617pwg3_l5zhc7c0000gn/T/ipykernel_6161/1892902441.py:12: FutureWarning:\n",
      "\n",
      "The frame.append method is deprecated and will be removed from pandas in a future version. Use pandas.concat instead.\n",
      "\n",
      "/var/folders/q7/h0qy2kmn1617pwg3_l5zhc7c0000gn/T/ipykernel_6161/1892902441.py:12: FutureWarning:\n",
      "\n",
      "The frame.append method is deprecated and will be removed from pandas in a future version. Use pandas.concat instead.\n",
      "\n",
      "/var/folders/q7/h0qy2kmn1617pwg3_l5zhc7c0000gn/T/ipykernel_6161/1892902441.py:12: FutureWarning:\n",
      "\n",
      "The frame.append method is deprecated and will be removed from pandas in a future version. Use pandas.concat instead.\n",
      "\n",
      "/var/folders/q7/h0qy2kmn1617pwg3_l5zhc7c0000gn/T/ipykernel_6161/1892902441.py:12: FutureWarning:\n",
      "\n",
      "The frame.append method is deprecated and will be removed from pandas in a future version. Use pandas.concat instead.\n",
      "\n",
      "/var/folders/q7/h0qy2kmn1617pwg3_l5zhc7c0000gn/T/ipykernel_6161/1892902441.py:12: FutureWarning:\n",
      "\n",
      "The frame.append method is deprecated and will be removed from pandas in a future version. Use pandas.concat instead.\n",
      "\n",
      "/var/folders/q7/h0qy2kmn1617pwg3_l5zhc7c0000gn/T/ipykernel_6161/1892902441.py:12: FutureWarning:\n",
      "\n",
      "The frame.append method is deprecated and will be removed from pandas in a future version. Use pandas.concat instead.\n",
      "\n",
      "/var/folders/q7/h0qy2kmn1617pwg3_l5zhc7c0000gn/T/ipykernel_6161/1892902441.py:12: FutureWarning:\n",
      "\n",
      "The frame.append method is deprecated and will be removed from pandas in a future version. Use pandas.concat instead.\n",
      "\n",
      "/var/folders/q7/h0qy2kmn1617pwg3_l5zhc7c0000gn/T/ipykernel_6161/1892902441.py:12: FutureWarning:\n",
      "\n",
      "The frame.append method is deprecated and will be removed from pandas in a future version. Use pandas.concat instead.\n",
      "\n",
      "/var/folders/q7/h0qy2kmn1617pwg3_l5zhc7c0000gn/T/ipykernel_6161/1892902441.py:12: FutureWarning:\n",
      "\n",
      "The frame.append method is deprecated and will be removed from pandas in a future version. Use pandas.concat instead.\n",
      "\n",
      "/var/folders/q7/h0qy2kmn1617pwg3_l5zhc7c0000gn/T/ipykernel_6161/1892902441.py:12: FutureWarning:\n",
      "\n",
      "The frame.append method is deprecated and will be removed from pandas in a future version. Use pandas.concat instead.\n",
      "\n",
      "/var/folders/q7/h0qy2kmn1617pwg3_l5zhc7c0000gn/T/ipykernel_6161/1892902441.py:12: FutureWarning:\n",
      "\n",
      "The frame.append method is deprecated and will be removed from pandas in a future version. Use pandas.concat instead.\n",
      "\n",
      "/var/folders/q7/h0qy2kmn1617pwg3_l5zhc7c0000gn/T/ipykernel_6161/1892902441.py:12: FutureWarning:\n",
      "\n",
      "The frame.append method is deprecated and will be removed from pandas in a future version. Use pandas.concat instead.\n",
      "\n",
      "/var/folders/q7/h0qy2kmn1617pwg3_l5zhc7c0000gn/T/ipykernel_6161/1892902441.py:12: FutureWarning:\n",
      "\n",
      "The frame.append method is deprecated and will be removed from pandas in a future version. Use pandas.concat instead.\n",
      "\n",
      "/var/folders/q7/h0qy2kmn1617pwg3_l5zhc7c0000gn/T/ipykernel_6161/1892902441.py:12: FutureWarning:\n",
      "\n",
      "The frame.append method is deprecated and will be removed from pandas in a future version. Use pandas.concat instead.\n",
      "\n",
      "/var/folders/q7/h0qy2kmn1617pwg3_l5zhc7c0000gn/T/ipykernel_6161/1892902441.py:12: FutureWarning:\n",
      "\n",
      "The frame.append method is deprecated and will be removed from pandas in a future version. Use pandas.concat instead.\n",
      "\n",
      "/var/folders/q7/h0qy2kmn1617pwg3_l5zhc7c0000gn/T/ipykernel_6161/1892902441.py:12: FutureWarning:\n",
      "\n",
      "The frame.append method is deprecated and will be removed from pandas in a future version. Use pandas.concat instead.\n",
      "\n",
      "/var/folders/q7/h0qy2kmn1617pwg3_l5zhc7c0000gn/T/ipykernel_6161/1892902441.py:12: FutureWarning:\n",
      "\n",
      "The frame.append method is deprecated and will be removed from pandas in a future version. Use pandas.concat instead.\n",
      "\n",
      "/var/folders/q7/h0qy2kmn1617pwg3_l5zhc7c0000gn/T/ipykernel_6161/1892902441.py:12: FutureWarning:\n",
      "\n",
      "The frame.append method is deprecated and will be removed from pandas in a future version. Use pandas.concat instead.\n",
      "\n",
      "/var/folders/q7/h0qy2kmn1617pwg3_l5zhc7c0000gn/T/ipykernel_6161/1892902441.py:12: FutureWarning:\n",
      "\n",
      "The frame.append method is deprecated and will be removed from pandas in a future version. Use pandas.concat instead.\n",
      "\n",
      "/var/folders/q7/h0qy2kmn1617pwg3_l5zhc7c0000gn/T/ipykernel_6161/1892902441.py:12: FutureWarning:\n",
      "\n",
      "The frame.append method is deprecated and will be removed from pandas in a future version. Use pandas.concat instead.\n",
      "\n",
      "/var/folders/q7/h0qy2kmn1617pwg3_l5zhc7c0000gn/T/ipykernel_6161/1892902441.py:12: FutureWarning:\n",
      "\n",
      "The frame.append method is deprecated and will be removed from pandas in a future version. Use pandas.concat instead.\n",
      "\n",
      "/var/folders/q7/h0qy2kmn1617pwg3_l5zhc7c0000gn/T/ipykernel_6161/1892902441.py:12: FutureWarning:\n",
      "\n",
      "The frame.append method is deprecated and will be removed from pandas in a future version. Use pandas.concat instead.\n",
      "\n",
      "/var/folders/q7/h0qy2kmn1617pwg3_l5zhc7c0000gn/T/ipykernel_6161/1892902441.py:12: FutureWarning:\n",
      "\n",
      "The frame.append method is deprecated and will be removed from pandas in a future version. Use pandas.concat instead.\n",
      "\n",
      "/var/folders/q7/h0qy2kmn1617pwg3_l5zhc7c0000gn/T/ipykernel_6161/1892902441.py:12: FutureWarning:\n",
      "\n",
      "The frame.append method is deprecated and will be removed from pandas in a future version. Use pandas.concat instead.\n",
      "\n",
      "/var/folders/q7/h0qy2kmn1617pwg3_l5zhc7c0000gn/T/ipykernel_6161/1892902441.py:12: FutureWarning:\n",
      "\n",
      "The frame.append method is deprecated and will be removed from pandas in a future version. Use pandas.concat instead.\n",
      "\n",
      "/var/folders/q7/h0qy2kmn1617pwg3_l5zhc7c0000gn/T/ipykernel_6161/1892902441.py:12: FutureWarning:\n",
      "\n",
      "The frame.append method is deprecated and will be removed from pandas in a future version. Use pandas.concat instead.\n",
      "\n",
      "/var/folders/q7/h0qy2kmn1617pwg3_l5zhc7c0000gn/T/ipykernel_6161/1892902441.py:12: FutureWarning:\n",
      "\n",
      "The frame.append method is deprecated and will be removed from pandas in a future version. Use pandas.concat instead.\n",
      "\n",
      "/var/folders/q7/h0qy2kmn1617pwg3_l5zhc7c0000gn/T/ipykernel_6161/1892902441.py:12: FutureWarning:\n",
      "\n",
      "The frame.append method is deprecated and will be removed from pandas in a future version. Use pandas.concat instead.\n",
      "\n",
      "/var/folders/q7/h0qy2kmn1617pwg3_l5zhc7c0000gn/T/ipykernel_6161/1892902441.py:12: FutureWarning:\n",
      "\n",
      "The frame.append method is deprecated and will be removed from pandas in a future version. Use pandas.concat instead.\n",
      "\n",
      "/var/folders/q7/h0qy2kmn1617pwg3_l5zhc7c0000gn/T/ipykernel_6161/1892902441.py:12: FutureWarning:\n",
      "\n",
      "The frame.append method is deprecated and will be removed from pandas in a future version. Use pandas.concat instead.\n",
      "\n",
      "/var/folders/q7/h0qy2kmn1617pwg3_l5zhc7c0000gn/T/ipykernel_6161/1892902441.py:12: FutureWarning:\n",
      "\n",
      "The frame.append method is deprecated and will be removed from pandas in a future version. Use pandas.concat instead.\n",
      "\n",
      "/var/folders/q7/h0qy2kmn1617pwg3_l5zhc7c0000gn/T/ipykernel_6161/1892902441.py:12: FutureWarning:\n",
      "\n",
      "The frame.append method is deprecated and will be removed from pandas in a future version. Use pandas.concat instead.\n",
      "\n",
      "/var/folders/q7/h0qy2kmn1617pwg3_l5zhc7c0000gn/T/ipykernel_6161/1892902441.py:12: FutureWarning:\n",
      "\n",
      "The frame.append method is deprecated and will be removed from pandas in a future version. Use pandas.concat instead.\n",
      "\n",
      "/var/folders/q7/h0qy2kmn1617pwg3_l5zhc7c0000gn/T/ipykernel_6161/1892902441.py:12: FutureWarning:\n",
      "\n",
      "The frame.append method is deprecated and will be removed from pandas in a future version. Use pandas.concat instead.\n",
      "\n",
      "/var/folders/q7/h0qy2kmn1617pwg3_l5zhc7c0000gn/T/ipykernel_6161/1892902441.py:12: FutureWarning:\n",
      "\n",
      "The frame.append method is deprecated and will be removed from pandas in a future version. Use pandas.concat instead.\n",
      "\n",
      "/var/folders/q7/h0qy2kmn1617pwg3_l5zhc7c0000gn/T/ipykernel_6161/1892902441.py:12: FutureWarning:\n",
      "\n",
      "The frame.append method is deprecated and will be removed from pandas in a future version. Use pandas.concat instead.\n",
      "\n",
      "/var/folders/q7/h0qy2kmn1617pwg3_l5zhc7c0000gn/T/ipykernel_6161/1892902441.py:12: FutureWarning:\n",
      "\n",
      "The frame.append method is deprecated and will be removed from pandas in a future version. Use pandas.concat instead.\n",
      "\n",
      "/var/folders/q7/h0qy2kmn1617pwg3_l5zhc7c0000gn/T/ipykernel_6161/1892902441.py:12: FutureWarning:\n",
      "\n",
      "The frame.append method is deprecated and will be removed from pandas in a future version. Use pandas.concat instead.\n",
      "\n",
      "/var/folders/q7/h0qy2kmn1617pwg3_l5zhc7c0000gn/T/ipykernel_6161/1892902441.py:12: FutureWarning:\n",
      "\n",
      "The frame.append method is deprecated and will be removed from pandas in a future version. Use pandas.concat instead.\n",
      "\n",
      "/var/folders/q7/h0qy2kmn1617pwg3_l5zhc7c0000gn/T/ipykernel_6161/1892902441.py:12: FutureWarning:\n",
      "\n",
      "The frame.append method is deprecated and will be removed from pandas in a future version. Use pandas.concat instead.\n",
      "\n",
      "/var/folders/q7/h0qy2kmn1617pwg3_l5zhc7c0000gn/T/ipykernel_6161/1892902441.py:12: FutureWarning:\n",
      "\n",
      "The frame.append method is deprecated and will be removed from pandas in a future version. Use pandas.concat instead.\n",
      "\n",
      "/var/folders/q7/h0qy2kmn1617pwg3_l5zhc7c0000gn/T/ipykernel_6161/1892902441.py:12: FutureWarning:\n",
      "\n",
      "The frame.append method is deprecated and will be removed from pandas in a future version. Use pandas.concat instead.\n",
      "\n"
     ]
    },
    {
     "name": "stderr",
     "output_type": "stream",
     "text": [
      "/var/folders/q7/h0qy2kmn1617pwg3_l5zhc7c0000gn/T/ipykernel_6161/1892902441.py:12: FutureWarning:\n",
      "\n",
      "The frame.append method is deprecated and will be removed from pandas in a future version. Use pandas.concat instead.\n",
      "\n",
      "/var/folders/q7/h0qy2kmn1617pwg3_l5zhc7c0000gn/T/ipykernel_6161/1892902441.py:12: FutureWarning:\n",
      "\n",
      "The frame.append method is deprecated and will be removed from pandas in a future version. Use pandas.concat instead.\n",
      "\n",
      "/var/folders/q7/h0qy2kmn1617pwg3_l5zhc7c0000gn/T/ipykernel_6161/1892902441.py:12: FutureWarning:\n",
      "\n",
      "The frame.append method is deprecated and will be removed from pandas in a future version. Use pandas.concat instead.\n",
      "\n",
      "/var/folders/q7/h0qy2kmn1617pwg3_l5zhc7c0000gn/T/ipykernel_6161/1892902441.py:12: FutureWarning:\n",
      "\n",
      "The frame.append method is deprecated and will be removed from pandas in a future version. Use pandas.concat instead.\n",
      "\n",
      "/var/folders/q7/h0qy2kmn1617pwg3_l5zhc7c0000gn/T/ipykernel_6161/1892902441.py:12: FutureWarning:\n",
      "\n",
      "The frame.append method is deprecated and will be removed from pandas in a future version. Use pandas.concat instead.\n",
      "\n",
      "/var/folders/q7/h0qy2kmn1617pwg3_l5zhc7c0000gn/T/ipykernel_6161/1892902441.py:12: FutureWarning:\n",
      "\n",
      "The frame.append method is deprecated and will be removed from pandas in a future version. Use pandas.concat instead.\n",
      "\n",
      "/var/folders/q7/h0qy2kmn1617pwg3_l5zhc7c0000gn/T/ipykernel_6161/1892902441.py:12: FutureWarning:\n",
      "\n",
      "The frame.append method is deprecated and will be removed from pandas in a future version. Use pandas.concat instead.\n",
      "\n",
      "/var/folders/q7/h0qy2kmn1617pwg3_l5zhc7c0000gn/T/ipykernel_6161/1892902441.py:12: FutureWarning:\n",
      "\n",
      "The frame.append method is deprecated and will be removed from pandas in a future version. Use pandas.concat instead.\n",
      "\n",
      "/var/folders/q7/h0qy2kmn1617pwg3_l5zhc7c0000gn/T/ipykernel_6161/1892902441.py:12: FutureWarning:\n",
      "\n",
      "The frame.append method is deprecated and will be removed from pandas in a future version. Use pandas.concat instead.\n",
      "\n",
      "/var/folders/q7/h0qy2kmn1617pwg3_l5zhc7c0000gn/T/ipykernel_6161/1892902441.py:12: FutureWarning:\n",
      "\n",
      "The frame.append method is deprecated and will be removed from pandas in a future version. Use pandas.concat instead.\n",
      "\n",
      "/var/folders/q7/h0qy2kmn1617pwg3_l5zhc7c0000gn/T/ipykernel_6161/1892902441.py:12: FutureWarning:\n",
      "\n",
      "The frame.append method is deprecated and will be removed from pandas in a future version. Use pandas.concat instead.\n",
      "\n",
      "/var/folders/q7/h0qy2kmn1617pwg3_l5zhc7c0000gn/T/ipykernel_6161/1892902441.py:12: FutureWarning:\n",
      "\n",
      "The frame.append method is deprecated and will be removed from pandas in a future version. Use pandas.concat instead.\n",
      "\n",
      "/var/folders/q7/h0qy2kmn1617pwg3_l5zhc7c0000gn/T/ipykernel_6161/1892902441.py:12: FutureWarning:\n",
      "\n",
      "The frame.append method is deprecated and will be removed from pandas in a future version. Use pandas.concat instead.\n",
      "\n",
      "/var/folders/q7/h0qy2kmn1617pwg3_l5zhc7c0000gn/T/ipykernel_6161/1892902441.py:12: FutureWarning:\n",
      "\n",
      "The frame.append method is deprecated and will be removed from pandas in a future version. Use pandas.concat instead.\n",
      "\n",
      "/var/folders/q7/h0qy2kmn1617pwg3_l5zhc7c0000gn/T/ipykernel_6161/1892902441.py:12: FutureWarning:\n",
      "\n",
      "The frame.append method is deprecated and will be removed from pandas in a future version. Use pandas.concat instead.\n",
      "\n",
      "/var/folders/q7/h0qy2kmn1617pwg3_l5zhc7c0000gn/T/ipykernel_6161/1892902441.py:12: FutureWarning:\n",
      "\n",
      "The frame.append method is deprecated and will be removed from pandas in a future version. Use pandas.concat instead.\n",
      "\n",
      "/var/folders/q7/h0qy2kmn1617pwg3_l5zhc7c0000gn/T/ipykernel_6161/1892902441.py:12: FutureWarning:\n",
      "\n",
      "The frame.append method is deprecated and will be removed from pandas in a future version. Use pandas.concat instead.\n",
      "\n",
      "/var/folders/q7/h0qy2kmn1617pwg3_l5zhc7c0000gn/T/ipykernel_6161/1892902441.py:12: FutureWarning:\n",
      "\n",
      "The frame.append method is deprecated and will be removed from pandas in a future version. Use pandas.concat instead.\n",
      "\n",
      "/var/folders/q7/h0qy2kmn1617pwg3_l5zhc7c0000gn/T/ipykernel_6161/1892902441.py:12: FutureWarning:\n",
      "\n",
      "The frame.append method is deprecated and will be removed from pandas in a future version. Use pandas.concat instead.\n",
      "\n",
      "/var/folders/q7/h0qy2kmn1617pwg3_l5zhc7c0000gn/T/ipykernel_6161/1892902441.py:12: FutureWarning:\n",
      "\n",
      "The frame.append method is deprecated and will be removed from pandas in a future version. Use pandas.concat instead.\n",
      "\n",
      "/var/folders/q7/h0qy2kmn1617pwg3_l5zhc7c0000gn/T/ipykernel_6161/1892902441.py:12: FutureWarning:\n",
      "\n",
      "The frame.append method is deprecated and will be removed from pandas in a future version. Use pandas.concat instead.\n",
      "\n",
      "/var/folders/q7/h0qy2kmn1617pwg3_l5zhc7c0000gn/T/ipykernel_6161/1892902441.py:12: FutureWarning:\n",
      "\n",
      "The frame.append method is deprecated and will be removed from pandas in a future version. Use pandas.concat instead.\n",
      "\n",
      "/var/folders/q7/h0qy2kmn1617pwg3_l5zhc7c0000gn/T/ipykernel_6161/1892902441.py:12: FutureWarning:\n",
      "\n",
      "The frame.append method is deprecated and will be removed from pandas in a future version. Use pandas.concat instead.\n",
      "\n",
      "/var/folders/q7/h0qy2kmn1617pwg3_l5zhc7c0000gn/T/ipykernel_6161/1892902441.py:12: FutureWarning:\n",
      "\n",
      "The frame.append method is deprecated and will be removed from pandas in a future version. Use pandas.concat instead.\n",
      "\n",
      "/var/folders/q7/h0qy2kmn1617pwg3_l5zhc7c0000gn/T/ipykernel_6161/1892902441.py:12: FutureWarning:\n",
      "\n",
      "The frame.append method is deprecated and will be removed from pandas in a future version. Use pandas.concat instead.\n",
      "\n",
      "/var/folders/q7/h0qy2kmn1617pwg3_l5zhc7c0000gn/T/ipykernel_6161/1892902441.py:12: FutureWarning:\n",
      "\n",
      "The frame.append method is deprecated and will be removed from pandas in a future version. Use pandas.concat instead.\n",
      "\n",
      "/var/folders/q7/h0qy2kmn1617pwg3_l5zhc7c0000gn/T/ipykernel_6161/1892902441.py:12: FutureWarning:\n",
      "\n",
      "The frame.append method is deprecated and will be removed from pandas in a future version. Use pandas.concat instead.\n",
      "\n",
      "/var/folders/q7/h0qy2kmn1617pwg3_l5zhc7c0000gn/T/ipykernel_6161/1892902441.py:12: FutureWarning:\n",
      "\n",
      "The frame.append method is deprecated and will be removed from pandas in a future version. Use pandas.concat instead.\n",
      "\n",
      "/var/folders/q7/h0qy2kmn1617pwg3_l5zhc7c0000gn/T/ipykernel_6161/1892902441.py:12: FutureWarning:\n",
      "\n",
      "The frame.append method is deprecated and will be removed from pandas in a future version. Use pandas.concat instead.\n",
      "\n",
      "/var/folders/q7/h0qy2kmn1617pwg3_l5zhc7c0000gn/T/ipykernel_6161/1892902441.py:12: FutureWarning:\n",
      "\n",
      "The frame.append method is deprecated and will be removed from pandas in a future version. Use pandas.concat instead.\n",
      "\n",
      "/var/folders/q7/h0qy2kmn1617pwg3_l5zhc7c0000gn/T/ipykernel_6161/1892902441.py:12: FutureWarning:\n",
      "\n",
      "The frame.append method is deprecated and will be removed from pandas in a future version. Use pandas.concat instead.\n",
      "\n",
      "/var/folders/q7/h0qy2kmn1617pwg3_l5zhc7c0000gn/T/ipykernel_6161/1892902441.py:12: FutureWarning:\n",
      "\n",
      "The frame.append method is deprecated and will be removed from pandas in a future version. Use pandas.concat instead.\n",
      "\n",
      "/var/folders/q7/h0qy2kmn1617pwg3_l5zhc7c0000gn/T/ipykernel_6161/1892902441.py:12: FutureWarning:\n",
      "\n",
      "The frame.append method is deprecated and will be removed from pandas in a future version. Use pandas.concat instead.\n",
      "\n",
      "/var/folders/q7/h0qy2kmn1617pwg3_l5zhc7c0000gn/T/ipykernel_6161/1892902441.py:12: FutureWarning:\n",
      "\n",
      "The frame.append method is deprecated and will be removed from pandas in a future version. Use pandas.concat instead.\n",
      "\n",
      "/var/folders/q7/h0qy2kmn1617pwg3_l5zhc7c0000gn/T/ipykernel_6161/1892902441.py:12: FutureWarning:\n",
      "\n",
      "The frame.append method is deprecated and will be removed from pandas in a future version. Use pandas.concat instead.\n",
      "\n",
      "/var/folders/q7/h0qy2kmn1617pwg3_l5zhc7c0000gn/T/ipykernel_6161/1892902441.py:12: FutureWarning:\n",
      "\n",
      "The frame.append method is deprecated and will be removed from pandas in a future version. Use pandas.concat instead.\n",
      "\n",
      "/var/folders/q7/h0qy2kmn1617pwg3_l5zhc7c0000gn/T/ipykernel_6161/1892902441.py:12: FutureWarning:\n",
      "\n",
      "The frame.append method is deprecated and will be removed from pandas in a future version. Use pandas.concat instead.\n",
      "\n",
      "/var/folders/q7/h0qy2kmn1617pwg3_l5zhc7c0000gn/T/ipykernel_6161/1892902441.py:12: FutureWarning:\n",
      "\n",
      "The frame.append method is deprecated and will be removed from pandas in a future version. Use pandas.concat instead.\n",
      "\n",
      "/var/folders/q7/h0qy2kmn1617pwg3_l5zhc7c0000gn/T/ipykernel_6161/1892902441.py:12: FutureWarning:\n",
      "\n",
      "The frame.append method is deprecated and will be removed from pandas in a future version. Use pandas.concat instead.\n",
      "\n",
      "/var/folders/q7/h0qy2kmn1617pwg3_l5zhc7c0000gn/T/ipykernel_6161/1892902441.py:12: FutureWarning:\n",
      "\n",
      "The frame.append method is deprecated and will be removed from pandas in a future version. Use pandas.concat instead.\n",
      "\n",
      "/var/folders/q7/h0qy2kmn1617pwg3_l5zhc7c0000gn/T/ipykernel_6161/1892902441.py:12: FutureWarning:\n",
      "\n",
      "The frame.append method is deprecated and will be removed from pandas in a future version. Use pandas.concat instead.\n",
      "\n",
      "/var/folders/q7/h0qy2kmn1617pwg3_l5zhc7c0000gn/T/ipykernel_6161/1892902441.py:12: FutureWarning:\n",
      "\n",
      "The frame.append method is deprecated and will be removed from pandas in a future version. Use pandas.concat instead.\n",
      "\n",
      "/var/folders/q7/h0qy2kmn1617pwg3_l5zhc7c0000gn/T/ipykernel_6161/1892902441.py:12: FutureWarning:\n",
      "\n",
      "The frame.append method is deprecated and will be removed from pandas in a future version. Use pandas.concat instead.\n",
      "\n",
      "/var/folders/q7/h0qy2kmn1617pwg3_l5zhc7c0000gn/T/ipykernel_6161/1892902441.py:12: FutureWarning:\n",
      "\n",
      "The frame.append method is deprecated and will be removed from pandas in a future version. Use pandas.concat instead.\n",
      "\n",
      "/var/folders/q7/h0qy2kmn1617pwg3_l5zhc7c0000gn/T/ipykernel_6161/1892902441.py:12: FutureWarning:\n",
      "\n",
      "The frame.append method is deprecated and will be removed from pandas in a future version. Use pandas.concat instead.\n",
      "\n",
      "/var/folders/q7/h0qy2kmn1617pwg3_l5zhc7c0000gn/T/ipykernel_6161/1892902441.py:12: FutureWarning:\n",
      "\n",
      "The frame.append method is deprecated and will be removed from pandas in a future version. Use pandas.concat instead.\n",
      "\n",
      "/var/folders/q7/h0qy2kmn1617pwg3_l5zhc7c0000gn/T/ipykernel_6161/1892902441.py:12: FutureWarning:\n",
      "\n",
      "The frame.append method is deprecated and will be removed from pandas in a future version. Use pandas.concat instead.\n",
      "\n",
      "/var/folders/q7/h0qy2kmn1617pwg3_l5zhc7c0000gn/T/ipykernel_6161/1892902441.py:12: FutureWarning:\n",
      "\n",
      "The frame.append method is deprecated and will be removed from pandas in a future version. Use pandas.concat instead.\n",
      "\n",
      "/var/folders/q7/h0qy2kmn1617pwg3_l5zhc7c0000gn/T/ipykernel_6161/1892902441.py:12: FutureWarning:\n",
      "\n",
      "The frame.append method is deprecated and will be removed from pandas in a future version. Use pandas.concat instead.\n",
      "\n",
      "/var/folders/q7/h0qy2kmn1617pwg3_l5zhc7c0000gn/T/ipykernel_6161/1892902441.py:12: FutureWarning:\n",
      "\n",
      "The frame.append method is deprecated and will be removed from pandas in a future version. Use pandas.concat instead.\n",
      "\n",
      "/var/folders/q7/h0qy2kmn1617pwg3_l5zhc7c0000gn/T/ipykernel_6161/1892902441.py:12: FutureWarning:\n",
      "\n",
      "The frame.append method is deprecated and will be removed from pandas in a future version. Use pandas.concat instead.\n",
      "\n",
      "/var/folders/q7/h0qy2kmn1617pwg3_l5zhc7c0000gn/T/ipykernel_6161/1892902441.py:12: FutureWarning:\n",
      "\n",
      "The frame.append method is deprecated and will be removed from pandas in a future version. Use pandas.concat instead.\n",
      "\n",
      "/var/folders/q7/h0qy2kmn1617pwg3_l5zhc7c0000gn/T/ipykernel_6161/1892902441.py:12: FutureWarning:\n",
      "\n",
      "The frame.append method is deprecated and will be removed from pandas in a future version. Use pandas.concat instead.\n",
      "\n",
      "/var/folders/q7/h0qy2kmn1617pwg3_l5zhc7c0000gn/T/ipykernel_6161/1892902441.py:12: FutureWarning:\n",
      "\n",
      "The frame.append method is deprecated and will be removed from pandas in a future version. Use pandas.concat instead.\n",
      "\n",
      "/var/folders/q7/h0qy2kmn1617pwg3_l5zhc7c0000gn/T/ipykernel_6161/1892902441.py:12: FutureWarning:\n",
      "\n",
      "The frame.append method is deprecated and will be removed from pandas in a future version. Use pandas.concat instead.\n",
      "\n",
      "/var/folders/q7/h0qy2kmn1617pwg3_l5zhc7c0000gn/T/ipykernel_6161/1892902441.py:12: FutureWarning:\n",
      "\n",
      "The frame.append method is deprecated and will be removed from pandas in a future version. Use pandas.concat instead.\n",
      "\n",
      "/var/folders/q7/h0qy2kmn1617pwg3_l5zhc7c0000gn/T/ipykernel_6161/1892902441.py:12: FutureWarning:\n",
      "\n",
      "The frame.append method is deprecated and will be removed from pandas in a future version. Use pandas.concat instead.\n",
      "\n",
      "/var/folders/q7/h0qy2kmn1617pwg3_l5zhc7c0000gn/T/ipykernel_6161/1892902441.py:12: FutureWarning:\n",
      "\n",
      "The frame.append method is deprecated and will be removed from pandas in a future version. Use pandas.concat instead.\n",
      "\n"
     ]
    },
    {
     "name": "stderr",
     "output_type": "stream",
     "text": [
      "/var/folders/q7/h0qy2kmn1617pwg3_l5zhc7c0000gn/T/ipykernel_6161/1892902441.py:12: FutureWarning:\n",
      "\n",
      "The frame.append method is deprecated and will be removed from pandas in a future version. Use pandas.concat instead.\n",
      "\n",
      "/var/folders/q7/h0qy2kmn1617pwg3_l5zhc7c0000gn/T/ipykernel_6161/1892902441.py:12: FutureWarning:\n",
      "\n",
      "The frame.append method is deprecated and will be removed from pandas in a future version. Use pandas.concat instead.\n",
      "\n",
      "/var/folders/q7/h0qy2kmn1617pwg3_l5zhc7c0000gn/T/ipykernel_6161/1892902441.py:12: FutureWarning:\n",
      "\n",
      "The frame.append method is deprecated and will be removed from pandas in a future version. Use pandas.concat instead.\n",
      "\n",
      "/var/folders/q7/h0qy2kmn1617pwg3_l5zhc7c0000gn/T/ipykernel_6161/1892902441.py:12: FutureWarning:\n",
      "\n",
      "The frame.append method is deprecated and will be removed from pandas in a future version. Use pandas.concat instead.\n",
      "\n",
      "/var/folders/q7/h0qy2kmn1617pwg3_l5zhc7c0000gn/T/ipykernel_6161/1892902441.py:12: FutureWarning:\n",
      "\n",
      "The frame.append method is deprecated and will be removed from pandas in a future version. Use pandas.concat instead.\n",
      "\n",
      "/var/folders/q7/h0qy2kmn1617pwg3_l5zhc7c0000gn/T/ipykernel_6161/1892902441.py:12: FutureWarning:\n",
      "\n",
      "The frame.append method is deprecated and will be removed from pandas in a future version. Use pandas.concat instead.\n",
      "\n",
      "/var/folders/q7/h0qy2kmn1617pwg3_l5zhc7c0000gn/T/ipykernel_6161/1892902441.py:12: FutureWarning:\n",
      "\n",
      "The frame.append method is deprecated and will be removed from pandas in a future version. Use pandas.concat instead.\n",
      "\n",
      "/var/folders/q7/h0qy2kmn1617pwg3_l5zhc7c0000gn/T/ipykernel_6161/1892902441.py:12: FutureWarning:\n",
      "\n",
      "The frame.append method is deprecated and will be removed from pandas in a future version. Use pandas.concat instead.\n",
      "\n",
      "/var/folders/q7/h0qy2kmn1617pwg3_l5zhc7c0000gn/T/ipykernel_6161/1892902441.py:12: FutureWarning:\n",
      "\n",
      "The frame.append method is deprecated and will be removed from pandas in a future version. Use pandas.concat instead.\n",
      "\n",
      "/var/folders/q7/h0qy2kmn1617pwg3_l5zhc7c0000gn/T/ipykernel_6161/1892902441.py:12: FutureWarning:\n",
      "\n",
      "The frame.append method is deprecated and will be removed from pandas in a future version. Use pandas.concat instead.\n",
      "\n",
      "/var/folders/q7/h0qy2kmn1617pwg3_l5zhc7c0000gn/T/ipykernel_6161/1892902441.py:12: FutureWarning:\n",
      "\n",
      "The frame.append method is deprecated and will be removed from pandas in a future version. Use pandas.concat instead.\n",
      "\n",
      "/var/folders/q7/h0qy2kmn1617pwg3_l5zhc7c0000gn/T/ipykernel_6161/1892902441.py:12: FutureWarning:\n",
      "\n",
      "The frame.append method is deprecated and will be removed from pandas in a future version. Use pandas.concat instead.\n",
      "\n",
      "/var/folders/q7/h0qy2kmn1617pwg3_l5zhc7c0000gn/T/ipykernel_6161/1892902441.py:12: FutureWarning:\n",
      "\n",
      "The frame.append method is deprecated and will be removed from pandas in a future version. Use pandas.concat instead.\n",
      "\n",
      "/var/folders/q7/h0qy2kmn1617pwg3_l5zhc7c0000gn/T/ipykernel_6161/1892902441.py:12: FutureWarning:\n",
      "\n",
      "The frame.append method is deprecated and will be removed from pandas in a future version. Use pandas.concat instead.\n",
      "\n",
      "/var/folders/q7/h0qy2kmn1617pwg3_l5zhc7c0000gn/T/ipykernel_6161/1892902441.py:12: FutureWarning:\n",
      "\n",
      "The frame.append method is deprecated and will be removed from pandas in a future version. Use pandas.concat instead.\n",
      "\n",
      "/var/folders/q7/h0qy2kmn1617pwg3_l5zhc7c0000gn/T/ipykernel_6161/1892902441.py:12: FutureWarning:\n",
      "\n",
      "The frame.append method is deprecated and will be removed from pandas in a future version. Use pandas.concat instead.\n",
      "\n",
      "/var/folders/q7/h0qy2kmn1617pwg3_l5zhc7c0000gn/T/ipykernel_6161/1892902441.py:12: FutureWarning:\n",
      "\n",
      "The frame.append method is deprecated and will be removed from pandas in a future version. Use pandas.concat instead.\n",
      "\n",
      "/var/folders/q7/h0qy2kmn1617pwg3_l5zhc7c0000gn/T/ipykernel_6161/1892902441.py:12: FutureWarning:\n",
      "\n",
      "The frame.append method is deprecated and will be removed from pandas in a future version. Use pandas.concat instead.\n",
      "\n",
      "/var/folders/q7/h0qy2kmn1617pwg3_l5zhc7c0000gn/T/ipykernel_6161/1892902441.py:12: FutureWarning:\n",
      "\n",
      "The frame.append method is deprecated and will be removed from pandas in a future version. Use pandas.concat instead.\n",
      "\n",
      "/var/folders/q7/h0qy2kmn1617pwg3_l5zhc7c0000gn/T/ipykernel_6161/1892902441.py:12: FutureWarning:\n",
      "\n",
      "The frame.append method is deprecated and will be removed from pandas in a future version. Use pandas.concat instead.\n",
      "\n",
      "/var/folders/q7/h0qy2kmn1617pwg3_l5zhc7c0000gn/T/ipykernel_6161/1892902441.py:12: FutureWarning:\n",
      "\n",
      "The frame.append method is deprecated and will be removed from pandas in a future version. Use pandas.concat instead.\n",
      "\n",
      "/var/folders/q7/h0qy2kmn1617pwg3_l5zhc7c0000gn/T/ipykernel_6161/1892902441.py:12: FutureWarning:\n",
      "\n",
      "The frame.append method is deprecated and will be removed from pandas in a future version. Use pandas.concat instead.\n",
      "\n",
      "/var/folders/q7/h0qy2kmn1617pwg3_l5zhc7c0000gn/T/ipykernel_6161/1892902441.py:12: FutureWarning:\n",
      "\n",
      "The frame.append method is deprecated and will be removed from pandas in a future version. Use pandas.concat instead.\n",
      "\n",
      "/var/folders/q7/h0qy2kmn1617pwg3_l5zhc7c0000gn/T/ipykernel_6161/1892902441.py:12: FutureWarning:\n",
      "\n",
      "The frame.append method is deprecated and will be removed from pandas in a future version. Use pandas.concat instead.\n",
      "\n",
      "/var/folders/q7/h0qy2kmn1617pwg3_l5zhc7c0000gn/T/ipykernel_6161/1892902441.py:12: FutureWarning:\n",
      "\n",
      "The frame.append method is deprecated and will be removed from pandas in a future version. Use pandas.concat instead.\n",
      "\n",
      "/var/folders/q7/h0qy2kmn1617pwg3_l5zhc7c0000gn/T/ipykernel_6161/1892902441.py:12: FutureWarning:\n",
      "\n",
      "The frame.append method is deprecated and will be removed from pandas in a future version. Use pandas.concat instead.\n",
      "\n",
      "/var/folders/q7/h0qy2kmn1617pwg3_l5zhc7c0000gn/T/ipykernel_6161/1892902441.py:12: FutureWarning:\n",
      "\n",
      "The frame.append method is deprecated and will be removed from pandas in a future version. Use pandas.concat instead.\n",
      "\n",
      "/var/folders/q7/h0qy2kmn1617pwg3_l5zhc7c0000gn/T/ipykernel_6161/1892902441.py:12: FutureWarning:\n",
      "\n",
      "The frame.append method is deprecated and will be removed from pandas in a future version. Use pandas.concat instead.\n",
      "\n",
      "/var/folders/q7/h0qy2kmn1617pwg3_l5zhc7c0000gn/T/ipykernel_6161/1892902441.py:12: FutureWarning:\n",
      "\n",
      "The frame.append method is deprecated and will be removed from pandas in a future version. Use pandas.concat instead.\n",
      "\n",
      "/var/folders/q7/h0qy2kmn1617pwg3_l5zhc7c0000gn/T/ipykernel_6161/1892902441.py:12: FutureWarning:\n",
      "\n",
      "The frame.append method is deprecated and will be removed from pandas in a future version. Use pandas.concat instead.\n",
      "\n",
      "/var/folders/q7/h0qy2kmn1617pwg3_l5zhc7c0000gn/T/ipykernel_6161/1892902441.py:12: FutureWarning:\n",
      "\n",
      "The frame.append method is deprecated and will be removed from pandas in a future version. Use pandas.concat instead.\n",
      "\n",
      "/var/folders/q7/h0qy2kmn1617pwg3_l5zhc7c0000gn/T/ipykernel_6161/1892902441.py:12: FutureWarning:\n",
      "\n",
      "The frame.append method is deprecated and will be removed from pandas in a future version. Use pandas.concat instead.\n",
      "\n",
      "/var/folders/q7/h0qy2kmn1617pwg3_l5zhc7c0000gn/T/ipykernel_6161/1892902441.py:12: FutureWarning:\n",
      "\n",
      "The frame.append method is deprecated and will be removed from pandas in a future version. Use pandas.concat instead.\n",
      "\n",
      "/var/folders/q7/h0qy2kmn1617pwg3_l5zhc7c0000gn/T/ipykernel_6161/1892902441.py:12: FutureWarning:\n",
      "\n",
      "The frame.append method is deprecated and will be removed from pandas in a future version. Use pandas.concat instead.\n",
      "\n",
      "/var/folders/q7/h0qy2kmn1617pwg3_l5zhc7c0000gn/T/ipykernel_6161/1892902441.py:12: FutureWarning:\n",
      "\n",
      "The frame.append method is deprecated and will be removed from pandas in a future version. Use pandas.concat instead.\n",
      "\n",
      "/var/folders/q7/h0qy2kmn1617pwg3_l5zhc7c0000gn/T/ipykernel_6161/1892902441.py:12: FutureWarning:\n",
      "\n",
      "The frame.append method is deprecated and will be removed from pandas in a future version. Use pandas.concat instead.\n",
      "\n",
      "/var/folders/q7/h0qy2kmn1617pwg3_l5zhc7c0000gn/T/ipykernel_6161/1892902441.py:12: FutureWarning:\n",
      "\n",
      "The frame.append method is deprecated and will be removed from pandas in a future version. Use pandas.concat instead.\n",
      "\n",
      "/var/folders/q7/h0qy2kmn1617pwg3_l5zhc7c0000gn/T/ipykernel_6161/1892902441.py:12: FutureWarning:\n",
      "\n",
      "The frame.append method is deprecated and will be removed from pandas in a future version. Use pandas.concat instead.\n",
      "\n",
      "/var/folders/q7/h0qy2kmn1617pwg3_l5zhc7c0000gn/T/ipykernel_6161/1892902441.py:12: FutureWarning:\n",
      "\n",
      "The frame.append method is deprecated and will be removed from pandas in a future version. Use pandas.concat instead.\n",
      "\n",
      "/var/folders/q7/h0qy2kmn1617pwg3_l5zhc7c0000gn/T/ipykernel_6161/1892902441.py:12: FutureWarning:\n",
      "\n",
      "The frame.append method is deprecated and will be removed from pandas in a future version. Use pandas.concat instead.\n",
      "\n",
      "/var/folders/q7/h0qy2kmn1617pwg3_l5zhc7c0000gn/T/ipykernel_6161/1892902441.py:12: FutureWarning:\n",
      "\n",
      "The frame.append method is deprecated and will be removed from pandas in a future version. Use pandas.concat instead.\n",
      "\n",
      "/var/folders/q7/h0qy2kmn1617pwg3_l5zhc7c0000gn/T/ipykernel_6161/1892902441.py:12: FutureWarning:\n",
      "\n",
      "The frame.append method is deprecated and will be removed from pandas in a future version. Use pandas.concat instead.\n",
      "\n",
      "/var/folders/q7/h0qy2kmn1617pwg3_l5zhc7c0000gn/T/ipykernel_6161/1892902441.py:12: FutureWarning:\n",
      "\n",
      "The frame.append method is deprecated and will be removed from pandas in a future version. Use pandas.concat instead.\n",
      "\n",
      "/var/folders/q7/h0qy2kmn1617pwg3_l5zhc7c0000gn/T/ipykernel_6161/1892902441.py:12: FutureWarning:\n",
      "\n",
      "The frame.append method is deprecated and will be removed from pandas in a future version. Use pandas.concat instead.\n",
      "\n",
      "/var/folders/q7/h0qy2kmn1617pwg3_l5zhc7c0000gn/T/ipykernel_6161/1892902441.py:12: FutureWarning:\n",
      "\n",
      "The frame.append method is deprecated and will be removed from pandas in a future version. Use pandas.concat instead.\n",
      "\n",
      "/var/folders/q7/h0qy2kmn1617pwg3_l5zhc7c0000gn/T/ipykernel_6161/1892902441.py:12: FutureWarning:\n",
      "\n",
      "The frame.append method is deprecated and will be removed from pandas in a future version. Use pandas.concat instead.\n",
      "\n",
      "/var/folders/q7/h0qy2kmn1617pwg3_l5zhc7c0000gn/T/ipykernel_6161/1892902441.py:12: FutureWarning:\n",
      "\n",
      "The frame.append method is deprecated and will be removed from pandas in a future version. Use pandas.concat instead.\n",
      "\n",
      "/var/folders/q7/h0qy2kmn1617pwg3_l5zhc7c0000gn/T/ipykernel_6161/1892902441.py:12: FutureWarning:\n",
      "\n",
      "The frame.append method is deprecated and will be removed from pandas in a future version. Use pandas.concat instead.\n",
      "\n",
      "/var/folders/q7/h0qy2kmn1617pwg3_l5zhc7c0000gn/T/ipykernel_6161/1892902441.py:12: FutureWarning:\n",
      "\n",
      "The frame.append method is deprecated and will be removed from pandas in a future version. Use pandas.concat instead.\n",
      "\n",
      "/var/folders/q7/h0qy2kmn1617pwg3_l5zhc7c0000gn/T/ipykernel_6161/1892902441.py:12: FutureWarning:\n",
      "\n",
      "The frame.append method is deprecated and will be removed from pandas in a future version. Use pandas.concat instead.\n",
      "\n",
      "/var/folders/q7/h0qy2kmn1617pwg3_l5zhc7c0000gn/T/ipykernel_6161/1892902441.py:12: FutureWarning:\n",
      "\n",
      "The frame.append method is deprecated and will be removed from pandas in a future version. Use pandas.concat instead.\n",
      "\n",
      "/var/folders/q7/h0qy2kmn1617pwg3_l5zhc7c0000gn/T/ipykernel_6161/1892902441.py:12: FutureWarning:\n",
      "\n",
      "The frame.append method is deprecated and will be removed from pandas in a future version. Use pandas.concat instead.\n",
      "\n",
      "/var/folders/q7/h0qy2kmn1617pwg3_l5zhc7c0000gn/T/ipykernel_6161/1892902441.py:12: FutureWarning:\n",
      "\n",
      "The frame.append method is deprecated and will be removed from pandas in a future version. Use pandas.concat instead.\n",
      "\n",
      "/var/folders/q7/h0qy2kmn1617pwg3_l5zhc7c0000gn/T/ipykernel_6161/1892902441.py:12: FutureWarning:\n",
      "\n",
      "The frame.append method is deprecated and will be removed from pandas in a future version. Use pandas.concat instead.\n",
      "\n",
      "/var/folders/q7/h0qy2kmn1617pwg3_l5zhc7c0000gn/T/ipykernel_6161/1892902441.py:12: FutureWarning:\n",
      "\n",
      "The frame.append method is deprecated and will be removed from pandas in a future version. Use pandas.concat instead.\n",
      "\n",
      "/var/folders/q7/h0qy2kmn1617pwg3_l5zhc7c0000gn/T/ipykernel_6161/1892902441.py:12: FutureWarning:\n",
      "\n",
      "The frame.append method is deprecated and will be removed from pandas in a future version. Use pandas.concat instead.\n",
      "\n",
      "/var/folders/q7/h0qy2kmn1617pwg3_l5zhc7c0000gn/T/ipykernel_6161/1892902441.py:12: FutureWarning:\n",
      "\n",
      "The frame.append method is deprecated and will be removed from pandas in a future version. Use pandas.concat instead.\n",
      "\n",
      "/var/folders/q7/h0qy2kmn1617pwg3_l5zhc7c0000gn/T/ipykernel_6161/1892902441.py:12: FutureWarning:\n",
      "\n",
      "The frame.append method is deprecated and will be removed from pandas in a future version. Use pandas.concat instead.\n",
      "\n"
     ]
    },
    {
     "name": "stderr",
     "output_type": "stream",
     "text": [
      "/var/folders/q7/h0qy2kmn1617pwg3_l5zhc7c0000gn/T/ipykernel_6161/1892902441.py:12: FutureWarning:\n",
      "\n",
      "The frame.append method is deprecated and will be removed from pandas in a future version. Use pandas.concat instead.\n",
      "\n",
      "/var/folders/q7/h0qy2kmn1617pwg3_l5zhc7c0000gn/T/ipykernel_6161/1892902441.py:12: FutureWarning:\n",
      "\n",
      "The frame.append method is deprecated and will be removed from pandas in a future version. Use pandas.concat instead.\n",
      "\n",
      "/var/folders/q7/h0qy2kmn1617pwg3_l5zhc7c0000gn/T/ipykernel_6161/1892902441.py:12: FutureWarning:\n",
      "\n",
      "The frame.append method is deprecated and will be removed from pandas in a future version. Use pandas.concat instead.\n",
      "\n",
      "/var/folders/q7/h0qy2kmn1617pwg3_l5zhc7c0000gn/T/ipykernel_6161/1892902441.py:12: FutureWarning:\n",
      "\n",
      "The frame.append method is deprecated and will be removed from pandas in a future version. Use pandas.concat instead.\n",
      "\n",
      "/var/folders/q7/h0qy2kmn1617pwg3_l5zhc7c0000gn/T/ipykernel_6161/1892902441.py:12: FutureWarning:\n",
      "\n",
      "The frame.append method is deprecated and will be removed from pandas in a future version. Use pandas.concat instead.\n",
      "\n",
      "/var/folders/q7/h0qy2kmn1617pwg3_l5zhc7c0000gn/T/ipykernel_6161/1892902441.py:12: FutureWarning:\n",
      "\n",
      "The frame.append method is deprecated and will be removed from pandas in a future version. Use pandas.concat instead.\n",
      "\n",
      "/var/folders/q7/h0qy2kmn1617pwg3_l5zhc7c0000gn/T/ipykernel_6161/1892902441.py:12: FutureWarning:\n",
      "\n",
      "The frame.append method is deprecated and will be removed from pandas in a future version. Use pandas.concat instead.\n",
      "\n",
      "/var/folders/q7/h0qy2kmn1617pwg3_l5zhc7c0000gn/T/ipykernel_6161/1892902441.py:12: FutureWarning:\n",
      "\n",
      "The frame.append method is deprecated and will be removed from pandas in a future version. Use pandas.concat instead.\n",
      "\n",
      "/var/folders/q7/h0qy2kmn1617pwg3_l5zhc7c0000gn/T/ipykernel_6161/1892902441.py:12: FutureWarning:\n",
      "\n",
      "The frame.append method is deprecated and will be removed from pandas in a future version. Use pandas.concat instead.\n",
      "\n",
      "/var/folders/q7/h0qy2kmn1617pwg3_l5zhc7c0000gn/T/ipykernel_6161/1892902441.py:12: FutureWarning:\n",
      "\n",
      "The frame.append method is deprecated and will be removed from pandas in a future version. Use pandas.concat instead.\n",
      "\n",
      "/var/folders/q7/h0qy2kmn1617pwg3_l5zhc7c0000gn/T/ipykernel_6161/1892902441.py:12: FutureWarning:\n",
      "\n",
      "The frame.append method is deprecated and will be removed from pandas in a future version. Use pandas.concat instead.\n",
      "\n",
      "/var/folders/q7/h0qy2kmn1617pwg3_l5zhc7c0000gn/T/ipykernel_6161/1892902441.py:12: FutureWarning:\n",
      "\n",
      "The frame.append method is deprecated and will be removed from pandas in a future version. Use pandas.concat instead.\n",
      "\n",
      "/var/folders/q7/h0qy2kmn1617pwg3_l5zhc7c0000gn/T/ipykernel_6161/1892902441.py:12: FutureWarning:\n",
      "\n",
      "The frame.append method is deprecated and will be removed from pandas in a future version. Use pandas.concat instead.\n",
      "\n",
      "/var/folders/q7/h0qy2kmn1617pwg3_l5zhc7c0000gn/T/ipykernel_6161/1892902441.py:12: FutureWarning:\n",
      "\n",
      "The frame.append method is deprecated and will be removed from pandas in a future version. Use pandas.concat instead.\n",
      "\n",
      "/var/folders/q7/h0qy2kmn1617pwg3_l5zhc7c0000gn/T/ipykernel_6161/1892902441.py:12: FutureWarning:\n",
      "\n",
      "The frame.append method is deprecated and will be removed from pandas in a future version. Use pandas.concat instead.\n",
      "\n",
      "/var/folders/q7/h0qy2kmn1617pwg3_l5zhc7c0000gn/T/ipykernel_6161/1892902441.py:12: FutureWarning:\n",
      "\n",
      "The frame.append method is deprecated and will be removed from pandas in a future version. Use pandas.concat instead.\n",
      "\n",
      "/var/folders/q7/h0qy2kmn1617pwg3_l5zhc7c0000gn/T/ipykernel_6161/1892902441.py:12: FutureWarning:\n",
      "\n",
      "The frame.append method is deprecated and will be removed from pandas in a future version. Use pandas.concat instead.\n",
      "\n",
      "/var/folders/q7/h0qy2kmn1617pwg3_l5zhc7c0000gn/T/ipykernel_6161/1892902441.py:12: FutureWarning:\n",
      "\n",
      "The frame.append method is deprecated and will be removed from pandas in a future version. Use pandas.concat instead.\n",
      "\n",
      "/var/folders/q7/h0qy2kmn1617pwg3_l5zhc7c0000gn/T/ipykernel_6161/1892902441.py:12: FutureWarning:\n",
      "\n",
      "The frame.append method is deprecated and will be removed from pandas in a future version. Use pandas.concat instead.\n",
      "\n",
      "/var/folders/q7/h0qy2kmn1617pwg3_l5zhc7c0000gn/T/ipykernel_6161/1892902441.py:12: FutureWarning:\n",
      "\n",
      "The frame.append method is deprecated and will be removed from pandas in a future version. Use pandas.concat instead.\n",
      "\n",
      "/var/folders/q7/h0qy2kmn1617pwg3_l5zhc7c0000gn/T/ipykernel_6161/1892902441.py:12: FutureWarning:\n",
      "\n",
      "The frame.append method is deprecated and will be removed from pandas in a future version. Use pandas.concat instead.\n",
      "\n",
      "/var/folders/q7/h0qy2kmn1617pwg3_l5zhc7c0000gn/T/ipykernel_6161/1892902441.py:12: FutureWarning:\n",
      "\n",
      "The frame.append method is deprecated and will be removed from pandas in a future version. Use pandas.concat instead.\n",
      "\n",
      "/var/folders/q7/h0qy2kmn1617pwg3_l5zhc7c0000gn/T/ipykernel_6161/1892902441.py:12: FutureWarning:\n",
      "\n",
      "The frame.append method is deprecated and will be removed from pandas in a future version. Use pandas.concat instead.\n",
      "\n",
      "/var/folders/q7/h0qy2kmn1617pwg3_l5zhc7c0000gn/T/ipykernel_6161/1892902441.py:12: FutureWarning:\n",
      "\n",
      "The frame.append method is deprecated and will be removed from pandas in a future version. Use pandas.concat instead.\n",
      "\n",
      "/var/folders/q7/h0qy2kmn1617pwg3_l5zhc7c0000gn/T/ipykernel_6161/1892902441.py:12: FutureWarning:\n",
      "\n",
      "The frame.append method is deprecated and will be removed from pandas in a future version. Use pandas.concat instead.\n",
      "\n",
      "/var/folders/q7/h0qy2kmn1617pwg3_l5zhc7c0000gn/T/ipykernel_6161/1892902441.py:12: FutureWarning:\n",
      "\n",
      "The frame.append method is deprecated and will be removed from pandas in a future version. Use pandas.concat instead.\n",
      "\n",
      "/var/folders/q7/h0qy2kmn1617pwg3_l5zhc7c0000gn/T/ipykernel_6161/1892902441.py:12: FutureWarning:\n",
      "\n",
      "The frame.append method is deprecated and will be removed from pandas in a future version. Use pandas.concat instead.\n",
      "\n",
      "/var/folders/q7/h0qy2kmn1617pwg3_l5zhc7c0000gn/T/ipykernel_6161/1892902441.py:12: FutureWarning:\n",
      "\n",
      "The frame.append method is deprecated and will be removed from pandas in a future version. Use pandas.concat instead.\n",
      "\n",
      "/var/folders/q7/h0qy2kmn1617pwg3_l5zhc7c0000gn/T/ipykernel_6161/1892902441.py:12: FutureWarning:\n",
      "\n",
      "The frame.append method is deprecated and will be removed from pandas in a future version. Use pandas.concat instead.\n",
      "\n",
      "/var/folders/q7/h0qy2kmn1617pwg3_l5zhc7c0000gn/T/ipykernel_6161/1892902441.py:12: FutureWarning:\n",
      "\n",
      "The frame.append method is deprecated and will be removed from pandas in a future version. Use pandas.concat instead.\n",
      "\n",
      "/var/folders/q7/h0qy2kmn1617pwg3_l5zhc7c0000gn/T/ipykernel_6161/1892902441.py:12: FutureWarning:\n",
      "\n",
      "The frame.append method is deprecated and will be removed from pandas in a future version. Use pandas.concat instead.\n",
      "\n",
      "/var/folders/q7/h0qy2kmn1617pwg3_l5zhc7c0000gn/T/ipykernel_6161/1892902441.py:12: FutureWarning:\n",
      "\n",
      "The frame.append method is deprecated and will be removed from pandas in a future version. Use pandas.concat instead.\n",
      "\n",
      "/var/folders/q7/h0qy2kmn1617pwg3_l5zhc7c0000gn/T/ipykernel_6161/1892902441.py:12: FutureWarning:\n",
      "\n",
      "The frame.append method is deprecated and will be removed from pandas in a future version. Use pandas.concat instead.\n",
      "\n",
      "/var/folders/q7/h0qy2kmn1617pwg3_l5zhc7c0000gn/T/ipykernel_6161/1892902441.py:12: FutureWarning:\n",
      "\n",
      "The frame.append method is deprecated and will be removed from pandas in a future version. Use pandas.concat instead.\n",
      "\n",
      "/var/folders/q7/h0qy2kmn1617pwg3_l5zhc7c0000gn/T/ipykernel_6161/1892902441.py:12: FutureWarning:\n",
      "\n",
      "The frame.append method is deprecated and will be removed from pandas in a future version. Use pandas.concat instead.\n",
      "\n",
      "/var/folders/q7/h0qy2kmn1617pwg3_l5zhc7c0000gn/T/ipykernel_6161/1892902441.py:12: FutureWarning:\n",
      "\n",
      "The frame.append method is deprecated and will be removed from pandas in a future version. Use pandas.concat instead.\n",
      "\n",
      "/var/folders/q7/h0qy2kmn1617pwg3_l5zhc7c0000gn/T/ipykernel_6161/1892902441.py:12: FutureWarning:\n",
      "\n",
      "The frame.append method is deprecated and will be removed from pandas in a future version. Use pandas.concat instead.\n",
      "\n",
      "/var/folders/q7/h0qy2kmn1617pwg3_l5zhc7c0000gn/T/ipykernel_6161/1892902441.py:12: FutureWarning:\n",
      "\n",
      "The frame.append method is deprecated and will be removed from pandas in a future version. Use pandas.concat instead.\n",
      "\n",
      "/var/folders/q7/h0qy2kmn1617pwg3_l5zhc7c0000gn/T/ipykernel_6161/1892902441.py:12: FutureWarning:\n",
      "\n",
      "The frame.append method is deprecated and will be removed from pandas in a future version. Use pandas.concat instead.\n",
      "\n",
      "/var/folders/q7/h0qy2kmn1617pwg3_l5zhc7c0000gn/T/ipykernel_6161/1892902441.py:12: FutureWarning:\n",
      "\n",
      "The frame.append method is deprecated and will be removed from pandas in a future version. Use pandas.concat instead.\n",
      "\n",
      "/var/folders/q7/h0qy2kmn1617pwg3_l5zhc7c0000gn/T/ipykernel_6161/1892902441.py:12: FutureWarning:\n",
      "\n",
      "The frame.append method is deprecated and will be removed from pandas in a future version. Use pandas.concat instead.\n",
      "\n",
      "/var/folders/q7/h0qy2kmn1617pwg3_l5zhc7c0000gn/T/ipykernel_6161/1892902441.py:12: FutureWarning:\n",
      "\n",
      "The frame.append method is deprecated and will be removed from pandas in a future version. Use pandas.concat instead.\n",
      "\n",
      "/var/folders/q7/h0qy2kmn1617pwg3_l5zhc7c0000gn/T/ipykernel_6161/1892902441.py:12: FutureWarning:\n",
      "\n",
      "The frame.append method is deprecated and will be removed from pandas in a future version. Use pandas.concat instead.\n",
      "\n",
      "/var/folders/q7/h0qy2kmn1617pwg3_l5zhc7c0000gn/T/ipykernel_6161/1892902441.py:12: FutureWarning:\n",
      "\n",
      "The frame.append method is deprecated and will be removed from pandas in a future version. Use pandas.concat instead.\n",
      "\n",
      "/var/folders/q7/h0qy2kmn1617pwg3_l5zhc7c0000gn/T/ipykernel_6161/1892902441.py:12: FutureWarning:\n",
      "\n",
      "The frame.append method is deprecated and will be removed from pandas in a future version. Use pandas.concat instead.\n",
      "\n",
      "/var/folders/q7/h0qy2kmn1617pwg3_l5zhc7c0000gn/T/ipykernel_6161/1892902441.py:12: FutureWarning:\n",
      "\n",
      "The frame.append method is deprecated and will be removed from pandas in a future version. Use pandas.concat instead.\n",
      "\n",
      "/var/folders/q7/h0qy2kmn1617pwg3_l5zhc7c0000gn/T/ipykernel_6161/1892902441.py:12: FutureWarning:\n",
      "\n",
      "The frame.append method is deprecated and will be removed from pandas in a future version. Use pandas.concat instead.\n",
      "\n",
      "/var/folders/q7/h0qy2kmn1617pwg3_l5zhc7c0000gn/T/ipykernel_6161/1892902441.py:12: FutureWarning:\n",
      "\n",
      "The frame.append method is deprecated and will be removed from pandas in a future version. Use pandas.concat instead.\n",
      "\n",
      "/var/folders/q7/h0qy2kmn1617pwg3_l5zhc7c0000gn/T/ipykernel_6161/1892902441.py:12: FutureWarning:\n",
      "\n",
      "The frame.append method is deprecated and will be removed from pandas in a future version. Use pandas.concat instead.\n",
      "\n",
      "/var/folders/q7/h0qy2kmn1617pwg3_l5zhc7c0000gn/T/ipykernel_6161/1892902441.py:12: FutureWarning:\n",
      "\n",
      "The frame.append method is deprecated and will be removed from pandas in a future version. Use pandas.concat instead.\n",
      "\n",
      "/var/folders/q7/h0qy2kmn1617pwg3_l5zhc7c0000gn/T/ipykernel_6161/1892902441.py:12: FutureWarning:\n",
      "\n",
      "The frame.append method is deprecated and will be removed from pandas in a future version. Use pandas.concat instead.\n",
      "\n",
      "/var/folders/q7/h0qy2kmn1617pwg3_l5zhc7c0000gn/T/ipykernel_6161/1892902441.py:12: FutureWarning:\n",
      "\n",
      "The frame.append method is deprecated and will be removed from pandas in a future version. Use pandas.concat instead.\n",
      "\n",
      "/var/folders/q7/h0qy2kmn1617pwg3_l5zhc7c0000gn/T/ipykernel_6161/1892902441.py:12: FutureWarning:\n",
      "\n",
      "The frame.append method is deprecated and will be removed from pandas in a future version. Use pandas.concat instead.\n",
      "\n",
      "/var/folders/q7/h0qy2kmn1617pwg3_l5zhc7c0000gn/T/ipykernel_6161/1892902441.py:12: FutureWarning:\n",
      "\n",
      "The frame.append method is deprecated and will be removed from pandas in a future version. Use pandas.concat instead.\n",
      "\n",
      "/var/folders/q7/h0qy2kmn1617pwg3_l5zhc7c0000gn/T/ipykernel_6161/1892902441.py:12: FutureWarning:\n",
      "\n",
      "The frame.append method is deprecated and will be removed from pandas in a future version. Use pandas.concat instead.\n",
      "\n",
      "/var/folders/q7/h0qy2kmn1617pwg3_l5zhc7c0000gn/T/ipykernel_6161/1892902441.py:12: FutureWarning:\n",
      "\n",
      "The frame.append method is deprecated and will be removed from pandas in a future version. Use pandas.concat instead.\n",
      "\n",
      "/var/folders/q7/h0qy2kmn1617pwg3_l5zhc7c0000gn/T/ipykernel_6161/1892902441.py:12: FutureWarning:\n",
      "\n",
      "The frame.append method is deprecated and will be removed from pandas in a future version. Use pandas.concat instead.\n",
      "\n",
      "/var/folders/q7/h0qy2kmn1617pwg3_l5zhc7c0000gn/T/ipykernel_6161/1892902441.py:12: FutureWarning:\n",
      "\n",
      "The frame.append method is deprecated and will be removed from pandas in a future version. Use pandas.concat instead.\n",
      "\n"
     ]
    },
    {
     "name": "stderr",
     "output_type": "stream",
     "text": [
      "/var/folders/q7/h0qy2kmn1617pwg3_l5zhc7c0000gn/T/ipykernel_6161/1892902441.py:12: FutureWarning:\n",
      "\n",
      "The frame.append method is deprecated and will be removed from pandas in a future version. Use pandas.concat instead.\n",
      "\n",
      "/var/folders/q7/h0qy2kmn1617pwg3_l5zhc7c0000gn/T/ipykernel_6161/1892902441.py:12: FutureWarning:\n",
      "\n",
      "The frame.append method is deprecated and will be removed from pandas in a future version. Use pandas.concat instead.\n",
      "\n",
      "/var/folders/q7/h0qy2kmn1617pwg3_l5zhc7c0000gn/T/ipykernel_6161/1892902441.py:12: FutureWarning:\n",
      "\n",
      "The frame.append method is deprecated and will be removed from pandas in a future version. Use pandas.concat instead.\n",
      "\n",
      "/var/folders/q7/h0qy2kmn1617pwg3_l5zhc7c0000gn/T/ipykernel_6161/1892902441.py:12: FutureWarning:\n",
      "\n",
      "The frame.append method is deprecated and will be removed from pandas in a future version. Use pandas.concat instead.\n",
      "\n",
      "/var/folders/q7/h0qy2kmn1617pwg3_l5zhc7c0000gn/T/ipykernel_6161/1892902441.py:12: FutureWarning:\n",
      "\n",
      "The frame.append method is deprecated and will be removed from pandas in a future version. Use pandas.concat instead.\n",
      "\n",
      "/var/folders/q7/h0qy2kmn1617pwg3_l5zhc7c0000gn/T/ipykernel_6161/1892902441.py:12: FutureWarning:\n",
      "\n",
      "The frame.append method is deprecated and will be removed from pandas in a future version. Use pandas.concat instead.\n",
      "\n",
      "/var/folders/q7/h0qy2kmn1617pwg3_l5zhc7c0000gn/T/ipykernel_6161/1892902441.py:12: FutureWarning:\n",
      "\n",
      "The frame.append method is deprecated and will be removed from pandas in a future version. Use pandas.concat instead.\n",
      "\n",
      "/var/folders/q7/h0qy2kmn1617pwg3_l5zhc7c0000gn/T/ipykernel_6161/1892902441.py:12: FutureWarning:\n",
      "\n",
      "The frame.append method is deprecated and will be removed from pandas in a future version. Use pandas.concat instead.\n",
      "\n",
      "/var/folders/q7/h0qy2kmn1617pwg3_l5zhc7c0000gn/T/ipykernel_6161/1892902441.py:12: FutureWarning:\n",
      "\n",
      "The frame.append method is deprecated and will be removed from pandas in a future version. Use pandas.concat instead.\n",
      "\n",
      "/var/folders/q7/h0qy2kmn1617pwg3_l5zhc7c0000gn/T/ipykernel_6161/1892902441.py:12: FutureWarning:\n",
      "\n",
      "The frame.append method is deprecated and will be removed from pandas in a future version. Use pandas.concat instead.\n",
      "\n",
      "/var/folders/q7/h0qy2kmn1617pwg3_l5zhc7c0000gn/T/ipykernel_6161/1892902441.py:12: FutureWarning:\n",
      "\n",
      "The frame.append method is deprecated and will be removed from pandas in a future version. Use pandas.concat instead.\n",
      "\n",
      "/var/folders/q7/h0qy2kmn1617pwg3_l5zhc7c0000gn/T/ipykernel_6161/1892902441.py:12: FutureWarning:\n",
      "\n",
      "The frame.append method is deprecated and will be removed from pandas in a future version. Use pandas.concat instead.\n",
      "\n",
      "/var/folders/q7/h0qy2kmn1617pwg3_l5zhc7c0000gn/T/ipykernel_6161/1892902441.py:12: FutureWarning:\n",
      "\n",
      "The frame.append method is deprecated and will be removed from pandas in a future version. Use pandas.concat instead.\n",
      "\n",
      "/var/folders/q7/h0qy2kmn1617pwg3_l5zhc7c0000gn/T/ipykernel_6161/1892902441.py:12: FutureWarning:\n",
      "\n",
      "The frame.append method is deprecated and will be removed from pandas in a future version. Use pandas.concat instead.\n",
      "\n",
      "/var/folders/q7/h0qy2kmn1617pwg3_l5zhc7c0000gn/T/ipykernel_6161/1892902441.py:12: FutureWarning:\n",
      "\n",
      "The frame.append method is deprecated and will be removed from pandas in a future version. Use pandas.concat instead.\n",
      "\n",
      "/var/folders/q7/h0qy2kmn1617pwg3_l5zhc7c0000gn/T/ipykernel_6161/1892902441.py:12: FutureWarning:\n",
      "\n",
      "The frame.append method is deprecated and will be removed from pandas in a future version. Use pandas.concat instead.\n",
      "\n",
      "/var/folders/q7/h0qy2kmn1617pwg3_l5zhc7c0000gn/T/ipykernel_6161/1892902441.py:12: FutureWarning:\n",
      "\n",
      "The frame.append method is deprecated and will be removed from pandas in a future version. Use pandas.concat instead.\n",
      "\n",
      "/var/folders/q7/h0qy2kmn1617pwg3_l5zhc7c0000gn/T/ipykernel_6161/1892902441.py:12: FutureWarning:\n",
      "\n",
      "The frame.append method is deprecated and will be removed from pandas in a future version. Use pandas.concat instead.\n",
      "\n",
      "/var/folders/q7/h0qy2kmn1617pwg3_l5zhc7c0000gn/T/ipykernel_6161/1892902441.py:12: FutureWarning:\n",
      "\n",
      "The frame.append method is deprecated and will be removed from pandas in a future version. Use pandas.concat instead.\n",
      "\n",
      "/var/folders/q7/h0qy2kmn1617pwg3_l5zhc7c0000gn/T/ipykernel_6161/1892902441.py:12: FutureWarning:\n",
      "\n",
      "The frame.append method is deprecated and will be removed from pandas in a future version. Use pandas.concat instead.\n",
      "\n",
      "/var/folders/q7/h0qy2kmn1617pwg3_l5zhc7c0000gn/T/ipykernel_6161/1892902441.py:12: FutureWarning:\n",
      "\n",
      "The frame.append method is deprecated and will be removed from pandas in a future version. Use pandas.concat instead.\n",
      "\n",
      "/var/folders/q7/h0qy2kmn1617pwg3_l5zhc7c0000gn/T/ipykernel_6161/1892902441.py:12: FutureWarning:\n",
      "\n",
      "The frame.append method is deprecated and will be removed from pandas in a future version. Use pandas.concat instead.\n",
      "\n",
      "/var/folders/q7/h0qy2kmn1617pwg3_l5zhc7c0000gn/T/ipykernel_6161/1892902441.py:12: FutureWarning:\n",
      "\n",
      "The frame.append method is deprecated and will be removed from pandas in a future version. Use pandas.concat instead.\n",
      "\n",
      "/var/folders/q7/h0qy2kmn1617pwg3_l5zhc7c0000gn/T/ipykernel_6161/1892902441.py:12: FutureWarning:\n",
      "\n",
      "The frame.append method is deprecated and will be removed from pandas in a future version. Use pandas.concat instead.\n",
      "\n",
      "/var/folders/q7/h0qy2kmn1617pwg3_l5zhc7c0000gn/T/ipykernel_6161/1892902441.py:12: FutureWarning:\n",
      "\n",
      "The frame.append method is deprecated and will be removed from pandas in a future version. Use pandas.concat instead.\n",
      "\n",
      "/var/folders/q7/h0qy2kmn1617pwg3_l5zhc7c0000gn/T/ipykernel_6161/1892902441.py:12: FutureWarning:\n",
      "\n",
      "The frame.append method is deprecated and will be removed from pandas in a future version. Use pandas.concat instead.\n",
      "\n",
      "/var/folders/q7/h0qy2kmn1617pwg3_l5zhc7c0000gn/T/ipykernel_6161/1892902441.py:12: FutureWarning:\n",
      "\n",
      "The frame.append method is deprecated and will be removed from pandas in a future version. Use pandas.concat instead.\n",
      "\n",
      "/var/folders/q7/h0qy2kmn1617pwg3_l5zhc7c0000gn/T/ipykernel_6161/1892902441.py:12: FutureWarning:\n",
      "\n",
      "The frame.append method is deprecated and will be removed from pandas in a future version. Use pandas.concat instead.\n",
      "\n",
      "/var/folders/q7/h0qy2kmn1617pwg3_l5zhc7c0000gn/T/ipykernel_6161/1892902441.py:12: FutureWarning:\n",
      "\n",
      "The frame.append method is deprecated and will be removed from pandas in a future version. Use pandas.concat instead.\n",
      "\n",
      "/var/folders/q7/h0qy2kmn1617pwg3_l5zhc7c0000gn/T/ipykernel_6161/1892902441.py:12: FutureWarning:\n",
      "\n",
      "The frame.append method is deprecated and will be removed from pandas in a future version. Use pandas.concat instead.\n",
      "\n",
      "/var/folders/q7/h0qy2kmn1617pwg3_l5zhc7c0000gn/T/ipykernel_6161/1892902441.py:12: FutureWarning:\n",
      "\n",
      "The frame.append method is deprecated and will be removed from pandas in a future version. Use pandas.concat instead.\n",
      "\n",
      "/var/folders/q7/h0qy2kmn1617pwg3_l5zhc7c0000gn/T/ipykernel_6161/1892902441.py:12: FutureWarning:\n",
      "\n",
      "The frame.append method is deprecated and will be removed from pandas in a future version. Use pandas.concat instead.\n",
      "\n",
      "/var/folders/q7/h0qy2kmn1617pwg3_l5zhc7c0000gn/T/ipykernel_6161/1892902441.py:12: FutureWarning:\n",
      "\n",
      "The frame.append method is deprecated and will be removed from pandas in a future version. Use pandas.concat instead.\n",
      "\n",
      "/var/folders/q7/h0qy2kmn1617pwg3_l5zhc7c0000gn/T/ipykernel_6161/1892902441.py:12: FutureWarning:\n",
      "\n",
      "The frame.append method is deprecated and will be removed from pandas in a future version. Use pandas.concat instead.\n",
      "\n",
      "/var/folders/q7/h0qy2kmn1617pwg3_l5zhc7c0000gn/T/ipykernel_6161/1892902441.py:12: FutureWarning:\n",
      "\n",
      "The frame.append method is deprecated and will be removed from pandas in a future version. Use pandas.concat instead.\n",
      "\n",
      "/var/folders/q7/h0qy2kmn1617pwg3_l5zhc7c0000gn/T/ipykernel_6161/1892902441.py:12: FutureWarning:\n",
      "\n",
      "The frame.append method is deprecated and will be removed from pandas in a future version. Use pandas.concat instead.\n",
      "\n",
      "/var/folders/q7/h0qy2kmn1617pwg3_l5zhc7c0000gn/T/ipykernel_6161/1892902441.py:12: FutureWarning:\n",
      "\n",
      "The frame.append method is deprecated and will be removed from pandas in a future version. Use pandas.concat instead.\n",
      "\n",
      "/var/folders/q7/h0qy2kmn1617pwg3_l5zhc7c0000gn/T/ipykernel_6161/1892902441.py:12: FutureWarning:\n",
      "\n",
      "The frame.append method is deprecated and will be removed from pandas in a future version. Use pandas.concat instead.\n",
      "\n",
      "/var/folders/q7/h0qy2kmn1617pwg3_l5zhc7c0000gn/T/ipykernel_6161/1892902441.py:12: FutureWarning:\n",
      "\n",
      "The frame.append method is deprecated and will be removed from pandas in a future version. Use pandas.concat instead.\n",
      "\n",
      "/var/folders/q7/h0qy2kmn1617pwg3_l5zhc7c0000gn/T/ipykernel_6161/1892902441.py:12: FutureWarning:\n",
      "\n",
      "The frame.append method is deprecated and will be removed from pandas in a future version. Use pandas.concat instead.\n",
      "\n",
      "/var/folders/q7/h0qy2kmn1617pwg3_l5zhc7c0000gn/T/ipykernel_6161/1892902441.py:12: FutureWarning:\n",
      "\n",
      "The frame.append method is deprecated and will be removed from pandas in a future version. Use pandas.concat instead.\n",
      "\n",
      "/var/folders/q7/h0qy2kmn1617pwg3_l5zhc7c0000gn/T/ipykernel_6161/1892902441.py:12: FutureWarning:\n",
      "\n",
      "The frame.append method is deprecated and will be removed from pandas in a future version. Use pandas.concat instead.\n",
      "\n",
      "/var/folders/q7/h0qy2kmn1617pwg3_l5zhc7c0000gn/T/ipykernel_6161/1892902441.py:12: FutureWarning:\n",
      "\n",
      "The frame.append method is deprecated and will be removed from pandas in a future version. Use pandas.concat instead.\n",
      "\n",
      "/var/folders/q7/h0qy2kmn1617pwg3_l5zhc7c0000gn/T/ipykernel_6161/1892902441.py:12: FutureWarning:\n",
      "\n",
      "The frame.append method is deprecated and will be removed from pandas in a future version. Use pandas.concat instead.\n",
      "\n",
      "/var/folders/q7/h0qy2kmn1617pwg3_l5zhc7c0000gn/T/ipykernel_6161/1892902441.py:12: FutureWarning:\n",
      "\n",
      "The frame.append method is deprecated and will be removed from pandas in a future version. Use pandas.concat instead.\n",
      "\n",
      "/var/folders/q7/h0qy2kmn1617pwg3_l5zhc7c0000gn/T/ipykernel_6161/1892902441.py:12: FutureWarning:\n",
      "\n",
      "The frame.append method is deprecated and will be removed from pandas in a future version. Use pandas.concat instead.\n",
      "\n",
      "/var/folders/q7/h0qy2kmn1617pwg3_l5zhc7c0000gn/T/ipykernel_6161/1892902441.py:12: FutureWarning:\n",
      "\n",
      "The frame.append method is deprecated and will be removed from pandas in a future version. Use pandas.concat instead.\n",
      "\n",
      "/var/folders/q7/h0qy2kmn1617pwg3_l5zhc7c0000gn/T/ipykernel_6161/1892902441.py:12: FutureWarning:\n",
      "\n",
      "The frame.append method is deprecated and will be removed from pandas in a future version. Use pandas.concat instead.\n",
      "\n",
      "/var/folders/q7/h0qy2kmn1617pwg3_l5zhc7c0000gn/T/ipykernel_6161/1892902441.py:12: FutureWarning:\n",
      "\n",
      "The frame.append method is deprecated and will be removed from pandas in a future version. Use pandas.concat instead.\n",
      "\n",
      "/var/folders/q7/h0qy2kmn1617pwg3_l5zhc7c0000gn/T/ipykernel_6161/1892902441.py:12: FutureWarning:\n",
      "\n",
      "The frame.append method is deprecated and will be removed from pandas in a future version. Use pandas.concat instead.\n",
      "\n",
      "/var/folders/q7/h0qy2kmn1617pwg3_l5zhc7c0000gn/T/ipykernel_6161/1892902441.py:12: FutureWarning:\n",
      "\n",
      "The frame.append method is deprecated and will be removed from pandas in a future version. Use pandas.concat instead.\n",
      "\n",
      "/var/folders/q7/h0qy2kmn1617pwg3_l5zhc7c0000gn/T/ipykernel_6161/1892902441.py:12: FutureWarning:\n",
      "\n",
      "The frame.append method is deprecated and will be removed from pandas in a future version. Use pandas.concat instead.\n",
      "\n",
      "/var/folders/q7/h0qy2kmn1617pwg3_l5zhc7c0000gn/T/ipykernel_6161/1892902441.py:12: FutureWarning:\n",
      "\n",
      "The frame.append method is deprecated and will be removed from pandas in a future version. Use pandas.concat instead.\n",
      "\n",
      "/var/folders/q7/h0qy2kmn1617pwg3_l5zhc7c0000gn/T/ipykernel_6161/1892902441.py:12: FutureWarning:\n",
      "\n",
      "The frame.append method is deprecated and will be removed from pandas in a future version. Use pandas.concat instead.\n",
      "\n",
      "/var/folders/q7/h0qy2kmn1617pwg3_l5zhc7c0000gn/T/ipykernel_6161/1892902441.py:12: FutureWarning:\n",
      "\n",
      "The frame.append method is deprecated and will be removed from pandas in a future version. Use pandas.concat instead.\n",
      "\n",
      "/var/folders/q7/h0qy2kmn1617pwg3_l5zhc7c0000gn/T/ipykernel_6161/1892902441.py:12: FutureWarning:\n",
      "\n",
      "The frame.append method is deprecated and will be removed from pandas in a future version. Use pandas.concat instead.\n",
      "\n",
      "/var/folders/q7/h0qy2kmn1617pwg3_l5zhc7c0000gn/T/ipykernel_6161/1892902441.py:12: FutureWarning:\n",
      "\n",
      "The frame.append method is deprecated and will be removed from pandas in a future version. Use pandas.concat instead.\n",
      "\n",
      "/var/folders/q7/h0qy2kmn1617pwg3_l5zhc7c0000gn/T/ipykernel_6161/1892902441.py:12: FutureWarning:\n",
      "\n",
      "The frame.append method is deprecated and will be removed from pandas in a future version. Use pandas.concat instead.\n",
      "\n"
     ]
    },
    {
     "name": "stderr",
     "output_type": "stream",
     "text": [
      "/var/folders/q7/h0qy2kmn1617pwg3_l5zhc7c0000gn/T/ipykernel_6161/1892902441.py:12: FutureWarning:\n",
      "\n",
      "The frame.append method is deprecated and will be removed from pandas in a future version. Use pandas.concat instead.\n",
      "\n",
      "/var/folders/q7/h0qy2kmn1617pwg3_l5zhc7c0000gn/T/ipykernel_6161/1892902441.py:12: FutureWarning:\n",
      "\n",
      "The frame.append method is deprecated and will be removed from pandas in a future version. Use pandas.concat instead.\n",
      "\n",
      "/var/folders/q7/h0qy2kmn1617pwg3_l5zhc7c0000gn/T/ipykernel_6161/1892902441.py:12: FutureWarning:\n",
      "\n",
      "The frame.append method is deprecated and will be removed from pandas in a future version. Use pandas.concat instead.\n",
      "\n",
      "/var/folders/q7/h0qy2kmn1617pwg3_l5zhc7c0000gn/T/ipykernel_6161/1892902441.py:12: FutureWarning:\n",
      "\n",
      "The frame.append method is deprecated and will be removed from pandas in a future version. Use pandas.concat instead.\n",
      "\n",
      "/var/folders/q7/h0qy2kmn1617pwg3_l5zhc7c0000gn/T/ipykernel_6161/1892902441.py:12: FutureWarning:\n",
      "\n",
      "The frame.append method is deprecated and will be removed from pandas in a future version. Use pandas.concat instead.\n",
      "\n",
      "/var/folders/q7/h0qy2kmn1617pwg3_l5zhc7c0000gn/T/ipykernel_6161/1892902441.py:12: FutureWarning:\n",
      "\n",
      "The frame.append method is deprecated and will be removed from pandas in a future version. Use pandas.concat instead.\n",
      "\n",
      "/var/folders/q7/h0qy2kmn1617pwg3_l5zhc7c0000gn/T/ipykernel_6161/1892902441.py:12: FutureWarning:\n",
      "\n",
      "The frame.append method is deprecated and will be removed from pandas in a future version. Use pandas.concat instead.\n",
      "\n",
      "/var/folders/q7/h0qy2kmn1617pwg3_l5zhc7c0000gn/T/ipykernel_6161/1892902441.py:12: FutureWarning:\n",
      "\n",
      "The frame.append method is deprecated and will be removed from pandas in a future version. Use pandas.concat instead.\n",
      "\n",
      "/var/folders/q7/h0qy2kmn1617pwg3_l5zhc7c0000gn/T/ipykernel_6161/1892902441.py:12: FutureWarning:\n",
      "\n",
      "The frame.append method is deprecated and will be removed from pandas in a future version. Use pandas.concat instead.\n",
      "\n",
      "/var/folders/q7/h0qy2kmn1617pwg3_l5zhc7c0000gn/T/ipykernel_6161/1892902441.py:12: FutureWarning:\n",
      "\n",
      "The frame.append method is deprecated and will be removed from pandas in a future version. Use pandas.concat instead.\n",
      "\n",
      "/var/folders/q7/h0qy2kmn1617pwg3_l5zhc7c0000gn/T/ipykernel_6161/1892902441.py:12: FutureWarning:\n",
      "\n",
      "The frame.append method is deprecated and will be removed from pandas in a future version. Use pandas.concat instead.\n",
      "\n",
      "/var/folders/q7/h0qy2kmn1617pwg3_l5zhc7c0000gn/T/ipykernel_6161/1892902441.py:12: FutureWarning:\n",
      "\n",
      "The frame.append method is deprecated and will be removed from pandas in a future version. Use pandas.concat instead.\n",
      "\n",
      "/var/folders/q7/h0qy2kmn1617pwg3_l5zhc7c0000gn/T/ipykernel_6161/1892902441.py:12: FutureWarning:\n",
      "\n",
      "The frame.append method is deprecated and will be removed from pandas in a future version. Use pandas.concat instead.\n",
      "\n",
      "/var/folders/q7/h0qy2kmn1617pwg3_l5zhc7c0000gn/T/ipykernel_6161/1892902441.py:12: FutureWarning:\n",
      "\n",
      "The frame.append method is deprecated and will be removed from pandas in a future version. Use pandas.concat instead.\n",
      "\n",
      "/var/folders/q7/h0qy2kmn1617pwg3_l5zhc7c0000gn/T/ipykernel_6161/1892902441.py:12: FutureWarning:\n",
      "\n",
      "The frame.append method is deprecated and will be removed from pandas in a future version. Use pandas.concat instead.\n",
      "\n",
      "/var/folders/q7/h0qy2kmn1617pwg3_l5zhc7c0000gn/T/ipykernel_6161/1892902441.py:12: FutureWarning:\n",
      "\n",
      "The frame.append method is deprecated and will be removed from pandas in a future version. Use pandas.concat instead.\n",
      "\n",
      "/var/folders/q7/h0qy2kmn1617pwg3_l5zhc7c0000gn/T/ipykernel_6161/1892902441.py:12: FutureWarning:\n",
      "\n",
      "The frame.append method is deprecated and will be removed from pandas in a future version. Use pandas.concat instead.\n",
      "\n",
      "/var/folders/q7/h0qy2kmn1617pwg3_l5zhc7c0000gn/T/ipykernel_6161/1892902441.py:12: FutureWarning:\n",
      "\n",
      "The frame.append method is deprecated and will be removed from pandas in a future version. Use pandas.concat instead.\n",
      "\n",
      "/var/folders/q7/h0qy2kmn1617pwg3_l5zhc7c0000gn/T/ipykernel_6161/1892902441.py:12: FutureWarning:\n",
      "\n",
      "The frame.append method is deprecated and will be removed from pandas in a future version. Use pandas.concat instead.\n",
      "\n",
      "/var/folders/q7/h0qy2kmn1617pwg3_l5zhc7c0000gn/T/ipykernel_6161/1892902441.py:12: FutureWarning:\n",
      "\n",
      "The frame.append method is deprecated and will be removed from pandas in a future version. Use pandas.concat instead.\n",
      "\n",
      "/var/folders/q7/h0qy2kmn1617pwg3_l5zhc7c0000gn/T/ipykernel_6161/1892902441.py:12: FutureWarning:\n",
      "\n",
      "The frame.append method is deprecated and will be removed from pandas in a future version. Use pandas.concat instead.\n",
      "\n",
      "/var/folders/q7/h0qy2kmn1617pwg3_l5zhc7c0000gn/T/ipykernel_6161/1892902441.py:12: FutureWarning:\n",
      "\n",
      "The frame.append method is deprecated and will be removed from pandas in a future version. Use pandas.concat instead.\n",
      "\n",
      "/var/folders/q7/h0qy2kmn1617pwg3_l5zhc7c0000gn/T/ipykernel_6161/1892902441.py:12: FutureWarning:\n",
      "\n",
      "The frame.append method is deprecated and will be removed from pandas in a future version. Use pandas.concat instead.\n",
      "\n",
      "/var/folders/q7/h0qy2kmn1617pwg3_l5zhc7c0000gn/T/ipykernel_6161/1892902441.py:12: FutureWarning:\n",
      "\n",
      "The frame.append method is deprecated and will be removed from pandas in a future version. Use pandas.concat instead.\n",
      "\n",
      "/var/folders/q7/h0qy2kmn1617pwg3_l5zhc7c0000gn/T/ipykernel_6161/1892902441.py:12: FutureWarning:\n",
      "\n",
      "The frame.append method is deprecated and will be removed from pandas in a future version. Use pandas.concat instead.\n",
      "\n",
      "/var/folders/q7/h0qy2kmn1617pwg3_l5zhc7c0000gn/T/ipykernel_6161/1892902441.py:12: FutureWarning:\n",
      "\n",
      "The frame.append method is deprecated and will be removed from pandas in a future version. Use pandas.concat instead.\n",
      "\n",
      "/var/folders/q7/h0qy2kmn1617pwg3_l5zhc7c0000gn/T/ipykernel_6161/1892902441.py:12: FutureWarning:\n",
      "\n",
      "The frame.append method is deprecated and will be removed from pandas in a future version. Use pandas.concat instead.\n",
      "\n",
      "/var/folders/q7/h0qy2kmn1617pwg3_l5zhc7c0000gn/T/ipykernel_6161/1892902441.py:12: FutureWarning:\n",
      "\n",
      "The frame.append method is deprecated and will be removed from pandas in a future version. Use pandas.concat instead.\n",
      "\n",
      "/var/folders/q7/h0qy2kmn1617pwg3_l5zhc7c0000gn/T/ipykernel_6161/1892902441.py:12: FutureWarning:\n",
      "\n",
      "The frame.append method is deprecated and will be removed from pandas in a future version. Use pandas.concat instead.\n",
      "\n",
      "/var/folders/q7/h0qy2kmn1617pwg3_l5zhc7c0000gn/T/ipykernel_6161/1892902441.py:12: FutureWarning:\n",
      "\n",
      "The frame.append method is deprecated and will be removed from pandas in a future version. Use pandas.concat instead.\n",
      "\n",
      "/var/folders/q7/h0qy2kmn1617pwg3_l5zhc7c0000gn/T/ipykernel_6161/1892902441.py:12: FutureWarning:\n",
      "\n",
      "The frame.append method is deprecated and will be removed from pandas in a future version. Use pandas.concat instead.\n",
      "\n",
      "/var/folders/q7/h0qy2kmn1617pwg3_l5zhc7c0000gn/T/ipykernel_6161/1892902441.py:12: FutureWarning:\n",
      "\n",
      "The frame.append method is deprecated and will be removed from pandas in a future version. Use pandas.concat instead.\n",
      "\n",
      "/var/folders/q7/h0qy2kmn1617pwg3_l5zhc7c0000gn/T/ipykernel_6161/1892902441.py:12: FutureWarning:\n",
      "\n",
      "The frame.append method is deprecated and will be removed from pandas in a future version. Use pandas.concat instead.\n",
      "\n",
      "/var/folders/q7/h0qy2kmn1617pwg3_l5zhc7c0000gn/T/ipykernel_6161/1892902441.py:12: FutureWarning:\n",
      "\n",
      "The frame.append method is deprecated and will be removed from pandas in a future version. Use pandas.concat instead.\n",
      "\n",
      "/var/folders/q7/h0qy2kmn1617pwg3_l5zhc7c0000gn/T/ipykernel_6161/1892902441.py:12: FutureWarning:\n",
      "\n",
      "The frame.append method is deprecated and will be removed from pandas in a future version. Use pandas.concat instead.\n",
      "\n",
      "/var/folders/q7/h0qy2kmn1617pwg3_l5zhc7c0000gn/T/ipykernel_6161/1892902441.py:12: FutureWarning:\n",
      "\n",
      "The frame.append method is deprecated and will be removed from pandas in a future version. Use pandas.concat instead.\n",
      "\n",
      "/var/folders/q7/h0qy2kmn1617pwg3_l5zhc7c0000gn/T/ipykernel_6161/1892902441.py:12: FutureWarning:\n",
      "\n",
      "The frame.append method is deprecated and will be removed from pandas in a future version. Use pandas.concat instead.\n",
      "\n",
      "/var/folders/q7/h0qy2kmn1617pwg3_l5zhc7c0000gn/T/ipykernel_6161/1892902441.py:12: FutureWarning:\n",
      "\n",
      "The frame.append method is deprecated and will be removed from pandas in a future version. Use pandas.concat instead.\n",
      "\n",
      "/var/folders/q7/h0qy2kmn1617pwg3_l5zhc7c0000gn/T/ipykernel_6161/1892902441.py:12: FutureWarning:\n",
      "\n",
      "The frame.append method is deprecated and will be removed from pandas in a future version. Use pandas.concat instead.\n",
      "\n",
      "/var/folders/q7/h0qy2kmn1617pwg3_l5zhc7c0000gn/T/ipykernel_6161/1892902441.py:12: FutureWarning:\n",
      "\n",
      "The frame.append method is deprecated and will be removed from pandas in a future version. Use pandas.concat instead.\n",
      "\n",
      "/var/folders/q7/h0qy2kmn1617pwg3_l5zhc7c0000gn/T/ipykernel_6161/1892902441.py:12: FutureWarning:\n",
      "\n",
      "The frame.append method is deprecated and will be removed from pandas in a future version. Use pandas.concat instead.\n",
      "\n",
      "/var/folders/q7/h0qy2kmn1617pwg3_l5zhc7c0000gn/T/ipykernel_6161/1892902441.py:12: FutureWarning:\n",
      "\n",
      "The frame.append method is deprecated and will be removed from pandas in a future version. Use pandas.concat instead.\n",
      "\n",
      "/var/folders/q7/h0qy2kmn1617pwg3_l5zhc7c0000gn/T/ipykernel_6161/1892902441.py:12: FutureWarning:\n",
      "\n",
      "The frame.append method is deprecated and will be removed from pandas in a future version. Use pandas.concat instead.\n",
      "\n",
      "/var/folders/q7/h0qy2kmn1617pwg3_l5zhc7c0000gn/T/ipykernel_6161/1892902441.py:12: FutureWarning:\n",
      "\n",
      "The frame.append method is deprecated and will be removed from pandas in a future version. Use pandas.concat instead.\n",
      "\n",
      "/var/folders/q7/h0qy2kmn1617pwg3_l5zhc7c0000gn/T/ipykernel_6161/1892902441.py:12: FutureWarning:\n",
      "\n",
      "The frame.append method is deprecated and will be removed from pandas in a future version. Use pandas.concat instead.\n",
      "\n",
      "/var/folders/q7/h0qy2kmn1617pwg3_l5zhc7c0000gn/T/ipykernel_6161/1892902441.py:12: FutureWarning:\n",
      "\n",
      "The frame.append method is deprecated and will be removed from pandas in a future version. Use pandas.concat instead.\n",
      "\n",
      "/var/folders/q7/h0qy2kmn1617pwg3_l5zhc7c0000gn/T/ipykernel_6161/1892902441.py:12: FutureWarning:\n",
      "\n",
      "The frame.append method is deprecated and will be removed from pandas in a future version. Use pandas.concat instead.\n",
      "\n",
      "/var/folders/q7/h0qy2kmn1617pwg3_l5zhc7c0000gn/T/ipykernel_6161/1892902441.py:12: FutureWarning:\n",
      "\n",
      "The frame.append method is deprecated and will be removed from pandas in a future version. Use pandas.concat instead.\n",
      "\n",
      "/var/folders/q7/h0qy2kmn1617pwg3_l5zhc7c0000gn/T/ipykernel_6161/1892902441.py:12: FutureWarning:\n",
      "\n",
      "The frame.append method is deprecated and will be removed from pandas in a future version. Use pandas.concat instead.\n",
      "\n",
      "/var/folders/q7/h0qy2kmn1617pwg3_l5zhc7c0000gn/T/ipykernel_6161/1892902441.py:12: FutureWarning:\n",
      "\n",
      "The frame.append method is deprecated and will be removed from pandas in a future version. Use pandas.concat instead.\n",
      "\n",
      "/var/folders/q7/h0qy2kmn1617pwg3_l5zhc7c0000gn/T/ipykernel_6161/1892902441.py:12: FutureWarning:\n",
      "\n",
      "The frame.append method is deprecated and will be removed from pandas in a future version. Use pandas.concat instead.\n",
      "\n",
      "/var/folders/q7/h0qy2kmn1617pwg3_l5zhc7c0000gn/T/ipykernel_6161/1892902441.py:12: FutureWarning:\n",
      "\n",
      "The frame.append method is deprecated and will be removed from pandas in a future version. Use pandas.concat instead.\n",
      "\n",
      "/var/folders/q7/h0qy2kmn1617pwg3_l5zhc7c0000gn/T/ipykernel_6161/1892902441.py:12: FutureWarning:\n",
      "\n",
      "The frame.append method is deprecated and will be removed from pandas in a future version. Use pandas.concat instead.\n",
      "\n",
      "/var/folders/q7/h0qy2kmn1617pwg3_l5zhc7c0000gn/T/ipykernel_6161/1892902441.py:12: FutureWarning:\n",
      "\n",
      "The frame.append method is deprecated and will be removed from pandas in a future version. Use pandas.concat instead.\n",
      "\n",
      "/var/folders/q7/h0qy2kmn1617pwg3_l5zhc7c0000gn/T/ipykernel_6161/1892902441.py:12: FutureWarning:\n",
      "\n",
      "The frame.append method is deprecated and will be removed from pandas in a future version. Use pandas.concat instead.\n",
      "\n",
      "/var/folders/q7/h0qy2kmn1617pwg3_l5zhc7c0000gn/T/ipykernel_6161/1892902441.py:12: FutureWarning:\n",
      "\n",
      "The frame.append method is deprecated and will be removed from pandas in a future version. Use pandas.concat instead.\n",
      "\n",
      "/var/folders/q7/h0qy2kmn1617pwg3_l5zhc7c0000gn/T/ipykernel_6161/1892902441.py:12: FutureWarning:\n",
      "\n",
      "The frame.append method is deprecated and will be removed from pandas in a future version. Use pandas.concat instead.\n",
      "\n",
      "/var/folders/q7/h0qy2kmn1617pwg3_l5zhc7c0000gn/T/ipykernel_6161/1892902441.py:12: FutureWarning:\n",
      "\n",
      "The frame.append method is deprecated and will be removed from pandas in a future version. Use pandas.concat instead.\n",
      "\n"
     ]
    },
    {
     "name": "stderr",
     "output_type": "stream",
     "text": [
      "/var/folders/q7/h0qy2kmn1617pwg3_l5zhc7c0000gn/T/ipykernel_6161/1892902441.py:12: FutureWarning:\n",
      "\n",
      "The frame.append method is deprecated and will be removed from pandas in a future version. Use pandas.concat instead.\n",
      "\n",
      "/var/folders/q7/h0qy2kmn1617pwg3_l5zhc7c0000gn/T/ipykernel_6161/1892902441.py:12: FutureWarning:\n",
      "\n",
      "The frame.append method is deprecated and will be removed from pandas in a future version. Use pandas.concat instead.\n",
      "\n",
      "/var/folders/q7/h0qy2kmn1617pwg3_l5zhc7c0000gn/T/ipykernel_6161/1892902441.py:12: FutureWarning:\n",
      "\n",
      "The frame.append method is deprecated and will be removed from pandas in a future version. Use pandas.concat instead.\n",
      "\n",
      "/var/folders/q7/h0qy2kmn1617pwg3_l5zhc7c0000gn/T/ipykernel_6161/1892902441.py:12: FutureWarning:\n",
      "\n",
      "The frame.append method is deprecated and will be removed from pandas in a future version. Use pandas.concat instead.\n",
      "\n",
      "/var/folders/q7/h0qy2kmn1617pwg3_l5zhc7c0000gn/T/ipykernel_6161/1892902441.py:12: FutureWarning:\n",
      "\n",
      "The frame.append method is deprecated and will be removed from pandas in a future version. Use pandas.concat instead.\n",
      "\n",
      "/var/folders/q7/h0qy2kmn1617pwg3_l5zhc7c0000gn/T/ipykernel_6161/1892902441.py:12: FutureWarning:\n",
      "\n",
      "The frame.append method is deprecated and will be removed from pandas in a future version. Use pandas.concat instead.\n",
      "\n",
      "/var/folders/q7/h0qy2kmn1617pwg3_l5zhc7c0000gn/T/ipykernel_6161/1892902441.py:12: FutureWarning:\n",
      "\n",
      "The frame.append method is deprecated and will be removed from pandas in a future version. Use pandas.concat instead.\n",
      "\n",
      "/var/folders/q7/h0qy2kmn1617pwg3_l5zhc7c0000gn/T/ipykernel_6161/1892902441.py:12: FutureWarning:\n",
      "\n",
      "The frame.append method is deprecated and will be removed from pandas in a future version. Use pandas.concat instead.\n",
      "\n",
      "/var/folders/q7/h0qy2kmn1617pwg3_l5zhc7c0000gn/T/ipykernel_6161/1892902441.py:12: FutureWarning:\n",
      "\n",
      "The frame.append method is deprecated and will be removed from pandas in a future version. Use pandas.concat instead.\n",
      "\n",
      "/var/folders/q7/h0qy2kmn1617pwg3_l5zhc7c0000gn/T/ipykernel_6161/1892902441.py:12: FutureWarning:\n",
      "\n",
      "The frame.append method is deprecated and will be removed from pandas in a future version. Use pandas.concat instead.\n",
      "\n",
      "/var/folders/q7/h0qy2kmn1617pwg3_l5zhc7c0000gn/T/ipykernel_6161/1892902441.py:12: FutureWarning:\n",
      "\n",
      "The frame.append method is deprecated and will be removed from pandas in a future version. Use pandas.concat instead.\n",
      "\n",
      "/var/folders/q7/h0qy2kmn1617pwg3_l5zhc7c0000gn/T/ipykernel_6161/1892902441.py:12: FutureWarning:\n",
      "\n",
      "The frame.append method is deprecated and will be removed from pandas in a future version. Use pandas.concat instead.\n",
      "\n",
      "/var/folders/q7/h0qy2kmn1617pwg3_l5zhc7c0000gn/T/ipykernel_6161/1892902441.py:12: FutureWarning:\n",
      "\n",
      "The frame.append method is deprecated and will be removed from pandas in a future version. Use pandas.concat instead.\n",
      "\n",
      "/var/folders/q7/h0qy2kmn1617pwg3_l5zhc7c0000gn/T/ipykernel_6161/1892902441.py:12: FutureWarning:\n",
      "\n",
      "The frame.append method is deprecated and will be removed from pandas in a future version. Use pandas.concat instead.\n",
      "\n",
      "/var/folders/q7/h0qy2kmn1617pwg3_l5zhc7c0000gn/T/ipykernel_6161/1892902441.py:12: FutureWarning:\n",
      "\n",
      "The frame.append method is deprecated and will be removed from pandas in a future version. Use pandas.concat instead.\n",
      "\n",
      "/var/folders/q7/h0qy2kmn1617pwg3_l5zhc7c0000gn/T/ipykernel_6161/1892902441.py:12: FutureWarning:\n",
      "\n",
      "The frame.append method is deprecated and will be removed from pandas in a future version. Use pandas.concat instead.\n",
      "\n",
      "/var/folders/q7/h0qy2kmn1617pwg3_l5zhc7c0000gn/T/ipykernel_6161/1892902441.py:12: FutureWarning:\n",
      "\n",
      "The frame.append method is deprecated and will be removed from pandas in a future version. Use pandas.concat instead.\n",
      "\n",
      "/var/folders/q7/h0qy2kmn1617pwg3_l5zhc7c0000gn/T/ipykernel_6161/1892902441.py:12: FutureWarning:\n",
      "\n",
      "The frame.append method is deprecated and will be removed from pandas in a future version. Use pandas.concat instead.\n",
      "\n",
      "/var/folders/q7/h0qy2kmn1617pwg3_l5zhc7c0000gn/T/ipykernel_6161/1892902441.py:12: FutureWarning:\n",
      "\n",
      "The frame.append method is deprecated and will be removed from pandas in a future version. Use pandas.concat instead.\n",
      "\n",
      "/var/folders/q7/h0qy2kmn1617pwg3_l5zhc7c0000gn/T/ipykernel_6161/1892902441.py:12: FutureWarning:\n",
      "\n",
      "The frame.append method is deprecated and will be removed from pandas in a future version. Use pandas.concat instead.\n",
      "\n",
      "/var/folders/q7/h0qy2kmn1617pwg3_l5zhc7c0000gn/T/ipykernel_6161/1892902441.py:12: FutureWarning:\n",
      "\n",
      "The frame.append method is deprecated and will be removed from pandas in a future version. Use pandas.concat instead.\n",
      "\n",
      "/var/folders/q7/h0qy2kmn1617pwg3_l5zhc7c0000gn/T/ipykernel_6161/1892902441.py:12: FutureWarning:\n",
      "\n",
      "The frame.append method is deprecated and will be removed from pandas in a future version. Use pandas.concat instead.\n",
      "\n",
      "/var/folders/q7/h0qy2kmn1617pwg3_l5zhc7c0000gn/T/ipykernel_6161/1892902441.py:12: FutureWarning:\n",
      "\n",
      "The frame.append method is deprecated and will be removed from pandas in a future version. Use pandas.concat instead.\n",
      "\n",
      "/var/folders/q7/h0qy2kmn1617pwg3_l5zhc7c0000gn/T/ipykernel_6161/1892902441.py:12: FutureWarning:\n",
      "\n",
      "The frame.append method is deprecated and will be removed from pandas in a future version. Use pandas.concat instead.\n",
      "\n",
      "/var/folders/q7/h0qy2kmn1617pwg3_l5zhc7c0000gn/T/ipykernel_6161/1892902441.py:12: FutureWarning:\n",
      "\n",
      "The frame.append method is deprecated and will be removed from pandas in a future version. Use pandas.concat instead.\n",
      "\n",
      "/var/folders/q7/h0qy2kmn1617pwg3_l5zhc7c0000gn/T/ipykernel_6161/1892902441.py:12: FutureWarning:\n",
      "\n",
      "The frame.append method is deprecated and will be removed from pandas in a future version. Use pandas.concat instead.\n",
      "\n",
      "/var/folders/q7/h0qy2kmn1617pwg3_l5zhc7c0000gn/T/ipykernel_6161/1892902441.py:12: FutureWarning:\n",
      "\n",
      "The frame.append method is deprecated and will be removed from pandas in a future version. Use pandas.concat instead.\n",
      "\n",
      "/var/folders/q7/h0qy2kmn1617pwg3_l5zhc7c0000gn/T/ipykernel_6161/1892902441.py:12: FutureWarning:\n",
      "\n",
      "The frame.append method is deprecated and will be removed from pandas in a future version. Use pandas.concat instead.\n",
      "\n",
      "/var/folders/q7/h0qy2kmn1617pwg3_l5zhc7c0000gn/T/ipykernel_6161/1892902441.py:12: FutureWarning:\n",
      "\n",
      "The frame.append method is deprecated and will be removed from pandas in a future version. Use pandas.concat instead.\n",
      "\n",
      "/var/folders/q7/h0qy2kmn1617pwg3_l5zhc7c0000gn/T/ipykernel_6161/1892902441.py:12: FutureWarning:\n",
      "\n",
      "The frame.append method is deprecated and will be removed from pandas in a future version. Use pandas.concat instead.\n",
      "\n",
      "/var/folders/q7/h0qy2kmn1617pwg3_l5zhc7c0000gn/T/ipykernel_6161/1892902441.py:12: FutureWarning:\n",
      "\n",
      "The frame.append method is deprecated and will be removed from pandas in a future version. Use pandas.concat instead.\n",
      "\n",
      "/var/folders/q7/h0qy2kmn1617pwg3_l5zhc7c0000gn/T/ipykernel_6161/1892902441.py:12: FutureWarning:\n",
      "\n",
      "The frame.append method is deprecated and will be removed from pandas in a future version. Use pandas.concat instead.\n",
      "\n",
      "/var/folders/q7/h0qy2kmn1617pwg3_l5zhc7c0000gn/T/ipykernel_6161/1892902441.py:12: FutureWarning:\n",
      "\n",
      "The frame.append method is deprecated and will be removed from pandas in a future version. Use pandas.concat instead.\n",
      "\n",
      "/var/folders/q7/h0qy2kmn1617pwg3_l5zhc7c0000gn/T/ipykernel_6161/1892902441.py:12: FutureWarning:\n",
      "\n",
      "The frame.append method is deprecated and will be removed from pandas in a future version. Use pandas.concat instead.\n",
      "\n",
      "/var/folders/q7/h0qy2kmn1617pwg3_l5zhc7c0000gn/T/ipykernel_6161/1892902441.py:12: FutureWarning:\n",
      "\n",
      "The frame.append method is deprecated and will be removed from pandas in a future version. Use pandas.concat instead.\n",
      "\n",
      "/var/folders/q7/h0qy2kmn1617pwg3_l5zhc7c0000gn/T/ipykernel_6161/1892902441.py:12: FutureWarning:\n",
      "\n",
      "The frame.append method is deprecated and will be removed from pandas in a future version. Use pandas.concat instead.\n",
      "\n",
      "/var/folders/q7/h0qy2kmn1617pwg3_l5zhc7c0000gn/T/ipykernel_6161/1892902441.py:12: FutureWarning:\n",
      "\n",
      "The frame.append method is deprecated and will be removed from pandas in a future version. Use pandas.concat instead.\n",
      "\n",
      "/var/folders/q7/h0qy2kmn1617pwg3_l5zhc7c0000gn/T/ipykernel_6161/1892902441.py:12: FutureWarning:\n",
      "\n",
      "The frame.append method is deprecated and will be removed from pandas in a future version. Use pandas.concat instead.\n",
      "\n",
      "/var/folders/q7/h0qy2kmn1617pwg3_l5zhc7c0000gn/T/ipykernel_6161/1892902441.py:12: FutureWarning:\n",
      "\n",
      "The frame.append method is deprecated and will be removed from pandas in a future version. Use pandas.concat instead.\n",
      "\n",
      "/var/folders/q7/h0qy2kmn1617pwg3_l5zhc7c0000gn/T/ipykernel_6161/1892902441.py:12: FutureWarning:\n",
      "\n",
      "The frame.append method is deprecated and will be removed from pandas in a future version. Use pandas.concat instead.\n",
      "\n",
      "/var/folders/q7/h0qy2kmn1617pwg3_l5zhc7c0000gn/T/ipykernel_6161/1892902441.py:12: FutureWarning:\n",
      "\n",
      "The frame.append method is deprecated and will be removed from pandas in a future version. Use pandas.concat instead.\n",
      "\n",
      "/var/folders/q7/h0qy2kmn1617pwg3_l5zhc7c0000gn/T/ipykernel_6161/1892902441.py:12: FutureWarning:\n",
      "\n",
      "The frame.append method is deprecated and will be removed from pandas in a future version. Use pandas.concat instead.\n",
      "\n",
      "/var/folders/q7/h0qy2kmn1617pwg3_l5zhc7c0000gn/T/ipykernel_6161/1892902441.py:12: FutureWarning:\n",
      "\n",
      "The frame.append method is deprecated and will be removed from pandas in a future version. Use pandas.concat instead.\n",
      "\n",
      "/var/folders/q7/h0qy2kmn1617pwg3_l5zhc7c0000gn/T/ipykernel_6161/1892902441.py:12: FutureWarning:\n",
      "\n",
      "The frame.append method is deprecated and will be removed from pandas in a future version. Use pandas.concat instead.\n",
      "\n",
      "/var/folders/q7/h0qy2kmn1617pwg3_l5zhc7c0000gn/T/ipykernel_6161/1892902441.py:12: FutureWarning:\n",
      "\n",
      "The frame.append method is deprecated and will be removed from pandas in a future version. Use pandas.concat instead.\n",
      "\n",
      "/var/folders/q7/h0qy2kmn1617pwg3_l5zhc7c0000gn/T/ipykernel_6161/1892902441.py:12: FutureWarning:\n",
      "\n",
      "The frame.append method is deprecated and will be removed from pandas in a future version. Use pandas.concat instead.\n",
      "\n",
      "/var/folders/q7/h0qy2kmn1617pwg3_l5zhc7c0000gn/T/ipykernel_6161/1892902441.py:12: FutureWarning:\n",
      "\n",
      "The frame.append method is deprecated and will be removed from pandas in a future version. Use pandas.concat instead.\n",
      "\n",
      "/var/folders/q7/h0qy2kmn1617pwg3_l5zhc7c0000gn/T/ipykernel_6161/1892902441.py:12: FutureWarning:\n",
      "\n",
      "The frame.append method is deprecated and will be removed from pandas in a future version. Use pandas.concat instead.\n",
      "\n",
      "/var/folders/q7/h0qy2kmn1617pwg3_l5zhc7c0000gn/T/ipykernel_6161/1892902441.py:12: FutureWarning:\n",
      "\n",
      "The frame.append method is deprecated and will be removed from pandas in a future version. Use pandas.concat instead.\n",
      "\n",
      "/var/folders/q7/h0qy2kmn1617pwg3_l5zhc7c0000gn/T/ipykernel_6161/1892902441.py:12: FutureWarning:\n",
      "\n",
      "The frame.append method is deprecated and will be removed from pandas in a future version. Use pandas.concat instead.\n",
      "\n",
      "/var/folders/q7/h0qy2kmn1617pwg3_l5zhc7c0000gn/T/ipykernel_6161/1892902441.py:12: FutureWarning:\n",
      "\n",
      "The frame.append method is deprecated and will be removed from pandas in a future version. Use pandas.concat instead.\n",
      "\n",
      "/var/folders/q7/h0qy2kmn1617pwg3_l5zhc7c0000gn/T/ipykernel_6161/1892902441.py:12: FutureWarning:\n",
      "\n",
      "The frame.append method is deprecated and will be removed from pandas in a future version. Use pandas.concat instead.\n",
      "\n",
      "/var/folders/q7/h0qy2kmn1617pwg3_l5zhc7c0000gn/T/ipykernel_6161/1892902441.py:12: FutureWarning:\n",
      "\n",
      "The frame.append method is deprecated and will be removed from pandas in a future version. Use pandas.concat instead.\n",
      "\n",
      "/var/folders/q7/h0qy2kmn1617pwg3_l5zhc7c0000gn/T/ipykernel_6161/1892902441.py:12: FutureWarning:\n",
      "\n",
      "The frame.append method is deprecated and will be removed from pandas in a future version. Use pandas.concat instead.\n",
      "\n",
      "/var/folders/q7/h0qy2kmn1617pwg3_l5zhc7c0000gn/T/ipykernel_6161/1892902441.py:12: FutureWarning:\n",
      "\n",
      "The frame.append method is deprecated and will be removed from pandas in a future version. Use pandas.concat instead.\n",
      "\n",
      "/var/folders/q7/h0qy2kmn1617pwg3_l5zhc7c0000gn/T/ipykernel_6161/1892902441.py:12: FutureWarning:\n",
      "\n",
      "The frame.append method is deprecated and will be removed from pandas in a future version. Use pandas.concat instead.\n",
      "\n",
      "/var/folders/q7/h0qy2kmn1617pwg3_l5zhc7c0000gn/T/ipykernel_6161/1892902441.py:12: FutureWarning:\n",
      "\n",
      "The frame.append method is deprecated and will be removed from pandas in a future version. Use pandas.concat instead.\n",
      "\n",
      "/var/folders/q7/h0qy2kmn1617pwg3_l5zhc7c0000gn/T/ipykernel_6161/1892902441.py:12: FutureWarning:\n",
      "\n",
      "The frame.append method is deprecated and will be removed from pandas in a future version. Use pandas.concat instead.\n",
      "\n"
     ]
    },
    {
     "name": "stderr",
     "output_type": "stream",
     "text": [
      "/var/folders/q7/h0qy2kmn1617pwg3_l5zhc7c0000gn/T/ipykernel_6161/1892902441.py:12: FutureWarning:\n",
      "\n",
      "The frame.append method is deprecated and will be removed from pandas in a future version. Use pandas.concat instead.\n",
      "\n",
      "/var/folders/q7/h0qy2kmn1617pwg3_l5zhc7c0000gn/T/ipykernel_6161/1892902441.py:12: FutureWarning:\n",
      "\n",
      "The frame.append method is deprecated and will be removed from pandas in a future version. Use pandas.concat instead.\n",
      "\n",
      "/var/folders/q7/h0qy2kmn1617pwg3_l5zhc7c0000gn/T/ipykernel_6161/1892902441.py:12: FutureWarning:\n",
      "\n",
      "The frame.append method is deprecated and will be removed from pandas in a future version. Use pandas.concat instead.\n",
      "\n",
      "/var/folders/q7/h0qy2kmn1617pwg3_l5zhc7c0000gn/T/ipykernel_6161/1892902441.py:12: FutureWarning:\n",
      "\n",
      "The frame.append method is deprecated and will be removed from pandas in a future version. Use pandas.concat instead.\n",
      "\n",
      "/var/folders/q7/h0qy2kmn1617pwg3_l5zhc7c0000gn/T/ipykernel_6161/1892902441.py:12: FutureWarning:\n",
      "\n",
      "The frame.append method is deprecated and will be removed from pandas in a future version. Use pandas.concat instead.\n",
      "\n",
      "/var/folders/q7/h0qy2kmn1617pwg3_l5zhc7c0000gn/T/ipykernel_6161/1892902441.py:12: FutureWarning:\n",
      "\n",
      "The frame.append method is deprecated and will be removed from pandas in a future version. Use pandas.concat instead.\n",
      "\n",
      "/var/folders/q7/h0qy2kmn1617pwg3_l5zhc7c0000gn/T/ipykernel_6161/1892902441.py:12: FutureWarning:\n",
      "\n",
      "The frame.append method is deprecated and will be removed from pandas in a future version. Use pandas.concat instead.\n",
      "\n",
      "/var/folders/q7/h0qy2kmn1617pwg3_l5zhc7c0000gn/T/ipykernel_6161/1892902441.py:12: FutureWarning:\n",
      "\n",
      "The frame.append method is deprecated and will be removed from pandas in a future version. Use pandas.concat instead.\n",
      "\n",
      "/var/folders/q7/h0qy2kmn1617pwg3_l5zhc7c0000gn/T/ipykernel_6161/1892902441.py:12: FutureWarning:\n",
      "\n",
      "The frame.append method is deprecated and will be removed from pandas in a future version. Use pandas.concat instead.\n",
      "\n",
      "/var/folders/q7/h0qy2kmn1617pwg3_l5zhc7c0000gn/T/ipykernel_6161/1892902441.py:12: FutureWarning:\n",
      "\n",
      "The frame.append method is deprecated and will be removed from pandas in a future version. Use pandas.concat instead.\n",
      "\n",
      "/var/folders/q7/h0qy2kmn1617pwg3_l5zhc7c0000gn/T/ipykernel_6161/1892902441.py:12: FutureWarning:\n",
      "\n",
      "The frame.append method is deprecated and will be removed from pandas in a future version. Use pandas.concat instead.\n",
      "\n",
      "/var/folders/q7/h0qy2kmn1617pwg3_l5zhc7c0000gn/T/ipykernel_6161/1892902441.py:12: FutureWarning:\n",
      "\n",
      "The frame.append method is deprecated and will be removed from pandas in a future version. Use pandas.concat instead.\n",
      "\n",
      "/var/folders/q7/h0qy2kmn1617pwg3_l5zhc7c0000gn/T/ipykernel_6161/1892902441.py:12: FutureWarning:\n",
      "\n",
      "The frame.append method is deprecated and will be removed from pandas in a future version. Use pandas.concat instead.\n",
      "\n",
      "/var/folders/q7/h0qy2kmn1617pwg3_l5zhc7c0000gn/T/ipykernel_6161/1892902441.py:12: FutureWarning:\n",
      "\n",
      "The frame.append method is deprecated and will be removed from pandas in a future version. Use pandas.concat instead.\n",
      "\n",
      "/var/folders/q7/h0qy2kmn1617pwg3_l5zhc7c0000gn/T/ipykernel_6161/1892902441.py:12: FutureWarning:\n",
      "\n",
      "The frame.append method is deprecated and will be removed from pandas in a future version. Use pandas.concat instead.\n",
      "\n",
      "/var/folders/q7/h0qy2kmn1617pwg3_l5zhc7c0000gn/T/ipykernel_6161/1892902441.py:12: FutureWarning:\n",
      "\n",
      "The frame.append method is deprecated and will be removed from pandas in a future version. Use pandas.concat instead.\n",
      "\n",
      "/var/folders/q7/h0qy2kmn1617pwg3_l5zhc7c0000gn/T/ipykernel_6161/1892902441.py:12: FutureWarning:\n",
      "\n",
      "The frame.append method is deprecated and will be removed from pandas in a future version. Use pandas.concat instead.\n",
      "\n",
      "/var/folders/q7/h0qy2kmn1617pwg3_l5zhc7c0000gn/T/ipykernel_6161/1892902441.py:12: FutureWarning:\n",
      "\n",
      "The frame.append method is deprecated and will be removed from pandas in a future version. Use pandas.concat instead.\n",
      "\n",
      "/var/folders/q7/h0qy2kmn1617pwg3_l5zhc7c0000gn/T/ipykernel_6161/1892902441.py:12: FutureWarning:\n",
      "\n",
      "The frame.append method is deprecated and will be removed from pandas in a future version. Use pandas.concat instead.\n",
      "\n",
      "/var/folders/q7/h0qy2kmn1617pwg3_l5zhc7c0000gn/T/ipykernel_6161/1892902441.py:12: FutureWarning:\n",
      "\n",
      "The frame.append method is deprecated and will be removed from pandas in a future version. Use pandas.concat instead.\n",
      "\n",
      "/var/folders/q7/h0qy2kmn1617pwg3_l5zhc7c0000gn/T/ipykernel_6161/1892902441.py:12: FutureWarning:\n",
      "\n",
      "The frame.append method is deprecated and will be removed from pandas in a future version. Use pandas.concat instead.\n",
      "\n",
      "/var/folders/q7/h0qy2kmn1617pwg3_l5zhc7c0000gn/T/ipykernel_6161/1892902441.py:12: FutureWarning:\n",
      "\n",
      "The frame.append method is deprecated and will be removed from pandas in a future version. Use pandas.concat instead.\n",
      "\n",
      "/var/folders/q7/h0qy2kmn1617pwg3_l5zhc7c0000gn/T/ipykernel_6161/1892902441.py:12: FutureWarning:\n",
      "\n",
      "The frame.append method is deprecated and will be removed from pandas in a future version. Use pandas.concat instead.\n",
      "\n",
      "/var/folders/q7/h0qy2kmn1617pwg3_l5zhc7c0000gn/T/ipykernel_6161/1892902441.py:12: FutureWarning:\n",
      "\n",
      "The frame.append method is deprecated and will be removed from pandas in a future version. Use pandas.concat instead.\n",
      "\n",
      "/var/folders/q7/h0qy2kmn1617pwg3_l5zhc7c0000gn/T/ipykernel_6161/1892902441.py:12: FutureWarning:\n",
      "\n",
      "The frame.append method is deprecated and will be removed from pandas in a future version. Use pandas.concat instead.\n",
      "\n",
      "/var/folders/q7/h0qy2kmn1617pwg3_l5zhc7c0000gn/T/ipykernel_6161/1892902441.py:12: FutureWarning:\n",
      "\n",
      "The frame.append method is deprecated and will be removed from pandas in a future version. Use pandas.concat instead.\n",
      "\n",
      "/var/folders/q7/h0qy2kmn1617pwg3_l5zhc7c0000gn/T/ipykernel_6161/1892902441.py:12: FutureWarning:\n",
      "\n",
      "The frame.append method is deprecated and will be removed from pandas in a future version. Use pandas.concat instead.\n",
      "\n",
      "/var/folders/q7/h0qy2kmn1617pwg3_l5zhc7c0000gn/T/ipykernel_6161/1892902441.py:12: FutureWarning:\n",
      "\n",
      "The frame.append method is deprecated and will be removed from pandas in a future version. Use pandas.concat instead.\n",
      "\n",
      "/var/folders/q7/h0qy2kmn1617pwg3_l5zhc7c0000gn/T/ipykernel_6161/1892902441.py:12: FutureWarning:\n",
      "\n",
      "The frame.append method is deprecated and will be removed from pandas in a future version. Use pandas.concat instead.\n",
      "\n",
      "/var/folders/q7/h0qy2kmn1617pwg3_l5zhc7c0000gn/T/ipykernel_6161/1892902441.py:12: FutureWarning:\n",
      "\n",
      "The frame.append method is deprecated and will be removed from pandas in a future version. Use pandas.concat instead.\n",
      "\n",
      "/var/folders/q7/h0qy2kmn1617pwg3_l5zhc7c0000gn/T/ipykernel_6161/1892902441.py:12: FutureWarning:\n",
      "\n",
      "The frame.append method is deprecated and will be removed from pandas in a future version. Use pandas.concat instead.\n",
      "\n",
      "/var/folders/q7/h0qy2kmn1617pwg3_l5zhc7c0000gn/T/ipykernel_6161/1892902441.py:12: FutureWarning:\n",
      "\n",
      "The frame.append method is deprecated and will be removed from pandas in a future version. Use pandas.concat instead.\n",
      "\n",
      "/var/folders/q7/h0qy2kmn1617pwg3_l5zhc7c0000gn/T/ipykernel_6161/1892902441.py:12: FutureWarning:\n",
      "\n",
      "The frame.append method is deprecated and will be removed from pandas in a future version. Use pandas.concat instead.\n",
      "\n",
      "/var/folders/q7/h0qy2kmn1617pwg3_l5zhc7c0000gn/T/ipykernel_6161/1892902441.py:12: FutureWarning:\n",
      "\n",
      "The frame.append method is deprecated and will be removed from pandas in a future version. Use pandas.concat instead.\n",
      "\n",
      "/var/folders/q7/h0qy2kmn1617pwg3_l5zhc7c0000gn/T/ipykernel_6161/1892902441.py:12: FutureWarning:\n",
      "\n",
      "The frame.append method is deprecated and will be removed from pandas in a future version. Use pandas.concat instead.\n",
      "\n",
      "/var/folders/q7/h0qy2kmn1617pwg3_l5zhc7c0000gn/T/ipykernel_6161/1892902441.py:12: FutureWarning:\n",
      "\n",
      "The frame.append method is deprecated and will be removed from pandas in a future version. Use pandas.concat instead.\n",
      "\n",
      "/var/folders/q7/h0qy2kmn1617pwg3_l5zhc7c0000gn/T/ipykernel_6161/1892902441.py:12: FutureWarning:\n",
      "\n",
      "The frame.append method is deprecated and will be removed from pandas in a future version. Use pandas.concat instead.\n",
      "\n",
      "/var/folders/q7/h0qy2kmn1617pwg3_l5zhc7c0000gn/T/ipykernel_6161/1892902441.py:12: FutureWarning:\n",
      "\n",
      "The frame.append method is deprecated and will be removed from pandas in a future version. Use pandas.concat instead.\n",
      "\n",
      "/var/folders/q7/h0qy2kmn1617pwg3_l5zhc7c0000gn/T/ipykernel_6161/1892902441.py:12: FutureWarning:\n",
      "\n",
      "The frame.append method is deprecated and will be removed from pandas in a future version. Use pandas.concat instead.\n",
      "\n",
      "/var/folders/q7/h0qy2kmn1617pwg3_l5zhc7c0000gn/T/ipykernel_6161/1892902441.py:12: FutureWarning:\n",
      "\n",
      "The frame.append method is deprecated and will be removed from pandas in a future version. Use pandas.concat instead.\n",
      "\n",
      "/var/folders/q7/h0qy2kmn1617pwg3_l5zhc7c0000gn/T/ipykernel_6161/1892902441.py:12: FutureWarning:\n",
      "\n",
      "The frame.append method is deprecated and will be removed from pandas in a future version. Use pandas.concat instead.\n",
      "\n",
      "/var/folders/q7/h0qy2kmn1617pwg3_l5zhc7c0000gn/T/ipykernel_6161/1892902441.py:12: FutureWarning:\n",
      "\n",
      "The frame.append method is deprecated and will be removed from pandas in a future version. Use pandas.concat instead.\n",
      "\n",
      "/var/folders/q7/h0qy2kmn1617pwg3_l5zhc7c0000gn/T/ipykernel_6161/1892902441.py:12: FutureWarning:\n",
      "\n",
      "The frame.append method is deprecated and will be removed from pandas in a future version. Use pandas.concat instead.\n",
      "\n",
      "/var/folders/q7/h0qy2kmn1617pwg3_l5zhc7c0000gn/T/ipykernel_6161/1892902441.py:12: FutureWarning:\n",
      "\n",
      "The frame.append method is deprecated and will be removed from pandas in a future version. Use pandas.concat instead.\n",
      "\n",
      "/var/folders/q7/h0qy2kmn1617pwg3_l5zhc7c0000gn/T/ipykernel_6161/1892902441.py:12: FutureWarning:\n",
      "\n",
      "The frame.append method is deprecated and will be removed from pandas in a future version. Use pandas.concat instead.\n",
      "\n",
      "/var/folders/q7/h0qy2kmn1617pwg3_l5zhc7c0000gn/T/ipykernel_6161/1892902441.py:12: FutureWarning:\n",
      "\n",
      "The frame.append method is deprecated and will be removed from pandas in a future version. Use pandas.concat instead.\n",
      "\n",
      "/var/folders/q7/h0qy2kmn1617pwg3_l5zhc7c0000gn/T/ipykernel_6161/1892902441.py:12: FutureWarning:\n",
      "\n",
      "The frame.append method is deprecated and will be removed from pandas in a future version. Use pandas.concat instead.\n",
      "\n",
      "/var/folders/q7/h0qy2kmn1617pwg3_l5zhc7c0000gn/T/ipykernel_6161/1892902441.py:12: FutureWarning:\n",
      "\n",
      "The frame.append method is deprecated and will be removed from pandas in a future version. Use pandas.concat instead.\n",
      "\n",
      "/var/folders/q7/h0qy2kmn1617pwg3_l5zhc7c0000gn/T/ipykernel_6161/1892902441.py:12: FutureWarning:\n",
      "\n",
      "The frame.append method is deprecated and will be removed from pandas in a future version. Use pandas.concat instead.\n",
      "\n",
      "/var/folders/q7/h0qy2kmn1617pwg3_l5zhc7c0000gn/T/ipykernel_6161/1892902441.py:12: FutureWarning:\n",
      "\n",
      "The frame.append method is deprecated and will be removed from pandas in a future version. Use pandas.concat instead.\n",
      "\n",
      "/var/folders/q7/h0qy2kmn1617pwg3_l5zhc7c0000gn/T/ipykernel_6161/1892902441.py:12: FutureWarning:\n",
      "\n",
      "The frame.append method is deprecated and will be removed from pandas in a future version. Use pandas.concat instead.\n",
      "\n",
      "/var/folders/q7/h0qy2kmn1617pwg3_l5zhc7c0000gn/T/ipykernel_6161/1892902441.py:12: FutureWarning:\n",
      "\n",
      "The frame.append method is deprecated and will be removed from pandas in a future version. Use pandas.concat instead.\n",
      "\n",
      "/var/folders/q7/h0qy2kmn1617pwg3_l5zhc7c0000gn/T/ipykernel_6161/1892902441.py:12: FutureWarning:\n",
      "\n",
      "The frame.append method is deprecated and will be removed from pandas in a future version. Use pandas.concat instead.\n",
      "\n",
      "/var/folders/q7/h0qy2kmn1617pwg3_l5zhc7c0000gn/T/ipykernel_6161/1892902441.py:12: FutureWarning:\n",
      "\n",
      "The frame.append method is deprecated and will be removed from pandas in a future version. Use pandas.concat instead.\n",
      "\n",
      "/var/folders/q7/h0qy2kmn1617pwg3_l5zhc7c0000gn/T/ipykernel_6161/1892902441.py:12: FutureWarning:\n",
      "\n",
      "The frame.append method is deprecated and will be removed from pandas in a future version. Use pandas.concat instead.\n",
      "\n",
      "/var/folders/q7/h0qy2kmn1617pwg3_l5zhc7c0000gn/T/ipykernel_6161/1892902441.py:12: FutureWarning:\n",
      "\n",
      "The frame.append method is deprecated and will be removed from pandas in a future version. Use pandas.concat instead.\n",
      "\n",
      "/var/folders/q7/h0qy2kmn1617pwg3_l5zhc7c0000gn/T/ipykernel_6161/1892902441.py:12: FutureWarning:\n",
      "\n",
      "The frame.append method is deprecated and will be removed from pandas in a future version. Use pandas.concat instead.\n",
      "\n",
      "/var/folders/q7/h0qy2kmn1617pwg3_l5zhc7c0000gn/T/ipykernel_6161/1892902441.py:12: FutureWarning:\n",
      "\n",
      "The frame.append method is deprecated and will be removed from pandas in a future version. Use pandas.concat instead.\n",
      "\n"
     ]
    },
    {
     "name": "stderr",
     "output_type": "stream",
     "text": [
      "/var/folders/q7/h0qy2kmn1617pwg3_l5zhc7c0000gn/T/ipykernel_6161/1892902441.py:12: FutureWarning:\n",
      "\n",
      "The frame.append method is deprecated and will be removed from pandas in a future version. Use pandas.concat instead.\n",
      "\n",
      "/var/folders/q7/h0qy2kmn1617pwg3_l5zhc7c0000gn/T/ipykernel_6161/1892902441.py:12: FutureWarning:\n",
      "\n",
      "The frame.append method is deprecated and will be removed from pandas in a future version. Use pandas.concat instead.\n",
      "\n",
      "/var/folders/q7/h0qy2kmn1617pwg3_l5zhc7c0000gn/T/ipykernel_6161/1892902441.py:12: FutureWarning:\n",
      "\n",
      "The frame.append method is deprecated and will be removed from pandas in a future version. Use pandas.concat instead.\n",
      "\n",
      "/var/folders/q7/h0qy2kmn1617pwg3_l5zhc7c0000gn/T/ipykernel_6161/1892902441.py:12: FutureWarning:\n",
      "\n",
      "The frame.append method is deprecated and will be removed from pandas in a future version. Use pandas.concat instead.\n",
      "\n",
      "/var/folders/q7/h0qy2kmn1617pwg3_l5zhc7c0000gn/T/ipykernel_6161/1892902441.py:12: FutureWarning:\n",
      "\n",
      "The frame.append method is deprecated and will be removed from pandas in a future version. Use pandas.concat instead.\n",
      "\n",
      "/var/folders/q7/h0qy2kmn1617pwg3_l5zhc7c0000gn/T/ipykernel_6161/1892902441.py:12: FutureWarning:\n",
      "\n",
      "The frame.append method is deprecated and will be removed from pandas in a future version. Use pandas.concat instead.\n",
      "\n",
      "/var/folders/q7/h0qy2kmn1617pwg3_l5zhc7c0000gn/T/ipykernel_6161/1892902441.py:12: FutureWarning:\n",
      "\n",
      "The frame.append method is deprecated and will be removed from pandas in a future version. Use pandas.concat instead.\n",
      "\n",
      "/var/folders/q7/h0qy2kmn1617pwg3_l5zhc7c0000gn/T/ipykernel_6161/1892902441.py:12: FutureWarning:\n",
      "\n",
      "The frame.append method is deprecated and will be removed from pandas in a future version. Use pandas.concat instead.\n",
      "\n",
      "/var/folders/q7/h0qy2kmn1617pwg3_l5zhc7c0000gn/T/ipykernel_6161/1892902441.py:12: FutureWarning:\n",
      "\n",
      "The frame.append method is deprecated and will be removed from pandas in a future version. Use pandas.concat instead.\n",
      "\n",
      "/var/folders/q7/h0qy2kmn1617pwg3_l5zhc7c0000gn/T/ipykernel_6161/1892902441.py:12: FutureWarning:\n",
      "\n",
      "The frame.append method is deprecated and will be removed from pandas in a future version. Use pandas.concat instead.\n",
      "\n",
      "/var/folders/q7/h0qy2kmn1617pwg3_l5zhc7c0000gn/T/ipykernel_6161/1892902441.py:12: FutureWarning:\n",
      "\n",
      "The frame.append method is deprecated and will be removed from pandas in a future version. Use pandas.concat instead.\n",
      "\n",
      "/var/folders/q7/h0qy2kmn1617pwg3_l5zhc7c0000gn/T/ipykernel_6161/1892902441.py:12: FutureWarning:\n",
      "\n",
      "The frame.append method is deprecated and will be removed from pandas in a future version. Use pandas.concat instead.\n",
      "\n",
      "/var/folders/q7/h0qy2kmn1617pwg3_l5zhc7c0000gn/T/ipykernel_6161/1892902441.py:12: FutureWarning:\n",
      "\n",
      "The frame.append method is deprecated and will be removed from pandas in a future version. Use pandas.concat instead.\n",
      "\n",
      "/var/folders/q7/h0qy2kmn1617pwg3_l5zhc7c0000gn/T/ipykernel_6161/1892902441.py:12: FutureWarning:\n",
      "\n",
      "The frame.append method is deprecated and will be removed from pandas in a future version. Use pandas.concat instead.\n",
      "\n",
      "/var/folders/q7/h0qy2kmn1617pwg3_l5zhc7c0000gn/T/ipykernel_6161/1892902441.py:12: FutureWarning:\n",
      "\n",
      "The frame.append method is deprecated and will be removed from pandas in a future version. Use pandas.concat instead.\n",
      "\n",
      "/var/folders/q7/h0qy2kmn1617pwg3_l5zhc7c0000gn/T/ipykernel_6161/1892902441.py:12: FutureWarning:\n",
      "\n",
      "The frame.append method is deprecated and will be removed from pandas in a future version. Use pandas.concat instead.\n",
      "\n",
      "/var/folders/q7/h0qy2kmn1617pwg3_l5zhc7c0000gn/T/ipykernel_6161/1892902441.py:12: FutureWarning:\n",
      "\n",
      "The frame.append method is deprecated and will be removed from pandas in a future version. Use pandas.concat instead.\n",
      "\n",
      "/var/folders/q7/h0qy2kmn1617pwg3_l5zhc7c0000gn/T/ipykernel_6161/1892902441.py:12: FutureWarning:\n",
      "\n",
      "The frame.append method is deprecated and will be removed from pandas in a future version. Use pandas.concat instead.\n",
      "\n",
      "/var/folders/q7/h0qy2kmn1617pwg3_l5zhc7c0000gn/T/ipykernel_6161/1892902441.py:12: FutureWarning:\n",
      "\n",
      "The frame.append method is deprecated and will be removed from pandas in a future version. Use pandas.concat instead.\n",
      "\n",
      "/var/folders/q7/h0qy2kmn1617pwg3_l5zhc7c0000gn/T/ipykernel_6161/1892902441.py:12: FutureWarning:\n",
      "\n",
      "The frame.append method is deprecated and will be removed from pandas in a future version. Use pandas.concat instead.\n",
      "\n",
      "/var/folders/q7/h0qy2kmn1617pwg3_l5zhc7c0000gn/T/ipykernel_6161/1892902441.py:12: FutureWarning:\n",
      "\n",
      "The frame.append method is deprecated and will be removed from pandas in a future version. Use pandas.concat instead.\n",
      "\n",
      "/var/folders/q7/h0qy2kmn1617pwg3_l5zhc7c0000gn/T/ipykernel_6161/1892902441.py:12: FutureWarning:\n",
      "\n",
      "The frame.append method is deprecated and will be removed from pandas in a future version. Use pandas.concat instead.\n",
      "\n",
      "/var/folders/q7/h0qy2kmn1617pwg3_l5zhc7c0000gn/T/ipykernel_6161/1892902441.py:12: FutureWarning:\n",
      "\n",
      "The frame.append method is deprecated and will be removed from pandas in a future version. Use pandas.concat instead.\n",
      "\n",
      "/var/folders/q7/h0qy2kmn1617pwg3_l5zhc7c0000gn/T/ipykernel_6161/1892902441.py:12: FutureWarning:\n",
      "\n",
      "The frame.append method is deprecated and will be removed from pandas in a future version. Use pandas.concat instead.\n",
      "\n",
      "/var/folders/q7/h0qy2kmn1617pwg3_l5zhc7c0000gn/T/ipykernel_6161/1892902441.py:12: FutureWarning:\n",
      "\n",
      "The frame.append method is deprecated and will be removed from pandas in a future version. Use pandas.concat instead.\n",
      "\n",
      "/var/folders/q7/h0qy2kmn1617pwg3_l5zhc7c0000gn/T/ipykernel_6161/1892902441.py:12: FutureWarning:\n",
      "\n",
      "The frame.append method is deprecated and will be removed from pandas in a future version. Use pandas.concat instead.\n",
      "\n",
      "/var/folders/q7/h0qy2kmn1617pwg3_l5zhc7c0000gn/T/ipykernel_6161/1892902441.py:12: FutureWarning:\n",
      "\n",
      "The frame.append method is deprecated and will be removed from pandas in a future version. Use pandas.concat instead.\n",
      "\n",
      "/var/folders/q7/h0qy2kmn1617pwg3_l5zhc7c0000gn/T/ipykernel_6161/1892902441.py:12: FutureWarning:\n",
      "\n",
      "The frame.append method is deprecated and will be removed from pandas in a future version. Use pandas.concat instead.\n",
      "\n",
      "/var/folders/q7/h0qy2kmn1617pwg3_l5zhc7c0000gn/T/ipykernel_6161/1892902441.py:12: FutureWarning:\n",
      "\n",
      "The frame.append method is deprecated and will be removed from pandas in a future version. Use pandas.concat instead.\n",
      "\n",
      "/var/folders/q7/h0qy2kmn1617pwg3_l5zhc7c0000gn/T/ipykernel_6161/1892902441.py:12: FutureWarning:\n",
      "\n",
      "The frame.append method is deprecated and will be removed from pandas in a future version. Use pandas.concat instead.\n",
      "\n",
      "/var/folders/q7/h0qy2kmn1617pwg3_l5zhc7c0000gn/T/ipykernel_6161/1892902441.py:12: FutureWarning:\n",
      "\n",
      "The frame.append method is deprecated and will be removed from pandas in a future version. Use pandas.concat instead.\n",
      "\n",
      "/var/folders/q7/h0qy2kmn1617pwg3_l5zhc7c0000gn/T/ipykernel_6161/1892902441.py:12: FutureWarning:\n",
      "\n",
      "The frame.append method is deprecated and will be removed from pandas in a future version. Use pandas.concat instead.\n",
      "\n",
      "/var/folders/q7/h0qy2kmn1617pwg3_l5zhc7c0000gn/T/ipykernel_6161/1892902441.py:12: FutureWarning:\n",
      "\n",
      "The frame.append method is deprecated and will be removed from pandas in a future version. Use pandas.concat instead.\n",
      "\n",
      "/var/folders/q7/h0qy2kmn1617pwg3_l5zhc7c0000gn/T/ipykernel_6161/1892902441.py:12: FutureWarning:\n",
      "\n",
      "The frame.append method is deprecated and will be removed from pandas in a future version. Use pandas.concat instead.\n",
      "\n",
      "/var/folders/q7/h0qy2kmn1617pwg3_l5zhc7c0000gn/T/ipykernel_6161/1892902441.py:12: FutureWarning:\n",
      "\n",
      "The frame.append method is deprecated and will be removed from pandas in a future version. Use pandas.concat instead.\n",
      "\n",
      "/var/folders/q7/h0qy2kmn1617pwg3_l5zhc7c0000gn/T/ipykernel_6161/1892902441.py:12: FutureWarning:\n",
      "\n",
      "The frame.append method is deprecated and will be removed from pandas in a future version. Use pandas.concat instead.\n",
      "\n",
      "/var/folders/q7/h0qy2kmn1617pwg3_l5zhc7c0000gn/T/ipykernel_6161/1892902441.py:12: FutureWarning:\n",
      "\n",
      "The frame.append method is deprecated and will be removed from pandas in a future version. Use pandas.concat instead.\n",
      "\n",
      "/var/folders/q7/h0qy2kmn1617pwg3_l5zhc7c0000gn/T/ipykernel_6161/1892902441.py:12: FutureWarning:\n",
      "\n",
      "The frame.append method is deprecated and will be removed from pandas in a future version. Use pandas.concat instead.\n",
      "\n",
      "/var/folders/q7/h0qy2kmn1617pwg3_l5zhc7c0000gn/T/ipykernel_6161/1892902441.py:12: FutureWarning:\n",
      "\n",
      "The frame.append method is deprecated and will be removed from pandas in a future version. Use pandas.concat instead.\n",
      "\n",
      "/var/folders/q7/h0qy2kmn1617pwg3_l5zhc7c0000gn/T/ipykernel_6161/1892902441.py:12: FutureWarning:\n",
      "\n",
      "The frame.append method is deprecated and will be removed from pandas in a future version. Use pandas.concat instead.\n",
      "\n",
      "/var/folders/q7/h0qy2kmn1617pwg3_l5zhc7c0000gn/T/ipykernel_6161/1892902441.py:12: FutureWarning:\n",
      "\n",
      "The frame.append method is deprecated and will be removed from pandas in a future version. Use pandas.concat instead.\n",
      "\n",
      "/var/folders/q7/h0qy2kmn1617pwg3_l5zhc7c0000gn/T/ipykernel_6161/1892902441.py:12: FutureWarning:\n",
      "\n",
      "The frame.append method is deprecated and will be removed from pandas in a future version. Use pandas.concat instead.\n",
      "\n",
      "/var/folders/q7/h0qy2kmn1617pwg3_l5zhc7c0000gn/T/ipykernel_6161/1892902441.py:12: FutureWarning:\n",
      "\n",
      "The frame.append method is deprecated and will be removed from pandas in a future version. Use pandas.concat instead.\n",
      "\n",
      "/var/folders/q7/h0qy2kmn1617pwg3_l5zhc7c0000gn/T/ipykernel_6161/1892902441.py:12: FutureWarning:\n",
      "\n",
      "The frame.append method is deprecated and will be removed from pandas in a future version. Use pandas.concat instead.\n",
      "\n",
      "/var/folders/q7/h0qy2kmn1617pwg3_l5zhc7c0000gn/T/ipykernel_6161/1892902441.py:12: FutureWarning:\n",
      "\n",
      "The frame.append method is deprecated and will be removed from pandas in a future version. Use pandas.concat instead.\n",
      "\n",
      "/var/folders/q7/h0qy2kmn1617pwg3_l5zhc7c0000gn/T/ipykernel_6161/1892902441.py:12: FutureWarning:\n",
      "\n",
      "The frame.append method is deprecated and will be removed from pandas in a future version. Use pandas.concat instead.\n",
      "\n",
      "/var/folders/q7/h0qy2kmn1617pwg3_l5zhc7c0000gn/T/ipykernel_6161/1892902441.py:12: FutureWarning:\n",
      "\n",
      "The frame.append method is deprecated and will be removed from pandas in a future version. Use pandas.concat instead.\n",
      "\n",
      "/var/folders/q7/h0qy2kmn1617pwg3_l5zhc7c0000gn/T/ipykernel_6161/1892902441.py:12: FutureWarning:\n",
      "\n",
      "The frame.append method is deprecated and will be removed from pandas in a future version. Use pandas.concat instead.\n",
      "\n",
      "/var/folders/q7/h0qy2kmn1617pwg3_l5zhc7c0000gn/T/ipykernel_6161/1892902441.py:12: FutureWarning:\n",
      "\n",
      "The frame.append method is deprecated and will be removed from pandas in a future version. Use pandas.concat instead.\n",
      "\n",
      "/var/folders/q7/h0qy2kmn1617pwg3_l5zhc7c0000gn/T/ipykernel_6161/1892902441.py:12: FutureWarning:\n",
      "\n",
      "The frame.append method is deprecated and will be removed from pandas in a future version. Use pandas.concat instead.\n",
      "\n",
      "/var/folders/q7/h0qy2kmn1617pwg3_l5zhc7c0000gn/T/ipykernel_6161/1892902441.py:12: FutureWarning:\n",
      "\n",
      "The frame.append method is deprecated and will be removed from pandas in a future version. Use pandas.concat instead.\n",
      "\n",
      "/var/folders/q7/h0qy2kmn1617pwg3_l5zhc7c0000gn/T/ipykernel_6161/1892902441.py:12: FutureWarning:\n",
      "\n",
      "The frame.append method is deprecated and will be removed from pandas in a future version. Use pandas.concat instead.\n",
      "\n",
      "/var/folders/q7/h0qy2kmn1617pwg3_l5zhc7c0000gn/T/ipykernel_6161/1892902441.py:12: FutureWarning:\n",
      "\n",
      "The frame.append method is deprecated and will be removed from pandas in a future version. Use pandas.concat instead.\n",
      "\n",
      "/var/folders/q7/h0qy2kmn1617pwg3_l5zhc7c0000gn/T/ipykernel_6161/1892902441.py:12: FutureWarning:\n",
      "\n",
      "The frame.append method is deprecated and will be removed from pandas in a future version. Use pandas.concat instead.\n",
      "\n",
      "/var/folders/q7/h0qy2kmn1617pwg3_l5zhc7c0000gn/T/ipykernel_6161/1892902441.py:12: FutureWarning:\n",
      "\n",
      "The frame.append method is deprecated and will be removed from pandas in a future version. Use pandas.concat instead.\n",
      "\n"
     ]
    }
   ],
   "source": [
    "df2 = pd.DataFrame(columns=['HP', 'Attack', 'Defence', 'Sp. Attack', 'Sp. Defence', 'Speed', 'Generation'])\n",
    "for i in range(len(df)):\n",
    "    row = {'HP': df['HP'][i],\n",
    "           'Attack': df['Attack'][i],\n",
    "           # 'Defence': df['Defence'][i],\n",
    "           'Sp. Attack': df['Sp. Atk'][i],\n",
    "           'Sp. Defence': df['Sp. Def'][i],\n",
    "           'Speed': df['Speed'][i],\n",
    "           'Generation': df['Generation'][i]\n",
    "    }\n",
    "\n",
    "    df2.append(row, ignore_index=True)"
   ]
  },
  {
   "cell_type": "code",
   "execution_count": null,
   "id": "b8608518",
   "metadata": {},
   "outputs": [],
   "source": []
  }
 ],
 "metadata": {
  "kernelspec": {
   "display_name": "Python 3 (ipykernel)",
   "language": "python",
   "name": "python3"
  },
  "language_info": {
   "codemirror_mode": {
    "name": "ipython",
    "version": 3
   },
   "file_extension": ".py",
   "mimetype": "text/x-python",
   "name": "python",
   "nbconvert_exporter": "python",
   "pygments_lexer": "ipython3",
   "version": "3.8.13"
  }
 },
 "nbformat": 4,
 "nbformat_minor": 5
}
