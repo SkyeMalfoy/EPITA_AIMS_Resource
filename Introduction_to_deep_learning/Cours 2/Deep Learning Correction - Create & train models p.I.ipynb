{
 "cells": [
  {
   "cell_type": "markdown",
   "metadata": {
    "id": "4FMp9gtS-2LO"
   },
   "source": [
    "*This Notebook has been created by PALISSON Antoine.*<br>\n"
   ]
  },
  {
   "cell_type": "code",
   "execution_count": 1,
   "metadata": {
    "executionInfo": {
     "elapsed": 2325,
     "status": "ok",
     "timestamp": 1681196205719,
     "user": {
      "displayName": "Antoine Palisson",
      "userId": "06334333839821267204"
     },
     "user_tz": -120
    },
    "id": "XxHArnZntSDY"
   },
   "outputs": [],
   "source": [
    "# Basic packages\n",
    "import numpy as np\n",
    "import pandas as pd\n",
    "import matplotlib.pyplot as plt\n",
    "\n",
    "# Sklearn \n",
    "from sklearn.datasets import fetch_openml\n",
    "\n",
    "# Tensorflow\n",
    "import tensorflow as tf"
   ]
  },
  {
   "cell_type": "markdown",
   "metadata": {
    "id": "CKDCymVPVKIK"
   },
   "source": [
    "### Datasets"
   ]
  },
  {
   "cell_type": "code",
   "execution_count": 46,
   "metadata": {
    "colab": {
     "base_uri": "https://localhost:8080/",
     "height": 206
    },
    "executionInfo": {
     "elapsed": 5,
     "status": "ok",
     "timestamp": 1681199942162,
     "user": {
      "displayName": "Antoine Palisson",
      "userId": "06334333839821267204"
     },
     "user_tz": -120
    },
    "id": "s6IdWw14XJZA",
    "outputId": "474ab237-7deb-4eb2-d86f-f1210c5459f9"
   },
   "outputs": [
    {
     "data": {
      "text/html": [
       "\n",
       "  <div id=\"df-db3790fa-ca48-4b54-8ee4-5f7feeeb67fa\">\n",
       "    <div class=\"colab-df-container\">\n",
       "      <div>\n",
       "<style scoped>\n",
       "    .dataframe tbody tr th:only-of-type {\n",
       "        vertical-align: middle;\n",
       "    }\n",
       "\n",
       "    .dataframe tbody tr th {\n",
       "        vertical-align: top;\n",
       "    }\n",
       "\n",
       "    .dataframe thead th {\n",
       "        text-align: right;\n",
       "    }\n",
       "</style>\n",
       "<table border=\"1\" class=\"dataframe\">\n",
       "  <thead>\n",
       "    <tr style=\"text-align: right;\">\n",
       "      <th></th>\n",
       "      <th>median_house_value</th>\n",
       "      <th>longitude</th>\n",
       "      <th>latitude</th>\n",
       "      <th>housing_median_age</th>\n",
       "      <th>total_rooms</th>\n",
       "      <th>total_bedrooms</th>\n",
       "      <th>population</th>\n",
       "      <th>households</th>\n",
       "      <th>median_income</th>\n",
       "      <th>ocean_proximity</th>\n",
       "    </tr>\n",
       "  </thead>\n",
       "  <tbody>\n",
       "    <tr>\n",
       "      <th>0</th>\n",
       "      <td>452600</td>\n",
       "      <td>-122.23</td>\n",
       "      <td>37.88</td>\n",
       "      <td>41</td>\n",
       "      <td>880</td>\n",
       "      <td>129.0</td>\n",
       "      <td>322</td>\n",
       "      <td>126</td>\n",
       "      <td>8.3252</td>\n",
       "      <td>NEAR BAY</td>\n",
       "    </tr>\n",
       "    <tr>\n",
       "      <th>1</th>\n",
       "      <td>358500</td>\n",
       "      <td>-122.22</td>\n",
       "      <td>37.86</td>\n",
       "      <td>21</td>\n",
       "      <td>7099</td>\n",
       "      <td>1106.0</td>\n",
       "      <td>2401</td>\n",
       "      <td>1138</td>\n",
       "      <td>8.3014</td>\n",
       "      <td>NEAR BAY</td>\n",
       "    </tr>\n",
       "    <tr>\n",
       "      <th>2</th>\n",
       "      <td>352100</td>\n",
       "      <td>-122.24</td>\n",
       "      <td>37.85</td>\n",
       "      <td>52</td>\n",
       "      <td>1467</td>\n",
       "      <td>190.0</td>\n",
       "      <td>496</td>\n",
       "      <td>177</td>\n",
       "      <td>7.2574</td>\n",
       "      <td>NEAR BAY</td>\n",
       "    </tr>\n",
       "    <tr>\n",
       "      <th>3</th>\n",
       "      <td>341300</td>\n",
       "      <td>-122.25</td>\n",
       "      <td>37.85</td>\n",
       "      <td>52</td>\n",
       "      <td>1274</td>\n",
       "      <td>235.0</td>\n",
       "      <td>558</td>\n",
       "      <td>219</td>\n",
       "      <td>5.6431</td>\n",
       "      <td>NEAR BAY</td>\n",
       "    </tr>\n",
       "    <tr>\n",
       "      <th>4</th>\n",
       "      <td>342200</td>\n",
       "      <td>-122.25</td>\n",
       "      <td>37.85</td>\n",
       "      <td>52</td>\n",
       "      <td>1627</td>\n",
       "      <td>280.0</td>\n",
       "      <td>565</td>\n",
       "      <td>259</td>\n",
       "      <td>3.8462</td>\n",
       "      <td>NEAR BAY</td>\n",
       "    </tr>\n",
       "  </tbody>\n",
       "</table>\n",
       "</div>\n",
       "      <button class=\"colab-df-convert\" onclick=\"convertToInteractive('df-db3790fa-ca48-4b54-8ee4-5f7feeeb67fa')\"\n",
       "              title=\"Convert this dataframe to an interactive table.\"\n",
       "              style=\"display:none;\">\n",
       "        \n",
       "  <svg xmlns=\"http://www.w3.org/2000/svg\" height=\"24px\"viewBox=\"0 0 24 24\"\n",
       "       width=\"24px\">\n",
       "    <path d=\"M0 0h24v24H0V0z\" fill=\"none\"/>\n",
       "    <path d=\"M18.56 5.44l.94 2.06.94-2.06 2.06-.94-2.06-.94-.94-2.06-.94 2.06-2.06.94zm-11 1L8.5 8.5l.94-2.06 2.06-.94-2.06-.94L8.5 2.5l-.94 2.06-2.06.94zm10 10l.94 2.06.94-2.06 2.06-.94-2.06-.94-.94-2.06-.94 2.06-2.06.94z\"/><path d=\"M17.41 7.96l-1.37-1.37c-.4-.4-.92-.59-1.43-.59-.52 0-1.04.2-1.43.59L10.3 9.45l-7.72 7.72c-.78.78-.78 2.05 0 2.83L4 21.41c.39.39.9.59 1.41.59.51 0 1.02-.2 1.41-.59l7.78-7.78 2.81-2.81c.8-.78.8-2.07 0-2.86zM5.41 20L4 18.59l7.72-7.72 1.47 1.35L5.41 20z\"/>\n",
       "  </svg>\n",
       "      </button>\n",
       "      \n",
       "  <style>\n",
       "    .colab-df-container {\n",
       "      display:flex;\n",
       "      flex-wrap:wrap;\n",
       "      gap: 12px;\n",
       "    }\n",
       "\n",
       "    .colab-df-convert {\n",
       "      background-color: #E8F0FE;\n",
       "      border: none;\n",
       "      border-radius: 50%;\n",
       "      cursor: pointer;\n",
       "      display: none;\n",
       "      fill: #1967D2;\n",
       "      height: 32px;\n",
       "      padding: 0 0 0 0;\n",
       "      width: 32px;\n",
       "    }\n",
       "\n",
       "    .colab-df-convert:hover {\n",
       "      background-color: #E2EBFA;\n",
       "      box-shadow: 0px 1px 2px rgba(60, 64, 67, 0.3), 0px 1px 3px 1px rgba(60, 64, 67, 0.15);\n",
       "      fill: #174EA6;\n",
       "    }\n",
       "\n",
       "    [theme=dark] .colab-df-convert {\n",
       "      background-color: #3B4455;\n",
       "      fill: #D2E3FC;\n",
       "    }\n",
       "\n",
       "    [theme=dark] .colab-df-convert:hover {\n",
       "      background-color: #434B5C;\n",
       "      box-shadow: 0px 1px 3px 1px rgba(0, 0, 0, 0.15);\n",
       "      filter: drop-shadow(0px 1px 2px rgba(0, 0, 0, 0.3));\n",
       "      fill: #FFFFFF;\n",
       "    }\n",
       "  </style>\n",
       "\n",
       "      <script>\n",
       "        const buttonEl =\n",
       "          document.querySelector('#df-db3790fa-ca48-4b54-8ee4-5f7feeeb67fa button.colab-df-convert');\n",
       "        buttonEl.style.display =\n",
       "          google.colab.kernel.accessAllowed ? 'block' : 'none';\n",
       "\n",
       "        async function convertToInteractive(key) {\n",
       "          const element = document.querySelector('#df-db3790fa-ca48-4b54-8ee4-5f7feeeb67fa');\n",
       "          const dataTable =\n",
       "            await google.colab.kernel.invokeFunction('convertToInteractive',\n",
       "                                                     [key], {});\n",
       "          if (!dataTable) return;\n",
       "\n",
       "          const docLinkHtml = 'Like what you see? Visit the ' +\n",
       "            '<a target=\"_blank\" href=https://colab.research.google.com/notebooks/data_table.ipynb>data table notebook</a>'\n",
       "            + ' to learn more about interactive tables.';\n",
       "          element.innerHTML = '';\n",
       "          dataTable['output_type'] = 'display_data';\n",
       "          await google.colab.output.renderOutput(dataTable, element);\n",
       "          const docLink = document.createElement('div');\n",
       "          docLink.innerHTML = docLinkHtml;\n",
       "          element.appendChild(docLink);\n",
       "        }\n",
       "      </script>\n",
       "    </div>\n",
       "  </div>\n",
       "  "
      ],
      "text/plain": [
       "   median_house_value  longitude  latitude  housing_median_age  total_rooms  \\\n",
       "0              452600    -122.23     37.88                  41          880   \n",
       "1              358500    -122.22     37.86                  21         7099   \n",
       "2              352100    -122.24     37.85                  52         1467   \n",
       "3              341300    -122.25     37.85                  52         1274   \n",
       "4              342200    -122.25     37.85                  52         1627   \n",
       "\n",
       "   total_bedrooms  population  households  median_income ocean_proximity  \n",
       "0           129.0         322         126         8.3252        NEAR BAY  \n",
       "1          1106.0        2401        1138         8.3014        NEAR BAY  \n",
       "2           190.0         496         177         7.2574        NEAR BAY  \n",
       "3           235.0         558         219         5.6431        NEAR BAY  \n",
       "4           280.0         565         259         3.8462        NEAR BAY  "
      ]
     },
     "execution_count": 46,
     "metadata": {},
     "output_type": "execute_result"
    }
   ],
   "source": [
    "data = fetch_openml('california_housing', version=1, parser='auto')\n",
    "housing = pd.concat([data['target'], data['data']], axis=1).dropna()\n",
    "housing.head()"
   ]
  },
  {
   "cell_type": "code",
   "execution_count": 47,
   "metadata": {
    "colab": {
     "base_uri": "https://localhost:8080/",
     "height": 235
    },
    "executionInfo": {
     "elapsed": 926,
     "status": "ok",
     "timestamp": 1681199950094,
     "user": {
      "displayName": "Antoine Palisson",
      "userId": "06334333839821267204"
     },
     "user_tz": -120
    },
    "id": "irXUHe88ML9J",
    "outputId": "c78e7868-3d9e-43e6-9224-82620e00b96f"
   },
   "outputs": [
    {
     "data": {
      "text/html": [
       "\n",
       "  <div id=\"df-b3ca9534-5efb-4158-8ba0-da6271892728\">\n",
       "    <div class=\"colab-df-container\">\n",
       "      <div>\n",
       "<style scoped>\n",
       "    .dataframe tbody tr th:only-of-type {\n",
       "        vertical-align: middle;\n",
       "    }\n",
       "\n",
       "    .dataframe tbody tr th {\n",
       "        vertical-align: top;\n",
       "    }\n",
       "\n",
       "    .dataframe thead th {\n",
       "        text-align: right;\n",
       "    }\n",
       "</style>\n",
       "<table border=\"1\" class=\"dataframe\">\n",
       "  <thead>\n",
       "    <tr style=\"text-align: right;\">\n",
       "      <th></th>\n",
       "      <th>Class</th>\n",
       "      <th>V1</th>\n",
       "      <th>V2</th>\n",
       "      <th>V3</th>\n",
       "      <th>V4</th>\n",
       "      <th>V5</th>\n",
       "      <th>V6</th>\n",
       "      <th>V7</th>\n",
       "      <th>V8</th>\n",
       "      <th>V9</th>\n",
       "      <th>...</th>\n",
       "      <th>V21</th>\n",
       "      <th>V22</th>\n",
       "      <th>V23</th>\n",
       "      <th>V24</th>\n",
       "      <th>V25</th>\n",
       "      <th>V26</th>\n",
       "      <th>V27</th>\n",
       "      <th>V28</th>\n",
       "      <th>V29</th>\n",
       "      <th>V30</th>\n",
       "    </tr>\n",
       "  </thead>\n",
       "  <tbody>\n",
       "    <tr>\n",
       "      <th>0</th>\n",
       "      <td>2</td>\n",
       "      <td>17.99</td>\n",
       "      <td>10.38</td>\n",
       "      <td>122.80</td>\n",
       "      <td>1001.0</td>\n",
       "      <td>0.11840</td>\n",
       "      <td>0.27760</td>\n",
       "      <td>0.3001</td>\n",
       "      <td>0.14710</td>\n",
       "      <td>0.2419</td>\n",
       "      <td>...</td>\n",
       "      <td>25.38</td>\n",
       "      <td>17.33</td>\n",
       "      <td>184.60</td>\n",
       "      <td>2019.0</td>\n",
       "      <td>0.1622</td>\n",
       "      <td>0.6656</td>\n",
       "      <td>0.7119</td>\n",
       "      <td>0.2654</td>\n",
       "      <td>0.4601</td>\n",
       "      <td>0.11890</td>\n",
       "    </tr>\n",
       "    <tr>\n",
       "      <th>1</th>\n",
       "      <td>2</td>\n",
       "      <td>20.57</td>\n",
       "      <td>17.77</td>\n",
       "      <td>132.90</td>\n",
       "      <td>1326.0</td>\n",
       "      <td>0.08474</td>\n",
       "      <td>0.07864</td>\n",
       "      <td>0.0869</td>\n",
       "      <td>0.07017</td>\n",
       "      <td>0.1812</td>\n",
       "      <td>...</td>\n",
       "      <td>24.99</td>\n",
       "      <td>23.41</td>\n",
       "      <td>158.80</td>\n",
       "      <td>1956.0</td>\n",
       "      <td>0.1238</td>\n",
       "      <td>0.1866</td>\n",
       "      <td>0.2416</td>\n",
       "      <td>0.1860</td>\n",
       "      <td>0.2750</td>\n",
       "      <td>0.08902</td>\n",
       "    </tr>\n",
       "    <tr>\n",
       "      <th>2</th>\n",
       "      <td>2</td>\n",
       "      <td>19.69</td>\n",
       "      <td>21.25</td>\n",
       "      <td>130.00</td>\n",
       "      <td>1203.0</td>\n",
       "      <td>0.10960</td>\n",
       "      <td>0.15990</td>\n",
       "      <td>0.1974</td>\n",
       "      <td>0.12790</td>\n",
       "      <td>0.2069</td>\n",
       "      <td>...</td>\n",
       "      <td>23.57</td>\n",
       "      <td>25.53</td>\n",
       "      <td>152.50</td>\n",
       "      <td>1709.0</td>\n",
       "      <td>0.1444</td>\n",
       "      <td>0.4245</td>\n",
       "      <td>0.4504</td>\n",
       "      <td>0.2430</td>\n",
       "      <td>0.3613</td>\n",
       "      <td>0.08758</td>\n",
       "    </tr>\n",
       "    <tr>\n",
       "      <th>3</th>\n",
       "      <td>2</td>\n",
       "      <td>11.42</td>\n",
       "      <td>20.38</td>\n",
       "      <td>77.58</td>\n",
       "      <td>386.1</td>\n",
       "      <td>0.14250</td>\n",
       "      <td>0.28390</td>\n",
       "      <td>0.2414</td>\n",
       "      <td>0.10520</td>\n",
       "      <td>0.2597</td>\n",
       "      <td>...</td>\n",
       "      <td>14.91</td>\n",
       "      <td>26.50</td>\n",
       "      <td>98.87</td>\n",
       "      <td>567.7</td>\n",
       "      <td>0.2098</td>\n",
       "      <td>0.8663</td>\n",
       "      <td>0.6869</td>\n",
       "      <td>0.2575</td>\n",
       "      <td>0.6638</td>\n",
       "      <td>0.17300</td>\n",
       "    </tr>\n",
       "    <tr>\n",
       "      <th>4</th>\n",
       "      <td>2</td>\n",
       "      <td>20.29</td>\n",
       "      <td>14.34</td>\n",
       "      <td>135.10</td>\n",
       "      <td>1297.0</td>\n",
       "      <td>0.10030</td>\n",
       "      <td>0.13280</td>\n",
       "      <td>0.1980</td>\n",
       "      <td>0.10430</td>\n",
       "      <td>0.1809</td>\n",
       "      <td>...</td>\n",
       "      <td>22.54</td>\n",
       "      <td>16.67</td>\n",
       "      <td>152.20</td>\n",
       "      <td>1575.0</td>\n",
       "      <td>0.1374</td>\n",
       "      <td>0.2050</td>\n",
       "      <td>0.4000</td>\n",
       "      <td>0.1625</td>\n",
       "      <td>0.2364</td>\n",
       "      <td>0.07678</td>\n",
       "    </tr>\n",
       "  </tbody>\n",
       "</table>\n",
       "<p>5 rows × 31 columns</p>\n",
       "</div>\n",
       "      <button class=\"colab-df-convert\" onclick=\"convertToInteractive('df-b3ca9534-5efb-4158-8ba0-da6271892728')\"\n",
       "              title=\"Convert this dataframe to an interactive table.\"\n",
       "              style=\"display:none;\">\n",
       "        \n",
       "  <svg xmlns=\"http://www.w3.org/2000/svg\" height=\"24px\"viewBox=\"0 0 24 24\"\n",
       "       width=\"24px\">\n",
       "    <path d=\"M0 0h24v24H0V0z\" fill=\"none\"/>\n",
       "    <path d=\"M18.56 5.44l.94 2.06.94-2.06 2.06-.94-2.06-.94-.94-2.06-.94 2.06-2.06.94zm-11 1L8.5 8.5l.94-2.06 2.06-.94-2.06-.94L8.5 2.5l-.94 2.06-2.06.94zm10 10l.94 2.06.94-2.06 2.06-.94-2.06-.94-.94-2.06-.94 2.06-2.06.94z\"/><path d=\"M17.41 7.96l-1.37-1.37c-.4-.4-.92-.59-1.43-.59-.52 0-1.04.2-1.43.59L10.3 9.45l-7.72 7.72c-.78.78-.78 2.05 0 2.83L4 21.41c.39.39.9.59 1.41.59.51 0 1.02-.2 1.41-.59l7.78-7.78 2.81-2.81c.8-.78.8-2.07 0-2.86zM5.41 20L4 18.59l7.72-7.72 1.47 1.35L5.41 20z\"/>\n",
       "  </svg>\n",
       "      </button>\n",
       "      \n",
       "  <style>\n",
       "    .colab-df-container {\n",
       "      display:flex;\n",
       "      flex-wrap:wrap;\n",
       "      gap: 12px;\n",
       "    }\n",
       "\n",
       "    .colab-df-convert {\n",
       "      background-color: #E8F0FE;\n",
       "      border: none;\n",
       "      border-radius: 50%;\n",
       "      cursor: pointer;\n",
       "      display: none;\n",
       "      fill: #1967D2;\n",
       "      height: 32px;\n",
       "      padding: 0 0 0 0;\n",
       "      width: 32px;\n",
       "    }\n",
       "\n",
       "    .colab-df-convert:hover {\n",
       "      background-color: #E2EBFA;\n",
       "      box-shadow: 0px 1px 2px rgba(60, 64, 67, 0.3), 0px 1px 3px 1px rgba(60, 64, 67, 0.15);\n",
       "      fill: #174EA6;\n",
       "    }\n",
       "\n",
       "    [theme=dark] .colab-df-convert {\n",
       "      background-color: #3B4455;\n",
       "      fill: #D2E3FC;\n",
       "    }\n",
       "\n",
       "    [theme=dark] .colab-df-convert:hover {\n",
       "      background-color: #434B5C;\n",
       "      box-shadow: 0px 1px 3px 1px rgba(0, 0, 0, 0.15);\n",
       "      filter: drop-shadow(0px 1px 2px rgba(0, 0, 0, 0.3));\n",
       "      fill: #FFFFFF;\n",
       "    }\n",
       "  </style>\n",
       "\n",
       "      <script>\n",
       "        const buttonEl =\n",
       "          document.querySelector('#df-b3ca9534-5efb-4158-8ba0-da6271892728 button.colab-df-convert');\n",
       "        buttonEl.style.display =\n",
       "          google.colab.kernel.accessAllowed ? 'block' : 'none';\n",
       "\n",
       "        async function convertToInteractive(key) {\n",
       "          const element = document.querySelector('#df-b3ca9534-5efb-4158-8ba0-da6271892728');\n",
       "          const dataTable =\n",
       "            await google.colab.kernel.invokeFunction('convertToInteractive',\n",
       "                                                     [key], {});\n",
       "          if (!dataTable) return;\n",
       "\n",
       "          const docLinkHtml = 'Like what you see? Visit the ' +\n",
       "            '<a target=\"_blank\" href=https://colab.research.google.com/notebooks/data_table.ipynb>data table notebook</a>'\n",
       "            + ' to learn more about interactive tables.';\n",
       "          element.innerHTML = '';\n",
       "          dataTable['output_type'] = 'display_data';\n",
       "          await google.colab.output.renderOutput(dataTable, element);\n",
       "          const docLink = document.createElement('div');\n",
       "          docLink.innerHTML = docLinkHtml;\n",
       "          element.appendChild(docLink);\n",
       "        }\n",
       "      </script>\n",
       "    </div>\n",
       "  </div>\n",
       "  "
      ],
      "text/plain": [
       "  Class     V1     V2      V3      V4       V5       V6      V7       V8  \\\n",
       "0     2  17.99  10.38  122.80  1001.0  0.11840  0.27760  0.3001  0.14710   \n",
       "1     2  20.57  17.77  132.90  1326.0  0.08474  0.07864  0.0869  0.07017   \n",
       "2     2  19.69  21.25  130.00  1203.0  0.10960  0.15990  0.1974  0.12790   \n",
       "3     2  11.42  20.38   77.58   386.1  0.14250  0.28390  0.2414  0.10520   \n",
       "4     2  20.29  14.34  135.10  1297.0  0.10030  0.13280  0.1980  0.10430   \n",
       "\n",
       "       V9  ...    V21    V22     V23     V24     V25     V26     V27     V28  \\\n",
       "0  0.2419  ...  25.38  17.33  184.60  2019.0  0.1622  0.6656  0.7119  0.2654   \n",
       "1  0.1812  ...  24.99  23.41  158.80  1956.0  0.1238  0.1866  0.2416  0.1860   \n",
       "2  0.2069  ...  23.57  25.53  152.50  1709.0  0.1444  0.4245  0.4504  0.2430   \n",
       "3  0.2597  ...  14.91  26.50   98.87   567.7  0.2098  0.8663  0.6869  0.2575   \n",
       "4  0.1809  ...  22.54  16.67  152.20  1575.0  0.1374  0.2050  0.4000  0.1625   \n",
       "\n",
       "      V29      V30  \n",
       "0  0.4601  0.11890  \n",
       "1  0.2750  0.08902  \n",
       "2  0.3613  0.08758  \n",
       "3  0.6638  0.17300  \n",
       "4  0.2364  0.07678  \n",
       "\n",
       "[5 rows x 31 columns]"
      ]
     },
     "execution_count": 47,
     "metadata": {},
     "output_type": "execute_result"
    }
   ],
   "source": [
    "data = fetch_openml(\"wdbc\", version=1, parser='auto')\n",
    "breast = pd.concat([data['target'], data['data']], axis=1).dropna()\n",
    "breast.head()"
   ]
  },
  {
   "cell_type": "markdown",
   "metadata": {
    "heading_collapsed": true,
    "id": "DxaB0EZOuLas"
   },
   "source": [
    "# Regression"
   ]
  },
  {
   "cell_type": "markdown",
   "metadata": {
    "heading_collapsed": true,
    "hidden": true,
    "id": "-SuD_rn5oivl"
   },
   "source": [
    "## Preprocessing"
   ]
  },
  {
   "cell_type": "markdown",
   "metadata": {
    "hidden": true,
    "id": "W6O9HZ97sGo1"
   },
   "source": [
    "**<font color='blue'>1. Create a validation set and a test set by using respectively 10% and 20% of the data.**\n",
    "\n",
    "*Tips: You can use the `train_test_split` function from sklearn.*"
   ]
  },
  {
   "cell_type": "code",
   "execution_count": 48,
   "metadata": {
    "colab": {
     "base_uri": "https://localhost:8080/"
    },
    "executionInfo": {
     "elapsed": 3,
     "status": "ok",
     "timestamp": 1681199955205,
     "user": {
      "displayName": "Antoine Palisson",
      "userId": "06334333839821267204"
     },
     "user_tz": -120
    },
    "hidden": true,
    "id": "J9KSP9UwsShT",
    "outputId": "a3bd63e4-0595-40b6-fb1c-bd68560c0b94"
   },
   "outputs": [
    {
     "data": {
      "text/plain": [
       "((14302, 10), (2044, 10), (4087, 10))"
      ]
     },
     "execution_count": 48,
     "metadata": {},
     "output_type": "execute_result"
    }
   ],
   "source": [
    "from sklearn.model_selection import train_test_split\n",
    "trainset, testset = train_test_split(housing, test_size=0.2, random_state=42)\n",
    "trainset, valset = train_test_split(trainset, test_size=0.1/(1-0.2), random_state=42)\n",
    "trainset.shape, valset.shape, testset.shape"
   ]
  },
  {
   "cell_type": "markdown",
   "metadata": {
    "hidden": true,
    "id": "o3pi3TZGsiTe"
   },
   "source": [
    "In this exercise, the label is the **median_house_value**.\n",
    "\n",
    "**<font color='blue'>2. Separate the features and the label (for the train, validation and testing sets).**\n",
    "\n",
    "*Tips: You can use the `pop` function from pandas.*"
   ]
  },
  {
   "cell_type": "code",
   "execution_count": 49,
   "metadata": {
    "executionInfo": {
     "elapsed": 1,
     "status": "ok",
     "timestamp": 1681199959515,
     "user": {
      "displayName": "Antoine Palisson",
      "userId": "06334333839821267204"
     },
     "user_tz": -120
    },
    "hidden": true,
    "id": "oZAfvsYCssbq"
   },
   "outputs": [],
   "source": [
    "X_train = trainset.copy()\n",
    "y_train = X_train.pop('median_house_value')\n",
    "\n",
    "X_val = valset.copy()\n",
    "y_val = X_val.pop('median_house_value')\n",
    "\n",
    "X_test = testset.copy()\n",
    "y_test = X_test.pop('median_house_value')"
   ]
  },
  {
   "cell_type": "markdown",
   "metadata": {
    "hidden": true,
    "id": "MXOpavi9qYpV"
   },
   "source": [
    "Deep learning algorithms **often require standardized data more than other algorithms** due to their reliance on complex neural network architectures. Here are some reasons:\n",
    "\n",
    "*   It ensures that the neural network is trained on consistent and comparable data. Each layer should receive input data in a consistent format in order to improve the overall performance.\n",
    "*   If the input features are not standardized, the differences in scale between features can result in the neural network assigning higher weights to some features and lower weights to others, which can result in poor performance.\n",
    "*   It helps to reduce the number of iterations required to optimize the neural network's weights, and can also help to prevent the optimizer from getting stuck in local minima.\n",
    "\n",
    "**<font color='blue'>3.a. Standardize the features.**\n",
    "\n",
    "*Tips: You can use the `StandardScaler` function from sklearn.*"
   ]
  },
  {
   "cell_type": "code",
   "execution_count": 50,
   "metadata": {
    "executionInfo": {
     "elapsed": 1,
     "status": "ok",
     "timestamp": 1681199959515,
     "user": {
      "displayName": "Antoine Palisson",
      "userId": "06334333839821267204"
     },
     "user_tz": -120
    },
    "hidden": true,
    "id": "WpLCfzliosLp"
   },
   "outputs": [],
   "source": [
    "from sklearn.preprocessing import StandardScaler, OneHotEncoder\n",
    "from sklearn.compose import ColumnTransformer\n",
    "\n",
    "ohe = OneHotEncoder()\n",
    "std = StandardScaler()\n",
    "\n",
    "num_col = X_train.select_dtypes(exclude='category').columns\n",
    "\n",
    "ct = ColumnTransformer([('cat', ohe, ['ocean_proximity']),\n",
    "                        ('num', std, num_col)])\n",
    "\n",
    "X_train_scl = ct.fit_transform(X_train)\n",
    "X_val_scl = ct.transform(X_val)\n",
    "X_test_scl = ct.transform(X_test)"
   ]
  },
  {
   "cell_type": "markdown",
   "metadata": {
    "hidden": true,
    "id": "fwNL3L8ouBAq"
   },
   "source": [
    "In deep learning regression, **standardizing the labels can be just as important as standardizing the input features** for the following reasons:\n",
    "\n",
    "\n",
    "*   **Gradient calculations**: The gradients used for optimizing the weights in a deep neural network are calculated based on the loss between the predicted and true labels. If the labels are not standardized, then the gradients will be calculated on a different scale. This can result in unstable gradient updates and slower convergence during training. \n",
    "*   **Activation functions**: The activation functions used in deep neural networks are designed to work best on inputs that are on a similar scale. If the labels are not standardized, then the activations can be biased towards some labels, which can result in lower accuracy. \n",
    "*   **Bias term**: A bias term is often included in the output layer of a deep neural network. If the labels are not standardized, then the bias term can become dominated by the largest values, leading to an imbalanced weighting of the inputs.\n",
    "\n",
    "**<font color='blue'>3.b. Standardize the labels.**\n",
    "\n",
    "*Tips: You can use the `StandardScaler` function from sklearn. Don't use the same as the one for the features.*"
   ]
  },
  {
   "cell_type": "code",
   "execution_count": 51,
   "metadata": {
    "executionInfo": {
     "elapsed": 7,
     "status": "ok",
     "timestamp": 1681199959990,
     "user": {
      "displayName": "Antoine Palisson",
      "userId": "06334333839821267204"
     },
     "user_tz": -120
    },
    "hidden": true,
    "id": "flNRfogju6Eh"
   },
   "outputs": [],
   "source": [
    "from sklearn.preprocessing import StandardScaler\n",
    "\n",
    "lbl_std = StandardScaler()\n",
    "\n",
    "# The .to_numpy().reshape(-1,1) is mandatory when using StandardScaler\n",
    "# Indeed, StandardScaler excepts a table : (instances, values)\n",
    "y_train_scl = lbl_std.fit_transform(y_train.to_numpy().reshape(-1,1))\n",
    "y_val_scl = lbl_std.transform(y_val.to_numpy().reshape(-1,1))\n",
    "y_test_scl = lbl_std.transform(y_test.to_numpy().reshape(-1,1))"
   ]
  },
  {
   "cell_type": "markdown",
   "metadata": {
    "hidden": true,
    "id": "tBEbjl7sokJL"
   },
   "source": [
    "## Architecture"
   ]
  },
  {
   "cell_type": "markdown",
   "metadata": {
    "hidden": true,
    "id": "aMcRFuXKwOAE"
   },
   "source": [
    "**TensorFlow Keras** is a high-level API for building and training deep learning models in TensorFlow. TensorFlow Keras **provides a variety of pre-defined layers that can be used to build a neural network**, as well as the ability to create custom layers.\n",
    "\n",
    "The **Dense layer** in TensorFlow is a fully connected layer where each neuron is connected to every neuron in the previous layer. In other words, all input features are connected to all output features.\n",
    "\n",
    "It takes in a tensor as input and applies a linear transformation to produce an output tensor. This linear transformation is defined by a set of weights and biases that are learned during the training process.\n",
    "\n",
    "The Dense layer has many parameters.<br> In this exercise, we will only consider 3 of them:\n",
    "\n",
    "*   **units**: It specifies the number of neurons in the layer. It determines the dimensionality of the output space, i.e., the number of features in the output tensor. For example, if you set units to 10, the Dense layer will output a tensor with 10 features.\n",
    "\n",
    "*   **activation**: It specifies the activation function applied to the output of the layer. Activation functions introduce non-linearity to the model and are an essential component of deep neural networks. You can set this parameter to any activation function provided by TensorFlow, or you can create your own custom activation function. \n",
    "\n",
    "*   **use_bias**: It specifies whether to include a bias term in the layer or not. The bias term is an additional parameter that is added to the output of each neuron. It allows the model to learn an offset from zero, which can be useful for certain types of problems. By default, the use_bias parameter is set to True, but you can set it to False to exclude the bias term from the layer.\n",
    "\n",
    "You can create a Dense layer in TensorFlow using the tf.keras.layers.Dense class:\n",
    "\n",
    "\n",
    "```\n",
    "import tensorflow as tf\n",
    "dense = tf.keras.layers.Dense()\n",
    "```\n",
    "\n",
    "`tf.keras.layers.Dense` [Documentation](https://www.tensorflow.org/api_docs/python/tf/keras/layers/Dense)\n",
    "\n",
    "**<font color='blue'>1. Create a Dense layer that contains 8 neurons with a ReLU activation function and a bias using the Tensorflow Keras library.**"
   ]
  },
  {
   "cell_type": "code",
   "execution_count": 52,
   "metadata": {
    "colab": {
     "base_uri": "https://localhost:8080/"
    },
    "executionInfo": {
     "elapsed": 6,
     "status": "ok",
     "timestamp": 1681199959990,
     "user": {
      "displayName": "Antoine Palisson",
      "userId": "06334333839821267204"
     },
     "user_tz": -120
    },
    "hidden": true,
    "id": "dtoIsHV-osih",
    "outputId": "a15183b1-d079-4535-b93d-1cb453e0d929"
   },
   "outputs": [
    {
     "data": {
      "text/plain": [
       "<keras.layers.core.dense.Dense at 0x7f7ae31b0b20>"
      ]
     },
     "execution_count": 52,
     "metadata": {},
     "output_type": "execute_result"
    }
   ],
   "source": [
    "dense = tf.keras.layers.Dense(units=8, activation='relu', use_bias=True)\n",
    "dense"
   ]
  },
  {
   "cell_type": "markdown",
   "metadata": {
    "hidden": true,
    "id": "2tUrQNHzynCU"
   },
   "source": [
    "Performing a forward pass on a TensorFlow Dense layer is straightforward. Given an input tensor, you can apply the Dense layer using the `call` method of the `tf.keras.layers.Dense` class. \n",
    "\n",
    "In python, when you write `dense(x)`, it is interpreted as a call to the `__call__()` method of the Layer class with x as an argument.\n",
    "\n",
    "```\n",
    "output = dense(x_train)\n",
    "```\n",
    "\n",
    "**<font color='blue'>2. Do the forward pass on this layer on the training features.**\n",
    "\n",
    "*Tips: The output of a Dense layer is always of shape (instances, number of neurons)* "
   ]
  },
  {
   "cell_type": "code",
   "execution_count": 53,
   "metadata": {
    "colab": {
     "base_uri": "https://localhost:8080/"
    },
    "executionInfo": {
     "elapsed": 5,
     "status": "ok",
     "timestamp": 1681199959990,
     "user": {
      "displayName": "Antoine Palisson",
      "userId": "06334333839821267204"
     },
     "user_tz": -120
    },
    "hidden": true,
    "id": "f2FOsUprzVi_",
    "outputId": "739ca182-53ef-4c44-ac3e-b0be0185bdc4"
   },
   "outputs": [
    {
     "data": {
      "text/plain": [
       "<tf.Tensor: shape=(14302, 8), dtype=float32, numpy=\n",
       "array([[1.0844284 , 0.62022316, 0.        , ..., 0.        , 1.3278658 ,\n",
       "        0.        ],\n",
       "       [1.0502086 , 0.        , 0.18354794, ..., 0.        , 0.08699924,\n",
       "        0.3969472 ],\n",
       "       [0.        , 1.8783514 , 0.        , ..., 0.3685263 , 0.4932889 ,\n",
       "        0.        ],\n",
       "       ...,\n",
       "       [0.6887852 , 0.        , 0.7756034 , ..., 0.        , 0.        ,\n",
       "        0.        ],\n",
       "       [0.8456967 , 0.        , 0.        , ..., 0.        , 0.        ,\n",
       "        0.17490746],\n",
       "       [1.126513  , 0.        , 0.        , ..., 0.        , 0.24495716,\n",
       "        0.        ]], dtype=float32)>"
      ]
     },
     "execution_count": 53,
     "metadata": {},
     "output_type": "execute_result"
    }
   ],
   "source": [
    "output = dense(X_train_scl)\n",
    "output"
   ]
  },
  {
   "cell_type": "markdown",
   "metadata": {
    "hidden": true,
    "id": "P_uUVHWC0OZm"
   },
   "source": [
    "It is possible to **stack multiple layers** by passing the output of the previous layer to the next.\n",
    "\n",
    "**<font color='blue'>3. Create a second dense layer, with one neuron, a linear activation function and a bias.<br> This type of configuration is  typical of an output layer for a regression task.** "
   ]
  },
  {
   "cell_type": "code",
   "execution_count": 54,
   "metadata": {
    "colab": {
     "base_uri": "https://localhost:8080/"
    },
    "executionInfo": {
     "elapsed": 4,
     "status": "ok",
     "timestamp": 1681199959991,
     "user": {
      "displayName": "Antoine Palisson",
      "userId": "06334333839821267204"
     },
     "user_tz": -120
    },
    "hidden": true,
    "id": "mEkX4baz03hm",
    "outputId": "5da1c324-a929-4a25-98a7-f8296509af8d"
   },
   "outputs": [
    {
     "data": {
      "text/plain": [
       "<tf.Tensor: shape=(14302, 1), dtype=float32, numpy=\n",
       "array([[0.41120896],\n",
       "       [0.14182791],\n",
       "       [0.64162236],\n",
       "       ...,\n",
       "       [0.5194485 ],\n",
       "       [0.39010593],\n",
       "       [0.18560134]], dtype=float32)>"
      ]
     },
     "execution_count": 54,
     "metadata": {},
     "output_type": "execute_result"
    }
   ],
   "source": [
    "dense = tf.keras.layers.Dense(8, activation='relu', use_bias=True)\n",
    "out = tf.keras.layers.Dense(1, activation='linear', use_bias=True)\n",
    "\n",
    "y = dense(X_train_scl)\n",
    "y = out(y)\n",
    "y"
   ]
  },
  {
   "cell_type": "markdown",
   "metadata": {
    "hidden": true,
    "id": "lI1oQ8cY1g5T"
   },
   "source": [
    "In TensorFlow Keras, **a model is a way of organizing layers into a complete graph of computations that transform input data into output predictions**. The `tf.keras.Model` class provides a high-level API for defining and training deep learning models in TensorFlow.\n",
    "\n",
    "***A `tf.keras.Model` is constructed by defining the input and output layers, and any hidden layers that are necessary.*** The input and output layers define the shape of the input data and the shape of the predicted output data, respectively. The hidden layers can be added as necessary to transform the data in the desired way.\n",
    "\n",
    "**The input layer can be defined using the `tf.keras.Input` class.**<br> The only mandatory parameter is the shape of the inputs (the number of features).<br> For a dataset with 15 features, the input layer of the model can be written as:\n",
    "\n",
    "```\n",
    "input_layer = tf.keras.Input(shape=(15,))\n",
    "```\n",
    "\n",
    "`tf.keras.Model` [*Documentation*](https://www.tensorflow.org/api_docs/python/tf/keras/Model)<br>\n",
    "`tf.keras.Input` [*Documentation*](https://www.tensorflow.org/api_docs/python/tf/keras/Input)\n",
    "\n",
    "**<font color='blue'>4.a. Create an input layer with the correct shape (housing dataset).**"
   ]
  },
  {
   "cell_type": "code",
   "execution_count": 55,
   "metadata": {
    "colab": {
     "base_uri": "https://localhost:8080/"
    },
    "executionInfo": {
     "elapsed": 3,
     "status": "ok",
     "timestamp": 1681199959991,
     "user": {
      "displayName": "Antoine Palisson",
      "userId": "06334333839821267204"
     },
     "user_tz": -120
    },
    "hidden": true,
    "id": "9CMXxxo_3Xhk",
    "outputId": "60305847-8ded-4c1c-b064-3a60b60abcf5"
   },
   "outputs": [
    {
     "data": {
      "text/plain": [
       "<KerasTensor: shape=(None, 13) dtype=float32 (created by layer 'input_3')>"
      ]
     },
     "execution_count": 55,
     "metadata": {},
     "output_type": "execute_result"
    }
   ],
   "source": [
    "input_layer = tf.keras.Input(shape=(X_train_scl.shape[1],))\n",
    "input_layer"
   ]
  },
  {
   "cell_type": "markdown",
   "metadata": {
    "hidden": true,
    "id": "fUTdh2Zr3mJx"
   },
   "source": [
    "In TensorFlow, you can chain layers together using a **functional model**. In a functional model, you define the input layer(s) and output layer(s), and then create a \"graph\" of layers that connect the input to the output. **Each layer in the graph takes the output of the previous layer as its input**, and produces an output that can be used as the input to the next layer.\n",
    "\n",
    "\n",
    "```\n",
    "output_1 = tf.keras.layers.Dense(...)(input)\n",
    "output_2 = tf.keras.layers.Dense(...)(output_1)\n",
    "output_3 = tf.keras.layers.Dense(...)(output_2)\n",
    "...\n",
    "```\n",
    "\n",
    "\n",
    "**<font color='blue'>4.b. Create one hidden layer with the tf.keras.Dense class with 8 neurons, a ReLU activation function and a bias.<br> This layer should take the output of the input_layer as input.**"
   ]
  },
  {
   "cell_type": "code",
   "execution_count": 56,
   "metadata": {
    "colab": {
     "base_uri": "https://localhost:8080/"
    },
    "executionInfo": {
     "elapsed": 485,
     "status": "ok",
     "timestamp": 1681199960474,
     "user": {
      "displayName": "Antoine Palisson",
      "userId": "06334333839821267204"
     },
     "user_tz": -120
    },
    "hidden": true,
    "id": "F89NltF_4Wbj",
    "outputId": "5be2581e-d4b9-46e4-9e75-82779b8743d2"
   },
   "outputs": [
    {
     "data": {
      "text/plain": [
       "<KerasTensor: shape=(None, 8) dtype=float32 (created by layer 'dense_10')>"
      ]
     },
     "execution_count": 56,
     "metadata": {},
     "output_type": "execute_result"
    }
   ],
   "source": [
    "hidden_layer = tf.keras.layers.Dense(8, activation='relu', use_bias=True)(input_layer)\n",
    "hidden_layer"
   ]
  },
  {
   "cell_type": "markdown",
   "metadata": {
    "hidden": true,
    "id": "G2vhAUQJ4s-V"
   },
   "source": [
    "**<font color='blue'>4.c. Finally, create one output layer with the tf.keras.Dense class with 1 neurons, a linear activation function and a bias.<br> This layer should take the output of the hidden layer as input..**"
   ]
  },
  {
   "cell_type": "code",
   "execution_count": 57,
   "metadata": {
    "colab": {
     "base_uri": "https://localhost:8080/"
    },
    "executionInfo": {
     "elapsed": 3,
     "status": "ok",
     "timestamp": 1681199960474,
     "user": {
      "displayName": "Antoine Palisson",
      "userId": "06334333839821267204"
     },
     "user_tz": -120
    },
    "hidden": true,
    "id": "XfguLoJl4yn0",
    "outputId": "99f1790c-8091-44f5-ab8a-d18bcdcd76e5"
   },
   "outputs": [
    {
     "data": {
      "text/plain": [
       "<KerasTensor: shape=(None, 1) dtype=float32 (created by layer 'dense_11')>"
      ]
     },
     "execution_count": 57,
     "metadata": {},
     "output_type": "execute_result"
    }
   ],
   "source": [
    "output_layer = tf.keras.layers.Dense(1, activation='linear', use_bias=True)(hidden_layer)\n",
    "output_layer"
   ]
  },
  {
   "cell_type": "markdown",
   "metadata": {
    "hidden": true,
    "id": "kz8_5j8X49rZ"
   },
   "source": [
    "**The `tf.keras.Model` class accepts three parameters: inputs, outputs and name.** <br>To create a Tensorflow Keras model, you need to specify the input layers in the inputs parameter and the output layers in the outputs parameter.\n",
    "\n",
    "```\n",
    "model = tf.keras.Model(inputs=..., outputs=...)\n",
    "```\n",
    "\n",
    "\n",
    "**<font color='blue'>5. Create the model using the tf.keras.Model class and the layers created at question 4.**"
   ]
  },
  {
   "cell_type": "code",
   "execution_count": 58,
   "metadata": {
    "executionInfo": {
     "elapsed": 1,
     "status": "ok",
     "timestamp": 1681199961709,
     "user": {
      "displayName": "Antoine Palisson",
      "userId": "06334333839821267204"
     },
     "user_tz": -120
    },
    "hidden": true,
    "id": "gqLnoq4a5UkX"
   },
   "outputs": [],
   "source": [
    "model = tf.keras.Model(inputs=input_layer,\n",
    "                       outputs=output_layer)"
   ]
  },
  {
   "cell_type": "markdown",
   "metadata": {
    "hidden": true,
    "id": "9yL5V0ET90Rn"
   },
   "source": [
    "You can check the model architecture using:\n",
    "\n",
    "\n",
    "*   the `summary()` method which is a convenient way to get a high-level architecture of the structure of the deep neural network model. \n",
    "*   the `plot_model()` function from `tf.keras.utils` that can be used to visualize the structure of a Keras model. It generates a diagram of the model architecture, which can be saved to a file or displayed on the screen. This function is particularly useful for visualizing complex models with multiple inputs or outputs, or models with branching or merging layers.\n",
    "\n",
    "```\n",
    "model.summary()\n",
    "tf.keras.utils.plot_model(model)\n",
    "```\n",
    "\n",
    "`summary()` [Documentation](https://www.tensorflow.org/api_docs/python/tf/keras/Model#summary)<br>\n",
    "`tf.keras.utils.plot_model()` [Documentation](https://www.tensorflow.org/api_docs/python/tf/keras/utils/plot_model)\n",
    "\n",
    "\n",
    "\n",
    "**<font color='blue'>6.a. Use the `summary()` method on your model.<br>Pay attention to the different elements of the output.**"
   ]
  },
  {
   "cell_type": "code",
   "execution_count": 59,
   "metadata": {
    "colab": {
     "base_uri": "https://localhost:8080/"
    },
    "executionInfo": {
     "elapsed": 4,
     "status": "ok",
     "timestamp": 1681199962989,
     "user": {
      "displayName": "Antoine Palisson",
      "userId": "06334333839821267204"
     },
     "user_tz": -120
    },
    "hidden": true,
    "id": "shfA7tdM-vBK",
    "outputId": "af107af0-b90e-4f4d-b02b-659f6bf09c57"
   },
   "outputs": [
    {
     "name": "stdout",
     "output_type": "stream",
     "text": [
      "Model: \"model_3\"\n",
      "_________________________________________________________________\n",
      " Layer (type)                Output Shape              Param #   \n",
      "=================================================================\n",
      " input_3 (InputLayer)        [(None, 13)]              0         \n",
      "                                                                 \n",
      " dense_10 (Dense)            (None, 8)                 112       \n",
      "                                                                 \n",
      " dense_11 (Dense)            (None, 1)                 9         \n",
      "                                                                 \n",
      "=================================================================\n",
      "Total params: 121\n",
      "Trainable params: 121\n",
      "Non-trainable params: 0\n",
      "_________________________________________________________________\n"
     ]
    }
   ],
   "source": [
    "model.summary()"
   ]
  },
  {
   "cell_type": "markdown",
   "metadata": {
    "hidden": true,
    "id": "RCLURnDI-zpr"
   },
   "source": [
    "**<font color='blue'>6.b. Use the `plot_model()` function on your model.**"
   ]
  },
  {
   "cell_type": "code",
   "execution_count": 60,
   "metadata": {
    "colab": {
     "base_uri": "https://localhost:8080/",
     "height": 312
    },
    "executionInfo": {
     "elapsed": 3,
     "status": "ok",
     "timestamp": 1681199962989,
     "user": {
      "displayName": "Antoine Palisson",
      "userId": "06334333839821267204"
     },
     "user_tz": -120
    },
    "hidden": true,
    "id": "4shMtO8f-7ME",
    "outputId": "a9465dc0-4f23-4441-8c0b-d7af55c2f179"
   },
   "outputs": [
    {
     "data": {
      "image/png": "[encoded data removed]",
      "text/plain": [
       "<IPython.core.display.Image object>"
      ]
     },
     "execution_count": 60,
     "metadata": {},
     "output_type": "execute_result"
    }
   ],
   "source": [
    "tf.keras.utils.plot_model(model, show_shapes=True)"
   ]
  },
  {
   "cell_type": "markdown",
   "metadata": {
    "hidden": true,
    "id": "54b_U0NBomYL"
   },
   "source": [
    "## Training"
   ]
  },
  {
   "cell_type": "markdown",
   "metadata": {
    "hidden": true,
    "id": "Dd4ablpW_2Y-"
   },
   "source": [
    "Before starting the training, we need to specify the loss function, Gradient Descent the algorithm we want to use and the metrics.\n",
    "\n",
    "The `compile()` method is a function in TensorFlow that is used to configure the learning process of a model by specifying the loss, the metrics and the optimizer. It is typically called after a model has been defined, but before it has been trained on any data.\n",
    "\n",
    "The `compile()` method allows you to specify the following important parameters:\n",
    "\n",
    "*   **optimizer**: The optimizer is the algorithm that is used to update the weights of the neural network during training. Some common optimizers include stochastic gradient descent (SGD), Adam, and Adagrad. Tensorflow keras already has builtin losses that you can find in the `tf.keras.optimizers` class.\n",
    "\n",
    "*   **loss**: The loss function is a metric that is used to measure the difference between the predicted output of the model and the true output. The loss function is used by the optimizer to adjust the weights of the neural network to minimize the difference between the predicted and true output. Some common loss functions include mean squared error, categorical cross-entropy, and binary cross-entropy. Tensorflow keras already has builtin losses that you can find in the `tf.keras.losses` class.\n",
    "\n",
    "*   **metrics**: Metrics are used to measure the performance of the model during training and testing. Some common metrics include accuracy, precision, recall, and F1 score. Tensorflow keras already has builtin losses that you can find in the `tf.keras.metrics` class.\n",
    "\n",
    "```\n",
    "model.compile(loss=...,\n",
    "              optimizer=...,\n",
    "              metrics=[...])\n",
    "```\n",
    "\n",
    "In this exercise, we will use the **MSE loss** ([Documentation](https://www.tensorflow.org/api_docs/python/tf/keras/losses/MeanSquaredError)) and the **SGD optimizer** ([Documentation](https://www.tensorflow.org/api_docs/python/tf/keras/optimizers/experimental/SGD)) with a **learning rate of 0.01**.<br> You can add the `learning_rate` parameter directly inside the SGD optimizer.\n",
    "\n",
    "`compile()` [Documentation](https://www.tensorflow.org/api_docs/python/tf/keras/Model#compile)\n",
    "\n",
    "\n",
    "**<font color='blue'>1. Provide the model with its loss and its optimizer using the `compile()` method.**"
   ]
  },
  {
   "cell_type": "code",
   "execution_count": 61,
   "metadata": {
    "executionInfo": {
     "elapsed": 2,
     "status": "ok",
     "timestamp": 1681199962989,
     "user": {
      "displayName": "Antoine Palisson",
      "userId": "06334333839821267204"
     },
     "user_tz": -120
    },
    "hidden": true,
    "id": "JN2WoGNzos2K"
   },
   "outputs": [],
   "source": [
    "model.compile(loss=tf.keras.losses.MeanSquaredError(),\n",
    "              optimizer=tf.keras.optimizers.experimental.SGD(learning_rate=0.01))"
   ]
  },
  {
   "cell_type": "markdown",
   "metadata": {
    "hidden": true,
    "id": "D98oWHjPENZh"
   },
   "source": [
    "Now, you are ready to train the model.\n",
    "\n",
    "The `fit()` method is a function in TensorFlow that is used to train a neural network model on a given dataset. It is typically called after the model has been defined and compiled, and it is used to optimize the weights of the model so that it can make accurate predictions on new data.\n",
    "\n",
    "The `fit()` method allows you to specify the following important parameters:\n",
    "\n",
    "* **x**: The input data to train the model on. This can be a Numpy array or a TensorFlow Dataset.\n",
    "\n",
    "* **y**: The target labels for the input data. This can also be a Numpy array or a TensorFlow Dataset.\n",
    "\n",
    "* **batch_size**: The number of samples that are used in each iteration of training. This can be an integer or None.\n",
    "\n",
    "* **epochs**: The number of times to iterate over the entire dataset. This can be an integer or None.\n",
    "\n",
    "* **validation_data**: The validation data to use during training. This can be a tuple of x_val and y_val, or a TensorFlow Dataset.\n",
    "\n",
    "* **callbacks**: A list of callback functions to use during training. This can include functions to save the weights of the model, or to stop training early if the performance of the model stops improving.\n",
    "\n",
    "The `fit()` method returns a **History object** that contains information about the training history of the model, such as the loss and accuracy metrics on the training and validation data at each epoch. You can use this information to monitor the performance of the model during training and make decisions about when to stop training or adjust the model parameters.\n",
    "\n",
    "```\n",
    "history = model.fit(x=...,\n",
    "                    y=...,\n",
    "                    batch_size=...,\n",
    "                    epochs=...,\n",
    "                    validation_data=(x_val, y_val),\n",
    "                    callbacks=[...])\n",
    "```\n",
    "\n",
    "\n",
    "`fit()` [Documentation](https://www.tensorflow.org/api_docs/python/tf/keras/Model#fit)\n",
    "\n",
    "**<font color='blue'>2. Train the model with batch_size=32 and epochs=25.<br> Store the result of the `fit()` method in a variable.**\n",
    "\n",
    "*Tips: Don't forget to fill the `validation_data` parameter with the validation set.*"
   ]
  },
  {
   "cell_type": "code",
   "execution_count": 62,
   "metadata": {
    "colab": {
     "base_uri": "https://localhost:8080/"
    },
    "executionInfo": {
     "elapsed": 26024,
     "status": "ok",
     "timestamp": 1681199990334,
     "user": {
      "displayName": "Antoine Palisson",
      "userId": "06334333839821267204"
     },
     "user_tz": -120
    },
    "hidden": true,
    "id": "caxpol1jD_6J",
    "outputId": "e7bcd545-e0d5-4c8e-9947-ea6a6b369f93"
   },
   "outputs": [
    {
     "name": "stdout",
     "output_type": "stream",
     "text": [
      "Epoch 1/25\n",
      "447/447 [==============================] - 2s 3ms/step - loss: 0.5545 - val_loss: 0.4037\n",
      "Epoch 2/25\n",
      "447/447 [==============================] - 1s 2ms/step - loss: 0.3770 - val_loss: 0.3507\n",
      "Epoch 3/25\n",
      "447/447 [==============================] - 1s 2ms/step - loss: 0.3477 - val_loss: 0.3316\n",
      "Epoch 4/25\n",
      "447/447 [==============================] - 1s 2ms/step - loss: 0.3366 - val_loss: 0.3199\n",
      "Epoch 5/25\n",
      "447/447 [==============================] - 1s 2ms/step - loss: 0.3292 - val_loss: 0.3139\n",
      "Epoch 6/25\n",
      "447/447 [==============================] - 1s 2ms/step - loss: 0.3230 - val_loss: 0.3051\n",
      "Epoch 7/25\n",
      "447/447 [==============================] - 1s 2ms/step - loss: 0.3180 - val_loss: 0.3001\n",
      "Epoch 8/25\n",
      "447/447 [==============================] - 1s 2ms/step - loss: 0.3131 - val_loss: 0.2950\n",
      "Epoch 9/25\n",
      "447/447 [==============================] - 1s 2ms/step - loss: 0.3096 - val_loss: 0.2912\n",
      "Epoch 10/25\n",
      "447/447 [==============================] - 1s 2ms/step - loss: 0.3056 - val_loss: 0.2882\n",
      "Epoch 11/25\n",
      "447/447 [==============================] - 1s 2ms/step - loss: 0.3032 - val_loss: 0.2865\n",
      "Epoch 12/25\n",
      "447/447 [==============================] - 1s 2ms/step - loss: 0.3003 - val_loss: 0.2866\n",
      "Epoch 13/25\n",
      "447/447 [==============================] - 1s 2ms/step - loss: 0.2983 - val_loss: 0.2821\n",
      "Epoch 14/25\n",
      "447/447 [==============================] - 1s 2ms/step - loss: 0.2959 - val_loss: 0.2779\n",
      "Epoch 15/25\n",
      "447/447 [==============================] - 1s 2ms/step - loss: 0.2947 - val_loss: 0.2771\n",
      "Epoch 16/25\n",
      "447/447 [==============================] - 1s 2ms/step - loss: 0.2931 - val_loss: 0.2762\n",
      "Epoch 17/25\n",
      "447/447 [==============================] - 1s 2ms/step - loss: 0.2917 - val_loss: 0.2735\n",
      "Epoch 18/25\n",
      "447/447 [==============================] - 1s 2ms/step - loss: 0.2900 - val_loss: 0.2746\n",
      "Epoch 19/25\n",
      "447/447 [==============================] - 1s 2ms/step - loss: 0.2892 - val_loss: 0.2751\n",
      "Epoch 20/25\n",
      "447/447 [==============================] - 1s 2ms/step - loss: 0.2882 - val_loss: 0.2754\n",
      "Epoch 21/25\n",
      "447/447 [==============================] - 1s 2ms/step - loss: 0.2872 - val_loss: 0.2739\n",
      "Epoch 22/25\n",
      "447/447 [==============================] - 1s 2ms/step - loss: 0.2862 - val_loss: 0.2740\n",
      "Epoch 23/25\n",
      "447/447 [==============================] - 1s 2ms/step - loss: 0.2863 - val_loss: 0.2765\n",
      "Epoch 24/25\n",
      "447/447 [==============================] - 1s 2ms/step - loss: 0.2852 - val_loss: 0.2711\n",
      "Epoch 25/25\n",
      "447/447 [==============================] - 1s 2ms/step - loss: 0.2848 - val_loss: 0.2745\n"
     ]
    }
   ],
   "source": [
    "history = model.fit(X_train_scl, y_train_scl,\n",
    "                    batch_size=32,\n",
    "                    epochs=25,\n",
    "                    validation_data=(X_val_scl, y_val_scl))"
   ]
  },
  {
   "cell_type": "markdown",
   "metadata": {
    "hidden": true,
    "id": "SQ3zRODpGGq-"
   },
   "source": [
    "It is important to look at the **learning curves** (*the training and the validation loss curves*) after the training step.\n",
    "\n",
    "The `fit()` method in TensorFlow **returns a dictionary that contains the training and validation metrics (including the loss) for the model**. The keys of the dictionary correspond to the names of the metrics that were monitored during training, and the values are lists that contain the metric values at each epoch. When no metrics is provided to the model, the dictionary contains at least the loss of the model:\n",
    "\n",
    "* **loss**: The training loss for each epoch.\n",
    "\n",
    "* **val_loss**: The validation loss for each epoch.\n",
    "\n",
    "```\n",
    "history = model.fit(...)\n",
    "metrics_dict = history.history\n",
    "```\n",
    "\n",
    "\n",
    "\n",
    "**<font color='blue'>3. Get the training and the validation losses and display them on a line graph using Matplotlib.**"
   ]
  },
  {
   "cell_type": "code",
   "execution_count": 63,
   "metadata": {
    "colab": {
     "base_uri": "https://localhost:8080/",
     "height": 676
    },
    "executionInfo": {
     "elapsed": 924,
     "status": "ok",
     "timestamp": 1681199991249,
     "user": {
      "displayName": "Antoine Palisson",
      "userId": "06334333839821267204"
     },
     "user_tz": -120
    },
    "hidden": true,
    "id": "i_exOn_mGV63",
    "outputId": "d505c804-0be0-4f3e-ae8c-f6e2cebe3401"
   },
   "outputs": [
    {
     "data": {
      "image/png": "[encoded data removed]",
      "text/plain": [
       "<Figure size 1500x800 with 1 Axes>"
      ]
     },
     "metadata": {},
     "output_type": "display_data"
    }
   ],
   "source": [
    "loss = history.history\n",
    "\n",
    "plt.figure(figsize=(15,8))\n",
    "\n",
    "plt.plot(np.arange(1,26), loss['loss'], label='Training Loss')\n",
    "plt.plot(np.arange(1,26), loss['val_loss'], label='Validation Loss')\n",
    "\n",
    "plt.legend(fontsize=16)\n",
    "plt.show()"
   ]
  },
  {
   "cell_type": "markdown",
   "metadata": {
    "hidden": true,
    "id": "ghxiF9z5oncv"
   },
   "source": [
    "## Prediction"
   ]
  },
  {
   "cell_type": "markdown",
   "metadata": {
    "hidden": true,
    "id": "RiL_ypn9HrKW"
   },
   "source": [
    "**The `evaluate()` and `predict()` methods are functions in TensorFlow that are used to test a trained neural network model on new data**. These methods can be called after the model has been trained using the `fit()` method.\n",
    "\n",
    "The `evaluate()` method is used to evaluate the performance of the model on a test dataset. It takes as input the test data and returns the loss and metrics for the model. It allows you to evaluate the performance of the model on data that it has not seen during training.\n",
    "\n",
    "```\n",
    "# It takes both the features and the labels\n",
    "model.evaluate(x=..., y=...)\n",
    "```\n",
    "\n",
    "`evaluate()` [Documentation](https://www.tensorflow.org/api_docs/python/tf/keras/Model#evaluate)\n",
    "\n",
    "**<font color='blue'>1.a. Use the `evaluate()` method to evalate the performances of the model on the test set.**"
   ]
  },
  {
   "cell_type": "code",
   "execution_count": 64,
   "metadata": {
    "colab": {
     "base_uri": "https://localhost:8080/"
    },
    "executionInfo": {
     "elapsed": 11,
     "status": "ok",
     "timestamp": 1681199991250,
     "user": {
      "displayName": "Antoine Palisson",
      "userId": "06334333839821267204"
     },
     "user_tz": -120
    },
    "hidden": true,
    "id": "YUrr32Thoqsu",
    "outputId": "2efca55b-bf3f-414d-8d9c-0006288b9ea1"
   },
   "outputs": [
    {
     "name": "stdout",
     "output_type": "stream",
     "text": [
      "128/128 [==============================] - 0s 2ms/step - loss: 0.2898\n"
     ]
    },
    {
     "data": {
      "text/plain": [
       "0.2898475229740143"
      ]
     },
     "execution_count": 64,
     "metadata": {},
     "output_type": "execute_result"
    }
   ],
   "source": [
    "model.evaluate(X_test_scl, y_test_scl)"
   ]
  },
  {
   "cell_type": "markdown",
   "metadata": {
    "hidden": true,
    "id": "v9Jc6cQEIcsJ"
   },
   "source": [
    "The `predict()` method is used to generate predictions from the trained model on new data. It takes as input the test data and returns the predicted output of the model. It allows you to use the trained model to make predictions on new data.\n",
    "\n",
    "```\n",
    "# It only takes the features\n",
    "model.predict(x=...)\n",
    "```\n",
    "\n",
    "`predict()` [Documentation](https://www.tensorflow.org/api_docs/python/tf/keras/Model#predict)\n",
    "\n",
    "**<font color='blue'>1.b. Use the `predict()` method to evaluate the performances of the model on the test set.**"
   ]
  },
  {
   "cell_type": "code",
   "execution_count": 65,
   "metadata": {
    "colab": {
     "base_uri": "https://localhost:8080/"
    },
    "executionInfo": {
     "elapsed": 784,
     "status": "ok",
     "timestamp": 1681199992029,
     "user": {
      "displayName": "Antoine Palisson",
      "userId": "06334333839821267204"
     },
     "user_tz": -120
    },
    "hidden": true,
    "id": "EbV0mEqNIz4O",
    "outputId": "7f75c7eb-5e99-4cbf-e573-9c562a958827"
   },
   "outputs": [
    {
     "name": "stdout",
     "output_type": "stream",
     "text": [
      "128/128 [==============================] - 0s 1ms/step\n"
     ]
    },
    {
     "data": {
      "text/plain": [
       "array([[ 0.03224438],\n",
       "       [-0.23561525],\n",
       "       [ 0.09690529],\n",
       "       ...,\n",
       "       [-0.88318384],\n",
       "       [-0.60945326],\n",
       "       [-0.52815723]], dtype=float32)"
      ]
     },
     "execution_count": 65,
     "metadata": {},
     "output_type": "execute_result"
    }
   ],
   "source": [
    "y_pred = model.predict(X_test_scl)\n",
    "y_pred"
   ]
  },
  {
   "cell_type": "markdown",
   "metadata": {
    "hidden": true,
    "id": "LIT_7CmMI36U"
   },
   "source": [
    "The predictions are in the standardized format.\n",
    "\n",
    "**<font color='blue'>2.a. Apply the inverse preprocessing transformation on the predictions.**\n",
    "\n",
    "*Tips: The sklearn preprocessing functions provide an `inverse_transform` method.*"
   ]
  },
  {
   "cell_type": "code",
   "execution_count": 66,
   "metadata": {
    "colab": {
     "base_uri": "https://localhost:8080/"
    },
    "executionInfo": {
     "elapsed": 7,
     "status": "ok",
     "timestamp": 1681199992029,
     "user": {
      "displayName": "Antoine Palisson",
      "userId": "06334333839821267204"
     },
     "user_tz": -120
    },
    "hidden": true,
    "id": "TBVtYnxOJKqx",
    "outputId": "5169eb2b-934a-41e7-f202-8241e3d172ef"
   },
   "outputs": [
    {
     "data": {
      "text/plain": [
       "array([[210595.  ],\n",
       "       [179781.  ],\n",
       "       [218033.45],\n",
       "       ...,\n",
       "       [105286.11],\n",
       "       [136775.48],\n",
       "       [146127.61]], dtype=float32)"
      ]
     },
     "execution_count": 66,
     "metadata": {},
     "output_type": "execute_result"
    }
   ],
   "source": [
    "y_pred = lbl_std.inverse_transform(y_pred)\n",
    "y_pred"
   ]
  },
  {
   "cell_type": "markdown",
   "metadata": {
    "hidden": true,
    "id": "QTV6Fa0pJwby"
   },
   "source": [
    "**<font color='blue'>2.b. Compute the RMSE score.**\n",
    "\n",
    "*Tips: You can get the RMSE function from the sklearn library.*"
   ]
  },
  {
   "cell_type": "code",
   "execution_count": 67,
   "metadata": {
    "colab": {
     "base_uri": "https://localhost:8080/"
    },
    "executionInfo": {
     "elapsed": 3,
     "status": "ok",
     "timestamp": 1681199992029,
     "user": {
      "displayName": "Antoine Palisson",
      "userId": "06334333839821267204"
     },
     "user_tz": -120
    },
    "hidden": true,
    "id": "t7mqgQfoJ2Tp",
    "outputId": "db42f5fc-090a-4a55-e29c-26ce59b3cbfa"
   },
   "outputs": [
    {
     "data": {
      "text/plain": [
       "61933.48848349738"
      ]
     },
     "execution_count": 67,
     "metadata": {},
     "output_type": "execute_result"
    }
   ],
   "source": [
    "from sklearn.metrics import mean_squared_error\n",
    "rmse = np.sqrt(mean_squared_error(y_pred, y_test))\n",
    "rmse"
   ]
  },
  {
   "cell_type": "markdown",
   "metadata": {
    "id": "DWF6LYZhuUKm"
   },
   "source": [
    "# Classification"
   ]
  },
  {
   "cell_type": "markdown",
   "metadata": {
    "id": "OVkC-3AE9EW3"
   },
   "source": [
    "The MLP architecture, the loss and the metrics are different for classification tasks.\n",
    "\n",
    "**<font color='blue'>Build and train an MLP model for the breast dataset.**\n",
    "\n",
    "*Tips: Don't forget to use the correct cross-entropy and the correct output layer activation function.*"
   ]
  },
  {
   "cell_type": "code",
   "execution_count": 75,
   "metadata": {
    "executionInfo": {
     "elapsed": 2,
     "status": "ok",
     "timestamp": 1681202580246,
     "user": {
      "displayName": "Antoine Palisson",
      "userId": "06334333839821267204"
     },
     "user_tz": -120
    },
    "id": "7b2GkEHhuVge"
   },
   "outputs": [],
   "source": [
    "from sklearn.model_selection import train_test_split\n",
    "from sklearn.preprocessing import StandardScaler, LabelEncoder\n",
    "from sklearn.metrics import accuracy_score, f1_score\n",
    "\n",
    "# Dataset\n",
    "def dataset(target_name, test_size, val_size):\n",
    "\n",
    "    # Splitting\n",
    "    trainset, testset = train_test_split(breast, test_size=test_size, random_state=42)\n",
    "    trainset, valset = train_test_split(trainset, test_size=val_size/(1-test_size), random_state=42)\n",
    "    trainset.shape, valset.shape, testset.shape\n",
    "\n",
    "    # Feature/Labels\n",
    "    sets = {'X_train' : trainset.drop(columns=[target_name]),\n",
    "            'y_train' : trainset[target_name].to_numpy(),\n",
    "            'X_val' : valset.drop(columns=[target_name]),\n",
    "            'y_val' : valset[target_name].to_numpy(),\n",
    "            'X_test' : testset.drop(columns=[target_name]),\n",
    "            'y_test' : testset[target_name].to_numpy()}\n",
    "\n",
    "    # Standardization\n",
    "    std = StandardScaler()\n",
    "    sets['X_train'] = std.fit_transform(sets['X_train'])\n",
    "    sets['X_val'] = std.fit_transform(sets['X_val'])\n",
    "    sets['X_test'] = std.fit_transform(sets['X_test'])\n",
    "\n",
    "    # Label Encoder\n",
    "    lbl = LabelEncoder()\n",
    "    sets['y_train'] = lbl.fit_transform(sets['y_train'])\n",
    "    sets['y_val'] = lbl.fit_transform(sets['y_val'])\n",
    "    sets['y_test'] = lbl.fit_transform(sets['y_test'])\n",
    "\n",
    "    steps = {'std':std, 'lbl':lbl}\n",
    "\n",
    "    return sets, steps\n",
    "\n",
    "sets, steps = dataset(target_name='Class',\n",
    "                      test_size=0.1,\n",
    "                      val_size=0.1)"
   ]
  },
  {
   "cell_type": "code",
   "execution_count": 90,
   "metadata": {
    "colab": {
     "base_uri": "https://localhost:8080/"
    },
    "executionInfo": {
     "elapsed": 5,
     "status": "ok",
     "timestamp": 1681202817588,
     "user": {
      "displayName": "Antoine Palisson",
      "userId": "06334333839821267204"
     },
     "user_tz": -120
    },
    "id": "mats0XXT2_PO",
    "outputId": "01e361e9-15f9-4009-a25e-1010e12d720a"
   },
   "outputs": [
    {
     "name": "stdout",
     "output_type": "stream",
     "text": [
      "Model: \"sequential\"\n",
      "_________________________________________________________________\n",
      " Layer (type)                Output Shape              Param #   \n",
      "=================================================================\n",
      " dense (Dense)               (None, 8)                 248       \n",
      "                                                                 \n",
      " dense_1 (Dense)             (None, 8)                 72        \n",
      "                                                                 \n",
      " dense_2 (Dense)             (None, 1)                 9         \n",
      "                                                                 \n",
      "=================================================================\n",
      "Total params: 329\n",
      "Trainable params: 329\n",
      "Non-trainable params: 0\n",
      "_________________________________________________________________\n"
     ]
    }
   ],
   "source": [
    "# Model Architecture\n",
    "tf.keras.backend.clear_session()\n",
    "\n",
    "model = tf.keras.Sequential([tf.keras.Input(shape=(sets['X_train'].shape[1])),\n",
    "                             tf.keras.layers.Dense(units=8, activation='relu'),\n",
    "                             tf.keras.layers.Dense(units=8, activation='relu'),\n",
    "                             tf.keras.layers.Dense(units=1, activation='sigmoid')])\n",
    "\n",
    "model.compile(loss=tf.keras.losses.BinaryCrossentropy(),\n",
    "              optimizer=1(learning_rate=0.01),\n",
    "              metrics=[tf.keras.metrics.BinaryAccuracy()])\n",
    "\n",
    "model.summary()"
   ]
  },
  {
   "cell_type": "code",
   "execution_count": 91,
   "metadata": {
    "colab": {
     "base_uri": "https://localhost:8080/"
    },
    "executionInfo": {
     "elapsed": 4675,
     "status": "ok",
     "timestamp": 1681202822743,
     "user": {
      "displayName": "Antoine Palisson",
      "userId": "06334333839821267204"
     },
     "user_tz": -120
    },
    "id": "8-_dikBA6Qkg",
    "outputId": "48345a57-663e-4315-ccad-c469a0ac9ea1"
   },
   "outputs": [
    {
     "name": "stdout",
     "output_type": "stream",
     "text": [
      "Epoch 1/30\n",
      "29/29 [==============================] - 1s 9ms/step - loss: 0.6367 - binary_accuracy: 0.7187 - val_loss: 0.5716 - val_binary_accuracy: 0.8246\n",
      "Epoch 2/30\n",
      "29/29 [==============================] - 0s 4ms/step - loss: 0.5704 - binary_accuracy: 0.7912 - val_loss: 0.5048 - val_binary_accuracy: 0.8596\n",
      "Epoch 3/30\n",
      "29/29 [==============================] - 0s 4ms/step - loss: 0.5070 - binary_accuracy: 0.8220 - val_loss: 0.4387 - val_binary_accuracy: 0.9123\n",
      "Epoch 4/30\n",
      "29/29 [==============================] - 0s 4ms/step - loss: 0.4446 - binary_accuracy: 0.8769 - val_loss: 0.3798 - val_binary_accuracy: 0.9123\n",
      "Epoch 5/30\n",
      "29/29 [==============================] - 0s 4ms/step - loss: 0.3884 - binary_accuracy: 0.8967 - val_loss: 0.3283 - val_binary_accuracy: 0.9123\n",
      "Epoch 6/30\n",
      "29/29 [==============================] - 0s 4ms/step - loss: 0.3393 - binary_accuracy: 0.9099 - val_loss: 0.2854 - val_binary_accuracy: 0.9298\n",
      "Epoch 7/30\n",
      "29/29 [==============================] - 0s 4ms/step - loss: 0.2983 - binary_accuracy: 0.9231 - val_loss: 0.2513 - val_binary_accuracy: 0.9298\n",
      "Epoch 8/30\n",
      "29/29 [==============================] - 0s 4ms/step - loss: 0.2652 - binary_accuracy: 0.9297 - val_loss: 0.2242 - val_binary_accuracy: 0.9298\n",
      "Epoch 9/30\n",
      "29/29 [==============================] - 0s 4ms/step - loss: 0.2386 - binary_accuracy: 0.9319 - val_loss: 0.2032 - val_binary_accuracy: 0.9298\n",
      "Epoch 10/30\n",
      "29/29 [==============================] - 0s 4ms/step - loss: 0.2173 - binary_accuracy: 0.9363 - val_loss: 0.1870 - val_binary_accuracy: 0.9298\n",
      "Epoch 11/30\n",
      "29/29 [==============================] - 0s 4ms/step - loss: 0.2000 - binary_accuracy: 0.9429 - val_loss: 0.1743 - val_binary_accuracy: 0.9649\n",
      "Epoch 12/30\n",
      "29/29 [==============================] - 0s 4ms/step - loss: 0.1856 - binary_accuracy: 0.9429 - val_loss: 0.1645 - val_binary_accuracy: 0.9649\n",
      "Epoch 13/30\n",
      "29/29 [==============================] - 0s 4ms/step - loss: 0.1736 - binary_accuracy: 0.9429 - val_loss: 0.1562 - val_binary_accuracy: 0.9649\n",
      "Epoch 14/30\n",
      "29/29 [==============================] - 0s 4ms/step - loss: 0.1632 - binary_accuracy: 0.9429 - val_loss: 0.1492 - val_binary_accuracy: 0.9649\n",
      "Epoch 15/30\n",
      "29/29 [==============================] - 0s 4ms/step - loss: 0.1547 - binary_accuracy: 0.9451 - val_loss: 0.1429 - val_binary_accuracy: 0.9649\n",
      "Epoch 16/30\n",
      "29/29 [==============================] - 0s 4ms/step - loss: 0.1474 - binary_accuracy: 0.9473 - val_loss: 0.1380 - val_binary_accuracy: 0.9649\n",
      "Epoch 17/30\n",
      "29/29 [==============================] - 0s 4ms/step - loss: 0.1410 - binary_accuracy: 0.9516 - val_loss: 0.1339 - val_binary_accuracy: 0.9649\n",
      "Epoch 18/30\n",
      "29/29 [==============================] - 0s 4ms/step - loss: 0.1353 - binary_accuracy: 0.9538 - val_loss: 0.1305 - val_binary_accuracy: 0.9649\n",
      "Epoch 19/30\n",
      "29/29 [==============================] - 0s 4ms/step - loss: 0.1302 - binary_accuracy: 0.9538 - val_loss: 0.1277 - val_binary_accuracy: 0.9649\n",
      "Epoch 20/30\n",
      "29/29 [==============================] - 0s 4ms/step - loss: 0.1255 - binary_accuracy: 0.9538 - val_loss: 0.1254 - val_binary_accuracy: 0.9825\n",
      "Epoch 21/30\n",
      "29/29 [==============================] - 0s 4ms/step - loss: 0.1212 - binary_accuracy: 0.9560 - val_loss: 0.1233 - val_binary_accuracy: 0.9825\n",
      "Epoch 22/30\n",
      "29/29 [==============================] - 0s 4ms/step - loss: 0.1174 - binary_accuracy: 0.9560 - val_loss: 0.1218 - val_binary_accuracy: 0.9825\n",
      "Epoch 23/30\n",
      "29/29 [==============================] - 0s 4ms/step - loss: 0.1137 - binary_accuracy: 0.9560 - val_loss: 0.1201 - val_binary_accuracy: 0.9825\n",
      "Epoch 24/30\n",
      "29/29 [==============================] - 0s 4ms/step - loss: 0.1103 - binary_accuracy: 0.9560 - val_loss: 0.1190 - val_binary_accuracy: 0.9825\n",
      "Epoch 25/30\n",
      "29/29 [==============================] - 0s 4ms/step - loss: 0.1071 - binary_accuracy: 0.9560 - val_loss: 0.1181 - val_binary_accuracy: 0.9825\n",
      "Epoch 26/30\n",
      "29/29 [==============================] - 0s 4ms/step - loss: 0.1040 - binary_accuracy: 0.9560 - val_loss: 0.1174 - val_binary_accuracy: 0.9825\n",
      "Epoch 27/30\n",
      "29/29 [==============================] - 0s 4ms/step - loss: 0.1011 - binary_accuracy: 0.9560 - val_loss: 0.1169 - val_binary_accuracy: 0.9825\n",
      "Epoch 28/30\n",
      "29/29 [==============================] - 0s 4ms/step - loss: 0.0982 - binary_accuracy: 0.9560 - val_loss: 0.1165 - val_binary_accuracy: 0.9825\n",
      "Epoch 29/30\n",
      "29/29 [==============================] - 0s 4ms/step - loss: 0.0956 - binary_accuracy: 0.9560 - val_loss: 0.1162 - val_binary_accuracy: 0.9825\n",
      "Epoch 30/30\n",
      "29/29 [==============================] - 0s 4ms/step - loss: 0.0930 - binary_accuracy: 0.9582 - val_loss: 0.1160 - val_binary_accuracy: 0.9825\n"
     ]
    }
   ],
   "source": [
    "# Model Training\n",
    "history = model.fit(sets['X_train'], sets['y_train'],\n",
    "                    epochs=30,\n",
    "                    batch_size=16,\n",
    "                    validation_data=(sets['X_val'], sets['y_val']))"
   ]
  },
  {
   "cell_type": "code",
   "execution_count": 93,
   "metadata": {
    "colab": {
     "base_uri": "https://localhost:8080/",
     "height": 0
    },
    "executionInfo": {
     "elapsed": 6,
     "status": "ok",
     "timestamp": 1681202832324,
     "user": {
      "displayName": "Antoine Palisson",
      "userId": "06334333839821267204"
     },
     "user_tz": -120
    },
    "id": "1-zuLkyM-WV8",
    "outputId": "598f543c-ae8e-4343-d48c-862074035c83"
   },
   "outputs": [
    {
     "data": {
      "image/png": "[encoded data removed]",
      "text/plain": [
       "<Figure size 1500x800 with 1 Axes>"
      ]
     },
     "metadata": {},
     "output_type": "display_data"
    }
   ],
   "source": [
    "loss = history.history\n",
    "\n",
    "plt.figure(figsize=(15,8))\n",
    "\n",
    "plt.plot(np.arange(1,31), loss['loss'], label='Training Loss')\n",
    "plt.plot(np.arange(1,31), loss['val_loss'], label='Validation Loss')\n",
    "\n",
    "plt.legend(fontsize=16)\n",
    "plt.show()"
   ]
  },
  {
   "cell_type": "code",
   "execution_count": 94,
   "metadata": {
    "colab": {
     "base_uri": "https://localhost:8080/"
    },
    "executionInfo": {
     "elapsed": 5,
     "status": "ok",
     "timestamp": 1681202836674,
     "user": {
      "displayName": "Antoine Palisson",
      "userId": "06334333839821267204"
     },
     "user_tz": -120
    },
    "id": "SsYceCqo7RvW",
    "outputId": "eabdb8c8-abe4-4cb3-f01d-a3924fd8669f"
   },
   "outputs": [
    {
     "name": "stdout",
     "output_type": "stream",
     "text": [
      "2/2 [==============================] - 0s 6ms/step - loss: 0.1448 - binary_accuracy: 0.9474\n"
     ]
    },
    {
     "data": {
      "text/plain": [
       "[0.1448373645544052, 0.9473684430122375]"
      ]
     },
     "execution_count": 94,
     "metadata": {},
     "output_type": "execute_result"
    }
   ],
   "source": [
    "model.evaluate(sets['X_test'], sets['y_test'])"
   ]
  },
  {
   "cell_type": "code",
   "execution_count": 95,
   "metadata": {
    "colab": {
     "base_uri": "https://localhost:8080/"
    },
    "executionInfo": {
     "elapsed": 5,
     "status": "ok",
     "timestamp": 1681202839437,
     "user": {
      "displayName": "Antoine Palisson",
      "userId": "06334333839821267204"
     },
     "user_tz": -120
    },
    "id": "SYPgSusg7nZG",
    "outputId": "cf121523-58ec-444d-a60d-14953469a423"
   },
   "outputs": [
    {
     "name": "stdout",
     "output_type": "stream",
     "text": [
      "2/2 [==============================] - 0s 3ms/step\n",
      "Accuracy : 0.9090909090909091 - F1 score : 0.9090909090909091\n"
     ]
    }
   ],
   "source": [
    "# Prediction\n",
    "y_pred = model.predict(sets['X_test'])  # Predict\n",
    "y_pred = np.around(y_pred)              # From [0,1] floats to 0 or 1\n",
    "y_pred = y_pred.flatten()               # Transform into a list of predictions\n",
    "\n",
    "acc = accuracy_score(y_pred, sets['y_test'])\n",
    "f1 = acc = f1_score(y_pred, sets['y_test'])\n",
    "\n",
    "print(f'Accuracy : {acc} - F1 score : {f1}')"
   ]
  }
 ],
 "metadata": {
  "accelerator": "GPU",
  "colab": {
   "authorship_tag": "ABX9TyMDpYSLaVkKiKPvy/Hi5ZrU",
   "collapsed_sections": [
    "CKDCymVPVKIK",
    "DxaB0EZOuLas",
    "-SuD_rn5oivl",
    "DWF6LYZhuUKm"
   ],
   "provenance": []
  },
  "gpuClass": "premium",
  "kernelspec": {
   "display_name": "Python 3 (ipykernel)",
   "language": "python",
   "name": "python3"
  },
  "language_info": {
   "codemirror_mode": {
    "name": "ipython",
    "version": 3
   },
   "file_extension": ".py",
   "mimetype": "text/x-python",
   "name": "python",
   "nbconvert_exporter": "python",
   "pygments_lexer": "ipython3",
   "version": "3.8.13"
  }
 },
 "nbformat": 4,
 "nbformat_minor": 1
}
